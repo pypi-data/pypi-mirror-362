{
 "cells": [
  {
   "cell_type": "code",
   "execution_count": null,
   "id": "0",
   "metadata": {},
   "outputs": [],
   "source": [
    "from labda_parsers import Axivity\n",
    "from labda_accelerometers import Metrics, AutoCalibrate, WearDetection\n",
    "import pandas as pd\n",
    "\n",
    "path = '../data/axivity.cwa'\n",
    "# path = '../temp/10108652.cwa'\n",
    "\n",
    "df = Axivity(timezone='Europe/Copenhagen').from_file(path)\n",
    "df = AutoCalibrate().calibrate(df)\n",
    "df.to_parquet('../temp/10108652.parquet')\n",
    "# df.loc[df.index[500] : df.index[500000], ['acc_x', 'acc_y', 'acc_z']] = 0\n",
    "# df.loc[df.index[700000] : df.index[1000000], ['acc_x', 'acc_y', 'acc_z']] = 0"
   ]
  },
  {
   "cell_type": "code",
   "execution_count": null,
   "id": "01bd1edf",
   "metadata": {},
   "outputs": [],
   "source": [
    "df"
   ]
  },
  {
   "cell_type": "code",
   "execution_count": null,
   "id": "1",
   "metadata": {},
   "outputs": [],
   "source": [
    "from labda_accelerometers import AutoCalibrate\n",
    "\n",
    "df = pd.read_parquet('../temp/10108652.parquet')\n",
    "\n",
    "epoch = 1\n",
    "\n",
    "acc_wear = WearDetection(epoch=epoch).from_acceleration(df)\n",
    "metrics = Metrics(epoch=epoch)\n",
    "enmo = metrics.enmo(df)\n",
    "counts = metrics.counts(df)\n",
    "\n",
    "out = pd.concat([acc_wear, enmo, counts], axis=1)"
   ]
  },
  {
   "cell_type": "code",
   "execution_count": null,
   "id": "2",
   "metadata": {},
   "outputs": [],
   "source": [
    "print(out)"
   ]
  }
 ],
 "metadata": {
  "kernelspec": {
   "display_name": "labda-accel",
   "language": "python",
   "name": "python3"
  },
  "language_info": {
   "codemirror_mode": {
    "name": "ipython",
    "version": 3
   },
   "file_extension": ".py",
   "mimetype": "text/x-python",
   "name": "python",
   "nbconvert_exporter": "python",
   "pygments_lexer": "ipython3",
   "version": "3.11.11"
  }
 },
 "nbformat": 4,
 "nbformat_minor": 5
}
