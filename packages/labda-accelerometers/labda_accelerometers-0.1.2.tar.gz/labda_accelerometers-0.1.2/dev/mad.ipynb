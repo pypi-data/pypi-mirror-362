{
 "cells": [
  {
   "cell_type": "code",
   "execution_count": 2,
   "id": "fa080222",
   "metadata": {},
   "outputs": [],
   "source": [
    "import pandas as pd\n",
    "\n",
    "df = pd.read_parquet('../temp/10108652_raw.parquet')"
   ]
  },
  {
   "cell_type": "code",
   "execution_count": 8,
   "id": "b1110ed2",
   "metadata": {},
   "outputs": [
    {
     "data": {
      "text/plain": [
       "2021-09-09 00:00:07+02:00    0.041794\n",
       "2021-09-09 00:00:08+02:00    0.044307\n",
       "2021-09-09 00:00:09+02:00    0.034059\n",
       "2021-09-09 00:00:10+02:00    0.041680\n",
       "2021-09-09 00:00:11+02:00    0.060404\n",
       "                               ...   \n",
       "2021-09-22 18:37:24+02:00    0.000340\n",
       "2021-09-22 18:37:25+02:00    0.000362\n",
       "2021-09-22 18:37:26+02:00    0.000340\n",
       "2021-09-22 18:37:27+02:00    0.000521\n",
       "2021-09-22 18:37:28+02:00    0.000416\n",
       "Freq: s, Name: mad, Length: 1190242, dtype: float64"
      ]
     },
     "execution_count": 8,
     "metadata": {},
     "output_type": "execute_result"
    }
   ],
   "source": [
    "from skdh.activity import metric_mad\n",
    "from labda_accelerometers.utils import get_sampling_frequency\n",
    "import numpy as np\n",
    "\n",
    "required_cols = ['acc_x', 'acc_y', 'acc_z']\n",
    "sf = int(np.floor(get_sampling_frequency(df, samples=100_000)))\n",
    "accel = df[required_cols].values\n",
    "time = df.index  # Keep the original time index\n",
    "epoch = 1\n",
    "\n",
    "mad = metric_mad(accel, sf * epoch)\n",
    "\n",
    "# Generate time index more efficiently\n",
    "n_epochs = len(mad)\n",
    "epoch_duration = pd.Timedelta(seconds=epoch)\n",
    "\n",
    "# Create index starting from first timestamp, with proper epoch alignment\n",
    "start_time = time[0].floor(epoch_duration)\n",
    "time = pd.date_range(start=start_time, periods=n_epochs, freq=epoch_duration)\n",
    "\n",
    "mad_skdh = pd.Series(mad, index=time, name='mad')\n",
    "mad_skdh"
   ]
  },
  {
   "cell_type": "code",
   "execution_count": null,
   "id": "a2aafa74",
   "metadata": {},
   "outputs": [],
   "source": [
    "from labda_accelerometers import Metrics\n",
    "\n",
    "mad = Metrics(epoch=1).mad(df)\n",
    "mad"
   ]
  }
 ],
 "metadata": {
  "kernelspec": {
   "display_name": "labda-accel",
   "language": "python",
   "name": "python3"
  },
  "language_info": {
   "codemirror_mode": {
    "name": "ipython",
    "version": 3
   },
   "file_extension": ".py",
   "mimetype": "text/x-python",
   "name": "python",
   "nbconvert_exporter": "python",
   "pygments_lexer": "ipython3",
   "version": "3.11.11"
  }
 },
 "nbformat": 4,
 "nbformat_minor": 5
}
