{
 "cells": [
  {
   "cell_type": "code",
   "execution_count": null,
   "id": "2ada71e3",
   "metadata": {},
   "outputs": [],
   "source": [
    "from labda_parsers import Axivity\n",
    "from labda_accelerometers import Metrics, AutoCalibrate, WearDetection\n",
    "import pandas as pd\n",
    "from pathlib import Path\n",
    "from zoneinfo import ZoneInfo\n",
    "\n",
    "files = list(Path('../temp').glob('*.cwa'))\n",
    "\n",
    "file = files[0]\n",
    "df = Axivity(timezone=ZoneInfo('Europe/Copenhagen')).from_file(file)\n",
    "df.to_parquet(file.with_name(file.stem + '_raw.parquet'))\n",
    "\n",
    "df = AutoCalibrate().calibrate(df)\n",
    "\n",
    "epoch = 1\n",
    "metrics = Metrics(epoch=epoch)\n",
    "\n",
    "acc_wear = WearDetection(epoch=epoch).from_acceleration(df)\n",
    "# enmo = metrics.enmo(df)\n",
    "mad = metrics.mad(df)\n",
    "\n",
    "df = pd.concat([acc_wear, mad], axis=1)\n",
    "df.to_parquet(file.with_name(file.stem + '_metrics.parquet'))"
   ]
  },
  {
   "cell_type": "code",
   "execution_count": 2,
   "id": "fa080222",
   "metadata": {},
   "outputs": [
    {
     "data": {
      "text/plain": [
       "datetime\n",
       "2021-09-09 00:00:00+02:00   0 days 00:00:00\n",
       "2021-09-10 00:00:00+02:00   0 days 00:00:00\n",
       "2021-09-11 00:00:00+02:00   0 days 12:04:19\n",
       "2021-09-12 00:00:00+02:00   1 days 00:00:00\n",
       "2021-09-13 00:00:00+02:00   1 days 00:00:00\n",
       "2021-09-14 00:00:00+02:00   1 days 00:00:00\n",
       "2021-09-15 00:00:00+02:00   1 days 00:00:00\n",
       "2021-09-16 00:00:00+02:00   1 days 00:00:00\n",
       "2021-09-17 00:00:00+02:00   1 days 00:00:00\n",
       "2021-09-18 00:00:00+02:00   0 days 19:10:20\n",
       "2021-09-19 00:00:00+02:00   0 days 00:00:00\n",
       "2021-09-20 00:00:00+02:00   0 days 00:00:00\n",
       "2021-09-21 00:00:00+02:00   0 days 00:00:00\n",
       "2021-09-22 00:00:00+02:00   0 days 03:42:45\n",
       "Freq: D, Name: wear, dtype: timedelta64[ns]"
      ]
     },
     "execution_count": 2,
     "metadata": {},
     "output_type": "execute_result"
    }
   ],
   "source": [
    "import pandas as pd\n",
    "from labda_accelerometers.utils import get_sampling_frequency\n",
    "from labda_accelerometers import WearDetection\n",
    "\n",
    "df = pd.read_parquet('../temp/10108652_metrics.parquet')\n",
    "epoch = int(get_sampling_frequency(df))\n",
    "\n",
    "wear_times = WearDetection(epoch=1).days(df['wear'])\n",
    "wear_times"
   ]
  },
  {
   "cell_type": "code",
   "execution_count": 3,
   "id": "dcd0541a",
   "metadata": {},
   "outputs": [
    {
     "data": {
      "text/plain": [
       "(1186966, 2)"
      ]
     },
     "execution_count": 3,
     "metadata": {},
     "output_type": "execute_result"
    }
   ],
   "source": [
    "df.shape"
   ]
  }
 ],
 "metadata": {
  "kernelspec": {
   "display_name": "labda-accel",
   "language": "python",
   "name": "python3"
  },
  "language_info": {
   "codemirror_mode": {
    "name": "ipython",
    "version": 3
   },
   "file_extension": ".py",
   "mimetype": "text/x-python",
   "name": "python",
   "nbconvert_exporter": "python",
   "pygments_lexer": "ipython3",
   "version": "3.11.11"
  }
 },
 "nbformat": 4,
 "nbformat_minor": 5
}
