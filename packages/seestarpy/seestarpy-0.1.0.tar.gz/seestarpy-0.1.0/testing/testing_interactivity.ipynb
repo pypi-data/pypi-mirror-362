{
 "cells": [
  {
   "cell_type": "code",
   "id": "initial_id",
   "metadata": {
    "collapsed": true,
    "ExecuteTime": {
     "end_time": "2025-07-12T21:19:08.408698Z",
     "start_time": "2025-07-12T21:19:08.371924Z"
    }
   },
   "source": [
    "from time import sleep\n",
    "from seestarpy import raw_commands as raw\n",
    "from seestarpy import connection as conn\n",
    "from seestarpy import event_watcher as ew\n",
    "\n",
    "conn.VERBOSE = True\n",
    "conn.DEFAULT_IP = \"192.168.1.243\""
   ],
   "outputs": [
    {
     "ename": "ModuleNotFoundError",
     "evalue": "No module named 'seestarpy'",
     "output_type": "error",
     "traceback": [
      "\u001B[1;31m---------------------------------------------------------------------------\u001B[0m",
      "\u001B[1;31mModuleNotFoundError\u001B[0m                       Traceback (most recent call last)",
      "Cell \u001B[1;32mIn[6], line 2\u001B[0m\n\u001B[0;32m      1\u001B[0m \u001B[38;5;28;01mfrom\u001B[39;00m \u001B[38;5;21;01mtime\u001B[39;00m \u001B[38;5;28;01mimport\u001B[39;00m sleep\n\u001B[1;32m----> 2\u001B[0m \u001B[38;5;28;01mfrom\u001B[39;00m \u001B[38;5;21;01mseestarpy\u001B[39;00m \u001B[38;5;28;01mimport\u001B[39;00m raw_commands \u001B[38;5;28;01mas\u001B[39;00m raw\n\u001B[0;32m      3\u001B[0m \u001B[38;5;28;01mfrom\u001B[39;00m \u001B[38;5;21;01mseestarpy\u001B[39;00m \u001B[38;5;28;01mimport\u001B[39;00m connection \u001B[38;5;28;01mas\u001B[39;00m conn\n\u001B[0;32m      4\u001B[0m \u001B[38;5;28;01mfrom\u001B[39;00m \u001B[38;5;21;01mseestarpy\u001B[39;00m \u001B[38;5;28;01mimport\u001B[39;00m event_watcher \u001B[38;5;28;01mas\u001B[39;00m ew\n",
      "\u001B[1;31mModuleNotFoundError\u001B[0m: No module named 'seestarpy'"
     ]
    }
   ],
   "execution_count": 6
  },
  {
   "metadata": {
    "ExecuteTime": {
     "end_time": "2025-07-12T20:23:54.467902Z",
     "start_time": "2025-07-12T20:23:54.358675Z"
    }
   },
   "cell_type": "code",
   "source": "raw.test_connection()",
   "id": "e460cd1c91cec788",
   "outputs": [
    {
     "data": {
      "text/plain": [
       "{'jsonrpc': '2.0',\n",
       " 'Timestamp': '2819.631492344',\n",
       " 'method': 'test_connection',\n",
       " 'result': 'server connected!',\n",
       " 'code': 0,\n",
       " 'id': 1}"
      ]
     },
     "execution_count": 3,
     "metadata": {},
     "output_type": "execute_result"
    }
   ],
   "execution_count": 3
  },
  {
   "metadata": {
    "ExecuteTime": {
     "end_time": "2025-07-12T20:24:00.715727Z",
     "start_time": "2025-07-12T20:24:00.590803Z"
    }
   },
   "cell_type": "code",
   "source": "raw.get_camera_state()",
   "id": "3c629b6a4331c7a1",
   "outputs": [
    {
     "data": {
      "text/plain": [
       "{'jsonrpc': '2.0',\n",
       " 'Timestamp': '2825.877507668',\n",
       " 'method': 'get_camera_state',\n",
       " 'result': {'state': 'idle',\n",
       "  'name': 'Seestar S50',\n",
       "  'path': 'on-board-Seestar S50'},\n",
       " 'code': 0,\n",
       " 'id': 1}"
      ]
     },
     "execution_count": 4,
     "metadata": {},
     "output_type": "execute_result"
    }
   ],
   "execution_count": 4
  },
  {
   "metadata": {
    "ExecuteTime": {
     "end_time": "2025-07-12T20:07:52.468051Z",
     "start_time": "2025-07-12T20:07:52.408461Z"
    }
   },
   "cell_type": "code",
   "source": "raw.start_create_dark()",
   "id": "1b698b910cd63a7c",
   "outputs": [
    {
     "data": {
      "text/plain": [
       "{'jsonrpc': '2.0',\n",
       " 'Timestamp': '1857.632358565',\n",
       " 'method': 'start_create_dark',\n",
       " 'result': 0,\n",
       " 'code': 0,\n",
       " 'id': 1}"
      ]
     },
     "execution_count": 5,
     "metadata": {},
     "output_type": "execute_result"
    }
   ],
   "execution_count": 5
  },
  {
   "metadata": {
    "ExecuteTime": {
     "end_time": "2025-07-12T20:24:08.809418Z",
     "start_time": "2025-07-12T20:24:08.678077Z"
    }
   },
   "cell_type": "code",
   "source": "raw.iscope_get_app_state()",
   "id": "e898c55f5eaee88a",
   "outputs": [
    {
     "data": {
      "text/plain": [
       "{'jsonrpc': '2.0',\n",
       " 'Timestamp': '2833.969048858',\n",
       " 'method': 'iscope_get_app_state',\n",
       " 'result': {'FocuserMove': {'state': 'complete',\n",
       "   'lapse_ms': 2374,\n",
       "   'position': 1580},\n",
       "  'DarkLibrary': {'state': 'complete', 'lapse_ms': 59267, 'percent': 100.0}},\n",
       " 'code': 0,\n",
       " 'id': 1}"
      ]
     },
     "execution_count": 5,
     "metadata": {},
     "output_type": "execute_result"
    }
   ],
   "execution_count": 5
  },
  {
   "metadata": {
    "ExecuteTime": {
     "end_time": "2025-07-11T21:09:35.702523Z",
     "start_time": "2025-07-11T21:09:35.633675Z"
    }
   },
   "cell_type": "code",
   "source": "raw.iscope_stop_view()",
   "id": "f5d4d6c3c9cc9552",
   "outputs": [
    {
     "data": {
      "text/plain": [
       "{'jsonrpc': '2.0',\n",
       " 'Timestamp': '10276.201165386',\n",
       " 'method': 'iscope_stop_view',\n",
       " 'result': 0,\n",
       " 'code': 0,\n",
       " 'id': 1}"
      ]
     },
     "execution_count": 9,
     "metadata": {},
     "output_type": "execute_result"
    }
   ],
   "execution_count": 9
  },
  {
   "metadata": {
    "ExecuteTime": {
     "end_time": "2025-07-12T20:09:51.491682Z",
     "start_time": "2025-07-12T20:09:50.552634Z"
    }
   },
   "cell_type": "code",
   "source": "raw.get_device_state()",
   "id": "6d867b328cb8d9b4",
   "outputs": [
    {
     "data": {
      "text/plain": [
       "{'jsonrpc': '2.0',\n",
       " 'Timestamp': '1975.840021240',\n",
       " 'method': 'get_device_state',\n",
       " 'result': {'device': {'name': 'ASI AIR imager',\n",
       "   'svr_ver_string': '1.0',\n",
       "   'svr_ver_int': 29,\n",
       "   'firmware_ver_int': 2427,\n",
       "   'firmware_ver_string': '4.27',\n",
       "   'is_verified': True,\n",
       "   'sn': 'a3497936',\n",
       "   'cpuId': '5eb799bafdfee08c',\n",
       "   'product_model': 'Seestar S50',\n",
       "   'user_product_model': 'Seestar S50',\n",
       "   'focal_len': 250.0,\n",
       "   'fnumber': 5.0},\n",
       "  'setting': {'temp_unit': 'C',\n",
       "   'beep_volume': 'close',\n",
       "   'lang': 'en',\n",
       "   'center_xy': [540, 960],\n",
       "   'stack_lenhance': False,\n",
       "   'heater_enable': False,\n",
       "   'expt_heater_enable': False,\n",
       "   'focal_pos': 1580,\n",
       "   'factory_focal_pos': 1580,\n",
       "   'exp_ms': {'stack_l': 10000, 'continuous': 500},\n",
       "   'auto_power_off': True,\n",
       "   'stack_dither': {'pix': 50, 'interval': 5, 'enable': True},\n",
       "   'auto_3ppa_calib': True,\n",
       "   'auto_af': False,\n",
       "   'frame_calib': True,\n",
       "   'calib_location': 2,\n",
       "   'wide_cam': False,\n",
       "   'stack_after_goto': True,\n",
       "   'guest_mode': False,\n",
       "   'user_stack_sim': False,\n",
       "   'mosaic': {'scale': 1.0,\n",
       "    'angle': 0.0,\n",
       "    'estimated_hours': 0.258333,\n",
       "    'star_map_angle': 361.0,\n",
       "    'star_map_ratio': 1.0},\n",
       "   'stack': {'dbe': True, 'star_correction': True, 'cont_capt': False},\n",
       "   'ae_bri_percent': 50.0,\n",
       "   'manual_exp': False,\n",
       "   'isp_exp_ms': -999000.0,\n",
       "   'isp_gain': -9990.0,\n",
       "   'isp_range_gain': [0, 400],\n",
       "   'isp_range_exp_us': [30, 1000000],\n",
       "   'isp_range_exp_us_scenery': [30, 1000000]},\n",
       "  'location_lon_lat': [14.7908, 47.9539],\n",
       "  'camera': {'chip_size': [1080, 1920],\n",
       "   'pixel_size_um': 2.9,\n",
       "   'debayer_pattern': 'GR',\n",
       "   'hpc_num': 2890},\n",
       "  'focuser': {'state': 'idle', 'max_step': 2600, 'step': 1605},\n",
       "  'ap': {'ssid': 'S50_a3497936', 'passwd': '12345678', 'is_5g': True},\n",
       "  'station': {'server': True,\n",
       "   'freq': 5240,\n",
       "   'ip': '192.168.1.243',\n",
       "   'ssid': 'FTTH_CV2535',\n",
       "   'gateway': '192.168.1.1',\n",
       "   'netmask': '255.255.255.0',\n",
       "   'sig_lev': -48,\n",
       "   'key_mgmt': 'WPA2-PSK'},\n",
       "  'storage': {'is_typec_connected': False,\n",
       "   'connected_storage': ['emmc'],\n",
       "   'storage_volume': [{'name': 'emmc',\n",
       "     'state': 'mounted',\n",
       "     'total_mb': 51854,\n",
       "     'totalMB': 51854,\n",
       "     'free_mb': 36549,\n",
       "     'freeMB': 36549,\n",
       "     'disk_mb': 59699,\n",
       "     'diskSizeMB': 59699,\n",
       "     'used_percent': 38}],\n",
       "   'cur_storage': 'emmc'},\n",
       "  'balance_sensor': {'code': 0,\n",
       "   'data': {'x': -0.003556, 'y': 0.004311, 'z': 1.00203, 'angle': 0.319594}},\n",
       "  'compass_sensor': {'code': 0,\n",
       "   'data': {'x': 96.450005,\n",
       "    'y': -3.6,\n",
       "    'z': -13.950001,\n",
       "    'direction': 253.403259,\n",
       "    'cali': 0}},\n",
       "  'mount': {'move_type': 'none',\n",
       "   'close': False,\n",
       "   'tracking': False,\n",
       "   'equ_mode': True},\n",
       "  'pi_status': {'is_overtemp': False,\n",
       "   'temp': 50.900002,\n",
       "   'charger_status': 'Discharging',\n",
       "   'battery_capacity': 93,\n",
       "   'charge_online': False,\n",
       "   'is_typec_connected': False,\n",
       "   'battery_overtemp': False,\n",
       "   'battery_temp': 26,\n",
       "   'battery_temp_type': 'normal'}},\n",
       " 'code': 0,\n",
       " 'id': 1}"
      ]
     },
     "execution_count": 8,
     "metadata": {},
     "output_type": "execute_result"
    }
   ],
   "execution_count": 8
  },
  {
   "metadata": {
    "ExecuteTime": {
     "end_time": "2025-07-12T20:10:23.213343Z",
     "start_time": "2025-07-12T20:10:22.901420Z"
    }
   },
   "cell_type": "code",
   "source": "raw.scope_get_horiz_coord()",
   "id": "8b60dc9aa8964c29",
   "outputs": [
    {
     "data": {
      "text/plain": [
       "{'jsonrpc': '2.0',\n",
       " 'Timestamp': '2008.205182710',\n",
       " 'method': 'scope_get_horiz_coord',\n",
       " 'result': [3.179444, 87.128333],\n",
       " 'code': 0,\n",
       " 'id': 1}"
      ]
     },
     "execution_count": 11,
     "metadata": {},
     "output_type": "execute_result"
    }
   ],
   "execution_count": 11
  },
  {
   "metadata": {
    "ExecuteTime": {
     "end_time": "2025-07-12T20:10:18.185291Z",
     "start_time": "2025-07-12T20:10:18.014391Z"
    }
   },
   "cell_type": "code",
   "source": "raw.scope_move_to_horizon()",
   "id": "eeff08f8378e75c7",
   "outputs": [
    {
     "data": {
      "text/plain": [
       "{'jsonrpc': '2.0',\n",
       " 'Timestamp': '2003.285567576',\n",
       " 'method': 'scope_move_to_horizon',\n",
       " 'result': 0,\n",
       " 'code': 0,\n",
       " 'id': 1}"
      ]
     },
     "execution_count": 10,
     "metadata": {},
     "output_type": "execute_result"
    }
   ],
   "execution_count": 10
  },
  {
   "metadata": {
    "ExecuteTime": {
     "end_time": "2025-07-12T20:12:19.062087Z",
     "start_time": "2025-07-12T20:12:18.784590Z"
    }
   },
   "cell_type": "code",
   "source": "raw.scope_speed_move(180, 1500, 10)",
   "id": "7f1bb5177ca743d4",
   "outputs": [
    {
     "data": {
      "text/plain": [
       "{'jsonrpc': '2.0',\n",
       " 'Timestamp': '2124.222447884',\n",
       " 'method': 'scope_speed_move',\n",
       " 'result': 0,\n",
       " 'code': 0,\n",
       " 'id': 1}"
      ]
     },
     "execution_count": 14,
     "metadata": {},
     "output_type": "execute_result"
    }
   ],
   "execution_count": 14
  },
  {
   "metadata": {
    "ExecuteTime": {
     "end_time": "2025-07-11T21:08:56.137028Z",
     "start_time": "2025-07-11T21:08:55.861035Z"
    }
   },
   "cell_type": "code",
   "source": "raw.scope_park(True)",
   "id": "f088e7629f610843",
   "outputs": [
    {
     "data": {
      "text/plain": [
       "{'jsonrpc': '2.0',\n",
       " 'Timestamp': '10236.488130891',\n",
       " 'method': 'scope_park',\n",
       " 'result': 0,\n",
       " 'code': 0,\n",
       " 'id': 1}"
      ]
     },
     "execution_count": 6,
     "metadata": {},
     "output_type": "execute_result"
    }
   ],
   "execution_count": 6
  },
  {
   "metadata": {
    "ExecuteTime": {
     "end_time": "2025-07-11T20:45:39.064461Z",
     "start_time": "2025-07-11T20:45:38.786215Z"
    }
   },
   "cell_type": "code",
   "source": "raw.scope_move_to_horizon()",
   "id": "2bd7c6aa77988b0e",
   "outputs": [
    {
     "data": {
      "text/plain": [
       "{'jsonrpc': '2.0',\n",
       " 'Timestamp': '8839.411348251',\n",
       " 'method': 'scope_move_to_horizon',\n",
       " 'result': 0,\n",
       " 'code': 0,\n",
       " 'id': 1}"
      ]
     },
     "execution_count": 7,
     "metadata": {},
     "output_type": "execute_result"
    }
   ],
   "execution_count": 7
  },
  {
   "metadata": {
    "ExecuteTime": {
     "end_time": "2025-07-11T20:59:15.005732Z",
     "start_time": "2025-07-11T20:59:14.750678Z"
    }
   },
   "cell_type": "code",
   "source": "raw.scope_get_horiz_coord()",
   "id": "dc5ddc97488b04e1",
   "outputs": [
    {
     "data": {
      "text/plain": [
       "{'jsonrpc': '2.0',\n",
       " 'Timestamp': '9655.349493064',\n",
       " 'method': 'scope_get_horiz_coord',\n",
       " 'result': [4.861667, 0.475278],\n",
       " 'code': 0,\n",
       " 'id': 1}"
      ]
     },
     "execution_count": 23,
     "metadata": {},
     "output_type": "execute_result"
    }
   ],
   "execution_count": 23
  },
  {
   "metadata": {
    "ExecuteTime": {
     "end_time": "2025-07-11T20:49:06.687430Z",
     "start_time": "2025-07-11T20:49:06.530810Z"
    }
   },
   "cell_type": "code",
   "source": "raw.scope_speed_move(90, 1500, 10)",
   "id": "262ebfa686c3e04c",
   "outputs": [
    {
     "data": {
      "text/plain": [
       "{'jsonrpc': '2.0',\n",
       " 'Timestamp': '9047.185484510',\n",
       " 'method': 'scope_speed_move',\n",
       " 'result': 0,\n",
       " 'code': 0,\n",
       " 'id': 1}"
      ]
     },
     "execution_count": 11,
     "metadata": {},
     "output_type": "execute_result"
    }
   ],
   "execution_count": 11
  },
  {
   "metadata": {},
   "cell_type": "code",
   "outputs": [],
   "execution_count": null,
   "source": "",
   "id": "9c42a9a2e972b68c"
  },
  {
   "metadata": {
    "ExecuteTime": {
     "end_time": "2025-07-11T20:08:15.538325Z",
     "start_time": "2025-07-11T20:08:02.702818Z"
    }
   },
   "cell_type": "code",
   "source": [
    "speed = 240\n",
    "angle = 120\n",
    "duration = 10\n",
    "\n",
    "data1 = raw.scope_get_horiz_coord()\n",
    "print(data1[\"result\"])\n",
    "\n",
    "raw.scope_speed_move(speed, angle, duration)\n",
    "sleep(duration + 2)\n",
    "\n",
    "data2 = raw.scope_get_horiz_coord()\n",
    "print(data2[\"result\"])\n",
    "\n",
    "d_alt_angle = data1[\"result\"][0] - data2[\"result\"][0]\n",
    "d_az_angle = data1[\"result\"][1] - data2[\"result\"][1]\n",
    "print(d_alt_angle/duration, \"deg/sec\", d_alt_angle/(duration * speed) * 3600, \"arcsec/step\")\n",
    "print(d_az_angle/duration, \"deg/sec\", d_az_angle/(duration * speed) * 3600, \"arcsec/step\")\n"
   ],
   "id": "a0caffbb5442782",
   "outputs": [
    {
     "name": "stdout",
     "output_type": "stream",
     "text": [
      "[-0.147778, 310.897778]\n",
      "[8.503611, 305.854444]\n",
      "-0.8651389 deg/sec -12.9770835 arcsec/step\n",
      "0.5043334000000016 deg/sec 7.565001000000023 arcsec/step\n"
     ]
    }
   ],
   "execution_count": 168
  },
  {
   "metadata": {
    "ExecuteTime": {
     "end_time": "2025-07-11T20:49:44.625657Z",
     "start_time": "2025-07-11T20:49:44.231039Z"
    }
   },
   "cell_type": "code",
   "source": "raw.scope_get_equ_coord()",
   "id": "fa3b8ea331baadcf",
   "outputs": [
    {
     "data": {
      "text/plain": [
       "{'jsonrpc': '2.0',\n",
       " 'Timestamp': '9084.871530966',\n",
       " 'method': 'scope_get_equ_coord',\n",
       " 'result': {'ra': 23.104167, 'dec': 89.0},\n",
       " 'code': 0,\n",
       " 'id': 1}"
      ]
     },
     "execution_count": 13,
     "metadata": {},
     "output_type": "execute_result"
    }
   ],
   "execution_count": 13
  },
  {
   "metadata": {
    "ExecuteTime": {
     "end_time": "2025-07-11T20:49:53.330913Z",
     "start_time": "2025-07-11T20:49:52.752138Z"
    }
   },
   "cell_type": "code",
   "source": "raw.scope_goto(23.1, 89)",
   "id": "da252136113a7aa2",
   "outputs": [
    {
     "data": {
      "text/plain": [
       "{'Event': 'ScopeGoto',\n",
       " 'Timestamp': '9093.714322578',\n",
       " 'state': 'working',\n",
       " 'lapse_ms': 0}"
      ]
     },
     "execution_count": 14,
     "metadata": {},
     "output_type": "execute_result"
    }
   ],
   "execution_count": 14
  },
  {
   "metadata": {
    "ExecuteTime": {
     "end_time": "2025-07-11T20:50:18.623568Z",
     "start_time": "2025-07-11T20:50:18.194787Z"
    }
   },
   "cell_type": "code",
   "source": "raw.scope_park()",
   "id": "54931737815b98b6",
   "outputs": [
    {
     "data": {
      "text/plain": [
       "{'jsonrpc': '2.0',\n",
       " 'Timestamp': '9118.967989002',\n",
       " 'method': 'scope_park',\n",
       " 'result': 0,\n",
       " 'code': 0,\n",
       " 'id': 1}"
      ]
     },
     "execution_count": 16,
     "metadata": {},
     "output_type": "execute_result"
    }
   ],
   "execution_count": 16
  },
  {
   "metadata": {
    "ExecuteTime": {
     "end_time": "2025-07-11T20:53:54.430442Z",
     "start_time": "2025-07-11T20:53:54.133605Z"
    }
   },
   "cell_type": "code",
   "source": "raw.iscope_get_app_state()",
   "id": "86179d48e2e2cdc",
   "outputs": [
    {
     "data": {
      "text/plain": [
       "{'jsonrpc': '2.0',\n",
       " 'Timestamp': '9334.930150242',\n",
       " 'method': 'iscope_get_app_state',\n",
       " 'result': {'FocuserMove': {'state': 'complete',\n",
       "   'lapse_ms': 2376,\n",
       "   'position': 1580},\n",
       "  'DarkLibrary': {'state': 'complete', 'lapse_ms': 59298, 'percent': 100.0}},\n",
       " 'code': 0,\n",
       " 'id': 1}"
      ]
     },
     "execution_count": 23,
     "metadata": {},
     "output_type": "execute_result"
    }
   ],
   "execution_count": 23
  },
  {
   "metadata": {
    "ExecuteTime": {
     "end_time": "2025-07-12T20:07:01.963741900Z",
     "start_time": "2025-07-12T19:42:59.201671Z"
    }
   },
   "cell_type": "code",
   "source": "raw.move_focuser(2100)",
   "id": "ba76ae23f1c5fa2f",
   "outputs": [
    {
     "data": {
      "text/plain": [
       "{'jsonrpc': '2.0',\n",
       " 'Timestamp': '364.647082756',\n",
       " 'method': 'move_focuser',\n",
       " 'result': {'step': 1605},\n",
       " 'code': 0,\n",
       " 'id': 1}"
      ]
     },
     "execution_count": 23,
     "metadata": {},
     "output_type": "execute_result"
    }
   ],
   "execution_count": 23
  },
  {
   "metadata": {
    "ExecuteTime": {
     "end_time": "2025-07-12T19:43:09.826316Z",
     "start_time": "2025-07-12T19:43:09.692714Z"
    }
   },
   "cell_type": "code",
   "source": "raw.iscope_get_app_state()",
   "id": "d6a44eb545a0954c",
   "outputs": [
    {
     "data": {
      "text/plain": [
       "{'jsonrpc': '2.0',\n",
       " 'Timestamp': '374.991171720',\n",
       " 'method': 'iscope_get_app_state',\n",
       " 'result': {'FocuserMove': {'state': 'complete',\n",
       "   'lapse_ms': 2374,\n",
       "   'position': 1580}},\n",
       " 'code': 0,\n",
       " 'id': 1}"
      ]
     },
     "execution_count": 24,
     "metadata": {},
     "output_type": "execute_result"
    }
   ],
   "execution_count": 24
  },
  {
   "metadata": {},
   "cell_type": "code",
   "outputs": [],
   "execution_count": null,
   "source": "",
   "id": "2850e276e07cb010"
  }
 ],
 "metadata": {
  "kernelspec": {
   "display_name": "Python 3",
   "language": "python",
   "name": "python3"
  },
  "language_info": {
   "codemirror_mode": {
    "name": "ipython",
    "version": 2
   },
   "file_extension": ".py",
   "mimetype": "text/x-python",
   "name": "python",
   "nbconvert_exporter": "python",
   "pygments_lexer": "ipython2",
   "version": "2.7.6"
  }
 },
 "nbformat": 4,
 "nbformat_minor": 5
}
