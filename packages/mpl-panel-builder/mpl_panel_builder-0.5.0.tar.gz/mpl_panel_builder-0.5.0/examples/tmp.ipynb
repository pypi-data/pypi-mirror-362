{
 "cells": [
  {
   "cell_type": "code",
   "execution_count": null,
   "metadata": {},
   "outputs": [],
   "source": [
    "import os\n",
    "from pathlib import Path\n",
    "\n",
    "import matplotlib.pyplot as plt\n",
    "import numpy as np\n",
    "\n",
    "from mpl_panel_builder.panel_builder import PanelBuilder\n",
    "\n",
    "# Ensures that the notebook reloads modules automatically before executing code\n",
    "# This is useful for development purposes\n",
    "%load_ext autoreload\n",
    "%autoreload 2"
   ]
  },
  {
   "cell_type": "code",
   "execution_count": null,
   "metadata": {},
   "outputs": [],
   "source": "# 1. Define the configuration\nconfig = {\n    # Required keys:\n    \"panel_dimensions\": {\n        \"width_cm\": 10.0,   # 8 cm wide\n        \"height_cm\": 10.0,  # 6 cm tall\n    },\n    \"panel_margins\": {\n        \"top_cm\": 1.5,\n        \"bottom_cm\": 1.5,\n        \"left_cm\": 1.5,\n        \"right_cm\": 1.5,\n    },\n    \"font_sizes\": {\n        \"axes_pt\": 10,  # font size for axis labels and ticks\n        \"text_pt\": 8,   # font size for other text elements\n    },\n    # Optional keys:\n    \"panel_output\": {\n        \"directory\": Path(os.getcwd()),  # Where to save the panel\n        \"format\": \"png\",                 # Format of the panel\n        \"dpi\": 600,                      # DPI of the panel\n    },\n    \"scalebar_config\": {\n        \"separation_cm\": 0.5,\n        \"offset_cm\": 0.5,\n        \"text_offset_cm\": 0.1,\n    },\n    \"debug_panel\": {\n        \"show\": True,\n        \"grid_resolution_cm\": 0.5,\n    },\n    \"colorbar_config\": {\n        \"width_cm\": 0.5,\n        \"separation_cm\": 0.5,\n    },\n    \"description_config\": {\n        \"margin_cm\": 0.5,\n    }\n}\n\n# 2. Create a panel subclass\nclass MyPanel(PanelBuilder):\n    # Required class attributes\n    _panel_name = \"my_panel\"\n    _n_rows = 1\n    _n_cols = 1\n\n    # Required class method (this is where you define your content)\n    def build_panel(self) -> None:\n        \"\"\"Populate the panel with plot content.\"\"\"\n        # Access the single axis\n        ax = self.axs[0][0]\n\n        # Add your plotting code here\n        x = np.linspace(-2, 2, 101)\n        y = x**2\n        ax.scatter(x, y, 10, y)\n        ax.set(xlim=[-2, 2], ylim=[0, 4])\n        ax.set(xticks=[], yticks=[])\n\n        self.draw_description(ax, 'TEST')"
  },
  {
   "cell_type": "code",
   "execution_count": null,
   "metadata": {},
   "outputs": [],
   "source": [
    "# 3. Create and build the panel\n",
    "panel = MyPanel(config)\n",
    "fig = panel()\n",
    "fig"
   ]
  },
  {
   "cell_type": "code",
   "execution_count": null,
   "metadata": {},
   "outputs": [],
   "source": [
    "plt.close()"
   ]
  }
 ],
 "metadata": {
  "kernelspec": {
   "display_name": "mpl-panel-builder",
   "language": "python",
   "name": "python3"
  },
  "language_info": {
   "codemirror_mode": {
    "name": "ipython",
    "version": 3
   },
   "file_extension": ".py",
   "mimetype": "text/x-python",
   "name": "python",
   "nbconvert_exporter": "python",
   "pygments_lexer": "ipython3",
   "version": "3.12.11"
  }
 },
 "nbformat": 4,
 "nbformat_minor": 2
}