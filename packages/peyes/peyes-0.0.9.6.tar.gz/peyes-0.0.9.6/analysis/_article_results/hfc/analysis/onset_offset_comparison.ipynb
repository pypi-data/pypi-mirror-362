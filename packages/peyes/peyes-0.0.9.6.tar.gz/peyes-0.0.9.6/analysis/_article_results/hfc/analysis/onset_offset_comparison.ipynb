{
 "cells": [
  {
   "metadata": {},
   "cell_type": "markdown",
   "source": [
    "# Fig 6: Onset-Offset Comparisons\n",
    "### Comparing Within-Detector Sensitivity to Onset vs. Offset"
   ],
   "id": "c34fcd2bb2b6504"
  },
  {
   "metadata": {
    "ExecuteTime": {
     "end_time": "2025-07-06T18:06:47.943027Z",
     "start_time": "2025-07-06T18:06:46.543437Z"
    }
   },
   "cell_type": "code",
   "source": [
    "import copy\n",
    "import warnings\n",
    "from typing import Optional\n",
    "\n",
    "import numpy as np\n",
    "import pandas as pd\n",
    "import statsmodels.formula.api as smf\n",
    "import scikit_posthocs as sp\n",
    "import scipy.stats as st\n",
    "import plotly.express as px\n",
    "from plotly.subplots import make_subplots\n",
    "import plotly.io as pio\n",
    "from statsmodels import formula\n",
    "from scipy.stats import wilcoxon, mannwhitneyu\n",
    "\n",
    "import peyes\n",
    "\n",
    "from analysis._article_results.hfc._helpers import *\n",
    "import analysis.statistics.channel_sdt as ch_sdt\n",
    "\n",
    "pio.renderers.default = \"browser\""
   ],
   "id": "34b57105067cef91",
   "outputs": [
    {
     "name": "stderr",
     "output_type": "stream",
     "text": [
      "C:\\Users\\jonathanni\\PycharmProjects\\pEYES\\venv\\Lib\\site-packages\\statsmodels\\tools\\tools.py:6: UserWarning: A NumPy version >=1.23.5 and <2.3.0 is required for this version of SciPy (detected version 2.3.0)\n",
      "  import scipy.linalg\n"
     ]
    }
   ],
   "execution_count": 1
  },
  {
   "metadata": {
    "ExecuteTime": {
     "end_time": "2025-07-06T18:06:48.035862Z",
     "start_time": "2025-07-06T18:06:48.026933Z"
    }
   },
   "cell_type": "code",
   "source": [
    "def extract_subset(metric_df: pd.DataFrame, gt: str, pred: str) -> pd.DataFrame:\n",
    "    \"\"\" Extracts the subset of metrics for the given GT and PRED annotators. \"\"\"\n",
    "    return metric_df.xs(gt, level=u.GT_STR, axis=0, drop_level=True).xs(pred, level=u.PRED_STR, axis=0, drop_level=True)\n",
    "\n",
    "\n",
    "def human_annotators_figure(metric_df: pd.DataFrame, event_name: str) -> go.Figure:\n",
    "    # extract data\n",
    "    plot_data = pd.concat([extract_subset(metric_df, \"RA\", \"MN\"), extract_subset(metric_df, \"MN\", \"RA\")], axis=0, keys=[\"RA\", \"MN\"])\n",
    "    plot_data = plot_data.droplevel(peyes.constants.TRIAL_ID_STR)\n",
    "    plot_data.index.name, plot_data.columns.name = u.GT_STR, None\n",
    "    plot_data = plot_data.groupby(level=u.GT_STR)\n",
    "    plot_data = pd.concat([plot_data.mean().stack().rename(\"mean\"), plot_data.sem().stack().rename(\"sem\")], axis=1)\n",
    "    plot_data = plot_data.reset_index().rename(columns={\"level_1\": \"boundary\"})\n",
    "    plot_data[u.PRED_STR] = plot_data[u.GT_STR].map(lambda val: \"MN\" if val == \"RA\" else \"RA\")\n",
    "\n",
    "    fig = px.bar(\n",
    "        plot_data, x=u.PRED_STR, y=\"mean\", error_y=\"sem\", color=\"boundary\",\n",
    "        category_orders={u.PRED_STR: [\"MN\", \"RA\"], \"boundary\": [ONSET_STR, OFFSET_STR]},\n",
    "        hover_data=[u.GT_STR],\n",
    "        labels={u.PRED_STR: \"Pred. Annotator\", u.GT_STR: \"GT Annotator\", \"boundary\": \"Event Boundary\", \"mean\": r\"d'\", },\n",
    "        barmode='group',\n",
    "    )\n",
    "    fig.update_xaxes(\n",
    "        title=dict(font=AXIS_LABEL_FONT, standoff=AXIS_LABEL_STANDOFF),\n",
    "        showline=False,\n",
    "        showgrid=False, gridcolor=GRID_LINE_COLOR, gridwidth=GRID_LINE_WIDTH,\n",
    "        zeroline=False, zerolinecolor=GRID_LINE_COLOR, zerolinewidth=ZERO_LINE_WIDTH,\n",
    "        tickfont=AXIS_TICK_FONT,\n",
    "    )\n",
    "    fig.update_yaxes(\n",
    "        title=dict(font=AXIS_LABEL_FONT, standoff=AXIS_LABEL_STANDOFF),\n",
    "        showline=False,\n",
    "        showgrid=True, gridcolor=GRID_LINE_COLOR, gridwidth=GRID_LINE_WIDTH,\n",
    "        zeroline=True, zerolinecolor=GRID_LINE_COLOR, zerolinewidth=ZERO_LINE_WIDTH,\n",
    "        tickfont=AXIS_TICK_FONT,\n",
    "    )\n",
    "    fig.update_layout(\n",
    "        title=dict(text=f\"{event_name.capitalize()} Boundary Sensitivity Comparison (Human Annotators)\", font=TITLE_FONT),\n",
    "        width=800, height=450,\n",
    "        # paper_bgcolor='rgba(0, 0, 0, 0)',\n",
    "        plot_bgcolor='rgba(0, 0, 0, 0)',\n",
    "        legend=dict(\n",
    "            orientation=\"h\", yanchor=\"top\", xanchor=\"left\", xref='paper', yref='paper', x=-0.05, y=1.04, itemwidth=30,\n",
    "        ),\n",
    "        margin=dict(l=0, r=0, t=50, b=0, pad=0),\n",
    "    )\n",
    "    return fig\n",
    "\n",
    "\n",
    "def multi_detector_figure(metric_df: pd.DataFrame, event_name: str) -> go.Figure:\n",
    "\n",
    "    def _rename_detector(det: str) -> str:\n",
    "        if det in [GT1, GT2]:\n",
    "            return f\"2<sup>nd</sup> Ann.\"\n",
    "        if det.lower() == \"remodnav\":\n",
    "            return \"REMoDNaV\"\n",
    "        if det.lower().startswith(\"i\"):\n",
    "            return det.replace(\"i\", \"i-\").upper()\n",
    "        if det.lower() == \"all detectors\":\n",
    "            return \"all detectors\".title()\n",
    "        return det.upper()\n",
    "\n",
    "    fig = make_subplots(\n",
    "        rows=len([GT1, GT2]), cols=1, shared_xaxes=True, shared_yaxes=False,\n",
    "        subplot_titles=[f\"GT: <i>{gt}</i>\" for gt in [GT1, GT2]],\n",
    "        # x_title=\"Detector\",\n",
    "        vertical_spacing=0.005\n",
    "    )\n",
    "    detectors = [pred for pred in metric_df.index.get_level_values(u.PRED_STR).unique() if pred in LABELER_PLOTTING_CONFIG.keys()]\n",
    "    ordered_detectors = sorted(detectors, key=lambda dett: LABELER_PLOTTING_CONFIG[dett][0])\n",
    "    ordered_detectors.append(\"all detectors\")\n",
    "    for r, gt in enumerate([GT1, GT2]):\n",
    "        for pred in ordered_detectors:\n",
    "            if pred.startswith(\"all\"):\n",
    "                subset = metric_df.xs(gt, level=u.GT_STR, axis=0, drop_level=True)\n",
    "                subset = subset.drop([\"RA\", \"MN\"], level=u.PRED_STR, axis=0, errors=\"ignore\")    # all detectors, exclude 2nd annotator\n",
    "                pred_color = u.DEFAULT_DISCRETE_COLORMAP[10]\n",
    "            else:\n",
    "                subset = metric_df.xs((gt, pred), level=[u.GT_STR, u.PRED_STR], axis=0, drop_level=True)    # only specific detector\n",
    "                pred_color = \"#bab0ac\" if pred in [GT1, GT2] else LABELER_PLOTTING_CONFIG[pred][1]\n",
    "            if subset.empty:\n",
    "                continue\n",
    "            pred_name = _rename_detector(pred)\n",
    "            xs = [[pred_name, pred_name], [ONSET_STR, OFFSET_STR]]\n",
    "            for _j, row in subset.iterrows():\n",
    "                onset, offset = row[ONSET_STR], row[OFFSET_STR]\n",
    "                fig.add_trace(\n",
    "                    row=r+1, col=1,\n",
    "                    trace=go.Scatter(\n",
    "                        x=xs, y=[onset, offset], mode='markers+lines',\n",
    "                        name=pred_name, legendgroup=pred_name, showlegend=False,\n",
    "                        marker={**SINGLE_MEASURE_MARKER, **{\"color\": pred_color}},\n",
    "                        line={**SINGLE_MEASURE_LINE, **{\"color\": pred_color}},\n",
    "                        opacity=SINGLE_MEASURE_OPACITY,\n",
    "                    )\n",
    "                )\n",
    "            fig.add_trace(\n",
    "                row=r+1, col=1,\n",
    "                trace=go.Scatter(\n",
    "                    x=xs, y=subset.median().values, mode='markers+lines',\n",
    "                    name=pred_name, legendgroup=pred_name, showlegend=r==0,\n",
    "                    marker={**MEADIAN_MARKER, **{\"color\": pred_color}},\n",
    "                    line={**MEADIAN_LINE, **{\"color\": pred_color}},\n",
    "                    opacity=MEDIAN_OPACITY,\n",
    "                )\n",
    "            )\n",
    "\n",
    "    # update layout\n",
    "    fig.for_each_annotation(lambda ann: ann.update(\n",
    "        font=SUBTITLE_FONT, textangle=0, xref='paper', xanchor=\"left\", x=0.01 if ann.text.startswith(\"GT:\") else 0.5,\n",
    "    ))\n",
    "    fig.update_xaxes(\n",
    "        title=dict(font=AXIS_LABEL_FONT),\n",
    "        showline=False,\n",
    "        showgrid=False, gridcolor=GRID_LINE_COLOR, gridwidth=GRID_LINE_WIDTH,\n",
    "        zeroline=False, zerolinecolor=GRID_LINE_COLOR, zerolinewidth=ZERO_LINE_WIDTH,\n",
    "        tickfont=AXIS_TICK_FONT, ticks=None, dividercolor=\"rgba(0, 0, 0, 0)\",\n",
    "    )\n",
    "    fig.update_yaxes(\n",
    "        title=dict(text=r\"$d'$\", font=AXIS_LABEL_FONT, standoff=10),\n",
    "        showline=False,\n",
    "        showgrid=True, gridcolor=GRID_LINE_COLOR, gridwidth=GRID_LINE_WIDTH,\n",
    "        zeroline=True, zerolinecolor=GRID_LINE_COLOR, zerolinewidth=ZERO_LINE_WIDTH,\n",
    "        tickfont=AXIS_TICK_FONT,\n",
    "    )\n",
    "    fig.update_layout(\n",
    "        title=dict(\n",
    "            text=f\"{event_name.capitalize()} Boundary Sensitivity\", font=TITLE_FONT,\n",
    "            xanchor=\"center\", xref='paper', x=0.5,\n",
    "        ),\n",
    "        width=1200, height=500,\n",
    "        # paper_bgcolor='rgba(0, 0, 0, 0)',\n",
    "        plot_bgcolor='rgba(0, 0, 0, 0)',\n",
    "        margin=dict(l=0, r=0, t=40, b=20, pad=0),\n",
    "        legend=dict(\n",
    "            font=AXIS_TICK_FONT,\n",
    "            orientation=\"h\", yanchor=\"top\", xanchor=\"center\", xref='paper', yref='paper', x=0.5, y=-0.125,\n",
    "            visible=False,\n",
    "        ),\n",
    "    )\n",
    "    return fig"
   ],
   "id": "9747b1a2412ba8d3",
   "outputs": [],
   "execution_count": 2
  },
  {
   "metadata": {},
   "cell_type": "markdown",
   "source": "### Set Constants",
   "id": "559cd128c8418ade"
  },
  {
   "metadata": {
    "ExecuteTime": {
     "end_time": "2025-07-06T18:06:48.055345Z",
     "start_time": "2025-07-06T18:06:48.045184Z"
    }
   },
   "cell_type": "code",
   "source": [
    "THRESHOLD = 5       # temporal threshold for analyzing d'\n",
    "METRIC = peyes.constants.D_PRIME_STR\n",
    "ONSET_STR, OFFSET_STR = peyes.constants.ONSET_STR, peyes.constants.OFFSET_STR\n",
    "\n",
    "# visualization constants\n",
    "GRID_LINE_COLOR, GRID_LINE_WIDTH = \"lightgray\", 1\n",
    "ZERO_LINE_WIDTH = 2 * GRID_LINE_WIDTH\n",
    "\n",
    "SINGLE_MEASURE_OPACITY, MEDIAN_OPACITY = 0.2, 1.0\n",
    "SINGLE_MEASURE_LINE = dict(width=2 * GRID_LINE_WIDTH)\n",
    "SINGLE_MEASURE_MARKER = dict(symbol=\"circle-open\", size=6 * GRID_LINE_WIDTH,)\n",
    "MEADIAN_LINE = dict(width=SINGLE_MEASURE_LINE['width'])\n",
    "MEADIAN_MARKER = dict(symbol=\"circle\", size=2 * SINGLE_MEASURE_MARKER['size'],)\n",
    "\n",
    "FONT_FAMILY, FONT_COLOR = \"Calibri\", \"black\"\n",
    "TITLE_FONT = dict(family=FONT_FAMILY, size=25, color=FONT_COLOR)\n",
    "SUBTITLE_FONT = dict(family=FONT_FAMILY, size=20, color=FONT_COLOR)\n",
    "AXIS_LABEL_FONT = dict(family=FONT_FAMILY, size=20, color=FONT_COLOR)\n",
    "AXIS_TICK_FONT = dict(family=FONT_FAMILY, size=18, color=FONT_COLOR)\n",
    "AXIS_LABEL_STANDOFF = 3"
   ],
   "id": "24c9b073df12c2f7",
   "outputs": [],
   "execution_count": 3
  },
  {
   "metadata": {
    "ExecuteTime": {
     "end_time": "2025-07-06T18:06:48.063897Z",
     "start_time": "2025-07-06T18:06:48.061124Z"
    }
   },
   "cell_type": "code",
   "source": "",
   "id": "8ab924ea7b01f284",
   "outputs": [],
   "execution_count": null
  },
  {
   "metadata": {},
   "cell_type": "markdown",
   "source": [
    "## Fixation Onset vs. Offset\n",
    "We compare the sensitivity ($d'$) to fixation onsets vs. offsets across all trials, using Wilcoxon's Signed-Rank test. We hypothesize that **fixation onset has lower $d'$ than fixation offset**."
   ],
   "id": "27d384fe82850366"
  },
  {
   "metadata": {},
   "cell_type": "markdown",
   "source": "## Load Data",
   "id": "e2fa28265969618a"
  },
  {
   "metadata": {
    "ExecuteTime": {
     "end_time": "2025-07-06T18:06:49.614106Z",
     "start_time": "2025-07-06T18:06:48.076283Z"
    }
   },
   "cell_type": "code",
   "source": [
    "ALTERNATIVE = \"less\"  # alternative hypothesis for the Wilcoxon test\n",
    "EVENT_LABEL = 1     # EventLabelEnum.FIXATION.value\n",
    "metrics = ch_sdt.load(\n",
    "    dataset_name=DATASET_NAME,\n",
    "    output_dir=PROCESSED_DATA_DIR,\n",
    "    label=EVENT_LABEL,\n",
    "    stimulus_type=STIMULUS_TYPE,\n",
    "    threshold=THRESHOLD,\n",
    "    channel_type=None,\n",
    ")\n",
    "\n",
    "# Remove unused columns (metrics) and index levels\n",
    "metrics = metrics.droplevel('threshold')\n",
    "metrics.drop(index=['P', 'PP', 'N', 'TP'], level=peyes.constants.METRIC_STR, inplace=True)\n",
    "metrics.drop(\n",
    "    # remove unused ground truth (GT) annotators\n",
    "    columns=[gt for gt in metrics.columns.get_level_values(\"gt\").unique() if gt not in [GT1, GT2]],\n",
    "    level=u.GT_STR, inplace=True\n",
    ")\n",
    "metrics.drop(\n",
    "    # remove unused predicted (PRED) annotators\n",
    "    columns=[pred for pred in metrics.columns.get_level_values(\"pred\").unique() if not(pred in [GT1, GT2] or pred == pred.lower())],\n",
    "    level=u.PRED_STR, inplace=True\n",
    ")\n",
    "\n",
    "# extract subset of the relevant `METRIC`\n",
    "d_prime = metrics.xs(METRIC, level=peyes.constants.METRIC_STR, axis=0, drop_level=True).T\n",
    "d_prime.columns.name = None\n",
    "d_prime"
   ],
   "id": "39d81e31f622a367",
   "outputs": [
    {
     "data": {
      "text/plain": [
       "                         onset    offset\n",
       "trial_id gt pred                        \n",
       "1        MN remodnav  2.120655  1.821757\n",
       "            idvt      1.078729  1.884058\n",
       "            RA        3.735978  3.735978\n",
       "            engbert   4.241372  3.335540\n",
       "            ivt       0.537847  0.458709\n",
       "...                        ...       ...\n",
       "10       RA ivt       0.124507  0.417682\n",
       "            nh        2.759544  4.898900\n",
       "            idt       0.217448  2.890150\n",
       "            ivvt     -0.213626  0.510226\n",
       "            MN        5.632233  5.632233\n",
       "\n",
       "[160 rows x 2 columns]"
      ],
      "text/html": [
       "<div>\n",
       "<style scoped>\n",
       "    .dataframe tbody tr th:only-of-type {\n",
       "        vertical-align: middle;\n",
       "    }\n",
       "\n",
       "    .dataframe tbody tr th {\n",
       "        vertical-align: top;\n",
       "    }\n",
       "\n",
       "    .dataframe thead th {\n",
       "        text-align: right;\n",
       "    }\n",
       "</style>\n",
       "<table border=\"1\" class=\"dataframe\">\n",
       "  <thead>\n",
       "    <tr style=\"text-align: right;\">\n",
       "      <th></th>\n",
       "      <th></th>\n",
       "      <th></th>\n",
       "      <th>onset</th>\n",
       "      <th>offset</th>\n",
       "    </tr>\n",
       "    <tr>\n",
       "      <th>trial_id</th>\n",
       "      <th>gt</th>\n",
       "      <th>pred</th>\n",
       "      <th></th>\n",
       "      <th></th>\n",
       "    </tr>\n",
       "  </thead>\n",
       "  <tbody>\n",
       "    <tr>\n",
       "      <th rowspan=\"5\" valign=\"top\">1</th>\n",
       "      <th rowspan=\"5\" valign=\"top\">MN</th>\n",
       "      <th>remodnav</th>\n",
       "      <td>2.120655</td>\n",
       "      <td>1.821757</td>\n",
       "    </tr>\n",
       "    <tr>\n",
       "      <th>idvt</th>\n",
       "      <td>1.078729</td>\n",
       "      <td>1.884058</td>\n",
       "    </tr>\n",
       "    <tr>\n",
       "      <th>RA</th>\n",
       "      <td>3.735978</td>\n",
       "      <td>3.735978</td>\n",
       "    </tr>\n",
       "    <tr>\n",
       "      <th>engbert</th>\n",
       "      <td>4.241372</td>\n",
       "      <td>3.335540</td>\n",
       "    </tr>\n",
       "    <tr>\n",
       "      <th>ivt</th>\n",
       "      <td>0.537847</td>\n",
       "      <td>0.458709</td>\n",
       "    </tr>\n",
       "    <tr>\n",
       "      <th>...</th>\n",
       "      <th>...</th>\n",
       "      <th>...</th>\n",
       "      <td>...</td>\n",
       "      <td>...</td>\n",
       "    </tr>\n",
       "    <tr>\n",
       "      <th rowspan=\"5\" valign=\"top\">10</th>\n",
       "      <th rowspan=\"5\" valign=\"top\">RA</th>\n",
       "      <th>ivt</th>\n",
       "      <td>0.124507</td>\n",
       "      <td>0.417682</td>\n",
       "    </tr>\n",
       "    <tr>\n",
       "      <th>nh</th>\n",
       "      <td>2.759544</td>\n",
       "      <td>4.898900</td>\n",
       "    </tr>\n",
       "    <tr>\n",
       "      <th>idt</th>\n",
       "      <td>0.217448</td>\n",
       "      <td>2.890150</td>\n",
       "    </tr>\n",
       "    <tr>\n",
       "      <th>ivvt</th>\n",
       "      <td>-0.213626</td>\n",
       "      <td>0.510226</td>\n",
       "    </tr>\n",
       "    <tr>\n",
       "      <th>MN</th>\n",
       "      <td>5.632233</td>\n",
       "      <td>5.632233</td>\n",
       "    </tr>\n",
       "  </tbody>\n",
       "</table>\n",
       "<p>160 rows × 2 columns</p>\n",
       "</div>"
      ]
     },
     "execution_count": 4,
     "metadata": {},
     "output_type": "execute_result"
    }
   ],
   "execution_count": 4
  },
  {
   "metadata": {},
   "cell_type": "markdown",
   "source": [
    "### Human Annotator Sensitivity Comparison\n",
    "Using each annotator (_RA_, _MN_) as GT and the other one as PRED, we compare PRED's sensitivity to **fixation** onset vs. offset in a within-trial design - using the Wilcoxon Signed-Rank test."
   ],
   "id": "64d753480578f1ce"
  },
  {
   "metadata": {
    "ExecuteTime": {
     "end_time": "2025-07-06T18:06:49.983897Z",
     "start_time": "2025-07-06T18:06:49.643255Z"
    }
   },
   "cell_type": "code",
   "source": [
    "# using RA as GT and MN as PRED\n",
    "gt, pred = \"RA\", \"MN\"\n",
    "gt_ra_pred_mn = extract_subset(d_prime, gt, pred)\n",
    "diffs = np.round(gt_ra_pred_mn[ONSET_STR] - gt_ra_pred_mn[OFFSET_STR], decimals=3)\n",
    "wilx_res = wilcoxon(diffs, alternative=ALTERNATIVE, zero_method=\"pratt\")\n",
    "W_mn, p_mn = wilx_res\n",
    "print(f\"GT: {gt}\\tPRED: {pred}\\t::\\tW={W_mn},\\t\\tp={p_mn:.5f},\\tonset-offset diff: {diffs.mean():.2f} (±{diffs.sem():.2f} s.e.m.),\\tN={len(diffs)}\")\n",
    "\n",
    "# using MN as GT and RA as PRED\n",
    "gt, pred = \"MN\", \"RA\"\n",
    "gt_mn_pred_ra = extract_subset(d_prime, gt, pred)\n",
    "diffs = np.round(gt_mn_pred_ra[ONSET_STR] - gt_mn_pred_ra[OFFSET_STR], decimals=3)\n",
    "wilx_res = wilcoxon(diffs, alternative=ALTERNATIVE, zero_method=\"pratt\")\n",
    "W_mn, p_mn = wilx_res\n",
    "print(f\"GT: {gt}\\tPRED: {pred}\\t::\\tW={W_mn},\\t\\tp={p_mn:.5f},\\tonset-offset diff: {diffs.mean():.2f} (±{diffs.sem():.2f} s.e.m.),\\tN={len(diffs)}\")\n",
    "\n",
    "# create a bar-plot figure for the human annotators\n",
    "fig = human_annotators_figure(d_prime, \"fixation\")\n",
    "fig.show()"
   ],
   "id": "58b38535b69080e4",
   "outputs": [
    {
     "name": "stdout",
     "output_type": "stream",
     "text": [
      "GT: RA\tPRED: MN\t::\tW=0.0,\t\tp=0.00842,\tonset-offset diff: -0.46 (±0.15 s.e.m.),\tN=10\n",
      "GT: MN\tPRED: RA\t::\tW=0.0,\t\tp=0.00846,\tonset-offset diff: -0.46 (±0.15 s.e.m.),\tN=10\n"
     ]
    }
   ],
   "execution_count": 5
  },
  {
   "metadata": {},
   "cell_type": "markdown",
   "source": [
    "### Within-Detector Comparisons (across detectors)\n",
    "We compare **fixation** onset vs. offset $d'$ scores using a within-detector comparison across all detectors. We use Wilcoxon's Signed-Rank test on the difference of $d'$ scores, across all trials and detectors but split between annotator _RA_ and _MN_. We hypothesize that **fixation onset has lower $d'$ that fixation offset**."
   ],
   "id": "b876166fcd4a6942"
  },
  {
   "metadata": {
    "ExecuteTime": {
     "end_time": "2025-07-06T18:06:53.953321Z",
     "start_time": "2025-07-06T18:06:50.017635Z"
    }
   },
   "cell_type": "code",
   "source": [
    "# extract the data\n",
    "d_prime_no_humans = d_prime.drop([\"MN\", \"RA\"], level=u.PRED_STR, axis=0)    # exclude humans from PRED column (only include algs)\n",
    "all_diffs = np.round(d_prime_no_humans[ONSET_STR] - d_prime_no_humans[OFFSET_STR], decimals=3)  # calculate onset-offset differences\n",
    "print(f\"Median Onset:\\tGT-RA:{d_prime_no_humans.xs(\"RA\", level=u.GT_STR)[ONSET_STR].median():.3f}\\tGT-MN:{d_prime_no_humans.xs(\"MN\", level=u.GT_STR)[ONSET_STR].median():.3f}\")\n",
    "print(f\"Median Offset:\\tGT-RA:{d_prime_no_humans.xs(\"RA\", level=u.GT_STR)[OFFSET_STR].median():.3f}\\tGT-MN:{d_prime_no_humans.xs(\"MN\", level=u.GT_STR)[OFFSET_STR].median():.3f}\")\n",
    "\n",
    "gt = \"RA\"\n",
    "diffs = all_diffs.xs(gt, level=u.GT_STR)\n",
    "wilx_res = wilcoxon(diffs.values, alternative=ALTERNATIVE, zero_method=\"pratt\")\n",
    "W_ra, p_ra = wilx_res\n",
    "print(f\"GT: {gt}\\t::\\tW={W_ra},\\t\\tp={p_ra:.4f},\\tonset-offset diff: {diffs.mean():.2f} (±{diffs.sem():.2f} s.e.m.),\\tN={len(diffs)}\")\n",
    "\n",
    "gt = \"MN\"\n",
    "diffs = all_diffs.xs(gt, level=u.GT_STR)\n",
    "wilx_res = wilcoxon(diffs.values, alternative=ALTERNATIVE, zero_method=\"pratt\")\n",
    "W_mn, p_mn = wilx_res\n",
    "print(f\"GT: {gt}\\t::\\tW={W_mn},\\t\\tp={p_mn:.4f},\\tonset-offset diff: {diffs.mean():.2f} (±{diffs.sem():.2f} s.e.m.),\\tN={len(diffs)}\")\n",
    "\n",
    "# create the figure\n",
    "fig = multi_detector_figure(d_prime, \"fixation\")    # or use `d_prime_no_humans` to exclude human annotators from the plot\n",
    "fig.update_layout(\n",
    "    title=None,\n",
    "    paper_bgcolor='rgba(0, 0, 0, 0)',\n",
    ")\n",
    "\n",
    "fig.write_image(os.path.join(FIGURES_DIR, f\"fig6-fixation-hfc.png\"), scale=3)\n",
    "fig.write_json(os.path.join(FIGURES_DIR, f\"fig6-fixation-hfc.json\"))\n",
    "fig.show()"
   ],
   "id": "8da09bf28b19f8db",
   "outputs": [
    {
     "name": "stdout",
     "output_type": "stream",
     "text": [
      "Median Onset:\tGT-RA:0.840\tGT-MN:1.084\n",
      "Median Offset:\tGT-RA:1.945\tGT-MN:1.976\n",
      "GT: RA\t::\tW=161.0,\t\tp=0.0000,\tonset-offset diff: -0.72 (±0.09 s.e.m.),\tN=70\n",
      "GT: MN\t::\tW=284.0,\t\tp=0.0000,\tonset-offset diff: -0.62 (±0.09 s.e.m.),\tN=70\n"
     ]
    }
   ],
   "execution_count": 6
  },
  {
   "metadata": {},
   "cell_type": "markdown",
   "source": [
    "### Pairwise Comparisons: Engbert vs. REmoDNaV\n",
    "We compare **fixation** detection sensitivity ($d'$) between the _Engbert_ and _REMoDNaV_ detectors, using the Mann-Whitney U-test, **to determine if the ability to detect PSOs at the start of fixations (REMoDNaV) improve saccade detection sensitivity compared to Engbert** (the null hypothesis is that PSO detection does not improve or impede fixation detection sensitivity).\n",
    "We perform three comparisons (applying a Bonferroni correction for multiple comparisons):\n",
    "1. **Onset**: determine which has higher onset detection sensitivity.\n",
    "2. **Offset**: determine which has higher fixation offset detection sensitivity.\n",
    "3. **Diffs**: compare the absolute differences of $d'$ scores between onset and offset, for both detectors (i.e., $|\\Delta d'| := |d'_{onset} - d'_{offset}|$). This is a diff-of-diffs comparison, comparing the **stability** of detection sensitivity."
   ],
   "id": "120ebefe76464fab"
  },
  {
   "metadata": {
    "ExecuteTime": {
     "end_time": "2025-07-06T18:06:54.071401Z",
     "start_time": "2025-07-06T18:06:54.069001Z"
    }
   },
   "cell_type": "code",
   "source": [
    "NUM_COMPARISONS = 3\n",
    "ALTERNATIVE = \"two-sided\"\n",
    "ALPHA = 0.05\n",
    "ALPHA_BONF = ALPHA / NUM_COMPARISONS  # Bonferroni correction for multiple comparisons"
   ],
   "id": "c02a2db5f82db99d",
   "outputs": [],
   "execution_count": 7
  },
  {
   "metadata": {},
   "cell_type": "markdown",
   "source": "##### GT Annotator: _RA_",
   "id": "35b2b000d648b182"
  },
  {
   "metadata": {
    "ExecuteTime": {
     "end_time": "2025-07-06T18:06:54.146266Z",
     "start_time": "2025-07-06T18:06:54.137262Z"
    }
   },
   "cell_type": "code",
   "source": [
    "GT = \"RA\"\n",
    "\n",
    "remodnav_scores = extract_subset(d_prime, GT, \"remodnav\")\n",
    "engbert_scores = extract_subset(d_prime, GT, \"engbert\")\n",
    "\n",
    "# (1) Onset Comparison\n",
    "print(\"##################\")\n",
    "print(f\"(1) Onset Comparison ({GT})\")\n",
    "remodnav_onset, engbert_onset = remodnav_scores[ONSET_STR], engbert_scores[ONSET_STR]\n",
    "print(f\"REMoDNaV Onset:\\t{remodnav_onset.mean():.2f} (±{remodnav_onset.sem():.2f} s.e.m.),\\tN={len(remodnav_onset)}\")\n",
    "print(f\"Engbert Onset:\\t{engbert_onset.mean():.2f} (±{engbert_onset.sem():.2f} s.e.m.),\\tN={len(engbert_onset)}\")\n",
    "posthoc_onset = mannwhitneyu(remodnav_onset, engbert_onset, alternative=ALTERNATIVE)\n",
    "print(f\"Onset Results:\\tU={posthoc_onset.statistic:.1f},\\tp={posthoc_onset.pvalue:.4f}\")\n",
    "print(\"Significant!\" if posthoc_onset.pvalue <= ALPHA_BONF else \"Not significant.\")\n",
    "\n",
    "# (2) Offset Comparison\n",
    "print(\"\\n##################\")\n",
    "print(f\"(2) Offset Comparison ({GT})\")\n",
    "remodnav_offset, engbert_offset = remodnav_scores[OFFSET_STR], engbert_scores[OFFSET_STR]\n",
    "print(f\"REMoDNaV Offset:\\t{remodnav_offset.mean():.2f} (±{remodnav_offset.sem():.2f} s.e.m.),\\tN={len(remodnav_offset)}\")\n",
    "print(f\"Engbert Offset:\\t{engbert_offset.mean():.2f} (±{engbert_offset.sem():.2f} s.e.m.),\\tN={len(engbert_offset)}\")\n",
    "posthoc_offset = mannwhitneyu(remodnav_offset, engbert_offset, alternative=ALTERNATIVE)\n",
    "print(f\"Offset Results:\\tU={posthoc_offset.statistic:.1f},\\tp={posthoc_offset.pvalue:.4f}\")\n",
    "print(\"Significant!\" if posthoc_offset.pvalue <= ALPHA_BONF else \"Not significant.\")\n",
    "\n",
    "# (3) Diffs Comparison\n",
    "print(\"\\n##################\")\n",
    "print(f\"(3) Diffs Comparison ({GT})\")\n",
    "remodnav_diffs = abs(remodnav_onset - remodnav_offset)\n",
    "engbert_diffs = abs(engbert_onset - engbert_offset)\n",
    "print(f\"REMoDNaV Abs-Diffs:\\t{remodnav_diffs.mean():.2f} (±{remodnav_diffs.sem():.2f} s.e.m.),\\tN={len(remodnav_diffs)}\")\n",
    "print(f\"Engbert Abs-Diffs:\\t{engbert_diffs.mean():.2f} (±{engbert_diffs.sem():.2f} s.e.m.),\\tN={len(engbert_diffs)}\")\n",
    "\n",
    "diff_of_diffs = np.round(remodnav_diffs - engbert_diffs, decimals=3)\n",
    "posthoc_diffs = mannwhitneyu(remodnav_diffs, engbert_diffs, alternative=ALTERNATIVE)\n",
    "print(f\"Diffs Results:\\tU={posthoc_diffs.statistic:.1f},\\tp={posthoc_diffs.pvalue:.4f},\\tdiff={diff_of_diffs.mean():.2f} (±{diff_of_diffs.sem():.2f} s.e.m.),\\tN={len(diff_of_diffs)}\")\n",
    "print(\"Significant!\" if posthoc_diffs.pvalue <= ALPHA_BONF else \"Not significant.\")"
   ],
   "id": "66df6067ade42612",
   "outputs": [
    {
     "name": "stdout",
     "output_type": "stream",
     "text": [
      "##################\n",
      "(1) Onset Comparison (RA)\n",
      "REMoDNaV Onset:\t2.24 (±0.20 s.e.m.),\tN=10\n",
      "Engbert Onset:\t3.01 (±0.20 s.e.m.),\tN=10\n",
      "Onset Results:\tU=18.0,\tp=0.0173\n",
      "Not significant.\n",
      "\n",
      "##################\n",
      "(2) Offset Comparison (RA)\n",
      "REMoDNaV Offset:\t2.35 (±0.21 s.e.m.),\tN=10\n",
      "Engbert Offset:\t3.98 (±0.34 s.e.m.),\tN=10\n",
      "Offset Results:\tU=12.0,\tp=0.0046\n",
      "Significant!\n",
      "\n",
      "##################\n",
      "(3) Diffs Comparison (RA)\n",
      "REMoDNaV Abs-Diffs:\t0.37 (±0.05 s.e.m.),\tN=10\n",
      "Engbert Abs-Diffs:\t0.97 (±0.19 s.e.m.),\tN=10\n",
      "Diffs Results:\tU=26.0,\tp=0.0757,\tdiff=-0.60 (±0.19 s.e.m.),\tN=10\n",
      "Not significant.\n"
     ]
    }
   ],
   "execution_count": 8
  },
  {
   "metadata": {},
   "cell_type": "markdown",
   "source": "##### GT Annotator: _MN_",
   "id": "7adee2257b006535"
  },
  {
   "metadata": {
    "ExecuteTime": {
     "end_time": "2025-07-06T18:06:54.220940Z",
     "start_time": "2025-07-06T18:06:54.211931Z"
    }
   },
   "cell_type": "code",
   "source": [
    "GT = \"MN\"\n",
    "\n",
    "remodnav_scores = extract_subset(d_prime, GT, \"remodnav\")\n",
    "engbert_scores = extract_subset(d_prime, GT, \"engbert\")\n",
    "\n",
    "# (1) Onset Comparison\n",
    "print(\"##################\")\n",
    "print(f\"(1) Onset Comparison ({GT})\")\n",
    "remodnav_onset, engbert_onset = remodnav_scores[ONSET_STR], engbert_scores[ONSET_STR]\n",
    "print(f\"REMoDNaV Onset:\\t{remodnav_onset.mean():.2f} (±{remodnav_onset.sem():.2f} s.e.m.),\\tN={len(remodnav_onset)}\")\n",
    "print(f\"Engbert Onset:\\t{engbert_onset.mean():.2f} (±{engbert_onset.sem():.2f} s.e.m.),\\tN={len(engbert_onset)}\")\n",
    "posthoc_onset = mannwhitneyu(remodnav_onset, engbert_onset, alternative=ALTERNATIVE)\n",
    "print(f\"Onset Results:\\tU={posthoc_onset.statistic:.1f},\\tp={posthoc_onset.pvalue:.4f}\")\n",
    "print(\"Significant!\" if posthoc_onset.pvalue <= ALPHA_BONF else \"Not significant.\")\n",
    "\n",
    "# (2) Offset Comparison\n",
    "print(\"\\n##################\")\n",
    "print(f\"(2) Offset Comparison ({GT})\")\n",
    "remodnav_offset, engbert_offset = remodnav_scores[OFFSET_STR], engbert_scores[OFFSET_STR]\n",
    "print(f\"REMoDNaV Offset:\\t{remodnav_offset.mean():.2f} (±{remodnav_offset.sem():.2f} s.e.m.),\\tN={len(remodnav_offset)}\")\n",
    "print(f\"Engbert Offset:\\t{engbert_offset.mean():.2f} (±{engbert_offset.sem():.2f} s.e.m.),\\tN={len(engbert_offset)}\")\n",
    "posthoc_offset = mannwhitneyu(remodnav_offset, engbert_offset, alternative=ALTERNATIVE)\n",
    "print(f\"Offset Results:\\tU={posthoc_offset.statistic:.1f},\\tp={posthoc_offset.pvalue:.5f}\")\n",
    "print(\"Significant!\" if posthoc_offset.pvalue <= ALPHA_BONF else \"Not significant.\")\n",
    "\n",
    "# (3) Diffs Comparison\n",
    "print(\"\\n##################\")\n",
    "print(f\"(3) Diffs Comparison ({GT})\")\n",
    "remodnav_diffs = abs(remodnav_onset - remodnav_offset)\n",
    "engbert_diffs = abs(engbert_onset - engbert_offset)\n",
    "print(f\"REMoDNaV Abs-Diffs:\\t{remodnav_diffs.mean():.2f} (±{remodnav_diffs.sem():.2f} s.e.m.),\\tN={len(remodnav_diffs)}\")\n",
    "print(f\"Engbert Abs-Diffs:\\t{engbert_diffs.mean():.2f} (±{engbert_diffs.sem():.2f} s.e.m.),\\tN={len(engbert_diffs)}\")\n",
    "\n",
    "diff_of_diffs = np.round(remodnav_diffs - engbert_diffs, decimals=3)\n",
    "posthoc_diffs = mannwhitneyu(remodnav_diffs, engbert_diffs, alternative=ALTERNATIVE)\n",
    "print(f\"Diffs Results:\\tU={posthoc_diffs.statistic:.1f},\\tp={posthoc_diffs.pvalue:.4f},\\tdiff={diff_of_diffs.mean():.2f} (±{diff_of_diffs.sem():.2f} s.e.m.),\\tN={len(diff_of_diffs)}\")\n",
    "print(\"Significant!\" if posthoc_diffs.pvalue <= ALPHA_BONF else \"Not significant.\")"
   ],
   "id": "138e863d21a22c4a",
   "outputs": [
    {
     "name": "stdout",
     "output_type": "stream",
     "text": [
      "##################\n",
      "(1) Onset Comparison (MN)\n",
      "REMoDNaV Onset:\t2.37 (±0.12 s.e.m.),\tN=10\n",
      "Engbert Onset:\t3.27 (±0.25 s.e.m.),\tN=10\n",
      "Onset Results:\tU=9.0,\tp=0.0022\n",
      "Significant!\n",
      "\n",
      "##################\n",
      "(2) Offset Comparison (MN)\n",
      "REMoDNaV Offset:\t2.33 (±0.17 s.e.m.),\tN=10\n",
      "Engbert Offset:\t3.84 (±0.24 s.e.m.),\tN=10\n",
      "Offset Results:\tU=4.0,\tp=0.00058\n",
      "Significant!\n",
      "\n",
      "##################\n",
      "(3) Diffs Comparison (MN)\n",
      "REMoDNaV Abs-Diffs:\t0.28 (±0.09 s.e.m.),\tN=10\n",
      "Engbert Abs-Diffs:\t0.75 (±0.18 s.e.m.),\tN=10\n",
      "Diffs Results:\tU=27.0,\tp=0.0885,\tdiff=-0.47 (±0.21 s.e.m.),\tN=10\n",
      "Not significant.\n"
     ]
    }
   ],
   "execution_count": 9
  },
  {
   "metadata": {
    "ExecuteTime": {
     "end_time": "2025-07-06T18:06:54.288910Z",
     "start_time": "2025-07-06T18:06:54.286643Z"
    }
   },
   "cell_type": "code",
   "source": "",
   "id": "dc64c44d375ce711",
   "outputs": [],
   "execution_count": null
  }
 ],
 "metadata": {
  "kernelspec": {
   "display_name": "Python 3",
   "language": "python",
   "name": "python3"
  },
  "language_info": {
   "codemirror_mode": {
    "name": "ipython",
    "version": 2
   },
   "file_extension": ".py",
   "mimetype": "text/x-python",
   "name": "python",
   "nbconvert_exporter": "python",
   "pygments_lexer": "ipython2",
   "version": "2.7.6"
  }
 },
 "nbformat": 4,
 "nbformat_minor": 5
}
