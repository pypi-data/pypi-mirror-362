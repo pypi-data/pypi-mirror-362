{
 "cells": [
  {
   "metadata": {},
   "cell_type": "markdown",
   "source": "# Generate Poster Figures",
   "id": "9d0829e92e83dc9a"
  },
  {
   "metadata": {
    "collapsed": true,
    "ExecuteTime": {
     "end_time": "2025-05-03T17:44:04.704281Z",
     "start_time": "2025-05-03T17:44:04.694226Z"
    }
   },
   "cell_type": "code",
   "source": [
    "import os\n",
    "import copy\n",
    "\n",
    "import os\n",
    "from copy import deepcopy\n",
    "\n",
    "import numpy as np\n",
    "import pandas as pd\n",
    "import plotly.graph_objects as go\n",
    "import plotly.io as pio\n",
    "from plotly.subplots import make_subplots\n",
    "\n",
    "import peyes\n",
    "\n",
    "pio.renderers.default = \"browser\""
   ],
   "id": "initial_id",
   "outputs": [],
   "execution_count": 5
  },
  {
   "metadata": {
    "ExecuteTime": {
     "end_time": "2025-05-03T17:44:04.724929Z",
     "start_time": "2025-05-03T17:44:04.714110Z"
    }
   },
   "cell_type": "code",
   "source": [
    "RAW_FIGURES_DIR = r'S:\\Lab-Shared\\Experiments\\pEYES\\output\\article_results'\n",
    "OUTPUT_DIR = r'S:\\Lab-Shared\\Experiments\\pEYES\\article\\poster\\figures'\n",
    "DATASET = \"lund2013\"\n",
    "\n",
    "TITLE_FONT = dict(family=\"Calibri\", size=100, color=\"black\")\n",
    "AXIS_LABEL_FONT = dict(family=\"Calibri\", size=90, color=\"black\")\n",
    "AXIS_TICK_FONT = dict(family=\"Calibri\", size=70, color=\"black\")"
   ],
   "id": "605b221ae89b818d",
   "outputs": [],
   "execution_count": 6
  },
  {
   "metadata": {
    "ExecuteTime": {
     "end_time": "2025-05-03T17:44:04.737723Z",
     "start_time": "2025-05-03T17:44:04.733900Z"
    }
   },
   "cell_type": "code",
   "source": [
    "def load_interim_figure(\n",
    "        dataset_name: str, fig_num: int, panel_id: str, fig_name: str, is_supp: bool\n",
    ") -> go.Figure:\n",
    "    sup_dir = os.path.join(RAW_FIGURES_DIR, dataset_name, 'figures')\n",
    "    if not os.path.isdir(sup_dir):\n",
    "        raise NotADirectoryError(f\"Directory '{sup_dir}' does not exist.\")\n",
    "    fig_dir = os.path.join(sup_dir, f\"{'supp-' if is_supp else ''}fig{fig_num}\")\n",
    "    if not os.path.isdir(fig_dir):\n",
    "        raise NotADirectoryError(f\"Directory '{fig_dir}' does not exist.\")\n",
    "    full_path = os.path.join(fig_dir, f\"{panel_id}_{fig_name}.json\")\n",
    "    if not os.path.isfile(full_path):\n",
    "        raise FileNotFoundError(f\"File '{full_path}' does not exist.\")\n",
    "    return pio.from_json(open(full_path, 'r').read())"
   ],
   "id": "565ecf92e6c3c111",
   "outputs": [],
   "execution_count": 7
  },
  {
   "metadata": {},
   "cell_type": "markdown",
   "source": "## Fig 1: Overview of pEYES",
   "id": "7d844c8d5308eca0"
  },
  {
   "metadata": {
    "ExecuteTime": {
     "end_time": "2025-05-03T17:44:09.261105Z",
     "start_time": "2025-05-03T17:44:04.750622Z"
    }
   },
   "cell_type": "code",
   "source": [
    "heatmap = load_interim_figure(DATASET, 1, \"A\", \"heatmap\", False)\n",
    "pixels = load_interim_figure(DATASET, 1, \"C\", \"pixels-over-time\", False)\n",
    "scarfs = load_interim_figure(DATASET, 1, \"D\", \"scarfplots\", False)"
   ],
   "id": "e3b5ea275e5b491e",
   "outputs": [],
   "execution_count": 8
  },
  {
   "metadata": {
    "ExecuteTime": {
     "end_time": "2025-05-03T17:44:33.131873Z",
     "start_time": "2025-05-03T17:44:14.187474Z"
    }
   },
   "cell_type": "code",
   "source": [
    "fig1 = make_subplots(\n",
    "    rows=2, cols=2, shared_xaxes=True, shared_yaxes=False,\n",
    "    vertical_spacing=0.05, horizontal_spacing=0.025,\n",
    "    specs=[[{\"type\": \"scatter\"}, {\"type\": \"image\", \"rowspan\": 2}], [{\"type\": \"heatmap\"}, None]],\n",
    ")\n",
    "\n",
    "for tr in pixels.data:\n",
    "    if tr[\"name\"] == 'v':\n",
    "        continue\n",
    "    tr[\"line_width\"] = 10\n",
    "    fig1.add_trace(tr, row=1, col=1)\n",
    "for tr in scarfs.data:\n",
    "    new_tr = copy.deepcopy(tr)\n",
    "    new_tr[\"showscale\"] = False\n",
    "    fig1.add_trace(new_tr, row=2, col=1)\n",
    "heatmap.for_each_trace(lambda trace: fig1.add_trace(trace, row=1, col=2))\n",
    "\n",
    "fig1.update_layout(\n",
    "    width=5000, height=2000, font_family=\"Calibri\",\n",
    "    paper_bgcolor='rgba(0, 0, 0, 0)', plot_bgcolor='rgba(0, 0, 0, 0)',\n",
    "    legend=dict(\n",
    "        orientation=\"h\", yanchor=\"top\", y=1.01, xanchor=\"left\", x=0.01, bgcolor='rgba(0, 0, 0, 0)', font=AXIS_TICK_FONT, itemwidth=75,\n",
    "    ),\n",
    "    margin=dict(l=0, r=0, t=0, b=0),\n",
    "\n",
    "    # line plot axes\n",
    "    xaxis=dict(showticklabels=False, showgrid=False,),\n",
    "    yaxis=dict(\n",
    "        title=dict(text=\"Gaze Location (px)\", font=AXIS_LABEL_FONT, standoff=8),\n",
    "        showgrid=True, gridcolor='lightgray', gridwidth=5,\n",
    "        zeroline=True, zerolinecolor='lightgray', zerolinewidth=5,\n",
    "        rangemode=\"tozero\", showticklabels=True, tickfont=AXIS_TICK_FONT,\n",
    "    ),\n",
    "    # scarfplot axes\n",
    "    xaxis3=dict(\n",
    "        title=dict(text=\"Time (sample)\", font=AXIS_LABEL_FONT, standoff=4),\n",
    "        showgrid=False,\n",
    "        tickangle=30, tickmode='array', tickfont=AXIS_TICK_FONT,\n",
    "        tickvals=np.arange(0, 10001, 1000), ticktext=[f\"{val//1000}k\" for val in np.arange(0, 10001, 1000)],\n",
    "    ),\n",
    "    yaxis3=dict(\n",
    "        title=dict(text=\"Annotator\", font=AXIS_LABEL_FONT, standoff=4), showgrid=False, tickangle=0,\n",
    "        tickmode='array', tickvals=scarfs.layout['yaxis']['tickvals'],\n",
    "        ticktext=[f\"{txt}\\t\" for txt in scarfs.layout['yaxis']['ticktext']],\n",
    "        tickfont=AXIS_TICK_FONT,\n",
    "    ),\n",
    "    # heatmap axes - remove ticks and labels\n",
    "    xaxis2=dict(showticklabels=False, showgrid=False), yaxis2=dict(showticklabels=False, showgrid=False),\n",
    ")\n",
    "\n",
    "fig1.write_image(os.path.join(OUTPUT_DIR, \"fig1.png\"), scale=3)\n",
    "fig1.show()"
   ],
   "id": "ef2f4989139d638a",
   "outputs": [],
   "execution_count": 9
  },
  {
   "metadata": {},
   "cell_type": "markdown",
   "source": [
    "## Fig 2: Detector Agreement with GT\n",
    "### Measurement: `Cohen's Kappa`"
   ],
   "id": "346ed258ba3442f3"
  },
  {
   "metadata": {
    "ExecuteTime": {
     "end_time": "2025-05-03T17:44:49.172610Z",
     "start_time": "2025-05-03T17:44:48.227324Z"
    }
   },
   "cell_type": "code",
   "source": [
    "performances = load_interim_figure(DATASET, 3, \"\", \"sample-global-metrics\", False)\n",
    "\n",
    "fig2 = go.Figure()\n",
    "for tr in performances.data:\n",
    "    if tr[\"scalegroup\"] != \"cohen's_kappa\":\n",
    "        continue\n",
    "    new_tr = copy.deepcopy(tr)\n",
    "    new_tr[\"showlegend\"] = False\n",
    "    new_tr[\"width\"] = 0.95\n",
    "\n",
    "    if new_tr[\"x0\"] == \"Other GT\":\n",
    "        new_tr[\"x0\"] = new_tr[\"name\"] = new_tr[\"legendgroup\"] = \"2<sup>nd</sup> GT\"\n",
    "    elif new_tr[\"x0\"].startswith(\"i\"):\n",
    "        new_tr[\"x0\"] = new_tr[\"name\"] = new_tr[\"legendgroup\"] = new_tr[\"x0\"].replace(\"i\", \"I-\").upper()\n",
    "    elif new_tr[\"x0\"] == \"remodnav\":\n",
    "        new_tr[\"x0\"] = new_tr[\"name\"] = new_tr[\"legendgroup\"] = \"REMoDNaV\"\n",
    "    else:\n",
    "        new_tr[\"x0\"] = new_tr[\"name\"] = new_tr[\"legendgroup\"] = new_tr[\"x0\"].upper()\n",
    "    fig2.add_trace(new_tr)\n",
    "\n",
    "fig2.update_layout(\n",
    "    width=3600, height=2000, font_family=\"Calibri\",\n",
    "    paper_bgcolor='rgba(0, 0, 0, 0)', plot_bgcolor='rgba(0, 0, 0, 0)',\n",
    "    margin=dict(l=0, r=0, t=0, b=0),\n",
    "    title=dict(\n",
    "        text=\"<b>Detector Agreement with GT</b>\", font=TITLE_FONT,\n",
    "        y=1, yanchor=\"top\", x=0.5, xanchor=\"center\"\n",
    "    ),\n",
    "    yaxis=dict(\n",
    "        title=dict(text=\"<b>Cohen's Kappa</b>\", font=AXIS_LABEL_FONT, standoff=45),\n",
    "        showgrid=True, gridcolor='lightgray', gridwidth=5,\n",
    "        zeroline=True, zerolinecolor='lightgray', zerolinewidth=5,\n",
    "        showticklabels=True, tickmode='array', tickvals=np.arange(0.1, 1.0, 0.2), tickfont=AXIS_TICK_FONT,\n",
    "    ),\n",
    "    xaxis=dict(\n",
    "        title=dict(text=\"<b>Detector</b>\", font=AXIS_LABEL_FONT, standoff=25),\n",
    "        tickfont=AXIS_TICK_FONT,\n",
    "    ),\n",
    ")\n",
    "\n",
    "fig2.write_image(os.path.join(OUTPUT_DIR, \"fig2.png\"), scale=3)\n",
    "fig2.show()"
   ],
   "id": "51308eedf40df7c7",
   "outputs": [],
   "execution_count": 10
  },
  {
   "metadata": {},
   "cell_type": "markdown",
   "source": [
    "## Fig 3: Sensitivity\n",
    "### Measurement: $d'$ for increasing $\\Delta t$"
   ],
   "id": "9c6b41c2d2dd98be"
  },
  {
   "metadata": {
    "ExecuteTime": {
     "end_time": "2025-05-03T17:45:03.885349Z",
     "start_time": "2025-05-03T17:45:03.759327Z"
    }
   },
   "cell_type": "code",
   "source": [
    "fix_fig = load_interim_figure(DATASET, 6, \"\", \"fixations-discrimination_multi_threshold-d_prime\", True)\n",
    "sac_fig = load_interim_figure(DATASET, 7, \"\", \"saccades-discrimination_multi_threshold-d_prime\", True)"
   ],
   "id": "c047f5bf9364742a",
   "outputs": [],
   "execution_count": 11
  },
  {
   "metadata": {
    "ExecuteTime": {
     "end_time": "2025-05-03T17:45:15.626690Z",
     "start_time": "2025-05-03T17:45:13.890751Z"
    }
   },
   "cell_type": "code",
   "source": [
    "fig3 = make_subplots(\n",
    "    rows=2, cols=2, shared_xaxes=True, shared_yaxes=True,\n",
    "    vertical_spacing=0.025, horizontal_spacing=0.025,\n",
    "    column_titles=[\"Fixations\", \"Saccades\"],\n",
    ")\n",
    "\n",
    "for tr in fix_fig.data:\n",
    "    if tr[\"yaxis\"] in {\"y\", \"y3\"}:\n",
    "        new_tr = copy.deepcopy(tr)\n",
    "        new_tr[\"line_width\"] = 10\n",
    "        new_tr[\"error_y\"][\"thickness\"] = 8\n",
    "        if new_tr[\"name\"] == \"Other GT\":\n",
    "            new_tr[\"name\"] = new_tr[\"legendgroup\"] = \"2<sup>nd</sup> GT\"\n",
    "            new_tr[\"marker\"][\"color\"] = \"gray\"\n",
    "        elif new_tr[\"name\"].startswith(\"i\"):\n",
    "            new_tr[\"name\"] = new_tr[\"legendgroup\"] = new_tr[\"name\"].replace(\"i\", \"I-\").upper()\n",
    "        elif new_tr[\"name\"] == \"remodnav\":\n",
    "            new_tr[\"name\"] = new_tr[\"legendgroup\"] = \"REMoDNaV\"\n",
    "        else:\n",
    "            new_tr[\"name\"] = new_tr[\"legendgroup\"] = new_tr[\"name\"].upper()\n",
    "        fig3.add_trace(new_tr, col=1, row=1 if tr[\"yaxis\"] == \"y\" else 2)\n",
    "\n",
    "for tr in sac_fig.data:\n",
    "    if tr[\"yaxis\"] in {\"y\", \"y3\"}:\n",
    "        new_tr = copy.deepcopy(tr)\n",
    "        new_tr[\"line_width\"] = 10\n",
    "        new_tr[\"error_y\"][\"thickness\"] = 8\n",
    "        new_tr[\"showlegend\"] = False\n",
    "        if new_tr[\"name\"] == \"Other GT\":\n",
    "            new_tr[\"name\"] = new_tr[\"legendgroup\"] = \"2<sup>nd</sup> GT\"\n",
    "            new_tr[\"marker\"][\"color\"] = \"gray\"\n",
    "        elif new_tr[\"name\"].startswith(\"i\"):\n",
    "            new_tr[\"name\"] = new_tr[\"legendgroup\"] = new_tr[\"name\"].replace(\"i\", \"I-\").upper()\n",
    "        elif new_tr[\"name\"] == \"remodnav\":\n",
    "            new_tr[\"name\"] = new_tr[\"legendgroup\"] = \"REMoDNaV\"\n",
    "        else:\n",
    "            new_tr[\"name\"] = new_tr[\"legendgroup\"] = new_tr[\"name\"].upper()\n",
    "        fig3.add_trace(new_tr, col=2, row=1 if tr[\"yaxis\"] == \"y\" else 2)\n",
    "\n",
    "fig3.update_layout(\n",
    "    width=6000, height=2000, font_family=\"Calibri\",\n",
    "    paper_bgcolor='rgba(0, 0, 0, 0)', plot_bgcolor='rgba(0, 0, 0, 0)',\n",
    "    # margin=dict(l=0, r=0, t=20, b=0),\n",
    "    title=dict(\n",
    "        text=\"<b>Sensitivity</b>\", font=TITLE_FONT,\n",
    "        y=1, yanchor=\"top\", x=0.5, xanchor=\"center\"\n",
    "    ),\n",
    "\n",
    "    xaxis3=dict(\n",
    "        title=dict(text=\"<b>$\\\\Delta t$</b>\", font=AXIS_LABEL_FONT, standoff=0), tickfont=AXIS_TICK_FONT,\n",
    "    ),\n",
    "    xaxis4=dict(\n",
    "        title=dict(text=\"<b>$\\\\Delta t$</b>\", font=AXIS_LABEL_FONT, standoff=0), tickfont=AXIS_TICK_FONT,\n",
    "    ),\n",
    "\n",
    "    yaxis=dict(\n",
    "        title=dict(text=\"<b>Onset d'\", font=AXIS_LABEL_FONT),\n",
    "        showgrid=True, gridcolor='lightgray', gridwidth=5,\n",
    "        zeroline=True, zerolinecolor='lightgray', zerolinewidth=5,\n",
    "        tickfont=AXIS_TICK_FONT,\n",
    "    ),\n",
    "    yaxis3=dict(\n",
    "        title=dict(text=\"<b>Offset d'</b>\", font=AXIS_LABEL_FONT),\n",
    "        showgrid=True, gridcolor='lightgray', gridwidth=5,\n",
    "        zeroline=True, zerolinecolor='lightgray', zerolinewidth=5,\n",
    "        tickfont=AXIS_TICK_FONT,\n",
    "    ),\n",
    "    yaxis2=dict(showgrid=True, gridcolor='lightgray', gridwidth=5, zeroline=True, zerolinecolor='lightgray', zerolinewidth=5,),\n",
    "    yaxis4=dict(showgrid=True, gridcolor='lightgray', gridwidth=5, zeroline=True, zerolinecolor='lightgray', zerolinewidth=5,),\n",
    "\n",
    "    legend=dict(\n",
    "        orientation=\"h\", bgcolor='rgba(0, 0, 0, 0)',\n",
    "        yanchor=\"top\", y=-0.05, xanchor=\"center\", x=0.5,\n",
    "        font=AXIS_TICK_FONT, itemwidth=120,\n",
    "    ),\n",
    ")\n",
    "fig3.for_each_annotation(lambda ann: ann.update(font=AXIS_LABEL_FONT, y=0.98))\n",
    "\n",
    "fig3.write_image(os.path.join(OUTPUT_DIR, \"fig3.png\"), scale=3)\n",
    "fig3"
   ],
   "id": "67089c4a868551e7",
   "outputs": [],
   "execution_count": 12
  },
  {
   "metadata": {},
   "cell_type": "markdown",
   "source": [
    "## Fig 4: Detection Easiness\n",
    "### Comparing Onset vs. Offset Detection (across all detectors)"
   ],
   "id": "fa8fa4cc3078929f"
  },
  {
   "metadata": {
    "ExecuteTime": {
     "end_time": "2025-05-03T17:45:31.511764Z",
     "start_time": "2025-05-03T17:45:30.451244Z"
    }
   },
   "cell_type": "code",
   "source": [
    "barplots = load_interim_figure(DATASET, 6, \"RA\", \"onset-offset-comparison\", False)\n",
    "\n",
    "fig4 = go.Figure()\n",
    "for tr in barplots.data:\n",
    "    if tr[\"xaxis\"] == \"x\":\n",
    "        fig4.add_trace(tr)\n",
    "\n",
    "fig4.update_layout(\n",
    "    width=3000, height=1500, font_family=\"Calibri\",\n",
    "    paper_bgcolor='rgba(0, 0, 0, 0)', plot_bgcolor='rgba(0, 0, 0, 0)',\n",
    "    # margin=dict(l=0, r=0, t=20, b=0),\n",
    "    title=dict(\n",
    "        text=\"<b>Detection Sensitivity across Detectors</b>\", font=TITLE_FONT,\n",
    "        y=0.98, yanchor=\"top\", x=0.5, xanchor=\"center\"\n",
    "    ),\n",
    "\n",
    "    xaxis=dict(\n",
    "        title=dict(text=\"<b>Event Type</b>\", font=AXIS_LABEL_FONT), tickfont=AXIS_TICK_FONT,\n",
    "    ),\n",
    "    yaxis=dict(\n",
    "        title=dict(text=\"<b>Mean d'\", font=AXIS_LABEL_FONT, standoff=25),\n",
    "        showgrid=True, gridcolor='lightgray', gridwidth=5,\n",
    "        zeroline=True, zerolinecolor='lightgray', zerolinewidth=5,\n",
    "        tickfont=AXIS_TICK_FONT,\n",
    "    ),\n",
    "\n",
    "    legend=dict(orientation=\"h\", yanchor=\"top\", y=0.95,  xanchor=\"left\", x=0, font=AXIS_TICK_FONT, itemwidth=80),\n",
    ")\n",
    "\n",
    "fig4.write_image(os.path.join(OUTPUT_DIR, \"fig4.png\"), scale=3)\n",
    "fig4"
   ],
   "id": "7963b11ae336a172",
   "outputs": [],
   "execution_count": 13
  },
  {
   "metadata": {
    "ExecuteTime": {
     "end_time": "2025-05-03T17:45:50.969888Z",
     "start_time": "2025-05-03T17:45:50.965391Z"
    }
   },
   "cell_type": "code",
   "source": "",
   "id": "75e023aaa9dc2187",
   "outputs": [],
   "execution_count": null
  }
 ],
 "metadata": {
  "kernelspec": {
   "display_name": "Python 3",
   "language": "python",
   "name": "python3"
  },
  "language_info": {
   "codemirror_mode": {
    "name": "ipython",
    "version": 2
   },
   "file_extension": ".py",
   "mimetype": "text/x-python",
   "name": "python",
   "nbconvert_exporter": "python",
   "pygments_lexer": "ipython2",
   "version": "2.7.6"
  }
 },
 "nbformat": 4,
 "nbformat_minor": 5
}
