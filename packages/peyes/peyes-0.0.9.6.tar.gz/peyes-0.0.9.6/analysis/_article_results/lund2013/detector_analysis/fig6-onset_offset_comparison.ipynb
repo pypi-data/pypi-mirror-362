{
 "cells": [
  {
   "metadata": {},
   "cell_type": "markdown",
   "source": [
    "# Fig 6: Onset-Offset Comparisons\n",
    "### Comparing Within-Detector Sensitivity to Onset vs. Offset"
   ],
   "id": "c34fcd2bb2b6504"
  },
  {
   "metadata": {
    "ExecuteTime": {
     "end_time": "2025-06-19T19:02:04.738106Z",
     "start_time": "2025-06-19T19:02:03.341049Z"
    }
   },
   "cell_type": "code",
   "source": [
    "import copy\n",
    "import warnings\n",
    "from typing import Optional\n",
    "\n",
    "import numpy as np\n",
    "import pandas as pd\n",
    "import statsmodels.formula.api as smf\n",
    "import scikit_posthocs as sp\n",
    "import scipy.stats as st\n",
    "import plotly.express as px\n",
    "from plotly.subplots import make_subplots\n",
    "import plotly.io as pio\n",
    "from statsmodels import formula\n",
    "from scipy.stats import wilcoxon, mannwhitneyu\n",
    "\n",
    "import peyes\n",
    "\n",
    "from analysis._article_results.lund2013._helpers import *\n",
    "import analysis.statistics.channel_sdt as ch_sdt\n",
    "\n",
    "pio.renderers.default = \"browser\""
   ],
   "id": "34b57105067cef91",
   "outputs": [
    {
     "name": "stderr",
     "output_type": "stream",
     "text": [
      "C:\\Users\\jonathanni\\PycharmProjects\\pEYES\\venv\\Lib\\site-packages\\statsmodels\\tools\\tools.py:6: UserWarning: A NumPy version >=1.23.5 and <2.3.0 is required for this version of SciPy (detected version 2.3.0)\n",
      "  import scipy.linalg\n"
     ]
    }
   ],
   "execution_count": 1
  },
  {
   "metadata": {},
   "cell_type": "markdown",
   "source": "### Set Constants",
   "id": "559cd128c8418ade"
  },
  {
   "metadata": {
    "ExecuteTime": {
     "end_time": "2025-06-19T19:02:04.830108Z",
     "start_time": "2025-06-19T19:02:04.826213Z"
    }
   },
   "cell_type": "code",
   "source": [
    "THRESHOLD = 5       # temporal threshold for analyzing d'\n",
    "METRIC = peyes.constants.D_PRIME_STR\n",
    "ONSET_STR, OFFSET_STR = peyes.constants.ONSET_STR, peyes.constants.OFFSET_STR\n",
    "\n",
    "ALPHA = 0.05\n",
    "NUM_COMPARISONS = 6\n",
    "ALPHA_BONF = ALPHA / NUM_COMPARISONS  # Bonferroni correction for multiple comparisons - for MW U-tests\n",
    "\n",
    "# visualization constants\n",
    "GRID_LINE_COLOR, GRID_LINE_WIDTH = \"lightgray\", 1\n",
    "ZERO_LINE_WIDTH = 2 * GRID_LINE_WIDTH\n",
    "\n",
    "SINGLE_MEASURE_OPACITY, MEDIAN_OPACITY = 0.2, 1.0\n",
    "SINGLE_MEASURE_LINE = dict(width=2 * GRID_LINE_WIDTH)\n",
    "SINGLE_MEASURE_MARKER = dict(symbol=\"circle-open\", size=6 * GRID_LINE_WIDTH,)\n",
    "MEADIAN_LINE = dict(width=SINGLE_MEASURE_LINE['width'])\n",
    "MEADIAN_MARKER = dict(symbol=\"circle\", size=2 * SINGLE_MEASURE_MARKER['size'],)\n",
    "\n",
    "FONT_FAMILY, FONT_COLOR = \"Calibri\", \"black\"\n",
    "TITLE_FONT = dict(family=FONT_FAMILY, size=25, color=FONT_COLOR)\n",
    "SUBTITLE_FONT = dict(family=FONT_FAMILY, size=20, color=FONT_COLOR)\n",
    "AXIS_LABEL_FONT = dict(family=FONT_FAMILY, size=20, color=FONT_COLOR)\n",
    "AXIS_TICK_FONT = dict(family=FONT_FAMILY, size=18, color=FONT_COLOR)\n",
    "AXIS_LABEL_STANDOFF = 3"
   ],
   "id": "24c9b073df12c2f7",
   "outputs": [],
   "execution_count": 2
  },
  {
   "metadata": {
    "ExecuteTime": {
     "end_time": "2025-06-19T19:02:04.855176Z",
     "start_time": "2025-06-19T19:02:04.845160Z"
    }
   },
   "cell_type": "code",
   "source": [
    "def extract_subset(metric_df: pd.DataFrame, gt: str, pred: str) -> pd.DataFrame:\n",
    "    \"\"\" Extracts the subset of metrics for the given GT and PRED annotators. \"\"\"\n",
    "    return metric_df.xs(gt, level=u.GT_STR, axis=0, drop_level=True).xs(pred, level=u.PRED_STR, axis=0, drop_level=True)\n",
    "\n",
    "\n",
    "def human_annotators_figure(metric_df: pd.DataFrame, event_name: str) -> go.Figure:\n",
    "    # extract data\n",
    "    plot_data = pd.concat([extract_subset(metric_df, \"RA\", \"MN\"), extract_subset(metric_df, \"MN\", \"RA\")], axis=0, keys=[\"RA\", \"MN\"])\n",
    "    plot_data = plot_data.droplevel(peyes.constants.TRIAL_ID_STR)\n",
    "    plot_data.index.name, plot_data.columns.name = u.GT_STR, None\n",
    "    plot_data = plot_data.groupby(level=u.GT_STR)\n",
    "    plot_data = pd.concat([plot_data.mean().stack().rename(\"mean\"), plot_data.sem().stack().rename(\"sem\")], axis=1)\n",
    "    plot_data = plot_data.reset_index().rename(columns={\"level_1\": \"boundary\"})\n",
    "    plot_data[u.PRED_STR] = plot_data[u.GT_STR].map(lambda val: \"MN\" if val == \"RA\" else \"RA\")\n",
    "\n",
    "    fig = px.bar(\n",
    "        plot_data, x=u.PRED_STR, y=\"mean\", error_y=\"sem\", color=\"boundary\",\n",
    "        category_orders={u.PRED_STR: [\"MN\", \"RA\"], \"boundary\": [ONSET_STR, OFFSET_STR]},\n",
    "        hover_data=[u.GT_STR],\n",
    "        labels={u.PRED_STR: \"Pred. Annotator\", u.GT_STR: \"GT Annotator\", \"boundary\": \"Event Boundary\", \"mean\": r\"d'\", },\n",
    "        barmode='group',\n",
    "    )\n",
    "    fig.update_xaxes(\n",
    "        title=dict(font=AXIS_LABEL_FONT, standoff=AXIS_LABEL_STANDOFF),\n",
    "        showline=False,\n",
    "        showgrid=False, gridcolor=GRID_LINE_COLOR, gridwidth=GRID_LINE_WIDTH,\n",
    "        zeroline=False, zerolinecolor=GRID_LINE_COLOR, zerolinewidth=ZERO_LINE_WIDTH,\n",
    "        tickfont=AXIS_TICK_FONT,\n",
    "    )\n",
    "    fig.update_yaxes(\n",
    "        title=dict(font=AXIS_LABEL_FONT, standoff=AXIS_LABEL_STANDOFF),\n",
    "        showline=False,\n",
    "        showgrid=True, gridcolor=GRID_LINE_COLOR, gridwidth=GRID_LINE_WIDTH,\n",
    "        zeroline=True, zerolinecolor=GRID_LINE_COLOR, zerolinewidth=ZERO_LINE_WIDTH,\n",
    "        tickfont=AXIS_TICK_FONT,\n",
    "    )\n",
    "    fig.update_layout(\n",
    "        title=dict(text=f\"{event_name.capitalize()} Boundary Sensitivity Comparison (Human Annotators)\", font=TITLE_FONT),\n",
    "        width=800, height=450,\n",
    "        # paper_bgcolor='rgba(0, 0, 0, 0)',\n",
    "        plot_bgcolor='rgba(0, 0, 0, 0)',\n",
    "        legend=dict(\n",
    "            orientation=\"h\", yanchor=\"top\", xanchor=\"left\", xref='paper', yref='paper', x=-0.05, y=1.04, itemwidth=30,\n",
    "        ),\n",
    "        margin=dict(l=0, r=0, t=50, b=0, pad=0),\n",
    "    )\n",
    "    return fig\n",
    "\n",
    "\n",
    "def multi_detector_figure(metric_df: pd.DataFrame, event_name: str) -> go.Figure:\n",
    "\n",
    "    def _rename_detector(det: str) -> str:\n",
    "        if det in [GT1, GT2]:\n",
    "            return f\"2<sup>nd</sup> Ann.\"\n",
    "        if det.lower() == \"remodnav\":\n",
    "            return \"REMoDNaV\"\n",
    "        if det.lower().startswith(\"i\"):\n",
    "            return det.replace(\"i\", \"i-\").upper()\n",
    "        if det.lower() == \"all detectors\":\n",
    "            return \"all detectors\".title()\n",
    "        return det.upper()\n",
    "\n",
    "    fig = make_subplots(\n",
    "        rows=len([GT1, GT2]), cols=1, shared_xaxes=True, shared_yaxes=False,\n",
    "        subplot_titles=[f\"GT: <i>{gt}</i>\" for gt in [GT1, GT2]],\n",
    "        # x_title=\"Detector\",\n",
    "        vertical_spacing=0.005\n",
    "    )\n",
    "    ordered_detectors = sorted(metric_df.index.get_level_values(u.PRED_STR).unique(), key=lambda dett: LABELER_PLOTTING_CONFIG[dett][0])\n",
    "    ordered_detectors.append(\"all detectors\")\n",
    "    for r, gt in enumerate([GT1, GT2]):\n",
    "        for pred in ordered_detectors:\n",
    "            if pred.startswith(\"all\"):\n",
    "                subset = metric_df.xs(gt, level=u.GT_STR, axis=0, drop_level=True)\n",
    "                subset = subset.drop([\"RA\", \"MN\"], level=u.PRED_STR, axis=0, errors=\"ignore\")    # all detectors, exclude 2nd annotator\n",
    "                pred_color = u.DEFAULT_DISCRETE_COLORMAP[10]\n",
    "            else:\n",
    "                subset = metric_df.xs((gt, pred), level=[u.GT_STR, u.PRED_STR], axis=0, drop_level=True)    # only specific detector\n",
    "                pred_color = \"#bab0ac\" if pred in [GT1, GT2] else LABELER_PLOTTING_CONFIG[pred][1]\n",
    "            if subset.empty:\n",
    "                continue\n",
    "            pred_name = _rename_detector(pred)\n",
    "            xs = [[pred_name, pred_name], [ONSET_STR, OFFSET_STR]]\n",
    "            for _j, row in subset.iterrows():\n",
    "                onset, offset = row[ONSET_STR], row[OFFSET_STR]\n",
    "                fig.add_trace(\n",
    "                    row=r+1, col=1,\n",
    "                    trace=go.Scatter(\n",
    "                        x=xs, y=[onset, offset], mode='markers+lines',\n",
    "                        name=pred_name, legendgroup=pred_name, showlegend=False,\n",
    "                        marker={**SINGLE_MEASURE_MARKER, **{\"color\": pred_color}},\n",
    "                        line={**SINGLE_MEASURE_LINE, **{\"color\": pred_color}},\n",
    "                        opacity=SINGLE_MEASURE_OPACITY,\n",
    "                    )\n",
    "                )\n",
    "            fig.add_trace(\n",
    "                row=r+1, col=1,\n",
    "                trace=go.Scatter(\n",
    "                    x=xs, y=subset.median().values, mode='markers+lines',\n",
    "                    name=pred_name, legendgroup=pred_name, showlegend=r==0,\n",
    "                    marker={**MEADIAN_MARKER, **{\"color\": pred_color}},\n",
    "                    line={**MEADIAN_LINE, **{\"color\": pred_color}},\n",
    "                    opacity=MEDIAN_OPACITY,\n",
    "                )\n",
    "            )\n",
    "\n",
    "    # update layout\n",
    "    fig.for_each_annotation(lambda ann: ann.update(\n",
    "        font=SUBTITLE_FONT, textangle=0, xref='paper', xanchor=\"left\", x=0.01 if ann.text.startswith(\"GT:\") else 0.5,\n",
    "    ))\n",
    "    fig.update_xaxes(\n",
    "        title=dict(font=AXIS_LABEL_FONT),\n",
    "        showline=False,\n",
    "        showgrid=False, gridcolor=GRID_LINE_COLOR, gridwidth=GRID_LINE_WIDTH,\n",
    "        zeroline=False, zerolinecolor=GRID_LINE_COLOR, zerolinewidth=ZERO_LINE_WIDTH,\n",
    "        tickfont=AXIS_TICK_FONT, ticks=None, dividercolor=\"rgba(0, 0, 0, 0)\",\n",
    "    )\n",
    "    fig.update_yaxes(\n",
    "        title=dict(text=r\"$d'$\", font=AXIS_LABEL_FONT, standoff=10),\n",
    "        showline=False,\n",
    "        showgrid=True, gridcolor=GRID_LINE_COLOR, gridwidth=GRID_LINE_WIDTH,\n",
    "        zeroline=True, zerolinecolor=GRID_LINE_COLOR, zerolinewidth=ZERO_LINE_WIDTH,\n",
    "        tickfont=AXIS_TICK_FONT,\n",
    "    )\n",
    "    fig.update_layout(\n",
    "        title=dict(\n",
    "            text=f\"{event_name.capitalize()} Boundary Sensitivity\", font=TITLE_FONT,\n",
    "            xanchor=\"center\", xref='paper', x=0.5,\n",
    "        ),\n",
    "        width=1200, height=500,\n",
    "        # paper_bgcolor='rgba(0, 0, 0, 0)',\n",
    "        plot_bgcolor='rgba(0, 0, 0, 0)',\n",
    "        margin=dict(l=0, r=0, t=40, b=20, pad=0),\n",
    "        legend=dict(\n",
    "            font=AXIS_TICK_FONT,\n",
    "            orientation=\"h\", yanchor=\"top\", xanchor=\"center\", xref='paper', yref='paper', x=0.5, y=-0.125,\n",
    "            visible=False,\n",
    "        ),\n",
    "    )\n",
    "    return fig"
   ],
   "id": "9747b1a2412ba8d3",
   "outputs": [],
   "execution_count": 3
  },
  {
   "metadata": {},
   "cell_type": "markdown",
   "source": [
    "## Saccade Onset vs. Offset\n",
    "We compare the sensitivity ($d'$) to saccade onsets vs. offsets across all trials, using Wilcoxon's Signed-Rank test. We hypothesize that **saccade onset has higher $d'$ than saccade offset**."
   ],
   "id": "1e5100eae61aa16b"
  },
  {
   "metadata": {},
   "cell_type": "markdown",
   "source": "## Load Data",
   "id": "22ee60e03b4ef27f"
  },
  {
   "metadata": {
    "ExecuteTime": {
     "end_time": "2025-06-19T19:02:05.345934Z",
     "start_time": "2025-06-19T19:02:04.874996Z"
    }
   },
   "cell_type": "code",
   "source": [
    "ALTERNATIVE = \"greater\"  # alternative hypothesis for the Wilcoxon test\n",
    "EVENT_LABEL = 2     # EventLabelEnum.SACCADE.value\n",
    "metrics = ch_sdt.load(\n",
    "    dataset_name=DATASET_NAME,\n",
    "    output_dir=PROCESSED_DATA_DIR,\n",
    "    label=EVENT_LABEL,\n",
    "    stimulus_type=STIMULUS_TYPE,\n",
    "    threshold=THRESHOLD,\n",
    "    channel_type=None,\n",
    ")\n",
    "\n",
    "# Remove unused columns (metrics) and index levels\n",
    "metrics.drop(index=['P', 'PP', 'N', 'TP'], level=peyes.constants.METRIC_STR, inplace=True)\n",
    "metrics = metrics.droplevel('threshold')\n",
    "\n",
    "# extract subset of the relevant `METRIC`\n",
    "d_prime = metrics.xs(METRIC, level=peyes.constants.METRIC_STR, axis=0, drop_level=True).T\n",
    "d_prime.columns.name = None\n",
    "d_prime"
   ],
   "id": "a6356aad3828ede7",
   "outputs": [
    {
     "data": {
      "text/plain": [
       "                         onset    offset\n",
       "trial_id gt pred                        \n",
       "25       RA engbert   4.989576  1.777960\n",
       "            idt       3.187557  0.881339\n",
       "            ivt       4.935210  3.164184\n",
       "            nh        1.792695  2.201913\n",
       "            idvt      3.187557  0.881339\n",
       "...                        ...       ...\n",
       "44       MN nh        2.660013  1.251726\n",
       "            idvt      1.707312  1.707312\n",
       "            RA        5.091656  5.091656\n",
       "            remodnav  4.807632  4.013900\n",
       "            ivvt      3.633177  1.955846\n",
       "\n",
       "[266 rows x 2 columns]"
      ],
      "text/html": [
       "<div>\n",
       "<style scoped>\n",
       "    .dataframe tbody tr th:only-of-type {\n",
       "        vertical-align: middle;\n",
       "    }\n",
       "\n",
       "    .dataframe tbody tr th {\n",
       "        vertical-align: top;\n",
       "    }\n",
       "\n",
       "    .dataframe thead th {\n",
       "        text-align: right;\n",
       "    }\n",
       "</style>\n",
       "<table border=\"1\" class=\"dataframe\">\n",
       "  <thead>\n",
       "    <tr style=\"text-align: right;\">\n",
       "      <th></th>\n",
       "      <th></th>\n",
       "      <th></th>\n",
       "      <th>onset</th>\n",
       "      <th>offset</th>\n",
       "    </tr>\n",
       "    <tr>\n",
       "      <th>trial_id</th>\n",
       "      <th>gt</th>\n",
       "      <th>pred</th>\n",
       "      <th></th>\n",
       "      <th></th>\n",
       "    </tr>\n",
       "  </thead>\n",
       "  <tbody>\n",
       "    <tr>\n",
       "      <th rowspan=\"5\" valign=\"top\">25</th>\n",
       "      <th rowspan=\"5\" valign=\"top\">RA</th>\n",
       "      <th>engbert</th>\n",
       "      <td>4.989576</td>\n",
       "      <td>1.777960</td>\n",
       "    </tr>\n",
       "    <tr>\n",
       "      <th>idt</th>\n",
       "      <td>3.187557</td>\n",
       "      <td>0.881339</td>\n",
       "    </tr>\n",
       "    <tr>\n",
       "      <th>ivt</th>\n",
       "      <td>4.935210</td>\n",
       "      <td>3.164184</td>\n",
       "    </tr>\n",
       "    <tr>\n",
       "      <th>nh</th>\n",
       "      <td>1.792695</td>\n",
       "      <td>2.201913</td>\n",
       "    </tr>\n",
       "    <tr>\n",
       "      <th>idvt</th>\n",
       "      <td>3.187557</td>\n",
       "      <td>0.881339</td>\n",
       "    </tr>\n",
       "    <tr>\n",
       "      <th>...</th>\n",
       "      <th>...</th>\n",
       "      <th>...</th>\n",
       "      <td>...</td>\n",
       "      <td>...</td>\n",
       "    </tr>\n",
       "    <tr>\n",
       "      <th rowspan=\"5\" valign=\"top\">44</th>\n",
       "      <th rowspan=\"5\" valign=\"top\">MN</th>\n",
       "      <th>nh</th>\n",
       "      <td>2.660013</td>\n",
       "      <td>1.251726</td>\n",
       "    </tr>\n",
       "    <tr>\n",
       "      <th>idvt</th>\n",
       "      <td>1.707312</td>\n",
       "      <td>1.707312</td>\n",
       "    </tr>\n",
       "    <tr>\n",
       "      <th>RA</th>\n",
       "      <td>5.091656</td>\n",
       "      <td>5.091656</td>\n",
       "    </tr>\n",
       "    <tr>\n",
       "      <th>remodnav</th>\n",
       "      <td>4.807632</td>\n",
       "      <td>4.013900</td>\n",
       "    </tr>\n",
       "    <tr>\n",
       "      <th>ivvt</th>\n",
       "      <td>3.633177</td>\n",
       "      <td>1.955846</td>\n",
       "    </tr>\n",
       "  </tbody>\n",
       "</table>\n",
       "<p>266 rows × 2 columns</p>\n",
       "</div>"
      ]
     },
     "execution_count": 4,
     "metadata": {},
     "output_type": "execute_result"
    }
   ],
   "execution_count": 4
  },
  {
   "metadata": {},
   "cell_type": "markdown",
   "source": [
    "### Human Annotator Sensitivity Comparison\n",
    "Using each annotator (_RA_, _MN_) as GT and the other one as PRED, we compare PRED's sensitivity to **saccade** onset vs. offset in a within-trial design - using the Wilcoxon Signed-Rank test."
   ],
   "id": "9458d948cf39e5a4"
  },
  {
   "metadata": {
    "ExecuteTime": {
     "end_time": "2025-06-19T19:02:05.692125Z",
     "start_time": "2025-06-19T19:02:05.375091Z"
    }
   },
   "cell_type": "code",
   "source": [
    "# using RA as GT and MN as PRED\n",
    "gt, pred = \"RA\", \"MN\"\n",
    "gt_ra_pred_mn = extract_subset(d_prime, gt, pred)\n",
    "diffs = np.round(gt_ra_pred_mn[ONSET_STR] - gt_ra_pred_mn[OFFSET_STR], decimals=3)\n",
    "wilx_res = wilcoxon(diffs, alternative=ALTERNATIVE, zero_method=\"pratt\")\n",
    "W_mn, p_mn = wilx_res\n",
    "print(f\"GT: {gt}\\tPRED: {pred}\\t::\\tW={W_mn},\\t\\tp={p_mn:.5f},\\tonset-offset diff: {diffs.mean():.2f} (±{diffs.sem():.2f} s.e.m.),\\tN={len(diffs)}\")\n",
    "\n",
    "# using MN as GT and RA as PRED\n",
    "gt, pred = \"MN\", \"RA\"\n",
    "gt_mn_pred_ra = extract_subset(d_prime, gt, pred)\n",
    "diffs = np.round(gt_mn_pred_ra[ONSET_STR] - gt_mn_pred_ra[OFFSET_STR], decimals=3)\n",
    "wilx_res = wilcoxon(diffs, alternative=ALTERNATIVE, zero_method=\"pratt\")\n",
    "W_mn, p_mn = wilx_res\n",
    "print(f\"GT: {gt}\\tPRED: {pred}\\t::\\tW={W_mn},\\t\\tp={p_mn:.5f},\\tonset-offset diff: {diffs.mean():.2f} (±{diffs.sem():.2f} s.e.m.),\\tN={len(diffs)}\")\n",
    "\n",
    "# create a bar-plot figure for the human annotators\n",
    "fig = human_annotators_figure(d_prime, \"saccade\")\n",
    "# fig.update_layout(\n",
    "#     paper_bgcolor='rgba(0, 0, 0, 0)',\n",
    "# )\n",
    "fig.show()"
   ],
   "id": "41ccea4949b6dbea",
   "outputs": [
    {
     "name": "stdout",
     "output_type": "stream",
     "text": [
      "GT: RA\tPRED: MN\t::\tW=96.0,\t\tp=0.00231,\tonset-offset diff: 0.88 (±0.25 s.e.m.),\tN=14\n",
      "GT: MN\tPRED: RA\t::\tW=99.0,\t\tp=0.00126,\tonset-offset diff: 0.94 (±0.20 s.e.m.),\tN=14\n"
     ]
    }
   ],
   "execution_count": 5
  },
  {
   "metadata": {},
   "cell_type": "markdown",
   "source": [
    "### Within-Detector Comparisons (across detectors)\n",
    "We compare **saccade** onset vs. offset $d'$ scores using a within-detector comparison across all detectors. We use Wilcoxon's Signed-Rank test on the difference of $d'$ scores, across all trials and detectors but split between annotator _RA_ and _MN_. We hypothesize that **saccade onset has higher $d'$ that saccade offset**."
   ],
   "id": "fb60553f45b2ffc4"
  },
  {
   "metadata": {
    "ExecuteTime": {
     "end_time": "2025-06-19T19:02:07.917959Z",
     "start_time": "2025-06-19T19:02:05.726110Z"
    }
   },
   "cell_type": "code",
   "source": [
    "# extract the data\n",
    "d_prime_no_humans = d_prime.drop([\"MN\", \"RA\"], level=u.PRED_STR, axis=0)    # exclude humans from PRED column (only include algs)\n",
    "all_diffs = np.round(d_prime_no_humans[ONSET_STR] - d_prime_no_humans[OFFSET_STR], decimals=3)  # calculate onset-offset differences\n",
    "print(f\"Median Onset:\\tGT-RA:{d_prime_no_humans.xs(\"RA\", level=u.GT_STR)[ONSET_STR].median():.3f}\\tGT-MN:{d_prime_no_humans.xs(\"MN\", level=u.GT_STR)[ONSET_STR].median():.3f}\")\n",
    "print(f\"Median Offset:\\tGT-RA:{d_prime_no_humans.xs(\"RA\", level=u.GT_STR)[OFFSET_STR].median():.3f}\\tGT-MN:{d_prime_no_humans.xs(\"MN\", level=u.GT_STR)[OFFSET_STR].median():.3f}\")\n",
    "\n",
    "gt = \"RA\"\n",
    "diffs = all_diffs.xs(gt, level=u.GT_STR)\n",
    "wilx_res = wilcoxon(diffs.values, alternative=ALTERNATIVE, zero_method=\"pratt\")\n",
    "W_ra, p_ra = wilx_res\n",
    "print(f\"GT: {gt}\\t::\\tW={W_ra},\\t\\tp={p_ra:.8f},\\tonset-offset diff: {diffs.mean():.2f} (±{diffs.sem():.2f} s.e.m.),\\tN={len(diffs)}\")\n",
    "\n",
    "gt = \"MN\"\n",
    "diffs = all_diffs.xs(gt, level=u.GT_STR)\n",
    "wilx_res = wilcoxon(diffs.values, alternative=ALTERNATIVE, zero_method=\"pratt\")\n",
    "W_mn, p_mn = wilx_res\n",
    "print(f\"GT: {gt}\\t::\\tW={W_mn},\\t\\tp={p_mn:.8f},\\tonset-offset diff: {diffs.mean():.2f} (±{diffs.sem():.2f} s.e.m.),\\tN={len(diffs)}\")\n",
    "\n",
    "# create the figure\n",
    "fig = multi_detector_figure(d_prime, \"saccade\")    # or use `d_prime_no_humans` to exclude human annotators from the plot\n",
    "fig.update_layout(\n",
    "    title=None,\n",
    "    paper_bgcolor='rgba(0, 0, 0, 0)',\n",
    ")\n",
    "\n",
    "fig.write_image(os.path.join(FIGURES_DIR, f\"fig6-saccade.png\"), scale=3)\n",
    "fig.write_json(os.path.join(FIGURES_DIR, f\"fig6-saccade.json\"))\n",
    "fig.show()"
   ],
   "id": "6899feb5787ad0a7",
   "outputs": [
    {
     "name": "stdout",
     "output_type": "stream",
     "text": [
      "Median Onset:\tGT-RA:3.167\tGT-MN:3.275\n",
      "Median Offset:\tGT-RA:1.900\tGT-MN:1.603\n",
      "GT: RA\t::\tW=9348.0,\t\tp=0.00000000,\tonset-offset diff: 1.49 (±0.10 s.e.m.),\tN=140\n",
      "GT: MN\t::\tW=4671.0,\t\tp=0.00000000,\tonset-offset diff: 1.56 (±0.12 s.e.m.),\tN=98\n"
     ]
    }
   ],
   "execution_count": 6
  },
  {
   "metadata": {},
   "cell_type": "markdown",
   "source": [
    "### Pairwise Comparisons: Engbert vs. REmoDNaV\n",
    "We compare **saccade** detection sensitivity ($d'$) between the _Engbert_ and _REMoDNaV_ detectors, using the Mann-Whitney U-test, **to determine if the ability to detect PSOs at the end of saccades (REMoDNaV) improve saccade detection sensitivity compared to Engbert** (the null hypothesis is that PSO detection does not imrpove or impede saccade detection sensitivity).\n",
    "We perform three comparisons (applying a Bonferroni correction for multiple comparisons):\n",
    "1. **Onset**: determine which has higher onset detection sensitivity.\n",
    "2. **Offset**: determine which has higher saccade offset detection sensitivity.\n",
    "3. **Diffs**: compare the absolute differences of $d'$ scores between onset and offset, for both detectors (i.e., $|\\Delta d'| := |d'_{onset} - d'_{offset}|$). This is a diff-of-diffs comparison, comparing the **stability** of detection sensitivity."
   ],
   "id": "f0c6d69431191b18"
  },
  {
   "metadata": {
    "ExecuteTime": {
     "end_time": "2025-06-19T19:02:08.093248Z",
     "start_time": "2025-06-19T19:02:08.090243Z"
    }
   },
   "cell_type": "code",
   "source": "ALTERNATIVE = \"two-sided\"",
   "id": "681e1e8be3b2f80c",
   "outputs": [],
   "execution_count": 7
  },
  {
   "metadata": {},
   "cell_type": "markdown",
   "source": "##### GT Annotator: _RA_",
   "id": "1e9ddea21c851e1f"
  },
  {
   "metadata": {
    "ExecuteTime": {
     "end_time": "2025-06-19T19:02:08.192810Z",
     "start_time": "2025-06-19T19:02:08.183952Z"
    }
   },
   "cell_type": "code",
   "source": [
    "GT = \"RA\"\n",
    "\n",
    "remodnav_scores = extract_subset(d_prime, GT, \"remodnav\")\n",
    "engbert_scores = extract_subset(d_prime, GT, \"engbert\")\n",
    "\n",
    "# (1) Onset Comparison\n",
    "print(\"##################\")\n",
    "print(f\"(1) Onset Comparison ({GT})\")\n",
    "remodnav_onset, engbert_onset = remodnav_scores[ONSET_STR], engbert_scores[ONSET_STR]\n",
    "print(f\"REMoDNaV Onset:\\t{remodnav_onset.mean():.2f} (±{remodnav_onset.sem():.2f} s.e.m.),\\tN={len(remodnav_onset)}\")\n",
    "print(f\"Engbert Onset:\\t{engbert_onset.mean():.2f} (±{engbert_onset.sem():.2f} s.e.m.),\\tN={len(engbert_onset)}\")\n",
    "posthoc_onset = mannwhitneyu(remodnav_onset, engbert_onset, alternative=ALTERNATIVE)\n",
    "print(f\"Onset Results:\\tU={posthoc_onset.statistic:.1f},\\tp={posthoc_onset.pvalue:.4f}\")\n",
    "print(\"Significant!\" if posthoc_onset.pvalue <= ALPHA_BONF else \"Not significant.\")\n",
    "\n",
    "# (2) Offset Comparison\n",
    "print(\"\\n##################\")\n",
    "print(f\"(2) Offset Comparison ({GT})\")\n",
    "remodnav_offset, engbert_offset = remodnav_scores[OFFSET_STR], engbert_scores[OFFSET_STR]\n",
    "print(f\"REMoDNaV Offset:\\t{remodnav_offset.mean():.2f} (±{remodnav_offset.sem():.2f} s.e.m.),\\tN={len(remodnav_offset)}\")\n",
    "print(f\"Engbert Offset:\\t{engbert_offset.mean():.2f} (±{engbert_offset.sem():.2f} s.e.m.),\\tN={len(engbert_offset)}\")\n",
    "posthoc_offset = mannwhitneyu(remodnav_offset, engbert_offset, alternative=ALTERNATIVE)\n",
    "print(f\"Offset Results:\\tU={posthoc_offset.statistic:.1f},\\tp={posthoc_offset.pvalue:.4f}\")\n",
    "print(\"Significant!\" if posthoc_offset.pvalue <= ALPHA_BONF else \"Not significant.\")\n",
    "\n",
    "# (3) Diffs Comparison\n",
    "print(\"\\n##################\")\n",
    "print(f\"(3) Diffs Comparison ({GT})\")\n",
    "remodnav_diffs = abs(remodnav_onset - remodnav_offset)\n",
    "engbert_diffs = abs(engbert_onset - engbert_offset)\n",
    "print(f\"REMoDNaV Abs-Diffs:\\t{remodnav_diffs.mean():.2f} (±{remodnav_diffs.sem():.2f} s.e.m.),\\tN={len(remodnav_diffs)}\")\n",
    "print(f\"Engbert Abs-Diffs:\\t{engbert_diffs.mean():.2f} (±{engbert_diffs.sem():.2f} s.e.m.),\\tN={len(engbert_diffs)}\")\n",
    "\n",
    "diff_of_diffs = np.round(remodnav_diffs - engbert_diffs, decimals=3)\n",
    "posthoc_diffs = mannwhitneyu(remodnav_diffs, engbert_diffs, alternative=ALTERNATIVE)\n",
    "print(f\"Diffs Results:\\tU={posthoc_diffs.statistic:.1f},\\tp={posthoc_diffs.pvalue:.4f},\\tdiff={diff_of_diffs.mean():.2f} (±{diff_of_diffs.sem():.2f} s.e.m.),\\tN={len(diff_of_diffs)}\")\n",
    "print(\"Significant!\" if posthoc_diffs.pvalue <= ALPHA_BONF else \"Not significant.\")"
   ],
   "id": "1a7d94294677c603",
   "outputs": [
    {
     "name": "stdout",
     "output_type": "stream",
     "text": [
      "##################\n",
      "(1) Onset Comparison (RA)\n",
      "REMoDNaV Onset:\t4.58 (±0.14 s.e.m.),\tN=20\n",
      "Engbert Onset:\t4.36 (±0.17 s.e.m.),\tN=20\n",
      "Onset Results:\tU=209.0,\tp=0.8181\n",
      "Not significant.\n",
      "\n",
      "##################\n",
      "(2) Offset Comparison (RA)\n",
      "REMoDNaV Offset:\t2.87 (±0.16 s.e.m.),\tN=20\n",
      "Engbert Offset:\t1.77 (±0.21 s.e.m.),\tN=20\n",
      "Offset Results:\tU=336.0,\tp=0.0002\n",
      "Significant!\n",
      "\n",
      "##################\n",
      "(3) Diffs Comparison (RA)\n",
      "REMoDNaV Abs-Diffs:\t1.71 (±0.22 s.e.m.),\tN=20\n",
      "Engbert Abs-Diffs:\t2.59 (±0.23 s.e.m.),\tN=20\n",
      "Diffs Results:\tU=106.0,\tp=0.0114,\tdiff=-0.88 (±0.15 s.e.m.),\tN=20\n",
      "Not significant.\n"
     ]
    }
   ],
   "execution_count": 8
  },
  {
   "metadata": {},
   "cell_type": "markdown",
   "source": "##### GT Annotator: _MN_",
   "id": "7347139c9ce1f5b5"
  },
  {
   "metadata": {
    "ExecuteTime": {
     "end_time": "2025-06-19T19:02:08.295920Z",
     "start_time": "2025-06-19T19:02:08.285973Z"
    }
   },
   "cell_type": "code",
   "source": [
    "GT = \"MN\"\n",
    "\n",
    "remodnav_scores = extract_subset(d_prime, GT, \"remodnav\")\n",
    "engbert_scores = extract_subset(d_prime, GT, \"engbert\")\n",
    "\n",
    "# (1) Onset Comparison\n",
    "print(\"##################\")\n",
    "print(f\"(1) Onset Comparison ({GT})\")\n",
    "remodnav_onset, engbert_onset = remodnav_scores[ONSET_STR], engbert_scores[ONSET_STR]\n",
    "print(f\"REMoDNaV Onset:\\t{remodnav_onset.mean():.2f} (±{remodnav_onset.sem():.2f} s.e.m.),\\tN={len(remodnav_onset)}\")\n",
    "print(f\"Engbert Onset:\\t{engbert_onset.mean():.2f} (±{engbert_onset.sem():.2f} s.e.m.),\\tN={len(engbert_onset)}\")\n",
    "posthoc_onset = mannwhitneyu(remodnav_onset, engbert_onset, alternative=ALTERNATIVE)\n",
    "print(f\"Onset Results:\\tU={posthoc_onset.statistic:.1f},\\tp={posthoc_onset.pvalue:.4f}\")\n",
    "print(\"Significant!\" if posthoc_onset.pvalue <= ALPHA_BONF else \"Not significant.\")\n",
    "\n",
    "# (2) Offset Comparison\n",
    "print(\"\\n##################\")\n",
    "print(f\"(2) Offset Comparison ({GT})\")\n",
    "remodnav_offset, engbert_offset = remodnav_scores[OFFSET_STR], engbert_scores[OFFSET_STR]\n",
    "print(f\"REMoDNaV Offset:\\t{remodnav_offset.mean():.2f} (±{remodnav_offset.sem():.2f} s.e.m.),\\tN={len(remodnav_offset)}\")\n",
    "print(f\"Engbert Offset:\\t{engbert_offset.mean():.2f} (±{engbert_offset.sem():.2f} s.e.m.),\\tN={len(engbert_offset)}\")\n",
    "posthoc_offset = mannwhitneyu(remodnav_offset, engbert_offset, alternative=ALTERNATIVE)\n",
    "print(f\"Offset Results:\\tU={posthoc_offset.statistic:.1f},\\tp={posthoc_offset.pvalue:.5f}\")\n",
    "print(\"Significant!\" if posthoc_offset.pvalue <= ALPHA_BONF else \"Not significant.\")\n",
    "\n",
    "# (3) Diffs Comparison\n",
    "print(\"\\n##################\")\n",
    "print(f\"(3) Diffs Comparison ({GT})\")\n",
    "remodnav_diffs = abs(remodnav_onset - remodnav_offset)\n",
    "engbert_diffs = abs(engbert_onset - engbert_offset)\n",
    "print(f\"REMoDNaV Abs-Diffs:\\t{remodnav_diffs.mean():.2f} (±{remodnav_diffs.sem():.2f} s.e.m.),\\tN={len(remodnav_diffs)}\")\n",
    "print(f\"Engbert Abs-Diffs:\\t{engbert_diffs.mean():.2f} (±{engbert_diffs.sem():.2f} s.e.m.),\\tN={len(engbert_diffs)}\")\n",
    "\n",
    "diff_of_diffs = np.round(remodnav_diffs - engbert_diffs, decimals=3)\n",
    "posthoc_diffs = mannwhitneyu(remodnav_diffs, engbert_diffs, alternative=ALTERNATIVE)\n",
    "print(f\"Diffs Results:\\tU={posthoc_diffs.statistic:.1f},\\tp={posthoc_diffs.pvalue:.4f},\\tdiff={diff_of_diffs.mean():.2f} (±{diff_of_diffs.sem():.2f} s.e.m.),\\tN={len(diff_of_diffs)}\")\n",
    "print(\"Significant!\" if posthoc_diffs.pvalue <= ALPHA_BONF else \"Not significant.\")"
   ],
   "id": "19fb87348b72a016",
   "outputs": [
    {
     "name": "stdout",
     "output_type": "stream",
     "text": [
      "##################\n",
      "(1) Onset Comparison (MN)\n",
      "REMoDNaV Onset:\t4.59 (±0.15 s.e.m.),\tN=14\n",
      "Engbert Onset:\t4.23 (±0.20 s.e.m.),\tN=14\n",
      "Onset Results:\tU=119.0,\tp=0.3462\n",
      "Not significant.\n",
      "\n",
      "##################\n",
      "(2) Offset Comparison (MN)\n",
      "REMoDNaV Offset:\t2.88 (±0.21 s.e.m.),\tN=14\n",
      "Engbert Offset:\t1.35 (±0.18 s.e.m.),\tN=14\n",
      "Offset Results:\tU=187.0,\tp=0.00005\n",
      "Significant!\n",
      "\n",
      "##################\n",
      "(3) Diffs Comparison (MN)\n",
      "REMoDNaV Abs-Diffs:\t1.71 (±0.26 s.e.m.),\tN=14\n",
      "Engbert Abs-Diffs:\t2.88 (±0.17 s.e.m.),\tN=14\n",
      "Diffs Results:\tU=28.0,\tp=0.0014,\tdiff=-1.17 (±0.22 s.e.m.),\tN=14\n",
      "Significant!\n"
     ]
    }
   ],
   "execution_count": 9
  },
  {
   "metadata": {
    "ExecuteTime": {
     "end_time": "2025-06-19T19:02:08.389554Z",
     "start_time": "2025-06-19T19:02:08.387544Z"
    }
   },
   "cell_type": "code",
   "source": "",
   "id": "d1592dd9163a25dd",
   "outputs": [],
   "execution_count": null
  },
  {
   "metadata": {
    "ExecuteTime": {
     "end_time": "2025-06-19T19:02:08.480540Z",
     "start_time": "2025-06-19T19:02:08.477859Z"
    }
   },
   "cell_type": "code",
   "source": "",
   "id": "8ab924ea7b01f284",
   "outputs": [],
   "execution_count": null
  },
  {
   "metadata": {},
   "cell_type": "markdown",
   "source": [
    "## Fixation Onset vs. Offset\n",
    "We compare the sensitivity ($d'$) to fixation onsets vs. offsets across all trials, using Wilcoxon's Signed-Rank test. We hypothesize that **fixation onset has lower $d'$ than fixation offset**."
   ],
   "id": "27d384fe82850366"
  },
  {
   "metadata": {},
   "cell_type": "markdown",
   "source": "## Load Data",
   "id": "e2fa28265969618a"
  },
  {
   "metadata": {
    "ExecuteTime": {
     "end_time": "2025-06-19T19:02:08.684996Z",
     "start_time": "2025-06-19T19:02:08.484990Z"
    }
   },
   "cell_type": "code",
   "source": [
    "ALTERNATIVE = \"less\"  # alternative hypothesis for the Wilcoxon test\n",
    "EVENT_LABEL = 1     # EventLabelEnum.FIXATION.value\n",
    "metrics = ch_sdt.load(\n",
    "    dataset_name=DATASET_NAME,\n",
    "    output_dir=PROCESSED_DATA_DIR,\n",
    "    label=EVENT_LABEL,\n",
    "    stimulus_type=STIMULUS_TYPE,\n",
    "    threshold=THRESHOLD,\n",
    "    channel_type=None,\n",
    ")\n",
    "\n",
    "# Remove unused columns (metrics) and index levels\n",
    "metrics.drop(index=['P', 'PP', 'N', 'TP'], level=peyes.constants.METRIC_STR, inplace=True)\n",
    "metrics = metrics.droplevel('threshold')\n",
    "\n",
    "# extract subset of the relevant `METRIC`\n",
    "d_prime = metrics.xs(METRIC, level=peyes.constants.METRIC_STR, axis=0, drop_level=True).T\n",
    "d_prime.columns.name = None\n",
    "d_prime"
   ],
   "id": "39d81e31f622a367",
   "outputs": [
    {
     "data": {
      "text/plain": [
       "                         onset    offset\n",
       "trial_id gt pred                        \n",
       "25       RA engbert   3.997164  5.048805\n",
       "            idt      -0.051561  2.777103\n",
       "            ivt       2.174709  3.598462\n",
       "            nh        2.542822  1.872691\n",
       "            idvt     -0.051561  2.777103\n",
       "...                        ...       ...\n",
       "44       MN nh        2.410594  3.047152\n",
       "            idvt     -0.508018  2.545828\n",
       "            RA        3.759736  4.011339\n",
       "            remodnav  1.618094  1.618094\n",
       "            ivvt      2.241020  4.312099\n",
       "\n",
       "[266 rows x 2 columns]"
      ],
      "text/html": [
       "<div>\n",
       "<style scoped>\n",
       "    .dataframe tbody tr th:only-of-type {\n",
       "        vertical-align: middle;\n",
       "    }\n",
       "\n",
       "    .dataframe tbody tr th {\n",
       "        vertical-align: top;\n",
       "    }\n",
       "\n",
       "    .dataframe thead th {\n",
       "        text-align: right;\n",
       "    }\n",
       "</style>\n",
       "<table border=\"1\" class=\"dataframe\">\n",
       "  <thead>\n",
       "    <tr style=\"text-align: right;\">\n",
       "      <th></th>\n",
       "      <th></th>\n",
       "      <th></th>\n",
       "      <th>onset</th>\n",
       "      <th>offset</th>\n",
       "    </tr>\n",
       "    <tr>\n",
       "      <th>trial_id</th>\n",
       "      <th>gt</th>\n",
       "      <th>pred</th>\n",
       "      <th></th>\n",
       "      <th></th>\n",
       "    </tr>\n",
       "  </thead>\n",
       "  <tbody>\n",
       "    <tr>\n",
       "      <th rowspan=\"5\" valign=\"top\">25</th>\n",
       "      <th rowspan=\"5\" valign=\"top\">RA</th>\n",
       "      <th>engbert</th>\n",
       "      <td>3.997164</td>\n",
       "      <td>5.048805</td>\n",
       "    </tr>\n",
       "    <tr>\n",
       "      <th>idt</th>\n",
       "      <td>-0.051561</td>\n",
       "      <td>2.777103</td>\n",
       "    </tr>\n",
       "    <tr>\n",
       "      <th>ivt</th>\n",
       "      <td>2.174709</td>\n",
       "      <td>3.598462</td>\n",
       "    </tr>\n",
       "    <tr>\n",
       "      <th>nh</th>\n",
       "      <td>2.542822</td>\n",
       "      <td>1.872691</td>\n",
       "    </tr>\n",
       "    <tr>\n",
       "      <th>idvt</th>\n",
       "      <td>-0.051561</td>\n",
       "      <td>2.777103</td>\n",
       "    </tr>\n",
       "    <tr>\n",
       "      <th>...</th>\n",
       "      <th>...</th>\n",
       "      <th>...</th>\n",
       "      <td>...</td>\n",
       "      <td>...</td>\n",
       "    </tr>\n",
       "    <tr>\n",
       "      <th rowspan=\"5\" valign=\"top\">44</th>\n",
       "      <th rowspan=\"5\" valign=\"top\">MN</th>\n",
       "      <th>nh</th>\n",
       "      <td>2.410594</td>\n",
       "      <td>3.047152</td>\n",
       "    </tr>\n",
       "    <tr>\n",
       "      <th>idvt</th>\n",
       "      <td>-0.508018</td>\n",
       "      <td>2.545828</td>\n",
       "    </tr>\n",
       "    <tr>\n",
       "      <th>RA</th>\n",
       "      <td>3.759736</td>\n",
       "      <td>4.011339</td>\n",
       "    </tr>\n",
       "    <tr>\n",
       "      <th>remodnav</th>\n",
       "      <td>1.618094</td>\n",
       "      <td>1.618094</td>\n",
       "    </tr>\n",
       "    <tr>\n",
       "      <th>ivvt</th>\n",
       "      <td>2.241020</td>\n",
       "      <td>4.312099</td>\n",
       "    </tr>\n",
       "  </tbody>\n",
       "</table>\n",
       "<p>266 rows × 2 columns</p>\n",
       "</div>"
      ]
     },
     "execution_count": 10,
     "metadata": {},
     "output_type": "execute_result"
    }
   ],
   "execution_count": 10
  },
  {
   "metadata": {},
   "cell_type": "markdown",
   "source": [
    "### Human Annotator Sensitivity Comparison\n",
    "Using each annotator (_RA_, _MN_) as GT and the other one as PRED, we compare PRED's sensitivity to **fixation** onset vs. offset in a within-trial design - using the Wilcoxon Signed-Rank test."
   ],
   "id": "64d753480578f1ce"
  },
  {
   "metadata": {
    "ExecuteTime": {
     "end_time": "2025-06-19T19:02:09.073989Z",
     "start_time": "2025-06-19T19:02:08.866160Z"
    }
   },
   "cell_type": "code",
   "source": [
    "# using RA as GT and MN as PRED\n",
    "gt, pred = \"RA\", \"MN\"\n",
    "gt_ra_pred_mn = extract_subset(d_prime, gt, pred)\n",
    "diffs = np.round(gt_ra_pred_mn[ONSET_STR] - gt_ra_pred_mn[OFFSET_STR], decimals=3)\n",
    "wilx_res = wilcoxon(diffs, alternative=ALTERNATIVE, zero_method=\"pratt\")\n",
    "W_mn, p_mn = wilx_res\n",
    "print(f\"GT: {gt}\\tPRED: {pred}\\t::\\tW={W_mn},\\t\\tp={p_mn:.5f},\\tonset-offset diff: {diffs.mean():.2f} (±{diffs.sem():.2f} s.e.m.),\\tN={len(diffs)}\")\n",
    "\n",
    "# using MN as GT and RA as PRED\n",
    "gt, pred = \"MN\", \"RA\"\n",
    "gt_mn_pred_ra = extract_subset(d_prime, gt, pred)\n",
    "diffs = np.round(gt_mn_pred_ra[ONSET_STR] - gt_mn_pred_ra[OFFSET_STR], decimals=3)\n",
    "wilx_res = wilcoxon(diffs, alternative=ALTERNATIVE, zero_method=\"pratt\")\n",
    "W_mn, p_mn = wilx_res\n",
    "print(f\"GT: {gt}\\tPRED: {pred}\\t::\\tW={W_mn},\\t\\tp={p_mn:.5f},\\tonset-offset diff: {diffs.mean():.2f} (±{diffs.sem():.2f} s.e.m.),\\tN={len(diffs)}\")\n",
    "\n",
    "# create a bar-plot figure for the human annotators\n",
    "fig = human_annotators_figure(d_prime, \"fixation\")\n",
    "fig.show()"
   ],
   "id": "58b38535b69080e4",
   "outputs": [
    {
     "name": "stdout",
     "output_type": "stream",
     "text": [
      "GT: RA\tPRED: MN\t::\tW=0.0,\t\tp=0.00055,\tonset-offset diff: -1.57 (±0.22 s.e.m.),\tN=14\n",
      "GT: MN\tPRED: RA\t::\tW=0.0,\t\tp=0.00055,\tonset-offset diff: -1.36 (±0.20 s.e.m.),\tN=14\n"
     ]
    }
   ],
   "execution_count": 11
  },
  {
   "metadata": {},
   "cell_type": "markdown",
   "source": [
    "### Within-Detector Comparisons (across detectors)\n",
    "We compare **fixation** onset vs. offset $d'$ scores using a within-detector comparison across all detectors. We use Wilcoxon's Signed-Rank test on the difference of $d'$ scores, across all trials and detectors but split between annotator _RA_ and _MN_. We hypothesize that **fixation onset has lower $d'$ that fixation offset**."
   ],
   "id": "b876166fcd4a6942"
  },
  {
   "metadata": {
    "ExecuteTime": {
     "end_time": "2025-06-19T19:02:10.245155Z",
     "start_time": "2025-06-19T19:02:09.114517Z"
    }
   },
   "cell_type": "code",
   "source": [
    "# extract the data\n",
    "d_prime_no_humans = d_prime.drop([\"MN\", \"RA\"], level=u.PRED_STR, axis=0)    # exclude humans from PRED column (only include algs)\n",
    "all_diffs = np.round(d_prime_no_humans[ONSET_STR] - d_prime_no_humans[OFFSET_STR], decimals=3)  # calculate onset-offset differences\n",
    "print(f\"Median Onset:\\tGT-RA:{d_prime_no_humans.xs(\"RA\", level=u.GT_STR)[ONSET_STR].median():.3f}\\tGT-MN:{d_prime_no_humans.xs(\"MN\", level=u.GT_STR)[ONSET_STR].median():.3f}\")\n",
    "print(f\"Median Offset:\\tGT-RA:{d_prime_no_humans.xs(\"RA\", level=u.GT_STR)[OFFSET_STR].median():.3f}\\tGT-MN:{d_prime_no_humans.xs(\"MN\", level=u.GT_STR)[OFFSET_STR].median():.3f}\")\n",
    "\n",
    "gt = \"RA\"\n",
    "diffs = all_diffs.xs(gt, level=u.GT_STR)\n",
    "wilx_res = wilcoxon(diffs.values, alternative=ALTERNATIVE, zero_method=\"pratt\")\n",
    "W_ra, p_ra = wilx_res\n",
    "print(f\"GT: {gt}\\t::\\tW={W_ra},\\t\\tp={p_ra:.8f},\\tonset-offset diff: {diffs.mean():.2f} (±{diffs.sem():.2f} s.e.m.),\\tN={len(diffs)}\")\n",
    "\n",
    "gt = \"MN\"\n",
    "diffs = all_diffs.xs(gt, level=u.GT_STR)\n",
    "wilx_res = wilcoxon(diffs.values, alternative=ALTERNATIVE, zero_method=\"pratt\")\n",
    "W_mn, p_mn = wilx_res\n",
    "print(f\"GT: {gt}\\t::\\tW={W_mn},\\t\\tp={p_mn:.8f},\\tonset-offset diff: {diffs.mean():.2f} (±{diffs.sem():.2f} s.e.m.),\\tN={len(diffs)}\")\n",
    "\n",
    "# create the figure\n",
    "fig = multi_detector_figure(d_prime, \"fixation\")    # or use `d_prime_no_humans` to exclude human annotators from the plot\n",
    "fig.update_layout(\n",
    "    title=None,\n",
    "    paper_bgcolor='rgba(0, 0, 0, 0)',\n",
    ")\n",
    "\n",
    "fig.write_image(os.path.join(FIGURES_DIR, f\"fig6-fixation.png\"), scale=3)\n",
    "fig.write_json(os.path.join(FIGURES_DIR, f\"fig6-fixation.json\"))\n",
    "fig.show()"
   ],
   "id": "8da09bf28b19f8db",
   "outputs": [
    {
     "name": "stdout",
     "output_type": "stream",
     "text": [
      "Median Onset:\tGT-RA:1.983\tGT-MN:1.950\n",
      "Median Offset:\tGT-RA:2.777\tGT-MN:2.791\n",
      "GT: RA\t::\tW=710.5,\t\tp=0.00000000,\tonset-offset diff: -1.29 (±0.10 s.e.m.),\tN=140\n",
      "GT: MN\t::\tW=262.0,\t\tp=0.00000000,\tonset-offset diff: -1.38 (±0.12 s.e.m.),\tN=98\n"
     ]
    }
   ],
   "execution_count": 12
  },
  {
   "metadata": {},
   "cell_type": "markdown",
   "source": [
    "### Pairwise Comparisons: Engbert vs. REmoDNaV\n",
    "We compare **fixation** detection sensitivity ($d'$) between the _Engbert_ and _REMoDNaV_ detectors, using the Mann-Whitney U-test, **to determine if the ability to detect PSOs at the start of fixations (REMoDNaV) improve saccade detection sensitivity compared to Engbert** (the null hypothesis is that PSO detection does not improve or impede fixation detection sensitivity).\n",
    "We perform three comparisons (applying a Bonferroni correction for multiple comparisons):\n",
    "1. **Onset**: determine which has higher onset detection sensitivity.\n",
    "2. **Offset**: determine which has higher fixation offset detection sensitivity.\n",
    "3. **Diffs**: compare the absolute differences of $d'$ scores between onset and offset, for both detectors (i.e., $|\\Delta d'| := |d'_{onset} - d'_{offset}|$). This is a diff-of-diffs comparison, comparing the **stability** of detection sensitivity."
   ],
   "id": "412313b1ad452ea8"
  },
  {
   "metadata": {
    "ExecuteTime": {
     "end_time": "2025-06-19T19:02:10.421401Z",
     "start_time": "2025-06-19T19:02:10.418397Z"
    }
   },
   "cell_type": "code",
   "source": "ALTERNATIVE = \"two-sided\"",
   "id": "6e7ea25184570490",
   "outputs": [],
   "execution_count": 13
  },
  {
   "metadata": {},
   "cell_type": "markdown",
   "source": "##### GT Annotator: _RA_",
   "id": "210d8bb9b3f91004"
  },
  {
   "metadata": {
    "ExecuteTime": {
     "end_time": "2025-06-19T19:02:10.537260Z",
     "start_time": "2025-06-19T19:02:10.524153Z"
    }
   },
   "cell_type": "code",
   "source": [
    "GT = \"RA\"\n",
    "\n",
    "remodnav_scores = extract_subset(d_prime, GT, \"remodnav\")\n",
    "engbert_scores = extract_subset(d_prime, GT, \"engbert\")\n",
    "\n",
    "# (1) Onset Comparison\n",
    "print(\"##################\")\n",
    "print(f\"(1) Onset Comparison ({GT})\")\n",
    "remodnav_onset, engbert_onset = remodnav_scores[ONSET_STR], engbert_scores[ONSET_STR]\n",
    "print(f\"REMoDNaV Onset:\\t{remodnav_onset.mean():.2f} (±{remodnav_onset.sem():.2f} s.e.m.),\\tN={len(remodnav_onset)}\")\n",
    "print(f\"Engbert Onset:\\t{engbert_onset.mean():.2f} (±{engbert_onset.sem():.2f} s.e.m.),\\tN={len(engbert_onset)}\")\n",
    "posthoc_onset = mannwhitneyu(remodnav_onset, engbert_onset, alternative=ALTERNATIVE)\n",
    "print(f\"Onset Results:\\tU={posthoc_onset.statistic:.1f},\\tp={posthoc_onset.pvalue:.4f}\")\n",
    "print(\"Significant!\" if posthoc_onset.pvalue <= ALPHA_BONF else \"Not significant.\")\n",
    "\n",
    "# (2) Offset Comparison\n",
    "print(\"\\n##################\")\n",
    "print(f\"(2) Offset Comparison ({GT})\")\n",
    "remodnav_offset, engbert_offset = remodnav_scores[OFFSET_STR], engbert_scores[OFFSET_STR]\n",
    "print(f\"REMoDNaV Offset:\\t{remodnav_offset.mean():.2f} (±{remodnav_offset.sem():.2f} s.e.m.),\\tN={len(remodnav_offset)}\")\n",
    "print(f\"Engbert Offset:\\t{engbert_offset.mean():.2f} (±{engbert_offset.sem():.2f} s.e.m.),\\tN={len(engbert_offset)}\")\n",
    "posthoc_offset = mannwhitneyu(remodnav_offset, engbert_offset, alternative=ALTERNATIVE)\n",
    "print(f\"Offset Results:\\tU={posthoc_offset.statistic:.1f},\\tp={posthoc_offset.pvalue:.4f}\")\n",
    "print(\"Significant!\" if posthoc_offset.pvalue <= ALPHA_BONF else \"Not significant.\")\n",
    "\n",
    "# (3) Diffs Comparison\n",
    "print(\"\\n##################\")\n",
    "print(f\"(3) Diffs Comparison ({GT})\")\n",
    "remodnav_diffs = abs(remodnav_onset - remodnav_offset)\n",
    "engbert_diffs = abs(engbert_onset - engbert_offset)\n",
    "print(f\"REMoDNaV Abs-Diffs:\\t{remodnav_diffs.mean():.2f} (±{remodnav_diffs.sem():.2f} s.e.m.),\\tN={len(remodnav_diffs)}\")\n",
    "print(f\"Engbert Abs-Diffs:\\t{engbert_diffs.mean():.2f} (±{engbert_diffs.sem():.2f} s.e.m.),\\tN={len(engbert_diffs)}\")\n",
    "\n",
    "diff_of_diffs = np.round(remodnav_diffs - engbert_diffs, decimals=3)\n",
    "posthoc_diffs = mannwhitneyu(remodnav_diffs, engbert_diffs, alternative=ALTERNATIVE)\n",
    "print(f\"Diffs Results:\\tU={posthoc_diffs.statistic:.1f},\\tp={posthoc_diffs.pvalue:.4f},\\tdiff={diff_of_diffs.mean():.2f} (±{diff_of_diffs.sem():.2f} s.e.m.),\\tN={len(diff_of_diffs)}\")\n",
    "print(\"Significant!\" if posthoc_diffs.pvalue <= ALPHA_BONF else \"Not significant.\")"
   ],
   "id": "c0952247bbe67cc0",
   "outputs": [
    {
     "name": "stdout",
     "output_type": "stream",
     "text": [
      "##################\n",
      "(1) Onset Comparison (RA)\n",
      "REMoDNaV Onset:\t2.31 (±0.13 s.e.m.),\tN=20\n",
      "Engbert Onset:\t3.01 (±0.19 s.e.m.),\tN=20\n",
      "Onset Results:\tU=102.0,\tp=0.0084\n",
      "Not significant.\n",
      "\n",
      "##################\n",
      "(2) Offset Comparison (RA)\n",
      "REMoDNaV Offset:\t2.55 (±0.16 s.e.m.),\tN=20\n",
      "Engbert Offset:\t4.34 (±0.14 s.e.m.),\tN=20\n",
      "Offset Results:\tU=14.0,\tp=0.0000\n",
      "Significant!\n",
      "\n",
      "##################\n",
      "(3) Diffs Comparison (RA)\n",
      "REMoDNaV Abs-Diffs:\t0.56 (±0.08 s.e.m.),\tN=20\n",
      "Engbert Abs-Diffs:\t1.33 (±0.20 s.e.m.),\tN=20\n",
      "Diffs Results:\tU=93.0,\tp=0.0040,\tdiff=-0.77 (±0.24 s.e.m.),\tN=20\n",
      "Significant!\n"
     ]
    }
   ],
   "execution_count": 14
  },
  {
   "metadata": {},
   "cell_type": "markdown",
   "source": "##### GT Annotator: _MN_",
   "id": "b90d4d4353e004e7"
  },
  {
   "metadata": {
    "ExecuteTime": {
     "end_time": "2025-06-19T19:02:10.725048Z",
     "start_time": "2025-06-19T19:02:10.709561Z"
    }
   },
   "cell_type": "code",
   "source": [
    "GT = \"MN\"\n",
    "\n",
    "remodnav_scores = extract_subset(d_prime, GT, \"remodnav\")\n",
    "engbert_scores = extract_subset(d_prime, GT, \"engbert\")\n",
    "\n",
    "# (1) Onset Comparison\n",
    "print(\"##################\")\n",
    "print(f\"(1) Onset Comparison ({GT})\")\n",
    "remodnav_onset, engbert_onset = remodnav_scores[ONSET_STR], engbert_scores[ONSET_STR]\n",
    "print(f\"REMoDNaV Onset:\\t{remodnav_onset.mean():.2f} (±{remodnav_onset.sem():.2f} s.e.m.),\\tN={len(remodnav_onset)}\")\n",
    "print(f\"Engbert Onset:\\t{engbert_onset.mean():.2f} (±{engbert_onset.sem():.2f} s.e.m.),\\tN={len(engbert_onset)}\")\n",
    "posthoc_onset = mannwhitneyu(remodnav_onset, engbert_onset, alternative=ALTERNATIVE)\n",
    "print(f\"Onset Results:\\tU={posthoc_onset.statistic:.1f},\\tp={posthoc_onset.pvalue:.4f}\")\n",
    "print(\"Significant!\" if posthoc_onset.pvalue <= ALPHA_BONF else \"Not significant.\")\n",
    "\n",
    "# (2) Offset Comparison\n",
    "print(\"\\n##################\")\n",
    "print(f\"(2) Offset Comparison ({GT})\")\n",
    "remodnav_offset, engbert_offset = remodnav_scores[OFFSET_STR], engbert_scores[OFFSET_STR]\n",
    "print(f\"REMoDNaV Offset:\\t{remodnav_offset.mean():.2f} (±{remodnav_offset.sem():.2f} s.e.m.),\\tN={len(remodnav_offset)}\")\n",
    "print(f\"Engbert Offset:\\t{engbert_offset.mean():.2f} (±{engbert_offset.sem():.2f} s.e.m.),\\tN={len(engbert_offset)}\")\n",
    "posthoc_offset = mannwhitneyu(remodnav_offset, engbert_offset, alternative=ALTERNATIVE)\n",
    "print(f\"Offset Results:\\tU={posthoc_offset.statistic:.1f},\\tp={posthoc_offset.pvalue:.5f}\")\n",
    "print(\"Significant!\" if posthoc_offset.pvalue <= ALPHA_BONF else \"Not significant.\")\n",
    "\n",
    "# (3) Diffs Comparison\n",
    "print(\"\\n##################\")\n",
    "print(f\"(3) Diffs Comparison ({GT})\")\n",
    "remodnav_diffs = abs(remodnav_onset - remodnav_offset)\n",
    "engbert_diffs = abs(engbert_onset - engbert_offset)\n",
    "print(f\"REMoDNaV Abs-Diffs:\\t{remodnav_diffs.mean():.2f} (±{remodnav_diffs.sem():.2f} s.e.m.),\\tN={len(remodnav_diffs)}\")\n",
    "print(f\"Engbert Abs-Diffs:\\t{engbert_diffs.mean():.2f} (±{engbert_diffs.sem():.2f} s.e.m.),\\tN={len(engbert_diffs)}\")\n",
    "\n",
    "diff_of_diffs = np.round(remodnav_diffs - engbert_diffs, decimals=3)\n",
    "posthoc_diffs = mannwhitneyu(remodnav_diffs, engbert_diffs, alternative=ALTERNATIVE)\n",
    "print(f\"Diffs Results:\\tU={posthoc_diffs.statistic:.1f},\\tp={posthoc_diffs.pvalue:.4f},\\tdiff={diff_of_diffs.mean():.2f} (±{diff_of_diffs.sem():.2f} s.e.m.),\\tN={len(diff_of_diffs)}\")\n",
    "print(\"Significant!\" if posthoc_diffs.pvalue <= ALPHA_BONF else \"Not significant.\")"
   ],
   "id": "a14be2730830661f",
   "outputs": [
    {
     "name": "stdout",
     "output_type": "stream",
     "text": [
      "##################\n",
      "(1) Onset Comparison (MN)\n",
      "REMoDNaV Onset:\t2.34 (±0.14 s.e.m.),\tN=14\n",
      "Engbert Onset:\t2.84 (±0.17 s.e.m.),\tN=14\n",
      "Onset Results:\tU=49.0,\tp=0.0258\n",
      "Not significant.\n",
      "\n",
      "##################\n",
      "(2) Offset Comparison (MN)\n",
      "REMoDNaV Offset:\t2.57 (±0.21 s.e.m.),\tN=14\n",
      "Engbert Offset:\t4.39 (±0.20 s.e.m.),\tN=14\n",
      "Offset Results:\tU=12.0,\tp=0.00009\n",
      "Significant!\n",
      "\n",
      "##################\n",
      "(3) Diffs Comparison (MN)\n",
      "REMoDNaV Abs-Diffs:\t0.54 (±0.13 s.e.m.),\tN=14\n",
      "Engbert Abs-Diffs:\t1.54 (±0.19 s.e.m.),\tN=14\n",
      "Diffs Results:\tU=23.0,\tp=0.0006,\tdiff=-1.01 (±0.24 s.e.m.),\tN=14\n",
      "Significant!\n"
     ]
    }
   ],
   "execution_count": 15
  },
  {
   "metadata": {
    "ExecuteTime": {
     "end_time": "2025-06-19T19:02:10.905481Z",
     "start_time": "2025-06-19T19:02:10.900931Z"
    }
   },
   "cell_type": "code",
   "source": "",
   "id": "d8716484a98a7ad1",
   "outputs": [],
   "execution_count": null
  }
 ],
 "metadata": {
  "kernelspec": {
   "display_name": "Python 3",
   "language": "python",
   "name": "python3"
  },
  "language_info": {
   "codemirror_mode": {
    "name": "ipython",
    "version": 2
   },
   "file_extension": ".py",
   "mimetype": "text/x-python",
   "name": "python",
   "nbconvert_exporter": "python",
   "pygments_lexer": "ipython2",
   "version": "2.7.6"
  }
 },
 "nbformat": 4,
 "nbformat_minor": 5
}
