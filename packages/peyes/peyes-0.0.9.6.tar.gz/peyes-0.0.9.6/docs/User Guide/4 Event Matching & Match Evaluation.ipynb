{
 "cells": [
  {
   "metadata": {},
   "cell_type": "markdown",
   "source": "# Event Matching and Match Evaluation",
   "id": "1d79331b46b51018"
  },
  {
   "metadata": {
    "ExecuteTime": {
     "end_time": "2024-11-10T13:14:42.468838Z",
     "start_time": "2024-11-10T13:14:41.036462Z"
    }
   },
   "cell_type": "code",
   "source": "!pip install peyes --upgrade",
   "id": "d232e6107e52aa6",
   "outputs": [
    {
     "name": "stdout",
     "output_type": "stream",
     "text": [
      "Requirement already satisfied: peyes in c:\\users\\jonathanni\\pycharmprojects\\peyes\\venv\\lib\\site-packages (0.0.9.1)\n",
      "Requirement already satisfied: kaleido==0.1.0post1 in c:\\users\\jonathanni\\pycharmprojects\\peyes\\venv\\lib\\site-packages (from peyes) (0.1.0.post1)\n",
      "Requirement already satisfied: liac-arff~=2.4 in c:\\users\\jonathanni\\pycharmprojects\\peyes\\venv\\lib\\site-packages (from peyes) (2.5.0)\n",
      "Requirement already satisfied: numpy~=1.2 in c:\\users\\jonathanni\\pycharmprojects\\peyes\\venv\\lib\\site-packages (from peyes) (1.26.4)\n",
      "Requirement already satisfied: opencv-python~=4.1 in c:\\users\\jonathanni\\pycharmprojects\\peyes\\venv\\lib\\site-packages (from peyes) (4.10.0.84)\n",
      "Requirement already satisfied: overrides~=7.7 in c:\\users\\jonathanni\\pycharmprojects\\peyes\\venv\\lib\\site-packages (from peyes) (7.7.0)\n",
      "Requirement already satisfied: pandas~=2.2 in c:\\users\\jonathanni\\pycharmprojects\\peyes\\venv\\lib\\site-packages (from peyes) (2.2.3)\n",
      "Requirement already satisfied: plotly~=5.2 in c:\\users\\jonathanni\\pycharmprojects\\peyes\\venv\\lib\\site-packages (from peyes) (5.24.1)\n",
      "Requirement already satisfied: python-levenshtein~=0.2 in c:\\users\\jonathanni\\pycharmprojects\\peyes\\venv\\lib\\site-packages (from peyes) (0.26.0)\n",
      "Requirement already satisfied: remodnav~=1.1 in c:\\users\\jonathanni\\pycharmprojects\\peyes\\venv\\lib\\site-packages (from peyes) (1.1.2)\n",
      "Requirement already satisfied: requests~=2.32 in c:\\users\\jonathanni\\pycharmprojects\\peyes\\venv\\lib\\site-packages (from peyes) (2.32.3)\n",
      "Requirement already satisfied: scikit-learn~=1.5 in c:\\users\\jonathanni\\pycharmprojects\\peyes\\venv\\lib\\site-packages (from peyes) (1.5.2)\n",
      "Requirement already satisfied: scikit-posthocs~=0.9 in c:\\users\\jonathanni\\pycharmprojects\\peyes\\venv\\lib\\site-packages (from peyes) (0.9.0)\n",
      "Requirement already satisfied: scipy~=1.1 in c:\\users\\jonathanni\\pycharmprojects\\peyes\\venv\\lib\\site-packages (from peyes) (1.14.1)\n",
      "Requirement already satisfied: statsmodels~=0.1 in c:\\users\\jonathanni\\pycharmprojects\\peyes\\venv\\lib\\site-packages (from peyes) (0.14.3)\n",
      "Requirement already satisfied: tqdm~=4.6 in c:\\users\\jonathanni\\pycharmprojects\\peyes\\venv\\lib\\site-packages (from peyes) (4.66.5)\n",
      "Requirement already satisfied: python-dateutil>=2.8.2 in c:\\users\\jonathanni\\pycharmprojects\\peyes\\venv\\lib\\site-packages (from pandas~=2.2->peyes) (2.9.0.post0)\n",
      "Requirement already satisfied: pytz>=2020.1 in c:\\users\\jonathanni\\pycharmprojects\\peyes\\venv\\lib\\site-packages (from pandas~=2.2->peyes) (2024.2)\n",
      "Requirement already satisfied: tzdata>=2022.7 in c:\\users\\jonathanni\\pycharmprojects\\peyes\\venv\\lib\\site-packages (from pandas~=2.2->peyes) (2024.2)\n",
      "Requirement already satisfied: tenacity>=6.2.0 in c:\\users\\jonathanni\\pycharmprojects\\peyes\\venv\\lib\\site-packages (from plotly~=5.2->peyes) (9.0.0)\n",
      "Requirement already satisfied: packaging in c:\\users\\jonathanni\\pycharmprojects\\peyes\\venv\\lib\\site-packages (from plotly~=5.2->peyes) (24.1)\n",
      "Requirement already satisfied: Levenshtein==0.26.0 in c:\\users\\jonathanni\\pycharmprojects\\peyes\\venv\\lib\\site-packages (from python-levenshtein~=0.2->peyes) (0.26.0)\n",
      "Requirement already satisfied: rapidfuzz<4.0.0,>=3.9.0 in c:\\users\\jonathanni\\pycharmprojects\\peyes\\venv\\lib\\site-packages (from Levenshtein==0.26.0->python-levenshtein~=0.2->peyes) (3.10.0)\n",
      "Requirement already satisfied: matplotlib in c:\\users\\jonathanni\\pycharmprojects\\peyes\\venv\\lib\\site-packages (from remodnav~=1.1->peyes) (3.9.2)\n",
      "Requirement already satisfied: charset-normalizer<4,>=2 in c:\\users\\jonathanni\\pycharmprojects\\peyes\\venv\\lib\\site-packages (from requests~=2.32->peyes) (3.3.2)\n",
      "Requirement already satisfied: idna<4,>=2.5 in c:\\users\\jonathanni\\pycharmprojects\\peyes\\venv\\lib\\site-packages (from requests~=2.32->peyes) (3.10)\n",
      "Requirement already satisfied: urllib3<3,>=1.21.1 in c:\\users\\jonathanni\\pycharmprojects\\peyes\\venv\\lib\\site-packages (from requests~=2.32->peyes) (2.2.3)\n",
      "Requirement already satisfied: certifi>=2017.4.17 in c:\\users\\jonathanni\\pycharmprojects\\peyes\\venv\\lib\\site-packages (from requests~=2.32->peyes) (2024.8.30)\n",
      "Requirement already satisfied: joblib>=1.2.0 in c:\\users\\jonathanni\\pycharmprojects\\peyes\\venv\\lib\\site-packages (from scikit-learn~=1.5->peyes) (1.4.2)\n",
      "Requirement already satisfied: threadpoolctl>=3.1.0 in c:\\users\\jonathanni\\pycharmprojects\\peyes\\venv\\lib\\site-packages (from scikit-learn~=1.5->peyes) (3.5.0)\n",
      "Requirement already satisfied: seaborn in c:\\users\\jonathanni\\pycharmprojects\\peyes\\venv\\lib\\site-packages (from scikit-posthocs~=0.9->peyes) (0.13.2)\n",
      "Requirement already satisfied: patsy>=0.5.6 in c:\\users\\jonathanni\\pycharmprojects\\peyes\\venv\\lib\\site-packages (from statsmodels~=0.1->peyes) (0.5.6)\n",
      "Requirement already satisfied: colorama in c:\\users\\jonathanni\\pycharmprojects\\peyes\\venv\\lib\\site-packages (from tqdm~=4.6->peyes) (0.4.6)\n",
      "Requirement already satisfied: six in c:\\users\\jonathanni\\pycharmprojects\\peyes\\venv\\lib\\site-packages (from patsy>=0.5.6->statsmodels~=0.1->peyes) (1.16.0)\n",
      "Requirement already satisfied: contourpy>=1.0.1 in c:\\users\\jonathanni\\pycharmprojects\\peyes\\venv\\lib\\site-packages (from matplotlib->remodnav~=1.1->peyes) (1.3.0)\n",
      "Requirement already satisfied: cycler>=0.10 in c:\\users\\jonathanni\\pycharmprojects\\peyes\\venv\\lib\\site-packages (from matplotlib->remodnav~=1.1->peyes) (0.12.1)\n",
      "Requirement already satisfied: fonttools>=4.22.0 in c:\\users\\jonathanni\\pycharmprojects\\peyes\\venv\\lib\\site-packages (from matplotlib->remodnav~=1.1->peyes) (4.54.1)\n",
      "Requirement already satisfied: kiwisolver>=1.3.1 in c:\\users\\jonathanni\\pycharmprojects\\peyes\\venv\\lib\\site-packages (from matplotlib->remodnav~=1.1->peyes) (1.4.7)\n",
      "Requirement already satisfied: pillow>=8 in c:\\users\\jonathanni\\pycharmprojects\\peyes\\venv\\lib\\site-packages (from matplotlib->remodnav~=1.1->peyes) (10.4.0)\n",
      "Requirement already satisfied: pyparsing>=2.3.1 in c:\\users\\jonathanni\\pycharmprojects\\peyes\\venv\\lib\\site-packages (from matplotlib->remodnav~=1.1->peyes) (3.1.4)\n"
     ]
    }
   ],
   "execution_count": 1
  },
  {
   "metadata": {
    "ExecuteTime": {
     "end_time": "2024-11-10T13:14:43.505878Z",
     "start_time": "2024-11-10T13:14:42.550841Z"
    }
   },
   "cell_type": "code",
   "source": [
    "import os\n",
    "\n",
    "import numpy as np\n",
    "import pandas as pd\n",
    "\n",
    "import peyes"
   ],
   "id": "b026b4560a8029",
   "outputs": [],
   "execution_count": 2
  },
  {
   "metadata": {},
   "cell_type": "markdown",
   "source": [
    "## Preparing the Data\n",
    "As shown in previous notebooks, we start by preparing the data.  \n",
    "In the following code blocks we:  \n",
    "1. Download the \"Lund2013\" dataset.  \n",
    "2. Extract the data of the first trial, including the time, x, and y columns as well as the pixel size and viewer distance.  \n",
    "3. Extract the annotations by the two human annotators _\"RA\"_ and _\"MN\"_. These will be used as the ground truth for the upcoming evaluation.  \n",
    "4. Create two detector objects, using Engbert's detection algorithm and the I-VT detection algorithm.  \n",
    "5. Use each detector to label the samples in the first trial.  "
   ],
   "id": "c5ac93e211852a2"
  },
  {
   "metadata": {
    "ExecuteTime": {
     "end_time": "2024-11-10T13:16:02.596941Z",
     "start_time": "2024-11-10T13:14:43.596253Z"
    }
   },
   "cell_type": "code",
   "source": [
    "# Download the \"Lund2013\" dataset\n",
    "dataset = peyes.datasets.lund2013(directory=None, save=False, verbose=True)\n",
    "\n",
    "# Extract the data of the first trial\n",
    "trial1_data = dataset[dataset[peyes.constants.TRIAL_ID_STR] == 1]\n",
    "\n",
    "# read labels from the two annotators\n",
    "ra = trial1_data[\"RA\"].values\n",
    "mn = trial1_data[\"MN\"].values\n",
    "\n",
    "# Extract the time, x, and y columns as well as the pixel size and viewer distance\n",
    "trial1_t = trial1_data[peyes.constants.T].values\n",
    "trial1_x = trial1_data[peyes.constants.X].values\n",
    "trial1_y = trial1_data[peyes.constants.Y].values\n",
    "trial1_p = trial1_data[peyes.constants.PUPIL].values\n",
    "trial1_pixel_size = trial1_data[\"pixel_size\"].values[0]\n",
    "trial1_viewer_distance = trial1_data[\"viewer_distance\"].values[0]\n",
    "\n",
    "# create detector objects and use them to detect the samples in the first trial\n",
    "engbert = peyes.create_detector(\"engbert\", missing_value=np.nan, min_event_duration=4, pad_blinks_time=0)\n",
    "eng_labels, eng_metadata = engbert.detect(\n",
    "    t=trial1_t, x=trial1_x, y=trial1_y, pixel_size_cm=trial1_pixel_size, viewer_distance_cm=trial1_viewer_distance\n",
    ")\n",
    "\n",
    "ivt = peyes.create_detector(\"ivt\", missing_value=np.nan, min_event_duration=4, pad_blinks_time=0)\n",
    "ivt_labels, ivt_metadata = ivt.detect(\n",
    "    t=trial1_t, x=trial1_x, y=trial1_y, pixel_size_cm=trial1_pixel_size, viewer_distance_cm=trial1_viewer_distance\n",
    ")"
   ],
   "id": "e06a1b57a865a617",
   "outputs": [
    {
     "name": "stdout",
     "output_type": "stream",
     "text": [
      "Downloading...\n"
     ]
    },
    {
     "name": "stderr",
     "output_type": "stream",
     "text": [
      "Processing Files: 100%|██████████| 96/96 [00:00<00:00, 202.77it/s]\n"
     ]
    }
   ],
   "execution_count": 3
  },
  {
   "metadata": {},
   "cell_type": "markdown",
   "source": [
    "### Generating Events\n",
    "As shown in notebook #1, consecutive samples that share the same label can be grouped into an `Event` object.  \n",
    "These are one of `pEYES`'s data structures, and they contain many useful attributes and methods that are easier to use than manipulating the raw data directly. For example, we can use an `Event` object to calculate the duration of the event, instead of manually calculating the difference between the start and end times of the samples that compose the event.  \n",
    "\n",
    "To convert `pEYES`'s labels to events, we use the `peyes.create_events()` function (see notebook #1 for more details).  \n",
    "As another preparatory step, we will convert the labels from all annotators and detectors to their corresponding events."
   ],
   "id": "ff7b7e7dd4723383"
  },
  {
   "metadata": {
    "ExecuteTime": {
     "end_time": "2024-11-10T13:16:02.615827Z",
     "start_time": "2024-11-10T13:16:02.608414Z"
    }
   },
   "cell_type": "code",
   "source": [
    "ra_events = peyes.create_events(\n",
    "    labels=ra,\n",
    "    t=trial1_t, x=trial1_x, y=trial1_y, pupil=trial1_p,\n",
    "    pixel_size=trial1_pixel_size, viewer_distance=trial1_viewer_distance\n",
    ")\n",
    "mn_events = peyes.create_events(\n",
    "    labels=mn,\n",
    "    t=trial1_t, x=trial1_x, y=trial1_y, pupil=trial1_p,\n",
    "    pixel_size=trial1_pixel_size, viewer_distance=trial1_viewer_distance\n",
    ")\n",
    "eng_events = peyes.create_events(\n",
    "    labels=eng_labels,\n",
    "    t=trial1_t, x=trial1_x, y=trial1_y, pupil=trial1_p,\n",
    "    pixel_size=trial1_pixel_size, viewer_distance=trial1_viewer_distance\n",
    ")\n",
    "ivt_events = peyes.create_events(\n",
    "    labels=ivt_labels,\n",
    "    t=trial1_t, x=trial1_x, y=trial1_y, pupil=trial1_p,\n",
    "    pixel_size=trial1_pixel_size, viewer_distance=trial1_viewer_distance\n",
    ")"
   ],
   "id": "f81cb33426b6095b",
   "outputs": [],
   "execution_count": 4
  },
  {
   "metadata": {},
   "cell_type": "markdown",
   "source": [
    "## Event Matching\n",
    "Event matching is the process of mapping between two sequences of events(ground-truth & prediction), based on some matching criteria (_\"matching scheme\"_). A matching could be between events from the same type or from different types; it could allow multiple predicted-events to match a single ground-truth-event or vice versa, and so on.  \n",
    "\n",
    "In their article _\"Evaluating eye movement event detection: A review of the state of the art\"_ (2023), Stratsev & Zemblys include a dedicated chapter on Event-Matching. They describe various methods to match semi-overlapping sequences of events, originating from two different detection sources (e.g. a human annotator & a detection algorithm). They discuss different considerations that should be taken into account, and demonstrate how different matching schemes may affect the outcome. We encourage anyone working with this type of analysis to read their report before applying this logic onto their data.  \n",
    "\n",
    "The `pEYES` package provides implementations for various matching schemes described in the aforementioned article, including _IoU_, _Window-Based_, etc. Two sequences of `Event` objects can be matched, using the `peyes.match()` function, which requires also specifying a matching-scheme (`match_by` argument) and whether you allow for _cross-matching_ - can events of different types be matched or not. The function's documentation provides useful information on the available matching-schemes and the parameters required to run them.  \n",
    "**Note** that event matching is a time-consuming process that may require long runtime and exhaustive compute.\n",
    "\n",
    "In this example, we will match only one predicted sequence against a corresponding ground-truth. We will use the strictest matching-scheme available in `pEYES`, _l2_, which only matches events if the $l_2$ norm of the differences between their onset- and offset-times is lesser than some threshold (set here to 15ms). For more information, see the Stratsev & Zemblys article."
   ],
   "id": "b36bfe74a0c056f0"
  },
  {
   "metadata": {
    "ExecuteTime": {
     "end_time": "2024-11-10T13:16:02.631555Z",
     "start_time": "2024-11-10T13:16:02.626338Z"
    }
   },
   "cell_type": "code",
   "source": "print(peyes.match.__doc__)",
   "id": "f7b895a316b4b5a",
   "outputs": [
    {
     "name": "stdout",
     "output_type": "stream",
     "text": [
      "\n",
      "    Match events based on the given matching criteria, ignoring specified event-labels.\n",
      "    Matches can be one-to-one or one-to-many depending on the matching criteria and the specified parameters.\n",
      "\n",
      "    :param ground_truth: a sequence of BaseEvent objects representing the ground truth events.\n",
      "    :param prediction: a sequence of BaseEvent objects representing the predicted events.\n",
      "    :param match_by: the matching criteria to use:\n",
      "        - 'first' or 'first overlap': match the first predicted event that overlaps with each ground-truth event\n",
      "        - 'last' or 'last overlap': match the last predicted event that overlaps with each ground-truth event\n",
      "        - 'max' or 'max overlap': match the predicted event with maximum overlap with each ground-truth event\n",
      "        - 'longest overlap': match the longest predicted event that overlaps with each ground-truth event\n",
      "        - 'iou' or 'intersection over union': match the predicted event with maximum intersection-over-union\n",
      "        - 'onset' or 'onset difference': match the predicted event with least onset difference\n",
      "        - 'offset' or 'offset difference': match the predicted event with least offset difference\n",
      "        - 'window' or 'window based': match the predicted event within a specified onset- and offset-latency window\n",
      "        - 'l2' or 'l2 timing': match the predicted event with minimum timing l2 norm\n",
      "        - 'other' or 'generic': match the predicted event using multiple criteria\n",
      "    :param ignore_events: a set of event-labels to ignore during the matching process, default is None.\n",
      "    :param allow_xmatch: if True, allows cross-matching between detectors/raters, default is False.\n",
      "\n",
      "    :keyword min_overlap: minimum overlap required for 'first', 'last', 'max', and 'longest overlap' matching.\n",
      "    :keyword min_iou: minimum intersection-over-union required for 'iou' matching.\n",
      "    :keyword max_onset_difference: maximum onset difference allowed for 'onset' or 'window' matching.\n",
      "    :keyword max_offset_difference: maximum offset difference allowed for 'offset' or 'window' matching.\n",
      "    :keyword max_l2: maximum l2 norm allowed for 'l2' matching.\n",
      "\n",
      "    :return: a dictionary matching each ground-truth event to event(s) from the predictions.\n",
      "    \n"
     ]
    }
   ],
   "execution_count": 5
  },
  {
   "metadata": {
    "ExecuteTime": {
     "end_time": "2024-11-10T13:16:02.660379Z",
     "start_time": "2024-11-10T13:16:02.653802Z"
    }
   },
   "cell_type": "code",
   "source": "peyes.match(ra_events, eng_events, match_by='l2', max_l2=15, allow_xmatch=False)",
   "id": "6b72e8bac5ccea8b",
   "outputs": [
    {
     "data": {
      "text/plain": [
       "{FIXATION(236.0ms): FIXATION(228.0ms),\n",
       " SACCADE(18.0ms): SACCADE(34.0ms),\n",
       " SACCADE(16.0ms): SACCADE(20.0ms),\n",
       " SACCADE(8.0ms): SACCADE(18.0ms)}"
      ]
     },
     "execution_count": 6,
     "metadata": {},
     "output_type": "execute_result"
    }
   ],
   "execution_count": 6
  },
  {
   "metadata": {},
   "cell_type": "markdown",
   "source": [
    "### Setting Scheme Params\n",
    "As you can see, the output is a mapping, where each _key: value_ pair is a match between a _GT_ event to a _Pred_ event. With these parameters, we were able to match four (4) events from the GT and Pred sequences. If we allow for a more lenient threshold, we may be able to match more events. For example, if we match only based on _onset-time_ and allow for a maximum jitter of _3_, _30_ or _300_ ms, we might get different results."
   ],
   "id": "6de04132b236a0ab"
  },
  {
   "metadata": {
    "ExecuteTime": {
     "end_time": "2024-11-10T13:16:02.674461Z",
     "start_time": "2024-11-10T13:16:02.660379Z"
    }
   },
   "cell_type": "code",
   "source": [
    "print(peyes.match(ra_events, eng_events, match_by='onset', max_onset_difference=3, allow_xmatch=False))\n",
    "print(peyes.match(ra_events, eng_events, match_by='onset', max_onset_difference=30, allow_xmatch=False))\n",
    "print(peyes.match(ra_events, eng_events, match_by='onset', max_onset_difference=300, allow_xmatch=False))"
   ],
   "id": "3cd1d69f1cfbaa5e",
   "outputs": [
    {
     "name": "stdout",
     "output_type": "stream",
     "text": [
      "{SACCADE(18.0ms): SACCADE(34.0ms), SACCADE(16.0ms): SACCADE(20.0ms)}\n",
      "{FIXATION(236.0ms): FIXATION(228.0ms), SACCADE(18.0ms): SACCADE(34.0ms), SACCADE(16.0ms): SACCADE(20.0ms), SACCADE(12.0ms): SACCADE(34.0ms), SACCADE(8.0ms): SACCADE(18.0ms)}\n",
      "{FIXATION(236.0ms): FIXATION(228.0ms), SACCADE(18.0ms): SACCADE(34.0ms), SACCADE(16.0ms): SACCADE(20.0ms), SACCADE(12.0ms): SACCADE(34.0ms), SACCADE(8.0ms): SACCADE(18.0ms)}\n"
     ]
    }
   ],
   "execution_count": 7
  },
  {
   "metadata": {},
   "cell_type": "markdown",
   "source": [
    "### Cross-Matching\n",
    "Note also that all _gt: pred_ pairs are of the same type. This is because we explicitly prevented _cross matching_, which means a match is only valid if both _gt_ and _pred_ events share the same event type (underlying label). Now we will allow allow different event types, and you'll see the pairs indeed don't necessarily share a type.  \n",
    "Even though _x matching_ yields more matches, we discourage this usage as may lead to illogical matches and interfere with subsequent analysis. Use at your own risk :D"
   ],
   "id": "9770366b833efea2"
  },
  {
   "metadata": {
    "ExecuteTime": {
     "end_time": "2024-11-10T13:16:02.692736Z",
     "start_time": "2024-11-10T13:16:02.684744Z"
    }
   },
   "cell_type": "code",
   "source": "print(peyes.match(ra_events, eng_events, match_by='onset', max_onset_difference=30, allow_xmatch=True))",
   "id": "2fd99032352105f7",
   "outputs": [
    {
     "name": "stdout",
     "output_type": "stream",
     "text": [
      "{FIXATION(236.0ms): FIXATION(228.0ms), SACCADE(18.0ms): SACCADE(34.0ms), PSO(6.0ms): FIXATION(132.0ms), SACCADE(16.0ms): SACCADE(20.0ms), PSO(4.0ms): FIXATION(176.0ms), SACCADE(12.0ms): SACCADE(34.0ms), SMOOTH_PURSUIT(450.0ms): FIXATION(50.0ms), SACCADE(8.0ms): SACCADE(18.0ms), SMOOTH_PURSUIT(196.0ms): FIXATION(18.0ms)}\n"
     ]
    }
   ],
   "execution_count": 8
  },
  {
   "metadata": {},
   "cell_type": "markdown",
   "source": [
    "### Non-Schematic Matching\n",
    "When you specify the  `match_by` according to one of the predefined matching schemes, it only uses the subset of parameters that are defined for that scheme (e.g., if you specify `match_by='onset'`, the only relevant parameter is `max_onset_difference`), and all other parameters are ignored. If you want to \"create\" your own matching scheme, using multiple parameters that don't have a specific unifying scheme, you can specify `match_by='other'` (or `match_by='generic'`) along with whatever combination of parameters you wish."
   ],
   "id": "d69bb73192288f7b"
  },
  {
   "metadata": {
    "ExecuteTime": {
     "end_time": "2024-11-10T13:16:02.712756Z",
     "start_time": "2024-11-10T13:16:02.703992Z"
    }
   },
   "cell_type": "code",
   "source": [
    "print(\n",
    "    peyes.match(ra_events, eng_events, match_by='onset', max_onset_difference=30, allow_xmatch=False) == \n",
    "    peyes.match(ra_events, eng_events, match_by='onset', max_onset_difference=30, allow_xmatch=False, max_offset_difference=30, min_iou=0.15)\n",
    ")\n",
    "\n",
    "print(peyes.match(ra_events, eng_events, match_by='other', max_onset_difference=30, allow_xmatch=False, max_offset_difference=30, min_iou=0.15))"
   ],
   "id": "c32b7ea79c1619fb",
   "outputs": [
    {
     "name": "stdout",
     "output_type": "stream",
     "text": [
      "True\n",
      "{FIXATION(236.0ms): [FIXATION(228.0ms)], SACCADE(18.0ms): [SACCADE(34.0ms)], SACCADE(16.0ms): [SACCADE(20.0ms)], SACCADE(12.0ms): [SACCADE(34.0ms)], SACCADE(8.0ms): [SACCADE(18.0ms)]}\n"
     ]
    }
   ],
   "execution_count": 9
  },
  {
   "metadata": {},
   "cell_type": "markdown",
   "source": [
    "### Summary: Event Matching\n",
    "In this section, we:\n",
    "1. Presented the concept of event-matching, a mapping between two sequences of events.\n",
    "2. Provided examples of a few matching-schemes, which are different methods to match between event sequences.\n",
    "3. Seen how different parameters might influence matching when using the same matching-scheme.\n",
    "4. Shortly discussed the meaning of _cross matching_ and seen how it may affect matches when all other parameters remain the same.\n",
    "5. Demonstrated \"generic\" matching based on multiple (unrelated) matching criteria\n",
    "\n",
    "For further information, please read the relevant section in the Stratsev & Zemblys (2023) article."
   ],
   "id": "46bcfc552544cdc7"
  },
  {
   "metadata": {},
   "cell_type": "markdown",
   "source": "We will now generate some example matching, that we can use in further analyses:",
   "id": "a2311f29c7de0b50"
  },
  {
   "metadata": {
    "ExecuteTime": {
     "end_time": "2024-11-10T13:16:02.728371Z",
     "start_time": "2024-11-10T13:16:02.724437Z"
    }
   },
   "cell_type": "code",
   "source": [
    "m = peyes.match(ra_events, mn_events, match_by='onset', max_onset_difference=15, allow_xmatch=False)\n",
    "m"
   ],
   "id": "f0153c4ac8af8352",
   "outputs": [
    {
     "data": {
      "text/plain": [
       "{FIXATION(236.0ms): FIXATION(236.0ms),\n",
       " SACCADE(18.0ms): SACCADE(20.0ms),\n",
       " PSO(6.0ms): PSO(10.0ms),\n",
       " SMOOTH_PURSUIT(1898.0ms): SMOOTH_PURSUIT(488.0ms),\n",
       " SACCADE(16.0ms): SACCADE(24.0ms),\n",
       " SMOOTH_PURSUIT(450.0ms): SMOOTH_PURSUIT(448.0ms),\n",
       " SACCADE(12.0ms): SACCADE(10.0ms),\n",
       " SMOOTH_PURSUIT(450.0ms): SMOOTH_PURSUIT(432.0ms),\n",
       " SACCADE(8.0ms): SACCADE(12.0ms),\n",
       " SMOOTH_PURSUIT(196.0ms): SMOOTH_PURSUIT(188.0ms)}"
      ]
     },
     "execution_count": 10,
     "metadata": {},
     "output_type": "execute_result"
    }
   ],
   "execution_count": 10
  },
  {
   "metadata": {},
   "cell_type": "markdown",
   "source": [
    "## Match Evaluation\n",
    "Now that we know what event-matching is, we can look into different evaluation methods based on a matching. We will do this using a dedicated sub-module in the `pEYES` package, called `match_metrics`.  \n",
    "\n",
    "As always, we assume one sequence od events is the _ground-truth_ and the other is the _prediction_. We also assume here that matches are one-to-one, meaning any _gt_ event can be matched to, at most, a single _pred_ event, and vice versa. While not all metrics require this strict condition, it is useful when attempting to interpret matches and in some cases, a necessity.  \n",
    "\n",
    "We can divide the evaluation criteria into two general types: **feature**-based and **detection** based.  \n",
    "\n",
    "### Feature Based Evaluation\n",
    "Feature-based evaluation compares between the features of the matched events. It extracts the specified feature(s) from both events, and calculates the difference (or some other distance metric) between these features. For example:\n",
    "* Amplitude Difference - difference in amplitude (in DVA) between each pair of matched events\n",
    "* Center Pixel Distance - Euclidean distance (in pixels) between the \"center\" of each event in the pair\n",
    "* Time Overlap - duration of overlap (in ms) between the two events\n",
    "* Time IoU - Intersection over Union (unitless) of the times of the two events\n",
    "* etc."
   ],
   "id": "b92fb74d0cfa4760"
  },
  {
   "metadata": {
    "ExecuteTime": {
     "end_time": "2024-11-10T13:16:02.743193Z",
     "start_time": "2024-11-10T13:16:02.739084Z"
    }
   },
   "cell_type": "code",
   "source": [
    "print(f\"Duration Differences:\\t{peyes.match_metrics.duration_difference(m)}\")\n",
    "print(f\"Center Distances:\\t{peyes.match_metrics.center_pixel_distance(m)}\")\n",
    "print(f\"Time L2 Norm:\\t{peyes.match_metrics.time_l2(m)}\")\n",
    "print(f\"Time IoU:\\t{peyes.match_metrics.time_iou(m)}\")"
   ],
   "id": "9952b2d16e522e7d",
   "outputs": [
    {
     "name": "stdout",
     "output_type": "stream",
     "text": [
      "Duration Differences:\t[   0.   -2.   -4. 1410.   -8.    2.    2.   18.   -4.    8.]\n",
      "Center Distances:\t[0.00000000e+00 2.72931706e+00 5.20619045e+00 1.06826770e+02\n",
      " 4.29598683e+00 8.90973202e-02 1.88567659e+00 1.83772023e-01\n",
      " 5.87357120e+00 4.81840202e-01]\n",
      "Time L2 Norm:\t[   0.            2.            6.32455532 1404.01282045    8.\n",
      "    2.            2.           13.41640786    6.32455532    8.        ]\n",
      "Time IoU:\t[1.         0.9        0.33333333 0.25711275 0.66666667 0.99555556\n",
      " 0.83333333 0.96       0.42857143 0.95918367]\n"
     ]
    }
   ],
   "execution_count": 11
  },
  {
   "metadata": {},
   "cell_type": "markdown",
   "source": [
    "### Detection Based Evaluation\n",
    "Detection-based metrics are based on the commonly used Signal Detection Theory metrics (recall, precision, d-prime, etc.). To calculate these metrics we **must** specify a subset of labels (event types, e.g. \"saccade\") as _positive_, which implicitly sets any other label in the sequence as _negative_.  \n",
    "One exception to this rule is the `match_ratio()` metric, which doesn't strictly require specifying a _positive_ label, but enables doing so.  \n",
    "Other available metrics are `recall`, `precision`, `d_prime`, etc."
   ],
   "id": "780930cb09a6e9c"
  },
  {
   "metadata": {
    "ExecuteTime": {
     "end_time": "2024-11-10T13:16:02.757695Z",
     "start_time": "2024-11-10T13:16:02.753847Z"
    }
   },
   "cell_type": "code",
   "source": [
    "ratio_all_labels = peyes.match_metrics.match_ratio(prediction=mn_events, matches=m, labels=None)\n",
    "ratio_fixations = peyes.match_metrics.match_ratio(prediction=mn_events, matches=m, labels=[1])\n",
    "\n",
    "ratio_all_labels, ratio_fixations"
   ],
   "id": "9033103a3937796d",
   "outputs": [
    {
     "data": {
      "text/plain": [
       "(0.5555555555555556, 1.0)"
      ]
     },
     "execution_count": 12,
     "metadata": {},
     "output_type": "execute_result"
    }
   ],
   "execution_count": 12
  },
  {
   "metadata": {
    "ExecuteTime": {
     "end_time": "2024-11-10T13:16:02.772765Z",
     "start_time": "2024-11-10T13:16:02.768359Z"
    }
   },
   "cell_type": "code",
   "source": [
    "prec, rec, f1 = peyes.match_metrics.precision_recall_f1(ground_truth=ra_events, prediction=mn_events, matches=m, positive_label=[2])\n",
    "far = peyes.match_metrics.false_alarm_rate(ground_truth=ra_events, prediction=mn_events, matches=m, positive_label=[2])\n",
    "dprime, crit = peyes.match_metrics.d_prime_and_criterion(ground_truth=ra_events, prediction=mn_events, matches=m, positive_label=[2], correction=\"loglinear\")\n",
    "\n",
    "prec, rec, f1, far, dprime, crit"
   ],
   "id": "7728843bc2c4fcb7",
   "outputs": [
    {
     "data": {
      "text/plain": [
       "(0.6666666666666666,\n",
       " 1.0,\n",
       " 0.8,\n",
       " 0.2857142857142857,\n",
       " 1.8974663378613346,\n",
       " -0.4773437033421788)"
      ]
     },
     "execution_count": 13,
     "metadata": {},
     "output_type": "execute_result"
    }
   ],
   "execution_count": 13
  },
  {
   "metadata": {},
   "cell_type": "markdown",
   "source": [
    "## Summary: Match Evaluation\n",
    "In this section, we examined different evaluation options for _(gt: pred)_ matches, both based on the matched events' features and based on Signal Detection Theory measures."
   ],
   "id": "1c3a7ce4809dcb49"
  }
 ],
 "metadata": {
  "kernelspec": {
   "display_name": "Python 3",
   "language": "python",
   "name": "python3"
  },
  "language_info": {
   "codemirror_mode": {
    "name": "ipython",
    "version": 2
   },
   "file_extension": ".py",
   "mimetype": "text/x-python",
   "name": "python",
   "nbconvert_exporter": "python",
   "pygments_lexer": "ipython2",
   "version": "2.7.6"
  }
 },
 "nbformat": 4,
 "nbformat_minor": 5
}
