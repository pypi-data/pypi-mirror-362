{
 "cells": [
  {
   "metadata": {},
   "cell_type": "markdown",
   "source": [
    "# Basic Functionality\n",
    "In this guide, we will cover the basic functionality of the pEYES package. This includes:\n",
    "- importing the package and parsing your data to `pEYES`'s data format.\n",
    "- Using `pEYES`'s dataset loaders to load publicly available eye-tracking datasets.\n",
    "- Initializing and using eye-tracking detectors to detect labels from eye-tracking data.\n",
    "- Generating `Event` objects from detected labels, and extracting properties from these objects"
   ],
   "id": "fdf12ec182c672aa"
  },
  {
   "metadata": {},
   "cell_type": "markdown",
   "source": [
    "### Step 1: Import the necessary libraries\n",
    "We begin by installing the `peyes` package using the `pip` package manager.\n",
    "Then, we import `peyes` and other packaged used to display and manipulate the data produced by `peyes`, namely `numpy` and `pandas`."
   ],
   "id": "89eca90200b4a20f"
  },
  {
   "metadata": {
    "ExecuteTime": {
     "end_time": "2024-11-10T11:42:47.826343Z",
     "start_time": "2024-11-10T11:42:46.438742Z"
    }
   },
   "cell_type": "code",
   "source": "!pip install peyes --upgrade",
   "id": "2ef7184ba2efce27",
   "outputs": [
    {
     "name": "stdout",
     "output_type": "stream",
     "text": [
      "Requirement already satisfied: peyes in c:\\users\\jonathanni\\pycharmprojects\\peyes\\venv\\lib\\site-packages (0.0.9.1)\n",
      "Requirement already satisfied: kaleido==0.1.0post1 in c:\\users\\jonathanni\\pycharmprojects\\peyes\\venv\\lib\\site-packages (from peyes) (0.1.0.post1)\n",
      "Requirement already satisfied: liac-arff~=2.4 in c:\\users\\jonathanni\\pycharmprojects\\peyes\\venv\\lib\\site-packages (from peyes) (2.5.0)\n",
      "Requirement already satisfied: numpy~=1.2 in c:\\users\\jonathanni\\pycharmprojects\\peyes\\venv\\lib\\site-packages (from peyes) (1.26.4)\n",
      "Requirement already satisfied: opencv-python~=4.1 in c:\\users\\jonathanni\\pycharmprojects\\peyes\\venv\\lib\\site-packages (from peyes) (4.10.0.84)\n",
      "Requirement already satisfied: overrides~=7.7 in c:\\users\\jonathanni\\pycharmprojects\\peyes\\venv\\lib\\site-packages (from peyes) (7.7.0)\n",
      "Requirement already satisfied: pandas~=2.2 in c:\\users\\jonathanni\\pycharmprojects\\peyes\\venv\\lib\\site-packages (from peyes) (2.2.3)\n",
      "Requirement already satisfied: plotly~=5.2 in c:\\users\\jonathanni\\pycharmprojects\\peyes\\venv\\lib\\site-packages (from peyes) (5.24.1)\n",
      "Requirement already satisfied: python-levenshtein~=0.2 in c:\\users\\jonathanni\\pycharmprojects\\peyes\\venv\\lib\\site-packages (from peyes) (0.26.0)\n",
      "Requirement already satisfied: remodnav~=1.1 in c:\\users\\jonathanni\\pycharmprojects\\peyes\\venv\\lib\\site-packages (from peyes) (1.1.2)\n",
      "Requirement already satisfied: requests~=2.32 in c:\\users\\jonathanni\\pycharmprojects\\peyes\\venv\\lib\\site-packages (from peyes) (2.32.3)\n",
      "Requirement already satisfied: scikit-learn~=1.5 in c:\\users\\jonathanni\\pycharmprojects\\peyes\\venv\\lib\\site-packages (from peyes) (1.5.2)\n",
      "Requirement already satisfied: scikit-posthocs~=0.9 in c:\\users\\jonathanni\\pycharmprojects\\peyes\\venv\\lib\\site-packages (from peyes) (0.9.0)\n",
      "Requirement already satisfied: scipy~=1.1 in c:\\users\\jonathanni\\pycharmprojects\\peyes\\venv\\lib\\site-packages (from peyes) (1.14.1)\n",
      "Requirement already satisfied: statsmodels~=0.1 in c:\\users\\jonathanni\\pycharmprojects\\peyes\\venv\\lib\\site-packages (from peyes) (0.14.3)\n",
      "Requirement already satisfied: tqdm~=4.6 in c:\\users\\jonathanni\\pycharmprojects\\peyes\\venv\\lib\\site-packages (from peyes) (4.66.5)\n",
      "Requirement already satisfied: python-dateutil>=2.8.2 in c:\\users\\jonathanni\\pycharmprojects\\peyes\\venv\\lib\\site-packages (from pandas~=2.2->peyes) (2.9.0.post0)\n",
      "Requirement already satisfied: pytz>=2020.1 in c:\\users\\jonathanni\\pycharmprojects\\peyes\\venv\\lib\\site-packages (from pandas~=2.2->peyes) (2024.2)\n",
      "Requirement already satisfied: tzdata>=2022.7 in c:\\users\\jonathanni\\pycharmprojects\\peyes\\venv\\lib\\site-packages (from pandas~=2.2->peyes) (2024.2)\n",
      "Requirement already satisfied: tenacity>=6.2.0 in c:\\users\\jonathanni\\pycharmprojects\\peyes\\venv\\lib\\site-packages (from plotly~=5.2->peyes) (9.0.0)\n",
      "Requirement already satisfied: packaging in c:\\users\\jonathanni\\pycharmprojects\\peyes\\venv\\lib\\site-packages (from plotly~=5.2->peyes) (24.1)\n",
      "Requirement already satisfied: Levenshtein==0.26.0 in c:\\users\\jonathanni\\pycharmprojects\\peyes\\venv\\lib\\site-packages (from python-levenshtein~=0.2->peyes) (0.26.0)\n",
      "Requirement already satisfied: rapidfuzz<4.0.0,>=3.9.0 in c:\\users\\jonathanni\\pycharmprojects\\peyes\\venv\\lib\\site-packages (from Levenshtein==0.26.0->python-levenshtein~=0.2->peyes) (3.10.0)\n",
      "Requirement already satisfied: matplotlib in c:\\users\\jonathanni\\pycharmprojects\\peyes\\venv\\lib\\site-packages (from remodnav~=1.1->peyes) (3.9.2)\n",
      "Requirement already satisfied: charset-normalizer<4,>=2 in c:\\users\\jonathanni\\pycharmprojects\\peyes\\venv\\lib\\site-packages (from requests~=2.32->peyes) (3.3.2)\n",
      "Requirement already satisfied: idna<4,>=2.5 in c:\\users\\jonathanni\\pycharmprojects\\peyes\\venv\\lib\\site-packages (from requests~=2.32->peyes) (3.10)\n",
      "Requirement already satisfied: urllib3<3,>=1.21.1 in c:\\users\\jonathanni\\pycharmprojects\\peyes\\venv\\lib\\site-packages (from requests~=2.32->peyes) (2.2.3)\n",
      "Requirement already satisfied: certifi>=2017.4.17 in c:\\users\\jonathanni\\pycharmprojects\\peyes\\venv\\lib\\site-packages (from requests~=2.32->peyes) (2024.8.30)\n",
      "Requirement already satisfied: joblib>=1.2.0 in c:\\users\\jonathanni\\pycharmprojects\\peyes\\venv\\lib\\site-packages (from scikit-learn~=1.5->peyes) (1.4.2)\n",
      "Requirement already satisfied: threadpoolctl>=3.1.0 in c:\\users\\jonathanni\\pycharmprojects\\peyes\\venv\\lib\\site-packages (from scikit-learn~=1.5->peyes) (3.5.0)\n",
      "Requirement already satisfied: seaborn in c:\\users\\jonathanni\\pycharmprojects\\peyes\\venv\\lib\\site-packages (from scikit-posthocs~=0.9->peyes) (0.13.2)\n",
      "Requirement already satisfied: patsy>=0.5.6 in c:\\users\\jonathanni\\pycharmprojects\\peyes\\venv\\lib\\site-packages (from statsmodels~=0.1->peyes) (0.5.6)\n",
      "Requirement already satisfied: colorama in c:\\users\\jonathanni\\pycharmprojects\\peyes\\venv\\lib\\site-packages (from tqdm~=4.6->peyes) (0.4.6)\n",
      "Requirement already satisfied: six in c:\\users\\jonathanni\\pycharmprojects\\peyes\\venv\\lib\\site-packages (from patsy>=0.5.6->statsmodels~=0.1->peyes) (1.16.0)\n",
      "Requirement already satisfied: contourpy>=1.0.1 in c:\\users\\jonathanni\\pycharmprojects\\peyes\\venv\\lib\\site-packages (from matplotlib->remodnav~=1.1->peyes) (1.3.0)\n",
      "Requirement already satisfied: cycler>=0.10 in c:\\users\\jonathanni\\pycharmprojects\\peyes\\venv\\lib\\site-packages (from matplotlib->remodnav~=1.1->peyes) (0.12.1)\n",
      "Requirement already satisfied: fonttools>=4.22.0 in c:\\users\\jonathanni\\pycharmprojects\\peyes\\venv\\lib\\site-packages (from matplotlib->remodnav~=1.1->peyes) (4.54.1)\n",
      "Requirement already satisfied: kiwisolver>=1.3.1 in c:\\users\\jonathanni\\pycharmprojects\\peyes\\venv\\lib\\site-packages (from matplotlib->remodnav~=1.1->peyes) (1.4.7)\n",
      "Requirement already satisfied: pillow>=8 in c:\\users\\jonathanni\\pycharmprojects\\peyes\\venv\\lib\\site-packages (from matplotlib->remodnav~=1.1->peyes) (10.4.0)\n",
      "Requirement already satisfied: pyparsing>=2.3.1 in c:\\users\\jonathanni\\pycharmprojects\\peyes\\venv\\lib\\site-packages (from matplotlib->remodnav~=1.1->peyes) (3.1.4)\n"
     ]
    }
   ],
   "execution_count": 1
  },
  {
   "metadata": {
    "ExecuteTime": {
     "end_time": "2024-11-10T11:42:48.949886Z",
     "start_time": "2024-11-10T11:42:47.892396Z"
    }
   },
   "cell_type": "code",
   "source": [
    "import numpy as np\n",
    "\n",
    "import peyes"
   ],
   "id": "initial_id",
   "outputs": [],
   "execution_count": 2
  },
  {
   "metadata": {},
   "cell_type": "markdown",
   "source": [
    "### pEYES Constants\n",
    "pEYES includes several constant values, mostly strings, that are used throughout the package.  \n",
    "Lets print out some of these constants."
   ],
   "id": "f37d12a20def3c17"
  },
  {
   "metadata": {
    "ExecuteTime": {
     "end_time": "2024-11-10T11:42:49.233654Z",
     "start_time": "2024-11-10T11:42:49.229632Z"
    }
   },
   "cell_type": "code",
   "source": [
    "print(f\"Milliseconds per second:\\t{peyes.constants.MILLISECONDS_PER_SECOND}\")\n",
    "print(f\"X:\\t{peyes.constants.X}\\t\\tY:\\t{peyes.constants.Y}\\t\\tT:\\t{peyes.constants.T}\")\n",
    "print(f\"Subject ID:\\t{peyes.constants.SUBJECT_ID_STR}\\t\\tTrial ID:\\t{peyes.constants.TRIAL_ID_STR}\")\n",
    "print(f\"Label:\\t{peyes.constants.LABEL_STR}\\t\\tLabels:\\t{peyes.constants.LABELS_STR}\")"
   ],
   "id": "e5dd7d702214b753",
   "outputs": [
    {
     "name": "stdout",
     "output_type": "stream",
     "text": [
      "Milliseconds per second:\t1000\n",
      "X:\tx\t\tY:\ty\t\tT:\tt\n",
      "Subject ID:\tsubject_id\t\tTrial ID:\ttrial_id\n",
      "Label:\tlabel\t\tLabels:\tlabels\n"
     ]
    }
   ],
   "execution_count": 3
  },
  {
   "metadata": {},
   "cell_type": "markdown",
   "source": [
    "### pEYES Parsers\n",
    "#### pEYES Enum-Labels\n",
    "As shown above, pEYES works with an Enum-based labeling system, to enforce consistent annotations across different implementations. For example, instead of using multiple variations of \"fixation\" (e.g. \"fix\", \"fixation\", \"Fixation\"), pEYES uses a single `EventLabelEnum.FIXATION: 1` label to represent fixations. The `parse_label` function converts between commonly used labels and the Enum-based system used by pEYES.\n",
    "\n",
    "#### pEYES Data Parser\n",
    "pEYES requires specific structures when analyzing eye-tracking data.  \n",
    "* The `peyes.parse_data` function parses raw eye-tracking data into the required structure, based on user-defined specifications of the input data.\n",
    "* The `peyes.parse_label` function converts between commonly used labels and the Enum-based labeling system used by pEYES."
   ],
   "id": "1e628d7d33c73e8c"
  },
  {
   "metadata": {
    "ExecuteTime": {
     "end_time": "2024-11-10T11:42:49.296445Z",
     "start_time": "2024-11-10T11:42:49.293387Z"
    }
   },
   "cell_type": "code",
   "source": [
    "print(peyes.parse_label(1))\n",
    "print(peyes.parse_label(2) == peyes.parse_label(\"saccade\") == peyes.parse_label(\"Saccade\") == peyes.parse_label(2.0))"
   ],
   "id": "4c6d09e0ad0bcd6e",
   "outputs": [
    {
     "name": "stdout",
     "output_type": "stream",
     "text": [
      "1\n",
      "True\n"
     ]
    }
   ],
   "execution_count": 4
  },
  {
   "metadata": {},
   "cell_type": "markdown",
   "source": [
    "### Datasets\n",
    "pEYES provides a simple api to download and load several publicly-available eye-tracking datasets. These datasets could be stored and loaded from a local directory, and if loading fails, the datasets are downloaded from the internet.  \n",
    "\n",
    "Let's load the Lund 2013 dataset and print out its contents.\n",
    "As you can see, the dataset contains the following columns:\n",
    "- `t`, `x` `y`, `pupil` that represent the time, x-coordinate, y-coordinate and pupil size of the eye-tracking data.\n",
    "- `subject_id` and `trial_id` that represent the subject and trial id of the data.\n",
    "- `stimulus_type` and `stimulus_id` that represent the type (e.g. \"image\") and id (name of image file) of the stimulus presented to the subject.\n",
    "- `viewer_distance` is the distance of the subject from the screed, in cm (this is used to calculate the visual angles, velocities and other values required for some detection algorithms).\n",
    "- `pixel_size` is the size of the pixels on the screen, in cm (this is used to calculate the visual angles, velocities and other values required for some detection algorithms).\n",
    "\n",
    "Each dataset also includes dataset-specific columns (e.g. \"MN\"), representing the human-annotated labels for each sample.  \n",
    "\n",
    "Let's load the Lund 2013 dataset and print its first 10 rows."
   ],
   "id": "35db953a63e0fd17"
  },
  {
   "metadata": {
    "ExecuteTime": {
     "end_time": "2024-11-10T11:43:17.759284Z",
     "start_time": "2024-11-10T11:42:49.310759Z"
    }
   },
   "cell_type": "code",
   "source": [
    "dataset = peyes.datasets.lund2013(directory=None, save=False, verbose=True)\n",
    "dataset.head(n=10)"
   ],
   "id": "9df1421cf28f38fd",
   "outputs": [
    {
     "name": "stdout",
     "output_type": "stream",
     "text": [
      "Downloading...\n"
     ]
    },
    {
     "name": "stderr",
     "output_type": "stream",
     "text": [
      "Processing Files: 100%|██████████| 96/96 [00:00<00:00, 200.88it/s]\n"
     ]
    },
    {
     "data": {
      "text/plain": [
       "   trial_id subject_id stimulus_type stimulus_name     t         x        y  \\\n",
       "0         1       TH20    moving_dot             1   0.0  123.2532  22.6264   \n",
       "1         1       TH20    moving_dot             1   2.0  123.5395  22.9064   \n",
       "2         1       TH20    moving_dot             1   4.0  123.2230  21.9909   \n",
       "3         1       TH20    moving_dot             1   6.0  123.1883  21.7740   \n",
       "4         1       TH20    moving_dot             1   8.0  125.0540  21.1805   \n",
       "5         1       TH20    moving_dot             1  10.0  125.9186  20.1961   \n",
       "6         1       TH20    moving_dot             1  12.0  125.4313  20.5499   \n",
       "7         1       TH20    moving_dot             1  14.0  124.5692  21.0196   \n",
       "8         1       TH20    moving_dot             1  16.0  124.6138  20.8048   \n",
       "9         1       TH20    moving_dot             1  18.0  123.4891  21.6321   \n",
       "\n",
       "   pupil  pixel_size  viewer_distance   MN   RA  \n",
       "0    NaN    0.037824             67.0  1.0  1.0  \n",
       "1    NaN    0.037824             67.0  1.0  1.0  \n",
       "2    NaN    0.037824             67.0  1.0  1.0  \n",
       "3    NaN    0.037824             67.0  1.0  1.0  \n",
       "4    NaN    0.037824             67.0  1.0  1.0  \n",
       "5    NaN    0.037824             67.0  1.0  1.0  \n",
       "6    NaN    0.037824             67.0  1.0  1.0  \n",
       "7    NaN    0.037824             67.0  1.0  1.0  \n",
       "8    NaN    0.037824             67.0  1.0  1.0  \n",
       "9    NaN    0.037824             67.0  1.0  1.0  "
      ],
      "text/html": [
       "<div>\n",
       "<style scoped>\n",
       "    .dataframe tbody tr th:only-of-type {\n",
       "        vertical-align: middle;\n",
       "    }\n",
       "\n",
       "    .dataframe tbody tr th {\n",
       "        vertical-align: top;\n",
       "    }\n",
       "\n",
       "    .dataframe thead th {\n",
       "        text-align: right;\n",
       "    }\n",
       "</style>\n",
       "<table border=\"1\" class=\"dataframe\">\n",
       "  <thead>\n",
       "    <tr style=\"text-align: right;\">\n",
       "      <th></th>\n",
       "      <th>trial_id</th>\n",
       "      <th>subject_id</th>\n",
       "      <th>stimulus_type</th>\n",
       "      <th>stimulus_name</th>\n",
       "      <th>t</th>\n",
       "      <th>x</th>\n",
       "      <th>y</th>\n",
       "      <th>pupil</th>\n",
       "      <th>pixel_size</th>\n",
       "      <th>viewer_distance</th>\n",
       "      <th>MN</th>\n",
       "      <th>RA</th>\n",
       "    </tr>\n",
       "  </thead>\n",
       "  <tbody>\n",
       "    <tr>\n",
       "      <th>0</th>\n",
       "      <td>1</td>\n",
       "      <td>TH20</td>\n",
       "      <td>moving_dot</td>\n",
       "      <td>1</td>\n",
       "      <td>0.0</td>\n",
       "      <td>123.2532</td>\n",
       "      <td>22.6264</td>\n",
       "      <td>NaN</td>\n",
       "      <td>0.037824</td>\n",
       "      <td>67.0</td>\n",
       "      <td>1.0</td>\n",
       "      <td>1.0</td>\n",
       "    </tr>\n",
       "    <tr>\n",
       "      <th>1</th>\n",
       "      <td>1</td>\n",
       "      <td>TH20</td>\n",
       "      <td>moving_dot</td>\n",
       "      <td>1</td>\n",
       "      <td>2.0</td>\n",
       "      <td>123.5395</td>\n",
       "      <td>22.9064</td>\n",
       "      <td>NaN</td>\n",
       "      <td>0.037824</td>\n",
       "      <td>67.0</td>\n",
       "      <td>1.0</td>\n",
       "      <td>1.0</td>\n",
       "    </tr>\n",
       "    <tr>\n",
       "      <th>2</th>\n",
       "      <td>1</td>\n",
       "      <td>TH20</td>\n",
       "      <td>moving_dot</td>\n",
       "      <td>1</td>\n",
       "      <td>4.0</td>\n",
       "      <td>123.2230</td>\n",
       "      <td>21.9909</td>\n",
       "      <td>NaN</td>\n",
       "      <td>0.037824</td>\n",
       "      <td>67.0</td>\n",
       "      <td>1.0</td>\n",
       "      <td>1.0</td>\n",
       "    </tr>\n",
       "    <tr>\n",
       "      <th>3</th>\n",
       "      <td>1</td>\n",
       "      <td>TH20</td>\n",
       "      <td>moving_dot</td>\n",
       "      <td>1</td>\n",
       "      <td>6.0</td>\n",
       "      <td>123.1883</td>\n",
       "      <td>21.7740</td>\n",
       "      <td>NaN</td>\n",
       "      <td>0.037824</td>\n",
       "      <td>67.0</td>\n",
       "      <td>1.0</td>\n",
       "      <td>1.0</td>\n",
       "    </tr>\n",
       "    <tr>\n",
       "      <th>4</th>\n",
       "      <td>1</td>\n",
       "      <td>TH20</td>\n",
       "      <td>moving_dot</td>\n",
       "      <td>1</td>\n",
       "      <td>8.0</td>\n",
       "      <td>125.0540</td>\n",
       "      <td>21.1805</td>\n",
       "      <td>NaN</td>\n",
       "      <td>0.037824</td>\n",
       "      <td>67.0</td>\n",
       "      <td>1.0</td>\n",
       "      <td>1.0</td>\n",
       "    </tr>\n",
       "    <tr>\n",
       "      <th>5</th>\n",
       "      <td>1</td>\n",
       "      <td>TH20</td>\n",
       "      <td>moving_dot</td>\n",
       "      <td>1</td>\n",
       "      <td>10.0</td>\n",
       "      <td>125.9186</td>\n",
       "      <td>20.1961</td>\n",
       "      <td>NaN</td>\n",
       "      <td>0.037824</td>\n",
       "      <td>67.0</td>\n",
       "      <td>1.0</td>\n",
       "      <td>1.0</td>\n",
       "    </tr>\n",
       "    <tr>\n",
       "      <th>6</th>\n",
       "      <td>1</td>\n",
       "      <td>TH20</td>\n",
       "      <td>moving_dot</td>\n",
       "      <td>1</td>\n",
       "      <td>12.0</td>\n",
       "      <td>125.4313</td>\n",
       "      <td>20.5499</td>\n",
       "      <td>NaN</td>\n",
       "      <td>0.037824</td>\n",
       "      <td>67.0</td>\n",
       "      <td>1.0</td>\n",
       "      <td>1.0</td>\n",
       "    </tr>\n",
       "    <tr>\n",
       "      <th>7</th>\n",
       "      <td>1</td>\n",
       "      <td>TH20</td>\n",
       "      <td>moving_dot</td>\n",
       "      <td>1</td>\n",
       "      <td>14.0</td>\n",
       "      <td>124.5692</td>\n",
       "      <td>21.0196</td>\n",
       "      <td>NaN</td>\n",
       "      <td>0.037824</td>\n",
       "      <td>67.0</td>\n",
       "      <td>1.0</td>\n",
       "      <td>1.0</td>\n",
       "    </tr>\n",
       "    <tr>\n",
       "      <th>8</th>\n",
       "      <td>1</td>\n",
       "      <td>TH20</td>\n",
       "      <td>moving_dot</td>\n",
       "      <td>1</td>\n",
       "      <td>16.0</td>\n",
       "      <td>124.6138</td>\n",
       "      <td>20.8048</td>\n",
       "      <td>NaN</td>\n",
       "      <td>0.037824</td>\n",
       "      <td>67.0</td>\n",
       "      <td>1.0</td>\n",
       "      <td>1.0</td>\n",
       "    </tr>\n",
       "    <tr>\n",
       "      <th>9</th>\n",
       "      <td>1</td>\n",
       "      <td>TH20</td>\n",
       "      <td>moving_dot</td>\n",
       "      <td>1</td>\n",
       "      <td>18.0</td>\n",
       "      <td>123.4891</td>\n",
       "      <td>21.6321</td>\n",
       "      <td>NaN</td>\n",
       "      <td>0.037824</td>\n",
       "      <td>67.0</td>\n",
       "      <td>1.0</td>\n",
       "      <td>1.0</td>\n",
       "    </tr>\n",
       "  </tbody>\n",
       "</table>\n",
       "</div>"
      ]
     },
     "execution_count": 5,
     "metadata": {},
     "output_type": "execute_result"
    }
   ],
   "execution_count": 5
  },
  {
   "metadata": {
    "ExecuteTime": {
     "end_time": "2024-11-10T11:43:17.776906Z",
     "start_time": "2024-11-10T11:43:17.764840Z"
    }
   },
   "cell_type": "code",
   "source": "type(dataset)",
   "id": "8e5e1d424d1f7eac",
   "outputs": [
    {
     "data": {
      "text/plain": [
       "pandas.core.frame.DataFrame"
      ]
     },
     "execution_count": 6,
     "metadata": {},
     "output_type": "execute_result"
    }
   ],
   "execution_count": 6
  },
  {
   "metadata": {},
   "cell_type": "markdown",
   "source": [
    "#### Dataset Metadata\n",
    "pEYES' available datasets are based on previously published datasets. The `get_metadata` function returns a dictionary that provides information about the dataset, including the dataset's name, the original publication, and the dataset's citation. If `show=True`, the function prints the metadata to the console, as well as returning the dictionary."
   ],
   "id": "7100c353df643516"
  },
  {
   "metadata": {
    "ExecuteTime": {
     "end_time": "2024-11-10T11:43:17.849689Z",
     "start_time": "2024-11-10T11:43:17.842679Z"
    }
   },
   "cell_type": "code",
   "source": [
    "metadata = peyes.datasets.get_metadata(\"lund2013\", show=False)\n",
    "metadata"
   ],
   "id": "b6a90f1b0d4cb3d6",
   "outputs": [
    {
     "data": {
      "text/plain": [
       "{'name': 'Lund2013',\n",
       " 'url': 'https://github.com/richardandersson/EyeMovementDetectorEvaluation/archive/refs/heads/master.zip',\n",
       " 'articles': ['Andersson, R., Larsson, L., Holmqvist, K., Stridh, M., & Nyström, M. (2017): One algorithm to rule them all? An evaluation and discussion of ten eye movement event-detection algorithms. Behavior Research Methods, 49(2), 616-637.'],\n",
       " 'license': 'GNU GPL-3.0'}"
      ]
     },
     "execution_count": 7,
     "metadata": {},
     "output_type": "execute_result"
    }
   ],
   "execution_count": 7
  },
  {
   "metadata": {},
   "cell_type": "markdown",
   "source": [
    "### The Detector Object\n",
    "pEYES provides implementation for several commonly-used eye-tracking detection algorithms, including Engbert's detector, the I-VT detector, and the I-DT detector, and others. \n",
    "These detectors share the same `detect` api, that takes raw eye-tracking data and returns 2 values:  \n",
    "- list of labels all input samples  \n",
    "- metadata dictionary containing information about the detection process.  \n",
    "\n",
    "Let's create an instance of the Engbert detector. Note there are a few mandatory parameters:  \n",
    "- `algorithm`: the name of the algorithm to use (e.g. \"engbert\", \"ivt\", \"idt\").\n",
    "- `missing_value`: the value used to represent missing data in the input data.\n",
    "- `min_event_duration`: the minimum duration of an event (of any type), in ms.\n",
    "- `pad_blinks_time`: the time to pad around blinks, in ms."
   ],
   "id": "dbc99508f18e191f"
  },
  {
   "metadata": {
    "ExecuteTime": {
     "end_time": "2024-11-10T11:43:17.895748Z",
     "start_time": "2024-11-10T11:43:17.889646Z"
    }
   },
   "cell_type": "code",
   "source": [
    "# create detector\n",
    "engbert = peyes.create_detector(\n",
    "    algorithm=\"engbert\", missing_value=np.nan, min_event_duration=4, pad_blinks_time=0,\n",
    ")"
   ],
   "id": "66112282db06af28",
   "outputs": [],
   "execution_count": 8
  },
  {
   "metadata": {},
   "cell_type": "markdown",
   "source": [
    "**Detector Name**\n",
    "An optional parameter, `name`, enables you to give a name to the detector object. The default name is the the phrase '<algorithm>Detector', for example 'EngbertDetector'. The name argument is used to identify different instances of the same detector, and it can be set manually when you initiate a detector instance, or edited later."
   ],
   "id": "70a7fddac598565c"
  },
  {
   "metadata": {
    "ExecuteTime": {
     "end_time": "2024-11-10T11:43:17.929377Z",
     "start_time": "2024-11-10T11:43:17.926278Z"
    }
   },
   "cell_type": "code",
   "source": [
    "print(f\"Original detector name: {engbert.name}\")\n",
    "engbert.name = \"MyEngbertDetector\"\n",
    "print(f\"New detector name: {engbert.name}\")\n",
    "\n",
    "engbert2 = peyes.create_detector(\n",
    "    algorithm=\"engbert\", missing_value=np.nan, min_event_duration=4, pad_blinks_time=0, name=\"Engbert2\"\n",
    ")\n",
    "print(f\"Second detector name: {engbert2.name}\")"
   ],
   "id": "6214290e444aff2e",
   "outputs": [
    {
     "name": "stdout",
     "output_type": "stream",
     "text": [
      "Original detector name: EngbertDetector\n",
      "New detector name: MyEngbertDetector\n",
      "Second detector name: Engbert2\n"
     ]
    }
   ],
   "execution_count": 9
  },
  {
   "metadata": {},
   "cell_type": "markdown",
   "source": [
    "Other than those parameters, each detectors may require additional parameters that could be added as keyword arguments.\n",
    "You can use the class-method `documentation` to see the full documentation of this algorithm for more information, and use class-method `article()` to get a list of articles to cite when using this detector."
   ],
   "id": "7cd3862a96fe1261"
  },
  {
   "metadata": {
    "ExecuteTime": {
     "end_time": "2024-11-10T11:43:17.957105Z",
     "start_time": "2024-11-10T11:43:17.953621Z"
    }
   },
   "cell_type": "code",
   "source": "print(engbert.documentation())",
   "id": "5ed279e0d62b6edd",
   "outputs": [
    {
     "name": "stdout",
     "output_type": "stream",
     "text": [
      "Algorithm:\tEngbert\n",
      "Articles:\n",
      "- Engbert, R. & Kliegl, R. (2003). Microsaccades uncover the orientation of covert attention. Vision Research\n",
      "- Engbert, R., Mergenthaler, K., & Purves, D. (Ed.). (2006). Microsaccades are triggered by low retinal image slip. PNAS Proceedings of the National Academy of Sciences of the United States of America\n",
      "\n",
      "    Implements the algorithm described by Engbert, Kliegl, and Mergenthaler in\n",
      "        \"Microsaccades uncover the orientation of covert attention\" (2003)\n",
      "        \"Microsaccades are triggered by low retinal image slip\" (2006)\n",
      "\n",
      "    Implementation is based on the following repositories:\n",
      "        - https://shorturl.at/lyBE2\n",
      "        - https://shorturl.at/DHJZ6\n",
      "\n",
      "    General algorithm:\n",
      "        1. Calculate the velocity of the gaze data in both axes\n",
      "        2. Calculate the median-based-standard-deviation of the velocity in each axis\n",
      "        3. Calculate the saccade threshold as the multiple of the median-based-standard-deviation with the\n",
      "            `lambda_param` constant\n",
      "        4. Identify saccade candidates as samples with velocity greater than the noise threshold\n",
      "\n",
      "    :param missing_value: the value that indicates missing data in the gaze data.\n",
      "    :param min_event_duration: the minimum duration of a gaze event, in milliseconds.\n",
      "    :param pad_blinks_ms: the duration to pad around detected blinks, in milliseconds.\n",
      "    :param name: the name of the detector. Default is the class name.\n",
      "    :param lambda_param: the multiplication coefficient used for calculating saccade threshold. Default is 5, as\n",
      "        suggested in the original paper by Engbert & Mergethaler (2006) (note Engbert & Klielgl 2003 use lambda=6).\n",
      "    :param deriv_window_size: number of samples (including the middle sample) used to calculate the velocity, meaning\n",
      "        the velocity at time t is the difference between the sum of the `ws//2` samples after and before t, divided by\n",
      "        the window size. Default is 5, as suggested in the original paper\n",
      "    \n"
     ]
    }
   ],
   "execution_count": 10
  },
  {
   "metadata": {},
   "cell_type": "markdown",
   "source": [
    "### Detecting Labels\n",
    "After initializing a detector object, we can use it to detect (classify) samples from our dataset.  \n",
    "Detection should be done on a per-trial basis, as the parameters of the eye-tracking setup (like viewer distance) may change between trials.  \n",
    "Note that each trial may have different `pixel_size` and `viewer_distance` values, which are required for the calculation of visual angles and velocities during detection.  \n",
    "\n",
    "We extract the `t`, `x` and `y` columns from the dataset **as numpy arrays**, and pass them to the detector's `detect` method, along with the `pixel_size` and `viewer_distance` values for the specific trial.  \n",
    "\n",
    "The `detect` method returns two values:\n",
    "- `labels`: a list of Enum values, representing the detected labels for each sample.\n",
    "- `metadata`: a dictionary containing information about the detection process, including the `pixel_size`, `viewer_distance`, and other detector-specific values."
   ],
   "id": "2946b1be951500a8"
  },
  {
   "metadata": {
    "ExecuteTime": {
     "end_time": "2024-11-10T11:43:17.983713Z",
     "start_time": "2024-11-10T11:43:17.967367Z"
    }
   },
   "cell_type": "code",
   "source": [
    "# extract single trial data\n",
    "trial1_data = dataset[dataset[peyes.constants.TRIAL_ID_STR] == 1]\n",
    "trial1_pixel_size = trial1_data[\"pixel_size\"].values[0]\n",
    "trial1_viewer_distance = trial1_data[\"viewer_distance\"].values[0]\n",
    "\n",
    "# detect labels\n",
    "trial1_labels, trial1_metadata = engbert.detect(\n",
    "    t=trial1_data[peyes.constants.T].values, x=trial1_data[peyes.constants.X].values, y=trial1_data[peyes.constants.Y].values,\n",
    "    pixel_size_cm=trial1_pixel_size, viewer_distance_cm=trial1_viewer_distance\n",
    ")"
   ],
   "id": "8a7232c85d599d03",
   "outputs": [],
   "execution_count": 11
  },
  {
   "metadata": {
    "ExecuteTime": {
     "end_time": "2024-11-10T11:43:17.993817Z",
     "start_time": "2024-11-10T11:43:17.991030Z"
    }
   },
   "cell_type": "code",
   "source": [
    "# print the first 10 labels\n",
    "print(trial1_labels[:10])"
   ],
   "id": "97b6ea5e1e0c54ee",
   "outputs": [
    {
     "name": "stdout",
     "output_type": "stream",
     "text": [
      "[<EventLabelEnum.UNDEFINED: 0>, <EventLabelEnum.UNDEFINED: 0>, <EventLabelEnum.UNDEFINED: 0>, <EventLabelEnum.FIXATION: 1>, <EventLabelEnum.FIXATION: 1>, <EventLabelEnum.FIXATION: 1>, <EventLabelEnum.FIXATION: 1>, <EventLabelEnum.FIXATION: 1>, <EventLabelEnum.FIXATION: 1>, <EventLabelEnum.FIXATION: 1>]\n"
     ]
    }
   ],
   "execution_count": 12
  },
  {
   "metadata": {
    "ExecuteTime": {
     "end_time": "2024-11-10T11:43:18.003054Z",
     "start_time": "2024-11-10T11:43:18.000295Z"
    }
   },
   "cell_type": "code",
   "source": [
    "# print the metadata\n",
    "print(trial1_metadata)"
   ],
   "id": "e5bc39ac0060948a",
   "outputs": [
    {
     "name": "stdout",
     "output_type": "stream",
     "text": [
      "{'x_threshold_velocity_pxs': 1304.017810700855, 'y_threshold_velocity_px': 746.7841559815498, 'sampling_rate': 500.0, 'pixel_size': 0.03782412011534439, 'viewer_distance': 67.0, 'runtime': 0.012000560760498047}\n"
     ]
    }
   ],
   "execution_count": 13
  },
  {
   "metadata": {},
   "cell_type": "markdown",
   "source": [
    "As you can see, the `labels` output is a list of Enum values, representing the detected labels for each sample.\n",
    "The `metadata` output is a dictionary containing information about the detection process, including:\n",
    "- `pixel_size` and `viewer_distance`: the pixel size and viewer distance used during detection.\n",
    "- `sampling_rate`: the sampling rate of the input data, in Hz. This is computed from the input's `t` values.\n",
    "- other detector-specific values, such as `saccade_velocity_threshold`."
   ],
   "id": "e48bbab272aa4c26"
  },
  {
   "metadata": {},
   "cell_type": "markdown",
   "source": [
    "### Generate Event Objects\n",
    "The `pEYES` library also creates an object-oriented representation of eye-tracking events: Fixations, Saccades, Blinks, etc.  \n",
    "A series of consecutive samples with the same label are grouped together into an event object, which contains properties of the event, such as its start time, end time, duration, and other properties.  \n",
    "\n",
    "We can use the `peyes.create_events()` function to convert a series of labels into a list of `Event` objects. Note that we still need to provide the underlying gaze data (e.g. `t`, `x`, `y`, `pupil`) to calculate the event properties. However the `Event` object makes it very simple to extract these properties directly, without manipulating the gaze data.  \n",
    "A sequence of events can be \"summarized\" into a DataFrame, where each row represents an event, and each column represents a property of the event."
   ],
   "id": "dcbc014d8a117a0c"
  },
  {
   "metadata": {
    "ExecuteTime": {
     "end_time": "2024-11-10T11:43:18.014950Z",
     "start_time": "2024-11-10T11:43:18.010969Z"
    }
   },
   "cell_type": "code",
   "source": [
    "# generate events from labels\n",
    "trial1_events = peyes.create_events(\n",
    "    labels=trial1_labels,\n",
    "    t=trial1_data[peyes.constants.T].values,\n",
    "    x=trial1_data[peyes.constants.X].values,\n",
    "    y=trial1_data[peyes.constants.Y].values,\n",
    "    pupil=trial1_data[peyes.constants.PUPIL].values,\n",
    "    pixel_size=trial1_pixel_size,\n",
    "    viewer_distance=trial1_viewer_distance\n",
    ")\n",
    "\n",
    "# example event object\n",
    "event1 = trial1_events[0]\n",
    "print(event1.start_time, event1.end_time, event1.duration)"
   ],
   "id": "4da444ee0ee734ab",
   "outputs": [
    {
     "name": "stdout",
     "output_type": "stream",
     "text": [
      "6.0 234.0 228.0\n"
     ]
    }
   ],
   "execution_count": 14
  },
  {
   "metadata": {
    "ExecuteTime": {
     "end_time": "2024-11-10T11:43:18.092849Z",
     "start_time": "2024-11-10T11:43:18.023037Z"
    }
   },
   "cell_type": "code",
   "source": [
    "# summarize events into a DataFrame\n",
    "trial1_events_table = peyes.summarize_events(trial1_events)\n",
    "\n",
    "# show the first 10 events (rows)\n",
    "trial1_events_table.head(n=10)"
   ],
   "id": "4ee0cd7fe60f4d0c",
   "outputs": [
    {
     "data": {
      "text/plain": [
       "   label  start_time  end_time  duration   distance  amplitude     azimuth  \\\n",
       "0      1         6.0     234.0     228.0  10.731867   0.347129  283.123069   \n",
       "1      2       236.0     270.0      34.0  50.750534   1.641450  253.849780   \n",
       "2      1       272.0     404.0     132.0  11.769323   0.380686  292.015931   \n",
       "3      2       406.0     410.0       4.0   2.332259   0.075439  307.447715   \n",
       "4      1       412.0     430.0      18.0   1.621655   0.052454  240.213048   \n",
       "5      2       432.0     436.0       4.0   2.667594   0.086285  278.993396   \n",
       "6      1       438.0     474.0      36.0   6.311805   0.204160  241.149596   \n",
       "7      2       476.0     482.0       6.0   2.501285   0.080906  257.022724   \n",
       "8      1       484.0     498.0      14.0   0.883844   0.028589  311.973239   \n",
       "9      2       500.0     504.0       4.0   2.598616   0.084054  258.472566   \n",
       "\n",
       "   peak_velocity  median_velocity  min_velocity  cumulative_distance  \\\n",
       "0      38.396407        11.701471      1.320246            93.250890   \n",
       "1     118.134307        43.767117     15.860944            83.267220   \n",
       "2      34.285150        11.051958      1.532963            47.448208   \n",
       "3      34.029140        28.054261     22.079382             3.550564   \n",
       "4      21.129365         9.580594      5.662236             6.029342   \n",
       "5      25.359122        21.326048     17.292974             2.671565   \n",
       "6      24.783695        14.152514      3.621239            15.015628   \n",
       "7      21.687408        20.990353      7.220734             3.116873   \n",
       "8      21.068443        16.030618      7.366600             6.509260   \n",
       "9      25.387051        21.152187     16.917323             2.649627   \n",
       "\n",
       "   cumulative_amplitude                              center_pixel  \\\n",
       "0              3.015570  (125.42861043478263, 25.193726086956516)   \n",
       "1              2.692841   (110.33587222222224, 65.83935555555556)   \n",
       "2              1.534654    (115.0098462686567, 84.90059850746269)   \n",
       "3              0.114845   (119.18793333333333, 91.71676666666667)   \n",
       "4              0.195023             (119.94252000000002, 94.0005)   \n",
       "5              0.086414             (120.23966666666668, 96.1648)   \n",
       "6              0.485688  (119.31703157894736, 100.76088421052633)   \n",
       "7              0.100817                  (117.085275, 105.344725)   \n",
       "8              0.210546         (116.7001125, 107.95206250000001)   \n",
       "9              0.085704  (117.45339999999999, 109.94846666666666)   \n",
       "\n",
       "                                   pixel_std  dispersion  ellipse_area  \\\n",
       "0   (1.8360434505313163, 2.8034552127869063)    0.613952      0.068714   \n",
       "1    (11.751764742502179, 19.81935292371301)    2.803932      1.473036   \n",
       "2   (1.4069625453360917, 2.4731330361457275)    0.521881      0.046163   \n",
       "3   (0.6521475003572623, 0.9559049650578304)    0.115963      0.002525   \n",
       "4   (0.566932609399036, 0.43445897850084536)    0.106353      0.002175   \n",
       "5  (0.17082984386680167, 1.0829750351077656)    0.098713      0.000903   \n",
       "6   (1.0155502532605212, 1.6309816024852746)    0.314743      0.018652   \n",
       "7   (0.35710255792279194, 1.015302889228136)    0.112553      0.002047   \n",
       "8   (0.6282825527529378, 0.3274744987686065)    0.090497      0.001415   \n",
       "9   (0.2556709213031499, 1.0446565538757489)    0.100563      0.001178   \n",
       "\n",
       "   is_outlier outlier_reasons  \n",
       "0       False              []  \n",
       "1       False              []  \n",
       "2       False              []  \n",
       "3        True  [min_duration]  \n",
       "4        True  [min_duration]  \n",
       "5        True  [min_duration]  \n",
       "6        True  [min_duration]  \n",
       "7        True  [min_duration]  \n",
       "8        True  [min_duration]  \n",
       "9        True  [min_duration]  "
      ],
      "text/html": [
       "<div>\n",
       "<style scoped>\n",
       "    .dataframe tbody tr th:only-of-type {\n",
       "        vertical-align: middle;\n",
       "    }\n",
       "\n",
       "    .dataframe tbody tr th {\n",
       "        vertical-align: top;\n",
       "    }\n",
       "\n",
       "    .dataframe thead th {\n",
       "        text-align: right;\n",
       "    }\n",
       "</style>\n",
       "<table border=\"1\" class=\"dataframe\">\n",
       "  <thead>\n",
       "    <tr style=\"text-align: right;\">\n",
       "      <th></th>\n",
       "      <th>label</th>\n",
       "      <th>start_time</th>\n",
       "      <th>end_time</th>\n",
       "      <th>duration</th>\n",
       "      <th>distance</th>\n",
       "      <th>amplitude</th>\n",
       "      <th>azimuth</th>\n",
       "      <th>peak_velocity</th>\n",
       "      <th>median_velocity</th>\n",
       "      <th>min_velocity</th>\n",
       "      <th>cumulative_distance</th>\n",
       "      <th>cumulative_amplitude</th>\n",
       "      <th>center_pixel</th>\n",
       "      <th>pixel_std</th>\n",
       "      <th>dispersion</th>\n",
       "      <th>ellipse_area</th>\n",
       "      <th>is_outlier</th>\n",
       "      <th>outlier_reasons</th>\n",
       "    </tr>\n",
       "  </thead>\n",
       "  <tbody>\n",
       "    <tr>\n",
       "      <th>0</th>\n",
       "      <td>1</td>\n",
       "      <td>6.0</td>\n",
       "      <td>234.0</td>\n",
       "      <td>228.0</td>\n",
       "      <td>10.731867</td>\n",
       "      <td>0.347129</td>\n",
       "      <td>283.123069</td>\n",
       "      <td>38.396407</td>\n",
       "      <td>11.701471</td>\n",
       "      <td>1.320246</td>\n",
       "      <td>93.250890</td>\n",
       "      <td>3.015570</td>\n",
       "      <td>(125.42861043478263, 25.193726086956516)</td>\n",
       "      <td>(1.8360434505313163, 2.8034552127869063)</td>\n",
       "      <td>0.613952</td>\n",
       "      <td>0.068714</td>\n",
       "      <td>False</td>\n",
       "      <td>[]</td>\n",
       "    </tr>\n",
       "    <tr>\n",
       "      <th>1</th>\n",
       "      <td>2</td>\n",
       "      <td>236.0</td>\n",
       "      <td>270.0</td>\n",
       "      <td>34.0</td>\n",
       "      <td>50.750534</td>\n",
       "      <td>1.641450</td>\n",
       "      <td>253.849780</td>\n",
       "      <td>118.134307</td>\n",
       "      <td>43.767117</td>\n",
       "      <td>15.860944</td>\n",
       "      <td>83.267220</td>\n",
       "      <td>2.692841</td>\n",
       "      <td>(110.33587222222224, 65.83935555555556)</td>\n",
       "      <td>(11.751764742502179, 19.81935292371301)</td>\n",
       "      <td>2.803932</td>\n",
       "      <td>1.473036</td>\n",
       "      <td>False</td>\n",
       "      <td>[]</td>\n",
       "    </tr>\n",
       "    <tr>\n",
       "      <th>2</th>\n",
       "      <td>1</td>\n",
       "      <td>272.0</td>\n",
       "      <td>404.0</td>\n",
       "      <td>132.0</td>\n",
       "      <td>11.769323</td>\n",
       "      <td>0.380686</td>\n",
       "      <td>292.015931</td>\n",
       "      <td>34.285150</td>\n",
       "      <td>11.051958</td>\n",
       "      <td>1.532963</td>\n",
       "      <td>47.448208</td>\n",
       "      <td>1.534654</td>\n",
       "      <td>(115.0098462686567, 84.90059850746269)</td>\n",
       "      <td>(1.4069625453360917, 2.4731330361457275)</td>\n",
       "      <td>0.521881</td>\n",
       "      <td>0.046163</td>\n",
       "      <td>False</td>\n",
       "      <td>[]</td>\n",
       "    </tr>\n",
       "    <tr>\n",
       "      <th>3</th>\n",
       "      <td>2</td>\n",
       "      <td>406.0</td>\n",
       "      <td>410.0</td>\n",
       "      <td>4.0</td>\n",
       "      <td>2.332259</td>\n",
       "      <td>0.075439</td>\n",
       "      <td>307.447715</td>\n",
       "      <td>34.029140</td>\n",
       "      <td>28.054261</td>\n",
       "      <td>22.079382</td>\n",
       "      <td>3.550564</td>\n",
       "      <td>0.114845</td>\n",
       "      <td>(119.18793333333333, 91.71676666666667)</td>\n",
       "      <td>(0.6521475003572623, 0.9559049650578304)</td>\n",
       "      <td>0.115963</td>\n",
       "      <td>0.002525</td>\n",
       "      <td>True</td>\n",
       "      <td>[min_duration]</td>\n",
       "    </tr>\n",
       "    <tr>\n",
       "      <th>4</th>\n",
       "      <td>1</td>\n",
       "      <td>412.0</td>\n",
       "      <td>430.0</td>\n",
       "      <td>18.0</td>\n",
       "      <td>1.621655</td>\n",
       "      <td>0.052454</td>\n",
       "      <td>240.213048</td>\n",
       "      <td>21.129365</td>\n",
       "      <td>9.580594</td>\n",
       "      <td>5.662236</td>\n",
       "      <td>6.029342</td>\n",
       "      <td>0.195023</td>\n",
       "      <td>(119.94252000000002, 94.0005)</td>\n",
       "      <td>(0.566932609399036, 0.43445897850084536)</td>\n",
       "      <td>0.106353</td>\n",
       "      <td>0.002175</td>\n",
       "      <td>True</td>\n",
       "      <td>[min_duration]</td>\n",
       "    </tr>\n",
       "    <tr>\n",
       "      <th>5</th>\n",
       "      <td>2</td>\n",
       "      <td>432.0</td>\n",
       "      <td>436.0</td>\n",
       "      <td>4.0</td>\n",
       "      <td>2.667594</td>\n",
       "      <td>0.086285</td>\n",
       "      <td>278.993396</td>\n",
       "      <td>25.359122</td>\n",
       "      <td>21.326048</td>\n",
       "      <td>17.292974</td>\n",
       "      <td>2.671565</td>\n",
       "      <td>0.086414</td>\n",
       "      <td>(120.23966666666668, 96.1648)</td>\n",
       "      <td>(0.17082984386680167, 1.0829750351077656)</td>\n",
       "      <td>0.098713</td>\n",
       "      <td>0.000903</td>\n",
       "      <td>True</td>\n",
       "      <td>[min_duration]</td>\n",
       "    </tr>\n",
       "    <tr>\n",
       "      <th>6</th>\n",
       "      <td>1</td>\n",
       "      <td>438.0</td>\n",
       "      <td>474.0</td>\n",
       "      <td>36.0</td>\n",
       "      <td>6.311805</td>\n",
       "      <td>0.204160</td>\n",
       "      <td>241.149596</td>\n",
       "      <td>24.783695</td>\n",
       "      <td>14.152514</td>\n",
       "      <td>3.621239</td>\n",
       "      <td>15.015628</td>\n",
       "      <td>0.485688</td>\n",
       "      <td>(119.31703157894736, 100.76088421052633)</td>\n",
       "      <td>(1.0155502532605212, 1.6309816024852746)</td>\n",
       "      <td>0.314743</td>\n",
       "      <td>0.018652</td>\n",
       "      <td>True</td>\n",
       "      <td>[min_duration]</td>\n",
       "    </tr>\n",
       "    <tr>\n",
       "      <th>7</th>\n",
       "      <td>2</td>\n",
       "      <td>476.0</td>\n",
       "      <td>482.0</td>\n",
       "      <td>6.0</td>\n",
       "      <td>2.501285</td>\n",
       "      <td>0.080906</td>\n",
       "      <td>257.022724</td>\n",
       "      <td>21.687408</td>\n",
       "      <td>20.990353</td>\n",
       "      <td>7.220734</td>\n",
       "      <td>3.116873</td>\n",
       "      <td>0.100817</td>\n",
       "      <td>(117.085275, 105.344725)</td>\n",
       "      <td>(0.35710255792279194, 1.015302889228136)</td>\n",
       "      <td>0.112553</td>\n",
       "      <td>0.002047</td>\n",
       "      <td>True</td>\n",
       "      <td>[min_duration]</td>\n",
       "    </tr>\n",
       "    <tr>\n",
       "      <th>8</th>\n",
       "      <td>1</td>\n",
       "      <td>484.0</td>\n",
       "      <td>498.0</td>\n",
       "      <td>14.0</td>\n",
       "      <td>0.883844</td>\n",
       "      <td>0.028589</td>\n",
       "      <td>311.973239</td>\n",
       "      <td>21.068443</td>\n",
       "      <td>16.030618</td>\n",
       "      <td>7.366600</td>\n",
       "      <td>6.509260</td>\n",
       "      <td>0.210546</td>\n",
       "      <td>(116.7001125, 107.95206250000001)</td>\n",
       "      <td>(0.6282825527529378, 0.3274744987686065)</td>\n",
       "      <td>0.090497</td>\n",
       "      <td>0.001415</td>\n",
       "      <td>True</td>\n",
       "      <td>[min_duration]</td>\n",
       "    </tr>\n",
       "    <tr>\n",
       "      <th>9</th>\n",
       "      <td>2</td>\n",
       "      <td>500.0</td>\n",
       "      <td>504.0</td>\n",
       "      <td>4.0</td>\n",
       "      <td>2.598616</td>\n",
       "      <td>0.084054</td>\n",
       "      <td>258.472566</td>\n",
       "      <td>25.387051</td>\n",
       "      <td>21.152187</td>\n",
       "      <td>16.917323</td>\n",
       "      <td>2.649627</td>\n",
       "      <td>0.085704</td>\n",
       "      <td>(117.45339999999999, 109.94846666666666)</td>\n",
       "      <td>(0.2556709213031499, 1.0446565538757489)</td>\n",
       "      <td>0.100563</td>\n",
       "      <td>0.001178</td>\n",
       "      <td>True</td>\n",
       "      <td>[min_duration]</td>\n",
       "    </tr>\n",
       "  </tbody>\n",
       "</table>\n",
       "</div>"
      ]
     },
     "execution_count": 15,
     "metadata": {},
     "output_type": "execute_result"
    }
   ],
   "execution_count": 15
  },
  {
   "metadata": {},
   "cell_type": "markdown",
   "source": [
    "### A Complete Pipeline\n",
    "Here is a complete example of the entire pipeline, from loading the dataset to summarizing the detected events."
   ],
   "id": "fbf0167c794d9f07"
  },
  {
   "metadata": {
    "ExecuteTime": {
     "end_time": "2024-11-10T11:43:50.171181Z",
     "start_time": "2024-11-10T11:43:18.121498Z"
    }
   },
   "cell_type": "code",
   "source": [
    "import peyes\n",
    "\n",
    "# load the lund2013 dataset\n",
    "dataset = peyes.datasets.lund2013()\n",
    "\n",
    "# extract single-trial data\n",
    "trial1 = dataset[dataset[peyes.constants.TRIAL_ID_STR] == 1]\n",
    "ps = trial1[\"pixel_size\"].values[0]\n",
    "vd = trial1[\"viewer_distance\"].values[0]\n",
    "\n",
    "# create a detector object\n",
    "det = peyes.create_detector(\"engbert\", missing_value=np.nan, min_event_duration=4, pad_blinks_time=0)\n",
    "\n",
    "# assign labels\n",
    "labels, metadata = det.detect(\n",
    "    t=trial1 [peyes.constants.T].values,\n",
    "    x=trial1 [peyes.constants.X].values,\n",
    "    y=trial1 [peyes.constants.Y].values,\n",
    "    pixel_size_cm=ps,\n",
    "    viewer_distance_cm=vd,\n",
    ")\n",
    "\n",
    "# generate Event objects\n",
    "events = peyes.create_events(\n",
    "    labels=trial1_labels,\n",
    "    t=trial1_data[peyes.constants.T].values,\n",
    "    x=trial1_data[peyes.constants.X].values,\n",
    "    y=trial1_data[peyes.constants.Y].values,\n",
    "    pupil=trial1_data[peyes.constants.PUPIL].values,\n",
    "    pixel_size=trial1_pixel_size,\n",
    "    viewer_distance=trial1_viewer_distance\n",
    ")\n",
    "\n",
    "# summarize events\n",
    "events_table = peyes.summarize_events(events)"
   ],
   "id": "4c5595bb8d7dacce",
   "outputs": [],
   "execution_count": 16
  },
  {
   "metadata": {},
   "cell_type": "markdown",
   "source": [
    "### Summary\n",
    "In this guide, we covered the basic functionality of the pEYES package. This includes:\n",
    "- Importing the necessary libraries\n",
    "- using pEYES' internal constants\n",
    "- parsing labels and data to the required format\n",
    "- loading eye-tracking datasets\n",
    "- initializing and using eye-tracking detectors\n",
    "- detecting labels from eye-tracking data\n",
    "- generating event objects from detected labels\n",
    "- summarizing events into a summary table\n",
    "\n",
    "### Next Steps\n",
    "Other guides will show how to:\n",
    "- Evaluate a series of labels w.r.t. a ground-truth label-sequence.\n",
    "- Match between ground-truth and predicted event objects, and evaluate the predicted events w.r.t. the ground-truth events.\n",
    "- Visualize eye-tracking data and detected events."
   ],
   "id": "5b6e9661e891e790"
  }
 ],
 "metadata": {
  "kernelspec": {
   "display_name": "Python 3",
   "language": "python",
   "name": "python3"
  },
  "language_info": {
   "codemirror_mode": {
    "name": "ipython",
    "version": 2
   },
   "file_extension": ".py",
   "mimetype": "text/x-python",
   "name": "python",
   "nbconvert_exporter": "python",
   "pygments_lexer": "ipython2",
   "version": "2.7.6"
  }
 },
 "nbformat": 4,
 "nbformat_minor": 5
}
