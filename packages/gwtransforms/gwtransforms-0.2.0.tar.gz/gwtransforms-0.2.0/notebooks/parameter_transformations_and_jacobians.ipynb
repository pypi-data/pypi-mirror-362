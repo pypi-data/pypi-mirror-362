{
 "cells": [
  {
   "cell_type": "markdown",
   "id": "d08d9ad3",
   "metadata": {},
   "source": [
    "# Parameter transformations and jacobians\n",
    "\n",
    "We use the `sympy` package to compute parameter transformations and jacobians which are relevant for parameter estimation."
   ]
  },
  {
   "cell_type": "code",
   "execution_count": null,
   "id": "f2119384",
   "metadata": {},
   "outputs": [],
   "source": [
    "import sympy as sp\n",
    "from IPython.display import display\n",
    "sp.init_printing()"
   ]
  },
  {
   "cell_type": "markdown",
   "id": "0c9edd8e",
   "metadata": {},
   "source": [
    "## Describing masses\n",
    "\n",
    "The masses of a compact binary system are described by two parameters. The most suitable parametrization depends on the problem at hand. For modelling astrophysically-informed prior probabilities on the merger rate density per unit mass, it is commont to use $(m_1, q)$, where $m_1$ is the primary mass (i.e,  the mass of the heavier object) and $0 \\leq q \\leq 1$ is the ratio between the objects' masses.\n",
    "\n",
    "The mass parameters that appear in analytical approximations are, instead, the symmetric mass ratio,\n",
    "\n",
    "$$ \\nu = \\frac{m_1 m_2}{(m_1 + m_2)^2},$$\n",
    "\n",
    "which is bounded between $(0, 1/4]$, and the chirp mass\n",
    "\n",
    "$$ M_c = (m_1 + m_2) \\nu^{3/5}. $$\n",
    "\n",
    "In this section, we describe a couple of simple transformations between the set of parameters $\\{m_1, m_2, M_t, q, M_c, \\nu \\}$ and compose them sequentially in order to obtain transformations between arbitrary pairs of parameters. We implement this logic in the `get_transform_and_jacobian` method. In a nutshell, it updates each mass parameter with the composition of expressions defined in `subs`."
   ]
  },
  {
   "cell_type": "markdown",
   "id": "e9b202df",
   "metadata": {},
   "source": [
    "### Component masses to other parametrizations"
   ]
  },
  {
   "cell_type": "code",
   "execution_count": null,
   "id": "1d3b8c54",
   "metadata": {},
   "outputs": [],
   "source": [
    "def pretty_print(outputs, expressions, jacobian, determinant):\n",
    "  eqs = [sp.Eq(o, sp.simplify(e), evaluate=False) for o, e in zip(outputs, expressions)]\n",
    "  print(\"Expressions, jacobian, determinant:\")\n",
    "  display((eqs, sp.simplify(jacobian), sp.simplify(determinant)))\n",
    "\n",
    "def get_transform_and_jacobian(inputs, outputs, subs):\n",
    "    out_exprs = sp.Matrix(outputs).subs(subs[::-1])\n",
    "    jacobian = out_exprs.jacobian(inputs)\n",
    "    return out_exprs, jacobian\n",
    "\n",
    "m_1, m_2, M_t, M_c, q, nu = sp.symbols(\"m_1 m_2 M_t M_c q nu\")\n",
    "\n",
    "subs = [\n",
    "  (M_t, m_1 + m_2),\n",
    "  (q, m_2 / m_1),\n",
    "  (nu, q / (1 + q) ** 2),\n",
    "  (M_c, M_t * nu ** sp.Rational(3, 5))\n",
    "]\n",
    "inputs = (m_1, m_2)\n",
    "for outputs in [(m_1, q), (M_t, q), (M_c, nu)]:\n",
    "  expressions, jacobian = get_transform_and_jacobian(inputs, outputs, subs)\n",
    "  det = jacobian.det()\n",
    "  pretty_print(outputs, expressions, jacobian, det)"
   ]
  },
  {
   "cell_type": "markdown",
   "id": "ebabedbd",
   "metadata": {},
   "source": [
    "### Primary mass and mass ratio to other parametrizations"
   ]
  },
  {
   "cell_type": "code",
   "execution_count": null,
   "id": "800b95ef",
   "metadata": {},
   "outputs": [],
   "source": [
    "subs = [\n",
    "  (m_2, m_1 * q),\n",
    "  (M_t, m_1 + m_2),\n",
    "  (nu, q / (1 + q) ** 2),\n",
    "  (M_c, M_t * nu ** sp.Rational(3, 5))\n",
    "]\n",
    "inputs = (m_1, q)\n",
    "for outputs in [(m_1, m_2), (M_t, q), (M_c, nu)]:\n",
    "  expressions, jacobian = get_transform_and_jacobian(inputs, outputs, subs)\n",
    "  det = jacobian.det()\n",
    "  pretty_print(outputs, expressions, jacobian, det)"
   ]
  },
  {
   "cell_type": "markdown",
   "id": "e1a56bc3",
   "metadata": {},
   "source": [
    "### Total mass and mass ratio to other parametrizations"
   ]
  },
  {
   "cell_type": "code",
   "execution_count": null,
   "id": "712999be",
   "metadata": {},
   "outputs": [],
   "source": [
    "subs = [\n",
    "  (m_1, M_t / (1 + q)),\n",
    "  (m_2, M_t - m_1),\n",
    "  (nu, q / (1 + q) ** 2),\n",
    "  (M_c, M_t * nu ** sp.Rational(3, 5))\n",
    "]\n",
    "inputs = (M_t, q)\n",
    "for outputs in [(m_1, m_2), (m_1, q), (M_c, nu)]:\n",
    "  expressions, jacobian = get_transform_and_jacobian(inputs, outputs, subs)\n",
    "  det = jacobian.det()\n",
    "  pretty_print(outputs, expressions, jacobian, det)"
   ]
  },
  {
   "cell_type": "markdown",
   "id": "430af3b5",
   "metadata": {},
   "source": [
    "### Chirp mass and symmetric mass ratio to other parametrizations"
   ]
  },
  {
   "cell_type": "code",
   "execution_count": null,
   "id": "1596ef50",
   "metadata": {},
   "outputs": [],
   "source": [
    "subs = [\n",
    "  (M_t, M_c * nu ** sp.Rational(-3, 5)),\n",
    "  (q, -1 + sp.Rational(1, 2) / nu * (1 + sp.sqrt(1 - 4 * nu))),\n",
    "  (m_1, M_t / (1 + q)),\n",
    "  (m_2, M_t - m_1)\n",
    "]\n",
    "inputs = (M_c, nu)\n",
    "for outputs in [(m_1, m_2), (m_1, q), (M_t, q)]:\n",
    "  expressions, jacobian = get_transform_and_jacobian(inputs, outputs, subs)\n",
    "  det = jacobian.det()\n",
    "  pretty_print(outputs, expressions, jacobian, det)"
   ]
  }
 ],
 "metadata": {},
 "nbformat": 4,
 "nbformat_minor": 5
}
