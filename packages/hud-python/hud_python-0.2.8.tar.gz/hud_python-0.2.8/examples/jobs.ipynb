{
 "cells": [
  {
   "cell_type": "code",
   "execution_count": 1,
   "metadata": {},
   "outputs": [],
   "source": [
    "from hud import register_job, gym\n",
    "from hud.task import Task\n",
    "from hud.agent import ClaudeAgent\n",
    "\n",
    "\n",
    "# This will show up in the UI as a job\n",
    "@register_job(\"test-job-1\")\n",
    "async def test_job(max_steps: int = 8):\n",
    "    task = Task(\n",
    "        prompt=\"Insert the text 'capybara' into the search bar\",\n",
    "        gym=\"hud-browser\",\n",
    "        setup=(\"goto\", \"google.com\"),\n",
    "        evaluate=(\"contains_text\", \"capybara\"),\n",
    "    )\n",
    "    agent = ClaudeAgent()\n",
    "\n",
    "    env = await gym.make(task)\n",
    "\n",
    "    obs, _ = await env.reset()\n",
    "    for _ in range(max_steps):\n",
    "        action, done = await agent.predict(obs)\n",
    "\n",
    "        obs, reward, terminated, info = await env.step(action)\n",
    "\n",
    "        if done or terminated:\n",
    "            break\n",
    "\n",
    "    result = await env.evaluate()\n",
    "    await env.close()\n",
    "\n",
    "    return result"
   ]
  },
  {
   "cell_type": "code",
   "execution_count": null,
   "metadata": {},
   "outputs": [],
   "source": [
    "await test_job()"
   ]
  }
 ],
 "metadata": {
  "kernelspec": {
   "display_name": ".venv",
   "language": "python",
   "name": "python3"
  },
  "language_info": {
   "codemirror_mode": {
    "name": "ipython",
    "version": 3
   },
   "file_extension": ".py",
   "mimetype": "text/x-python",
   "name": "python",
   "nbconvert_exporter": "python",
   "pygments_lexer": "ipython3",
   "version": "3.12.9"
  }
 },
 "nbformat": 4,
 "nbformat_minor": 2
}
