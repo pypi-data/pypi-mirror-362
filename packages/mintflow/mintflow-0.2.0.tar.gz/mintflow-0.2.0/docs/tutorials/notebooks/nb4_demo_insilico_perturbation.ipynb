{
 "cells": [
  {
   "cell_type": "markdown",
   "id": "27e98eff-0f82-4cd7-837f-9b3d168520fc",
   "metadata": {},
   "source": [
    "# Quick Start: In silico Tissue Perturbation  "
   ]
  },
  {
   "cell_type": "markdown",
   "id": "7e8fcb00-0140-4911-a59b-1d755757a87a",
   "metadata": {},
   "source": [
    "\n",
    "- **Creator**: Amir Akbarnejad (aa36@sanger.ac.uk)\n",
    "- **Affiliation**: Wellcome Sanger Institute and University of Cambridge\n",
    "- **Date of Creation**: 02.07.2025\n",
    "- **Date of Last Modificaion**: 02.07.2025\n",
    "\n",
    "This tutorial demonstrates in silico tissue perturbations via MintFlow.\n",
    "**To be able to run the notebook, the parts that you need to modify are specified by `TODO:MODIFY:`. The rest can be left untouched, as far as the goal is to run the notebook.**  \n",
    "\n",
    "This notebook is only for demonstration, and to get biologically meaningful results you may need different data and/or settings."
   ]
  },
  {
   "cell_type": "code",
   "execution_count": null,
   "id": "7af307f2-5f6f-436b-804b-e118039ac10c",
   "metadata": {},
   "outputs": [],
   "source": [
    "import os, sys\n",
    "import yaml\n",
    "import mintflow\n",
    "import scanpy as sc\n",
    "import squidpy as sq\n",
    "import matplotlib.pyplot as plt\n",
    "from tqdm.autonotebook import tqdm\n",
    "import numpy as np\n",
    "from pprint import pprint\n",
    "\n",
    "import pandas as pd\n",
    "import seaborn as sns\n",
    "import matplotlib.pyplot as plt\n",
    "import torch\n",
    "\n",
    "import mintflow\n",
    "import mintflow.interface.perturbation.module_gen_micsizefactor\n",
    "import mintflow.interface.perturbation.module_gen_stdata"
   ]
  },
  {
   "cell_type": "markdown",
   "id": "085b7dae-84e9-46fd-a494-6003ec2bdde3",
   "metadata": {},
   "source": [
    "## 1 Overview\n",
    "Before reading this tutorial, please make sure you have read the other tutorial notebook titled \"Quick Start: Generate Expression Data for a Customised Tissue\".  \n",
    "\n",
    "In this tutorial we are going to generate expression data for two tissues\n",
    "- **Original tissue**: A crop of our original tissue\n",
    "- **Modified tissue**: The same tissue crop, but with some of its cell types altered \n",
    "\n",
    "Afterwards, we perform differential analysis between the generated expression data for the two aforementioned tissues to identify genes that are up/down regulated as a result of cell type labels being altered. \n",
    "\n",
    "At the following we demonstrate the steps of doing this."
   ]
  },
  {
   "cell_type": "markdown",
   "id": "63bfb3e9-c281-4c5f-bd6c-53f60e5ad89b",
   "metadata": {},
   "source": [
    "## 2. Download a sample anndata object and a sample MintFlow checkpoint\n",
    " \n",
    "- Download this sample `.h5ad` file from google drive: [(link to the file on google drive)](https://drive.google.com/file/d/187Y44hpY5OuwMu0_PA9r9WvycMOx-uz5/view?usp=sharing)\n",
    "and place it in a directory of you choice. Thereafter, set the variable `path_anndata` below to the path where you placed the `.h5ad` file.\n",
    "- In the first tutorial notebook we demonstrated how to save a checkpoint on disk by calling `mintflow.dump_checkpoint`. Download this sample checkpoint file from google drive [(link to the file on google drive)](https://drive.google.com/file/d/1KS40-BCE4Zapq0osNjRkMEXs8IGRQj3g/view?usp=sharing)\n",
    "and place it in a directory of your choice. Thereafter, set the variable `path_checkpoint` below to the path where you placed the `.pt` file.\n",
    "\n"
   ]
  },
  {
   "cell_type": "code",
   "execution_count": null,
   "id": "93ea0944-0fbf-47da-9c57-0421db24b883",
   "metadata": {},
   "outputs": [],
   "source": [
    "path_anndata = './NonGit/data_train_single_section.h5ad'  \n",
    "# TODO:MODIFY: set to the path where you've put the `.h5ad` file that you downloaded above.\n",
    "\n",
    "path_checkpoint = './NonGit/sample_checkpoint.pt'  \n",
    "# TODO:MODIFY: set to the path where you've put the `.pt` file that you downloaded above."
   ]
  },
  {
   "cell_type": "markdown",
   "id": "b42323ba-8c9b-4a1d-8cb6-7e0b53b3b041",
   "metadata": {},
   "source": [
    "## 3. Load the MintFlow checkpoint"
   ]
  },
  {
   "cell_type": "code",
   "execution_count": null,
   "id": "318bda8a-eef6-4883-b117-74063f56b8b8",
   "metadata": {},
   "outputs": [],
   "source": [
    "device = torch.device(\"cuda:0\" if torch.cuda.is_available() else \"cpu\")\n",
    "print(device)"
   ]
  },
  {
   "cell_type": "code",
   "execution_count": null,
   "id": "16ed60c5-c46a-4920-b1d2-76be21357f18",
   "metadata": {},
   "outputs": [],
   "source": [
    "checkpoint_mintflow = torch.load(\n",
    "    path_checkpoint,\n",
    "    map_location='cpu',\n",
    "    weights_only=False\n",
    ")\n",
    "checkpoint_mintflow['model'].to(device)\n",
    "print(\"Loaded the checkpoint.\")"
   ]
  },
  {
   "cell_type": "markdown",
   "id": "fb2c0c74-4d9a-44e1-aba6-a6914d838e4b",
   "metadata": {},
   "source": [
    "## 4. Make the original tissue \n",
    "Here we create a crop of the tissue section (i.e. we create the \"Original tissue\" we explained above in the overview section) and store it in `adata_original`."
   ]
  },
  {
   "cell_type": "code",
   "execution_count": null,
   "id": "e5dbf96e-572d-4664-9af0-8ddc3a742f92",
   "metadata": {},
   "outputs": [],
   "source": [
    "adata = sc.read_h5ad(\n",
    "    path_anndata\n",
    ")\n",
    "adata_original = adata[\n",
    "    (adata.obs['x_centroid'] > 5000.0) &  (adata.obs['x_centroid'] < 6000.0) &\\\n",
    "    (adata.obs['y_centroid'] > 2100.0) &  (adata.obs['y_centroid'] < 2500.0)\n",
    "].copy()"
   ]
  },
  {
   "cell_type": "code",
   "execution_count": null,
   "id": "5f5f4c5b-e006-48c1-81ae-bd0ae3c66b4f",
   "metadata": {},
   "outputs": [],
   "source": [
    "sc.pl.spatial(\n",
    "    adata_original,\n",
    "    spot_size=5,\n",
    "    color='broad_celltypes'\n",
    ")"
   ]
  },
  {
   "cell_type": "markdown",
   "id": "8d7f6898-e745-4258-a959-61e49feb1775",
   "metadata": {},
   "source": [
    "## 5. Make a modified (i.e. perturbed) version of the tissue\n",
    "Here we perturb the tissue by altering some of its cell type labels and obtain the \"Modified tissue\" described above in the overview section.\n",
    "Note that this perturbation is for demonstraion only rather than getting biologically meaningful results."
   ]
  },
  {
   "cell_type": "code",
   "execution_count": null,
   "id": "17473ca4-cac0-4dcb-b270-107a7fffd4a9",
   "metadata": {},
   "outputs": [],
   "source": [
    "adata_perturbed = adata_original.copy()\n",
    "adata_perturbed.obs['broad_celltypes'] = adata_perturbed.obs['broad_celltypes'].replace(\n",
    "    {'cDC2':'MigDC'}\n",
    ") "
   ]
  },
  {
   "cell_type": "code",
   "execution_count": null,
   "id": "22f962a9-ea2d-45fa-91a4-f224f839a9a5",
   "metadata": {
    "scrolled": true
   },
   "outputs": [],
   "source": [
    "sc.pl.spatial(\n",
    "    adata_perturbed,\n",
    "    color='broad_celltypes',\n",
    "    spot_size=5,\n",
    "    palette='tab20'\n",
    ")"
   ]
  },
  {
   "cell_type": "code",
   "execution_count": null,
   "id": "64ddc1b8-c0f0-4ba8-b652-4748d02ee995",
   "metadata": {},
   "outputs": [],
   "source": [
    "# create the neighbourhood graph\n",
    "kwargs_neighbourhood_graph = {\n",
    "    'spatial_key': 'spatial',\n",
    "    'library_key': None,\n",
    "    'set_diag': False,\n",
    "    'delaunay': False,\n",
    "    'n_neighs': 5\n",
    "}\n",
    "adata.uns = {}\n",
    "sq.gr.spatial_neighbors(\n",
    "    adata=adata,\n",
    "    **kwargs_neighbourhood_graph\n",
    ")"
   ]
  },
  {
   "cell_type": "markdown",
   "id": "ece9be09-7acd-4003-9516-4e4184d5fbaa",
   "metadata": {},
   "source": [
    "## 6. Create neighbourhood graphs for both tissues\n",
    "We recommend creating a new neighbourhood graph for the origin/perturbed version of tissue, instead of using the original graph. It's cruicial if the perturbed version of tissue has different number of cells due to, e.g., some cell types being dropped (instead of being altered) in the perturbed tissue.  "
   ]
  },
  {
   "cell_type": "code",
   "execution_count": null,
   "id": "325c4b6a-6026-4ff7-a697-e066e4248921",
   "metadata": {},
   "outputs": [],
   "source": [
    "kwargs_neighbourhood_graph = {\n",
    "    'spatial_key': 'spatial',\n",
    "    'library_key': None,\n",
    "    'set_diag': False,\n",
    "    'delaunay': False,\n",
    "    'n_neighs': 10\n",
    "}\n",
    "adata_original.uns = {}\n",
    "adata_perturbed.uns = {}\n",
    "\n",
    "sq.gr.spatial_neighbors(\n",
    "    adata=adata_original,\n",
    "    **kwargs_neighbourhood_graph\n",
    ")\n",
    "sq.gr.spatial_neighbors(\n",
    "    adata=adata_perturbed,\n",
    "    **kwargs_neighbourhood_graph\n",
    ")"
   ]
  },
  {
   "cell_type": "markdown",
   "id": "61c9cdbb-4389-4730-895b-a34653789d8b",
   "metadata": {},
   "source": [
    "## 7. Generate expression data for each tissue\n",
    "Now at the following we generate expression data for `adata_original` and `adata_perturbed`.\n",
    "\n",
    "Some important arguments to pass to the function `mintflow.generate_insilico_ST_data`:\n",
    "- `obskey_celltype`: the column name of the `.obs` field that contain cell type labels. Cell type labels have to be among the ones seen during training.\n",
    "- `batch_index_trainingdata`: generation is conditioned on batch index as well. For example if `batch_index_trainingdata` is set to 1, generation is conditioned on batch with index 1 seen during training. Note that this index is zero-based. To check the batch index assigned to each tissue section, you can run the below cell.\n",
    "- `estimate_spatial_sizefactors_on_sections`: To generate `Xint` and `Xmic` two size factors are needed. To generate these size factors, MintFlow filters out cells with similar cell type labels and MCC vectors in some tissue sections. This argument specifies the tissue section(s) used for this purpose."
   ]
  },
  {
   "cell_type": "code",
   "execution_count": null,
   "id": "c13348c0-bf09-48b9-9281-3bdf4be80a87",
   "metadata": {},
   "outputs": [],
   "source": [
    "# prints the batch index assigned to each tissue section in the training set\n",
    "pprint(checkpoint_mintflow['data_mintflow']['train_list_tissue_section'].map_Batchname_to_inflowBatchID)"
   ]
  },
  {
   "cell_type": "code",
   "execution_count": null,
   "id": "bfdbc1ff-1619-474b-b66e-f8770c867e8c",
   "metadata": {
    "scrolled": true
   },
   "outputs": [],
   "source": [
    "result_generation_original = mintflow.generate_insilico_ST_data(\n",
    "    adata=adata_original,\n",
    "    obskey_celltype='broad_celltypes',\n",
    "    obspkey_neighbourhood_graph='spatial_connectivities',\n",
    "    device=device,\n",
    "    batch_index_trainingdata=0,\n",
    "    num_generated_realisations=5,\n",
    "    model=checkpoint_mintflow['model'],\n",
    "    data_mintflow=checkpoint_mintflow['data_mintflow'],\n",
    "    dict_all4_configs=checkpoint_mintflow['dict_all4_configs'],\n",
    "    estimate_spatial_sizefactors_on_sections=[0]\n",
    ")"
   ]
  },
  {
   "cell_type": "code",
   "execution_count": null,
   "id": "a73865ad-27c9-4206-9dfa-540ec39783c6",
   "metadata": {
    "scrolled": true
   },
   "outputs": [],
   "source": [
    "result_generation_perturbed = mintflow.generate_insilico_ST_data(\n",
    "    adata=adata_perturbed,\n",
    "    obskey_celltype='broad_celltypes',\n",
    "    obspkey_neighbourhood_graph='spatial_connectivities',\n",
    "    device=device,\n",
    "    batch_index_trainingdata=0,\n",
    "    num_generated_realisations=5,\n",
    "    model=checkpoint_mintflow['model'],\n",
    "    data_mintflow=checkpoint_mintflow['data_mintflow'],\n",
    "    dict_all4_configs=checkpoint_mintflow['dict_all4_configs'],\n",
    "    estimate_spatial_sizefactors_on_sections=[0]\n",
    ")"
   ]
  },
  {
   "cell_type": "markdown",
   "id": "b09720d0-494d-44f9-b024-ddc5df3a08ae",
   "metadata": {},
   "source": [
    "## 8. Put the generated expression data in `.obsm` field of anndata objects\n",
    "The generative model can generate more than one expression data or \"realisation\" for each tissue, and the variation in the expression of each gene among the generated samples or \"realisations\" can be informative. But to keep it simple here, at the following we put the average expression over different realisations in the `.obsm` field of anndata objects. For pooling strategies other than averaging, you can alter `.mean(0)` in the following two cells."
   ]
  },
  {
   "cell_type": "code",
   "execution_count": null,
   "id": "c3b62479-cee3-464f-b667-1ffaeb22cf86",
   "metadata": {},
   "outputs": [],
   "source": [
    "adata_original.obsm['MintFLow_Generated_Xmic'] = np.stack(\n",
    "    [realisation['MintFLow_Generated_Xmic'] for realisation in result_generation_original['list_generated_realisations_ie_expressions']]\n",
    ").mean(0)"
   ]
  },
  {
   "cell_type": "code",
   "execution_count": null,
   "id": "838ac27b-82db-4c45-b1d2-da0545a7db54",
   "metadata": {},
   "outputs": [],
   "source": [
    "adata_perturbed.obsm['MintFLow_Generated_Xmic'] = np.stack(\n",
    "    [realisation['MintFLow_Generated_Xmic'] for realisation in result_generation_perturbed['list_generated_realisations_ie_expressions']]\n",
    ").mean(0)"
   ]
  },
  {
   "cell_type": "markdown",
   "id": "c41b8c00-5e5c-40b6-b76d-c9651bf3de36",
   "metadata": {},
   "source": [
    "## 9. Idnetify cells whose microenvironment cell type composition (MCC) is changed\n",
    "Differential expression analysis should be performed only on cells whose micro-environment (i.e. their MCC, Micro-environment Cell type Composition) is different in the original/perturbed versions of tissue. Therefore here we identify those cells. \n",
    "Here we make use of `.obs['cell_id']` column of the anndata object to find each cell in original and perturbed tissues. If your anndata object doesn't have a `.obs['cell_id']` filed, you can add it initially yourself.   "
   ]
  },
  {
   "cell_type": "markdown",
   "id": "16c4241d-dba6-4f46-921f-35fbf9b43c8a",
   "metadata": {},
   "source": [
    "Find the index of each cell ID in `adata_original` and `adata_perturbed`"
   ]
  },
  {
   "cell_type": "code",
   "execution_count": null,
   "id": "13e69a8a-1239-45fb-9967-b1752c3eab9f",
   "metadata": {},
   "outputs": [],
   "source": [
    "list_cellID_original = adata_original.obs['cell_id'].tolist()\n",
    "list_cellID_perturbed = adata_perturbed.obs['cell_id'].tolist()\n",
    "\n",
    "dict_cellID_to_indexOriginal = {\n",
    "    cell_id: list_cellID_original.index(cell_id)\n",
    "    for cell_id in set(adata_original.obs['cell_id']).union(set(adata_perturbed.obs['cell_id']))\n",
    "}\n",
    "dict_cellID_to_indexPerturbed = {\n",
    "    cell_id: list_cellID_perturbed.index(cell_id)\n",
    "    for cell_id in set(adata_original.obs['cell_id']).union(set(adata_perturbed.obs['cell_id']))\n",
    "}"
   ]
  },
  {
   "cell_type": "markdown",
   "id": "23f466c1-fe7c-4fc1-a3c6-cbc398aea208",
   "metadata": {},
   "source": [
    "The value returned by `mintflow.generate_insilico_ST_data` contains the MCC (Micro-environment Cell type Composition) vectors. Here we make use of them to see if the MCC of each cell is altered between original and perturbed versions of tissue. "
   ]
  },
  {
   "cell_type": "code",
   "execution_count": null,
   "id": "ae157622-2acd-4698-b5c3-9a7d8cd42361",
   "metadata": {},
   "outputs": [],
   "source": [
    "dict_cellID_to_MCChaschanged = {}\n",
    "for cell_id in set(adata_original.obs['cell_id'].tolist()).union(set(adata_perturbed.obs['cell_id'].tolist())):\n",
    "    if (cell_id not in adata_original.obs['cell_id'].tolist()) or (cell_id not in adata_perturbed.obs['cell_id'].tolist()):\n",
    "         # if the cell is dropped or added during perturbation --> No differential expression on it\n",
    "        dict_cellID_to_MCChaschanged[cell_id] = False\n",
    "    else:\n",
    "        dict_cellID_to_MCChaschanged[cell_id] = np.allclose(\n",
    "            result_generation_original['np_MCC'][dict_cellID_to_indexOriginal[cell_id]],\n",
    "            result_generation_perturbed['np_MCC'][dict_cellID_to_indexPerturbed[cell_id]]\n",
    "        )\n",
    "        "
   ]
  },
  {
   "cell_type": "code",
   "execution_count": null,
   "id": "134831ee-70a4-446c-87c5-b205668129f4",
   "metadata": {},
   "outputs": [],
   "source": [
    "print(\"For {} percent of cells, the MCC has changed due to perturbation.\".format(\n",
    "    np.round(\n",
    "        100.0 * np.mean([v for u, v in dict_cellID_to_MCChaschanged.items()]),\n",
    "        3\n",
    "    )\n",
    "))"
   ]
  },
  {
   "cell_type": "markdown",
   "id": "f825b81f-bb49-493b-9ac5-ad94b658fcb2",
   "metadata": {},
   "source": [
    "## 10. Perform differential expression analysis\n",
    "We perform the analysis separately for each cell type, and only among cells whose MCC is changed."
   ]
  },
  {
   "cell_type": "code",
   "execution_count": null,
   "id": "cd82c445-b8c9-4cb7-9790-c750baf59eb3",
   "metadata": {},
   "outputs": [],
   "source": [
    "for ct in set(adata_perturbed.obs['broad_celltypes']):\n",
    "    row_filter_original = np.logical_and(\n",
    "        np.array(adata_original.obs['broad_celltypes']  == ct),  # filter based on cell type\n",
    "        np.array([\n",
    "            dict_cellID_to_MCChaschanged[cell_id]\n",
    "            for cell_id in adata_original.obs['cell_id'].tolist()\n",
    "        ])  # filter based on if MCC vector has changed\n",
    "    )\n",
    "    row_filter_perturbed = np.logical_and(\n",
    "        np.array(adata_perturbed.obs['broad_celltypes']  == ct),  # filter based on cell type\n",
    "        np.array([\n",
    "            dict_cellID_to_MCChaschanged[cell_id]\n",
    "            for cell_id in adata_perturbed.obs['cell_id'].tolist()\n",
    "        ])  # filter based on if MCC vector has changed\n",
    "    )\n",
    "    \n",
    "    \n",
    "\n",
    "    if np.sum(np.logical_and(row_filter_original, row_filter_perturbed)) <= 2:\n",
    "        continue  # not enough cells --> skip the DE analysis\n",
    "\n",
    "    # make an anndata for DE analysis\n",
    "    adata_DEanalysis = sc.AnnData(\n",
    "        X=np.concatenate(\n",
    "            [adata_original.obsm['MintFLow_Generated_Xmic'][row_filter_original.tolist()] + 0.0,\n",
    "             adata_perturbed.obsm['MintFLow_Generated_Xmic'][row_filter_perturbed.tolist()] + 0.0],\n",
    "            0\n",
    "        ),\n",
    "        obs=pd.DataFrame(\n",
    "            data=np.array(\n",
    "                [sum(row_filter_original)*['original'] +\\\n",
    "                 sum(row_filter_perturbed)*['perturbed']]\n",
    "            ).T,\n",
    "            columns=['original_vs_perturbed']\n",
    "        ),\n",
    "        var=adata_original.var\n",
    "    )\n",
    "\n",
    "\n",
    "    # perform the DE analysis\n",
    "    adata_DEanalysis.layers['xspl_before_log1p'] = adata_DEanalysis.X.copy()\n",
    "    sc.pp.log1p(adata_DEanalysis)\n",
    "\n",
    "\n",
    "    sc.tl.rank_genes_groups(\n",
    "        adata_DEanalysis,\n",
    "        'original_vs_perturbed',\n",
    "        method='wilcoxon',\n",
    "        n_genes=20\n",
    "    )\n",
    "    sc.pl.rank_genes_groups(adata_DEanalysis)\n",
    "    sc.pl.dotplot(\n",
    "        adata_DEanalysis,\n",
    "        var_names=\\\n",
    "        [u[0] for u in adata_DEanalysis.uns['rank_genes_groups']['names'].tolist()]+\\\n",
    "        [u[1] for u in adata_DEanalysis.uns['rank_genes_groups']['names'].tolist()],\n",
    "        groupby='original_vs_perturbed',\n",
    "        dendrogram=True,\n",
    "        title=\"Cell type: {}\".format(ct),\n",
    "        size_title=20,\n",
    "        cmap='jet',\n",
    "        layer='xspl_before_log1p',\n",
    "        mean_only_expressed=True\n",
    "    )"
   ]
  },
  {
   "cell_type": "markdown",
   "id": "9be59f73-2905-411d-b823-ae5264f25875",
   "metadata": {},
   "source": [
    "Note that the above outputs are only meant to demonstrate how to run the perturbation analysis. To reproduce manuscript results please refer to our reproducibility github repository."
   ]
  },
  {
   "cell_type": "code",
   "execution_count": null,
   "id": "309ac9c6-15ee-4a96-9004-589381776ad2",
   "metadata": {},
   "outputs": [],
   "source": []
  }
 ],
 "metadata": {
  "kernelspec": {
   "display_name": "Python 3 (ipykernel)",
   "language": "python",
   "name": "python3"
  },
  "language_info": {
   "codemirror_mode": {
    "name": "ipython",
    "version": 3
   },
   "file_extension": ".py",
   "mimetype": "text/x-python",
   "name": "python",
   "nbconvert_exporter": "python",
   "pygments_lexer": "ipython3",
   "version": "3.11.13"
  }
 },
 "nbformat": 4,
 "nbformat_minor": 5
}
