{
 "cells": [
  {
   "cell_type": "markdown",
   "id": "50c587a9-1cdd-4a95-85cd-cb95d1a19834",
   "metadata": {},
   "source": [
    "# Quick Start: Train MintFlow on Multiple Tissue Sections"
   ]
  },
  {
   "cell_type": "markdown",
   "id": "12c33267-6d07-4aff-aed0-246f49ecadff",
   "metadata": {},
   "source": [
    "Tutorial for basic training on multiple tissue sections\n",
    "\n",
    "- **Creator**: Amir Akbarnejad (aa36@sanger.ac.uk)\n",
    "- **Affiliation**: Wellcome Sanger Institute and University of Cambridge\n",
    "- **Date of Creation**: 01.07.2025\n",
    "- **Date of Last Modificaion**: 01.07.2025\n",
    "\n",
    "**To be able to run the notebook, the parts that you need to modify are specified by `TODO:MODIFY:`. The rest can be left untouched, as far as the goal is to run the notebook.**\n",
    "\n",
    "This notebook demonstrates how to train MintFlow on multiple tissue sections. This notebook is only for demonstration, and to get biologically meaningful results you may need longer training and/or different hyper-parameter settings."
   ]
  },
  {
   "cell_type": "code",
   "execution_count": null,
   "id": "353ee814-de18-4cc6-b91e-29a5501780d3",
   "metadata": {},
   "outputs": [],
   "source": [
    "import os, sys\n",
    "import yaml\n",
    "import mintflow\n",
    "import pickle\n",
    "from tqdm.autonotebook import tqdm\n",
    "\n",
    "\n",
    "import scanpy as sc\n",
    "import pandas as pd\n",
    "import seaborn as sns\n",
    "import matplotlib.pyplot as plt\n",
    "import torch\n",
    "import pandas as pd"
   ]
  },
  {
   "cell_type": "code",
   "execution_count": null,
   "id": "ee66b6be-c9f2-40cf-8f2f-61c431a886f2",
   "metadata": {},
   "outputs": [],
   "source": [
    "device = torch.device(\"cuda:0\" if torch.cuda.is_available() else \"cpu\")\n",
    "print(device)"
   ]
  },
  {
   "cell_type": "markdown",
   "id": "2b4b653c-9b0a-4c7d-bf47-5582f5dc11c6",
   "metadata": {},
   "source": [
    "## 1. Overview\n",
    "To train on multiple tissue sections, MintFlow expects you to have each tissue section as a separate anndata object stored on disk as a separate `.h5ad` file. \n",
    "For example if you want to train on 10 tissue sections, you need 10 `.h5ad` files stored on disk with the following requirements.\n",
    "1. The `adata.X` field of each `.h5ad` file must be raw read counts without, e.g., row sum or log1p normalisation.\n",
    "2. The `.obs` filed of each `.h5ad` file must contain a column containing the unique identifier of that tissue section. MintFlow uses this column to assign IDs to tissue sections.\n",
    "    - The name of that column can vary from one tissue section to another.\n",
    "4. The `.obs` field of each `.h5ad` file must contain a column containing the batch identifier (e.g. biological batch identifier or technological batch identifier) of each tissue section. For example if the first 3 tissue sections come from the same biological batch, one may want to assign the same batch identifier to them.\n",
    "    - The name of that column can vary from one tissue section to another.\n",
    " "
   ]
  },
  {
   "cell_type": "markdown",
   "id": "e5279333-3336-4fac-839c-3577c8656653",
   "metadata": {},
   "source": [
    "## 2. Download the raw anndata objects\n",
    "Download these 5 sample `.h5ad` files from google drive [(link to the folder on google drive)](https://drive.google.com/drive/folders/1lqbvUkHj5dan0o4YM9uTS5xdjQzPup_i?usp=sharing)\n",
    "and place them in a directory of you choice. Thereafter, set the variable `path_anndata` below to the path where you placed the `.h5ad` files."
   ]
  },
  {
   "cell_type": "code",
   "execution_count": null,
   "id": "b046c4ff-fac7-4f9f-a183-3ddeef30c445",
   "metadata": {},
   "outputs": [],
   "source": [
    "path_anndata = './NonGit/RawData_Tutorial_MultipleTissueSections/'  \n",
    "# TODO:MODIFY: set to the path where you've put the `.h5ad` file that you downloaded."
   ]
  },
  {
   "cell_type": "markdown",
   "id": "66b6c4c8-f29c-4475-9658-ea788b1423b1",
   "metadata": {},
   "source": [
    "## 3. Process the anndata files\n",
    "Here we read the raw anndata objects, modify them to fullfil, e.g., requirements 2 and 3 explained in the \"Overview\" section, and store them back on disk so MintFlow can read and use them."
   ]
  },
  {
   "cell_type": "code",
   "execution_count": null,
   "id": "e40a20ec-95da-4348-8597-0cb92ef737fd",
   "metadata": {},
   "outputs": [],
   "source": [
    "for index_tissue_section in tqdm(range(1, 6), desc='Processing the .h5ad files'):\n",
    "    adata = sc.read_h5ad(\n",
    "        './NonGit/RawData_Tutorial_MultipleTissueSections/tissue_section_{}.h5ad'.format(index_tissue_section) \n",
    "    )\n",
    "    adata.obs['TissueSectionID_for_MintFlow'] = index_tissue_section  # the unique ID assigned to this tissue section\n",
    "    adata.obs['batchID_for_MintFlow'] = index_tissue_section  # i.e. each tissue section is assumed to come from a different batch\n",
    "\n",
    "    # convert the added column to type \"category\" (to avoid the slow down caused by having integer columns in pandas dataframes)\n",
    "    adata.obs['TissueSectionID_for_MintFlow'] = adata.obs['TissueSectionID_for_MintFlow'].astype(\"category\")\n",
    "    adata.obs['batchID_for_MintFlow'] = adata.obs['batchID_for_MintFlow'].astype(\"category\")\n",
    "\n",
    "    # save the anndata object back to disk\n",
    "    adata.write_h5ad(\n",
    "        './NonGit/RawData_Tutorial_MultipleTissueSections/tissue_section_forMintFlow_{}.h5ad'.format(index_tissue_section)\n",
    "    )"
   ]
  },
  {
   "cell_type": "markdown",
   "id": "09bbcbcf-d136-427c-b276-b6b85f075343",
   "metadata": {},
   "source": [
    "## 4. Create the four configuration objects\n",
    "\n",
    "Having prepared and stored the 5 anndata objects on disk, we now have to create 4 configuration objects:\n",
    "1. `config_data_train` to configure the training data\n",
    "2. `config_data_evaluation` to configure the evaluation data\n",
    "3. `config_model` to configure the MintFlow model\n",
    "4. `config_training` to configure the training"
   ]
  },
  {
   "cell_type": "markdown",
   "id": "2a166500-674d-4715-8128-47f8a95467ee",
   "metadata": {},
   "source": [
    "### 4.1. Load the default configuration objects\n",
    "Instead of creating the configuration objects from scratch, we load the default configuration objects and modify them partially."
   ]
  },
  {
   "cell_type": "code",
   "execution_count": null,
   "id": "6b7f5697-ef4a-4350-8737-798e57faa184",
   "metadata": {},
   "outputs": [],
   "source": [
    "config_data_train, config_data_evaluation, config_model, config_training = mintflow.get_default_configurations(\n",
    "    num_tissue_sections_training=5,\n",
    "    num_tissue_sections_evaluation=5\n",
    ")"
   ]
  },
  {
   "cell_type": "markdown",
   "id": "07cc0201-0866-4bf4-aea7-edfb5e0d6732",
   "metadata": {},
   "source": [
    "### 4.2. Costomise `config_data_train`\n",
    "Since we have 5 tissue sections, we have to specify `config_data_train` for each tissue section separately (i.e. `config_data_train['list_tissue']['anndata1']`, `config_data_train['list_tissue']['anndata2']`, ..., and `config_data_train['list_tissue']['anndata5']`) "
   ]
  },
  {
   "cell_type": "markdown",
   "id": "a52e8bf8-0658-4474-be98-aa55388186db",
   "metadata": {},
   "source": [
    "#### 4.2.1. Customise `config_data_train` for tissue section 1\n",
    "For more info about each field, please refer to the comments next to each configuration. As mentioned above, as far as the goal is to run the notebook, you can leave the configurations untouched."
   ]
  },
  {
   "cell_type": "code",
   "execution_count": null,
   "id": "be2c91da-1dba-4390-bf1d-d4814b116fb4",
   "metadata": {},
   "outputs": [],
   "source": [
    "config_data_train['list_tissue']['anndata1']['file'] = os.path.join(path_anndata, 'tissue_section_forMintFlow_1.h5ad')\n",
    "#   the absolute path to anndata object of tissue section 1 on disk.\n",
    "\n",
    "\n",
    "config_data_train['list_tissue']['anndata1']['obskey_cell_type'] = 'broad_celltypes'\n",
    "#   meaning that for the 1st tissue section, cell type labels are provided in `broad_celltypes` column of `adata.obs`.\n",
    "\n",
    "\n",
    "config_data_train['list_tissue']['anndata1']['obskey_sliceid_to_checkUnique'] = 'TissueSectionID_for_MintFlow'\n",
    "#   meaning that for the 1st tissue section, tissue section ID (i.e. slice ID) is provided in `info_id` column of `adata.obs`\n",
    "\n",
    "\n",
    "config_data_train['list_tissue']['anndata1']['obskey_x'] = 'x_centroid'\n",
    "#   meaning that for the 1st tissue section, spatial x coordinates are provided in `x_centroid` column of `adata.obs`\n",
    "\n",
    "\n",
    "config_data_train['list_tissue']['anndata1']['obskey_y'] = 'y_centroid'\n",
    "#   meaning that for the 1st tissue section, spatial y coordinates are provided in `y_centroid` column of `adata.obs`\n",
    "\n",
    "\n",
    "\n",
    "config_data_train['list_tissue']['anndata1']['obskey_biological_batch_key'] = 'batchID_for_MintFlow'\n",
    "#   meaning that for the 1st tissue section, batch identifier is provided in `info_id` column of `adata.obs`\n",
    "\n",
    "\n",
    "config_data_train['list_tissue']['anndata1']['config_dataloader_train']['width_window'] = 200\n",
    "#   For tissue section one, the widow size of tissue crops used by the customised dataloader \n",
    "#      (the dataloader desribed in Supplementary Fig. 16 of paper).\n",
    "#   The larger this number, the larger the tissue crops, and the bigger the subset of cells in each training iteration.\n",
    "#      This implies that more GPU memory would be required during training.\n",
    "#   In this notebook after calling `mintflow.setup_data` in Sec 6 the crop(s) are shown on tissue, \n",
    "#      with some information on image titles which can help you tune this parameter.\n",
    "#   In the manuscript we used `width_window` values between 300 and 800 depending on dataset.\n",
    "\n",
    "\n",
    "config_data_train['list_tissue']['anndata1']['config_neighbourhood_graph'] = {\n",
    "    'n_neighs': 10,\n",
    "    'set_diag': 'False',\n",
    "    'delaunay': 'False',\n",
    "}\n",
    "#   The parameters for creating the neighbourhood graph for training tissue section 1"
   ]
  },
  {
   "cell_type": "markdown",
   "id": "f43bc75d-17e6-4a14-a248-41e5f7577116",
   "metadata": {},
   "source": [
    "#### 4.2.2. Customise `config_data_train` for tissue section 2\n",
    "We've deleted the comments, since the configs are similar. Note that in the below cell \n",
    "- `config_data_train['list_tissue']['anndata1']` is changed to `config_data_train['list_tissue']['anndata2']`\n",
    "- `tissue_section_forMintFlow_1.h5ad` is changed to `tissue_section_forMintFlow_2.h5ad`"
   ]
  },
  {
   "cell_type": "code",
   "execution_count": null,
   "id": "d3eaa5e8-9bd4-4123-b155-d1bd8c68bcbb",
   "metadata": {},
   "outputs": [],
   "source": [
    "config_data_train['list_tissue']['anndata2']['file'] = os.path.join(path_anndata, 'tissue_section_forMintFlow_2.h5ad')\n",
    "config_data_train['list_tissue']['anndata2']['obskey_cell_type'] = 'broad_celltypes'\n",
    "config_data_train['list_tissue']['anndata2']['obskey_sliceid_to_checkUnique'] = 'TissueSectionID_for_MintFlow'\n",
    "config_data_train['list_tissue']['anndata2']['obskey_x'] = 'x_centroid'\n",
    "config_data_train['list_tissue']['anndata2']['obskey_y'] = 'y_centroid'\n",
    "config_data_train['list_tissue']['anndata2']['obskey_biological_batch_key'] = 'batchID_for_MintFlow'\n",
    "config_data_train['list_tissue']['anndata2']['config_dataloader_train']['width_window'] = 200\n",
    "config_data_train['list_tissue']['anndata2']['config_neighbourhood_graph'] = {\n",
    "    'n_neighs': 10,\n",
    "    'set_diag': 'False',\n",
    "    'delaunay': 'False',\n",
    "}"
   ]
  },
  {
   "cell_type": "markdown",
   "id": "bda03e38-be68-4d2b-8064-83137b447e0a",
   "metadata": {},
   "source": [
    "#### 4.2.3. Customise `config_data_train` for tissue section 3"
   ]
  },
  {
   "cell_type": "code",
   "execution_count": null,
   "id": "dab8a7e8-4abc-4e85-8df2-79ff7b00a3b3",
   "metadata": {},
   "outputs": [],
   "source": [
    "config_data_train['list_tissue']['anndata3']['file'] = os.path.join(path_anndata, 'tissue_section_forMintFlow_3.h5ad')\n",
    "config_data_train['list_tissue']['anndata3']['obskey_cell_type'] = 'broad_celltypes'\n",
    "config_data_train['list_tissue']['anndata3']['obskey_sliceid_to_checkUnique'] = 'TissueSectionID_for_MintFlow'\n",
    "config_data_train['list_tissue']['anndata3']['obskey_x'] = 'x_centroid'\n",
    "config_data_train['list_tissue']['anndata3']['obskey_y'] = 'y_centroid'\n",
    "config_data_train['list_tissue']['anndata3']['obskey_biological_batch_key'] = 'batchID_for_MintFlow'\n",
    "config_data_train['list_tissue']['anndata3']['config_dataloader_train']['width_window'] = 200\n",
    "config_data_train['list_tissue']['anndata3']['config_neighbourhood_graph'] = {\n",
    "    'n_neighs': 10,\n",
    "    'set_diag': 'False',\n",
    "    'delaunay': 'False',\n",
    "}"
   ]
  },
  {
   "cell_type": "markdown",
   "id": "70b51940-e1c8-47af-952a-a510128a0722",
   "metadata": {},
   "source": [
    "#### 4.2.4. Customise `config_data_train` for tissue section 4"
   ]
  },
  {
   "cell_type": "code",
   "execution_count": null,
   "id": "f8e3ad71-fcce-4f99-b67c-1208c5340ac4",
   "metadata": {},
   "outputs": [],
   "source": [
    "config_data_train['list_tissue']['anndata4']['file'] = os.path.join(path_anndata, 'tissue_section_forMintFlow_4.h5ad')\n",
    "config_data_train['list_tissue']['anndata4']['obskey_cell_type'] = 'broad_celltypes'\n",
    "config_data_train['list_tissue']['anndata4']['obskey_sliceid_to_checkUnique'] = 'TissueSectionID_for_MintFlow'\n",
    "config_data_train['list_tissue']['anndata4']['obskey_x'] = 'x_centroid'\n",
    "config_data_train['list_tissue']['anndata4']['obskey_y'] = 'y_centroid'\n",
    "config_data_train['list_tissue']['anndata4']['obskey_biological_batch_key'] = 'batchID_for_MintFlow'\n",
    "config_data_train['list_tissue']['anndata4']['config_dataloader_train']['width_window'] = 200\n",
    "config_data_train['list_tissue']['anndata4']['config_neighbourhood_graph'] = {\n",
    "    'n_neighs': 10,\n",
    "    'set_diag': 'False',\n",
    "    'delaunay': 'False',\n",
    "}"
   ]
  },
  {
   "cell_type": "markdown",
   "id": "4f41531c-f4db-4d17-b3ce-c1099e7498eb",
   "metadata": {},
   "source": [
    "#### 4.2.5. Customise `config_data_train` for tissue section 5"
   ]
  },
  {
   "cell_type": "code",
   "execution_count": null,
   "id": "36f29871-d164-456b-92db-329b8cc72229",
   "metadata": {},
   "outputs": [],
   "source": [
    "config_data_train['list_tissue']['anndata5']['file'] = os.path.join(path_anndata, 'tissue_section_forMintFlow_5.h5ad')\n",
    "config_data_train['list_tissue']['anndata5']['obskey_cell_type'] = 'broad_celltypes'\n",
    "config_data_train['list_tissue']['anndata5']['obskey_sliceid_to_checkUnique'] = 'TissueSectionID_for_MintFlow'\n",
    "config_data_train['list_tissue']['anndata5']['obskey_x'] = 'x_centroid'\n",
    "config_data_train['list_tissue']['anndata5']['obskey_y'] = 'y_centroid'\n",
    "config_data_train['list_tissue']['anndata5']['obskey_biological_batch_key'] = 'batchID_for_MintFlow'\n",
    "config_data_train['list_tissue']['anndata5']['config_dataloader_train']['width_window'] = 200\n",
    "config_data_train['list_tissue']['anndata5']['config_neighbourhood_graph'] = {\n",
    "    'n_neighs': 10,\n",
    "    'set_diag': 'False',\n",
    "    'delaunay': 'False',\n",
    "}"
   ]
  },
  {
   "cell_type": "markdown",
   "id": "9c9a764f-dfba-46d4-909c-e56fa87730cf",
   "metadata": {},
   "source": [
    "### 4.3. Costomise `config_data_evaluation`\n",
    "The set of tissue sections for evaluation can be the same one used for training, in which case the same values can be used, as we do at the following.\n",
    "We recommend that all training tissue sections listed in `config_data_train` are also included in `config_data_evaluation`, to enable evaluation on training tissue sections.\n",
    "\n",
    "Similar to `config_data_train`, we need to configure `config_data_evaluation` 5 times for 5 tissue sections.\n",
    "Note that in the below cells instead of `config_dataloader_train` we have `config_dataloader_test`\n",
    "\n"
   ]
  },
  {
   "cell_type": "markdown",
   "id": "5f25065e-2ab7-4ac7-b244-8584b7b58c3b",
   "metadata": {},
   "source": [
    "#### 4.3.1. Customise `config_data_evaluation` for tissue section 1"
   ]
  },
  {
   "cell_type": "code",
   "execution_count": null,
   "id": "2162d9b2-ca4d-4a18-93bb-1e836db77dfb",
   "metadata": {},
   "outputs": [],
   "source": [
    "config_data_evaluation['list_tissue']['anndata1']['file'] = os.path.join(path_anndata, 'tissue_section_forMintFlow_1.h5ad')\n",
    "config_data_evaluation['list_tissue']['anndata1']['obskey_cell_type'] = 'broad_celltypes'\n",
    "config_data_evaluation['list_tissue']['anndata1']['obskey_sliceid_to_checkUnique'] = 'TissueSectionID_for_MintFlow'\n",
    "config_data_evaluation['list_tissue']['anndata1']['obskey_x'] = 'x_centroid'\n",
    "config_data_evaluation['list_tissue']['anndata1']['obskey_y'] = 'y_centroid'\n",
    "config_data_evaluation['list_tissue']['anndata1']['obskey_biological_batch_key'] = 'batchID_for_MintFlow'\n",
    "config_data_evaluation['list_tissue']['anndata1']['config_dataloader_test']['width_window'] = 200\n",
    "config_data_evaluation['list_tissue']['anndata1']['config_neighbourhood_graph'] = {\n",
    "    'n_neighs': 10,\n",
    "    'set_diag': 'False',\n",
    "    'delaunay': 'False',\n",
    "}"
   ]
  },
  {
   "cell_type": "markdown",
   "id": "7b9ac62e-a644-4f09-b1a7-8eb9c46cb506",
   "metadata": {},
   "source": [
    "#### 4.3.2. Customise `config_data_evaluation` for tissue section 2"
   ]
  },
  {
   "cell_type": "code",
   "execution_count": null,
   "id": "11c7b13b-ad65-491b-adc7-212f63429358",
   "metadata": {},
   "outputs": [],
   "source": [
    "config_data_evaluation['list_tissue']['anndata2']['file'] = os.path.join(path_anndata, 'tissue_section_forMintFlow_2.h5ad')\n",
    "config_data_evaluation['list_tissue']['anndata2']['obskey_cell_type'] = 'broad_celltypes'\n",
    "config_data_evaluation['list_tissue']['anndata2']['obskey_sliceid_to_checkUnique'] = 'TissueSectionID_for_MintFlow'\n",
    "config_data_evaluation['list_tissue']['anndata2']['obskey_x'] = 'x_centroid'\n",
    "config_data_evaluation['list_tissue']['anndata2']['obskey_y'] = 'y_centroid'\n",
    "config_data_evaluation['list_tissue']['anndata2']['obskey_biological_batch_key'] = 'batchID_for_MintFlow'\n",
    "config_data_evaluation['list_tissue']['anndata2']['config_dataloader_test']['width_window'] = 200\n",
    "config_data_evaluation['list_tissue']['anndata2']['config_neighbourhood_graph'] = {\n",
    "    'n_neighs': 10,\n",
    "    'set_diag': 'False',\n",
    "    'delaunay': 'False',\n",
    "}"
   ]
  },
  {
   "cell_type": "markdown",
   "id": "23756215-bfb0-404e-b0ff-4ea01c8f1e41",
   "metadata": {},
   "source": [
    "#### 4.3.3. Customise `config_data_evaluation` for tissue section 3"
   ]
  },
  {
   "cell_type": "code",
   "execution_count": null,
   "id": "5dfd15ba-da9c-42cb-9e69-4d2158da6325",
   "metadata": {},
   "outputs": [],
   "source": [
    "config_data_evaluation['list_tissue']['anndata3']['file'] = os.path.join(path_anndata, 'tissue_section_forMintFlow_3.h5ad')\n",
    "config_data_evaluation['list_tissue']['anndata3']['obskey_cell_type'] = 'broad_celltypes'\n",
    "config_data_evaluation['list_tissue']['anndata3']['obskey_sliceid_to_checkUnique'] = 'TissueSectionID_for_MintFlow'\n",
    "config_data_evaluation['list_tissue']['anndata3']['obskey_x'] = 'x_centroid'\n",
    "config_data_evaluation['list_tissue']['anndata3']['obskey_y'] = 'y_centroid'\n",
    "config_data_evaluation['list_tissue']['anndata3']['obskey_biological_batch_key'] = 'batchID_for_MintFlow'\n",
    "config_data_evaluation['list_tissue']['anndata3']['config_dataloader_test']['width_window'] = 200\n",
    "config_data_evaluation['list_tissue']['anndata3']['config_neighbourhood_graph'] = {\n",
    "    'n_neighs': 10,\n",
    "    'set_diag': 'False',\n",
    "    'delaunay': 'False',\n",
    "}"
   ]
  },
  {
   "cell_type": "markdown",
   "id": "0b4c1c28-0e05-4a90-887c-d0b0a4575a2c",
   "metadata": {},
   "source": [
    "#### 4.3.4. Customise `config_data_evaluation` for tissue section 4"
   ]
  },
  {
   "cell_type": "code",
   "execution_count": null,
   "id": "63a247fc-5096-42a9-a3de-0cb2ef719248",
   "metadata": {},
   "outputs": [],
   "source": [
    "config_data_evaluation['list_tissue']['anndata4']['file'] = os.path.join(path_anndata, 'tissue_section_forMintFlow_4.h5ad')\n",
    "config_data_evaluation['list_tissue']['anndata4']['obskey_cell_type'] = 'broad_celltypes'\n",
    "config_data_evaluation['list_tissue']['anndata4']['obskey_sliceid_to_checkUnique'] = 'TissueSectionID_for_MintFlow'\n",
    "config_data_evaluation['list_tissue']['anndata4']['obskey_x'] = 'x_centroid'\n",
    "config_data_evaluation['list_tissue']['anndata4']['obskey_y'] = 'y_centroid'\n",
    "config_data_evaluation['list_tissue']['anndata4']['obskey_biological_batch_key'] = 'batchID_for_MintFlow'\n",
    "config_data_evaluation['list_tissue']['anndata4']['config_dataloader_test']['width_window'] = 200\n",
    "config_data_evaluation['list_tissue']['anndata4']['config_neighbourhood_graph'] = {\n",
    "    'n_neighs': 10,\n",
    "    'set_diag': 'False',\n",
    "    'delaunay': 'False',\n",
    "}"
   ]
  },
  {
   "cell_type": "markdown",
   "id": "364a5978-4767-4491-9e13-8fd7ca4bc373",
   "metadata": {},
   "source": [
    "#### 4.3.5. Customise `config_data_evaluation` for tissue section 5"
   ]
  },
  {
   "cell_type": "code",
   "execution_count": null,
   "id": "a1e0ec93-7768-4d9a-9d2a-88428d980a30",
   "metadata": {},
   "outputs": [],
   "source": [
    "config_data_evaluation['list_tissue']['anndata5']['file'] = os.path.join(path_anndata, 'tissue_section_forMintFlow_5.h5ad')\n",
    "config_data_evaluation['list_tissue']['anndata5']['obskey_cell_type'] = 'broad_celltypes'\n",
    "config_data_evaluation['list_tissue']['anndata5']['obskey_sliceid_to_checkUnique'] = 'TissueSectionID_for_MintFlow'\n",
    "config_data_evaluation['list_tissue']['anndata5']['obskey_x'] = 'x_centroid'\n",
    "config_data_evaluation['list_tissue']['anndata5']['obskey_y'] = 'y_centroid'\n",
    "config_data_evaluation['list_tissue']['anndata5']['obskey_biological_batch_key'] = 'batchID_for_MintFlow'\n",
    "config_data_evaluation['list_tissue']['anndata5']['config_dataloader_test']['width_window'] = 200\n",
    "config_data_evaluation['list_tissue']['anndata5']['config_neighbourhood_graph'] = {\n",
    "    'n_neighs': 10,\n",
    "    'set_diag': 'False',\n",
    "    'delaunay': 'False',\n",
    "}"
   ]
  },
  {
   "cell_type": "markdown",
   "id": "f207c1fb-5215-42a4-8863-a301d992d0da",
   "metadata": {},
   "source": [
    "### 4.4. Customise `config_model`\n",
    "`config_model` contains two important parameters to remove batch effect:\n",
    "- `config_model['coef_xbarint2notbatchID_loss']`: determines to what degree batch mixing (i.e. batch integration) is encouraged in intrinsic component of expression (its embedded representation `Xbar_int`).\n",
    "- `config_model['coef_xbarspl2notbatchID_loss']`: determines to what degree batch mixing (i.e. batch integration) is encouraged in micro-environment component of expression (its embedded representation `Xbar_mic`).\n",
    "\n",
    "As an example, if in a dataset you know that micro-environment effect is batch- or sample-dependant, you can set `config_model['coef_xbarspl2notbatchID_loss']` to a small number to tell the model that batch mixing/integraiton should not be strictly performed for `Xbar_mic`.\n"
   ]
  },
  {
   "cell_type": "code",
   "execution_count": null,
   "id": "0a27601e-e630-4fc6-9b8d-6296fe746f88",
   "metadata": {},
   "outputs": [],
   "source": [
    "config_model['coef_xbarint2notbatchID_loss'] = 1.0\n",
    "config_model['coef_xbarspl2notbatchID_loss'] = 1.0"
   ]
  },
  {
   "cell_type": "markdown",
   "id": "5245ef7e-53e4-4b75-8ff4-571a206333e8",
   "metadata": {},
   "source": [
    "### 4.5. Customise config_training\n",
    "\n",
    "A note about wandb: before proceeding, it is highligy recommended (though optional) to setup wandb and track/log different values during training.\n",
    "- To enable wandb: Go to [(https://wandb.ai/)](https://wandb.ai/) and create an account\n",
    "- To disable wandb: set `config_training['flag_enable_wandb']` in the below cell to 'False'."
   ]
  },
  {
   "cell_type": "code",
   "execution_count": null,
   "id": "a2f5f2da-8311-41bf-9b27-f2791158ac95",
   "metadata": {},
   "outputs": [],
   "source": [
    "config_training['num_training_epochs'] = 20\n",
    "# number of training epochs, i.e. the number of times the model sees the dataset during training.\n",
    "\n",
    "config_training['flag_use_GPU'] = 'True's\n",
    "# whether GPU is used.\n",
    "\n",
    "config_training['flag_enable_wandb'] = 'True'\n",
    "# if set to True, during training different loss terms are logged to wandb.\n",
    "# It's highly recommended to enable wandb. Please refer to wandb website for more info: `wandb.ai`\n",
    "\n",
    "\n",
    "config_training['wandb_project_name'] = 'MintFlow'\n",
    "# wandb project name (ignored if `config_training['flag_enable_wandb']` is set to False)\n",
    "\n",
    "config_training['wandb_run_name'] = 'Mintflow_Tutorial_Notebook3'\n",
    "# wandb run name (ignored if `config_training['flag_enable_wandb']` is set to False)"
   ]
  },
  {
   "cell_type": "markdown",
   "id": "8cc644f6-c5c1-4212-8f90-9aaa5e115fce",
   "metadata": {},
   "source": [
    "## 5. Verify and post-process the four configurations\n",
    "In this section we verify and postprocess the four configurations."
   ]
  },
  {
   "cell_type": "code",
   "execution_count": null,
   "id": "5876ca9e-781e-47d1-86a9-459c11eeed9b",
   "metadata": {},
   "outputs": [],
   "source": [
    "config_data_train = mintflow.verify_and_postprocess_config_data_train(config_data_train) "
   ]
  },
  {
   "cell_type": "code",
   "execution_count": null,
   "id": "a3d34bf3-3c36-4cbf-9d5c-8622fd9b77bf",
   "metadata": {},
   "outputs": [],
   "source": [
    "config_data_evaluation = mintflow.verify_and_postprocess_config_data_evaluation(config_data_evaluation)"
   ]
  },
  {
   "cell_type": "code",
   "execution_count": null,
   "id": "653f37b8-aed6-4fa2-ab6f-930fa1cfe79f",
   "metadata": {},
   "outputs": [],
   "source": [
    "config_model = mintflow.verify_and_postprocess_config_model(config_model, num_tissue_sections=len(config_data_train))  "
   ]
  },
  {
   "cell_type": "code",
   "execution_count": null,
   "id": "d41d87ff-84c6-4727-a4df-e373bef9ca03",
   "metadata": {},
   "outputs": [],
   "source": [
    "config_training = mintflow.verify_and_postprocess_config_training(config_training) "
   ]
  },
  {
   "cell_type": "code",
   "execution_count": null,
   "id": "1b64928c-325e-4f07-9454-36eefbf5b118",
   "metadata": {},
   "outputs": [],
   "source": [
    "print(\"Finished verifying the 4 configuration objects.\")"
   ]
  },
  {
   "cell_type": "markdown",
   "id": "1db660c4-2f81-4ec8-9fb9-f3f1f1d3f7d1",
   "metadata": {},
   "source": [
    "## 6. Setup the Data/Model/Trainer\n",
    "Having created and verified the 4 configurations, in this section we create the variables `data_mintflow`, `model`, and `trainer`.\n",
    "\n"
   ]
  },
  {
   "cell_type": "code",
   "execution_count": null,
   "id": "d75fbc2e-d02e-42ce-a3c8-efe4474de20e",
   "metadata": {},
   "outputs": [],
   "source": [
    "dict_all4_configs = {\n",
    "    'config_data_train':config_data_train,\n",
    "    'config_data_evaluation':config_data_evaluation,\n",
    "    'config_model':config_model,\n",
    "    'config_training':config_training\n",
    "}"
   ]
  },
  {
   "cell_type": "code",
   "execution_count": null,
   "id": "eaf2c72b-24e4-4d44-b7d6-3b95914df325",
   "metadata": {
    "scrolled": true
   },
   "outputs": [],
   "source": [
    "data_mintflow = mintflow.setup_data(dict_all4_configs=dict_all4_configs)"
   ]
  },
  {
   "cell_type": "code",
   "execution_count": null,
   "id": "b35b5a68-2cac-449a-a44f-6a82babd9b52",
   "metadata": {},
   "outputs": [],
   "source": [
    "model = mintflow.setup_model(\n",
    "    dict_all4_configs=dict_all4_configs,\n",
    "    data_mintflow=data_mintflow\n",
    ")"
   ]
  },
  {
   "cell_type": "code",
   "execution_count": null,
   "id": "537bc10c-38e3-4740-8139-0e1db5420a42",
   "metadata": {},
   "outputs": [],
   "source": [
    "trainer = mintflow.Trainer(\n",
    "    dict_all4_configs=dict_all4_configs,\n",
    "    model=model,\n",
    "    data_mintflow=data_mintflow\n",
    ")"
   ]
  },
  {
   "cell_type": "markdown",
   "id": "1aeda4b7-6aa1-4436-a530-3641015fe37b",
   "metadata": {},
   "source": [
    "## 7. Train the Model\n",
    "Set the variable `path_ouptput_files` below to the path where you want the training files (checkpoints etc) to be saved."
   ]
  },
  {
   "cell_type": "code",
   "execution_count": null,
   "id": "119dd9f3-ca47-4f98-9467-9b092a1d3e32",
   "metadata": {},
   "outputs": [],
   "source": [
    "path_ouptput_files = \"./NonGit/Outputs_TutorialNoboteok3\"\n",
    "# TODO:MODIFY: the path where checkpoints and other files are saved during training."
   ]
  },
  {
   "cell_type": "code",
   "execution_count": null,
   "id": "3095104b-3693-4b90-97e7-74502829da08",
   "metadata": {},
   "outputs": [],
   "source": [
    "for index_epoch in tqdm(range(config_training['num_training_epochs']), desc='Training epoch'):\n",
    "    '''\n",
    "    IMPORTANT NOTE: To change the number of epochs, set `config_training['num_training_epochs']` in previous cells of this notebook\n",
    "    and please refrain from changing the for loop here to, e.g., `for index_epoch in tqdm(range(10), ...)`.\n",
    "    Because MintFlow's annealing module presumes that the number of epochs equals `config_training['num_training_epochs']`.\n",
    "    ''' \n",
    "    \n",
    "    # train for one epoch\n",
    "    trainer.train_one_epoch()\n",
    "\n",
    "    # get/save the predictions\n",
    "    predictions = mintflow.predict(\n",
    "        device=device,\n",
    "        dict_all4_configs=dict_all4_configs,\n",
    "        data_mintflow=data_mintflow,\n",
    "        model=model,\n",
    "        evalulate_on_sections=\"all\",\n",
    "    )\n",
    "    with open(os.path.join(path_ouptput_files, \"predictions_epoch_{}.pkl\".format(index_epoch)), 'wb') as f:\n",
    "        pickle.dump(\n",
    "            predictions,\n",
    "            f\n",
    "        )\n",
    "\n",
    "    # evaluate the model and save the evaluation result for the checkpoint\n",
    "    df_evaluation_result = mintflow.evaluate_by_known_signalling_genes(\n",
    "        device=device,\n",
    "        dict_all4_configs=dict_all4_configs,\n",
    "        data_mintflow=data_mintflow,\n",
    "        model=model,\n",
    "        evalulate_on_sections='all',\n",
    "        optional_list_colvaltype_toadd=[['training_epoch', index_epoch, 'category']]\n",
    "    )\n",
    "    df_evaluation_result.to_pickle(\n",
    "        os.path.join(\n",
    "            path_ouptput_files,\n",
    "            'df_evaluation_result_epoch_{}.pkl'.format(index_epoch)\n",
    "        )\n",
    "    )\n",
    "\n",
    "    # save the checkpoint\n",
    "    mintflow.dump_checkpoint(\n",
    "        model=model,\n",
    "        data_mintflow=data_mintflow,\n",
    "        dict_all4_configs=dict_all4_configs,\n",
    "        path_dump=os.path.join(path_ouptput_files, \"checkpoint_epoch_{}.pt\".format(index_epoch)),\n",
    "    )    "
   ]
  },
  {
   "cell_type": "markdown",
   "id": "46eeb374-2d33-446a-8516-d54ce3a9e5d9",
   "metadata": {},
   "source": [
    "## 8. Select the best checkpoint and perform the analysis\n",
    "This part is identical to the tutorial for trianing on a single tissue section. \n",
    "Please refer to the tutorial notebook titled \"Quick Start: Train MintFlow on a Single Tissue Section\", section 8 onwards in that notebook. "
   ]
  },
  {
   "cell_type": "code",
   "execution_count": null,
   "id": "4e4dd052-db37-4462-85df-b281b4524fd2",
   "metadata": {},
   "outputs": [],
   "source": []
  }
 ],
 "metadata": {
  "kernelspec": {
   "display_name": "Python 3 (ipykernel)",
   "language": "python",
   "name": "python3"
  },
  "language_info": {
   "codemirror_mode": {
    "name": "ipython",
    "version": 3
   },
   "file_extension": ".py",
   "mimetype": "text/x-python",
   "name": "python",
   "nbconvert_exporter": "python",
   "pygments_lexer": "ipython3",
   "version": "3.11.11"
  }
 },
 "nbformat": 4,
 "nbformat_minor": 5
}
