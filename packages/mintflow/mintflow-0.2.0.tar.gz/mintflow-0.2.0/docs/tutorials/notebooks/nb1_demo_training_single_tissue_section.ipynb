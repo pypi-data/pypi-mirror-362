{
 "cells": [
  {
   "cell_type": "markdown",
   "id": "89e5cd51-8bbb-4648-b0b3-7adace578af0",
   "metadata": {},
   "source": [
    "# Quick Start: Train MintFlow on a Single Tissue Section "
   ]
  },
  {
   "cell_type": "markdown",
   "id": "497e9023-4319-41ad-b344-8ad0e7016a2a",
   "metadata": {},
   "source": [
    "Tutorial for basic training on a single tissue section\n",
    "- **Creator**: Amir Akbarnejad (aa36@sanger.ac.uk)\n",
    "- **Affiliation**: Wellcome Sanger Institute and University of Cambridge\n",
    "- **Date of Creation**: 23.06.2025\n",
    "- **Date of Last Modificaion**: 23.06.2025\n",
    "\n",
    "**To be able to run the notebook, the parts that you need to modify are specified by `TODO:MODIFY:`. The rest can be left untouched, as far as the goal is to run the notebook.**  \n",
    "\n",
    "This notebook demonstrates how to train MintFlow on a single tissue section. \n",
    "This notebook is only for demonstration, and to get biologically meaningful results you may need longer training and/or different hyper-parameter settings."
   ]
  },
  {
   "cell_type": "markdown",
   "id": "9f98fbab-e162-406f-a500-5961366a208a",
   "metadata": {},
   "source": [
    "## 1. Download the anndata object\n",
    "\n",
    "Download this `.h5ad` file from google drive [(link to the file)](https://drive.google.com/file/d/187Y44hpY5OuwMu0_PA9r9WvycMOx-uz5/view?usp=sharing) \n",
    "and place it in a directory of you choice. Thereafter, set the variable `path_anndata` below to the path where you placed the`.h5ad` file.\n",
    "\n",
    "\n",
    "Dataset source declaration: This anndata object was originally obtained from the following source:\n",
    "[https://www.10xgenomics.com/datasets/xenium-prime-ffpe-human-skin](https://www.10xgenomics.com/datasets/xenium-prime-ffpe-human-skin)"
   ]
  },
  {
   "cell_type": "code",
   "execution_count": null,
   "id": "dc1329ef-058c-4f4b-856f-f564a3767e95",
   "metadata": {},
   "outputs": [],
   "source": [
    "path_anndata = './NonGit/data_train_single_section.h5ad'  \n",
    "# TODO:MODIFY: set to the path where you've put the `.h5ad` file that you downloaded."
   ]
  },
  {
   "cell_type": "code",
   "execution_count": null,
   "id": "08ea3b28-8a62-44bf-8040-206cd583e675",
   "metadata": {},
   "outputs": [],
   "source": [
    "import os, sys\n",
    "import yaml\n",
    "import mintflow\n",
    "import pickle\n",
    "from tqdm.autonotebook import tqdm\n",
    "\n",
    "\n",
    "import pandas as pd\n",
    "import seaborn as sns\n",
    "import matplotlib.pyplot as plt\n",
    "import torch\n",
    "import pandas as pd"
   ]
  },
  {
   "cell_type": "code",
   "execution_count": null,
   "id": "dc72e913-d3b5-4bd3-95c4-809008e21d9d",
   "metadata": {},
   "outputs": [],
   "source": [
    "device = torch.device(\"cuda:0\" if torch.cuda.is_available() else \"cpu\")\n",
    "print(device)"
   ]
  },
  {
   "cell_type": "markdown",
   "id": "ad94de4c-18e8-4b53-aeac-dcfb212d9fd0",
   "metadata": {},
   "source": [
    "## 1. Read the defualt configurations\n",
    "\n",
    "In this section 4 default configuration objects are loaded, which are later on customised. You only need to specify \n",
    "- `num_tissue_sections_training`: Number of tissue sections to be used for training.\n",
    "- `num_tissue_sections_evaluation`: Number of tissue sections to be used for evaluation.\n",
    "\n",
    "Same tissue sections can be used for both training and evaluation, in which case these two numbers are the same.\n",
    "\n"
   ]
  },
  {
   "cell_type": "code",
   "execution_count": null,
   "id": "1dc26dd6-4e33-4a28-86f1-b21992eb1160",
   "metadata": {},
   "outputs": [],
   "source": [
    "config_data_train, config_data_evaluation, config_model, config_training = mintflow.get_default_configurations(\n",
    "    num_tissue_sections_training=1,\n",
    "    num_tissue_sections_evaluation=1\n",
    ")"
   ]
  },
  {
   "cell_type": "markdown",
   "id": "969f7038-5791-4d56-9b65-21c602e92579",
   "metadata": {},
   "source": [
    "## 2. Customise the 4 configurations\n",
    "In this section we customise the four configurations returned by `mintflow.get_default_configurations` above.\n"
   ]
  },
  {
   "cell_type": "markdown",
   "id": "06ba6f93-647a-465b-8a0c-7d8f86711fbc",
   "metadata": {},
   "source": [
    "### 2.1. Costomise `config_data_train`\n",
    "\n",
    "MintFlow requires that each tissue section is saved in a separate anndata file on disk (i.e. one anndata object for each tissue section). \n",
    "The `.X` field of each anndata object is required to have raw counts, in integer data type and \"**without**\" row-sum normalisation or log1p transformation. \n",
    "\n",
    "The `.obs` field of each anndata object is required to have\n",
    "- A column that specifies cell type labels\n",
    "- A column that specifies a unique tissue section (i.e. slice) identifier. For each anndata object you can add a column to its `.obs` field that contains, e.g., the index or barcode of each tissue section that you've assiened to each tissue section.\n",
    "- A column that specifies batch identifier to correct for batch effect (biological, technological, between-patient, etc.).\n",
    "    - In this notebook we have a single tissue section, so no batch correction is needed here. "
   ]
  },
  {
   "cell_type": "code",
   "execution_count": null,
   "id": "a6695bbe-3f79-44a0-80ab-7511da48679f",
   "metadata": {},
   "outputs": [],
   "source": [
    "# configure tissue section 1 =========\n",
    "config_data_train['list_tissue']['anndata1']['file'] = path_anndata\n",
    "#   the absolute path to anndata object of tissue section 1 on disk.\n",
    "\n",
    "\n",
    "config_data_train['list_tissue']['anndata1']['obskey_cell_type'] = 'broad_celltypes'\n",
    "#   meaning that for the 1st tissue section, cell type labels are provided in `broad_celltypes` column of `adata.obs`.\n",
    "\n",
    "\n",
    "config_data_train['list_tissue']['anndata1']['obskey_sliceid_to_checkUnique'] = 'info_id'\n",
    "#   meaning that for the 1st tissue section, tissue section ID (i.e. slice ID) is provided in `info_id` column of `adata.obs`\n",
    "\n",
    "\n",
    "config_data_train['list_tissue']['anndata1']['obskey_x'] = 'x_centroid'\n",
    "#   meaning that for the 1st tissue section, spatial x coordinates are provided in `x_centroid` column of `adata.obs`\n",
    "\n",
    "\n",
    "config_data_train['list_tissue']['anndata1']['obskey_y'] = 'y_centroid'\n",
    "#   meaning that for the 1st tissue section, spatial y coordinates are provided in `y_centroid` column of `adata.obs`\n",
    "\n",
    "\n",
    "\n",
    "config_data_train['list_tissue']['anndata1']['obskey_biological_batch_key'] = 'info_id'\n",
    "#   meaning that for the 1st tissue section, batch identifier is provided in `info_id` column of `adata.obs`\n",
    "\n",
    "\n",
    "config_data_train['list_tissue']['anndata1']['config_dataloader_train']['width_window'] = 100\n",
    "#   For tissue section one, the crop size of the customised dataloader desribed in Supplementary Fig. 16 of paper.\n",
    "#   The larger this number, the larger the tissue crops, and the bigger the subset of cells in each training iteration.\n",
    "#      This implies that more GPU memory would be required during training.\n",
    "#   In this notebook after calling `mintflow.setup_data` in Sec 4 the crop(s) are shown on tissue, \n",
    "#      with some information on image title which can help you tune this parameter.\n",
    "#   In the manuscript we used `width_window` values between 300 and 800 depending on dataset.\n",
    "\n",
    "\n",
    "config_data_train['list_tissue']['anndata1']['config_neighbourhood_graph'] = {\n",
    "    'n_neighs': 5,\n",
    "    'set_diag': 'False',\n",
    "    'delaunay': 'False',\n",
    "}\n",
    "#   The parameters for creating the neighbourhood graph for training tissue section 1"
   ]
  },
  {
   "cell_type": "markdown",
   "id": "67fbf6a6-fc45-4059-94c9-d77965575fd6",
   "metadata": {},
   "source": [
    "### 2.2. Costomise `config_data_evaluation`\n",
    "\n",
    "The set of tissue sections for evaluation can be the same, in which case the same values can be used at the following.\n",
    "\n",
    "Note that in the following cell instead of `['config_dataloader_train']['width_window']` we have `['config_dataloader_test']['width_window']`."
   ]
  },
  {
   "cell_type": "code",
   "execution_count": null,
   "id": "88d4e733-e360-4b7c-82ec-4b23a3a4d06d",
   "metadata": {},
   "outputs": [],
   "source": [
    "# configure tissue section 1 =======================\n",
    "config_data_evaluation['list_tissue']['anndata1']['file'] = path_anndata\n",
    "#   the absolute path to anndata object of tissue section 1 on disk.\n",
    "\n",
    "\n",
    "config_data_evaluation['list_tissue']['anndata1']['obskey_cell_type'] = 'broad_celltypes'\n",
    "#   meaning that for the 1st tissue section, cell type labels are provided in `broad_celltypes` column of `adata.obs`\n",
    "\n",
    "config_data_evaluation['list_tissue']['anndata1']['obskey_sliceid_to_checkUnique'] = 'info_id'\n",
    "#   meaning that for the 1st tissue section, tissue section ID (i.e. slice ID) is provided in `info_id` column of `adata.obs`\n",
    "\n",
    "config_data_evaluation['list_tissue']['anndata1']['obskey_x'] = 'x_centroid'\n",
    "#   meaning that for the 1st tissue section, spatial x coordinates are provided in `x_centroid` column of `adata.obs`\n",
    "\n",
    "\n",
    "config_data_evaluation['list_tissue']['anndata1']['obskey_y'] = 'y_centroid'\n",
    "#   meaning that for the 1st tissue section, spatial y coordinates are provided in `y_centroid` column of `adata.obs`\n",
    "\n",
    "\n",
    "config_data_evaluation['list_tissue']['anndata1']['obskey_biological_batch_key'] = 'info_id'\n",
    "#   meaning that for the 1st tissue section, batch identifier is provided in `info_id` column of `adata.obs`\n",
    "\n",
    "config_data_evaluation['list_tissue']['anndata1']['config_dataloader_test']['width_window'] = 100\n",
    "#   For tissue section one, the crop size of the customised dataloader desribed in Supplementary Fig. 16 of paper.\n",
    "#   The larger this number, the larger the tissue crops, and the bigger the subset of cells in each training iteration.\n",
    "#      This implies that more GPU memory would be required during training.\n",
    "#   In this notebook after calling `mintflow.setup_data` in Sec 4 the crop(s) are shown on tissue, \n",
    "#      with some information on image title which can help you tune this parameter.\n",
    "#   In the manuscript we used `width_window` values between 300 and 800 depending on dataset.\n",
    "\n",
    "\n",
    "config_data_evaluation['list_tissue']['anndata1']['config_neighbourhood_graph'] = {\n",
    "    'n_neighs': 5,\n",
    "    'set_diag': 'False',\n",
    "    'delaunay': 'False',\n",
    "}\n",
    "#   The parameters for creating the neighbourhood graph for evaluation tissue section 1\n"
   ]
  },
  {
   "cell_type": "markdown",
   "id": "1a4d572b-2349-4a4e-9595-19134a391f7e",
   "metadata": {},
   "source": [
    "### 2.3. Customise `config_model`\n",
    "\n",
    "None of model configuration are essential to tune \"in this tutorial notebook\". So in this tutorial we leave `config_model` untouched. Please refer to our documentation for changes that you can make to `config_model.`\n"
   ]
  },
  {
   "cell_type": "markdown",
   "id": "5a3d9513-021e-41b1-b965-a803466872b4",
   "metadata": {},
   "source": [
    "### 2.4. Customise `config_training` \n",
    "\n",
    "\n",
    "A note about wandb: before proceeding, it is highligy recommended (though optional) to setup wandb and track/log different values during training.\n",
    "- To enable wandb: Go to [https://wandb.ai/](https://wandb.ai/) and create an account\n",
    "- To disable wandb: set `config_training['flag_enable_wandb']` in the below cell to 'False'.\n"
   ]
  },
  {
   "cell_type": "code",
   "execution_count": null,
   "id": "f7d22b04-c442-4203-bf29-7512aa269e85",
   "metadata": {},
   "outputs": [],
   "source": [
    "config_training['num_training_epochs'] = 20\n",
    "# number of training epochs, i.e. the number of times the model sees the dataset during training.\n",
    "\n",
    "config_training['flag_use_GPU'] = 'True'\n",
    "# whether GPU is used.\n",
    "\n",
    "config_training['flag_enable_wandb'] = 'True'\n",
    "# if set to True, during training different loss terms are logged to wandb.\n",
    "# It's highly recommended to enable wandb. Please refer to wandb website for more info: `wandb.ai`\n",
    "\n",
    "\n",
    "config_training['wandb_project_name'] = 'MintFlow'\n",
    "# wandb project name (ignored if `config_training['flag_enable_wandb']` is set to False)\n",
    "\n",
    "config_training['wandb_run_name'] = 'Mintflow_Tutorial_Train_Single_Tissue_Section'\n",
    "# wandb run name (ignored if `config_training['flag_enable_wandb']` is set to False)\n"
   ]
  },
  {
   "cell_type": "markdown",
   "id": "5b1a8a7d-dea6-485d-9778-cec18ef5a194",
   "metadata": {},
   "source": [
    "## 3. Verify and post-process the four configurations\n",
    "\n",
    "In this section we verify and postprocess the four configurations."
   ]
  },
  {
   "cell_type": "code",
   "execution_count": null,
   "id": "a41e4930-7fd1-474c-98c8-3f1e0a7a5df6",
   "metadata": {},
   "outputs": [],
   "source": [
    "config_data_train = mintflow.verify_and_postprocess_config_data_train(config_data_train) "
   ]
  },
  {
   "cell_type": "code",
   "execution_count": null,
   "id": "496c2ed4-59d1-43e4-9351-e4b96489116a",
   "metadata": {},
   "outputs": [],
   "source": [
    "config_data_evaluation = mintflow.verify_and_postprocess_config_data_evaluation(config_data_evaluation)"
   ]
  },
  {
   "cell_type": "code",
   "execution_count": null,
   "id": "c1022975-305c-495e-ab8b-574dd29d7e6e",
   "metadata": {},
   "outputs": [],
   "source": [
    "config_model = mintflow.verify_and_postprocess_config_model(config_model, num_tissue_sections=len(config_data_train))  "
   ]
  },
  {
   "cell_type": "code",
   "execution_count": null,
   "id": "cc865570-18d5-4ca4-a9b5-62e1941f3013",
   "metadata": {},
   "outputs": [],
   "source": [
    "config_training = mintflow.verify_and_postprocess_config_training(config_training) "
   ]
  },
  {
   "cell_type": "markdown",
   "id": "00040a92-f697-4503-a477-d73050bd146b",
   "metadata": {},
   "source": [
    "## 4. Setup the Data/Model/Trainer\n",
    "Having created and verified the 4 configurations, in this section we create the variables `data_mintflow`, `model`, and `trainer`."
   ]
  },
  {
   "cell_type": "code",
   "execution_count": null,
   "id": "3d6d6a4c-e3cc-4af3-a536-e651901e1e7f",
   "metadata": {},
   "outputs": [],
   "source": [
    "dict_all4_configs = {\n",
    "    'config_data_train':config_data_train,\n",
    "    'config_data_evaluation':config_data_evaluation,\n",
    "    'config_model':config_model,\n",
    "    'config_training':config_training\n",
    "}"
   ]
  },
  {
   "cell_type": "code",
   "execution_count": null,
   "id": "5b90186a-3f14-48d1-b9a1-55c41d6b47fc",
   "metadata": {
    "scrolled": true
   },
   "outputs": [],
   "source": [
    "data_mintflow = mintflow.setup_data(dict_all4_configs=dict_all4_configs)"
   ]
  },
  {
   "cell_type": "code",
   "execution_count": null,
   "id": "0c25361d-7bc1-4929-8b0f-30fa94a6af52",
   "metadata": {},
   "outputs": [],
   "source": [
    "model = mintflow.setup_model(\n",
    "    dict_all4_configs=dict_all4_configs,\n",
    "    data_mintflow=data_mintflow\n",
    ")"
   ]
  },
  {
   "cell_type": "code",
   "execution_count": null,
   "id": "384b8c63-4447-49de-96f6-849bdcda0fbd",
   "metadata": {},
   "outputs": [],
   "source": [
    "trainer = mintflow.Trainer(\n",
    "    dict_all4_configs=dict_all4_configs,\n",
    "    model=model,\n",
    "    data_mintflow=data_mintflow\n",
    ")"
   ]
  },
  {
   "cell_type": "markdown",
   "id": "09e23e66-f720-4bea-bc43-14795c146d3a",
   "metadata": {},
   "source": [
    "## 5. Train the Model\n",
    "Set the variable `path_ouptput_files` below to the path where you want the training files (checkpoints etc) to be saved."
   ]
  },
  {
   "cell_type": "code",
   "execution_count": null,
   "id": "41edb4d4-29e1-4e75-b604-cf4c49b82f64",
   "metadata": {},
   "outputs": [],
   "source": [
    "path_ouptput_files = \"./NonGit/Outputs_TutorialNoboteok1\"\n",
    "# TODO:MODIFY: the path where checkpoints and other files are saved during training."
   ]
  },
  {
   "cell_type": "code",
   "execution_count": null,
   "id": "02bb38fe-89f9-468a-aacb-5c73639f78a8",
   "metadata": {
    "scrolled": true
   },
   "outputs": [],
   "source": [
    "for index_epoch in tqdm(range(config_training['num_training_epochs']), desc='Training epoch'):\n",
    "    '''\n",
    "    IMPORTANT NOTE: To change the number of epochs, set `config_training['num_training_epochs']` in previous cells of this notebook\n",
    "    and please refrain from changing the for loop here to, e.g., `for index_epoch in tqdm(range(10), ...)`.\n",
    "    Because MintFlow's annealing module presumes that the number of epochs equals `config_training['num_training_epochs']`.\n",
    "    ''' \n",
    "    \n",
    "    # train for one epoch\n",
    "    trainer.train_one_epoch()\n",
    "\n",
    "    # get/save the predictions\n",
    "    predictions = mintflow.predict(\n",
    "        device=device,\n",
    "        dict_all4_configs=dict_all4_configs,\n",
    "        data_mintflow=data_mintflow,\n",
    "        model=model,\n",
    "        evalulate_on_sections=\"all\",\n",
    "    )\n",
    "    with open(os.path.join(path_ouptput_files, \"predictions_epoch_{}.pkl\".format(index_epoch)), 'wb') as f:\n",
    "        pickle.dump(\n",
    "            predictions,\n",
    "            f\n",
    "        )\n",
    "\n",
    "    # evaluate the model and save the evaluation result for this checkpoint\n",
    "    df_evaluation_result = mintflow.evaluate_by_known_signalling_genes(\n",
    "        device=device,\n",
    "        dict_all4_configs=dict_all4_configs,\n",
    "        data_mintflow=data_mintflow,\n",
    "        model=model,\n",
    "        evalulate_on_sections='all',\n",
    "        optional_list_colvaltype_toadd=[['training_epoch', index_epoch, 'category']]\n",
    "    )\n",
    "    df_evaluation_result.to_pickle(\n",
    "        os.path.join(\n",
    "            path_ouptput_files,\n",
    "            'df_evaluation_result_epoch_{}.pkl'.format(index_epoch)\n",
    "        )\n",
    "    )\n",
    "\n",
    "    # save the checkpoint\n",
    "    mintflow.dump_checkpoint(\n",
    "        model=model,\n",
    "        data_mintflow=data_mintflow,\n",
    "        dict_all4_configs=dict_all4_configs,\n",
    "        path_dump=os.path.join(path_ouptput_files, \"checkpoint_epoch_{}.pt\".format(index_epoch)),\n",
    "    )    \n",
    "\n"
   ]
  },
  {
   "cell_type": "markdown",
   "id": "ba0dd4a5-976b-4baa-859b-b7467dc33b7d",
   "metadata": {},
   "source": [
    "## 8. Select the best checkpoint\n",
    "To perform the analysis you can either pick the last checkpoint, or alternatively, you can pick the best checkpoint by inspceting the dumped `df_evaluation_result` objects. \n",
    "If the disentanglement is successful, the violinplots/boxplots that correspond to signalling genes should be skewed towards 1.0 (like the orange violin/box plots in the provided sample figures below) while for other genes they should be skewed towards 0.0 (like the blue violin/box plots in the provided sample figures below) \n",
    "\n",
    "Sample violin/box plots:\n",
    "- a sample violinplot that shows succesful disentanglement: [(link to the figure)](https://github.com/Lotfollahi-lab/mintflow/blob/b9ffc2a1c7f66d5387b3037dd3f8e40521274cf3/docs/tutorials/notebooks/violin_plot.png)\n",
    "- a sample boxplot that shows succesful disentanglement: [(link to the figure)](https://github.com/Lotfollahi-lab/mintflow/blob/b9ffc2a1c7f66d5387b3037dd3f8e40521274cf3/docs/tutorials/notebooks/box_plot.png)\n",
    "\n",
    "To produce violin/box plots for a specific checkpoint, you can run the below cells.\n",
    "To arrive at a metric, you can compute a discrepancy metric (e.g. [Wasserstein distance](https://docs.scipy.org/doc/scipy/reference/generated/scipy.stats.wasserstein_distance.html)) between the two groups specified in `is_among_signalling_genes`."
   ]
  },
  {
   "cell_type": "code",
   "execution_count": null,
   "id": "876eb2f8-aa3b-4743-9f13-8f0ad752db73",
   "metadata": {
    "scrolled": true
   },
   "outputs": [],
   "source": [
    "df_toinspect = pd.read_pickle(\n",
    "    os.path.join(path_ouptput_files, 'df_evaluation_result_epoch_{}.pkl'.format(10))\n",
    ")\n",
    "# TODO:MODIFY: change `10` to the checkpoint index that you want to inspect"
   ]
  },
  {
   "cell_type": "code",
   "execution_count": null,
   "id": "c9906223-fb54-4c34-9b38-93acf96ebfa9",
   "metadata": {},
   "outputs": [],
   "source": [
    "sns.violinplot(\n",
    "    data=df_toinspect[\n",
    "        df_toinspect['read_count'] > 30.0\n",
    "    ],\n",
    "    x='training_epoch',\n",
    "    y=\"fraction_assigned_to_Xmic\",\n",
    "    hue=\"is_among_signalling_genes\",\n",
    "    cut=0\n",
    ")"
   ]
  },
  {
   "cell_type": "code",
   "execution_count": null,
   "id": "bdb1ca1a-8368-4a5b-9807-271b42befa1c",
   "metadata": {},
   "outputs": [],
   "source": [
    "sns.boxplot(\n",
    "    data=df_toinspect[\n",
    "        df_toinspect['read_count'] > 30.0\n",
    "    ],\n",
    "    x='training_epoch',\n",
    "    y=\"fraction_assigned_to_Xmic\",\n",
    "    hue=\"is_among_signalling_genes\"\n",
    ")"
   ]
  },
  {
   "cell_type": "markdown",
   "id": "28af4e39-e26e-48f6-8e23-f78ac4d07783",
   "metadata": {},
   "source": [
    "## 9. Use MintFlow predictions for analysis\n",
    "Having selected the best (or a good) chcekpoint, set the variable `index_selected_checkpoint` below and run the following cells."
   ]
  },
  {
   "cell_type": "code",
   "execution_count": null,
   "id": "cd53830e-c8f2-4494-b066-9378d3e5d2ac",
   "metadata": {},
   "outputs": [],
   "source": [
    "index_selected_checkpoint = 19\n",
    "# TODO:MODIFY: the index of the best (or a good) checkpoint that you selected. "
   ]
  },
  {
   "cell_type": "markdown",
   "id": "495355cd-0c2d-47da-bedc-9a5780794df5",
   "metadata": {},
   "source": [
    "Load predictions for the selected checkpoint."
   ]
  },
  {
   "cell_type": "code",
   "execution_count": null,
   "id": "6b620171-a604-4acf-8e1e-82cc9331424b",
   "metadata": {},
   "outputs": [],
   "source": [
    "with open(os.path.join(path_ouptput_files, \"predictions_epoch_{}.pkl\".format(index_selected_checkpoint)), 'rb') as f:\n",
    "    predictions_selected_checkpoint = pickle.load(f)"
   ]
  },
  {
   "cell_type": "markdown",
   "id": "32778d12-cb72-4797-b8d4-a89a626c4d35",
   "metadata": {},
   "source": [
    "MintFlow predictions are available in `predictions_selected_checkpoint`. In particular, the intrinsic- and microenvironment-induced components of expression are available in \n",
    "- `predictions_selected_checkpoint['TissueSection 0 (zero-based)']['MintFlow_Xint']`\n",
    "- `predictions_selected_checkpoint['TissueSection 0 (zero-based)']['MintFlow_Xmic']`"
   ]
  },
  {
   "cell_type": "markdown",
   "id": "0782ff7c-4917-4286-915e-455a840d3103",
   "metadata": {},
   "source": [
    "For example we can compute MintFlow's per-cell microenvironment signalling score as follows: "
   ]
  },
  {
   "cell_type": "code",
   "execution_count": null,
   "id": "61e3fb9e-54b3-4b55-8061-410251d37a1e",
   "metadata": {},
   "outputs": [],
   "source": [
    "Xint = predictions_selected_checkpoint['TissueSection 0 (zero-based)']['MintFlow_Xint']\n",
    "Xmic = predictions_selected_checkpoint['TissueSection 0 (zero-based)']['MintFlow_Xmic']"
   ]
  },
  {
   "cell_type": "code",
   "execution_count": null,
   "id": "bebf1a9a-ecb5-4724-909e-1ace1ca62744",
   "metadata": {},
   "outputs": [],
   "source": [
    "MintFlow_microenvironment_signalling_score = Xmic.sum(1) / (Xint+Xmic).sum(1)"
   ]
  },
  {
   "cell_type": "code",
   "execution_count": null,
   "id": "a70585a4-ab1b-4835-9245-b14b2337b057",
   "metadata": {},
   "outputs": [],
   "source": []
  }
 ],
 "metadata": {
  "environment": {
   "kernel": "envmintflowmay271400",
   "name": "workbench-notebooks.m129",
   "type": "gcloud",
   "uri": "us-docker.pkg.dev/deeplearning-platform-release/gcr.io/workbench-notebooks:m129"
  },
  "kernelspec": {
   "display_name": "Python 3 (ipykernel)",
   "language": "python",
   "name": "python3"
  },
  "language_info": {
   "codemirror_mode": {
    "name": "ipython",
    "version": 3
   },
   "file_extension": ".py",
   "mimetype": "text/x-python",
   "name": "python",
   "nbconvert_exporter": "python",
   "pygments_lexer": "ipython3",
   "version": "3.11.11"
  }
 },
 "nbformat": 4,
 "nbformat_minor": 5
}
