{
 "cells": [
  {
   "cell_type": "markdown",
   "id": "27e98eff-0f82-4cd7-837f-9b3d168520fc",
   "metadata": {},
   "source": [
    "# Quick Start: Generate Expression Data for a Customised Tissue  "
   ]
  },
  {
   "cell_type": "markdown",
   "id": "7e8fcb00-0140-4911-a59b-1d755757a87a",
   "metadata": {},
   "source": [
    "\n",
    "- **Creator**: Amir Akbarnejad (aa36@sanger.ac.uk)\n",
    "- **Affiliation**: Wellcome Sanger Institute and University of Cambridge\n",
    "- **Date of Creation**: 01.07.2025\n",
    "- **Date of Last Modificaion**: 01.07.2025\n",
    "\n",
    "This tutorial demonstrates how to generate in silico spatial expression data using MintFlow.\n",
    "**To be able to run the notebook, the parts that you need to modify are specified by `TODO:MODIFY:`. The rest can be left untouched, as far as the goal is to run the notebook.**  \n",
    "\n",
    "This notebook is only for demonstration, and to get biologically meaningful results you may need different data and/or settings."
   ]
  },
  {
   "cell_type": "code",
   "execution_count": null,
   "id": "7af307f2-5f6f-436b-804b-e118039ac10c",
   "metadata": {},
   "outputs": [],
   "source": [
    "import os, sys\n",
    "import yaml\n",
    "import mintflow\n",
    "import scanpy as sc\n",
    "import squidpy as sq\n",
    "import matplotlib.pyplot as plt\n",
    "from tqdm.autonotebook import tqdm\n",
    "import numpy as np\n",
    "from pprint import pprint\n",
    "\n",
    "import pandas as pd\n",
    "import seaborn as sns\n",
    "import matplotlib.pyplot as plt\n",
    "import torch\n",
    "\n",
    "import mintflow\n",
    "import mintflow.interface.perturbation.module_gen_micsizefactor\n",
    "import mintflow.interface.perturbation.module_gen_stdata"
   ]
  },
  {
   "cell_type": "markdown",
   "id": "085b7dae-84e9-46fd-a494-6003ec2bdde3",
   "metadata": {},
   "source": [
    "## 1 Overview\n",
    "\n",
    "To generate in silico spatial expression data, you need to tell MintFlow:\n",
    "1. A cell-cell neighbourhood graph (usually computed from cells' spatial locations)\n",
    "2. Cells' cell type labels\n",
    "3. A batch index integer, i.e., the index of the training batch that the tissue hypothetically belongs to. It conditions the generation on the batch token of one of biological/technological batches seen during training.  \n",
    "\n",
    "Afterwards, given the specified tissue (i.e. given 1, 2, and 3) the generative model is able to generate spatial expression data, and, if asked, multiple samples or realisations from it.\n",
    "\n",
    "Note:\n",
    "- It is not allowed to have novel cell type labels, i.e. cell type labels that the model has never seen during training.\n",
    "- If the biological batch index is set to, e.g., 0, it doesn't mean that the specified tissue (i.e. cell type labels and neighbourhood graph) has to be a crop or a subset of the 0-th biological batch in the training set. Instead, you can freely create even a de novo tissue by\n",
    "  - arbitrarily specifying cells' 2D locations,\n",
    "  - computing the neighbourhood graph base on cells' locations,\n",
    "  - and arbitrary assigning cell type labels of your choice to cells.\n",
    "\n",
    "\n",
    "At the following we demonstrate the steps of doing this."
   ]
  },
  {
   "cell_type": "markdown",
   "id": "63bfb3e9-c281-4c5f-bd6c-53f60e5ad89b",
   "metadata": {},
   "source": [
    "## 2. Download a sample anndata object and a sample MintFlow checkpoint\n",
    " \n",
    "- Download this sample .h5ad file from google drive: [(link to the file on google drive)](https://drive.google.com/file/d/187Y44hpY5OuwMu0_PA9r9WvycMOx-uz5/view?usp=sharing)\n",
    "and place it in a directory of your choice. Thereafter, set the variable `path_anndata` below to the path where you placed the `.h5ad` file.\n",
    "- In the first tutorial notebook we demonstrated how to save a checkpoint on disk by calling `mintflow.dump_checkpoint`. Download this sample checkpoint file from google drive [(link to the file on google drive)](https://drive.google.com/file/d/1KS40-BCE4Zapq0osNjRkMEXs8IGRQj3g/view?usp=sharing)\n",
    "and place it in a directory of your choice. Thereafter, set the variable `path_checkpoint` below to the path where you placed the `.pt` file.\n",
    "\n"
   ]
  },
  {
   "cell_type": "code",
   "execution_count": null,
   "id": "93ea0944-0fbf-47da-9c57-0421db24b883",
   "metadata": {},
   "outputs": [],
   "source": [
    "path_anndata = './NonGit/data_train_single_section.h5ad'  \n",
    "# TODO:MODIFY: set to the path where you've put the `.h5ad` file that you downloaded above.\n",
    "\n",
    "path_checkpoint = './NonGit/sample_checkpoint.pt'  \n",
    "# TODO:MODIFY: set to the path where you've put the `.pt` file that you downloaded above."
   ]
  },
  {
   "cell_type": "markdown",
   "id": "b42323ba-8c9b-4a1d-8cb6-7e0b53b3b041",
   "metadata": {},
   "source": [
    "## 3. Load the MintFlow checkpoint"
   ]
  },
  {
   "cell_type": "code",
   "execution_count": null,
   "id": "318bda8a-eef6-4883-b117-74063f56b8b8",
   "metadata": {},
   "outputs": [],
   "source": [
    "device = torch.device(\"cuda:0\" if torch.cuda.is_available() else \"cpu\")\n",
    "print(device)"
   ]
  },
  {
   "cell_type": "code",
   "execution_count": null,
   "id": "16ed60c5-c46a-4920-b1d2-76be21357f18",
   "metadata": {},
   "outputs": [],
   "source": [
    "checkpoint_mintflow = torch.load(\n",
    "    path_checkpoint,\n",
    "    map_location='cpu',\n",
    "    weights_only=False\n",
    ")\n",
    "checkpoint_mintflow['model'].to(device)\n",
    "print(\"Loaded the checkpoint.\")"
   ]
  },
  {
   "cell_type": "markdown",
   "id": "8d7f6898-e745-4258-a959-61e49feb1775",
   "metadata": {},
   "source": [
    "## 4. Make a tissue with customised cell type labels and cell spatial locations  \n",
    "As explained above, one can arbitrarily specify cells' spatial locations and cell type labels. But here we simply use a crop of the tissue used for training.  "
   ]
  },
  {
   "cell_type": "markdown",
   "id": "52bdd505-5908-4b62-b0c8-8e4b2d17cf14",
   "metadata": {},
   "source": [
    "### 4.1. load the anndata object"
   ]
  },
  {
   "cell_type": "code",
   "execution_count": null,
   "id": "6d005262-2a79-4515-b056-0f38233d4cf1",
   "metadata": {},
   "outputs": [],
   "source": [
    "adata = sc.read_h5ad(\n",
    "    path_anndata\n",
    ")"
   ]
  },
  {
   "cell_type": "markdown",
   "id": "73bf0219-5ef9-422c-bb10-713cc809aee6",
   "metadata": {},
   "source": [
    "### 4.2. Select a crop from it"
   ]
  },
  {
   "cell_type": "code",
   "execution_count": null,
   "id": "97f02653-c116-47e8-a22f-4b4bf330983c",
   "metadata": {},
   "outputs": [],
   "source": [
    "adata = adata[\n",
    "    (adata.obs['x_centroid'] > 5000.0) &  (adata.obs['x_centroid'] < 6000.0) &\\\n",
    "    (adata.obs['y_centroid'] > 2100.0) &  (adata.obs['y_centroid'] < 2500.0)\n",
    "]  # select a crop from it"
   ]
  },
  {
   "cell_type": "markdown",
   "id": "f0a4d434-8475-4d26-ab09-a44f03841438",
   "metadata": {},
   "source": [
    "### 4.3. Create the neighbourhood graph"
   ]
  },
  {
   "cell_type": "code",
   "execution_count": null,
   "id": "64ddc1b8-c0f0-4ba8-b652-4748d02ee995",
   "metadata": {},
   "outputs": [],
   "source": [
    "# create the neighbourhood graph\n",
    "kwargs_neighbourhood_graph = {\n",
    "    'spatial_key': 'spatial',\n",
    "    'library_key': None,\n",
    "    'set_diag': False,\n",
    "    'delaunay': False,\n",
    "    'n_neighs': 5\n",
    "}\n",
    "adata.uns = {}\n",
    "sq.gr.spatial_neighbors(\n",
    "    adata=adata,\n",
    "    **kwargs_neighbourhood_graph\n",
    ")"
   ]
  },
  {
   "cell_type": "markdown",
   "id": "14e56547-85b0-43fe-99fd-bd6c373b0662",
   "metadata": {},
   "source": [
    "### 4.4. Visualise the selected tissue crop"
   ]
  },
  {
   "cell_type": "code",
   "execution_count": null,
   "id": "05964763-f998-4014-8c82-bc8ae352ab45",
   "metadata": {},
   "outputs": [],
   "source": [
    "sc.pl.spatial(\n",
    "    adata,\n",
    "    spot_size=5,\n",
    "    color='broad_celltypes'\n",
    ")"
   ]
  },
  {
   "cell_type": "markdown",
   "id": "61c9cdbb-4389-4730-895b-a34653789d8b",
   "metadata": {},
   "source": [
    "## 5. Generate expression data for the specified tissue\n",
    "Having creatted the customised tissue section (i.e. given items 1, 2, and 3 explained at the beginning of the notebook) we now proceed to generate expression data for it. It's done by calling `mintflow.generate_insilico_ST_data`.\n",
    "\n",
    "Some important arguments to pass to the function `mintflow.generate_insilico_ST_data`:\n",
    "- `obskey_celltype`: the column name of the `.obs` field that contain cell type labels. Cell type labels have to be among the ones seen during training.\n",
    "- `batch_index_trainingdata`: generation is conditioned on batch index as well. For example if `batch_index_trainingdata` is set to 1, generation is conditioned on batch with index 1 seen during training. Note that this index is zero-based. To check the batch index assigned to each tissue section, you can run the below cell. In this tutorial we have a single tissue section, and therefore a single batch and `batch_index_trainingdata` is set to 0.\n",
    "- `estimate_spatial_sizefactors_on_sections`: To generate `Xint` and `Xmic` two size factors are needed. To generate these size factors, MintFlow filters out cells with similar cell type labels and MCC vectors in some tissue sections. This argument specifies the tissue section(s) used for this purpose. In this tutorial we have a single tissue section, therefore `estimate_spatial_sizefactors_on_sections` is set to [0]."
   ]
  },
  {
   "cell_type": "code",
   "execution_count": null,
   "id": "245cb1c2-b35e-418c-a1f9-94dbe85272a0",
   "metadata": {},
   "outputs": [],
   "source": [
    "# prints the batch index assigned to each tissue section in the training set\n",
    "pprint(checkpoint_mintflow['data_mintflow']['train_list_tissue_section'].map_Batchname_to_inflowBatchID)"
   ]
  },
  {
   "cell_type": "code",
   "execution_count": null,
   "id": "bfdbc1ff-1619-474b-b66e-f8770c867e8c",
   "metadata": {
    "scrolled": true
   },
   "outputs": [],
   "source": [
    "result_generation = mintflow.generate_insilico_ST_data(\n",
    "    adata=adata,\n",
    "    obskey_celltype='broad_celltypes',\n",
    "    obspkey_neighbourhood_graph='spatial_connectivities',\n",
    "    device=device,\n",
    "    batch_index_trainingdata=0,\n",
    "    num_generated_realisations=3,\n",
    "    model=checkpoint_mintflow['model'],\n",
    "    data_mintflow=checkpoint_mintflow['data_mintflow'],\n",
    "    dict_all4_configs=checkpoint_mintflow['dict_all4_configs'],\n",
    "    estimate_spatial_sizefactors_on_sections=[0]\n",
    ")"
   ]
  },
  {
   "cell_type": "markdown",
   "id": "c9a89d4c-6084-4de0-8b35-6910bda94b09",
   "metadata": {},
   "source": [
    "The above cell generates `num_generated_realisations=3` expression data or \"realisations\" for the tissue, and the variation in the expression of each gene among the generated samples or \"realisations\" can be informative.\n",
    "\n",
    "We can obtain, e.g., the average microenvironment component of the generated expression as follows:"
   ]
  },
  {
   "cell_type": "code",
   "execution_count": null,
   "id": "b890dcfa-e921-493a-a6e2-8e538bcca1a0",
   "metadata": {},
   "outputs": [],
   "source": [
    "Xmic_average = np.stack(\n",
    "    [realisation['MintFLow_Generated_Xmic'] for realisation in result_generation['list_generated_realisations_ie_expressions']]\n",
    ").mean(0)"
   ]
  },
  {
   "cell_type": "markdown",
   "id": "bc86e144-4d8e-4889-b418-308b673dc2c8",
   "metadata": {},
   "source": [
    "Intuitively, `Xmic_average` means how \"on average\" the generative model thinks the microenvironment-induced part of expression is, given the provided cells' locations and cell type labels. "
   ]
  },
  {
   "cell_type": "code",
   "execution_count": null,
   "id": "289a8a72-ca7d-48c9-acf0-e7a16e01170a",
   "metadata": {},
   "outputs": [],
   "source": []
  },
  {
   "cell_type": "code",
   "execution_count": null,
   "id": "cbcaef39-c1d6-4fe4-926f-a9ec86caa421",
   "metadata": {},
   "outputs": [],
   "source": []
  }
 ],
 "metadata": {
  "kernelspec": {
   "display_name": "Python 3 (ipykernel)",
   "language": "python",
   "name": "python3"
  },
  "language_info": {
   "codemirror_mode": {
    "name": "ipython",
    "version": 3
   },
   "file_extension": ".py",
   "mimetype": "text/x-python",
   "name": "python",
   "nbconvert_exporter": "python",
   "pygments_lexer": "ipython3",
   "version": "3.11.13"
  }
 },
 "nbformat": 4,
 "nbformat_minor": 5
}
