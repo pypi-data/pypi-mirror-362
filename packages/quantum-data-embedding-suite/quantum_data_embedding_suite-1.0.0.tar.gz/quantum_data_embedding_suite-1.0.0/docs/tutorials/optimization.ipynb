{
 "cells": [
  {
   "cell_type": "markdown",
   "id": "5af74c11",
   "metadata": {},
   "source": [
    "# Optimization Tutorial\n",
    "\n",
    "This tutorial demonstrates optimization techniques for quantum data embeddings."
   ]
  },
  {
   "cell_type": "markdown",
   "id": "f08ffbdb",
   "metadata": {},
   "source": [
    "# Optimization Tutorial\n",
    "\n",
    "This tutorial demonstrates optimization techniques for quantum data embeddings."
   ]
  },
  {
   "cell_type": "code",
   "execution_count": null,
   "id": "e3bbbd6c",
   "metadata": {},
   "outputs": [],
   "source": [
    "import numpy as np\n",
    "from quantum_data_embedding_suite.embeddings import AngleEmbedding\n",
    "from quantum_data_embedding_suite.metrics import expressibility, trainability\n",
    "import matplotlib.pyplot as plt"
   ]
  },
  {
   "cell_type": "markdown",
   "id": "bbf5a8e9",
   "metadata": {},
   "source": [
    "## Hyperparameter Optimization\n",
    "\n",
    "Learn how to optimize embedding hyperparameters for better performance."
   ]
  },
  {
   "cell_type": "code",
   "execution_count": null,
   "id": "5a320510",
   "metadata": {},
   "outputs": [],
   "source": [
    "# Create sample data\n",
    "X = np.random.randn(100, 4)\n",
    "\n",
    "# Test different hyperparameters\n",
    "results = {}\n",
    "for n_qubits in [3, 4, 5]:\n",
    "    embedding = AngleEmbedding(n_qubits=n_qubits)\n",
    "    \n",
    "    expr_score = expressibility(embedding, n_samples=200)\n",
    "    train_score = trainability(embedding, data=X[:50])\n",
    "    \n",
    "    results[n_qubits] = {\n",
    "        'expressibility': expr_score,\n",
    "        'trainability': train_score\n",
    "    }\n",
    "    \n",
    "    print(f\"n_qubits={n_qubits}: expr={expr_score:.4f}, train={train_score:.4f}\")"
   ]
  },
  {
   "cell_type": "markdown",
   "id": "526e80c1",
   "metadata": {},
   "source": [
    "## Performance Analysis\n",
    "\n",
    "Analyze the performance characteristics of different embeddings."
   ]
  },
  {
   "cell_type": "code",
   "execution_count": null,
   "id": "c3c9213a",
   "metadata": {},
   "outputs": [],
   "source": [
    "# Plot results\n",
    "n_qubits_list = list(results.keys())\n",
    "expr_scores = [results[n]['expressibility'] for n in n_qubits_list]\n",
    "train_scores = [results[n]['trainability'] for n in n_qubits_list]\n",
    "\n",
    "plt.figure(figsize=(10, 4))\n",
    "\n",
    "plt.subplot(1, 2, 1)\n",
    "plt.plot(n_qubits_list, expr_scores, 'o-')\n",
    "plt.xlabel('Number of Qubits')\n",
    "plt.ylabel('Expressibility')\n",
    "plt.title('Expressibility vs Qubits')\n",
    "plt.grid(True)\n",
    "\n",
    "plt.subplot(1, 2, 2)\n",
    "plt.plot(n_qubits_list, train_scores, 'o-', color='red')\n",
    "plt.xlabel('Number of Qubits')\n",
    "plt.ylabel('Trainability')\n",
    "plt.title('Trainability vs Qubits')\n",
    "plt.grid(True)\n",
    "\n",
    "plt.tight_layout()\n",
    "plt.show()"
   ]
  },
  {
   "cell_type": "code",
   "execution_count": null,
   "id": "753a7138",
   "metadata": {},
   "outputs": [],
   "source": [
    "import numpy as np\n",
    "from quantum_data_embedding_suite.embeddings import AngleEmbedding\n",
    "from quantum_data_embedding_suite.metrics import expressibility, trainability\n",
    "import matplotlib.pyplot as plt"
   ]
  },
  {
   "cell_type": "markdown",
   "id": "9decac8e",
   "metadata": {},
   "source": [
    "## Hyperparameter Optimization\n",
    "\n",
    "Learn how to optimize embedding hyperparameters for better performance."
   ]
  },
  {
   "cell_type": "code",
   "execution_count": null,
   "id": "91c16341",
   "metadata": {},
   "outputs": [],
   "source": [
    "# Create sample data\n",
    "X = np.random.randn(100, 4)\n",
    "\n",
    "# Test different hyperparameters\n",
    "results = {}\n",
    "for n_qubits in [3, 4, 5]:\n",
    "    embedding = AngleEmbedding(n_qubits=n_qubits)\n",
    "    \n",
    "    expr_score = expressibility(embedding, n_samples=200)\n",
    "    train_score = trainability(embedding, data=X[:50])\n",
    "    \n",
    "    results[n_qubits] = {\n",
    "        'expressibility': expr_score,\n",
    "        'trainability': train_score\n",
    "    }\n",
    "    \n",
    "    print(f\"n_qubits={n_qubits}: expr={expr_score:.4f}, train={train_score:.4f}\")"
   ]
  },
  {
   "cell_type": "markdown",
   "id": "4a9358e9",
   "metadata": {},
   "source": [
    "## Performance Analysis\n",
    "\n",
    "Analyze the performance characteristics of different embeddings."
   ]
  },
  {
   "cell_type": "code",
   "execution_count": null,
   "id": "e21979fe",
   "metadata": {},
   "outputs": [],
   "source": [
    "# Plot results\n",
    "n_qubits_list = list(results.keys())\n",
    "expr_scores = [results[n]['expressibility'] for n in n_qubits_list]\n",
    "train_scores = [results[n]['trainability'] for n in n_qubits_list]\n",
    "\n",
    "plt.figure(figsize=(10, 4))\n",
    "\n",
    "plt.subplot(1, 2, 1)\n",
    "plt.plot(n_qubits_list, expr_scores, 'o-')\n",
    "plt.xlabel('Number of Qubits')\n",
    "plt.ylabel('Expressibility')\n",
    "plt.title('Expressibility vs Qubits')\n",
    "plt.grid(True)\n",
    "\n",
    "plt.subplot(1, 2, 2)\n",
    "plt.plot(n_qubits_list, train_scores, 'o-', color='red')\n",
    "plt.xlabel('Number of Qubits')\n",
    "plt.ylabel('Trainability')\n",
    "plt.title('Trainability vs Qubits')\n",
    "plt.grid(True)\n",
    "\n",
    "plt.tight_layout()\n",
    "plt.show()"
   ]
  }
 ],
 "metadata": {
  "language_info": {
   "name": "python"
  }
 },
 "nbformat": 4,
 "nbformat_minor": 5
}
