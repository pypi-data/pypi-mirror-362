{
 "cells": [
  {
   "cell_type": "markdown",
   "id": "09ccef3f",
   "metadata": {},
   "source": [
    "# AIRAS(AI Research Automation System)"
   ]
  },
  {
   "cell_type": "markdown",
   "id": "ca3d2b7a",
   "metadata": {},
   "source": [
    "<a href=\"https://colab.research.google.com/github/auto-res/researchgraph/blob/main/notebook/sample.ipynb\" target=\"_parent\"><img src=\"https://colab.research.google.com/assets/colab-badge.svg\" alt=\"Open In Colab\"/></a>"
   ]
  },
  {
   "cell_type": "markdown",
   "id": "f9fb43ec",
   "metadata": {},
   "source": [
    "- [Repository](https://github.com/auto-res/airas)\n",
    "- [Documento](https://auto-res.github.io/airas/)"
   ]
  },
  {
   "cell_type": "code",
   "execution_count": null,
   "id": "ccb8cbd0",
   "metadata": {},
   "outputs": [],
   "source": [
    "import os\n",
    "\n",
    "from google.colab import userdata\n",
    "\n",
    "# Please register the secret with the name below in google colab.\n",
    "\n",
    "# https://platform.openai.com/settings/organization/api-keys\n",
    "os.environ[\"OPENAI_API_KEY\"] = userdata.get(\"OPENAI_API_KEY\")\n",
    "# https://app.devin.ai/settings/api-keys\n",
    "os.environ[\"DEVIN_API_KEY\"] = userdata.get(\"DEVIN_API_KEY\")\n",
    "# https://www.firecrawl.dev/app/api-keys\n",
    "os.environ[\"FIRE_CRAWL_API_KEY\"] = userdata.get(\"FIRE_CRAWL_API_KEY\")\n",
    "# https://docs.github.com/ja/authentication/keeping-your-account-and-data-secure/managing-your-personal-access-tokens#fine-grained-personal-access-token-%E3%81%AE%E4%BD%9C%E6%88%90\n",
    "os.environ[\"GITHUB_PERSONAL_ACCESS_TOKEN\"] = userdata.get(\n",
    "    \"GITHUB_PERSONAL_ACCESS_TOKEN\"\n",
    ")\n",
    "os.environ[\"VERTEX_AI_API_KEY\"] = userdata.get(\"VERTEX_AI_API_KEY\")"
   ]
  },
  {
   "cell_type": "code",
   "execution_count": null,
   "id": "d7b7c07e",
   "metadata": {},
   "outputs": [],
   "source": [
    "!git clone https://github.com/auto-res/airas.git"
   ]
  },
  {
   "cell_type": "code",
   "execution_count": null,
   "id": "83c4bf55",
   "metadata": {},
   "outputs": [],
   "source": [
    "%%capture\n",
    "%cd /content/airas\n",
    "%pip install -r requirements.txt\n",
    "%cd ../../"
   ]
  },
  {
   "cell_type": "code",
   "execution_count": null,
   "id": "3f6938a8",
   "metadata": {},
   "outputs": [],
   "source": [
    "import glob\n",
    "import sys\n",
    "\n",
    "sys.path.append(\"/content/airas/src\")\n",
    "\n",
    "import logging\n",
    "\n",
    "for handler in logging.root.handlers[:]:\n",
    "    logging.root.removeHandler(handler)\n",
    "\n",
    "logging.basicConfig(level=logging.INFO, format=\"[%(levelname)s] %(name)s: %(message)s\")"
   ]
  },
  {
   "cell_type": "code",
   "execution_count": null,
   "id": "9dfbe01b",
   "metadata": {},
   "outputs": [],
   "source": [
    "# You can change the repository name to anything you like. Example: auto-res2/tanaka-1\n",
    "# Once the repository is created, you don't need to change it again.\n",
    "github_repository = \"auto-res2/sample\"\n",
    "\n",
    "# You can also rename the branch as you like.\n",
    "# One branch corresponds to one unit of research.\n",
    "# If you run the same subgraph more than once on the same branch, a new branch will be created (a new research fork).\n",
    "# You can continue your research by running subsequent subgraphs on the forked branch.\n",
    "# You can check the forked branches by changing the repository name in the link below and accessing it.\n",
    "# https://github.com/auto-res2/test26/network\n",
    "branch_name = \"test\"\n",
    "save_dir = \"/content/airas/data\""
   ]
  },
  {
   "cell_type": "markdown",
   "id": "ef0f7771",
   "metadata": {},
   "source": [
    "### Prepare the repository"
   ]
  },
  {
   "cell_type": "code",
   "execution_count": null,
   "id": "2e7222a8",
   "metadata": {},
   "outputs": [],
   "source": [
    "from airas.research_preparation_subgraph.research_preparation_subgraph import (\n",
    "    ResearchPreparationSubgraph,\n",
    ")"
   ]
  },
  {
   "cell_type": "code",
   "execution_count": null,
   "id": "0fd5bf4a",
   "metadata": {},
   "outputs": [],
   "source": [
    "preparer = ResearchPreparationSubgraph(\n",
    "    device_type=\"gpu\",\n",
    "    organization=\"auto-res2\",\n",
    ")\n",
    "\n",
    "input = {\n",
    "    \"github_repository\": github_repository,\n",
    "    \"branch_name\": branch_name,\n",
    "}\n",
    "result = preparer.run(input)\n",
    "print(result)"
   ]
  },
  {
   "cell_type": "markdown",
   "id": "9eed4b88",
   "metadata": {},
   "source": [
    "# Retrieve Papers"
   ]
  },
  {
   "cell_type": "code",
   "execution_count": null,
   "id": "a0ba31a6",
   "metadata": {},
   "outputs": [],
   "source": [
    "from airas.retrieve_paper_subgraph.retrieve_paper_subgraph import Retriever"
   ]
  },
  {
   "cell_type": "code",
   "execution_count": null,
   "id": "e05966e0",
   "metadata": {},
   "outputs": [],
   "source": [
    "scrape_urls = [\n",
    "    \"https://icml.cc/virtual/2024/papers.html?filter=title\",\n",
    "    \"https://iclr.cc/virtual/2024/papers.html?filter=title\",\n",
    "    # \"https://nips.cc/virtual/2024/papers.html?filter=title\",\n",
    "    # \"https://cvpr.thecvf.com/virtual/2024/papers.html?filter=title\",\n",
    "]\n",
    "add_paper_num = 1\n",
    "\n",
    "retriever = Retriever(\n",
    "    github_repository=github_repository,\n",
    "    branch_name=branch_name,\n",
    "    perform_download=False,\n",
    "    llm_name=\"o3-mini-2025-01-31\",\n",
    "    save_dir=save_dir,\n",
    "    scrape_urls=scrape_urls,\n",
    "    add_paper_num=add_paper_num,\n",
    ")\n",
    "\n",
    "retriever_input = {\n",
    "    \"queries\": [\"diffusion model\"],\n",
    "}\n",
    "\n",
    "result = retriever.run(retriever_input)\n",
    "print(result)"
   ]
  },
  {
   "cell_type": "markdown",
   "id": "d373389c",
   "metadata": {},
   "source": [
    "# Generate New Method"
   ]
  },
  {
   "cell_type": "code",
   "execution_count": null,
   "id": "bd8bc6c3",
   "metadata": {},
   "outputs": [],
   "source": [
    "from airas.generator_subgraph.generator_subgraph import Generator"
   ]
  },
  {
   "cell_type": "code",
   "execution_count": null,
   "id": "fff8c8f2",
   "metadata": {},
   "outputs": [],
   "source": [
    "generator = Generator(\n",
    "    github_repository=github_repository,\n",
    "    branch_name=branch_name,\n",
    "    llm_name=\"o1-2024-12-17\",\n",
    ")\n",
    "\n",
    "result = generator.run()\n",
    "print(f\"result: {result}\")"
   ]
  },
  {
   "cell_type": "markdown",
   "id": "4801289b",
   "metadata": {},
   "source": [
    "# Generate Experimental Code"
   ]
  },
  {
   "cell_type": "code",
   "execution_count": null,
   "id": "c73908c5",
   "metadata": {},
   "outputs": [],
   "source": [
    "from airas.experimental_plan_subgraph.experimental_plan_subgraph import (\n",
    "    ExperimentalPlaner,\n",
    ")"
   ]
  },
  {
   "cell_type": "code",
   "execution_count": null,
   "id": "adf8ef09",
   "metadata": {},
   "outputs": [],
   "source": [
    "experimentalplaner = ExperimentalPlaner(\n",
    "    github_repository=github_repository,\n",
    "    branch_name=branch_name,\n",
    ")\n",
    "\n",
    "result = experimentalplaner.run()\n",
    "print(f\"result: {result}\")"
   ]
  },
  {
   "cell_type": "markdown",
   "id": "bbf77787",
   "metadata": {},
   "source": [
    "# Run Experiments"
   ]
  },
  {
   "cell_type": "code",
   "execution_count": null,
   "id": "16d17bb0",
   "metadata": {},
   "outputs": [],
   "source": [
    "from airas.executor_subgraph.executor_subgraph import Executor"
   ]
  },
  {
   "cell_type": "code",
   "execution_count": null,
   "id": "ce0e7a4e",
   "metadata": {},
   "outputs": [],
   "source": [
    "max_code_fix_iteration = 3\n",
    "\n",
    "executor = Executor(\n",
    "    github_repository=github_repository,\n",
    "    branch_name=branch_name,\n",
    "    save_dir=save_dir,\n",
    "    max_code_fix_iteration=max_code_fix_iteration,\n",
    ")\n",
    "\n",
    "result = executor.run()\n",
    "print(f\"result: {result}\")"
   ]
  },
  {
   "cell_type": "markdown",
   "id": "05e88ec6",
   "metadata": {},
   "source": [
    "# Analyze Experimental Results"
   ]
  },
  {
   "cell_type": "code",
   "execution_count": null,
   "id": "1eb8b2ec",
   "metadata": {},
   "outputs": [],
   "source": [
    "from airas.analytic_subgraph.analytic_subgraph import Analyst"
   ]
  },
  {
   "cell_type": "code",
   "execution_count": null,
   "id": "9404ea50",
   "metadata": {},
   "outputs": [],
   "source": [
    "analyst = Analyst(\n",
    "    github_repository=github_repository,\n",
    "    branch_name=branch_name,\n",
    "    llm_name=\"o1-2024-12-17\",\n",
    ")\n",
    "\n",
    "result = analyst.run()\n",
    "print(f\"result: {result}\")"
   ]
  },
  {
   "cell_type": "markdown",
   "id": "82845139",
   "metadata": {},
   "source": [
    "# Write Paper"
   ]
  },
  {
   "cell_type": "code",
   "execution_count": null,
   "id": "d31ef8b6",
   "metadata": {},
   "outputs": [],
   "source": [
    "from airas.writer_subgraph.writer_subgraph import PaperWriter"
   ]
  },
  {
   "cell_type": "code",
   "execution_count": null,
   "id": "07c0dff7",
   "metadata": {},
   "outputs": [],
   "source": [
    "refine_round = 1\n",
    "\n",
    "paper_writer = PaperWriter(\n",
    "    github_repository=github_repository,\n",
    "    branch_name=branch_name,\n",
    "    llm_name=\"o3-mini-2025-01-31\",\n",
    "    save_dir=save_dir,\n",
    "    refine_round=refine_round,\n",
    ")\n",
    "\n",
    "result = paper_writer.run({})\n",
    "print(f\"result: {result}\")"
   ]
  },
  {
   "cell_type": "markdown",
   "id": "d6755f96",
   "metadata": {},
   "source": [
    "# Summarize Research Results in README.md"
   ]
  },
  {
   "cell_type": "code",
   "execution_count": null,
   "id": "f23da8c2",
   "metadata": {},
   "outputs": [],
   "source": [
    "from airas.readme_subgraph.readme_subgraph import ReadmeUploader"
   ]
  },
  {
   "cell_type": "code",
   "execution_count": null,
   "id": "f9781091",
   "metadata": {},
   "outputs": [],
   "source": [
    "readme_uploader = ReadmeUploader(\n",
    "    github_repository=github_repository,\n",
    "    branch_name=branch_name,\n",
    ")\n",
    "\n",
    "result = readme_uploader.run()\n",
    "print(f\"result: {result}\")"
   ]
  },
  {
   "cell_type": "markdown",
   "id": "80879710",
   "metadata": {},
   "source": [
    "# Export Paper as HTML"
   ]
  },
  {
   "cell_type": "code",
   "execution_count": null,
   "id": "8fc590bd",
   "metadata": {},
   "outputs": [],
   "source": [
    "from airas.html_subgraph.html_subgraph import HtmlConverter"
   ]
  },
  {
   "cell_type": "code",
   "execution_count": null,
   "id": "e9b56765",
   "metadata": {},
   "outputs": [],
   "source": [
    "figures_dir = f\"{save_dir}/images\"\n",
    "pdf_files = glob.glob(os.path.join(figures_dir, \"*.pdf\"))\n",
    "\n",
    "extra_files = [\n",
    "    {\n",
    "        \"upload_branch\": \"gh-pages\",\n",
    "        \"upload_dir\": \"branches/{{ branch_name }}/\",\n",
    "        \"local_file_paths\": [f\"{save_dir}/index.html\"],\n",
    "    },\n",
    "    {\n",
    "        \"upload_branch\": \"gh-pages\",\n",
    "        \"upload_dir\": \"branches/{{ branch_name }}/images/\",\n",
    "        \"local_file_paths\": pdf_files,\n",
    "    },\n",
    "]\n",
    "\n",
    "html_converter = HtmlConverter(\n",
    "    github_repository=github_repository,\n",
    "    branch_name=branch_name,\n",
    "    extra_files=extra_files,\n",
    "    llm_name=\"o3-mini-2025-01-31\",\n",
    "    save_dir=save_dir,\n",
    ")\n",
    "\n",
    "result = html_converter.run()\n",
    "print(f\"result: {result}\")"
   ]
  },
  {
   "cell_type": "markdown",
   "id": "25d8aee1",
   "metadata": {},
   "source": [
    "# Export Paper as PDF"
   ]
  },
  {
   "cell_type": "code",
   "execution_count": null,
   "id": "0b7af2c3",
   "metadata": {},
   "outputs": [],
   "source": [
    "!apt-get update && apt-get install -y \\\n",
    "    texlive-base \\\n",
    "    texlive-latex-recommended \\\n",
    "    texlive-fonts-recommended \\\n",
    "    texlive-latex-extra \\\n",
    "    texlive-science \\\n",
    "    chktex \\\n",
    "    locales && \\\n",
    "    rm -rf /var/lib/apt/lists/*"
   ]
  },
  {
   "cell_type": "code",
   "execution_count": null,
   "id": "149e2089",
   "metadata": {},
   "outputs": [],
   "source": [
    "from airas.latex_subgraph.latex_subgraph import LatexConverter"
   ]
  },
  {
   "cell_type": "code",
   "execution_count": null,
   "id": "3fc1233d",
   "metadata": {},
   "outputs": [],
   "source": [
    "extra_files = [\n",
    "    {\n",
    "        \"upload_branch\": \"{{ branch_name }}\",\n",
    "        \"upload_dir\": \".research/\",\n",
    "        \"local_file_paths\": [f\"{save_dir}/paper.pdf\"],\n",
    "    }\n",
    "]\n",
    "\n",
    "latex_converter = LatexConverter(\n",
    "    github_repository=github_repository,\n",
    "    branch_name=branch_name,\n",
    "    extra_files=extra_files,\n",
    "    llm_name=\"o3-mini-2025-01-31\",\n",
    "    save_dir=save_dir,\n",
    ")\n",
    "\n",
    "result = latex_converter.run({})\n",
    "print(f\"result: {result}\")"
   ]
  }
 ],
 "metadata": {
  "language_info": {
   "name": "python"
  }
 },
 "nbformat": 4,
 "nbformat_minor": 5
}
