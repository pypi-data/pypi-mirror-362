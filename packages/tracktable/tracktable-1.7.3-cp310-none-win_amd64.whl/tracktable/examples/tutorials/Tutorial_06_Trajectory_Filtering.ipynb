{
 "cells": [
  {
   "cell_type": "markdown",
   "id": "28744105",
   "metadata": {
    "nbsphinx": "hidden"
   },
   "source": [
    "<span style=\"color:#888888\">Copyright (c) 2014-2025 National Technology and Engineering Solutions of Sandia, LLC. Under the terms of Contract DE-NA0003525 with National Technology and Engineering Solutions of Sandia, LLC, the U.S. Government retains certain rights in this software.     Redistribution and use in source and binary forms, with or without modification, are permitted provided that the following conditions are met:</span>\n",
    "\n",
    "<span style=\"color:#888888\">1. Redistributions of source code must retain the above copyright notice, this list of conditions and the following disclaimer.</span>\n",
    "\n",
    "<span style=\"color:#888888\">2. Redistributions in binary form must reproduce the above copyright notice, this list of conditions and the following disclaimer in the documentation and/or other materials provided with the distribution.</span>\n",
    "\n",
    "<span style=\"color:#888888\">THIS SOFTWARE IS PROVIDED BY THE COPYRIGHT HOLDERS AND CONTRIBUTORS \"AS IS\" AND ANY EXPRESS OR IMPLIED WARRANTIES, INCLUDING, BUT NOT LIMITED TO, THE IMPLIED WARRANTIES OF MERCHANTABILITY AND FITNESS FOR A PARTICULAR PURPOSE ARE DISCLAIMED. IN NO EVENT SHALL THE COPYRIGHT HOLDER OR CONTRIBUTORS BE LIABLE FOR ANY DIRECT, INDIRECT, INCIDENTAL, SPECIAL, EXEMPLARY, OR CONSEQUENTIAL DAMAGES (INCLUDING, BUT NOT LIMITED TO, PROCUREMENT OF SUBSTITUTE GOODS OR SERVICES; LOSS OF USE, DATA, OR PROFITS; OR BUSINESS INTERRUPTION) HOWEVER CAUSED AND ON ANY THEORY OF LIABILITY, WHETHER IN CONTRACT, STRICT LIABILITY, OR TORT (INCLUDING NEGLIGENCE OR OTHERWISE) ARISING IN ANY WAY OUT OF THE USE OF THIS SOFTWARE, EVEN IF ADVISED OF THE POSSIBILITY OF SUCH DAMAGE.</span>"
   ]
  },
  {
   "cell_type": "markdown",
   "id": "47942413",
   "metadata": {},
   "source": [
    "# <span style=\"color:#0054a8\">**Tutorial 6:**</span> <span style=\"color:#555555\">Filtering Trajectories</span>"
   ]
  },
  {
   "cell_type": "code",
   "execution_count": null,
   "id": "9fdc53c8",
   "metadata": {},
   "outputs": [],
   "source": [
    "import tracktable.examples.tutorials.tutorial_helper as tutorial "
   ]
  },
  {
   "cell_type": "markdown",
   "id": "039b4285",
   "metadata": {},
   "source": [
    "## Purpose\n",
    "\n",
    "It is often desirable to remove unwanted trajectories from a dataset prior to beginning analysis.  Tracktable's `geomath` package includes a large suite of functions to support trajectory filtering, as well as general analysis.  We will demonstrate several possible filtering techniques here."
   ]
  },
  {
   "cell_type": "markdown",
   "id": "1113e45c",
   "metadata": {},
   "source": [
    "## Import Example Trajectories\n",
    "\n",
    "The function below will assemble trajectories from our sample data file $^1$.  For details, please see Tutorials [1](Tutorial_01.ipynb) & [2](Tutorial_02.ipynb)."
   ]
  },
  {
   "cell_type": "code",
   "execution_count": null,
   "id": "ae410896",
   "metadata": {},
   "outputs": [],
   "source": [
    "trajectories = tutorial.get_trajectory_list()"
   ]
  },
  {
   "cell_type": "markdown",
   "id": "b19de671",
   "metadata": {},
   "source": [
    "Let's print out some info about our trajectories.  How each of these values is calculated is explained in each corresponding filter below."
   ]
  },
  {
   "cell_type": "code",
   "execution_count": null,
   "id": "2ad93e2d",
   "metadata": {},
   "outputs": [],
   "source": [
    "tutorial.print_statistics(trajectories, 'all')"
   ]
  },
  {
   "cell_type": "markdown",
   "id": "8b838f9a",
   "metadata": {},
   "source": [
    "## Filtering using Tracktable's `geomath`"
   ]
  },
  {
   "cell_type": "markdown",
   "id": "23f4dd91",
   "metadata": {},
   "source": [
    "### Filtering by Distance Traveled"
   ]
  },
  {
   "cell_type": "markdown",
   "id": "d4c46025",
   "metadata": {},
   "source": [
    "Suppose we know that our dataset contains many short trajectories (say, less than 5km in length) that we wish to filter out.  This can be done using `geomath`'s `length` function."
   ]
  },
  {
   "cell_type": "code",
   "execution_count": null,
   "id": "c458d607",
   "metadata": {},
   "outputs": [],
   "source": [
    "length_threshold = 5 # km"
   ]
  },
  {
   "cell_type": "code",
   "execution_count": null,
   "id": "d5cb217a",
   "metadata": {},
   "outputs": [],
   "source": [
    "from tracktable.core.geomath import length\n",
    "\n",
    "trajectories_filtered_by_length = [trajectory for trajectory in trajectories if length(trajectory) > length_threshold]"
   ]
  },
  {
   "cell_type": "markdown",
   "id": "a3bacecf",
   "metadata": {},
   "source": [
    "How many are left?"
   ]
  },
  {
   "cell_type": "code",
   "execution_count": null,
   "id": "64c90577",
   "metadata": {},
   "outputs": [],
   "source": [
    "len(trajectories_filtered_by_length)"
   ]
  },
  {
   "cell_type": "markdown",
   "id": "9b3c4e2b",
   "metadata": {},
   "source": [
    "What lengths do the remaining trajectories have?"
   ]
  },
  {
   "cell_type": "code",
   "execution_count": null,
   "id": "3dd13910",
   "metadata": {},
   "outputs": [],
   "source": [
    "tutorial.print_statistics(trajectories_filtered_by_length, 'length')"
   ]
  },
  {
   "cell_type": "markdown",
   "id": "daa6f661",
   "metadata": {},
   "source": [
    "### Filtering by Straightness"
   ]
  },
  {
   "cell_type": "markdown",
   "id": "8cda40a6",
   "metadata": {},
   "source": [
    "In some datasets (such as air traffic) we can anticipate that many of our trajectories will be nearly straight, and we may wish to filter these out as \"uninteresting\" to make analysis faster on the remaining trajectories."
   ]
  },
  {
   "cell_type": "markdown",
   "id": "8801857f",
   "metadata": {},
   "source": [
    "The function below will calculate the \"straightness\" of a trajectory.  This is done by comparing the distance between the trajectory's endpoints to the distance traveled along the trajectory.  If their ratio is 1, the trajectory traveled in a straight line.  As the ratio decreases, we consider the trajectory to be less straight.  A ratio of zero means the trajectory's origin and destination are the same, so it could not have traveled a straight line."
   ]
  },
  {
   "cell_type": "code",
   "execution_count": null,
   "id": "a2841b24",
   "metadata": {},
   "outputs": [],
   "source": [
    "from tracktable.core.geomath import length, end_to_end_distance\n",
    "\n",
    "def calculate_straightness(trajectory):\n",
    "    \n",
    "    # get the distance between endpoints of a trajectory\n",
    "    end_to_end_dist = end_to_end_distance(trajectory)\n",
    "    \n",
    "    # get the distance traveled along the trajectory\n",
    "    dist_traveled = length(trajectory)\n",
    "    \n",
    "    # if the trajectory doesn't move, it is not straight\n",
    "    if dist_traveled == 0:\n",
    "        return 0\n",
    "    \n",
    "    # measure how well the trajectory followed the straight path\n",
    "    return end_to_end_dist / dist_traveled"
   ]
  },
  {
   "cell_type": "markdown",
   "id": "50323f14",
   "metadata": {},
   "source": [
    "Since straightness varies from 0 to 1, so must our threshold.  Increasing our threshold means we will discard few trajectories based on straightness."
   ]
  },
  {
   "cell_type": "code",
   "execution_count": null,
   "id": "82ae543b",
   "metadata": {},
   "outputs": [],
   "source": [
    "straightness_threshold = 0.9"
   ]
  },
  {
   "cell_type": "markdown",
   "id": "a2cd3483",
   "metadata": {},
   "source": [
    "Let's discard all trajectories with straightness 0.9 or higher."
   ]
  },
  {
   "cell_type": "code",
   "execution_count": null,
   "id": "896d995c",
   "metadata": {},
   "outputs": [],
   "source": [
    "trajectories_filtered_by_straightness = [trajectory for trajectory in trajectories if calculate_straightness(trajectory) < straightness_threshold]"
   ]
  },
  {
   "cell_type": "markdown",
   "id": "b240ea4b",
   "metadata": {},
   "source": [
    "How many are left?"
   ]
  },
  {
   "cell_type": "code",
   "execution_count": null,
   "id": "d3edcc47",
   "metadata": {},
   "outputs": [],
   "source": [
    "len(trajectories_filtered_by_straightness)"
   ]
  },
  {
   "cell_type": "markdown",
   "id": "394a8787",
   "metadata": {},
   "source": [
    "How straight are the remaining trajectories?"
   ]
  },
  {
   "cell_type": "code",
   "execution_count": null,
   "id": "81f467ef",
   "metadata": {},
   "outputs": [],
   "source": [
    "tutorial.print_statistics(trajectories_filtered_by_straightness, 'straightness')"
   ]
  },
  {
   "cell_type": "markdown",
   "id": "e969fd81",
   "metadata": {},
   "source": [
    "### Filtering by Area Covered"
   ]
  },
  {
   "cell_type": "markdown",
   "id": "d6d690a2",
   "metadata": {},
   "source": [
    "The convex hull is the smallest convex polygon that encloses the entire trajectory (imagine each trajectory point to be a peg on a board, and we are stretching a rubber band around this set of pegs).  The area of this polygon can give us insight into the breadth of travel of a trajectory, and can be calculated using the `convex_hull_area` function of `geomath`.\n",
    "\n",
    "For example, in some maritime datasets, we may wish to remove anchored boats from our dataset.  This can be done by filtering out trajectories with a small `convex_hull_area`, e.g. less than 0.2 km $^2$, as shown below."
   ]
  },
  {
   "cell_type": "code",
   "execution_count": null,
   "id": "0d7ea748",
   "metadata": {},
   "outputs": [],
   "source": [
    "convex_hull_area_threshold = 0.2 # square km"
   ]
  },
  {
   "cell_type": "code",
   "execution_count": null,
   "id": "f46716a2",
   "metadata": {},
   "outputs": [],
   "source": [
    "from tracktable.core.geomath import convex_hull_area\n",
    "\n",
    "trajectories_filtered_by_area = [trajectory for trajectory in trajectories if convex_hull_area(trajectory) > convex_hull_area_threshold]"
   ]
  },
  {
   "cell_type": "markdown",
   "id": "78feb387",
   "metadata": {},
   "source": [
    "How many are left?"
   ]
  },
  {
   "cell_type": "code",
   "execution_count": null,
   "id": "adcac818",
   "metadata": {},
   "outputs": [],
   "source": [
    "len(trajectories_filtered_by_area)"
   ]
  },
  {
   "cell_type": "markdown",
   "id": "6fe9e774",
   "metadata": {},
   "source": [
    "What are the convex hull areas of the remaining trajectories?"
   ]
  },
  {
   "cell_type": "code",
   "execution_count": null,
   "id": "9f36042a",
   "metadata": {},
   "outputs": [],
   "source": [
    "tutorial.print_statistics(trajectories_filtered_by_area, 'convex hull area')"
   ]
  },
  {
   "cell_type": "markdown",
   "id": "071e037b",
   "metadata": {},
   "source": [
    "### Filtering by Average Speed"
   ]
  },
  {
   "cell_type": "markdown",
   "id": "272cbc78",
   "metadata": {},
   "source": [
    "We may wish to remove slow moving objects from our dataset (such as tugboats in maritime data).  We can use the `speed_between` function on the first and last trajectory points to filter slow trajectories, as shown below."
   ]
  },
  {
   "cell_type": "code",
   "execution_count": null,
   "id": "2b1f13df",
   "metadata": {},
   "outputs": [],
   "source": [
    "avg_speed_threshold = 1 # km/s"
   ]
  },
  {
   "cell_type": "code",
   "execution_count": null,
   "id": "41caa653",
   "metadata": {},
   "outputs": [],
   "source": [
    "from tracktable.core.geomath import speed_between\n",
    "\n",
    "trajectories_filtered_by_avg_speed = [trajectory for trajectory in trajectories if speed_between(trajectory[0], trajectory[-1]) > avg_speed_threshold]"
   ]
  },
  {
   "cell_type": "markdown",
   "id": "3e69b937",
   "metadata": {},
   "source": [
    "How many are left?"
   ]
  },
  {
   "cell_type": "code",
   "execution_count": null,
   "id": "327b84ad",
   "metadata": {},
   "outputs": [],
   "source": [
    "len(trajectories_filtered_by_avg_speed)"
   ]
  },
  {
   "cell_type": "markdown",
   "id": "6398596a",
   "metadata": {},
   "source": [
    "What average speeds do the remaining trajectories have?"
   ]
  },
  {
   "cell_type": "code",
   "execution_count": null,
   "id": "01844690",
   "metadata": {},
   "outputs": [],
   "source": [
    "tutorial.print_statistics(trajectories_filtered_by_avg_speed, 'average speed')"
   ]
  },
  {
   "cell_type": "markdown",
   "id": "75072960",
   "metadata": {},
   "source": [
    "### Filtering by Spatial Window"
   ]
  },
  {
   "cell_type": "markdown",
   "id": "245eb5d9",
   "metadata": {},
   "source": [
    "If we only want to keep trajectories within a given spatial window, we can filter as demonstrated below.  The algorithm below is a quick filtering algorithm that uses a trajectory's bounding box.\n",
    "\n",
    "*Reminder:* Tracktable uses the ordering (longitude, latitude) to match the traditional Cartesian (x,y) ordering."
   ]
  },
  {
   "cell_type": "code",
   "execution_count": null,
   "id": "5cacb937",
   "metadata": {},
   "outputs": [],
   "source": [
    "from tracktable.core.geomath import compute_bounding_box\n",
    "\n",
    "def remove_trajectories_outside(trajectories, min_lon, min_lat, max_lon, max_lat, strictly_within=True):\n",
    "    \n",
    "    trajectories_in_window = []\n",
    "    \n",
    "    for trajectory in trajectories:\n",
    "        \n",
    "        # Get the bounding box of the current trajectory.\n",
    "        bounding_box = compute_bounding_box(trajectory)\n",
    "        \n",
    "        # Check if the bottom left corner of the trajectory's bounding box is inside our window.\n",
    "        min_corner_in_window = (min_lon < bounding_box.min_corner[0] < max_lon and min_lat < bounding_box.min_corner[1] < max_lat)\n",
    "        \n",
    "        # Check if the top right corner of the trajectory's bounding box is inside our window.\n",
    "        max_corner_in_window = (min_lon < bounding_box.max_corner[0] < max_lon and min_lat < bounding_box.max_corner[1] < max_lat)\n",
    "        \n",
    "        # For a trajectory to be entirely within the box, both corners must be in the box.\n",
    "        # For a trajectory to be somewhat within the box, at least one corner must be in the box.\n",
    "        if ((strictly_within and min_corner_in_window and max_corner_in_window) \n",
    "            or ((not strictly_within) and (min_corner_in_window or max_corner_in_window))):\n",
    "            \n",
    "            trajectories_in_window.append(trajectory)\n",
    "            \n",
    "    return trajectories_in_window"
   ]
  },
  {
   "cell_type": "code",
   "execution_count": null,
   "id": "ae80ca3a",
   "metadata": {},
   "outputs": [],
   "source": [
    "trajectories_in_window = remove_trajectories_outside(trajectories, -74.1, 40.5, -73.9, 40.6, strictly_within=True) # change strictly_within to False to include trajectories that cross the boundary of our window"
   ]
  },
  {
   "cell_type": "markdown",
   "id": "fefcc35e",
   "metadata": {},
   "source": [
    "How many trajectories are strictly within the window with bottom left corner (-74.1, 40.5) and top right corner (-73.9, 40.6)?"
   ]
  },
  {
   "cell_type": "code",
   "execution_count": null,
   "id": "9763f3bd",
   "metadata": {},
   "outputs": [],
   "source": [
    "len(trajectories_in_window)"
   ]
  },
  {
   "cell_type": "markdown",
   "id": "76d16dd8",
   "metadata": {},
   "source": [
    "## Other Filtering Techniques"
   ]
  },
  {
   "cell_type": "markdown",
   "id": "7793444c",
   "metadata": {},
   "source": [
    "### Trim Redundant Points\n",
    "\n",
    "The storage footprints can be significantly reduced by removing redundant points, meaning sequential points with unchanged lat/long coordinates.  We can use Tracktable to create the function `trim_redundant_points` that will remove these points.\n",
    "\n",
    "*Example:* If our trajectory consists of sequential points $p_0$, $p_1$, $p_2$, $p_3$, $p_4$, $p_5$, $p_6$, $p_7$, $p_8$, and points $p_1$, $p_2$, $p_3$, $p_4$, $p_6$ all occur in the exact same location, we can remove $p_2$ and $p_3$ without losing any information."
   ]
  },
  {
   "cell_type": "code",
   "execution_count": null,
   "id": "945f91e9",
   "metadata": {},
   "outputs": [],
   "source": [
    "from tracktable.domain.terrestrial import Trajectory\n",
    "\n",
    "# Determines if the latitude and longitude of two points match.\n",
    "def colocated(point1, point2):\n",
    "    return point1[0] == point2[0] and point1[1] == point2[1]\n",
    "\n",
    "# Determines if the timestamps of two points match.\n",
    "def cotimed(point1, point2):\n",
    "    return point1.timestamp == point2.timestamp\n",
    "\n",
    "# Removes the middle points from any sequence of colocated points\n",
    "def trim_redundant_points(trajectory):\n",
    "    # Initialize our interval of points at the same location to include only the first point.\n",
    "    first_point_at_location = trajectory[0]\n",
    "    last_point_at_location = trajectory[0]\n",
    "    \n",
    "    trimmed_trajectory = Trajectory()\n",
    "    \n",
    "    for point in trajectory[1:]:\n",
    "        if colocated(first_point_at_location, point):\n",
    "            # Extend our interval of points at the same location to include this point,\n",
    "            last_point_at_location = point\n",
    "        else:\n",
    "            # Keep the first point of the interval of points at the same location.\n",
    "            trimmed_trajectory.append(first_point_at_location)\n",
    "            # Check that the endpoints of our interval of points at the same location aren't indentically timed as well.\n",
    "            if not cotimed(first_point_at_location, last_point_at_location):\n",
    "                # Keep the last point of the interval of points at the same location.\n",
    "                trimmed_trajectory.append(last_point_at_location)\n",
    "            # Reinitialize the interval of points at the same location to include only the current point.\n",
    "            first_point_at_location = point\n",
    "            last_point_at_location = point\n",
    "    \n",
    "    \n",
    "    if not cotimed(first_point_at_location, last_point_at_location):\n",
    "        trimmed_trajectory.extend([first_point_at_location, last_point_at_location])\n",
    "\n",
    "    return trimmed_trajectory"
   ]
  },
  {
   "cell_type": "code",
   "execution_count": null,
   "id": "1d720cc3",
   "metadata": {},
   "outputs": [],
   "source": [
    "trajectories_with_redundant_points_removed = [trim_redundant_points(trajectory) for trajectory in trajectories]"
   ]
  },
  {
   "cell_type": "markdown",
   "id": "9e591953",
   "metadata": {},
   "source": [
    "We still have the same number of trajectories..."
   ]
  },
  {
   "cell_type": "code",
   "execution_count": null,
   "id": "07a4aa52",
   "metadata": {},
   "outputs": [],
   "source": [
    "len(trajectories)"
   ]
  },
  {
   "cell_type": "code",
   "execution_count": null,
   "id": "56d2e721",
   "metadata": {},
   "outputs": [],
   "source": [
    "len(trajectories_with_redundant_points_removed)"
   ]
  },
  {
   "cell_type": "markdown",
   "id": "9006e7a2",
   "metadata": {},
   "source": [
    "... but we have reduced the number of trajectory points in our data:"
   ]
  },
  {
   "cell_type": "code",
   "execution_count": null,
   "id": "cba43818",
   "metadata": {},
   "outputs": [],
   "source": [
    "tutorial.print_statistics(trajectories, 'total points')"
   ]
  },
  {
   "cell_type": "code",
   "execution_count": null,
   "id": "cdfe82bc",
   "metadata": {},
   "outputs": [],
   "source": [
    "tutorial.print_statistics(trajectories_with_redundant_points_removed, 'total points')"
   ]
  },
  {
   "cell_type": "markdown",
   "id": "32c7d0e1",
   "metadata": {},
   "source": [
    "### Filtering by Time Window"
   ]
  },
  {
   "cell_type": "markdown",
   "id": "513124c6",
   "metadata": {},
   "source": [
    "We can remove all trajectories occurring outside of a given time range as follows:"
   ]
  },
  {
   "cell_type": "code",
   "execution_count": null,
   "id": "e92f6256",
   "metadata": {},
   "outputs": [],
   "source": [
    "from datetime import timedelta, timezone, datetime\n",
    "\n",
    "# This format can be changed to match your data.\n",
    "format = '%Y-%m-%d %H:%M:%S'\n",
    "\n",
    "# Let's trim down to the first thirty minutes of the day.\n",
    "begin = datetime.strptime('2020-06-30 00:00:00', format)\n",
    "end = datetime.strptime('2020-06-30 00:30:00', format)\n",
    "\n",
    "# Matching our begin/end timestamps to time zones of the Tracktable trajectories.\n",
    "begin = begin.replace(tzinfo=timezone.utc)\n",
    "end = end.replace(tzinfo=timezone.utc)"
   ]
  },
  {
   "cell_type": "code",
   "execution_count": null,
   "id": "9fa6bbcb",
   "metadata": {},
   "outputs": [],
   "source": [
    "trajectories_in_first_thirty_minutes = [trajectory for trajectory in trajectories\n",
    "                                        if trajectory[0].timestamp - begin >= timedelta(0) and end - trajectory[-1].timestamp >= timedelta(0)]"
   ]
  },
  {
   "cell_type": "markdown",
   "id": "03163657",
   "metadata": {},
   "source": [
    "How many trajectories occurred only in the first thirty minutes of the day?"
   ]
  },
  {
   "cell_type": "code",
   "execution_count": null,
   "id": "28a7aa1f",
   "metadata": {},
   "outputs": [],
   "source": [
    "len(trajectories_in_first_thirty_minutes)"
   ]
  },
  {
   "cell_type": "markdown",
   "id": "055ec8e5",
   "metadata": {},
   "source": [
    "### Filtering by Polygon"
   ]
  },
  {
   "cell_type": "markdown",
   "id": "497925ea",
   "metadata": {},
   "source": [
    "We can remove all trajectories that are within a given polygon, such as shorelines, rivers and borders, as follows:"
   ]
  },
  {
   "cell_type": "markdown",
   "id": "e177f1a3",
   "metadata": {},
   "source": [
    "First, we need to import the relevant modules so we can filter and load polygons/trajectories."
   ]
  },
  {
   "cell_type": "code",
   "execution_count": null,
   "id": "0cb6d1b9",
   "metadata": {},
   "outputs": [],
   "source": [
    "from tracktable.info.shorelines import shoreline_information, all_shorelines, buffer\n",
    "from tracktable.filter.trajectory import FilterByPolygon\n",
    "from tracktable.rw.load import load_trajectories\n",
    "from tracktable_data.data import retrieve\n",
    "\n",
    "# These imports are for rendering our trajectories\n",
    "from tracktable.render.render_trajectories import render_trajectories\n",
    "import folium"
   ]
  },
  {
   "cell_type": "markdown",
   "id": "39141dbe",
   "metadata": {},
   "source": [
    "Next, we need to grab the North American polygon and create a 10km buffer around it."
   ]
  },
  {
   "cell_type": "code",
   "execution_count": null,
   "id": "f8c86694",
   "metadata": {},
   "outputs": [],
   "source": [
    "# Grab the North American Polygon\n",
    "north_america_polygon = shoreline_information(3, resolution=\"medium\")\n",
    "\n",
    "# Create a 10km buffered polygon \n",
    "buffer_distance = 10 # km\n",
    "buffered_north_america_polygon = buffer(north_america_polygon.points, buffer=buffer_distance)"
   ]
  },
  {
   "cell_type": "markdown",
   "id": "4327a6ec",
   "metadata": {},
   "source": [
    "Now that we have our buffered and unbuffered polygons we need to load in some trajectories."
   ]
  },
  {
   "cell_type": "code",
   "execution_count": null,
   "id": "f7411118",
   "metadata": {},
   "outputs": [],
   "source": [
    "trajectories = load_trajectories(retrieve('NYHarbor_2020_12_first_week.traj'))\n",
    "\n",
    "print(f'{len(trajectories)} historical trajectories successfully imported.')"
   ]
  },
  {
   "cell_type": "markdown",
   "id": "5cfcfa49",
   "metadata": {},
   "source": [
    "With the trajectories loaded we can now filter out trajectories that are within the buffered polygon."
   ]
  },
  {
   "cell_type": "code",
   "execution_count": null,
   "id": "31032f85",
   "metadata": {},
   "outputs": [],
   "source": [
    "filter = FilterByPolygon()\n",
    "\n",
    "filter.input = trajectories\n",
    "filter.polygon = buffered_north_america_polygon\n",
    "\n",
    "filtered_trajectories = list(filter.trajectories())\n",
    "\n",
    "print(f'{len(list(trajectories)) - len(list(filtered_trajectories))} trajectories within {buffer_distance} km of the coastline were removed.')"
   ]
  },
  {
   "cell_type": "markdown",
   "id": "f3c6f11a",
   "metadata": {},
   "source": [
    "To help visualize this filtering, lets render our original and filtered trajectory sets."
   ]
  },
  {
   "cell_type": "code",
   "execution_count": null,
   "id": "71ad075d",
   "metadata": {},
   "outputs": [],
   "source": [
    "# render the unfiltered trajectories using Tracktable\n",
    "map_canvas = render_trajectories(trajectories[:20])\n",
    "\n",
    "# add in the buffered north america polygon \n",
    "folium.GeoJson(buffered_north_america_polygon).add_to(map_canvas)\n",
    "\n",
    "map_canvas"
   ]
  },
  {
   "cell_type": "code",
   "execution_count": null,
   "id": "33493fa7",
   "metadata": {},
   "outputs": [],
   "source": [
    "# render the filtered trajectories using Tracktable\n",
    "map_canvas = render_trajectories(filtered_trajectories[:20])\n",
    "\n",
    "# add in the buffered north america polygon \n",
    "folium.GeoJson(buffered_north_america_polygon).add_to(map_canvas)\n",
    "\n",
    "map_canvas"
   ]
  },
  {
   "cell_type": "markdown",
   "id": "f9001bfe",
   "metadata": {},
   "source": [
    "## Additional Functionality\n",
    "\n",
    "Tracktable's `geomath` module contains many additional functions not shown here.  For a complete list, please see the [geomath documentation](https://tracktable.readthedocs.io/en/latest/api/python/tracktable.core.geomath.html?highlight=geomath#tracktable-core-geomath-module)."
   ]
  },
  {
   "cell_type": "markdown",
   "id": "86ef8f01",
   "metadata": {},
   "source": [
    "<span style=\"color:gray\">$^1$ Bureau of Ocean Energy Management (BOEM) and National Oceanic and Atmospheric Administration (NOAA). MarineCadastre.gov. *AIS Data for 2020.* Retrieved February 2021 from [marinecadastre.gov/data](https://marinecadastre.gov/data/).  Trimmed down to the first hour of June 30, 2020, restricted to in NY Harbor.</span>"
   ]
  }
 ],
 "metadata": {
  "interpreter": {
   "hash": "31f2aee4e71d21fbe5cf8b01ff0e069b9275f58929596ceb00d14d90e3e16cd6"
  },
  "kernelspec": {
   "display_name": "Python 3 (ipykernel)",
   "language": "python",
   "name": "python3"
  },
  "language_info": {
   "codemirror_mode": {
    "name": "ipython",
    "version": 3
   },
   "file_extension": ".py",
   "mimetype": "text/x-python",
   "name": "python",
   "nbconvert_exporter": "python",
   "pygments_lexer": "ipython3",
   "version": "3.12.0"
  }
 },
 "nbformat": 4,
 "nbformat_minor": 5
}
