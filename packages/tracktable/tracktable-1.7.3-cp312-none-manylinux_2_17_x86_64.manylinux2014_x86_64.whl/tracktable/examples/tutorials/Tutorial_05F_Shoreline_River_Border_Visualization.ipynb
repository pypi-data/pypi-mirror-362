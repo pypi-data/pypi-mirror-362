{
 "cells": [
  {
   "cell_type": "markdown",
   "id": "06266b15",
   "metadata": {
    "nbsphinx": "hidden"
   },
   "source": [
    "<span style=\"color:#888888\">Copyright (c) 2014-2021 National Technology and Engineering Solutions of Sandia, LLC. Under the terms of Contract DE-NA0003525 with National Technology and Engineering Solutions of Sandia, LLC, the U.S. Government retains certain rights in this software.     Redistribution and use in source and binary forms, with or without modification, are permitted provided that the following conditions are met:</span>\n",
    "\n",
    "<span style=\"color:#888888\">1. Redistributions of source code must retain the above copyright notice, this list of conditions and the following disclaimer.</span>\n",
    "\n",
    "<span style=\"color:#888888\">2. Redistributions in binary form must reproduce the above copyright notice, this list of conditions and the following disclaimer in the documentation and/or other materials provided with the distribution.</span>\n",
    "\n",
    "<span style=\"color:#888888\">THIS SOFTWARE IS PROVIDED BY THE COPYRIGHT HOLDERS AND CONTRIBUTORS \"AS IS\" AND ANY EXPRESS OR IMPLIED WARRANTIES, INCLUDING, BUT NOT LIMITED TO, THE IMPLIED WARRANTIES OF MERCHANTABILITY AND FITNESS FOR A PARTICULAR PURPOSE ARE DISCLAIMED. IN NO EVENT SHALL THE COPYRIGHT HOLDER OR CONTRIBUTORS BE LIABLE FOR ANY DIRECT, INDIRECT, INCIDENTAL, SPECIAL, EXEMPLARY, OR CONSEQUENTIAL DAMAGES (INCLUDING, BUT NOT LIMITED TO, PROCUREMENT OF SUBSTITUTE GOODS OR SERVICES; LOSS OF USE, DATA, OR PROFITS; OR BUSINESS INTERRUPTION) HOWEVER CAUSED AND ON ANY THEORY OF LIABILITY, WHETHER IN CONTRACT, STRICT LIABILITY, OR TORT (INCLUDING NEGLIGENCE OR OTHERWISE) ARISING IN ANY WAY OUT OF THE USE OF THIS SOFTWARE, EVEN IF ADVISED OF THE POSSIBILITY OF SUCH DAMAGE.</span>"
   ]
  },
  {
   "cell_type": "markdown",
   "id": "02182bca",
   "metadata": {},
   "source": [
    "# <span style=\"color:#0054a8\">**Tutorial 5-F:**</span> <span style=\"color:#555555\">Shoreline, River & Border Visualization</span>"
   ]
  },
  {
   "cell_type": "markdown",
   "id": "4a2b8380",
   "metadata": {},
   "source": [
    "## Purpose\n",
    "\n",
    "This notebook demonstrates how to use Tracktable's shoreline, river and border databases to populate a map.  Tracktable has numerous rendering methods, and not all are shown here.  A comprehensive rendering user guide can be found in the Tracktable documentation: https://tracktable.readthedocs.io/en/latest/user_guides/python/rendering.html"
   ]
  },
  {
   "cell_type": "markdown",
   "id": "4a648a01",
   "metadata": {},
   "source": [
    "**<span style=\"color:#81062e\">IMPORTANT:</span>** When rendering trajectories interactively, the memory required to render large lists of trajectories may cause your browser to shut down.  Try rendering smaller datasets first and work up from there to test your browser's capacity."
   ]
  },
  {
   "cell_type": "markdown",
   "id": "07532015",
   "metadata": {},
   "source": [
    "Before we begin we must first outline the information that comprises the shoreline, river and border databases.\n",
    "\n",
    "\n",
    "The geography data come in five resolutions:\n",
    "- full resolution: Original (full) data resolution.\n",
    "- high resolution: About 80 % reduction in size and quality.\n",
    "- intermediate resolution: Another ~80 % reduction.\n",
    "- low resolution: Another ~80 % reduction.\n",
    "- crude resolution: Another ~80 % reduction.\n",
    "\n",
    "<span style=\"color:#0054a8\">Note:</span> Due to packaging constraints the full and high resolutions are currently unavailable.\n",
    "\n",
    "Unlike the shoreline polygons at all resolutions, the lower resolution rivers are not guaranteed to be free of intersections.\n",
    "Shorelines are furthermore organized into 6 hierarchical levels:\n",
    "- L1: boundary between land and ocean, except Antarctica.\n",
    "- L2: boundary between lake and land.\n",
    "- L3: boundary between island-in-lake and lake.\n",
    "- L4: boundary between pond-in-island and island.\n",
    "- L5: boundary between Antarctica ice and ocean.\n",
    "- L6: boundary between Antarctica grounding-line and ocean.\n",
    "\n",
    "\n",
    "Rivers are organized into 10 classification levels:\n",
    "- L1: Double-lined rivers (river-lakes).\n",
    "- L2: Permanent major rivers.\n",
    "- L3: Additional major rivers.\n",
    "- L4: Additional rivers.\n",
    "- L5: Minor rivers.\n",
    "- L6: Intermittent rivers - major.\n",
    "- L7: Intermittent rivers - additional.\n",
    "- L8: Intermittent rivers - minor.\n",
    "- L9: Major canals.\n",
    "- L10: Minor canals.\n",
    "- L11: Irrigation canals.\n",
    "\n",
    "\n",
    "Finally, borders are organized into three levels:\n",
    "- L1: National boundaries.\n",
    "- L2: State boundaries within the Americas.\n",
    "- L3: Marine boundaries."
   ]
  },
  {
   "cell_type": "markdown",
   "id": "5794429d",
   "metadata": {},
   "source": [
    "<span style=\"color:#0054a8\">Note:</span> All of the main examples in this notebook will use a specific level from the list above. For convenience we include rendered maps at the end of this notebook that contain all relevant polygons at each of the levels listed above. This can be useful if you don't know which polygons are contained in the given level."
   ]
  },
  {
   "cell_type": "code",
   "execution_count": null,
   "id": "314ccc78",
   "metadata": {},
   "outputs": [],
   "source": [
    "import tracktable.examples.tutorials.tutorial_helper as tutorial \n",
    "from tracktable.render.render_trajectories import render_trajectories\n",
    "from tracktable.render.render_heatmap import render_heatmap\n",
    "from tracktable.render.backends import folium_backend\n",
    "from tracktable.domain.terrestrial import BoundingBox"
   ]
  },
  {
   "cell_type": "markdown",
   "id": "ab101314",
   "metadata": {},
   "source": [
    "### Instantiating a blank map"
   ]
  },
  {
   "cell_type": "markdown",
   "id": "d42ccaa1",
   "metadata": {},
   "source": [
    "We include a tutorial helper function, `generate_blank_folium_map()`, to generate a blank folium map as well as this `create_map()` wrapper for easily resetting and creating a folium map. `create_map()` will be called throughout this tutorial to reset the map between examples. If the map is not reset then polygons will be continually added to the map."
   ]
  },
  {
   "cell_type": "code",
   "execution_count": null,
   "id": "3e75825a",
   "metadata": {},
   "outputs": [],
   "source": [
    "# Folium needs two corner points for bounding boxes: [sw, ne], in (lat,lon) order\n",
    "# For most of this tutorial we will be setting the bounding box of the folium map to CONUS.\n",
    "def create_map(bbox=[(22,-130),(50,-65)]):\n",
    "    return tutorial.generate_blank_folium_map(bbox=bbox, \n",
    "                                            tiles='cartodbdark_matter', attr=\".\", crs=\"EPSG3857\",\n",
    "                                            control_scale=True,\n",
    "                                            max_zoom=22, \n",
    "                                            prefer_canvas=True)          "
   ]
  },
  {
   "cell_type": "markdown",
   "id": "221e8fe0",
   "metadata": {},
   "source": [
    "### Rendering Shorelines"
   ]
  },
  {
   "cell_type": "markdown",
   "id": "7bf09b35",
   "metadata": {},
   "source": [
    "Rendering shorelines on to a folium map is as simple as calling the `render_shorelines_rivers_borders()` function with the generated folium map from above as well as a list of GSHHS indices of the shorelines which should be rendered, a bounding box in which to render all shorelines or both at the same time. Each polygon rendered onto the map has a tooltip and popup window which provides the following information about the given shoreline.\n",
    "\n",
    "- GSHHS Index Number\n",
    "- Bounding Box\n",
    "- Centroid\n",
    "\n",
    "<span style=\"color:#0054a8\">Note:</span> Shorelines are not based on geographical location or country boundaries, they are indexed by overall size of a continuous shoreline per land mass. For example, when rendering shorelines around Floride one of the shoreline polygons rendered will be index 3, North America, which includes the United States, Canada and Mexico.\n",
    "\n",
    "The top 13 polygons (indices 0-12) in the L1 shoreline data are:\n",
    "\n",
    "| Index | Landmass|\n",
    "|-------|---------|\n",
    "| 0  | Eurasia |\n",
    "| 1  | Africa |\n",
    "| 2  | North America |\n",
    "| 3  | South America |\n",
    "| 4  | Antarctica (AC grounding line) |\n",
    "| 5  | Antarctica (AC ice line) |\n",
    "| 6  | Australia |\n",
    "| 7  | Greenland |\n",
    "| 8  | New Guinea |\n",
    "| 9  | Borneo |\n",
    "| 10 | Madagascar |\n",
    "| 11 | Baffin Island |\n",
    "| 12 | Indonesia |"
   ]
  },
  {
   "cell_type": "markdown",
   "id": "a923176a",
   "metadata": {},
   "source": [
    "First, we'll provide a list of individual polygon indices to render onto the map."
   ]
  },
  {
   "cell_type": "code",
   "execution_count": null,
   "id": "e3129e17",
   "metadata": {},
   "outputs": [],
   "source": [
    "fol_map_canvas = create_map(bbox=[(-68.919814, -180.0),(83.633389, 180.0)])\n",
    "folium_backend.render_shorelines_rivers_borders(fol_map_canvas, \n",
    "                                                draw_shorelines=True,\n",
    "                                                shoreline_list=[0,2,12],\n",
    "                                                display_polygon_tooltip=False\n",
    "                                                )\n",
    "fol_map_canvas"
   ]
  },
  {
   "cell_type": "markdown",
   "id": "93dcafe0",
   "metadata": {},
   "source": [
    "Next, we will use a bounding box instead of a list of shorelines indices to render all of the shoreline located around Florida."
   ]
  },
  {
   "cell_type": "code",
   "execution_count": null,
   "id": "0487764b",
   "metadata": {},
   "outputs": [],
   "source": [
    "fol_map_canvas = create_map()\n",
    "folium_backend.render_shorelines_rivers_borders(fol_map_canvas, \n",
    "                                                draw_shorelines=True,\n",
    "                                                shoreline_bounding_box=BoundingBox((-88, 24), (-79.5, 31))\n",
    "                                                )\n",
    "fol_map_canvas"
   ]
  },
  {
   "cell_type": "markdown",
   "id": "3190a4cd",
   "metadata": {},
   "source": [
    "A list of shorelines and a bounding box can be provided at the same time to create more detailed visualizations."
   ]
  },
  {
   "cell_type": "code",
   "execution_count": null,
   "id": "93c52c44",
   "metadata": {},
   "outputs": [],
   "source": [
    "fol_map_canvas = create_map(bbox=[(-68.919814, -180.0),(83.633389, 180.0)])\n",
    "folium_backend.render_shorelines_rivers_borders(fol_map_canvas, \n",
    "                                                draw_shorelines=True,\n",
    "                                                shoreline_list=[0,2,12],\n",
    "                                                shoreline_bounding_box=BoundingBox((-88, 24), (-79.5, 31))\n",
    "                                                )\n",
    "fol_map_canvas"
   ]
  },
  {
   "cell_type": "markdown",
   "id": "5f69c19f",
   "metadata": {},
   "source": [
    "If we don't reset the map between calls to `render_shorelines_rivers_borders()` we are able to display various visualization combinations."
   ]
  },
  {
   "cell_type": "code",
   "execution_count": null,
   "id": "7f085b66",
   "metadata": {},
   "outputs": [],
   "source": [
    "fol_map_canvas = create_map(bbox=[(-68.919814, -180.0),(83.633389, 180.0)])\n",
    "folium_backend.render_shorelines_rivers_borders(fol_map_canvas, \n",
    "                                        draw_shorelines=True, \n",
    "                                        shoreline_list=[3], \n",
    "                                        shoreline_color=\"blue\",\n",
    "                                        shoreline_fill_color=\"green\"\n",
    "                                        )\n",
    "folium_backend.render_shorelines_rivers_borders(fol_map_canvas, \n",
    "                                        draw_shorelines=True,\n",
    "                                        shoreline_bounding_box=BoundingBox((123.5, 23.5), (148, 48)), # Japan/Korea\n",
    "                                        shoreline_fill_polygon=False,\n",
    "                                        shoreline_color='yellow'\n",
    "                                        )\n",
    "fol_map_canvas"
   ]
  },
  {
   "cell_type": "markdown",
   "id": "ce0d6010",
   "metadata": {},
   "source": [
    "Lastly, shorelines can be rendered directly from `render_trajectories` or `render_heatmap` when rendering trajectories or trajectory points onto a map to make it easier to see which trajectories are within the bounds of a particular shoreline."
   ]
  },
  {
   "cell_type": "code",
   "execution_count": null,
   "id": "329f4b0b",
   "metadata": {},
   "outputs": [],
   "source": [
    "trajectories = tutorial.get_trajectory_list('tutorial-traj')\n",
    "render_trajectories(trajectories, \n",
    "                    draw_shorelines=True, \n",
    "                    shoreline_list=[3],\n",
    "                    shoreline_fill_polygon=True,\n",
    "                    shoreline_color='blue',\n",
    "                    shoreline_fill_color='green'\n",
    "                    )"
   ]
  },
  {
   "cell_type": "markdown",
   "id": "4e08a126",
   "metadata": {},
   "source": [
    "If a static image is prefered, the backend can be changed to generate a static map of the trajectories and shorelines."
   ]
  },
  {
   "cell_type": "code",
   "execution_count": null,
   "id": "82b2772e",
   "metadata": {},
   "outputs": [],
   "source": [
    "trajectories = tutorial.get_trajectory_list('tutorial-traj')\n",
    "render_trajectories(trajectories, \n",
    "                    backend='cartopy',\n",
    "                    draw_scale=False,\n",
    "                    draw_shorelines=True,\n",
    "                    shoreline_color='blue',\n",
    "                    shoreline_fill_polygon=False\n",
    "                    )"
   ]
  },
  {
   "cell_type": "code",
   "execution_count": null,
   "id": "4fc39f1d",
   "metadata": {},
   "outputs": [],
   "source": [
    "trajectories = tutorial.get_trajectory_list('tutorial-traj')\n",
    "points = tutorial.trajectories_to_end_points(trajectories)\n",
    "\n",
    "render_heatmap(points,\n",
    "            trajectories=trajectories, \n",
    "            draw_shorelines=True, \n",
    "            shoreline_list=[3], \n",
    "            shoreline_color=\"blue\",\n",
    "            shoreline_fill_color=\"green\"\n",
    "            )"
   ]
  },
  {
   "cell_type": "markdown",
   "id": "cfc2b748",
   "metadata": {},
   "source": [
    "### Rendering Rivers"
   ]
  },
  {
   "cell_type": "markdown",
   "id": "2db8ba53",
   "metadata": {},
   "source": [
    "Rendering rivers on to a folium map is as simple as calling the `render_shorelines_rivers_borders()` function with the generated folium map from above as well as a list of WBDII indices of the rivers which should be rendered, a bounding box in which to render all rivers or both at the same time. Each polygon rendered onto the map has a tooltip and popup window which provides the following information about the given shoreline.\n",
    "\n",
    "- WBDII Index Number\n",
    "- Bounding Box\n",
    "- Centroid\n",
    "\n",
    "<span style=\"color:#0054a8\">Note:</span> Rivers are not based on geographical location or country boundaries, they are indexed by overall size of a given continuous river.\n"
   ]
  },
  {
   "cell_type": "markdown",
   "id": "901d2316",
   "metadata": {},
   "source": [
    "First, we'll provide a list of individual polygon indices to render onto the map."
   ]
  },
  {
   "cell_type": "code",
   "execution_count": null,
   "id": "e2daeaf9",
   "metadata": {},
   "outputs": [],
   "source": [
    "fol_map_canvas = create_map(bbox=[(-68.919814, -180.0),(83.633389, 180.0)])\n",
    "folium_backend.render_shorelines_rivers_borders(fol_map_canvas, \n",
    "                                                draw_rivers=True,\n",
    "                                                river_list=[0,2,12],\n",
    "                                                display_polygon_tooltip=False\n",
    "                                                )\n",
    "fol_map_canvas"
   ]
  },
  {
   "cell_type": "markdown",
   "id": "affc8aef",
   "metadata": {},
   "source": [
    "Next, we will use a bounding box instead of a list of rivers indices to render all of the rivers located around Florida."
   ]
  },
  {
   "cell_type": "code",
   "execution_count": null,
   "id": "8d61a67a",
   "metadata": {},
   "outputs": [],
   "source": [
    "fol_map_canvas = create_map()\n",
    "folium_backend.render_shorelines_rivers_borders(fol_map_canvas, \n",
    "                                                draw_rivers=True,\n",
    "                                                river_bounding_box=BoundingBox((-88, 24), (-79.5, 31)),\n",
    "                                                river_level=\"L03\"\n",
    "                                                )\n",
    "fol_map_canvas"
   ]
  },
  {
   "cell_type": "markdown",
   "id": "62a5237c",
   "metadata": {},
   "source": [
    "A list of rivers and a bounding box can be provided at the same time to create more detailed visualizations."
   ]
  },
  {
   "cell_type": "code",
   "execution_count": null,
   "id": "22257221",
   "metadata": {},
   "outputs": [],
   "source": [
    "fol_map_canvas = create_map(bbox=[(-68.919814, -180.0),(83.633389, 180.0)])\n",
    "folium_backend.render_shorelines_rivers_borders(fol_map_canvas, \n",
    "                                                draw_rivers=True,\n",
    "                                                river_list=[0,2,12, 20],\n",
    "                                                river_bounding_box=BoundingBox((-88, 24), (-79.5, 31)),\n",
    "                                                river_level=\"L03\"\n",
    "                                                )\n",
    "fol_map_canvas"
   ]
  },
  {
   "cell_type": "markdown",
   "id": "d465692a",
   "metadata": {},
   "source": [
    "If we don't reset the map between calls to `render_shorelines_rivers_borders()` we are able to display various visualization combinations."
   ]
  },
  {
   "cell_type": "code",
   "execution_count": null,
   "id": "26a2217d",
   "metadata": {},
   "outputs": [],
   "source": [
    "fol_map_canvas = create_map(bbox=[(-68.919814, -180.0),(83.633389, 180.0)])\n",
    "folium_backend.render_shorelines_rivers_borders(fol_map_canvas, \n",
    "                                        draw_rivers=True, \n",
    "                                        river_list=[3], \n",
    "                                        river_color=\"blue\"\n",
    "                                        )\n",
    "folium_backend.render_shorelines_rivers_borders(fol_map_canvas, \n",
    "                                        draw_rivers=True,\n",
    "                                        river_bounding_box=BoundingBox((123.5, 23.5), (148, 48)), # Japan/Korea\n",
    "                                        river_color='yellow'\n",
    "                                        )\n",
    "fol_map_canvas"
   ]
  },
  {
   "cell_type": "markdown",
   "id": "6513c8f5",
   "metadata": {},
   "source": [
    "Lastly, rivers can be rendered directly from `render_trajectories` or `render_heatmap` when rendering trajectories or trajectory points onto a map to make it easier to see which trajectories are within the bounds of a particular river."
   ]
  },
  {
   "cell_type": "code",
   "execution_count": null,
   "id": "b231694a",
   "metadata": {},
   "outputs": [],
   "source": [
    "trajectories = tutorial.get_trajectory_list('tutorial-traj')\n",
    "render_trajectories(trajectories, \n",
    "                    map_bbox=[-74.73, 40.24, -72.57, 42.87],\n",
    "                    draw_rivers=True, \n",
    "                    river_color='blue',\n",
    "                    river_level=\"L02\",\n",
    "                    river_list=[982]\n",
    "                    )"
   ]
  },
  {
   "cell_type": "markdown",
   "id": "f04dd5ab",
   "metadata": {},
   "source": [
    "If a static image is prefered, the backend can be changed to generate a static map of the trajectories and rivers."
   ]
  },
  {
   "cell_type": "code",
   "execution_count": null,
   "id": "81e43006",
   "metadata": {},
   "outputs": [],
   "source": [
    "trajectories = tutorial.get_trajectory_list('tutorial-traj')\n",
    "render_trajectories(trajectories, \n",
    "                    backend='cartopy',\n",
    "                    map_bbox=[-74.73, 40.24, -72.68, 42.87],\n",
    "                    draw_scale=False,\n",
    "                    draw_rivers=True,\n",
    "                    river_color='blue',\n",
    "                    river_level='L02',\n",
    "                    river_list=[982]\n",
    "                    )"
   ]
  },
  {
   "cell_type": "code",
   "execution_count": null,
   "id": "215f96f4",
   "metadata": {},
   "outputs": [],
   "source": [
    "trajectories = tutorial.get_trajectory_list('tutorial-traj')\n",
    "points = tutorial.trajectories_to_end_points(trajectories)\n",
    "\n",
    "render_heatmap(points,\n",
    "            trajectories=trajectories, \n",
    "            map_bbox=[-74.73, 40.24, -72.57, 42.87],\n",
    "            draw_rivers=True, \n",
    "            river_color='blue',\n",
    "            river_level=\"L02\",\n",
    "            river_list=[982]\n",
    "            )"
   ]
  },
  {
   "cell_type": "markdown",
   "id": "6e61d1f5",
   "metadata": {},
   "source": [
    "### Rendering Borders"
   ]
  },
  {
   "cell_type": "markdown",
   "id": "4cadd5eb",
   "metadata": {},
   "source": [
    "Rendering borders on to a folium map is as simple as calling the `render_shorelines_rivers_borders()` function with the generated folium map from above as well as a list of WBDII indices of the borders which should be rendered, a bounding box in which to render all borders or both at the same time. Each polygon rendered onto the map has a tooltip and popup window which provides the following information about the given shoreline.\n",
    "\n",
    "- WBDII Index Number\n",
    "- Bounding Box\n",
    "- Centroid\n",
    "\n",
    "<span style=\"color:#0054a8\">Note:</span> Borders are not based on geographical location or country boundaries, they are indexed by overall size of a given continuous border. \n"
   ]
  },
  {
   "cell_type": "markdown",
   "id": "86f12c39",
   "metadata": {},
   "source": [
    "First, we'll provide a list of individual polygon indices to render onto the map."
   ]
  },
  {
   "cell_type": "code",
   "execution_count": null,
   "id": "28a88656",
   "metadata": {},
   "outputs": [],
   "source": [
    "fol_map_canvas = create_map(bbox=[(-68.919814, -180.0),(83.633389, 180.0)])\n",
    "folium_backend.render_shorelines_rivers_borders(fol_map_canvas, \n",
    "                                                draw_borders=True,\n",
    "                                                border_list=[0,2,12],\n",
    "                                                display_polygon_tooltip=False\n",
    "                                                )\n",
    "fol_map_canvas"
   ]
  },
  {
   "cell_type": "markdown",
   "id": "2a3d9838",
   "metadata": {},
   "source": [
    "Next, we will use a bounding box instead of a list of border indices to render all of the borders located around Florida."
   ]
  },
  {
   "cell_type": "code",
   "execution_count": null,
   "id": "358e2bd9",
   "metadata": {},
   "outputs": [],
   "source": [
    "fol_map_canvas = create_map()\n",
    "folium_backend.render_shorelines_rivers_borders(fol_map_canvas, \n",
    "                                                draw_borders=True,\n",
    "                                                border_bounding_box=BoundingBox((-88, 24), (-79.5, 31)),\n",
    "                                                border_level='L2'\n",
    "                                                )\n",
    "fol_map_canvas"
   ]
  },
  {
   "cell_type": "markdown",
   "id": "79beaab3",
   "metadata": {},
   "source": [
    "A list of borders and a bounding box can be provided at the same time to create more detailed visualizations."
   ]
  },
  {
   "cell_type": "code",
   "execution_count": null,
   "id": "b7fe194e",
   "metadata": {},
   "outputs": [],
   "source": [
    "fol_map_canvas = create_map(bbox=[(-68.919814, -180.0),(83.633389, 180.0)])\n",
    "folium_backend.render_shorelines_rivers_borders(fol_map_canvas, \n",
    "                                                draw_borders=True,\n",
    "                                                border_list=[0,2,12],\n",
    "                                                border_bounding_box=BoundingBox((-88, 24), (-79.5, 31)),\n",
    "                                                border_level='L2'\n",
    "                                                )\n",
    "fol_map_canvas"
   ]
  },
  {
   "cell_type": "markdown",
   "id": "b09349ee",
   "metadata": {},
   "source": [
    "If we don't reset the map between calls to `render_shorelines_rivers_borders()` we are able to display various visualization combinations."
   ]
  },
  {
   "cell_type": "code",
   "execution_count": null,
   "id": "1121cdbe",
   "metadata": {},
   "outputs": [],
   "source": [
    "fol_map_canvas = create_map(bbox=[(-68.919814, -180.0),(83.633389, 180.0)])\n",
    "folium_backend.render_shorelines_rivers_borders(fol_map_canvas, \n",
    "                                        draw_borders=True, \n",
    "                                        border_color=\"blue\",\n",
    "                                        )\n",
    "folium_backend.render_shorelines_rivers_borders(fol_map_canvas, \n",
    "                                        draw_borders=True,\n",
    "                                        border_bounding_box=BoundingBox((123.5, 23.5), (148, 48)), # Japan/Korea\n",
    "                                        border_color='yellow'\n",
    "                                        )\n",
    "fol_map_canvas"
   ]
  },
  {
   "cell_type": "markdown",
   "id": "4d10b165",
   "metadata": {},
   "source": [
    "Lastly, borders can be rendered directly from `render_trajectories` or `render_heatmap` when rendering trajectories or trajectory points onto a map to make it easier to see which trajectories are within the bounds of a particular border."
   ]
  },
  {
   "cell_type": "code",
   "execution_count": null,
   "id": "c88308c6",
   "metadata": {},
   "outputs": [],
   "source": [
    "trajectories = tutorial.get_trajectory_list('tutorial-traj')\n",
    "render_trajectories(trajectories, \n",
    "                    draw_borders=True, \n",
    "                    border_bounding_box=BoundingBox((-130,22),(-65,50)),\n",
    "                    border_color='green',\n",
    "                    border_level='L2'\n",
    "                    )"
   ]
  },
  {
   "cell_type": "markdown",
   "id": "e9982c4a",
   "metadata": {},
   "source": [
    "If a static image is prefered, the backend can be changed to generate a static map of the trajectories and borders."
   ]
  },
  {
   "cell_type": "code",
   "execution_count": null,
   "id": "e0f95bca",
   "metadata": {},
   "outputs": [],
   "source": [
    "trajectories = tutorial.get_trajectory_list('tutorial-traj')\n",
    "render_trajectories(trajectories, \n",
    "                    backend='cartopy',\n",
    "                    draw_scale=False,\n",
    "                    border_bounding_box=BoundingBox((-130,22),(-65,50)),\n",
    "                    draw_borders=True,\n",
    "                    border_color='green',\n",
    "                    border_level='L2'\n",
    "                    )"
   ]
  },
  {
   "cell_type": "code",
   "execution_count": null,
   "id": "edcbe53d",
   "metadata": {},
   "outputs": [],
   "source": [
    "trajectories = tutorial.get_trajectory_list('tutorial-traj')\n",
    "points = tutorial.trajectories_to_end_points(trajectories)\n",
    "\n",
    "render_heatmap(points,\n",
    "            trajectories=trajectories, \n",
    "            draw_borders=True, \n",
    "            border_bounding_box=BoundingBox((-130,22),(-65,50)),\n",
    "            border_color=\"green\",\n",
    "            border_level='L2'\n",
    "            )"
   ]
  },
  {
   "cell_type": "markdown",
   "id": "e180f12a",
   "metadata": {},
   "source": [
    "### Reference Map: All Shorelines (Level L1, Low Resolution)"
   ]
  },
  {
   "cell_type": "code",
   "execution_count": null,
   "id": "33e6126d",
   "metadata": {},
   "outputs": [],
   "source": [
    "fol_map_canvas = create_map(bbox=[(-68.919814, -180.0),(83.633389, 180.0)])\n",
    "folium_backend.render_shorelines_rivers_borders(fol_map_canvas, \n",
    "                                                draw_shorelines=True,\n",
    "                                                shoreline_fill_polygon=True,\n",
    "                                                shoreline_color='blue',\n",
    "                                                shoreline_fill_color='green'\n",
    "                                                )\n",
    "fol_map_canvas"
   ]
  },
  {
   "cell_type": "markdown",
   "id": "324f0d6f",
   "metadata": {},
   "source": [
    "### Reference Map: All Rivers (Levels L1-L5, L9 & L10, Low Resolution)"
   ]
  },
  {
   "cell_type": "code",
   "execution_count": null,
   "id": "afed80ad",
   "metadata": {},
   "outputs": [],
   "source": [
    "fol_map_canvas = create_map(bbox=[(-68.919814, -180.0),(83.633389, 180.0)])\n",
    "folium_backend.render_shorelines_rivers_borders(fol_map_canvas, \n",
    "                                                draw_rivers=True,\n",
    "                                                river_color='blue',\n",
    "                                                river_level=\"L01\"\n",
    "                                                )\n",
    "folium_backend.render_shorelines_rivers_borders(fol_map_canvas, \n",
    "                                                draw_rivers=True,\n",
    "                                                river_color='blue',\n",
    "                                                river_level=\"L02\"\n",
    "                                                )\n",
    "folium_backend.render_shorelines_rivers_borders(fol_map_canvas, \n",
    "                                                draw_rivers=True,\n",
    "                                                river_color='blue',\n",
    "                                                river_level=\"L03\"\n",
    "                                                )\n",
    "folium_backend.render_shorelines_rivers_borders(fol_map_canvas, \n",
    "                                                draw_rivers=True,\n",
    "                                                river_color='blue',\n",
    "                                                river_level=\"L04\"\n",
    "                                                )\n",
    "folium_backend.render_shorelines_rivers_borders(fol_map_canvas, \n",
    "                                                draw_rivers=True,\n",
    "                                                river_color='blue',\n",
    "                                                river_level=\"L05\"\n",
    "                                                )\n",
    "folium_backend.render_shorelines_rivers_borders(fol_map_canvas, \n",
    "                                                draw_rivers=True,\n",
    "                                                river_color='blue',\n",
    "                                                river_level=\"L09\"\n",
    "                                                )\n",
    "folium_backend.render_shorelines_rivers_borders(fol_map_canvas, \n",
    "                                                draw_rivers=True,\n",
    "                                                river_color='blue',\n",
    "                                                river_level=\"L10\"\n",
    "                                                )\n",
    "fol_map_canvas"
   ]
  },
  {
   "cell_type": "markdown",
   "id": "84e68455",
   "metadata": {},
   "source": [
    "### Reference Map: All Borders (Levels L1-L3, Low Resolution)"
   ]
  },
  {
   "cell_type": "code",
   "execution_count": null,
   "id": "07ffad3d",
   "metadata": {},
   "outputs": [],
   "source": [
    "fol_map_canvas = create_map(bbox=[(-68.919814, -180.0),(83.633389, 180.0)])\n",
    "folium_backend.render_shorelines_rivers_borders(fol_map_canvas, \n",
    "                                                draw_borders=True,\n",
    "                                                border_color='green',\n",
    "                                                border_level='L1'\n",
    "                                                )\n",
    "folium_backend.render_shorelines_rivers_borders(fol_map_canvas, \n",
    "                                                draw_borders=True,\n",
    "                                                border_color='green',\n",
    "                                                border_level='L2'\n",
    "                                                )\n",
    "folium_backend.render_shorelines_rivers_borders(fol_map_canvas, \n",
    "                                                draw_borders=True,\n",
    "                                                border_color='green',\n",
    "                                                border_level='L3'\n",
    "                                                )\n",
    "fol_map_canvas"
   ]
  },
  {
   "cell_type": "code",
   "execution_count": null,
   "id": "1de4d63e-3d0c-4a72-b614-d516d8c1e853",
   "metadata": {},
   "outputs": [],
   "source": []
  }
 ],
 "metadata": {
  "interpreter": {
   "hash": "31f2aee4e71d21fbe5cf8b01ff0e069b9275f58929596ceb00d14d90e3e16cd6"
  },
  "kernelspec": {
   "display_name": "Python 3 (ipykernel)",
   "language": "python",
   "name": "python3"
  },
  "language_info": {
   "codemirror_mode": {
    "name": "ipython",
    "version": 3
   },
   "file_extension": ".py",
   "mimetype": "text/x-python",
   "name": "python",
   "nbconvert_exporter": "python",
   "pygments_lexer": "ipython3",
   "version": "3.12.0"
  }
 },
 "nbformat": 4,
 "nbformat_minor": 5
}
