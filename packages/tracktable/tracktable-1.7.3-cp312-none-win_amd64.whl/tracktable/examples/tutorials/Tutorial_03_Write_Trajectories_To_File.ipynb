{
 "cells": [
  {
   "cell_type": "markdown",
   "id": "816a21f4",
   "metadata": {
    "nbsphinx": "hidden"
   },
   "source": [
    "<span style=\"color:#888888\">Copyright (c) 2014-2025 National Technology and Engineering Solutions of Sandia, LLC. Under the terms of Contract DE-NA0003525 with National Technology and Engineering Solutions of Sandia, LLC, the U.S. Government retains certain rights in this software.     Redistribution and use in source and binary forms, with or without modification, are permitted provided that the following conditions are met:</span>\n",
    "\n",
    "<span style=\"color:#888888\">1. Redistributions of source code must retain the above copyright notice, this list of conditions and the following disclaimer.</span>\n",
    "\n",
    "<span style=\"color:#888888\">2. Redistributions in binary form must reproduce the above copyright notice, this list of conditions and the following disclaimer in the documentation and/or other materials provided with the distribution.</span>\n",
    "\n",
    "<span style=\"color:#888888\">THIS SOFTWARE IS PROVIDED BY THE COPYRIGHT HOLDERS AND CONTRIBUTORS \"AS IS\" AND ANY EXPRESS OR IMPLIED WARRANTIES, INCLUDING, BUT NOT LIMITED TO, THE IMPLIED WARRANTIES OF MERCHANTABILITY AND FITNESS FOR A PARTICULAR PURPOSE ARE DISCLAIMED. IN NO EVENT SHALL THE COPYRIGHT HOLDER OR CONTRIBUTORS BE LIABLE FOR ANY DIRECT, INDIRECT, INCIDENTAL, SPECIAL, EXEMPLARY, OR CONSEQUENTIAL DAMAGES (INCLUDING, BUT NOT LIMITED TO, PROCUREMENT OF SUBSTITUTE GOODS OR SERVICES; LOSS OF USE, DATA, OR PROFITS; OR BUSINESS INTERRUPTION) HOWEVER CAUSED AND ON ANY THEORY OF LIABILITY, WHETHER IN CONTRACT, STRICT LIABILITY, OR TORT (INCLUDING NEGLIGENCE OR OTHERWISE) ARISING IN ANY WAY OUT OF THE USE OF THIS SOFTWARE, EVEN IF ADVISED OF THE POSSIBILITY OF SUCH DAMAGE.</span>"
   ]
  },
  {
   "cell_type": "markdown",
   "id": "11a284dc",
   "metadata": {},
   "source": [
    "# <span style=\"color:#0054a8\">**Tutorial 3:**</span> <span style=\"color:#555555\">How to Write Trajectories to a .traj File</span>"
   ]
  },
  {
   "cell_type": "code",
   "execution_count": null,
   "id": "4e7cf4fe",
   "metadata": {},
   "outputs": [],
   "source": [
    "import tracktable.examples.tutorials.tutorial_helper as tutorial "
   ]
  },
  {
   "cell_type": "markdown",
   "id": "157e6e7f",
   "metadata": {},
   "source": [
    "## Purpose\n",
    "\n",
    "This notebook demonstrates how to write Tracktable trajectories to a `.traj` file.  This will **compress our trajectories** and allow them to be read by Tracktable more quickly than a delimited file."
   ]
  },
  {
   "cell_type": "markdown",
   "id": "9826619d",
   "metadata": {},
   "source": [
    "## Step 1: Start with a list of trajectories.\n",
    "\n",
    "We will use the provided example data $^1$ for this tutorial.  For the sake of brevity, the function below executes the steps from [Tutorial 1](Tutorial_01_Points_From_File.ipynb) and [Tutorial 2](Tutorial_02_Trajectories_From_File.ipynb) to create a list of trajectories."
   ]
  },
  {
   "cell_type": "code",
   "execution_count": null,
   "id": "957f6438",
   "metadata": {},
   "outputs": [],
   "source": [
    "trajectories = tutorial.get_trajectory_list_from_csv()"
   ]
  },
  {
   "cell_type": "markdown",
   "id": "f46879bb",
   "metadata": {},
   "source": [
    "## Step 2: Name your new .traj file."
   ]
  },
  {
   "cell_type": "code",
   "execution_count": null,
   "id": "16dea9e8",
   "metadata": {},
   "outputs": [],
   "source": [
    "traj_filename = 'my_trajectories.traj'"
   ]
  },
  {
   "cell_type": "markdown",
   "id": "6ad2b42d",
   "metadata": {},
   "source": [
    "## Step 3: Write your trajectories to the .traj file."
   ]
  },
  {
   "cell_type": "code",
   "execution_count": null,
   "id": "bf268f9c",
   "metadata": {},
   "outputs": [],
   "source": [
    "from tracktable.domain.terrestrial import TrajectoryWriter\n",
    "\n",
    "with open(traj_filename, 'wb') as output:\n",
    "    writer = TrajectoryWriter(output)\n",
    "    writer.write(trajectories)"
   ]
  },
  {
   "cell_type": "markdown",
   "id": "0d9b733c",
   "metadata": {},
   "source": [
    "## How do we read .traj files?"
   ]
  },
  {
   "cell_type": "markdown",
   "id": "972ad6f6",
   "metadata": {},
   "source": [
    "See **<span style=\"color:#0054a8\">Tutorial 4</span>** for an example of how to read `.traj` files with Tracktable."
   ]
  },
  {
   "cell_type": "markdown",
   "id": "3aeb781a",
   "metadata": {},
   "source": [
    "<span style=\"color:gray\">$^1$ Bureau of Ocean Energy Management (BOEM) and National Oceanic and Atmospheric Administration (NOAA). MarineCadastre.gov. *AIS Data for 2020.* Retrieved February 2021 from [marinecadastre.gov/data](https://marinecadastre.gov/data/).  Trimmed down to the first hour of June 30, 2020, restricted to in NY Harbor.</span>"
   ]
  }
 ],
 "metadata": {
  "interpreter": {
   "hash": "31f2aee4e71d21fbe5cf8b01ff0e069b9275f58929596ceb00d14d90e3e16cd6"
  },
  "kernelspec": {
   "display_name": "Python 3 (ipykernel)",
   "language": "python",
   "name": "python3"
  },
  "language_info": {
   "codemirror_mode": {
    "name": "ipython",
    "version": 3
   },
   "file_extension": ".py",
   "mimetype": "text/x-python",
   "name": "python",
   "nbconvert_exporter": "python",
   "pygments_lexer": "ipython3",
   "version": "3.12.0"
  }
 },
 "nbformat": 4,
 "nbformat_minor": 5
}
