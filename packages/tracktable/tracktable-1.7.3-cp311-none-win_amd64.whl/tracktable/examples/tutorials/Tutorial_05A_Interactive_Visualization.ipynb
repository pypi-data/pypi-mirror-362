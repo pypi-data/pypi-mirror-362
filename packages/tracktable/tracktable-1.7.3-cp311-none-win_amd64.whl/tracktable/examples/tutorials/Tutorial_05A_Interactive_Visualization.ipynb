{
 "cells": [
  {
   "cell_type": "markdown",
   "id": "5748c9c1",
   "metadata": {
    "nbsphinx": "hidden"
   },
   "source": [
    "<span style=\"color:#888888\">Copyright (c) 2014-2025 National Technology and Engineering Solutions of Sandia, LLC. Under the terms of Contract DE-NA0003525 with National Technology and Engineering Solutions of Sandia, LLC, the U.S. Government retains certain rights in this software.     Redistribution and use in source and binary forms, with or without modification, are permitted provided that the following conditions are met:</span>\n",
    "\n",
    "<span style=\"color:#888888\">1. Redistributions of source code must retain the above copyright notice, this list of conditions and the following disclaimer.</span>\n",
    "\n",
    "<span style=\"color:#888888\">2. Redistributions in binary form must reproduce the above copyright notice, this list of conditions and the following disclaimer in the documentation and/or other materials provided with the distribution.</span>\n",
    "\n",
    "<span style=\"color:#888888\">THIS SOFTWARE IS PROVIDED BY THE COPYRIGHT HOLDERS AND CONTRIBUTORS \"AS IS\" AND ANY EXPRESS OR IMPLIED WARRANTIES, INCLUDING, BUT NOT LIMITED TO, THE IMPLIED WARRANTIES OF MERCHANTABILITY AND FITNESS FOR A PARTICULAR PURPOSE ARE DISCLAIMED. IN NO EVENT SHALL THE COPYRIGHT HOLDER OR CONTRIBUTORS BE LIABLE FOR ANY DIRECT, INDIRECT, INCIDENTAL, SPECIAL, EXEMPLARY, OR CONSEQUENTIAL DAMAGES (INCLUDING, BUT NOT LIMITED TO, PROCUREMENT OF SUBSTITUTE GOODS OR SERVICES; LOSS OF USE, DATA, OR PROFITS; OR BUSINESS INTERRUPTION) HOWEVER CAUSED AND ON ANY THEORY OF LIABILITY, WHETHER IN CONTRACT, STRICT LIABILITY, OR TORT (INCLUDING NEGLIGENCE OR OTHERWISE) ARISING IN ANY WAY OUT OF THE USE OF THIS SOFTWARE, EVEN IF ADVISED OF THE POSSIBILITY OF SUCH DAMAGE.</span>"
   ]
  },
  {
   "cell_type": "markdown",
   "id": "6c600869",
   "metadata": {},
   "source": [
    "# <span style=\"color:#0054a8\">**Tutorial 5-A:**</span> <span style=\"color:#555555\">Interactive Trajectory Visualization</span>"
   ]
  },
  {
   "cell_type": "code",
   "execution_count": null,
   "id": "3d67e013",
   "metadata": {},
   "outputs": [],
   "source": [
    "import tracktable.examples.tutorials.tutorial_helper as tutorial\n",
    "from datetime import timedelta"
   ]
  },
  {
   "cell_type": "markdown",
   "id": "d879b413",
   "metadata": {},
   "source": [
    "## Purpose\n",
    "\n",
    "The next three notebooks demonstrate how to use Tracktable's internal rendering functions to visualize trajectories.  Tracktable has numerous rendering methods, and not all are shown here.  A comprehensive rendering user guide can be found in the Tracktable documentation: https://tracktable.readthedocs.io/en/latest/user_guides/python/rendering.html"
   ]
  },
  {
   "cell_type": "markdown",
   "id": "4ddbb7a6",
   "metadata": {},
   "source": [
    "We break up this tutorial into three parts, each with its own notebook. [Tutorial 5-A](Tutorial_05A_Interactive_Visualization.ipynb) details interactive trajectory visualization. [Tutorial 5-B](Tutorial_05B_Static_Visualization.ipynb) details static trajectory visualization. [Tutorial 5-C](Tutorial_05C_Heatmap_Visualization.ipynb) details visualization with heat maps (both static and interactive)."
   ]
  },
  {
   "cell_type": "markdown",
   "id": "b0c45a95",
   "metadata": {},
   "source": [
    "**<span style=\"color:#81062e\">IMPORTANT:</span>** When rendering trajectories interactively, the memory required to render large lists of trajectories may cause your browser to shut down.  Try rendering smaller datasets first and work up from there to test your browser's capacity."
   ]
  },
  {
   "cell_type": "markdown",
   "id": "37c944cd",
   "metadata": {},
   "source": [
    "### Let's start with a list of trajectories.\n",
    "\n",
    "We will use the provided example data $^1$ for this tutorial.  For brevity, the function below reads our trajectories from a .traj file into a Python list, as was demoed in [Tutorial 4](Tutorial_04_Read_Traj_File.ipynb)."
   ]
  },
  {
   "cell_type": "code",
   "execution_count": null,
   "id": "da150c18",
   "metadata": {},
   "outputs": [],
   "source": [
    "trajectories = tutorial.get_trajectory_list()"
   ]
  },
  {
   "cell_type": "code",
   "execution_count": null,
   "id": "dbbe1851",
   "metadata": {},
   "outputs": [],
   "source": [
    "from tracktable.render.render_trajectories import render_trajectories, render_trajectories_separate"
   ]
  },
  {
   "cell_type": "markdown",
   "id": "83b78ef1",
   "metadata": {},
   "source": [
    "### Default Rendering"
   ]
  },
  {
   "cell_type": "markdown",
   "id": "f8a854ed",
   "metadata": {},
   "source": [
    "Let's start by rendering just the first trajectory in our list."
   ]
  },
  {
   "cell_type": "code",
   "execution_count": null,
   "id": "5513c87d",
   "metadata": {},
   "outputs": [],
   "source": [
    "trajectory = trajectories[0]"
   ]
  },
  {
   "cell_type": "markdown",
   "id": "ee26f864",
   "metadata": {},
   "source": [
    "By default, trajectories are rendered in [Folium](https://python-visualization.github.io/folium/latest/), allowing you to **scroll** and **zoom**.  Each trajectory is hashed to a color using its `object_id` string.  Each trajectory's color starts out dark at its oldest end and grows progressively lighter through time.  The end of each trajectory (its most recent point) is marked with a white dot."
   ]
  },
  {
   "cell_type": "code",
   "execution_count": null,
   "id": "4a2be7b0",
   "metadata": {},
   "outputs": [],
   "source": [
    "render_trajectories(trajectory)"
   ]
  },
  {
   "cell_type": "markdown",
   "id": "1b0a4e4d",
   "metadata": {},
   "source": [
    "Now let's render a list of fifteen trajectories together."
   ]
  },
  {
   "cell_type": "code",
   "execution_count": null,
   "id": "3a4025a7",
   "metadata": {},
   "outputs": [],
   "source": [
    "fifteen_trajectories = trajectories[5:20]"
   ]
  },
  {
   "cell_type": "code",
   "execution_count": null,
   "id": "32eac49b",
   "metadata": {},
   "outputs": [],
   "source": [
    "render_trajectories(fifteen_trajectories)"
   ]
  },
  {
   "cell_type": "markdown",
   "id": "72bd399c",
   "metadata": {},
   "source": [
    "We can also render a list of trajectories separately.  This will display one Folium window for each trajectory."
   ]
  },
  {
   "cell_type": "code",
   "execution_count": null,
   "id": "52be2f7c",
   "metadata": {},
   "outputs": [],
   "source": [
    "three_trajectories = trajectories[10:13]"
   ]
  },
  {
   "cell_type": "code",
   "execution_count": null,
   "id": "5ef01c4e",
   "metadata": {},
   "outputs": [],
   "source": [
    "render_trajectories_separate(three_trajectories)"
   ]
  },
  {
   "cell_type": "markdown",
   "id": "dca82bbb",
   "metadata": {},
   "source": [
    "If there are a specific object's trajectories that we wish to render, we can select them by the object ID."
   ]
  },
  {
   "cell_type": "code",
   "execution_count": null,
   "id": "22934fff",
   "metadata": {},
   "outputs": [],
   "source": [
    "render_trajectories(trajectories, obj_ids='367782880')"
   ]
  },
  {
   "cell_type": "markdown",
   "id": "dd45a2f0",
   "metadata": {},
   "source": [
    "... or select several object IDs."
   ]
  },
  {
   "cell_type": "code",
   "execution_count": null,
   "id": "c7cb8165",
   "metadata": {},
   "outputs": [],
   "source": [
    "render_trajectories(trajectories, obj_ids=['367782880', '367740750'])"
   ]
  },
  {
   "cell_type": "markdown",
   "id": "58ebd797",
   "metadata": {},
   "source": [
    "### Animation"
   ]
  },
  {
   "cell_type": "markdown",
   "id": "50e26362",
   "metadata": {},
   "source": [
    "Set animate to 'True' to animate the trajectories.\n",
    "\n",
    "With animations you can:\n",
    "* Adjust the speed of animation by dragging the FPS (frames per second) slider. \n",
    "* Pause (⏸️) the animation and use the time slider to manually advance the animation.\n",
    "* Click the forward (⏩) or backward (⏪) arrows (to the right and left of the play/pause (⏸️) icon) to advance by a single frame in either direction.\n",
    "* Toggle whether or not the animation repeats when finished by clicking the loop button to the right of the forward arrow (⏩).\n",
    "* Click Play (▶️) to resume the animation after pausing it. "
   ]
  },
  {
   "cell_type": "code",
   "execution_count": null,
   "id": "e59d7ae5",
   "metadata": {},
   "outputs": [],
   "source": [
    "render_trajectories(trajectories[27], animate=True)"
   ]
  },
  {
   "cell_type": "markdown",
   "id": "6c69c2cb",
   "metadata": {},
   "source": [
    "To get faster animation, decrease the `anim_display_update_interval` value in the call to `render_trajectories`.  This is the real-world time between updates.  In this case we are rendering an update on the map every 50 milliseconds. The example above showed an update every 200 milliseconds (five times per second).   You can also show the individual trajectory points in the animation by providing `show_points=True` as an argument."
   ]
  },
  {
   "cell_type": "code",
   "execution_count": null,
   "id": "fa65599f",
   "metadata": {},
   "outputs": [],
   "source": [
    "render_trajectories(trajectories[27], \n",
    "                    animate=True, \n",
    "                    anim_display_update_interval=timedelta(microseconds=50000), \n",
    "                    show_points=True)"
   ]
  },
  {
   "cell_type": "markdown",
   "id": "04954db3",
   "metadata": {},
   "source": [
    "You can control how quickly time advances in the animation with the timestamp update step argument.  The display update interval (`anim_display_update_interval`) is how often the display will update; the timestamp update step (`anim_timestamp_update_step`) is how far the clock advances with each update.\n",
    "\n",
    "For example, suppose that you have 100 hours of data sampled once per hour.  The default value for the timestamp update step (one minute) would produce a very slow animation.  By specifying `anim_timestamp_update_step = timedelta(minutes=4)` you can speed it up by a factor of four.  \n",
    "\n",
    "This next animation will complete in the same time as the previous one.  In the previous example, we advanced time one minute at each update and rendered one update every 50 milliseconds (50,000 microseconds).  The next example renders new updates every 200 milliseconds (four times more slowly) but moves time forward four minutes per update (four times more quickly)."
   ]
  },
  {
   "cell_type": "code",
   "execution_count": null,
   "id": "c0b26fe2",
   "metadata": {},
   "outputs": [],
   "source": [
    "render_trajectories(trajectories[27], \n",
    "                    animate=True, \n",
    "                    anim_timestamp_update_step=timedelta(minutes=4))"
   ]
  },
  {
   "cell_type": "markdown",
   "id": "c420514d",
   "metadata": {},
   "source": [
    "By default, trajectory animations show the entirety of each trajectory's history from its start up to the current update's timestamp.  You can decrease this using the `anim_trail_duration` argument.\n",
    "\n",
    "The following example will show only the previous 5 minutes of data for our example trajectory at each step in the animation.\n"
   ]
  },
  {
   "cell_type": "code",
   "execution_count": null,
   "id": "5807b793",
   "metadata": {},
   "outputs": [],
   "source": [
    "render_trajectories(trajectories[27], \n",
    "                    animate=True, \n",
    "                    anim_trail_duration=timedelta(minutes=5))"
   ]
  },
  {
   "cell_type": "markdown",
   "id": "1f683db1",
   "metadata": {},
   "source": [
    "### Changing the Back End"
   ]
  },
  {
   "cell_type": "markdown",
   "id": "e7e45626",
   "metadata": {},
   "source": [
    "By default, Tracktable renders trajectories using [Folium](https://python-visualization.github.io/folium/latest/) when in Jupyter notebooks in order to produce interactive maps.  We can change this to [Cartopy](https://scitools.org.uk/cartopy/docs/latest/) to produce static images if we prefer.  This is demonstrated in [Tutorial 5-B](Tutorial_05B_Static_Visualization.ipynb).  Static images are a good choice when you have too much data to render interactively.\n",
    "\n",
    "Here we draw the same three trajectories we used earlier but with the Cartopy back end instead of Folium.  In this particular example the coastlines are much lower-resolution than in the tiles Folium uses.  You can see how to change this in [Tutorial 5-B](Tutorial_05B_Static_Visualization.ipynb).\n",
    "\n"
   ]
  },
  {
   "cell_type": "code",
   "execution_count": null,
   "id": "55f4ec37",
   "metadata": {},
   "outputs": [],
   "source": [
    "render_trajectories(three_trajectories, \n",
    "                    backend='cartopy', \n",
    "                    scale_length_in_km=2)"
   ]
  },
  {
   "cell_type": "markdown",
   "id": "7e90da64",
   "metadata": {},
   "source": [
    "### Changing the Map"
   ]
  },
  {
   "cell_type": "markdown",
   "id": "1b733293",
   "metadata": {},
   "source": [
    "In Folium, the map background is downloaded on the fly from a tile server.  We use the `tiles` keyword argument to `render_trajectories` to select between several tile servers built into Folium.  \n",
    "\n",
    "Here are the available options:\n",
    "\n",
    "* `CartoDBDark_Matter` (the default)   \n",
    "* `OpenStreetMaps`\n",
    "* `StamenTerrain` \n",
    "* `StamenToner`\n",
    "* `StamenWatercolor`\n",
    "* `CartoDBPositron`"
   ]
  },
  {
   "cell_type": "code",
   "execution_count": null,
   "id": "9ec6da01",
   "metadata": {},
   "outputs": [],
   "source": [
    "render_trajectories(fifteen_trajectories, \n",
    "                    tiles='CartoDBPositron')"
   ]
  },
  {
   "cell_type": "markdown",
   "id": "18a89a73",
   "metadata": {},
   "source": [
    "You can also specify a map tile server by URL.  You will need to specify the keyword argument `attr`, the attribution string."
   ]
  },
  {
   "cell_type": "code",
   "execution_count": null,
   "id": "cbe54049",
   "metadata": {},
   "outputs": [],
   "source": [
    "render_trajectories(fifteen_trajectories, \n",
    "                    tiles='http://server.arcgisonline.com/ArcGIS/rest/services/NatGeo_World_Map/MapServer/tile/{z}/{y}/{x}', attr='ESRI')"
   ]
  },
  {
   "cell_type": "markdown",
   "id": "4052b498",
   "metadata": {},
   "source": [
    "By default, the map will initially be zoomed to fit all trajectories, but a specific bounding box can be specified.  Note that the format of the bounding box should be `[min_longitude, min_latitude, max_longitude, max_latitude]`."
   ]
  },
  {
   "cell_type": "code",
   "execution_count": null,
   "id": "4f1df25a",
   "metadata": {},
   "outputs": [],
   "source": [
    "render_trajectories(fifteen_trajectories, \n",
    "                    map_bbox=[-75.1, 39.9, -73.2, 40.9])"
   ]
  },
  {
   "cell_type": "markdown",
   "id": "fe5b731b",
   "metadata": {},
   "source": [
    "### Changing Trajectory Rendering Styles"
   ]
  },
  {
   "cell_type": "markdown",
   "id": "64ba70d5",
   "metadata": {},
   "source": [
    "By default the line width is `2.4`, but can be adjusted to any positive number."
   ]
  },
  {
   "cell_type": "code",
   "execution_count": null,
   "id": "195db28d",
   "metadata": {},
   "outputs": [],
   "source": [
    "render_trajectories(trajectory, linewidth=10)"
   ]
  },
  {
   "cell_type": "markdown",
   "id": "d886638d",
   "metadata": {},
   "source": [
    "We can render multiple trajectories in one solid color. We specify that color by passing a string to the `line_color` parameter. We choose plum here, but any HTML-style color will work."
   ]
  },
  {
   "cell_type": "code",
   "execution_count": null,
   "id": "b72a8915",
   "metadata": {},
   "outputs": [],
   "source": [
    "render_trajectories(three_trajectories, \n",
    "                    line_color='plum')"
   ]
  },
  {
   "cell_type": "markdown",
   "id": "86928c5a",
   "metadata": {},
   "source": [
    "Alternatively, we can pass in the color as a hex string of the format `#RRGGBBAA` where `RR` (red), `GG` (green) and `BB` (blue) are values from 0 to 255 as two hex digits each.  The last two hex digits `AA` (alpha) are optional and control opacity (e.g. `FF` = 100% and `00` = 0%)."
   ]
  },
  {
   "cell_type": "code",
   "execution_count": null,
   "id": "6c3ecf00",
   "metadata": {},
   "outputs": [],
   "source": [
    "render_trajectories(three_trajectories, \n",
    "                    line_color='#E6E6E650')"
   ]
  },
  {
   "cell_type": "markdown",
   "id": "36eb6a71",
   "metadata": {},
   "source": [
    "The trajectories can also be colored using a Matplotlib colormap. \n",
    "\n",
    "A complete list of colormaps can be viewed here: https://matplotlib.org/stable/tutorials/colors/colormaps.html."
   ]
  },
  {
   "cell_type": "code",
   "execution_count": null,
   "id": "d2ae99d7",
   "metadata": {},
   "outputs": [],
   "source": [
    "render_trajectories(three_trajectories, \n",
    "                    color_map='plasma')"
   ]
  },
  {
   "cell_type": "markdown",
   "id": "3517aea9",
   "metadata": {},
   "source": [
    "You can even define your own color maps. "
   ]
  },
  {
   "cell_type": "code",
   "execution_count": null,
   "id": "2df85660",
   "metadata": {},
   "outputs": [],
   "source": [
    "import matplotlib\n",
    "import numpy as np"
   ]
  },
  {
   "cell_type": "code",
   "execution_count": null,
   "id": "9d7a4b90",
   "metadata": {},
   "outputs": [],
   "source": [
    "# start with the matplotlib 'Blues colormap' \n",
    "blues_map = matplotlib.colormaps.get_cmap('Blues')\n",
    "\n",
    "# convert a matplotlib colormap to a numpy matrix of size (100, 4) composed of 100 colors each represented \n",
    "# by their RGB representation (4 numbers - red, green, blue, and opacity scaled between 0 and 1)\n",
    "newcolors = blues_map(np.linspace(0, 1, 100))\n",
    "\n",
    "# define pink using RGB representation\n",
    "pink = np.array([248/256, 24/256, 148/256, 1]) # R G B Opacity\n",
    "\n",
    "# use pink for takeoff by setting the first ~10% of trajectory to use the color pink\n",
    "newcolors[:10, :] = pink \n",
    "render_trajectories(three_trajectories, color_map = matplotlib.colors.ListedColormap(newcolors))"
   ]
  },
  {
   "cell_type": "markdown",
   "id": "474b2c4b",
   "metadata": {},
   "source": [
    "### Controlling Trajectory Color\n",
    "\n",
    "To select the feature that will be used for trajectory color, create a *trajectory scalar generator*: a function that takes a single argument (a `TrajectoryPoint`) and returns some quantity of interest such as heading, speed, altitude, climb rate, or any other number you might want to display as a color.  \n",
    "\n",
    "Pass the scalar generator to `render_trajectories()` with the `trajectory_scalar_generator=my_scalar_function` keyword argument.  You will probably also want to set minimum and maximum values for the scalar using the `color_scale` argument as demonstrated below.\n"
   ]
  },
  {
   "cell_type": "code",
   "execution_count": null,
   "id": "b3dce29b",
   "metadata": {},
   "outputs": [],
   "source": [
    "# This example uses the heading (bearing) from one point to the next\n",
    "# as the trajectory color.  You could also use vmin=0, vmax=359 if\n",
    "# your trajectories use the entire possible range of headings.\n",
    "#\n",
    "# The Tracktable function bearing() returns headings in the range \n",
    "# [0, 359] rather than [-180, 180].\n",
    "\n",
    "from tracktable.core.geomath import bearing\n",
    "\n",
    "def heading_generator(trajectory):\n",
    "    # calculate bearing of each linear segment of the trajectory\n",
    "    return [bearing(trajectory[i], trajectory[i+1]) for i in range(len(trajectory)-1)]\n",
    "\n",
    "render_trajectories(three_trajectories,\n",
    "                    trajectory_scalar_generator=heading_generator,\n",
    "                    color_scale=matplotlib.colors.Normalize(vmin=36, vmax=349))"
   ]
  },
  {
   "cell_type": "markdown",
   "id": "92cdb65e",
   "metadata": {},
   "source": [
    "### Controlling Trajectory Line Width\n",
    "\n",
    "You can control trajectory line width in the same way.  Create a function that takes a `TrajectoryPoint` as its single argument and returns a number to be used as the trajectory's width.  Pass that function to `render_trajectories()` with the `trajectory_linewidth_generator=my_width_function` keyword argument.\n",
    "\n",
    "In the example below we will use a built-in method that will widen the line as the trajectory progresses so that it is narrowest at its oldest point and widest at its newest point.\n"
   ]
  },
  {
   "cell_type": "code",
   "execution_count": null,
   "id": "bdd3f569",
   "metadata": {},
   "outputs": [],
   "source": [
    "from tracktable.render.map_processing.common_processing import progress_linewidth_generator\n",
    "\n",
    "render_trajectories(trajectory, trajectory_linewidth_generator=progress_linewidth_generator)"
   ]
  },
  {
   "cell_type": "markdown",
   "id": "350323a1",
   "metadata": {},
   "source": [
    "### Overriding Random Color Selection\n",
    "\n",
    "You can render many trajectories in a single color by providing the `gradient_hue` keyword argument.  Its value can be a color name, an RGB hex string, or a float from 0 to 1."
   ]
  },
  {
   "cell_type": "code",
   "execution_count": null,
   "id": "f5f882bf",
   "metadata": {},
   "outputs": [],
   "source": [
    "render_trajectories(three_trajectories, gradient_hue=0.2)"
   ]
  },
  {
   "cell_type": "markdown",
   "id": "3e2de1d5",
   "metadata": {},
   "source": [
    "### Different trajectories in different colors\n",
    "\n",
    "The `line_color`, `color_map`, and `gradient_hue` arguments all take lists as well as single values.  The renderer will repeat the list if there are more trajectories than list elements.\n"
   ]
  },
  {
   "cell_type": "code",
   "execution_count": null,
   "id": "8f92dc2a",
   "metadata": {},
   "outputs": [],
   "source": [
    "render_trajectories(three_trajectories, line_color=['red', 'blue', 'green'])"
   ]
  },
  {
   "cell_type": "code",
   "execution_count": null,
   "id": "2e57f60f",
   "metadata": {},
   "outputs": [],
   "source": [
    "render_trajectories(three_trajectories, color_map=['plasma', 'viridis', 'gray'])"
   ]
  },
  {
   "cell_type": "code",
   "execution_count": null,
   "id": "70c9f72b",
   "metadata": {},
   "outputs": [],
   "source": [
    "render_trajectories(three_trajectories, gradient_hue=[0.1, 0.5, 0.9])"
   ]
  },
  {
   "cell_type": "markdown",
   "id": "b327cc35",
   "metadata": {},
   "source": [
    "### Rendering Trajectory Points"
   ]
  },
  {
   "cell_type": "markdown",
   "id": "04a51191",
   "metadata": {},
   "source": [
    "So far, we have only rendered the lines for the trajectories plus a white dot at the newest end of the trajectory.  We can also render the locations of the trajectory points along the way by passing `show_points=True` to `render_trajectories()`."
   ]
  },
  {
   "cell_type": "code",
   "execution_count": null,
   "id": "ff6cf951",
   "metadata": {},
   "outputs": [],
   "source": [
    "render_trajectories(trajectory, show_points=True)"
   ]
  },
  {
   "cell_type": "markdown",
   "id": "74338201",
   "metadata": {},
   "source": [
    "The color and size of the dots at the trajectory points can be changed with the `point_color` and `point_size` keyword arguments.\n"
   ]
  },
  {
   "cell_type": "code",
   "execution_count": null,
   "id": "1a2b732f",
   "metadata": {},
   "outputs": [],
   "source": [
    "render_trajectories(trajectory, show_points=True, point_color='red', point_size=3)"
   ]
  },
  {
   "cell_type": "markdown",
   "id": "f10dd974",
   "metadata": {},
   "source": [
    "The `dot_size` and `dot_color` keyword arguments affect only the head of the trajectory (the most recent point rendered)."
   ]
  },
  {
   "cell_type": "code",
   "execution_count": null,
   "id": "431e1767",
   "metadata": {},
   "outputs": [],
   "source": [
    "render_trajectories(trajectory, show_points=True, dot_color='red', dot_size=3)"
   ]
  },
  {
   "cell_type": "markdown",
   "id": "48826a08",
   "metadata": {},
   "source": [
    "We can turn off the dot at the end of the trajectory with the `show_dot` parameter."
   ]
  },
  {
   "cell_type": "code",
   "execution_count": null,
   "id": "00aaccff",
   "metadata": {},
   "outputs": [],
   "source": [
    "render_trajectories(trajectory, show_dot=False)"
   ]
  },
  {
   "cell_type": "markdown",
   "id": "d72e9159",
   "metadata": {},
   "source": [
    "To see a trajectory point's properties in a popup when a trajectory point is clicked, send a list of the desired properties to `point_popup_properties`."
   ]
  },
  {
   "cell_type": "code",
   "execution_count": null,
   "id": "f5d24f27",
   "metadata": {},
   "outputs": [],
   "source": [
    "render_trajectories(trajectory, show_points=True, point_popup_properties = ['eta', 'heading'])"
   ]
  },
  {
   "cell_type": "markdown",
   "id": "b2b04c47",
   "metadata": {},
   "source": [
    "### Exporting Renderings"
   ]
  },
  {
   "cell_type": "markdown",
   "id": "cd917ea9",
   "metadata": {},
   "source": [
    "If you come across a rendering you really like, you can save the trajectories as an `html` file (default filename is `trajs-timestamprange.html`)."
   ]
  },
  {
   "cell_type": "code",
   "execution_count": null,
   "id": "a4e72016",
   "metadata": {},
   "outputs": [],
   "source": [
    "render_trajectories(fifteen_trajectories, save=True, filename='my_favorite_trajectories.html')"
   ]
  },
  {
   "cell_type": "markdown",
   "id": "422c1049",
   "metadata": {},
   "source": [
    "<span style=\"color:gray\">$^1$ Bureau of Ocean Energy Management (BOEM) and National Oceanic and Atmospheric Administration (NOAA). MarineCadastre.gov. *AIS Data for 2020.* Retrieved February 2021 from [marinecadastre.gov/data](https://marinecadastre.gov/data/).  Trimmed down to the first hour of June 30, 2020, restricted to in NY Harbor.</span>"
   ]
  }
 ],
 "metadata": {
  "interpreter": {
   "hash": "31f2aee4e71d21fbe5cf8b01ff0e069b9275f58929596ceb00d14d90e3e16cd6"
  },
  "kernelspec": {
   "display_name": "Python 3 (ipykernel)",
   "language": "python",
   "name": "python3"
  },
  "language_info": {
   "codemirror_mode": {
    "name": "ipython",
    "version": 3
   },
   "file_extension": ".py",
   "mimetype": "text/x-python",
   "name": "python",
   "nbconvert_exporter": "python",
   "pygments_lexer": "ipython3",
   "version": "3.12.0"
  }
 },
 "nbformat": 4,
 "nbformat_minor": 5
}
