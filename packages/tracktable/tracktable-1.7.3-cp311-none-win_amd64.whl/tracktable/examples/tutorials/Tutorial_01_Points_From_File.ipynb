{
 "cells": [
  {
   "cell_type": "markdown",
   "id": "a3ae5787",
   "metadata": {
    "nbsphinx": "hidden"
   },
   "source": [
    "<span style=\"color:#888888\">Copyright (c) 2014-2025 National Technology and Engineering Solutions of Sandia, LLC. Under the terms of Contract DE-NA0003525 with National Technology and Engineering Solutions of Sandia, LLC, the U.S. Government retains certain rights in this software.     Redistribution and use in source and binary forms, with or without modification, are permitted provided that the following conditions are met:</span>\n",
    "\n",
    "<span style=\"color:#888888\">1. Redistributions of source code must retain the above copyright notice, this list of conditions and the following disclaimer.</span>\n",
    "\n",
    "<span style=\"color:#888888\">2. Redistributions in binary form must reproduce the above copyright notice, this list of conditions and the following disclaimer in the documentation and/or other materials provided with the distribution.</span>\n",
    "\n",
    "<span style=\"color:#888888\">THIS SOFTWARE IS PROVIDED BY THE COPYRIGHT HOLDERS AND CONTRIBUTORS \"AS IS\" AND ANY EXPRESS OR IMPLIED WARRANTIES, INCLUDING, BUT NOT LIMITED TO, THE IMPLIED WARRANTIES OF MERCHANTABILITY AND FITNESS FOR A PARTICULAR PURPOSE ARE DISCLAIMED. IN NO EVENT SHALL THE COPYRIGHT HOLDER OR CONTRIBUTORS BE LIABLE FOR ANY DIRECT, INDIRECT, INCIDENTAL, SPECIAL, EXEMPLARY, OR CONSEQUENTIAL DAMAGES (INCLUDING, BUT NOT LIMITED TO, PROCUREMENT OF SUBSTITUTE GOODS OR SERVICES; LOSS OF USE, DATA, OR PROFITS; OR BUSINESS INTERRUPTION) HOWEVER CAUSED AND ON ANY THEORY OF LIABILITY, WHETHER IN CONTRACT, STRICT LIABILITY, OR TORT (INCLUDING NEGLIGENCE OR OTHERWISE) ARISING IN ANY WAY OUT OF THE USE OF THIS SOFTWARE, EVEN IF ADVISED OF THE POSSIBILITY OF SUCH DAMAGE.</span>"
   ]
  },
  {
   "cell_type": "markdown",
   "id": "c03a608a",
   "metadata": {},
   "source": [
    "# <span style=\"color:#0054a8\">**Tutorial 1:**</span> <span style=\"color:#555555\">How to Create Trajectory Points from a Delimited File</span>"
   ]
  },
  {
   "cell_type": "markdown",
   "id": "795cafc2",
   "metadata": {},
   "source": [
    "## Purpose\n",
    "\n",
    "This notebook demonstrates how to create Tracktable Trajectory Point objects from a delimited text file (comma-separated, tab-separated, et cetera).  A data file must contain the following columns in order to be compatible with Tracktable:\n",
    "\n",
    "* **<span style=\"color:#00add0\">an identifier</span>** that is unique to each object\n",
    "* **<span style=\"color:#00add0\">a timestamp</span>**\n",
    "* **<span style=\"color:#00add0\">longitude</span>**\n",
    "* **<span style=\"color:#00add0\">latitude</span>**\n",
    "\n",
    "Both ordering and headers for these columns can vary, but they must exist in the file.  Each row of the data file should represent the information for a single trajectory point.  \n",
    "\n",
    "**<span style=\"color:#81062e\">IMPORTANT:</span>** delimited files must be **sorted by timestamp in increasing order** to be compatible with Tracktable.\n",
    "\n",
    "*Note:* This notebook does not cover how to create a Trajectory object (as opposed to a list of Trajectory point objects).  Please see [Tutorial 2](Tutorial_02_Points_From_File.ipynb) for an example of how to create Trajectory objects from a csv file containing trajectory point information."
   ]
  },
  {
   "cell_type": "markdown",
   "id": "262123e7",
   "metadata": {},
   "source": [
    "## Step 1: Identify your CSV/TSV File\n",
    "\n",
    "We will use the provided example data $^1$ for this tutorial.  If you are using another filename, `data_filename` should be set to the string containing the path to your csv file."
   ]
  },
  {
   "cell_type": "code",
   "execution_count": null,
   "id": "7f67f61d",
   "metadata": {},
   "outputs": [],
   "source": [
    "from tracktable_data.data import retrieve\n",
    "\n",
    "data_filename = retrieve(filename='NYHarbor_2020_06_30_first_hour.csv')"
   ]
  },
  {
   "cell_type": "markdown",
   "id": "0a77d27b",
   "metadata": {},
   "source": [
    "## Step 2: Create a TrajectoryPointReader object."
   ]
  },
  {
   "cell_type": "markdown",
   "id": "b2f60d05",
   "metadata": {},
   "source": [
    "We will create a Terrestrial point reader, which will expect **(longitude, latitude)** coordinates.  Alternatively, if our data points were in a Cartesian coordinate system, we would import the `TrajectoryPointReader` object from `tracktable.domain.cartesian2d` or `tracktable.domain.cartesian3d`."
   ]
  },
  {
   "cell_type": "code",
   "execution_count": null,
   "id": "09dd5dd6",
   "metadata": {},
   "outputs": [],
   "source": [
    "from tracktable.domain.terrestrial import TrajectoryPointReader\n",
    "\n",
    "reader = TrajectoryPointReader()"
   ]
  },
  {
   "cell_type": "markdown",
   "id": "c454675d",
   "metadata": {},
   "source": [
    "## Step 3: Give the TrajectoryPointReader an input source."
   ]
  },
  {
   "cell_type": "markdown",
   "id": "5ca76f9d",
   "metadata": {},
   "source": [
    "This must be a Python file-like object.  Files opened with `open()` are the most common use case."
   ]
  },
  {
   "cell_type": "code",
   "execution_count": null,
   "id": "82dcd4b5",
   "metadata": {},
   "outputs": [],
   "source": [
    "reader.input = open(data_filename, 'r')"
   ]
  },
  {
   "cell_type": "markdown",
   "id": "ae19a68b",
   "metadata": {},
   "source": [
    "### <span style=\"color:#0f0f0f\">*Additional Settings*</span>"
   ]
  },
  {
   "cell_type": "markdown",
   "id": "5d18edc2",
   "metadata": {},
   "source": [
    "Identify the comment character for the data file.  Any lines with this as the first non-whitespace character will be ignored.  This is optional and defaulted to `#`."
   ]
  },
  {
   "cell_type": "code",
   "execution_count": null,
   "id": "a31fd3da",
   "metadata": {},
   "outputs": [],
   "source": [
    "reader.comment_character = '#'"
   ]
  },
  {
   "cell_type": "markdown",
   "id": "6b87a07c",
   "metadata": {},
   "source": [
    "Identify the file's delimiter.  For comma-separated (CSV) files, the delimiter should be set to `,`.  For tab-separated files, this should be `\\t`.  This is optional, and the default value is `,`.  If your field delimiter is some other character, substitute it here."
   ]
  },
  {
   "cell_type": "code",
   "execution_count": null,
   "id": "629fcdfa",
   "metadata": {},
   "outputs": [],
   "source": [
    "reader.field_delimiter = ','"
   ]
  },
  {
   "cell_type": "markdown",
   "id": "913102c0",
   "metadata": {},
   "source": [
    "Identify the string associated with a null value in a cell.  This is optional and defaults to an empty string."
   ]
  },
  {
   "cell_type": "code",
   "execution_count": null,
   "id": "8e8b1fdd",
   "metadata": {},
   "outputs": [],
   "source": [
    "reader.null_value = 'NaN'"
   ]
  },
  {
   "cell_type": "markdown",
   "id": "fa46fbe9",
   "metadata": {},
   "source": [
    "### <span style=\"color:#0f0f0f\">*Required Columns*</span>"
   ]
  },
  {
   "cell_type": "markdown",
   "id": "0a1d14eb",
   "metadata": {},
   "source": [
    "We must tell the reader where to find the **<span style=\"color:#00add0\">unique object ID</span>**, **<span style=\"color:#00add0\">timestamp</span>**, **<span style=\"color:#00add0\">longitude</span>** and **<span style=\"color:#00add0\">latitude</span>** columns.  Column numbering starts at zero.\n",
    "\n",
    "If no column numbers are given, the reader will assume they are in the order listed above: object ID in column 0, timestamp in column 1, longitude in column 2, latitude in column 3.  \n",
    "\n",
    "**Note**: Tracktable stores geodetic (terrestrial) coordinates with the longitude first and latitude second.\n"
   ]
  },
  {
   "cell_type": "code",
   "execution_count": null,
   "id": "2587be6b",
   "metadata": {},
   "outputs": [],
   "source": [
    "reader.object_id_column = 3\n",
    "reader.timestamp_column = 0\n",
    "reader.coordinates[0] = 1     # longitude\n",
    "reader.coordinates[1] = 2     # latitude"
   ]
  },
  {
   "cell_type": "markdown",
   "id": "d940e5d5",
   "metadata": {},
   "source": [
    "### <span style=\"color:#0f0f0f\">*Optional Columns*</span>"
   ]
  },
  {
   "cell_type": "markdown",
   "id": "295523a2",
   "metadata": {},
   "source": [
    "Your data file may contain additional information (e.g. speed, heading, altitude, etc.) that you wish to store with your trajectory points.  These can be stored as either floats, strings or datetime objects.  An example of each is shown below, respectively."
   ]
  },
  {
   "cell_type": "code",
   "execution_count": null,
   "id": "68bbd40d",
   "metadata": {},
   "outputs": [],
   "source": [
    "reader.set_real_field_column('heading', 6)\n",
    "reader.set_string_field_column('vessel-name', 7)\n",
    "reader.set_time_field_column('eta', 17)"
   ]
  },
  {
   "cell_type": "markdown",
   "id": "d8532c8d",
   "metadata": {},
   "source": [
    "## Step 4: Convert the Reader to a List of Trajectory Points\n",
    "\n",
    "`TrajectoryPointReader` functions as an iterable of points.  Once an instance has been configured with an input source and a list of fields.  \n",
    "\n",
    "The sometimes-inconvenient thing about iterables is that they can only be traversed once.  Here we store all the points in a list so that we can access them at will."
   ]
  },
  {
   "cell_type": "code",
   "execution_count": null,
   "id": "4658b93e",
   "metadata": {},
   "outputs": [],
   "source": [
    "trajectory_points = list(reader)"
   ]
  },
  {
   "cell_type": "markdown",
   "id": "754741e3",
   "metadata": {},
   "source": [
    "How many trajectory points do we have?"
   ]
  },
  {
   "cell_type": "code",
   "execution_count": null,
   "id": "a452db54",
   "metadata": {},
   "outputs": [],
   "source": [
    "len(trajectory_points)"
   ]
  },
  {
   "cell_type": "markdown",
   "id": "d0e83118",
   "metadata": {},
   "source": [
    "## Step 5: Accessing Trajectory Point Info"
   ]
  },
  {
   "cell_type": "markdown",
   "id": "5dd1cab9",
   "metadata": {},
   "source": [
    "The information from the required columns of the csv can be accessed for a single `TrajectoryPoint` object as\n",
    "\n",
    "* **<span style=\"color:#00add0\">unique object identifier:</span>** `trajectory_point.object_id`\n",
    "* **<span style=\"color:#00add0\">timestamp:</span>** `trajectory_point.timestamp`\n",
    "* **<span style=\"color:#00add0\">longitude:</span>** `trajectory_point[0]`\n",
    "* **<span style=\"color:#00add0\">latitude:</span>** `trajectory_point[1]`\n",
    "\n",
    "The optional column information is available through the member variable `properties` as follows: `trajectory_point.properties['what-you-named-it']`.\n",
    "\n",
    "This is demonstrated below for our first ten trajectory points."
   ]
  },
  {
   "cell_type": "code",
   "execution_count": null,
   "id": "a7d3d64e",
   "metadata": {},
   "outputs": [],
   "source": [
    "for traj_point in trajectory_points[:10]:\n",
    "    object_id    = traj_point.object_id\n",
    "    timestamp    = traj_point.timestamp\n",
    "    longitude    = traj_point[0]\n",
    "    latitude     = traj_point[1]\n",
    "    heading      = traj_point.properties[\"heading\"]\n",
    "    vessel_name  = traj_point.properties[\"vessel-name\"]\n",
    "    eta          = traj_point.properties[\"eta\"]\n",
    "    \n",
    "    print(f'Unique ID: {object_id}')\n",
    "    print(f'Timestamp: {timestamp}')\n",
    "    print(f'Longitude: {longitude}')\n",
    "    print(f'Latitude: {latitude}')\n",
    "    print(f'Heading: {heading}')\n",
    "    print(f'Vessel Name: {vessel_name}')\n",
    "    print(f'ETA: {eta}\\n')"
   ]
  },
  {
   "cell_type": "markdown",
   "id": "52af69c3",
   "metadata": {},
   "source": [
    "<span style=\"color:gray\">$^1$ Bureau of Ocean Energy Management (BOEM) and National Oceanic and Atmospheric Administration (NOAA). MarineCadastre.gov. *AIS Data for 2020.* Retrieved February 2021 from [marinecadastre.gov/data](https://marinecadastre.gov/data/).  Trimmed down to the first hour of June 30, 2020, restricted to in NY Harbor.</span>"
   ]
  }
 ],
 "metadata": {
  "interpreter": {
   "hash": "31f2aee4e71d21fbe5cf8b01ff0e069b9275f58929596ceb00d14d90e3e16cd6"
  },
  "kernelspec": {
   "display_name": "Python 3 (ipykernel)",
   "language": "python",
   "name": "python3"
  },
  "language_info": {
   "codemirror_mode": {
    "name": "ipython",
    "version": 3
   },
   "file_extension": ".py",
   "mimetype": "text/x-python",
   "name": "python",
   "nbconvert_exporter": "python",
   "pygments_lexer": "ipython3",
   "version": "3.12.0"
  }
 },
 "nbformat": 4,
 "nbformat_minor": 5
}
