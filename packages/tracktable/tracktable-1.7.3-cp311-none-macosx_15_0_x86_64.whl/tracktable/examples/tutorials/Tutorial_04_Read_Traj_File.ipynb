{
 "cells": [
  {
   "cell_type": "markdown",
   "id": "a769901e",
   "metadata": {
    "nbsphinx": "hidden"
   },
   "source": [
    "<span style=\"color:#888888\">Copyright (c) 2014-2025 National Technology and Engineering Solutions of Sandia, LLC. Under the terms of Contract DE-NA0003525 with National Technology and Engineering Solutions of Sandia, LLC, the U.S. Government retains certain rights in this software.     Redistribution and use in source and binary forms, with or without modification, are permitted provided that the following conditions are met:</span>\n",
    "\n",
    "<span style=\"color:#888888\">1. Redistributions of source code must retain the above copyright notice, this list of conditions and the following disclaimer.</span>\n",
    "\n",
    "<span style=\"color:#888888\">2. Redistributions in binary form must reproduce the above copyright notice, this list of conditions and the following disclaimer in the documentation and/or other materials provided with the distribution.</span>\n",
    "\n",
    "<span style=\"color:#888888\">THIS SOFTWARE IS PROVIDED BY THE COPYRIGHT HOLDERS AND CONTRIBUTORS \"AS IS\" AND ANY EXPRESS OR IMPLIED WARRANTIES, INCLUDING, BUT NOT LIMITED TO, THE IMPLIED WARRANTIES OF MERCHANTABILITY AND FITNESS FOR A PARTICULAR PURPOSE ARE DISCLAIMED. IN NO EVENT SHALL THE COPYRIGHT HOLDER OR CONTRIBUTORS BE LIABLE FOR ANY DIRECT, INDIRECT, INCIDENTAL, SPECIAL, EXEMPLARY, OR CONSEQUENTIAL DAMAGES (INCLUDING, BUT NOT LIMITED TO, PROCUREMENT OF SUBSTITUTE GOODS OR SERVICES; LOSS OF USE, DATA, OR PROFITS; OR BUSINESS INTERRUPTION) HOWEVER CAUSED AND ON ANY THEORY OF LIABILITY, WHETHER IN CONTRACT, STRICT LIABILITY, OR TORT (INCLUDING NEGLIGENCE OR OTHERWISE) ARISING IN ANY WAY OUT OF THE USE OF THIS SOFTWARE, EVEN IF ADVISED OF THE POSSIBILITY OF SUCH DAMAGE.</span>"
   ]
  },
  {
   "cell_type": "markdown",
   "id": "8d038fff",
   "metadata": {},
   "source": [
    "# <span style=\"color:#0054a8\">**Tutorial 4:**</span> <span style=\"color:#555555\">How to Read .traj Files</span>"
   ]
  },
  {
   "cell_type": "markdown",
   "id": "92fefa70",
   "metadata": {},
   "source": [
    "## Purpose\n",
    "\n",
    "This notebook demonstrates how to read a .traj file with Tracktable.  Traj files are often used to store trajectories, as Tracktable is able to read them more quickly than delimited files.  To learn how to create a .traj file, see See [Tutorial 3](Tutorial_03_Write_Trajectories_To_File.ipynb)."
   ]
  },
  {
   "cell_type": "markdown",
   "id": "75712a32",
   "metadata": {},
   "source": [
    "## Step 1: Start with a .traj file.\n",
    "\n",
    "We will use the provided example data $^1$ for this tutorial, which has already been compressed into a .traj file for us."
   ]
  },
  {
   "cell_type": "code",
   "execution_count": null,
   "id": "3e5f8c2d",
   "metadata": {},
   "outputs": [],
   "source": [
    "from tracktable_data.data import retrieve\n",
    "\n",
    "traj_filename = retrieve(filename='NYHarbor_2020_06_30_first_hour.traj')"
   ]
  },
  {
   "cell_type": "markdown",
   "id": "3cc8b5e4",
   "metadata": {},
   "source": [
    "## Step 2: Read trajectories from a file.\n",
    "\n",
    "We will use the provided example data $^1$ for this tutorial.  As with the point reader and trajectory builder, the `.traj` file reader provides its output as an iterable.  We pull the contents of that iterable into a list for our convenience."
   ]
  },
  {
   "cell_type": "code",
   "execution_count": null,
   "id": "5ad1f9c8",
   "metadata": {},
   "outputs": [],
   "source": [
    "from tracktable.domain.terrestrial import TrajectoryReader\n",
    "\n",
    "with open(traj_filename, 'r') as traj_file:\n",
    "    # create a Tracktable TrajectoryReader object\n",
    "    reader = TrajectoryReader()\n",
    "    # tell it where to find the traj file\n",
    "    reader.input = traj_file\n",
    "    # import the list of trajectories\n",
    "    trajectories = list(reader)"
   ]
  },
  {
   "cell_type": "markdown",
   "id": "d76d64d3",
   "metadata": {},
   "source": [
    "## Did it work?\n",
    "\n",
    "Let's print the number of trajectories, and the info for the first trajectory in our list, just to be sure."
   ]
  },
  {
   "cell_type": "code",
   "execution_count": null,
   "id": "ab8688a8",
   "metadata": {},
   "outputs": [],
   "source": [
    "len(trajectories)"
   ]
  },
  {
   "cell_type": "code",
   "execution_count": null,
   "id": "008081c8",
   "metadata": {},
   "outputs": [],
   "source": [
    "trajectory = trajectories[0]\n",
    "\n",
    "object_id      = trajectory.object_id\n",
    "trajectory_id  = trajectory.trajectory_id\n",
    "\n",
    "print(f'Object ID: {object_id}')\n",
    "print(f'Trajectory ID: {trajectory_id}\\n')"
   ]
  },
  {
   "cell_type": "markdown",
   "id": "3deee087",
   "metadata": {},
   "source": [
    "<span style=\"color:gray\">$^1$ Bureau of Ocean Energy Management (BOEM) and National Oceanic and Atmospheric Administration (NOAA). MarineCadastre.gov. *AIS Data for 2020.* Retrieved February 2021 from [marinecadastre.gov/data](https://marinecadastre.gov/data/).  Trimmed down to the first hour of June 30, 2020, restricted to in NY Harbor.</span>"
   ]
  }
 ],
 "metadata": {
  "interpreter": {
   "hash": "31f2aee4e71d21fbe5cf8b01ff0e069b9275f58929596ceb00d14d90e3e16cd6"
  },
  "kernelspec": {
   "display_name": "Python 3 (ipykernel)",
   "language": "python",
   "name": "python3"
  },
  "language_info": {
   "codemirror_mode": {
    "name": "ipython",
    "version": 3
   },
   "file_extension": ".py",
   "mimetype": "text/x-python",
   "name": "python",
   "nbconvert_exporter": "python",
   "pygments_lexer": "ipython3",
   "version": "3.12.0"
  }
 },
 "nbformat": 4,
 "nbformat_minor": 5
}
