{
 "cells": [
  {
   "cell_type": "markdown",
   "id": "0905ebb6",
   "metadata": {
    "nbsphinx": "hidden"
   },
   "source": [
    "<span style=\"color:#888888\">Copyright (c) 2014-2025 National Technology and Engineering Solutions of Sandia, LLC. Under the terms of Contract DE-NA0003525 with National Technology and Engineering Solutions of Sandia, LLC, the U.S. Government retains certain rights in this software.     Redistribution and use in source and binary forms, with or without modification, are permitted provided that the following conditions are met:</span>\n",
    "\n",
    "<span style=\"color:#888888\">1. Redistributions of source code must retain the above copyright notice, this list of conditions and the following disclaimer.</span>\n",
    "\n",
    "<span style=\"color:#888888\">2. Redistributions in binary form must reproduce the above copyright notice, this list of conditions and the following disclaimer in the documentation and/or other materials provided with the distribution.</span>\n",
    "\n",
    "<span style=\"color:#888888\">THIS SOFTWARE IS PROVIDED BY THE COPYRIGHT HOLDERS AND CONTRIBUTORS \"AS IS\" AND ANY EXPRESS OR IMPLIED WARRANTIES, INCLUDING, BUT NOT LIMITED TO, THE IMPLIED WARRANTIES OF MERCHANTABILITY AND FITNESS FOR A PARTICULAR PURPOSE ARE DISCLAIMED. IN NO EVENT SHALL THE COPYRIGHT HOLDER OR CONTRIBUTORS BE LIABLE FOR ANY DIRECT, INDIRECT, INCIDENTAL, SPECIAL, EXEMPLARY, OR CONSEQUENTIAL DAMAGES (INCLUDING, BUT NOT LIMITED TO, PROCUREMENT OF SUBSTITUTE GOODS OR SERVICES; LOSS OF USE, DATA, OR PROFITS; OR BUSINESS INTERRUPTION) HOWEVER CAUSED AND ON ANY THEORY OF LIABILITY, WHETHER IN CONTRACT, STRICT LIABILITY, OR TORT (INCLUDING NEGLIGENCE OR OTHERWISE) ARISING IN ANY WAY OUT OF THE USE OF THIS SOFTWARE, EVEN IF ADVISED OF THE POSSIBILITY OF SUCH DAMAGE.</span>"
   ]
  },
  {
   "cell_type": "markdown",
   "id": "8b2ed3e4",
   "metadata": {},
   "source": [
    "# <span style=\"color:#0054a8\">**Tutorial 2:**</span> <span style=\"color:#555555\">How to Create Trajectories from a Delimited File</span>"
   ]
  },
  {
   "cell_type": "code",
   "execution_count": null,
   "id": "14d5adb1",
   "metadata": {},
   "outputs": [],
   "source": [
    "import tracktable.examples.tutorials.tutorial_helper as tutorial "
   ]
  },
  {
   "cell_type": "markdown",
   "id": "9239891d",
   "metadata": {},
   "source": [
    "## Purpose\n",
    "\n",
    "This notebook demonstrates how to create Tracktable trajectories from points stored in a delimited text (CSV, TSV, etc.) data file.  A data file must contain the following columns in order to be compatible with Tracktable:\n",
    "\n",
    "* **<span style=\"color:#00add0\">an identifier</span>** that is unique to each object\n",
    "* **<span style=\"color:#00add0\">a timestamp</span>**\n",
    "* **<span style=\"color:#00add0\">longitude</span>**\n",
    "* **<span style=\"color:#00add0\">latitude</span>**\n",
    "\n",
    "Both ordering and headers for these columns can vary, but they must exist in the file.  Each row of the data file should represent the information for a single trajectory point.\n",
    "\n",
    "**<span style=\"color:#81062e\">IMPORTANT:</span>** delimited files must be **sorted in increasing order by timestamp** to be compatible with Tracktable.\n",
    "\n",
    "*Note:* If you want to create individual `TrajectoryPoint` objects but not assemble them into `Trajectory` objects, please see [Tutorial 1](Tutorial_01_Points_From_File.ipynb)."
   ]
  },
  {
   "cell_type": "markdown",
   "id": "1e116ee2",
   "metadata": {},
   "source": [
    "## Step 1: Set up a TrajectoryPointReader object.\n",
    "\n",
    "We will use the provided example data $^1$ for this tutorial.  We'll re-use the code from [Tutorial 1](Tutorial_01_Points_From_File.ipynb) to create a `TrajectoryPointReader` object."
   ]
  },
  {
   "cell_type": "code",
   "execution_count": null,
   "id": "d0322030",
   "metadata": {},
   "outputs": [],
   "source": [
    "reader = tutorial.create_point_reader()"
   ]
  },
  {
   "cell_type": "markdown",
   "id": "274c9dfb",
   "metadata": {},
   "source": [
    "## Step 2: Create an AssembleTrajectoryFromPoints object."
   ]
  },
  {
   "cell_type": "markdown",
   "id": "e1efc847",
   "metadata": {},
   "source": [
    "This will build trajectories from the individual points."
   ]
  },
  {
   "cell_type": "code",
   "execution_count": null,
   "id": "d1eefae6",
   "metadata": {},
   "outputs": [],
   "source": [
    "from tracktable.applications.assemble_trajectories import AssembleTrajectoryFromPoints\n",
    "\n",
    "builder = AssembleTrajectoryFromPoints()"
   ]
  },
  {
   "cell_type": "markdown",
   "id": "4865ffcf",
   "metadata": {},
   "source": [
    "The builder expects an iterable of points as its input.  As we saw in [Tutorial 1](Tutorial_01_Points_From_File.ipynb), the reader provides that iterable."
   ]
  },
  {
   "cell_type": "code",
   "execution_count": null,
   "id": "e9ac65b5",
   "metadata": {},
   "outputs": [],
   "source": [
    "builder.input = reader"
   ]
  },
  {
   "cell_type": "markdown",
   "id": "362e8491",
   "metadata": {},
   "source": [
    "### *Identifying New Trajectories*\n",
    "\n",
    "The trajectory assembler turns points into trajectories by grouping them according to their object ID.  It has three additional parameters.  *Separation time* and *separation distance* control whether two points with the same object ID belong to the same trajectory.  The *minimum point count* controls whether or not to discard too-short trajectories.\n",
    "\n"
   ]
  },
  {
   "cell_type": "markdown",
   "id": "6d880bc4",
   "metadata": {},
   "source": [
    "*Separation Distance*: How far apart (in km) should sequential points (with the same object ID) have to be before we consider them separate trajectories?  This parameter is optional and defaults to `None`, which disables the separation distance check."
   ]
  },
  {
   "cell_type": "code",
   "execution_count": null,
   "id": "203ba239",
   "metadata": {},
   "outputs": [],
   "source": [
    "builder.separation_distance = 10 # km"
   ]
  },
  {
   "cell_type": "markdown",
   "id": "334a8dfe",
   "metadata": {},
   "source": [
    "*Separation Time*: How far apart (in time) should sequential points (with the same object ID) have to be before we consider them separate trajectories?  This parameter is optional and defaults to 30 minutes.  Setting it to `None` disables the separation time check."
   ]
  },
  {
   "cell_type": "code",
   "execution_count": null,
   "id": "972c8e3c",
   "metadata": {},
   "outputs": [],
   "source": [
    "from datetime import timedelta\n",
    "\n",
    "builder.separation_time = timedelta(minutes = 20)"
   ]
  },
  {
   "cell_type": "markdown",
   "id": "29da310e",
   "metadata": {},
   "source": [
    "*Minimum Point Count*: What is the minimum number of points that a trajectory must have?  Any trajectories assembled with fewer than this number will be discarded.  This parameter is optional and defaults to 2 points.  Setting it to 0 or `None` disables the minimum length check."
   ]
  },
  {
   "cell_type": "code",
   "execution_count": null,
   "id": "06c13d77",
   "metadata": {},
   "outputs": [],
   "source": [
    "builder.minimum_length = 5 # points"
   ]
  },
  {
   "cell_type": "markdown",
   "id": "084e8d4b",
   "metadata": {},
   "source": [
    "## Step 3: Assemble Trajectories from Point Data\n",
    "\n",
    "Like the point reader, the trajectory builder provides its output as an iterable.  We pull the contents of that iterable into a list so that we can access it at our convenience."
   ]
  },
  {
   "cell_type": "code",
   "execution_count": null,
   "id": "aa907490",
   "metadata": {},
   "outputs": [],
   "source": [
    "trajectories = list(builder)"
   ]
  },
  {
   "cell_type": "markdown",
   "id": "ed493f59",
   "metadata": {},
   "source": [
    "How many trajectories do we have?"
   ]
  },
  {
   "cell_type": "code",
   "execution_count": null,
   "id": "5872c776",
   "metadata": {},
   "outputs": [],
   "source": [
    "len(trajectories)"
   ]
  },
  {
   "cell_type": "markdown",
   "id": "cd3f7a76",
   "metadata": {},
   "source": [
    "## Step 4: Accessing Trajectory Information"
   ]
  },
  {
   "cell_type": "markdown",
   "id": "1fd6e988",
   "metadata": {},
   "source": [
    "For each `trajectory`, we can access the following information:\n",
    "\n",
    "* `trajectory.object_id`: a string identifier that is unique to each moving object.  It is possible (and common, in some data sets) for multiple trajectories to share a single object ID.\n",
    "* `trajectory.trajectory_id`: a string identifier that is mostly-unique to each trajectory, created by concatenating the object ID, start timestamp and end timestamp together\n",
    "\n",
    "This is demonstrated below for our first ten trajectories."
   ]
  },
  {
   "cell_type": "code",
   "execution_count": null,
   "id": "b9f07177",
   "metadata": {},
   "outputs": [],
   "source": [
    "for trajectory in trajectories[:10]:\n",
    "    object_id      = trajectory.object_id\n",
    "    trajectory_id  = trajectory.trajectory_id\n",
    "    \n",
    "    print(f'Object ID: {object_id}')\n",
    "    print(f'Trajectory ID: {trajectory_id}\\n')"
   ]
  },
  {
   "cell_type": "markdown",
   "id": "c57c8c9a",
   "metadata": {},
   "source": [
    "## Step 5: Accessing Trajectory Point Information"
   ]
  },
  {
   "cell_type": "markdown",
   "id": "9ea5a2b2",
   "metadata": {},
   "source": [
    "Let's look at just the first trajectory in our list:"
   ]
  },
  {
   "cell_type": "code",
   "execution_count": null,
   "id": "4d011584",
   "metadata": {},
   "outputs": [],
   "source": [
    "trajectory = trajectories[0]"
   ]
  },
  {
   "cell_type": "markdown",
   "id": "81469359",
   "metadata": {},
   "source": [
    "Trajectory points can be accessed in a trajectory object using list indexing.  So, we can get the first point in our trajectory as follows:"
   ]
  },
  {
   "cell_type": "code",
   "execution_count": null,
   "id": "53181727",
   "metadata": {},
   "outputs": [],
   "source": [
    "trajectory_point = trajectory[0]"
   ]
  },
  {
   "cell_type": "markdown",
   "id": "2054cc56",
   "metadata": {},
   "source": [
    "The information from the required columns of the csv can be accessed for a single `trajectory_point` object as\n",
    "\n",
    "* **<span style=\"color:#00add0\">unique object identifier:</span>** `trajectory_point.object_id`\n",
    "* **<span style=\"color:#00add0\">timestamp:</span>** `trajectory_point.timestamp`\n",
    "* **<span style=\"color:#00add0\">longitude:</span>** `trajectory_point[0]`\n",
    "* **<span style=\"color:#00add0\">latitude:</span>** `trajectory_point[1]`\n",
    "\n",
    "The optional column information is available through the member variable `properties` as follows: `trajectory_point.properties['what-you-named-it']`.\n",
    "\n",
    "Below, we access all of the information stored in our `trajectory_point` object."
   ]
  },
  {
   "cell_type": "code",
   "execution_count": null,
   "id": "840e9cce",
   "metadata": {},
   "outputs": [],
   "source": [
    "object_id    = trajectory_point.object_id\n",
    "timestamp    = trajectory_point.timestamp\n",
    "longitude    = trajectory_point[0]\n",
    "latitude     = trajectory_point[1]\n",
    "heading      = trajectory_point.properties[\"heading\"]\n",
    "vessel_name  = trajectory_point.properties[\"vessel-name\"]\n",
    "eta          = trajectory_point.properties[\"eta\"]\n",
    "\n",
    "print(f'Unique ID: {object_id}')\n",
    "print(f'Timestamp: {timestamp}')\n",
    "print(f'Longitude: {longitude}')\n",
    "print(f'Latitude: {latitude}')\n",
    "print(f'Heading: {heading}')\n",
    "print(f'Vessel Name: {vessel_name}')\n",
    "print(f'ETA: {eta}\\n')"
   ]
  },
  {
   "cell_type": "markdown",
   "id": "37153bdf",
   "metadata": {},
   "source": [
    "## What can we do with trajectories in Tracktable?\n",
    "\n",
    "* Compact trajectory storage using `.traj` files is discussed in Tutorials [3 (Write Trajectories to File)](Tutorial_03_Write_Trajectories_To_File.ipynb) & [4 (Read Traj File)](Tutorial_04_Read_Traj_File.ipynb).\n",
    "* Tutorials [5A (Interactive Visualization)](Tutorial_05A_Interactive_Visualization.ipynb) & [5B (Static Visualization)](Tutorial_05B.ipynb) demonstrate how to visualize trajectories with Tracktable.\n",
    "* Filtering trajectories using the capabilities provided by the `geomath` module is shown in [Tutorial 6 (Trajectory Filtering)](Tutorial_06.ipynb)."
   ]
  },
  {
   "cell_type": "markdown",
   "id": "52d0680a",
   "metadata": {},
   "source": [
    "<span style=\"color:gray\">$^1$ Bureau of Ocean Energy Management (BOEM) and National Oceanic and Atmospheric Administration (NOAA). MarineCadastre.gov. *AIS Data for 2020.* Retrieved February 2021 from [marinecadastre.gov/data](https://marinecadastre.gov/data/).  Trimmed down to the first hour of June 30, 2020, restricted to in NY Harbor.</span>"
   ]
  }
 ],
 "metadata": {
  "interpreter": {
   "hash": "31f2aee4e71d21fbe5cf8b01ff0e069b9275f58929596ceb00d14d90e3e16cd6"
  },
  "kernelspec": {
   "display_name": "Python 3 (ipykernel)",
   "language": "python",
   "name": "python3"
  },
  "language_info": {
   "codemirror_mode": {
    "name": "ipython",
    "version": 3
   },
   "file_extension": ".py",
   "mimetype": "text/x-python",
   "name": "python",
   "nbconvert_exporter": "python",
   "pygments_lexer": "ipython3",
   "version": "3.12.0"
  }
 },
 "nbformat": 4,
 "nbformat_minor": 5
}
