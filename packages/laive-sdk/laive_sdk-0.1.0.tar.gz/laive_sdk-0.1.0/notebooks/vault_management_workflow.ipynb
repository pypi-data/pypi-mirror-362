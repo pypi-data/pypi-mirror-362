{
 "cells": [
  {
   "cell_type": "markdown",
   "metadata": {
    "vscode": {
     "languageId": "plaintext"
    }
   },
   "source": [
    "# Complete Vault Management Workflow\n",
    "\n",
    "This notebook demonstrates a complete workflow with the Laive Python SDK:\n",
    "- Creating a new vault\n",
    "- Uploading multiple documents\n",
    "- Monitoring upload progress\n",
    "- Querying the vault once documents are processed\n",
    "\n",
    "> if you only want to run a query, you can use the following notebook : [simple_query_example.ipynb](simple_query_example.ipynb)\n",
    "\n",
    "## Prerequisites\n",
    "\n",
    "Before running this notebook, make sure you have:\n",
    "1. Installed the Laive SDK: `pip install laive-sdk`\n",
    "2. Set your API key as an environment variable: `LAIVE_API_KEY` or in a `.env` file as in the `.env.example` file\n",
    "3. Some sample documents in the `./sample_docs` directory (PDF, Images, etc.)\n",
    "\n",
    "You can get your API key from [https://beta.laive.ai](https://beta.laive.ai)\n"
   ]
  },
  {
   "cell_type": "code",
   "execution_count": null,
   "metadata": {},
   "outputs": [],
   "source": [
    "import time\n",
    "\n",
    "# Load environment variables from .env file (optional, if using python-dotenv)\n",
    "from dotenv import load_dotenv\n",
    "load_dotenv()\n",
    "\n",
    "# Initialize the client (API key is read automatically from LAIVE_API_KEY)\n",
    "from laive import LaiveClient\n",
    "client = LaiveClient()\n",
    "\n",
    "# Alternatively, you can initialize the client with a the API key directly\n",
    "# client = LaiveClient(api_key=\"your_api_key\")\n"
   ]
  },
  {
   "cell_type": "markdown",
   "metadata": {},
   "source": [
    "## Step 1: Create a New Vault\n",
    "\n",
    "Let's create a new vault for our documents:\n"
   ]
  },
  {
   "cell_type": "code",
   "execution_count": null,
   "metadata": {},
   "outputs": [],
   "source": [
    "print(\"Creating a new vault...\")\n",
    "vault = client.create_vault(\n",
    "    name=\"Research Vault - Notebook Demo\",\n",
    "    description=\"A vault for my research papers and documents created from laive python sdk\"\n",
    ")\n",
    "\n",
    "vault_id = vault['id']\n",
    "\n",
    "print(\"Vault created successfully!\")\n",
    "print(f\"Vault ID: {vault_id}\")\n",
    "print(f\"Vault Name: {vault['name']}\")\n",
    "print(f\"Description: {vault['description']}\")\n"
   ]
  },
  {
   "cell_type": "markdown",
   "metadata": {},
   "source": [
    "## Step 2: List All Vaults\n",
    "\n",
    "Let's verify our vault was created by listing all vaults:\n"
   ]
  },
  {
   "cell_type": "code",
   "execution_count": null,
   "metadata": {},
   "outputs": [],
   "source": [
    "print(\"Listing all vaults:\")\n",
    "vaults = client.get_vaults()\n",
    "\n",
    "for v in vaults:\n",
    "    status = \" (NEW)\" if v['id'] == vault_id else \"\"\n",
    "    description = v['description'] if v['description'] else \"No description\"\n",
    "    print(f\"Vault {v['id']}: {v['name']} - {description}{status}\")\n",
    "    \n",
    "print(f\"\\nTotal vaults: {len(vaults)}\")\n"
   ]
  },
  {
   "cell_type": "markdown",
   "metadata": {},
   "source": [
    "## Step 3: Prepare Files for Upload\n",
    "\n",
    "Let's check what sample documents are available for upload:\n"
   ]
  },
  {
   "cell_type": "code",
   "execution_count": null,
   "metadata": {},
   "outputs": [],
   "source": [
    "upload_dir = \"./sample_docs\"  # Directory with sample documents\n",
    "\n",
    "if not os.path.exists(upload_dir):\n",
    "    print(f\"Sample directory {upload_dir} not found.\")\n",
    "    print(\"Please create it and add some files for uploading\")\n",
    "else:\n",
    "    files_to_upload = []\n",
    "    source_names = []\n",
    "    \n",
    "    print(f\"Checking directory: {upload_dir}\")\n",
    "    all_files = os.listdir(upload_dir)\n",
    "    \n",
    "    for filename in all_files:\n",
    "        file_path = os.path.join(upload_dir, filename)\n",
    "        files_to_upload.append(file_path)\n",
    "        source_names.append(filename)\n",
    "    \n",
    "    print(f\"\\nFound {len(files_to_upload)} files for upload : {files_to_upload}\")\n"
   ]
  },
  {
   "cell_type": "markdown",
   "metadata": {},
   "source": [
    "## Step 4: Upload Files to Vault\n",
    "\n",
    "Now let's upload the files to our newly created vault:\n"
   ]
  },
  {
   "cell_type": "code",
   "execution_count": null,
   "metadata": {},
   "outputs": [],
   "source": [
    "if files_to_upload:\n",
    "    print(f\"Uploading {len(files_to_upload)} files to vault {vault_id}...\")\n",
    "    \n",
    "    upload_result = client.upload_files(\n",
    "        files=files_to_upload,\n",
    "        source_names=source_names,\n",
    "        vault_id=vault_id\n",
    "    )\n",
    "    \n",
    "    print(\"Upload initiated successfully!\")\n",
    "    print(f\"Message: {upload_result.message}\")\n",
    "    print(f\"Files processed: {upload_result.files_processed}\")\n",
    "    print(f\"Task IDs: {upload_result.task_ids}\")\n",
    "    \n",
    "    # Store task IDs for monitoring\n",
    "    task_ids = upload_result.task_ids\n",
    "else:\n",
    "    print(\"No files to upload. Please add compatible files to the sample_docs directory.\")\n"
   ]
  },
  {
   "cell_type": "markdown",
   "metadata": {},
   "source": [
    "## Step 5: Monitor Upload Progress\n",
    "\n",
    "Let's monitor the upload tasks to see when they complete:\n"
   ]
  },
  {
   "cell_type": "code",
   "execution_count": null,
   "metadata": {},
   "outputs": [],
   "source": [
    "if 'task_ids' in locals() and task_ids:\n",
    "    print(\"Monitoring upload tasks...\")\n",
    "    \n",
    "    # Check status every 10 seconds for up to 3 minutes\n",
    "    max_checks = 18  # 3 minutes (18 * 10 seconds)  \n",
    "    checks = 0\n",
    "    all_tasks_completed = False\n",
    "    \n",
    "    while not all_tasks_completed and checks < max_checks:\n",
    "        all_tasks_completed = True\n",
    "        completed_tasks = 0\n",
    "        \n",
    "        print(f\"\\nCheck #{checks + 1}:\")\n",
    "        \n",
    "        for i, task_id in enumerate(task_ids, 1):\n",
    "            task_status = client.get_task_status(task_id)\n",
    "            state = task_status.get('state', 'UNKNOWN')\n",
    "            status_msg = task_status.get('status', 'No status')\n",
    "            \n",
    "            if state in ['SUCCESS']:\n",
    "                print(f\"  Task {i}: {state} - {status_msg}\")\n",
    "                completed_tasks += 1\n",
    "            elif state in ['FAILURE']:\n",
    "                print(f\"  Task {i}: {state} - {status_msg}\")\n",
    "                completed_tasks += 1\n",
    "            else:\n",
    "                print(f\"  Task {i}: {state} - {status_msg}\")\n",
    "                all_tasks_completed = False\n",
    "        \n",
    "        print(f\"Progress: {completed_tasks}/{len(task_ids)} tasks completed\")\n",
    "        \n",
    "        if not all_tasks_completed:\n",
    "            print(\"Waiting 10 seconds before next check...\")\n",
    "            time.sleep(10)\n",
    "            checks += 1\n",
    "        else:\n",
    "            print(\"All tasks completed!\")\n",
    "    \n",
    "    if checks >= max_checks:\n",
    "        print(\"Maximum check time reached. Some tasks may still be processing.\")\n",
    "else:\n",
    "    print(\"No tasks to monitor.\")\n"
   ]
  },
  {
   "cell_type": "markdown",
   "metadata": {},
   "source": [
    "## Step 6: Query the Vault\n",
    "\n",
    "Once the documents are processed, let's query our vault to see what insights we can get:\n"
   ]
  },
  {
   "cell_type": "code",
   "execution_count": null,
   "metadata": {},
   "outputs": [],
   "source": [
    "if 'all_tasks_completed' in locals() and all_tasks_completed:\n",
    "    print(\"Querying the vault with processed documents...\")\n",
    "    \n",
    "    query_result = client.query(\n",
    "        query=\"How do the method perform against state of the art methods ?\",\n",
    "        vault_id=vault_id,\n",
    "        top_k=5\n",
    "    )\n",
    "    \n",
    "    print(\"Query Results:\")\n",
    "    print(\"=\"*50)\n",
    "    \n",
    "    # Display results using the built-in pretty print\n",
    "    query_result.prettyprint()\n",
    "    \n",
    "else:\n",
    "    print(\"Skipping query - documents may still be processing.\")\n",
    "    print(\"You can run a query manually once processing is complete.\")\n"
   ]
  }
 ],
 "metadata": {
  "kernelspec": {
   "display_name": ".venv",
   "language": "python",
   "name": "python3"
  },
  "language_info": {
   "codemirror_mode": {
    "name": "ipython",
    "version": 3
   },
   "file_extension": ".py",
   "mimetype": "text/x-python",
   "name": "python",
   "nbconvert_exporter": "python",
   "pygments_lexer": "ipython3",
   "version": "3.13.3"
  }
 },
 "nbformat": 4,
 "nbformat_minor": 2
}
