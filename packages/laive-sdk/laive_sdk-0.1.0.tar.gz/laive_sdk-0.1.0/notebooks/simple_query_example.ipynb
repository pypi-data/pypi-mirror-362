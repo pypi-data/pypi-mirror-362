{
 "cells": [
  {
   "cell_type": "markdown",
   "metadata": {
    "vscode": {
     "languageId": "raw"
    }
   },
   "source": [
    "# Simple Query Example\n",
    "\n",
    "This notebook demonstrates how to perform a basic query using the Laive Python SDK.\n",
    "\n",
    "## Prerequisites\n",
    "\n",
    "Before running this notebook, make sure you have:\n",
    "1. Installed the Laive SDK: `pip install laive-sdk`\n",
    "2. Set your API key as an environment variable: `LAIVE_API_KEY` or in a `.env` file as in the `.env.example` file\n",
    "\n",
    "You can get your API key from [https://beta.laive.ai](https://beta.laive.ai)\n"
   ]
  },
  {
   "cell_type": "code",
   "execution_count": null,
   "metadata": {},
   "outputs": [],
   "source": [
    "# Load environment variables from .env file (optional, if using python-dotenv)\n",
    "from dotenv import load_dotenv\n",
    "load_dotenv()\n",
    "\n",
    "# Initialize the client (API key is read automatically from LAIVE_API_KEY)\n",
    "from laive import LaiveClient\n",
    "client = LaiveClient()\n",
    "\n",
    "# Alternatively, you can initialize the client with a the API key directly\n",
    "# client = LaiveClient(api_key=\"your_api_key\")"
   ]
  },
  {
   "cell_type": "markdown",
   "metadata": {
    "vscode": {
     "languageId": "raw"
    }
   },
   "source": [
    "## Perform a Query\n",
    "\n",
    "Now let's query a vault with a specific question. Replace `vault_id=49` with your actual vault ID.\n"
   ]
  },
  {
   "cell_type": "code",
   "execution_count": 14,
   "metadata": {},
   "outputs": [
    {
     "data": {
      "text/html": [
       "<pre style=\"white-space:pre;overflow-x:auto;line-height:normal;font-family:Menlo,'DejaVu Sans Mono',consolas,'Courier New',monospace\">Found <span style=\"color: #008000; text-decoration-color: #008000; font-weight: bold\">5</span> relevant documents\n",
       "</pre>\n"
      ],
      "text/plain": [
       "Found \u001b[1;32m5\u001b[0m relevant documents\n"
      ]
     },
     "metadata": {},
     "output_type": "display_data"
    },
    {
     "data": {
      "text/html": [
       "<pre style=\"white-space:pre;overflow-x:auto;line-height:normal;font-family:Menlo,'DejaVu Sans Mono',consolas,'Courier New',monospace\"><span style=\"font-style: italic\">                                                 Retrieved Sources                                                 </span>\n",
       "┏━━━━━━━━━━━━━━━━━━━━━━━━━━━━━━━━━━━━━━━━━━━━━━━━━━━━━━━━┳━━━━━━━━━━━━━━━━━━━━━━━━━━━━━━━━━━━━━━━━━━━━━━━━━━━━━━━━┓\n",
       "┃<span style=\"font-weight: bold\"> Source                                                 </span>┃<span style=\"font-weight: bold\"> Content Preview                                        </span>┃\n",
       "┡━━━━━━━━━━━━━━━━━━━━━━━━━━━━━━━━━━━━━━━━━━━━━━━━━━━━━━━━╇━━━━━━━━━━━━━━━━━━━━━━━━━━━━━━━━━━━━━━━━━━━━━━━━━━━━━━━━┩\n",
       "│<span style=\"color: #008080; text-decoration-color: #008080\"> Tree-based RAG-Agent Recommendation System - A Case    </span>│<span style=\"color: #008000; text-decoration-color: #008000\"> ┏━━━━━━━━━━━━━━━━━━━━━━━━━━━━━━━━━━━━━━━━━━━━━━━━━━━━┓ </span>│\n",
       "│<span style=\"color: #008080; text-decoration-color: #008080\"> Study in Medical Test Data.pdf                         </span>│<span style=\"color: #008000; text-decoration-color: #008000\"> ┃  </span><span style=\"color: #008000; text-decoration-color: #008000; font-weight: bold\">A Tree-based RAG-Agent Recommendation System: A</span><span style=\"color: #008000; text-decoration-color: #008000\">   ┃ </span>│\n",
       "│<span style=\"color: #008080; text-decoration-color: #008080\"> Page: 1                                                </span>│<span style=\"color: #008000; text-decoration-color: #008000\"> ┃          </span><span style=\"color: #008000; text-decoration-color: #008000; font-weight: bold\">Case Study in Medical Test Data</span><span style=\"color: #008000; text-decoration-color: #008000\">           ┃ </span>│\n",
       "│<span style=\"color: #008080; text-decoration-color: #008080\">                                                        </span>│<span style=\"color: #008000; text-decoration-color: #008000\"> ┗━━━━━━━━━━━━━━━━━━━━━━━━━━━━━━━━━━━━━━━━━━━━━━━━━━━━┛ </span>│\n",
       "│<span style=\"color: #008080; text-decoration-color: #008080\">                                                        </span>│<span style=\"color: #008000; text-decoration-color: #008000\">                                                        </span>│\n",
       "│<span style=\"color: #008080; text-decoration-color: #008080\">                                                        </span>│<span style=\"color: #008000; text-decoration-color: #008000\"> Yahe Yang George Washington University                 </span>│\n",
       "│<span style=\"color: #008080; text-decoration-color: #008080\">                                                        </span>│<span style=\"color: #008000; text-decoration-color: #008000\"> yahe.yang@gwu.edu                                      </span>│\n",
       "│<span style=\"color: #008080; text-decoration-color: #008080\">                                                        </span>│<span style=\"color: #008000; text-decoration-color: #008000\">                                                        </span>│\n",
       "│<span style=\"color: #008080; text-decoration-color: #008080\">                                                        </span>│<span style=\"color: #008000; text-decoration-color: #008000\"> Chengyue Huang University of Iowa                      </span>│\n",
       "│<span style=\"color: #008080; text-decoration-color: #008080\">                                                        </span>│<span style=\"color: #008000; text-decoration-color: #008000\"> chengyue-huang@uiowa.edu Corresponding author          </span>│\n",
       "│<span style=\"color: #008080; text-decoration-color: #008080\">                                                        </span>│<span style=\"color: #008000; text-decoration-color: #008000\">                                                        </span>│\n",
       "│<span style=\"color: #008080; text-decoration-color: #008080\">                                                        </span>│<span style=\"color: #008000; text-decoration-color: #008000\"> Abstract—We present HiRMed (Hierarchical RAG-enhanced  </span>│\n",
       "│<span style=\"color: #008080; text-decoration-color: #008080\">                                                        </span>│<span style=\"color: #008000; text-decoration-color: #008000\"> Medical Test Recommendat...                            </span>│\n",
       "│<span style=\"color: #008080; text-decoration-color: #008080\"> Tree-based RAG-Agent Recommendation System - A Case    </span>│<span style=\"color: #008000; text-decoration-color: #008000\"> ┏━━━━━━━━━━━━━━━━━━━━━━━━━━━━━━━━━━━━━━━━━━━━━━━━━━━━┓ </span>│\n",
       "│<span style=\"color: #008080; text-decoration-color: #008080\"> Study in Medical Test Data.pdf                         </span>│<span style=\"color: #008000; text-decoration-color: #008000\"> ┃ </span><span style=\"color: #008000; text-decoration-color: #008000; font-weight: bold\">Tree-based recommendation systems have long been a</span><span style=\"color: #008000; text-decoration-color: #008000\"> ┃ </span>│\n",
       "│<span style=\"color: #008080; text-decoration-color: #008080\"> Page: 2                                                </span>│<span style=\"color: #008000; text-decoration-color: #008000\"> ┃      </span><span style=\"color: #008000; text-decoration-color: #008000; font-weight: bold\">cornerstone of decision support systems,</span><span style=\"color: #008000; text-decoration-color: #008000\">      ┃ </span>│\n",
       "│<span style=\"color: #008080; text-decoration-color: #008080\">                                                        </span>│<span style=\"color: #008000; text-decoration-color: #008000\"> ┃ </span><span style=\"color: #008000; text-decoration-color: #008000; font-weight: bold\">leveraging hierarchical structures to mirror human</span><span style=\"color: #008000; text-decoration-color: #008000\"> ┃ </span>│\n",
       "│<span style=\"color: #008080; text-decoration-color: #008080\">                                                        </span>│<span style=\"color: #008000; text-decoration-color: #008000\"> ┃      </span><span style=\"color: #008000; text-decoration-color: #008000; font-weight: bold\">decision-making processes. For instance,</span><span style=\"color: #008000; text-decoration-color: #008000\">      ┃ </span>│\n",
       "│<span style=\"color: #008080; text-decoration-color: #008080\">                                                        </span>│<span style=\"color: #008000; text-decoration-color: #008000\"> ┃ </span><span style=\"color: #008000; text-decoration-color: #008000; font-weight: bold\">hierarchical models have been applied to stratify</span><span style=\"color: #008000; text-decoration-color: #008000\">  ┃ </span>│\n",
       "│<span style=\"color: #008080; text-decoration-color: #008080\">                                                        </span>│<span style=\"color: #008000; text-decoration-color: #008000\"> ┃  </span><span style=\"color: #008000; text-decoration-color: #008000; font-weight: bold\">patient symptoms and align them with diagnostic</span><span style=\"color: #008000; text-decoration-color: #008000\">   ┃ </span>│\n",
       "│<span style=\"color: #008080; text-decoration-color: #008080\">                                                        </span>│<span style=\"color: #008000; text-decoration-color: #008000\"> ┃                </span><span style=\"color: #008000; text-decoration-color: #008000; font-weight: bold\">categories [1]-[...</span><span style=\"color: #008000; text-decoration-color: #008000\">                 ┃ </span>│\n",
       "│<span style=\"color: #008080; text-decoration-color: #008080\">                                                        </span>│<span style=\"color: #008000; text-decoration-color: #008000\"> ┗━━━━━━━━━━━━━━━━━━━━━━━━━━━━━━━━━━━━━━━━━━━━━━━━━━━━┛ </span>│\n",
       "│<span style=\"color: #008080; text-decoration-color: #008080\"> Tree-based RAG-Agent Recommendation System - A Case    </span>│<span style=\"color: #008000; text-decoration-color: #008000\"> ┏━━━━━━━━━━━━━━━━━━━━━━━━━━━━━━━━━━━━━━━━━━━━━━━━━━━━┓ </span>│\n",
       "│<span style=\"color: #008080; text-decoration-color: #008080\"> Study in Medical Test Data.pdf                         </span>│<span style=\"color: #008000; text-decoration-color: #008000\"> ┃   </span><span style=\"color: #008000; text-decoration-color: #008000; font-weight: bold\">TABLE II: Performance Comparison of Different</span><span style=\"color: #008000; text-decoration-color: #008000\">    ┃ </span>│\n",
       "│<span style=\"color: #008080; text-decoration-color: #008080\"> Page: 5                                                </span>│<span style=\"color: #008000; text-decoration-color: #008000\"> ┃                      </span><span style=\"color: #008000; text-decoration-color: #008000; font-weight: bold\">Methods</span><span style=\"color: #008000; text-decoration-color: #008000\">                       ┃ </span>│\n",
       "│<span style=\"color: #008080; text-decoration-color: #008080\">                                                        </span>│<span style=\"color: #008000; text-decoration-color: #008000\"> ┗━━━━━━━━━━━━━━━━━━━━━━━━━━━━━━━━━━━━━━━━━━━━━━━━━━━━┛ </span>│\n",
       "│<span style=\"color: #008080; text-decoration-color: #008080\">                                                        </span>│<span style=\"color: #008000; text-decoration-color: #008000\">                                                        </span>│\n",
       "│<span style=\"color: #008080; text-decoration-color: #008080\">                                                        </span>│<span style=\"color: #008000; text-decoration-color: #008000\">                                                        </span>│\n",
       "│<span style=\"color: #008080; text-decoration-color: #008080\">                                                        </span>│<span style=\"color: #008000; text-decoration-color: #008000\">  </span><span style=\"color: #008000; text-decoration-color: #008000; font-weight: bold\">          </span><span style=\"color: #008000; text-decoration-color: #008000\"> </span><span style=\"color: #008000; text-decoration-color: #008000; font-weight: bold\"> Coverage   </span><span style=\"color: #008000; text-decoration-color: #008000\"> </span><span style=\"color: #008000; text-decoration-color: #008000; font-weight: bold\">          </span><span style=\"color: #008000; text-decoration-color: #008000\"> </span><span style=\"color: #008000; text-decoration-color: #008000; font-weight: bold\">           </span><span style=\"color: #008000; text-decoration-color: #008000\"> </span><span style=\"color: #008000; text-decoration-color: #008000; font-weight: bold\">     </span><span style=\"color: #008000; text-decoration-color: #008000\">  </span>│\n",
       "│<span style=\"color: #008080; text-decoration-color: #008080\">                                                        </span>│<span style=\"color: #008000; text-decoration-color: #008000\">  </span><span style=\"color: #008000; text-decoration-color: #008000; font-weight: bold\"> Method   </span><span style=\"color: #008000; text-decoration-color: #008000\"> </span><span style=\"color: #008000; text-decoration-color: #008000; font-weight: bold\"> Rate       </span><span style=\"color: #008000; text-decoration-color: #008000\"> </span><span style=\"color: #008000; text-decoration-color: #008000; font-weight: bold\"> Accuracy </span><span style=\"color: #008000; text-decoration-color: #008000\"> </span><span style=\"color: #008000; text-decoration-color: #008000; font-weight: bold\"> Miss Rate </span><span style=\"color: #008000; text-decoration-color: #008000\"> </span><span style=\"color: #008000; text-decoration-color: #008000; font-weight: bold\"> CRS </span><span style=\"color: #008000; text-decoration-color: #008000\">  </span>│\n",
       "│<span style=\"color: #008080; text-decoration-color: #008080\">                                                        </span>│<span style=\"color: #008000; text-decoration-color: #008000\">  ━━━━━━━━━━━━━━━━━━━━━━━━━━━━━━━━━━━━━━━━━━━━━━━━━━━━  </span>│\n",
       "│<span style=\"color: #008080; text-decoration-color: #008080\">                                                        </span>│<span style=\"color: #008000; text-decoration-color: #008000\">   HiRMed     92.3         88.7       2.1         4.3   </span>│\n",
       "│<span style=\"color: #008080; text-decoration-color: #008080\">                                                        </span>│<span style=\"color: #008000; text-decoration-color: #008000\">   Flat-RAG   84.7         82.4       5.8         3.7   </span>│\n",
       "│<span style=\"color: #008080; text-decoration-color: #008080\">                                                        </span>│<span style=\"color: #008000; text-decoration-color: #008000\">   TVS...                                               </span>│\n",
       "│<span style=\"color: #008080; text-decoration-color: #008080\">                                                        </span>│<span style=\"color: #008000; text-decoration-color: #008000\">                                                        </span>│\n",
       "│<span style=\"color: #008080; text-decoration-color: #008080\"> Tree-based RAG-Agent Recommendation System - A Case    </span>│<span style=\"color: #008000; text-decoration-color: #008000\"> accuracy and low miss rates, while providing           </span>│\n",
       "│<span style=\"color: #008080; text-decoration-color: #008080\"> Study in Medical Test Data.pdf                         </span>│<span style=\"color: #008000; text-decoration-color: #008000\"> interpretable [11] M. Zhang, R. Dai, M. Dong, and T.   </span>│\n",
       "│<span style=\"color: #008080; text-decoration-color: #008080\"> Page: 6                                                </span>│<span style=\"color: #008000; text-decoration-color: #008000\"> He, “Drlk: Dynamic recommendations, suggests that      </span>│\n",
       "│<span style=\"color: #008080; text-decoration-color: #008080\">                                                        </span>│<span style=\"color: #008000; text-decoration-color: #008000\"> hierarchical reasoning could hierarchical reasoning    </span>│\n",
       "│<span style=\"color: #008080; text-decoration-color: #008080\">                                                        </span>│<span style=\"color: #008000; text-decoration-color: #008000\"> with language model and knowl- be a powerful paradigm  </span>│\n",
       "│<span style=\"color: #008080; text-decoration-color: #008080\">                                                        </span>│<span style=\"color: #008000; text-decoration-color: #008000\"> for improving complex decision- edge graph for...      </span>│\n",
       "│<span style=\"color: #008080; text-decoration-color: #008080\"> 3. PV AG 2024.pdf                                      </span>│<span style=\"color: #008000; text-decoration-color: #008000\"> ┏━━━━━━━━━━━━━━━━━━━━━━━━━━━━━━━━━━━━━━━━━━━━━━━━━━━━┓ </span>│\n",
       "│<span style=\"color: #008080; text-decoration-color: #008080\"> Page: 10                                               </span>│<span style=\"color: #008000; text-decoration-color: #008000\"> ┃               </span><span style=\"color: #008000; text-decoration-color: #008000; font-weight: bold\">DocuSign Envelope ID:</span><span style=\"color: #008000; text-decoration-color: #008000\">                ┃ </span>│\n",
       "│<span style=\"color: #008080; text-decoration-color: #008080\">                                                        </span>│<span style=\"color: #008000; text-decoration-color: #008000\"> ┃        </span><span style=\"color: #008000; text-decoration-color: #008000; font-weight: bold\">755CB984-1B57-4BFD-B358-CEF3E1BA4102</span><span style=\"color: #008000; text-decoration-color: #008000\">        ┃ </span>│\n",
       "│<span style=\"color: #008080; text-decoration-color: #008080\">                                                        </span>│<span style=\"color: #008000; text-decoration-color: #008000\"> ┗━━━━━━━━━━━━━━━━━━━━━━━━━━━━━━━━━━━━━━━━━━━━━━━━━━━━┛ </span>│\n",
       "│<span style=\"color: #008080; text-decoration-color: #008080\">                                                        </span>│<span style=\"color: #008000; text-decoration-color: #008000\">                                                        </span>│\n",
       "│<span style=\"color: #008080; text-decoration-color: #008080\">                                                        </span>│<span style=\"color: #008000; text-decoration-color: #008000\"> L'assemblée procède au second tour de vote à la        </span>│\n",
       "│<span style=\"color: #008080; text-decoration-color: #008080\">                                                        </span>│<span style=\"color: #008000; text-decoration-color: #008000\"> majorité art. 24                                       </span>│\n",
       "│<span style=\"color: #008080; text-decoration-color: #008080\">                                                        </span>│<span style=\"color: #008000; text-decoration-color: #008000\">                                                        </span>│\n",
       "│<span style=\"color: #008080; text-decoration-color: #008080\">                                                        </span>│<span style=\"color: #008000; text-decoration-color: #008000\"> Ont participé au vote 12 copropriétaire(s) présent(s)  </span>│\n",
       "│<span style=\"color: #008080; text-decoration-color: #008080\">                                                        </span>│<span style=\"color: #008000; text-decoration-color: #008000\"> ou représenté(s) sur 30, représentant 4770/10002       </span>│\n",
       "│<span style=\"color: #008080; text-decoration-color: #008080\">                                                        </span>│<span style=\"color: #008000; text-decoration-color: #008000\"> tantièmes. Mise aux voix, cette résolution a donné     </span>│\n",
       "│<span style=\"color: #008080; text-decoration-color: #008080\">                                                        </span>│<span style=\"color: #008000; text-decoration-color: #008000\"> lieu au vote suiva...                                  </span>│\n",
       "└────────────────────────────────────────────────────────┴────────────────────────────────────────────────────────┘\n",
       "</pre>\n"
      ],
      "text/plain": [
       "\u001b[3m                                                 Retrieved Sources                                                 \u001b[0m\n",
       "┏━━━━━━━━━━━━━━━━━━━━━━━━━━━━━━━━━━━━━━━━━━━━━━━━━━━━━━━━┳━━━━━━━━━━━━━━━━━━━━━━━━━━━━━━━━━━━━━━━━━━━━━━━━━━━━━━━━┓\n",
       "┃\u001b[1m \u001b[0m\u001b[1mSource                                                \u001b[0m\u001b[1m \u001b[0m┃\u001b[1m \u001b[0m\u001b[1mContent Preview                                       \u001b[0m\u001b[1m \u001b[0m┃\n",
       "┡━━━━━━━━━━━━━━━━━━━━━━━━━━━━━━━━━━━━━━━━━━━━━━━━━━━━━━━━╇━━━━━━━━━━━━━━━━━━━━━━━━━━━━━━━━━━━━━━━━━━━━━━━━━━━━━━━━┩\n",
       "│\u001b[36m \u001b[0m\u001b[36mTree-based RAG-Agent Recommendation System - A Case   \u001b[0m\u001b[36m \u001b[0m│\u001b[32m \u001b[0m\u001b[32m┏━━━━━━━━━━━━━━━━━━━━━━━━━━━━━━━━━━━━━━━━━━━━━━━━━━━━┓\u001b[0m\u001b[32m \u001b[0m│\n",
       "│\u001b[36m \u001b[0m\u001b[36mStudy in Medical Test Data.pdf                        \u001b[0m\u001b[36m \u001b[0m│\u001b[32m \u001b[0m\u001b[32m┃\u001b[0m\u001b[32m \u001b[0m\u001b[32m \u001b[0m\u001b[1;32mA Tree-based RAG-Agent Recommendation System: A\u001b[0m\u001b[32m  \u001b[0m\u001b[32m \u001b[0m\u001b[32m┃\u001b[0m\u001b[32m \u001b[0m│\n",
       "│\u001b[36m \u001b[0m\u001b[36mPage: 1                                               \u001b[0m\u001b[36m \u001b[0m│\u001b[32m \u001b[0m\u001b[32m┃\u001b[0m\u001b[32m \u001b[0m\u001b[32m         \u001b[0m\u001b[1;32mCase Study in Medical Test Data\u001b[0m\u001b[32m          \u001b[0m\u001b[32m \u001b[0m\u001b[32m┃\u001b[0m\u001b[32m \u001b[0m│\n",
       "│\u001b[36m                                                        \u001b[0m│\u001b[32m \u001b[0m\u001b[32m┗━━━━━━━━━━━━━━━━━━━━━━━━━━━━━━━━━━━━━━━━━━━━━━━━━━━━┛\u001b[0m\u001b[32m \u001b[0m│\n",
       "│\u001b[36m                                                        \u001b[0m│\u001b[32m \u001b[0m\u001b[32m                                                      \u001b[0m\u001b[32m \u001b[0m│\n",
       "│\u001b[36m                                                        \u001b[0m│\u001b[32m \u001b[0m\u001b[32mYahe Yang George Washington University                \u001b[0m\u001b[32m \u001b[0m│\n",
       "│\u001b[36m                                                        \u001b[0m│\u001b[32m \u001b[0m\u001b[32myahe.yang@gwu.edu                                     \u001b[0m\u001b[32m \u001b[0m│\n",
       "│\u001b[36m                                                        \u001b[0m│\u001b[32m \u001b[0m\u001b[32m                                                      \u001b[0m\u001b[32m \u001b[0m│\n",
       "│\u001b[36m                                                        \u001b[0m│\u001b[32m \u001b[0m\u001b[32mChengyue Huang University of Iowa                     \u001b[0m\u001b[32m \u001b[0m│\n",
       "│\u001b[36m                                                        \u001b[0m│\u001b[32m \u001b[0m\u001b[32mchengyue-huang@uiowa.edu Corresponding author         \u001b[0m\u001b[32m \u001b[0m│\n",
       "│\u001b[36m                                                        \u001b[0m│\u001b[32m \u001b[0m\u001b[32m                                                      \u001b[0m\u001b[32m \u001b[0m│\n",
       "│\u001b[36m                                                        \u001b[0m│\u001b[32m \u001b[0m\u001b[32mAbstract—We present HiRMed (Hierarchical RAG-enhanced \u001b[0m\u001b[32m \u001b[0m│\n",
       "│\u001b[36m                                                        \u001b[0m│\u001b[32m \u001b[0m\u001b[32mMedical Test Recommendat...                           \u001b[0m\u001b[32m \u001b[0m│\n",
       "│\u001b[36m \u001b[0m\u001b[36mTree-based RAG-Agent Recommendation System - A Case   \u001b[0m\u001b[36m \u001b[0m│\u001b[32m \u001b[0m\u001b[32m┏━━━━━━━━━━━━━━━━━━━━━━━━━━━━━━━━━━━━━━━━━━━━━━━━━━━━┓\u001b[0m\u001b[32m \u001b[0m│\n",
       "│\u001b[36m \u001b[0m\u001b[36mStudy in Medical Test Data.pdf                        \u001b[0m\u001b[36m \u001b[0m│\u001b[32m \u001b[0m\u001b[32m┃\u001b[0m\u001b[32m \u001b[0m\u001b[1;32mTree-based recommendation systems have long been a\u001b[0m\u001b[32m \u001b[0m\u001b[32m┃\u001b[0m\u001b[32m \u001b[0m│\n",
       "│\u001b[36m \u001b[0m\u001b[36mPage: 2                                               \u001b[0m\u001b[36m \u001b[0m│\u001b[32m \u001b[0m\u001b[32m┃\u001b[0m\u001b[32m \u001b[0m\u001b[32m     \u001b[0m\u001b[1;32mcornerstone of decision support systems,\u001b[0m\u001b[32m     \u001b[0m\u001b[32m \u001b[0m\u001b[32m┃\u001b[0m\u001b[32m \u001b[0m│\n",
       "│\u001b[36m                                                        \u001b[0m│\u001b[32m \u001b[0m\u001b[32m┃\u001b[0m\u001b[32m \u001b[0m\u001b[1;32mleveraging hierarchical structures to mirror human\u001b[0m\u001b[32m \u001b[0m\u001b[32m┃\u001b[0m\u001b[32m \u001b[0m│\n",
       "│\u001b[36m                                                        \u001b[0m│\u001b[32m \u001b[0m\u001b[32m┃\u001b[0m\u001b[32m \u001b[0m\u001b[32m     \u001b[0m\u001b[1;32mdecision-making processes. For instance,\u001b[0m\u001b[32m     \u001b[0m\u001b[32m \u001b[0m\u001b[32m┃\u001b[0m\u001b[32m \u001b[0m│\n",
       "│\u001b[36m                                                        \u001b[0m│\u001b[32m \u001b[0m\u001b[32m┃\u001b[0m\u001b[32m \u001b[0m\u001b[1;32mhierarchical models have been applied to stratify\u001b[0m\u001b[32m \u001b[0m\u001b[32m \u001b[0m\u001b[32m┃\u001b[0m\u001b[32m \u001b[0m│\n",
       "│\u001b[36m                                                        \u001b[0m│\u001b[32m \u001b[0m\u001b[32m┃\u001b[0m\u001b[32m \u001b[0m\u001b[32m \u001b[0m\u001b[1;32mpatient symptoms and align them with diagnostic\u001b[0m\u001b[32m  \u001b[0m\u001b[32m \u001b[0m\u001b[32m┃\u001b[0m\u001b[32m \u001b[0m│\n",
       "│\u001b[36m                                                        \u001b[0m│\u001b[32m \u001b[0m\u001b[32m┃\u001b[0m\u001b[32m \u001b[0m\u001b[32m               \u001b[0m\u001b[1;32mcategories [1]-[...\u001b[0m\u001b[32m                \u001b[0m\u001b[32m \u001b[0m\u001b[32m┃\u001b[0m\u001b[32m \u001b[0m│\n",
       "│\u001b[36m                                                        \u001b[0m│\u001b[32m \u001b[0m\u001b[32m┗━━━━━━━━━━━━━━━━━━━━━━━━━━━━━━━━━━━━━━━━━━━━━━━━━━━━┛\u001b[0m\u001b[32m \u001b[0m│\n",
       "│\u001b[36m \u001b[0m\u001b[36mTree-based RAG-Agent Recommendation System - A Case   \u001b[0m\u001b[36m \u001b[0m│\u001b[32m \u001b[0m\u001b[32m┏━━━━━━━━━━━━━━━━━━━━━━━━━━━━━━━━━━━━━━━━━━━━━━━━━━━━┓\u001b[0m\u001b[32m \u001b[0m│\n",
       "│\u001b[36m \u001b[0m\u001b[36mStudy in Medical Test Data.pdf                        \u001b[0m\u001b[36m \u001b[0m│\u001b[32m \u001b[0m\u001b[32m┃\u001b[0m\u001b[32m \u001b[0m\u001b[32m  \u001b[0m\u001b[1;32mTABLE II: Performance Comparison of Different\u001b[0m\u001b[32m   \u001b[0m\u001b[32m \u001b[0m\u001b[32m┃\u001b[0m\u001b[32m \u001b[0m│\n",
       "│\u001b[36m \u001b[0m\u001b[36mPage: 5                                               \u001b[0m\u001b[36m \u001b[0m│\u001b[32m \u001b[0m\u001b[32m┃\u001b[0m\u001b[32m \u001b[0m\u001b[32m                     \u001b[0m\u001b[1;32mMethods\u001b[0m\u001b[32m                      \u001b[0m\u001b[32m \u001b[0m\u001b[32m┃\u001b[0m\u001b[32m \u001b[0m│\n",
       "│\u001b[36m                                                        \u001b[0m│\u001b[32m \u001b[0m\u001b[32m┗━━━━━━━━━━━━━━━━━━━━━━━━━━━━━━━━━━━━━━━━━━━━━━━━━━━━┛\u001b[0m\u001b[32m \u001b[0m│\n",
       "│\u001b[36m                                                        \u001b[0m│\u001b[32m \u001b[0m\u001b[32m                                                      \u001b[0m\u001b[32m \u001b[0m│\n",
       "│\u001b[36m                                                        \u001b[0m│\u001b[32m \u001b[0m\u001b[32m                                                      \u001b[0m\u001b[32m \u001b[0m│\n",
       "│\u001b[36m                                                        \u001b[0m│\u001b[32m \u001b[0m\u001b[32m \u001b[0m\u001b[1;32m          \u001b[0m\u001b[32m \u001b[0m\u001b[1;32m \u001b[0m\u001b[1;32mCoverage  \u001b[0m\u001b[1;32m \u001b[0m\u001b[32m \u001b[0m\u001b[1;32m          \u001b[0m\u001b[32m \u001b[0m\u001b[1;32m           \u001b[0m\u001b[32m \u001b[0m\u001b[1;32m     \u001b[0m\u001b[32m \u001b[0m\u001b[32m \u001b[0m│\n",
       "│\u001b[36m                                                        \u001b[0m│\u001b[32m \u001b[0m\u001b[32m \u001b[0m\u001b[1;32m \u001b[0m\u001b[1;32mMethod  \u001b[0m\u001b[1;32m \u001b[0m\u001b[32m \u001b[0m\u001b[1;32m \u001b[0m\u001b[1;32mRate      \u001b[0m\u001b[1;32m \u001b[0m\u001b[32m \u001b[0m\u001b[1;32m \u001b[0m\u001b[1;32mAccuracy\u001b[0m\u001b[1;32m \u001b[0m\u001b[32m \u001b[0m\u001b[1;32m \u001b[0m\u001b[1;32mMiss Rate\u001b[0m\u001b[1;32m \u001b[0m\u001b[32m \u001b[0m\u001b[1;32m \u001b[0m\u001b[1;32mCRS\u001b[0m\u001b[1;32m \u001b[0m\u001b[32m \u001b[0m\u001b[32m \u001b[0m│\n",
       "│\u001b[36m                                                        \u001b[0m│\u001b[32m \u001b[0m\u001b[32m ━━━━━━━━━━━━━━━━━━━━━━━━━━━━━━━━━━━━━━━━━━━━━━━━━━━━ \u001b[0m\u001b[32m \u001b[0m│\n",
       "│\u001b[36m                                                        \u001b[0m│\u001b[32m \u001b[0m\u001b[32m \u001b[0m\u001b[32m \u001b[0m\u001b[32mHiRMed  \u001b[0m\u001b[32m \u001b[0m\u001b[32m \u001b[0m\u001b[32m \u001b[0m\u001b[32m92.3      \u001b[0m\u001b[32m \u001b[0m\u001b[32m \u001b[0m\u001b[32m \u001b[0m\u001b[32m88.7    \u001b[0m\u001b[32m \u001b[0m\u001b[32m \u001b[0m\u001b[32m \u001b[0m\u001b[32m2.1      \u001b[0m\u001b[32m \u001b[0m\u001b[32m \u001b[0m\u001b[32m \u001b[0m\u001b[32m4.3\u001b[0m\u001b[32m \u001b[0m\u001b[32m \u001b[0m\u001b[32m \u001b[0m│\n",
       "│\u001b[36m                                                        \u001b[0m│\u001b[32m \u001b[0m\u001b[32m \u001b[0m\u001b[32m \u001b[0m\u001b[32mFlat-RAG\u001b[0m\u001b[32m \u001b[0m\u001b[32m \u001b[0m\u001b[32m \u001b[0m\u001b[32m84.7      \u001b[0m\u001b[32m \u001b[0m\u001b[32m \u001b[0m\u001b[32m \u001b[0m\u001b[32m82.4    \u001b[0m\u001b[32m \u001b[0m\u001b[32m \u001b[0m\u001b[32m \u001b[0m\u001b[32m5.8      \u001b[0m\u001b[32m \u001b[0m\u001b[32m \u001b[0m\u001b[32m \u001b[0m\u001b[32m3.7\u001b[0m\u001b[32m \u001b[0m\u001b[32m \u001b[0m\u001b[32m \u001b[0m│\n",
       "│\u001b[36m                                                        \u001b[0m│\u001b[32m \u001b[0m\u001b[32m \u001b[0m\u001b[32m \u001b[0m\u001b[32mTVS...  \u001b[0m\u001b[32m \u001b[0m\u001b[32m \u001b[0m\u001b[32m \u001b[0m\u001b[32m          \u001b[0m\u001b[32m \u001b[0m\u001b[32m \u001b[0m\u001b[32m \u001b[0m\u001b[32m        \u001b[0m\u001b[32m \u001b[0m\u001b[32m \u001b[0m\u001b[32m \u001b[0m\u001b[32m         \u001b[0m\u001b[32m \u001b[0m\u001b[32m \u001b[0m\u001b[32m \u001b[0m\u001b[32m   \u001b[0m\u001b[32m \u001b[0m\u001b[32m \u001b[0m\u001b[32m \u001b[0m│\n",
       "│\u001b[36m                                                        \u001b[0m│\u001b[32m \u001b[0m\u001b[32m                                                      \u001b[0m\u001b[32m \u001b[0m│\n",
       "│\u001b[36m \u001b[0m\u001b[36mTree-based RAG-Agent Recommendation System - A Case   \u001b[0m\u001b[36m \u001b[0m│\u001b[32m \u001b[0m\u001b[32maccuracy and low miss rates, while providing          \u001b[0m\u001b[32m \u001b[0m│\n",
       "│\u001b[36m \u001b[0m\u001b[36mStudy in Medical Test Data.pdf                        \u001b[0m\u001b[36m \u001b[0m│\u001b[32m \u001b[0m\u001b[32minterpretable [11] M. Zhang, R. Dai, M. Dong, and T.  \u001b[0m\u001b[32m \u001b[0m│\n",
       "│\u001b[36m \u001b[0m\u001b[36mPage: 6                                               \u001b[0m\u001b[36m \u001b[0m│\u001b[32m \u001b[0m\u001b[32mHe, “Drlk: Dynamic recommendations, suggests that     \u001b[0m\u001b[32m \u001b[0m│\n",
       "│\u001b[36m                                                        \u001b[0m│\u001b[32m \u001b[0m\u001b[32mhierarchical reasoning could hierarchical reasoning   \u001b[0m\u001b[32m \u001b[0m│\n",
       "│\u001b[36m                                                        \u001b[0m│\u001b[32m \u001b[0m\u001b[32mwith language model and knowl- be a powerful paradigm \u001b[0m\u001b[32m \u001b[0m│\n",
       "│\u001b[36m                                                        \u001b[0m│\u001b[32m \u001b[0m\u001b[32mfor improving complex decision- edge graph for...     \u001b[0m\u001b[32m \u001b[0m│\n",
       "│\u001b[36m \u001b[0m\u001b[36m3. PV AG 2024.pdf                                     \u001b[0m\u001b[36m \u001b[0m│\u001b[32m \u001b[0m\u001b[32m┏━━━━━━━━━━━━━━━━━━━━━━━━━━━━━━━━━━━━━━━━━━━━━━━━━━━━┓\u001b[0m\u001b[32m \u001b[0m│\n",
       "│\u001b[36m \u001b[0m\u001b[36mPage: 10                                              \u001b[0m\u001b[36m \u001b[0m│\u001b[32m \u001b[0m\u001b[32m┃\u001b[0m\u001b[32m \u001b[0m\u001b[32m              \u001b[0m\u001b[1;32mDocuSign Envelope ID:\u001b[0m\u001b[32m               \u001b[0m\u001b[32m \u001b[0m\u001b[32m┃\u001b[0m\u001b[32m \u001b[0m│\n",
       "│\u001b[36m                                                        \u001b[0m│\u001b[32m \u001b[0m\u001b[32m┃\u001b[0m\u001b[32m \u001b[0m\u001b[32m       \u001b[0m\u001b[1;32m755CB984-1B57-4BFD-B358-CEF3E1BA4102\u001b[0m\u001b[32m       \u001b[0m\u001b[32m \u001b[0m\u001b[32m┃\u001b[0m\u001b[32m \u001b[0m│\n",
       "│\u001b[36m                                                        \u001b[0m│\u001b[32m \u001b[0m\u001b[32m┗━━━━━━━━━━━━━━━━━━━━━━━━━━━━━━━━━━━━━━━━━━━━━━━━━━━━┛\u001b[0m\u001b[32m \u001b[0m│\n",
       "│\u001b[36m                                                        \u001b[0m│\u001b[32m \u001b[0m\u001b[32m                                                      \u001b[0m\u001b[32m \u001b[0m│\n",
       "│\u001b[36m                                                        \u001b[0m│\u001b[32m \u001b[0m\u001b[32mL'assemblée procède au second tour de vote à la       \u001b[0m\u001b[32m \u001b[0m│\n",
       "│\u001b[36m                                                        \u001b[0m│\u001b[32m \u001b[0m\u001b[32mmajorité art. 24                                      \u001b[0m\u001b[32m \u001b[0m│\n",
       "│\u001b[36m                                                        \u001b[0m│\u001b[32m \u001b[0m\u001b[32m                                                      \u001b[0m\u001b[32m \u001b[0m│\n",
       "│\u001b[36m                                                        \u001b[0m│\u001b[32m \u001b[0m\u001b[32mOnt participé au vote 12 copropriétaire(s) présent(s) \u001b[0m\u001b[32m \u001b[0m│\n",
       "│\u001b[36m                                                        \u001b[0m│\u001b[32m \u001b[0m\u001b[32mou représenté(s) sur 30, représentant 4770/10002      \u001b[0m\u001b[32m \u001b[0m│\n",
       "│\u001b[36m                                                        \u001b[0m│\u001b[32m \u001b[0m\u001b[32mtantièmes. Mise aux voix, cette résolution a donné    \u001b[0m\u001b[32m \u001b[0m│\n",
       "│\u001b[36m                                                        \u001b[0m│\u001b[32m \u001b[0m\u001b[32mlieu au vote suiva...                                 \u001b[0m\u001b[32m \u001b[0m│\n",
       "└────────────────────────────────────────────────────────┴────────────────────────────────────────────────────────┘\n"
      ]
     },
     "metadata": {},
     "output_type": "display_data"
    }
   ],
   "source": [
    "# Perform a query - replace vault_id with your actual vault ID\n",
    "results = client.query(\n",
    "    query=\"Who wrote the paper ?\", \n",
    "    vault_id=46,  # Replace with your vault ID\n",
    "    top_k=5\n",
    ")\n",
    "\n",
    "# Display results using the built-in pretty print function\n",
    "results.prettyprint()\n"
   ]
  },
  {
   "cell_type": "markdown",
   "metadata": {
    "vscode": {
     "languageId": "raw"
    }
   },
   "source": [
    "## Access Individual Results\n",
    "\n",
    "You can also access the results programmatically:\n"
   ]
  },
  {
   "cell_type": "code",
   "execution_count": 6,
   "metadata": {},
   "outputs": [
    {
     "name": "stdout",
     "output_type": "stream",
     "text": [
      "📊 Found 5 relevant documents\n",
      "⏱️ Query took 0.71 seconds\n",
      "\n",
      "📄 First document: APIVIA-CG-AUTO-26JANV24.pdf\n",
      "📝 Content preview: # 4.4. Le règlement des indemnités\n",
      "\n",
      "Le paiement est effectué entre vos mains ou entre les mains du garagiste lorsque nous nous sommes engagés à le régler directement à votre place, dans un délai de 15...\n"
     ]
    }
   ],
   "source": [
    "print(f\"📊 Found {len(results.sources)} relevant documents\")\n",
    "print(f\"⏱️ Query took {results.timing.get('total_time', 0):.2f} seconds\")\n",
    "\n",
    "# Print the first source\n",
    "if results.sources:\n",
    "    first_source = results.sources[0]\n",
    "    print(f\"\\n📄 First document: {first_source.get('source_name', 'Unknown')}\")\n",
    "    print(f\"📝 Content preview: {first_source.get('page_content', '')[:200]}...\")\n",
    "    \n",
    "    if results.answer:\n",
    "        print(f\"\\n🤖 Generated answer: {results.answer}\")\n"
   ]
  }
 ],
 "metadata": {
  "kernelspec": {
   "display_name": "Python-SDK",
   "language": "python",
   "name": "python3"
  },
  "language_info": {
   "codemirror_mode": {
    "name": "ipython",
    "version": 3
   },
   "file_extension": ".py",
   "mimetype": "text/x-python",
   "name": "python",
   "nbconvert_exporter": "python",
   "pygments_lexer": "ipython3",
   "version": "3.13.3"
  }
 },
 "nbformat": 4,
 "nbformat_minor": 2
}
