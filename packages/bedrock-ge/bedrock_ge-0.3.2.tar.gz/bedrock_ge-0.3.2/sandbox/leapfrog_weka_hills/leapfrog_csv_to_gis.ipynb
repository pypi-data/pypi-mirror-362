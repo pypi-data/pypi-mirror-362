{
 "cells": [
  {
   "cell_type": "code",
   "execution_count": 1,
   "metadata": {},
   "outputs": [],
   "source": [
    "from pathlib import Path\n",
    "\n",
    "import pandas as pd\n",
    "from pyproj import CRS\n",
    "\n",
    "# from bedrock.gi.ags.read import ags_to_dfs\n",
    "# from bedrock.gi.ags.transform import ags3_db_to_no_gis_brgi_db\n",
    "from bedrock.gi.concatenate import concatenate_databases\n",
    "from bedrock.gi.gis_geometry import calculate_gis_geometry\n",
    "from bedrock.gi.write import write_gi_db_to_gpkg\n",
    "\n",
    "# pd.set_option(\"display.max_rows\", None)\n",
    "# pd.set_option(\"display.max_columns\", None)"
   ]
  },
  {
   "cell_type": "code",
   "execution_count": 2,
   "metadata": {},
   "outputs": [
    {
     "data": {
      "text/plain": [
       "[WindowsPath('c:/Users/joost/ReposWindows/bedrock-gi/data/leapfrog/weka-hills/boreholes'),\n",
       " WindowsPath('c:/Users/joost/ReposWindows/bedrock-gi/data/leapfrog/weka-hills/cpt')]"
      ]
     },
     "execution_count": 2,
     "metadata": {},
     "output_type": "execute_result"
    }
   ],
   "source": [
    "cwd = Path.cwd()\n",
    "gi_dir = cwd.parent / \"data\" / \"leapfrog\" / \"weka-hills\"\n",
    "gi_projects = sorted(list(gi_dir.glob(\"*\")))\n",
    "gi_projects"
   ]
  },
  {
   "cell_type": "code",
   "execution_count": 3,
   "metadata": {},
   "outputs": [],
   "source": [
    "class MissingTableError(Exception):\n",
    "    pass\n",
    "\n",
    "\n",
    "def assign_location_uid(df):\n",
    "    # Search for the column containing 'locationid' or 'holeid'\n",
    "    for col in df.columns:\n",
    "        if \"locationid\" in col.lower() or \"holeid\" in col.lower():\n",
    "            df[\"location_uid\"] = df[col]  # Create the 'location_uid' column\n",
    "            break  # Stop searching after finding the first match"
   ]
  },
  {
   "cell_type": "code",
   "execution_count": 4,
   "metadata": {},
   "outputs": [],
   "source": [
    "crs_wkt = CRS(2193).to_wkt()\n",
    "brgi_db = {}\n",
    "for gi_project in gi_projects:\n",
    "    project_uid = f\"{gi_project.parent.name}-{gi_project.name}\"\n",
    "    brgi_db_from_1_project = {}\n",
    "    brgi_db_from_1_project[\"Project\"] = pd.DataFrame(\n",
    "        {\n",
    "            \"project_uid\": [f\"{gi_project.parent.name}-{gi_project.name}\"],\n",
    "            \"crs_wkt\": [crs_wkt],\n",
    "        }\n",
    "    )\n",
    "    gi_table_paths = sorted(list(gi_project.glob(\"*.csv\")))\n",
    "\n",
    "    location_table_names = set([\"location\", \"collar\", \"hole\", \"borehole\", \"well\"])\n",
    "    gi_tables_lower = [gi_table.stem.lower() for gi_table in gi_table_paths]\n",
    "    if not location_table_names & set(gi_tables_lower):\n",
    "        raise MissingTableError(\n",
    "            'A table with GI Location data is missing. This table should be called \"location\", \"collar\", \"hole\", \"borehole\" or \"well\".'\n",
    "        )\n",
    "\n",
    "    for table_path in gi_table_paths:\n",
    "        table_name = table_path.stem\n",
    "        table_data = pd.read_csv(table_path)\n",
    "        table_data[\"project_uid\"] = project_uid\n",
    "        table_data[\"location_uid\"] = table_data[\"LocationID\"]\n",
    "\n",
    "        if table_name.lower() in location_table_names:\n",
    "            table_data[\"location_source_id\"] = table_data[\"LocationID\"]\n",
    "            table_data[\"location_type\"] = gi_project.name\n",
    "            table_data.rename(columns={\"Easting\": \"easting\"}, inplace=True)\n",
    "            table_data.rename(columns={\"Northing\": \"northing\"}, inplace=True)\n",
    "            table_data[\"ground_level_elevation\"] = table_data[\"GroundLevel\"]\n",
    "            table_data[\"depth_to_base\"] = table_data[\"FinalDepth\"]\n",
    "            brgi_db_from_1_project[\"Location\"] = table_data\n",
    "        elif table_name.lower() == \"spt\":\n",
    "            table_data[\"depth_to_top\"] = table_data[\"from\"]\n",
    "            brgi_db_from_1_project[\"InSitu_SPT\"] = table_data\n",
    "        else:\n",
    "            if \"location_uid\" in table_data.columns:\n",
    "                table_data[\"depth_to_top\"] = table_data[\"from\"]\n",
    "                table_data[\"depth_to_base\"] = table_data.get(\"to\")\n",
    "                brgi_db_from_1_project[f\"InSitu_{table_name}\"] = table_data\n",
    "\n",
    "    brgi_db = concatenate_databases(brgi_db, brgi_db_from_1_project)"
   ]
  },
  {
   "cell_type": "code",
   "execution_count": 5,
   "metadata": {},
   "outputs": [
    {
     "name": "stdout",
     "output_type": "stream",
     "text": [
      "Calculating GIS geometry for the Bedrock GI database tables...\n",
      "Calculating GIS geometry for the Bedrock GI 'Location' table...\n",
      "Creating 'LonLatHeight' table with GI locations in WGS84 geodetic coordinates...\n",
      "    WGS84 geodetic coordinates: (Longitude, Latitude, Ground Level Ellipsoidal Height)\n",
      "Calculating GIS geometry for the Bedrock GI 'InSitu_Geol' table...\n",
      "Calculating GIS geometry for the Bedrock GI 'InSitu_SPT' table...\n",
      "Calculating GIS geometry for the Bedrock GI 'InSitu_CPT' table...\n"
     ]
    }
   ],
   "source": [
    "brgi_db = calculate_gis_geometry(brgi_db)"
   ]
  },
  {
   "cell_type": "code",
   "execution_count": 6,
   "metadata": {},
   "outputs": [
    {
     "data": {
      "text/plain": [
       "dict_keys(['Project', 'InSitu_Geol', 'Location', 'InSitu_SPT', 'InSitu_CPT', 'LonLatHeight'])"
      ]
     },
     "execution_count": 6,
     "metadata": {},
     "output_type": "execute_result"
    }
   ],
   "source": [
    "brgi_db.keys()"
   ]
  },
  {
   "cell_type": "code",
   "execution_count": 7,
   "metadata": {},
   "outputs": [
    {
     "data": {
      "text/html": [
       "<div>\n",
       "<style scoped>\n",
       "    .dataframe tbody tr th:only-of-type {\n",
       "        vertical-align: middle;\n",
       "    }\n",
       "\n",
       "    .dataframe tbody tr th {\n",
       "        vertical-align: top;\n",
       "    }\n",
       "\n",
       "    .dataframe thead th {\n",
       "        text-align: right;\n",
       "    }\n",
       "</style>\n",
       "<table border=\"1\" class=\"dataframe\">\n",
       "  <thead>\n",
       "    <tr style=\"text-align: right;\">\n",
       "      <th></th>\n",
       "      <th>project_uid</th>\n",
       "      <th>crs_wkt</th>\n",
       "    </tr>\n",
       "  </thead>\n",
       "  <tbody>\n",
       "    <tr>\n",
       "      <th>0</th>\n",
       "      <td>weka-hills-boreholes</td>\n",
       "      <td>PROJCRS[\"NZGD2000 / New Zealand Transverse Mer...</td>\n",
       "    </tr>\n",
       "    <tr>\n",
       "      <th>1</th>\n",
       "      <td>weka-hills-cpt</td>\n",
       "      <td>PROJCRS[\"NZGD2000 / New Zealand Transverse Mer...</td>\n",
       "    </tr>\n",
       "  </tbody>\n",
       "</table>\n",
       "</div>"
      ],
      "text/plain": [
       "            project_uid                                            crs_wkt\n",
       "0  weka-hills-boreholes  PROJCRS[\"NZGD2000 / New Zealand Transverse Mer...\n",
       "1        weka-hills-cpt  PROJCRS[\"NZGD2000 / New Zealand Transverse Mer..."
      ]
     },
     "execution_count": 7,
     "metadata": {},
     "output_type": "execute_result"
    }
   ],
   "source": [
    "brgi_db[\"Project\"]"
   ]
  },
  {
   "cell_type": "code",
   "execution_count": 10,
   "metadata": {},
   "outputs": [
    {
     "data": {
      "text/html": [
       "<div>\n",
       "<style scoped>\n",
       "    .dataframe tbody tr th:only-of-type {\n",
       "        vertical-align: middle;\n",
       "    }\n",
       "\n",
       "    .dataframe tbody tr th {\n",
       "        vertical-align: top;\n",
       "    }\n",
       "\n",
       "    .dataframe thead th {\n",
       "        text-align: right;\n",
       "    }\n",
       "</style>\n",
       "<table border=\"1\" class=\"dataframe\">\n",
       "  <thead>\n",
       "    <tr style=\"text-align: right;\">\n",
       "      <th></th>\n",
       "      <th>LocationID</th>\n",
       "      <th>from</th>\n",
       "      <th>to</th>\n",
       "      <th>SPT</th>\n",
       "      <th>Rock Quality</th>\n",
       "      <th>project_uid</th>\n",
       "      <th>location_uid</th>\n",
       "      <th>depth_to_top</th>\n",
       "      <th>elevation_at_top</th>\n",
       "      <th>geometry</th>\n",
       "    </tr>\n",
       "  </thead>\n",
       "  <tbody>\n",
       "    <tr>\n",
       "      <th>0</th>\n",
       "      <td>WH_016</td>\n",
       "      <td>0.0</td>\n",
       "      <td>1.0</td>\n",
       "      <td>11.0</td>\n",
       "      <td>Limestone: V, VI</td>\n",
       "      <td>weka-hills-boreholes</td>\n",
       "      <td>WH_016</td>\n",
       "      <td>0.0</td>\n",
       "      <td>610.18681</td>\n",
       "      <td>POINT Z (1165762.475 4888326.462 610.187)</td>\n",
       "    </tr>\n",
       "    <tr>\n",
       "      <th>1</th>\n",
       "      <td>WH_016</td>\n",
       "      <td>1.0</td>\n",
       "      <td>2.0</td>\n",
       "      <td>3.0</td>\n",
       "      <td>Limestone: V, VI</td>\n",
       "      <td>weka-hills-boreholes</td>\n",
       "      <td>WH_016</td>\n",
       "      <td>1.0</td>\n",
       "      <td>609.18681</td>\n",
       "      <td>POINT Z (1165762.475 4888326.462 609.187)</td>\n",
       "    </tr>\n",
       "    <tr>\n",
       "      <th>2</th>\n",
       "      <td>WH_016</td>\n",
       "      <td>2.0</td>\n",
       "      <td>3.0</td>\n",
       "      <td>2.0</td>\n",
       "      <td>Limestone: V, VI</td>\n",
       "      <td>weka-hills-boreholes</td>\n",
       "      <td>WH_016</td>\n",
       "      <td>2.0</td>\n",
       "      <td>608.18681</td>\n",
       "      <td>POINT Z (1165762.475 4888326.462 608.187)</td>\n",
       "    </tr>\n",
       "    <tr>\n",
       "      <th>3</th>\n",
       "      <td>WH_016</td>\n",
       "      <td>3.0</td>\n",
       "      <td>4.0</td>\n",
       "      <td>6.0</td>\n",
       "      <td>Limestone: V, VI</td>\n",
       "      <td>weka-hills-boreholes</td>\n",
       "      <td>WH_016</td>\n",
       "      <td>3.0</td>\n",
       "      <td>607.18681</td>\n",
       "      <td>POINT Z (1165762.475 4888326.462 607.187)</td>\n",
       "    </tr>\n",
       "    <tr>\n",
       "      <th>4</th>\n",
       "      <td>WH_016</td>\n",
       "      <td>4.0</td>\n",
       "      <td>5.0</td>\n",
       "      <td>9.0</td>\n",
       "      <td>Limestone: V, VI</td>\n",
       "      <td>weka-hills-boreholes</td>\n",
       "      <td>WH_016</td>\n",
       "      <td>4.0</td>\n",
       "      <td>606.18681</td>\n",
       "      <td>POINT Z (1165762.475 4888326.462 606.187)</td>\n",
       "    </tr>\n",
       "  </tbody>\n",
       "</table>\n",
       "</div>"
      ],
      "text/plain": [
       "  LocationID  from   to   SPT      Rock Quality           project_uid  \\\n",
       "0     WH_016   0.0  1.0  11.0  Limestone: V, VI  weka-hills-boreholes   \n",
       "1     WH_016   1.0  2.0   3.0  Limestone: V, VI  weka-hills-boreholes   \n",
       "2     WH_016   2.0  3.0   2.0  Limestone: V, VI  weka-hills-boreholes   \n",
       "3     WH_016   3.0  4.0   6.0  Limestone: V, VI  weka-hills-boreholes   \n",
       "4     WH_016   4.0  5.0   9.0  Limestone: V, VI  weka-hills-boreholes   \n",
       "\n",
       "  location_uid  depth_to_top  elevation_at_top  \\\n",
       "0       WH_016           0.0         610.18681   \n",
       "1       WH_016           1.0         609.18681   \n",
       "2       WH_016           2.0         608.18681   \n",
       "3       WH_016           3.0         607.18681   \n",
       "4       WH_016           4.0         606.18681   \n",
       "\n",
       "                                    geometry  \n",
       "0  POINT Z (1165762.475 4888326.462 610.187)  \n",
       "1  POINT Z (1165762.475 4888326.462 609.187)  \n",
       "2  POINT Z (1165762.475 4888326.462 608.187)  \n",
       "3  POINT Z (1165762.475 4888326.462 607.187)  \n",
       "4  POINT Z (1165762.475 4888326.462 606.187)  "
      ]
     },
     "execution_count": 10,
     "metadata": {},
     "output_type": "execute_result"
    }
   ],
   "source": [
    "brgi_db[\"InSitu_SPT\"].head()"
   ]
  },
  {
   "cell_type": "code",
   "execution_count": 9,
   "metadata": {},
   "outputs": [
    {
     "data": {
      "text/plain": [
       "5029"
      ]
     },
     "execution_count": 9,
     "metadata": {},
     "output_type": "execute_result"
    }
   ],
   "source": [
    "len(brgi_db[\"InSitu_SPT\"])"
   ]
  },
  {
   "cell_type": "code",
   "execution_count": 11,
   "metadata": {},
   "outputs": [],
   "source": [
    "brgi_db[\"InSitu_Geol\"].to_file(cwd / \"weka_hills_gi_Geol.geojson\", driver=\"GeoJSON\")"
   ]
  },
  {
   "cell_type": "code",
   "execution_count": 12,
   "metadata": {},
   "outputs": [
    {
     "name": "stdout",
     "output_type": "stream",
     "text": [
      "Ground Investigation data has been written to 'c:\\Users\\joost\\ReposWindows\\bedrock-gi\\sandbox\\weka_hills_gi.gpkg'.\n"
     ]
    }
   ],
   "source": [
    "write_gi_db_to_gpkg(brgi_db, cwd / \"weka_hills_gi.gpkg\")"
   ]
  }
 ],
 "metadata": {
  "kernelspec": {
   "display_name": ".venv",
   "language": "python",
   "name": "python3"
  },
  "language_info": {
   "codemirror_mode": {
    "name": "ipython",
    "version": 3
   },
   "file_extension": ".py",
   "mimetype": "text/x-python",
   "name": "python",
   "nbconvert_exporter": "python",
   "pygments_lexer": "ipython3",
   "version": "3.9.20"
  }
 },
 "nbformat": 4,
 "nbformat_minor": 2
}
