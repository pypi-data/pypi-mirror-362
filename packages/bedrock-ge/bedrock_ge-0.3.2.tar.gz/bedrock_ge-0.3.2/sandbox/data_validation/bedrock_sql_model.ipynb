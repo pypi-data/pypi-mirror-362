{
 "cells": [
  {
   "cell_type": "code",
   "execution_count": 5,
   "metadata": {},
   "outputs": [],
   "source": [
    "from bedrock.gi.sqlmodels import SPT, Location, Material, Project"
   ]
  },
  {
   "cell_type": "code",
   "execution_count": 4,
   "metadata": {},
   "outputs": [
    {
     "data": {
      "text/plain": [
       "{'properties': {'id': {'anyOf': [{'type': 'integer'}, {'type': 'null'}],\n",
       "   'default': None,\n",
       "   'title': 'Id'},\n",
       "  'location_uid': {'title': 'Location Uid', 'type': 'string'},\n",
       "  'project_uid': {'title': 'Project Uid', 'type': 'string'},\n",
       "  'depth_to_top': {'title': 'Depth To Top', 'type': 'number'},\n",
       "  'elevation_at_top': {'title': 'Elevation At Top', 'type': 'number'},\n",
       "  'spt_count': {'title': 'Spt Count', 'type': 'integer'},\n",
       "  'geometry': {'anyOf': [{'type': 'string'}, {'type': 'null'}],\n",
       "   'description': 'POINT',\n",
       "   'title': 'Geometry'}},\n",
       " 'required': ['location_uid',\n",
       "  'project_uid',\n",
       "  'depth_to_top',\n",
       "  'elevation_at_top',\n",
       "  'spt_count',\n",
       "  'geometry'],\n",
       " 'title': 'SPT',\n",
       " 'type': 'object'}"
      ]
     },
     "execution_count": 4,
     "metadata": {},
     "output_type": "execute_result"
    }
   ],
   "source": [
    "Project.model_json_schema()\n",
    "Location.model_json_schema()\n",
    "Material.model_json_schema()\n",
    "SPT.model_json_schema()"
   ]
  }
 ],
 "metadata": {
  "kernelspec": {
   "display_name": ".venv",
   "language": "python",
   "name": "python3"
  },
  "language_info": {
   "codemirror_mode": {
    "name": "ipython",
    "version": 3
   },
   "file_extension": ".py",
   "mimetype": "text/x-python",
   "name": "python",
   "nbconvert_exporter": "python",
   "pygments_lexer": "ipython3",
   "version": "3.9.20"
  }
 },
 "nbformat": 4,
 "nbformat_minor": 2
}
