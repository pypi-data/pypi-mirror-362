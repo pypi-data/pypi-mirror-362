{
 "cells": [
  {
   "cell_type": "code",
   "execution_count": null,
   "metadata": {},
   "outputs": [],
   "source": [
    "# %pip install pycirclizely"
   ]
  },
  {
   "cell_type": "code",
   "execution_count": 1,
   "metadata": {},
   "outputs": [],
   "source": [
    "import plotly.io as pio\n",
    "from IPython.display import HTML"
   ]
  },
  {
   "attachments": {},
   "cell_type": "markdown",
   "metadata": {},
   "source": [
    "## 1. Circos Class Plot"
   ]
  },
  {
   "attachments": {},
   "cell_type": "markdown",
   "metadata": {},
   "source": [
    "### 1-1. axis"
   ]
  },
  {
   "cell_type": "code",
   "execution_count": null,
   "metadata": {},
   "outputs": [],
   "source": [
    "from pycirclizely import Circos\n",
    "\n",
    "sectors = {\"A\": 10, \"B\": 20, \"C\": 15}\n",
    "circos = Circos(sectors, space=5)\n",
    "circos.axis()\n",
    "fig = circos.plotfig()\n",
    "HTML(pio.to_html(fig, include_plotlyjs=\"cdn\"))"
   ]
  },
  {
   "cell_type": "code",
   "execution_count": null,
   "metadata": {},
   "outputs": [],
   "source": [
    "from pycirclizely import Circos\n",
    "\n",
    "sectors = {\"A\": 10, \"B\": 20, \"C\": 15}\n",
    "circos = Circos(sectors, end=270, space=5)\n",
    "circos.axis(fillcolor=\"lightgrey\", line=dict(color=\"red\"))\n",
    "fig = circos.plotfig()\n",
    "HTML(pio.to_html(fig, include_plotlyjs=\"cdn\"))"
   ]
  },
  {
   "attachments": {},
   "cell_type": "markdown",
   "metadata": {},
   "source": [
    "### 1-2. text"
   ]
  },
  {
   "cell_type": "code",
   "execution_count": null,
   "metadata": {},
   "outputs": [],
   "source": [
    "import math\n",
    "\n",
    "from pycirclizely import Circos\n",
    "\n",
    "sectors = {\"A\": 10, \"B\": 20, \"C\": 15}\n",
    "circos = Circos(sectors, space=5)\n",
    "circos.text(\"center\")\n",
    "circos.text(\"top\", r=100)\n",
    "circos.text(\"right\", r=100, deg=90)\n",
    "circos.text(\"right-middle\", r=50, deg=90)\n",
    "circos.text(\"bottom\", r=100, deg=180)\n",
    "circos.text(\"left\", r=100, deg=270)\n",
    "circos.text(\"left-top\", r=100 * math.sqrt(2), deg=315)\n",
    "fig = circos.plotfig()\n",
    "HTML(pio.to_html(fig, include_plotlyjs=\"cdn\"))"
   ]
  },
  {
   "attachments": {},
   "cell_type": "markdown",
   "metadata": {},
   "source": [
    "### 1-3. line"
   ]
  },
  {
   "cell_type": "code",
   "execution_count": null,
   "metadata": {},
   "outputs": [],
   "source": [
    "from pycirclizely import Circos\n",
    "\n",
    "sectors = {\"A\": 10, \"B\": 20, \"C\": 15}\n",
    "circos = Circos(sectors, space=5)\n",
    "circos.line(r=100)\n",
    "circos.line(r=80, deg_lim=(0, 270), line=dict(color=\"red\"))\n",
    "circos.line(r=60, deg_lim=(90, 360), line=dict(color=\"blue\", width=3, dash=\"dot\"))\n",
    "fig = circos.plotfig()\n",
    "HTML(pio.to_html(fig, include_plotlyjs=\"cdn\"))"
   ]
  },
  {
   "attachments": {},
   "cell_type": "markdown",
   "metadata": {},
   "source": [
    "### 1-4. rect"
   ]
  },
  {
   "cell_type": "code",
   "execution_count": null,
   "metadata": {},
   "outputs": [],
   "source": [
    "from pycirclizely import Circos\n",
    "\n",
    "sectors = {\"A\": 10, \"B\": 20, \"C\": 15}\n",
    "circos = Circos(sectors, space=5)\n",
    "circos.rect(r_lim=(80, 100), fillcolor=\"dodgerblue\")\n",
    "circos.rect(r_lim=(60, 80), deg_lim=(0, 270), fillcolor=\"tomato\")\n",
    "circos.rect(\n",
    "    r_lim=(30, 50),\n",
    "    deg_lim=(90, 360),\n",
    "    fillcolor=\"lime\",\n",
    "    line=dict(color=\"grey\", width=2),\n",
    ")\n",
    "circos.rect(r_lim=(30, 100), deg_lim=(0, 90), fillcolor=\"orange\", opacity=0.2)\n",
    "fig = circos.plotfig()\n",
    "HTML(pio.to_html(fig, include_plotlyjs=\"cdn\"))"
   ]
  },
  {
   "attachments": {},
   "cell_type": "markdown",
   "metadata": {},
   "source": [
    "### 1-5. link"
   ]
  },
  {
   "cell_type": "code",
   "execution_count": null,
   "metadata": {},
   "outputs": [],
   "source": [
    "from pycirclizely import Circos\n",
    "\n",
    "sectors = {\"A\": 10, \"B\": 20, \"C\": 15}\n",
    "name2color = {\"A\": \"red\", \"B\": \"blue\", \"C\": \"green\"}\n",
    "circos = Circos(sectors, space=5)\n",
    "for sector in circos.sectors:\n",
    "    track = sector.add_track((95, 100))\n",
    "    track.axis(fillcolor=name2color[sector.name])\n",
    "    track.text(sector.name, font=dict(color=\"white\", size=12))\n",
    "    track.xticks_by_interval(1)\n",
    "\n",
    "# Plot links in various styles\n",
    "circos.link((\"A\", 0, 1), (\"A\", 7, 8))\n",
    "circos.link((\"A\", 1, 2), (\"A\", 7, 6), fillcolor=\"skyblue\")\n",
    "circos.link((\"A\", 9, 10), (\"B\", 4, 3), direction=1, fillcolor=\"tomato\")\n",
    "circos.link((\"B\", 5, 7), (\"C\", 6, 8), direction=1, line=dict(color=\"black\", width=1))\n",
    "circos.link(\n",
    "    (\"B\", 18, 16),\n",
    "    (\"B\", 11, 13),\n",
    "    r1=90,\n",
    "    r2=90,\n",
    "    fillcolor=\"violet\",\n",
    "    line=dict(\n",
    "        color=\"red\",\n",
    "        width=2,\n",
    "        dash=\"dash\",\n",
    "    ),\n",
    ")\n",
    "circos.link((\"C\", 1, 3), (\"B\", 2, 0), direction=1, fillcolor=\"limegreen\")\n",
    "circos.link(\n",
    "    (\"C\", 11.5, 14),\n",
    "    (\"A\", 4, 3),\n",
    "    direction=2,\n",
    "    fillcolor=\"chocolate\",\n",
    "    line=dict(\n",
    "        color=\"black\",\n",
    "        width=1,\n",
    "        dash=\"dot\",\n",
    "    ),\n",
    ")\n",
    "\n",
    "fig = circos.plotfig()\n",
    "HTML(pio.to_html(fig, include_plotlyjs=\"cdn\"))"
   ]
  },
  {
   "cell_type": "markdown",
   "metadata": {},
   "source": [
    "### 1-6. link_line"
   ]
  },
  {
   "cell_type": "code",
   "execution_count": null,
   "metadata": {},
   "outputs": [],
   "source": [
    "from pycirclizely import Circos\n",
    "\n",
    "sectors = {\"A\": 10, \"B\": 20, \"C\": 15}\n",
    "name2color = {\"A\": \"red\", \"B\": \"blue\", \"C\": \"green\"}\n",
    "circos = Circos(sectors, space=5)\n",
    "for sector in circos.sectors:\n",
    "    track = sector.add_track((95, 100))\n",
    "    track.axis(fillcolor=name2color[sector.name])\n",
    "    track.text(sector.name, font=dict(color=\"white\", size=12))\n",
    "    track.xticks_by_interval(1)\n",
    "\n",
    "# Plot link lines in various styles\n",
    "circos.link_line((\"A\", 0), (\"A\", 7))\n",
    "circos.link_line((\"A\", 9), (\"B\", 3), direction=1, line=dict(color=\"red\"))\n",
    "circos.link_line((\"B\", 5), (\"B\", 7), direction=-1, line=dict(width=1.0, color=\"blue\"))\n",
    "circos.link_line(\n",
    "    (\"B\", 8),\n",
    "    (\"B\", 15),\n",
    "    r1=90,\n",
    "    r2=90,\n",
    "    direction=2,\n",
    "    line=dict(color=\"green\", dash=\"dashdot\"),\n",
    ")\n",
    "\n",
    "circos.link((\"B\", 17, 19), (\"C\", 11, 9), fillcolor=\"black\")\n",
    "circos.link_line(\n",
    "    (\"B\", 18),\n",
    "    (\"C\", 10),\n",
    "    direction=1,\n",
    "    arrow_height=8,\n",
    "    arrow_width=0.15,\n",
    "    line=dict(color=\"white\", width=1.0),\n",
    ")\n",
    "\n",
    "fig = circos.plotfig()\n",
    "HTML(pio.to_html(fig, include_plotlyjs=\"cdn\"))"
   ]
  },
  {
   "attachments": {},
   "cell_type": "markdown",
   "metadata": {},
   "source": [
    "## 2. Sector Class Plot"
   ]
  },
  {
   "attachments": {},
   "cell_type": "markdown",
   "metadata": {},
   "source": [
    "### 2-1. axis"
   ]
  },
  {
   "cell_type": "code",
   "execution_count": null,
   "metadata": {},
   "outputs": [],
   "source": [
    "from pycirclizely import Circos\n",
    "\n",
    "sectors = {\"A\": 10, \"B\": 20, \"C\": 15}\n",
    "circos = Circos(sectors, space=5)\n",
    "sector_a = circos.get_sector(\"A\")\n",
    "sector_a.axis()\n",
    "sector_b = circos.get_sector(\"B\")\n",
    "sector_b.axis(fillcolor=\"lightgrey\", line=dict(width=2, dash=\"dot\"))\n",
    "sector_c = circos.get_sector(\"C\")\n",
    "sector_c.axis(fillcolor=\"tomato\", line=dict(color=\"blue\"))\n",
    "fig = circos.plotfig()\n",
    "HTML(pio.to_html(fig, include_plotlyjs=\"cdn\"))"
   ]
  },
  {
   "attachments": {},
   "cell_type": "markdown",
   "metadata": {},
   "source": [
    "### 2-2. text"
   ]
  },
  {
   "cell_type": "code",
   "execution_count": null,
   "metadata": {},
   "outputs": [],
   "source": [
    "from pycirclizely import Circos\n",
    "\n",
    "sectors = {\"A\": 10, \"B\": 20, \"C\": 15}\n",
    "name2color = {\"A\": \"red\", \"B\": \"blue\", \"C\": \"green\"}\n",
    "circos = Circos(sectors, space=5)\n",
    "for sector in circos.sectors:\n",
    "    sector.axis()\n",
    "    sector.text(sector.name, font=dict(size=15))\n",
    "    sector.text(\n",
    "        f\"Center\\n{sector.name}\",\n",
    "        r=50,\n",
    "        font=dict(size=15, color=name2color[sector.name]),\n",
    "    )\n",
    "\n",
    "fig = circos.plotfig()\n",
    "HTML(pio.to_html(fig, include_plotlyjs=\"cdn\"))"
   ]
  },
  {
   "attachments": {},
   "cell_type": "markdown",
   "metadata": {},
   "source": [
    "### 2-3. line"
   ]
  },
  {
   "cell_type": "code",
   "execution_count": null,
   "metadata": {},
   "outputs": [],
   "source": [
    "from pycirclizely import Circos\n",
    "\n",
    "sectors = {\"A\": 10, \"B\": 20, \"C\": 15}\n",
    "circos = Circos(sectors, space=5)\n",
    "for sector in circos.sectors:\n",
    "    sector.axis()\n",
    "    sector.line(r=90)\n",
    "    sector_center = (sector.start + sector.end) / 2\n",
    "    sector.line(r=80, end=sector_center, line=dict(color=\"red\"))\n",
    "    sector.line(r=80, start=sector_center, line=dict(color=\"blue\"))\n",
    "    sector.line(r=60, line=dict(color=\"green\", width=2, dash=\"dot\"))\n",
    "\n",
    "fig = circos.plotfig()\n",
    "HTML(pio.to_html(fig, include_plotlyjs=\"cdn\"))"
   ]
  },
  {
   "attachments": {},
   "cell_type": "markdown",
   "metadata": {},
   "source": [
    "### 2-4. rect"
   ]
  },
  {
   "cell_type": "code",
   "execution_count": null,
   "metadata": {},
   "outputs": [],
   "source": [
    "from pycirclizely import Circos\n",
    "from pycirclizely.utils import ColorCycler\n",
    "\n",
    "color_cycler = ColorCycler(\"T10\")\n",
    "\n",
    "sectors = {\"A\": 10, \"B\": 20, \"C\": 15}\n",
    "circos = Circos(sectors, space=5)\n",
    "for sector in circos.sectors:\n",
    "    sector.axis()\n",
    "    sector.rect(r_lim=(90, 100), fillcolor=\"tomato\")\n",
    "    sector_center = (sector.start + sector.end) / 2\n",
    "    sector.rect(end=sector_center, r_lim=(70, 80), fillcolor=\"skyblue\")\n",
    "    sector.rect(start=sector_center, r_lim=(70, 80), fillcolor=\"limegreen\")\n",
    "    for i in range(int(sector.size)):\n",
    "        sector.rect(\n",
    "            start=i,\n",
    "            end=i + 1,\n",
    "            r_lim=(50, 60),\n",
    "            fillcolor=color_cycler.get_color(),\n",
    "            line=dict(color=\"black\", width=1),\n",
    "        )\n",
    "    sector.rect(\n",
    "        sector.start + 3,\n",
    "        sector.end - 3,\n",
    "        r_lim=(30, 100),\n",
    "        fillcolor=\"orange\",\n",
    "        opacity=0.2,\n",
    "    )\n",
    "\n",
    "fig = circos.plotfig()\n",
    "HTML(pio.to_html(fig, include_plotlyjs=\"cdn\"))"
   ]
  },
  {
   "attachments": {},
   "cell_type": "markdown",
   "metadata": {},
   "source": [
    "## 3. Track Class Plot"
   ]
  },
  {
   "attachments": {},
   "cell_type": "markdown",
   "metadata": {},
   "source": [
    "### 3-1. axis"
   ]
  },
  {
   "cell_type": "code",
   "execution_count": null,
   "metadata": {},
   "outputs": [],
   "source": [
    "from pycirclizely import Circos\n",
    "\n",
    "sectors = {\"A\": 10, \"B\": 20, \"C\": 15}\n",
    "circos = Circos(sectors, space=5)\n",
    "for sector in circos.sectors:\n",
    "    track1 = sector.add_track((90, 100))\n",
    "    track1.axis()\n",
    "    track2 = sector.add_track((70, 80))\n",
    "    track2.axis(fillcolor=\"lightgrey\")\n",
    "\n",
    "fig = circos.plotfig()\n",
    "HTML(pio.to_html(fig, include_plotlyjs=\"cdn\"))"
   ]
  },
  {
   "attachments": {},
   "cell_type": "markdown",
   "metadata": {},
   "source": [
    "### 3-2. text"
   ]
  },
  {
   "cell_type": "code",
   "execution_count": null,
   "metadata": {},
   "outputs": [],
   "source": [
    "from pycirclizely import Circos\n",
    "\n",
    "sectors = {\"A\": 10, \"B\": 20, \"C\": 15}\n",
    "circos = Circos(sectors, space=5)\n",
    "for sector in circos.sectors:\n",
    "    track1 = sector.add_track((90, 100))\n",
    "    track1.axis()\n",
    "    track1.text(sector.name)\n",
    "    track2 = sector.add_track((70, 80))\n",
    "    track2.axis(fillcolor=\"lightgrey\")\n",
    "    track2.text(\n",
    "        sector.name,\n",
    "        orientation=\"vertical\",\n",
    "        font=dict(color=\"red\", size=15),\n",
    "    )\n",
    "\n",
    "fig = circos.plotfig()\n",
    "HTML(pio.to_html(fig, include_plotlyjs=\"cdn\"))"
   ]
  },
  {
   "attachments": {},
   "cell_type": "markdown",
   "metadata": {},
   "source": [
    "### 3-3. rect"
   ]
  },
  {
   "cell_type": "code",
   "execution_count": null,
   "metadata": {},
   "outputs": [],
   "source": [
    "from pycirclizely import Circos\n",
    "from pycirclizely.utils import ColorCycler\n",
    "\n",
    "color_cycler = ColorCycler(\"T10\")\n",
    "\n",
    "sectors = {\"A\": 10, \"B\": 20, \"C\": 15}\n",
    "circos = Circos(sectors, space=5)\n",
    "for sector in circos.sectors:\n",
    "    track1 = sector.add_track((90, 100))\n",
    "    track1.axis()\n",
    "    # Plot rect & text (style1)\n",
    "    for i in range(int(track1.size)):\n",
    "        start, end = i, i + 1\n",
    "        track1.rect(start, end, fillcolor=color_cycler.get_color())\n",
    "        track1.text(str(end), (end + start) / 2)\n",
    "    # Plot rect & text (style2)\n",
    "    track2 = sector.add_track((70, 80))\n",
    "    for i in range(int(track2.size)):\n",
    "        start, end = i, i + 1\n",
    "        track2.rect(\n",
    "            start,\n",
    "            end,\n",
    "            fillcolor=color_cycler.get_color(),\n",
    "            line=dict(color=\"white\", width=1),\n",
    "        )\n",
    "        track2.text(\n",
    "            str(end),\n",
    "            (end + start) / 2,\n",
    "            font=dict(color=\"white\"),\n",
    "            orientation=\"vertical\",\n",
    "        )\n",
    "\n",
    "fig = circos.plotfig()\n",
    "HTML(pio.to_html(fig, include_plotlyjs=\"cdn\"))"
   ]
  },
  {
   "attachments": {},
   "cell_type": "markdown",
   "metadata": {},
   "source": [
    "### 3-4. arrow"
   ]
  },
  {
   "cell_type": "code",
   "execution_count": null,
   "metadata": {},
   "outputs": [],
   "source": [
    "from pycirclizely import Circos\n",
    "from pycirclizely.utils import ColorCycler\n",
    "\n",
    "color_cycler = ColorCycler(\"T10\")\n",
    "\n",
    "sectors = {\"A\": 10, \"B\": 20, \"C\": 15}\n",
    "circos = Circos(sectors, space=5)\n",
    "for sector in circos.sectors:\n",
    "    sector.axis()\n",
    "    # Plot forward arrow with default style\n",
    "    track1 = sector.add_track((90, 100))\n",
    "    for i in range(int(track1.size)):\n",
    "        start, end = i, i + 1\n",
    "        track1.arrow(start, end, fillcolor=color_cycler.get_color())\n",
    "    # Plot reverse arrow with user-specified style\n",
    "    track2 = sector.add_track((70, 80))\n",
    "    for i in range(int(track2.size)):\n",
    "        start, end = i, i + 1\n",
    "        track2.arrow(\n",
    "            end,\n",
    "            start,\n",
    "            head_length=4,\n",
    "            shaft_ratio=1.0,\n",
    "            fillcolor=color_cycler.get_color(),\n",
    "            line=dict(\n",
    "                color=\"black\",\n",
    "                width=0.5,\n",
    "            ),\n",
    "        )\n",
    "\n",
    "fig = circos.plotfig()\n",
    "HTML(pio.to_html(fig, include_plotlyjs=\"cdn\"))"
   ]
  },
  {
   "attachments": {},
   "cell_type": "markdown",
   "metadata": {},
   "source": [
    "### 3-5. xticks"
   ]
  },
  {
   "cell_type": "code",
   "execution_count": null,
   "metadata": {},
   "outputs": [],
   "source": [
    "from pycirclizely import Circos\n",
    "\n",
    "sectors = {\"A\": 10, \"B\": 20, \"C\": 15}\n",
    "circos = Circos(sectors, space=5)\n",
    "for sector in circos.sectors:\n",
    "    track1 = sector.add_track((90, 100))\n",
    "    track1.axis()\n",
    "    # Plot outer xticks\n",
    "    pos_list = list(range(0, int(track1.size) + 1))\n",
    "    labels = [f\"{i:02d}\" for i in pos_list]\n",
    "    track1.xticks(pos_list, labels)\n",
    "    # Plot inner xticks label\n",
    "    labels = [f\"Label{i:02d}\" for i in pos_list]\n",
    "    track1.xticks(\n",
    "        pos_list,\n",
    "        labels,\n",
    "        tick_length=0,\n",
    "        outer=False,\n",
    "        label_margin=2,\n",
    "        label_orientation=\"vertical\",\n",
    "    )\n",
    "fig = circos.plotfig()\n",
    "HTML(pio.to_html(fig, include_plotlyjs=\"cdn\"))"
   ]
  },
  {
   "attachments": {},
   "cell_type": "markdown",
   "metadata": {},
   "source": [
    "### 3-6. xticks_by_interval"
   ]
  },
  {
   "attachments": {},
   "cell_type": "markdown",
   "metadata": {},
   "source": [
    "#### 3-6-1. Small interval"
   ]
  },
  {
   "cell_type": "code",
   "execution_count": null,
   "metadata": {},
   "outputs": [],
   "source": [
    "from pycirclizely import Circos\n",
    "\n",
    "sectors = {\"A\": 10, \"B\": 20, \"C\": 15}\n",
    "circos = Circos(sectors, space=5)\n",
    "for sector in circos.sectors:\n",
    "    # Plot outer xticks\n",
    "    track1 = sector.add_track((90, 100))\n",
    "    track1.axis()\n",
    "    track1.xticks_by_interval(1, text_kws=dict(font=dict(size=12)))\n",
    "    # Plot inner xticks\n",
    "    track2 = sector.add_track((70, 80))\n",
    "    track2.xticks_by_interval(\n",
    "        2,\n",
    "        outer=False,\n",
    "        show_bottom_line=True,\n",
    "        label_orientation=\"vertical\",\n",
    "        line_kws=dict(line=dict(color=\"red\")),\n",
    "        text_kws=dict(font=dict(color=\"blue\")),\n",
    "    )\n",
    "fig = circos.plotfig()\n",
    "HTML(pio.to_html(fig, include_plotlyjs=\"cdn\"))"
   ]
  },
  {
   "attachments": {},
   "cell_type": "markdown",
   "metadata": {},
   "source": [
    "#### 3-6-2. Large interval"
   ]
  },
  {
   "cell_type": "code",
   "execution_count": null,
   "metadata": {},
   "outputs": [],
   "source": [
    "from pycirclizely import Circos\n",
    "\n",
    "sectors = {\"A\": 10000000, \"B\": 20000000, \"C\": 15000000}\n",
    "circos = Circos(sectors, space=5)\n",
    "for sector in circos.sectors:\n",
    "    # Major & Minor xticks\n",
    "    track1 = sector.add_track((90, 100))\n",
    "    track1.axis()\n",
    "    mb_size = 1000000\n",
    "    track1.xticks_by_interval(mb_size, label_orientation=\"vertical\")\n",
    "    track1.xticks_by_interval(mb_size / 5, tick_length=1, show_label=False)\n",
    "    # Mb formatted xticks\n",
    "    track2 = sector.add_track((80, 90))\n",
    "    track2.xticks_by_interval(\n",
    "        mb_size,\n",
    "        outer=False,\n",
    "        show_bottom_line=True,\n",
    "        label_orientation=\"vertical\",\n",
    "        label_formatter=lambda v: f\"{v / mb_size:.1f} Mbp\",\n",
    "    )\n",
    "fig = circos.plotfig()\n",
    "HTML(pio.to_html(fig, include_plotlyjs=\"cdn\"))"
   ]
  },
  {
   "attachments": {},
   "cell_type": "markdown",
   "metadata": {},
   "source": [
    "### 3-7. yticks"
   ]
  },
  {
   "cell_type": "code",
   "execution_count": null,
   "metadata": {},
   "outputs": [],
   "source": [
    "from pycirclizely import Circos\n",
    "\n",
    "sectors = {\"A\": 10000000, \"B\": 20000000, \"C\": 15000000}\n",
    "circos = Circos(sectors, space=15)\n",
    "for sector in circos.sectors:\n",
    "    # Plot yticks\n",
    "    track1 = sector.add_track((80, 100))\n",
    "    track1.axis()\n",
    "    y = [0, 5, 10, 15, 20]\n",
    "    y_labels = list(map(str, y))\n",
    "    track1.yticks(y, y_labels)\n",
    "    # Plot yticks label on left side\n",
    "    track2 = sector.add_track((50, 70), r_pad_ratio=0.1)\n",
    "    track2.axis()\n",
    "    y = [10, 15, 20]\n",
    "    y_labels = [\"Label1\", \"Label2\", \"Label3\"]\n",
    "    track2.yticks(\n",
    "        y,\n",
    "        y_labels,\n",
    "        vmin=10,\n",
    "        vmax=25,\n",
    "        side=\"left\",\n",
    "        line_kws=dict(line=dict(color=\"red\", width=1.5)),\n",
    "        text_kws=dict(font=dict(color=\"blue\", size=9)),\n",
    "    )\n",
    "\n",
    "fig = circos.plotfig()\n",
    "HTML(pio.to_html(fig, include_plotlyjs=\"cdn\"))"
   ]
  },
  {
   "attachments": {},
   "cell_type": "markdown",
   "metadata": {},
   "source": [
    "### 3-8. grid"
   ]
  },
  {
   "cell_type": "code",
   "execution_count": null,
   "metadata": {},
   "outputs": [],
   "source": [
    "import numpy as np\n",
    "\n",
    "from pycirclizely import Circos\n",
    "\n",
    "np.random.seed(0)\n",
    "\n",
    "sectors = {\"A\": 10, \"B\": 20, \"C\": 15}\n",
    "circos = Circos(sectors, space=5)\n",
    "for sector in circos.sectors:\n",
    "    # Plot Y-axis grid line (Default: 6 grid line)\n",
    "    track1 = sector.add_track((80, 100), r_pad_ratio=0.1)\n",
    "    track1.axis()\n",
    "    track1.xticks_by_interval(interval=1)\n",
    "    track1.grid()\n",
    "    # Plot X-axis grid line (interval=1)\n",
    "    track2 = sector.add_track((55, 75))\n",
    "    track2.axis()\n",
    "    track2.grid(y_grid_num=None, x_grid_interval=1, line=dict(color=\"red\"))\n",
    "    # Plot both XY-axis grid line\n",
    "    track3 = sector.add_track((30, 50))\n",
    "    track3.grid(y_grid_num=11, x_grid_interval=0.5, line=dict(color=\"blue\", dash=\"dot\"))\n",
    "\n",
    "fig = circos.plotfig(figsize=(12, 12))\n",
    "HTML(pio.to_html(fig, include_plotlyjs=\"cdn\"))"
   ]
  },
  {
   "attachments": {},
   "cell_type": "markdown",
   "metadata": {},
   "source": [
    "### 3-9. line"
   ]
  },
  {
   "cell_type": "code",
   "execution_count": null,
   "metadata": {},
   "outputs": [],
   "source": [
    "import numpy as np\n",
    "\n",
    "from pycirclizely import Circos\n",
    "\n",
    "np.random.seed(0)\n",
    "\n",
    "sectors = {\"A\": 10, \"B\": 20, \"C\": 15}\n",
    "circos = Circos(sectors, space=5)\n",
    "for sector in circos.sectors:\n",
    "    track = sector.add_track((80, 100), r_pad_ratio=0.1)\n",
    "    track.axis()\n",
    "    track.xticks_by_interval(1)\n",
    "    vmin, vmax = 0, 10\n",
    "    # Line between start-end two points\n",
    "    track.line(\n",
    "        [track.start, track.end],\n",
    "        [vmin, vmax],\n",
    "        hover_text=None,\n",
    "        line=dict(width=1.5, dash=\"dot\"),\n",
    "    )\n",
    "    # Line of random value points\n",
    "    x = np.linspace(track.start, track.end, int(track.size) * 5 + 1)\n",
    "    y = list(np.random.randint(vmin, vmax, len(x)))\n",
    "    track.line(x, y)\n",
    "\n",
    "fig = circos.plotfig()\n",
    "HTML(pio.to_html(fig, include_plotlyjs=\"cdn\"))"
   ]
  },
  {
   "attachments": {},
   "cell_type": "markdown",
   "metadata": {},
   "source": [
    "### 3-10. scatter"
   ]
  },
  {
   "cell_type": "code",
   "execution_count": null,
   "metadata": {},
   "outputs": [],
   "source": [
    "import numpy as np\n",
    "\n",
    "from pycirclizely import Circos\n",
    "\n",
    "np.random.seed(0)\n",
    "\n",
    "sectors = {\"A\": 10, \"B\": 20, \"C\": 15}\n",
    "circos = Circos(sectors, space=5)\n",
    "for sector in circos.sectors:\n",
    "    track = sector.add_track((80, 100), r_pad_ratio=0.1)\n",
    "    track.axis()\n",
    "    track.xticks_by_interval(1)\n",
    "    vmin, vmax = 0, 10\n",
    "    x = np.linspace(track.start, track.end, int(track.size) * 5 + 1)\n",
    "    y = list(np.random.randint(vmin, vmax, len(x)))\n",
    "    track.scatter(x, y)\n",
    "fig = circos.plotfig()\n",
    "HTML(pio.to_html(fig, include_plotlyjs=\"cdn\"))"
   ]
  },
  {
   "attachments": {},
   "cell_type": "markdown",
   "metadata": {},
   "source": [
    "### 3-11. bar"
   ]
  },
  {
   "cell_type": "code",
   "execution_count": null,
   "metadata": {},
   "outputs": [],
   "source": [
    "import numpy as np\n",
    "\n",
    "from pycirclizely import Circos\n",
    "from pycirclizely.utils import ColorCycler\n",
    "\n",
    "np.random.seed(0)\n",
    "\n",
    "sectors = {\"A\": 10, \"B\": 20, \"C\": 15}\n",
    "circos = Circos(sectors, space=5)\n",
    "\n",
    "color_cycler = ColorCycler(\"Plotly\")\n",
    "sector_colors = [color_cycler.get_color() for _ in range(len(sectors))]\n",
    "\n",
    "for i, sector in enumerate(circos.sectors):\n",
    "    vmin, vmax = 1, 10\n",
    "    x = np.linspace(sector.start + 0.5, sector.end - 0.5, int(sector.size))\n",
    "    y = list(np.random.randint(vmin, vmax, len(x)))\n",
    "    # Plot bar (default)\n",
    "    track1 = sector.add_track((80, 100), r_pad_ratio=0.1)\n",
    "    track1.axis()\n",
    "    track1.xticks_by_interval(1)\n",
    "    track1.xticks_by_interval(0.1, tick_length=1, show_label=False)\n",
    "    track1.bar(x, y, fillcolor=sector_colors[i])\n",
    "\n",
    "    # Plot stacked bar with user-specified params\n",
    "    track2 = sector.add_track((50, 70))\n",
    "    track2.axis()\n",
    "    track2.xticks_by_interval(1, outer=False, text_kws=dict(font=dict(size=10)))\n",
    "\n",
    "    tab10_cycler = ColorCycler(\"T10\")\n",
    "    tab10_colors = [tab10_cycler.get_color() for _ in range(len(x))]\n",
    "    track2.bar(\n",
    "        x,\n",
    "        y,\n",
    "        width=1.0,\n",
    "        colors=tab10_colors,\n",
    "        line=dict(color=\"grey\", width=0.5),\n",
    "        vmax=vmax * 2,\n",
    "    )\n",
    "\n",
    "    pastel_cycler = ColorCycler(\"Pastel1\")\n",
    "    pastel_colors = [pastel_cycler.get_color() for _ in range(len(x))]\n",
    "    y2 = list(np.random.randint(vmin, vmax, len(x)))\n",
    "    track2.bar(\n",
    "        x,\n",
    "        y2,\n",
    "        width=1.0,\n",
    "        bottom=y,\n",
    "        colors=pastel_colors,\n",
    "        line=dict(\n",
    "            color=\"grey\",\n",
    "            width=0.5,\n",
    "        ),\n",
    "        vmax=vmax * 2,\n",
    "    )\n",
    "\n",
    "fig = circos.plotfig()\n",
    "HTML(pio.to_html(fig, include_plotlyjs=\"cdn\"))"
   ]
  },
  {
   "attachments": {},
   "cell_type": "markdown",
   "metadata": {},
   "source": [
    "### 3-12. fill_between"
   ]
  },
  {
   "cell_type": "code",
   "execution_count": null,
   "metadata": {},
   "outputs": [],
   "source": [
    "import numpy as np\n",
    "\n",
    "from pycirclizely import Circos\n",
    "\n",
    "np.random.seed(0)\n",
    "\n",
    "sectors = {\"A\": 10, \"B\": 20, \"C\": 15}\n",
    "circos = Circos(sectors, space=5)\n",
    "for sector in circos.sectors:\n",
    "    vmin, vmax = 0, 10\n",
    "    # Plot fill_between with simple lines\n",
    "    track1 = sector.add_track((80, 100), r_pad_ratio=0.1)\n",
    "    track1.axis()\n",
    "    track1.xticks_by_interval(1)\n",
    "    track1.fill_between(\n",
    "        x=[track1.start, track1.end], y1=[vmin, vmax], y2=[vmin, vmax / 2]\n",
    "    )\n",
    "    # Plot fill_between with random points line\n",
    "    track2 = sector.add_track((50, 70), r_pad_ratio=0.1)\n",
    "    track2.axis()\n",
    "    x = np.linspace(track2.start, track2.end, int(track2.size) * 5 + 1)\n",
    "    y = list(np.random.randint(vmin, vmax, len(x)))\n",
    "    track2.fill_between(x, y, line=dict(color=\"black\", width=1, dash=\"dash\"))\n",
    "\n",
    "fig = circos.plotfig()\n",
    "HTML(pio.to_html(fig, include_plotlyjs=\"cdn\"))"
   ]
  },
  {
   "attachments": {},
   "cell_type": "markdown",
   "metadata": {},
   "source": [
    "### 3-13. heatmap"
   ]
  },
  {
   "cell_type": "code",
   "execution_count": null,
   "metadata": {},
   "outputs": [],
   "source": [
    "import numpy as np\n",
    "\n",
    "from pycirclizely import Circos\n",
    "\n",
    "np.random.seed(0)\n",
    "\n",
    "sectors = {\"A\": 10, \"B\": 20, \"C\": 15}\n",
    "circos = Circos(sectors, space=10)\n",
    "vmin1, vmax1 = 0, 10\n",
    "vmin2, vmax2 = -100, 100\n",
    "\n",
    "heatmap_colorbar_tag1 = circos.colorbar(vmin=vmin1, vmax=vmax1, orientation=\"h\")\n",
    "heatmap_colorbar_tag2 = circos.colorbar(\n",
    "    vmin=vmin2,\n",
    "    vmax=vmax2,\n",
    "    cmap=\"viridis\",\n",
    "    orientation=\"v\",\n",
    "    title=dict(\n",
    "        text=\"Vertical colorbar\", side=\"bottom\", font=dict(size=12, color=\"red\")\n",
    "    ),\n",
    "    tickcolor=\"red\",\n",
    "    tickfont=dict(color=\"red\", size=10),\n",
    ")\n",
    "for sector in circos.sectors:\n",
    "    # Plot heatmap\n",
    "    track1 = sector.add_track((80, 100))\n",
    "    track1.axis()\n",
    "    track1.xticks_by_interval(1)\n",
    "    data = np.random.randint(vmin1, vmax1 + 1, (4, int(sector.size)))\n",
    "    track1.heatmap(\n",
    "        data, vmin=vmin1, vmax=vmax1, show_value=True, coloraxis=heatmap_colorbar_tag1\n",
    "    )\n",
    "    # Plot heatmap with labels\n",
    "    track2 = sector.add_track((50, 70))\n",
    "    track2.axis()\n",
    "    x = np.linspace(1, int(track2.size), int(track2.size)) - 0.5\n",
    "    xlabels = [str(int(v + 1)) for v in x]\n",
    "    track2.xticks(x, xlabels, outer=False, text_kws=dict(font=dict(size=10)))\n",
    "    track2.yticks([0.5, 1.5, 2.5, 3.5, 4.5], list(\"ABCDE\"), vmin=0, vmax=5)\n",
    "    data = np.random.randint(vmin2, vmax2 + 1, (5, int(sector.size)))\n",
    "\n",
    "    custom_hover_text = [\n",
    "        f\"Sector: {sector.name}<br>\"\n",
    "        f\"Position: {x}<br>\"\n",
    "        f\"Level: {level}<br>\"\n",
    "        f\"Value: {data[j, i]}\"\n",
    "        for j, level in enumerate(\"EDCBA\")\n",
    "        for i, x in enumerate(xlabels)\n",
    "    ]\n",
    "\n",
    "    track2.heatmap(\n",
    "        data,\n",
    "        vmin=vmin2,\n",
    "        vmax=vmax2,\n",
    "        cmap=\"viridis\",\n",
    "        hover_text=custom_hover_text,\n",
    "        rect_kws=dict(line=dict(color=\"white\", width=1)),\n",
    "        coloraxis=heatmap_colorbar_tag2,\n",
    "    )\n",
    "\n",
    "fig = circos.plotfig()\n",
    "HTML(pio.to_html(fig, include_plotlyjs=\"cdn\"))"
   ]
  },
  {
   "attachments": {},
   "cell_type": "markdown",
   "metadata": {},
   "source": [
    "### 3-14. tree"
   ]
  },
  {
   "cell_type": "code",
   "execution_count": null,
   "metadata": {},
   "outputs": [],
   "source": [
    "from Bio import Phylo\n",
    "\n",
    "from pycirclizely import Circos\n",
    "from pycirclizely.utils import load_example_tree_file\n",
    "\n",
    "# Load newick tree\n",
    "tree_file = load_example_tree_file(\"alphabet.nwk\")\n",
    "tree = Phylo.read(tree_file, \"newick\")\n",
    "# Initialize circos sector by tree size\n",
    "circos = Circos(sectors=dict(tree=tree.count_terminals()))\n",
    "sector = circos.sectors[0]\n",
    "# Plot tree\n",
    "track = sector.add_track((50, 100))\n",
    "track.tree(tree, leaf_label_size=14)\n",
    "\n",
    "fig = circos.plotfig()\n",
    "HTML(pio.to_html(fig, include_plotlyjs=\"cdn\"))"
   ]
  },
  {
   "attachments": {},
   "cell_type": "markdown",
   "metadata": {},
   "source": [
    "### 3-15. genomic_features"
   ]
  },
  {
   "cell_type": "code",
   "execution_count": 28,
   "metadata": {},
   "outputs": [],
   "source": [
    "from Bio.SeqFeature import SeqFeature\n",
    "\n",
    "\n",
    "def hover_formatter(feature: SeqFeature) -> str:\n",
    "    \"\"\"Custom function for genomic features annotation hover text.\"\"\"\n",
    "    info = []\n",
    "\n",
    "    if hasattr(feature, \"qualifiers\") and feature.qualifiers.get(\"gene\", [\"\"])[0]:\n",
    "        info.append(f\"Gene: {feature.qualifiers['gene'][0]}\")\n",
    "\n",
    "    if hasattr(feature, \"type\") and feature.type:\n",
    "        info.append(f\"Type: {feature.type}\")\n",
    "\n",
    "    if hasattr(feature, \"location\") and hasattr(feature.location, \"strand\"):\n",
    "        strand = \"+\" if feature.location.strand == 1 else \"-\"\n",
    "        info.append(f\"Strand: {strand}\")\n",
    "\n",
    "    if hasattr(feature, \"location\"):\n",
    "        start = (\n",
    "            int(feature.location.start) if hasattr(feature.location, \"start\") else \"?\"\n",
    "        )\n",
    "        end = int(feature.location.end) if hasattr(feature.location, \"end\") else \"?\"\n",
    "        info.append(f\"Position: {start}-{end}\")\n",
    "\n",
    "    if hasattr(feature, \"qualifiers\") and feature.qualifiers.get(\"product\", [\"\"])[0]:\n",
    "        info.append(f\"Product: {feature.qualifiers['product'][0]}\")\n",
    "\n",
    "    return \"<br>\".join(info) if info else \"No information available\""
   ]
  },
  {
   "attachments": {},
   "cell_type": "markdown",
   "metadata": {},
   "source": [
    "#### 3-15-1. Genbank file"
   ]
  },
  {
   "cell_type": "code",
   "execution_count": null,
   "metadata": {},
   "outputs": [],
   "source": [
    "from pycirclizely import Circos\n",
    "from pycirclizely.parser import Genbank\n",
    "from pycirclizely.utils import load_prokaryote_example_file\n",
    "\n",
    "# Load Genbank file\n",
    "gbk_file = load_prokaryote_example_file(\"enterobacteria_phage.gbk\")\n",
    "gbk = Genbank(gbk_file)\n",
    "# Initialize circos instance\n",
    "seqid2size = gbk.get_seqid2size()\n",
    "space = 0 if len(seqid2size) == 1 else 2\n",
    "circos = Circos(sectors=seqid2size, space=space)\n",
    "circos.text(\"Enterobacteria phage<br>(NC_000902)\", font=dict(size=20))\n",
    "\n",
    "seqid2features = gbk.get_seqid2features(\"CDS\")\n",
    "for sector in circos.sectors:\n",
    "    # Setup outer track\n",
    "    outer_track = sector.add_track((99.7, 100))\n",
    "    outer_track.axis(fillcolor=\"black\")\n",
    "    outer_track.xticks_by_interval(\n",
    "        5000,\n",
    "        label_formatter=lambda v: f\"{v / 1000:.0f} Kb\",\n",
    "        text_kws=dict(font=dict(size=9)),\n",
    "    )\n",
    "    outer_track.xticks_by_interval(1000, tick_length=1, show_label=False)\n",
    "    # Plot forward & reverse CDS genomic features\n",
    "    cds_track = sector.add_track((93, 98))\n",
    "    for feature in seqid2features[sector.name]:\n",
    "        color = \"salmon\" if feature.location.strand == 1 else \"skyblue\"\n",
    "        cds_track.genomic_features(\n",
    "            feature,\n",
    "            plotstyle=\"arrow\",\n",
    "            hover_text_formatter=hover_formatter,\n",
    "            fillcolor=color,\n",
    "        )\n",
    "\n",
    "fig = circos.plotfig()\n",
    "HTML(pio.to_html(fig, include_plotlyjs=\"cdn\"))"
   ]
  },
  {
   "attachments": {},
   "cell_type": "markdown",
   "metadata": {},
   "source": [
    "#### 3-15-2. GFF file"
   ]
  },
  {
   "cell_type": "code",
   "execution_count": null,
   "metadata": {},
   "outputs": [],
   "source": [
    "from pycirclizely import Circos\n",
    "from pycirclizely.parser import Gff\n",
    "from pycirclizely.utils import ColorCycler, load_prokaryote_example_file\n",
    "\n",
    "color_cycler = ColorCycler(\"Set3\")\n",
    "\n",
    "# Load GFF file\n",
    "gff_file = load_prokaryote_example_file(\"escherichia_coli.gff.gz\")\n",
    "gff = Gff(gff_file)\n",
    "# Initialize circos instance\n",
    "seqid2size = gff.get_seqid2size()\n",
    "space = 0 if len(seqid2size) == 1 else 2\n",
    "circos = Circos(sectors=seqid2size, space=space)\n",
    "circos.text(\"Escherichia coli<br>(NC_000913)\", font=dict(size=20))\n",
    "\n",
    "seqid2features = gff.get_seqid2features(feature_type=None)\n",
    "for sector in circos.sectors:\n",
    "    # Setup outer track\n",
    "    outer_track = sector.add_track((98, 100))\n",
    "    outer_track.axis(fillcolor=\"lightgrey\")\n",
    "    outer_track.xticks_by_interval(\n",
    "        500000, label_formatter=lambda v: f\"{v / 1000000:.1f} Mb\"\n",
    "    )\n",
    "    outer_track.xticks_by_interval(100000, tick_length=1, show_label=False)\n",
    "    # Plot forward/reverse CDS, rRNA, tRNA tracks\n",
    "    f_cds_track = sector.add_track((88, 95), r_pad_ratio=0.1)\n",
    "    r_cds_track = sector.add_track((81, 88), r_pad_ratio=0.1)\n",
    "    rrna_track = sector.add_track((74, 81), r_pad_ratio=0.1)\n",
    "    trna_track = sector.add_track((67, 74), r_pad_ratio=0.1)\n",
    "    for feature in seqid2features[sector.name]:\n",
    "        if feature.type == \"CDS\":\n",
    "            if feature.location.strand == 1:\n",
    "                f_cds_track.genomic_features(\n",
    "                    feature,\n",
    "                    hover_text_formatter=hover_formatter,\n",
    "                    fillcolor=color_cycler.get_color(),\n",
    "                    line=dict(width=0.0),\n",
    "                )\n",
    "            else:\n",
    "                r_cds_track.genomic_features(\n",
    "                    feature,\n",
    "                    hover_text_formatter=hover_formatter,\n",
    "                    fillcolor=color_cycler.get_color(),\n",
    "                    line=dict(width=0.0),\n",
    "                )\n",
    "        elif feature.type == \"rRNA\":\n",
    "            rrna_track.genomic_features(\n",
    "                feature,\n",
    "                hover_text_formatter=hover_formatter,\n",
    "                fillcolor=\"limegreen\",\n",
    "                line=dict(width=0.0),\n",
    "            )\n",
    "        elif feature.type == \"tRNA\":\n",
    "            trna_track.genomic_features(\n",
    "                feature,\n",
    "                hover_text_formatter=hover_formatter,\n",
    "                line=dict(color=\"magenta\", width=0.1),\n",
    "            )  # Set width=0.1 to enphasize small tRNA plot\n",
    "\n",
    "fig = circos.plotfig()\n",
    "HTML(pio.to_html(fig, include_plotlyjs=\"cdn\"))"
   ]
  },
  {
   "cell_type": "code",
   "execution_count": null,
   "metadata": {},
   "outputs": [],
   "source": []
  }
 ],
 "metadata": {
  "kernelspec": {
   "display_name": "pyCirclizely",
   "language": "python",
   "name": "python3"
  },
  "language_info": {
   "codemirror_mode": {
    "name": "ipython",
    "version": 3
   },
   "file_extension": ".py",
   "mimetype": "text/x-python",
   "name": "python",
   "nbconvert_exporter": "python",
   "pygments_lexer": "ipython3",
   "version": "3.10.16"
  }
 },
 "nbformat": 4,
 "nbformat_minor": 2
}
