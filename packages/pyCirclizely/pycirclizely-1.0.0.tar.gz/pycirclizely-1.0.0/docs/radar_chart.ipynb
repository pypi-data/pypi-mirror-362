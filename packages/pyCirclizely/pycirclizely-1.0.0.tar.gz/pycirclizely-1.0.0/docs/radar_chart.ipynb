{
 "cells": [
  {
   "cell_type": "code",
   "execution_count": null,
   "metadata": {},
   "outputs": [],
   "source": [
    "# !pip install pycirclizely"
   ]
  },
  {
   "cell_type": "code",
   "execution_count": 1,
   "metadata": {},
   "outputs": [],
   "source": [
    "import plotly.io as pio\n",
    "from IPython.display import HTML"
   ]
  },
  {
   "cell_type": "markdown",
   "metadata": {},
   "source": [
    "pyCirclize can plot a **Radar Chart**([wiki](https://en.wikipedia.org/wiki/Radar_chart)) from table dataframe."
   ]
  },
  {
   "cell_type": "markdown",
   "metadata": {},
   "source": [
    "## Default Style"
   ]
  },
  {
   "cell_type": "code",
   "execution_count": null,
   "metadata": {},
   "outputs": [],
   "source": [
    "import pandas as pd\n",
    "\n",
    "from pycirclizely import Circos\n",
    "\n",
    "# Create RPG jobs parameter dataframe (3 jobs, 6 parameters)\n",
    "df = pd.DataFrame(\n",
    "    data=[\n",
    "        [80, 80, 80, 80, 80, 80],\n",
    "        [90, 95, 95, 30, 30, 80],\n",
    "        [60, 20, 20, 100, 90, 50],\n",
    "    ],\n",
    "    index=[\"Hero\", \"Warrior\", \"Wizard\"],\n",
    "    columns=[\"HP\", \"ATK\", \"DEF\", \"SP.ATK\", \"SP.DEF\", \"SPD\"],\n",
    ")\n",
    "print(df)\n",
    "\n",
    "# Initialize Circos instance for radar chart plot\n",
    "circos = Circos.radar_chart(df)\n",
    "\n",
    "# Plot figure\n",
    "fig = circos.plotfig()\n",
    "HTML(pio.to_html(fig, include_plotlyjs=\"cdn\"))"
   ]
  },
  {
   "cell_type": "markdown",
   "metadata": {},
   "source": [
    "## With Marker & Legend"
   ]
  },
  {
   "cell_type": "code",
   "execution_count": null,
   "metadata": {},
   "outputs": [],
   "source": [
    "import pandas as pd\n",
    "\n",
    "from pycirclizely import Circos\n",
    "\n",
    "# Create RPG jobs parameter dataframe (3 jobs, 7 parameters)\n",
    "df = pd.DataFrame(\n",
    "    data=[\n",
    "        [80, 80, 80, 80, 80, 80, 80],\n",
    "        [90, 20, 95, 95, 30, 30, 80],\n",
    "        [60, 90, 20, 20, 100, 90, 50],\n",
    "    ],\n",
    "    index=[\"Hero\", \"Warrior\", \"Wizard\"],\n",
    "    columns=[\"HP\", \"MP\", \"ATK\", \"DEF\", \"SP.ATK\", \"SP.DEF\", \"SPD\"],\n",
    ")\n",
    "print(df)\n",
    "\n",
    "# Initialize Circos instance for radar chart plot\n",
    "circos = Circos.radar_chart(\n",
    "    df,\n",
    "    vmax=100,\n",
    "    marker_size=6,\n",
    "    circular=True,\n",
    "    cmap=\"Set2\",\n",
    "    grid_interval_ratio=0.25,\n",
    ")\n",
    "\n",
    "fig = circos.plotfig()\n",
    "HTML(pio.to_html(fig, include_plotlyjs=\"cdn\"))"
   ]
  },
  {
   "cell_type": "markdown",
   "metadata": {},
   "source": [
    "## Custom Style"
   ]
  },
  {
   "cell_type": "code",
   "execution_count": null,
   "metadata": {},
   "outputs": [],
   "source": [
    "import pandas as pd\n",
    "\n",
    "from pycirclizely import Circos\n",
    "\n",
    "# Create RPG jobs parameter dataframe (4 jobs, 8 parameters)\n",
    "df = pd.DataFrame(\n",
    "    data=[\n",
    "        [80, 80, 80, 80, 80, 80, 80, 80],\n",
    "        [90, 20, 95, 95, 30, 30, 80, 70],\n",
    "        [60, 90, 20, 20, 100, 90, 50, 70],\n",
    "        [70, 50, 60, 40, 60, 40, 100, 60],\n",
    "    ],\n",
    "    index=[\"Hero\", \"Warrior\", \"Wizard\", \"Assassin\"],\n",
    "    columns=[\"HP\", \"MP\", \"ATK\", \"DEF\", \"SP.ATK\", \"SP.DEF\", \"SPD\", \"LUK\"],\n",
    ")\n",
    "print(df)\n",
    "\n",
    "\n",
    "# Define line keyword arguments handler\n",
    "def line_kws_handler(col_name: str):\n",
    "    \"\"\"Function to deal with line aesthestics.\"\"\"\n",
    "    if col_name == \"Hero\":\n",
    "        return dict(line=dict(dash=\"dot\", width=2.0))\n",
    "    else:\n",
    "        return dict(line=dict(dash=\"solid\", width=1.5))\n",
    "\n",
    "\n",
    "# Initialize Circos instance for radar chart plot\n",
    "circos = Circos.radar_chart(\n",
    "    df,\n",
    "    vmax=100,\n",
    "    fill=False,\n",
    "    marker_size=6,\n",
    "    bg_color=None,\n",
    "    cmap=dict(Hero=\"salmon\", Warrior=\"skyblue\", Wizard=\"lime\", Assassin=\"magenta\"),\n",
    "    grid_interval_ratio=0.1,\n",
    "    grid_label_formatter=lambda v: f\"{v:.1f}pt\",\n",
    "    label_kws_handler=lambda _: dict(font=dict(style=\"italic\")),\n",
    "    line_kws_handler=line_kws_handler,\n",
    "    marker_kws_handler=lambda _: dict(\n",
    "        marker=dict(symbol=\"square\", line=dict(color=\"grey\", width=0.5))\n",
    "    ),\n",
    ")\n",
    "circos.text(\"RPG Jobs Radar Chart\", r=125, font=dict(size=15, weight=18))\n",
    "\n",
    "# Plot figure & set legend on upper right\n",
    "fig = circos.plotfig()\n",
    "HTML(pio.to_html(fig, include_plotlyjs=\"cdn\"))"
   ]
  },
  {
   "cell_type": "code",
   "execution_count": null,
   "metadata": {},
   "outputs": [],
   "source": []
  }
 ],
 "metadata": {
  "kernelspec": {
   "display_name": ".venv",
   "language": "python",
   "name": "python3"
  },
  "language_info": {
   "codemirror_mode": {
    "name": "ipython",
    "version": 3
   },
   "file_extension": ".py",
   "mimetype": "text/x-python",
   "name": "python",
   "nbconvert_exporter": "python",
   "pygments_lexer": "ipython3",
   "version": "3.10.16"
  }
 },
 "nbformat": 4,
 "nbformat_minor": 2
}
