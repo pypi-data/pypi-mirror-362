{
 "cells": [
  {
   "cell_type": "markdown",
   "metadata": {},
   "source": [
    "# PAD Analytics Functions Demonstration\n",
    "\n",
    "This notebook demonstrates all available functions in PAD Analytics v0.2.1, organized by category.\n",
    "\n",
    "**Author**: PAD Analytics Team  \n",
    "**Version**: 0.2.1  \n",
    "**Date**: July 2025"
   ]
  },
  {
   "cell_type": "code",
   "execution_count": null,
   "metadata": {},
   "outputs": [],
   "source": [
    "# Setup and imports\n",
    "import pad_analytics as pad\n",
    "import pandas as pd\n",
    "import warnings\n",
    "warnings.filterwarnings('ignore')\n",
    "\n",
    "print(f\"PAD Analytics version: {pad.__version__}\")"
   ]
  },
  {
   "cell_type": "markdown",
   "metadata": {},
   "source": [
    "## 1. Dataset Management Functions\n",
    "\n",
    "These functions help you discover, load, and manage PAD datasets."
   ]
  },
  {
   "cell_type": "code",
   "execution_count": null,
   "metadata": {},
   "outputs": [],
   "source": [
    "# List all available datasets\n",
    "datasets = pad.get_datasets()\n",
    "print(f\"Available datasets: {len(datasets)}\")\n",
    "datasets.head()"
   ]
  },
  {
   "cell_type": "code",
   "execution_count": null,
   "metadata": {},
   "outputs": [],
   "source": [
    "# Get detailed dataset information with model mappings\n",
    "dataset_list = pad.get_dataset_list()\n",
    "print(\"Dataset information with model associations:\")\n",
    "dataset_list"
   ]
  },
  {
   "cell_type": "code",
   "execution_count": null,
   "metadata": {},
   "outputs": [],
   "source": [
    "# Load a specific dataset\n",
    "dataset_name = \"FHI2020_Stratified_Sampling\"\n",
    "fhi_data = pad.get_dataset(dataset_name)\n",
    "print(f\"Loaded '{dataset_name}' with {len(fhi_data)} samples\")\n",
    "print(f\"Columns: {list(fhi_data.columns)[:5]}...\")"
   ]
  },
  {
   "cell_type": "code",
   "execution_count": null,
   "metadata": {},
   "outputs": [],
   "source": [
    "# Get clean dataset cards (without internal columns)\n",
    "cards = pad.get_dataset_cards(\"FHI2020_Stratified_Sampling\")\n",
    "print(f\"Dataset cards: {len(cards)} samples\")\n",
    "cards[['card_id', 'sample_id', 'sample_name', 'quantity']].head()"
   ]
  },
  {
   "cell_type": "code",
   "execution_count": null,
   "metadata": {},
   "outputs": [],
   "source": [
    "# Get dataset associated with a model\n",
    "model_dataset = pad.get_dataset_from_model_id(16)\n",
    "dataset_name = pad.get_dataset_name_from_model_id(16)\n",
    "print(f\"Model 16 uses dataset: '{dataset_name}'\")\n",
    "print(f\"Dataset size: {len(model_dataset)} samples\")"
   ]
  },
  {
   "cell_type": "markdown",
   "metadata": {},
   "source": [
    "## 2. Card/Sample Management Functions\n",
    "\n",
    "Functions for retrieving and managing individual PAD test cards."
   ]
  },
  {
   "cell_type": "code",
   "execution_count": null,
   "metadata": {},
   "outputs": [],
   "source": [
    "# Get card by ID\n",
    "card = pad.get_card_by_id(47918)\n",
    "print(f\"Card {card['card_id'].iloc[0]}:\")\n",
    "print(f\"  Sample: {card['sample_name'].iloc[0]}\")\n",
    "print(f\"  Quantity: {card['quantity'].iloc[0]}%\")\n",
    "print(f\"  Project: {card['project.project_name'].iloc[0]}\")"
   ]
  },
  {
   "cell_type": "code",
   "execution_count": null,
   "metadata": {},
   "outputs": [],
   "source": [
    "# Get cards by sample ID (can return multiple cards)\n",
    "sample_cards = pad.get_card_by_sample_id(52677)\n",
    "print(f\"Found {len(sample_cards)} cards for sample_id 52677\")\n",
    "if len(sample_cards) > 0:\n",
    "    sample_cards[['card_id', 'sample_id', 'sample_name', 'quantity']].head()"
   ]
  },
  {
   "cell_type": "code",
   "execution_count": null,
   "metadata": {},
   "outputs": [],
   "source": [
    "# Get cards with known quality issues\n",
    "issues = pad.get_card_issues()\n",
    "print(f\"Cards with known issues: {len(issues)}\")\n",
    "print(\"These should typically be excluded from analysis\")"
   ]
  },
  {
   "cell_type": "markdown",
   "metadata": {},
   "source": [
    "## 3. Project Management Functions\n",
    "\n",
    "Functions for exploring data organized by research projects."
   ]
  },
  {
   "cell_type": "code",
   "execution_count": null,
   "metadata": {},
   "outputs": [],
   "source": [
    "# List all projects\n",
    "projects = pad.get_projects()\n",
    "print(f\"Total projects: {len(projects)}\")\n",
    "projects[['project_id', 'project_name']].head()"
   ]
  },
  {
   "cell_type": "code",
   "execution_count": null,
   "metadata": {},
   "outputs": [],
   "source": [
    "# Get specific project\n",
    "project = pad.get_project(id=1)\n",
    "if project:\n",
    "    print(f\"Project 1: {project.get('project_name', 'Unknown')}\")\n",
    "\n",
    "# Get project cards\n",
    "project_cards = pad.get_project_cards(project_name=\"FHI Study 2020\")\n",
    "if project_cards is not None:\n",
    "    print(f\"\\nCards in 'FHI Study 2020': {len(project_cards)}\")"
   ]
  },
  {
   "cell_type": "markdown",
   "metadata": {},
   "source": [
    "## 4. Model Management Functions\n",
    "\n",
    "Functions for discovering and retrieving ML models."
   ]
  },
  {
   "cell_type": "code",
   "execution_count": null,
   "metadata": {},
   "outputs": [],
   "source": [
    "# List all models\n",
    "models = pad.get_models()\n",
    "print(f\"Available models: {len(models)}\")\n",
    "print(\"\\nKey models:\")\n",
    "print(\"- Model 16: Neural Network for drug classification\")\n",
    "print(\"- Model 17: Neural Network for concentration\")\n",
    "print(\"- Model 18: PLS for concentration\")\n",
    "print(\"- Model 19: Neural Network for concentration v2\")\n",
    "models[['model_id', 'model_name', 'model_type']].head()"
   ]
  },
  {
   "cell_type": "code",
   "execution_count": null,
   "metadata": {},
   "outputs": [],
   "source": [
    "# Get model data\n",
    "model_train = pad.get_model_data(16, type='train')\n",
    "model_test = pad.get_model_data(16, type='test')\n",
    "print(f\"Model 16 training data: {len(model_train) if isinstance(model_train, pd.DataFrame) else 'N/A'} samples\")\n",
    "print(f\"Model 16 test data: {len(model_test) if isinstance(model_test, pd.DataFrame) else 'N/A'} samples\")"
   ]
  },
  {
   "cell_type": "markdown",
   "metadata": {},
   "source": [
    "## 5. Visualization Functions\n",
    "\n",
    "Interactive displays of PAD cards and predictions."
   ]
  },
  {
   "cell_type": "code",
   "execution_count": null,
   "metadata": {},
   "outputs": [],
   "source": [
    "# Display single card\n",
    "print(\"Single card display:\")\n",
    "pad.show_card(card_id=47918)"
   ]
  },
  {
   "cell_type": "code",
   "execution_count": null,
   "metadata": {},
   "outputs": [],
   "source": [
    "# Display multiple cards\n",
    "print(\"Multiple cards display:\")\n",
    "pad.show_cards(card_ids=[47918, 47919, 47920])"
   ]
  },
  {
   "cell_type": "code",
   "execution_count": null,
   "metadata": {},
   "outputs": [],
   "source": [
    "# Display cards from DataFrame\n",
    "sample_df = cards[cards['sample_name'].str.contains('ceftriaxone', case=False, na=False)].head(3)\n",
    "if len(sample_df) > 0:\n",
    "    print(\"Cards from DataFrame:\")\n",
    "    pad.show_cards_from_df(sample_df)"
   ]
  },
  {
   "cell_type": "code",
   "execution_count": null,
   "metadata": {},
   "outputs": [],
   "source": [
    "# Display grouped cards\n",
    "grouped_df = cards[cards['sample_name'].str.contains('rifampicin', case=False, na=False)].head(12)\n",
    "if len(grouped_df) > 5:\n",
    "    print(\"Cards grouped by concentration:\")\n",
    "    pad.show_grouped_cards(grouped_df, group_column='quantity', images_per_row=3)"
   ]
  },
  {
   "cell_type": "markdown",
   "metadata": {},
   "source": [
    "## 6. Prediction & Analysis Functions\n",
    "\n",
    "Apply ML models for drug identification and quantification."
   ]
  },
  {
   "cell_type": "code",
   "execution_count": null,
   "metadata": {},
   "outputs": [],
   "source": [
    "# Single prediction - Drug classification\n",
    "actual, prediction = pad.predict(card_id=47918, model_id=16)\n",
    "drug_name, confidence, energy = prediction\n",
    "print(\"Drug Classification (Model 16):\")\n",
    "print(f\"  Actual: {actual}\")\n",
    "print(f\"  Predicted: {drug_name} (confidence: {confidence:.2%})\")\n",
    "print(f\"  Energy: {energy:.2f}\")"
   ]
  },
  {
   "cell_type": "code",
   "execution_count": null,
   "metadata": {},
   "outputs": [],
   "source": [
    "# Single prediction - Concentration\n",
    "actual, predicted = pad.predict(card_id=47918, model_id=18)\n",
    "print(\"\\nConcentration Prediction (Model 18 - PLS):\")\n",
    "print(f\"  Actual: {actual:.2f}%\")\n",
    "print(f\"  Predicted: {predicted:.2f}%\")\n",
    "print(f\"  Error: {abs(actual - predicted):.2f}%\")"
   ]
  },
  {
   "cell_type": "code",
   "execution_count": null,
   "metadata": {},
   "outputs": [],
   "source": [
    "# Show prediction with visualization\n",
    "print(\"Card with prediction:\")\n",
    "pad.show_prediction(card_id=47918, model_id=16)"
   ]
  },
  {
   "cell_type": "code",
   "execution_count": null,
   "metadata": {},
   "outputs": [],
   "source": [
    "# Batch predictions (optimized in v0.2.1!)\n",
    "small_batch = cards.head(5)\n",
    "print(f\"Processing batch of {len(small_batch)} cards...\")\n",
    "\n",
    "results = pad.apply_predictions_to_dataframe(small_batch, model_id=16)\n",
    "print(f\"\\nCompleted {len(results)} predictions\")\n",
    "results[['card_id', 'sample_name', 'actual', 'prediction']].head()"
   ]
  },
  {
   "cell_type": "markdown",
   "metadata": {},
   "source": [
    "## 7. Advanced Features\n",
    "\n",
    "### Dataset Manager Access"
   ]
  },
  {
   "cell_type": "code",
   "execution_count": null,
   "metadata": {},
   "outputs": [],
   "source": [
    "# Access the dataset manager for advanced operations\n",
    "dm = pad.get_dataset_manager()\n",
    "print(f\"DatasetManager instance: {type(dm)}\")\n",
    "print(\"Provides access to advanced dataset operations\")"
   ]
  },
  {
   "cell_type": "markdown",
   "metadata": {},
   "source": [
    "### Performance Tips\n",
    "\n",
    "1. **Batch Processing**: Use `apply_predictions_to_dataframe()` for multiple predictions\n",
    "   - v0.2.1 optimizes this with single model loading\n",
    "   - 50-80% faster than individual predictions\n",
    "\n",
    "2. **Data Filtering**: Exclude problematic cards using `get_card_issues()`\n",
    "\n",
    "3. **Caching** (Coming Soon): Phase 1 caching implementation in PR #13\n",
    "   - Will enable offline analysis\n",
    "   - Reduce redundant downloads"
   ]
  },
  {
   "cell_type": "markdown",
   "metadata": {},
   "source": [
    "## Common Workflows\n",
    "\n",
    "### Workflow 1: Analyze a specific drug across concentrations"
   ]
  },
  {
   "cell_type": "code",
   "execution_count": null,
   "metadata": {},
   "outputs": [],
   "source": [
    "# Get all rifampicin samples\n",
    "rifampicin = cards[cards['sample_name'].str.contains('rifampicin', case=False, na=False)]\n",
    "print(f\"Found {len(rifampicin)} rifampicin samples\")\n",
    "\n",
    "# Group by concentration\n",
    "conc_groups = rifampicin.groupby('quantity').size()\n",
    "print(\"\\nSamples by concentration:\")\n",
    "print(conc_groups)"
   ]
  },
  {
   "cell_type": "markdown",
   "metadata": {},
   "source": [
    "### Workflow 2: Quality control - exclude problematic cards"
   ]
  },
  {
   "cell_type": "code",
   "execution_count": null,
   "metadata": {},
   "outputs": [],
   "source": [
    "# Get problematic cards\n",
    "issues = pad.get_card_issues()\n",
    "issue_ids = set(issues['card_id'])\n",
    "\n",
    "# Filter dataset\n",
    "clean_cards = cards[~cards['card_id'].isin(issue_ids)]\n",
    "print(f\"Original dataset: {len(cards)} cards\")\n",
    "print(f\"After filtering: {len(clean_cards)} cards\")\n",
    "print(f\"Removed: {len(cards) - len(clean_cards)} problematic cards\")"
   ]
  },
  {
   "cell_type": "markdown",
   "metadata": {},
   "source": [
    "### Workflow 3: Model comparison"
   ]
  },
  {
   "cell_type": "code",
   "execution_count": null,
   "metadata": {},
   "outputs": [],
   "source": [
    "# Compare concentration predictions from different models\n",
    "test_card = 47918\n",
    "\n",
    "# Model 18 (PLS)\n",
    "actual, pred_18 = pad.predict(card_id=test_card, model_id=18)\n",
    "\n",
    "# Model 19 (NN v2) - if available\n",
    "try:\n",
    "    _, pred_19 = pad.predict(card_id=test_card, model_id=19)\n",
    "    print(f\"Card {test_card} concentration predictions:\")\n",
    "    print(f\"  Actual: {actual:.1f}%\")\n",
    "    print(f\"  Model 18 (PLS): {pred_18:.1f}%\")\n",
    "    print(f\"  Model 19 (NN): {pred_19:.1f}%\")\n",
    "except:\n",
    "    print(f\"Card {test_card} concentration:\")\n",
    "    print(f\"  Actual: {actual:.1f}%\")\n",
    "    print(f\"  Model 18 (PLS): {pred_18:.1f}%\")"
   ]
  },
  {
   "cell_type": "markdown",
   "metadata": {},
   "source": [
    "## Summary\n",
    "\n",
    "PAD Analytics v0.2.1 provides comprehensive functions for:\n",
    "\n",
    "1. **Dataset Management**: Load and explore ML datasets\n",
    "2. **Card Management**: Retrieve PAD test results\n",
    "3. **Project Organization**: Access data by research project\n",
    "4. **Model Access**: Use trained ML models\n",
    "5. **Visualization**: Interactive card displays\n",
    "6. **Prediction**: Drug identification and quantification\n",
    "7. **Batch Processing**: Optimized parallel processing\n",
    "\n",
    "For more information:\n",
    "- GitHub: https://github.com/PaperAnalyticalDeviceND/pad-analytics\n",
    "- PyPI: https://pypi.org/project/pad-analytics/"
   ]
  }
 ],
 "metadata": {
  "kernelspec": {
   "display_name": "Python 3",
   "language": "python",
   "name": "python3"
  },
  "language_info": {
   "codemirror_mode": {
    "name": "ipython",
    "version": 3
   },
   "file_extension": ".py",
   "mimetype": "text/x-python",
   "name": "python",
   "nbconvert_exporter": "python",
   "pygments_lexer": "ipython3",
   "version": "3.10.0"
  }
 },
 "nbformat": 4,
 "nbformat_minor": 4
}