{
 "cells": [
  {
   "cell_type": "markdown",
   "metadata": {},
   "source": [
    "# Complete PAD Analytics Function Demonstration\n",
    "\n",
    "This notebook demonstrates all available functions in the PAD Analytics package (v0.2.1), organized by category.\n",
    "\n",
    "## Table of Contents\n",
    "1. [Setup and Installation](#setup)\n",
    "2. [Dataset Management](#dataset-management)\n",
    "3. [Card/Sample Management](#card-management)\n",
    "4. [Project Management](#project-management)\n",
    "5. [Model Management](#model-management)\n",
    "6. [Visualization Functions](#visualization)\n",
    "7. [Prediction & Analysis](#prediction)\n",
    "8. [Caching & Performance](#caching)\n",
    "9. [Utility Functions](#utility)"
   ]
  },
  {
   "cell_type": "markdown",
   "metadata": {},
   "source": [
    "## 1. Setup and Installation <a name=\"setup\"></a>"
   ]
  },
  {
   "cell_type": "code",
   "execution_count": null,
   "metadata": {},
   "outputs": [],
   "source": [
    "# Import the package\n",
    "import pad_analytics as pad\n",
    "import pandas as pd\n",
    "import warnings\n",
    "warnings.filterwarnings('ignore')\n",
    "\n",
    "# Check version\n",
    "print(f\"PAD Analytics version: {pad.__version__}\")"
   ]
  },
  {
   "cell_type": "markdown",
   "metadata": {},
   "source": [
    "## 2. Dataset Management <a name=\"dataset-management\"></a>\n",
    "\n",
    "Dataset functions help you discover, load, and manage PAD datasets used for training and testing ML models."
   ]
  },
  {
   "cell_type": "markdown",
   "metadata": {},
   "source": [
    "### 2.1 get_datasets() - List all available datasets"
   ]
  },
  {
   "cell_type": "code",
   "execution_count": null,
   "metadata": {},
   "outputs": [],
   "source": [
    "# Get list of all available datasets\n",
    "datasets = pad.get_datasets()\n",
    "print(f\"Total datasets available: {len(datasets)}\")\n",
    "print(\"\\nFirst 5 datasets:\")\n",
    "datasets.head()"
   ]
  },
  {
   "cell_type": "markdown",
   "metadata": {},
   "source": [
    "### 2.2 get_dataset_list() - Get detailed dataset information"
   ]
  },
  {
   "cell_type": "code",
   "execution_count": null,
   "metadata": {},
   "outputs": [],
   "source": [
    "# Get comprehensive dataset information including model associations\n",
    "dataset_list = pad.get_dataset_list()\n",
    "print(\"Dataset information with model mappings:\")\n",
    "dataset_list.head()"
   ]
  },
  {
   "cell_type": "markdown",
   "metadata": {},
   "source": [
    "### 2.3 get_dataset() - Load a complete dataset"
   ]
  },
  {
   "cell_type": "code",
   "execution_count": null,
   "metadata": {},
   "outputs": [],
   "source": [
    "# Load a specific dataset (combines training and test data)\n",
    "dataset_name = \"FHI2020_Stratified_Sampling\"\n",
    "fhi_data = pad.get_dataset(dataset_name)\n",
    "\n",
    "print(f\"Dataset '{dataset_name}' loaded:\")\n",
    "print(f\"Total samples: {len(fhi_data)}\")\n",
    "print(f\"Columns: {list(fhi_data.columns)[:10]}...\")  # Show first 10 columns\n",
    "print(f\"\\nTraining samples: {len(fhi_data[fhi_data['is_train']])}\")\n",
    "print(f\"Test samples: {len(fhi_data[~fhi_data['is_train']])}\")"
   ]
  },
  {
   "cell_type": "markdown",
   "metadata": {},
   "source": [
    "### 2.4 get_dataset_cards() - Get clean dataset view"
   ]
  },
  {
   "cell_type": "code",
   "execution_count": null,
   "metadata": {},
   "outputs": [],
   "source": [
    "# Get dataset cards without internal columns like 'is_train'\n",
    "cards = pad.get_dataset_cards(\"FHI2020_Stratified_Sampling\")\n",
    "print(f\"Dataset cards (clean view):\")\n",
    "print(f\"Total cards: {len(cards)}\")\n",
    "print(f\"\\nNote: 'is_train' column removed for cleaner view\")\n",
    "cards[['card_id', 'sample_id', 'sample_name', 'quantity']].head()"
   ]
  },
  {
   "cell_type": "markdown",
   "metadata": {},
   "source": [
    "### 2.5 get_dataset_info() - Get dataset metadata"
   ]
  },
  {
   "cell_type": "code",
   "execution_count": null,
   "metadata": {},
   "outputs": [],
   "source": [
    "# Get detailed information about a dataset\n",
    "dataset_info = pad.get_dataset_info(\"FHI2020_Stratified_Sampling\")\n",
    "print(\"Dataset information:\")\n",
    "for key, value in dataset_info.items():\n",
    "    print(f\"{key}: {value}\")"
   ]
  },
  {
   "cell_type": "markdown",
   "metadata": {},
   "source": [
    "### 2.6 Model-Dataset Mapping Functions"
   ]
  },
  {
   "cell_type": "code",
   "execution_count": null,
   "metadata": {},
   "outputs": [],
   "source": [
    "# Get mapping between models and datasets\n",
    "model_mapping = pad.get_model_dataset_mapping()\n",
    "print(\"Model to Dataset Mapping:\")\n",
    "model_mapping.head()"
   ]
  },
  {
   "cell_type": "code",
   "execution_count": null,
   "metadata": {},
   "outputs": [],
   "source": [
    "# Get dataset name from model ID\n",
    "model_id = 16\n",
    "dataset_name = pad.get_dataset_name_from_model_id(model_id)\n",
    "print(f\"Model {model_id} was trained on dataset: '{dataset_name}'\")"
   ]
  },
  {
   "cell_type": "code",
   "execution_count": null,
   "metadata": {},
   "outputs": [],
   "source": [
    "# Load dataset associated with a specific model\n",
    "model_dataset = pad.get_dataset_from_model_id(16)\n",
    "print(f\"Dataset for model 16:\")\n",
    "print(f\"Total samples: {len(model_dataset)}\")\n",
    "print(f\"Unique drugs: {model_dataset['sample_name'].nunique()}\")"
   ]
  },
  {
   "cell_type": "markdown",
   "metadata": {},
   "source": [
    "## 3. Card/Sample Management <a name=\"card-management\"></a>\n",
    "\n",
    "Card functions help you retrieve and manage individual PAD test cards (samples)."
   ]
  },
  {
   "cell_type": "markdown",
   "metadata": {},
   "source": [
    "### 3.1 get_card() - Flexible card retrieval"
   ]
  },
  {
   "cell_type": "code",
   "execution_count": null,
   "metadata": {},
   "outputs": [],
   "source": [
    "# Get card by card_id\n",
    "card = pad.get_card(card_id=47918)\n",
    "print(\"Card retrieved by card_id:\")\n",
    "print(f\"Sample: {card['sample_name'].iloc[0]}\")\n",
    "print(f\"Quantity: {card['quantity'].iloc[0]}%\")\n",
    "print(f\"Project: {card['project.project_name'].iloc[0]}\")"
   ]
  },
  {
   "cell_type": "code",
   "execution_count": null,
   "metadata": {},
   "outputs": [],
   "source": [
    "# Get card(s) by sample_id - Note: multiple cards can share same sample_id\n",
    "cards_by_sample = pad.get_card(sample_id=52677)\n",
    "print(f\"Cards retrieved by sample_id: {len(cards_by_sample)} card(s)\")\n",
    "if len(cards_by_sample) > 0:\n",
    "    print(f\"Card IDs: {list(cards_by_sample['card_id'])}\")"
   ]
  },
  {
   "cell_type": "markdown",
   "metadata": {},
   "source": [
    "### 3.2 get_card_by_id() and get_card_by_sample_id()"
   ]
  },
  {
   "cell_type": "code",
   "execution_count": null,
   "metadata": {},
   "outputs": [],
   "source": [
    "# Direct card retrieval by ID\n",
    "card = pad.get_card_by_id(47918)\n",
    "print(f\"Card {card['card_id'].iloc[0]}: {card['sample_name'].iloc[0]} at {card['quantity'].iloc[0]}%\")"
   ]
  },
  {
   "cell_type": "code",
   "execution_count": null,
   "metadata": {},
   "outputs": [],
   "source": [
    "# Get all cards for a sample\n",
    "sample_cards = pad.get_card_by_sample_id(52677)\n",
    "print(f\"Found {len(sample_cards)} cards for sample_id 52677\")\n",
    "sample_cards[['card_id', 'sample_id', 'sample_name', 'quantity']].head()"
   ]
  },
  {
   "cell_type": "markdown",
   "metadata": {},
   "source": [
    "### 3.3 get_card_issues() - Quality control"
   ]
  },
  {
   "cell_type": "code",
   "execution_count": null,
   "metadata": {},
   "outputs": [],
   "source": [
    "# Get cards with known quality issues\n",
    "problematic_cards = pad.get_card_issues()\n",
    "print(f\"Cards with known issues: {len(problematic_cards)}\")\n",
    "print(\"\\nThese cards should typically be excluded from analysis\")\n",
    "if len(problematic_cards) > 0:\n",
    "    print(f\"Example problematic card IDs: {list(problematic_cards['card_id'].head())}\")"
   ]
  },
  {
   "cell_type": "markdown",
   "metadata": {},
   "source": [
    "## 4. Project Management <a name=\"project-management\"></a>\n",
    "\n",
    "Project functions help you explore and retrieve data organized by research projects."
   ]
  },
  {
   "cell_type": "markdown",
   "metadata": {},
   "source": [
    "### 4.1 get_projects() - List all projects"
   ]
  },
  {
   "cell_type": "code",
   "execution_count": null,
   "metadata": {},
   "outputs": [],
   "source": [
    "# Get all available projects\n",
    "projects = pad.get_projects()\n",
    "print(f\"Total projects available: {len(projects)}\")\n",
    "print(\"\\nSample projects:\")\n",
    "projects[['project_id', 'project_name', 'description']].head()"
   ]
  },
  {
   "cell_type": "markdown",
   "metadata": {},
   "source": [
    "### 4.2 get_project() - Flexible project retrieval"
   ]
  },
  {
   "cell_type": "code",
   "execution_count": null,
   "metadata": {},
   "outputs": [],
   "source": [
    "# Get project by ID\n",
    "project = pad.get_project(id=1)\n",
    "if project is not None:\n",
    "    print(f\"Project by ID: {project.get('project_name', 'N/A')}\")\n",
    "\n",
    "# Get project by name\n",
    "project = pad.get_project(name=\"FHI Study 2020\")\n",
    "if project is not None:\n",
    "    print(f\"Project by name: ID={project.get('project_id', 'N/A')}\")"
   ]
  },
  {
   "cell_type": "markdown",
   "metadata": {},
   "source": [
    "### 4.3 get_project_cards() - Get all cards from project(s)"
   ]
  },
  {
   "cell_type": "code",
   "execution_count": null,
   "metadata": {},
   "outputs": [],
   "source": [
    "# Get cards from a specific project by name\n",
    "project_cards = pad.get_project_cards(project_name=\"FHI Study 2020\")\n",
    "print(f\"Cards in 'FHI Study 2020': {len(project_cards) if project_cards is not None else 0}\")\n",
    "\n",
    "# Get cards from multiple projects by IDs\n",
    "multi_project_cards = pad.get_project_cards(project_ids=[1, 2, 3])\n",
    "print(f\"\\nCards from projects 1, 2, 3: {len(multi_project_cards) if multi_project_cards is not None else 0}\")"
   ]
  },
  {
   "cell_type": "markdown",
   "metadata": {},
   "source": [
    "## 5. Model Management <a name=\"model-management\"></a>\n",
    "\n",
    "Model functions help you discover and retrieve information about available ML models."
   ]
  },
  {
   "cell_type": "markdown",
   "metadata": {},
   "source": [
    "### 5.1 get_models() - List all available models"
   ]
  },
  {
   "cell_type": "code",
   "execution_count": null,
   "metadata": {},
   "outputs": [],
   "source": [
    "# Get all available models\n",
    "models = pad.get_models()\n",
    "print(f\"Total models available: {len(models)}\")\n",
    "print(\"\\nKey models:\")\n",
    "print(\"- Model 16: Neural Network for drug classification\")\n",
    "print(\"- Model 17: Neural Network for concentration\")\n",
    "print(\"- Model 18: PLS for concentration\")\n",
    "print(\"- Model 19: Neural Network for concentration v2\")\n",
    "models[['model_id', 'model_name', 'model_type']].head()"
   ]
  },
  {
   "cell_type": "markdown",
   "metadata": {},
   "source": [
    "### 5.2 get_model_by_id() - Get specific model information"
   ]
  },
  {
   "cell_type": "code",
   "execution_count": null,
   "metadata": {},
   "outputs": [],
   "source": [
    "# Get information about a specific model\n",
    "model_16 = pad.get_model_by_id(16)\n",
    "print(\"Model 16 (Drug Classification):\")\n",
    "for key, value in model_16.items():\n",
    "    print(f\"  {key}: {value}\")"
   ]
  },
  {
   "cell_type": "markdown",
   "metadata": {},
   "source": [
    "### 5.3 get_model_data() - Get model with associated data"
   ]
  },
  {
   "cell_type": "code",
   "execution_count": null,
   "metadata": {},
   "outputs": [],
   "source": [
    "# Get model with different data types\n",
    "# type='all' returns model info + training/test data\n",
    "model_data = pad.get_model_data(16, type='train')\n",
    "print(f\"Model 16 training data: {len(model_data) if isinstance(model_data, pd.DataFrame) else 'N/A'} samples\")\n",
    "\n",
    "model_data = pad.get_model_data(16, type='test')\n",
    "print(f\"Model 16 test data: {len(model_data) if isinstance(model_data, pd.DataFrame) else 'N/A'} samples\")"
   ]
  },
  {
   "cell_type": "markdown",
   "metadata": {},
   "source": [
    "## 6. Visualization Functions <a name=\"visualization\"></a>\n",
    "\n",
    "Visualization functions create interactive displays of PAD cards and predictions."
   ]
  },
  {
   "cell_type": "markdown",
   "metadata": {},
   "source": [
    "### 6.1 show_card() - Display single card"
   ]
  },
  {
   "cell_type": "code",
   "execution_count": null,
   "metadata": {},
   "outputs": [],
   "source": [
    "# Display a single card with image and metadata\n",
    "print(\"Displaying card 47918:\")\n",
    "pad.show_card(card_id=47918)"
   ]
  },
  {
   "cell_type": "code",
   "execution_count": null,
   "metadata": {},
   "outputs": [],
   "source": [
    "# Display card by sample_id (may show multiple if sample has multiple cards)\n",
    "print(\"Displaying cards for sample 52677:\")\n",
    "pad.show_card(sample_id=52677)"
   ]
  },
  {
   "cell_type": "markdown",
   "metadata": {},
   "source": [
    "### 6.2 show_cards() - Display multiple cards"
   ]
  },
  {
   "cell_type": "code",
   "execution_count": null,
   "metadata": {},
   "outputs": [],
   "source": [
    "# Display multiple cards by card IDs\n",
    "print(\"Displaying multiple cards:\")\n",
    "pad.show_cards(card_ids=[47918, 47919, 47920])"
   ]
  },
  {
   "cell_type": "code",
   "execution_count": null,
   "metadata": {},
   "outputs": [],
   "source": [
    "# Display multiple cards by sample IDs\n",
    "print(\"Displaying cards for multiple samples:\")\n",
    "pad.show_cards(sample_ids=[52677, 52678])"
   ]
  },
  {
   "cell_type": "markdown",
   "metadata": {},
   "source": [
    "### 6.3 show_cards_from_df() - Display cards from DataFrame"
   ]
  },
  {
   "cell_type": "code",
   "execution_count": null,
   "metadata": {},
   "outputs": [],
   "source": [
    "# Get some cards and display them\n",
    "rifampicin_cards = cards[cards['sample_name'].str.contains('rifampicin', case=False, na=False)].head(3)\n",
    "if len(rifampicin_cards) > 0:\n",
    "    print(\"Displaying rifampicin cards:\")\n",
    "    pad.show_cards_from_df(rifampicin_cards)\n",
    "else:\n",
    "    print(\"No rifampicin cards found in this dataset\")"
   ]
  },
  {
   "cell_type": "markdown",
   "metadata": {},
   "source": [
    "### 6.4 show_grouped_cards() - Display cards organized by groups"
   ]
  },
  {
   "cell_type": "code",
   "execution_count": null,
   "metadata": {},
   "outputs": [],
   "source": [
    "# Group cards by concentration and display in tabs\n",
    "sample_cards = cards[cards['sample_name'].str.contains('ceftriaxone', case=False, na=False)].head(15)\n",
    "if len(sample_cards) > 0:\n",
    "    print(\"Displaying cards grouped by concentration:\")\n",
    "    pad.show_grouped_cards(sample_cards, group_column='quantity', images_per_row=3)\n",
    "else:\n",
    "    print(\"Not enough cards for grouping demonstration\")"
   ]
  },
  {
   "cell_type": "markdown",
   "metadata": {},
   "source": [
    "### 6.5 show_prediction() - Display card with prediction results"
   ]
  },
  {
   "cell_type": "code",
   "execution_count": null,
   "metadata": {},
   "outputs": [],
   "source": [
    "# Show prediction results for a card\n",
    "print(\"Card with drug classification prediction (Model 16):\")\n",
    "pad.show_prediction(card_id=47918, model_id=16)"
   ]
  },
  {
   "cell_type": "code",
   "execution_count": null,
   "metadata": {},
   "outputs": [],
   "source": [
    "# Show concentration prediction\n",
    "print(\"\\nCard with concentration prediction (Model 18):\")\n",
    "pad.show_prediction(card_id=47918, model_id=18)"
   ]
  },
  {
   "cell_type": "markdown",
   "metadata": {},
   "source": [
    "## 7. Prediction & Analysis <a name=\"prediction\"></a>\n",
    "\n",
    "Prediction functions apply ML models to PAD images for drug identification and quantification."
   ]
  },
  {
   "cell_type": "markdown",
   "metadata": {},
   "source": [
    "### 7.1 predict() - Single card prediction"
   ]
  },
  {
   "cell_type": "code",
   "execution_count": null,
   "metadata": {},
   "outputs": [],
   "source": [
    "# Drug classification prediction (Model 16)\n",
    "actual, prediction = pad.predict(card_id=47918, model_id=16)\n",
    "drug_name, confidence, energy = prediction\n",
    "print(f\"Drug Classification (Model 16):\")\n",
    "print(f\"  Actual: {actual}\")\n",
    "print(f\"  Predicted: {drug_name} (confidence: {confidence:.2%})\")\n",
    "print(f\"  Energy: {energy:.2f}\")"
   ]
  },
  {
   "cell_type": "code",
   "execution_count": null,
   "metadata": {},
   "outputs": [],
   "source": [
    "# Concentration prediction (Model 18 - PLS)\n",
    "actual, predicted = pad.predict(card_id=47918, model_id=18)\n",
    "print(f\"\\nConcentration Prediction (Model 18 - PLS):\")\n",
    "print(f\"  Actual: {actual:.2f}%\")\n",
    "print(f\"  Predicted: {predicted:.2f}%\")\n",
    "print(f\"  Error: {abs(actual - predicted):.2f}%\")"
   ]
  },
  {
   "cell_type": "markdown",
   "metadata": {},
   "source": [
    "### 7.2 predict_url() - Predict from image URL"
   ]
  },
  {
   "cell_type": "code",
   "execution_count": null,
   "metadata": {},
   "outputs": [],
   "source": [
    "# Get image URL from a card\n",
    "card = pad.get_card(card_id=47918)\n",
    "image_url = card['processed_file_location'].iloc[0]\n",
    "\n",
    "# Make prediction directly from URL\n",
    "actual_value = card['quantity'].iloc[0]\n",
    "_, prediction = pad.predict_url(image_url, model_id=16, actual=card['sample_name'].iloc[0])\n",
    "print(f\"Prediction from URL:\")\n",
    "print(f\"  Image: {image_url.split('/')[-1]}\")\n",
    "print(f\"  Predicted drug: {prediction[0]}\")"
   ]
  },
  {
   "cell_type": "markdown",
   "metadata": {},
   "source": [
    "### 7.3 apply_predictions_to_dataframe() - Batch predictions (Optimized in v0.2.1)"
   ]
  },
  {
   "cell_type": "code",
   "execution_count": null,
   "metadata": {},
   "outputs": [],
   "source": [
    "# Apply predictions to a dataset - now with optimized batch processing!\n",
    "# Let's use a small subset for demonstration\n",
    "small_dataset = cards.head(10)\n",
    "\n",
    "print(\"Applying batch predictions (optimized in v0.2.1):\")\n",
    "print(f\"Processing {len(small_dataset)} cards...\")\n",
    "\n",
    "# Apply predictions with Model 16 (classification)\n",
    "results = pad.apply_predictions_to_dataframe(small_dataset, model_id=16)\n",
    "\n",
    "print(f\"\\nResults shape: {results.shape}\")\n",
    "print(\"\\nPrediction results:\")\n",
    "results[['card_id', 'sample_name', 'quantity', 'actual', 'prediction']].head()"
   ]
  },
  {
   "cell_type": "code",
   "execution_count": null,
   "metadata": {},
   "outputs": [],
   "source": [
    "# Batch predictions with concentration model\n",
    "print(\"Batch concentration predictions:\")\n",
    "conc_results = pad.apply_predictions_to_dataframe(small_dataset, model_id=18)\n",
    "conc_results[['card_id', 'sample_name', 'actual', 'prediction']].head()"
   ]
  },
  {
   "cell_type": "markdown",
   "metadata": {},
   "source": [
    "## 8. Caching & Performance (New in Development) <a name=\"caching\"></a>\n",
    "\n",
    "Caching functions improve performance by storing downloaded images and predictions locally."
   ]
  },
  {
   "cell_type": "code",
   "execution_count": null,
   "metadata": {},
   "outputs": [],
   "source": [
    "# Note: Caching features are in development (PR #13)\n",
    "# Once merged, they will be available as:\n",
    "\n",
    "print(\"Caching features (coming soon):\")\n",
    "print(\"- CacheManager: Manages local image cache\")\n",
    "print(\"- CachedDataset: Downloads and caches dataset images\")\n",
    "print(\"- predict_with_cache(): Uses cached images for faster predictions\")\n",
    "print(\"- Cache location: ~/.pad_cache/\")\n",
    "print(\"\\nThese features will enable offline analysis and 50-80% faster predictions!\")"
   ]
  },
  {
   "cell_type": "markdown",
   "metadata": {},
   "source": [
    "## 9. Utility Functions <a name=\"utility\"></a>\n",
    "\n",
    "Utility functions provide lower-level access and configuration options."
   ]
  },
  {
   "cell_type": "markdown",
   "metadata": {},
   "source": [
    "### 9.1 Configuration Functions"
   ]
  },
  {
   "cell_type": "code",
   "execution_count": null,
   "metadata": {},
   "outputs": [],
   "source": [
    "# Get current base URL\n",
    "print(f\"Current API base URL: {pad.BASE_URL}\")\n",
    "\n",
    "# You can change the base URL if needed (e.g., for testing)\n",
    "# pad.set_base_url(\"https://test.pad.crc.nd.edu/api/v2\")"
   ]
  },
  {
   "cell_type": "markdown",
   "metadata": {},
   "source": [
    "### 9.2 Image Processing Functions"
   ]
  },
  {
   "cell_type": "code",
   "execution_count": null,
   "metadata": {},
   "outputs": [],
   "source": [
    "# These functions are typically used internally but can be accessed directly\n",
    "print(\"Available image processing functions:\")\n",
    "print(\"- get_rgb_from_pad_image(): Extract RGB values from PAD regions\")\n",
    "print(\"- extract_features_for_single_file(): Extract features for ML models\")\n",
    "print(\"\\nThese are used internally by predict() functions\")"
   ]
  },
  {
   "cell_type": "markdown",
   "metadata": {},
   "source": [
    "### 9.3 Dataset Manager Access"
   ]
  },
  {
   "cell_type": "code",
   "execution_count": null,
   "metadata": {},
   "outputs": [],
   "source": [
    "# Get direct access to the dataset manager\n",
    "dm = pad.get_dataset_manager()\n",
    "print(f\"DatasetManager instance: {type(dm)}\")\n",
    "print(\"\\nThis provides advanced dataset operations for power users\")"
   ]
  },
  {
   "cell_type": "markdown",
   "metadata": {},
   "source": [
    "## Summary\n",
    "\n",
    "This notebook demonstrated all major functions in PAD Analytics v0.2.1:\n",
    "\n",
    "### Key Capabilities:\n",
    "1. **Dataset Management** - Load and explore ML training/test datasets\n",
    "2. **Card Management** - Retrieve individual PAD test results\n",
    "3. **Project Management** - Organize data by research projects\n",
    "4. **Model Management** - Access trained ML models\n",
    "5. **Visualization** - Interactive displays of PAD images and results\n",
    "6. **Prediction** - Apply ML models for drug identification and quantification\n",
    "7. **Batch Processing** - Optimized parallel processing (50-80% faster in v0.2.1)\n",
    "8. **Caching** - Local storage for offline analysis (coming soon)\n",
    "\n",
    "### Common Workflows:\n",
    "```python\n",
    "# 1. Load dataset and make predictions\n",
    "dataset = pad.get_dataset(\"FHI2020_Stratified_Sampling\")\n",
    "results = pad.apply_predictions_to_dataframe(dataset, model_id=16)\n",
    "\n",
    "# 2. Analyze specific drug\n",
    "rifampicin = dataset[dataset['sample_name'].str.contains('rifampicin')]\n",
    "pad.show_grouped_cards(rifampicin, 'quantity')\n",
    "\n",
    "# 3. Quality control\n",
    "issues = pad.get_card_issues()\n",
    "clean_data = dataset[~dataset['card_id'].isin(issues['card_id'])]\n",
    "```\n",
    "\n",
    "For more information, visit: https://github.com/PaperAnalyticalDeviceND/pad-analytics"
   ]
  }
 ],
 "metadata": {
  "kernelspec": {
   "display_name": "Python 3",
   "language": "python",
   "name": "python3"
  },
  "language_info": {
   "codemirror_mode": {
    "name": "ipython",
    "version": 3
   },
   "file_extension": ".py",
   "mimetype": "text/x-python",
   "name": "python",
   "nbconvert_exporter": "python",
   "pygments_lexer": "ipython3",
   "version": "3.8.0"
  }
 },
 "nbformat": 4,
 "nbformat_minor": 4
}