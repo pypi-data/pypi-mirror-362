{
 "cells": [
  {
   "cell_type": "markdown",
   "metadata": {},
   "source": [
    "# PAD Analytics Complete Function Guide\n",
    "\n",
    "A comprehensive demonstration of all PAD Analytics functions with pharmaceutical quality testing context.\n",
    "\n",
    "**Version**: 0.2.1  \n",
    "**Date**: July 2025  \n",
    "**Context**: Paper Analytical Devices for Pharmaceutical Quality Testing"
   ]
  },
  {
   "cell_type": "markdown",
   "metadata": {},
   "source": [
    "## Setup and Imports"
   ]
  },
  {
   "cell_type": "code",
   "execution_count": 50,
   "metadata": {},
   "outputs": [
    {
     "name": "stdout",
     "output_type": "stream",
     "text": [
      "PAD Analytics version: 0.2.1\n",
      "Ready for pharmaceutical quality testing analysis!\n"
     ]
    }
   ],
   "source": [
    "# Import PAD Analytics and supporting libraries\n",
    "import pad_analytics as pad\n",
    "import pandas as pd\n",
    "import warnings\n",
    "warnings.filterwarnings('ignore')\n",
    "\n",
    "print(f\"PAD Analytics version: {pad.__version__}\")\n",
    "print(\"Ready for pharmaceutical quality testing analysis!\")"
   ]
  },
  {
   "cell_type": "markdown",
   "metadata": {},
   "source": [
    "### Setup Google Drive for saving results"
   ]
  },
  {
   "cell_type": "code",
   "execution_count": null,
   "metadata": {},
   "outputs": [],
   "source": [
    "# Setup Google Drive for saving results\n",
    "from google.colab import drive\n",
    "drive.mount('/content/drive')\n",
    "\n",
    "# Workshop folder (same as pandas notebook)\n",
    "workshop_folder = '/content/drive/MyDrive/ML_PAD_Workshop'\n",
    "\n",
    "# Create subfolder for today's work\n",
    "import os\n",
    "pad_analysis_folder = f'{workshop_folder}/day_1'\n",
    "os.makedirs(pad_analysis_folder, exist_ok=True)\n",
    "\n",
    "print(f\"📁 Results will be saved to: {pad_analysis_folder}\")\n",
    "print(\"🔗 This ensures your work persists after the session ends!\")"
   ]
  },
  {
   "cell_type": "markdown",
   "metadata": {},
   "source": [
    "## Understanding PAD Concepts\n",
    "\n",
    "Before diving into the functions, let's understand the key concepts in PAD Analytics:"
   ]
  },
  {
   "cell_type": "markdown",
   "metadata": {},
   "source": [
    "### PAD Data Structure\n",
    "\n",
    "- **Sample ID (`sample_id`)**: Unique identifier for each **physical** PAD card\n",
    "  - In the image below, this would be the printed number (e.g., 53707)\n",
    "  - One physical card can have multiple digital images\n",
    "\n",
    "- **Card ID (`card_id`)**: Unique identifier for each PAD card **image** in the database\n",
    "  - Different photos of the same physical card have different card_ids\n",
    "  - Multiple images capture device and lighting variations for robust models\n",
    "\n",
    "- **Projects**: Collections of physical cards with specific layouts and chemical components\n",
    "  - Captured under different devices and illumination conditions\n",
    "  - Represent specific research studies or validation campaigns\n",
    "\n",
    "- **Datasets**: Curated collections for training/testing ML models\n",
    "  - Cards from one or multiple projects\n",
    "  - Split into training and test sets for model validation\n",
    "\n",
    "- **Models**: ML algorithms trained on specific datasets\n",
    "  - Drug classification: Identify the pharmaceutical compound\n",
    "  - Concentration quantification: Measure drug concentration levels\n",
    "\n",
    "![PAD Example](https://padproject.nd.edu/assets/589291/300x/15371_processed_pad_amoxicillin_100.png)\n",
    "\n",
    "*Example: Amoxicillin PAD card showing colorimetric reaction patterns*"
   ]
  },
  {
   "cell_type": "markdown",
   "metadata": {},
   "source": [
    "### Key Relationships\n",
    "\n",
    "```\n",
    "Physical PAD → Multiple Images → Projects → Datasets → Models → Predictions\n",
    "   (sample_id)    (card_ids)                                      ↓\n",
    "                                                        Quality Assessment\n",
    "```\n",
    "\n",
    "**Important**: \n",
    "- One `sample_id` → Multiple `card_ids` (same physical card, different photos)\n",
    "- Multiple projects → Can contribute to one dataset\n",
    "- One dataset → Trains one or more models\n",
    "- Models → Make predictions for pharmaceutical quality testing"
   ]
  },
  {
   "cell_type": "markdown",
   "metadata": {},
   "source": [
    "## PAD Technology Context\n",
    "\n",
    "### What are Paper Analytical Devices (PADs)?\n",
    "\n",
    "- **Low-cost diagnostic tools** for pharmaceutical quality testing\n",
    "- **Colorimetric detection**: Produce color patterns when drug samples are applied\n",
    "- **Field deployment**: Enable quality testing in resource-limited settings\n",
    "- **Rapid analysis**: Results available within minutes\n",
    "\n",
    "### How PAD Analytics Works\n",
    "\n",
    "1. **Image Capture**: Using the PADReader app,PAD cards photographed under various lighting and device conditions\n",
    "2. **Feature Extraction**: ML algorithms analyze color patterns from specific card regions\n",
    "3. **Model Prediction**: Trained models classify drugs and quantify concentrations\n",
    "4. **Quality Assessment**: Results support pharmaceutical quality control decisions\n",
    "\n",
    "### Real-World Applications\n",
    "\n",
    "- **Pharmaceutical Quality Control**: Verify drug identity and potency\n",
    "- **Counterfeit Detection**: Identify fake or substandard medications\n",
    "- **Field Validation**: Quality testing in developing countries\n",
    "- **Supply Chain Monitoring**: Ensure drug quality throughout distribution"
   ]
  },
  {
   "cell_type": "markdown",
   "metadata": {},
   "source": [
    "---\n",
    "\n",
    "# Function Categories\n",
    "\n",
    "Now let's explore all PAD Analytics functions organized by category:"
   ]
  },
  {
   "cell_type": "markdown",
   "metadata": {},
   "source": [
    "## 1. Dataset Management Functions\n",
    "\n",
    "*Work with curated collections of PAD cards for ML training/testing*\n",
    "\n",
    "**PAD Context**: Datasets contain train/test splits of card images from one or more projects, specifically curated for model development and validation in pharmaceutical quality testing. You can also see the [PAD Dataset Catalog](https://padproject.nd.edu/data-structurehttps://padproject.info/pad_dataset_registry/datasets/) for more details.\n"
   ]
  },
  {
   "cell_type": "markdown",
   "metadata": {},
   "source": [
    "### 1.1 Discover Available Datasets"
   ]
  },
  {
   "cell_type": "code",
   "execution_count": 2,
   "metadata": {},
   "outputs": [
    {
     "name": "stdout",
     "output_type": "stream",
     "text": [
      "Total datasets available: 10\n",
      "\n",
      "Available datasets for pharmaceutical quality testing:\n"
     ]
    },
    {
     "data": {
      "text/html": [
       "<div>\n",
       "<style scoped>\n",
       "    .dataframe tbody tr th:only-of-type {\n",
       "        vertical-align: middle;\n",
       "    }\n",
       "\n",
       "    .dataframe tbody tr th {\n",
       "        vertical-align: top;\n",
       "    }\n",
       "\n",
       "    .dataframe thead th {\n",
       "        text-align: right;\n",
       "    }\n",
       "</style>\n",
       "<table border=\"1\" class=\"dataframe\">\n",
       "  <thead>\n",
       "    <tr style=\"text-align: right;\">\n",
       "      <th></th>\n",
       "      <th>Dataset Name</th>\n",
       "      <th>Total Records</th>\n",
       "      <th>Description</th>\n",
       "      <th>Documentation</th>\n",
       "      <th>Source</th>\n",
       "    </tr>\n",
       "  </thead>\n",
       "  <tbody>\n",
       "    <tr>\n",
       "      <th>0</th>\n",
       "      <td>FHI2020_Stratified_Sampling</td>\n",
       "      <td>8001</td>\n",
       "      <td>Enhanced approach to selecting training/test s...</td>\n",
       "      <td>https://padproject.info/pad_dataset_registry/d...</td>\n",
       "      <td>catalog</td>\n",
       "    </tr>\n",
       "    <tr>\n",
       "      <th>1</th>\n",
       "      <td>FHI2021</td>\n",
       "      <td>0</td>\n",
       "      <td>Dataset: FHI2021 from PaperAnalyticalDeviceND/...</td>\n",
       "      <td>https://padproject.info/pad_dataset_registry/d...</td>\n",
       "      <td>catalog</td>\n",
       "    </tr>\n",
       "    <tr>\n",
       "      <th>2</th>\n",
       "      <td>FHI2022</td>\n",
       "      <td>0</td>\n",
       "      <td>Dataset: FHI2022 from PaperAnalyticalDeviceND/...</td>\n",
       "      <td>https://padproject.info/pad_dataset_registry/d...</td>\n",
       "      <td>catalog</td>\n",
       "    </tr>\n",
       "    <tr>\n",
       "      <th>3</th>\n",
       "      <td>FHI360_FHI2020-FHI2022_MidTrainingSet_Good_v1.0</td>\n",
       "      <td>5924</td>\n",
       "      <td>Dataset: FHI360_FHI2020-FHI2022_MidTrainingSet...</td>\n",
       "      <td>https://padproject.info/pad_dataset_registry/d...</td>\n",
       "      <td>catalog</td>\n",
       "    </tr>\n",
       "    <tr>\n",
       "      <th>4</th>\n",
       "      <td>FHI360_FHI2020_MidTrainingSet-Zero_Good_v1.1</td>\n",
       "      <td>9027</td>\n",
       "      <td>Dataset: FHI360_FHI2020_MidTrainingSet-Zero_Go...</td>\n",
       "      <td>https://padproject.info/pad_dataset_registry/d...</td>\n",
       "      <td>catalog</td>\n",
       "    </tr>\n",
       "  </tbody>\n",
       "</table>\n",
       "</div>"
      ],
      "text/plain": [
       "                                      Dataset Name  Total Records  \\\n",
       "0                      FHI2020_Stratified_Sampling           8001   \n",
       "1                                          FHI2021              0   \n",
       "2                                          FHI2022              0   \n",
       "3  FHI360_FHI2020-FHI2022_MidTrainingSet_Good_v1.0           5924   \n",
       "4     FHI360_FHI2020_MidTrainingSet-Zero_Good_v1.1           9027   \n",
       "\n",
       "                                         Description  \\\n",
       "0  Enhanced approach to selecting training/test s...   \n",
       "1  Dataset: FHI2021 from PaperAnalyticalDeviceND/...   \n",
       "2  Dataset: FHI2022 from PaperAnalyticalDeviceND/...   \n",
       "3  Dataset: FHI360_FHI2020-FHI2022_MidTrainingSet...   \n",
       "4  Dataset: FHI360_FHI2020_MidTrainingSet-Zero_Go...   \n",
       "\n",
       "                                       Documentation   Source  \n",
       "0  https://padproject.info/pad_dataset_registry/d...  catalog  \n",
       "1  https://padproject.info/pad_dataset_registry/d...  catalog  \n",
       "2  https://padproject.info/pad_dataset_registry/d...  catalog  \n",
       "3  https://padproject.info/pad_dataset_registry/d...  catalog  \n",
       "4  https://padproject.info/pad_dataset_registry/d...  catalog  "
      ]
     },
     "execution_count": 2,
     "metadata": {},
     "output_type": "execute_result"
    }
   ],
   "source": [
    "# List all available datasets\n",
    "datasets = pad.get_datasets()\n",
    "print(f\"Total datasets available: {len(datasets)}\")\n",
    "print(\"\\nAvailable datasets for pharmaceutical quality testing:\")\n",
    "datasets.head()"
   ]
  },
  {
   "cell_type": "code",
   "execution_count": 3,
   "metadata": {},
   "outputs": [
    {
     "data": {
      "text/plain": [
       "array(['FHI2020_Stratified_Sampling', 'FHI2021', 'FHI2022',\n",
       "       'FHI360_FHI2020-FHI2022_MidTrainingSet_Good_v1.0',\n",
       "       'FHI360_FHI2020_MidTrainingSet-Zero_Good_v1.1',\n",
       "       'FHI360_FHI2020_MidTrainingSet_Good_v1.0',\n",
       "       'FHI360_FHI360-FHI2020_BalancedData_v1.0',\n",
       "       'Leiberman-Lab_ChemoPADNNtraining2024_Partial-Drug-Set_v1.0',\n",
       "       'TFDA_MSH-Tanzania_v2.0', 'Veripad_ChemoPAD-idPAD2.4_v1.0'],\n",
       "      dtype=object)"
      ]
     },
     "execution_count": 3,
     "metadata": {},
     "output_type": "execute_result"
    }
   ],
   "source": [
    "# List the names of the available datasets\n",
    "datasets['Dataset Name'].values"
   ]
  },
  {
   "cell_type": "markdown",
   "metadata": {},
   "source": [
    "### 1.2 Load Dataset for Analysis"
   ]
  },
  {
   "cell_type": "code",
   "execution_count": 4,
   "metadata": {},
   "outputs": [
    {
     "name": "stdout",
     "output_type": "stream",
     "text": [
      "Loaded 'FHI2020_Stratified_Sampling' for pharmaceutical analysis:\n",
      "Total PAD card images: 8001\n",
      "Unique drugs tested: 23\n",
      "Concentration levels: [0, 20, 50, 80, 100]\n",
      "Clean dataset view: 8001 PAD card records\n"
     ]
    },
    {
     "data": {
      "text/html": [
       "<div>\n",
       "<style scoped>\n",
       "    .dataframe tbody tr th:only-of-type {\n",
       "        vertical-align: middle;\n",
       "    }\n",
       "\n",
       "    .dataframe tbody tr th {\n",
       "        vertical-align: top;\n",
       "    }\n",
       "\n",
       "    .dataframe thead th {\n",
       "        text-align: right;\n",
       "    }\n",
       "</style>\n",
       "<table border=\"1\" class=\"dataframe\">\n",
       "  <thead>\n",
       "    <tr style=\"text-align: right;\">\n",
       "      <th></th>\n",
       "      <th>id</th>\n",
       "      <th>sample_id</th>\n",
       "      <th>sample_name</th>\n",
       "      <th>quantity</th>\n",
       "      <th>camera_type_1</th>\n",
       "      <th>url</th>\n",
       "      <th>hashlib_md5</th>\n",
       "      <th>image_name</th>\n",
       "    </tr>\n",
       "  </thead>\n",
       "  <tbody>\n",
       "    <tr>\n",
       "      <th>0</th>\n",
       "      <td>15589</td>\n",
       "      <td>53787</td>\n",
       "      <td>hydroxychloroquine</td>\n",
       "      <td>100</td>\n",
       "      <td>Google Pixel 3a</td>\n",
       "      <td>https://pad.crc.nd.edu//var/www/html/images/pa...</td>\n",
       "      <td>c7ffc09ba273d13dfd9f295aa2f66cb5</td>\n",
       "      <td>15589__53787__hydroxychloroquine__100.png</td>\n",
       "    </tr>\n",
       "    <tr>\n",
       "      <th>1</th>\n",
       "      <td>15590</td>\n",
       "      <td>53778</td>\n",
       "      <td>hydroxychloroquine</td>\n",
       "      <td>100</td>\n",
       "      <td>Google Pixel 3a</td>\n",
       "      <td>https://pad.crc.nd.edu//var/www/html/images/pa...</td>\n",
       "      <td>ac2f4e2656289c2c26c087bc3b918ed5</td>\n",
       "      <td>15590__53778__hydroxychloroquine__100.png</td>\n",
       "    </tr>\n",
       "    <tr>\n",
       "      <th>2</th>\n",
       "      <td>15591</td>\n",
       "      <td>53789</td>\n",
       "      <td>hydroxychloroquine</td>\n",
       "      <td>100</td>\n",
       "      <td>Google Pixel 3a</td>\n",
       "      <td>https://pad.crc.nd.edu//var/www/html/images/pa...</td>\n",
       "      <td>7f983c5681156fd10cd49c592ea3d25e</td>\n",
       "      <td>15591__53789__hydroxychloroquine__100.png</td>\n",
       "    </tr>\n",
       "    <tr>\n",
       "      <th>3</th>\n",
       "      <td>15592</td>\n",
       "      <td>53787</td>\n",
       "      <td>hydroxychloroquine</td>\n",
       "      <td>100</td>\n",
       "      <td>Google Pixel 3a</td>\n",
       "      <td>https://pad.crc.nd.edu//var/www/html/images/pa...</td>\n",
       "      <td>7c5e34b986e53ec0e05b0dfe086b4c2e</td>\n",
       "      <td>15592__53787__hydroxychloroquine__100.png</td>\n",
       "    </tr>\n",
       "    <tr>\n",
       "      <th>4</th>\n",
       "      <td>15595</td>\n",
       "      <td>53785</td>\n",
       "      <td>hydroxychloroquine</td>\n",
       "      <td>100</td>\n",
       "      <td>Google Pixel 3a</td>\n",
       "      <td>https://pad.crc.nd.edu//var/www/html/images/pa...</td>\n",
       "      <td>a765e98e08c00e506b511b39cdef0ac9</td>\n",
       "      <td>15595__53785__hydroxychloroquine__100.png</td>\n",
       "    </tr>\n",
       "  </tbody>\n",
       "</table>\n",
       "</div>"
      ],
      "text/plain": [
       "      id  sample_id         sample_name  quantity    camera_type_1  \\\n",
       "0  15589      53787  hydroxychloroquine       100  Google Pixel 3a   \n",
       "1  15590      53778  hydroxychloroquine       100  Google Pixel 3a   \n",
       "2  15591      53789  hydroxychloroquine       100  Google Pixel 3a   \n",
       "3  15592      53787  hydroxychloroquine       100  Google Pixel 3a   \n",
       "4  15595      53785  hydroxychloroquine       100  Google Pixel 3a   \n",
       "\n",
       "                                                 url  \\\n",
       "0  https://pad.crc.nd.edu//var/www/html/images/pa...   \n",
       "1  https://pad.crc.nd.edu//var/www/html/images/pa...   \n",
       "2  https://pad.crc.nd.edu//var/www/html/images/pa...   \n",
       "3  https://pad.crc.nd.edu//var/www/html/images/pa...   \n",
       "4  https://pad.crc.nd.edu//var/www/html/images/pa...   \n",
       "\n",
       "                        hashlib_md5                                 image_name  \n",
       "0  c7ffc09ba273d13dfd9f295aa2f66cb5  15589__53787__hydroxychloroquine__100.png  \n",
       "1  ac2f4e2656289c2c26c087bc3b918ed5  15590__53778__hydroxychloroquine__100.png  \n",
       "2  7f983c5681156fd10cd49c592ea3d25e  15591__53789__hydroxychloroquine__100.png  \n",
       "3  7c5e34b986e53ec0e05b0dfe086b4c2e  15592__53787__hydroxychloroquine__100.png  \n",
       "4  a765e98e08c00e506b511b39cdef0ac9  15595__53785__hydroxychloroquine__100.png  "
      ]
     },
     "execution_count": 4,
     "metadata": {},
     "output_type": "execute_result"
    }
   ],
   "source": [
    "# Load the main pharmaceutical quality testing dataset\n",
    "dataset_name = \"FHI2020_Stratified_Sampling\"\n",
    "fhi_data = pad.get_dataset_cards(dataset_name)\n",
    "\n",
    "print(f\"Loaded '{dataset_name}' for pharmaceutical analysis:\")\n",
    "print(f\"Total PAD card images: {len(fhi_data)}\")\n",
    "print(f\"Unique drugs tested: {fhi_data['sample_name'].nunique()}\")\n",
    "print(f\"Concentration levels: {sorted(fhi_data['quantity'].unique())}\")\n",
    "\n",
    "# Show sample data\n",
    "print(f\"Clean dataset view: {len(fhi_data)} PAD card records\")\n",
    "fhi_data.head() # head: Show the first 5 rows of the dataset"
   ]
  },
  {
   "cell_type": "code",
   "execution_count": 5,
   "metadata": {},
   "outputs": [
    {
     "name": "stdout",
     "output_type": "stream",
     "text": [
      "\n",
      "Sample pharmaceutical data:\n"
     ]
    },
    {
     "data": {
      "text/html": [
       "<div>\n",
       "<style scoped>\n",
       "    .dataframe tbody tr th:only-of-type {\n",
       "        vertical-align: middle;\n",
       "    }\n",
       "\n",
       "    .dataframe tbody tr th {\n",
       "        vertical-align: top;\n",
       "    }\n",
       "\n",
       "    .dataframe thead th {\n",
       "        text-align: right;\n",
       "    }\n",
       "</style>\n",
       "<table border=\"1\" class=\"dataframe\">\n",
       "  <thead>\n",
       "    <tr style=\"text-align: right;\">\n",
       "      <th></th>\n",
       "      <th>id</th>\n",
       "      <th>sample_id</th>\n",
       "      <th>sample_name</th>\n",
       "      <th>quantity</th>\n",
       "    </tr>\n",
       "  </thead>\n",
       "  <tbody>\n",
       "    <tr>\n",
       "      <th>0</th>\n",
       "      <td>15589</td>\n",
       "      <td>53787</td>\n",
       "      <td>hydroxychloroquine</td>\n",
       "      <td>100</td>\n",
       "    </tr>\n",
       "    <tr>\n",
       "      <th>1</th>\n",
       "      <td>15590</td>\n",
       "      <td>53778</td>\n",
       "      <td>hydroxychloroquine</td>\n",
       "      <td>100</td>\n",
       "    </tr>\n",
       "    <tr>\n",
       "      <th>2</th>\n",
       "      <td>15591</td>\n",
       "      <td>53789</td>\n",
       "      <td>hydroxychloroquine</td>\n",
       "      <td>100</td>\n",
       "    </tr>\n",
       "    <tr>\n",
       "      <th>3</th>\n",
       "      <td>15592</td>\n",
       "      <td>53787</td>\n",
       "      <td>hydroxychloroquine</td>\n",
       "      <td>100</td>\n",
       "    </tr>\n",
       "    <tr>\n",
       "      <th>4</th>\n",
       "      <td>15595</td>\n",
       "      <td>53785</td>\n",
       "      <td>hydroxychloroquine</td>\n",
       "      <td>100</td>\n",
       "    </tr>\n",
       "  </tbody>\n",
       "</table>\n",
       "</div>"
      ],
      "text/plain": [
       "      id  sample_id         sample_name  quantity\n",
       "0  15589      53787  hydroxychloroquine       100\n",
       "1  15590      53778  hydroxychloroquine       100\n",
       "2  15591      53789  hydroxychloroquine       100\n",
       "3  15592      53787  hydroxychloroquine       100\n",
       "4  15595      53785  hydroxychloroquine       100"
      ]
     },
     "execution_count": 5,
     "metadata": {},
     "output_type": "execute_result"
    }
   ],
   "source": [
    "# Get clean dataset view (without internal columns)\n",
    "print(\"\\nSample pharmaceutical data:\")\n",
    "fhi_data[['id', 'sample_id', 'sample_name', 'quantity']].head()"
   ]
  },
  {
   "cell_type": "code",
   "execution_count": 6,
   "metadata": {},
   "outputs": [
    {
     "data": {
      "text/html": [
       "<div>\n",
       "<style scoped>\n",
       "    .dataframe tbody tr th:only-of-type {\n",
       "        vertical-align: middle;\n",
       "    }\n",
       "\n",
       "    .dataframe tbody tr th {\n",
       "        vertical-align: top;\n",
       "    }\n",
       "\n",
       "    .dataframe thead th {\n",
       "        text-align: right;\n",
       "    }\n",
       "</style>\n",
       "<table border=\"1\" class=\"dataframe\">\n",
       "  <thead>\n",
       "    <tr style=\"text-align: right;\">\n",
       "      <th></th>\n",
       "      <th>id</th>\n",
       "      <th>sample_id</th>\n",
       "      <th>sample_name</th>\n",
       "      <th>quantity</th>\n",
       "    </tr>\n",
       "  </thead>\n",
       "  <tbody>\n",
       "    <tr>\n",
       "      <th>856</th>\n",
       "      <td>23871</td>\n",
       "      <td>52167</td>\n",
       "      <td>rifampicin</td>\n",
       "      <td>100</td>\n",
       "    </tr>\n",
       "    <tr>\n",
       "      <th>6416</th>\n",
       "      <td>24487</td>\n",
       "      <td>55293</td>\n",
       "      <td>pyrazinamide</td>\n",
       "      <td>20</td>\n",
       "    </tr>\n",
       "    <tr>\n",
       "      <th>3100</th>\n",
       "      <td>22848</td>\n",
       "      <td>52766</td>\n",
       "      <td>ethambutol</td>\n",
       "      <td>20</td>\n",
       "    </tr>\n",
       "    <tr>\n",
       "      <th>544</th>\n",
       "      <td>21659</td>\n",
       "      <td>51725</td>\n",
       "      <td>hydroxychloroquine</td>\n",
       "      <td>20</td>\n",
       "    </tr>\n",
       "    <tr>\n",
       "      <th>4066</th>\n",
       "      <td>19173</td>\n",
       "      <td>52077</td>\n",
       "      <td>tetracycline</td>\n",
       "      <td>20</td>\n",
       "    </tr>\n",
       "    <tr>\n",
       "      <th>6951</th>\n",
       "      <td>22926</td>\n",
       "      <td>52707</td>\n",
       "      <td>ethambutol</td>\n",
       "      <td>80</td>\n",
       "    </tr>\n",
       "    <tr>\n",
       "      <th>5424</th>\n",
       "      <td>20257</td>\n",
       "      <td>53253</td>\n",
       "      <td>doxycycline</td>\n",
       "      <td>100</td>\n",
       "    </tr>\n",
       "    <tr>\n",
       "      <th>2479</th>\n",
       "      <td>24636</td>\n",
       "      <td>55360</td>\n",
       "      <td>azithromycin</td>\n",
       "      <td>20</td>\n",
       "    </tr>\n",
       "  </tbody>\n",
       "</table>\n",
       "</div>"
      ],
      "text/plain": [
       "         id  sample_id         sample_name  quantity\n",
       "856   23871      52167          rifampicin       100\n",
       "6416  24487      55293        pyrazinamide        20\n",
       "3100  22848      52766          ethambutol        20\n",
       "544   21659      51725  hydroxychloroquine        20\n",
       "4066  19173      52077        tetracycline        20\n",
       "6951  22926      52707          ethambutol        80\n",
       "5424  20257      53253         doxycycline       100\n",
       "2479  24636      55360        azithromycin        20"
      ]
     },
     "execution_count": 6,
     "metadata": {},
     "output_type": "execute_result"
    }
   ],
   "source": [
    "# Get 8 random rows of the dataset\n",
    "fhi_data[['id', 'sample_id', 'sample_name', 'quantity']].sample(8) "
   ]
  },
  {
   "cell_type": "code",
   "execution_count": 7,
   "metadata": {},
   "outputs": [
    {
     "name": "stdout",
     "output_type": "stream",
     "text": [
      "\n",
      "Pharmaceutical and distractor compounds in dataset: 23\n",
      "All Compounds by number of PAD images:\n",
      "sample_name\n",
      "hydroxychloroquine            821\n",
      "rifampicin                    476\n",
      "ciprofloxacin                 455\n",
      "pyrazinamide                  447\n",
      "ferrous-sulfate               438\n",
      "chloroquine                   438\n",
      "azithromycin                  438\n",
      "ripe                          427\n",
      "ethambutol                    403\n",
      "ceftriaxone                   387\n",
      "amoxicillin                   386\n",
      "tetracycline                  382\n",
      "sulfamethoxazole              368\n",
      "promethazine-hydrochloride    351\n",
      "epinephrine                   334\n",
      "isoniazid                     327\n",
      "albendazole                   281\n",
      "blank                         208\n",
      "doxycycline                   205\n",
      "ampicillin                    186\n",
      "benzyl-penicillin              94\n",
      "swiped-but-not-run             78\n",
      "lactose                        71\n",
      "Name: count, dtype: int64\n"
     ]
    }
   ],
   "source": [
    "# Analyze drug distribution\n",
    "drug_counts = fhi_data['sample_name'].value_counts()\n",
    "print(f\"\\nPharmaceutical and distractor compounds in dataset: {len(drug_counts)}\")\n",
    "print(\"All Compounds by number of PAD images:\")\n",
    "print(drug_counts)"
   ]
  },
  {
   "cell_type": "code",
   "execution_count": 8,
   "metadata": {},
   "outputs": [
    {
     "name": "stdout",
     "output_type": "stream",
     "text": [
      "Training set: 5923\n",
      "Test set: 2078\n"
     ]
    },
    {
     "data": {
      "text/html": [
       "<div>\n",
       "<style scoped>\n",
       "    .dataframe tbody tr th:only-of-type {\n",
       "        vertical-align: middle;\n",
       "    }\n",
       "\n",
       "    .dataframe tbody tr th {\n",
       "        vertical-align: top;\n",
       "    }\n",
       "\n",
       "    .dataframe thead th {\n",
       "        text-align: right;\n",
       "    }\n",
       "</style>\n",
       "<table border=\"1\" class=\"dataframe\">\n",
       "  <thead>\n",
       "    <tr style=\"text-align: right;\">\n",
       "      <th></th>\n",
       "      <th>id</th>\n",
       "      <th>sample_id</th>\n",
       "      <th>sample_name</th>\n",
       "      <th>quantity</th>\n",
       "      <th>camera_type_1</th>\n",
       "      <th>url</th>\n",
       "      <th>hashlib_md5</th>\n",
       "      <th>image_name</th>\n",
       "    </tr>\n",
       "  </thead>\n",
       "  <tbody>\n",
       "    <tr>\n",
       "      <th>0</th>\n",
       "      <td>15589</td>\n",
       "      <td>53787</td>\n",
       "      <td>hydroxychloroquine</td>\n",
       "      <td>100</td>\n",
       "      <td>Google Pixel 3a</td>\n",
       "      <td>https://pad.crc.nd.edu//var/www/html/images/pa...</td>\n",
       "      <td>c7ffc09ba273d13dfd9f295aa2f66cb5</td>\n",
       "      <td>15589__53787__hydroxychloroquine__100.png</td>\n",
       "    </tr>\n",
       "    <tr>\n",
       "      <th>1</th>\n",
       "      <td>15590</td>\n",
       "      <td>53778</td>\n",
       "      <td>hydroxychloroquine</td>\n",
       "      <td>100</td>\n",
       "      <td>Google Pixel 3a</td>\n",
       "      <td>https://pad.crc.nd.edu//var/www/html/images/pa...</td>\n",
       "      <td>ac2f4e2656289c2c26c087bc3b918ed5</td>\n",
       "      <td>15590__53778__hydroxychloroquine__100.png</td>\n",
       "    </tr>\n",
       "    <tr>\n",
       "      <th>2</th>\n",
       "      <td>15591</td>\n",
       "      <td>53789</td>\n",
       "      <td>hydroxychloroquine</td>\n",
       "      <td>100</td>\n",
       "      <td>Google Pixel 3a</td>\n",
       "      <td>https://pad.crc.nd.edu//var/www/html/images/pa...</td>\n",
       "      <td>7f983c5681156fd10cd49c592ea3d25e</td>\n",
       "      <td>15591__53789__hydroxychloroquine__100.png</td>\n",
       "    </tr>\n",
       "    <tr>\n",
       "      <th>3</th>\n",
       "      <td>15592</td>\n",
       "      <td>53787</td>\n",
       "      <td>hydroxychloroquine</td>\n",
       "      <td>100</td>\n",
       "      <td>Google Pixel 3a</td>\n",
       "      <td>https://pad.crc.nd.edu//var/www/html/images/pa...</td>\n",
       "      <td>7c5e34b986e53ec0e05b0dfe086b4c2e</td>\n",
       "      <td>15592__53787__hydroxychloroquine__100.png</td>\n",
       "    </tr>\n",
       "    <tr>\n",
       "      <th>4</th>\n",
       "      <td>15595</td>\n",
       "      <td>53785</td>\n",
       "      <td>hydroxychloroquine</td>\n",
       "      <td>100</td>\n",
       "      <td>Google Pixel 3a</td>\n",
       "      <td>https://pad.crc.nd.edu//var/www/html/images/pa...</td>\n",
       "      <td>a765e98e08c00e506b511b39cdef0ac9</td>\n",
       "      <td>15595__53785__hydroxychloroquine__100.png</td>\n",
       "    </tr>\n",
       "  </tbody>\n",
       "</table>\n",
       "</div>"
      ],
      "text/plain": [
       "      id  sample_id         sample_name  quantity    camera_type_1  \\\n",
       "0  15589      53787  hydroxychloroquine       100  Google Pixel 3a   \n",
       "1  15590      53778  hydroxychloroquine       100  Google Pixel 3a   \n",
       "2  15591      53789  hydroxychloroquine       100  Google Pixel 3a   \n",
       "3  15592      53787  hydroxychloroquine       100  Google Pixel 3a   \n",
       "4  15595      53785  hydroxychloroquine       100  Google Pixel 3a   \n",
       "\n",
       "                                                 url  \\\n",
       "0  https://pad.crc.nd.edu//var/www/html/images/pa...   \n",
       "1  https://pad.crc.nd.edu//var/www/html/images/pa...   \n",
       "2  https://pad.crc.nd.edu//var/www/html/images/pa...   \n",
       "3  https://pad.crc.nd.edu//var/www/html/images/pa...   \n",
       "4  https://pad.crc.nd.edu//var/www/html/images/pa...   \n",
       "\n",
       "                        hashlib_md5                                 image_name  \n",
       "0  c7ffc09ba273d13dfd9f295aa2f66cb5  15589__53787__hydroxychloroquine__100.png  \n",
       "1  ac2f4e2656289c2c26c087bc3b918ed5  15590__53778__hydroxychloroquine__100.png  \n",
       "2  7f983c5681156fd10cd49c592ea3d25e  15591__53789__hydroxychloroquine__100.png  \n",
       "3  7c5e34b986e53ec0e05b0dfe086b4c2e  15592__53787__hydroxychloroquine__100.png  \n",
       "4  a765e98e08c00e506b511b39cdef0ac9  15595__53785__hydroxychloroquine__100.png  "
      ]
     },
     "metadata": {},
     "output_type": "display_data"
    },
    {
     "data": {
      "text/html": [
       "<div>\n",
       "<style scoped>\n",
       "    .dataframe tbody tr th:only-of-type {\n",
       "        vertical-align: middle;\n",
       "    }\n",
       "\n",
       "    .dataframe tbody tr th {\n",
       "        vertical-align: top;\n",
       "    }\n",
       "\n",
       "    .dataframe thead th {\n",
       "        text-align: right;\n",
       "    }\n",
       "</style>\n",
       "<table border=\"1\" class=\"dataframe\">\n",
       "  <thead>\n",
       "    <tr style=\"text-align: right;\">\n",
       "      <th></th>\n",
       "      <th>id</th>\n",
       "      <th>sample_id</th>\n",
       "      <th>sample_name</th>\n",
       "      <th>quantity</th>\n",
       "      <th>camera_type_1</th>\n",
       "      <th>url</th>\n",
       "      <th>hashlib_md5</th>\n",
       "      <th>image_name</th>\n",
       "    </tr>\n",
       "  </thead>\n",
       "  <tbody>\n",
       "    <tr>\n",
       "      <th>0</th>\n",
       "      <td>15588</td>\n",
       "      <td>53796</td>\n",
       "      <td>hydroxychloroquine</td>\n",
       "      <td>100</td>\n",
       "      <td>Google Pixel 3a</td>\n",
       "      <td>https://pad.crc.nd.edu//var/www/html/images/pa...</td>\n",
       "      <td>ea1e1c9756b054e80aa3942596d6b25d</td>\n",
       "      <td>15588__53796__hydroxychloroquine__100.png</td>\n",
       "    </tr>\n",
       "    <tr>\n",
       "      <th>1</th>\n",
       "      <td>15593</td>\n",
       "      <td>53796</td>\n",
       "      <td>hydroxychloroquine</td>\n",
       "      <td>100</td>\n",
       "      <td>Google Pixel 3a</td>\n",
       "      <td>https://pad.crc.nd.edu//var/www/html/images/pa...</td>\n",
       "      <td>b7385bdcef1f35a26a242916fcf2731b</td>\n",
       "      <td>15593__53796__hydroxychloroquine__100.png</td>\n",
       "    </tr>\n",
       "    <tr>\n",
       "      <th>2</th>\n",
       "      <td>15594</td>\n",
       "      <td>53786</td>\n",
       "      <td>hydroxychloroquine</td>\n",
       "      <td>100</td>\n",
       "      <td>Google Pixel 3a</td>\n",
       "      <td>https://pad.crc.nd.edu//var/www/html/images/pa...</td>\n",
       "      <td>264c81897373a775e8f04099fb59d632</td>\n",
       "      <td>15594__53786__hydroxychloroquine__100.png</td>\n",
       "    </tr>\n",
       "    <tr>\n",
       "      <th>3</th>\n",
       "      <td>15596</td>\n",
       "      <td>53784</td>\n",
       "      <td>hydroxychloroquine</td>\n",
       "      <td>100</td>\n",
       "      <td>Google Pixel 3a</td>\n",
       "      <td>https://pad.crc.nd.edu//var/www/html/images/pa...</td>\n",
       "      <td>b92b37f1a8fb06f65afe8f550a10ba61</td>\n",
       "      <td>15596__53784__hydroxychloroquine__100.png</td>\n",
       "    </tr>\n",
       "    <tr>\n",
       "      <th>4</th>\n",
       "      <td>15598</td>\n",
       "      <td>53784</td>\n",
       "      <td>hydroxychloroquine</td>\n",
       "      <td>100</td>\n",
       "      <td>Google Pixel 3a</td>\n",
       "      <td>https://pad.crc.nd.edu//var/www/html/images/pa...</td>\n",
       "      <td>56a5f35f04ede36de1180b010c4a827b</td>\n",
       "      <td>15598__53784__hydroxychloroquine__100.png</td>\n",
       "    </tr>\n",
       "  </tbody>\n",
       "</table>\n",
       "</div>"
      ],
      "text/plain": [
       "      id  sample_id         sample_name  quantity    camera_type_1  \\\n",
       "0  15588      53796  hydroxychloroquine       100  Google Pixel 3a   \n",
       "1  15593      53796  hydroxychloroquine       100  Google Pixel 3a   \n",
       "2  15594      53786  hydroxychloroquine       100  Google Pixel 3a   \n",
       "3  15596      53784  hydroxychloroquine       100  Google Pixel 3a   \n",
       "4  15598      53784  hydroxychloroquine       100  Google Pixel 3a   \n",
       "\n",
       "                                                 url  \\\n",
       "0  https://pad.crc.nd.edu//var/www/html/images/pa...   \n",
       "1  https://pad.crc.nd.edu//var/www/html/images/pa...   \n",
       "2  https://pad.crc.nd.edu//var/www/html/images/pa...   \n",
       "3  https://pad.crc.nd.edu//var/www/html/images/pa...   \n",
       "4  https://pad.crc.nd.edu//var/www/html/images/pa...   \n",
       "\n",
       "                        hashlib_md5                                 image_name  \n",
       "0  ea1e1c9756b054e80aa3942596d6b25d  15588__53796__hydroxychloroquine__100.png  \n",
       "1  b7385bdcef1f35a26a242916fcf2731b  15593__53796__hydroxychloroquine__100.png  \n",
       "2  264c81897373a775e8f04099fb59d632  15594__53786__hydroxychloroquine__100.png  \n",
       "3  b92b37f1a8fb06f65afe8f550a10ba61  15596__53784__hydroxychloroquine__100.png  \n",
       "4  56a5f35f04ede36de1180b010c4a827b  15598__53784__hydroxychloroquine__100.png  "
      ]
     },
     "metadata": {},
     "output_type": "display_data"
    }
   ],
   "source": [
    "# get the dataset cards from the training and test sets separately \n",
    "fhi_data_train = pad.get_dataset_cards(dataset_name, data_type=\"train\")\n",
    "fhi_data_test = pad.get_dataset_cards(dataset_name, data_type=\"test\")\n",
    "\n",
    "print(f\"Training set: {len(fhi_data_train)}\")\n",
    "print(f\"Test set: {len(fhi_data_test)}\")\n",
    "\n",
    "display(fhi_data_train.head())\n",
    "display(fhi_data_test.head())\n"
   ]
  },
  {
   "cell_type": "markdown",
   "metadata": {},
   "source": [
    "#### **Exercise 1**: Conduct an analysis of the drug distribution in the training set of the `FHI2020_Stratified_Sampling` dataset."
   ]
  },
  {
   "cell_type": "code",
   "execution_count": 9,
   "metadata": {},
   "outputs": [],
   "source": [
    "# Exercise 1: Your code here\n",
    "# TODO:"
   ]
  },
  {
   "cell_type": "markdown",
   "metadata": {},
   "source": [
    "### 1.3 Model-Dataset Relationships"
   ]
  },
  {
   "cell_type": "code",
   "execution_count": 10,
   "metadata": {},
   "outputs": [
    {
     "name": "stdout",
     "output_type": "stream",
     "text": [
      "Model-Dataset relationships for pharmaceutical analysis:\n",
      "Model 16 (Drug Classification): trained on 'FHI2020_Stratified_Sampling' dataset\n",
      "Model 18 (Concentration PLS): trained on 'FHI2020_Stratified_Sampling' dataset\n",
      "\n",
      "Model 16 training dataset: 5923 samples\n",
      "Drugs in training set: 23\n"
     ]
    }
   ],
   "source": [
    "# Understand which dataset was used to train specific models\n",
    "model_16_dataset = pad.get_dataset_name_from_model_id(16)\n",
    "model_18_dataset = pad.get_dataset_name_from_model_id(18)\n",
    "\n",
    "print(\"Model-Dataset relationships for pharmaceutical analysis:\")\n",
    "print(f\"Model 16 (Drug Classification): trained on '{model_16_dataset}' dataset\")\n",
    "print(f\"Model 18 (Concentration PLS): trained on '{model_18_dataset}' dataset\")\n",
    "\n",
    "# Load the actual dataset used for model training)\n",
    "model_16_data = pad.get_model_data(model_id=16, data_type=\"train\")\n",
    "print(f\"\\nModel 16 training dataset: {len(model_16_data)} samples\")\n",
    "print(f\"Drugs in training set: {model_16_data['sample_name'].nunique()}\")\n",
    "\n"
   ]
  },
  {
   "cell_type": "code",
   "execution_count": 11,
   "metadata": {},
   "outputs": [
    {
     "data": {
      "text/html": [
       "<div>\n",
       "<style scoped>\n",
       "    .dataframe tbody tr th:only-of-type {\n",
       "        vertical-align: middle;\n",
       "    }\n",
       "\n",
       "    .dataframe tbody tr th {\n",
       "        vertical-align: top;\n",
       "    }\n",
       "\n",
       "    .dataframe thead th {\n",
       "        text-align: right;\n",
       "    }\n",
       "</style>\n",
       "<table border=\"1\" class=\"dataframe\">\n",
       "  <thead>\n",
       "    <tr style=\"text-align: right;\">\n",
       "      <th></th>\n",
       "      <th>Model ID</th>\n",
       "      <th>Model Name</th>\n",
       "      <th>Endpoint URL</th>\n",
       "      <th>Dataset Name</th>\n",
       "      <th>Training Dataset</th>\n",
       "      <th>Test Dataset</th>\n",
       "    </tr>\n",
       "  </thead>\n",
       "  <tbody>\n",
       "    <tr>\n",
       "      <th>0</th>\n",
       "      <td>16</td>\n",
       "      <td>24fhiNN1classifyAPI</td>\n",
       "      <td>https://pad.crc.nd.edu/api/v2/neural-networks/16</td>\n",
       "      <td>FHI2020_Stratified_Sampling</td>\n",
       "      <td>https://raw.githubusercontent.com/PaperAnalyti...</td>\n",
       "      <td>https://raw.githubusercontent.com/PaperAnalyti...</td>\n",
       "    </tr>\n",
       "    <tr>\n",
       "      <th>1</th>\n",
       "      <td>19</td>\n",
       "      <td>24 fhi NN1 API concentration</td>\n",
       "      <td>https://pad.crc.nd.edu/api/v2/neural-networks/19</td>\n",
       "      <td>FHI2020_Stratified_Sampling</td>\n",
       "      <td>https://raw.githubusercontent.com/PaperAnalyti...</td>\n",
       "      <td>https://raw.githubusercontent.com/PaperAnalyti...</td>\n",
       "    </tr>\n",
       "    <tr>\n",
       "      <th>2</th>\n",
       "      <td>17</td>\n",
       "      <td>24fhiNN1concAPI</td>\n",
       "      <td>https://pad.crc.nd.edu/api/v2/neural-networks/17</td>\n",
       "      <td>FHI2020_Stratified_Sampling</td>\n",
       "      <td>https://raw.githubusercontent.com/PaperAnalyti...</td>\n",
       "      <td>https://raw.githubusercontent.com/PaperAnalyti...</td>\n",
       "    </tr>\n",
       "    <tr>\n",
       "      <th>3</th>\n",
       "      <td>18</td>\n",
       "      <td>24fhiPLS1conc</td>\n",
       "      <td>https://pad.crc.nd.edu/api/v2/neural-networks/18</td>\n",
       "      <td>FHI2020_Stratified_Sampling</td>\n",
       "      <td>https://raw.githubusercontent.com/PaperAnalyti...</td>\n",
       "      <td>https://raw.githubusercontent.com/PaperAnalyti...</td>\n",
       "    </tr>\n",
       "    <tr>\n",
       "      <th>4</th>\n",
       "      <td>20</td>\n",
       "      <td>ChemoPAD NN training 2024</td>\n",
       "      <td>https://pad.crc.nd.edu/api/v2/neural-networks/20</td>\n",
       "      <td>Leiberman-Lab_ChemoPADNNtraining2024_Partial-D...</td>\n",
       "      <td>https://raw.githubusercontent.com/PaperAnalyti...</td>\n",
       "      <td>https://raw.githubusercontent.com/PaperAnalyti...</td>\n",
       "    </tr>\n",
       "  </tbody>\n",
       "</table>\n",
       "</div>"
      ],
      "text/plain": [
       "   Model ID                    Model Name  \\\n",
       "0        16           24fhiNN1classifyAPI   \n",
       "1        19  24 fhi NN1 API concentration   \n",
       "2        17               24fhiNN1concAPI   \n",
       "3        18                 24fhiPLS1conc   \n",
       "4        20     ChemoPAD NN training 2024   \n",
       "\n",
       "                                       Endpoint URL  \\\n",
       "0  https://pad.crc.nd.edu/api/v2/neural-networks/16   \n",
       "1  https://pad.crc.nd.edu/api/v2/neural-networks/19   \n",
       "2  https://pad.crc.nd.edu/api/v2/neural-networks/17   \n",
       "3  https://pad.crc.nd.edu/api/v2/neural-networks/18   \n",
       "4  https://pad.crc.nd.edu/api/v2/neural-networks/20   \n",
       "\n",
       "                                        Dataset Name  \\\n",
       "0                        FHI2020_Stratified_Sampling   \n",
       "1                        FHI2020_Stratified_Sampling   \n",
       "2                        FHI2020_Stratified_Sampling   \n",
       "3                        FHI2020_Stratified_Sampling   \n",
       "4  Leiberman-Lab_ChemoPADNNtraining2024_Partial-D...   \n",
       "\n",
       "                                    Training Dataset  \\\n",
       "0  https://raw.githubusercontent.com/PaperAnalyti...   \n",
       "1  https://raw.githubusercontent.com/PaperAnalyti...   \n",
       "2  https://raw.githubusercontent.com/PaperAnalyti...   \n",
       "3  https://raw.githubusercontent.com/PaperAnalyti...   \n",
       "4  https://raw.githubusercontent.com/PaperAnalyti...   \n",
       "\n",
       "                                        Test Dataset  \n",
       "0  https://raw.githubusercontent.com/PaperAnalyti...  \n",
       "1  https://raw.githubusercontent.com/PaperAnalyti...  \n",
       "2  https://raw.githubusercontent.com/PaperAnalyti...  \n",
       "3  https://raw.githubusercontent.com/PaperAnalyti...  \n",
       "4  https://raw.githubusercontent.com/PaperAnalyti...  "
      ]
     },
     "execution_count": 11,
     "metadata": {},
     "output_type": "execute_result"
    }
   ],
   "source": [
    "# get complete mapping between models and datasets\n",
    "pad.get_model_dataset_mapping()"
   ]
  },
  {
   "cell_type": "code",
   "execution_count": null,
   "metadata": {},
   "outputs": [],
   "source": []
  },
  {
   "cell_type": "markdown",
   "metadata": {},
   "source": [
    "## 2. Project Management Functions\n",
    "\n",
    "*Explore PAD cards organized by research projects*\n",
    "\n",
    "**PAD Context**: Projects represent collections of physical PAD cards with specific layouts and chemical components, captured under various conditions for model robustness in pharmaceutical quality testing."
   ]
  },
  {
   "cell_type": "code",
   "execution_count": 12,
   "metadata": {},
   "outputs": [
    {
     "name": "stdout",
     "output_type": "stream",
     "text": [
      "Total pharmaceutical research projects: 34\n",
      "\n",
      "Pharmaceutical quality testing projects:\n"
     ]
    },
    {
     "data": {
      "text/html": [
       "<div>\n",
       "<style scoped>\n",
       "    .dataframe tbody tr th:only-of-type {\n",
       "        vertical-align: middle;\n",
       "    }\n",
       "\n",
       "    .dataframe tbody tr th {\n",
       "        vertical-align: top;\n",
       "    }\n",
       "\n",
       "    .dataframe thead th {\n",
       "        text-align: right;\n",
       "    }\n",
       "</style>\n",
       "<table border=\"1\" class=\"dataframe\">\n",
       "  <thead>\n",
       "    <tr style=\"text-align: right;\">\n",
       "      <th></th>\n",
       "      <th>id</th>\n",
       "      <th>project_name</th>\n",
       "      <th>test_name</th>\n",
       "    </tr>\n",
       "  </thead>\n",
       "  <tbody>\n",
       "    <tr>\n",
       "      <th>29</th>\n",
       "      <td>31</td>\n",
       "      <td>12LaneAirGap2024</td>\n",
       "      <td>12LanePADKenya2015</td>\n",
       "    </tr>\n",
       "    <tr>\n",
       "      <th>30</th>\n",
       "      <td>32</td>\n",
       "      <td>ChemoPAD12laneairgapNNtraining2024</td>\n",
       "      <td>ChemoPAD</td>\n",
       "    </tr>\n",
       "    <tr>\n",
       "      <th>31</th>\n",
       "      <td>33</td>\n",
       "      <td>7LaneIDPAD2024</td>\n",
       "      <td>idPAD 2.4</td>\n",
       "    </tr>\n",
       "    <tr>\n",
       "      <th>32</th>\n",
       "      <td>34</td>\n",
       "      <td>2024TB</td>\n",
       "      <td>12LanePADKenya2015</td>\n",
       "    </tr>\n",
       "    <tr>\n",
       "      <th>33</th>\n",
       "      <td>35</td>\n",
       "      <td>Parkinson</td>\n",
       "      <td>12LanePADKenya2015</td>\n",
       "    </tr>\n",
       "  </tbody>\n",
       "</table>\n",
       "</div>"
      ],
      "text/plain": [
       "    id                        project_name           test_name\n",
       "29  31                    12LaneAirGap2024  12LanePADKenya2015\n",
       "30  32  ChemoPAD12laneairgapNNtraining2024            ChemoPAD\n",
       "31  33                      7LaneIDPAD2024           idPAD 2.4\n",
       "32  34                              2024TB  12LanePADKenya2015\n",
       "33  35                           Parkinson  12LanePADKenya2015"
      ]
     },
     "execution_count": 12,
     "metadata": {},
     "output_type": "execute_result"
    }
   ],
   "source": [
    "# Discover pharmaceutical research projects\n",
    "projects = pad.get_projects()\n",
    "print(f\"Total pharmaceutical research projects: {len(projects)}\")\n",
    "\n",
    "# Show sample projects\n",
    "print(\"\\nPharmaceutical quality testing projects:\")\n",
    "projects[['id', 'project_name', 'test_name']].tail() # tail: Show the last 5 rows of the dataset"
   ]
  },
  {
   "cell_type": "code",
   "execution_count": 13,
   "metadata": {},
   "outputs": [
    {
     "name": "stdout",
     "output_type": "stream",
     "text": [
      "✅ Found project: 32\n",
      "Project Details:\n",
      "  Name: ChemoPAD12laneairgapNNtraining2024\n",
      "  Test Type: ChemoPAD\n",
      "  Description: ChemoAir\n",
      "  Sample Names: ['Cisplatin', 'cyclophosphamide injectable', 'cyclophosphamide oral', 'Doxorubicin', 'hydroxyurea', 'MESNA', 'methotrexate injectable', 'methotrexate oral', 'ifosfamide injectable', 'oxaliplatin', 'leucovorin (calcium leucovorinate)']\n"
     ]
    }
   ],
   "source": [
    "# Get detailed information about a specific project by project id\n",
    "\n",
    "project_info = pad.get_project(32)\n",
    "\n",
    "if not isinstance(project_info, type(None)):\n",
    "    print(f\"Project Details:\")\n",
    "    print(f\"  Name: {project_info['project_name'].values[0]}\")\n",
    "    print(f\"  Test Type: {project_info['test_name'].values[0]}\")\n",
    "    print(f\"  Description: {project_info['annotation'].values[0]}\")\n",
    "    print(f\"  Sample Names: {project_info['sample_names.sample_names'].values[0]}\")\n",
    "else:\n",
    "    print(f\"Project with ID {id} not found or is empty.\")\n",
    "\n"
   ]
  },
  {
   "cell_type": "code",
   "execution_count": 14,
   "metadata": {},
   "outputs": [
    {
     "name": "stdout",
     "output_type": "stream",
     "text": [
      "✅ Found project: ChemoPAD12laneairgapNNtraining2024\n",
      "ℹ️  Project 'ChemoPAD12laneairgapNNtraining2024' exists but has no cards.\n",
      "ℹ️  No cards found from any of the requested projects.\n"
     ]
    },
    {
     "data": {
      "text/html": [
       "<div>\n",
       "<style scoped>\n",
       "    .dataframe tbody tr th:only-of-type {\n",
       "        vertical-align: middle;\n",
       "    }\n",
       "\n",
       "    .dataframe tbody tr th {\n",
       "        vertical-align: top;\n",
       "    }\n",
       "\n",
       "    .dataframe thead th {\n",
       "        text-align: right;\n",
       "    }\n",
       "</style>\n",
       "<table border=\"1\" class=\"dataframe\">\n",
       "  <thead>\n",
       "    <tr style=\"text-align: right;\">\n",
       "      <th></th>\n",
       "    </tr>\n",
       "  </thead>\n",
       "  <tbody>\n",
       "  </tbody>\n",
       "</table>\n",
       "</div>"
      ],
      "text/plain": [
       "Empty DataFrame\n",
       "Columns: []\n",
       "Index: []"
      ]
     },
     "execution_count": 14,
     "metadata": {},
     "output_type": "execute_result"
    }
   ],
   "source": [
    "# Get all PAD cards from a project by project name\n",
    "project_cards = pad.get_project_cards(\"ChemoPAD12laneairgapNNtraining2024\")\n",
    "\n",
    "project_cards"
   ]
  },
  {
   "cell_type": "markdown",
   "metadata": {},
   "source": [
    "## 3. Card & Sample Management Functions\n",
    "\n",
    "*Retrieve individual PAD images and physical card information*\n",
    "\n",
    "**PAD Context**: \n",
    "- **Card ID**: References a specific image capture of a PAD\n",
    "- **Sample ID**: References the physical PAD card (may have multiple image captures)\n",
    "- Multiple card_ids can share the same sample_id due to different lighting/device conditions for robust model training"
   ]
  },
  {
   "cell_type": "markdown",
   "metadata": {},
   "source": [
    "### 3.1 Retrieve Individual PAD Cards"
   ]
  },
  {
   "cell_type": "code",
   "execution_count": 15,
   "metadata": {},
   "outputs": [
    {
     "data": {
      "text/html": [
       "<div>\n",
       "<style scoped>\n",
       "    .dataframe tbody tr th:only-of-type {\n",
       "        vertical-align: middle;\n",
       "    }\n",
       "\n",
       "    .dataframe tbody tr th {\n",
       "        vertical-align: top;\n",
       "    }\n",
       "\n",
       "    .dataframe thead th {\n",
       "        text-align: right;\n",
       "    }\n",
       "</style>\n",
       "<table border=\"1\" class=\"dataframe\">\n",
       "  <thead>\n",
       "    <tr style=\"text-align: right;\">\n",
       "      <th></th>\n",
       "      <th>id</th>\n",
       "      <th>sample_name</th>\n",
       "      <th>test_name</th>\n",
       "      <th>user_name</th>\n",
       "      <th>date_of_creation</th>\n",
       "      <th>raw_file_location</th>\n",
       "      <th>processed_file_location</th>\n",
       "      <th>processing_date</th>\n",
       "      <th>camera_type_1</th>\n",
       "      <th>notes</th>\n",
       "      <th>...</th>\n",
       "      <th>project.project_name</th>\n",
       "      <th>project.annotation</th>\n",
       "      <th>project.test_name</th>\n",
       "      <th>project.sample_names.sample_names</th>\n",
       "      <th>project.neutral_filler</th>\n",
       "      <th>project.qpc20</th>\n",
       "      <th>project.qpc50</th>\n",
       "      <th>project.qpc80</th>\n",
       "      <th>project.qpc100</th>\n",
       "      <th>project.notes</th>\n",
       "    </tr>\n",
       "  </thead>\n",
       "  <tbody>\n",
       "    <tr>\n",
       "      <th>0</th>\n",
       "      <td>47918</td>\n",
       "      <td>Amoxicillin</td>\n",
       "      <td>12LanePADKenya2015</td>\n",
       "      <td>api-D5HDZG76N3ICA3GBUYWC</td>\n",
       "      <td>2024-05-21T14:31:49</td>\n",
       "      <td>/var/www/html/images/padimages/raw_local/40000...</td>\n",
       "      <td>/var/www/html/images/padimages/processed/40000...</td>\n",
       "      <td>2024-05-21T14:31:49</td>\n",
       "      <td>Google Pixel 3a</td>\n",
       "      <td>Predicted drug = ciprofloxacin (0.667), 50, %,...</td>\n",
       "      <td>...</td>\n",
       "      <td>FHI360-App</td>\n",
       "      <td>None</td>\n",
       "      <td>12LanePADKenya2015</td>\n",
       "      <td>[Albendazole, Amoxicillin, Ampicillin, Ascorbi...</td>\n",
       "      <td>Lactose</td>\n",
       "      <td>1</td>\n",
       "      <td>1</td>\n",
       "      <td>1</td>\n",
       "      <td>1</td>\n",
       "      <td>Project for FHI360 App test phase.</td>\n",
       "    </tr>\n",
       "  </tbody>\n",
       "</table>\n",
       "<p>1 rows × 26 columns</p>\n",
       "</div>"
      ],
      "text/plain": [
       "      id  sample_name           test_name                 user_name  \\\n",
       "0  47918  Amoxicillin  12LanePADKenya2015  api-D5HDZG76N3ICA3GBUYWC   \n",
       "\n",
       "      date_of_creation                                  raw_file_location  \\\n",
       "0  2024-05-21T14:31:49  /var/www/html/images/padimages/raw_local/40000...   \n",
       "\n",
       "                             processed_file_location      processing_date  \\\n",
       "0  /var/www/html/images/padimages/processed/40000...  2024-05-21T14:31:49   \n",
       "\n",
       "     camera_type_1                                              notes  ...  \\\n",
       "0  Google Pixel 3a  Predicted drug = ciprofloxacin (0.667), 50, %,...  ...   \n",
       "\n",
       "   project.project_name  project.annotation   project.test_name  \\\n",
       "0            FHI360-App                None  12LanePADKenya2015   \n",
       "\n",
       "                   project.sample_names.sample_names  project.neutral_filler  \\\n",
       "0  [Albendazole, Amoxicillin, Ampicillin, Ascorbi...                 Lactose   \n",
       "\n",
       "  project.qpc20 project.qpc50 project.qpc80 project.qpc100  \\\n",
       "0             1             1             1              1   \n",
       "\n",
       "                        project.notes  \n",
       "0  Project for FHI360 App test phase.  \n",
       "\n",
       "[1 rows x 26 columns]"
      ]
     },
     "execution_count": 15,
     "metadata": {},
     "output_type": "execute_result"
    }
   ],
   "source": [
    "# Get specific PAD card by card_id (specific image)\n",
    "card = pad.get_card(card_id=47918)\n",
    "# see dataframe\n",
    "card\n"
   ]
  },
  {
   "cell_type": "code",
   "execution_count": 16,
   "metadata": {},
   "outputs": [
    {
     "name": "stdout",
     "output_type": "stream",
     "text": [
      "PAD Card Analysis:\n",
      "  Card ID: 47918 (specific image)\n",
      "  Sample ID: 65490 (physical card)\n",
      "  Drug: Amoxicillin\n",
      "  Concentration: 100%\n",
      "  Project: FHI360-App\n",
      "  Camera: Google Pixel 3a\n"
     ]
    }
   ],
   "source": [
    "print(f\"PAD Card Analysis:\")\n",
    "print(f\"  Card ID: {card['id'].values[0]} (specific image)\")\n",
    "print(f\"  Sample ID: {card['sample_id'].values[0]} (physical card)\")\n",
    "print(f\"  Drug: {card['sample_name'].values[0]}\")\n",
    "print(f\"  Concentration: {card['quantity'].values[0]}%\")\n",
    "print(f\"  Project: {card['project.project_name'].values[0]}\")\n",
    "print(f\"  Camera: {card['camera_type_1'].values[0]}\")\n"
   ]
  },
  {
   "cell_type": "markdown",
   "metadata": {},
   "source": [
    "### 3.2 Quality Control - Identify Problematic Cards"
   ]
  },
  {
   "cell_type": "code",
   "execution_count": 17,
   "metadata": {},
   "outputs": [
    {
     "name": "stdout",
     "output_type": "stream",
     "text": [
      "Quality Control Alert: 4 PAD cards have known issues\n",
      "These should be excluded from pharmaceutical analysis to ensure accuracy\n"
     ]
    },
    {
     "data": {
      "text/html": [
       "<div>\n",
       "<style scoped>\n",
       "    .dataframe tbody tr th:only-of-type {\n",
       "        vertical-align: middle;\n",
       "    }\n",
       "\n",
       "    .dataframe tbody tr th {\n",
       "        vertical-align: top;\n",
       "    }\n",
       "\n",
       "    .dataframe thead th {\n",
       "        text-align: right;\n",
       "    }\n",
       "</style>\n",
       "<table border=\"1\" class=\"dataframe\">\n",
       "  <thead>\n",
       "    <tr style=\"text-align: right;\">\n",
       "      <th></th>\n",
       "      <th>id</th>\n",
       "      <th>name</th>\n",
       "      <th>description</th>\n",
       "    </tr>\n",
       "  </thead>\n",
       "  <tbody>\n",
       "    <tr>\n",
       "      <th>0</th>\n",
       "      <td>1</td>\n",
       "      <td>Unspecified</td>\n",
       "      <td></td>\n",
       "    </tr>\n",
       "    <tr>\n",
       "      <th>1</th>\n",
       "      <td>2</td>\n",
       "      <td>Leak</td>\n",
       "      <td></td>\n",
       "    </tr>\n",
       "    <tr>\n",
       "      <th>2</th>\n",
       "      <td>3</td>\n",
       "      <td>Stuck</td>\n",
       "      <td></td>\n",
       "    </tr>\n",
       "    <tr>\n",
       "      <th>3</th>\n",
       "      <td>4</td>\n",
       "      <td>Rectification</td>\n",
       "      <td></td>\n",
       "    </tr>\n",
       "  </tbody>\n",
       "</table>\n",
       "</div>"
      ],
      "text/plain": [
       "   id           name description\n",
       "0   1    Unspecified            \n",
       "1   2           Leak            \n",
       "2   3          Stuck            \n",
       "3   4  Rectification            "
      ]
     },
     "execution_count": 17,
     "metadata": {},
     "output_type": "execute_result"
    }
   ],
   "source": [
    "# Essential for pharmaceutical quality control - identify problematic images\n",
    "issues = pad.get_card_issues()\n",
    "print(f\"Quality Control Alert: {len(issues)} PAD cards have known issues\")\n",
    "print(\"These should be excluded from pharmaceutical analysis to ensure accuracy\")\n",
    "\n",
    "issues"
   ]
  },
  {
   "cell_type": "code",
   "execution_count": 18,
   "metadata": {},
   "outputs": [
    {
     "name": "stdout",
     "output_type": "stream",
     "text": [
      "✅ Found project: FHI2022\n",
      "✅ Found 3872 cards from project 'FHI2022'\n",
      "Leak: 6\n",
      "Stuck: 718\n",
      "Rectification: 13\n"
     ]
    }
   ],
   "source": [
    "# Print the statistic of the issues \n",
    "cards_proj = pad.get_project_cards(\"FHI2022\")\n",
    "\n",
    "cards_issues = cards_proj[cards_proj['issue.name'].isin(['Leak', 'Rectification', 'Stuck']) ]\n",
    "\n",
    "## Select by issue types\n",
    "leak = cards_issues[cards_issues['issue.name'] == 'Leak']\n",
    "rectification = cards_issues[cards_issues['issue.name'] == 'Rectification']\n",
    "stuck = cards_issues[cards_issues['issue.name'] == 'Stuck']\n",
    "\n",
    "print(f\"Leak: {len(leak)}\")\n",
    "print(f\"Stuck: {len(stuck)}\")\n",
    "print(f\"Rectification: {len(rectification)}\")"
   ]
  },
  {
   "cell_type": "markdown",
   "metadata": {},
   "source": [
    "## 4. Model Management Functions\n",
    "\n",
    "*Access ML models trained on PAD datasets*\n",
    "\n",
    "**PAD Context**: Models are trained on specific datasets for pharmaceutical quality testing tasks:\n",
    "- **Drug classification**: Identifying the pharmaceutical compound\n",
    "- **Concentration quantification**: Measuring drug potency levels"
   ]
  },
  {
   "cell_type": "markdown",
   "metadata": {},
   "source": []
  },
  {
   "cell_type": "code",
   "execution_count": null,
   "metadata": {},
   "outputs": [],
   "source": []
  },
  {
   "cell_type": "code",
   "execution_count": 19,
   "metadata": {},
   "outputs": [
    {
     "name": "stdout",
     "output_type": "stream",
     "text": [
      "Available ML models for pharmaceutical testing: 15\n"
     ]
    },
    {
     "data": {
      "text/html": [
       "<div>\n",
       "<style scoped>\n",
       "    .dataframe tbody tr th:only-of-type {\n",
       "        vertical-align: middle;\n",
       "    }\n",
       "\n",
       "    .dataframe tbody tr th {\n",
       "        vertical-align: top;\n",
       "    }\n",
       "\n",
       "    .dataframe thead th {\n",
       "        text-align: right;\n",
       "    }\n",
       "</style>\n",
       "<table border=\"1\" class=\"dataframe\">\n",
       "  <thead>\n",
       "    <tr style=\"text-align: right;\">\n",
       "      <th></th>\n",
       "      <th>id</th>\n",
       "      <th>name</th>\n",
       "      <th>drugs_size</th>\n",
       "      <th>drugs</th>\n",
       "      <th>labels</th>\n",
       "      <th>lanes_excluded</th>\n",
       "      <th>weights</th>\n",
       "      <th>weights_url</th>\n",
       "      <th>image_mean</th>\n",
       "      <th>image_size</th>\n",
       "      <th>architecture</th>\n",
       "      <th>brightness</th>\n",
       "      <th>type</th>\n",
       "      <th>description</th>\n",
       "      <th>test</th>\n",
       "      <th>training_set</th>\n",
       "      <th>version</th>\n",
       "      <th>SHA256</th>\n",
       "    </tr>\n",
       "  </thead>\n",
       "  <tbody>\n",
       "    <tr>\n",
       "      <th>0</th>\n",
       "      <td>6</td>\n",
       "      <td>msh_tanzania_3k_10_lite</td>\n",
       "      <td>10</td>\n",
       "      <td>[Paracetamol Starch, Penicillin Procaine, Star...</td>\n",
       "      <td>[Paracetamol Starch, Penicillin Procaine, Star...</td>\n",
       "      <td></td>\n",
       "      <td>/var/www/html/neuralnetworks/tf_lite/msh_tanza...</td>\n",
       "      <td>https://pad.crc.nd.edu/neuralnetworks/tf_lite/...</td>\n",
       "      <td>None</td>\n",
       "      <td>227,227</td>\n",
       "      <td>None</td>\n",
       "      <td>165.5</td>\n",
       "      <td>tf_lite</td>\n",
       "      <td>MSH Tanzania image classifier: Identify the PA...</td>\n",
       "      <td>12LanePADKenya2015</td>\n",
       "      <td>MSH Tanzania</td>\n",
       "      <td>1.0</td>\n",
       "      <td>c686850b957fe7e0bb5338a76c22e795659432e588b99b...</td>\n",
       "    </tr>\n",
       "    <tr>\n",
       "      <th>1</th>\n",
       "      <td>7</td>\n",
       "      <td>fhi360_small_lite</td>\n",
       "      <td>21</td>\n",
       "      <td>[Albendazole, Amoxicillin, Ampicillin, Azithro...</td>\n",
       "      <td>[Albendazole, Amoxicillin, Ampicillin, Azithro...</td>\n",
       "      <td></td>\n",
       "      <td>/var/www/html/neuralnetworks/tf_lite/fhi360_sm...</td>\n",
       "      <td>https://pad.crc.nd.edu/neuralnetworks/tf_lite/...</td>\n",
       "      <td>None</td>\n",
       "      <td>227,227</td>\n",
       "      <td>None</td>\n",
       "      <td>0.0</td>\n",
       "      <td>tf_lite</td>\n",
       "      <td>FHI360 image classifier: Identify the PAD imag...</td>\n",
       "      <td>12LanePADKenya2015</td>\n",
       "      <td>None</td>\n",
       "      <td>1.0</td>\n",
       "      <td>ff15f7a5224a65693d6e80e17a915e9d8a030b2cfc59fa...</td>\n",
       "    </tr>\n",
       "    <tr>\n",
       "      <th>2</th>\n",
       "      <td>8</td>\n",
       "      <td>fhi360_conc_large_lite</td>\n",
       "      <td>4</td>\n",
       "      <td>[Albendazole, Amoxicillin, Ampicillin, Azithro...</td>\n",
       "      <td>[100, 80, 50, 20]</td>\n",
       "      <td></td>\n",
       "      <td>/var/www/html/neuralnetworks/tf_lite/fhi360_co...</td>\n",
       "      <td>https://pad.crc.nd.edu/neuralnetworks/tf_lite/...</td>\n",
       "      <td>None</td>\n",
       "      <td>227,227</td>\n",
       "      <td>None</td>\n",
       "      <td>0.0</td>\n",
       "      <td>tf_lite</td>\n",
       "      <td>FHI360 image classifier for concentration: Ide...</td>\n",
       "      <td>12LanePADKenya2015</td>\n",
       "      <td>None</td>\n",
       "      <td>1.0</td>\n",
       "      <td>bac3a744ce8c29baf96a3d92e5e4cb21593c7a2e17bd2a...</td>\n",
       "    </tr>\n",
       "    <tr>\n",
       "      <th>3</th>\n",
       "      <td>9</td>\n",
       "      <td>idPAD_small_lite</td>\n",
       "      <td>6</td>\n",
       "      <td>[Cocaine HCL, Crack Cocaine, Diphenhydramine, ...</td>\n",
       "      <td>[Cocaine HCL, Crack Cocaine, Diphenhydramine, ...</td>\n",
       "      <td></td>\n",
       "      <td>/var/www/html/neuralnetworks/tf_lite/idPAD_sma...</td>\n",
       "      <td>https://pad.crc.nd.edu/neuralnetworks/tf_lite/...</td>\n",
       "      <td>None</td>\n",
       "      <td>227,227</td>\n",
       "      <td>None</td>\n",
       "      <td>0.0</td>\n",
       "      <td>tf_lite</td>\n",
       "      <td>idPAD image classifier: Identify the PAD image...</td>\n",
       "      <td>idPAD 2.4</td>\n",
       "      <td>None</td>\n",
       "      <td>1.0</td>\n",
       "      <td>5fbaf27079b901eed9b268ea496d19483dc3ad78f31cef...</td>\n",
       "    </tr>\n",
       "    <tr>\n",
       "      <th>4</th>\n",
       "      <td>10</td>\n",
       "      <td>pls_fhi360_conc</td>\n",
       "      <td>21</td>\n",
       "      <td>[Albendazole, Amoxicillin, Ampicillin, Azithro...</td>\n",
       "      <td>[100]</td>\n",
       "      <td></td>\n",
       "      <td>/var/www/html/neuralnetworks/pls/fhi360_concen...</td>\n",
       "      <td>https://pad.crc.nd.edu/neuralnetworks/pls/fhi3...</td>\n",
       "      <td>None</td>\n",
       "      <td>None</td>\n",
       "      <td>None</td>\n",
       "      <td>0.0</td>\n",
       "      <td>pls</td>\n",
       "      <td>PLSD method using 10 sections per lane.</td>\n",
       "      <td>12LanePADKenya2015</td>\n",
       "      <td>None</td>\n",
       "      <td>1.0</td>\n",
       "      <td>6d6f72b0ddfd8aa58672b3b1fd60a0c3fa8ef628a3bbe1...</td>\n",
       "    </tr>\n",
       "  </tbody>\n",
       "</table>\n",
       "</div>"
      ],
      "text/plain": [
       "   id                     name  drugs_size  \\\n",
       "0   6  msh_tanzania_3k_10_lite          10   \n",
       "1   7        fhi360_small_lite          21   \n",
       "2   8   fhi360_conc_large_lite           4   \n",
       "3   9         idPAD_small_lite           6   \n",
       "4  10          pls_fhi360_conc          21   \n",
       "\n",
       "                                               drugs  \\\n",
       "0  [Paracetamol Starch, Penicillin Procaine, Star...   \n",
       "1  [Albendazole, Amoxicillin, Ampicillin, Azithro...   \n",
       "2  [Albendazole, Amoxicillin, Ampicillin, Azithro...   \n",
       "3  [Cocaine HCL, Crack Cocaine, Diphenhydramine, ...   \n",
       "4  [Albendazole, Amoxicillin, Ampicillin, Azithro...   \n",
       "\n",
       "                                              labels lanes_excluded  \\\n",
       "0  [Paracetamol Starch, Penicillin Procaine, Star...                  \n",
       "1  [Albendazole, Amoxicillin, Ampicillin, Azithro...                  \n",
       "2                                  [100, 80, 50, 20]                  \n",
       "3  [Cocaine HCL, Crack Cocaine, Diphenhydramine, ...                  \n",
       "4                                              [100]                  \n",
       "\n",
       "                                             weights  \\\n",
       "0  /var/www/html/neuralnetworks/tf_lite/msh_tanza...   \n",
       "1  /var/www/html/neuralnetworks/tf_lite/fhi360_sm...   \n",
       "2  /var/www/html/neuralnetworks/tf_lite/fhi360_co...   \n",
       "3  /var/www/html/neuralnetworks/tf_lite/idPAD_sma...   \n",
       "4  /var/www/html/neuralnetworks/pls/fhi360_concen...   \n",
       "\n",
       "                                         weights_url image_mean image_size  \\\n",
       "0  https://pad.crc.nd.edu/neuralnetworks/tf_lite/...       None    227,227   \n",
       "1  https://pad.crc.nd.edu/neuralnetworks/tf_lite/...       None    227,227   \n",
       "2  https://pad.crc.nd.edu/neuralnetworks/tf_lite/...       None    227,227   \n",
       "3  https://pad.crc.nd.edu/neuralnetworks/tf_lite/...       None    227,227   \n",
       "4  https://pad.crc.nd.edu/neuralnetworks/pls/fhi3...       None       None   \n",
       "\n",
       "  architecture  brightness     type  \\\n",
       "0         None       165.5  tf_lite   \n",
       "1         None         0.0  tf_lite   \n",
       "2         None         0.0  tf_lite   \n",
       "3         None         0.0  tf_lite   \n",
       "4         None         0.0      pls   \n",
       "\n",
       "                                         description                test  \\\n",
       "0  MSH Tanzania image classifier: Identify the PA...  12LanePADKenya2015   \n",
       "1  FHI360 image classifier: Identify the PAD imag...  12LanePADKenya2015   \n",
       "2  FHI360 image classifier for concentration: Ide...  12LanePADKenya2015   \n",
       "3  idPAD image classifier: Identify the PAD image...           idPAD 2.4   \n",
       "4            PLSD method using 10 sections per lane.  12LanePADKenya2015   \n",
       "\n",
       "   training_set version                                             SHA256  \n",
       "0  MSH Tanzania     1.0  c686850b957fe7e0bb5338a76c22e795659432e588b99b...  \n",
       "1          None     1.0  ff15f7a5224a65693d6e80e17a915e9d8a030b2cfc59fa...  \n",
       "2          None     1.0  bac3a744ce8c29baf96a3d92e5e4cb21593c7a2e17bd2a...  \n",
       "3          None     1.0  5fbaf27079b901eed9b268ea496d19483dc3ad78f31cef...  \n",
       "4          None     1.0  6d6f72b0ddfd8aa58672b3b1fd60a0c3fa8ef628a3bbe1...  "
      ]
     },
     "execution_count": 19,
     "metadata": {},
     "output_type": "execute_result"
    }
   ],
   "source": [
    "# Discover available models for pharmaceutical analysis\n",
    "models = pad.get_models()\n",
    "print(f\"Available ML models for pharmaceutical testing: {len(models)}\")\n",
    "\n",
    "models.head() "
   ]
  },
  {
   "cell_type": "markdown",
   "metadata": {},
   "source": [
    "*Model Selection Guide*\n",
    "\n",
    "**Choose the right model for your pharmaceutical analysis:**\n",
    "\n",
    "- **Model 16**: FHI360 Neural Network classifier (returns drug name, confidence, energy)\n",
    "    - Use for: FHI360 drug authentication, 23-drug classifier for antibiotics and antimalarials, trained on 12-lane PAD cards with concentrations 20%, 50%, 80%, 100%\n",
    "    - Output: `('albendazole', 0.95, 12.3)`\n",
    "\n",
    "- **Model 18**: Partial least squares (PLS) regression on the concentration (returns predicted concentration)\n",
    "    - Use for: FHI360 potency analysis, quantitative concentration prediction for authenticated drugs, calibrated for 20-100% concentration range\n",
    "    - Output: `75.2` (representing 75.2% concentration)\n",
    "\n",
    "- **Model 20**: ChemoPAD Neural Network classifier (returns drug name, confidence, energy)\n",
    "    - Use for: ChemoPAD-specific drug identification, specialized for concentrations 100%, 66%, 33%, 0%\n",
    "    - Output: `('hydroxyurea', 0.9996, 9.586)`\n",
    "\n",
    "**Selection criteria:**\n",
    "\n",
    "- **Identification objective** → Use classification models (16, 20)\n",
    "- **Quantification objective** → Use concentration models (18)\n",
    "- **Regulatory compliance** → Document model validation data with `get_model_data()`\n"
   ]
  },
  {
   "cell_type": "code",
   "execution_count": 67,
   "metadata": {},
   "outputs": [
    {
     "data": {
      "text/html": [
       "<div>\n",
       "<style scoped>\n",
       "    .dataframe tbody tr th:only-of-type {\n",
       "        vertical-align: middle;\n",
       "    }\n",
       "\n",
       "    .dataframe tbody tr th {\n",
       "        vertical-align: top;\n",
       "    }\n",
       "\n",
       "    .dataframe thead th {\n",
       "        text-align: right;\n",
       "    }\n",
       "</style>\n",
       "<table border=\"1\" class=\"dataframe\">\n",
       "  <thead>\n",
       "    <tr style=\"text-align: right;\">\n",
       "      <th></th>\n",
       "      <th>id</th>\n",
       "      <th>name</th>\n",
       "      <th>type</th>\n",
       "      <th>description</th>\n",
       "    </tr>\n",
       "  </thead>\n",
       "  <tbody>\n",
       "    <tr>\n",
       "      <th>10</th>\n",
       "      <td>16</td>\n",
       "      <td>24fhiNN1classifyAPI</td>\n",
       "      <td>tf_lite</td>\n",
       "      <td>FHI360 image classifier: Fhi360 mid data. Iden...</td>\n",
       "    </tr>\n",
       "    <tr>\n",
       "      <th>12</th>\n",
       "      <td>18</td>\n",
       "      <td>24fhiPLS1conc</td>\n",
       "      <td>pls</td>\n",
       "      <td>PLSD method using 10 sections per lane.</td>\n",
       "    </tr>\n",
       "    <tr>\n",
       "      <th>14</th>\n",
       "      <td>20</td>\n",
       "      <td>ChemoPAD NN training 2024</td>\n",
       "      <td>tf_lite</td>\n",
       "      <td>ChemoPAD based project to train Neural Network...</td>\n",
       "    </tr>\n",
       "  </tbody>\n",
       "</table>\n",
       "</div>"
      ],
      "text/plain": [
       "    id                       name     type  \\\n",
       "10  16        24fhiNN1classifyAPI  tf_lite   \n",
       "12  18              24fhiPLS1conc      pls   \n",
       "14  20  ChemoPAD NN training 2024  tf_lite   \n",
       "\n",
       "                                          description  \n",
       "10  FHI360 image classifier: Fhi360 mid data. Iden...  \n",
       "12            PLSD method using 10 sections per lane.  \n",
       "14  ChemoPAD based project to train Neural Network...  "
      ]
     },
     "execution_count": 67,
     "metadata": {},
     "output_type": "execute_result"
    }
   ],
   "source": [
    "# Show model details\n",
    "key_models = models[models['id'].isin([16,18, 20])]\n",
    "\n",
    "key_models[['id', 'name', 'type', 'description']]"
   ]
  },
  {
   "cell_type": "code",
   "execution_count": 68,
   "metadata": {},
   "outputs": [
    {
     "name": "stdout",
     "output_type": "stream",
     "text": [
      "Model 16 dataset: FHI2020_Stratified_Sampling\n",
      "  Training samples: 5923\n",
      "  Drugs in training: 23\n",
      "  Test samples: 2078\n",
      "  Drugs in testing: 23\n"
     ]
    }
   ],
   "source": [
    "# Get training and test data for model 16\n",
    "model_train = pad.get_model_data(16, data_type='train')\n",
    "model_test = pad.get_model_data(16, data_type='test')\n",
    "\n",
    "dataset_name = pad.get_dataset_name_from_model_id(16)\n",
    "print(f\"Model 16 dataset: {dataset_name}\")\n",
    "\n",
    "if isinstance(model_train, pd.DataFrame):\n",
    "    print(f\"  Training samples: {len(model_train)}\")\n",
    "    print(f\"  Drugs in training: {model_train['sample_name'].nunique()}\")\n",
    "    \n",
    "if isinstance(model_test, pd.DataFrame):\n",
    "    print(f\"  Test samples: {len(model_test)}\")\n",
    "    print(f\"  Drugs in testing: {model_test['sample_name'].nunique()}\")"
   ]
  },
  {
   "cell_type": "markdown",
   "metadata": {},
   "source": [
    "## 5. Visualization Functions\n",
    "\n",
    "*Interactive displays of PAD cards and analysis results*\n",
    "\n",
    "**PAD Context**: View PAD card images alongside metadata, predictions, and analysis results for pharmaceutical quality validation and research insights."
   ]
  },
  {
   "cell_type": "markdown",
   "metadata": {},
   "source": [
    "### 5.1 Single PAD Card Visualization"
   ]
  },
  {
   "cell_type": "code",
   "execution_count": 23,
   "metadata": {},
   "outputs": [
    {
     "name": "stdout",
     "output_type": "stream",
     "text": [
      "PAD Card Visualization for Quality Analysis:\n"
     ]
    },
    {
     "data": {
      "application/vnd.jupyter.widget-view+json": {
       "model_id": "1f33554985124cc399fbe7ebee973438",
       "version_major": 2,
       "version_minor": 0
      },
      "text/plain": [
       "VBox(children=(HTML(value='<br>'), HBox(children=(VBox(children=(HTML(value='\\n    <div id=\"imageContainer_479…"
      ]
     },
     "metadata": {},
     "output_type": "display_data"
    }
   ],
   "source": [
    "# Display a PAD card for pharmaceutical analysis\n",
    "print(\"PAD Card Visualization for Quality Analysis:\")\n",
    "\n",
    "# show image and data of a card by card_id\n",
    "pad.show_card(card_id=47918)"
   ]
  },
  {
   "cell_type": "code",
   "execution_count": 24,
   "metadata": {},
   "outputs": [
    {
     "data": {
      "application/vnd.jupyter.widget-view+json": {
       "model_id": "30b9c88004bc40909399f95512abbc1e",
       "version_major": 2,
       "version_minor": 0
      },
      "text/plain": [
       "VBox(children=(HTML(value='<br>'), HBox(children=(VBox(children=(HTML(value='\\n    <div id=\"imageContainer_479…"
      ]
     },
     "metadata": {},
     "output_type": "display_data"
    }
   ],
   "source": [
    "# show image and data of a specific card by sample_id\n",
    "pad.show_card(sample_id=65490)"
   ]
  },
  {
   "cell_type": "markdown",
   "metadata": {},
   "source": [
    "### 5.2 Multiple PAD Cards Comparison"
   ]
  },
  {
   "cell_type": "code",
   "execution_count": 25,
   "metadata": {},
   "outputs": [
    {
     "name": "stdout",
     "output_type": "stream",
     "text": [
      "Comparative Analysis of Multiple PAD Cards:\n"
     ]
    },
    {
     "data": {
      "application/vnd.jupyter.widget-view+json": {
       "model_id": "e22a39717f734c8fac46a0d897c92923",
       "version_major": 2,
       "version_minor": 0
      },
      "text/plain": [
       "VBox(children=(HBox(children=(VBox(children=(HTML(value='<br>'), HBox(children=(VBox(children=(HTML(value='\\n …"
      ]
     },
     "metadata": {},
     "output_type": "display_data"
    }
   ],
   "source": [
    "# Compare multiple PAD cards for pharmaceutical validation\n",
    "print(\"Comparative Analysis of Multiple PAD Cards:\")\n",
    "pad.show_cards(card_ids=[47918, 47919, 47920])"
   ]
  },
  {
   "cell_type": "markdown",
   "metadata": {},
   "source": [
    "### 5.3 Display a tabbed interface where each tab represents a different group of cards\n",
    "\n",
    "Cards are displayed as image grids within each tab"
   ]
  },
  {
   "cell_type": "code",
   "execution_count": 26,
   "metadata": {},
   "outputs": [
    {
     "name": "stdout",
     "output_type": "stream",
     "text": [
      "✅ Found project: FHI2020\n",
      "✅ Found 9706 cards from project 'FHI2020'\n",
      "Possible columns to group by:  Index(['id', 'sample_name', 'test_name', 'user_name', 'date_of_creation',\n",
      "       'raw_file_location', 'processed_file_location', 'processing_date',\n",
      "       'camera_type_1', 'notes', 'sample_id', 'quantity', 'deleted',\n",
      "       'project.id', 'project.user_name', 'project.project_name',\n",
      "       'project.annotation', 'project.test_name',\n",
      "       'project.sample_names.sample_names', 'project.neutral_filler',\n",
      "       'project.qpc20', 'project.qpc50', 'project.qpc80', 'project.qpc100',\n",
      "       'project.notes', 'issue.id', 'issue.name', 'issue.description',\n",
      "       'issue'],\n",
      "      dtype='object')\n",
      "\n",
      "Grouping by sample_name:\n"
     ]
    },
    {
     "data": {
      "application/vnd.jupyter.widget-view+json": {
       "model_id": "0095e02dd2df4474a1e18690e9fdcd5a",
       "version_major": 2,
       "version_minor": 0
      },
      "text/plain": [
       "Output(layout=Layout(height='1000px'))"
      ]
     },
     "metadata": {},
     "output_type": "display_data"
    }
   ],
   "source": [
    "# get cards from a project\n",
    "cards = pad.get_project_cards(\"FHI2020\")\n",
    "\n",
    "print(\"Possible columns to group by: \", cards_proj.columns)\n",
    "\n",
    "# Grouping by sample_name:\n",
    "print(\"\\nGrouping by sample_name:\")\n",
    "pad.show_grouped_cards(cards_proj, 'sample_name')\n"
   ]
  },
  {
   "cell_type": "code",
   "execution_count": 27,
   "metadata": {},
   "outputs": [
    {
     "name": "stdout",
     "output_type": "stream",
     "text": [
      "Grouping by issue:\n"
     ]
    },
    {
     "data": {
      "application/vnd.jupyter.widget-view+json": {
       "model_id": "66e7030da8974c8a8d47f51fc07b990b",
       "version_major": 2,
       "version_minor": 0
      },
      "text/plain": [
       "Output(layout=Layout(height='1000px'))"
      ]
     },
     "metadata": {},
     "output_type": "display_data"
    }
   ],
   "source": [
    " # Grouping by issue:\n",
    "print(\"Grouping by issue:\")\n",
    "pad.show_grouped_cards(cards_issues, 'issue.name')"
   ]
  },
  {
   "cell_type": "markdown",
   "metadata": {},
   "source": [
    "### 5.4 Drug-Specific Analysis and Concentration-Based Grouping"
   ]
  },
  {
   "cell_type": "code",
   "execution_count": 30,
   "metadata": {},
   "outputs": [
    {
     "name": "stdout",
     "output_type": "stream",
     "text": [
      "Amoxicillin Concentration Analysis:\n"
     ]
    },
    {
     "data": {
      "application/vnd.jupyter.widget-view+json": {
       "model_id": "ce78671d3c1347a789e614aa0b71e6f9",
       "version_major": 2,
       "version_minor": 0
      },
      "text/plain": [
       "Output(layout=Layout(height='1000px'))"
      ]
     },
     "metadata": {},
     "output_type": "display_data"
    }
   ],
   "source": [
    "# Analyze specific pharmaceutical compounds\n",
    "amoxicillin_cards = cards[cards['sample_name'].str.contains('Amoxicillin', case=False, na=False)]\n",
    "\n",
    "# Concentration-Based Grouping\n",
    "print(\"Amoxicillin Concentration Analysis:\")\n",
    "pad.show_grouped_cards(amoxicillin_cards, group_column='quantity')"
   ]
  },
  {
   "cell_type": "markdown",
   "metadata": {},
   "source": [
    "## 6. Prediction & Analysis Functions\n",
    "\n",
    "*Apply trained models to PAD images for drug identification and quantification*\n",
    "\n",
    "**PAD Context**: \n",
    "- **Classification models**: Identify pharmaceutical compounds for authenticity verification\n",
    "- **Quantification models**: Measure drug concentration levels for concentration assessment"
   ]
  },
  {
   "cell_type": "markdown",
   "metadata": {},
   "source": [
    "### 6.1 Drug Classification Analysis"
   ]
  },
  {
   "cell_type": "code",
   "execution_count": 38,
   "metadata": {},
   "outputs": [
    {
     "name": "stdout",
     "output_type": "stream",
     "text": [
      "Pharmaceutical Compound Identification:\n",
      "  Actual Drug: albendazole\n",
      "  Predicted Drug: albendazole\n",
      "  Model Confidence: 99.95%\n",
      "  Analysis Energy: 15.86\n",
      "\n",
      "✅ PASS: Correct drug identification\n"
     ]
    }
   ],
   "source": [
    "# Pharmaceutical compound identification\n",
    "#actual, prediction = pad.predict(card_id=47918, model_id=16)\n",
    "actual, prediction = pad.predict(card_id=17008, model_id=16)\n",
    "\n",
    "drug_name, confidence, energy = prediction\n",
    "\n",
    "print(\"Pharmaceutical Compound Identification:\")\n",
    "print(f\"  Actual Drug: {actual}\")\n",
    "print(f\"  Predicted Drug: {drug_name}\")\n",
    "print(f\"  Model Confidence: {confidence:.2%}\")\n",
    "print(f\"  Analysis Energy: {energy:.2f}\")\n",
    "\n",
    "# Quality assessment\n",
    "if drug_name.lower() == actual.lower():\n",
    "    print(f\"\\n✅ PASS: Correct drug identification\")\n",
    "else:\n",
    "    print(f\"\\n❌ FAIL\")"
   ]
  },
  {
   "cell_type": "code",
   "execution_count": 39,
   "metadata": {},
   "outputs": [
    {
     "name": "stdout",
     "output_type": "stream",
     "text": [
      "Pharmaceutical Compound Identification:\n",
      "  Actual Drug: albendazole\n",
      "  Predicted Drug: albendazole\n",
      "  Model Confidence: 79.60%\n",
      "  Analysis Energy: 11.30\n",
      "\n",
      "✅ PASS: Correct drug identification\n"
     ]
    }
   ],
   "source": [
    "actual, prediction = pad.predict(card_id=16891, model_id=16)\n",
    "\n",
    "drug_name, confidence, energy = prediction\n",
    "\n",
    "print(\"Pharmaceutical Compound Identification:\")\n",
    "print(f\"  Actual Drug: {actual}\")\n",
    "print(f\"  Predicted Drug: {drug_name}\")\n",
    "print(f\"  Model Confidence: {confidence:.2%}\")\n",
    "print(f\"  Analysis Energy: {energy:.2f}\")\n",
    "\n",
    "# Quality assessment\n",
    "if drug_name.lower() == actual.lower():\n",
    "    print(f\"\\n✅ PASS: Correct drug identification\")\n",
    "else:\n",
    "    print(f\"\\n❌ FAIL\")"
   ]
  },
  {
   "cell_type": "markdown",
   "metadata": {},
   "source": [
    "### 6.1.1 Integrated Prediction Visualization\n"
   ]
  },
  {
   "cell_type": "code",
   "execution_count": 42,
   "metadata": {},
   "outputs": [
    {
     "data": {
      "application/vnd.jupyter.widget-view+json": {
       "model_id": "2b26b9860c694a0eb290eb1441052655",
       "version_major": 2,
       "version_minor": 0
      },
      "text/plain": [
       "VBox(children=(HTML(value='<br>'), HBox(children=(VBox(children=(HTML(value='\\n    <div id=\"imageContainer_168…"
      ]
     },
     "metadata": {},
     "output_type": "display_data"
    },
    {
     "data": {
      "application/vnd.jupyter.widget-view+json": {
       "model_id": "b18b1e31e16d4aeebb370d85976a3292",
       "version_major": 2,
       "version_minor": 0
      },
      "text/plain": [
       "VBox(children=(HTML(value='<br>'), HBox(children=(VBox(children=(HTML(value='\\n    <div id=\"imageContainer_170…"
      ]
     },
     "metadata": {},
     "output_type": "display_data"
    }
   ],
   "source": [
    "pad.show_prediction(card_id=16891, model_id=16)\n",
    "pad.show_prediction(card_id=17008, model_id=16)"
   ]
  },
  {
   "cell_type": "markdown",
   "metadata": {},
   "source": [
    "### 6.2 Concentration Quantification"
   ]
  },
  {
   "cell_type": "code",
   "execution_count": 43,
   "metadata": {},
   "outputs": [
    {
     "name": "stdout",
     "output_type": "stream",
     "text": [
      "Pharmaceutical Potency Analysis:\n",
      "  Expected Concentration: 20.0%\n",
      "  Measured Concentration: 41.7%\n",
      "  Absolute Error: 21.7%\n",
      "  Relative Error: 108.6%\n",
      "\n",
      "❌ FAIL: Concentration outside acceptable range (±10%)\n"
     ]
    }
   ],
   "source": [
    "# Drug concentration/potency analysis\n",
    "actual, predicted = pad.predict(card_id=16891, model_id=18)\n",
    "\n",
    "print(\"Pharmaceutical Potency Analysis:\")\n",
    "print(f\"  Expected Concentration: {actual:.1f}%\")\n",
    "print(f\"  Measured Concentration: {predicted:.1f}%\")\n",
    "print(f\"  Absolute Error: {abs(actual - predicted):.1f}%\")\n",
    "print(f\"  Relative Error: {abs(actual - predicted)/actual*100:.1f}%\")\n",
    "\n",
    "# Quality assessment based on pharmaceutical standards\n",
    "error_threshold = 10  # 10% acceptable error for demonstration\n",
    "if abs(actual - predicted) <= error_threshold:\n",
    "    print(f\"\\n✅ PASS: Concentration within acceptable range (±{error_threshold}%)\")\n",
    "else:\n",
    "    print(f\"\\n❌ FAIL: Concentration outside acceptable range (±{error_threshold}%)\")"
   ]
  },
  {
   "cell_type": "code",
   "execution_count": 44,
   "metadata": {},
   "outputs": [
    {
     "name": "stdout",
     "output_type": "stream",
     "text": [
      "Pharmaceutical Potency Analysis:\n",
      "  Expected Concentration: 100.0%\n",
      "  Measured Concentration: 103.8%\n",
      "  Absolute Error: 3.8%\n",
      "  Relative Error: 3.8%\n",
      "\n",
      "✅ PASS: Concentration within acceptable range (±10%)\n"
     ]
    }
   ],
   "source": [
    "# Drug concentration/potency analysis\n",
    "actual, predicted = pad.predict(card_id=17008, model_id=18)\n",
    "\n",
    "print(\"Pharmaceutical Potency Analysis:\")\n",
    "print(f\"  Expected Concentration: {actual:.1f}%\")\n",
    "print(f\"  Measured Concentration: {predicted:.1f}%\")\n",
    "print(f\"  Absolute Error: {abs(actual - predicted):.1f}%\")\n",
    "print(f\"  Relative Error: {abs(actual - predicted)/actual*100:.1f}%\")\n",
    "\n",
    "# Quality assessment based on pharmaceutical standards\n",
    "error_threshold = 10  # 10% acceptable error for demonstration\n",
    "if abs(actual - predicted) <= error_threshold:\n",
    "    print(f\"\\n✅ PASS: Concentration within acceptable range (±{error_threshold}%)\")\n",
    "else:\n",
    "    print(f\"\\n❌ FAIL: Concentration outside acceptable range (±{error_threshold}%)\")"
   ]
  },
  {
   "cell_type": "markdown",
   "metadata": {},
   "source": [
    "### 6.4 Batch Processing for Large-Scale Analysis\n",
    "\n",
    "- `apply_predictions_to_dataframe()`"
   ]
  },
  {
   "cell_type": "code",
   "execution_count": 52,
   "metadata": {},
   "outputs": [
    {
     "name": "stdout",
     "output_type": "stream",
     "text": [
      "Test dataset size: 2078 cards\n",
      "Analyzing 200 randomly selected test cards...\n",
      "Starting optimized batch prediction for 200 cards with model 16\n",
      "Model type: tf_lite\n",
      "Using optimized batch processing for Neural Network (batch_size=64)\n",
      "Processing batch 1/4 (64 images)\n",
      "Processing batch 2/4 (64 images)\n",
      "Processing batch 3/4 (64 images)\n",
      "Processing batch 4/4 (8 images)\n",
      "\n",
      "=== Model Performance Summary ===\n",
      "Accuracy: 98.50% (197/200 correct)\n",
      "Errors: 3 misclassifications\n",
      "\n",
      "=== Error Analysis ===\n",
      "Top 10 confusion pairs:\n"
     ]
    },
    {
     "data": {
      "text/html": [
       "<div>\n",
       "<style scoped>\n",
       "    .dataframe tbody tr th:only-of-type {\n",
       "        vertical-align: middle;\n",
       "    }\n",
       "\n",
       "    .dataframe tbody tr th {\n",
       "        vertical-align: top;\n",
       "    }\n",
       "\n",
       "    .dataframe thead th {\n",
       "        text-align: right;\n",
       "    }\n",
       "</style>\n",
       "<table border=\"1\" class=\"dataframe\">\n",
       "  <thead>\n",
       "    <tr style=\"text-align: right;\">\n",
       "      <th></th>\n",
       "      <th>label</th>\n",
       "      <th>prediction</th>\n",
       "      <th>count</th>\n",
       "    </tr>\n",
       "  </thead>\n",
       "  <tbody>\n",
       "    <tr>\n",
       "      <th>1</th>\n",
       "      <td>promethazine-hydrochloride</td>\n",
       "      <td>azithromycin</td>\n",
       "      <td>2</td>\n",
       "    </tr>\n",
       "    <tr>\n",
       "      <th>0</th>\n",
       "      <td>albendazole</td>\n",
       "      <td>azithromycin</td>\n",
       "      <td>1</td>\n",
       "    </tr>\n",
       "  </tbody>\n",
       "</table>\n",
       "</div>"
      ],
      "text/plain": [
       "                        label    prediction  count\n",
       "1  promethazine-hydrochloride  azithromycin      2\n",
       "0                 albendazole  azithromycin      1"
      ]
     },
     "metadata": {},
     "output_type": "display_data"
    },
    {
     "name": "stdout",
     "output_type": "stream",
     "text": [
      "\n",
      "Average confidence - Correct: 99.36%, Incorrect: 92.95%\n",
      "\n",
      "=== Showing 3 Example Misclassifications ===\n",
      "These warrant manual review to understand failure modes:\n",
      "\n",
      "Example 1: Card 24724\n",
      "  Actual: promethazine-hydrochloride, Predicted: azithromycin (confidence: 98.22%)\n"
     ]
    },
    {
     "data": {
      "application/vnd.jupyter.widget-view+json": {
       "model_id": "57c5b6a3d8ed4fbc95dd87365877a19c",
       "version_major": 2,
       "version_minor": 0
      },
      "text/plain": [
       "VBox(children=(HTML(value='<br>'), HBox(children=(VBox(children=(HTML(value='\\n    <div id=\"imageContainer_247…"
      ]
     },
     "metadata": {},
     "output_type": "display_data"
    },
    {
     "name": "stdout",
     "output_type": "stream",
     "text": [
      "--------------------------------------------------\n",
      "Example 2: Card 24874\n",
      "  Actual: promethazine-hydrochloride, Predicted: azithromycin (confidence: 97.95%)\n"
     ]
    },
    {
     "data": {
      "application/vnd.jupyter.widget-view+json": {
       "model_id": "3e7834387f724015835edc281854d08e",
       "version_major": 2,
       "version_minor": 0
      },
      "text/plain": [
       "VBox(children=(HTML(value='<br>'), HBox(children=(VBox(children=(HTML(value='\\n    <div id=\"imageContainer_248…"
      ]
     },
     "metadata": {},
     "output_type": "display_data"
    },
    {
     "name": "stdout",
     "output_type": "stream",
     "text": [
      "--------------------------------------------------\n",
      "Example 3: Card 16988\n",
      "  Actual: albendazole, Predicted: azithromycin (confidence: 82.68%)\n"
     ]
    },
    {
     "data": {
      "application/vnd.jupyter.widget-view+json": {
       "model_id": "57756997ac1a496f984ea1b930cb851f",
       "version_major": 2,
       "version_minor": 0
      },
      "text/plain": [
       "VBox(children=(HTML(value='<br>'), HBox(children=(VBox(children=(HTML(value='\\n    <div id=\"imageContainer_169…"
      ]
     },
     "metadata": {},
     "output_type": "display_data"
    },
    {
     "name": "stdout",
     "output_type": "stream",
     "text": [
      "--------------------------------------------------\n"
     ]
    }
   ],
   "source": [
    "# This example demonstrates how to efficiently evaluate model performance\n",
    "# on a large test dataset and analyze misclassifications\n",
    "\n",
    "# Get the official test dataset for model 16 (Neural Network classifier)\n",
    "# This ensures we're testing on data the model hasn't seen during training\n",
    "test_data = pad.get_model_data(16, data_type='test')\n",
    "print(f\"Test dataset size: {len(test_data)} cards\")\n",
    "\n",
    "# Sample 200 cards for this analysis (using fixed seed for reproducibility)\n",
    "# In production, you might process the entire test set\n",
    "sample_size = 200\n",
    "test_sample = test_data.sample(sample_size, random_state=2)\n",
    "print(f\"Analyzing {sample_size} randomly selected test cards...\")\n",
    "\n",
    "# Apply batch predictions with optimized batch size for performance\n",
    "# batch_size=64 balances memory usage with processing speed\n",
    "results = pad.apply_predictions_to_dataframe(test_sample, model_id=16, batch_size=64)\n",
    "\n",
    "# Separate correctly classified vs misclassified samples\n",
    "# For neural network models, 'label' is actual drug, 'prediction' is predicted drug\n",
    "passed_results = results[results['label'] == results['prediction']]\n",
    "failed_results = results[results['label'] != results['prediction']]\n",
    "\n",
    "# Calculate and display performance metrics\n",
    "accuracy = len(passed_results) / len(results) * 100\n",
    "print(f\"\\n=== Model Performance Summary ===\")\n",
    "print(f\"Accuracy: {accuracy:.2f}% ({len(passed_results)}/{len(results)} correct)\")\n",
    "print(f\"Errors: {len(failed_results)} misclassifications\")\n",
    "\n",
    "# Analyze error patterns - which drugs are most often misclassified?\n",
    "if len(failed_results) > 0:\n",
    "    print(f\"\\n=== Error Analysis ===\")\n",
    "    # Show which drugs were confused with which\n",
    "    error_summary = failed_results.groupby(['label', 'prediction']).size().reset_index(name='count')\n",
    "    error_summary = error_summary.sort_values('count', ascending=False).head(10)\n",
    "    print(\"Top 10 confusion pairs:\")\n",
    "    display(error_summary)\n",
    "\n",
    "    # Show confidence distribution for failed predictions\n",
    "    avg_confidence_failed = failed_results['confidence'].mean()\n",
    "    avg_confidence_passed = passed_results['confidence'].mean()\n",
    "    print(f\"\\nAverage confidence - Correct: {avg_confidence_passed:.2%}, Incorrect: {avg_confidence_failed:.2%}\")\n",
    "\n",
    "# Display a few example misclassifications for manual inspection\n",
    "# Limiting output to keep the notebook readable\n",
    "num_examples = min(3, len(failed_results))\n",
    "if num_examples > 0:\n",
    "    print(f\"\\n=== Showing {num_examples} Example Misclassifications ===\")\n",
    "    print(\"These warrant manual review to understand failure modes:\\n\")\n",
    "\n",
    "    # Get the most confident failures first (interesting edge cases)\n",
    "    failed_sorted = failed_results.sort_values('confidence', ascending=False)\n",
    "    card_ids = failed_sorted['id'].tolist()\n",
    "\n",
    "    for i, card_id in enumerate(card_ids[:num_examples], 1):\n",
    "        card_info = failed_sorted[failed_sorted['id'] == card_id].iloc[0]\n",
    "        print(f\"Example {i}: Card {card_id}\")\n",
    "        print(f\"  Actual: {card_info['label']}, Predicted: {card_info['prediction']} (confidence: {card_info['confidence']:.2%})\")\n",
    "        pad.show_prediction(card_id=card_id, model_id=16)\n",
    "        print(\"-\" * 50)\n",
    "\n",
    "# print(\"💾 Saving misclassifications for further analysis...\")\n",
    "# result_path = f'{pad_analysis_folder}/model_16_misclassifications.csv'\n",
    "# failed_results.to_csv(result_path, index=False)\n",
    "\n",
    "# print(f\"✅ Saved to: {result_path}\")\n",
    "\n"
   ]
  },
  {
   "cell_type": "markdown",
   "metadata": {},
   "source": [
    "---\n",
    "\n",
    "# PAD Analytics Workflows\n",
    "\n"
   ]
  },
  {
   "cell_type": "markdown",
   "metadata": {},
   "source": [
    "## Workflow 1: Drug Quality Testing Across Concentrations"
   ]
  },
  {
   "cell_type": "code",
   "execution_count": 62,
   "metadata": {},
   "outputs": [
    {
     "name": "stdout",
     "output_type": "stream",
     "text": [
      "Workflow 1: Comprehensive Drug Quality Assessment\n",
      "\n",
      "Step 1: Found 414 amoxicillin PAD cards\n",
      "\n",
      "Step 2: Concentration distribution:\n",
      "  20%: 119 cards\n",
      "  50%: 92 cards\n",
      "  80%: 80 cards\n",
      "  100%: 123 cards\n",
      "\n",
      "Step 3: Quality control - 414 cards after filtering\n",
      "\n",
      "Step 4: Analysis results for 3 samples:\n",
      "Starting optimized batch prediction for 3 cards with model 16\n",
      "Model type: tf_lite\n",
      "Using optimized batch processing for Neural Network (batch_size=32)\n",
      "Processing batch 1/1 (3 images)\n",
      "  Card 15214: amoxicillin → amoxicillin [PASS]\n",
      "  Card 15215: amoxicillin → amoxicillin [PASS]\n",
      "  Card 15216: amoxicillin → amoxicillin [PASS]\n"
     ]
    }
   ],
   "source": [
    "# Comprehensive quality analysis for a specific drug\n",
    "print(\"Workflow 1: Comprehensive Drug Quality Assessment\")\n",
    "\n",
    "# 1. Get all samples for a specific drug\n",
    "drug_of_interest = 'amoxicillin'\n",
    "drug_cards = cards[cards['sample_name'].str.contains(drug_of_interest, case=False, na=False)]\n",
    "print(f\"\\nStep 1: Found {len(drug_cards)} {drug_of_interest} PAD cards\")\n",
    "\n",
    "if len(drug_cards) > 0:\n",
    "    # 2. Analyze concentration distribution\n",
    "    conc_distribution = drug_cards['quantity'].value_counts().sort_index()\n",
    "    print(f\"\\nStep 2: Concentration distribution:\")\n",
    "    for conc, count in conc_distribution.items():\n",
    "        print(f\"  {conc}%: {count} cards\")\n",
    "    \n",
    "    # 3. Quality control - exclude problematic cards\n",
    "    issue_ids = pad.get_card_issues()['id'].tolist() if len(issue_cards) > 0 else []\n",
    "    clean_drug_cards = drug_cards[~drug_cards['id'].isin(issue_ids)]\n",
    "    print(f\"\\nStep 3: Quality control - {len(clean_drug_cards)} cards after filtering\")\n",
    "    \n",
    "    # 4. Sample analysis (limit for demonstration)\n",
    "    sample_cards = clean_drug_cards.head(3)\n",
    "    if len(sample_cards) > 0:\n",
    "        print(f\"\\nStep 4: Analysis results for {len(sample_cards)} samples:\")\n",
    "        results = pad.apply_predictions_to_dataframe(sample_cards, model_id=16)\n",
    "        \n",
    "        # Quality assessment\n",
    "        for _, row in results.iterrows():\n",
    "            pred_drug = str(row['prediction']).split('(')[0].strip()\n",
    "            status = 'PASS' if pred_drug.lower() == row['label'].lower() else 'REVIEW'\n",
    "            print(f\"  Card {row['id']}: {row['label']} → {pred_drug} [{status}]\")\n",
    "else:\n",
    "    print(f\"No {drug_of_interest} samples found in dataset\")"
   ]
  },
  {
   "cell_type": "markdown",
   "metadata": {},
   "source": [
    "## Workflow 2: Model Validation Across Imaging Conditions"
   ]
  },
  {
   "cell_type": "code",
   "execution_count": 64,
   "metadata": {},
   "outputs": [
    {
     "name": "stdout",
     "output_type": "stream",
     "text": [
      "Workflow 2: Model Validation Across Imaging Conditions\n",
      "\n",
      "Analyzing Sample ID 45056:\n",
      "  Physical PAD card: albendazole\n",
      "  Multiple images: 30 different captures\n"
     ]
    }
   ],
   "source": [
    "# Validate model robustness across different imaging conditions\n",
    "print(\"Workflow 2: Model Validation Across Imaging Conditions\")\n",
    "\n",
    "# Find a sample_id with multiple card images (if available)\n",
    "sample_counts = cards['sample_id'].value_counts()\n",
    "multi_image_samples = sample_counts[sample_counts > 1]\n",
    "\n",
    "if len(multi_image_samples) > 0:\n",
    "    sample_id = multi_image_samples.index[0]\n",
    "    sample_cards = cards[cards['sample_id'] == sample_id]\n",
    "    \n",
    "    print(f\"\\nAnalyzing Sample ID {sample_id}:\")\n",
    "    print(f\"  Physical PAD card: {sample_cards['sample_name'].iloc[0]}\")\n",
    "    print(f\"  Multiple images: {len(sample_cards)} different captures\")\n",
    "    \n",
    "    # Analyze consistency across imaging conditions\n",
    "    predictions = []\n",
    "    for _, card in sample_cards.iterrows():\n",
    "        try:\n",
    "            actual, pred = pad.predict(card['id'], model_id=16)\n",
    "            drug_name, confidence, energy = pred\n",
    "            predictions.append({\n",
    "                'card_id': card['id'],\n",
    "                'camera': card.get('camera_type_1', 'Unknown'),\n",
    "                'predicted_drug': drug_name,\n",
    "                'confidence': confidence\n",
    "            })\n",
    "        except:\n",
    "            continue\n",
    "    \n",
    "    if predictions:\n",
    "        print(f\"\\nConsistency Analysis:\")\n",
    "        for pred in predictions:\n",
    "            print(f\"  Card {pred['card_id']}: {pred['predicted_drug']} ({pred['confidence']:.2%}) [{pred['camera']}]\")\n",
    "        \n",
    "        # Check consistency\n",
    "        unique_predictions = set([p['predicted_drug'] for p in predictions])\n",
    "        if len(unique_predictions) == 1:\n",
    "            print(f\"\\n✅ CONSISTENT: All images predict same drug\")\n",
    "        else:\n",
    "            print(f\"\\n⚠️  INCONSISTENT: {len(unique_predictions)} different predictions\")\n",
    "else:\n",
    "    print(\"\\nNo samples with multiple images found in this dataset subset\")\n",
    "    print(\"This analysis requires samples with multiple imaging conditions\")"
   ]
  },
  {
   "cell_type": "markdown",
   "metadata": {},
   "source": [
    "## Workflow 3: Project-Based Comparative Analysis"
   ]
  },
  {
   "cell_type": "code",
   "execution_count": 65,
   "metadata": {},
   "outputs": [
    {
     "name": "stdout",
     "output_type": "stream",
     "text": [
      "Workflow 3: Project-Based Pharmaceutical Analysis\n",
      "\n",
      "Drug Diversity Across Projects:\n",
      "  FHI2020: 33 different drugs\n",
      "\n",
      "Focus Analysis: FHI2020\n",
      "  Total PAD cards: 9706\n",
      "  Unique drugs: 33\n",
      "  Concentration range: 20% - 100%\n",
      "\n",
      "Top drugs in FHI2020:\n",
      "  tetracycline: 538 cards\n",
      "  isoniazid: 536 cards\n",
      "  sulfamethoxazole: 525 cards\n",
      "  rifampicin: 500 cards\n",
      "  ceftriaxone: 486 cards\n"
     ]
    }
   ],
   "source": [
    "# Compare performance across different research projects\n",
    "print(\"Workflow 3: Project-Based Pharmaceutical Analysis\")\n",
    "\n",
    "# Analyze drug distribution across projects (using our dataset)\n",
    "project_analysis = cards.groupby('project.project_name')['sample_name'].nunique().sort_values(ascending=False)\n",
    "\n",
    "print(f\"\\nDrug Diversity Across Projects:\")\n",
    "for project, drug_count in project_analysis.head().items():\n",
    "    print(f\"  {project}: {drug_count} different drugs\")\n",
    "\n",
    "# Select project with most diverse drug portfolio\n",
    "top_project = project_analysis.index[0]\n",
    "project_cards = cards[cards['project.project_name'] == top_project]\n",
    "\n",
    "print(f\"\\nFocus Analysis: {top_project}\")\n",
    "print(f\"  Total PAD cards: {len(project_cards)}\")\n",
    "print(f\"  Unique drugs: {project_cards['sample_name'].nunique()}\")\n",
    "print(f\"  Concentration range: {project_cards['quantity'].min()}% - {project_cards['quantity'].max()}%\")\n",
    "\n",
    "# Show drug distribution in this project\n",
    "drug_dist = project_cards['sample_name'].value_counts().head()\n",
    "print(f\"\\nTop drugs in {top_project}:\")\n",
    "for drug, count in drug_dist.items():\n",
    "    print(f\"  {drug}: {count} cards\")"
   ]
  },
  {
   "cell_type": "markdown",
   "metadata": {},
   "source": [
    "## Workflow 4: Quality Control Protocol"
   ]
  },
  {
   "cell_type": "code",
   "execution_count": 66,
   "metadata": {},
   "outputs": [
    {
     "name": "stdout",
     "output_type": "stream",
     "text": [
      "Workflow 4: Pharmaceutical Quality Control Protocol\n",
      "\n",
      "Step 1: Quality Control Filtering\n",
      "  Initial dataset: 9706 cards\n",
      "  Excluded problematic: 0 cards\n",
      "  QC-approved dataset: 9706 cards\n",
      "  Data quality: 100.0%\n",
      "\n",
      "Step 2: Data Completeness Validation\n",
      "  Complete records: 9706 cards\n",
      "  Completeness rate: 100.0%\n",
      "\n",
      "Step 3: Drug Authenticity Validation (Sample: 3 cards)\n",
      "Starting optimized batch prediction for 3 cards with model 16\n",
      "Model type: tf_lite\n",
      "Using optimized batch processing for Neural Network (batch_size=32)\n",
      "Processing batch 1/1 (3 images)\n",
      "Error in NN prediction for https://pad.crc.nd.edu//var/www/html/joomla/images/padimages/email/processed/50332_25586.processed.png: 404 Client Error: NOT FOUND for url: https://pad.crc.nd.edu//var/www/html/joomla/images/padimages/email/processed/50332_25586.processed.png\n",
      "Error in NN prediction for https://pad.crc.nd.edu//var/www/html/joomla/images/padimages/email/processed/50332_17318.processed.png: 404 Client Error: NOT FOUND for url: https://pad.crc.nd.edu//var/www/html/joomla/images/padimages/email/processed/50332_17318.processed.png\n",
      "Error in NN prediction for https://pad.crc.nd.edu//var/www/html/joomla/images/padimages/email/processed/50332_25561.processed.png: 404 Client Error: NOT FOUND for url: https://pad.crc.nd.edu//var/www/html/joomla/images/padimages/email/processed/50332_25561.processed.png\n",
      "\n",
      "Quality Control Summary:\n"
     ]
    },
    {
     "ename": "ZeroDivisionError",
     "evalue": "division by zero",
     "output_type": "error",
     "traceback": [
      "\u001b[0;31m---------------------------------------------------------------------------\u001b[0m",
      "\u001b[0;31mZeroDivisionError\u001b[0m                         Traceback (most recent call last)",
      "Cell \u001b[0;32mIn[66], line 39\u001b[0m\n\u001b[1;32m     36\u001b[0m     \u001b[38;5;28mprint\u001b[39m(\u001b[38;5;124mf\u001b[39m\u001b[38;5;124m\"\u001b[39m\u001b[38;5;124m  Card \u001b[39m\u001b[38;5;132;01m{\u001b[39;00mrow[\u001b[38;5;124m'\u001b[39m\u001b[38;5;124mid\u001b[39m\u001b[38;5;124m'\u001b[39m]\u001b[38;5;132;01m}\u001b[39;00m\u001b[38;5;124m: \u001b[39m\u001b[38;5;132;01m{\u001b[39;00mstatus\u001b[38;5;132;01m}\u001b[39;00m\u001b[38;5;124m (\u001b[39m\u001b[38;5;132;01m{\u001b[39;00mpred_drug\u001b[38;5;132;01m}\u001b[39;00m\u001b[38;5;124m vs \u001b[39m\u001b[38;5;132;01m{\u001b[39;00mrow[\u001b[38;5;124m'\u001b[39m\u001b[38;5;124mactual\u001b[39m\u001b[38;5;124m'\u001b[39m]\u001b[38;5;132;01m}\u001b[39;00m\u001b[38;5;124m)\u001b[39m\u001b[38;5;124m\"\u001b[39m)\n\u001b[1;32m     38\u001b[0m \u001b[38;5;28mprint\u001b[39m(\u001b[38;5;124mf\u001b[39m\u001b[38;5;124m\"\u001b[39m\u001b[38;5;130;01m\\n\u001b[39;00m\u001b[38;5;124mQuality Control Summary:\u001b[39m\u001b[38;5;124m\"\u001b[39m)\n\u001b[0;32m---> 39\u001b[0m \u001b[38;5;28mprint\u001b[39m(\u001b[38;5;124mf\u001b[39m\u001b[38;5;124m\"\u001b[39m\u001b[38;5;124m  Authenticity rate: \u001b[39m\u001b[38;5;132;01m{\u001b[39;00m\u001b[43mpass_count\u001b[49m\u001b[38;5;241;43m/\u001b[39;49m\u001b[38;5;28;43mlen\u001b[39;49m\u001b[43m(\u001b[49m\u001b[43mvalidation_results\u001b[49m\u001b[43m)\u001b[49m\u001b[38;5;241m*\u001b[39m\u001b[38;5;241m100\u001b[39m\u001b[38;5;132;01m:\u001b[39;00m\u001b[38;5;124m.1f\u001b[39m\u001b[38;5;132;01m}\u001b[39;00m\u001b[38;5;124m%\u001b[39m\u001b[38;5;124m\"\u001b[39m)\n\u001b[1;32m     40\u001b[0m \u001b[38;5;28mprint\u001b[39m(\u001b[38;5;124mf\u001b[39m\u001b[38;5;124m\"\u001b[39m\u001b[38;5;124m  Recommended action: \u001b[39m\u001b[38;5;132;01m{\u001b[39;00m\u001b[38;5;124m'\u001b[39m\u001b[38;5;124mAPPROVE BATCH\u001b[39m\u001b[38;5;124m'\u001b[39m\u001b[38;5;250m \u001b[39m\u001b[38;5;28;01mif\u001b[39;00m\u001b[38;5;250m \u001b[39mpass_count\u001b[38;5;250m \u001b[39m\u001b[38;5;241m==\u001b[39m\u001b[38;5;250m \u001b[39m\u001b[38;5;28mlen\u001b[39m(validation_results)\u001b[38;5;250m \u001b[39m\u001b[38;5;28;01melse\u001b[39;00m\u001b[38;5;250m \u001b[39m\u001b[38;5;124m'\u001b[39m\u001b[38;5;124mINVESTIGATE SUSPICIOUS SAMPLES\u001b[39m\u001b[38;5;124m'\u001b[39m\u001b[38;5;132;01m}\u001b[39;00m\u001b[38;5;124m\"\u001b[39m)\n",
      "\u001b[0;31mZeroDivisionError\u001b[0m: division by zero"
     ]
    }
   ],
   "source": [
    "# Comprehensive quality control protocol for pharmaceutical testing\n",
    "print(\"Workflow 4: Pharmaceutical Quality Control Protocol\")\n",
    "\n",
    "# Step 1: Identify and exclude problematic cards\n",
    "initial_count = len(cards)\n",
    "qc_filtered = cards[~cards['id'].isin(issue_ids)]\n",
    "excluded_count = initial_count - len(qc_filtered)\n",
    "\n",
    "print(f\"\\nStep 1: Quality Control Filtering\")\n",
    "print(f\"  Initial dataset: {initial_count} cards\")\n",
    "print(f\"  Excluded problematic: {excluded_count} cards\")\n",
    "print(f\"  QC-approved dataset: {len(qc_filtered)} cards\")\n",
    "print(f\"  Data quality: {len(qc_filtered)/initial_count*100:.1f}%\")\n",
    "\n",
    "# Step 2: Validate data completeness\n",
    "required_fields = ['sample_name', 'quantity', 'processed_file_location']\n",
    "complete_records = qc_filtered.dropna(subset=required_fields)\n",
    "\n",
    "print(f\"\\nStep 2: Data Completeness Validation\")\n",
    "print(f\"  Complete records: {len(complete_records)} cards\")\n",
    "print(f\"  Completeness rate: {len(complete_records)/len(qc_filtered)*100:.1f}%\")\n",
    "\n",
    "# Step 3: Drug authenticity check (sample)\n",
    "sample_for_validation = complete_records.head(3)\n",
    "if len(sample_for_validation) > 0:\n",
    "    print(f\"\\nStep 3: Drug Authenticity Validation (Sample: {len(sample_for_validation)} cards)\")\n",
    "    validation_results = pad.apply_predictions_to_dataframe(sample_for_validation, model_id=16)\n",
    "    \n",
    "    pass_count = 0\n",
    "    for _, row in validation_results.iterrows():\n",
    "        pred_drug = str(row['prediction']).split('(')[0].strip()\n",
    "        is_authentic = pred_drug.lower() == row['actual'].lower()\n",
    "        status = 'AUTHENTIC' if is_authentic else 'SUSPICIOUS'\n",
    "        if is_authentic:\n",
    "            pass_count += 1\n",
    "        print(f\"  Card {row['id']}: {status} ({pred_drug} vs {row['actual']})\")\n",
    "    \n",
    "    print(f\"\\nQuality Control Summary:\")\n",
    "    print(f\"  Authenticity rate: {pass_count/len(validation_results)*100:.1f}%\")\n",
    "    print(f\"  Recommended action: {'APPROVE BATCH' if pass_count == len(validation_results) else 'INVESTIGATE SUSPICIOUS SAMPLES'}\")"
   ]
  },
  {
   "cell_type": "markdown",
   "metadata": {},
   "source": [
    "---\n",
    "\n",
    "# Best Practices for PAD Research"
   ]
  },
  {
   "cell_type": "markdown",
   "metadata": {},
   "source": [
    "## Understanding ID Relationships\n",
    "\n",
    "**Critical for pharmaceutical analysis:**\n",
    "\n",
    "- **Use `card_id`** for analyzing specific PAD image captures\n",
    "- **Use `sample_id`** to find all images of the same physical PAD card\n",
    "- **Group by `sample_id`** to analyze consistency across imaging conditions\n",
    "- **Account for variations** in lighting and camera devices when interpreting results\n",
    "\n",
    "```python\n",
    "# Example: Analyze consistency for one physical card\n",
    "physical_card_images = pad.get_card(sample_id=12345)\n",
    "# This returns all digital images of the same physical PAD\n",
    "```"
   ]
  },
  {
   "cell_type": "markdown",
   "metadata": {},
   "source": [
    "## Performance Optimization\n",
    "\n",
    "**For large-scale pharmaceutical studies:**\n",
    "\n",
    "- **Use batch processing**: `apply_predictions_to_dataframe()` \n",
    "- **Consider caching**: Enable offline analysis for field research (upcoming feature)\n",
    "- **Optimize batch size**: Balance memory usage with processing speed\n",
    "- **GPU acceleration**: TensorFlow 2.14.0 supports GPU for faster neural network inference\n",
    "\n",
    "```python\n",
    "# Optimized batch processing\n",
    "results = pad.apply_predictions_to_dataframe(large_dataset, model_id=16, batch_size=32)\n",
    "```"
   ]
  },
  {
   "cell_type": "code",
   "execution_count": null,
   "metadata": {},
   "outputs": [],
   "source": []
  },
  {
   "cell_type": "code",
   "execution_count": null,
   "metadata": {},
   "outputs": [],
   "source": []
  },
  {
   "cell_type": "markdown",
   "metadata": {},
   "source": [
    "## Model Selection Guide\n",
    "\n",
    "**Choose the right model for your pharmaceutical analysis:**\n",
    "\n",
    "- **Model 16**: FHI360 Neural Network classifier (returns drug name, confidence, energy)\n",
    "    - Use for: FHI360 drug authentication, 23-drug classifier for antibiotics and antimalarials, trained on 12-lane PAD cards with concentrations 20%, 50%, 80%, 100%\n",
    "    - Output: `('albendazole', 0.95, 12.3)`\n",
    "\n",
    "- **Model 18**: Partial least squares (PLS) regression on the concentration (returns predicted concentration)\n",
    "    - Use for: FHI360 potency analysis, quantitative concentration prediction for authenticated drugs, calibrated for 20-100% concentration range\n",
    "    - Output: `75.2` (representing 75.2% concentration)\n",
    "\n",
    "- **Model 20**: ChemoPAD Neural Network classifier (returns drug name, confidence, energy)\n",
    "    - Use for: ChemoPAD-specific drug identification, specialized for concentrations 100%, 66%, 33%, 0%\n",
    "    - Output: `('hydroxyurea', 0.9996, 9.586)`\n",
    "\n",
    "**Selection criteria:**\n",
    "\n",
    "- **Identification objective** → Use classification models (16, 20)\n",
    "- **Quantification objective** → Use concentration models (18)\n",
    "- **Regulatory compliance** → Document model validation data with `get_model_data()`\n"
   ]
  },
  {
   "cell_type": "markdown",
   "metadata": {},
   "source": [
    "---\n",
    "\n",
    "# Resources\n",
    "\n",
    "- **GitHub**: https://github.com/PaperAnalyticalDeviceND/pad-analytics\n",
    "- **PyPI**: https://pypi.org/project/pad-analytics/\n",
    "- **PAD Project**: https://padproject.nd.edu\n",
    "- **Documentation**: https://pad.crc.nd.edu/docs\n",
    "- **API Reference**: https://pad.crc.nd.edu/api/v2\n",
    "\n",
    "---\n",
    "\n",
    "*This notebook demonstrates the complete PAD Analytics workflow for pharmaceutical quality testing. For specific research questions or implementation support, consult the PAD project documentation and research team.*"
   ]
  }
 ],
 "metadata": {
  "kernelspec": {
   "display_name": ".venv",
   "language": "python",
   "name": "python3"
  },
  "language_info": {
   "codemirror_mode": {
    "name": "ipython",
    "version": 3
   },
   "file_extension": ".py",
   "mimetype": "text/x-python",
   "name": "python",
   "nbconvert_exporter": "python",
   "pygments_lexer": "ipython3",
   "version": "3.10.8"
  }
 },
 "nbformat": 4,
 "nbformat_minor": 4
}
