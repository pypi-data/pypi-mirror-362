{
 "cells": [
  {
   "cell_type": "markdown",
   "id": "521c6d01",
   "metadata": {},
   "source": [
    "# EasyVVUQ - Jinja encoder tutorial\n",
    "\n",
    "\n",
    "This is a small modification of the basic tutorial on the simple beam model. In particular, will show how to use mathmatical expressions inside a Jinja template. For more information in encoding and decoding see the `tutorials/encoder_decoder_tutorial.ipynb` notebook."
   ]
  },
  {
   "cell_type": "markdown",
   "id": "6428be0a",
   "metadata": {},
   "source": [
    "# Campaign"
   ]
  },
  {
   "cell_type": "markdown",
   "id": "24a4af40",
   "metadata": {},
   "source": [
    "We need to import EasyVVUQ as well as ChaosPy (we use it's distributions) and matplotlib for plotting later on."
   ]
  },
  {
   "cell_type": "code",
   "execution_count": null,
   "id": "dad22041",
   "metadata": {
    "ExecuteTime": {
     "end_time": "2021-06-09T07:14:11.855724Z",
     "start_time": "2021-06-09T07:14:08.704997Z"
    }
   },
   "outputs": [],
   "source": [
    "import os\n",
    "import easyvvuq as uq\n",
    "import chaospy as cp\n",
    "import matplotlib.pyplot as plt\n",
    "from easyvvuq.actions import CreateRunDirectory, Encode, Decode, CleanUp, ExecuteLocal, Actions"
   ]
  },
  {
   "cell_type": "markdown",
   "id": "ee53f14d",
   "metadata": {},
   "source": [
    "We will describe the parameters. This is done for validation purposes (so that input parameters outside valid ranges given an error. Also this is where you can specify default values for input parameters that you don't want to vary in the analysis. Only the type and the default value fields are mandatory."
   ]
  },
  {
   "cell_type": "code",
   "execution_count": null,
   "id": "5bb692f0",
   "metadata": {
    "ExecuteTime": {
     "end_time": "2021-06-09T07:14:11.858747Z",
     "start_time": "2021-06-09T07:14:11.856736Z"
    }
   },
   "outputs": [],
   "source": [
    "params = {\n",
    "    \"F\": {\"type\": \"float\", \"default\": 1.0}, \n",
    "    \"L\": {\"type\": \"float\", \"default\": 1.5}, \n",
    "    \"a\": {\"type\": \"float\", \"min\": 0.7, \"max\": 1.2, \"default\": 1.0}, \n",
    "    \"D\": {\"type\": \"float\", \"min\": 0.75, \"max\": 0.85, \"default\": 0.8},\n",
    "    \"d\": {\"type\": \"float\", \"default\": 0.1},\n",
    "    \"E\": {\"type\": \"float\", \"default\": 200000},\n",
    "    \"power\" : {\"type\": \"float\", \"default\": 0.5},\n",
    "    \"outfile\": {\"type\": \"string\", \"default\": \"output.json\"}\n",
    "}"
   ]
  },
  {
   "cell_type": "markdown",
   "id": "e15d9c0f",
   "metadata": {},
   "source": [
    "## Jinja encoder\n",
    "\n",
    "Below we find the only deviation from the basic tutorial, namely the use of the Jinja decoder with a mathmatical expression for the `a` variable. The standard Jinja template would look like:\n",
    "\n",
    "```\n",
    "{\"outfile\": \"{{outfile}}\", \n",
    "\"F\": {{F}},\n",
    "\"L\": {{L}}, \n",
    "\"a\": {{a}}, \n",
    "\"D\": {{D}}, \n",
    "\"d\": {{d}}, \n",
    "\"E\": {{E}}\n",
    "}\n",
    "```\n",
    "\n",
    "This is replaces every `{{variable}}` with a numeric value. If that the variable appears in the `vary`, the value will be drawn from the specified probability distribution. If it does not appear in `vary`, the default value as specified in the `params` dict will be used. The result will be a JSON file that is read by the beam model. It does not have to be a JSON file, this same principle will hold for any type of template file.\n",
    "\n",
    "The Jinja encoder is flexible in the sense that **mathematical expressions** can also be used. As an example, consider the followin template:\n",
    "\n",
    "```\n",
    "{\"outfile\": \"{{outfile}}\", \n",
    "\"F\": {{F}},\n",
    "\"L\": {{L}}, \n",
    "\"a\": {{a ** power}}, \n",
    "\"D\": {{D}}, \n",
    "\"d\": {{d}}, \n",
    "\"E\": {{E}}\n",
    "}\n",
    "```\n",
    "\n",
    "This is the same as before, except now the square root of `a` is taken. Here, `power` is also defined in the `params` dict. Since `power` is not in vary, the value of `0.5` is always used."
   ]
  },
  {
   "cell_type": "code",
   "execution_count": null,
   "id": "d51ada1b",
   "metadata": {},
   "outputs": [],
   "source": [
    "encoder = uq.encoders.JinjaEncoder(template_fname='beam.jinja', target_filename='input.json')"
   ]
  },
  {
   "cell_type": "markdown",
   "id": "2afdb7b8",
   "metadata": {},
   "source": [
    "The rest of this turorial proceeds unmodified from the basic tutorial."
   ]
  },
  {
   "cell_type": "code",
   "execution_count": null,
   "id": "77f1eff4",
   "metadata": {
    "ExecuteTime": {
     "end_time": "2021-06-09T07:14:19.459501Z",
     "start_time": "2021-06-09T07:14:19.455107Z"
    }
   },
   "outputs": [],
   "source": [
    "decoder = uq.decoders.JSONDecoder(target_filename='output.json', output_columns=['g1'])\n",
    "execute = ExecuteLocal('{}/beam input.json'.format(os.getcwd()))\n",
    "\n",
    "actions = Actions(CreateRunDirectory('/tmp', flatten=True), \n",
    "                  Encode(encoder), execute, Decode(decoder))"
   ]
  },
  {
   "cell_type": "markdown",
   "id": "d5dc3398",
   "metadata": {},
   "source": [
    "Campaign is the central hub in which operations take place. It is responsible for running your simulations, gathering the results, storing them in the Database, retrieving them for analysis, etc. The Campaign in EasyVVUQ is very powerful and supports multiple applications, sampling, analysis and execution methods. It also lets you save progress and retrieve results later for analysis. Here we only look at a simple case."
   ]
  },
  {
   "cell_type": "code",
   "execution_count": null,
   "id": "916c375d",
   "metadata": {
    "ExecuteTime": {
     "end_time": "2021-06-09T07:14:22.214216Z",
     "start_time": "2021-06-09T07:14:22.176515Z"
    }
   },
   "outputs": [],
   "source": [
    "campaign = uq.Campaign(name='beam', params=params, actions=actions, work_dir='/tmp')"
   ]
  },
  {
   "cell_type": "markdown",
   "id": "531e7aec",
   "metadata": {},
   "source": [
    "First we need to define the input parameter distributions. We have chosen 4 of the 6 available inputs. This is partly because this means that we won't have to sample at too many points and partly because I've found that these influence the output variable the most."
   ]
  },
  {
   "cell_type": "code",
   "execution_count": null,
   "id": "e3bc3491",
   "metadata": {
    "ExecuteTime": {
     "end_time": "2021-06-09T07:14:24.062778Z",
     "start_time": "2021-06-09T07:14:24.056744Z"
    }
   },
   "outputs": [],
   "source": [
    "vary = {\n",
    "    \"F\": cp.Normal(1, 0.1),\n",
    "    \"L\": cp.Normal(1.5, 0.01),\n",
    "    \"a\": cp.Uniform(0.7, 1.2),\n",
    "    \"D\": cp.Triangle(0.75, 0.8, 0.85)\n",
    "}"
   ]
  },
  {
   "cell_type": "markdown",
   "id": "ac53db70",
   "metadata": {},
   "source": [
    "We have to choose the sampler next. For this task we can use either [Stochastic Collocation](https://easyvvuq.readthedocs.io/en/dev/easyvvuq.sampling.html#module-easyvvuq.sampling.stochastic_collocation), [Polynomial Chaos Expansion](https://easyvvuq.readthedocs.io/en/dev/easyvvuq.sampling.html#module-easyvvuq.sampling.pce) or [QMC](https://easyvvuq.readthedocs.io/en/dev/easyvvuq.sampling.html#module-easyvvuq.sampling.qmc) samplers. Stochastic Collocation is fast for this problem size so that is what we chose."
   ]
  },
  {
   "cell_type": "code",
   "execution_count": null,
   "id": "927c07af",
   "metadata": {
    "ExecuteTime": {
     "end_time": "2021-06-09T07:14:25.478795Z",
     "start_time": "2021-06-09T07:14:25.224527Z"
    }
   },
   "outputs": [],
   "source": [
    "campaign.set_sampler(uq.sampling.PCESampler(vary=vary, polynomial_order=1))"
   ]
  },
  {
   "cell_type": "markdown",
   "id": "d12571d5",
   "metadata": {},
   "source": [
    "For this tutorial we have chosen to run the simulation on the local machine. This will done in parallel with up to 8 tasks running concurrently. Alternatives are execution in the Cloud (via the [ExecuteKubernetes](https://easyvvuq.readthedocs.io/en/dev/easyvvuq.actions.html#module-easyvvuq.actions.execute_kubernetes) action) or on HPC machines."
   ]
  },
  {
   "cell_type": "code",
   "execution_count": null,
   "id": "0dbb0dab",
   "metadata": {
    "ExecuteTime": {
     "end_time": "2021-06-09T07:14:28.266228Z",
     "start_time": "2021-06-09T07:14:26.904138Z"
    },
    "scrolled": false
   },
   "outputs": [],
   "source": [
    "campaign.execute().collate()"
   ]
  },
  {
   "cell_type": "markdown",
   "id": "3d955b56",
   "metadata": {},
   "source": [
    "The execution can take a bit since we need to generate several hundred samples. We asked it to evaluate 8 samples in parallel. You can track progress by using the ```progress``` method. You can also check progress automatically and resume execution after it is done if you want to run this inside a script rather than interactively."
   ]
  },
  {
   "cell_type": "code",
   "execution_count": null,
   "id": "e197810e",
   "metadata": {
    "ExecuteTime": {
     "end_time": "2021-06-09T07:14:30.293648Z",
     "start_time": "2021-06-09T07:14:30.260808Z"
    }
   },
   "outputs": [],
   "source": [
    "campaign.get_collation_result()"
   ]
  },
  {
   "cell_type": "markdown",
   "id": "51ffdb37",
   "metadata": {},
   "source": [
    "We then call the analyse method whose functionality will depend on the sampling method used. It returns an [AnalysisResults]() object which can be used to retrieve numerical values or plot the results. In this case Sobols indices."
   ]
  },
  {
   "cell_type": "code",
   "execution_count": null,
   "id": "f410d61f",
   "metadata": {
    "ExecuteTime": {
     "end_time": "2021-06-09T07:14:34.936544Z",
     "start_time": "2021-06-09T07:14:34.848433Z"
    }
   },
   "outputs": [],
   "source": [
    "results = campaign.analyse(qoi_cols=['g1'])"
   ]
  },
  {
   "cell_type": "markdown",
   "id": "7f0a8d7b",
   "metadata": {},
   "source": [
    "We can plot the results in a treemap format. Each square representing the relative influence of that parameter to the variance of the output variable (vertical displacement at point ```a```). A square labeled ```higher orders``` represent the influence of the interactions between the input parameters."
   ]
  },
  {
   "cell_type": "code",
   "execution_count": null,
   "id": "b8a4109c",
   "metadata": {
    "ExecuteTime": {
     "end_time": "2021-06-09T07:14:36.874123Z",
     "start_time": "2021-06-09T07:14:36.776029Z"
    }
   },
   "outputs": [],
   "source": [
    "results.plot_sobols_treemap('g1', figsize=(10, 10))\n",
    "plt.axis('off');"
   ]
  },
  {
   "cell_type": "markdown",
   "id": "b675c192",
   "metadata": {},
   "source": [
    "Alternatively you can get the Sobol index values using the method call below."
   ]
  },
  {
   "cell_type": "code",
   "execution_count": null,
   "id": "2d5d8b71",
   "metadata": {
    "ExecuteTime": {
     "end_time": "2021-06-09T07:14:42.156765Z",
     "start_time": "2021-06-09T07:14:42.151980Z"
    }
   },
   "outputs": [],
   "source": [
    "results.sobols_first('g1')"
   ]
  },
  {
   "cell_type": "code",
   "execution_count": null,
   "id": "ea8b0ac9",
   "metadata": {
    "ExecuteTime": {
     "end_time": "2021-06-09T07:14:43.966905Z",
     "start_time": "2021-06-09T07:14:43.963384Z"
    }
   },
   "outputs": [],
   "source": [
    "results.supported_stats()"
   ]
  },
  {
   "cell_type": "code",
   "execution_count": null,
   "id": "48133c45",
   "metadata": {
    "ExecuteTime": {
     "end_time": "2021-06-09T07:14:44.923622Z",
     "start_time": "2021-06-09T07:14:44.919985Z"
    }
   },
   "outputs": [],
   "source": [
    "results._get_sobols_first('g1', 'F')"
   ]
  },
  {
   "cell_type": "code",
   "execution_count": null,
   "id": "4305a259",
   "metadata": {
    "ExecuteTime": {
     "end_time": "2021-06-09T07:14:51.580848Z",
     "start_time": "2021-06-09T07:14:51.576505Z"
    }
   },
   "outputs": [],
   "source": [
    "results.sobols_total('g1', 'F')"
   ]
  }
 ],
 "metadata": {
  "kernelspec": {
   "display_name": "Python 3 (ipykernel)",
   "language": "python",
   "name": "python3"
  },
  "language_info": {
   "codemirror_mode": {
    "name": "ipython",
    "version": 3
   },
   "file_extension": ".py",
   "mimetype": "text/x-python",
   "name": "python",
   "nbconvert_exporter": "python",
   "pygments_lexer": "ipython3",
   "version": "3.9.16"
  },
  "latex_envs": {
   "LaTeX_envs_menu_present": true,
   "autoclose": false,
   "autocomplete": true,
   "bibliofile": "biblio.bib",
   "cite_by": "apalike",
   "current_citInitial": 1,
   "eqLabelWithNumbers": true,
   "eqNumInitial": 1,
   "hotkeys": {
    "equation": "Ctrl-E",
    "itemize": "Ctrl-I"
   },
   "labels_anchors": false,
   "latex_user_defs": false,
   "report_style_numbering": false,
   "user_envs_cfg": false
  }
 },
 "nbformat": 4,
 "nbformat_minor": 5
}
