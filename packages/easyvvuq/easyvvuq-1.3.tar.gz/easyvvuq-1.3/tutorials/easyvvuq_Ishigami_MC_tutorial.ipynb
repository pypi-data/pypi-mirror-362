{
 "cells": [
  {
   "cell_type": "markdown",
   "metadata": {},
   "source": [
    "# Run an EasyVVUQ campaign to analyze the sensitivity for the Ishigami function\n",
    "\n",
    "This is done with the `MCsampler` that uses the Saltelli algorithm [1] to compute the Sobol indices. If `n_mc_samples` is the number of Monte Carlo samples specified in the `MCSampler`, the Saltelli algorithm uses `n_mc_samples * (d + 2)` samples to compute the Sobol indices, where `d` is the number of random input variables. Bootstrapping is used to compute confidence intervals on the Sobol index estimates. \n",
    "\n",
    "[1] A. Saltelli, *Making best use of model evaluations to compute sensitivity indices*, Computer Physics Communications, 2002."
   ]
  },
  {
   "cell_type": "code",
   "execution_count": 1,
   "metadata": {
    "ExecuteTime": {
     "end_time": "2021-06-07T14:15:21.463066Z",
     "start_time": "2021-06-07T14:15:16.010020Z"
    },
    "code_folding": [
     0
    ]
   },
   "outputs": [],
   "source": [
    "# Run an EasyVVUQ campaign to analyze tgohe sensitivity for the Ishigami function\n",
    "# This is done with SC.\n",
    "import os\n",
    "import easyvvuq as uq\n",
    "import chaospy as cp\n",
    "import pickle\n",
    "import numpy as np\n",
    "import matplotlib.pylab as plt\n",
    "import time\n",
    "import pandas as pd\n",
    "from collections import OrderedDict"
   ]
  },
  {
   "cell_type": "code",
   "execution_count": 2,
   "metadata": {
    "ExecuteTime": {
     "end_time": "2021-06-07T14:15:21.476480Z",
     "start_time": "2021-06-07T14:15:21.468639Z"
    }
   },
   "outputs": [
    {
     "data": {
      "text/plain": [
       "'1.26.4'"
      ]
     },
     "execution_count": 2,
     "metadata": {},
     "output_type": "execute_result"
    }
   ],
   "source": [
    "np.__version__"
   ]
  },
  {
   "cell_type": "code",
   "execution_count": 3,
   "metadata": {
    "ExecuteTime": {
     "end_time": "2021-06-07T14:15:21.500137Z",
     "start_time": "2021-06-07T14:15:21.486267Z"
    },
    "code_folding": [
     0,
     1
    ]
   },
   "outputs": [],
   "source": [
    "# Define the Ishigami function\n",
    "def ishigamiSA(a,b):\n",
    "    '''Exact sensitivity indices of the Ishigami function for given a and b.\n",
    "    From https://openturns.github.io/openturns/master/examples/meta_modeling/chaos_ishigami.html\n",
    "    '''\n",
    "    var = 1.0/2 + a**2/8 + b*np.pi**4/5 + b**2*np.pi**8/18\n",
    "    S1 = (1.0/2 + b*np.pi**4/5+b**2*np.pi**8/50)/var\n",
    "    S2 = (a**2/8)/var\n",
    "    S3 = 0\n",
    "    S13 = b**2*np.pi**8/2*(1.0/9-1.0/25)/var\n",
    "    exact = {\n",
    "            'expectation' : a/2,\n",
    "            'variance' : var,\n",
    "            'S1' : (1.0/2 + b*np.pi**4/5+b**2*np.pi**8.0/50)/var,\n",
    "            'S2' : (a**2/8)/var,\n",
    "            'S3' : 0,\n",
    "            'S12' : 0,\n",
    "            'S23' : 0,\n",
    "            'S13' : S13,\n",
    "            'S123' : 0,\n",
    "            'ST1' : S1 + S13,\n",
    "            'ST2' : S2,\n",
    "            'ST3' : S3 + S13\n",
    "            }\n",
    "    return exact\n",
    "\n",
    "Ishigami_a = 7.0\n",
    "Ishigami_b = 0.1\n",
    "exact = ishigamiSA(Ishigami_a, Ishigami_b)"
   ]
  },
  {
   "cell_type": "code",
   "execution_count": 4,
   "metadata": {
    "ExecuteTime": {
     "end_time": "2021-06-07T14:15:21.510035Z",
     "start_time": "2021-06-07T14:15:21.505751Z"
    },
    "code_folding": [
     0
    ]
   },
   "outputs": [],
   "source": [
    "# define a model to run the Ishigami code directly from python, expecting a dictionary and returning a dictionary\n",
    "def run_ishigami_model(input):\n",
    "    import Ishigami\n",
    "    qois = [\"Ishigami\"]\n",
    "    del input['out_file']\n",
    "    return {qois[0]: Ishigami.evaluate(**input)}"
   ]
  },
  {
   "cell_type": "code",
   "execution_count": 5,
   "metadata": {
    "ExecuteTime": {
     "end_time": "2021-06-07T14:15:21.520594Z",
     "start_time": "2021-06-07T14:15:21.515444Z"
    },
    "code_folding": [
     0
    ]
   },
   "outputs": [],
   "source": [
    "# Define parameter space\n",
    "def define_params():\n",
    "    return {\n",
    "        \"x1\":       {\"type\": \"float\",   \"min\": -np.pi,     \"max\": np.pi,      \"default\": 0.0},\n",
    "        \"x2\":       {\"type\": \"float\",   \"min\": -np.pi,     \"max\": np.pi,      \"default\": 0.0},\n",
    "        \"x3\":       {\"type\": \"float\",   \"min\": -np.pi,     \"max\": np.pi,      \"default\": 0.0},\n",
    "        \"a\":        {\"type\": \"float\",   \"min\": Ishigami_a, \"max\": Ishigami_a, \"default\": Ishigami_a},\n",
    "        \"b\":        {\"type\": \"float\",   \"min\": Ishigami_b, \"max\": Ishigami_b, \"default\": Ishigami_b},\n",
    "        \"out_file\": {\"type\": \"string\",  \"default\": \"output.csv\"}\n",
    "    }"
   ]
  },
  {
   "cell_type": "code",
   "execution_count": 6,
   "metadata": {
    "ExecuteTime": {
     "end_time": "2021-06-07T14:15:21.530671Z",
     "start_time": "2021-06-07T14:15:21.525407Z"
    },
    "code_folding": [
     0
    ]
   },
   "outputs": [],
   "source": [
    "# Define parameter space\n",
    "def define_vary():\n",
    "    return {\n",
    "        \"x1\":   cp.Uniform(-np.pi, np.pi),\n",
    "        \"x2\":   cp.Uniform(-np.pi, np.pi),\n",
    "        \"x3\":   cp.Uniform(-np.pi, np.pi)\n",
    "    }"
   ]
  },
  {
   "cell_type": "code",
   "execution_count": 7,
   "metadata": {
    "ExecuteTime": {
     "end_time": "2021-06-07T14:15:21.547702Z",
     "start_time": "2021-06-07T14:15:21.534015Z"
    },
    "code_folding": [
     0
    ]
   },
   "outputs": [],
   "source": [
    "# Set up and run a campaign\n",
    "def run_campaign(n_mc_samples, use_files=False):\n",
    "\n",
    "    times = np.zeros(7)\n",
    "\n",
    "    time_start = time.time()\n",
    "    time_start_whole = time_start\n",
    "\n",
    "    work_dir = '/tmp'\n",
    "    \n",
    "    # Set up a fresh campaign called \"Ishigami_sc.\"\n",
    "    my_campaign = uq.Campaign(name='Ishigami_mc.', work_dir=work_dir)\n",
    "\n",
    "    # Create an encoder and decoder for SC test app\n",
    "    if use_files:\n",
    "        encoder = uq.encoders.GenericEncoder(template_fname='Ishigami.template',\n",
    "                                             delimiter='$',\n",
    "                                             target_filename='Ishigami_in.json')\n",
    "\n",
    "        decoder = uq.decoders.SimpleCSV(target_filename=\"output.csv\",\n",
    "                                        output_columns=[\"Ishigami\"])\n",
    "\n",
    "        execute = uq.actions.ExecuteLocal('python3 %s/Ishigami.py Ishigami_in.json' % (os.getcwd()))\n",
    "\n",
    "        actions = uq.actions.Actions(uq.actions.CreateRunDirectory(work_dir), \n",
    "                          uq.actions.Encode(encoder), execute, uq.actions.Decode(decoder))\n",
    "    else:\n",
    "        actions = uq.actions.Actions(uq.actions.ExecutePython(run_ishigami_model))\n",
    "\n",
    "    # Add the app (automatically set as current app)\n",
    "    my_campaign.add_app(name=\"Ishigami\", params=define_params(), actions=actions)\n",
    "\n",
    "    # Create the sampler\n",
    "    time_end = time.time()\n",
    "    times[1] = time_end-time_start\n",
    "    print('Time for phase 1 = %.3f' % (times[1]))\n",
    "\n",
    "    time_start = time.time()\n",
    "    # Associate a sampler with the campaign\n",
    "    # Latin HyperCube\n",
    "    sampler = uq.sampling.MCSampler(vary=define_vary(), n_mc_samples=n_mc_samples, rule='sobol')\n",
    "    # QMC method with Sobol sequence\n",
    "    #sampler = uq.sampling.QMCSampler(vary=define_vary(), n_mc_samples=n_mc_samples)\n",
    "    my_campaign.set_sampler(sampler)\n",
    "\n",
    "    # Will draw all (of the finite set of samples)\n",
    "    my_campaign.draw_samples()\n",
    "    print('Number of samples = %s' % my_campaign.get_active_sampler().count)\n",
    "\n",
    "    time_end = time.time()\n",
    "    times[2] = time_end-time_start\n",
    "    print('Time for phase 2 = %.3f' % (times[2]))\n",
    "\n",
    "    time_start = time.time()\n",
    "    # Run the cases\n",
    "    my_campaign.execute(sequential=True).collate(progress_bar=True)\n",
    "\n",
    "    time_end = time.time()\n",
    "    times[3] = time_end-time_start\n",
    "    print('Time for phase 3 = %.3f' % (times[3]))\n",
    "\n",
    "    time_start = time.time()\n",
    "    # Get the results\n",
    "    results_df = my_campaign.get_collation_result()\n",
    "\n",
    "    time_end = time.time()\n",
    "    times[4] = time_end-time_start\n",
    "    print('Time for phase 4 = %.3f' % (times[4]))\n",
    "\n",
    "    time_start = time.time()\n",
    "    # Post-processing analysis\n",
    "    results = my_campaign.analyse(qoi_cols=[\"Ishigami\"])\n",
    "        \n",
    "    time_end = time.time()\n",
    "    times[5] = time_end-time_start\n",
    "    print('Time for phase 5 = %.3f' % (times[5]))\n",
    "\n",
    "    time_start = time.time()\n",
    "    # Save the results\n",
    "    #pickle.dump(results, open('Ishigami_results.pickle','bw'))\n",
    "    time_end = time.time()\n",
    "    times[6] = time_end-time_start\n",
    "    print('Time for phase 6 = %.3f' % (times[6]))\n",
    "#\n",
    "    times[0] = time_end - time_start_whole\n",
    "\n",
    "    return results_df, results, times, n_mc_samples, my_campaign.get_active_sampler().count"
   ]
  },
  {
   "cell_type": "code",
   "execution_count": 8,
   "metadata": {
    "ExecuteTime": {
     "end_time": "2021-06-07T14:17:40.849526Z",
     "start_time": "2021-06-07T14:15:21.555355Z"
    },
    "code_folding": [
     0
    ],
    "scrolled": true
   },
   "outputs": [
    {
     "name": "stdout",
     "output_type": "stream",
     "text": [
      "Time for phase 1 = 0.041\n",
      "Number of samples = 500\n",
      "Time for phase 2 = 0.287\n"
     ]
    },
    {
     "name": "stderr",
     "output_type": "stream",
     "text": [
      "100%|███████████████████████████████████████████████████████████████████████████████████████████████████████████████████████████████████████████████| 500/500 [00:00<00:00, 1705.82it/s]\n"
     ]
    },
    {
     "name": "stdout",
     "output_type": "stream",
     "text": [
      "Time for phase 3 = 0.331\n",
      "Time for phase 4 = 0.018\n",
      "Vectorized bootstrapping\n",
      "Vectorized bootstrapping\n",
      "Vectorized bootstrapping\n",
      "Time for phase 5 = 0.584\n",
      "Time for phase 6 = 0.000\n",
      "Time for phase 1 = 0.014\n",
      "Number of samples = 2500\n",
      "Time for phase 2 = 1.331\n"
     ]
    },
    {
     "name": "stderr",
     "output_type": "stream",
     "text": [
      "100%|█████████████████████████████████████████████████████████████████████████████████████████████████████████████████████████████████████████████| 2500/2500 [00:01<00:00, 1749.57it/s]\n"
     ]
    },
    {
     "name": "stdout",
     "output_type": "stream",
     "text": [
      "Time for phase 3 = 1.560\n",
      "Time for phase 4 = 0.060\n",
      "Vectorized bootstrapping\n",
      "Vectorized bootstrapping\n",
      "Vectorized bootstrapping\n",
      "Time for phase 5 = 2.617\n",
      "Time for phase 6 = 0.000\n",
      "Time for phase 1 = 0.014\n",
      "Number of samples = 5000\n",
      "Time for phase 2 = 2.585\n"
     ]
    },
    {
     "name": "stderr",
     "output_type": "stream",
     "text": [
      "100%|█████████████████████████████████████████████████████████████████████████████████████████████████████████████████████████████████████████████| 5000/5000 [00:02<00:00, 1790.71it/s]\n"
     ]
    },
    {
     "name": "stdout",
     "output_type": "stream",
     "text": [
      "Time for phase 3 = 3.055\n",
      "Time for phase 4 = 0.218\n",
      "Vectorized bootstrapping\n",
      "Vectorized bootstrapping\n",
      "Vectorized bootstrapping\n",
      "Time for phase 5 = 4.946\n",
      "Time for phase 6 = 0.000\n",
      "Time for phase 1 = 0.013\n",
      "Number of samples = 10000\n",
      "Time for phase 2 = 4.889\n"
     ]
    },
    {
     "name": "stderr",
     "output_type": "stream",
     "text": [
      "100%|███████████████████████████████████████████████████████████████████████████████████████████████████████████████████████████████████████████| 10000/10000 [00:05<00:00, 1790.35it/s]\n"
     ]
    },
    {
     "name": "stdout",
     "output_type": "stream",
     "text": [
      "Time for phase 3 = 6.317\n",
      "Time for phase 4 = 0.225\n",
      "Vectorized bootstrapping\n",
      "Vectorized bootstrapping\n",
      "Vectorized bootstrapping\n",
      "Time for phase 5 = 10.093\n",
      "Time for phase 6 = 0.000\n",
      "Time for phase 1 = 0.013\n",
      "Number of samples = 25000\n",
      "Time for phase 2 = 12.269\n"
     ]
    },
    {
     "name": "stderr",
     "output_type": "stream",
     "text": [
      "100%|███████████████████████████████████████████████████████████████████████████████████████████████████████████████████████████████████████████| 25000/25000 [00:14<00:00, 1709.99it/s]\n"
     ]
    },
    {
     "name": "stdout",
     "output_type": "stream",
     "text": [
      "Time for phase 3 = 16.129\n",
      "Time for phase 4 = 0.788\n",
      "Vectorized bootstrapping\n",
      "Vectorized bootstrapping\n",
      "Vectorized bootstrapping\n",
      "Time for phase 5 = 24.465\n",
      "Time for phase 6 = 0.000\n",
      "Time for phase 1 = 0.015\n",
      "Number of samples = 40000\n",
      "Time for phase 2 = 19.727\n"
     ]
    },
    {
     "name": "stderr",
     "output_type": "stream",
     "text": [
      "100%|███████████████████████████████████████████████████████████████████████████████████████████████████████████████████████████████████████████| 40000/40000 [00:24<00:00, 1633.65it/s]\n"
     ]
    },
    {
     "name": "stdout",
     "output_type": "stream",
     "text": [
      "Time for phase 3 = 26.909\n",
      "Time for phase 4 = 1.404\n",
      "Vectorized bootstrapping\n",
      "Vectorized bootstrapping\n",
      "Vectorized bootstrapping\n",
      "Time for phase 5 = 41.627\n",
      "Time for phase 6 = 0.000\n",
      "Time for phase 1 = 0.014\n",
      "Number of samples = 50000\n",
      "Time for phase 2 = 24.701\n"
     ]
    },
    {
     "name": "stderr",
     "output_type": "stream",
     "text": [
      "100%|███████████████████████████████████████████████████████████████████████████████████████████████████████████████████████████████████████████| 50000/50000 [00:31<00:00, 1598.77it/s]\n"
     ]
    },
    {
     "name": "stdout",
     "output_type": "stream",
     "text": [
      "Time for phase 3 = 34.277\n",
      "Time for phase 4 = 1.542\n",
      "Vectorized bootstrapping\n",
      "Vectorized bootstrapping\n",
      "Vectorized bootstrapping\n",
      "Time for phase 5 = 52.721\n",
      "Time for phase 6 = 0.000\n"
     ]
    }
   ],
   "source": [
    "# Calculate the results for a range of MC points\n",
    "\n",
    "d = len(define_vary())\n",
    "\n",
    "R = {}\n",
    "for n_mc_samples in [100, 500, 1000, 2000, 5000, 8000, 10000]:\n",
    "    # the true number of MC samples used by Saltelli's algorithm\n",
    "    n = n_mc_samples * (d + 2)\n",
    "    R[n] = {}\n",
    "    (R[n]['results_df'], \n",
    "     R[n]['results'], \n",
    "     R[n]['times'], \n",
    "     R[n]['order'], \n",
    "     R[n]['number_of_samples']) = run_campaign(n_mc_samples=n_mc_samples, use_files=False)"
   ]
  },
  {
   "cell_type": "code",
   "execution_count": 9,
   "metadata": {
    "ExecuteTime": {
     "end_time": "2021-06-07T14:17:41.753581Z",
     "start_time": "2021-06-07T14:17:41.285527Z"
    },
    "code_folding": [
     0
    ]
   },
   "outputs": [
    {
     "data": {
      "text/html": [
       "<div>\n",
       "<style scoped>\n",
       "    .dataframe tbody tr th:only-of-type {\n",
       "        vertical-align: middle;\n",
       "    }\n",
       "\n",
       "    .dataframe tbody tr th {\n",
       "        vertical-align: top;\n",
       "    }\n",
       "\n",
       "    .dataframe thead th {\n",
       "        text-align: right;\n",
       "    }\n",
       "</style>\n",
       "<table border=\"1\" class=\"dataframe\">\n",
       "  <thead>\n",
       "    <tr style=\"text-align: right;\">\n",
       "      <th></th>\n",
       "      <th>Total</th>\n",
       "      <th>Phase 1</th>\n",
       "      <th>Phase 2</th>\n",
       "      <th>Phase 3</th>\n",
       "      <th>Phase 4</th>\n",
       "      <th>Phase 5</th>\n",
       "      <th>Phase 6</th>\n",
       "    </tr>\n",
       "  </thead>\n",
       "  <tbody>\n",
       "    <tr>\n",
       "      <th>100</th>\n",
       "      <td>1.260757</td>\n",
       "      <td>0.040516</td>\n",
       "      <td>0.286757</td>\n",
       "      <td>0.331316</td>\n",
       "      <td>0.018250</td>\n",
       "      <td>0.583718</td>\n",
       "      <td>0.000000e+00</td>\n",
       "    </tr>\n",
       "    <tr>\n",
       "      <th>500</th>\n",
       "      <td>5.582315</td>\n",
       "      <td>0.013734</td>\n",
       "      <td>1.331474</td>\n",
       "      <td>1.559944</td>\n",
       "      <td>0.059944</td>\n",
       "      <td>2.617055</td>\n",
       "      <td>0.000000e+00</td>\n",
       "    </tr>\n",
       "    <tr>\n",
       "      <th>1000</th>\n",
       "      <td>10.818045</td>\n",
       "      <td>0.014133</td>\n",
       "      <td>2.584934</td>\n",
       "      <td>3.054697</td>\n",
       "      <td>0.218218</td>\n",
       "      <td>4.945894</td>\n",
       "      <td>2.384186e-07</td>\n",
       "    </tr>\n",
       "    <tr>\n",
       "      <th>2000</th>\n",
       "      <td>21.537552</td>\n",
       "      <td>0.013226</td>\n",
       "      <td>4.889090</td>\n",
       "      <td>6.317368</td>\n",
       "      <td>0.224951</td>\n",
       "      <td>10.092670</td>\n",
       "      <td>2.384186e-07</td>\n",
       "    </tr>\n",
       "    <tr>\n",
       "      <th>5000</th>\n",
       "      <td>53.663493</td>\n",
       "      <td>0.013134</td>\n",
       "      <td>12.268547</td>\n",
       "      <td>16.128820</td>\n",
       "      <td>0.787628</td>\n",
       "      <td>24.465055</td>\n",
       "      <td>2.384186e-07</td>\n",
       "    </tr>\n",
       "    <tr>\n",
       "      <th>8000</th>\n",
       "      <td>89.682246</td>\n",
       "      <td>0.014748</td>\n",
       "      <td>19.727481</td>\n",
       "      <td>26.908590</td>\n",
       "      <td>1.403926</td>\n",
       "      <td>41.627187</td>\n",
       "      <td>2.384186e-07</td>\n",
       "    </tr>\n",
       "    <tr>\n",
       "      <th>10000</th>\n",
       "      <td>113.255918</td>\n",
       "      <td>0.014273</td>\n",
       "      <td>24.701281</td>\n",
       "      <td>34.277065</td>\n",
       "      <td>1.542012</td>\n",
       "      <td>52.721014</td>\n",
       "      <td>0.000000e+00</td>\n",
       "    </tr>\n",
       "  </tbody>\n",
       "</table>\n",
       "</div>"
      ],
      "text/plain": [
       "            Total   Phase 1    Phase 2    Phase 3   Phase 4    Phase 5  \\\n",
       "100      1.260757  0.040516   0.286757   0.331316  0.018250   0.583718   \n",
       "500      5.582315  0.013734   1.331474   1.559944  0.059944   2.617055   \n",
       "1000    10.818045  0.014133   2.584934   3.054697  0.218218   4.945894   \n",
       "2000    21.537552  0.013226   4.889090   6.317368  0.224951  10.092670   \n",
       "5000    53.663493  0.013134  12.268547  16.128820  0.787628  24.465055   \n",
       "8000    89.682246  0.014748  19.727481  26.908590  1.403926  41.627187   \n",
       "10000  113.255918  0.014273  24.701281  34.277065  1.542012  52.721014   \n",
       "\n",
       "            Phase 6  \n",
       "100    0.000000e+00  \n",
       "500    0.000000e+00  \n",
       "1000   2.384186e-07  \n",
       "2000   2.384186e-07  \n",
       "5000   2.384186e-07  \n",
       "8000   2.384186e-07  \n",
       "10000  0.000000e+00  "
      ]
     },
     "metadata": {},
     "output_type": "display_data"
    }
   ],
   "source": [
    "# produce a table of the time taken for various phases\n",
    "# the phases are:\n",
    "#   1: creation of campaign\n",
    "#   2: creation of samples\n",
    "#   3: running the cases\n",
    "#   4: calculation of statistics including Sobols\n",
    "#   5: returning of analysed results\n",
    "#   6: saving campaign and pickled results\n",
    "\n",
    "Timings = pd.DataFrame(np.array([R[r]['times'] for r in list(R.keys())]), \n",
    "             columns=['Total', 'Phase 1', 'Phase 2', 'Phase 3', 'Phase 4', 'Phase 5', 'Phase 6'], \n",
    "             index=[R[r]['order'] for r in list(R.keys())])\n",
    "# Timings.to_csv(open('Timings.csv', 'w'))\n",
    "display(Timings)"
   ]
  },
  {
   "cell_type": "code",
   "execution_count": 10,
   "metadata": {
    "tags": []
   },
   "outputs": [
    {
     "data": {
      "image/png": "[encoded data removed]",
      "text/plain": [
       "<Figure size 1200x400 with 3 Axes>"
      ]
     },
     "metadata": {},
     "output_type": "display_data"
    }
   ],
   "source": [
    "# plot the Sobol indices with bootstrap error bars versus the exact values of the (first-order) Sobol indices\n",
    "\n",
    "sobol_first_exact = {'x1': exact['S1'], 'x2': exact['S2'], 'x3': exact['S3']}\n",
    "\n",
    "N = [R[r]['number_of_samples'] for r in list(R.keys())]\n",
    "\n",
    "fig = plt.figure(figsize=[12,4])\n",
    "\n",
    "for idx, x in enumerate(sobol_first_exact.keys()):\n",
    "    ax = fig.add_subplot(1, d, idx + 1, xlabel='number of MC samples', title=x)\n",
    "    for n in N:\n",
    "        sobol = R[n]['results'].sobols_first('Ishigami')[x]\n",
    "        sobol_CI = R[n]['results']._get_sobols_first_conf('Ishigami', x)\n",
    "        yerr = [sobol - sobol_CI[0], sobol_CI[1] - sobol]\n",
    "        ax.errorbar(n, sobol, yerr=yerr, fmt='bo', label='MC estimate plus CI')\n",
    "        ax.plot(N, sobol_first_exact[x] * np.ones(len(N)), '--k', label='exact Sobol index')\n",
    "\n",
    "# avoid repeated legends\n",
    "handles, labels = plt.gca().get_legend_handles_labels()\n",
    "by_label = OrderedDict(zip(labels, handles))\n",
    "plt.legend(by_label.values(), by_label.keys(), frameon=False)\n",
    "plt.savefig('sobols_CI.png')"
   ]
  },
  {
   "cell_type": "code",
   "execution_count": 11,
   "metadata": {
    "ExecuteTime": {
     "end_time": "2021-06-07T14:17:45.822277Z",
     "start_time": "2021-06-07T14:17:45.419336Z"
    },
    "code_folding": [
     0
    ]
   },
   "outputs": [
    {
     "data": {
      "text/plain": [
       "<matplotlib.legend.Legend at 0x73b5c65b6430>"
      ]
     },
     "execution_count": 11,
     "metadata": {},
     "output_type": "execute_result"
    },
    {
     "data": {
      "image/png": "[encoded data removed]",
      "text/plain": [
       "<Figure size 640x480 with 1 Axes>"
      ]
     },
     "metadata": {},
     "output_type": "display_data"
    }
   ],
   "source": [
    "# plot the convergence of the first sobol to that of the highest order\n",
    "\n",
    "sobol_first_exact = {'x1': exact['S1'], 'x2': exact['S2'], 'x3': exact['S3']}\n",
    "\n",
    "N = [R[r]['number_of_samples'] for r in list(R.keys())]\n",
    "plt.figure()\n",
    "for v in list(R[N[0]]['results'].sobols_first('Ishigami').keys()):\n",
    "    plt.semilogy([n for n in N],\n",
    "                 [np.abs(R[n]['results'].sobols_first('Ishigami')[v] - sobol_first_exact[v]) for n in N],\n",
    "                 'o-',\n",
    "                 label=v)\n",
    "plt.xlabel('number of MC samples')\n",
    "plt.ylabel('ABSerror for 1st sobol compared to analytic')\n",
    "plt.legend(loc=0)"
   ]
  },
  {
   "cell_type": "code",
   "execution_count": null,
   "metadata": {},
   "outputs": [],
   "source": []
  }
 ],
 "metadata": {
  "jupytext": {
   "cell_metadata_filter": "-all",
   "executable": " /usr/bin/env python",
   "main_language": "python",
   "notebook_metadata_filter": "-all"
  },
  "kernelspec": {
   "display_name": "Python 3 (ipykernel)",
   "language": "python",
   "name": "python3"
  },
  "language_info": {
   "codemirror_mode": {
    "name": "ipython",
    "version": 3
   },
   "file_extension": ".py",
   "mimetype": "text/x-python",
   "name": "python",
   "nbconvert_exporter": "python",
   "pygments_lexer": "ipython3",
   "version": "3.9.20"
  },
  "latex_envs": {
   "LaTeX_envs_menu_present": true,
   "autoclose": false,
   "autocomplete": true,
   "bibliofile": "biblio.bib",
   "cite_by": "apalike",
   "current_citInitial": 1,
   "eqLabelWithNumbers": true,
   "eqNumInitial": 1,
   "hotkeys": {
    "equation": "Ctrl-E",
    "itemize": "Ctrl-I"
   },
   "labels_anchors": false,
   "latex_user_defs": false,
   "report_style_numbering": false,
   "user_envs_cfg": false
  }
 },
 "nbformat": 4,
 "nbformat_minor": 4
}
