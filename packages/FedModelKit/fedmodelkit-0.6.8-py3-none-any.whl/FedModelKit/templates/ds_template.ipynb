{
 "cells": [
  {
   "cell_type": "markdown",
   "metadata": {},
   "source": [
    "# Data Scientist (DS)"
   ]
  },
  {
   "cell_type": "markdown",
   "metadata": {},
   "source": [
    "Change `LOCAL_TEST` to True if you want to run the clients locally to test.   \n",
    "With `LOCAL_TEST = False`, please have your syftbox client running. Installation instructions here https://www.syftbox.net/."
   ]
  },
  {
   "cell_type": "code",
   "execution_count": null,
   "metadata": {},
   "outputs": [],
   "source": [
    "LOCAL_TEST = True"
   ]
  },
  {
   "cell_type": "markdown",
   "metadata": {},
   "source": [
    "## Some paths and constants "
   ]
  },
  {
   "cell_type": "code",
   "execution_count": null,
   "metadata": {},
   "outputs": [],
   "source": [
    "from pathlib import Path\n",
    "\n",
    "SYFTBOX_DATASET_NAME = \"pima-indians-diabetes-database\""
   ]
  },
  {
   "cell_type": "markdown",
   "metadata": {},
   "source": [
    "## Log into the data owners' datasites"
   ]
  },
  {
   "cell_type": "code",
   "execution_count": null,
   "metadata": {},
   "outputs": [],
   "source": [
    "if LOCAL_TEST:\n",
    "    from syft_rds.orchestra import setup_rds_server\n",
    "\n",
    "    print(\"Running locally!\")\n",
    "\n",
    "    DS = \"ds@openmined.org\"\n",
    "    print(\"DS email: \", DS)\n",
    "\n",
    "    DO1 = \"do1@openmined.org\"\n",
    "    DO2 = \"do2@openmined.org\"\n",
    "\n",
    "    ds_stack = setup_rds_server(email=DS, key=\"flwr\", root_dir=Path(\".\"))\n",
    "    do_client_1 = ds_stack.init_session(host=DO1)\n",
    "    do_client_2 = ds_stack.init_session(host=DO2)\n",
    "else:\n",
    "    import syft_rds as sy\n",
    "    from syft_core import Client\n",
    "\n",
    "    DS = Client.load().email\n",
    "    print(\"DS email: \", DS)\n",
    "\n",
    "    DO1 = \"flower-test-group-1@openmined.org\"\n",
    "    DO2 = \"flower-test-group-2@openmined.org\"\n",
    "\n",
    "    do_client_1 = sy.init_session(host=DO1)\n",
    "    print(\"Logged into: \", do_client_1.host)\n",
    "\n",
    "    do_client_2 = sy.init_session(host=DO2)\n",
    "    print(\"Logged into: \", do_client_2.host)\n",
    "\n",
    "do_clients = [do_client_1, do_client_2]\n",
    "do_emails = [DO1, DO2]"
   ]
  },
  {
   "cell_type": "markdown",
   "metadata": {},
   "source": [
    "## Explore the datasets"
   ]
  },
  {
   "cell_type": "code",
   "execution_count": null,
   "metadata": {},
   "outputs": [],
   "source": [
    "SYFTBOX_DATASET_NAME"
   ]
  },
  {
   "cell_type": "code",
   "execution_count": null,
   "metadata": {},
   "outputs": [],
   "source": [
    "mock_paths = []\n",
    "for client in do_clients:\n",
    "    dataset = client.dataset.get(name=SYFTBOX_DATASET_NAME)\n",
    "    mock_paths.append(dataset.get_mock_path())\n",
    "    print(f\"Client {client.host}'s dataset: \\n{dataset}\\n\")"
   ]
  },
  {
   "cell_type": "markdown",
   "metadata": {},
   "source": [
    "## Bootstrapping and run `syft_flwr` simulation"
   ]
  },
  {
   "cell_type": "code",
   "execution_count": null,
   "metadata": {},
   "outputs": [],
   "source": [
    "SYFT_FLWR_PROJECT_PATH = Path(\"./EXPERIMENT_NAME\")\n",
    "assert SYFT_FLWR_PROJECT_PATH.exists()"
   ]
  },
  {
   "cell_type": "code",
   "execution_count": null,
   "metadata": {},
   "outputs": [],
   "source": [
    "import syft_flwr\n",
    "\n",
    "try:\n",
    "    !rm -rf {SYFT_FLWR_PROJECT_PATH / \"main.py\"}\n",
    "    syft_flwr.bootstrap(SYFT_FLWR_PROJECT_PATH, aggregator=DS, datasites=do_emails)\n",
    "    print(\"Bootstrapped project successfully ✅\")\n",
    "except Exception as e:\n",
    "    print(e)"
   ]
  },
  {
   "cell_type": "markdown",
   "metadata": {},
   "source": [
    "## Run `flwr` and `syft_flwr` simulations (optional)"
   ]
  },
  {
   "cell_type": "code",
   "execution_count": null,
   "metadata": {},
   "outputs": [],
   "source": [
    "RUN_SIMULATION = True"
   ]
  },
  {
   "cell_type": "code",
   "execution_count": null,
   "metadata": {},
   "outputs": [],
   "source": [
    "if RUN_SIMULATION:\n",
    "    !flwr run {SYFT_FLWR_PROJECT_PATH}"
   ]
  },
  {
   "cell_type": "code",
   "execution_count": null,
   "metadata": {},
   "outputs": [],
   "source": [
    "# clean up\n",
    "!rm -rf {SYFT_FLWR_PROJECT_PATH / \"EXPERIMENT_NAME\" / \"__pycache__\"}\n",
    "!rm -rf weights/"
   ]
  },
  {
   "cell_type": "code",
   "execution_count": null,
   "metadata": {},
   "outputs": [],
   "source": [
    "mock_paths"
   ]
  },
  {
   "cell_type": "code",
   "execution_count": null,
   "metadata": {},
   "outputs": [],
   "source": [
    "if RUN_SIMULATION:\n",
    "    print(f\"running syft_flwr simulation with mock paths: {mock_paths}\")\n",
    "    syft_flwr.run(SYFT_FLWR_PROJECT_PATH, mock_paths)"
   ]
  },
  {
   "cell_type": "markdown",
   "metadata": {},
   "source": [
    "## Submit jobs"
   ]
  },
  {
   "cell_type": "markdown",
   "metadata": {},
   "source": [
    "<img src=\"./images/dsSendsJobs.png\" width=\"80%\" alt=\"DS Submits Jobs\">"
   ]
  },
  {
   "cell_type": "code",
   "execution_count": null,
   "metadata": {},
   "outputs": [],
   "source": [
    "# clean up before submitting jobs\n",
    "!rm -rf {SYFT_FLWR_PROJECT_PATH / \"EXPERIMENT_NAME\" / \"__pycache__\"}\n",
    "!rm -rf {SYFT_FLWR_PROJECT_PATH / \"simulation_logs\"}\n",
    "!rm -rf weights/"
   ]
  },
  {
   "cell_type": "code",
   "execution_count": null,
   "metadata": {},
   "outputs": [],
   "source": [
    "for client in do_clients:\n",
    "    print(f\"sending job to {client.host}\")\n",
    "    job = client.jobs.submit(\n",
    "        name=\"Syft Flower Experiment\",\n",
    "        description=\"Syft Flower Federated Learning Experiment\",\n",
    "        user_code_path=SYFT_FLWR_PROJECT_PATH,\n",
    "        dataset_name=SYFTBOX_DATASET_NAME,\n",
    "        tags=[\"federated learning\", \"fl\", \"syft_flwr\", \"flwr\"],\n",
    "        entrypoint=\"main.py\",\n",
    "    )\n",
    "    print(job)"
   ]
  },
  {
   "cell_type": "markdown",
   "metadata": {},
   "source": [
    "<img src=\"./images/dsDoneSubmittingJobs.png\" width=\"40%\" alt=\"DS waits for jobs to be approved\">"
   ]
  },
  {
   "cell_type": "markdown",
   "metadata": {},
   "source": [
    "## DS starts the FL server code"
   ]
  },
  {
   "cell_type": "code",
   "execution_count": null,
   "metadata": {},
   "outputs": [],
   "source": [
    "import os\n",
    "\n",
    "if LOCAL_TEST:\n",
    "    os.environ[\"SYFTBOX_CLIENT_CONFIG_PATH\"] = str(ds_stack.client.config_path)\n",
    "\n",
    "os.environ[\"LOGURU_LEVEL\"] = \"DEBUG\"\n",
    "os.environ[\"SYFT_FLWR_MSG_TIMEOUT\"] = \"60\"\n",
    "\n",
    "!uv run {str(SYFT_FLWR_PROJECT_PATH / \"main.py\")} --active"
   ]
  },
  {
   "cell_type": "markdown",
   "metadata": {},
   "source": [
    "By running the FL server code, the DS aggregates the models trained on DOs' private local data into an improved global model\n",
    "\n",
    "<img src=\"./images/dsAggregateModels.png\" width=\"30%\" alt=\"DS Aggregates Models\">"
   ]
  },
  {
   "cell_type": "markdown",
   "metadata": {},
   "source": [
    "## DS Observes the Results"
   ]
  },
  {
   "cell_type": "markdown",
   "metadata": {},
   "source": [
    "Now the DS can monitor the aggregated models trained no DO's private datasets in the `weights` folder"
   ]
  }
 ],
 "metadata": {
  "kernelspec": {
   "display_name": ".venv",
   "language": "python",
   "name": "python3"
  },
  "language_info": {
   "codemirror_mode": {
    "name": "ipython",
    "version": 3
   },
   "file_extension": ".py",
   "mimetype": "text/x-python",
   "name": "python",
   "nbconvert_exporter": "python",
   "pygments_lexer": "ipython3",
   "version": "3.12.9"
  }
 },
 "nbformat": 4,
 "nbformat_minor": 2
}
