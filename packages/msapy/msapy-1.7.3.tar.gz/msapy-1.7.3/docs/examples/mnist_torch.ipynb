{
 "cells": [
  {
   "attachments": {},
   "cell_type": "markdown",
   "metadata": {},
   "source": [
    "## MSA on PyTorch Network trained on MNIST \n",
    "\n",
    "This is an example of how we can perform **\"Multiperturbation Shapley value Analysis\"** on a PyTorch neural network. We train a three layer [input, hidden, output] network with 32 neurons in the hidden layer. We use MSA to analyse the contribution of each neuron in the hidden layer in accurately predicting the classes. "
   ]
  },
  {
   "cell_type": "code",
   "execution_count": 1,
   "metadata": {},
   "outputs": [],
   "source": [
    "%load_ext autoreload\n",
    "%autoreload 2"
   ]
  },
  {
   "cell_type": "code",
   "execution_count": 2,
   "metadata": {},
   "outputs": [],
   "source": [
    "# Imports\n",
    "import matplotlib.pyplot as plt\n",
    "import numpy as np\n",
    "import seaborn as sns\n",
    "# ---------\n",
    "from msapy import msa, utils as ut\n",
    "# ---------\n",
    "from functools import partial\n",
    "from typing import Union, Optional, List\n",
    "\n",
    "CM = 1 / 2.54\n",
    "SEED = 42\n",
    "RNG = np.random.default_rng(SEED)\n",
    "FIGPATH = \"figures/mnist/\""
   ]
  },
  {
   "cell_type": "code",
   "execution_count": 3,
   "metadata": {},
   "outputs": [],
   "source": [
    "import torch\n",
    "import torch.nn as nn\n",
    "import torch.optim as optim\n",
    "import torchvision.transforms as T\n",
    "\n",
    "from torch.utils.data import DataLoader, TensorDataset\n",
    "from torchvision import datasets\n",
    "from sklearn.metrics import accuracy_score, confusion_matrix"
   ]
  },
  {
   "cell_type": "code",
   "execution_count": 4,
   "metadata": {},
   "outputs": [
    {
     "data": {
      "text/plain": [
       "device(type='cpu')"
      ]
     },
     "execution_count": 4,
     "metadata": {},
     "output_type": "execute_result"
    }
   ],
   "source": [
    "# Device configuration\n",
    "device = torch.device('cpu')\n",
    "device"
   ]
  },
  {
   "attachments": {},
   "cell_type": "markdown",
   "metadata": {},
   "source": [
    "### Loading Data"
   ]
  },
  {
   "cell_type": "code",
   "execution_count": 5,
   "metadata": {},
   "outputs": [],
   "source": [
    "mnist_transforms = T.Lambda(lambda x: torch.flatten(x, 1)/255)\n",
    "\n",
    "train_data = datasets.MNIST(\n",
    "    root = 'data',\n",
    "    train = True,                         \n",
    "    transform = mnist_transforms, \n",
    "    download = True,            \n",
    ")\n",
    "\n",
    "test_data = datasets.MNIST(\n",
    "    root = 'data', \n",
    "    train = False, \n",
    "    transform = mnist_transforms\n",
    ")\n",
    "\n",
    "train_data = TensorDataset(mnist_transforms(train_data.data.to(device)), train_data.targets.to(device))\n",
    "test_data = TensorDataset(mnist_transforms(test_data.data.to(device)), test_data.targets.to(device))"
   ]
  },
  {
   "cell_type": "code",
   "execution_count": 6,
   "metadata": {},
   "outputs": [],
   "source": [
    "trainloader = DataLoader(train_data, \n",
    "                        batch_size=64, \n",
    "                        shuffle=True)\n",
    "    \n",
    "testloader = DataLoader(test_data, \n",
    "                        batch_size=1024)"
   ]
  },
  {
   "attachments": {},
   "cell_type": "markdown",
   "metadata": {},
   "source": [
    "### Model Definition"
   ]
  },
  {
   "cell_type": "code",
   "execution_count": 7,
   "metadata": {},
   "outputs": [],
   "source": [
    "class MNISTNet(nn.Module):\n",
    "    def __init__(self):\n",
    "        super(MNISTNet, self).__init__()\n",
    "        self.layer1 = nn.Linear(28*28, 32)\n",
    "        self.layer2 = nn.Sequential(nn.LeakyReLU(),\n",
    "                                    nn.Linear(32, 10))\n",
    "\n",
    "    def forward(self, x: torch.Tensor, lesion_idx: Optional[Union[int, List[int]]] = None) -> torch.Tensor:\n",
    "        \"\"\"forward function to calculate the scores for each class\n",
    "\n",
    "        Args:\n",
    "            x (torch.Tensor): data of shape [batch_size, 28*28]\n",
    "            lesion_idx (Optional[Union[int,List[int]]], optional): the neuron that we want to lesion in the hidden layer1. Defaults to None i.e. no lesioning performed.\n",
    "\n",
    "        Returns:\n",
    "            torch.Tensor: scores for each class\n",
    "        \"\"\"\n",
    "        out = self.layer1(x)\n",
    "\n",
    "        if lesion_idx:\n",
    "            out[:, lesion_idx] = 0  # set the value to 0 for the lesioned neuron\n",
    "\n",
    "        return self.layer2(out)\n",
    "\n",
    "\n",
    "model = MNISTNet().to(device)\n"
   ]
  },
  {
   "attachments": {},
   "cell_type": "markdown",
   "metadata": {},
   "source": [
    "### Training the Model"
   ]
  },
  {
   "cell_type": "code",
   "execution_count": 8,
   "metadata": {},
   "outputs": [],
   "source": [
    "loss_func = nn.CrossEntropyLoss()\n",
    "optimizer = optim.Adam(model.parameters(), lr = 0.01)"
   ]
  },
  {
   "cell_type": "code",
   "execution_count": 9,
   "metadata": {},
   "outputs": [
    {
     "name": "stderr",
     "output_type": "stream",
     "text": [
      "/home/sdixit/miniconda3/envs/msapy/lib/python3.8/site-packages/torch/autograd/__init__.py:173: UserWarning: CUDA initialization: The NVIDIA driver on your system is too old (found version 9010). Please update your GPU driver by downloading and installing a new version from the URL: http://www.nvidia.com/Download/index.aspx Alternatively, go to: https://pytorch.org to install a PyTorch version that has been compiled with your version of the CUDA driver. (Triggered internally at  /opt/conda/conda-bld/pytorch_1659484657607/work/c10/cuda/CUDAFunctions.cpp:109.)\n",
      "  Variable._execution_engine.run_backward(  # Calls into the C++ engine to run the backward pass\n"
     ]
    },
    {
     "name": "stdout",
     "output_type": "stream",
     "text": [
      "[1,   400] loss: 0.343\n",
      "[1,   800] loss: 0.215\n",
      "[2,   400] loss: 0.157\n",
      "[2,   800] loss: 0.160\n",
      "Finished Training\n"
     ]
    }
   ],
   "source": [
    "for epoch in range(2):  # loop over the dataset multiple times\n",
    "\n",
    "    running_loss = 0.0\n",
    "    for i, data in enumerate(trainloader, 0):\n",
    "        # get the inputs; data is a list of [inputs, labels]\n",
    "        inputs, labels = data\n",
    "        # zero the parameter gradients\n",
    "        optimizer.zero_grad()\n",
    "\n",
    "        # forward + backward + optimize\n",
    "        outputs = model(inputs)\n",
    "        loss = loss_func(outputs, labels)\n",
    "        loss.backward()\n",
    "        optimizer.step()\n",
    "\n",
    "        # print statistics\n",
    "        running_loss += loss.item()\n",
    "        if i % 400 == 399:    # print every 200 mini-batches\n",
    "            print(f'[{epoch + 1}, {i + 1:5d}] loss: {running_loss / 400:.3f}')\n",
    "            running_loss = 0.0\n",
    "\n",
    "print('Finished Training')\n"
   ]
  },
  {
   "attachments": {},
   "cell_type": "markdown",
   "metadata": {},
   "source": [
    "## MSA"
   ]
  },
  {
   "cell_type": "code",
   "execution_count": 10,
   "metadata": {},
   "outputs": [],
   "source": [
    "@torch.no_grad()\n",
    "def evaluate_model(lesion_idx: Optional[Union[int, List[int]]] = None, num_batches: int = -1, score_fn=accuracy_score):\n",
    "    \"\"\"return the accuracy of the model on test dataset\n",
    "\n",
    "    Args:\n",
    "        lesion_idx (Optional[Union[int,List[int]]], optional): the neuron that we want to lesion in the hidden layer1. Defaults to None i.e. no lesioning performed.\n",
    "        num_batches (int, optional): the number of batches we want to test our model. Defaults to -1 i.e. all data\n",
    "\n",
    "    Returns:\n",
    "        float: test accuracy\n",
    "    \"\"\"\n",
    "\n",
    "    targets = []\n",
    "    preds = []\n",
    "    for i, data in enumerate(testloader):\n",
    "        images, labels = data\n",
    "        # calculate outputs by running images through the network\n",
    "        outputs = model(images, lesion_idx)\n",
    "        # the class with the highest score is what we choose as prediction\n",
    "        _, predicted = torch.max(outputs.data, 1)\n",
    "        preds.append(predicted)\n",
    "        targets.append(labels)\n",
    "\n",
    "        if i == (num_batches-1):\n",
    "            break\n",
    "\n",
    "    return score_fn(torch.concat(preds).cpu(), torch.concat(targets).cpu())\n",
    "\n",
    "def accuracy_each_class(targets, preds):\n",
    "    matrix = confusion_matrix(targets, preds)\n",
    "    acc = []\n",
    "    for i, val in enumerate(matrix.diagonal()/(matrix.sum(axis=1)+ 1e-6)):\n",
    "        acc.append(val)\n",
    "\n",
    "    return np.array(acc)\n",
    "    "
   ]
  },
  {
   "cell_type": "code",
   "execution_count": 11,
   "metadata": {},
   "outputs": [
    {
     "name": "stdout",
     "output_type": "stream",
     "text": [
      "the accuracy of the model on the first batch without leasoning is: 0.9580078125\n"
     ]
    }
   ],
   "source": [
    "print(f\"the accuracy of the model on the first batch without leasoning is: {evaluate_model(num_batches=1)}\")"
   ]
  },
  {
   "cell_type": "code",
   "execution_count": 12,
   "metadata": {},
   "outputs": [
    {
     "name": "stdout",
     "output_type": "stream",
     "text": [
      "total number of possible lesions: 4294967296\n"
     ]
    }
   ],
   "source": [
    "ground_truth_elements = list(range(32)) #Indices for the neurons in the hidden layer\n",
    "print(f'total number of possible lesions: {2**len(ground_truth_elements)}')"
   ]
  },
  {
   "attachments": {},
   "cell_type": "markdown",
   "metadata": {},
   "source": [
    "Now we perform the MSA to calculate the contributions for each neuron\n",
    "\n",
    "Note: You might want to change the device to cpu while running MSA if you have to load the data into the GPU at every iteration. This could become a bottleneck. If your data is already on the gpu than it's not a problem"
   ]
  },
  {
   "cell_type": "code",
   "execution_count": 13,
   "metadata": {},
   "outputs": [],
   "source": [
    "shapley_table = msa.interface(\n",
    "    elements=ground_truth_elements,\n",
    "    n_permutations=1000, # might want to increase it for better results\n",
    "    objective_function=partial(evaluate_model, score_fn=accuracy_score, num_batches=1), #only the first batch to save time. But the batch size is 1024 i.e ~100 images per class\n",
    "    rng=RNG)"
   ]
  },
  {
   "cell_type": "code",
   "execution_count": 14,
   "metadata": {},
   "outputs": [
    {
     "data": {
      "image/png": "[encoded data removed]",
      "text/plain": [
       "<Figure size 900x600 with 1 Axes>"
      ]
     },
     "metadata": {
      "needs_background": "light"
     },
     "output_type": "display_data"
    }
   ],
   "source": [
    "shapley_table.plot_shapley_ranks(150, xlabel=\"Shapley values\", ylabel=\"Elements\",\n",
    "                                 title=\"Shapley values for neurons in hidden layer\", savepath=f\"{FIGPATH}Shapley.pdf\")"
   ]
  },
  {
   "attachments": {},
   "cell_type": "markdown",
   "metadata": {},
   "source": [
    "We can also analyse the contributions of each neuron w.r.t each class by changing the objective function to return a dictionary of accuracies instead of the average accuracy for the whole dataset. Notice that the objective function also returns a dictionary of shapley tables in case the objective function returns a dictionary."
   ]
  },
  {
   "cell_type": "code",
   "execution_count": 15,
   "metadata": {},
   "outputs": [],
   "source": [
    "shapley_table = msa.interface(\n",
    "    elements=ground_truth_elements,\n",
    "    n_permutations=1000, # might want to increase it for better results\n",
    "    objective_function=partial(evaluate_model, score_fn=accuracy_each_class, num_batches=1), #only the first batch to save time. But the batch size is 1024 i.e ~100 images per class\n",
    "    n_parallel_games=-1, #parallelized over all CPU cores\n",
    "    rng=RNG)"
   ]
  },
  {
   "cell_type": "code",
   "execution_count": 24,
   "metadata": {},
   "outputs": [
    {
     "data": {
      "text/plain": [
       "<AxesSubplot:title={'center':'Shapley values for neurons in hidden layer'}, ylabel='Shapley values'>"
      ]
     },
     "execution_count": 24,
     "metadata": {},
     "output_type": "execute_result"
    },
    {
     "data": {
      "image/png": "[encoded data removed]",
      "text/plain": [
       "<Figure size 1080x576 with 1 Axes>"
      ]
     },
     "metadata": {
      "needs_background": "light"
     },
     "output_type": "display_data"
    }
   ],
   "source": [
    "shapley_table_digit0 = shapley_table.iloc[0]\n",
    "\n",
    "shapley_table_digit0.plot(kind='barh', figsize=(15,8), xlabel=\"Shapley values\", ylabel=\"Elements\",\n",
    "                                 title=\"Shapley values for neurons in hidden layer\")"
   ]
  },
  {
   "cell_type": "code",
   "execution_count": 25,
   "metadata": {},
   "outputs": [
    {
     "data": {
      "text/plain": [
       "<AxesSubplot:title={'center':'Shapley values for neurons in hidden layer'}, ylabel='Shapley values'>"
      ]
     },
     "execution_count": 25,
     "metadata": {},
     "output_type": "execute_result"
    },
    {
     "data": {
      "image/png": "[encoded data removed]",
      "text/plain": [
       "<Figure size 1080x576 with 1 Axes>"
      ]
     },
     "metadata": {
      "needs_background": "light"
     },
     "output_type": "display_data"
    }
   ],
   "source": [
    "shapley_table_digit8 = shapley_table.iloc[8]\n",
    "\n",
    "shapley_table_digit8.plot(kind='barh', figsize=(15,8), xlabel=\"Shapley values\", ylabel=\"Elements\",\n",
    "                                 title=\"Shapley values for neurons in hidden layer\")"
   ]
  }
 ],
 "metadata": {
  "kernelspec": {
   "display_name": "Python 3.9.7 ('msa')",
   "language": "python",
   "name": "python3"
  },
  "language_info": {
   "codemirror_mode": {
    "name": "ipython",
    "version": 3
   },
   "file_extension": ".py",
   "mimetype": "text/x-python",
   "name": "python",
   "nbconvert_exporter": "python",
   "pygments_lexer": "ipython3",
   "version": "3.8.13"
  },
  "orig_nbformat": 4,
  "vscode": {
   "interpreter": {
    "hash": "f3ee8401881d4e0fbeae4480430fcf6263b2e78af7d6ac3930e5fc51883706dd"
   }
  }
 },
 "nbformat": 4,
 "nbformat_minor": 2
}
