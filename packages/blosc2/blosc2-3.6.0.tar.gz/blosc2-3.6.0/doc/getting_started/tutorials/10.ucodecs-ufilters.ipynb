{
 "cells": [
  {
   "cell_type": "markdown",
   "metadata": {},
   "source": [
    "# User-defined codecs and filters\n",
    "\n",
    "Python-Blosc2 now has support for user-defined codecs and filters as Python functions. These will work as normal codecs or filters respectively following the order depicted below:\n",
    "\n",
    "<div>\n",
    "<img src=\"images/blosc2-pipeline.png\" width=\"500\"/>\n",
    "</div>\n",
    "\n",
    "So when compressing, the first step will be to apply the prefilter (if any), then the filter pipeline with a maximum of six filters and, last but not least, the codec. For decompressing, the order will be the other way around: first the codec, then the filter pipeline and finally the postfilter (if any).\n",
    "\n",
    "In this tutorial we will see how to create and use codecs and filters defined by yourself, so let's start by creating our schunk!"
   ]
  },
  {
   "cell_type": "markdown",
   "metadata": {},
   "source": [
    "## User-defined codecs\n",
    "\n",
    "Because a user-defined codec has Python code, we will not be able to use parallelism, so `nthreads` has to be 1 when compressing and decompressing:"
   ]
  },
  {
   "cell_type": "code",
   "execution_count": 1,
   "metadata": {
    "ExecuteTime": {
     "end_time": "2024-10-08T08:11:35.927616Z",
     "start_time": "2024-10-08T08:11:33.929462Z"
    },
    "pycharm": {
     "name": "#%%\n"
    }
   },
   "outputs": [],
   "source": [
    "import sys\n",
    "\n",
    "import numpy as np\n",
    "\n",
    "import blosc2\n",
    "\n",
    "dtype = np.dtype(np.int32)\n",
    "cparams = blosc2.CParams(nthreads=1, typesize=dtype.itemsize)\n",
    "dparams = blosc2.DParams(nthreads=1)\n",
    "\n",
    "chunk_len = 10_000\n",
    "schunk = blosc2.SChunk(chunksize=chunk_len * dtype.itemsize, cparams=cparams)"
   ]
  },
  {
   "cell_type": "markdown",
   "metadata": {
    "pycharm": {
     "name": "#%% md\n"
    }
   },
   "source": [
    "### Creating a codec\n",
    "\n",
    "To create a codec we need two functions: one for compressing (aka *encoder*) and another for decompressing (aka *decoder*). In this case, we will create a codec for repeated values, let's begin first with the *encoder* function:"
   ]
  },
  {
   "cell_type": "code",
   "execution_count": 2,
   "metadata": {
    "ExecuteTime": {
     "end_time": "2024-10-08T08:11:41.200886Z",
     "start_time": "2024-10-08T08:11:41.188272Z"
    },
    "pycharm": {
     "name": "#%%\n"
    }
   },
   "outputs": [],
   "source": [
    "def encoder(input, output, meta, schunk):\n",
    "    nd_input = input.view(dtype)\n",
    "    # Check if all the values are the same\n",
    "    if np.max(nd_input) == np.min(nd_input):\n",
    "        # output = [value, nrep]\n",
    "        output[0 : schunk.typesize] = input[0 : schunk.typesize]\n",
    "        byteorder = \"little\" if meta == 0 else \"big\"\n",
    "        n = nd_input.size.to_bytes(4, byteorder)\n",
    "        output[schunk.typesize : schunk.typesize + 4] = [n[i] for i in range(4)]\n",
    "        return schunk.typesize + 4\n",
    "    else:\n",
    "        # memcpy\n",
    "        return 0"
   ]
  },
  {
   "cell_type": "markdown",
   "metadata": {},
   "source": [
    "This function will receive the data input to compress as a ndarray of type uint8, the output to fill in the compressed buffer as a ndarray of type uint8 as well, the codec meta and the `SChunk` instance of the corresponding block that is being compressed. Furthermore, *encoder* must return the size of the compressed buffer in bytes. If it cannot compress the data, it must return 0 and Blosc2 will copy it. The image below depicts what our *encoder* does: \n",
    "\n",
    "<div>\n",
    "<img src=\"images/ucodecs-filters/encoder.png\" width=\"500\"/>\n",
    "</div>\n",
    "\n",
    "Now let's go for the *decoder*. Similarly to the previous function, it will receive the compressed input as a ndarray of type uint8, an output ndarray of type uint8 to fill it with the decompressed data, the codec meta and the corresponding `SChunk` instance as well.\n"
   ]
  },
  {
   "cell_type": "code",
   "execution_count": 3,
   "metadata": {
    "ExecuteTime": {
     "end_time": "2024-10-08T08:11:43.417236Z",
     "start_time": "2024-10-08T08:11:43.412230Z"
    },
    "pycharm": {
     "name": "#%%\n"
    }
   },
   "outputs": [],
   "source": [
    "def decoder(input, output, meta, schunk):\n",
    "    byteorder = \"little\" if meta == 0 else \"big\"\n",
    "    if byteorder == \"little\":\n",
    "        nd_input = input.view(\"<i4\")\n",
    "    else:\n",
    "        nd_input = input.view(\">i4\")\n",
    "    nd_output = output.view(\"i4\")\n",
    "    nd_output[0 : nd_input[1]] = [nd_input[0]] * nd_input[1]\n",
    "    return nd_input[1] * schunk.typesize"
   ]
  },
  {
   "cell_type": "markdown",
   "metadata": {},
   "source": [
    "As it is for decompressing, this function will return the size of the decompressed buffer in bytes. If a block was memcopied by Blosc2, it will take care of it without applying the *decoder*. This function will receive the output filled by the encoder as the input param, and will recreate the data again following this scheme: \n",
    "\n",
    "<div>\n",
    "<img src=\"images/ucodecs-filters/decoder.png\" width=\"500\"/>\n",
    "</div>"
   ]
  },
  {
   "cell_type": "markdown",
   "metadata": {
    "pycharm": {
     "name": "#%% md\n"
    }
   },
   "source": [
    "### Registering a codec\n",
    "\n",
    "Now that we have everything needed, we can register our codec! For that, we will choose an identifier between 160 and 255."
   ]
  },
  {
   "cell_type": "code",
   "execution_count": 4,
   "metadata": {
    "ExecuteTime": {
     "end_time": "2024-10-08T08:11:51.481622Z",
     "start_time": "2024-10-08T08:11:51.474227Z"
    },
    "pycharm": {
     "name": "#%%\n"
    }
   },
   "outputs": [],
   "source": [
    "codec_name = \"our_codec\"\n",
    "codec_id = 160\n",
    "blosc2.register_codec(codec_name, codec_id, encoder, decoder)"
   ]
  },
  {
   "cell_type": "markdown",
   "metadata": {
    "pycharm": {
     "name": "#%% md\n"
    }
   },
   "source": [
    "### Using a codec\n",
    "\n",
    "For actually using it, we will change our codec in the compression params using its id and, because in our particular case we want the codec to receive the original data with no changes, we will remove also the filters:"
   ]
  },
  {
   "cell_type": "code",
   "execution_count": 8,
   "metadata": {
    "ExecuteTime": {
     "end_time": "2024-10-08T08:16:59.500145Z",
     "start_time": "2024-10-08T08:16:59.382269Z"
    },
    "pycharm": {
     "name": "#%%\n"
    }
   },
   "outputs": [
    {
     "data": {
      "text/plain": [
       "{'codec': 160,\n",
       " 'codec_meta': 0,\n",
       " 'clevel': 1,\n",
       " 'use_dict': 0,\n",
       " 'typesize': 4,\n",
       " 'nthreads': 1,\n",
       " 'blocksize': 0,\n",
       " 'splitmode': <SplitMode.ALWAYS_SPLIT: 1>,\n",
       " 'filters': [<Filter.NOFILTER: 0>,\n",
       "  <Filter.NOFILTER: 0>,\n",
       "  <Filter.NOFILTER: 0>,\n",
       "  <Filter.NOFILTER: 0>,\n",
       "  <Filter.NOFILTER: 0>,\n",
       "  <Filter.NOFILTER: 0>],\n",
       " 'filters_meta': [0, 0, 0, 0, 0, 0]}"
      ]
     },
     "execution_count": 8,
     "metadata": {},
     "output_type": "execute_result"
    }
   ],
   "source": [
    "codec_meta = 0 if sys.byteorder == \"little\" else 1\n",
    "schunk.cparams = {\n",
    "    \"codec\": codec_id,\n",
    "    \"codec_meta\": codec_meta,\n",
    "    \"filters\": [blosc2.Filter.NOFILTER],\n",
    "    \"filters_meta\": [0],\n",
    "}\n",
    "schunk.cparams"
   ]
  },
  {
   "cell_type": "markdown",
   "metadata": {
    "pycharm": {
     "name": "#%% md\n"
    }
   },
   "source": [
    "\"Now we can check that our codec works well by appending and recovering some data:"
   ]
  },
  {
   "cell_type": "code",
   "execution_count": 6,
   "metadata": {
    "ExecuteTime": {
     "end_time": "2023-06-21T08:11:28.017057Z",
     "start_time": "2023-06-21T08:11:27.996370Z"
    },
    "pycharm": {
     "name": "#%%\n"
    }
   },
   "outputs": [
    {
     "name": "stdout",
     "output_type": "stream",
     "text": [
      "schunk cratio:  476.19\n"
     ]
    },
    {
     "data": {
      "text/plain": [
       "True"
      ]
     },
     "execution_count": 6,
     "metadata": {},
     "output_type": "execute_result"
    }
   ],
   "source": [
    "nchunks = 3\n",
    "fill_value = 1234\n",
    "data = np.full(chunk_len * nchunks, fill_value, dtype=dtype)\n",
    "schunk[0 : data.size] = data\n",
    "print(\"schunk cratio: \", round(schunk.cratio, 2))\n",
    "\n",
    "out = np.empty(data.shape, dtype=dtype)\n",
    "schunk.get_slice(out=out)\n",
    "\n",
    "np.array_equal(data, out)"
   ]
  },
  {
   "cell_type": "markdown",
   "metadata": {
    "pycharm": {
     "name": "#%% md\n"
    }
   },
   "source": [
    "Awesome, it works!\n",
    "\n",
    "However, if the values are not the same our codec will not compress anything. In the next section, we will create and use a filter and perform a little modification to our codec so that we can compress even if the data is made out of equally spaced values.\n",
    "\n",
    "## User-defined filters\n",
    "\n",
    "Once you get to do some codecs, filters are not different despite their goal is not to compress but to manipulate the data to make it easier to compress."
   ]
  },
  {
   "cell_type": "markdown",
   "metadata": {
    "pycharm": {
     "name": "#%% md\n"
    }
   },
   "source": [
    "### Creating a filter\n",
    "\n",
    "As for the codecs, to create a user-defined filter we will first need to create two functions: one for the compression process (aka *forward*) and another one for the decompression process (aka *backward*).\n",
    "\n",
    "Let's write first the *forward* function. Its signature is exactly the same as the *encoder* signature, the only difference is that the meta is the filter's meta. Regarding the return value though, the *forward* and *backward* functions do not have to return anything."
   ]
  },
  {
   "cell_type": "code",
   "execution_count": 7,
   "metadata": {
    "ExecuteTime": {
     "end_time": "2023-06-21T08:11:28.022020Z",
     "start_time": "2023-06-21T08:11:28.015340Z"
    },
    "pycharm": {
     "name": "#%%\n"
    }
   },
   "outputs": [],
   "source": [
    "def forward(input, output, meta, schunk):\n",
    "    nd_input = input.view(dtype)\n",
    "    nd_output = output.view(dtype)\n",
    "\n",
    "    start = nd_input[0]\n",
    "    nd_output[0] = start\n",
    "    nd_output[1:] = nd_input[1:] - nd_input[:-1]"
   ]
  },
  {
   "cell_type": "markdown",
   "metadata": {},
   "source": [
    "As you can see, our *forward* function keeps the start value, and then it computes the difference between each element and the one next to it just like the following image shows:\n",
    "\n",
    "\n",
    "<div>\n",
    "<img src=\"images/ucodecs-filters/forward.png\" width=\"400\"/>\n",
    "</div>\n",
    "\n",
    "For *backward* it happens something similar:"
   ]
  },
  {
   "cell_type": "code",
   "execution_count": 8,
   "metadata": {
    "ExecuteTime": {
     "end_time": "2023-06-21T08:11:28.096621Z",
     "start_time": "2023-06-21T08:11:28.025750Z"
    },
    "pycharm": {
     "name": "#%%\n"
    }
   },
   "outputs": [],
   "source": [
    "def backward(input, output, meta, schunk):\n",
    "    nd_input = input.view(dtype)\n",
    "    nd_output = output.view(dtype)\n",
    "\n",
    "    nd_output[0] = nd_input[0]\n",
    "    for i in range(1, nd_output.size):\n",
    "        nd_output[i] = nd_output[i - 1] + nd_input[i]"
   ]
  },
  {
   "cell_type": "markdown",
   "metadata": {
    "pycharm": {
     "name": "#%% md\n"
    }
   },
   "source": [
    "And its scheme will be:\n",
    "<div>\n",
    "<img src=\"images/ucodecs-filters/backward.png\" width=\"400\"/>\n",
    "</div>\n",
    "\n",
    "### Registering a filter\n",
    "\n",
    "Once we have the two required functions, we can register our filter. In the same way we did for the codecs, we have to choose an identifier between 160 and 255:"
   ]
  },
  {
   "cell_type": "code",
   "execution_count": 9,
   "metadata": {
    "ExecuteTime": {
     "end_time": "2023-06-21T08:11:28.114950Z",
     "start_time": "2023-06-21T08:11:28.036555Z"
    },
    "pycharm": {
     "name": "#%%\n"
    }
   },
   "outputs": [],
   "source": [
    "filter_id = 160\n",
    "blosc2.register_filter(filter_id, forward, backward)"
   ]
  },
  {
   "cell_type": "markdown",
   "metadata": {
    "pycharm": {
     "name": "#%% md\n"
    }
   },
   "source": [
    "### Using a filter in a SChunk\n",
    "\n",
    "To use the filter we will set it in the filter pipeline using its id:"
   ]
  },
  {
   "cell_type": "code",
   "execution_count": 10,
   "metadata": {
    "ExecuteTime": {
     "end_time": "2023-06-21T08:11:28.115569Z",
     "start_time": "2023-06-21T08:11:28.044957Z"
    },
    "pycharm": {
     "name": "#%%\n"
    }
   },
   "outputs": [
    {
     "data": {
      "text/plain": [
       "{'codec': 160,\n",
       " 'codec_meta': 0,\n",
       " 'clevel': 1,\n",
       " 'use_dict': 0,\n",
       " 'typesize': 4,\n",
       " 'nthreads': 1,\n",
       " 'blocksize': 0,\n",
       " 'splitmode': <SplitMode.ALWAYS_SPLIT: 1>,\n",
       " 'filters': [160,\n",
       "  <Filter.NOFILTER: 0>,\n",
       "  <Filter.NOFILTER: 0>,\n",
       "  <Filter.NOFILTER: 0>,\n",
       "  <Filter.NOFILTER: 0>,\n",
       "  <Filter.NOFILTER: 0>],\n",
       " 'filters_meta': [0, 0, 0, 0, 0, 0]}"
      ]
     },
     "execution_count": 10,
     "metadata": {},
     "output_type": "execute_result"
    }
   ],
   "source": [
    "schunk.cparams = {\"filters\": [filter_id], \"filters_meta\": [0]}\n",
    "schunk.cparams"
   ]
  },
  {
   "cell_type": "markdown",
   "metadata": {
    "collapsed": false,
    "jupyter": {
     "outputs_hidden": false
    }
   },
   "source": [
    "### Using a filter in a NDArray\n",
    "\n",
    "As for the NDArrays, the procedure will be the same: To use the filter we will set it in the filter pipeline using its id:"
   ]
  },
  {
   "cell_type": "code",
   "execution_count": 11,
   "metadata": {
    "ExecuteTime": {
     "end_time": "2023-06-21T08:11:28.115994Z",
     "start_time": "2023-06-21T08:11:28.064777Z"
    },
    "collapsed": false,
    "jupyter": {
     "outputs_hidden": false
    }
   },
   "outputs": [
    {
     "data": {
      "text/plain": [
       "{'codec': <Codec.ZSTD: 5>,\n",
       " 'codec_meta': 0,\n",
       " 'clevel': 1,\n",
       " 'use_dict': 0,\n",
       " 'typesize': 1,\n",
       " 'nthreads': 1,\n",
       " 'blocksize': 900,\n",
       " 'splitmode': <SplitMode.ALWAYS_SPLIT: 1>,\n",
       " 'filters': [160,\n",
       "  <Filter.NOFILTER: 0>,\n",
       "  <Filter.NOFILTER: 0>,\n",
       "  <Filter.NOFILTER: 0>,\n",
       "  <Filter.NOFILTER: 0>,\n",
       "  <Filter.NOFILTER: 0>],\n",
       " 'filters_meta': [0, 0, 0, 0, 0, 0]}"
      ]
     },
     "execution_count": 11,
     "metadata": {},
     "output_type": "execute_result"
    }
   ],
   "source": [
    "array = blosc2.zeros((30, 30))\n",
    "array.schunk.cparams = {\"filters\": [filter_id], \"filters_meta\": [0], \"nthreads\": 1}\n",
    "array.schunk.cparams"
   ]
  },
  {
   "cell_type": "markdown",
   "metadata": {
    "pycharm": {
     "name": "#%% md\n"
    }
   },
   "source": [
    "Next, we are going to create another codec to compress data passed by the filter. This will get the start value and the step when compressing, and will rebuild the data from those values when decompressing:"
   ]
  },
  {
   "cell_type": "code",
   "execution_count": 12,
   "metadata": {
    "ExecuteTime": {
     "end_time": "2023-06-21T08:11:28.116739Z",
     "start_time": "2023-06-21T08:11:28.079963Z"
    },
    "pycharm": {
     "name": "#%%\n"
    }
   },
   "outputs": [],
   "source": [
    "def encoder2(input, output, meta, schunk):\n",
    "    nd_input = input.view(dtype)\n",
    "    if np.min(nd_input[1:]) == np.max(nd_input[1:]):\n",
    "        output[0:4] = input[0:4]  # start\n",
    "        step = int(nd_input[1])\n",
    "        n = step.to_bytes(4, sys.byteorder)\n",
    "        output[4:8] = [n[i] for i in range(4)]\n",
    "        return 8\n",
    "    else:\n",
    "        # Not compressible, tell Blosc2 to do a memcpy\n",
    "        return 0\n",
    "\n",
    "\n",
    "def decoder2(input, output, meta, schunk):\n",
    "    nd_input = input.view(dtype)\n",
    "    nd_output = output.view(dtype)\n",
    "    nd_output[0] = nd_input[0]\n",
    "    nd_output[1:] = nd_input[1]\n",
    "\n",
    "    return nd_output.size * schunk.typesize"
   ]
  },
  {
   "cell_type": "markdown",
   "metadata": {},
   "source": [
    "Their corresponding schemes are as follows:\n",
    "\n",
    "<div>\n",
    "<img src=\"images/ucodecs-filters/encoder2.png\" width=\"500\"/>\n",
    "</div>\n",
    "\n",
    "<div>\n",
    "<img src=\"images/ucodecs-filters/decoder2.png\" width=\"500\"/>\n",
    "</div>\n",
    "\n",
    "As the previous id is already in use, we will register it with another identifier:"
   ]
  },
  {
   "cell_type": "code",
   "execution_count": 13,
   "metadata": {
    "ExecuteTime": {
     "end_time": "2023-06-21T08:11:28.117009Z",
     "start_time": "2023-06-21T08:11:28.087174Z"
    },
    "pycharm": {
     "name": "#%%\n"
    }
   },
   "outputs": [],
   "source": [
    "blosc2.register_codec(codec_name=\"our_codec2\", id=184, encoder=encoder2, decoder=decoder2)"
   ]
  },
  {
   "cell_type": "markdown",
   "metadata": {},
   "source": [
    "As done previously, we set it first to the `SChunk` instance:"
   ]
  },
  {
   "cell_type": "code",
   "execution_count": 14,
   "metadata": {
    "ExecuteTime": {
     "end_time": "2023-06-21T08:11:28.117372Z",
     "start_time": "2023-06-21T08:11:28.096832Z"
    },
    "pycharm": {
     "name": "#%%\n"
    }
   },
   "outputs": [],
   "source": [
    "schunk.cparams = {\n",
    "    \"codec\": 184,\n",
    "    \"codec_meta\": 0,\n",
    "}"
   ]
  },
  {
   "cell_type": "markdown",
   "metadata": {},
   "source": [
    "We will check that it actually works by updating the data:"
   ]
  },
  {
   "cell_type": "code",
   "execution_count": 15,
   "metadata": {
    "ExecuteTime": {
     "end_time": "2023-06-21T08:11:28.209548Z",
     "start_time": "2023-06-21T08:11:28.102992Z"
    },
    "pycharm": {
     "name": "#%%\n"
    }
   },
   "outputs": [
    {
     "name": "stdout",
     "output_type": "stream",
     "text": [
      "schunk's compression ratio:  476.19\n"
     ]
    },
    {
     "data": {
      "text/plain": [
       "True"
      ]
     },
     "execution_count": 15,
     "metadata": {},
     "output_type": "execute_result"
    }
   ],
   "source": [
    "new_data = np.arange(chunk_len, chunk_len * (nchunks + 1), dtype=dtype)\n",
    "\n",
    "schunk[:] = new_data\n",
    "print(\"schunk's compression ratio: \", round(schunk.cratio, 2))\n",
    "\n",
    "out = np.empty(new_data.shape, dtype=dtype)\n",
    "schunk.get_slice(out=out)\n",
    "np.array_equal(new_data, out)"
   ]
  },
  {
   "cell_type": "markdown",
   "metadata": {
    "pycharm": {
     "name": "#%% md\n"
    }
   },
   "source": [
    "As can be seen, we obtained a stunning compression ratio.\n",
    "\n",
    "So now, whenever you need it, you can register a codec or filter and use it in your data!\n"
   ]
  }
 ],
 "metadata": {
  "kernelspec": {
   "display_name": "Python 3 (ipykernel)",
   "language": "python",
   "name": "python3"
  },
  "language_info": {
   "codemirror_mode": {
    "name": "ipython",
    "version": 3
   },
   "file_extension": ".py",
   "mimetype": "text/x-python",
   "name": "python",
   "nbconvert_exporter": "python",
   "pygments_lexer": "ipython3",
   "version": "3.12.3"
  }
 },
 "nbformat": 4,
 "nbformat_minor": 4
}
