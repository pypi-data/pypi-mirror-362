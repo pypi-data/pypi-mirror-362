{
 "cells": [
  {
   "cell_type": "markdown",
   "metadata": {},
   "source": [
    "# Prefilters: compute before the filter pipeline\n",
    "\n",
    "Python-Blosc2 now has support for prefilters, fillers and postfilters.\n",
    "The prefilters are user defined functions that can be executed before compressing the data when filling a schunk. In this tutorial we will see how these work, so let's start by creating our schunk!"
   ]
  },
  {
   "cell_type": "markdown",
   "metadata": {},
   "source": [
    "## Prefilters\n",
    "\n",
    "Because a prefilter is a python function, we will not be able to use parallelism, so `nthreads` has to be 1 when compressing:"
   ]
  },
  {
   "cell_type": "code",
   "execution_count": 1,
   "metadata": {
    "ExecuteTime": {
     "end_time": "2023-06-20T10:58:06.082146Z",
     "start_time": "2023-06-20T10:58:04.368708Z"
    }
   },
   "outputs": [
    {
     "data": {
      "text/plain": "<blosc2.schunk.SChunk at 0x7faa59ebfd00>"
     },
     "execution_count": 1,
     "metadata": {},
     "output_type": "execute_result"
    }
   ],
   "source": [
    "import numpy as np\n",
    "\n",
    "import blosc2\n",
    "\n",
    "typesize = 4\n",
    "cparams = {\n",
    "    \"nthreads\": 1,\n",
    "    \"typesize\": typesize,\n",
    "}\n",
    "\n",
    "storage = {\n",
    "    \"cparams\": cparams,\n",
    "}\n",
    "\n",
    "chunk_len = 10_000\n",
    "schunk = blosc2.SChunk(chunksize=chunk_len * typesize, **storage)\n",
    "schunk"
   ]
  },
  {
   "cell_type": "markdown",
   "metadata": {},
   "source": [
    "Now that we have the schunk, we can create its prefilter.\n",
    "\n",
    "### Setting a prefilter\n",
    "\n",
    "For setting the prefilter, you will first have to create it as a function that receives three params: input, output and the offset in schunk where the block starts. Then, you will use a decorator and pass to it the input data type that the prefilter will receive and the output data type that it will fill and append to the schunk:"
   ]
  },
  {
   "cell_type": "code",
   "execution_count": 2,
   "metadata": {
    "ExecuteTime": {
     "end_time": "2023-06-20T10:58:07.065233Z",
     "start_time": "2023-06-20T10:58:07.047125Z"
    },
    "collapsed": false,
    "pycharm": {
     "name": "#%%\n"
    }
   },
   "outputs": [],
   "source": [
    "input_dtype = np.int32\n",
    "output_dtype = np.float32\n",
    "\n",
    "\n",
    "@schunk.prefilter(input_dtype, output_dtype)\n",
    "def prefilter(input, output, offset):\n",
    "    output[:] = input - np.pi + offset"
   ]
  },
  {
   "cell_type": "markdown",
   "metadata": {},
   "source": [
    "Awesome! Now each time we add data in the schunk, the prefilter will modify it before storing it. Let's append an array and see that the actual appended data has been modified:"
   ]
  },
  {
   "cell_type": "code",
   "execution_count": 3,
   "metadata": {
    "ExecuteTime": {
     "end_time": "2023-06-20T10:58:08.828271Z",
     "start_time": "2023-06-20T10:58:08.782599Z"
    }
   },
   "outputs": [
    {
     "name": "stdout",
     "output_type": "stream",
     "text": [
      "[0 1 2 3 4 5 6 7 8 9]\n",
      "[-3.1415927  -2.1415927  -1.1415926  -0.14159265  0.8584073   1.8584074\n",
      "  2.8584073   3.8584073   4.8584075   5.8584075 ]\n"
     ]
    }
   ],
   "source": [
    "buffer = np.arange(chunk_len * 100, dtype=input_dtype)\n",
    "schunk[: buffer.size] = buffer\n",
    "\n",
    "out = np.empty(10, dtype=output_dtype)\n",
    "schunk.get_slice(stop=10, out=out)\n",
    "print(buffer[:10])\n",
    "print(out)"
   ]
  },
  {
   "cell_type": "markdown",
   "metadata": {},
   "source": [
    "As you can see, the data was modified according to the prefilter function.\n",
    "\n",
    "### Removing a prefilter\n",
    "\n",
    "What if we don't want the prefilter to be executed anymore? Then you can remove the prefilter from the schunk just like so:"
   ]
  },
  {
   "cell_type": "code",
   "execution_count": 4,
   "metadata": {
    "ExecuteTime": {
     "end_time": "2023-06-20T10:58:11.237950Z",
     "start_time": "2023-06-20T10:58:11.230072Z"
    },
    "collapsed": false,
    "pycharm": {
     "name": "#%%\n"
    }
   },
   "outputs": [],
   "source": [
    "schunk.remove_prefilter(\"prefilter\")"
   ]
  },
  {
   "cell_type": "markdown",
   "metadata": {
    "collapsed": false
   },
   "source": [
    "### Re-enabling parallelism\n",
    "\n",
    "To take advantage again of multi-threading, you can change the number of threads when compressing to a higher number:"
   ]
  },
  {
   "cell_type": "code",
   "execution_count": 5,
   "metadata": {
    "ExecuteTime": {
     "end_time": "2023-06-20T10:58:13.903971Z",
     "start_time": "2023-06-20T10:58:13.885661Z"
    },
    "collapsed": false,
    "pycharm": {
     "name": "#%%\n"
    }
   },
   "outputs": [
    {
     "data": {
      "text/plain": "{'codec': <Codec.ZSTD: 5>,\n 'codec_meta': 0,\n 'clevel': 1,\n 'use_dict': 0,\n 'typesize': 4,\n 'nthreads': 8,\n 'blocksize': 0,\n 'splitmode': <SplitMode.ALWAYS_SPLIT: 1>,\n 'filters': [<Filter.NOFILTER: 0>,\n  <Filter.NOFILTER: 0>,\n  <Filter.NOFILTER: 0>,\n  <Filter.NOFILTER: 0>,\n  <Filter.NOFILTER: 0>,\n  <Filter.SHUFFLE: 1>],\n 'filters_meta': [0, 0, 0, 0, 0, 0]}"
     },
     "execution_count": 5,
     "metadata": {},
     "output_type": "execute_result"
    }
   ],
   "source": [
    "schunk.cparams = {\"nthreads\": 8}\n",
    "schunk.cparams"
   ]
  },
  {
   "cell_type": "markdown",
   "metadata": {
    "collapsed": false,
    "pycharm": {
     "name": "#%% md\n"
    }
   },
   "source": [
    "You can see that the only compression parameters changed where those in the dictionary.\n",
    "\n",
    "## Fillers\n",
    "\n",
    "So far, we have seen a way to set a function that will be executed each time we append some data. Now, we may instead want to fill an empty schunk with some more complex operation only once, and then update the data without being modified. This is where fillers come into play.\n",
    "\n",
    "A filler is a function that receives a tuple of inputs, an output and the offset where the block begins. First let's create another empty schunk:"
   ]
  },
  {
   "cell_type": "code",
   "execution_count": 6,
   "metadata": {
    "ExecuteTime": {
     "end_time": "2023-06-20T10:58:16.307126Z",
     "start_time": "2023-06-20T10:58:16.290698Z"
    },
    "collapsed": false,
    "pycharm": {
     "name": "#%%\n"
    }
   },
   "outputs": [],
   "source": [
    "schunk_fill = blosc2.SChunk(chunksize=chunk_len * typesize, **storage)"
   ]
  },
  {
   "cell_type": "markdown",
   "metadata": {
    "collapsed": false
   },
   "source": [
    "Next, we will create our filler function and associate it to the schunk with the decorator, passing the inputs tuple with their data type, an output dtype and the number of elements you want the schunk to have. We will use as an input our previous schunk that we created:"
   ]
  },
  {
   "cell_type": "code",
   "execution_count": 7,
   "metadata": {
    "ExecuteTime": {
     "end_time": "2023-06-20T10:58:18.034687Z",
     "start_time": "2023-06-20T10:58:18.000952Z"
    },
    "collapsed": false,
    "pycharm": {
     "name": "#%%\n"
    }
   },
   "outputs": [],
   "source": [
    "nelem = schunk.nbytes // schunk.typesize\n",
    "\n",
    "\n",
    "@schunk_fill.filler(((schunk, output_dtype),), np.int32, nelem)\n",
    "def filler(inputs_tuple, output, offset):\n",
    "    output[:] = inputs_tuple[0] + offset"
   ]
  },
  {
   "cell_type": "markdown",
   "metadata": {
    "collapsed": false,
    "pycharm": {
     "name": "#%% md\n"
    }
   },
   "source": [
    "Let's see how the appended data looks like:"
   ]
  },
  {
   "cell_type": "code",
   "execution_count": 8,
   "metadata": {
    "ExecuteTime": {
     "end_time": "2023-06-20T10:58:19.485489Z",
     "start_time": "2023-06-20T10:58:19.471362Z"
    },
    "collapsed": false,
    "pycharm": {
     "name": "#%%\n"
    }
   },
   "outputs": [
    {
     "data": {
      "text/plain": "array([     -3,      -2,      -1, ..., 2979993, 2979994, 2979995],\n      dtype=int32)"
     },
     "execution_count": 8,
     "metadata": {},
     "output_type": "execute_result"
    }
   ],
   "source": [
    "out = np.empty(nelem, dtype=np.int32)\n",
    "schunk_fill.get_slice(out=out)\n",
    "out"
   ]
  },
  {
   "cell_type": "markdown",
   "metadata": {
    "collapsed": false
   },
   "source": [
    "That looks right. What if we want to update the schunk?"
   ]
  },
  {
   "cell_type": "code",
   "execution_count": 9,
   "metadata": {
    "ExecuteTime": {
     "end_time": "2023-06-20T10:58:22.134258Z",
     "start_time": "2023-06-20T10:58:22.115229Z"
    },
    "collapsed": false,
    "pycharm": {
     "name": "#%%\n"
    }
   },
   "outputs": [
    {
     "data": {
      "text/plain": "array([      1,       1,       1, ..., 2979993, 2979994, 2979995],\n      dtype=int32)"
     },
     "execution_count": 9,
     "metadata": {},
     "output_type": "execute_result"
    }
   ],
   "source": [
    "new_data = np.ones(chunk_len, dtype=np.int32)\n",
    "\n",
    "schunk_fill[: new_data.size] = new_data\n",
    "schunk_fill.get_slice(out=out)\n",
    "out"
   ]
  },
  {
   "cell_type": "markdown",
   "metadata": {
    "collapsed": false
   },
   "source": [
    "As you can see, the filler function has not been applied to the new data. That makes sense because the filler, contrarily to a regular prefilter, is only active during the schunk creation.\n",
    "\n",
    "## Conclusions\n",
    "\n",
    "If you want a function to be applied each time before compressing some data, you will use a prefilter. But if you just want to use it once to fill an empty schunk, you may want to use a filler.\n",
    "\n",
    "Prefilters can also be applied to a NDArray data through its SChunk unidimensional chunks (`NDArray.schunk`).\n",
    "\n",
    "See the [next tutorial](12.postfilters.html) for a similar tutorial with postfilters."
   ]
  }
 ],
 "metadata": {
  "kernelspec": {
   "display_name": "Python 3 (ipykernel)",
   "language": "python",
   "name": "python3"
  },
  "language_info": {
   "codemirror_mode": {
    "name": "ipython",
    "version": 3
   },
   "file_extension": ".py",
   "mimetype": "text/x-python",
   "name": "python",
   "nbconvert_exporter": "python",
   "pygments_lexer": "ipython3",
   "version": "3.10.4"
  }
 },
 "nbformat": 4,
 "nbformat_minor": 1
}
