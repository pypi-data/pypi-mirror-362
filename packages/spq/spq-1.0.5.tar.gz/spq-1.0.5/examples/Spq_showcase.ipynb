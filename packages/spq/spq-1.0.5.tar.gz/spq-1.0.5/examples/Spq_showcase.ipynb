{
  "nbformat": 4,
  "nbformat_minor": 0,
  "metadata": {
    "colab": {
      "name": "Spq-showcase.ipynb",
      "provenance": []
    },
    "kernelspec": {
      "name": "python3",
      "display_name": "Python 3"
    }
  },
  "cells": [
    {
      "cell_type": "markdown",
      "metadata": {
        "id": "lUsa0y9S7AsM"
      },
      "source": [
        "## Download SPQ from GitHub"
      ]
    },
    {
      "cell_type": "code",
      "metadata": {
        "id": "WucRyJgUt5ld",
        "outputId": "2d955a4f-ab42-43d2-cbd8-c30a95b8e305",
        "colab": {
          "base_uri": "https://localhost:8080/"
        }
      },
      "source": [
        "!git clone -q https://github.com/ketakopter/spq.git\n",
        "%cd -q spq"
      ],
      "execution_count": 1,
      "outputs": [
        {
          "output_type": "stream",
          "name": "stdout",
          "text": [
            "\n"
          ]
        }
      ]
    },
    {
      "cell_type": "code",
      "source": [
        "pip install -q ."
      ],
      "metadata": {
        "id": "F7tTawcZEqhs",
        "outputId": "c3e32eb2-2f11-4aaa-e4dc-18f993099ed5",
        "colab": {
          "base_uri": "https://localhost:8080/"
        }
      },
      "execution_count": 2,
      "outputs": [
        {
          "output_type": "stream",
          "name": "stdout",
          "text": [
            "  Installing build dependencies ... \u001b[?25l\u001b[?25hdone\n",
            "  Getting requirements to build wheel ... \u001b[?25l\u001b[?25hdone\n",
            "  Preparing metadata (pyproject.toml) ... \u001b[?25l\u001b[?25hdone\n",
            "  Building wheel for spq (pyproject.toml) ... \u001b[?25l\u001b[?25hdone\n"
          ]
        }
      ]
    },
    {
      "cell_type": "markdown",
      "metadata": {
        "id": "GPVkCuhW7HBX"
      },
      "source": [
        "## Load modules"
      ]
    },
    {
      "cell_type": "code",
      "metadata": {
        "id": "SEnfaDwxuA0f"
      },
      "source": [
        "# from spq.spq.aero import *, if you want everything available for interactive work\n",
        "from spq.spq.aero import Dist, Temp, Area"
      ],
      "execution_count": 3,
      "outputs": []
    },
    {
      "cell_type": "code",
      "metadata": {
        "id": "qeIAw0d-7LcJ"
      },
      "source": [
        "import numpy as np\n",
        "import matplotlib.pyplot as plt\n",
        "from tabulate import tabulate"
      ],
      "execution_count": 4,
      "outputs": []
    },
    {
      "cell_type": "markdown",
      "metadata": {
        "id": "BvD6Bkjz7M_K"
      },
      "source": [
        "## Start playing :-)"
      ]
    },
    {
      "cell_type": "markdown",
      "metadata": {
        "id": "HKp0sa5t9aP6"
      },
      "source": [
        "The most basic stuff: converting scalars."
      ]
    },
    {
      "cell_type": "code",
      "metadata": {
        "colab": {
          "base_uri": "https://localhost:8080/"
        },
        "id": "sxck9cnxuyzS",
        "outputId": "eda17223-7025-4641-808e-9d91b89d48da"
      },
      "source": [
        "a = Dist(34)\n",
        "print(a)\n",
        "print(a.km)\n",
        "print(a.ft)"
      ],
      "execution_count": 5,
      "outputs": [
        {
          "output_type": "stream",
          "name": "stdout",
          "text": [
            "34.0\n",
            "0.034\n",
            "111.54855643044618\n"
          ]
        }
      ]
    },
    {
      "cell_type": "code",
      "metadata": {
        "colab": {
          "base_uri": "https://localhost:8080/"
        },
        "id": "mf7DHver5pnN",
        "outputId": "f6d24b6a-c7b5-46a5-f49c-0dc219694b5a"
      },
      "source": [
        "b = Dist.fromft(15000)\n",
        "print(b.m)\n",
        "print(b.ft)"
      ],
      "execution_count": 6,
      "outputs": [
        {
          "output_type": "stream",
          "name": "stdout",
          "text": [
            "4572.0\n",
            "14999.999999999998\n"
          ]
        }
      ]
    },
    {
      "cell_type": "markdown",
      "metadata": {
        "id": "eHma7a2V9e5T"
      },
      "source": [
        "We can also work with numpy arrays."
      ]
    },
    {
      "cell_type": "code",
      "metadata": {
        "colab": {
          "base_uri": "https://localhost:8080/"
        },
        "id": "_7C_IS066isM",
        "outputId": "1b88589b-9e84-42c5-fc1e-54827983644a"
      },
      "source": [
        "c = Dist.fromft(np.arange(0, 31000, 10000))\n",
        "print(c)\n",
        "print(c.m)\n",
        "print(c.ft)"
      ],
      "execution_count": 7,
      "outputs": [
        {
          "output_type": "stream",
          "name": "stdout",
          "text": [
            "[0.0 3048.0 6096.0 9144.0]\n",
            "[   0. 3048. 6096. 9144.]\n",
            "[    0. 10000. 20000. 30000.]\n"
          ]
        }
      ]
    },
    {
      "cell_type": "code",
      "metadata": {
        "colab": {
          "base_uri": "https://localhost:8080/"
        },
        "id": "T-K5FPME8XtW",
        "outputId": "b8975435-5c11-4245-ba58-b7ae257b64d6"
      },
      "source": [
        "d = Dist.fromkm([30, 50, 75])\n",
        "print(tabulate(np.array([d.km, d.nm, d.mi]).transpose(), headers=['km', 'nm', 'mi']))"
      ],
      "execution_count": 8,
      "outputs": [
        {
          "output_type": "stream",
          "name": "stdout",
          "text": [
            "  km       nm       mi\n",
            "----  -------  -------\n",
            "  30  16.1987  18.6411\n",
            "  50  26.9978  31.0686\n",
            "  75  40.4968  46.6028\n"
          ]
        }
      ]
    },
    {
      "cell_type": "code",
      "metadata": {
        "colab": {
          "base_uri": "https://localhost:8080/"
        },
        "id": "p_nfhiEK9Bjk",
        "outputId": "9fd56d78-6b7c-4a5c-db21-84a0a7ac98a5"
      },
      "source": [
        "e_n = np.linspace(100, 1200, 12).reshape(4,3)\n",
        "e = Dist(e_n)\n",
        "print(e)\n",
        "print(e.km)"
      ],
      "execution_count": 9,
      "outputs": [
        {
          "output_type": "stream",
          "name": "stdout",
          "text": [
            "[[100.0 200.0 300.0]\n",
            " [400.0 500.0 600.0]\n",
            " [700.0 800.0 900.0]\n",
            " [1000.0 1100.0 1200.0]]\n",
            "[[0.1 0.2 0.3]\n",
            " [0.4 0.5 0.6]\n",
            " [0.7 0.8 0.9]\n",
            " [1.  1.1 1.2]]\n"
          ]
        }
      ]
    },
    {
      "cell_type": "markdown",
      "metadata": {
        "id": "PFMe0ybI-kIE"
      },
      "source": [
        "We can use the numpy filtering functionalities."
      ]
    },
    {
      "cell_type": "code",
      "metadata": {
        "colab": {
          "base_uri": "https://localhost:8080/"
        },
        "id": "82QJcQJj-Vk7",
        "outputId": "592c8d2c-c0c0-4d4c-8357-e4a33c99bf81"
      },
      "source": [
        "f = Dist.fromft(np.arange(1, 10))\n",
        "print(f.m)\n",
        "print(f[f > 1])\n",
        "print(f[f.ft > 2])\n",
        "print(f[f.ft > 2].ft)\n",
        "print(f[f > Dist.fromft(2)].ft)"
      ],
      "execution_count": 10,
      "outputs": [
        {
          "output_type": "stream",
          "name": "stdout",
          "text": [
            "[0.3048 0.6096 0.9144 1.2192 1.524  1.8288 2.1336 2.4384 2.7432]\n",
            "[1.2192 1.524 1.8288000000000002 2.1336 2.4384 2.7432000000000003]\n",
            "[0.9144000000000001 1.2192 1.524 1.8288000000000002 2.1336 2.4384\n",
            " 2.7432000000000003]\n",
            "[3. 4. 5. 6. 7. 8. 9.]\n",
            "[3. 4. 5. 6. 7. 8. 9.]\n"
          ]
        }
      ]
    },
    {
      "cell_type": "markdown",
      "metadata": {
        "id": "OjvlnXhTAaxj"
      },
      "source": [
        "The individual elements also have the unit attributes."
      ]
    },
    {
      "cell_type": "code",
      "metadata": {
        "colab": {
          "base_uri": "https://localhost:8080/"
        },
        "id": "1GLl-lGT-3r4",
        "outputId": "704e3c68-73d4-4557-d754-a0d540af1bf7"
      },
      "source": [
        "g = Dist.fromft(np.arange(1,10))\n",
        "g_e = g[3]\n",
        "print(g_e)\n",
        "print(g_e.ft)"
      ],
      "execution_count": 11,
      "outputs": [
        {
          "output_type": "stream",
          "name": "stdout",
          "text": [
            "1.2192\n",
            "3.9999999999999996\n"
          ]
        }
      ]
    },
    {
      "cell_type": "markdown",
      "metadata": {
        "id": "0SlD3vjUA98k"
      },
      "source": [
        "The numpy functions work with Pqs."
      ]
    },
    {
      "cell_type": "code",
      "metadata": {
        "colab": {
          "base_uri": "https://localhost:8080/"
        },
        "id": "ADvjJhCTAlLj",
        "outputId": "27977e75-f725-4da3-eb24-b2e509c58b39"
      },
      "source": [
        "h = Dist(np.arange(1,10))\n",
        "print(h)\n",
        "print(np.sqrt(h))\n",
        "print(h.km)\n",
        "print(np.exp(h.km))"
      ],
      "execution_count": 12,
      "outputs": [
        {
          "output_type": "stream",
          "name": "stdout",
          "text": [
            "[1.0 2.0 3.0 4.0 5.0 6.0 7.0 8.0 9.0]\n",
            "[1.         1.41421356 1.73205081 2.         2.23606798 2.44948974\n",
            " 2.64575131 2.82842712 3.        ]\n",
            "[0.001 0.002 0.003 0.004 0.005 0.006 0.007 0.008 0.009]\n",
            "[1.0010005  1.002002   1.0030045  1.00400801 1.00501252 1.00601804\n",
            " 1.00702456 1.00803209 1.00904062]\n"
          ]
        }
      ]
    },
    {
      "cell_type": "markdown",
      "metadata": {
        "id": "qaYobA5YHr9z"
      },
      "source": [
        "Numpy broadcasting also works."
      ]
    },
    {
      "cell_type": "code",
      "metadata": {
        "colab": {
          "base_uri": "https://localhost:8080/"
        },
        "id": "oym416GUHuYU",
        "outputId": "a77bedd2-6748-40e6-bc95-d94f969c4e55"
      },
      "source": [
        "i = Dist([[3,4],[8,9]])\n",
        "j = np.array([4,5])\n",
        "print(i*j)"
      ],
      "execution_count": 13,
      "outputs": [
        {
          "output_type": "stream",
          "name": "stdout",
          "text": [
            "[[12. 20.]\n",
            " [32. 45.]]\n"
          ]
        }
      ]
    },
    {
      "cell_type": "markdown",
      "metadata": {
        "id": "-9NY-k-wDZvK"
      },
      "source": [
        "The main idea is to perform calculations without caring about the input and output units. For example, if the SPQ package was loaded with SI main units, and the computations are done in SI units, everything will work as expected."
      ]
    },
    {
      "cell_type": "code",
      "metadata": {
        "id": "nCsLs-tfDhnd"
      },
      "source": [
        "def IsaTemp(h):\n",
        "  \"\"\"\n",
        "  Usual atmospheric temperature, dependent on altitude.\n",
        "  All quantities are expected to be in SI units.\n",
        "  \"\"\"\n",
        "  if h < 11000.0:\n",
        "    return 288.15 - 6.5 * h / 1000.\n",
        "  else:\n",
        "    return 216.65"
      ],
      "execution_count": 14,
      "outputs": []
    },
    {
      "cell_type": "code",
      "metadata": {
        "colab": {
          "base_uri": "https://localhost:8080/"
        },
        "id": "oAGY3L3MEjk7",
        "outputId": "6eb45632-b629-4209-d673-21386d48f57f"
      },
      "source": [
        "h = Dist.fromft(10000)\n",
        "t = IsaTemp(h)\n",
        "t = Temp(t)\n",
        "print(t.k)\n",
        "print(t.c)\n",
        "print(t.f)"
      ],
      "execution_count": 15,
      "outputs": [
        {
          "output_type": "stream",
          "name": "stdout",
          "text": [
            "268.33799999999997\n",
            "-4.812000000000012\n",
            "23.33839999999998\n"
          ]
        }
      ]
    },
    {
      "cell_type": "markdown",
      "metadata": {
        "id": "Ws3g7sg-C6rU"
      },
      "source": [
        "Plotting works too."
      ]
    },
    {
      "cell_type": "code",
      "metadata": {
        "colab": {
          "base_uri": "https://localhost:8080/",
          "height": 449
        },
        "id": "UlE1IdhJBIWh",
        "outputId": "4ba8aa02-f665-4fd3-da62-698c1b3c76c5"
      },
      "source": [
        "h = Dist.fromft(np.linspace(0, 50000, 50))\n",
        "t = Temp([IsaTemp(h_) for h_ in h]) # Could have been more compact if IsaTemp was coded in a numpy-friendly way.\n",
        "\n",
        "plt.plot(t.c, h.ft, '-o')\n",
        "plt.xlabel('temp (degC)')\n",
        "plt.ylabel('alt (ft)')\n",
        "plt.grid()"
      ],
      "execution_count": 16,
      "outputs": [
        {
          "output_type": "display_data",
          "data": {
            "text/plain": [
              "<Figure size 640x480 with 1 Axes>"
            ],
            "image/png": "[encoded data removed]"
          },
          "metadata": {}
        }
      ]
    },
    {
      "cell_type": "markdown",
      "metadata": {
        "id": "B8vtR7z6HJSl"
      },
      "source": [
        "SPQ does **not** handle operations between physical quantities. The computations work, but they don't result in some derived quantity. It is also not the intention of the module. You can always specify the resulting physical quantity."
      ]
    },
    {
      "cell_type": "code",
      "metadata": {
        "colab": {
          "base_uri": "https://localhost:8080/"
        },
        "id": "h0MqEVr7GjiG",
        "outputId": "616539b5-24f8-4b4a-af9f-a0f9789214d5"
      },
      "source": [
        "l = Dist([[3,4],[8,9]])\n",
        "m = Dist([4,5])\n",
        "n = l*m\n",
        "\n",
        "print(n)\n",
        "print()\n",
        "\n",
        "try:\n",
        "  print(n.sqm)\n",
        "except AttributeError as err:\n",
        "  print(err)\n",
        "  print()\n",
        "\n",
        "n = Area(n)\n",
        "print(n.sqm)\n",
        "print(n.sqft)"
      ],
      "execution_count": 17,
      "outputs": [
        {
          "output_type": "stream",
          "name": "stdout",
          "text": [
            "[[12. 20.]\n",
            " [32. 45.]]\n",
            "\n",
            "'numpy.ndarray' object has no attribute 'sqm'\n",
            "\n",
            "[[12. 20.]\n",
            " [32. 45.]]\n",
            "[[129.16692539 215.27820899]\n",
            " [344.44513438 484.37597022]]\n"
          ]
        }
      ]
    },
    {
      "cell_type": "code",
      "metadata": {
        "id": "SzjXPUWPH8GB"
      },
      "source": [],
      "execution_count": 17,
      "outputs": []
    }
  ]
}
