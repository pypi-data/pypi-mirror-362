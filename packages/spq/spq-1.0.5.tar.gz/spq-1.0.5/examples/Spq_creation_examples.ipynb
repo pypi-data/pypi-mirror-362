{
  "nbformat": 4,
  "nbformat_minor": 0,
  "metadata": {
    "colab": {
      "name": "Spq-creation-examples.ipynb",
      "provenance": [],
      "toc_visible": true
    },
    "kernelspec": {
      "name": "python3",
      "display_name": "Python 3"
    }
  },
  "cells": [
    {
      "cell_type": "markdown",
      "metadata": {
        "id": "qNz8jTJn2R_3"
      },
      "source": [
        "## Setup"
      ]
    },
    {
      "cell_type": "markdown",
      "metadata": {
        "id": "ytBXYRMXKWTt"
      },
      "source": [
        "### Download SPQ from GitHub"
      ]
    },
    {
      "cell_type": "code",
      "metadata": {
        "id": "yd9A09tPJ3O4"
      },
      "source": [
        "!git clone -q https://github.com/ketakopter/spq.git\n",
        "%cd -q spq"
      ],
      "execution_count": 1,
      "outputs": []
    },
    {
      "cell_type": "code",
      "source": [
        "pip install ."
      ],
      "metadata": {
        "id": "v20PRsnOm55y",
        "outputId": "e3a33821-e73f-41e0-888b-9e8c47c1d3e3",
        "colab": {
          "base_uri": "https://localhost:8080/"
        }
      },
      "execution_count": 2,
      "outputs": [
        {
          "output_type": "stream",
          "name": "stdout",
          "text": [
            "Processing /content/spq\n",
            "  Installing build dependencies ... \u001b[?25l\u001b[?25hdone\n",
            "  Getting requirements to build wheel ... \u001b[?25l\u001b[?25hdone\n",
            "  Preparing metadata (pyproject.toml) ... \u001b[?25l\u001b[?25hdone\n",
            "Requirement already satisfied: numpy in /usr/local/lib/python3.10/dist-packages (from spq==0.1.0) (1.26.4)\n",
            "Building wheels for collected packages: spq\n",
            "  Building wheel for spq (pyproject.toml) ... \u001b[?25l\u001b[?25hdone\n",
            "  Created wheel for spq: filename=spq-0.1.0-py3-none-any.whl size=13407 sha256=52d0761f5046c542d99a62f7f9d258a98db4696bcfdb6e639ec3ddadd32b4d38\n",
            "  Stored in directory: /tmp/pip-ephem-wheel-cache-819d6cds/wheels/c0/98/d6/3bb39041b87d23f58d81c67f16f5258185ee7666ad87a08c1f\n",
            "Successfully built spq\n",
            "Installing collected packages: spq\n",
            "Successfully installed spq-0.1.0\n"
          ]
        }
      ]
    },
    {
      "cell_type": "markdown",
      "metadata": {
        "id": "KlSqLEs-2Tmv"
      },
      "source": [
        "### Other modules"
      ]
    },
    {
      "cell_type": "code",
      "metadata": {
        "id": "1_OJz7gU2WDG"
      },
      "source": [
        "import numpy as np\n",
        "import matplotlib.pyplot as plt"
      ],
      "execution_count": 3,
      "outputs": []
    },
    {
      "cell_type": "markdown",
      "metadata": {
        "id": "DeG1Vx8KKfXz"
      },
      "source": [
        "## Load SPQ with a custom file"
      ]
    },
    {
      "cell_type": "markdown",
      "metadata": {
        "id": "SpuD8eACN8K8"
      },
      "source": [
        "The modules provided in the `spq.spq` package load the definitions from a json file. We can use the `spq.spq.environ` module to load them from the file specified in the `SPQFILE` environment variable.\n",
        "\n",
        "In the examples directory we have a json file ready to be used:"
      ]
    },
    {
      "cell_type": "code",
      "metadata": {
        "id": "AsO09wHjKydM"
      },
      "source": [
        "import json\n",
        "with open(\"examples/pq-roman.json\") as fp:\n",
        "  roman_units = json.load(fp)"
      ],
      "execution_count": 4,
      "outputs": []
    },
    {
      "cell_type": "code",
      "metadata": {
        "colab": {
          "base_uri": "https://localhost:8080/"
        },
        "id": "vRTVkeYbK0cO",
        "outputId": "4ab99c5f-101f-45ba-c2c1-4f4a07536079"
      },
      "source": [
        "roman_units['physical_quantities']"
      ],
      "execution_count": 5,
      "outputs": [
        {
          "output_type": "execute_result",
          "data": {
            "text/plain": [
              "[{'name': 'Dist',\n",
              "  'main_unit': 'pes',\n",
              "  'conversions': [{'from': 'pes', 'to': 'digitus', 'factor': 16.0},\n",
              "   {'from': 'pes', 'to': 'palmus', 'factor': 4.0},\n",
              "   {'from': 'passus', 'to': 'pes', 'factor': 5.0},\n",
              "   {'from': 'stadium', 'to': 'pes', 'factor': 625.0}]},\n",
              " {'name': 'Vol',\n",
              "  'main_unit': 'congius',\n",
              "  'conversions': [{'from': 'congius', 'to': 'quartarius', 'factor': 24.0},\n",
              "   {'from': 'amphora', 'to': 'congius', 'factor': 8.0}]}]"
            ]
          },
          "metadata": {},
          "execution_count": 5
        }
      ]
    },
    {
      "cell_type": "markdown",
      "metadata": {
        "id": "lAuw0oHLONhr"
      },
      "source": [
        "The syntax of the json file is pretty self-explanatory, but you can see in the sections below what to expect from unit conversions."
      ]
    },
    {
      "cell_type": "markdown",
      "metadata": {
        "id": "YCf65lS0cBKg"
      },
      "source": [
        "We can set the `SPQFILE` environment variable to load the physical quantities from there."
      ]
    },
    {
      "cell_type": "code",
      "metadata": {
        "id": "6m7JlaskSt4Q"
      },
      "source": [
        "import os\n",
        "os.environ[\"SPQFILE\"] = \"examples/pq-roman.json\""
      ],
      "execution_count": 6,
      "outputs": []
    },
    {
      "cell_type": "markdown",
      "metadata": {
        "id": "vyTN8TQ2dPnI"
      },
      "source": [
        "And now the `spq.spq.environ` module loads the physical quantities into its namespace."
      ]
    },
    {
      "cell_type": "code",
      "metadata": {
        "id": "dLnx6_KXTOVB"
      },
      "source": [
        "from spq.spq.environ import Dist, Vol"
      ],
      "execution_count": 7,
      "outputs": []
    },
    {
      "cell_type": "code",
      "metadata": {
        "colab": {
          "base_uri": "https://localhost:8080/"
        },
        "id": "c0u0As52TP9g",
        "outputId": "bf5c9590-8b71-4592-f56b-f32b94f606e7"
      },
      "source": [
        "print(Dist._units, Vol._units)"
      ],
      "execution_count": 8,
      "outputs": [
        {
          "output_type": "stream",
          "name": "stdout",
          "text": [
            "['pes', 'digitus', 'palmus', 'passus', 'stadium'] ['congius', 'quartarius', 'amphora']\n"
          ]
        }
      ]
    },
    {
      "cell_type": "code",
      "metadata": {
        "colab": {
          "base_uri": "https://localhost:8080/"
        },
        "id": "dyBqYd_RTaYK",
        "outputId": "27f02a79-72de-45a9-8dc1-1459fbfd5aac"
      },
      "source": [
        "a = Dist.frompes(1)\n",
        "print(a.digitus)\n",
        "print(a.palmus)\n",
        "print(a.pes)\n",
        "print(a.passus)\n",
        "print(a.stadium)"
      ],
      "execution_count": 9,
      "outputs": [
        {
          "output_type": "stream",
          "name": "stdout",
          "text": [
            "16.0\n",
            "4.0\n",
            "1.0\n",
            "0.2\n",
            "0.0016\n"
          ]
        }
      ]
    },
    {
      "cell_type": "code",
      "metadata": {
        "colab": {
          "base_uri": "https://localhost:8080/"
        },
        "id": "-c1aj0K7Tdoj",
        "outputId": "8380b295-013b-4ca2-8f0e-f3c377836c7c"
      },
      "source": [
        "print(Dist.fromstadium([1, 15]))"
      ],
      "execution_count": 10,
      "outputs": [
        {
          "output_type": "stream",
          "name": "stdout",
          "text": [
            "[625.0 9375.0]\n"
          ]
        }
      ]
    },
    {
      "cell_type": "code",
      "metadata": {
        "colab": {
          "base_uri": "https://localhost:8080/"
        },
        "id": "JAeUEn18Vbui",
        "outputId": "a15f8ce0-78d3-4345-be17-6fc6e8d12e87"
      },
      "source": [
        "print(Vol.fromamphora([1, 10]).congius)"
      ],
      "execution_count": 11,
      "outputs": [
        {
          "output_type": "stream",
          "name": "stdout",
          "text": [
            "[ 8. 80.]\n"
          ]
        }
      ]
    },
    {
      "cell_type": "code",
      "metadata": {
        "colab": {
          "base_uri": "https://localhost:8080/"
        },
        "id": "Dc2LhsbNVe6m",
        "outputId": "067116a6-bd77-4643-eed3-6ceb17d2fd8a"
      },
      "source": [
        "print(Vol.fromamphora(1).quartarius)"
      ],
      "execution_count": 12,
      "outputs": [
        {
          "output_type": "stream",
          "name": "stdout",
          "text": [
            "192.0\n"
          ]
        }
      ]
    },
    {
      "cell_type": "markdown",
      "metadata": {
        "id": "Iw6QMDITm4Sf"
      },
      "source": [
        "## Create physical quantities at runtime"
      ]
    },
    {
      "cell_type": "markdown",
      "source": [
        "The `spq.base` package provides the functionalities to create physical quantities in a variety of ways. Most of the utilities are available in the `spq.base.pq` (for physical quantities) module, whereas `spq.base.gr` provides functionalities related to graphs."
      ],
      "metadata": {
        "id": "OIdIBQND-8WY"
      }
    },
    {
      "cell_type": "markdown",
      "metadata": {
        "id": "7GEuv5aXoG8R"
      },
      "source": [
        "### Load from external file"
      ]
    },
    {
      "cell_type": "markdown",
      "metadata": {
        "id": "Z7b5ylx2nNsn"
      },
      "source": [
        "We can load into variables physical quantities from a json file. The quantities are loaded into a list. Thus, one \"needs\" to know what quantities are defined if they want to directly assing them to objects; the order is the same as in the json file."
      ]
    },
    {
      "cell_type": "code",
      "metadata": {
        "id": "7vZ42VYlVt1S"
      },
      "source": [
        "from spq.base.pq import createPqsFromJsonFile\n",
        "\n",
        "Dist, Vol = createPqsFromJsonFile(\"examples/pq-roman.json\")"
      ],
      "execution_count": 13,
      "outputs": []
    },
    {
      "cell_type": "markdown",
      "metadata": {
        "id": "gJHZIewxoKne"
      },
      "source": [
        "OK, now the quantities are the same as above..."
      ]
    },
    {
      "cell_type": "code",
      "metadata": {
        "colab": {
          "base_uri": "https://localhost:8080/"
        },
        "id": "A4L-of9WnuBd",
        "outputId": "0acbf16a-036d-4e8e-8093-0eff270f950d"
      },
      "source": [
        "print(Dist._units)"
      ],
      "execution_count": 14,
      "outputs": [
        {
          "output_type": "stream",
          "name": "stdout",
          "text": [
            "['pes', 'digitus', 'palmus', 'passus', 'stadium']\n"
          ]
        }
      ]
    },
    {
      "cell_type": "markdown",
      "metadata": {
        "id": "6e2MJyblsmCe"
      },
      "source": [
        "### Create a physical quantity from a dict"
      ]
    },
    {
      "cell_type": "markdown",
      "metadata": {
        "id": "vHCuIJuMssit"
      },
      "source": [
        "We can create a physical quantity if we specify the conversions between units, the main unit, and the name of the physical quantity in a dictionary. Basically, mimicking the structure of the json example.\n",
        "\n",
        "Note that we don't need to specify *all* conversions. If everything is connected, it will work."
      ]
    },
    {
      "cell_type": "code",
      "metadata": {
        "id": "_IMyigwSnwHh"
      },
      "source": [
        "astro_dict = {\n",
        "    'name': 'AstroDist',\n",
        "    'main_unit': 'm',\n",
        "    'conversions': [{'from': 'km',\n",
        "                     'to': 'm',\n",
        "                     'factor': 1.0e3},\n",
        "                    {'from': 'au',\n",
        "                     'to': 'km',\n",
        "                     'factor': 149.5e6},\n",
        "                    {'from': 'ly',\n",
        "                     'to': 'au',\n",
        "                     'factor': 63241.0},\n",
        "                    {'from': 'pc',\n",
        "                     'to': 'ly',\n",
        "                     'factor': 3.26156}\n",
        "    ]\n",
        "}"
      ],
      "execution_count": 15,
      "outputs": []
    },
    {
      "cell_type": "code",
      "metadata": {
        "id": "r4tViiGzt1iM"
      },
      "source": [
        "from spq.base.pq import createPqFromDict\n",
        "\n",
        "AstroDist = createPqFromDict(astro_dict)"
      ],
      "execution_count": 16,
      "outputs": []
    },
    {
      "cell_type": "code",
      "metadata": {
        "colab": {
          "base_uri": "https://localhost:8080/"
        },
        "id": "Uzyslewkt9JX",
        "outputId": "15bf5d5e-a053-4cfe-bc6b-88be0018c79b"
      },
      "source": [
        "AstroDist.fromly(1).m"
      ],
      "execution_count": 17,
      "outputs": [
        {
          "output_type": "execute_result",
          "data": {
            "text/plain": [
              "9454529500000000.0"
            ]
          },
          "metadata": {},
          "execution_count": 17
        }
      ]
    },
    {
      "cell_type": "code",
      "metadata": {
        "colab": {
          "base_uri": "https://localhost:8080/"
        },
        "id": "9JZ5IZjiuFLh",
        "outputId": "af9d7693-9a57-4b3c-e245-b243dc18dffb"
      },
      "source": [
        "AstroDist.fromkm(np.linspace(1.5e8, 1.5e9, 2)).au"
      ],
      "execution_count": 18,
      "outputs": [
        {
          "output_type": "execute_result",
          "data": {
            "text/plain": [
              "array([ 1.00334448, 10.03344482])"
            ]
          },
          "metadata": {},
          "execution_count": 18
        }
      ]
    },
    {
      "cell_type": "markdown",
      "metadata": {
        "id": "QTMaNZf74s3L"
      },
      "source": [
        "The conversions specified in a dict are simple linear scalings, although an offset can be specified too. Each conversion is a dictionary with keys `from`, `to`, `factor` and optionally `origin`.\n",
        "\n",
        "In the examples above it is clear how a simple linear conversion is specified. For example, to convert from _km_ to _m_, one has to multiply by a factor of 1000, thus the conversion is:\n",
        "\n",
        "```\n",
        "{'from'  : 'km',\n",
        " 'to'    : 'm',\n",
        " 'factor': 1000.0 }\n",
        "```"
      ]
    },
    {
      "cell_type": "markdown",
      "metadata": {
        "id": "ADVVvf395tCC"
      },
      "source": [
        "A typical example where an offset is needed is the temperature.\n",
        "\n",
        "The conversion from Celsius to Fahrenheit degrees is given by `degC = 5/9*(degF − 32)` or conversely `degF = 9/5*degC + 32`. The Kelvin is `K = degC + 273.15`, and the Rankine `degR = degF + 459.67`."
      ]
    },
    {
      "cell_type": "code",
      "metadata": {
        "id": "ugBIQA_g2NBU"
      },
      "source": [
        "temp_dict = {\n",
        "    'name': 'Temp',\n",
        "    'main_unit': 'K',\n",
        "    'conversions': [\n",
        "                    {\n",
        "                    \"from\": \"degC\",\n",
        "                    \"to\": \"degF\",\n",
        "                    \"factor\": 1.8,\n",
        "                    \"origin\": 32.0\n",
        "                },\n",
        "                {\n",
        "                    \"from\": \"degC\",\n",
        "                    \"to\": \"K\",\n",
        "                    \"factor\": 1.0,\n",
        "                    \"origin\": 273.15\n",
        "                },\n",
        "                {\n",
        "                    \"from\": \"degF\",\n",
        "                    \"to\": \"degR\",\n",
        "                    \"factor\": 1.0,\n",
        "                    \"origin\": 459.67\n",
        "                }\n",
        "    ]\n",
        "}"
      ],
      "execution_count": 19,
      "outputs": []
    },
    {
      "cell_type": "code",
      "metadata": {
        "id": "NZIFgMQd8J99"
      },
      "source": [
        "Temp = createPqFromDict(temp_dict)"
      ],
      "execution_count": 20,
      "outputs": []
    },
    {
      "cell_type": "code",
      "metadata": {
        "colab": {
          "base_uri": "https://localhost:8080/"
        },
        "id": "L6K8Bo_T8NMt",
        "outputId": "7c5f82cd-4b6e-4368-a6f9-66dcf8e8a416"
      },
      "source": [
        "print(Temp.fromdegC(0).K)\n",
        "print(Temp.fromdegC(0).degF)\n",
        "print(Temp.fromdegC(0).degR)"
      ],
      "execution_count": 21,
      "outputs": [
        {
          "output_type": "stream",
          "name": "stdout",
          "text": [
            "273.15\n",
            "32.0\n",
            "491.67\n"
          ]
        }
      ]
    },
    {
      "cell_type": "code",
      "metadata": {
        "colab": {
          "base_uri": "https://localhost:8080/"
        },
        "id": "5aVmXJmV8Ri9",
        "outputId": "0c838b68-9a33-49d5-e176-4fbdbff95367"
      },
      "source": [
        "print(Temp.fromdegR(0).K)"
      ],
      "execution_count": 22,
      "outputs": [
        {
          "output_type": "stream",
          "name": "stdout",
          "text": [
            "-5.684341886080802e-14\n"
          ]
        }
      ]
    },
    {
      "cell_type": "markdown",
      "metadata": {
        "id": "Zs9KwOkG-L9P"
      },
      "source": [
        "### Create a physical quantity with a list of conversions"
      ]
    },
    {
      "cell_type": "markdown",
      "metadata": {
        "id": "eA8NSqI3Datj"
      },
      "source": [
        "We can create a physical quantity from a list of conversions, with each item in the list being a tuple of the form `(from, to, factor, origin)` (the last one is optional and defaults to 0)."
      ]
    },
    {
      "cell_type": "markdown",
      "metadata": {
        "id": "-cF2jiA-DzDc"
      },
      "source": [
        "Let's create lists based on the SI prefix conversion factors."
      ]
    },
    {
      "cell_type": "code",
      "metadata": {
        "id": "s2YoLBrJ8VaY"
      },
      "source": [
        "si_prefixes = {\n",
        "  'Y': 1e24,\n",
        "  'Z': 1e21,\n",
        "  'E': 1e18,\n",
        "  'P': 1e15,\n",
        "  'T': 1e12,\n",
        "  'G': 1e9,\n",
        "  'M': 1e6,\n",
        "  'k': 1e3,\n",
        "  'h': 1e2,\n",
        "  'da': 1e1,\n",
        "  'd': 1e-1,\n",
        "  'c': 1e-2,\n",
        "  'm': 1e-3,\n",
        "  'μ': 1e-6,\n",
        "  'n': 1e-9,\n",
        "  'p': 1e-12,\n",
        "  'f': 1e-15,\n",
        "  'a': 1e-18,\n",
        "  'z': 1e-21,\n",
        "  'y': 1e-24\n",
        "}"
      ],
      "execution_count": 23,
      "outputs": []
    },
    {
      "cell_type": "code",
      "metadata": {
        "colab": {
          "base_uri": "https://localhost:8080/"
        },
        "id": "jRj0c_p6_0Bm",
        "outputId": "c702432b-5a3c-4f37-d3f3-f5f55935bdf5"
      },
      "source": [
        "length_units = [(k+'m', 'm', v) for k,v in si_prefixes.items()]\n",
        "length_units"
      ],
      "execution_count": 24,
      "outputs": [
        {
          "output_type": "execute_result",
          "data": {
            "text/plain": [
              "[('Ym', 'm', 1e+24),\n",
              " ('Zm', 'm', 1e+21),\n",
              " ('Em', 'm', 1e+18),\n",
              " ('Pm', 'm', 1000000000000000.0),\n",
              " ('Tm', 'm', 1000000000000.0),\n",
              " ('Gm', 'm', 1000000000.0),\n",
              " ('Mm', 'm', 1000000.0),\n",
              " ('km', 'm', 1000.0),\n",
              " ('hm', 'm', 100.0),\n",
              " ('dam', 'm', 10.0),\n",
              " ('dm', 'm', 0.1),\n",
              " ('cm', 'm', 0.01),\n",
              " ('mm', 'm', 0.001),\n",
              " ('μm', 'm', 1e-06),\n",
              " ('nm', 'm', 1e-09),\n",
              " ('pm', 'm', 1e-12),\n",
              " ('fm', 'm', 1e-15),\n",
              " ('am', 'm', 1e-18),\n",
              " ('zm', 'm', 1e-21),\n",
              " ('ym', 'm', 1e-24)]"
            ]
          },
          "metadata": {},
          "execution_count": 24
        }
      ]
    },
    {
      "cell_type": "code",
      "metadata": {
        "colab": {
          "base_uri": "https://localhost:8080/"
        },
        "id": "MjuwicEXD9nC",
        "outputId": "49b057c9-0aac-4947-91c6-a34a1a0a69d4"
      },
      "source": [
        "mass_units = [(k+'g', 'g', v, 0.0) for k,v in si_prefixes.items()] # The fourth item in the tuple is for example's sake.\n",
        "mass_units"
      ],
      "execution_count": 25,
      "outputs": [
        {
          "output_type": "execute_result",
          "data": {
            "text/plain": [
              "[('Yg', 'g', 1e+24, 0.0),\n",
              " ('Zg', 'g', 1e+21, 0.0),\n",
              " ('Eg', 'g', 1e+18, 0.0),\n",
              " ('Pg', 'g', 1000000000000000.0, 0.0),\n",
              " ('Tg', 'g', 1000000000000.0, 0.0),\n",
              " ('Gg', 'g', 1000000000.0, 0.0),\n",
              " ('Mg', 'g', 1000000.0, 0.0),\n",
              " ('kg', 'g', 1000.0, 0.0),\n",
              " ('hg', 'g', 100.0, 0.0),\n",
              " ('dag', 'g', 10.0, 0.0),\n",
              " ('dg', 'g', 0.1, 0.0),\n",
              " ('cg', 'g', 0.01, 0.0),\n",
              " ('mg', 'g', 0.001, 0.0),\n",
              " ('μg', 'g', 1e-06, 0.0),\n",
              " ('ng', 'g', 1e-09, 0.0),\n",
              " ('pg', 'g', 1e-12, 0.0),\n",
              " ('fg', 'g', 1e-15, 0.0),\n",
              " ('ag', 'g', 1e-18, 0.0),\n",
              " ('zg', 'g', 1e-21, 0.0),\n",
              " ('yg', 'g', 1e-24, 0.0)]"
            ]
          },
          "metadata": {},
          "execution_count": 25
        }
      ]
    },
    {
      "cell_type": "markdown",
      "metadata": {
        "id": "VPwco7AwEP7Y"
      },
      "source": [
        "Once we have a list of conversions, we need to create a graph out of it, which connects all units and contains all the conversion factors. The `spq.base.gr` module provides a function for that. The input list has only the one-direction conversion factors; the created graph contains the two-way linear conversions."
      ]
    },
    {
      "cell_type": "code",
      "metadata": {
        "id": "mxCGXb-jANpW"
      },
      "source": [
        "from spq.base.gr import graphOfLinearScaling\n",
        "\n",
        "length_graph = graphOfLinearScaling(length_units)\n",
        "mass_graph   = graphOfLinearScaling(mass_units)"
      ],
      "execution_count": 26,
      "outputs": []
    },
    {
      "cell_type": "markdown",
      "metadata": {
        "id": "Ic7FZAmQEfth"
      },
      "source": [
        "A physical quantity is created with a graph (as explained above, containing all the units and their conversions linked), and the main unit."
      ]
    },
    {
      "cell_type": "code",
      "metadata": {
        "id": "VUvFVLurAwGb"
      },
      "source": [
        "from spq.base.pq import createPq\n",
        "\n",
        "Length = createPq(length_graph, 'm')\n",
        "Mass   = createPq(mass_graph, 'kg')"
      ],
      "execution_count": 27,
      "outputs": []
    },
    {
      "cell_type": "markdown",
      "metadata": {
        "id": "DEBeq5C6FanH"
      },
      "source": [
        "Note that even if in the list of the mass units all related to `g`, the quantity can be initialized with a different main unit (in this case `kg`) and it will work properly."
      ]
    },
    {
      "cell_type": "code",
      "metadata": {
        "colab": {
          "base_uri": "https://localhost:8080/"
        },
        "id": "_0Ru-nR8BFHg",
        "outputId": "41ec7d04-1a8f-4229-cd6f-8380d502ce52"
      },
      "source": [
        "print(Length.frommm(1).μm)"
      ],
      "execution_count": 28,
      "outputs": [
        {
          "output_type": "stream",
          "name": "stdout",
          "text": [
            "1000.0\n"
          ]
        }
      ]
    },
    {
      "cell_type": "code",
      "metadata": {
        "id": "LcyE-D_XBIW0",
        "colab": {
          "base_uri": "https://localhost:8080/"
        },
        "outputId": "017fb5e5-9059-4f0c-bb57-c1f96ac91157"
      },
      "source": [
        "print(Mass.fromg(1))\n",
        "print(Mass.fromg(1).kg)\n",
        "print(Mass(1).kg)\n",
        "print(Mass.frommg(1).μg)"
      ],
      "execution_count": 29,
      "outputs": [
        {
          "output_type": "stream",
          "name": "stdout",
          "text": [
            "0.001\n",
            "0.001\n",
            "1.0\n",
            "1000.0\n"
          ]
        }
      ]
    },
    {
      "cell_type": "markdown",
      "metadata": {
        "id": "GeebPoI__BUK"
      },
      "source": [
        "### Create a physical quantity from a graph"
      ]
    },
    {
      "cell_type": "markdown",
      "metadata": {
        "id": "JGjA4NFm_GH7"
      },
      "source": [
        "The ultimate way of defining a physical quantity is with a graph containing the relationships between the units.\n",
        "\n",
        "Such a graph needs to contain units at the nodes (e.g. `m` or `ft`), and the edges represent the functions used to convert from one unit to another. SPQ assumes that the functions are of the form `to = from2to(from)`.\n",
        "\n",
        "For example, the edge joining `m` and `ft` would have a function performing `ft = m / 0.3048`. The edge joining `ft` and `m` would have the inverse conversion, `m = ft * 0.3048`.\n",
        "\n",
        "The `gr` module within the package has a small implementation of graphs."
      ]
    },
    {
      "cell_type": "code",
      "metadata": {
        "id": "Ot6e__Su9xhD"
      },
      "source": [
        "from spq.base.gr import Gr\n",
        "\n",
        "def m2ft(m):\n",
        "  return m / 0.3048\n",
        "def ft2m(ft):\n",
        "  return ft * 0.3048\n",
        "\n",
        "dist_graph = Gr()\n",
        "dist_graph.addEdge('m', 'ft', m2ft)\n",
        "dist_graph.addEdge('ft', 'm', ft2m)\n",
        "\n",
        "Dist = createPq(dist_graph, 'm')"
      ],
      "execution_count": 30,
      "outputs": []
    },
    {
      "cell_type": "code",
      "metadata": {
        "colab": {
          "base_uri": "https://localhost:8080/"
        },
        "id": "n41uKnYiSJz8",
        "outputId": "1ea57c9a-6deb-435f-8e5a-09c79b917c30"
      },
      "source": [
        "print(Dist(4.1))\n",
        "print(Dist(4.1).ft)\n",
        "print(Dist.fromft(3.53))\n",
        "print(Dist.fromft(3.53).m)\n",
        "print(Dist.fromft(3.53).ft)"
      ],
      "execution_count": 31,
      "outputs": [
        {
          "output_type": "stream",
          "name": "stdout",
          "text": [
            "4.1\n",
            "13.451443569553804\n",
            "1.075944\n",
            "1.075944\n",
            "3.53\n"
          ]
        }
      ]
    },
    {
      "cell_type": "markdown",
      "metadata": {
        "id": "e6tBhvI6TUGr"
      },
      "source": [
        "By using directly the graph, we are not limited to linear scaling."
      ]
    },
    {
      "cell_type": "code",
      "metadata": {
        "id": "75bEnGutSKoB"
      },
      "source": [
        "dist_graph.addEdge('m', 'expm', lambda m: np.exp(m))\n",
        "dist_graph.addEdge('expm', 'm', lambda expm: np.log(expm))\n",
        "\n",
        "Dist = createPq(dist_graph, 'm')"
      ],
      "execution_count": 32,
      "outputs": []
    },
    {
      "cell_type": "code",
      "metadata": {
        "colab": {
          "base_uri": "https://localhost:8080/",
          "height": 430
        },
        "id": "_eSdfCPIVdFn",
        "outputId": "b2115635-a65f-4f92-a1ac-862bd7a5cfd0"
      },
      "source": [
        "x = Dist(np.linspace(0, 2, 10))\n",
        "\n",
        "plt.plot(x.m, x.expm, '-o')\n",
        "plt.plot(x.m, x.ft, '-o')\n",
        "plt.grid()"
      ],
      "execution_count": 33,
      "outputs": [
        {
          "output_type": "display_data",
          "data": {
            "text/plain": [
              "<Figure size 640x480 with 1 Axes>"
            ],
            "image/png": "[encoded data removed]"
          },
          "metadata": {}
        }
      ]
    },
    {
      "cell_type": "code",
      "metadata": {
        "colab": {
          "base_uri": "https://localhost:8080/",
          "height": 430
        },
        "id": "J6zCsZ55W78x",
        "outputId": "e39c3c35-0081-488e-ce04-4a89f5f7541a"
      },
      "source": [
        "y = Dist.fromexpm(np.geomspace(1, np.exp(2), 10))\n",
        "\n",
        "plt.plot(y.m, y.expm, '-o')\n",
        "plt.plot(y.m, y.ft, '-o')\n",
        "plt.grid()"
      ],
      "execution_count": 34,
      "outputs": [
        {
          "output_type": "display_data",
          "data": {
            "text/plain": [
              "<Figure size 640x480 with 1 Axes>"
            ],
            "image/png": "[encoded data removed]"
          },
          "metadata": {}
        }
      ]
    },
    {
      "cell_type": "markdown",
      "metadata": {
        "id": "5kE2GqupaGFX"
      },
      "source": [
        "The physical quantity creation methods follow the path described above: the contents of the json file are converted into a list of dicts; a dict is converted into a list of tuples; the list of tuples is converted into a graph of linear scalings; the physical quantity is created from the graph."
      ]
    }
  ]
}