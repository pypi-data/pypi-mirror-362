{
 "cells": [
  {
   "cell_type": "code",
   "execution_count": null,
   "id": "057358d3",
   "metadata": {},
   "outputs": [],
   "source": [
    "import importlib\n",
    "from pathlib import Path\n",
    "\n",
    "import pandas as pd\n",
    "\n",
    "from cuery import utils\n",
    "from cuery.cli import set_env_vars\n",
    "from cuery.seo import keywords, seo, serps, traffic\n",
    "\n",
    "GDRIVE = Path(\"~/Google Drive/Shared drives/Solutions\").expanduser()\n",
    "DATA_DIR = GDRIVE / \"Research/tractor_v2/SEO/\"\n",
    "\n",
    "set_env_vars()"
   ]
  },
  {
   "cell_type": "markdown",
   "id": "765c25cf",
   "metadata": {},
   "source": [
    "# Keyword planner only"
   ]
  },
  {
   "cell_type": "code",
   "execution_count": null,
   "id": "a1ed4745",
   "metadata": {},
   "outputs": [],
   "source": [
    "importlib.reload(utils)\n",
    "importlib.reload(keywords)\n",
    "\n",
    "kwd_cfg = {\n",
    "    \"keywords\": [\"análisis de datos\"],\n",
    "    \"url\": None,\n",
    "    \"whole_site\": False,\n",
    "    \"ideas\": True,\n",
    "    \"max_ideas\": 20,\n",
    "    \"language\": \"es\",\n",
    "    \"country\": \"es\",\n",
    "    \"metrics_start\": \"2021-01\",\n",
    "    \"metrics_end\": \"2025-06\",\n",
    "}\n",
    "\n",
    "kwd_cfg = keywords.GoogleKwdConfig(**kwd_cfg)\n",
    "kwds = keywords.keywords(kwd_cfg)\n",
    "kwds"
   ]
  },
  {
   "cell_type": "code",
   "execution_count": null,
   "id": "5c2dcb5c",
   "metadata": {},
   "outputs": [],
   "source": [
    "kwds"
   ]
  },
  {
   "cell_type": "markdown",
   "id": "c46c1ff1",
   "metadata": {},
   "source": [
    "# Serps only"
   ]
  },
  {
   "cell_type": "code",
   "execution_count": null,
   "id": "4cd338c0",
   "metadata": {},
   "outputs": [],
   "source": [
    "importlib.reload(serps)\n",
    "\n",
    "serp_cfg = {\n",
    "    \"keywords\": [\"data analysis\", \"data science\", \"machine learning\", \"artificial intelligence\"],\n",
    "    \"batch_size\": 25,\n",
    "    \"resultsPerPage\": 10,\n",
    "    \"maxPagesPerQuery\": 1,\n",
    "    # \"country\": \"us\",\n",
    "    # \"searchLanguage\": \"en\",\n",
    "    # \"languageCode\": \"en\",\n",
    "    \"top_n\": 10,\n",
    "    \"brands\": [\"graphext\"],\n",
    "    \"competitors\": [\"powerbi\", \"tableau\", \"qlik\", \"looker\", \"google data studio\"],\n",
    "    \"topic_max_samples\": 100,\n",
    "}\n",
    "\n",
    "serp_cfg = serps.SerpConfig(**serp_cfg)\n",
    "srs = await serps.serps(serp_cfg, keywords=None)\n",
    "srs\n"
   ]
  },
  {
   "cell_type": "code",
   "execution_count": null,
   "id": "27092038",
   "metadata": {},
   "outputs": [],
   "source": [
    "result = kwds.merge(srs, how=\"left\", left_on=\"keyword\", right_on=\"term\")\n",
    "result"
   ]
  },
  {
   "cell_type": "code",
   "execution_count": null,
   "id": "34813994",
   "metadata": {},
   "outputs": [],
   "source": [
    "print(str(result.head()))"
   ]
  },
  {
   "cell_type": "markdown",
   "id": "f4a078b9",
   "metadata": {},
   "source": [
    "# Traffic only"
   ]
  },
  {
   "cell_type": "code",
   "execution_count": null,
   "id": "c6e01996",
   "metadata": {},
   "outputs": [],
   "source": [
    "importlib.reload(traffic)\n",
    "\n",
    "trf_cfg = {\"batch_size\": 25, \"apify_token\": None}\n",
    "trf_cfg = traffic.TrafficConfig(**trf_cfg)\n",
    "trf_cfg"
   ]
  },
  {
   "cell_type": "code",
   "execution_count": null,
   "id": "2cf1f063",
   "metadata": {},
   "outputs": [],
   "source": [
    "srs[[\"term\", \"domains\"]]"
   ]
  },
  {
   "cell_type": "code",
   "execution_count": null,
   "id": "96a80270",
   "metadata": {},
   "outputs": [],
   "source": [
    "trf = await traffic.keyword_traffic(srs.term, srs.domains, trf_cfg)\n",
    "trf"
   ]
  },
  {
   "cell_type": "code",
   "execution_count": null,
   "id": "0682cb99",
   "metadata": {},
   "outputs": [],
   "source": [
    "trfinp = srs[[\"term\", \"domains\"]].explode(\"domains\").reset_index(drop=True)\n",
    "trfinp"
   ]
  },
  {
   "cell_type": "code",
   "execution_count": null,
   "id": "fe274166",
   "metadata": {},
   "outputs": [],
   "source": [
    "trf = await traffic.fetch_domain_traffic(tuple(trfinp.domains), trf_cfg)\n",
    "trf"
   ]
  },
  {
   "cell_type": "code",
   "execution_count": null,
   "id": "e559b1a6",
   "metadata": {},
   "outputs": [],
   "source": [
    "trf"
   ]
  },
  {
   "cell_type": "markdown",
   "id": "dda9aa4f",
   "metadata": {},
   "source": [
    "# All in one"
   ]
  },
  {
   "cell_type": "code",
   "execution_count": null,
   "id": "7466292b",
   "metadata": {},
   "outputs": [],
   "source": [
    "importlib.reload(keywords)\n",
    "importlib.reload(serps)\n",
    "importlib.reload(traffic)\n",
    "importlib.reload(seo)"
   ]
  },
  {
   "cell_type": "code",
   "execution_count": null,
   "id": "fd4ad86e",
   "metadata": {},
   "outputs": [],
   "source": [
    "cfg = {\n",
    "    \"kwd_cfg\": {\n",
    "        \"keywords\": [\"análisis de datos\"],\n",
    "        \"url\": None,\n",
    "        \"whole_site\": False,\n",
    "        \"ideas\": True,\n",
    "        \"max_ideas\": 20,\n",
    "        \"language\": \"es\",\n",
    "        \"country\": \"es\",\n",
    "        \"metrics_start\": \"2021-01\",\n",
    "        \"metrics_end\": \"2025-06\",\n",
    "    },\n",
    "    \"serp_cfg\": {\n",
    "        \"batch_size\": 10,\n",
    "        \"resultsPerPage\": 10,\n",
    "        \"maxPagesPerQuery\": 1,\n",
    "        \"country\": \"us\",\n",
    "        \"searchLanguage\": \"en\",\n",
    "        \"languageCode\": \"en\",\n",
    "        \"top_n\": 10,\n",
    "        \"brands\": [\"graphext\"],\n",
    "        \"competitors\": [\n",
    "            \"dataiku\",\n",
    "            \"tableau\",\n",
    "            \"powerbi\",\n",
    "            \"power bi\",\n",
    "        ],\n",
    "    },\n",
    "    \"traffic_cfg\": {\n",
    "        \"batch_size\": 25,\n",
    "    },\n",
    "}\n",
    "\n",
    "seo_cfg = seo.SeoConfig(**cfg)\n",
    "seo_cfg"
   ]
  },
  {
   "cell_type": "code",
   "execution_count": null,
   "id": "930e9360",
   "metadata": {},
   "outputs": [],
   "source": [
    "result = await seo.seo_data(seo_cfg)\n",
    "result"
   ]
  },
  {
   "cell_type": "code",
   "execution_count": null,
   "id": "86967fbe",
   "metadata": {},
   "outputs": [],
   "source": [
    "from datetime import datetime\n",
    "\n",
    "now = datetime.now().time().strftime(\"%H_%M_%S\")\n",
    "fnm = f\"/Users/thomas/Downloads/keywords_gx_{now}.parquet\"\n",
    "result.to_parquet(fnm, index=False)"
   ]
  },
  {
   "cell_type": "code",
   "execution_count": null,
   "id": "7d24c634",
   "metadata": {},
   "outputs": [],
   "source": [
    "result = pd.read_parquet(\"...\")\n",
    "result"
   ]
  }
 ],
 "metadata": {
  "kernelspec": {
   "display_name": "cuery",
   "language": "python",
   "name": "python3"
  },
  "language_info": {
   "codemirror_mode": {
    "name": "ipython",
    "version": 3
   },
   "file_extension": ".py",
   "mimetype": "text/x-python",
   "name": "python",
   "nbconvert_exporter": "python",
   "pygments_lexer": "ipython3",
   "version": "3.11.13"
  }
 },
 "nbformat": 4,
 "nbformat_minor": 5
}
