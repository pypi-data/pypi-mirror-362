{
 "cells": [
  {
   "cell_type": "code",
   "execution_count": null,
   "id": "78fa6b3e",
   "metadata": {},
   "outputs": [],
   "source": [
    "from enum import Enum\n",
    "\n",
    "import instructor\n",
    "import pandas as pd\n",
    "from pydantic import Field\n",
    "\n",
    "from cuery import Prompt, Response, Task, pprint"
   ]
  },
  {
   "cell_type": "markdown",
   "id": "310808de",
   "metadata": {},
   "source": [
    "# Create a prompt from simple string\n",
    "The `Prompt` class expects a list of (jinja) messages with their roles. But it can also be instantiated from a simple string."
   ]
  },
  {
   "cell_type": "code",
   "execution_count": 2,
   "id": "a5a7681c",
   "metadata": {},
   "outputs": [
    {
     "data": {
      "text/html": [
       "<pre style=\"white-space:pre;overflow-x:auto;line-height:normal;font-family:Menlo,'DejaVu Sans Mono',consolas,'Courier New',monospace\">╭──────────────────────────────────────────────────── Prompt ─────────────────────────────────────────────────────╮\n",
       "│                                                                                                                 │\n",
       "│  Required: <span style=\"font-weight: bold\">[</span><span style=\"color: #008000; text-decoration-color: #008000\">'name'</span>, <span style=\"color: #008000; text-decoration-color: #008000\">'ingredients'</span><span style=\"font-weight: bold\">]</span>                                                                              │\n",
       "│                                                                                                                 │\n",
       "│ ╭─────────────────────────────────────────────────── <span style=\"color: #008000; text-decoration-color: #008000; font-weight: bold\">USER</span> ────────────────────────────────────────────────────╮ │\n",
       "│ │ <span style=\"color: #000000; text-decoration-color: #000000; background-color: #f0f0f0\">Hello </span><span style=\"color: #007020; text-decoration-color: #007020; background-color: #f0f0f0\">{{</span><span style=\"color: #bb60d5; text-decoration-color: #bb60d5; background-color: #f0f0f0\">name</span><span style=\"color: #007020; text-decoration-color: #007020; background-color: #f0f0f0\">}}</span><span style=\"color: #000000; text-decoration-color: #000000; background-color: #f0f0f0\">! </span><span style=\"color: #007020; text-decoration-color: #007020; background-color: #f0f0f0\">{%</span><span style=\"color: #000000; text-decoration-color: #000000; background-color: #f0f0f0\"> </span><span style=\"color: #007020; text-decoration-color: #007020; background-color: #f0f0f0; font-weight: bold\">for</span><span style=\"color: #000000; text-decoration-color: #000000; background-color: #f0f0f0\"> </span><span style=\"color: #bb60d5; text-decoration-color: #bb60d5; background-color: #f0f0f0\">item</span><span style=\"color: #000000; text-decoration-color: #000000; background-color: #f0f0f0\"> </span><span style=\"color: #007020; text-decoration-color: #007020; background-color: #f0f0f0; font-weight: bold\">in</span><span style=\"color: #000000; text-decoration-color: #000000; background-color: #f0f0f0\"> </span><span style=\"color: #bb60d5; text-decoration-color: #bb60d5; background-color: #f0f0f0\">ingredients</span><span style=\"color: #000000; text-decoration-color: #000000; background-color: #f0f0f0\"> </span><span style=\"color: #007020; text-decoration-color: #007020; background-color: #f0f0f0\">%}</span><span style=\"color: #000000; text-decoration-color: #000000; background-color: #f0f0f0\"> </span><span style=\"color: #007020; text-decoration-color: #007020; background-color: #f0f0f0\">{{</span><span style=\"color: #000000; text-decoration-color: #000000; background-color: #f0f0f0\"> </span><span style=\"color: #bb60d5; text-decoration-color: #bb60d5; background-color: #f0f0f0\">item</span><span style=\"color: #000000; text-decoration-color: #000000; background-color: #f0f0f0\"> </span><span style=\"color: #007020; text-decoration-color: #007020; background-color: #f0f0f0\">}}</span><span style=\"color: #000000; text-decoration-color: #000000; background-color: #f0f0f0\"> </span><span style=\"color: #007020; text-decoration-color: #007020; background-color: #f0f0f0\">{%</span><span style=\"color: #000000; text-decoration-color: #000000; background-color: #f0f0f0\"> </span><span style=\"color: #007020; text-decoration-color: #007020; background-color: #f0f0f0; font-weight: bold\">endfor</span><span style=\"color: #000000; text-decoration-color: #000000; background-color: #f0f0f0\"> </span><span style=\"color: #007020; text-decoration-color: #007020; background-color: #f0f0f0\">%}</span><span style=\"background-color: #f0f0f0\">                                      </span> │ │\n",
       "│ ╰─────────────────────────────────────────────────────────────────────────────────────────────────────────────╯ │\n",
       "╰─────────────────────────────────────────────────────────────────────────────────────────────────────────────────╯\n",
       "</pre>\n"
      ],
      "text/plain": [
       "╭──────────────────────────────────────────────────── Prompt ─────────────────────────────────────────────────────╮\n",
       "│                                                                                                                 │\n",
       "│  Required: \u001b[1m[\u001b[0m\u001b[32m'name'\u001b[0m, \u001b[32m'ingredients'\u001b[0m\u001b[1m]\u001b[0m                                                                              │\n",
       "│                                                                                                                 │\n",
       "│ ╭─────────────────────────────────────────────────── \u001b[1;32mUSER\u001b[0m ────────────────────────────────────────────────────╮ │\n",
       "│ │ \u001b[38;2;0;0;0;48;2;240;240;240mHello \u001b[0m\u001b[38;2;0;112;32;48;2;240;240;240m{{\u001b[0m\u001b[38;2;187;96;213;48;2;240;240;240mname\u001b[0m\u001b[38;2;0;112;32;48;2;240;240;240m}}\u001b[0m\u001b[38;2;0;0;0;48;2;240;240;240m! \u001b[0m\u001b[38;2;0;112;32;48;2;240;240;240m{%\u001b[0m\u001b[38;2;0;0;0;48;2;240;240;240m \u001b[0m\u001b[1;38;2;0;112;32;48;2;240;240;240mfor\u001b[0m\u001b[38;2;0;0;0;48;2;240;240;240m \u001b[0m\u001b[38;2;187;96;213;48;2;240;240;240mitem\u001b[0m\u001b[38;2;0;0;0;48;2;240;240;240m \u001b[0m\u001b[1;38;2;0;112;32;48;2;240;240;240min\u001b[0m\u001b[38;2;0;0;0;48;2;240;240;240m \u001b[0m\u001b[38;2;187;96;213;48;2;240;240;240mingredients\u001b[0m\u001b[38;2;0;0;0;48;2;240;240;240m \u001b[0m\u001b[38;2;0;112;32;48;2;240;240;240m%}\u001b[0m\u001b[38;2;0;0;0;48;2;240;240;240m \u001b[0m\u001b[38;2;0;112;32;48;2;240;240;240m{{\u001b[0m\u001b[38;2;0;0;0;48;2;240;240;240m \u001b[0m\u001b[38;2;187;96;213;48;2;240;240;240mitem\u001b[0m\u001b[38;2;0;0;0;48;2;240;240;240m \u001b[0m\u001b[38;2;0;112;32;48;2;240;240;240m}}\u001b[0m\u001b[38;2;0;0;0;48;2;240;240;240m \u001b[0m\u001b[38;2;0;112;32;48;2;240;240;240m{%\u001b[0m\u001b[38;2;0;0;0;48;2;240;240;240m \u001b[0m\u001b[1;38;2;0;112;32;48;2;240;240;240mendfor\u001b[0m\u001b[38;2;0;0;0;48;2;240;240;240m \u001b[0m\u001b[38;2;0;112;32;48;2;240;240;240m%}\u001b[0m\u001b[48;2;240;240;240m                                      \u001b[0m │ │\n",
       "│ ╰─────────────────────────────────────────────────────────────────────────────────────────────────────────────╯ │\n",
       "╰─────────────────────────────────────────────────────────────────────────────────────────────────────────────────╯\n"
      ]
     },
     "metadata": {},
     "output_type": "display_data"
    }
   ],
   "source": [
    "t = \"Hello {{name}}! {% for item in ingredients %} {{ item }} {% endfor %}\"\n",
    "p = Prompt.from_string(t)\n",
    "pprint(p)"
   ]
  },
  {
   "cell_type": "markdown",
   "id": "81097421",
   "metadata": {},
   "source": [
    "# Simplified client/model creation"
   ]
  },
  {
   "cell_type": "code",
   "execution_count": null,
   "id": "5b5db557",
   "metadata": {},
   "outputs": [
    {
     "data": {
      "text/html": [
       "<pre style=\"white-space:pre;overflow-x:auto;line-height:normal;font-family:Menlo,'DejaVu Sans Mono',consolas,'Courier New',monospace\">╭───────────────────────────────────────────────────── Task ──────────────────────────────────────────────────────╮\n",
       "│                                                                                                                 │\n",
       "│ ╭────────────────────────────────────────────────── Prompt ───────────────────────────────────────────────────╮ │\n",
       "│ │                                                                                                             │ │\n",
       "│ │  Required: <span style=\"font-weight: bold\">[</span><span style=\"color: #008000; text-decoration-color: #008000\">'dish'</span><span style=\"font-weight: bold\">]</span>                                                                                         │ │\n",
       "│ │                                                                                                             │ │\n",
       "│ │ ╭───────────────────────────────────────────────── <span style=\"color: #008000; text-decoration-color: #008000; font-weight: bold\">USER</span> ──────────────────────────────────────────────────╮ │ │\n",
       "│ │ │ <span style=\"color: #000000; text-decoration-color: #000000; background-color: #f0f0f0\">Generate a list of recipe ingredients to make '</span><span style=\"color: #007020; text-decoration-color: #007020; background-color: #f0f0f0\">{{</span><span style=\"color: #bb60d5; text-decoration-color: #bb60d5; background-color: #f0f0f0\">dish</span><span style=\"color: #007020; text-decoration-color: #007020; background-color: #f0f0f0\">}}</span><span style=\"color: #000000; text-decoration-color: #000000; background-color: #f0f0f0\">'.</span><span style=\"background-color: #f0f0f0\">                                              </span> │ │ │\n",
       "│ │ ╰─────────────────────────────────────────────────────────────────────────────────────────────────────────╯ │ │\n",
       "│ ╰─────────────────────────────────────────────────────────────────────────────────────────────────────────────╯ │\n",
       "│                                                                                                                 │\n",
       "│ ╭────────────<span style=\"font-weight: bold\"> RESPONSE: Recipe </span>─────────────╮                                                                   │\n",
       "│ │                                           │                                                                   │\n",
       "│ │ ╭─<span style=\"font-weight: bold\"> ingredients: list[str] </span>──────────────╮ │                                                                   │\n",
       "│ │ │                                       │ │                                                                   │\n",
       "│ │ │  A list of ingredients for the dish.  │ │                                                                   │\n",
       "│ │ │                                       │ │                                                                   │\n",
       "│ │ │  <span style=\"font-weight: bold\">{</span><span style=\"color: #008000; text-decoration-color: #008000\">'required'</span>: <span style=\"color: #00ff00; text-decoration-color: #00ff00; font-style: italic\">True</span><span style=\"font-weight: bold\">}</span>                   │ │                                                                   │\n",
       "│ │ │                                       │ │                                                                   │\n",
       "│ │ ╰───────────────────────────────────────╯ │                                                                   │\n",
       "│ │                                           │                                                                   │\n",
       "│ ╰───────────────────────────────────────────╯                                                                   │\n",
       "╰─────────────────────────────────────────────────────────────────────────────────────────────────────────────────╯\n",
       "</pre>\n"
      ],
      "text/plain": [
       "╭───────────────────────────────────────────────────── Task ──────────────────────────────────────────────────────╮\n",
       "│                                                                                                                 │\n",
       "│ ╭────────────────────────────────────────────────── Prompt ───────────────────────────────────────────────────╮ │\n",
       "│ │                                                                                                             │ │\n",
       "│ │  Required: \u001b[1m[\u001b[0m\u001b[32m'dish'\u001b[0m\u001b[1m]\u001b[0m                                                                                         │ │\n",
       "│ │                                                                                                             │ │\n",
       "│ │ ╭───────────────────────────────────────────────── \u001b[1;32mUSER\u001b[0m ──────────────────────────────────────────────────╮ │ │\n",
       "│ │ │ \u001b[38;2;0;0;0;48;2;240;240;240mGenerate a list of recipe ingredients to make '\u001b[0m\u001b[38;2;0;112;32;48;2;240;240;240m{{\u001b[0m\u001b[38;2;187;96;213;48;2;240;240;240mdish\u001b[0m\u001b[38;2;0;112;32;48;2;240;240;240m}}\u001b[0m\u001b[38;2;0;0;0;48;2;240;240;240m'.\u001b[0m\u001b[48;2;240;240;240m                                              \u001b[0m │ │ │\n",
       "│ │ ╰─────────────────────────────────────────────────────────────────────────────────────────────────────────╯ │ │\n",
       "│ ╰─────────────────────────────────────────────────────────────────────────────────────────────────────────────╯ │\n",
       "│                                                                                                                 │\n",
       "│ ╭────────────\u001b[1m RESPONSE: Recipe \u001b[0m─────────────╮                                                                   │\n",
       "│ │                                           │                                                                   │\n",
       "│ │ ╭─\u001b[1m ingredients: list[str] \u001b[0m──────────────╮ │                                                                   │\n",
       "│ │ │                                       │ │                                                                   │\n",
       "│ │ │  A list of ingredients for the dish.  │ │                                                                   │\n",
       "│ │ │                                       │ │                                                                   │\n",
       "│ │ │  \u001b[1m{\u001b[0m\u001b[32m'required'\u001b[0m: \u001b[3;92mTrue\u001b[0m\u001b[1m}\u001b[0m                   │ │                                                                   │\n",
       "│ │ │                                       │ │                                                                   │\n",
       "│ │ ╰───────────────────────────────────────╯ │                                                                   │\n",
       "│ │                                           │                                                                   │\n",
       "│ ╰───────────────────────────────────────────╯                                                                   │\n",
       "╰─────────────────────────────────────────────────────────────────────────────────────────────────────────────────╯\n"
      ]
     },
     "metadata": {},
     "output_type": "display_data"
    },
    {
     "data": {
      "application/vnd.jupyter.widget-view+json": {
       "model_id": "550b9540c4324e318d0a5e3ccaa8c35c",
       "version_major": 2,
       "version_minor": 0
      },
      "text/plain": [
       "Iterating context:   0%|          | 0/1 [00:00<?, ?it/s]"
      ]
     },
     "metadata": {},
     "output_type": "display_data"
    },
    {
     "data": {
      "application/vnd.microsoft.datawrangler.viewer.v0+json": {
       "columns": [
        {
         "name": "index",
         "rawType": "int64",
         "type": "integer"
        },
        {
         "name": "dish",
         "rawType": "object",
         "type": "string"
        },
        {
         "name": "ingredients",
         "rawType": "object",
         "type": "unknown"
        }
       ],
       "ref": "a1827407-bdb5-4de4-bb50-4ca923bb9961",
       "rows": [
        [
         "0",
         "spaghetti carbonara",
         "['spaghetti', 'eggs', 'pancetta or guanciale', 'Parmesan cheese', 'Pecorino Romano cheese', 'garlic', 'black pepper', 'salt']"
        ]
       ],
       "shape": {
        "columns": 2,
        "rows": 1
       }
      },
      "text/html": [
       "<div>\n",
       "<style scoped>\n",
       "    .dataframe tbody tr th:only-of-type {\n",
       "        vertical-align: middle;\n",
       "    }\n",
       "\n",
       "    .dataframe tbody tr th {\n",
       "        vertical-align: top;\n",
       "    }\n",
       "\n",
       "    .dataframe thead th {\n",
       "        text-align: right;\n",
       "    }\n",
       "</style>\n",
       "<table border=\"1\" class=\"dataframe\">\n",
       "  <thead>\n",
       "    <tr style=\"text-align: right;\">\n",
       "      <th></th>\n",
       "      <th>dish</th>\n",
       "      <th>ingredients</th>\n",
       "    </tr>\n",
       "  </thead>\n",
       "  <tbody>\n",
       "    <tr>\n",
       "      <th>0</th>\n",
       "      <td>spaghetti carbonara</td>\n",
       "      <td>[spaghetti, eggs, pancetta or guanciale, Parme...</td>\n",
       "    </tr>\n",
       "  </tbody>\n",
       "</table>\n",
       "</div>"
      ],
      "text/plain": [
       "                  dish                                        ingredients\n",
       "0  spaghetti carbonara  [spaghetti, eggs, pancetta or guanciale, Parme..."
      ]
     },
     "execution_count": 7,
     "metadata": {},
     "output_type": "execute_result"
    }
   ],
   "source": [
    "class Recipe(Response):\n",
    "    ingredients: list[str] = Field(description=\"A list of ingredients for the dish.\")\n",
    "\n",
    "\n",
    "prompt = Prompt.from_string(\"Generate a list of recipe ingredients to make '{{dish}}'.\")\n",
    "task = Task(prompt=prompt, response=Recipe)\n",
    "pprint(task)\n",
    "\n",
    "model = \"openai/gpt-4.1-mini\"  # or e.g. \"perplexity/sonar\"\n",
    "responses = await task(context=[{\"dish\": \"spaghetti carbonara\"}], model=model)\n",
    "responses.to_pandas(explode=False)"
   ]
  },
  {
   "cell_type": "markdown",
   "id": "d7d2d1d0",
   "metadata": {},
   "source": [
    "# Inspect LLM queries (containing final prompt send to LLM)\n",
    "\n",
    "Only available (for now), when multiple rows were processed!\n",
    "\n",
    "Each task maintains a log of errors and the queries to the LLM provider. Note that the structure of what's sent to the provider may be different for each."
   ]
  },
  {
   "cell_type": "code",
   "execution_count": 9,
   "id": "78f73f9f",
   "metadata": {},
   "outputs": [
    {
     "data": {
      "text/plain": [
       "{'messages': [{'role': 'user',\n",
       "   'content': \"Generate a list of recipe ingredients to make 'spaghetti carbonara'.\"}],\n",
       " 'model': 'gpt-4.1-mini',\n",
       " 'tools': [{'type': 'function',\n",
       "   'function': {'name': 'Recipe',\n",
       "    'description': 'Correctly extracted `Recipe` with all the required parameters with correct types',\n",
       "    'parameters': {'properties': {'ingredients': {'description': 'A list of ingredients for the dish.',\n",
       "       'items': {'type': 'string'},\n",
       "       'title': 'Ingredients',\n",
       "       'type': 'array'}},\n",
       "     'required': ['ingredients'],\n",
       "     'type': 'object'}}}],\n",
       " 'tool_choice': {'type': 'function', 'function': {'name': 'Recipe'}}}"
      ]
     },
     "execution_count": 9,
     "metadata": {},
     "output_type": "execute_result"
    }
   ],
   "source": [
    "task.query_log.queries[0]"
   ]
  },
  {
   "cell_type": "markdown",
   "id": "a8e92fd9",
   "metadata": {},
   "source": [
    "# Choices (enum)\n",
    "Require LLM to respond with one of N _options_ (fixed categories)."
   ]
  },
  {
   "cell_type": "code",
   "execution_count": null,
   "id": "34664d2e",
   "metadata": {},
   "outputs": [
    {
     "name": "stdout",
     "output_type": "stream",
     "text": [
      "[UserDetail(age=25, name='Alice', role=<Role.STUDENT: 'STUDENT'>)]\n"
     ]
    },
    {
     "data": {
      "application/vnd.microsoft.datawrangler.viewer.v0+json": {
       "columns": [
        {
         "name": "index",
         "rawType": "int64",
         "type": "integer"
        },
        {
         "name": "age",
         "rawType": "int64",
         "type": "integer"
        },
        {
         "name": "name",
         "rawType": "object",
         "type": "string"
        },
        {
         "name": "role",
         "rawType": "object",
         "type": "unknown"
        }
       ],
       "ref": "86b9795f-6ddc-4def-a16e-fad9c7569785",
       "rows": [
        [
         "0",
         "25",
         "Alice",
         "Role.STUDENT"
        ]
       ],
       "shape": {
        "columns": 3,
        "rows": 1
       }
      },
      "text/html": [
       "<div>\n",
       "<style scoped>\n",
       "    .dataframe tbody tr th:only-of-type {\n",
       "        vertical-align: middle;\n",
       "    }\n",
       "\n",
       "    .dataframe tbody tr th {\n",
       "        vertical-align: top;\n",
       "    }\n",
       "\n",
       "    .dataframe thead th {\n",
       "        text-align: right;\n",
       "    }\n",
       "</style>\n",
       "<table border=\"1\" class=\"dataframe\">\n",
       "  <thead>\n",
       "    <tr style=\"text-align: right;\">\n",
       "      <th></th>\n",
       "      <th>age</th>\n",
       "      <th>name</th>\n",
       "      <th>role</th>\n",
       "    </tr>\n",
       "  </thead>\n",
       "  <tbody>\n",
       "    <tr>\n",
       "      <th>0</th>\n",
       "      <td>25</td>\n",
       "      <td>Alice</td>\n",
       "      <td>Role.STUDENT</td>\n",
       "    </tr>\n",
       "  </tbody>\n",
       "</table>\n",
       "</div>"
      ],
      "text/plain": [
       "   age   name          role\n",
       "0   25  Alice  Role.STUDENT"
      ]
     },
     "execution_count": 11,
     "metadata": {},
     "output_type": "execute_result"
    }
   ],
   "source": [
    "class Role(Enum):\n",
    "    PRINCIPAL = \"PRINCIPAL\"\n",
    "    TEACHER = \"TEACHER\"\n",
    "    STUDENT = \"STUDENT\"\n",
    "    OTHER = \"OTHER\"\n",
    "\n",
    "\n",
    "class UserDetail(Response):\n",
    "    age: int\n",
    "    name: str\n",
    "    role: Role = Field(description=\"Correctly assign one of the predefined roles to the user.\")\n",
    "\n",
    "\n",
    "prompt = Prompt.from_string(\"Please a create a synthetic user profile with age, name and role.\")\n",
    "task = Task(prompt=prompt, response=UserDetail)\n",
    "\n",
    "response = await task(model=\"openai/gpt-3.5-turbo\")\n",
    "print(response)\n",
    "response.to_pandas()"
   ]
  },
  {
   "cell_type": "markdown",
   "id": "4183a07a",
   "metadata": {},
   "source": [
    "# Simple Multivalued fields\n",
    "Require LLM to respond with a _list_ of values (unconstrained)."
   ]
  },
  {
   "cell_type": "code",
   "execution_count": null,
   "id": "f1bd481d",
   "metadata": {},
   "outputs": [
    {
     "data": {
      "application/vnd.jupyter.widget-view+json": {
       "model_id": "d72a86255f1e469abff5357ef4fac9c4",
       "version_major": 2,
       "version_minor": 0
      },
      "text/plain": [
       "Iterating context:   0%|          | 0/2 [00:00<?, ?it/s]"
      ]
     },
     "metadata": {},
     "output_type": "display_data"
    },
    {
     "name": "stdout",
     "output_type": "stream",
     "text": [
      "[Ingredients(items=['pasta', 'bolognese sauce', 'ground beef', 'onion', 'garlic', 'carrot', 'celery', 'tomato paste', 'crushed tomatoes', 'red wine', 'beef broth', 'bay leaves', 'salt', 'pepper', 'olive oil']), Ingredients(items=['chocolate', 'flour', 'sugar', 'eggs', 'butter', 'baking powder', 'vanilla extract', 'salt', 'milk'])]\n"
     ]
    }
   ],
   "source": [
    "class Ingredients(Response):\n",
    "    items: list[str] = Field(description=\"List of ingredients for the recipe.\")\n",
    "\n",
    "\n",
    "prompt = Prompt.from_string(\"List the ingredients for the following dish: {{dish}}.\")\n",
    "context = [{\"dish\": \"pasta bolognese\"}, {\"dish\": \"chocolate cake\"}]\n",
    "\n",
    "task = Task(prompt=prompt, response=Ingredients)\n",
    "responses = await task(context=context)\n",
    "print(responses)"
   ]
  },
  {
   "cell_type": "code",
   "execution_count": 13,
   "id": "1be7b2c9",
   "metadata": {},
   "outputs": [
    {
     "data": {
      "application/vnd.microsoft.datawrangler.viewer.v0+json": {
       "columns": [
        {
         "name": "index",
         "rawType": "int64",
         "type": "integer"
        },
        {
         "name": "dish",
         "rawType": "object",
         "type": "string"
        },
        {
         "name": "items",
         "rawType": "object",
         "type": "unknown"
        }
       ],
       "ref": "b0c95283-d8f4-42e4-89df-d080a25cbc49",
       "rows": [
        [
         "0",
         "pasta bolognese",
         "['pasta', 'bolognese sauce', 'ground beef', 'onion', 'garlic', 'carrot', 'celery', 'tomato paste', 'crushed tomatoes', 'red wine', 'beef broth', 'bay leaves', 'salt', 'pepper', 'olive oil']"
        ],
        [
         "1",
         "chocolate cake",
         "['chocolate', 'flour', 'sugar', 'eggs', 'butter', 'baking powder', 'vanilla extract', 'salt', 'milk']"
        ]
       ],
       "shape": {
        "columns": 2,
        "rows": 2
       }
      },
      "text/html": [
       "<div>\n",
       "<style scoped>\n",
       "    .dataframe tbody tr th:only-of-type {\n",
       "        vertical-align: middle;\n",
       "    }\n",
       "\n",
       "    .dataframe tbody tr th {\n",
       "        vertical-align: top;\n",
       "    }\n",
       "\n",
       "    .dataframe thead th {\n",
       "        text-align: right;\n",
       "    }\n",
       "</style>\n",
       "<table border=\"1\" class=\"dataframe\">\n",
       "  <thead>\n",
       "    <tr style=\"text-align: right;\">\n",
       "      <th></th>\n",
       "      <th>dish</th>\n",
       "      <th>items</th>\n",
       "    </tr>\n",
       "  </thead>\n",
       "  <tbody>\n",
       "    <tr>\n",
       "      <th>0</th>\n",
       "      <td>pasta bolognese</td>\n",
       "      <td>[pasta, bolognese sauce, ground beef, onion, g...</td>\n",
       "    </tr>\n",
       "    <tr>\n",
       "      <th>1</th>\n",
       "      <td>chocolate cake</td>\n",
       "      <td>[chocolate, flour, sugar, eggs, butter, baking...</td>\n",
       "    </tr>\n",
       "  </tbody>\n",
       "</table>\n",
       "</div>"
      ],
      "text/plain": [
       "              dish                                              items\n",
       "0  pasta bolognese  [pasta, bolognese sauce, ground beef, onion, g...\n",
       "1   chocolate cake  [chocolate, flour, sugar, eggs, butter, baking..."
      ]
     },
     "execution_count": 13,
     "metadata": {},
     "output_type": "execute_result"
    }
   ],
   "source": [
    "# Maintain the original structure of the responses\n",
    "responses.to_pandas(explode=False)"
   ]
  },
  {
   "cell_type": "code",
   "execution_count": 14,
   "id": "f39652a1",
   "metadata": {},
   "outputs": [
    {
     "data": {
      "application/vnd.microsoft.datawrangler.viewer.v0+json": {
       "columns": [
        {
         "name": "index",
         "rawType": "int64",
         "type": "integer"
        },
        {
         "name": "dish",
         "rawType": "object",
         "type": "string"
        },
        {
         "name": "items",
         "rawType": "object",
         "type": "string"
        }
       ],
       "ref": "d43a5876-73c0-480c-89f5-387dbb53edd1",
       "rows": [
        [
         "0",
         "pasta bolognese",
         "pasta"
        ],
        [
         "1",
         "pasta bolognese",
         "bolognese sauce"
        ],
        [
         "2",
         "pasta bolognese",
         "ground beef"
        ],
        [
         "3",
         "pasta bolognese",
         "onion"
        ],
        [
         "4",
         "pasta bolognese",
         "garlic"
        ],
        [
         "5",
         "pasta bolognese",
         "carrot"
        ],
        [
         "6",
         "pasta bolognese",
         "celery"
        ],
        [
         "7",
         "pasta bolognese",
         "tomato paste"
        ],
        [
         "8",
         "pasta bolognese",
         "crushed tomatoes"
        ],
        [
         "9",
         "pasta bolognese",
         "red wine"
        ],
        [
         "10",
         "pasta bolognese",
         "beef broth"
        ],
        [
         "11",
         "pasta bolognese",
         "bay leaves"
        ],
        [
         "12",
         "pasta bolognese",
         "salt"
        ],
        [
         "13",
         "pasta bolognese",
         "pepper"
        ],
        [
         "14",
         "pasta bolognese",
         "olive oil"
        ],
        [
         "15",
         "chocolate cake",
         "chocolate"
        ],
        [
         "16",
         "chocolate cake",
         "flour"
        ],
        [
         "17",
         "chocolate cake",
         "sugar"
        ],
        [
         "18",
         "chocolate cake",
         "eggs"
        ],
        [
         "19",
         "chocolate cake",
         "butter"
        ],
        [
         "20",
         "chocolate cake",
         "baking powder"
        ],
        [
         "21",
         "chocolate cake",
         "vanilla extract"
        ],
        [
         "22",
         "chocolate cake",
         "salt"
        ],
        [
         "23",
         "chocolate cake",
         "milk"
        ]
       ],
       "shape": {
        "columns": 2,
        "rows": 24
       }
      },
      "text/html": [
       "<div>\n",
       "<style scoped>\n",
       "    .dataframe tbody tr th:only-of-type {\n",
       "        vertical-align: middle;\n",
       "    }\n",
       "\n",
       "    .dataframe tbody tr th {\n",
       "        vertical-align: top;\n",
       "    }\n",
       "\n",
       "    .dataframe thead th {\n",
       "        text-align: right;\n",
       "    }\n",
       "</style>\n",
       "<table border=\"1\" class=\"dataframe\">\n",
       "  <thead>\n",
       "    <tr style=\"text-align: right;\">\n",
       "      <th></th>\n",
       "      <th>dish</th>\n",
       "      <th>items</th>\n",
       "    </tr>\n",
       "  </thead>\n",
       "  <tbody>\n",
       "    <tr>\n",
       "      <th>0</th>\n",
       "      <td>pasta bolognese</td>\n",
       "      <td>pasta</td>\n",
       "    </tr>\n",
       "    <tr>\n",
       "      <th>1</th>\n",
       "      <td>pasta bolognese</td>\n",
       "      <td>bolognese sauce</td>\n",
       "    </tr>\n",
       "    <tr>\n",
       "      <th>2</th>\n",
       "      <td>pasta bolognese</td>\n",
       "      <td>ground beef</td>\n",
       "    </tr>\n",
       "    <tr>\n",
       "      <th>3</th>\n",
       "      <td>pasta bolognese</td>\n",
       "      <td>onion</td>\n",
       "    </tr>\n",
       "    <tr>\n",
       "      <th>4</th>\n",
       "      <td>pasta bolognese</td>\n",
       "      <td>garlic</td>\n",
       "    </tr>\n",
       "    <tr>\n",
       "      <th>5</th>\n",
       "      <td>pasta bolognese</td>\n",
       "      <td>carrot</td>\n",
       "    </tr>\n",
       "    <tr>\n",
       "      <th>6</th>\n",
       "      <td>pasta bolognese</td>\n",
       "      <td>celery</td>\n",
       "    </tr>\n",
       "    <tr>\n",
       "      <th>7</th>\n",
       "      <td>pasta bolognese</td>\n",
       "      <td>tomato paste</td>\n",
       "    </tr>\n",
       "    <tr>\n",
       "      <th>8</th>\n",
       "      <td>pasta bolognese</td>\n",
       "      <td>crushed tomatoes</td>\n",
       "    </tr>\n",
       "    <tr>\n",
       "      <th>9</th>\n",
       "      <td>pasta bolognese</td>\n",
       "      <td>red wine</td>\n",
       "    </tr>\n",
       "    <tr>\n",
       "      <th>10</th>\n",
       "      <td>pasta bolognese</td>\n",
       "      <td>beef broth</td>\n",
       "    </tr>\n",
       "    <tr>\n",
       "      <th>11</th>\n",
       "      <td>pasta bolognese</td>\n",
       "      <td>bay leaves</td>\n",
       "    </tr>\n",
       "    <tr>\n",
       "      <th>12</th>\n",
       "      <td>pasta bolognese</td>\n",
       "      <td>salt</td>\n",
       "    </tr>\n",
       "    <tr>\n",
       "      <th>13</th>\n",
       "      <td>pasta bolognese</td>\n",
       "      <td>pepper</td>\n",
       "    </tr>\n",
       "    <tr>\n",
       "      <th>14</th>\n",
       "      <td>pasta bolognese</td>\n",
       "      <td>olive oil</td>\n",
       "    </tr>\n",
       "    <tr>\n",
       "      <th>15</th>\n",
       "      <td>chocolate cake</td>\n",
       "      <td>chocolate</td>\n",
       "    </tr>\n",
       "    <tr>\n",
       "      <th>16</th>\n",
       "      <td>chocolate cake</td>\n",
       "      <td>flour</td>\n",
       "    </tr>\n",
       "    <tr>\n",
       "      <th>17</th>\n",
       "      <td>chocolate cake</td>\n",
       "      <td>sugar</td>\n",
       "    </tr>\n",
       "    <tr>\n",
       "      <th>18</th>\n",
       "      <td>chocolate cake</td>\n",
       "      <td>eggs</td>\n",
       "    </tr>\n",
       "    <tr>\n",
       "      <th>19</th>\n",
       "      <td>chocolate cake</td>\n",
       "      <td>butter</td>\n",
       "    </tr>\n",
       "    <tr>\n",
       "      <th>20</th>\n",
       "      <td>chocolate cake</td>\n",
       "      <td>baking powder</td>\n",
       "    </tr>\n",
       "    <tr>\n",
       "      <th>21</th>\n",
       "      <td>chocolate cake</td>\n",
       "      <td>vanilla extract</td>\n",
       "    </tr>\n",
       "    <tr>\n",
       "      <th>22</th>\n",
       "      <td>chocolate cake</td>\n",
       "      <td>salt</td>\n",
       "    </tr>\n",
       "    <tr>\n",
       "      <th>23</th>\n",
       "      <td>chocolate cake</td>\n",
       "      <td>milk</td>\n",
       "    </tr>\n",
       "  </tbody>\n",
       "</table>\n",
       "</div>"
      ],
      "text/plain": [
       "               dish             items\n",
       "0   pasta bolognese             pasta\n",
       "1   pasta bolognese   bolognese sauce\n",
       "2   pasta bolognese       ground beef\n",
       "3   pasta bolognese             onion\n",
       "4   pasta bolognese            garlic\n",
       "5   pasta bolognese            carrot\n",
       "6   pasta bolognese            celery\n",
       "7   pasta bolognese      tomato paste\n",
       "8   pasta bolognese  crushed tomatoes\n",
       "9   pasta bolognese          red wine\n",
       "10  pasta bolognese        beef broth\n",
       "11  pasta bolognese        bay leaves\n",
       "12  pasta bolognese              salt\n",
       "13  pasta bolognese            pepper\n",
       "14  pasta bolognese         olive oil\n",
       "15   chocolate cake         chocolate\n",
       "16   chocolate cake             flour\n",
       "17   chocolate cake             sugar\n",
       "18   chocolate cake              eggs\n",
       "19   chocolate cake            butter\n",
       "20   chocolate cake     baking powder\n",
       "21   chocolate cake   vanilla extract\n",
       "22   chocolate cake              salt\n",
       "23   chocolate cake              milk"
      ]
     },
     "execution_count": 14,
     "metadata": {},
     "output_type": "execute_result"
    }
   ],
   "source": [
    "# Explode the list of ingredients into separate rows\n",
    "responses.to_pandas(explode=True)"
   ]
  },
  {
   "cell_type": "code",
   "execution_count": 9,
   "id": "b227e9e4",
   "metadata": {},
   "outputs": [
    {
     "data": {
      "text/plain": [
       "[{'dish': 'pasta bolognese',\n",
       "  'items': ['pasta',\n",
       "   'bolognese sauce',\n",
       "   'ground beef',\n",
       "   'onion',\n",
       "   'garlic',\n",
       "   'celery',\n",
       "   'carrot',\n",
       "   'tomato paste',\n",
       "   'red wine',\n",
       "   'beef broth',\n",
       "   'salt',\n",
       "   'pepper',\n",
       "   'olive oil',\n",
       "   'parmesan cheese']},\n",
       " {'dish': 'chocolate cake',\n",
       "  'items': ['chocolate',\n",
       "   'flour',\n",
       "   'sugar',\n",
       "   'eggs',\n",
       "   'butter',\n",
       "   'cocoa powder',\n",
       "   'baking powder',\n",
       "   'vanilla extract',\n",
       "   'salt',\n",
       "   'milk']}]"
      ]
     },
     "execution_count": 9,
     "metadata": {},
     "output_type": "execute_result"
    }
   ],
   "source": [
    "# Convert to simple python records\n",
    "responses.to_records(explode=False)"
   ]
  },
  {
   "cell_type": "markdown",
   "id": "dcb90a17",
   "metadata": {},
   "source": [
    "# Nested models\n",
    "Define a more complicated output structure by referencing another response model. \n",
    "\n",
    "In this case a list of certain length containing instances of pre-defined response model."
   ]
  },
  {
   "cell_type": "code",
   "execution_count": null,
   "id": "a63e711a",
   "metadata": {},
   "outputs": [
    {
     "data": {
      "application/vnd.jupyter.widget-view+json": {
       "model_id": "c85bc478dfbe46e78f2afc4bd610b1cc",
       "version_major": 2,
       "version_minor": 0
      },
      "text/plain": [
       "Iterating context:   0%|          | 0/3 [00:00<?, ?it/s]"
      ]
     },
     "metadata": {},
     "output_type": "display_data"
    },
    {
     "data": {
      "text/html": [
       "<pre style=\"white-space:pre;overflow-x:auto;line-height:normal;font-family:Menlo,'DejaVu Sans Mono',consolas,'Courier New',monospace\"><span style=\"color: #7fbfbf; text-decoration-color: #7fbfbf\">[06/03/25 18:56:17] </span><span style=\"color: #808000; text-decoration-color: #808000\">WARNING </span> Encountered: <span style=\"color: #008080; text-decoration-color: #008080; font-weight: bold\">2</span> response parsing errors!                                    <a href=\"file:///Users/thomas/code/cuery/src/cuery/task.py\" target=\"_blank\"><span style=\"color: #7f7f7f; text-decoration-color: #7f7f7f\">task.py</span></a><span style=\"color: #7f7f7f; text-decoration-color: #7f7f7f\">:</span><a href=\"file:///Users/thomas/code/cuery/src/cuery/task.py#127\" target=\"_blank\"><span style=\"color: #7f7f7f; text-decoration-color: #7f7f7f\">127</span></a>\n",
       "</pre>\n"
      ],
      "text/plain": [
       "\u001b[2;36m[06/03/25 18:56:17]\u001b[0m\u001b[2;36m \u001b[0m\u001b[33mWARNING \u001b[0m Encountered: \u001b[1;36m2\u001b[0m response parsing errors!                                    \u001b]8;id=159772;file:///Users/thomas/code/cuery/src/cuery/task.py\u001b\\\u001b[2mtask.py\u001b[0m\u001b]8;;\u001b\\\u001b[2m:\u001b[0m\u001b]8;id=575078;file:///Users/thomas/code/cuery/src/cuery/task.py#127\u001b\\\u001b[2m127\u001b[0m\u001b]8;;\u001b\\\n"
      ]
     },
     "metadata": {},
     "output_type": "display_data"
    }
   ],
   "source": [
    "class Sector(Response):\n",
    "    sector: str = Field(\n",
    "        description=\"Human-readable title(!) of the industrical sector (in NAICS taxonomy)\",\n",
    "        min_length=10,\n",
    "        max_length=150,\n",
    "    )\n",
    "    subsector: str = Field(\n",
    "        description=\"Human-readable title(!) of the industrial SUBsector (in NAICS taxonomy)\",\n",
    "        min_length=5,\n",
    "        max_length=150,\n",
    "    )\n",
    "    sector_automation_potential: int = Field(\n",
    "        description=\"A score from 1 to 10 indicating the sector's potential for automation\",\n",
    "        ge=0,\n",
    "        le=10,\n",
    "    )\n",
    "\n",
    "\n",
    "class Sectors(Response):\n",
    "    sectors: list[Sector] = Field(\n",
    "        description=\"A list of 1 to 5 NAIC industrial sectors with their AI automation potential\",\n",
    "        min_length=1,\n",
    "        max_length=5,\n",
    "    )\n",
    "\n",
    "\n",
    "sectors_prompt = Prompt.from_string(\n",
    "    \"List some industrial sector in the country of {{country}} that have great AI automation potential.\"\n",
    ")\n",
    "\n",
    "context = [{\"country\": \"Germany\"}, {\"country\": \"United States\"}, {\"country\": \"Japan\"}]\n",
    "sectors_task = Task(prompt=sectors_prompt, response=Sectors)\n",
    "responses = await sectors_task(context=context)"
   ]
  },
  {
   "cell_type": "code",
   "execution_count": 16,
   "id": "7b86febf",
   "metadata": {},
   "outputs": [
    {
     "data": {
      "application/vnd.microsoft.datawrangler.viewer.v0+json": {
       "columns": [
        {
         "name": "index",
         "rawType": "int64",
         "type": "integer"
        },
        {
         "name": "country",
         "rawType": "object",
         "type": "string"
        },
        {
         "name": "sector",
         "rawType": "object",
         "type": "string"
        },
        {
         "name": "subsector",
         "rawType": "object",
         "type": "string"
        },
        {
         "name": "sector_automation_potential",
         "rawType": "int64",
         "type": "integer"
        }
       ],
       "ref": "0cf05f6c-b1b4-49c4-ae43-80291b86ae6d",
       "rows": [
        [
         "0",
         "Germany",
         "Manufacturing",
         "Automobile Manufacturing",
         "8"
        ],
        [
         "1",
         "Germany",
         "Healthcare",
         "Medical Devices Manufacturing",
         "7"
        ],
        [
         "2",
         "Germany",
         "Transportation and Warehousing",
         "Freight Trucking",
         "9"
        ],
        [
         "3",
         "United States",
         "Manufacturing",
         "Automobile Manufacturing",
         "8"
        ],
        [
         "4",
         "United States",
         "Healthcare",
         "Medical Imaging",
         "9"
        ],
        [
         "5",
         "United States",
         "Retail Trade",
         "E-commerce",
         "7"
        ],
        [
         "6",
         "Japan",
         "Manufacturing",
         "Automobile Manufacturing",
         "8"
        ],
        [
         "7",
         "Japan",
         "Health Care and Social Assistance",
         "Hospitals",
         "7"
        ],
        [
         "8",
         "Japan",
         "Retail Trade",
         "E-commerce",
         "9"
        ]
       ],
       "shape": {
        "columns": 4,
        "rows": 9
       }
      },
      "text/html": [
       "<div>\n",
       "<style scoped>\n",
       "    .dataframe tbody tr th:only-of-type {\n",
       "        vertical-align: middle;\n",
       "    }\n",
       "\n",
       "    .dataframe tbody tr th {\n",
       "        vertical-align: top;\n",
       "    }\n",
       "\n",
       "    .dataframe thead th {\n",
       "        text-align: right;\n",
       "    }\n",
       "</style>\n",
       "<table border=\"1\" class=\"dataframe\">\n",
       "  <thead>\n",
       "    <tr style=\"text-align: right;\">\n",
       "      <th></th>\n",
       "      <th>country</th>\n",
       "      <th>sector</th>\n",
       "      <th>subsector</th>\n",
       "      <th>sector_automation_potential</th>\n",
       "    </tr>\n",
       "  </thead>\n",
       "  <tbody>\n",
       "    <tr>\n",
       "      <th>0</th>\n",
       "      <td>Germany</td>\n",
       "      <td>Manufacturing</td>\n",
       "      <td>Automobile Manufacturing</td>\n",
       "      <td>8</td>\n",
       "    </tr>\n",
       "    <tr>\n",
       "      <th>1</th>\n",
       "      <td>Germany</td>\n",
       "      <td>Healthcare</td>\n",
       "      <td>Medical Devices Manufacturing</td>\n",
       "      <td>7</td>\n",
       "    </tr>\n",
       "    <tr>\n",
       "      <th>2</th>\n",
       "      <td>Germany</td>\n",
       "      <td>Transportation and Warehousing</td>\n",
       "      <td>Freight Trucking</td>\n",
       "      <td>9</td>\n",
       "    </tr>\n",
       "    <tr>\n",
       "      <th>3</th>\n",
       "      <td>United States</td>\n",
       "      <td>Manufacturing</td>\n",
       "      <td>Automobile Manufacturing</td>\n",
       "      <td>8</td>\n",
       "    </tr>\n",
       "    <tr>\n",
       "      <th>4</th>\n",
       "      <td>United States</td>\n",
       "      <td>Healthcare</td>\n",
       "      <td>Medical Imaging</td>\n",
       "      <td>9</td>\n",
       "    </tr>\n",
       "    <tr>\n",
       "      <th>5</th>\n",
       "      <td>United States</td>\n",
       "      <td>Retail Trade</td>\n",
       "      <td>E-commerce</td>\n",
       "      <td>7</td>\n",
       "    </tr>\n",
       "    <tr>\n",
       "      <th>6</th>\n",
       "      <td>Japan</td>\n",
       "      <td>Manufacturing</td>\n",
       "      <td>Automobile Manufacturing</td>\n",
       "      <td>8</td>\n",
       "    </tr>\n",
       "    <tr>\n",
       "      <th>7</th>\n",
       "      <td>Japan</td>\n",
       "      <td>Health Care and Social Assistance</td>\n",
       "      <td>Hospitals</td>\n",
       "      <td>7</td>\n",
       "    </tr>\n",
       "    <tr>\n",
       "      <th>8</th>\n",
       "      <td>Japan</td>\n",
       "      <td>Retail Trade</td>\n",
       "      <td>E-commerce</td>\n",
       "      <td>9</td>\n",
       "    </tr>\n",
       "  </tbody>\n",
       "</table>\n",
       "</div>"
      ],
      "text/plain": [
       "         country                             sector  \\\n",
       "0        Germany                      Manufacturing   \n",
       "1        Germany                         Healthcare   \n",
       "2        Germany     Transportation and Warehousing   \n",
       "3  United States                      Manufacturing   \n",
       "4  United States                         Healthcare   \n",
       "5  United States                       Retail Trade   \n",
       "6          Japan                      Manufacturing   \n",
       "7          Japan  Health Care and Social Assistance   \n",
       "8          Japan                       Retail Trade   \n",
       "\n",
       "                       subsector  sector_automation_potential  \n",
       "0       Automobile Manufacturing                            8  \n",
       "1  Medical Devices Manufacturing                            7  \n",
       "2               Freight Trucking                            9  \n",
       "3       Automobile Manufacturing                            8  \n",
       "4                Medical Imaging                            9  \n",
       "5                     E-commerce                            7  \n",
       "6       Automobile Manufacturing                            8  \n",
       "7                      Hospitals                            7  \n",
       "8                     E-commerce                            9  "
      ]
     },
     "execution_count": 16,
     "metadata": {},
     "output_type": "execute_result"
    }
   ],
   "source": [
    "responses.to_pandas(explode=True)"
   ]
  },
  {
   "cell_type": "markdown",
   "id": "2074200d",
   "metadata": {},
   "source": [
    "# Chain tasks together\n",
    "Run multiple tasks one after the other, collecting the results in a single DataFrame.\n",
    "\n",
    "Keep in mind here that the names of inputs of one task must be the same as the names of outputs in the previous one.\n",
    "\n",
    "Here we extract first some industrial sectors for each input country, and then some job roles within each sector."
   ]
  },
  {
   "cell_type": "code",
   "execution_count": null,
   "id": "a3773406",
   "metadata": {},
   "outputs": [
    {
     "data": {
      "text/html": [
       "<pre style=\"white-space:pre;overflow-x:auto;line-height:normal;font-family:Menlo,'DejaVu Sans Mono',consolas,'Courier New',monospace\"><span style=\"color: #7fbfbf; text-decoration-color: #7fbfbf\">[06/03/25 18:56:22] </span><span style=\"color: #000080; text-decoration-color: #000080\">INFO    </span> <span style=\"font-weight: bold\">[</span><span style=\"color: #008080; text-decoration-color: #008080; font-weight: bold\">1</span>/<span style=\"color: #008080; text-decoration-color: #008080; font-weight: bold\">2</span><span style=\"font-weight: bold\">]</span> Running task <span style=\"color: #008000; text-decoration-color: #008000\">'Sectors'</span>                                               <a href=\"file:///Users/thomas/code/cuery/src/cuery/task.py\" target=\"_blank\"><span style=\"color: #7f7f7f; text-decoration-color: #7f7f7f\">task.py</span></a><span style=\"color: #7f7f7f; text-decoration-color: #7f7f7f\">:</span><a href=\"file:///Users/thomas/code/cuery/src/cuery/task.py#205\" target=\"_blank\"><span style=\"color: #7f7f7f; text-decoration-color: #7f7f7f\">205</span></a>\n",
       "</pre>\n"
      ],
      "text/plain": [
       "\u001b[2;36m[06/03/25 18:56:22]\u001b[0m\u001b[2;36m \u001b[0m\u001b[34mINFO    \u001b[0m \u001b[1m[\u001b[0m\u001b[1;36m1\u001b[0m/\u001b[1;36m2\u001b[0m\u001b[1m]\u001b[0m Running task \u001b[32m'Sectors'\u001b[0m                                               \u001b]8;id=785525;file:///Users/thomas/code/cuery/src/cuery/task.py\u001b\\\u001b[2mtask.py\u001b[0m\u001b]8;;\u001b\\\u001b[2m:\u001b[0m\u001b]8;id=597103;file:///Users/thomas/code/cuery/src/cuery/task.py#205\u001b\\\u001b[2m205\u001b[0m\u001b]8;;\u001b\\\n"
      ]
     },
     "metadata": {},
     "output_type": "display_data"
    },
    {
     "data": {
      "application/vnd.jupyter.widget-view+json": {
       "model_id": "709c5dd0ebbe427f925e709a57eec37d",
       "version_major": 2,
       "version_minor": 0
      },
      "text/plain": [
       "Iterating context:   0%|          | 0/3 [00:00<?, ?it/s]"
      ]
     },
     "metadata": {},
     "output_type": "display_data"
    },
    {
     "data": {
      "text/html": [
       "<pre style=\"white-space:pre;overflow-x:auto;line-height:normal;font-family:Menlo,'DejaVu Sans Mono',consolas,'Courier New',monospace\"><span style=\"color: #7fbfbf; text-decoration-color: #7fbfbf\">[06/03/25 18:56:26] </span><span style=\"color: #000080; text-decoration-color: #000080\">INFO    </span> <span style=\"font-weight: bold\">[</span><span style=\"color: #008080; text-decoration-color: #008080; font-weight: bold\">2</span>/<span style=\"color: #008080; text-decoration-color: #008080; font-weight: bold\">2</span><span style=\"font-weight: bold\">]</span> Running task <span style=\"color: #008000; text-decoration-color: #008000\">'Jobs'</span>                                                  <a href=\"file:///Users/thomas/code/cuery/src/cuery/task.py\" target=\"_blank\"><span style=\"color: #7f7f7f; text-decoration-color: #7f7f7f\">task.py</span></a><span style=\"color: #7f7f7f; text-decoration-color: #7f7f7f\">:</span><a href=\"file:///Users/thomas/code/cuery/src/cuery/task.py#205\" target=\"_blank\"><span style=\"color: #7f7f7f; text-decoration-color: #7f7f7f\">205</span></a>\n",
       "</pre>\n"
      ],
      "text/plain": [
       "\u001b[2;36m[06/03/25 18:56:26]\u001b[0m\u001b[2;36m \u001b[0m\u001b[34mINFO    \u001b[0m \u001b[1m[\u001b[0m\u001b[1;36m2\u001b[0m/\u001b[1;36m2\u001b[0m\u001b[1m]\u001b[0m Running task \u001b[32m'Jobs'\u001b[0m                                                  \u001b]8;id=96794;file:///Users/thomas/code/cuery/src/cuery/task.py\u001b\\\u001b[2mtask.py\u001b[0m\u001b]8;;\u001b\\\u001b[2m:\u001b[0m\u001b]8;id=735885;file:///Users/thomas/code/cuery/src/cuery/task.py#205\u001b\\\u001b[2m205\u001b[0m\u001b]8;;\u001b\\\n"
      ]
     },
     "metadata": {},
     "output_type": "display_data"
    },
    {
     "data": {
      "application/vnd.jupyter.widget-view+json": {
       "model_id": "7ca762b560fd484b85b439ec8dcdda61",
       "version_major": 2,
       "version_minor": 0
      },
      "text/plain": [
       "Iterating context:   0%|          | 0/9 [00:00<?, ?it/s]"
      ]
     },
     "metadata": {},
     "output_type": "display_data"
    }
   ],
   "source": [
    "# Re-uses \"sectors\" task from previous code cell (!)\n",
    "\n",
    "from cuery import Chain\n",
    "\n",
    "\n",
    "class Job(Response):\n",
    "    job_role: str = Field(description=\"Name of the job role (job title, less than 50 characters)\")\n",
    "    job_description: str = Field(\n",
    "        description=\"A short description of the job role (less than 200 characters)\"\n",
    "    )\n",
    "    job_automation_potential: int = Field(\n",
    "        description=\"A score from 1 to 10 indicating the job's potential for automation\",\n",
    "        ge=0,\n",
    "        le=10,\n",
    "    )\n",
    "\n",
    "\n",
    "class Jobs(Response):\n",
    "    jobs: list[Job] = Field(\n",
    "        description=(\n",
    "            \"A list of jobs with their AI automation potential and reasons for that potential\"\n",
    "        ),\n",
    "    )\n",
    "\n",
    "\n",
    "jobs_prompt = Prompt.from_string(\n",
    "    \"List some job roles with great AI automation potential in the country of {{country}} and the sector '{{sector}}'\"\n",
    ")\n",
    "\n",
    "context = pd.DataFrame(\n",
    "    {\n",
    "        \"country\": [\"Germany\", \"United States\", \"Japan\"],\n",
    "        \"PIB\": [4.0, 5.0, 3.5],\n",
    "    }\n",
    ")\n",
    "\n",
    "jobs_task = Task(prompt=jobs_prompt, response=Jobs)\n",
    "chain = Chain(sectors_task, jobs_task)\n",
    "responses = await chain(context=context)"
   ]
  },
  {
   "cell_type": "code",
   "execution_count": 14,
   "id": "09ba0a65",
   "metadata": {},
   "outputs": [
    {
     "data": {
      "application/vnd.microsoft.datawrangler.viewer.v0+json": {
       "columns": [
        {
         "name": "index",
         "rawType": "int64",
         "type": "integer"
        },
        {
         "name": "sector",
         "rawType": "object",
         "type": "string"
        },
        {
         "name": "country",
         "rawType": "object",
         "type": "string"
        },
        {
         "name": "job_role",
         "rawType": "object",
         "type": "string"
        },
        {
         "name": "job_description",
         "rawType": "object",
         "type": "string"
        },
        {
         "name": "job_automation_potential",
         "rawType": "int64",
         "type": "integer"
        }
       ],
       "ref": "8c8c081c-6d62-4265-949e-4f2f30dacec3",
       "rows": [
        [
         "0",
         "Manufacturing",
         "Germany",
         "Production Planner",
         "Responsible for planning production schedules and optimizing production processes",
         "8"
        ],
        [
         "1",
         "Manufacturing",
         "Germany",
         "Quality Control Inspector",
         "Ensures products meet quality standards through inspections and testing",
         "7"
        ],
        [
         "2",
         "Manufacturing",
         "Germany",
         "Maintenance Technician",
         "Responsible for repairing and maintaining machinery and equipment in manufacturing plants",
         "9"
        ],
        [
         "3",
         "Manufacturing",
         "Germany",
         "Supply Chain Manager",
         "Manages the flow of goods, information, and finances in the supply chain",
         "6"
        ],
        [
         "4",
         "Manufacturing",
         "Germany",
         "Logistics Coordinator",
         "Coordinates the transportation and delivery of materials and products",
         "7"
        ],
        [
         "5",
         "Transportation and Warehousing",
         "Germany",
         "Autonomous Vehicle Engineer",
         "Design and develop autonomous vehicles for various applications",
         "8"
        ],
        [
         "6",
         "Transportation and Warehousing",
         "Germany",
         "Supply Chain Analyst",
         "Manage and optimize supply chain operations using AI and data analytics",
         "7"
        ],
        [
         "7",
         "Transportation and Warehousing",
         "Germany",
         "Warehouse Robotics Engineer",
         "Design and implement robotic systems for warehouse automation",
         "9"
        ],
        [
         "8",
         "Transportation and Warehousing",
         "Germany",
         "Transportation Data Analyst",
         "Analyze transportation data to improve efficiency and reduce costs",
         "6"
        ],
        [
         "9",
         "Information",
         "Germany",
         "Data Scientist",
         "Analyzing complex data to extract insights and drive decision-making",
         "8"
        ],
        [
         "10",
         "Information",
         "Germany",
         "Machine Learning Engineer",
         "Developing algorithms and models for machine learning applications",
         "9"
        ],
        [
         "11",
         "Information",
         "Germany",
         "AI Solutions Architect",
         "Designing and implementing AI solutions for businesses",
         "7"
        ],
        [
         "12",
         "Information",
         "Germany",
         "AI Ethics Specialist",
         "Ensuring ethical use of AI technologies and compliance with regulations",
         "6"
        ],
        [
         "13",
         "Manufacturing",
         "United States",
         "Manufacturing Engineer",
         "Responsible for designing, implementing, and improving manufacturing processes",
         "8"
        ],
        [
         "14",
         "Manufacturing",
         "United States",
         "Supply Chain Manager",
         "Oversees the movement of goods from manufacturers to suppliers to customers",
         "7"
        ],
        [
         "15",
         "Manufacturing",
         "United States",
         "Quality Control Inspector",
         "Ensures products meet quality standards through inspections and testing",
         "6"
        ],
        [
         "16",
         "Manufacturing",
         "United States",
         "Production Planner",
         "Coordinates production schedules and resources for optimal efficiency",
         "7"
        ],
        [
         "17",
         "Manufacturing",
         "United States",
         "Industrial Robot Programmer",
         "Designs and programs robots to automate manufacturing processes",
         "9"
        ],
        [
         "18",
         "Health Care and Social Assistance",
         "United States",
         "Health Informatics Specialist",
         "Analyzing data to improve healthcare outcomes",
         "8"
        ],
        [
         "19",
         "Health Care and Social Assistance",
         "United States",
         "Telehealth Nurse",
         "Providing remote healthcare services via technology",
         "7"
        ],
        [
         "20",
         "Health Care and Social Assistance",
         "United States",
         "Clinical Research Coordinator",
         "Managing clinical trials and data for research",
         "6"
        ],
        [
         "21",
         "Health Care and Social Assistance",
         "United States",
         "Healthcare Data Analyst",
         "Analyzing healthcare data to improve operations",
         "9"
        ],
        [
         "22",
         "Retail Trade",
         "United States",
         "Retail Sales Associate",
         "Assist customers in finding products and processing purchases",
         "7"
        ],
        [
         "23",
         "Retail Trade",
         "United States",
         "Inventory Manager",
         "Responsible for maintaining and managing inventory levels",
         "8"
        ],
        [
         "24",
         "Retail Trade",
         "United States",
         "Customer Service Representative",
         "Handle customer inquiries, complaints, and returns",
         "6"
        ],
        [
         "25",
         "Retail Trade",
         "United States",
         "E-commerce Specialist",
         "Manage online sales platforms and digital marketing strategies",
         "9"
        ],
        [
         "26",
         "Manufacturing",
         "Japan",
         "Robotics Engineer",
         "Design and develop robots for manufacturing processes.",
         "8"
        ],
        [
         "27",
         "Manufacturing",
         "Japan",
         "IoT Specialist",
         "Implement IoT solutions to optimize manufacturing operations.",
         "7"
        ],
        [
         "28",
         "Manufacturing",
         "Japan",
         "Automation Technician",
         "Maintain and repair automated equipment in manufacturing plants.",
         "9"
        ],
        [
         "29",
         "Manufacturing",
         "Japan",
         "Data Analyst",
         "Analyze data to improve manufacturing efficiency and decision-making.",
         "6"
        ],
        [
         "30",
         "Manufacturing",
         "Japan",
         "Industrial Designer",
         "Create product designs using AI-driven software.",
         "7"
        ],
        [
         "31",
         "Healthcare",
         "Japan",
         "Medical Transcriptionist",
         "Transcribe medical reports dictated by doctors and other healthcare professionals. Convert audio recordings into written reports.",
         "7"
        ],
        [
         "32",
         "Healthcare",
         "Japan",
         "Clinical Data Analyst",
         "Analyze clinical data to improve patient care, operational efficiency, and compliance. Use AI tools to facilitate data analysis and interpretation.",
         "8"
        ],
        [
         "33",
         "Healthcare",
         "Japan",
         "Radiologist",
         "Use medical imaging techniques to diagnose and treat diseases. AI can assist in image analysis and interpretation, potentially improving diagnostic accuracy.",
         "6"
        ],
        [
         "34",
         "Healthcare",
         "Japan",
         "Medical Scribe",
         "Assist healthcare providers by documenting patient interactions and medical histories. AI tools can automate documentation tasks.",
         "7"
        ],
        [
         "35",
         "Retail Trade",
         "Japan",
         "E-commerce Manager",
         "Oversees online sales strategies and operations",
         "7"
        ],
        [
         "36",
         "Retail Trade",
         "Japan",
         "Inventory Planner",
         "Responsible for forecasting and managing inventory levels",
         "6"
        ],
        [
         "37",
         "Retail Trade",
         "Japan",
         "Customer Service Representative",
         "Assists customers with inquiries and concerns",
         "5"
        ],
        [
         "38",
         "Retail Trade",
         "Japan",
         "Data Analyst",
         "Analyzes data to provide insights for business decisions",
         "8"
        ],
        [
         "39",
         "Retail Trade",
         "Japan",
         "Digital Marketing Specialist",
         "Develops and implements online marketing campaigns",
         "7"
        ]
       ],
       "shape": {
        "columns": 5,
        "rows": 40
       }
      },
      "text/html": [
       "<div>\n",
       "<style scoped>\n",
       "    .dataframe tbody tr th:only-of-type {\n",
       "        vertical-align: middle;\n",
       "    }\n",
       "\n",
       "    .dataframe tbody tr th {\n",
       "        vertical-align: top;\n",
       "    }\n",
       "\n",
       "    .dataframe thead th {\n",
       "        text-align: right;\n",
       "    }\n",
       "</style>\n",
       "<table border=\"1\" class=\"dataframe\">\n",
       "  <thead>\n",
       "    <tr style=\"text-align: right;\">\n",
       "      <th></th>\n",
       "      <th>sector</th>\n",
       "      <th>country</th>\n",
       "      <th>job_role</th>\n",
       "      <th>job_description</th>\n",
       "      <th>job_automation_potential</th>\n",
       "    </tr>\n",
       "  </thead>\n",
       "  <tbody>\n",
       "    <tr>\n",
       "      <th>0</th>\n",
       "      <td>Manufacturing</td>\n",
       "      <td>Germany</td>\n",
       "      <td>Production Planner</td>\n",
       "      <td>Responsible for planning production schedules ...</td>\n",
       "      <td>8</td>\n",
       "    </tr>\n",
       "    <tr>\n",
       "      <th>1</th>\n",
       "      <td>Manufacturing</td>\n",
       "      <td>Germany</td>\n",
       "      <td>Quality Control Inspector</td>\n",
       "      <td>Ensures products meet quality standards throug...</td>\n",
       "      <td>7</td>\n",
       "    </tr>\n",
       "    <tr>\n",
       "      <th>2</th>\n",
       "      <td>Manufacturing</td>\n",
       "      <td>Germany</td>\n",
       "      <td>Maintenance Technician</td>\n",
       "      <td>Responsible for repairing and maintaining mach...</td>\n",
       "      <td>9</td>\n",
       "    </tr>\n",
       "    <tr>\n",
       "      <th>3</th>\n",
       "      <td>Manufacturing</td>\n",
       "      <td>Germany</td>\n",
       "      <td>Supply Chain Manager</td>\n",
       "      <td>Manages the flow of goods, information, and fi...</td>\n",
       "      <td>6</td>\n",
       "    </tr>\n",
       "    <tr>\n",
       "      <th>4</th>\n",
       "      <td>Manufacturing</td>\n",
       "      <td>Germany</td>\n",
       "      <td>Logistics Coordinator</td>\n",
       "      <td>Coordinates the transportation and delivery of...</td>\n",
       "      <td>7</td>\n",
       "    </tr>\n",
       "    <tr>\n",
       "      <th>5</th>\n",
       "      <td>Transportation and Warehousing</td>\n",
       "      <td>Germany</td>\n",
       "      <td>Autonomous Vehicle Engineer</td>\n",
       "      <td>Design and develop autonomous vehicles for var...</td>\n",
       "      <td>8</td>\n",
       "    </tr>\n",
       "    <tr>\n",
       "      <th>6</th>\n",
       "      <td>Transportation and Warehousing</td>\n",
       "      <td>Germany</td>\n",
       "      <td>Supply Chain Analyst</td>\n",
       "      <td>Manage and optimize supply chain operations us...</td>\n",
       "      <td>7</td>\n",
       "    </tr>\n",
       "    <tr>\n",
       "      <th>7</th>\n",
       "      <td>Transportation and Warehousing</td>\n",
       "      <td>Germany</td>\n",
       "      <td>Warehouse Robotics Engineer</td>\n",
       "      <td>Design and implement robotic systems for wareh...</td>\n",
       "      <td>9</td>\n",
       "    </tr>\n",
       "    <tr>\n",
       "      <th>8</th>\n",
       "      <td>Transportation and Warehousing</td>\n",
       "      <td>Germany</td>\n",
       "      <td>Transportation Data Analyst</td>\n",
       "      <td>Analyze transportation data to improve efficie...</td>\n",
       "      <td>6</td>\n",
       "    </tr>\n",
       "    <tr>\n",
       "      <th>9</th>\n",
       "      <td>Information</td>\n",
       "      <td>Germany</td>\n",
       "      <td>Data Scientist</td>\n",
       "      <td>Analyzing complex data to extract insights and...</td>\n",
       "      <td>8</td>\n",
       "    </tr>\n",
       "    <tr>\n",
       "      <th>10</th>\n",
       "      <td>Information</td>\n",
       "      <td>Germany</td>\n",
       "      <td>Machine Learning Engineer</td>\n",
       "      <td>Developing algorithms and models for machine l...</td>\n",
       "      <td>9</td>\n",
       "    </tr>\n",
       "    <tr>\n",
       "      <th>11</th>\n",
       "      <td>Information</td>\n",
       "      <td>Germany</td>\n",
       "      <td>AI Solutions Architect</td>\n",
       "      <td>Designing and implementing AI solutions for bu...</td>\n",
       "      <td>7</td>\n",
       "    </tr>\n",
       "    <tr>\n",
       "      <th>12</th>\n",
       "      <td>Information</td>\n",
       "      <td>Germany</td>\n",
       "      <td>AI Ethics Specialist</td>\n",
       "      <td>Ensuring ethical use of AI technologies and co...</td>\n",
       "      <td>6</td>\n",
       "    </tr>\n",
       "    <tr>\n",
       "      <th>13</th>\n",
       "      <td>Manufacturing</td>\n",
       "      <td>United States</td>\n",
       "      <td>Manufacturing Engineer</td>\n",
       "      <td>Responsible for designing, implementing, and i...</td>\n",
       "      <td>8</td>\n",
       "    </tr>\n",
       "    <tr>\n",
       "      <th>14</th>\n",
       "      <td>Manufacturing</td>\n",
       "      <td>United States</td>\n",
       "      <td>Supply Chain Manager</td>\n",
       "      <td>Oversees the movement of goods from manufactur...</td>\n",
       "      <td>7</td>\n",
       "    </tr>\n",
       "    <tr>\n",
       "      <th>15</th>\n",
       "      <td>Manufacturing</td>\n",
       "      <td>United States</td>\n",
       "      <td>Quality Control Inspector</td>\n",
       "      <td>Ensures products meet quality standards throug...</td>\n",
       "      <td>6</td>\n",
       "    </tr>\n",
       "    <tr>\n",
       "      <th>16</th>\n",
       "      <td>Manufacturing</td>\n",
       "      <td>United States</td>\n",
       "      <td>Production Planner</td>\n",
       "      <td>Coordinates production schedules and resources...</td>\n",
       "      <td>7</td>\n",
       "    </tr>\n",
       "    <tr>\n",
       "      <th>17</th>\n",
       "      <td>Manufacturing</td>\n",
       "      <td>United States</td>\n",
       "      <td>Industrial Robot Programmer</td>\n",
       "      <td>Designs and programs robots to automate manufa...</td>\n",
       "      <td>9</td>\n",
       "    </tr>\n",
       "    <tr>\n",
       "      <th>18</th>\n",
       "      <td>Health Care and Social Assistance</td>\n",
       "      <td>United States</td>\n",
       "      <td>Health Informatics Specialist</td>\n",
       "      <td>Analyzing data to improve healthcare outcomes</td>\n",
       "      <td>8</td>\n",
       "    </tr>\n",
       "    <tr>\n",
       "      <th>19</th>\n",
       "      <td>Health Care and Social Assistance</td>\n",
       "      <td>United States</td>\n",
       "      <td>Telehealth Nurse</td>\n",
       "      <td>Providing remote healthcare services via techn...</td>\n",
       "      <td>7</td>\n",
       "    </tr>\n",
       "    <tr>\n",
       "      <th>20</th>\n",
       "      <td>Health Care and Social Assistance</td>\n",
       "      <td>United States</td>\n",
       "      <td>Clinical Research Coordinator</td>\n",
       "      <td>Managing clinical trials and data for research</td>\n",
       "      <td>6</td>\n",
       "    </tr>\n",
       "    <tr>\n",
       "      <th>21</th>\n",
       "      <td>Health Care and Social Assistance</td>\n",
       "      <td>United States</td>\n",
       "      <td>Healthcare Data Analyst</td>\n",
       "      <td>Analyzing healthcare data to improve operations</td>\n",
       "      <td>9</td>\n",
       "    </tr>\n",
       "    <tr>\n",
       "      <th>22</th>\n",
       "      <td>Retail Trade</td>\n",
       "      <td>United States</td>\n",
       "      <td>Retail Sales Associate</td>\n",
       "      <td>Assist customers in finding products and proce...</td>\n",
       "      <td>7</td>\n",
       "    </tr>\n",
       "    <tr>\n",
       "      <th>23</th>\n",
       "      <td>Retail Trade</td>\n",
       "      <td>United States</td>\n",
       "      <td>Inventory Manager</td>\n",
       "      <td>Responsible for maintaining and managing inven...</td>\n",
       "      <td>8</td>\n",
       "    </tr>\n",
       "    <tr>\n",
       "      <th>24</th>\n",
       "      <td>Retail Trade</td>\n",
       "      <td>United States</td>\n",
       "      <td>Customer Service Representative</td>\n",
       "      <td>Handle customer inquiries, complaints, and ret...</td>\n",
       "      <td>6</td>\n",
       "    </tr>\n",
       "    <tr>\n",
       "      <th>25</th>\n",
       "      <td>Retail Trade</td>\n",
       "      <td>United States</td>\n",
       "      <td>E-commerce Specialist</td>\n",
       "      <td>Manage online sales platforms and digital mark...</td>\n",
       "      <td>9</td>\n",
       "    </tr>\n",
       "    <tr>\n",
       "      <th>26</th>\n",
       "      <td>Manufacturing</td>\n",
       "      <td>Japan</td>\n",
       "      <td>Robotics Engineer</td>\n",
       "      <td>Design and develop robots for manufacturing pr...</td>\n",
       "      <td>8</td>\n",
       "    </tr>\n",
       "    <tr>\n",
       "      <th>27</th>\n",
       "      <td>Manufacturing</td>\n",
       "      <td>Japan</td>\n",
       "      <td>IoT Specialist</td>\n",
       "      <td>Implement IoT solutions to optimize manufactur...</td>\n",
       "      <td>7</td>\n",
       "    </tr>\n",
       "    <tr>\n",
       "      <th>28</th>\n",
       "      <td>Manufacturing</td>\n",
       "      <td>Japan</td>\n",
       "      <td>Automation Technician</td>\n",
       "      <td>Maintain and repair automated equipment in man...</td>\n",
       "      <td>9</td>\n",
       "    </tr>\n",
       "    <tr>\n",
       "      <th>29</th>\n",
       "      <td>Manufacturing</td>\n",
       "      <td>Japan</td>\n",
       "      <td>Data Analyst</td>\n",
       "      <td>Analyze data to improve manufacturing efficien...</td>\n",
       "      <td>6</td>\n",
       "    </tr>\n",
       "    <tr>\n",
       "      <th>30</th>\n",
       "      <td>Manufacturing</td>\n",
       "      <td>Japan</td>\n",
       "      <td>Industrial Designer</td>\n",
       "      <td>Create product designs using AI-driven software.</td>\n",
       "      <td>7</td>\n",
       "    </tr>\n",
       "    <tr>\n",
       "      <th>31</th>\n",
       "      <td>Healthcare</td>\n",
       "      <td>Japan</td>\n",
       "      <td>Medical Transcriptionist</td>\n",
       "      <td>Transcribe medical reports dictated by doctors...</td>\n",
       "      <td>7</td>\n",
       "    </tr>\n",
       "    <tr>\n",
       "      <th>32</th>\n",
       "      <td>Healthcare</td>\n",
       "      <td>Japan</td>\n",
       "      <td>Clinical Data Analyst</td>\n",
       "      <td>Analyze clinical data to improve patient care,...</td>\n",
       "      <td>8</td>\n",
       "    </tr>\n",
       "    <tr>\n",
       "      <th>33</th>\n",
       "      <td>Healthcare</td>\n",
       "      <td>Japan</td>\n",
       "      <td>Radiologist</td>\n",
       "      <td>Use medical imaging techniques to diagnose and...</td>\n",
       "      <td>6</td>\n",
       "    </tr>\n",
       "    <tr>\n",
       "      <th>34</th>\n",
       "      <td>Healthcare</td>\n",
       "      <td>Japan</td>\n",
       "      <td>Medical Scribe</td>\n",
       "      <td>Assist healthcare providers by documenting pat...</td>\n",
       "      <td>7</td>\n",
       "    </tr>\n",
       "    <tr>\n",
       "      <th>35</th>\n",
       "      <td>Retail Trade</td>\n",
       "      <td>Japan</td>\n",
       "      <td>E-commerce Manager</td>\n",
       "      <td>Oversees online sales strategies and operations</td>\n",
       "      <td>7</td>\n",
       "    </tr>\n",
       "    <tr>\n",
       "      <th>36</th>\n",
       "      <td>Retail Trade</td>\n",
       "      <td>Japan</td>\n",
       "      <td>Inventory Planner</td>\n",
       "      <td>Responsible for forecasting and managing inven...</td>\n",
       "      <td>6</td>\n",
       "    </tr>\n",
       "    <tr>\n",
       "      <th>37</th>\n",
       "      <td>Retail Trade</td>\n",
       "      <td>Japan</td>\n",
       "      <td>Customer Service Representative</td>\n",
       "      <td>Assists customers with inquiries and concerns</td>\n",
       "      <td>5</td>\n",
       "    </tr>\n",
       "    <tr>\n",
       "      <th>38</th>\n",
       "      <td>Retail Trade</td>\n",
       "      <td>Japan</td>\n",
       "      <td>Data Analyst</td>\n",
       "      <td>Analyzes data to provide insights for business...</td>\n",
       "      <td>8</td>\n",
       "    </tr>\n",
       "    <tr>\n",
       "      <th>39</th>\n",
       "      <td>Retail Trade</td>\n",
       "      <td>Japan</td>\n",
       "      <td>Digital Marketing Specialist</td>\n",
       "      <td>Develops and implements online marketing campa...</td>\n",
       "      <td>7</td>\n",
       "    </tr>\n",
       "  </tbody>\n",
       "</table>\n",
       "</div>"
      ],
      "text/plain": [
       "                               sector        country  \\\n",
       "0                       Manufacturing        Germany   \n",
       "1                       Manufacturing        Germany   \n",
       "2                       Manufacturing        Germany   \n",
       "3                       Manufacturing        Germany   \n",
       "4                       Manufacturing        Germany   \n",
       "5      Transportation and Warehousing        Germany   \n",
       "6      Transportation and Warehousing        Germany   \n",
       "7      Transportation and Warehousing        Germany   \n",
       "8      Transportation and Warehousing        Germany   \n",
       "9                         Information        Germany   \n",
       "10                        Information        Germany   \n",
       "11                        Information        Germany   \n",
       "12                        Information        Germany   \n",
       "13                      Manufacturing  United States   \n",
       "14                      Manufacturing  United States   \n",
       "15                      Manufacturing  United States   \n",
       "16                      Manufacturing  United States   \n",
       "17                      Manufacturing  United States   \n",
       "18  Health Care and Social Assistance  United States   \n",
       "19  Health Care and Social Assistance  United States   \n",
       "20  Health Care and Social Assistance  United States   \n",
       "21  Health Care and Social Assistance  United States   \n",
       "22                       Retail Trade  United States   \n",
       "23                       Retail Trade  United States   \n",
       "24                       Retail Trade  United States   \n",
       "25                       Retail Trade  United States   \n",
       "26                      Manufacturing          Japan   \n",
       "27                      Manufacturing          Japan   \n",
       "28                      Manufacturing          Japan   \n",
       "29                      Manufacturing          Japan   \n",
       "30                      Manufacturing          Japan   \n",
       "31                         Healthcare          Japan   \n",
       "32                         Healthcare          Japan   \n",
       "33                         Healthcare          Japan   \n",
       "34                         Healthcare          Japan   \n",
       "35                       Retail Trade          Japan   \n",
       "36                       Retail Trade          Japan   \n",
       "37                       Retail Trade          Japan   \n",
       "38                       Retail Trade          Japan   \n",
       "39                       Retail Trade          Japan   \n",
       "\n",
       "                           job_role  \\\n",
       "0                Production Planner   \n",
       "1         Quality Control Inspector   \n",
       "2            Maintenance Technician   \n",
       "3              Supply Chain Manager   \n",
       "4             Logistics Coordinator   \n",
       "5       Autonomous Vehicle Engineer   \n",
       "6              Supply Chain Analyst   \n",
       "7       Warehouse Robotics Engineer   \n",
       "8       Transportation Data Analyst   \n",
       "9                    Data Scientist   \n",
       "10        Machine Learning Engineer   \n",
       "11           AI Solutions Architect   \n",
       "12             AI Ethics Specialist   \n",
       "13           Manufacturing Engineer   \n",
       "14             Supply Chain Manager   \n",
       "15        Quality Control Inspector   \n",
       "16               Production Planner   \n",
       "17      Industrial Robot Programmer   \n",
       "18    Health Informatics Specialist   \n",
       "19                 Telehealth Nurse   \n",
       "20    Clinical Research Coordinator   \n",
       "21          Healthcare Data Analyst   \n",
       "22           Retail Sales Associate   \n",
       "23                Inventory Manager   \n",
       "24  Customer Service Representative   \n",
       "25            E-commerce Specialist   \n",
       "26                Robotics Engineer   \n",
       "27                   IoT Specialist   \n",
       "28            Automation Technician   \n",
       "29                     Data Analyst   \n",
       "30              Industrial Designer   \n",
       "31         Medical Transcriptionist   \n",
       "32            Clinical Data Analyst   \n",
       "33                      Radiologist   \n",
       "34                   Medical Scribe   \n",
       "35               E-commerce Manager   \n",
       "36                Inventory Planner   \n",
       "37  Customer Service Representative   \n",
       "38                     Data Analyst   \n",
       "39     Digital Marketing Specialist   \n",
       "\n",
       "                                      job_description  \\\n",
       "0   Responsible for planning production schedules ...   \n",
       "1   Ensures products meet quality standards throug...   \n",
       "2   Responsible for repairing and maintaining mach...   \n",
       "3   Manages the flow of goods, information, and fi...   \n",
       "4   Coordinates the transportation and delivery of...   \n",
       "5   Design and develop autonomous vehicles for var...   \n",
       "6   Manage and optimize supply chain operations us...   \n",
       "7   Design and implement robotic systems for wareh...   \n",
       "8   Analyze transportation data to improve efficie...   \n",
       "9   Analyzing complex data to extract insights and...   \n",
       "10  Developing algorithms and models for machine l...   \n",
       "11  Designing and implementing AI solutions for bu...   \n",
       "12  Ensuring ethical use of AI technologies and co...   \n",
       "13  Responsible for designing, implementing, and i...   \n",
       "14  Oversees the movement of goods from manufactur...   \n",
       "15  Ensures products meet quality standards throug...   \n",
       "16  Coordinates production schedules and resources...   \n",
       "17  Designs and programs robots to automate manufa...   \n",
       "18      Analyzing data to improve healthcare outcomes   \n",
       "19  Providing remote healthcare services via techn...   \n",
       "20     Managing clinical trials and data for research   \n",
       "21    Analyzing healthcare data to improve operations   \n",
       "22  Assist customers in finding products and proce...   \n",
       "23  Responsible for maintaining and managing inven...   \n",
       "24  Handle customer inquiries, complaints, and ret...   \n",
       "25  Manage online sales platforms and digital mark...   \n",
       "26  Design and develop robots for manufacturing pr...   \n",
       "27  Implement IoT solutions to optimize manufactur...   \n",
       "28  Maintain and repair automated equipment in man...   \n",
       "29  Analyze data to improve manufacturing efficien...   \n",
       "30   Create product designs using AI-driven software.   \n",
       "31  Transcribe medical reports dictated by doctors...   \n",
       "32  Analyze clinical data to improve patient care,...   \n",
       "33  Use medical imaging techniques to diagnose and...   \n",
       "34  Assist healthcare providers by documenting pat...   \n",
       "35    Oversees online sales strategies and operations   \n",
       "36  Responsible for forecasting and managing inven...   \n",
       "37      Assists customers with inquiries and concerns   \n",
       "38  Analyzes data to provide insights for business...   \n",
       "39  Develops and implements online marketing campa...   \n",
       "\n",
       "    job_automation_potential  \n",
       "0                          8  \n",
       "1                          7  \n",
       "2                          9  \n",
       "3                          6  \n",
       "4                          7  \n",
       "5                          8  \n",
       "6                          7  \n",
       "7                          9  \n",
       "8                          6  \n",
       "9                          8  \n",
       "10                         9  \n",
       "11                         7  \n",
       "12                         6  \n",
       "13                         8  \n",
       "14                         7  \n",
       "15                         6  \n",
       "16                         7  \n",
       "17                         9  \n",
       "18                         8  \n",
       "19                         7  \n",
       "20                         6  \n",
       "21                         9  \n",
       "22                         7  \n",
       "23                         8  \n",
       "24                         6  \n",
       "25                         9  \n",
       "26                         8  \n",
       "27                         7  \n",
       "28                         9  \n",
       "29                         6  \n",
       "30                         7  \n",
       "31                         7  \n",
       "32                         8  \n",
       "33                         6  \n",
       "34                         7  \n",
       "35                         7  \n",
       "36                         6  \n",
       "37                         5  \n",
       "38                         8  \n",
       "39                         7  "
      ]
     },
     "execution_count": 14,
     "metadata": {},
     "output_type": "execute_result"
    }
   ],
   "source": [
    "responses"
   ]
  },
  {
   "cell_type": "markdown",
   "id": "b77a4ede",
   "metadata": {},
   "source": [
    "# Web search"
   ]
  },
  {
   "cell_type": "code",
   "execution_count": 66,
   "id": "13704b8f",
   "metadata": {},
   "outputs": [],
   "source": [
    "import instructor\n",
    "\n",
    "from cuery import Field, Prompt, Response, Task, pprint\n",
    "\n",
    "\n",
    "class Citation(Response):\n",
    "    id: int\n",
    "    url: str\n",
    "\n",
    "\n",
    "class Place(Response):\n",
    "    name: str = Field(..., description=\"Name of the restaurant.\")\n",
    "    address: str = Field(..., description=\"Address of the restaurant.\")\n",
    "    telephone: str = Field(..., description=\"Telephone number of the restaurant.\")\n",
    "\n",
    "\n",
    "class Places(Response):\n",
    "    summary: str\n",
    "    citations: list[Citation]\n",
    "\n",
    "\n",
    "client = instructor.from_provider(\n",
    "    \"openai/gpt-4.1-mini\",\n",
    "    mode=instructor.Mode.RESPONSES_TOOLS_WITH_INBUILT_TOOLS,\n",
    "    async_client=True,\n",
    ")\n",
    "\n",
    "response, completion = await client.responses.create_with_completion(\n",
    "    input=\"What are some of the best places to eat Paella in Madrid, Spain? Return a list of restaurants with their name, address and telephone number.\",\n",
    "    tools=[\n",
    "        {\n",
    "            \"type\": \"web_search_preview\",\n",
    "            \"search_context_size\": \"low\",\n",
    "            \"user_location\": {\n",
    "                \"type\": \"approximate\",\n",
    "                \"country\": \"ES\",\n",
    "                \"city\": \"Madrid\",\n",
    "                \"region\": \"Madrid\",\n",
    "            },\n",
    "        }\n",
    "    ],\n",
    "    response_model=Places,\n",
    ")\n"
   ]
  },
  {
   "cell_type": "code",
   "execution_count": 67,
   "id": "3af7cc19",
   "metadata": {},
   "outputs": [
    {
     "data": {
      "text/html": [
       "<pre style=\"white-space:pre;overflow-x:auto;line-height:normal;font-family:Menlo,'DejaVu Sans Mono',consolas,'Courier New',monospace\"><span style=\"font-weight: bold\">{</span>\n",
       "    <span style=\"color: #008000; text-decoration-color: #008000\">'summary'</span>: <span style=\"color: #008000; text-decoration-color: #008000\">'Here are some recommended restaurants to eat Paella in Madrid, Spain, including their name, </span>\n",
       "<span style=\"color: #008000; text-decoration-color: #008000\">address, and telephone number.'</span>,\n",
       "    <span style=\"color: #008000; text-decoration-color: #008000\">'citations'</span>: <span style=\"font-weight: bold\">[</span>\n",
       "        <span style=\"font-weight: bold\">{</span><span style=\"color: #008000; text-decoration-color: #008000\">'id'</span>: <span style=\"color: #008080; text-decoration-color: #008080; font-weight: bold\">1</span>, <span style=\"color: #008000; text-decoration-color: #008000\">'url'</span>: <span style=\"color: #008000; text-decoration-color: #008000\">'http://casalucio.es?utm_source=openai'</span><span style=\"font-weight: bold\">}</span>,\n",
       "        <span style=\"font-weight: bold\">{</span><span style=\"color: #008000; text-decoration-color: #008000\">'id'</span>: <span style=\"color: #008080; text-decoration-color: #008080; font-weight: bold\">2</span>, <span style=\"color: #008000; text-decoration-color: #008000\">'url'</span>: <span style=\"color: #008000; text-decoration-color: #008000\">'http://www.botin.es?utm_source=openai'</span><span style=\"font-weight: bold\">}</span>,\n",
       "        <span style=\"font-weight: bold\">{</span><span style=\"color: #008000; text-decoration-color: #008000\">'id'</span>: <span style=\"color: #008080; text-decoration-color: #008080; font-weight: bold\">3</span>, <span style=\"color: #008000; text-decoration-color: #008000\">'url'</span>: <span style=\"color: #008000; text-decoration-color: #008000\">'http://www.labarraca.es?utm_source=openai'</span><span style=\"font-weight: bold\">}</span>,\n",
       "        <span style=\"font-weight: bold\">{</span><span style=\"color: #008000; text-decoration-color: #008000\">'id'</span>: <span style=\"color: #008080; text-decoration-color: #008080; font-weight: bold\">4</span>, <span style=\"color: #008000; text-decoration-color: #008000\">'url'</span>: <span style=\"color: #008000; text-decoration-color: #008000\">'http://www.lacasavalencia.es?utm_source=openai'</span><span style=\"font-weight: bold\">}</span>,\n",
       "        <span style=\"font-weight: bold\">{</span><span style=\"color: #008000; text-decoration-color: #008000\">'id'</span>: <span style=\"color: #008080; text-decoration-color: #008080; font-weight: bold\">5</span>, <span style=\"color: #008000; text-decoration-color: #008000\">'url'</span>: <span style=\"color: #008000; text-decoration-color: #008000\">'http://www.elcluballard.com?utm_source=openai'</span><span style=\"font-weight: bold\">}</span>,\n",
       "        <span style=\"font-weight: bold\">{</span><span style=\"color: #008000; text-decoration-color: #008000\">'id'</span>: <span style=\"color: #008080; text-decoration-color: #008080; font-weight: bold\">6</span>, <span style=\"color: #008000; text-decoration-color: #008000\">'url'</span>: <span style=\"color: #008000; text-decoration-color: #008000\">'http://www.lapaelladelareina.com/?utm_source=openai'</span><span style=\"font-weight: bold\">}</span>\n",
       "    <span style=\"font-weight: bold\">]</span>\n",
       "<span style=\"font-weight: bold\">}</span>\n",
       "</pre>\n"
      ],
      "text/plain": [
       "\u001b[1m{\u001b[0m\n",
       "    \u001b[32m'summary'\u001b[0m: \u001b[32m'Here are some recommended restaurants to eat Paella in Madrid, Spain, including their name, \u001b[0m\n",
       "\u001b[32maddress, and telephone number.'\u001b[0m,\n",
       "    \u001b[32m'citations'\u001b[0m: \u001b[1m[\u001b[0m\n",
       "        \u001b[1m{\u001b[0m\u001b[32m'id'\u001b[0m: \u001b[1;36m1\u001b[0m, \u001b[32m'url'\u001b[0m: \u001b[32m'http://casalucio.es?\u001b[0m\u001b[32mutm_source\u001b[0m\u001b[32m=\u001b[0m\u001b[32mopenai\u001b[0m\u001b[32m'\u001b[0m\u001b[1m}\u001b[0m,\n",
       "        \u001b[1m{\u001b[0m\u001b[32m'id'\u001b[0m: \u001b[1;36m2\u001b[0m, \u001b[32m'url'\u001b[0m: \u001b[32m'http://www.botin.es?\u001b[0m\u001b[32mutm_source\u001b[0m\u001b[32m=\u001b[0m\u001b[32mopenai\u001b[0m\u001b[32m'\u001b[0m\u001b[1m}\u001b[0m,\n",
       "        \u001b[1m{\u001b[0m\u001b[32m'id'\u001b[0m: \u001b[1;36m3\u001b[0m, \u001b[32m'url'\u001b[0m: \u001b[32m'http://www.labarraca.es?\u001b[0m\u001b[32mutm_source\u001b[0m\u001b[32m=\u001b[0m\u001b[32mopenai\u001b[0m\u001b[32m'\u001b[0m\u001b[1m}\u001b[0m,\n",
       "        \u001b[1m{\u001b[0m\u001b[32m'id'\u001b[0m: \u001b[1;36m4\u001b[0m, \u001b[32m'url'\u001b[0m: \u001b[32m'http://www.lacasavalencia.es?\u001b[0m\u001b[32mutm_source\u001b[0m\u001b[32m=\u001b[0m\u001b[32mopenai\u001b[0m\u001b[32m'\u001b[0m\u001b[1m}\u001b[0m,\n",
       "        \u001b[1m{\u001b[0m\u001b[32m'id'\u001b[0m: \u001b[1;36m5\u001b[0m, \u001b[32m'url'\u001b[0m: \u001b[32m'http://www.elcluballard.com?\u001b[0m\u001b[32mutm_source\u001b[0m\u001b[32m=\u001b[0m\u001b[32mopenai\u001b[0m\u001b[32m'\u001b[0m\u001b[1m}\u001b[0m,\n",
       "        \u001b[1m{\u001b[0m\u001b[32m'id'\u001b[0m: \u001b[1;36m6\u001b[0m, \u001b[32m'url'\u001b[0m: \u001b[32m'http://www.lapaelladelareina.com/?\u001b[0m\u001b[32mutm_source\u001b[0m\u001b[32m=\u001b[0m\u001b[32mopenai\u001b[0m\u001b[32m'\u001b[0m\u001b[1m}\u001b[0m\n",
       "    \u001b[1m]\u001b[0m\n",
       "\u001b[1m}\u001b[0m\n"
      ]
     },
     "metadata": {},
     "output_type": "display_data"
    }
   ],
   "source": [
    "pprint(response.to_dict())"
   ]
  },
  {
   "cell_type": "code",
   "execution_count": 69,
   "id": "eff7dc04",
   "metadata": {},
   "outputs": [
    {
     "data": {
      "text/html": [
       "<pre style=\"white-space:pre;overflow-x:auto;line-height:normal;font-family:Menlo,'DejaVu Sans Mono',consolas,'Courier New',monospace\"><span style=\"color: #800080; text-decoration-color: #800080; font-weight: bold\">Response</span><span style=\"font-weight: bold\">(</span>\n",
       "    <span style=\"color: #808000; text-decoration-color: #808000\">id</span>=<span style=\"color: #008000; text-decoration-color: #008000\">'resp_6847f6e9a26081a3be30dfa0397be1b605a3d309438af1d8'</span>,\n",
       "    <span style=\"color: #808000; text-decoration-color: #808000\">created_at</span>=<span style=\"color: #008080; text-decoration-color: #008080; font-weight: bold\">1749546729.0</span>,\n",
       "    <span style=\"color: #808000; text-decoration-color: #808000\">error</span>=<span style=\"color: #800080; text-decoration-color: #800080; font-style: italic\">None</span>,\n",
       "    <span style=\"color: #808000; text-decoration-color: #808000\">incomplete_details</span>=<span style=\"color: #800080; text-decoration-color: #800080; font-style: italic\">None</span>,\n",
       "    <span style=\"color: #808000; text-decoration-color: #808000\">instructions</span>=<span style=\"color: #800080; text-decoration-color: #800080; font-style: italic\">None</span>,\n",
       "    <span style=\"color: #808000; text-decoration-color: #808000\">metadata</span>=<span style=\"font-weight: bold\">{}</span>,\n",
       "    <span style=\"color: #808000; text-decoration-color: #808000\">model</span>=<span style=\"color: #008000; text-decoration-color: #008000\">'gpt-4.1-mini-2025-04-14'</span>,\n",
       "    <span style=\"color: #808000; text-decoration-color: #808000\">object</span>=<span style=\"color: #008000; text-decoration-color: #008000\">'response'</span>,\n",
       "    <span style=\"color: #808000; text-decoration-color: #808000\">output</span>=<span style=\"font-weight: bold\">[</span>\n",
       "        <span style=\"color: #800080; text-decoration-color: #800080; font-weight: bold\">ResponseFunctionWebSearch</span><span style=\"font-weight: bold\">(</span>\n",
       "            <span style=\"color: #808000; text-decoration-color: #808000\">id</span>=<span style=\"color: #008000; text-decoration-color: #008000\">'ws_6847f6f20a3081a3a87f96dc3c282fe105a3d309438af1d8'</span>,\n",
       "            <span style=\"color: #808000; text-decoration-color: #808000\">status</span>=<span style=\"color: #008000; text-decoration-color: #008000\">'completed'</span>,\n",
       "            <span style=\"color: #808000; text-decoration-color: #808000\">type</span>=<span style=\"color: #008000; text-decoration-color: #008000\">'web_search_call'</span>\n",
       "        <span style=\"font-weight: bold\">)</span>,\n",
       "        <span style=\"color: #800080; text-decoration-color: #800080; font-weight: bold\">ResponseOutputMessage</span><span style=\"font-weight: bold\">(</span>\n",
       "            <span style=\"color: #808000; text-decoration-color: #808000\">id</span>=<span style=\"color: #008000; text-decoration-color: #008000\">'msg_6847f6f4df6481a3bb498e559d99644a05a3d309438af1d8'</span>,\n",
       "            <span style=\"color: #808000; text-decoration-color: #808000\">content</span>=<span style=\"font-weight: bold\">[</span>\n",
       "                <span style=\"color: #800080; text-decoration-color: #800080; font-weight: bold\">ResponseOutputText</span><span style=\"font-weight: bold\">(</span>\n",
       "                    <span style=\"color: #808000; text-decoration-color: #808000\">annotations</span>=<span style=\"font-weight: bold\">[</span>\n",
       "                        <span style=\"color: #800080; text-decoration-color: #800080; font-weight: bold\">AnnotationURLCitation</span><span style=\"font-weight: bold\">(</span>\n",
       "                            <span style=\"color: #808000; text-decoration-color: #808000\">end_index</span>=<span style=\"color: #008080; text-decoration-color: #008080; font-weight: bold\">131</span>,\n",
       "                            <span style=\"color: #808000; text-decoration-color: #808000\">start_index</span>=<span style=\"color: #008080; text-decoration-color: #008080; font-weight: bold\">80</span>,\n",
       "                            <span style=\"color: #808000; text-decoration-color: #808000\">title</span>=<span style=\"color: #008000; text-decoration-color: #008000\">'Casa Lucio'</span>,\n",
       "                            <span style=\"color: #808000; text-decoration-color: #808000\">type</span>=<span style=\"color: #008000; text-decoration-color: #008000\">'url_citation'</span>,\n",
       "                            <span style=\"color: #808000; text-decoration-color: #808000\">url</span>=<span style=\"color: #008000; text-decoration-color: #008000\">'http://casalucio.es?utm_source=openai'</span>\n",
       "                        <span style=\"font-weight: bold\">)</span>,\n",
       "                        <span style=\"color: #800080; text-decoration-color: #800080; font-weight: bold\">AnnotationURLCitation</span><span style=\"font-weight: bold\">(</span>\n",
       "                            <span style=\"color: #808000; text-decoration-color: #808000\">end_index</span>=<span style=\"color: #008080; text-decoration-color: #008080; font-weight: bold\">366</span>,\n",
       "                            <span style=\"color: #808000; text-decoration-color: #808000\">start_index</span>=<span style=\"color: #008080; text-decoration-color: #008080; font-weight: bold\">320</span>,\n",
       "                            <span style=\"color: #808000; text-decoration-color: #808000\">title</span>=<span style=\"color: #008000; text-decoration-color: #008000\">'Botín'</span>,\n",
       "                            <span style=\"color: #808000; text-decoration-color: #808000\">type</span>=<span style=\"color: #008000; text-decoration-color: #008000\">'url_citation'</span>,\n",
       "                            <span style=\"color: #808000; text-decoration-color: #808000\">url</span>=<span style=\"color: #008000; text-decoration-color: #008000\">'http://www.botin.es?utm_source=openai'</span>\n",
       "                        <span style=\"font-weight: bold\">)</span>,\n",
       "                        <span style=\"color: #800080; text-decoration-color: #800080; font-weight: bold\">AnnotationURLCitation</span><span style=\"font-weight: bold\">(</span>\n",
       "                            <span style=\"color: #808000; text-decoration-color: #808000\">end_index</span>=<span style=\"color: #008080; text-decoration-color: #008080; font-weight: bold\">675</span>,\n",
       "                            <span style=\"color: #808000; text-decoration-color: #808000\">start_index</span>=<span style=\"color: #008080; text-decoration-color: #008080; font-weight: bold\">620</span>,\n",
       "                            <span style=\"color: #808000; text-decoration-color: #808000\">title</span>=<span style=\"color: #008000; text-decoration-color: #008000\">'La Barraca'</span>,\n",
       "                            <span style=\"color: #808000; text-decoration-color: #808000\">type</span>=<span style=\"color: #008000; text-decoration-color: #008000\">'url_citation'</span>,\n",
       "                            <span style=\"color: #808000; text-decoration-color: #808000\">url</span>=<span style=\"color: #008000; text-decoration-color: #008000\">'http://www.labarraca.es?utm_source=openai'</span>\n",
       "                        <span style=\"font-weight: bold\">)</span>,\n",
       "                        <span style=\"color: #800080; text-decoration-color: #800080; font-weight: bold\">AnnotationURLCitation</span><span style=\"font-weight: bold\">(</span>\n",
       "                            <span style=\"color: #808000; text-decoration-color: #808000\">end_index</span>=<span style=\"color: #008080; text-decoration-color: #008080; font-weight: bold\">945</span>,\n",
       "                            <span style=\"color: #808000; text-decoration-color: #808000\">start_index</span>=<span style=\"color: #008080; text-decoration-color: #008080; font-weight: bold\">879</span>,\n",
       "                            <span style=\"color: #808000; text-decoration-color: #808000\">title</span>=<span style=\"color: #008000; text-decoration-color: #008000\">'Casa de Valencia'</span>,\n",
       "                            <span style=\"color: #808000; text-decoration-color: #808000\">type</span>=<span style=\"color: #008000; text-decoration-color: #008000\">'url_citation'</span>,\n",
       "                            <span style=\"color: #808000; text-decoration-color: #808000\">url</span>=<span style=\"color: #008000; text-decoration-color: #008000\">'http://www.lacasavalencia.es?utm_source=openai'</span>\n",
       "                        <span style=\"font-weight: bold\">)</span>,\n",
       "                        <span style=\"color: #800080; text-decoration-color: #800080; font-weight: bold\">AnnotationURLCitation</span><span style=\"font-weight: bold\">(</span>\n",
       "                            <span style=\"color: #808000; text-decoration-color: #808000\">end_index</span>=<span style=\"color: #008080; text-decoration-color: #008080; font-weight: bold\">1210</span>,\n",
       "                            <span style=\"color: #808000; text-decoration-color: #808000\">start_index</span>=<span style=\"color: #008080; text-decoration-color: #008080; font-weight: bold\">1150</span>,\n",
       "                            <span style=\"color: #808000; text-decoration-color: #808000\">title</span>=<span style=\"color: #008000; text-decoration-color: #008000\">'Club Allard'</span>,\n",
       "                            <span style=\"color: #808000; text-decoration-color: #808000\">type</span>=<span style=\"color: #008000; text-decoration-color: #008000\">'url_citation'</span>,\n",
       "                            <span style=\"color: #808000; text-decoration-color: #808000\">url</span>=<span style=\"color: #008000; text-decoration-color: #008000\">'http://www.elcluballard.com?utm_source=openai'</span>\n",
       "                        <span style=\"font-weight: bold\">)</span>,\n",
       "                        <span style=\"color: #800080; text-decoration-color: #800080; font-weight: bold\">AnnotationURLCitation</span><span style=\"font-weight: bold\">(</span>\n",
       "                            <span style=\"color: #808000; text-decoration-color: #808000\">end_index</span>=<span style=\"color: #008080; text-decoration-color: #008080; font-weight: bold\">1486</span>,\n",
       "                            <span style=\"color: #808000; text-decoration-color: #808000\">start_index</span>=<span style=\"color: #008080; text-decoration-color: #008080; font-weight: bold\">1410</span>,\n",
       "                            <span style=\"color: #808000; text-decoration-color: #808000\">title</span>=<span style=\"color: #008000; text-decoration-color: #008000\">'La Paella de la Reina'</span>,\n",
       "                            <span style=\"color: #808000; text-decoration-color: #808000\">type</span>=<span style=\"color: #008000; text-decoration-color: #008000\">'url_citation'</span>,\n",
       "                            <span style=\"color: #808000; text-decoration-color: #808000\">url</span>=<span style=\"color: #008000; text-decoration-color: #008000\">'http://www.lapaelladelareina.com/?utm_source=openai'</span>\n",
       "                        <span style=\"font-weight: bold\">)</span>\n",
       "                    <span style=\"font-weight: bold\">]</span>,\n",
       "                    <span style=\"color: #808000; text-decoration-color: #808000\">text</span>=<span style=\"color: #008000; text-decoration-color: #008000\">\"Here are some of the best places to enjoy authentic paella in Madrid, Spain:\\n\\n**[Casa </span>\n",
       "<span style=\"color: #008000; text-decoration-color: #008000\">Lucio](http://casalucio.es?utm_source=openai)**  \\n**Closed · Spanish · $$ · 4.3 (741 reviews)**  \\n_C. Cava Baja, </span>\n",
       "<span style=\"color: #008000; text-decoration-color: #008000\">35, 28005 Madrid Comunidad de Madrid_  \\nFamous for its traditional Spanish cuisine, including a renowned paella </span>\n",
       "<span style=\"color: #008000; text-decoration-color: #008000\">dish.\\n\\n**[Botín](http://www.botin.es?utm_source=openai)**  \\n**Closed · Spanish · $$$ · 4.2 (1216 reviews)**  </span>\n",
       "<span style=\"color: #008000; text-decoration-color: #008000\">\\n_Calle de los Cuchilleros, 17, LOC;DUP 17-19;, 28005 Madrid Comunidad de Madrid_  \\nEstablished in 1725, this </span>\n",
       "<span style=\"color: #008000; text-decoration-color: #008000\">historic restaurant offers a variety of Spanish dishes, including a delectable paella.\\n\\n**[La </span>\n",
       "<span style=\"color: #008000; text-decoration-color: #008000\">Barraca](http://www.labarraca.es?utm_source=openai)**  \\n**Closed · Paella · $$$ · 3.7 (386 reviews)**  \\n_C. de la</span>\n",
       "<span style=\"color: #008000; text-decoration-color: #008000\">Reina, 29, 28004 Madrid Comunidad de Madrid_  \\nSpecializes in traditional Valencian paella, offering a range of </span>\n",
       "<span style=\"color: #008000; text-decoration-color: #008000\">seafood and meat options.\\n\\n**[Casa de Valencia](http://www.lacasavalencia.es?utm_source=openai)**  \\n**Closed · </span>\n",
       "<span style=\"color: #008000; text-decoration-color: #008000\">Paella · $$$ · 3.9 (122 reviews)**  \\n_P. Pintor Rosales, 58, 28008 Madrid Comunidad de Madrid_  \\nKnown for its </span>\n",
       "<span style=\"color: #008000; text-decoration-color: #008000\">authentic Valencian paella, prepared with fresh, high-quality ingredients.\\n\\n**[Club </span>\n",
       "<span style=\"color: #008000; text-decoration-color: #008000\">Allard](http://www.elcluballard.com?utm_source=openai)**  \\n**Closed · Spanish · $$ · 4.2 (155 reviews)**  \\n_C. </span>\n",
       "<span style=\"color: #008000; text-decoration-color: #008000\">Ferraz, 2, 28008 Madrid Comunidad de Madrid_  \\nOffers a modern twist on traditional Spanish dishes, including </span>\n",
       "<span style=\"color: #008000; text-decoration-color: #008000\">innovative paella variations.\\n\\n**[La Paella de la Reina](http://www.lapaelladelareina.com/?utm_source=openai)**  </span>\n",
       "<span style=\"color: #008000; text-decoration-color: #008000\">\\n**Closed · €20–40 · 4.0 (2939 reviews)**  \\n_C. de la Reina, 39, Centro, 28004 Madrid, Spain_  \\nA family-run </span>\n",
       "<span style=\"color: #008000; text-decoration-color: #008000\">restaurant serving a variety of paella dishes in a cozy atmosphere.\\n\\nPlease note that it's advisable to make </span>\n",
       "<span style=\"color: #008000; text-decoration-color: #008000\">reservations in advance, especially during peak dining hours, to ensure availability. \"</span>,\n",
       "                    <span style=\"color: #808000; text-decoration-color: #808000\">type</span>=<span style=\"color: #008000; text-decoration-color: #008000\">'output_text'</span>,\n",
       "                    <span style=\"color: #808000; text-decoration-color: #808000\">logprobs</span>=<span style=\"color: #800080; text-decoration-color: #800080; font-style: italic\">None</span>\n",
       "                <span style=\"font-weight: bold\">)</span>\n",
       "            <span style=\"font-weight: bold\">]</span>,\n",
       "            <span style=\"color: #808000; text-decoration-color: #808000\">role</span>=<span style=\"color: #008000; text-decoration-color: #008000\">'assistant'</span>,\n",
       "            <span style=\"color: #808000; text-decoration-color: #808000\">status</span>=<span style=\"color: #008000; text-decoration-color: #008000\">'completed'</span>,\n",
       "            <span style=\"color: #808000; text-decoration-color: #808000\">type</span>=<span style=\"color: #008000; text-decoration-color: #008000\">'message'</span>\n",
       "        <span style=\"font-weight: bold\">)</span>,\n",
       "        <span style=\"color: #800080; text-decoration-color: #800080; font-weight: bold\">ResponseFunctionToolCall</span><span style=\"font-weight: bold\">(</span>\n",
       "            <span style=\"color: #808000; text-decoration-color: #808000\">arguments</span>=<span style=\"color: #008000; text-decoration-color: #008000\">'{\"summary\":\"Here are some recommended restaurants to eat Paella in Madrid, Spain, including </span>\n",
       "<span style=\"color: #008000; text-decoration-color: #008000\">their name, address, and telephone </span>\n",
       "<span style=\"color: #008000; text-decoration-color: #008000\">number.\",\"citations\":[{\"id\":1,\"url\":\"http://casalucio.es?utm_source=openai\"},{\"id\":2,\"url\":\"http://www.botin.es?utm</span>\n",
       "<span style=\"color: #008000; text-decoration-color: #008000\">_source=openai\"},{\"id\":3,\"url\":\"http://www.labarraca.es?utm_source=openai\"},{\"id\":4,\"url\":\"http://www.lacasavalenci</span>\n",
       "<span style=\"color: #008000; text-decoration-color: #008000\">a.es?utm_source=openai\"},{\"id\":5,\"url\":\"http://www.elcluballard.com?utm_source=openai\"},{\"id\":6,\"url\":\"http://www.l</span>\n",
       "<span style=\"color: #008000; text-decoration-color: #008000\">apaelladelareina.com/?utm_source=openai\"}]}'</span>,\n",
       "            <span style=\"color: #808000; text-decoration-color: #808000\">call_id</span>=<span style=\"color: #008000; text-decoration-color: #008000\">'call_waeLHSoRxnjVIn1ktzzvh0J8'</span>,\n",
       "            <span style=\"color: #808000; text-decoration-color: #808000\">name</span>=<span style=\"color: #008000; text-decoration-color: #008000\">'Places'</span>,\n",
       "            <span style=\"color: #808000; text-decoration-color: #808000\">type</span>=<span style=\"color: #008000; text-decoration-color: #008000\">'function_call'</span>,\n",
       "            <span style=\"color: #808000; text-decoration-color: #808000\">id</span>=<span style=\"color: #008000; text-decoration-color: #008000\">'fc_6847f70114d081a3ad7327ce34d3a37005a3d309438af1d8'</span>,\n",
       "            <span style=\"color: #808000; text-decoration-color: #808000\">status</span>=<span style=\"color: #008000; text-decoration-color: #008000\">'completed'</span>\n",
       "        <span style=\"font-weight: bold\">)</span>\n",
       "    <span style=\"font-weight: bold\">]</span>,\n",
       "    <span style=\"color: #808000; text-decoration-color: #808000\">parallel_tool_calls</span>=<span style=\"color: #00ff00; text-decoration-color: #00ff00; font-style: italic\">True</span>,\n",
       "    <span style=\"color: #808000; text-decoration-color: #808000\">temperature</span>=<span style=\"color: #008080; text-decoration-color: #008080; font-weight: bold\">1.0</span>,\n",
       "    <span style=\"color: #808000; text-decoration-color: #808000\">tool_choice</span>=<span style=\"color: #008000; text-decoration-color: #008000\">'auto'</span>,\n",
       "    <span style=\"color: #808000; text-decoration-color: #808000\">tools</span>=<span style=\"font-weight: bold\">[</span>\n",
       "        <span style=\"color: #800080; text-decoration-color: #800080; font-weight: bold\">FunctionTool</span><span style=\"font-weight: bold\">(</span>\n",
       "            <span style=\"color: #808000; text-decoration-color: #808000\">name</span>=<span style=\"color: #008000; text-decoration-color: #008000\">'Places'</span>,\n",
       "            <span style=\"color: #808000; text-decoration-color: #808000\">parameters</span>=<span style=\"font-weight: bold\">{</span>\n",
       "                <span style=\"color: #008000; text-decoration-color: #008000\">'$defs'</span>: <span style=\"font-weight: bold\">{</span>\n",
       "                    <span style=\"color: #008000; text-decoration-color: #008000\">'Citation'</span>: <span style=\"font-weight: bold\">{</span>\n",
       "                        <span style=\"color: #008000; text-decoration-color: #008000\">'properties'</span>: <span style=\"font-weight: bold\">{</span>\n",
       "                            <span style=\"color: #008000; text-decoration-color: #008000\">'id'</span>: <span style=\"font-weight: bold\">{</span><span style=\"color: #008000; text-decoration-color: #008000\">'title'</span>: <span style=\"color: #008000; text-decoration-color: #008000\">'Id'</span>, <span style=\"color: #008000; text-decoration-color: #008000\">'type'</span>: <span style=\"color: #008000; text-decoration-color: #008000\">'integer'</span><span style=\"font-weight: bold\">}</span>,\n",
       "                            <span style=\"color: #008000; text-decoration-color: #008000\">'url'</span>: <span style=\"font-weight: bold\">{</span><span style=\"color: #008000; text-decoration-color: #008000\">'title'</span>: <span style=\"color: #008000; text-decoration-color: #008000\">'Url'</span>, <span style=\"color: #008000; text-decoration-color: #008000\">'type'</span>: <span style=\"color: #008000; text-decoration-color: #008000\">'string'</span><span style=\"font-weight: bold\">}</span>\n",
       "                        <span style=\"font-weight: bold\">}</span>,\n",
       "                        <span style=\"color: #008000; text-decoration-color: #008000\">'required'</span>: <span style=\"font-weight: bold\">[</span><span style=\"color: #008000; text-decoration-color: #008000\">'id'</span>, <span style=\"color: #008000; text-decoration-color: #008000\">'url'</span><span style=\"font-weight: bold\">]</span>,\n",
       "                        <span style=\"color: #008000; text-decoration-color: #008000\">'title'</span>: <span style=\"color: #008000; text-decoration-color: #008000\">'Citation'</span>,\n",
       "                        <span style=\"color: #008000; text-decoration-color: #008000\">'type'</span>: <span style=\"color: #008000; text-decoration-color: #008000\">'object'</span>,\n",
       "                        <span style=\"color: #008000; text-decoration-color: #008000\">'additionalProperties'</span>: <span style=\"color: #ff0000; text-decoration-color: #ff0000; font-style: italic\">False</span>\n",
       "                    <span style=\"font-weight: bold\">}</span>\n",
       "                <span style=\"font-weight: bold\">}</span>,\n",
       "                <span style=\"color: #008000; text-decoration-color: #008000\">'properties'</span>: <span style=\"font-weight: bold\">{</span>\n",
       "                    <span style=\"color: #008000; text-decoration-color: #008000\">'summary'</span>: <span style=\"font-weight: bold\">{</span><span style=\"color: #008000; text-decoration-color: #008000\">'title'</span>: <span style=\"color: #008000; text-decoration-color: #008000\">'Summary'</span>, <span style=\"color: #008000; text-decoration-color: #008000\">'type'</span>: <span style=\"color: #008000; text-decoration-color: #008000\">'string'</span><span style=\"font-weight: bold\">}</span>,\n",
       "                    <span style=\"color: #008000; text-decoration-color: #008000\">'citations'</span>: <span style=\"font-weight: bold\">{</span><span style=\"color: #008000; text-decoration-color: #008000\">'items'</span>: <span style=\"font-weight: bold\">{</span><span style=\"color: #008000; text-decoration-color: #008000\">'$ref'</span>: <span style=\"color: #008000; text-decoration-color: #008000\">'#/$defs/Citation'</span><span style=\"font-weight: bold\">}</span>, <span style=\"color: #008000; text-decoration-color: #008000\">'title'</span>: <span style=\"color: #008000; text-decoration-color: #008000\">'Citations'</span>, <span style=\"color: #008000; text-decoration-color: #008000\">'type'</span>: <span style=\"color: #008000; text-decoration-color: #008000\">'array'</span><span style=\"font-weight: bold\">}</span>\n",
       "                <span style=\"font-weight: bold\">}</span>,\n",
       "                <span style=\"color: #008000; text-decoration-color: #008000\">'required'</span>: <span style=\"font-weight: bold\">[</span><span style=\"color: #008000; text-decoration-color: #008000\">'summary'</span>, <span style=\"color: #008000; text-decoration-color: #008000\">'citations'</span><span style=\"font-weight: bold\">]</span>,\n",
       "                <span style=\"color: #008000; text-decoration-color: #008000\">'title'</span>: <span style=\"color: #008000; text-decoration-color: #008000\">'Places'</span>,\n",
       "                <span style=\"color: #008000; text-decoration-color: #008000\">'type'</span>: <span style=\"color: #008000; text-decoration-color: #008000\">'object'</span>,\n",
       "                <span style=\"color: #008000; text-decoration-color: #008000\">'additionalProperties'</span>: <span style=\"color: #ff0000; text-decoration-color: #ff0000; font-style: italic\">False</span>\n",
       "            <span style=\"font-weight: bold\">}</span>,\n",
       "            <span style=\"color: #808000; text-decoration-color: #808000\">strict</span>=<span style=\"color: #00ff00; text-decoration-color: #00ff00; font-style: italic\">True</span>,\n",
       "            <span style=\"color: #808000; text-decoration-color: #808000\">type</span>=<span style=\"color: #008000; text-decoration-color: #008000\">'function'</span>,\n",
       "            <span style=\"color: #808000; text-decoration-color: #808000\">description</span>=<span style=\"color: #008000; text-decoration-color: #008000\">'Correctly extracted `Places` with all the required parameters with correct types'</span>\n",
       "        <span style=\"font-weight: bold\">)</span>,\n",
       "        <span style=\"color: #800080; text-decoration-color: #800080; font-weight: bold\">WebSearchTool</span><span style=\"font-weight: bold\">(</span>\n",
       "            <span style=\"color: #808000; text-decoration-color: #808000\">type</span>=<span style=\"color: #008000; text-decoration-color: #008000\">'web_search_preview'</span>,\n",
       "            <span style=\"color: #808000; text-decoration-color: #808000\">search_context_size</span>=<span style=\"color: #008000; text-decoration-color: #008000\">'low'</span>,\n",
       "            <span style=\"color: #808000; text-decoration-color: #808000\">user_location</span>=<span style=\"color: #800080; text-decoration-color: #800080; font-weight: bold\">UserLocation</span><span style=\"font-weight: bold\">(</span>\n",
       "                <span style=\"color: #808000; text-decoration-color: #808000\">type</span>=<span style=\"color: #008000; text-decoration-color: #008000\">'approximate'</span>,\n",
       "                <span style=\"color: #808000; text-decoration-color: #808000\">city</span>=<span style=\"color: #008000; text-decoration-color: #008000\">'Madrid'</span>,\n",
       "                <span style=\"color: #808000; text-decoration-color: #808000\">country</span>=<span style=\"color: #008000; text-decoration-color: #008000\">'ES'</span>,\n",
       "                <span style=\"color: #808000; text-decoration-color: #808000\">region</span>=<span style=\"color: #008000; text-decoration-color: #008000\">'Madrid'</span>,\n",
       "                <span style=\"color: #808000; text-decoration-color: #808000\">timezone</span>=<span style=\"color: #800080; text-decoration-color: #800080; font-style: italic\">None</span>\n",
       "            <span style=\"font-weight: bold\">)</span>\n",
       "        <span style=\"font-weight: bold\">)</span>\n",
       "    <span style=\"font-weight: bold\">]</span>,\n",
       "    <span style=\"color: #808000; text-decoration-color: #808000\">top_p</span>=<span style=\"color: #008080; text-decoration-color: #008080; font-weight: bold\">1.0</span>,\n",
       "    <span style=\"color: #808000; text-decoration-color: #808000\">background</span>=<span style=\"color: #ff0000; text-decoration-color: #ff0000; font-style: italic\">False</span>,\n",
       "    <span style=\"color: #808000; text-decoration-color: #808000\">max_output_tokens</span>=<span style=\"color: #800080; text-decoration-color: #800080; font-style: italic\">None</span>,\n",
       "    <span style=\"color: #808000; text-decoration-color: #808000\">previous_response_id</span>=<span style=\"color: #800080; text-decoration-color: #800080; font-style: italic\">None</span>,\n",
       "    <span style=\"color: #808000; text-decoration-color: #808000\">reasoning</span>=<span style=\"color: #800080; text-decoration-color: #800080; font-weight: bold\">Reasoning</span><span style=\"font-weight: bold\">(</span><span style=\"color: #808000; text-decoration-color: #808000\">effort</span>=<span style=\"color: #800080; text-decoration-color: #800080; font-style: italic\">None</span>, <span style=\"color: #808000; text-decoration-color: #808000\">generate_summary</span>=<span style=\"color: #800080; text-decoration-color: #800080; font-style: italic\">None</span>, <span style=\"color: #808000; text-decoration-color: #808000\">summary</span>=<span style=\"color: #800080; text-decoration-color: #800080; font-style: italic\">None</span><span style=\"font-weight: bold\">)</span>,\n",
       "    <span style=\"color: #808000; text-decoration-color: #808000\">service_tier</span>=<span style=\"color: #008000; text-decoration-color: #008000\">'default'</span>,\n",
       "    <span style=\"color: #808000; text-decoration-color: #808000\">status</span>=<span style=\"color: #008000; text-decoration-color: #008000\">'completed'</span>,\n",
       "    <span style=\"color: #808000; text-decoration-color: #808000\">text</span>=<span style=\"color: #800080; text-decoration-color: #800080; font-weight: bold\">ResponseTextConfig</span><span style=\"font-weight: bold\">(</span><span style=\"color: #808000; text-decoration-color: #808000\">format</span>=<span style=\"color: #800080; text-decoration-color: #800080; font-weight: bold\">ResponseFormatText</span><span style=\"font-weight: bold\">(</span><span style=\"color: #808000; text-decoration-color: #808000\">type</span>=<span style=\"color: #008000; text-decoration-color: #008000\">'text'</span><span style=\"font-weight: bold\">))</span>,\n",
       "    <span style=\"color: #808000; text-decoration-color: #808000\">truncation</span>=<span style=\"color: #008000; text-decoration-color: #008000\">'disabled'</span>,\n",
       "    <span style=\"color: #808000; text-decoration-color: #808000\">usage</span>=<span style=\"color: #800080; text-decoration-color: #800080; font-weight: bold\">ResponseUsage</span><span style=\"font-weight: bold\">(</span>\n",
       "        <span style=\"color: #808000; text-decoration-color: #808000\">input_tokens</span>=<span style=\"color: #008080; text-decoration-color: #008080; font-weight: bold\">1349</span>,\n",
       "        <span style=\"color: #808000; text-decoration-color: #808000\">input_tokens_details</span>=<span style=\"color: #800080; text-decoration-color: #800080; font-weight: bold\">InputTokensDetails</span><span style=\"font-weight: bold\">(</span><span style=\"color: #808000; text-decoration-color: #808000\">cached_tokens</span>=<span style=\"color: #008080; text-decoration-color: #008080; font-weight: bold\">0</span><span style=\"font-weight: bold\">)</span>,\n",
       "        <span style=\"color: #808000; text-decoration-color: #808000\">output_tokens</span>=<span style=\"color: #008080; text-decoration-color: #008080; font-weight: bold\">670</span>,\n",
       "        <span style=\"color: #808000; text-decoration-color: #808000\">output_tokens_details</span>=<span style=\"color: #800080; text-decoration-color: #800080; font-weight: bold\">OutputTokensDetails</span><span style=\"font-weight: bold\">(</span><span style=\"color: #808000; text-decoration-color: #808000\">reasoning_tokens</span>=<span style=\"color: #008080; text-decoration-color: #008080; font-weight: bold\">0</span><span style=\"font-weight: bold\">)</span>,\n",
       "        <span style=\"color: #808000; text-decoration-color: #808000\">total_tokens</span>=<span style=\"color: #008080; text-decoration-color: #008080; font-weight: bold\">2019</span>\n",
       "    <span style=\"font-weight: bold\">)</span>,\n",
       "    <span style=\"color: #808000; text-decoration-color: #808000\">user</span>=<span style=\"color: #800080; text-decoration-color: #800080; font-style: italic\">None</span>,\n",
       "    <span style=\"color: #808000; text-decoration-color: #808000\">store</span>=<span style=\"color: #00ff00; text-decoration-color: #00ff00; font-style: italic\">True</span>\n",
       "<span style=\"font-weight: bold\">)</span>\n",
       "</pre>\n"
      ],
      "text/plain": [
       "\u001b[1;35mResponse\u001b[0m\u001b[1m(\u001b[0m\n",
       "    \u001b[33mid\u001b[0m=\u001b[32m'resp_6847f6e9a26081a3be30dfa0397be1b605a3d309438af1d8'\u001b[0m,\n",
       "    \u001b[33mcreated_at\u001b[0m=\u001b[1;36m1749546729\u001b[0m\u001b[1;36m.0\u001b[0m,\n",
       "    \u001b[33merror\u001b[0m=\u001b[3;35mNone\u001b[0m,\n",
       "    \u001b[33mincomplete_details\u001b[0m=\u001b[3;35mNone\u001b[0m,\n",
       "    \u001b[33minstructions\u001b[0m=\u001b[3;35mNone\u001b[0m,\n",
       "    \u001b[33mmetadata\u001b[0m=\u001b[1m{\u001b[0m\u001b[1m}\u001b[0m,\n",
       "    \u001b[33mmodel\u001b[0m=\u001b[32m'gpt-4.1-mini-2025-04-14'\u001b[0m,\n",
       "    \u001b[33mobject\u001b[0m=\u001b[32m'response'\u001b[0m,\n",
       "    \u001b[33moutput\u001b[0m=\u001b[1m[\u001b[0m\n",
       "        \u001b[1;35mResponseFunctionWebSearch\u001b[0m\u001b[1m(\u001b[0m\n",
       "            \u001b[33mid\u001b[0m=\u001b[32m'ws_6847f6f20a3081a3a87f96dc3c282fe105a3d309438af1d8'\u001b[0m,\n",
       "            \u001b[33mstatus\u001b[0m=\u001b[32m'completed'\u001b[0m,\n",
       "            \u001b[33mtype\u001b[0m=\u001b[32m'web_search_call'\u001b[0m\n",
       "        \u001b[1m)\u001b[0m,\n",
       "        \u001b[1;35mResponseOutputMessage\u001b[0m\u001b[1m(\u001b[0m\n",
       "            \u001b[33mid\u001b[0m=\u001b[32m'msg_6847f6f4df6481a3bb498e559d99644a05a3d309438af1d8'\u001b[0m,\n",
       "            \u001b[33mcontent\u001b[0m=\u001b[1m[\u001b[0m\n",
       "                \u001b[1;35mResponseOutputText\u001b[0m\u001b[1m(\u001b[0m\n",
       "                    \u001b[33mannotations\u001b[0m=\u001b[1m[\u001b[0m\n",
       "                        \u001b[1;35mAnnotationURLCitation\u001b[0m\u001b[1m(\u001b[0m\n",
       "                            \u001b[33mend_index\u001b[0m=\u001b[1;36m131\u001b[0m,\n",
       "                            \u001b[33mstart_index\u001b[0m=\u001b[1;36m80\u001b[0m,\n",
       "                            \u001b[33mtitle\u001b[0m=\u001b[32m'Casa Lucio'\u001b[0m,\n",
       "                            \u001b[33mtype\u001b[0m=\u001b[32m'url_citation'\u001b[0m,\n",
       "                            \u001b[33murl\u001b[0m=\u001b[32m'http://casalucio.es?\u001b[0m\u001b[32mutm_source\u001b[0m\u001b[32m=\u001b[0m\u001b[32mopenai\u001b[0m\u001b[32m'\u001b[0m\n",
       "                        \u001b[1m)\u001b[0m,\n",
       "                        \u001b[1;35mAnnotationURLCitation\u001b[0m\u001b[1m(\u001b[0m\n",
       "                            \u001b[33mend_index\u001b[0m=\u001b[1;36m366\u001b[0m,\n",
       "                            \u001b[33mstart_index\u001b[0m=\u001b[1;36m320\u001b[0m,\n",
       "                            \u001b[33mtitle\u001b[0m=\u001b[32m'Botín'\u001b[0m,\n",
       "                            \u001b[33mtype\u001b[0m=\u001b[32m'url_citation'\u001b[0m,\n",
       "                            \u001b[33murl\u001b[0m=\u001b[32m'http://www.botin.es?\u001b[0m\u001b[32mutm_source\u001b[0m\u001b[32m=\u001b[0m\u001b[32mopenai\u001b[0m\u001b[32m'\u001b[0m\n",
       "                        \u001b[1m)\u001b[0m,\n",
       "                        \u001b[1;35mAnnotationURLCitation\u001b[0m\u001b[1m(\u001b[0m\n",
       "                            \u001b[33mend_index\u001b[0m=\u001b[1;36m675\u001b[0m,\n",
       "                            \u001b[33mstart_index\u001b[0m=\u001b[1;36m620\u001b[0m,\n",
       "                            \u001b[33mtitle\u001b[0m=\u001b[32m'La Barraca'\u001b[0m,\n",
       "                            \u001b[33mtype\u001b[0m=\u001b[32m'url_citation'\u001b[0m,\n",
       "                            \u001b[33murl\u001b[0m=\u001b[32m'http://www.labarraca.es?\u001b[0m\u001b[32mutm_source\u001b[0m\u001b[32m=\u001b[0m\u001b[32mopenai\u001b[0m\u001b[32m'\u001b[0m\n",
       "                        \u001b[1m)\u001b[0m,\n",
       "                        \u001b[1;35mAnnotationURLCitation\u001b[0m\u001b[1m(\u001b[0m\n",
       "                            \u001b[33mend_index\u001b[0m=\u001b[1;36m945\u001b[0m,\n",
       "                            \u001b[33mstart_index\u001b[0m=\u001b[1;36m879\u001b[0m,\n",
       "                            \u001b[33mtitle\u001b[0m=\u001b[32m'Casa de Valencia'\u001b[0m,\n",
       "                            \u001b[33mtype\u001b[0m=\u001b[32m'url_citation'\u001b[0m,\n",
       "                            \u001b[33murl\u001b[0m=\u001b[32m'http://www.lacasavalencia.es?\u001b[0m\u001b[32mutm_source\u001b[0m\u001b[32m=\u001b[0m\u001b[32mopenai\u001b[0m\u001b[32m'\u001b[0m\n",
       "                        \u001b[1m)\u001b[0m,\n",
       "                        \u001b[1;35mAnnotationURLCitation\u001b[0m\u001b[1m(\u001b[0m\n",
       "                            \u001b[33mend_index\u001b[0m=\u001b[1;36m1210\u001b[0m,\n",
       "                            \u001b[33mstart_index\u001b[0m=\u001b[1;36m1150\u001b[0m,\n",
       "                            \u001b[33mtitle\u001b[0m=\u001b[32m'Club Allard'\u001b[0m,\n",
       "                            \u001b[33mtype\u001b[0m=\u001b[32m'url_citation'\u001b[0m,\n",
       "                            \u001b[33murl\u001b[0m=\u001b[32m'http://www.elcluballard.com?\u001b[0m\u001b[32mutm_source\u001b[0m\u001b[32m=\u001b[0m\u001b[32mopenai\u001b[0m\u001b[32m'\u001b[0m\n",
       "                        \u001b[1m)\u001b[0m,\n",
       "                        \u001b[1;35mAnnotationURLCitation\u001b[0m\u001b[1m(\u001b[0m\n",
       "                            \u001b[33mend_index\u001b[0m=\u001b[1;36m1486\u001b[0m,\n",
       "                            \u001b[33mstart_index\u001b[0m=\u001b[1;36m1410\u001b[0m,\n",
       "                            \u001b[33mtitle\u001b[0m=\u001b[32m'La Paella de la Reina'\u001b[0m,\n",
       "                            \u001b[33mtype\u001b[0m=\u001b[32m'url_citation'\u001b[0m,\n",
       "                            \u001b[33murl\u001b[0m=\u001b[32m'http://www.lapaelladelareina.com/?\u001b[0m\u001b[32mutm_source\u001b[0m\u001b[32m=\u001b[0m\u001b[32mopenai\u001b[0m\u001b[32m'\u001b[0m\n",
       "                        \u001b[1m)\u001b[0m\n",
       "                    \u001b[1m]\u001b[0m,\n",
       "                    \u001b[33mtext\u001b[0m=\u001b[32m\"Here\u001b[0m\u001b[32m are some of the best places to enjoy authentic paella in Madrid, Spain:\\n\\n**\u001b[0m\u001b[32m[\u001b[0m\u001b[32mCasa \u001b[0m\n",
       "\u001b[32mLucio\u001b[0m\u001b[32m]\u001b[0m\u001b[32m(\u001b[0m\u001b[32mhttp://casalucio.es?\u001b[0m\u001b[32mutm_source\u001b[0m\u001b[32m=\u001b[0m\u001b[32mopenai\u001b[0m\u001b[32m)\u001b[0m\u001b[32m**  \\n**Closed · Spanish · $$ · 4.3 \u001b[0m\u001b[32m(\u001b[0m\u001b[32m741 reviews\u001b[0m\u001b[32m)\u001b[0m\u001b[32m**  \\n_C. Cava Baja, \u001b[0m\n",
       "\u001b[32m35, 28005 Madrid Comunidad de Madrid_  \\nFamous for its traditional Spanish cuisine, including a renowned paella \u001b[0m\n",
       "\u001b[32mdish.\\n\\n**\u001b[0m\u001b[32m[\u001b[0m\u001b[32mBotín\u001b[0m\u001b[32m]\u001b[0m\u001b[32m(\u001b[0m\u001b[32mhttp://www.botin.es?\u001b[0m\u001b[32mutm_source\u001b[0m\u001b[32m=\u001b[0m\u001b[32mopenai\u001b[0m\u001b[32m)\u001b[0m\u001b[32m**  \\n**Closed · Spanish · $$$ · 4.2 \u001b[0m\u001b[32m(\u001b[0m\u001b[32m1216 reviews\u001b[0m\u001b[32m)\u001b[0m\u001b[32m**  \u001b[0m\n",
       "\u001b[32m\\n_Calle de los Cuchilleros, 17, LOC;DUP 17-19;, 28005 Madrid Comunidad de Madrid_  \\nEstablished in 1725, this \u001b[0m\n",
       "\u001b[32mhistoric restaurant offers a variety of Spanish dishes, including a delectable paella.\\n\\n**\u001b[0m\u001b[32m[\u001b[0m\u001b[32mLa \u001b[0m\n",
       "\u001b[32mBarraca\u001b[0m\u001b[32m]\u001b[0m\u001b[32m(\u001b[0m\u001b[32mhttp://www.labarraca.es?\u001b[0m\u001b[32mutm_source\u001b[0m\u001b[32m=\u001b[0m\u001b[32mopenai\u001b[0m\u001b[32m)\u001b[0m\u001b[32m**  \\n**Closed · Paella · $$$ · 3.7 \u001b[0m\u001b[32m(\u001b[0m\u001b[32m386 reviews\u001b[0m\u001b[32m)\u001b[0m\u001b[32m**  \\n_C. de la\u001b[0m\n",
       "\u001b[32mReina, 29, 28004 Madrid Comunidad de Madrid_  \\nSpecializes in traditional Valencian paella, offering a range of \u001b[0m\n",
       "\u001b[32mseafood and meat options.\\n\\n**\u001b[0m\u001b[32m[\u001b[0m\u001b[32mCasa de Valencia\u001b[0m\u001b[32m]\u001b[0m\u001b[32m(\u001b[0m\u001b[32mhttp://www.lacasavalencia.es?\u001b[0m\u001b[32mutm_source\u001b[0m\u001b[32m=\u001b[0m\u001b[32mopenai\u001b[0m\u001b[32m)\u001b[0m\u001b[32m**  \\n**Closed · \u001b[0m\n",
       "\u001b[32mPaella · $$$ · 3.9 \u001b[0m\u001b[32m(\u001b[0m\u001b[32m122 reviews\u001b[0m\u001b[32m)\u001b[0m\u001b[32m**  \\n_P. Pintor Rosales, 58, 28008 Madrid Comunidad de Madrid_  \\nKnown for its \u001b[0m\n",
       "\u001b[32mauthentic Valencian paella, prepared with fresh, high-quality ingredients.\\n\\n**\u001b[0m\u001b[32m[\u001b[0m\u001b[32mClub \u001b[0m\n",
       "\u001b[32mAllard\u001b[0m\u001b[32m]\u001b[0m\u001b[32m(\u001b[0m\u001b[32mhttp://www.elcluballard.com?\u001b[0m\u001b[32mutm_source\u001b[0m\u001b[32m=\u001b[0m\u001b[32mopenai\u001b[0m\u001b[32m)\u001b[0m\u001b[32m**  \\n**Closed · Spanish · $$ · 4.2 \u001b[0m\u001b[32m(\u001b[0m\u001b[32m155 reviews\u001b[0m\u001b[32m)\u001b[0m\u001b[32m**  \\n_C. \u001b[0m\n",
       "\u001b[32mFerraz, 2, 28008 Madrid Comunidad de Madrid_  \\nOffers a modern twist on traditional Spanish dishes, including \u001b[0m\n",
       "\u001b[32minnovative paella variations.\\n\\n**\u001b[0m\u001b[32m[\u001b[0m\u001b[32mLa Paella de la Reina\u001b[0m\u001b[32m]\u001b[0m\u001b[32m(\u001b[0m\u001b[32mhttp://www.lapaelladelareina.com/?\u001b[0m\u001b[32mutm_source\u001b[0m\u001b[32m=\u001b[0m\u001b[32mopenai\u001b[0m\u001b[32m)\u001b[0m\u001b[32m**  \u001b[0m\n",
       "\u001b[32m\\n**Closed · €20–40 · 4.0 \u001b[0m\u001b[32m(\u001b[0m\u001b[32m2939 reviews\u001b[0m\u001b[32m)\u001b[0m\u001b[32m**  \\n_C. de la Reina, 39, Centro, 28004 Madrid, Spain_  \\nA family-run \u001b[0m\n",
       "\u001b[32mrestaurant serving a variety of paella dishes in a cozy atmosphere.\\n\\nPlease note that it's advisable to make \u001b[0m\n",
       "\u001b[32mreservations in advance, especially during peak dining hours, to ensure availability. \"\u001b[0m,\n",
       "                    \u001b[33mtype\u001b[0m=\u001b[32m'output_text'\u001b[0m,\n",
       "                    \u001b[33mlogprobs\u001b[0m=\u001b[3;35mNone\u001b[0m\n",
       "                \u001b[1m)\u001b[0m\n",
       "            \u001b[1m]\u001b[0m,\n",
       "            \u001b[33mrole\u001b[0m=\u001b[32m'assistant'\u001b[0m,\n",
       "            \u001b[33mstatus\u001b[0m=\u001b[32m'completed'\u001b[0m,\n",
       "            \u001b[33mtype\u001b[0m=\u001b[32m'message'\u001b[0m\n",
       "        \u001b[1m)\u001b[0m,\n",
       "        \u001b[1;35mResponseFunctionToolCall\u001b[0m\u001b[1m(\u001b[0m\n",
       "            \u001b[33marguments\u001b[0m=\u001b[32m'\u001b[0m\u001b[32m{\u001b[0m\u001b[32m\"summary\":\"Here are some recommended restaurants to eat Paella in Madrid, Spain, including \u001b[0m\n",
       "\u001b[32mtheir name, address, and telephone \u001b[0m\n",
       "\u001b[32mnumber.\",\"citations\":\u001b[0m\u001b[32m[\u001b[0m\u001b[32m{\u001b[0m\u001b[32m\"id\":1,\"url\":\"http://casalucio.es?\u001b[0m\u001b[32mutm_source\u001b[0m\u001b[32m=\u001b[0m\u001b[32mopenai\"\u001b[0m\u001b[32m}\u001b[0m\u001b[32m,\u001b[0m\u001b[32m{\u001b[0m\u001b[32m\"id\":2,\"url\":\"http://www.botin.es?\u001b[0m\u001b[32mutm\u001b[0m\n",
       "\u001b[32m_source\u001b[0m\u001b[32m=\u001b[0m\u001b[32mopenai\"\u001b[0m\u001b[32m}\u001b[0m\u001b[32m,\u001b[0m\u001b[32m{\u001b[0m\u001b[32m\"id\":3,\"url\":\"http://www.labarraca.es?\u001b[0m\u001b[32mutm_source\u001b[0m\u001b[32m=\u001b[0m\u001b[32mopenai\"\u001b[0m\u001b[32m}\u001b[0m\u001b[32m,\u001b[0m\u001b[32m{\u001b[0m\u001b[32m\"id\":4,\"url\":\"http://www.lacasavalenci\u001b[0m\n",
       "\u001b[32ma.es?\u001b[0m\u001b[32mutm_source\u001b[0m\u001b[32m=\u001b[0m\u001b[32mopenai\"\u001b[0m\u001b[32m}\u001b[0m\u001b[32m,\u001b[0m\u001b[32m{\u001b[0m\u001b[32m\"id\":5,\"url\":\"http://www.elcluballard.com?\u001b[0m\u001b[32mutm_source\u001b[0m\u001b[32m=\u001b[0m\u001b[32mopenai\"\u001b[0m\u001b[32m}\u001b[0m\u001b[32m,\u001b[0m\u001b[32m{\u001b[0m\u001b[32m\"id\":6,\"url\":\"http://www.l\u001b[0m\n",
       "\u001b[32mapaelladelareina.com/?\u001b[0m\u001b[32mutm_source\u001b[0m\u001b[32m=\u001b[0m\u001b[32mopenai\"\u001b[0m\u001b[32m}\u001b[0m\u001b[32m]\u001b[0m\u001b[32m}\u001b[0m\u001b[32m'\u001b[0m,\n",
       "            \u001b[33mcall_id\u001b[0m=\u001b[32m'call_waeLHSoRxnjVIn1ktzzvh0J8'\u001b[0m,\n",
       "            \u001b[33mname\u001b[0m=\u001b[32m'Places'\u001b[0m,\n",
       "            \u001b[33mtype\u001b[0m=\u001b[32m'function_call'\u001b[0m,\n",
       "            \u001b[33mid\u001b[0m=\u001b[32m'fc_6847f70114d081a3ad7327ce34d3a37005a3d309438af1d8'\u001b[0m,\n",
       "            \u001b[33mstatus\u001b[0m=\u001b[32m'completed'\u001b[0m\n",
       "        \u001b[1m)\u001b[0m\n",
       "    \u001b[1m]\u001b[0m,\n",
       "    \u001b[33mparallel_tool_calls\u001b[0m=\u001b[3;92mTrue\u001b[0m,\n",
       "    \u001b[33mtemperature\u001b[0m=\u001b[1;36m1\u001b[0m\u001b[1;36m.0\u001b[0m,\n",
       "    \u001b[33mtool_choice\u001b[0m=\u001b[32m'auto'\u001b[0m,\n",
       "    \u001b[33mtools\u001b[0m=\u001b[1m[\u001b[0m\n",
       "        \u001b[1;35mFunctionTool\u001b[0m\u001b[1m(\u001b[0m\n",
       "            \u001b[33mname\u001b[0m=\u001b[32m'Places'\u001b[0m,\n",
       "            \u001b[33mparameters\u001b[0m=\u001b[1m{\u001b[0m\n",
       "                \u001b[32m'$defs'\u001b[0m: \u001b[1m{\u001b[0m\n",
       "                    \u001b[32m'Citation'\u001b[0m: \u001b[1m{\u001b[0m\n",
       "                        \u001b[32m'properties'\u001b[0m: \u001b[1m{\u001b[0m\n",
       "                            \u001b[32m'id'\u001b[0m: \u001b[1m{\u001b[0m\u001b[32m'title'\u001b[0m: \u001b[32m'Id'\u001b[0m, \u001b[32m'type'\u001b[0m: \u001b[32m'integer'\u001b[0m\u001b[1m}\u001b[0m,\n",
       "                            \u001b[32m'url'\u001b[0m: \u001b[1m{\u001b[0m\u001b[32m'title'\u001b[0m: \u001b[32m'Url'\u001b[0m, \u001b[32m'type'\u001b[0m: \u001b[32m'string'\u001b[0m\u001b[1m}\u001b[0m\n",
       "                        \u001b[1m}\u001b[0m,\n",
       "                        \u001b[32m'required'\u001b[0m: \u001b[1m[\u001b[0m\u001b[32m'id'\u001b[0m, \u001b[32m'url'\u001b[0m\u001b[1m]\u001b[0m,\n",
       "                        \u001b[32m'title'\u001b[0m: \u001b[32m'Citation'\u001b[0m,\n",
       "                        \u001b[32m'type'\u001b[0m: \u001b[32m'object'\u001b[0m,\n",
       "                        \u001b[32m'additionalProperties'\u001b[0m: \u001b[3;91mFalse\u001b[0m\n",
       "                    \u001b[1m}\u001b[0m\n",
       "                \u001b[1m}\u001b[0m,\n",
       "                \u001b[32m'properties'\u001b[0m: \u001b[1m{\u001b[0m\n",
       "                    \u001b[32m'summary'\u001b[0m: \u001b[1m{\u001b[0m\u001b[32m'title'\u001b[0m: \u001b[32m'Summary'\u001b[0m, \u001b[32m'type'\u001b[0m: \u001b[32m'string'\u001b[0m\u001b[1m}\u001b[0m,\n",
       "                    \u001b[32m'citations'\u001b[0m: \u001b[1m{\u001b[0m\u001b[32m'items'\u001b[0m: \u001b[1m{\u001b[0m\u001b[32m'$ref'\u001b[0m: \u001b[32m'#/$defs/Citation'\u001b[0m\u001b[1m}\u001b[0m, \u001b[32m'title'\u001b[0m: \u001b[32m'Citations'\u001b[0m, \u001b[32m'type'\u001b[0m: \u001b[32m'array'\u001b[0m\u001b[1m}\u001b[0m\n",
       "                \u001b[1m}\u001b[0m,\n",
       "                \u001b[32m'required'\u001b[0m: \u001b[1m[\u001b[0m\u001b[32m'summary'\u001b[0m, \u001b[32m'citations'\u001b[0m\u001b[1m]\u001b[0m,\n",
       "                \u001b[32m'title'\u001b[0m: \u001b[32m'Places'\u001b[0m,\n",
       "                \u001b[32m'type'\u001b[0m: \u001b[32m'object'\u001b[0m,\n",
       "                \u001b[32m'additionalProperties'\u001b[0m: \u001b[3;91mFalse\u001b[0m\n",
       "            \u001b[1m}\u001b[0m,\n",
       "            \u001b[33mstrict\u001b[0m=\u001b[3;92mTrue\u001b[0m,\n",
       "            \u001b[33mtype\u001b[0m=\u001b[32m'function'\u001b[0m,\n",
       "            \u001b[33mdescription\u001b[0m=\u001b[32m'Correctly extracted `Places` with all the required parameters with correct types'\u001b[0m\n",
       "        \u001b[1m)\u001b[0m,\n",
       "        \u001b[1;35mWebSearchTool\u001b[0m\u001b[1m(\u001b[0m\n",
       "            \u001b[33mtype\u001b[0m=\u001b[32m'web_search_preview'\u001b[0m,\n",
       "            \u001b[33msearch_context_size\u001b[0m=\u001b[32m'low'\u001b[0m,\n",
       "            \u001b[33muser_location\u001b[0m=\u001b[1;35mUserLocation\u001b[0m\u001b[1m(\u001b[0m\n",
       "                \u001b[33mtype\u001b[0m=\u001b[32m'approximate'\u001b[0m,\n",
       "                \u001b[33mcity\u001b[0m=\u001b[32m'Madrid'\u001b[0m,\n",
       "                \u001b[33mcountry\u001b[0m=\u001b[32m'ES'\u001b[0m,\n",
       "                \u001b[33mregion\u001b[0m=\u001b[32m'Madrid'\u001b[0m,\n",
       "                \u001b[33mtimezone\u001b[0m=\u001b[3;35mNone\u001b[0m\n",
       "            \u001b[1m)\u001b[0m\n",
       "        \u001b[1m)\u001b[0m\n",
       "    \u001b[1m]\u001b[0m,\n",
       "    \u001b[33mtop_p\u001b[0m=\u001b[1;36m1\u001b[0m\u001b[1;36m.0\u001b[0m,\n",
       "    \u001b[33mbackground\u001b[0m=\u001b[3;91mFalse\u001b[0m,\n",
       "    \u001b[33mmax_output_tokens\u001b[0m=\u001b[3;35mNone\u001b[0m,\n",
       "    \u001b[33mprevious_response_id\u001b[0m=\u001b[3;35mNone\u001b[0m,\n",
       "    \u001b[33mreasoning\u001b[0m=\u001b[1;35mReasoning\u001b[0m\u001b[1m(\u001b[0m\u001b[33meffort\u001b[0m=\u001b[3;35mNone\u001b[0m, \u001b[33mgenerate_summary\u001b[0m=\u001b[3;35mNone\u001b[0m, \u001b[33msummary\u001b[0m=\u001b[3;35mNone\u001b[0m\u001b[1m)\u001b[0m,\n",
       "    \u001b[33mservice_tier\u001b[0m=\u001b[32m'default'\u001b[0m,\n",
       "    \u001b[33mstatus\u001b[0m=\u001b[32m'completed'\u001b[0m,\n",
       "    \u001b[33mtext\u001b[0m=\u001b[1;35mResponseTextConfig\u001b[0m\u001b[1m(\u001b[0m\u001b[33mformat\u001b[0m=\u001b[1;35mResponseFormatText\u001b[0m\u001b[1m(\u001b[0m\u001b[33mtype\u001b[0m=\u001b[32m'text'\u001b[0m\u001b[1m)\u001b[0m\u001b[1m)\u001b[0m,\n",
       "    \u001b[33mtruncation\u001b[0m=\u001b[32m'disabled'\u001b[0m,\n",
       "    \u001b[33musage\u001b[0m=\u001b[1;35mResponseUsage\u001b[0m\u001b[1m(\u001b[0m\n",
       "        \u001b[33minput_tokens\u001b[0m=\u001b[1;36m1349\u001b[0m,\n",
       "        \u001b[33minput_tokens_details\u001b[0m=\u001b[1;35mInputTokensDetails\u001b[0m\u001b[1m(\u001b[0m\u001b[33mcached_tokens\u001b[0m=\u001b[1;36m0\u001b[0m\u001b[1m)\u001b[0m,\n",
       "        \u001b[33moutput_tokens\u001b[0m=\u001b[1;36m670\u001b[0m,\n",
       "        \u001b[33moutput_tokens_details\u001b[0m=\u001b[1;35mOutputTokensDetails\u001b[0m\u001b[1m(\u001b[0m\u001b[33mreasoning_tokens\u001b[0m=\u001b[1;36m0\u001b[0m\u001b[1m)\u001b[0m,\n",
       "        \u001b[33mtotal_tokens\u001b[0m=\u001b[1;36m2019\u001b[0m\n",
       "    \u001b[1m)\u001b[0m,\n",
       "    \u001b[33muser\u001b[0m=\u001b[3;35mNone\u001b[0m,\n",
       "    \u001b[33mstore\u001b[0m=\u001b[3;92mTrue\u001b[0m\n",
       "\u001b[1m)\u001b[0m\n"
      ]
     },
     "metadata": {},
     "output_type": "display_data"
    }
   ],
   "source": [
    "pprint(completion)"
   ]
  },
  {
   "cell_type": "code",
   "execution_count": 70,
   "id": "bcacd648",
   "metadata": {},
   "outputs": [
    {
     "data": {
      "text/html": [
       "<pre style=\"white-space:pre;overflow-x:auto;line-height:normal;font-family:Menlo,'DejaVu Sans Mono',consolas,'Courier New',monospace\"><span style=\"font-weight: bold\">[</span>\n",
       "    <span style=\"color: #800080; text-decoration-color: #800080; font-weight: bold\">Citation</span><span style=\"font-weight: bold\">(</span><span style=\"color: #808000; text-decoration-color: #808000\">id</span>=<span style=\"color: #008080; text-decoration-color: #008080; font-weight: bold\">1</span>, <span style=\"color: #808000; text-decoration-color: #808000\">url</span>=<span style=\"color: #008000; text-decoration-color: #008000\">'http://casalucio.es?utm_source=openai'</span><span style=\"font-weight: bold\">)</span>,\n",
       "    <span style=\"color: #800080; text-decoration-color: #800080; font-weight: bold\">Citation</span><span style=\"font-weight: bold\">(</span><span style=\"color: #808000; text-decoration-color: #808000\">id</span>=<span style=\"color: #008080; text-decoration-color: #008080; font-weight: bold\">2</span>, <span style=\"color: #808000; text-decoration-color: #808000\">url</span>=<span style=\"color: #008000; text-decoration-color: #008000\">'http://www.botin.es?utm_source=openai'</span><span style=\"font-weight: bold\">)</span>,\n",
       "    <span style=\"color: #800080; text-decoration-color: #800080; font-weight: bold\">Citation</span><span style=\"font-weight: bold\">(</span><span style=\"color: #808000; text-decoration-color: #808000\">id</span>=<span style=\"color: #008080; text-decoration-color: #008080; font-weight: bold\">3</span>, <span style=\"color: #808000; text-decoration-color: #808000\">url</span>=<span style=\"color: #008000; text-decoration-color: #008000\">'http://www.labarraca.es?utm_source=openai'</span><span style=\"font-weight: bold\">)</span>,\n",
       "    <span style=\"color: #800080; text-decoration-color: #800080; font-weight: bold\">Citation</span><span style=\"font-weight: bold\">(</span><span style=\"color: #808000; text-decoration-color: #808000\">id</span>=<span style=\"color: #008080; text-decoration-color: #008080; font-weight: bold\">4</span>, <span style=\"color: #808000; text-decoration-color: #808000\">url</span>=<span style=\"color: #008000; text-decoration-color: #008000\">'http://www.lacasavalencia.es?utm_source=openai'</span><span style=\"font-weight: bold\">)</span>,\n",
       "    <span style=\"color: #800080; text-decoration-color: #800080; font-weight: bold\">Citation</span><span style=\"font-weight: bold\">(</span><span style=\"color: #808000; text-decoration-color: #808000\">id</span>=<span style=\"color: #008080; text-decoration-color: #008080; font-weight: bold\">5</span>, <span style=\"color: #808000; text-decoration-color: #808000\">url</span>=<span style=\"color: #008000; text-decoration-color: #008000\">'http://www.elcluballard.com?utm_source=openai'</span><span style=\"font-weight: bold\">)</span>,\n",
       "    <span style=\"color: #800080; text-decoration-color: #800080; font-weight: bold\">Citation</span><span style=\"font-weight: bold\">(</span><span style=\"color: #808000; text-decoration-color: #808000\">id</span>=<span style=\"color: #008080; text-decoration-color: #008080; font-weight: bold\">6</span>, <span style=\"color: #808000; text-decoration-color: #808000\">url</span>=<span style=\"color: #008000; text-decoration-color: #008000\">'http://www.lapaelladelareina.com/?utm_source=openai'</span><span style=\"font-weight: bold\">)</span>\n",
       "<span style=\"font-weight: bold\">]</span>\n",
       "</pre>\n"
      ],
      "text/plain": [
       "\u001b[1m[\u001b[0m\n",
       "    \u001b[1;35mCitation\u001b[0m\u001b[1m(\u001b[0m\u001b[33mid\u001b[0m=\u001b[1;36m1\u001b[0m, \u001b[33murl\u001b[0m=\u001b[32m'http://casalucio.es?\u001b[0m\u001b[32mutm_source\u001b[0m\u001b[32m=\u001b[0m\u001b[32mopenai\u001b[0m\u001b[32m'\u001b[0m\u001b[1m)\u001b[0m,\n",
       "    \u001b[1;35mCitation\u001b[0m\u001b[1m(\u001b[0m\u001b[33mid\u001b[0m=\u001b[1;36m2\u001b[0m, \u001b[33murl\u001b[0m=\u001b[32m'http://www.botin.es?\u001b[0m\u001b[32mutm_source\u001b[0m\u001b[32m=\u001b[0m\u001b[32mopenai\u001b[0m\u001b[32m'\u001b[0m\u001b[1m)\u001b[0m,\n",
       "    \u001b[1;35mCitation\u001b[0m\u001b[1m(\u001b[0m\u001b[33mid\u001b[0m=\u001b[1;36m3\u001b[0m, \u001b[33murl\u001b[0m=\u001b[32m'http://www.labarraca.es?\u001b[0m\u001b[32mutm_source\u001b[0m\u001b[32m=\u001b[0m\u001b[32mopenai\u001b[0m\u001b[32m'\u001b[0m\u001b[1m)\u001b[0m,\n",
       "    \u001b[1;35mCitation\u001b[0m\u001b[1m(\u001b[0m\u001b[33mid\u001b[0m=\u001b[1;36m4\u001b[0m, \u001b[33murl\u001b[0m=\u001b[32m'http://www.lacasavalencia.es?\u001b[0m\u001b[32mutm_source\u001b[0m\u001b[32m=\u001b[0m\u001b[32mopenai\u001b[0m\u001b[32m'\u001b[0m\u001b[1m)\u001b[0m,\n",
       "    \u001b[1;35mCitation\u001b[0m\u001b[1m(\u001b[0m\u001b[33mid\u001b[0m=\u001b[1;36m5\u001b[0m, \u001b[33murl\u001b[0m=\u001b[32m'http://www.elcluballard.com?\u001b[0m\u001b[32mutm_source\u001b[0m\u001b[32m=\u001b[0m\u001b[32mopenai\u001b[0m\u001b[32m'\u001b[0m\u001b[1m)\u001b[0m,\n",
       "    \u001b[1;35mCitation\u001b[0m\u001b[1m(\u001b[0m\u001b[33mid\u001b[0m=\u001b[1;36m6\u001b[0m, \u001b[33murl\u001b[0m=\u001b[32m'http://www.lapaelladelareina.com/?\u001b[0m\u001b[32mutm_source\u001b[0m\u001b[32m=\u001b[0m\u001b[32mopenai\u001b[0m\u001b[32m'\u001b[0m\u001b[1m)\u001b[0m\n",
       "\u001b[1m]\u001b[0m\n"
      ]
     },
     "metadata": {},
     "output_type": "display_data"
    }
   ],
   "source": [
    "pprint(response.citations)"
   ]
  },
  {
   "cell_type": "code",
   "execution_count": 73,
   "id": "fdb7eaf2",
   "metadata": {},
   "outputs": [
    {
     "data": {
      "text/plain": [
       "'Here are some recommended restaurants to eat Paella in Madrid, Spain, including their name, address, and telephone number.'"
      ]
     },
     "execution_count": 73,
     "metadata": {},
     "output_type": "execute_result"
    }
   ],
   "source": [
    "response.summary"
   ]
  },
  {
   "cell_type": "code",
   "execution_count": 71,
   "id": "0c705d47",
   "metadata": {},
   "outputs": [
    {
     "data": {
      "text/plain": [
       "ResponseOutputText(annotations=[AnnotationURLCitation(end_index=131, start_index=80, title='Casa Lucio', type='url_citation', url='http://casalucio.es?utm_source=openai'), AnnotationURLCitation(end_index=366, start_index=320, title='Botín', type='url_citation', url='http://www.botin.es?utm_source=openai'), AnnotationURLCitation(end_index=675, start_index=620, title='La Barraca', type='url_citation', url='http://www.labarraca.es?utm_source=openai'), AnnotationURLCitation(end_index=945, start_index=879, title='Casa de Valencia', type='url_citation', url='http://www.lacasavalencia.es?utm_source=openai'), AnnotationURLCitation(end_index=1210, start_index=1150, title='Club Allard', type='url_citation', url='http://www.elcluballard.com?utm_source=openai'), AnnotationURLCitation(end_index=1486, start_index=1410, title='La Paella de la Reina', type='url_citation', url='http://www.lapaelladelareina.com/?utm_source=openai')], text=\"Here are some of the best places to enjoy authentic paella in Madrid, Spain:\\n\\n**[Casa Lucio](http://casalucio.es?utm_source=openai)**  \\n**Closed · Spanish · $$ · 4.3 (741 reviews)**  \\n_C. Cava Baja, 35, 28005 Madrid Comunidad de Madrid_  \\nFamous for its traditional Spanish cuisine, including a renowned paella dish.\\n\\n**[Botín](http://www.botin.es?utm_source=openai)**  \\n**Closed · Spanish · $$$ · 4.2 (1216 reviews)**  \\n_Calle de los Cuchilleros, 17, LOC;DUP 17-19;, 28005 Madrid Comunidad de Madrid_  \\nEstablished in 1725, this historic restaurant offers a variety of Spanish dishes, including a delectable paella.\\n\\n**[La Barraca](http://www.labarraca.es?utm_source=openai)**  \\n**Closed · Paella · $$$ · 3.7 (386 reviews)**  \\n_C. de la Reina, 29, 28004 Madrid Comunidad de Madrid_  \\nSpecializes in traditional Valencian paella, offering a range of seafood and meat options.\\n\\n**[Casa de Valencia](http://www.lacasavalencia.es?utm_source=openai)**  \\n**Closed · Paella · $$$ · 3.9 (122 reviews)**  \\n_P. Pintor Rosales, 58, 28008 Madrid Comunidad de Madrid_  \\nKnown for its authentic Valencian paella, prepared with fresh, high-quality ingredients.\\n\\n**[Club Allard](http://www.elcluballard.com?utm_source=openai)**  \\n**Closed · Spanish · $$ · 4.2 (155 reviews)**  \\n_C. Ferraz, 2, 28008 Madrid Comunidad de Madrid_  \\nOffers a modern twist on traditional Spanish dishes, including innovative paella variations.\\n\\n**[La Paella de la Reina](http://www.lapaelladelareina.com/?utm_source=openai)**  \\n**Closed · €20–40 · 4.0 (2939 reviews)**  \\n_C. de la Reina, 39, Centro, 28004 Madrid, Spain_  \\nA family-run restaurant serving a variety of paella dishes in a cozy atmosphere.\\n\\nPlease note that it's advisable to make reservations in advance, especially during peak dining hours, to ensure availability. \", type='output_text', logprobs=None)"
      ]
     },
     "execution_count": 71,
     "metadata": {},
     "output_type": "execute_result"
    }
   ],
   "source": [
    "completion.output[1].content[0]"
   ]
  },
  {
   "cell_type": "code",
   "execution_count": 72,
   "id": "4f869318",
   "metadata": {},
   "outputs": [
    {
     "name": "stdout",
     "output_type": "stream",
     "text": [
      "[(80, 131), (320, 366), (620, 675), (879, 945), (1150, 1210), (1410, 1486)]\n"
     ]
    },
    {
     "data": {
      "text/plain": [
       "'their name, address, and telephone number.'"
      ]
     },
     "execution_count": 72,
     "metadata": {},
     "output_type": "execute_result"
    }
   ],
   "source": [
    "idx = [(ann.start_index, ann.end_index) for ann in completion.output[1].content[0].annotations]\n",
    "print(idx)\n",
    "response.summary[idx[0][0] : idx[0][1]]\n"
   ]
  }
 ],
 "metadata": {
  "kernelspec": {
   "display_name": ".venv",
   "language": "python",
   "name": "python3"
  },
  "language_info": {
   "codemirror_mode": {
    "name": "ipython",
    "version": 3
   },
   "file_extension": ".py",
   "mimetype": "text/x-python",
   "name": "python",
   "nbconvert_exporter": "python",
   "pygments_lexer": "ipython3",
   "version": "3.11.12"
  }
 },
 "nbformat": 4,
 "nbformat_minor": 5
}
