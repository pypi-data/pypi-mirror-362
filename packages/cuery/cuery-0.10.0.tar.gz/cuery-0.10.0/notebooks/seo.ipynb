{
 "cells": [
  {
   "cell_type": "code",
   "execution_count": 1,
   "id": "057358d3",
   "metadata": {},
   "outputs": [],
   "source": [
    "import importlib\n",
    "from pathlib import Path\n",
    "\n",
    "import pandas as pd\n",
    "\n",
    "from cuery import utils\n",
    "from cuery.cli import set_env_vars\n",
    "from cuery.seo import keywords, seo, serps, traffic\n",
    "\n",
    "GDRIVE = Path(\"~/Google Drive/Shared drives/Solutions\").expanduser()\n",
    "DATA_DIR = GDRIVE / \"Research/tractor_v2/SEO/\"\n",
    "\n",
    "set_env_vars()"
   ]
  },
  {
   "cell_type": "markdown",
   "id": "765c25cf",
   "metadata": {},
   "source": [
    "# Keyword planner only"
   ]
  },
  {
   "cell_type": "code",
   "execution_count": null,
   "id": "a1ed4745",
   "metadata": {},
   "outputs": [],
   "source": [
    "importlib.reload(utils)\n",
    "importlib.reload(keywords)\n",
    "\n",
    "kwd_cfg = {\n",
    "    \"keywords\": [\"análisis de datos\"],\n",
    "    \"url\": None,\n",
    "    \"whole_site\": False,\n",
    "    \"ideas\": True,\n",
    "    \"max_ideas\": 20,\n",
    "    \"language\": \"es\",\n",
    "    \"country\": \"es\",\n",
    "    \"metrics_start\": \"2021-01\",\n",
    "    \"metrics_end\": \"2025-06\",\n",
    "}\n",
    "\n",
    "kwd_cfg = keywords.GoogleKwdConfig(**kwd_cfg)\n",
    "kwds = keywords.keywords(kwd_cfg)\n",
    "kwds"
   ]
  },
  {
   "cell_type": "code",
   "execution_count": null,
   "id": "5c2dcb5c",
   "metadata": {},
   "outputs": [],
   "source": [
    "kwds"
   ]
  },
  {
   "cell_type": "markdown",
   "id": "c46c1ff1",
   "metadata": {},
   "source": [
    "# Serps only"
   ]
  },
  {
   "cell_type": "code",
   "execution_count": 2,
   "id": "4cd338c0",
   "metadata": {},
   "outputs": [
    {
     "data": {
      "text/html": [
       "<pre style=\"white-space:pre;overflow-x:auto;line-height:normal;font-family:Menlo,'DejaVu Sans Mono',consolas,'Courier New',monospace\"><span style=\"color: #7fbfbf; text-decoration-color: #7fbfbf\">[07/15/25 17:05:05] </span><span style=\"color: #000080; text-decoration-color: #000080\">INFO    </span> Fetching SERP data with config:                                                       \n",
       "<span style=\"color: #7fbfbf; text-decoration-color: #7fbfbf\">                    </span>         SerpConfig                                                                            \n",
       "<span style=\"color: #7fbfbf; text-decoration-color: #7fbfbf\">                    </span>         ——————————                                                                            \n",
       "<span style=\"color: #7fbfbf; text-decoration-color: #7fbfbf\">                    </span>         <span style=\"font-weight: bold\">{</span>                                                                                     \n",
       "<span style=\"color: #7fbfbf; text-decoration-color: #7fbfbf\">                    </span>           <span style=\"color: #008000; text-decoration-color: #008000\">\"keywords\"</span>: <span style=\"font-weight: bold\">[</span>                                                                       \n",
       "<span style=\"color: #7fbfbf; text-decoration-color: #7fbfbf\">                    </span>             <span style=\"color: #008000; text-decoration-color: #008000\">\"data analysis\"</span>,                                                                  \n",
       "<span style=\"color: #7fbfbf; text-decoration-color: #7fbfbf\">                    </span>             <span style=\"color: #008000; text-decoration-color: #008000\">\"data science\"</span>,                                                                   \n",
       "<span style=\"color: #7fbfbf; text-decoration-color: #7fbfbf\">                    </span>             <span style=\"color: #008000; text-decoration-color: #008000\">\"machine learning\"</span>,                                                               \n",
       "<span style=\"color: #7fbfbf; text-decoration-color: #7fbfbf\">                    </span>             <span style=\"color: #008000; text-decoration-color: #008000\">\"artificial intelligence\"</span>                                                         \n",
       "<span style=\"color: #7fbfbf; text-decoration-color: #7fbfbf\">                    </span>           <span style=\"font-weight: bold\">]</span>,                                                                                  \n",
       "<span style=\"color: #7fbfbf; text-decoration-color: #7fbfbf\">                    </span>           <span style=\"color: #008000; text-decoration-color: #008000\">\"batch_size\"</span>: <span style=\"color: #008080; text-decoration-color: #008080; font-weight: bold\">25</span>,                                                                   \n",
       "<span style=\"color: #7fbfbf; text-decoration-color: #7fbfbf\">                    </span>           <span style=\"color: #008000; text-decoration-color: #008000\">\"resultsPerPage\"</span>: <span style=\"color: #008080; text-decoration-color: #008080; font-weight: bold\">10</span>,                                                               \n",
       "<span style=\"color: #7fbfbf; text-decoration-color: #7fbfbf\">                    </span>           <span style=\"color: #008000; text-decoration-color: #008000\">\"maxPagesPerQuery\"</span>: <span style=\"color: #008080; text-decoration-color: #008080; font-weight: bold\">1</span>,                                                              \n",
       "<span style=\"color: #7fbfbf; text-decoration-color: #7fbfbf\">                    </span>           <span style=\"color: #008000; text-decoration-color: #008000\">\"country\"</span>: <span style=\"color: #008000; text-decoration-color: #008000\">\"us\"</span>,                                                                    \n",
       "<span style=\"color: #7fbfbf; text-decoration-color: #7fbfbf\">                    </span>           <span style=\"color: #008000; text-decoration-color: #008000\">\"searchLanguage\"</span>: <span style=\"color: #008000; text-decoration-color: #008000\">\"en\"</span>,                                                             \n",
       "<span style=\"color: #7fbfbf; text-decoration-color: #7fbfbf\">                    </span>           <span style=\"color: #008000; text-decoration-color: #008000\">\"languageCode\"</span>: <span style=\"color: #008000; text-decoration-color: #008000\">\"en\"</span>,                                                               \n",
       "<span style=\"color: #7fbfbf; text-decoration-color: #7fbfbf\">                    </span>           <span style=\"color: #008000; text-decoration-color: #008000\">\"params\"</span>: <span style=\"font-weight: bold\">{}</span>,                                                                       \n",
       "<span style=\"color: #7fbfbf; text-decoration-color: #7fbfbf\">                    </span>           <span style=\"color: #008000; text-decoration-color: #008000\">\"top_n\"</span>: <span style=\"color: #008080; text-decoration-color: #008080; font-weight: bold\">10</span>,                                                                        \n",
       "<span style=\"color: #7fbfbf; text-decoration-color: #7fbfbf\">                    </span>           <span style=\"color: #008000; text-decoration-color: #008000\">\"brands\"</span>: <span style=\"font-weight: bold\">[</span>                                                                         \n",
       "<span style=\"color: #7fbfbf; text-decoration-color: #7fbfbf\">                    </span>             <span style=\"color: #008000; text-decoration-color: #008000\">\"graphext\"</span>                                                                        \n",
       "<span style=\"color: #7fbfbf; text-decoration-color: #7fbfbf\">                    </span>           <span style=\"font-weight: bold\">]</span>,                                                                                  \n",
       "<span style=\"color: #7fbfbf; text-decoration-color: #7fbfbf\">                    </span>           <span style=\"color: #008000; text-decoration-color: #008000\">\"competitors\"</span>: <span style=\"font-weight: bold\">[</span>                                                                    \n",
       "<span style=\"color: #7fbfbf; text-decoration-color: #7fbfbf\">                    </span>             <span style=\"color: #008000; text-decoration-color: #008000\">\"powerbi\"</span>,                                                                        \n",
       "<span style=\"color: #7fbfbf; text-decoration-color: #7fbfbf\">                    </span>             <span style=\"color: #008000; text-decoration-color: #008000\">\"tableau\"</span>,                                                                        \n",
       "<span style=\"color: #7fbfbf; text-decoration-color: #7fbfbf\">                    </span>             <span style=\"color: #008000; text-decoration-color: #008000\">\"qlik\"</span>,                                                                           \n",
       "<span style=\"color: #7fbfbf; text-decoration-color: #7fbfbf\">                    </span>             <span style=\"color: #008000; text-decoration-color: #008000\">\"looker\"</span>,                                                                         \n",
       "<span style=\"color: #7fbfbf; text-decoration-color: #7fbfbf\">                    </span>             <span style=\"color: #008000; text-decoration-color: #008000\">\"google data studio\"</span>                                                              \n",
       "<span style=\"color: #7fbfbf; text-decoration-color: #7fbfbf\">                    </span>           <span style=\"font-weight: bold\">]</span>,                                                                                  \n",
       "<span style=\"color: #7fbfbf; text-decoration-color: #7fbfbf\">                    </span>           <span style=\"color: #008000; text-decoration-color: #008000\">\"topic_max_samples\"</span>: <span style=\"color: #008080; text-decoration-color: #008080; font-weight: bold\">100</span>,                                                           \n",
       "<span style=\"color: #7fbfbf; text-decoration-color: #7fbfbf\">                    </span>           <span style=\"color: #008000; text-decoration-color: #008000\">\"topic_model\"</span>: <span style=\"color: #008000; text-decoration-color: #008000\">\"google/gemini-2.5-flash-preview-05-20\"</span>,                             \n",
       "<span style=\"color: #7fbfbf; text-decoration-color: #7fbfbf\">                    </span>           <span style=\"color: #008000; text-decoration-color: #008000\">\"assignment_model\"</span>: <span style=\"color: #008000; text-decoration-color: #008000\">\"openai/gpt-4.1-mini\"</span>,                                          \n",
       "<span style=\"color: #7fbfbf; text-decoration-color: #7fbfbf\">                    </span>           <span style=\"color: #008000; text-decoration-color: #008000\">\"entity_model\"</span>: <span style=\"color: #008000; text-decoration-color: #008000\">\"openai/gpt-4.1-mini\"</span>,                                              \n",
       "<span style=\"color: #7fbfbf; text-decoration-color: #7fbfbf\">                    </span>           <span style=\"color: #008000; text-decoration-color: #008000\">\"apify_token\"</span>: null                                                                 \n",
       "<span style=\"color: #7fbfbf; text-decoration-color: #7fbfbf\">                    </span>         <span style=\"font-weight: bold\">}</span>                                                                                     \n",
       "<span style=\"color: #7fbfbf; text-decoration-color: #7fbfbf\">                    </span>                                                                                               \n",
       "</pre>\n"
      ],
      "text/plain": [
       "\u001b[2;36m[07/15/25 17:05:05]\u001b[0m\u001b[2;36m \u001b[0m\u001b[34mINFO    \u001b[0m Fetching SERP data with config:                                                       \n",
       "\u001b[2;36m                    \u001b[0m         SerpConfig                                                                            \n",
       "\u001b[2;36m                    \u001b[0m         ——————————                                                                            \n",
       "\u001b[2;36m                    \u001b[0m         \u001b[1m{\u001b[0m                                                                                     \n",
       "\u001b[2;36m                    \u001b[0m           \u001b[32m\"keywords\"\u001b[0m: \u001b[1m[\u001b[0m                                                                       \n",
       "\u001b[2;36m                    \u001b[0m             \u001b[32m\"data analysis\"\u001b[0m,                                                                  \n",
       "\u001b[2;36m                    \u001b[0m             \u001b[32m\"data science\"\u001b[0m,                                                                   \n",
       "\u001b[2;36m                    \u001b[0m             \u001b[32m\"machine learning\"\u001b[0m,                                                               \n",
       "\u001b[2;36m                    \u001b[0m             \u001b[32m\"artificial intelligence\"\u001b[0m                                                         \n",
       "\u001b[2;36m                    \u001b[0m           \u001b[1m]\u001b[0m,                                                                                  \n",
       "\u001b[2;36m                    \u001b[0m           \u001b[32m\"batch_size\"\u001b[0m: \u001b[1;36m25\u001b[0m,                                                                   \n",
       "\u001b[2;36m                    \u001b[0m           \u001b[32m\"resultsPerPage\"\u001b[0m: \u001b[1;36m10\u001b[0m,                                                               \n",
       "\u001b[2;36m                    \u001b[0m           \u001b[32m\"maxPagesPerQuery\"\u001b[0m: \u001b[1;36m1\u001b[0m,                                                              \n",
       "\u001b[2;36m                    \u001b[0m           \u001b[32m\"country\"\u001b[0m: \u001b[32m\"us\"\u001b[0m,                                                                    \n",
       "\u001b[2;36m                    \u001b[0m           \u001b[32m\"searchLanguage\"\u001b[0m: \u001b[32m\"en\"\u001b[0m,                                                             \n",
       "\u001b[2;36m                    \u001b[0m           \u001b[32m\"languageCode\"\u001b[0m: \u001b[32m\"en\"\u001b[0m,                                                               \n",
       "\u001b[2;36m                    \u001b[0m           \u001b[32m\"params\"\u001b[0m: \u001b[1m{\u001b[0m\u001b[1m}\u001b[0m,                                                                       \n",
       "\u001b[2;36m                    \u001b[0m           \u001b[32m\"top_n\"\u001b[0m: \u001b[1;36m10\u001b[0m,                                                                        \n",
       "\u001b[2;36m                    \u001b[0m           \u001b[32m\"brands\"\u001b[0m: \u001b[1m[\u001b[0m                                                                         \n",
       "\u001b[2;36m                    \u001b[0m             \u001b[32m\"graphext\"\u001b[0m                                                                        \n",
       "\u001b[2;36m                    \u001b[0m           \u001b[1m]\u001b[0m,                                                                                  \n",
       "\u001b[2;36m                    \u001b[0m           \u001b[32m\"competitors\"\u001b[0m: \u001b[1m[\u001b[0m                                                                    \n",
       "\u001b[2;36m                    \u001b[0m             \u001b[32m\"powerbi\"\u001b[0m,                                                                        \n",
       "\u001b[2;36m                    \u001b[0m             \u001b[32m\"tableau\"\u001b[0m,                                                                        \n",
       "\u001b[2;36m                    \u001b[0m             \u001b[32m\"qlik\"\u001b[0m,                                                                           \n",
       "\u001b[2;36m                    \u001b[0m             \u001b[32m\"looker\"\u001b[0m,                                                                         \n",
       "\u001b[2;36m                    \u001b[0m             \u001b[32m\"google data studio\"\u001b[0m                                                              \n",
       "\u001b[2;36m                    \u001b[0m           \u001b[1m]\u001b[0m,                                                                                  \n",
       "\u001b[2;36m                    \u001b[0m           \u001b[32m\"topic_max_samples\"\u001b[0m: \u001b[1;36m100\u001b[0m,                                                           \n",
       "\u001b[2;36m                    \u001b[0m           \u001b[32m\"topic_model\"\u001b[0m: \u001b[32m\"google/gemini-2.5-flash-preview-05-20\"\u001b[0m,                             \n",
       "\u001b[2;36m                    \u001b[0m           \u001b[32m\"assignment_model\"\u001b[0m: \u001b[32m\"openai/gpt-4.1-mini\"\u001b[0m,                                          \n",
       "\u001b[2;36m                    \u001b[0m           \u001b[32m\"entity_model\"\u001b[0m: \u001b[32m\"openai/gpt-4.1-mini\"\u001b[0m,                                              \n",
       "\u001b[2;36m                    \u001b[0m           \u001b[32m\"apify_token\"\u001b[0m: null                                                                 \n",
       "\u001b[2;36m                    \u001b[0m         \u001b[1m}\u001b[0m                                                                                     \n",
       "\u001b[2;36m                    \u001b[0m                                                                                               \n"
      ]
     },
     "metadata": {},
     "output_type": "display_data"
    },
    {
     "data": {
      "text/html": [
       "<pre style=\"white-space:pre;overflow-x:auto;line-height:normal;font-family:Menlo,'DejaVu Sans Mono',consolas,'Courier New',monospace\"><span style=\"color: #7fbfbf; text-decoration-color: #7fbfbf\">                    </span><span style=\"color: #000080; text-decoration-color: #000080\">INFO    </span> Fetching SERP data for <span style=\"color: #008080; text-decoration-color: #008080; font-weight: bold\">4</span> keywords                                                     \n",
       "</pre>\n"
      ],
      "text/plain": [
       "\u001b[2;36m                   \u001b[0m\u001b[2;36m \u001b[0m\u001b[34mINFO    \u001b[0m Fetching SERP data for \u001b[1;36m4\u001b[0m keywords                                                     \n"
      ]
     },
     "metadata": {},
     "output_type": "display_data"
    },
    {
     "name": "stderr",
     "output_type": "stream",
     "text": [
      "\u001b[36m[apify.google-search-scraper runId:pk6AS5tgKIdhbr6y5]\u001b[0m -> Status: RUNNING, Message: \n",
      "\u001b[36m[apify.google-search-scraper runId:pk6AS5tgKIdhbr6y5]\u001b[0m -> 2025-07-15T15:05:06.092Z ACTOR: Pulling Docker image of build knSneXqhYAjh0386A from registry.\n",
      "\u001b[36m[apify.google-search-scraper runId:pk6AS5tgKIdhbr6y5]\u001b[0m -> 2025-07-15T15:05:06.094Z ACTOR: Creating Docker container.\n",
      "\u001b[36m[apify.google-search-scraper runId:pk6AS5tgKIdhbr6y5]\u001b[0m -> 2025-07-15T15:05:06.268Z ACTOR: Starting Docker container.\n",
      "\u001b[36m[apify.google-search-scraper runId:pk6AS5tgKIdhbr6y5]\u001b[0m -> 2025-07-15T15:05:06.490Z Will run command: xvfb-run -a -s \"-ac -screen 0 1920x1080x24+32 -nolisten tcp\" /bin/sh -c ./start_xvfb_and_run_cmd.sh && npm run start:prod --silent\n",
      "\u001b[36m[apify.google-search-scraper runId:pk6AS5tgKIdhbr6y5]\u001b[0m -> 2025-07-15T15:05:07.762Z \u001b[32mINFO\u001b[39m  System info\u001b[90m {\"apifyVersion\":\"3.3.2\",\"apifyClientVersion\":\"2.12.4\",\"crawleeVersion\":\"3.13.4\",\"osType\":\"Linux\",\"nodeVersion\":\"v20.19.3\"}\u001b[39m\n",
      "\u001b[36m[apify.google-search-scraper runId:pk6AS5tgKIdhbr6y5]\u001b[0m -> 2025-07-15T15:05:07.977Z \u001b[32mINFO\u001b[39m\n",
      "\u001b[36m[apify.google-search-scraper runId:pk6AS5tgKIdhbr6y5]\u001b[0m -> 2025-07-15T15:05:07.979Z  _______  _______  _______  _______  _______ _________ _        _______\n",
      "\u001b[36m[apify.google-search-scraper runId:pk6AS5tgKIdhbr6y5]\u001b[0m -> 2025-07-15T15:05:07.981Z (  ____ \\(  ____ \\(  ____ )(  ___  )(  ____ )\\__   __/( (    /|(  ____ \\\n",
      "\u001b[36m[apify.google-search-scraper runId:pk6AS5tgKIdhbr6y5]\u001b[0m -> 2025-07-15T15:05:07.983Z | (    \\/| (    \\/| (    )|| (   ) || (    )|   ) (   |  \\  ( || (    \\/\n",
      "\u001b[36m[apify.google-search-scraper runId:pk6AS5tgKIdhbr6y5]\u001b[0m -> 2025-07-15T15:05:07.985Z | (_____ | |      | (____)|| (___) || (____)|   | |   |   \\ | || |\n",
      "\u001b[36m[apify.google-search-scraper runId:pk6AS5tgKIdhbr6y5]\u001b[0m -> 2025-07-15T15:05:07.987Z (_____  )| |      |     __)|  ___  ||  _____)   | |   | (\\ \\) || | ____\n",
      "\u001b[36m[apify.google-search-scraper runId:pk6AS5tgKIdhbr6y5]\u001b[0m -> 2025-07-15T15:05:07.988Z       ) || |      | (\\ (   | (   ) || (         | |   | | \\   || | \\_  )\n",
      "\u001b[36m[apify.google-search-scraper runId:pk6AS5tgKIdhbr6y5]\u001b[0m -> 2025-07-15T15:05:07.990Z /\\____) || (____/\\| ) \\ \\__| )   ( || )      ___) (___| )  \\  || (___) |\n",
      "\u001b[36m[apify.google-search-scraper runId:pk6AS5tgKIdhbr6y5]\u001b[0m -> 2025-07-15T15:05:07.992Z \\_______)(_______/|/   \\__/|/     \\||/       \\_______/|/    )_)(_______)\n",
      "\u001b[36m[apify.google-search-scraper runId:pk6AS5tgKIdhbr6y5]\u001b[0m -> 2025-07-15T15:05:08.009Z\n",
      "\u001b[36m[apify.google-search-scraper runId:pk6AS5tgKIdhbr6y5]\u001b[0m -> 2025-07-15T15:05:08.011Z  _______  _______  _______  _______  _        _______     _______  _______  _______\n",
      "\u001b[36m[apify.google-search-scraper runId:pk6AS5tgKIdhbr6y5]\u001b[0m -> 2025-07-15T15:05:08.013Z (  ____ \\(  ___  )(  ___  )(  ____ \\( \\      (  ____ \\   (  ____ \\(  ___  )(       )\n",
      "\u001b[36m[apify.google-search-scraper runId:pk6AS5tgKIdhbr6y5]\u001b[0m -> 2025-07-15T15:05:08.015Z | (    \\/| (   ) || (   ) || (    \\/| (      | (    \\/   | (    \\/| (   ) || () () |\n",
      "\u001b[36m[apify.google-search-scraper runId:pk6AS5tgKIdhbr6y5]\u001b[0m -> 2025-07-15T15:05:08.017Z | |      | |   | || |   | || |      | |      | (__       | |      | |   | || || || |\n",
      "\u001b[36m[apify.google-search-scraper runId:pk6AS5tgKIdhbr6y5]\u001b[0m -> 2025-07-15T15:05:08.019Z | | ____ | |   | || |   | || | ____ | |      |  __)      | |      | |   | || |(_)| |\n",
      "\u001b[36m[apify.google-search-scraper runId:pk6AS5tgKIdhbr6y5]\u001b[0m -> 2025-07-15T15:05:08.021Z | | \\_  )| |   | || |   | || | \\_  )| |      | (         | |      | |   | || |   | |\n",
      "\u001b[36m[apify.google-search-scraper runId:pk6AS5tgKIdhbr6y5]\u001b[0m -> 2025-07-15T15:05:08.022Z | (___) || (___) || (___) || (___) || (____/\\| (____/\\ _ | (____/\\| (___) || )   ( |\n",
      "\u001b[36m[apify.google-search-scraper runId:pk6AS5tgKIdhbr6y5]\u001b[0m -> 2025-07-15T15:05:08.024Z (_______)(_______)(_______)(_______)(_______/(_______/(_)(_______/(_______)|/     \\|\n",
      "\u001b[36m[apify.google-search-scraper runId:pk6AS5tgKIdhbr6y5]\u001b[0m -> 2025-07-15T15:05:08.026Z\n",
      "\u001b[36m[apify.google-search-scraper runId:pk6AS5tgKIdhbr6y5]\u001b[0m -> 2025-07-15T15:05:08.505Z \u001b[32mINFO\u001b[39m \u001b[33m CheerioCrawler:\u001b[39m Starting the crawler.\n",
      "\u001b[36m[apify.google-search-scraper runId:pk6AS5tgKIdhbr6y5]\u001b[0m -> 2025-07-15T15:05:08.780Z \u001b[32mINFO\u001b[39m  Querying \"artificial intelligence\" page 1 ...\n",
      "\u001b[36m[apify.google-search-scraper runId:pk6AS5tgKIdhbr6y5]\u001b[0m -> 2025-07-15T15:05:08.790Z \u001b[32mINFO\u001b[39m  Querying \"data science\" page 1 ...\n",
      "\u001b[36m[apify.google-search-scraper runId:pk6AS5tgKIdhbr6y5]\u001b[0m -> 2025-07-15T15:05:08.794Z \u001b[32mINFO\u001b[39m  Querying \"data analysis\" page 1 ...\n",
      "\u001b[36m[apify.google-search-scraper runId:pk6AS5tgKIdhbr6y5]\u001b[0m -> Status: RUNNING, Message: Starting the crawler.\n",
      "\u001b[36m[apify.google-search-scraper runId:pk6AS5tgKIdhbr6y5]\u001b[0m -> 2025-07-15T15:05:08.852Z \u001b[32mINFO\u001b[39m  Querying \"machine learning\" page 1 ...\n",
      "\u001b[36m[apify.google-search-scraper runId:pk6AS5tgKIdhbr6y5]\u001b[0m -> 2025-07-15T15:05:11.639Z \u001b[32mINFO\u001b[39m  Not enqueueing next page for query \"machine learning\" because the \"maxPagesPerQuery\" limit has been reached.\n",
      "\u001b[36m[apify.google-search-scraper runId:pk6AS5tgKIdhbr6y5]\u001b[0m -> 2025-07-15T15:05:11.750Z \u001b[32mINFO\u001b[39m  Finished query \"machine learning\" page 1 (organicResults: 9, paidResults: 0, paidProducts: 0, relatedQueries: 16, aiOverview: 1)\n",
      "\u001b[36m[apify.google-search-scraper runId:pk6AS5tgKIdhbr6y5]\u001b[0m -> 2025-07-15T15:05:15.344Z \u001b[32mINFO\u001b[39m  Not enqueueing next page for query \"data analysis\" because the \"maxPagesPerQuery\" limit has been reached.\n",
      "\u001b[36m[apify.google-search-scraper runId:pk6AS5tgKIdhbr6y5]\u001b[0m -> 2025-07-15T15:05:15.397Z \u001b[32mINFO\u001b[39m  Not enqueueing next page for query \"data science\" because the \"maxPagesPerQuery\" limit has been reached.\n",
      "\u001b[36m[apify.google-search-scraper runId:pk6AS5tgKIdhbr6y5]\u001b[0m -> 2025-07-15T15:05:15.493Z \u001b[32mINFO\u001b[39m  Finished query \"data analysis\" page 1 (organicResults: 8, paidResults: 0, paidProducts: 0, relatedQueries: 16, aiOverview: 1)\n",
      "\u001b[36m[apify.google-search-scraper runId:pk6AS5tgKIdhbr6y5]\u001b[0m -> 2025-07-15T15:05:15.569Z \u001b[32mINFO\u001b[39m  Finished query \"data science\" page 1 (organicResults: 9, paidResults: 0, paidProducts: 0, relatedQueries: 16, aiOverview: 1)\n",
      "\u001b[36m[apify.google-search-scraper runId:pk6AS5tgKIdhbr6y5]\u001b[0m -> 2025-07-15T15:05:15.636Z \u001b[32mINFO\u001b[39m  Not enqueueing next page for query \"artificial intelligence\" because the \"maxPagesPerQuery\" limit has been reached.\n",
      "\u001b[36m[apify.google-search-scraper runId:pk6AS5tgKIdhbr6y5]\u001b[0m -> 2025-07-15T15:05:15.801Z \u001b[32mINFO\u001b[39m  Finished query \"artificial intelligence\" page 1 (organicResults: 8, paidResults: 0, paidProducts: 0, relatedQueries: 16, aiOverview: 0)\n",
      "\u001b[36m[apify.google-search-scraper runId:pk6AS5tgKIdhbr6y5]\u001b[0m -> 2025-07-15T15:05:15.956Z \u001b[32mINFO\u001b[39m \u001b[33m CheerioCrawler:\u001b[39m All requests from the queue have been processed, the crawler will shut down.\n",
      "\u001b[36m[apify.google-search-scraper runId:pk6AS5tgKIdhbr6y5]\u001b[0m -> 2025-07-15T15:05:16.162Z \u001b[32mINFO\u001b[39m \u001b[33m CheerioCrawler:\u001b[39m Final request statistics:\u001b[90m {\"requestsFinished\":4,\"requestsFailed\":0,\"retryHistogram\":[4],\"requestAvgFailedDurationMillis\":null,\"requestAvgFinishedDurationMillis\":5884,\"requestsFinishedPerMinute\":31,\"requestsFailedPerMinute\":0,\"requestTotalDurationMillis\":23536,\"requestsTotal\":4,\"crawlerRuntimeMillis\":7766}\u001b[39m\n",
      "\u001b[36m[apify.google-search-scraper runId:pk6AS5tgKIdhbr6y5]\u001b[0m -> 2025-07-15T15:05:16.172Z \u001b[32mINFO\u001b[39m \u001b[33m CheerioCrawler:\u001b[39m Finished! Total 4 requests: 4 succeeded, 0 failed.\u001b[90m {\"terminal\":true}\u001b[39m\n",
      "\u001b[36m[apify.google-search-scraper runId:pk6AS5tgKIdhbr6y5]\u001b[0m -> 2025-07-15T15:05:16.185Z \u001b[32mINFO\u001b[39m  Scraping is finished, see you next time.\n",
      "\u001b[36m[apify.google-search-scraper runId:pk6AS5tgKIdhbr6y5]\u001b[0m -> 2025-07-15T15:05:16.194Z\n",
      "\u001b[36m[apify.google-search-scraper runId:pk6AS5tgKIdhbr6y5]\u001b[0m -> 2025-07-15T15:05:16.195Z Full results in JSON format:\n",
      "\u001b[36m[apify.google-search-scraper runId:pk6AS5tgKIdhbr6y5]\u001b[0m -> 2025-07-15T15:05:16.197Z https://api.apify.com/v2/datasets/7oBAsUt4Uc1M1Wv06/items?format=json\n",
      "\u001b[36m[apify.google-search-scraper runId:pk6AS5tgKIdhbr6y5]\u001b[0m -> 2025-07-15T15:05:16.199Z\n",
      "\u001b[36m[apify.google-search-scraper runId:pk6AS5tgKIdhbr6y5]\u001b[0m -> 2025-07-15T15:05:16.201Z Simplified organic results in JSON format:\n",
      "\u001b[36m[apify.google-search-scraper runId:pk6AS5tgKIdhbr6y5]\u001b[0m -> 2025-07-15T15:05:16.202Z https://api.apify.com/v2/datasets/7oBAsUt4Uc1M1Wv06/items?format=json&fields=searchQuery,organicResults&unwind=organicResults\n",
      "\u001b[36m[apify.google-search-scraper runId:pk6AS5tgKIdhbr6y5]\u001b[0m -> 2025-07-15T15:05:16.302Z \u001b[32mINFO\u001b[39m  [Status message]: Actor finished successfully. Processed 4 queries on 4 pages. Extracted: 34 organicResults, 0 paidResults, 0 paidProducts, 64 relatedQueries, 3 aiOverviews.\n",
      "\u001b[36m[apify.google-search-scraper runId:pk6AS5tgKIdhbr6y5]\u001b[0m -> Status: SUCCEEDED, Message: Actor finished successfully. Processed 4 queries on 4 pages. Extracted: 34 organicResults, 0 paidResults, 0 paidProducts, 64 relatedQueries, 3 aiOverviews.\n"
     ]
    },
    {
     "data": {
      "text/html": [
       "<pre style=\"white-space:pre;overflow-x:auto;line-height:normal;font-family:Menlo,'DejaVu Sans Mono',consolas,'Courier New',monospace\"><span style=\"color: #7fbfbf; text-decoration-color: #7fbfbf\">[07/15/25 17:05:23] </span><span style=\"color: #000080; text-decoration-color: #000080\">INFO    </span> Processing SERP data                                                                  \n",
       "</pre>\n"
      ],
      "text/plain": [
       "\u001b[2;36m[07/15/25 17:05:23]\u001b[0m\u001b[2;36m \u001b[0m\u001b[34mINFO    \u001b[0m Processing SERP data                                                                  \n"
      ]
     },
     "metadata": {},
     "output_type": "display_data"
    },
    {
     "data": {
      "text/html": [
       "<pre style=\"white-space:pre;overflow-x:auto;line-height:normal;font-family:Menlo,'DejaVu Sans Mono',consolas,'Courier New',monospace\"><span style=\"color: #7fbfbf; text-decoration-color: #7fbfbf\">                    </span><span style=\"color: #000080; text-decoration-color: #000080\">INFO    </span> Identifying brand and competitor ranks in organic results                             \n",
       "</pre>\n"
      ],
      "text/plain": [
       "\u001b[2;36m                   \u001b[0m\u001b[2;36m \u001b[0m\u001b[34mINFO    \u001b[0m Identifying brand and competitor ranks in organic results                             \n"
      ]
     },
     "metadata": {},
     "output_type": "display_data"
    },
    {
     "data": {
      "text/html": [
       "<pre style=\"white-space:pre;overflow-x:auto;line-height:normal;font-family:Menlo,'DejaVu Sans Mono',consolas,'Courier New',monospace\"><span style=\"color: #7fbfbf; text-decoration-color: #7fbfbf\">                    </span><span style=\"color: #000080; text-decoration-color: #000080\">INFO    </span> Extracting topics and intents from keywords and top organic results                   \n",
       "</pre>\n"
      ],
      "text/plain": [
       "\u001b[2;36m                   \u001b[0m\u001b[2;36m \u001b[0m\u001b[34mINFO    \u001b[0m Extracting topics and intents from keywords and top organic results                   \n"
      ]
     },
     "metadata": {},
     "output_type": "display_data"
    },
    {
     "data": {
      "text/html": [
       "<pre style=\"white-space:pre;overflow-x:auto;line-height:normal;font-family:Menlo,'DejaVu Sans Mono',consolas,'Courier New',monospace\"><span style=\"color: #7fbfbf; text-decoration-color: #7fbfbf\">[07/15/25 17:05:32] </span><span style=\"color: #000080; text-decoration-color: #000080\">INFO    </span> Extracted topic hierarchy                                                             \n",
       "</pre>\n"
      ],
      "text/plain": [
       "\u001b[2;36m[07/15/25 17:05:32]\u001b[0m\u001b[2;36m \u001b[0m\u001b[34mINFO    \u001b[0m Extracted topic hierarchy                                                             \n"
      ]
     },
     "metadata": {},
     "output_type": "display_data"
    },
    {
     "data": {
      "text/html": [
       "<pre style=\"white-space:pre;overflow-x:auto;line-height:normal;font-family:Menlo,'DejaVu Sans Mono',consolas,'Courier New',monospace\"><span style=\"color: #7fbfbf; text-decoration-color: #7fbfbf\">                    </span><span style=\"color: #000080; text-decoration-color: #000080\">INFO    </span> <span style=\"font-weight: bold\">{</span>                                                                                     \n",
       "<span style=\"color: #7fbfbf; text-decoration-color: #7fbfbf\">                    </span>           <span style=\"color: #008000; text-decoration-color: #008000\">\"Data Science &amp; Analytics\"</span>: <span style=\"font-weight: bold\">[</span>                                                       \n",
       "<span style=\"color: #7fbfbf; text-decoration-color: #7fbfbf\">                    </span>             <span style=\"color: #008000; text-decoration-color: #008000\">\"Foundations and Concepts\"</span>,                                                       \n",
       "<span style=\"color: #7fbfbf; text-decoration-color: #7fbfbf\">                    </span>             <span style=\"color: #008000; text-decoration-color: #008000\">\"Education and Training\"</span>,                                                         \n",
       "<span style=\"color: #7fbfbf; text-decoration-color: #7fbfbf\">                    </span>             <span style=\"color: #008000; text-decoration-color: #008000\">\"Career Paths\"</span>,                                                                   \n",
       "<span style=\"color: #7fbfbf; text-decoration-color: #7fbfbf\">                    </span>             <span style=\"color: #008000; text-decoration-color: #008000\">\"Methodologies and Tools\"</span>,                                                        \n",
       "<span style=\"color: #7fbfbf; text-decoration-color: #7fbfbf\">                    </span>             <span style=\"color: #008000; text-decoration-color: #008000\">\"Applications and Use Cases\"</span>                                                      \n",
       "<span style=\"color: #7fbfbf; text-decoration-color: #7fbfbf\">                    </span>           <span style=\"font-weight: bold\">]</span>,                                                                                  \n",
       "<span style=\"color: #7fbfbf; text-decoration-color: #7fbfbf\">                    </span>           <span style=\"color: #008000; text-decoration-color: #008000\">\"Artificial Intelligence &amp; Machine Learning\"</span>: <span style=\"font-weight: bold\">[</span>                                     \n",
       "<span style=\"color: #7fbfbf; text-decoration-color: #7fbfbf\">                    </span>             <span style=\"color: #008000; text-decoration-color: #008000\">\"Foundations and Concepts\"</span>,                                                       \n",
       "<span style=\"color: #7fbfbf; text-decoration-color: #7fbfbf\">                    </span>             <span style=\"color: #008000; text-decoration-color: #008000\">\"Learning and Development\"</span>,                                                       \n",
       "<span style=\"color: #7fbfbf; text-decoration-color: #7fbfbf\">                    </span>             <span style=\"color: #008000; text-decoration-color: #008000\">\"Industry Applications\"</span>,                                                          \n",
       "<span style=\"color: #7fbfbf; text-decoration-color: #7fbfbf\">                    </span>             <span style=\"color: #008000; text-decoration-color: #008000\">\"Types and Approaches\"</span>,                                                           \n",
       "<span style=\"color: #7fbfbf; text-decoration-color: #7fbfbf\">                    </span>             <span style=\"color: #008000; text-decoration-color: #008000\">\"Societal Impact &amp; Governance\"</span>                                                    \n",
       "<span style=\"color: #7fbfbf; text-decoration-color: #7fbfbf\">                    </span>           <span style=\"font-weight: bold\">]</span>                                                                                   \n",
       "<span style=\"color: #7fbfbf; text-decoration-color: #7fbfbf\">                    </span>         <span style=\"font-weight: bold\">}</span>                                                                                     \n",
       "</pre>\n"
      ],
      "text/plain": [
       "\u001b[2;36m                   \u001b[0m\u001b[2;36m \u001b[0m\u001b[34mINFO    \u001b[0m \u001b[1m{\u001b[0m                                                                                     \n",
       "\u001b[2;36m                    \u001b[0m           \u001b[32m\"Data Science & Analytics\"\u001b[0m: \u001b[1m[\u001b[0m                                                       \n",
       "\u001b[2;36m                    \u001b[0m             \u001b[32m\"Foundations and Concepts\"\u001b[0m,                                                       \n",
       "\u001b[2;36m                    \u001b[0m             \u001b[32m\"Education and Training\"\u001b[0m,                                                         \n",
       "\u001b[2;36m                    \u001b[0m             \u001b[32m\"Career Paths\"\u001b[0m,                                                                   \n",
       "\u001b[2;36m                    \u001b[0m             \u001b[32m\"Methodologies and Tools\"\u001b[0m,                                                        \n",
       "\u001b[2;36m                    \u001b[0m             \u001b[32m\"Applications and Use Cases\"\u001b[0m                                                      \n",
       "\u001b[2;36m                    \u001b[0m           \u001b[1m]\u001b[0m,                                                                                  \n",
       "\u001b[2;36m                    \u001b[0m           \u001b[32m\"Artificial Intelligence & Machine Learning\"\u001b[0m: \u001b[1m[\u001b[0m                                     \n",
       "\u001b[2;36m                    \u001b[0m             \u001b[32m\"Foundations and Concepts\"\u001b[0m,                                                       \n",
       "\u001b[2;36m                    \u001b[0m             \u001b[32m\"Learning and Development\"\u001b[0m,                                                       \n",
       "\u001b[2;36m                    \u001b[0m             \u001b[32m\"Industry Applications\"\u001b[0m,                                                          \n",
       "\u001b[2;36m                    \u001b[0m             \u001b[32m\"Types and Approaches\"\u001b[0m,                                                           \n",
       "\u001b[2;36m                    \u001b[0m             \u001b[32m\"Societal Impact & Governance\"\u001b[0m                                                    \n",
       "\u001b[2;36m                    \u001b[0m           \u001b[1m]\u001b[0m                                                                                   \n",
       "\u001b[2;36m                    \u001b[0m         \u001b[1m}\u001b[0m                                                                                     \n"
      ]
     },
     "metadata": {},
     "output_type": "display_data"
    },
    {
     "name": "stderr",
     "output_type": "stream",
     "text": [
      "Gathering responses: 100%|██████████| 4/4 [00:03<00:00,  1.32it/s]\n"
     ]
    },
    {
     "data": {
      "text/html": [
       "<pre style=\"white-space:pre;overflow-x:auto;line-height:normal;font-family:Menlo,'DejaVu Sans Mono',consolas,'Courier New',monospace\"><span style=\"color: #7fbfbf; text-decoration-color: #7fbfbf\">[07/15/25 17:05:35] </span><span style=\"color: #000080; text-decoration-color: #000080\">INFO    </span> Extracting entities from AI overviews                                                 \n",
       "</pre>\n"
      ],
      "text/plain": [
       "\u001b[2;36m[07/15/25 17:05:35]\u001b[0m\u001b[2;36m \u001b[0m\u001b[34mINFO    \u001b[0m Extracting entities from AI overviews                                                 \n"
      ]
     },
     "metadata": {},
     "output_type": "display_data"
    },
    {
     "name": "stderr",
     "output_type": "stream",
     "text": [
      "Gathering responses: 100%|██████████| 3/3 [00:03<00:00,  1.23s/it]\n"
     ]
    },
    {
     "data": {
      "text/html": [
       "<pre style=\"white-space:pre;overflow-x:auto;line-height:normal;font-family:Menlo,'DejaVu Sans Mono',consolas,'Courier New',monospace\"><span style=\"color: #7fbfbf; text-decoration-color: #7fbfbf\">[07/15/25 17:05:39] </span><span style=\"color: #000080; text-decoration-color: #000080\">INFO    </span> Identifying brand and competitor mentions AI overviews                                \n",
       "</pre>\n"
      ],
      "text/plain": [
       "\u001b[2;36m[07/15/25 17:05:39]\u001b[0m\u001b[2;36m \u001b[0m\u001b[34mINFO    \u001b[0m Identifying brand and competitor mentions AI overviews                                \n"
      ]
     },
     "metadata": {},
     "output_type": "display_data"
    },
    {
     "data": {
      "application/vnd.microsoft.datawrangler.viewer.v0+json": {
       "columns": [
        {
         "name": "index",
         "rawType": "int64",
         "type": "integer"
        },
        {
         "name": "term",
         "rawType": "object",
         "type": "string"
        },
        {
         "name": "relatedQueries",
         "rawType": "object",
         "type": "unknown"
        },
        {
         "name": "peopleAlsoAsk",
         "rawType": "object",
         "type": "unknown"
        },
        {
         "name": "aiOverview_content",
         "rawType": "object",
         "type": "unknown"
        },
        {
         "name": "aiOverview_source_titles",
         "rawType": "object",
         "type": "unknown"
        },
        {
         "name": "n_paidResults",
         "rawType": "int64",
         "type": "integer"
        },
        {
         "name": "n_paidProducts",
         "rawType": "int64",
         "type": "integer"
        },
        {
         "name": "num_results",
         "rawType": "int64",
         "type": "integer"
        },
        {
         "name": "num_has_date",
         "rawType": "int64",
         "type": "integer"
        },
        {
         "name": "num_has_followers",
         "rawType": "int64",
         "type": "integer"
        },
        {
         "name": "titles",
         "rawType": "object",
         "type": "unknown"
        },
        {
         "name": "descriptions",
         "rawType": "object",
         "type": "unknown"
        },
        {
         "name": "domains",
         "rawType": "object",
         "type": "unknown"
        },
        {
         "name": "breadcrumbs",
         "rawType": "object",
         "type": "unknown"
        },
        {
         "name": "emphasizedKeywords",
         "rawType": "object",
         "type": "unknown"
        },
        {
         "name": "title_rank_brand",
         "rawType": "object",
         "type": "unknown"
        },
        {
         "name": "domain_rank_brand",
         "rawType": "object",
         "type": "unknown"
        },
        {
         "name": "description_rank_brand",
         "rawType": "object",
         "type": "unknown"
        },
        {
         "name": "title_rank_competition",
         "rawType": "object",
         "type": "unknown"
        },
        {
         "name": "description_rank_competition",
         "rawType": "object",
         "type": "unknown"
        },
        {
         "name": "domain_rank_competition",
         "rawType": "object",
         "type": "unknown"
        },
        {
         "name": "min_rank_powerbi",
         "rawType": "object",
         "type": "unknown"
        },
        {
         "name": "min_rank_tableau",
         "rawType": "object",
         "type": "unknown"
        },
        {
         "name": "min_rank_qlik",
         "rawType": "object",
         "type": "unknown"
        },
        {
         "name": "min_rank_looker",
         "rawType": "object",
         "type": "unknown"
        },
        {
         "name": "min_rank_google data studio",
         "rawType": "object",
         "type": "unknown"
        },
        {
         "name": "topic",
         "rawType": "object",
         "type": "string"
        },
        {
         "name": "subtopic",
         "rawType": "object",
         "type": "string"
        },
        {
         "name": "intent",
         "rawType": "object",
         "type": "string"
        },
        {
         "name": "ai_overview_brand/company",
         "rawType": "object",
         "type": "unknown"
        },
        {
         "name": "ai_overview_product/service",
         "rawType": "object",
         "type": "unknown"
        },
        {
         "name": "ai_overview_technology",
         "rawType": "object",
         "type": "unknown"
        },
        {
         "name": "aiOverview_brand_mentions",
         "rawType": "object",
         "type": "unknown"
        },
        {
         "name": "aiOverview_competitor_mentions",
         "rawType": "object",
         "type": "unknown"
        },
        {
         "name": "aiOverview_source_mentions",
         "rawType": "object",
         "type": "unknown"
        },
        {
         "name": "aiOverview_source_competitor_mentions",
         "rawType": "object",
         "type": "unknown"
        }
       ],
       "ref": "3844f1a7-ee37-4d70-a1d2-8f1e859fc2fe",
       "rows": [
        [
         "0",
         "machine learning",
         "['Machine Learning book', 'Machine learning course', 'Machine learning for Kids', 'Machine learning Tutorial', 'Machine learning algorithms', 'Machine learning interview questions', 'Machine learning definition and examples', 'Machine learning types', 'Machine Learning book', 'Machine learning course', 'Machine learning for Kids', 'Machine learning Tutorial', 'Machine learning algorithms', 'Machine learning interview questions', 'Machine learning definition and examples', 'Machine learning types']",
         "['What is meant by machine learning?', 'What is the difference between AI and ML?', 'What are the 4 types of machine learning?', 'Is ChatGPT AI or ML?']",
         "Machine learning (ML) is a subfield of artificial intelligence (AI) that focuses on developing algorithms that allow computers to learn from and make predictions or decisions based on data, without being explicitly programmed for each specific task. Essentially, ML systems learn patterns from data, enabling them to make accurate predictions or take actions with minimal human intervention.            This video provides a comprehensive overview of machine learning, covering its types and applications:     47sSimplilearnYouTube · Jun 16, 2025       Here's a more detailed explanation:     window.CSS.registerProperty({name:\"--aims-rotation\",syntax:'<angle>',inherits:false,initialValue:\"415deg\",});(function(){'use strict';const a=document.querySelectorAll(\".XVMlrc\");a.length>0&&a[a.length-1].classList.add(\"rGo6lb\");}).call(this);",
         "['Machine learning - Wikipedia', 'Machine Learning Tutorial - GeeksforGeeks', 'What is Machine Learning? Guide, Definition and Examples']",
         "0",
         "0",
         "9",
         "2",
         "0",
         "['Machine learning', 'What Is Machine Learning (ML)? - IBM', 'Machine Learning Crash Course', 'What is Machine Learning? Definition, Types, Tools & More', 'DOE Explains...Machine Learning', 'Machine Learning: What it is and why it matters', 'Machine learning, explained', 'Supervised Machine Learning: Regression and Classification', 'Machine Learning for Kids']",
         "['Machine learning (ML) is a field of study in artificial intelligence concerned with the development and study of statistical algorithms that can learn from data', 'Machine learning (ML) is a branch of artificial intelligence (AI) focused on enabling computers and machines to imitate the way that humans learn.', \"Google's fast-paced, practical introduction to machine learning, featuring a series of animated videos, interactive visualizations, and hands-on practice\\xa0...\", 'Machine learning, often abbreviated as ML, is a subset of artificial intelligence (AI) that focuses on the development of computer algorithms that improve\\xa0...', 'Machine learning is the process of using computers to detect patterns in massive datasets and then make predictions based on what the computer learns from\\xa0...', 'Machine learning is a method of data analysis that automates analytical model building. It is a branch of artificial intelligence (AI) & based on the idea that\\xa0...', 'Machine learning is a subfield of artificial intelligence that gives computers the ability to learn without explicitly being programmed.', 'Build & train supervised machine learning models for prediction & binary classification tasks, including linear regression & logistic regression.', 'An educational tool for teaching kids about machine learning, by letting them train a computer to recognise text, pictures, numbers, or sounds, and then\\xa0...']",
         "['https://www.datacamp.com', 'https://en.wikipedia.org', 'https://mitsloan.mit.edu', 'https://www.ibm.com', 'https://www.coursera.org', 'https://www.energy.gov', 'https://www.sas.com', 'https://machinelearningforkids.co.uk', 'https://developers.google.com']",
         "['science', 'wiki', 'Machine Learning', 'Analytics Insights', 'doe-explainsmachine...', 'ideas-made-to-matter', 'Machine_learning', 'topics', 'cra...', 'Blog', 'SAS Insights', 'machi...', 'machine-learning', 'think']",
         "['a branch of artificial intelligence (AI', \"Google's fast-paced, practical introduction to machine learning\", 'supervised machine learning models', 'a field of study in artificial intelligence', 'Machine learning', 'An educational tool for teaching kids about machine learning', 'Machine learning is a method of data analysis that automates analytical model building']",
         null,
         null,
         null,
         null,
         null,
         null,
         null,
         null,
         null,
         null,
         null,
         "Artificial Intelligence & Machine Learning",
         "Foundations and Concepts",
         "informational",
         "['simplilearn', 'youtube']",
         "[]",
         "['machine learning', 'artificial intelligence']",
         "[]",
         "[]",
         null,
         null
        ],
        [
         "1",
         "data science",
         "['Data Science book', 'Data Science course', 'Data Science jobs', 'Data Science salary', 'Data Science PDF', 'What is data science in simple words', 'Data Science syllabus', 'Data Science course fees', 'Data Science book', 'Data Science course', 'Data Science jobs', 'Data Science salary', 'Data Science PDF', 'What is data science in simple words', 'Data Science syllabus', 'Data Science course fees']",
         "['What exactly does data science do?', 'Is data science high paying?', 'Is data science very difficult?', 'Can I make 200k as a data scientist?']",
         "Data science is an interdisciplinary field that uses scientific methods, processes, algorithms, and systems to extract knowledge and insights from data. It combines aspects of statistics, computer science, and domain expertise to analyze and interpret complex data sets, often involving large amounts of information (big data). Data scientists use these skills to solve problems, make predictions, and develop data-driven solutions across various industries.            Here's a more detailed breakdown:            Core Components of Data Science:     Interdisciplinary Nature: Data science draws upon knowledge from diverse fields like statistics, mathematics, computer science, and domain-specific expertise (e.g., business, healthcare, etc.).",
         "['What is Data Science? - IBM', 'More Applied Data Science with Python Specialization - Coursera', 'Best Data Science Courses & Certificates [2025] | Coursera Learn ...']",
         "0",
         "0",
         "9",
         "1",
         "1",
         "['Data science', 'What is Data Science? - IBM', 'What is Data Science? - UC Berkeley Online', 'Data Science Online Courses', 'What Is Data Science? Definition, Tools, Techniques, & More', 'Data Scientists : Occupational Outlook Handbook', 'Data Science Courses & Tutorials', 'What is Data Science?', 'Data Science']",
         "['Data science is a concept to unify statistics, data analysis, informatics, and their related methods to understand and analyze actual phenomena with data.', 'Data science combines math and statistics, specialized programming, advanced analytics, artificial intelligence (AI) and machine learning with specific subject\\xa0...', 'Data scientists masterfully identify relevant questions, collect data from a multitude of different data sources, organize the information, translate results\\xa0...', 'Choose from hundreds of free Data Science courses or pay to earn a Course or Specialization Certificate. Data science Specializations and courses teach the\\xa0...', \"Data science is the practice of understanding data and using it to solve real-world problems. While the idea of analyzing information isn't exactly something\\xa0...\", 'Data scientists develop algorithms (sets of instructions that tell computers what to do) and models to support programs for machine learning. They use machine\\xa0...', 'Taking a data science course can help you make informed decisions, create beautiful visualizations, and even try to predict future events through Machine\\xa0...', 'Data science is the study of data to extract meaningful insights for business. It is a multidisciplinary approach that combines principles and practices from\\xa0...', 'r/datascience: A space for data science professionals to engage in discussions and debates on the subject of data science.']",
         "['https://aws.amazon.com', 'https://en.wikipedia.org', 'https://ischool.syracuse.edu', 'https://www.ibm.com', 'https://www.coursera.org', 'https://ischoolonline.berkeley.edu', 'https://www.codecademy.com', 'Reddit', 'https://www.bls.gov']",
         "['Articles', 'wiki', 'data-scientists', 'Data Science', 'catalog', 'r/datascience', 'ooh', 'Data_science', 'subject', 'math', 'topics', 'data-science', 'Analytics', 'browse', 'think', 'data...']",
         "['develop algorithms (sets of instructions that tell computers what to do', 'Choose from hundreds of free Data Science courses', 'Data science is the study of data to', 'Data scientists masterfully identify relevant questions', 'Data science is the practice of understanding data and using it to solve real-world problems', 'Data science', 'A space for data science professionals', 'data science']",
         null,
         null,
         null,
         null,
         null,
         null,
         null,
         null,
         null,
         null,
         null,
         "Data Science & Analytics",
         "Foundations and Concepts",
         "informational",
         "['ibm', 'coursera']",
         "[]",
         "['python']",
         "[]",
         "[]",
         null,
         null
        ],
        [
         "2",
         "data analysis",
         "['Data analysis software', 'Data analysis course', 'Data analysis example', 'What is data analysis in research', 'Data analysis PDF', 'Data analysis in Excel', 'Data analysis in research example', 'Data analysis methods', 'Data analysis software', 'Data analysis course', 'Data analysis example', 'What is data analysis in research', 'Data analysis PDF', 'Data analysis in Excel', 'Data analysis in research example', 'Data analysis methods']",
         "['What is the meaning of data analysis?', 'What are the 5 steps in data analysis?', 'Is data analysis a lot of math?', 'What are the 5 types of data analysis?']",
         "Data analysis is the process of inspecting, cleansing, transforming, and modeling data with the goal of discovering useful information, informing conclusions, and supporting decision-making. It involves a range of techniques and methods to extract meaningful insights from raw data.            Here's a more detailed breakdown:            Core Concepts:     What it is: Data analysis is a broad field encompassing various techniques to extract knowledge from data. Why it's important: It helps businesses make better decisions, improve strategies, enhance customer experience, and streamline operations.",
         "['What Is Data Analysis? (With Examples) - Coursera', 'Data Analysis - The Office of Research Integrity', '5 key reasons why data analytics is important to business']",
         "0",
         "0",
         "8",
         "4",
         "0",
         "['Data analysis', 'What Is Data Analysis? (With Examples)', 'Data Analysis', 'What is Data Analytics? A Complete Guide for Beginners', 'Top data analytics courses and programs', 'What Is Data Analysis | Methods, Applications and More', 'Data Analysis Courses | Online Courses for All Levels', \"Data Analytics: What It Is, How It's Used, and 4 Basic ...\"]",
         "['Data analysis is the process of inspecting, cleansing, transforming, and modeling data with the goal of discovering useful information, informing conclusions,\\xa0...', 'Data analysis is the practice of working with data to glean useful information, which can then be used to make informed decisions.', 'Data Analysis is the process of systematically applying statistical and/or logical techniques to describe and illustrate, condense and recap, and evaluate\\xa0...', 'Data analytics is the process of analyzing raw data in order to draw out meaningful, actionable insights, which are then used to inform and drive smart\\xa0...', 'Data analytics courses on edX can provide hands-on training. Boost your data analysis and visualization skills today with online data\\xa0...', 'Data analysis involves inspecting, cleaning, transforming, and modeling data to extract insights that support decision-making.', 'Data analysis courses teach techniques for inspecting, cleaning, transforming, and modeling data to discover useful information.', 'Data analytics is the science of analyzing raw data to gain information about the data and draw conclusions from it.']",
         "['https://www.datacamp.com', 'https://en.wikipedia.org', 'https://www.investopedia.com', 'https://www.coursera.org', 'https://ori.hhs.gov', 'https://www.edx.org', 'https://www.simplilearn.com', 'https://careerfoundry.com']",
         "['wiki', 'data-analysis', 'Financial Analysis', 'category', 'products', 'blog', 'Data', 'Data_analysis', 'Data Analytics', 'what-is-data-analytics', 'data-analysis-methods-pr...', 'Learn', 'datopic', 'datamanagement']",
         "['techniques for inspecting, cleaning, transforming, and modeling data', 'Data analytics', 'Data analysis', 'Data Analysis', 'inspecting, cleaning, transforming, and modeling data', 'Data analytics courses on edX can provide hands-on training']",
         null,
         null,
         null,
         null,
         null,
         null,
         null,
         null,
         null,
         null,
         null,
         "Data Science & Analytics",
         "Foundations and Concepts",
         "informational",
         "['coursera', 'office of research integrity']",
         "[]",
         "['data analysis']",
         "[]",
         "[]",
         null,
         null
        ],
        [
         "3",
         "artificial intelligence",
         "['Artificial Intelligence book', 'What is artificial intelligence with examples', 'Artificial intelligence app', 'Artificial Intelligence course', 'Best definition of artificial intelligence', 'Artificial Intelligence movie', 'Artificial intelligence website', 'What is artificial intelligence in simple words', 'Artificial Intelligence book', 'What is artificial intelligence with examples', 'Artificial intelligence app', 'Artificial Intelligence course', 'Best definition of artificial intelligence', 'Artificial Intelligence movie', 'Artificial intelligence website', 'What is artificial intelligence in simple words']",
         "['What is artificial intelligence?', 'What did Bill Gates say about AI?', 'What jobs will AI not replace?', 'What is the AI used for?']",
         null,
         null,
         "0",
         "0",
         "8",
         "2",
         "0",
         "['Artificial intelligence', 'What Is Artificial Intelligence (AI)? - IBM', 'What Is Artificial Intelligence (AI)?', 'Artificial intelligence (AI) | Definition, Examples, Types, ...', 'Artificial Intelligence - AI', 'Artificial Intelligence – What is AI & Why It Matters', 'Artificial intelligence | NIST', 'The Association for the Advancement of Artificial Intelligence']",
         "['Artificial intelligence (AI) is the capability of computational systems to perform tasks typically associated with human intelligence', 'AI is technology that enables computers and machines to simulate human learning, comprehension, problem solving, decision making, creativity and autonomy.', 'Artificial intelligence is a technology that allows you to generate, classify, and perform tasks like image analysis and speech recognition.', 'Artificial intelligence (AI), the ability of a digital computer or computer-controlled robot to perform tasks commonly associated with intelligent beings.', 'Built from data, hardware and connectivity, AI allows machines to mimic human intelligence such as perception, problem-solving, linguistic interaction or\\xa0...', 'Artificial intelligence (AI) makes it possible for machines to learn from experience, adjust to new inputs and perform human-like tasks.', 'NIST promotes innovation and cultivates trust in the design, development, use and governance of artificial intelligence (AI) technologies and systems.', 'AAAI is the premier scientific society dedicated to advancing the scientific understanding of the mechanisms underlying thought and intelligent behavior.']",
         "['https://www.unesco.org', 'https://www.nist.gov', 'https://en.wikipedia.org', 'https://www.britannica.com', 'https://www.ibm.com', 'https://aaai.org', 'https://cloud.google.com', 'https://www.sas.com']",
         "['Technology', 'wiki', 'learn', 'Analytics Insights', 'artificial-intellig...', 'what-is-artificial-intell...', 'topics', 'SAS Insights', 'Computers', 'artificial-intelligence', 'Artificial_intelligence', 'think']",
         "['it possible for machines to learn from experience', 'the ability of a digital computer or computer-controlled robot', 'Artificial intelligence', 'AAAI', 'AI', 'artificial intelligence']",
         null,
         null,
         null,
         null,
         null,
         null,
         null,
         null,
         null,
         null,
         null,
         "Artificial Intelligence & Machine Learning",
         "Foundations and Concepts",
         "informational",
         null,
         null,
         null,
         null,
         null,
         null,
         null
        ]
       ],
       "shape": {
        "columns": 36,
        "rows": 4
       }
      },
      "text/html": [
       "<div>\n",
       "<style scoped>\n",
       "    .dataframe tbody tr th:only-of-type {\n",
       "        vertical-align: middle;\n",
       "    }\n",
       "\n",
       "    .dataframe tbody tr th {\n",
       "        vertical-align: top;\n",
       "    }\n",
       "\n",
       "    .dataframe thead th {\n",
       "        text-align: right;\n",
       "    }\n",
       "</style>\n",
       "<table border=\"1\" class=\"dataframe\">\n",
       "  <thead>\n",
       "    <tr style=\"text-align: right;\">\n",
       "      <th></th>\n",
       "      <th>term</th>\n",
       "      <th>relatedQueries</th>\n",
       "      <th>peopleAlsoAsk</th>\n",
       "      <th>aiOverview_content</th>\n",
       "      <th>aiOverview_source_titles</th>\n",
       "      <th>n_paidResults</th>\n",
       "      <th>n_paidProducts</th>\n",
       "      <th>num_results</th>\n",
       "      <th>num_has_date</th>\n",
       "      <th>num_has_followers</th>\n",
       "      <th>...</th>\n",
       "      <th>topic</th>\n",
       "      <th>subtopic</th>\n",
       "      <th>intent</th>\n",
       "      <th>ai_overview_brand/company</th>\n",
       "      <th>ai_overview_product/service</th>\n",
       "      <th>ai_overview_technology</th>\n",
       "      <th>aiOverview_brand_mentions</th>\n",
       "      <th>aiOverview_competitor_mentions</th>\n",
       "      <th>aiOverview_source_mentions</th>\n",
       "      <th>aiOverview_source_competitor_mentions</th>\n",
       "    </tr>\n",
       "  </thead>\n",
       "  <tbody>\n",
       "    <tr>\n",
       "      <th>0</th>\n",
       "      <td>machine learning</td>\n",
       "      <td>[Machine Learning book, Machine learning cours...</td>\n",
       "      <td>[What is meant by machine learning?, What is t...</td>\n",
       "      <td>Machine learning (ML) is a subfield of artific...</td>\n",
       "      <td>[Machine learning - Wikipedia, Machine Learnin...</td>\n",
       "      <td>0</td>\n",
       "      <td>0</td>\n",
       "      <td>9</td>\n",
       "      <td>2</td>\n",
       "      <td>0</td>\n",
       "      <td>...</td>\n",
       "      <td>Artificial Intelligence &amp; Machine Learning</td>\n",
       "      <td>Foundations and Concepts</td>\n",
       "      <td>informational</td>\n",
       "      <td>[simplilearn, youtube]</td>\n",
       "      <td>[]</td>\n",
       "      <td>[machine learning, artificial intelligence]</td>\n",
       "      <td>[]</td>\n",
       "      <td>[]</td>\n",
       "      <td>None</td>\n",
       "      <td>None</td>\n",
       "    </tr>\n",
       "    <tr>\n",
       "      <th>1</th>\n",
       "      <td>data science</td>\n",
       "      <td>[Data Science book, Data Science course, Data ...</td>\n",
       "      <td>[What exactly does data science do?, Is data s...</td>\n",
       "      <td>Data science is an interdisciplinary field tha...</td>\n",
       "      <td>[What is Data Science? - IBM, More Applied Dat...</td>\n",
       "      <td>0</td>\n",
       "      <td>0</td>\n",
       "      <td>9</td>\n",
       "      <td>1</td>\n",
       "      <td>1</td>\n",
       "      <td>...</td>\n",
       "      <td>Data Science &amp; Analytics</td>\n",
       "      <td>Foundations and Concepts</td>\n",
       "      <td>informational</td>\n",
       "      <td>[ibm, coursera]</td>\n",
       "      <td>[]</td>\n",
       "      <td>[python]</td>\n",
       "      <td>[]</td>\n",
       "      <td>[]</td>\n",
       "      <td>None</td>\n",
       "      <td>None</td>\n",
       "    </tr>\n",
       "    <tr>\n",
       "      <th>2</th>\n",
       "      <td>data analysis</td>\n",
       "      <td>[Data analysis software, Data analysis course,...</td>\n",
       "      <td>[What is the meaning of data analysis?, What a...</td>\n",
       "      <td>Data analysis is the process of inspecting, cl...</td>\n",
       "      <td>[What Is Data Analysis? (With Examples) - Cour...</td>\n",
       "      <td>0</td>\n",
       "      <td>0</td>\n",
       "      <td>8</td>\n",
       "      <td>4</td>\n",
       "      <td>0</td>\n",
       "      <td>...</td>\n",
       "      <td>Data Science &amp; Analytics</td>\n",
       "      <td>Foundations and Concepts</td>\n",
       "      <td>informational</td>\n",
       "      <td>[coursera, office of research integrity]</td>\n",
       "      <td>[]</td>\n",
       "      <td>[data analysis]</td>\n",
       "      <td>[]</td>\n",
       "      <td>[]</td>\n",
       "      <td>None</td>\n",
       "      <td>None</td>\n",
       "    </tr>\n",
       "    <tr>\n",
       "      <th>3</th>\n",
       "      <td>artificial intelligence</td>\n",
       "      <td>[Artificial Intelligence book, What is artific...</td>\n",
       "      <td>[What is artificial intelligence?, What did Bi...</td>\n",
       "      <td>None</td>\n",
       "      <td>None</td>\n",
       "      <td>0</td>\n",
       "      <td>0</td>\n",
       "      <td>8</td>\n",
       "      <td>2</td>\n",
       "      <td>0</td>\n",
       "      <td>...</td>\n",
       "      <td>Artificial Intelligence &amp; Machine Learning</td>\n",
       "      <td>Foundations and Concepts</td>\n",
       "      <td>informational</td>\n",
       "      <td>NaN</td>\n",
       "      <td>NaN</td>\n",
       "      <td>NaN</td>\n",
       "      <td>None</td>\n",
       "      <td>None</td>\n",
       "      <td>None</td>\n",
       "      <td>None</td>\n",
       "    </tr>\n",
       "  </tbody>\n",
       "</table>\n",
       "<p>4 rows × 36 columns</p>\n",
       "</div>"
      ],
      "text/plain": [
       "                      term                                     relatedQueries  \\\n",
       "0         machine learning  [Machine Learning book, Machine learning cours...   \n",
       "1             data science  [Data Science book, Data Science course, Data ...   \n",
       "2            data analysis  [Data analysis software, Data analysis course,...   \n",
       "3  artificial intelligence  [Artificial Intelligence book, What is artific...   \n",
       "\n",
       "                                       peopleAlsoAsk  \\\n",
       "0  [What is meant by machine learning?, What is t...   \n",
       "1  [What exactly does data science do?, Is data s...   \n",
       "2  [What is the meaning of data analysis?, What a...   \n",
       "3  [What is artificial intelligence?, What did Bi...   \n",
       "\n",
       "                                  aiOverview_content  \\\n",
       "0  Machine learning (ML) is a subfield of artific...   \n",
       "1  Data science is an interdisciplinary field tha...   \n",
       "2  Data analysis is the process of inspecting, cl...   \n",
       "3                                               None   \n",
       "\n",
       "                            aiOverview_source_titles  n_paidResults  \\\n",
       "0  [Machine learning - Wikipedia, Machine Learnin...              0   \n",
       "1  [What is Data Science? - IBM, More Applied Dat...              0   \n",
       "2  [What Is Data Analysis? (With Examples) - Cour...              0   \n",
       "3                                               None              0   \n",
       "\n",
       "   n_paidProducts  num_results  num_has_date  num_has_followers  ...  \\\n",
       "0               0            9             2                  0  ...   \n",
       "1               0            9             1                  1  ...   \n",
       "2               0            8             4                  0  ...   \n",
       "3               0            8             2                  0  ...   \n",
       "\n",
       "                                        topic                  subtopic  \\\n",
       "0  Artificial Intelligence & Machine Learning  Foundations and Concepts   \n",
       "1                    Data Science & Analytics  Foundations and Concepts   \n",
       "2                    Data Science & Analytics  Foundations and Concepts   \n",
       "3  Artificial Intelligence & Machine Learning  Foundations and Concepts   \n",
       "\n",
       "          intent                 ai_overview_brand/company  \\\n",
       "0  informational                    [simplilearn, youtube]   \n",
       "1  informational                           [ibm, coursera]   \n",
       "2  informational  [coursera, office of research integrity]   \n",
       "3  informational                                       NaN   \n",
       "\n",
       "  ai_overview_product/service                       ai_overview_technology  \\\n",
       "0                          []  [machine learning, artificial intelligence]   \n",
       "1                          []                                     [python]   \n",
       "2                          []                              [data analysis]   \n",
       "3                         NaN                                          NaN   \n",
       "\n",
       "  aiOverview_brand_mentions aiOverview_competitor_mentions  \\\n",
       "0                        []                             []   \n",
       "1                        []                             []   \n",
       "2                        []                             []   \n",
       "3                      None                           None   \n",
       "\n",
       "  aiOverview_source_mentions aiOverview_source_competitor_mentions  \n",
       "0                       None                                  None  \n",
       "1                       None                                  None  \n",
       "2                       None                                  None  \n",
       "3                       None                                  None  \n",
       "\n",
       "[4 rows x 36 columns]"
      ]
     },
     "execution_count": 2,
     "metadata": {},
     "output_type": "execute_result"
    }
   ],
   "source": [
    "importlib.reload(serps)\n",
    "\n",
    "serp_cfg = {\n",
    "    \"keywords\": [\"data analysis\", \"data science\", \"machine learning\", \"artificial intelligence\"],\n",
    "    \"batch_size\": 25,\n",
    "    \"resultsPerPage\": 10,\n",
    "    \"maxPagesPerQuery\": 1,\n",
    "    \"country\": \"us\",\n",
    "    \"searchLanguage\": \"en\",\n",
    "    \"languageCode\": \"en\",\n",
    "    \"top_n\": 10,\n",
    "    \"brands\": [\"graphext\"],\n",
    "    \"competitors\": [\"powerbi\", \"tableau\", \"qlik\", \"looker\", \"google data studio\"],\n",
    "    \"topic_max_samples\": 100,\n",
    "}\n",
    "\n",
    "serp_cfg = serps.SerpConfig(**serp_cfg)\n",
    "srs = await serps.serps(serp_cfg, keywords=None)\n",
    "srs\n"
   ]
  },
  {
   "cell_type": "code",
   "execution_count": 9,
   "id": "9e4ed2ad",
   "metadata": {},
   "outputs": [
    {
     "name": "stdout",
     "output_type": "stream",
     "text": [
      "term\n",
      "relatedQueries\n",
      "peopleAlsoAsk\n",
      "aiOverview_content\n",
      "aiOverview_source_titles\n",
      "n_paidResults\n",
      "n_paidProducts\n",
      "num_results\n",
      "num_has_date\n",
      "num_has_followers\n",
      "titles\n",
      "descriptions\n",
      "domains\n",
      "breadcrumbs\n",
      "emphasizedKeywords\n",
      "title_rank_brand\n",
      "domain_rank_brand\n",
      "description_rank_brand\n",
      "title_rank_competition\n",
      "description_rank_competition\n",
      "domain_rank_competition\n",
      "min_rank_powerbi\n",
      "min_rank_tableau\n",
      "min_rank_qlik\n",
      "min_rank_looker\n",
      "min_rank_google data studio\n",
      "topic\n",
      "subtopic\n",
      "intent\n",
      "ai_overview_brand/company\n",
      "ai_overview_product/service\n",
      "ai_overview_technology\n",
      "aiOverview_brand_mentions\n",
      "aiOverview_competitor_mentions\n",
      "aiOverview_source_mentions\n",
      "aiOverview_source_competitor_mentions\n"
     ]
    }
   ],
   "source": [
    "for col in srs:\n",
    "    print(col)"
   ]
  },
  {
   "cell_type": "code",
   "execution_count": null,
   "id": "27092038",
   "metadata": {},
   "outputs": [],
   "source": [
    "result = kwds.merge(srs, how=\"left\", left_on=\"keyword\", right_on=\"term\")\n",
    "result"
   ]
  },
  {
   "cell_type": "code",
   "execution_count": null,
   "id": "34813994",
   "metadata": {},
   "outputs": [],
   "source": [
    "print(str(result.head()))"
   ]
  },
  {
   "cell_type": "markdown",
   "id": "f4a078b9",
   "metadata": {},
   "source": [
    "# Traffic only"
   ]
  },
  {
   "cell_type": "code",
   "execution_count": null,
   "id": "c6e01996",
   "metadata": {},
   "outputs": [],
   "source": [
    "importlib.reload(traffic)\n",
    "\n",
    "trf_cfg = {\"batch_size\": 25, \"apify_token\": None}\n",
    "trf_cfg = traffic.TrafficConfig(**trf_cfg)\n",
    "trf_cfg"
   ]
  },
  {
   "cell_type": "code",
   "execution_count": null,
   "id": "2cf1f063",
   "metadata": {},
   "outputs": [],
   "source": [
    "srs[[\"term\", \"domains\"]]"
   ]
  },
  {
   "cell_type": "code",
   "execution_count": null,
   "id": "96a80270",
   "metadata": {},
   "outputs": [],
   "source": [
    "trf = await traffic.keyword_traffic(srs.term, srs.domains, trf_cfg)\n",
    "trf"
   ]
  },
  {
   "cell_type": "code",
   "execution_count": null,
   "id": "0682cb99",
   "metadata": {},
   "outputs": [],
   "source": [
    "trfinp = srs[[\"term\", \"domains\"]].explode(\"domains\").reset_index(drop=True)\n",
    "trfinp"
   ]
  },
  {
   "cell_type": "code",
   "execution_count": null,
   "id": "fe274166",
   "metadata": {},
   "outputs": [],
   "source": [
    "trf = await traffic.fetch_domain_traffic(tuple(trfinp.domains), trf_cfg)\n",
    "trf"
   ]
  },
  {
   "cell_type": "code",
   "execution_count": null,
   "id": "e559b1a6",
   "metadata": {},
   "outputs": [],
   "source": [
    "trf"
   ]
  },
  {
   "cell_type": "markdown",
   "id": "dda9aa4f",
   "metadata": {},
   "source": [
    "# All in one"
   ]
  },
  {
   "cell_type": "code",
   "execution_count": null,
   "id": "7466292b",
   "metadata": {},
   "outputs": [],
   "source": [
    "importlib.reload(keywords)\n",
    "importlib.reload(serps)\n",
    "importlib.reload(traffic)\n",
    "importlib.reload(seo)"
   ]
  },
  {
   "cell_type": "code",
   "execution_count": null,
   "id": "fd4ad86e",
   "metadata": {},
   "outputs": [],
   "source": [
    "cfg = {\n",
    "    \"kwd_cfg\": {\n",
    "        \"keywords\": [\"análisis de datos\"],\n",
    "        \"url\": None,\n",
    "        \"whole_site\": False,\n",
    "        \"ideas\": True,\n",
    "        \"max_ideas\": 20,\n",
    "        \"language\": \"es\",\n",
    "        \"country\": \"es\",\n",
    "        \"metrics_start\": \"2021-01\",\n",
    "        \"metrics_end\": \"2025-06\",\n",
    "    },\n",
    "    \"serp_cfg\": {\n",
    "        \"batch_size\": 10,\n",
    "        \"resultsPerPage\": 10,\n",
    "        \"maxPagesPerQuery\": 1,\n",
    "        \"country\": \"us\",\n",
    "        \"searchLanguage\": \"en\",\n",
    "        \"languageCode\": \"en\",\n",
    "        \"top_n\": 10,\n",
    "        \"brands\": [\"graphext\"],\n",
    "        \"competitors\": [\n",
    "            \"dataiku\",\n",
    "            \"tableau\",\n",
    "            \"powerbi\",\n",
    "            \"power bi\",\n",
    "        ],\n",
    "    },\n",
    "    \"traffic_cfg\": {\n",
    "        \"batch_size\": 25,\n",
    "    },\n",
    "}\n",
    "\n",
    "seo_cfg = seo.SeoConfig(**cfg)\n",
    "seo_cfg"
   ]
  },
  {
   "cell_type": "code",
   "execution_count": null,
   "id": "930e9360",
   "metadata": {},
   "outputs": [],
   "source": [
    "result = await seo.seo_data(seo_cfg)\n",
    "result"
   ]
  },
  {
   "cell_type": "code",
   "execution_count": null,
   "id": "86967fbe",
   "metadata": {},
   "outputs": [],
   "source": [
    "from datetime import datetime\n",
    "\n",
    "now = datetime.now().time().strftime(\"%H_%M_%S\")\n",
    "fnm = f\"/Users/thomas/Downloads/keywords_gx_{now}.parquet\"\n",
    "result.to_parquet(fnm, index=False)"
   ]
  },
  {
   "cell_type": "code",
   "execution_count": null,
   "id": "7d24c634",
   "metadata": {},
   "outputs": [],
   "source": [
    "result = pd.read_parquet(\"...\")\n",
    "result"
   ]
  }
 ],
 "metadata": {
  "kernelspec": {
   "display_name": "cuery",
   "language": "python",
   "name": "python3"
  },
  "language_info": {
   "codemirror_mode": {
    "name": "ipython",
    "version": 3
   },
   "file_extension": ".py",
   "mimetype": "text/x-python",
   "name": "python",
   "nbconvert_exporter": "python",
   "pygments_lexer": "ipython3",
   "version": "3.11.13"
  }
 },
 "nbformat": 4,
 "nbformat_minor": 5
}
