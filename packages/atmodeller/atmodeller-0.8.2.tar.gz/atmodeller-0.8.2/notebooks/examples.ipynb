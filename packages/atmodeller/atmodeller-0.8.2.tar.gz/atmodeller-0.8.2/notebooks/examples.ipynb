{
 "cells": [
  {
   "cell_type": "markdown",
   "metadata": {},
   "source": [
    "# Examples\n",
    "\n",
    "These examples are available in `notebooks/examples.ipynb` and more examples are available in the `tests/` directory. In both cases it is easiest to obtain these by downloading the source code.\n",
    "\n",
    "## Initial setup"
   ]
  },
  {
   "cell_type": "code",
   "execution_count": null,
   "metadata": {},
   "outputs": [],
   "source": [
    "import logging\n",
    "\n",
    "import numpy as np\n",
    "\n",
    "from atmodeller import (\n",
    "    InteriorAtmosphere,\n",
    "    Planet,\n",
    "    Species,\n",
    "    SpeciesCollection,\n",
    "    debug_logger,\n",
    "    earth_oceans_to_hydrogen_mass,\n",
    ")\n",
    "from atmodeller.eos import get_eos_models\n",
    "from atmodeller.solubility import get_solubility_models\n",
    "from atmodeller.thermodata import IronWustiteBuffer\n",
    "\n",
    "logger = debug_logger()\n",
    "logger.setLevel(logging.INFO)\n",
    "\n",
    "# For more output use DEBUG\n",
    "# logger.setLevel(logging.DEBUG)"
   ]
  },
  {
   "cell_type": "markdown",
   "metadata": {},
   "source": [
    "## Species and thermodynamic data\n",
    "\n",
    "The species available in *Atmodeller* can be found in the `thermodata` subpackage, where the prefix of the dictionary key denotes the chemical formula in *Hill notation* and the suffix describes the *states of aggregation* in accordance with the JANAF convention."
   ]
  },
  {
   "cell_type": "code",
   "execution_count": null,
   "metadata": {},
   "outputs": [],
   "source": [
    "# Get all available species\n",
    "available_species = SpeciesCollection.available_species()\n",
    "logger.info(\"Available species = %s\", available_species)\n",
    "\n",
    "# To create a gas species, for example CO2, where the state of aggregation defaults to 'g':\n",
    "CO2_g = Species.create_gas(\"CO2\")\n",
    "\n",
    "# The unique name that Atmodeller assigns combines the Hill notation and the state of aggregation\n",
    "logger.info(\"Species name = %s\", CO2_g.data.name)\n",
    "\n",
    "# Compute the Gibbs energy relative to RT at 2000 K\n",
    "temperature = 2000.0\n",
    "gibbs = CO2_g.data.get_gibbs_over_RT(temperature)\n",
    "logger.info(\"Gibbs/RT = %s\", gibbs)\n",
    "\n",
    "# Compute the composition\n",
    "composition = CO2_g.data.composition\n",
    "logger.info(\"Composition = %s\", composition)\n",
    "\n",
    "# Access more thermodynamic data\n",
    "heat_capacity = CO2_g.data.thermo.cp(temperature)\n",
    "logger.info(\"Heat capacity = %s\", heat_capacity)\n",
    "\n",
    "# Etc., other methods are available to compute other quantities"
   ]
  },
  {
   "cell_type": "markdown",
   "metadata": {},
   "source": [
    "## Solubility\n",
    "\n",
    "Solubility laws are available in the `solubility` subpackage."
   ]
  },
  {
   "cell_type": "code",
   "execution_count": null,
   "metadata": {},
   "outputs": [],
   "source": [
    "solubility_models = get_solubility_models()\n",
    "logger.info(\"Solubility models = %s\", solubility_models.keys())\n",
    "\n",
    "CO2_basalt = solubility_models[\"CO2_basalt_dixon95\"]\n",
    "# Compute the concentration at fCO2=0.5 bar, 1300 K, and 1 bar\n",
    "# Note that fugacity is the first argument and others are keyword only\n",
    "concentration = CO2_basalt.concentration(0.5, temperature=1300, pressure=1)\n",
    "logger.info(\"Concentration (ppmw) = %s\", concentration)"
   ]
  },
  {
   "cell_type": "code",
   "execution_count": null,
   "metadata": {},
   "outputs": [],
   "source": [
    "N2_basalt = solubility_models[\"N2_basalt_libourel03\"]\n",
    "# Compute the concentration at fCO2=0.5 bar, 1300 K, and 1 bar\n",
    "# Note that fugacity is the first argument and others are keyword only\n",
    "concentration = N2_basalt.concentration(0.20, temperature=1698.15, pressure=1, fO2=10**-16.2)\n",
    "logger.info(\"Concentration (ppmw) = %s\", concentration)"
   ]
  },
  {
   "cell_type": "code",
   "execution_count": null,
   "metadata": {},
   "outputs": [],
   "source": [
    "N2_basalt_dasgupta = solubility_models[\"N2_basalt_dasgupta22\"]\n",
    "# Compute the concentration at fCO2=0.5 bar, 1300 K, and 1 bar\n",
    "# Note that fugacity is the first argument and others are keyword only\n",
    "concentration = N2_basalt_dasgupta.concentration(\n",
    "    1550, temperature=1773.15, pressure=1708.7, fO2=1.8e-13\n",
    ")\n",
    "logger.info(\"Concentration (ppmw) = %s\", concentration)"
   ]
  },
  {
   "cell_type": "markdown",
   "metadata": {},
   "source": [
    "## Real gas EOS\n",
    "\n",
    "Real gas equations of state are available in the `eos` subpackage."
   ]
  },
  {
   "cell_type": "code",
   "execution_count": null,
   "metadata": {},
   "outputs": [],
   "source": [
    "# Get all available EOS models\n",
    "eos_models = get_eos_models()\n",
    "logger.info(\"EOS models = %s\", eos_models.keys())\n",
    "\n",
    "# Get a CH4 model\n",
    "CH4_eos_model = eos_models[\"CH4_beattie_holley58\"]\n",
    "# Compute the fugacity at 800 K and 100 bar\n",
    "fugacity = CH4_eos_model.fugacity(800, 100)\n",
    "logger.info(\"Fugacity = %s bar\", fugacity)\n",
    "# Compute the compressibility factor at the same conditions\n",
    "compressibility = CH4_eos_model.compressibility_factor(800, 100)\n",
    "logger.info(\"Compressibility factor = %s\", compressibility)\n",
    "# Etc., other methods are available to compute other quantities"
   ]
  },
  {
   "cell_type": "markdown",
   "metadata": {},
   "source": [
    "We can also use broadcasting to perform multiple evaluations at once, for example to compute a grid of fugacities:"
   ]
  },
  {
   "cell_type": "code",
   "execution_count": null,
   "metadata": {},
   "outputs": [],
   "source": [
    "# Define the temperature (K) and pressure (bar) grid\n",
    "temperature = np.array([1000, 1600])\n",
    "pressure = np.array([1, 10, 100])\n",
    "\n",
    "temperature_broadcasted = temperature[:, None]\n",
    "pressure_broadcasted = pressure[None, :]\n",
    "\n",
    "# Get a CH4 model\n",
    "CH4_eos_model = eos_models[\"CH4_cork_cs_holland91\"]\n",
    "# Compute the fugacity\n",
    "fugacity = CH4_eos_model.fugacity(temperature_broadcasted, pressure_broadcasted)\n",
    "logger.info(\"Fugacity = %s bar\", fugacity)\n",
    "# Compute the compressibility factor at the same conditions\n",
    "compressibility = CH4_eos_model.compressibility_factor(\n",
    "    temperature_broadcasted, pressure_broadcasted\n",
    ")\n",
    "logger.info(\"Compressibility factor = %s\", compressibility)\n",
    "# Etc., other methods are available to compute other quantities"
   ]
  },
  {
   "cell_type": "markdown",
   "metadata": {},
   "source": [
    "## Model with mass constraints\n",
    "\n",
    "A common scenario is to calculate how volatiles partition between a magma ocean and an atmosphere when the total elemental abundances are constrained. `Planet()` defaults to a molten Earth, but the planetary parameters can be changed using input arguments."
   ]
  },
  {
   "cell_type": "code",
   "execution_count": null,
   "metadata": {},
   "outputs": [],
   "source": [
    "solubility_models = get_solubility_models()\n",
    "\n",
    "H2_g: Species = Species.create_gas(\"H2\")\n",
    "H2O_g: Species = Species.create_gas(\"H2O\", solubility=solubility_models[\"H2O_peridotite_sossi23\"])\n",
    "O2_g: Species = Species.create_gas(\"O2\")\n",
    "\n",
    "# This is one way of defining the species collection, and this approach is preferred if you want to\n",
    "# specify species with solubility laws, as defined for H2O_g above.\n",
    "species = SpeciesCollection((H2_g, H2O_g, O2_g))\n",
    "\n",
    "# Planet has input arguments that you can change. See the class documentation.\n",
    "planet = Planet()\n",
    "interior_atmosphere = InteriorAtmosphere(species)\n",
    "\n",
    "oceans = 1\n",
    "h_kg = earth_oceans_to_hydrogen_mass(oceans)\n",
    "o_kg = 6.25774e20\n",
    "mass_constraints = {\n",
    "    \"H\": h_kg,\n",
    "    \"O\": o_kg,\n",
    "}\n",
    "\n",
    "interior_atmosphere.solve(\n",
    "    planet=planet,\n",
    "    # initial_log_number_density=initial_log_number_density,\n",
    "    mass_constraints=mass_constraints,\n",
    "    # fugacity_constraints=fugacity_constraints,\n",
    ")\n",
    "output = interior_atmosphere.output\n",
    "\n",
    "# Quick look at the solution\n",
    "solution = output.quick_look()\n",
    "logger.info(\"solution = %s\", solution)\n",
    "\n",
    "# Get complete solution as a dictionary\n",
    "# solution_asdict = output.asdict()\n",
    "# logger.info(solution_asdict)\n",
    "\n",
    "# Get the complete solution as dataframes\n",
    "# solution_dataframes = output.to_dataframes()\n",
    "\n",
    "# Write the complete solution to Excel\n",
    "# output.to_excel(\"example_single\")"
   ]
  },
  {
   "cell_type": "markdown",
   "metadata": {},
   "source": [
    "## Defining a collection of species\n",
    "\n",
    "In the above example, a species collection was created by first creating the species and then aggregating the species into a `SpeciesCollection`. This approach allows for complete generality since each species can also have its own solubility law assigned. However, if you want to create a simple gas network that assumes ideality and no solubility, you can also use the following formulation, where the *state of aggregation* must be specified after the formula (and separated by an underscore) for all species:"
   ]
  },
  {
   "cell_type": "code",
   "execution_count": null,
   "metadata": {},
   "outputs": [],
   "source": [
    "species_no_solubility = SpeciesCollection.create((\"H2_g\", \"H2O_g\", \"O2_g\"))\n",
    "logger.info(\"species_no_solubility = %s\", species_no_solubility)"
   ]
  },
  {
   "cell_type": "markdown",
   "metadata": {},
   "source": [
    "## Batch calculation\n",
    "\n",
    "For a batch calculation you can provide arrays to the planet or constraints. All arrays must have the same size because for a batch calculation the array values are aligned by position. Single values will automatically be broadcasted to the maximum array size."
   ]
  },
  {
   "cell_type": "code",
   "execution_count": null,
   "metadata": {},
   "outputs": [],
   "source": [
    "solubility_models = get_solubility_models()\n",
    "\n",
    "H2_g = Species.create_gas(\"H2\")\n",
    "H2O_g = Species.create_gas(\"H2O\", solubility=solubility_models[\"H2O_peridotite_sossi23\"])\n",
    "O2_g = Species.create_gas(\"O2\")\n",
    "\n",
    "species = SpeciesCollection((H2_g, H2O_g, O2_g))\n",
    "\n",
    "# Batch temperature and radius, where the entries correspond by position. You could also choose\n",
    "# to leave one or both as scalars.\n",
    "surface_temperature = np.array([2000, 2000, 1500, 1500])\n",
    "surface_radius = 6371000.0 * np.array([1.5, 3, 1.5, 3])\n",
    "\n",
    "planet = Planet(surface_temperature=surface_temperature, surface_radius=surface_radius)\n",
    "interior_atmosphere = InteriorAtmosphere(species)\n",
    "\n",
    "oceans = 1\n",
    "h_kg = earth_oceans_to_hydrogen_mass(oceans)\n",
    "o_kg = 6.25774e20\n",
    "scale_factor = 5\n",
    "mass_constraints = {\n",
    "    # We can also batch constraints, as long as we also have a total of 4 entries\n",
    "    \"H\": np.array([h_kg, h_kg, h_kg * scale_factor, h_kg * scale_factor]),\n",
    "    \"O\": np.array([o_kg, o_kg * scale_factor, o_kg, o_kg * scale_factor]),\n",
    "}\n",
    "\n",
    "# Initial solution guess number density (molecules/m^3)\n",
    "initial_log_number_density = 50\n",
    "\n",
    "interior_atmosphere.solve(\n",
    "    planet=planet,\n",
    "    initial_log_number_density=initial_log_number_density,\n",
    "    mass_constraints=mass_constraints,\n",
    ")\n",
    "output = interior_atmosphere.output\n",
    "\n",
    "# Quick look at the solution\n",
    "solution = output.quick_look()\n",
    "logger.info(\"Quick look = %s\", solution)\n",
    "\n",
    "# Get complete solution as a dictionary\n",
    "# solution_asdict = output.asdict()\n",
    "# logger.info(solution_asdict)\n",
    "\n",
    "# Write the complete solution to Excel\n",
    "# output.to_excel(\"example_batch\")"
   ]
  },
  {
   "cell_type": "markdown",
   "metadata": {},
   "source": [
    "## Time integration\n",
    "\n",
    "For models where you need to dynamically update constraints during the course of a time-integration, atmodeller can be utilised as follows. Note that the order of the arguments and the size of the arrays must be the same as those used to initialise the model, but of course the values can be different."
   ]
  },
  {
   "cell_type": "code",
   "execution_count": null,
   "metadata": {},
   "outputs": [],
   "source": [
    "# This first part is the initialisation stage and should appear outside of your main time loop\n",
    "\n",
    "solubility_models = get_solubility_models()\n",
    "\n",
    "H2_g = Species.create_gas(\"H2\")\n",
    "H2O_g = Species.create_gas(\"H2O\", solubility=solubility_models[\"H2O_peridotite_sossi23\"])\n",
    "O2_g = Species.create_gas(\"O2\")\n",
    "\n",
    "species = SpeciesCollection((H2_g, H2O_g, O2_g))\n",
    "\n",
    "planet = Planet()\n",
    "interior_atmosphere = InteriorAtmosphere(species)\n",
    "\n",
    "oceans = 1\n",
    "h_kg = earth_oceans_to_hydrogen_mass(oceans)\n",
    "o_kg = 6.25774e20\n",
    "\n",
    "start_time = 1\n",
    "end_time = 4\n",
    "\n",
    "# This is the time loop, where something changes and you want to re-solve using Atmodeller\n",
    "for ii in range(start_time, end_time):\n",
    "    # Let's say we update the mass constraints. The number of constraints and the value size must\n",
    "    # remain the same as the initialised model, but you are free to update their values. Here,\n",
    "    # scale by number of earth oceans for the hydrogen mass.\n",
    "    logger.info(\"Iteration %d\", ii)\n",
    "    logger.info(\"Your code does something here to compute new masses\")\n",
    "    mass_constraints = {\"H\": h_kg * ii, \"O\": o_kg}\n",
    "    # These solves are fast because they use the JAX-compiled code after compiling once\n",
    "    logger.info(\"Atmodeller solve using JIT compiled code\")\n",
    "    interior_atmosphere.solve(mass_constraints=mass_constraints)\n",
    "    output = interior_atmosphere.output\n",
    "\n",
    "    # Quick look at the solution\n",
    "    solution = output.quick_look()\n",
    "    logger.info(\"solution = %s\", solution)\n",
    "\n",
    "    # Get complete solution as a dictionary\n",
    "    # If required, get complete output to feedback into other calculations during the time loop\n",
    "    # solution_asdict = output.asdict()"
   ]
  },
  {
   "cell_type": "markdown",
   "metadata": {},
   "source": [
    "## Monte Carlo\n",
    "\n",
    "Exploring atmospheric compositions in a Monte Carlo model can be achieved with a batch \n",
    "calculation over a range of parameters. Note that in this case the same initial solution is used \n",
    "for all cases."
   ]
  },
  {
   "cell_type": "code",
   "execution_count": null,
   "metadata": {},
   "outputs": [],
   "source": [
    "solubility_models = get_solubility_models()\n",
    "\n",
    "H2_g: Species = Species.create_gas(\"H2\")\n",
    "H2O_g: Species = Species.create_gas(\"H2O\", solubility=solubility_models[\"H2O_peridotite_sossi23\"])\n",
    "O2_g: Species = Species.create_gas(\"O2\")\n",
    "\n",
    "species = SpeciesCollection((H2_g, H2O_g, O2_g))\n",
    "planet = Planet()\n",
    "interior_atmosphere = InteriorAtmosphere(species)\n",
    "\n",
    "number_of_realisations = 1000\n",
    "log10_number_oceans = np.random.uniform(0, 3, number_of_realisations)\n",
    "number_oceans = 10**log10_number_oceans\n",
    "fO2_min = -3\n",
    "fO2_max = 3\n",
    "fO2_log10_shifts = np.random.uniform(fO2_min, fO2_max, number_of_realisations)\n",
    "\n",
    "oceans = 1\n",
    "h_kg = earth_oceans_to_hydrogen_mass(number_oceans)\n",
    "mass_constraints = {\n",
    "    \"H\": h_kg,\n",
    "}\n",
    "fugacity_constraints = {O2_g.name: IronWustiteBuffer(fO2_log10_shifts)}\n",
    "\n",
    "# Initial solution guess number density (molecules/m^3)\n",
    "initial_log_number_density = 50 * np.ones(len(species))\n",
    "\n",
    "interior_atmosphere.solve(\n",
    "    planet=planet,\n",
    "    initial_log_number_density=initial_log_number_density,\n",
    "    mass_constraints=mass_constraints,\n",
    "    fugacity_constraints=fugacity_constraints,\n",
    ")\n",
    "output = interior_atmosphere.output\n",
    "\n",
    "# Quick look at the solution\n",
    "# solution = output.quick_look()\n",
    "# logger.info(\"solution = %s\", solution)\n",
    "\n",
    "# Get complete solution as a dictionary\n",
    "# solution_asdict = output.asdict()\n",
    "# logger.info(solution_asdict)\n",
    "\n",
    "# Write the complete solution to Excel\n",
    "# output.to_excel(\"example_monte_carlo\")"
   ]
  }
 ],
 "metadata": {
  "kernelspec": {
   "display_name": ".venv",
   "language": "python",
   "name": "python3"
  },
  "language_info": {
   "codemirror_mode": {
    "name": "ipython",
    "version": 3
   },
   "file_extension": ".py",
   "mimetype": "text/x-python",
   "name": "python",
   "nbconvert_exporter": "python",
   "pygments_lexer": "ipython3",
   "version": "3.10.13"
  }
 },
 "nbformat": 4,
 "nbformat_minor": 2
}
