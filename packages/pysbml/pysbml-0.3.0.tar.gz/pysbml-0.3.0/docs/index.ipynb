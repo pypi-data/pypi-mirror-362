{
 "cells": [
  {
   "cell_type": "markdown",
   "id": "6d293be5",
   "metadata": {},
   "source": [
    "# pySBML\n",
    "\n",
    "`pySBML` is a library to parse SBML models into native, type-annotated Python types and transform ODE models into a simpler representation.  "
   ]
  },
  {
   "cell_type": "code",
   "execution_count": null,
   "id": "0553e3b5",
   "metadata": {},
   "outputs": [],
   "source": [
    "from pathlib import Path\n",
    "\n",
    "import pysbml"
   ]
  },
  {
   "cell_type": "markdown",
   "id": "bd8bcd69",
   "metadata": {},
   "source": [
    "## Main routine\n",
    "\n",
    "The main feature of pySBML is to read SBML models and then transform them into a simpler representation that directly can be interpreted as a system of ordinary differential equations.  \n",
    "\n",
    "For a one-line solution, you can use the `load_and_transform_model` function.\n",
    "\n",
    "This supports both `Path` and `str` arguments, although the `pathlib.Path` solution is always preferred to support cross-platform scripts. \n",
    "\n",
    "Note that we defined a `_repr_markdown_` method for nice markdown display of a model in jupyter notebooks"
   ]
  },
  {
   "cell_type": "code",
   "execution_count": null,
   "id": "a76bb45f",
   "metadata": {},
   "outputs": [],
   "source": [
    "model = pysbml.load_and_transform_model(Path(\"assets\") / \"00462.xml\")\n",
    "model"
   ]
  },
  {
   "cell_type": "markdown",
   "id": "d1f4f39f",
   "metadata": {},
   "source": [
    "We also supply a `codegen` function to directly transform your model into a Python module that you can execute.  "
   ]
  },
  {
   "cell_type": "code",
   "execution_count": null,
   "id": "c1e27049",
   "metadata": {},
   "outputs": [],
   "source": [
    "from pysbml.codegen import codegen\n",
    "\n",
    "print(codegen(model))"
   ]
  },
  {
   "cell_type": "markdown",
   "id": "8a40f4b3",
   "metadata": {},
   "source": [
    "## Step by step\n",
    "\n",
    "If you want to inspect every step of the process, you can.  \n",
    "In this case, we start by loading the entire SBML document, which contains plugin information and the actual model.\n",
    "\n"
   ]
  },
  {
   "cell_type": "markdown",
   "id": "9b1e7944",
   "metadata": {},
   "source": [
    "### Step 1: loading the model\n",
    "\n",
    "Using the `load_document` function, we parse the model into native Python types without further modifications.  \n",
    "\n",
    "All SBML constructs as well as the mathml data is represented in a modern way, using type-annotated dataclasses.  \n",
    "You can find these in `pysbml.parse.data` and `pysbml.parse.mathml` respectively.  \n",
    "\n",
    "This representation will make it a lot easier to keep all variants in mind.\n",
    "\n",
    "For example, the `Reaction` class can contain locally defined parameters as well as stoichiometries which either map a variable directly to a factor **or** a tuple of factor and species reference.\n",
    "This is encoded as follows\n",
    "\n",
    "```python\n",
    "@dataclass(kw_only=True, slots=True)\n",
    "class Reaction:\n",
    "    body: Base\n",
    "    stoichiometry: Mapping[str, float | list[tuple[float, str]]]\n",
    "    args: list[Symbol]\n",
    "    local_pars: dict[str, Parameter] = field(default_factory=dict)\n",
    "```\n",
    "\n",
    "No untyped `model.getListOfReactions()` methods, just data. Simple and efficient."
   ]
  },
  {
   "cell_type": "code",
   "execution_count": null,
   "id": "33f303ea",
   "metadata": {},
   "outputs": [],
   "source": [
    "from pysbml import load_document\n",
    "\n",
    "doc = load_document(Path(\"assets\") / \"00462.xml\")\n",
    "doc.model"
   ]
  },
  {
   "cell_type": "markdown",
   "id": "e0c7b32f",
   "metadata": {},
   "source": [
    "### Step 2: transforming the model\n",
    "\n",
    "As you can see above, the SBML standard contains a lot of different flags and options for what e.g. a Variable is supposed to **mean**.  \n",
    "\n",
    "This includes whether the variable is an amount, a concentration, constant, is to be interpreted as an amount (`only_substrate_units`), has a boundary condition, lives in a constant or dynamic comparment and so on.\n",
    "\n",
    "To us that representation is too complex.  \n",
    "We want something simpler.  \n",
    "Using the `transform` method, we can represent the model using just the data below.   \n",
    "\n",
    "```python\n",
    "type Expr = sympy.Symbol | sympy.Float | sympy.Expr\n",
    "type Stoichiometry = dict[str, Expr]\n",
    "\n",
    "class Parameter:\n",
    "    value: sympy.Float\n",
    "    unit: Quantity | None\n",
    "\n",
    "class Variable:\n",
    "    value: sympy.Float\n",
    "    unit: Quantity | None\n",
    "\n",
    "class Reaction:\n",
    "    expr: sympy.Expr\n",
    "    stoichiometry: Stoichiometry\n",
    "\n",
    "class Model:\n",
    "    name: str\n",
    "    units: dict[str, Quantity] = field(default_factory=dict)\n",
    "    functions: dict[str, Expr] = field(default_factory=dict)\n",
    "    parameters: dict[str, Parameter] = field(default_factory=dict)\n",
    "    variables: dict[str, Variable] = field(default_factory=dict)\n",
    "    derived: dict[str, Expr] = field(default_factory=dict)\n",
    "    reactions: dict[str, Reaction] = field(default_factory=dict)\n",
    "    initial_assignments: dict[str, Expr] = field(default_factory=dict)\n",
    "```\n",
    "\n",
    "Parameters are always constant, variables always change.  \n",
    "No special handling of compartments, no locally defined parameters.  \n",
    "\n",
    "Note that we also transformed the MathML classes into sympy expressions for easier manipulation.  "
   ]
  },
  {
   "cell_type": "code",
   "execution_count": null,
   "id": "05e2da11",
   "metadata": {},
   "outputs": [],
   "source": [
    "from pysbml.transform import transform\n",
    "\n",
    "model = transform(doc)\n",
    "model"
   ]
  },
  {
   "cell_type": "code",
   "execution_count": null,
   "id": "b5e8c47c",
   "metadata": {},
   "outputs": [],
   "source": [
    "print(model._repr_markdown_())"
   ]
  },
  {
   "cell_type": "markdown",
   "id": "636ce49b",
   "metadata": {},
   "source": [
    "### Step 3: codegen\n",
    "\n",
    "As above, you can use our `codegen` function to directly generate a model.  "
   ]
  },
  {
   "cell_type": "code",
   "execution_count": null,
   "id": "dd7960ea",
   "metadata": {},
   "outputs": [],
   "source": [
    "print(codegen(model))"
   ]
  },
  {
   "cell_type": "markdown",
   "id": "1ebafc39",
   "metadata": {},
   "source": [
    "If you have a library yourself and want to just use our transformed model to create your own code, great!  \n",
    "We do the same at [MxlPy](github.com/Computational-Biology-Aachen/MxlPy).  \n",
    "\n",
    "A few pointers for that to work seamlessly:\n",
    "\n",
    "1. Derived values are stored as dictionaries internally. Depending on how you set up your models, you will need to **sort** these such that they are called in the right sequence (as they might depend on each other). Since this is essentially a dependency resolution problem, we implemented a topological sort for this. Take a look at `pysbml.codegen._sort_dependencies` for inspiration how to do this\n",
    "2. Initial assignments have the same issue. Since they can depend on derived values, we recommend sorting twice: once with the initial ones and once without\n",
    "3. It is legal SBML to have an ODE model without variables or ODEs. Be aware that your inputs and outputs might be empty"
   ]
  },
  {
   "cell_type": "markdown",
   "id": "1bce649d",
   "metadata": {},
   "source": []
  }
 ],
 "metadata": {
  "kernelspec": {
   "display_name": "pysbml",
   "language": "python",
   "name": "python3"
  },
  "language_info": {
   "codemirror_mode": {
    "name": "ipython",
    "version": 3
   },
   "file_extension": ".py",
   "mimetype": "text/x-python",
   "name": "python",
   "nbconvert_exporter": "python",
   "pygments_lexer": "ipython3",
   "version": "3.12.8"
  }
 },
 "nbformat": 4,
 "nbformat_minor": 5
}
