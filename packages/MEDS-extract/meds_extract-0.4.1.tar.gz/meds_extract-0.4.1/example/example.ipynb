{
 "cells": [
  {
   "cell_type": "markdown",
   "id": "0",
   "metadata": {},
   "source": [
    "# Example ETL via MEDS-Extract\n",
    "\n",
    "In this example, we'll extract some raw data into the MEDS format via MEDS-Extract. To start with, let's inspect our input (synthetic) raw data:"
   ]
  },
  {
   "cell_type": "code",
   "execution_count": 10,
   "id": "1",
   "metadata": {},
   "outputs": [],
   "source": [
    "from pathlib import Path\n",
    "\n",
    "from pretty_print_directory import PrintConfig, print_directory\n",
    "\n",
    "DATA_ROOT = Path(\"raw_data\")"
   ]
  },
  {
   "cell_type": "code",
   "execution_count": 5,
   "id": "2",
   "metadata": {},
   "outputs": [
    {
     "name": "stdout",
     "output_type": "stream",
     "text": [
      "├── diagnoses.csv\n",
      "├── labs_vitals.csv\n",
      "├── medications.csv\n",
      "└── patients.csv\n"
     ]
    }
   ],
   "source": [
    "print_directory(DATA_ROOT)"
   ]
  },
  {
   "cell_type": "markdown",
   "id": "3",
   "metadata": {},
   "source": [
    "We can see there are four `csv` files; let's look at what they contain, using [`polars`](https://docs.pola.rs/) as our dataframe engine."
   ]
  },
  {
   "cell_type": "code",
   "execution_count": 6,
   "id": "4",
   "metadata": {},
   "outputs": [
    {
     "name": "stdout",
     "output_type": "stream",
     "text": [
      "diagnoses: \n"
     ]
    },
    {
     "data": {
      "text/html": [
       "<div><style>\n",
       ".dataframe > thead > tr,\n",
       ".dataframe > tbody > tr {\n",
       "  text-align: right;\n",
       "  white-space: pre-wrap;\n",
       "}\n",
       "</style>\n",
       "<small>shape: (2, 3)</small><table border=\"1\" class=\"dataframe\"><thead><tr><th>patient_id</th><th>diagnosis_code</th><th>timestamp</th></tr><tr><td>i64</td><td>str</td><td>str</td></tr></thead><tbody><tr><td>1</td><td>&quot;E11.9&quot;</td><td>&quot;2024-04-03T00:00:00&quot;</td></tr><tr><td>1</td><td>&quot;I10&quot;</td><td>&quot;2024-08-30T00:00:00&quot;</td></tr></tbody></table></div>"
      ],
      "text/plain": [
       "shape: (2, 3)\n",
       "┌────────────┬────────────────┬─────────────────────┐\n",
       "│ patient_id ┆ diagnosis_code ┆ timestamp           │\n",
       "│ ---        ┆ ---            ┆ ---                 │\n",
       "│ i64        ┆ str            ┆ str                 │\n",
       "╞════════════╪════════════════╪═════════════════════╡\n",
       "│ 1          ┆ E11.9          ┆ 2024-04-03T00:00:00 │\n",
       "│ 1          ┆ I10            ┆ 2024-08-30T00:00:00 │\n",
       "└────────────┴────────────────┴─────────────────────┘"
      ]
     },
     "metadata": {},
     "output_type": "display_data"
    },
    {
     "name": "stdout",
     "output_type": "stream",
     "text": [
      "labs_vitals: \n"
     ]
    },
    {
     "data": {
      "text/html": [
       "<div><style>\n",
       ".dataframe > thead > tr,\n",
       ".dataframe > tbody > tr {\n",
       "  text-align: right;\n",
       "  white-space: pre-wrap;\n",
       "}\n",
       "</style>\n",
       "<small>shape: (2, 4)</small><table border=\"1\" class=\"dataframe\"><thead><tr><th>test_name</th><th>patient_id</th><th>timestamp</th><th>result</th></tr><tr><td>str</td><td>i64</td><td>str</td><td>f64</td></tr></thead><tbody><tr><td>&quot;Systolic BP (mmHg)&quot;</td><td>1</td><td>&quot;2024-08-15T01:25:00&quot;</td><td>153.04</td></tr><tr><td>&quot;Systolic BP (mmHg)&quot;</td><td>1</td><td>&quot;2025-06-10T16:08:00&quot;</td><td>221.74</td></tr></tbody></table></div>"
      ],
      "text/plain": [
       "shape: (2, 4)\n",
       "┌────────────────────┬────────────┬─────────────────────┬────────┐\n",
       "│ test_name          ┆ patient_id ┆ timestamp           ┆ result │\n",
       "│ ---                ┆ ---        ┆ ---                 ┆ ---    │\n",
       "│ str                ┆ i64        ┆ str                 ┆ f64    │\n",
       "╞════════════════════╪════════════╪═════════════════════╪════════╡\n",
       "│ Systolic BP (mmHg) ┆ 1          ┆ 2024-08-15T01:25:00 ┆ 153.04 │\n",
       "│ Systolic BP (mmHg) ┆ 1          ┆ 2025-06-10T16:08:00 ┆ 221.74 │\n",
       "└────────────────────┴────────────┴─────────────────────┴────────┘"
      ]
     },
     "metadata": {},
     "output_type": "display_data"
    },
    {
     "name": "stdout",
     "output_type": "stream",
     "text": [
      "medications: \n"
     ]
    },
    {
     "data": {
      "text/html": [
       "<div><style>\n",
       ".dataframe > thead > tr,\n",
       ".dataframe > tbody > tr {\n",
       "  text-align: right;\n",
       "  white-space: pre-wrap;\n",
       "}\n",
       "</style>\n",
       "<small>shape: (2, 4)</small><table border=\"1\" class=\"dataframe\"><thead><tr><th>medication_name</th><th>dose</th><th>patient_id</th><th>timestamp</th></tr><tr><td>str</td><td>str</td><td>i64</td><td>str</td></tr></thead><tbody><tr><td>&quot;Metformin&quot;</td><td>&quot;500 mg&quot;</td><td>1</td><td>&quot;2025-03-16T00:00:00&quot;</td></tr><tr><td>&quot;Lisinopril&quot;</td><td>&quot;10 mg&quot;</td><td>1</td><td>&quot;2025-03-30T00:00:00&quot;</td></tr></tbody></table></div>"
      ],
      "text/plain": [
       "shape: (2, 4)\n",
       "┌─────────────────┬────────┬────────────┬─────────────────────┐\n",
       "│ medication_name ┆ dose   ┆ patient_id ┆ timestamp           │\n",
       "│ ---             ┆ ---    ┆ ---        ┆ ---                 │\n",
       "│ str             ┆ str    ┆ i64        ┆ str                 │\n",
       "╞═════════════════╪════════╪════════════╪═════════════════════╡\n",
       "│ Metformin       ┆ 500 mg ┆ 1          ┆ 2025-03-16T00:00:00 │\n",
       "│ Lisinopril      ┆ 10 mg  ┆ 1          ┆ 2025-03-30T00:00:00 │\n",
       "└─────────────────┴────────┴────────────┴─────────────────────┘"
      ]
     },
     "metadata": {},
     "output_type": "display_data"
    },
    {
     "name": "stdout",
     "output_type": "stream",
     "text": [
      "patients: \n"
     ]
    },
    {
     "data": {
      "text/html": [
       "<div><style>\n",
       ".dataframe > thead > tr,\n",
       ".dataframe > tbody > tr {\n",
       "  text-align: right;\n",
       "  white-space: pre-wrap;\n",
       "}\n",
       "</style>\n",
       "<small>shape: (2, 5)</small><table border=\"1\" class=\"dataframe\"><thead><tr><th>patient_id</th><th>eye_color</th><th>hair_color</th><th>dob</th><th>dod</th></tr><tr><td>i64</td><td>str</td><td>str</td><td>str</td><td>str</td></tr></thead><tbody><tr><td>1</td><td>&quot;brown&quot;</td><td>&quot;blond&quot;</td><td>&quot;1954-01-24T00:00:00&quot;</td><td>&quot;2018-11-01T00:00:00&quot;</td></tr><tr><td>2</td><td>&quot;blue&quot;</td><td>&quot;blond&quot;</td><td>&quot;2009-02-19T00:00:00&quot;</td><td>null</td></tr></tbody></table></div>"
      ],
      "text/plain": [
       "shape: (2, 5)\n",
       "┌────────────┬───────────┬────────────┬─────────────────────┬─────────────────────┐\n",
       "│ patient_id ┆ eye_color ┆ hair_color ┆ dob                 ┆ dod                 │\n",
       "│ ---        ┆ ---       ┆ ---        ┆ ---                 ┆ ---                 │\n",
       "│ i64        ┆ str       ┆ str        ┆ str                 ┆ str                 │\n",
       "╞════════════╪═══════════╪════════════╪═════════════════════╪═════════════════════╡\n",
       "│ 1          ┆ brown     ┆ blond      ┆ 1954-01-24T00:00:00 ┆ 2018-11-01T00:00:00 │\n",
       "│ 2          ┆ blue      ┆ blond      ┆ 2009-02-19T00:00:00 ┆ null                │\n",
       "└────────────┴───────────┴────────────┴─────────────────────┴─────────────────────┘"
      ]
     },
     "metadata": {},
     "output_type": "display_data"
    }
   ],
   "source": [
    "import polars as pl\n",
    "from IPython.display import display  # This is used for nice displays later\n",
    "\n",
    "dfs = {}\n",
    "for fn in (\"diagnoses\", \"labs_vitals\", \"medications\", \"patients\"):\n",
    "    fp = DATA_ROOT / f\"{fn}.csv\"\n",
    "    dfs[fn] = pl.read_csv(fp)\n",
    "    print(f\"{fn}: \")\n",
    "    display(dfs[fn].head(2))"
   ]
  },
  {
   "cell_type": "markdown",
   "id": "5",
   "metadata": {},
   "source": [
    "Following the conventions of MEDS-Extract, we'll use the event conversion configuration file stored in `event_cfg.yaml` in this directory to parse these data:"
   ]
  },
  {
   "cell_type": "code",
   "execution_count": 7,
   "id": "6",
   "metadata": {},
   "outputs": [
    {
     "name": "stdout",
     "output_type": "stream",
     "text": [
      "subject_id_col: patient_id\n",
      "\n",
      "patients:\n",
      "  eye_color:\n",
      "    code:\n",
      "      - EYE_COLOR\n",
      "      - col(eye_color)\n",
      "    time: null\n",
      "  hair_color:\n",
      "    code:\n",
      "      - HAIR_COLOR\n",
      "      - col(hair_color)\n",
      "    time: null\n",
      "  dob:\n",
      "    code: MEDS_BIRTH\n",
      "    time: col(dob)\n",
      "    time_format: \"%Y-%m-%dT%H:%M:%S\"\n",
      "  dod:\n",
      "    code: MEDS_DEATH\n",
      "    time: col(dod)\n",
      "    time_format: \"%Y-%m-%dT%H:%M:%S\"\n",
      "\n",
      "labs_vitals:\n",
      "  lab:\n",
      "    code: col(test_name)\n",
      "    time: col(timestamp)\n",
      "    time_format: \"%Y-%m-%dT%H:%M:%S\"\n",
      "    numeric_value: col(result)\n",
      "\n",
      "medications:\n",
      "  med:\n",
      "    code:\n",
      "      - col(medication_name)\n",
      "      - col(dose)\n",
      "    time: col(timestamp)\n",
      "    time_format: \"%Y-%m-%dT%H:%M:%S\"\n",
      "    numeric_value: col(dose)\n",
      "\n",
      "diagnoses:\n",
      "  dx:\n",
      "    code: col(diagnosis_code)\n",
      "    time: col(timestamp)\n",
      "    time_format: \"%Y-%m-%dT%H:%M:%S\"\n",
      "\n"
     ]
    }
   ],
   "source": [
    "print(Path(\"event_cfg.yaml\").read_text())"
   ]
  },
  {
   "cell_type": "markdown",
   "id": "7",
   "metadata": {},
   "source": [
    "Now, we can simply run the pipeline via the traditional syntax in MEDS-Transforms, specifying as needed the additional properties for the MEDS-Extract library. These properties include:\n",
    "\n",
    "1. Normal, MEDS-Transforms properties:\n",
    "  - The `input_dir` (or specified via `dataset.root_dir`\n",
    "  - The `output_dir`\n",
    "2. MEDS-Extract specific properties:\n",
    "  - The `event_conversion_config_fp`\n",
    "  - The dataset's name (nested within `dataset.name` or `etl_metadata.dataset_name`)\n",
    "  - The dataset's version (nested within `dataset.version` or `etl_metadata.dataset_version`)\n",
    "\n",
    "```bash\n",
    "MEDS_transform-pipeline \\\n",
    "    pkg://MEDS_extract.configs._extract.yaml \\\n",
    "    --overrides \\\n",
    "    input_dir=raw_data \\\n",
    "    output_dir=MEDS_output \\\n",
    "    event_conversion_config_fp=event_cfg.yaml \\\n",
    "    dataset.name=EXAMPLE \\\n",
    "    dataset.version=1.0\n",
    "    \n",
    "```"
   ]
  },
  {
   "cell_type": "code",
   "execution_count": 8,
   "id": "8",
   "metadata": {},
   "outputs": [],
   "source": [
    "%%bash\n",
    "MEDS_transform-pipeline \\\n",
    "    pkg://MEDS_extract.configs._extract.yaml \\\n",
    "    --overrides \\\n",
    "    input_dir=raw_data \\\n",
    "    output_dir=MEDS_output \\\n",
    "    event_conversion_config_fp=event_cfg.yaml \\\n",
    "    dataset.name=EXAMPLE \\\n",
    "    dataset.version=1.0"
   ]
  },
  {
   "cell_type": "markdown",
   "id": "3f562e36-bce6-4a2d-a834-805cbbcaa5d7",
   "metadata": {},
   "source": [
    "The command exits silently, which is a good sign -- but let's see what's now in the output directory. We'll start by just looking at the final data and metadata directories, and omitting logs, to keep the output small:"
   ]
  },
  {
   "cell_type": "code",
   "execution_count": 13,
   "id": "9d55d66a-e3d0-4e86-8b1d-501dcd11cf72",
   "metadata": {},
   "outputs": [
    {
     "name": "stdout",
     "output_type": "stream",
     "text": [
      "├── held_out\n",
      "│   └── 0.parquet\n",
      "├── train\n",
      "│   └── 0.parquet\n",
      "└── tuning\n",
      "    └── 0.parquet\n"
     ]
    }
   ],
   "source": [
    "output_data_root = Path(\"MEDS_output/data\")\n",
    "print_directory(output_data_root, PrintConfig(ignore_regex=r\"\\.logs\"))"
   ]
  },
  {
   "cell_type": "code",
   "execution_count": 14,
   "id": "53854f24-1c52-43ec-bcc0-bf4cd91cead1",
   "metadata": {},
   "outputs": [
    {
     "name": "stdout",
     "output_type": "stream",
     "text": [
      "├── .shards.json\n",
      "├── codes.parquet\n",
      "├── dataset.json\n",
      "└── subject_splits.parquet\n"
     ]
    }
   ],
   "source": [
    "output_metadata_root = Path(\"MEDS_output/metadata\")\n",
    "print_directory(output_metadata_root, PrintConfig(ignore_regex=r\"\\.logs\"))"
   ]
  },
  {
   "cell_type": "markdown",
   "id": "c5f3b04a-0d5e-4745-9d59-cdb26fca2ba4",
   "metadata": {},
   "source": [
    "Let's see some of the files:"
   ]
  },
  {
   "cell_type": "code",
   "execution_count": 16,
   "id": "1c51ad6e-9203-4d54-8f73-76c8b1a29ebf",
   "metadata": {},
   "outputs": [
    {
     "name": "stdout",
     "output_type": "stream",
     "text": [
      "held_out/0.parquet\n"
     ]
    },
    {
     "data": {
      "text/html": [
       "<div><style>\n",
       ".dataframe > thead > tr,\n",
       ".dataframe > tbody > tr {\n",
       "  text-align: right;\n",
       "  white-space: pre-wrap;\n",
       "}\n",
       "</style>\n",
       "<small>shape: (6, 4)</small><table border=\"1\" class=\"dataframe\"><thead><tr><th>subject_id</th><th>time</th><th>code</th><th>numeric_value</th></tr><tr><td>i64</td><td>datetime[μs]</td><td>str</td><td>f32</td></tr></thead><tbody><tr><td>7</td><td>null</td><td>&quot;EYE_COLOR//blue&quot;</td><td>null</td></tr><tr><td>7</td><td>null</td><td>&quot;HAIR_COLOR//red&quot;</td><td>null</td></tr><tr><td>7</td><td>1973-01-24 00:00:00</td><td>&quot;MEDS_BIRTH&quot;</td><td>null</td></tr><tr><td>7</td><td>2023-07-18 00:00:00</td><td>&quot;B20&quot;</td><td>null</td></tr><tr><td>7</td><td>2024-07-20 19:26:00</td><td>&quot;Hemoglobin A1c (%)&quot;</td><td>11.59</td></tr><tr><td>7</td><td>2024-09-13 06:51:00</td><td>&quot;Glucose (mg/dL)&quot;</td><td>178.5</td></tr></tbody></table></div>"
      ],
      "text/plain": [
       "shape: (6, 4)\n",
       "┌────────────┬─────────────────────┬────────────────────┬───────────────┐\n",
       "│ subject_id ┆ time                ┆ code               ┆ numeric_value │\n",
       "│ ---        ┆ ---                 ┆ ---                ┆ ---           │\n",
       "│ i64        ┆ datetime[μs]        ┆ str                ┆ f32           │\n",
       "╞════════════╪═════════════════════╪════════════════════╪═══════════════╡\n",
       "│ 7          ┆ null                ┆ EYE_COLOR//blue    ┆ null          │\n",
       "│ 7          ┆ null                ┆ HAIR_COLOR//red    ┆ null          │\n",
       "│ 7          ┆ 1973-01-24 00:00:00 ┆ MEDS_BIRTH         ┆ null          │\n",
       "│ 7          ┆ 2023-07-18 00:00:00 ┆ B20                ┆ null          │\n",
       "│ 7          ┆ 2024-07-20 19:26:00 ┆ Hemoglobin A1c (%) ┆ 11.59         │\n",
       "│ 7          ┆ 2024-09-13 06:51:00 ┆ Glucose (mg/dL)    ┆ 178.5         │\n",
       "└────────────┴─────────────────────┴────────────────────┴───────────────┘"
      ]
     },
     "metadata": {},
     "output_type": "display_data"
    },
    {
     "name": "stdout",
     "output_type": "stream",
     "text": [
      "train/0.parquet\n"
     ]
    },
    {
     "data": {
      "text/html": [
       "<div><style>\n",
       ".dataframe > thead > tr,\n",
       ".dataframe > tbody > tr {\n",
       "  text-align: right;\n",
       "  white-space: pre-wrap;\n",
       "}\n",
       "</style>\n",
       "<small>shape: (6, 4)</small><table border=\"1\" class=\"dataframe\"><thead><tr><th>subject_id</th><th>time</th><th>code</th><th>numeric_value</th></tr><tr><td>i64</td><td>datetime[μs]</td><td>str</td><td>f32</td></tr></thead><tbody><tr><td>1</td><td>null</td><td>&quot;EYE_COLOR//brown&quot;</td><td>null</td></tr><tr><td>1</td><td>null</td><td>&quot;HAIR_COLOR//blond&quot;</td><td>null</td></tr><tr><td>1</td><td>1954-01-24 00:00:00</td><td>&quot;MEDS_BIRTH&quot;</td><td>null</td></tr><tr><td>1</td><td>2018-11-01 00:00:00</td><td>&quot;MEDS_DEATH&quot;</td><td>null</td></tr><tr><td>1</td><td>2024-04-03 00:00:00</td><td>&quot;E11.9&quot;</td><td>null</td></tr><tr><td>1</td><td>2024-07-30 03:37:00</td><td>&quot;Systolic BP (mmHg)&quot;</td><td>169.039993</td></tr></tbody></table></div>"
      ],
      "text/plain": [
       "shape: (6, 4)\n",
       "┌────────────┬─────────────────────┬────────────────────┬───────────────┐\n",
       "│ subject_id ┆ time                ┆ code               ┆ numeric_value │\n",
       "│ ---        ┆ ---                 ┆ ---                ┆ ---           │\n",
       "│ i64        ┆ datetime[μs]        ┆ str                ┆ f32           │\n",
       "╞════════════╪═════════════════════╪════════════════════╪═══════════════╡\n",
       "│ 1          ┆ null                ┆ EYE_COLOR//brown   ┆ null          │\n",
       "│ 1          ┆ null                ┆ HAIR_COLOR//blond  ┆ null          │\n",
       "│ 1          ┆ 1954-01-24 00:00:00 ┆ MEDS_BIRTH         ┆ null          │\n",
       "│ 1          ┆ 2018-11-01 00:00:00 ┆ MEDS_DEATH         ┆ null          │\n",
       "│ 1          ┆ 2024-04-03 00:00:00 ┆ E11.9              ┆ null          │\n",
       "│ 1          ┆ 2024-07-30 03:37:00 ┆ Systolic BP (mmHg) ┆ 169.039993    │\n",
       "└────────────┴─────────────────────┴────────────────────┴───────────────┘"
      ]
     },
     "metadata": {},
     "output_type": "display_data"
    },
    {
     "name": "stdout",
     "output_type": "stream",
     "text": [
      "tuning/0.parquet\n"
     ]
    },
    {
     "data": {
      "text/html": [
       "<div><style>\n",
       ".dataframe > thead > tr,\n",
       ".dataframe > tbody > tr {\n",
       "  text-align: right;\n",
       "  white-space: pre-wrap;\n",
       "}\n",
       "</style>\n",
       "<small>shape: (6, 4)</small><table border=\"1\" class=\"dataframe\"><thead><tr><th>subject_id</th><th>time</th><th>code</th><th>numeric_value</th></tr><tr><td>i64</td><td>datetime[μs]</td><td>str</td><td>f32</td></tr></thead><tbody><tr><td>3</td><td>null</td><td>&quot;EYE_COLOR//gray&quot;</td><td>null</td></tr><tr><td>3</td><td>null</td><td>&quot;HAIR_COLOR//brown&quot;</td><td>null</td></tr><tr><td>3</td><td>1967-04-17 00:00:00</td><td>&quot;MEDS_BIRTH&quot;</td><td>null</td></tr><tr><td>3</td><td>2023-04-14 00:00:00</td><td>&quot;J45.909&quot;</td><td>null</td></tr><tr><td>3</td><td>2024-07-17 00:10:00</td><td>&quot;Creatinine (mg/dL)&quot;</td><td>0.86</td></tr><tr><td>3</td><td>2024-10-10 18:57:00</td><td>&quot;Creatinine (mg/dL)&quot;</td><td>1.05</td></tr></tbody></table></div>"
      ],
      "text/plain": [
       "shape: (6, 4)\n",
       "┌────────────┬─────────────────────┬────────────────────┬───────────────┐\n",
       "│ subject_id ┆ time                ┆ code               ┆ numeric_value │\n",
       "│ ---        ┆ ---                 ┆ ---                ┆ ---           │\n",
       "│ i64        ┆ datetime[μs]        ┆ str                ┆ f32           │\n",
       "╞════════════╪═════════════════════╪════════════════════╪═══════════════╡\n",
       "│ 3          ┆ null                ┆ EYE_COLOR//gray    ┆ null          │\n",
       "│ 3          ┆ null                ┆ HAIR_COLOR//brown  ┆ null          │\n",
       "│ 3          ┆ 1967-04-17 00:00:00 ┆ MEDS_BIRTH         ┆ null          │\n",
       "│ 3          ┆ 2023-04-14 00:00:00 ┆ J45.909            ┆ null          │\n",
       "│ 3          ┆ 2024-07-17 00:10:00 ┆ Creatinine (mg/dL) ┆ 0.86          │\n",
       "│ 3          ┆ 2024-10-10 18:57:00 ┆ Creatinine (mg/dL) ┆ 1.05          │\n",
       "└────────────┴─────────────────────┴────────────────────┴───────────────┘"
      ]
     },
     "metadata": {},
     "output_type": "display_data"
    }
   ],
   "source": [
    "for fp in output_data_root.rglob(\"*.parquet\"):\n",
    "    print(fp.relative_to(output_data_root))\n",
    "    display(pl.read_parquet(fp).head(6))"
   ]
  },
  {
   "cell_type": "code",
   "execution_count": 18,
   "id": "39c1ad39-6d23-4345-9fba-d749515441c7",
   "metadata": {},
   "outputs": [
    {
     "name": "stdout",
     "output_type": "stream",
     "text": [
      "{\"dataset_name\": \"EXAMPLE\", \"dataset_version\": \"1.0\", \"etl_name\": \"MEDS_transforms\", \"etl_version\": \"0.6.0\", \"meds_version\": \"0.4.0\", \"created_at\": \"2025-07-10T15:23:15.287066+00:00\"}\n"
     ]
    }
   ],
   "source": [
    "print((output_metadata_root / \"dataset.json\").read_text())"
   ]
  },
  {
   "cell_type": "code",
   "execution_count": 19,
   "id": "e3047655-713d-42de-a4b4-788e8029a92e",
   "metadata": {},
   "outputs": [
    {
     "data": {
      "text/html": [
       "<div><style>\n",
       ".dataframe > thead > tr,\n",
       ".dataframe > tbody > tr {\n",
       "  text-align: right;\n",
       "  white-space: pre-wrap;\n",
       "}\n",
       "</style>\n",
       "<small>shape: (0, 3)</small><table border=\"1\" class=\"dataframe\"><thead><tr><th>code</th><th>description</th><th>parent_codes</th></tr><tr><td>str</td><td>str</td><td>list[str]</td></tr></thead><tbody></tbody></table></div>"
      ],
      "text/plain": [
       "shape: (0, 3)\n",
       "┌──────┬─────────────┬──────────────┐\n",
       "│ code ┆ description ┆ parent_codes │\n",
       "│ ---  ┆ ---         ┆ ---          │\n",
       "│ str  ┆ str         ┆ list[str]    │\n",
       "╞══════╪═════════════╪══════════════╡\n",
       "└──────┴─────────────┴──────────────┘"
      ]
     },
     "metadata": {},
     "output_type": "display_data"
    }
   ],
   "source": [
    "display(pl.read_parquet(output_metadata_root / \"codes.parquet\"))"
   ]
  },
  {
   "cell_type": "markdown",
   "id": "47c40268-b55b-42c3-903d-d72987fd0342",
   "metadata": {},
   "source": [
    "We can see that by default, the codes file has the right schema but is empty, as we extracted no metadata in this pipeline."
   ]
  },
  {
   "cell_type": "code",
   "execution_count": 20,
   "id": "9ddc1b47-0be8-487b-84cf-e51160b5ab57",
   "metadata": {},
   "outputs": [
    {
     "data": {
      "text/html": [
       "<div><style>\n",
       ".dataframe > thead > tr,\n",
       ".dataframe > tbody > tr {\n",
       "  text-align: right;\n",
       "  white-space: pre-wrap;\n",
       "}\n",
       "</style>\n",
       "<small>shape: (10, 2)</small><table border=\"1\" class=\"dataframe\"><thead><tr><th>subject_id</th><th>split</th></tr><tr><td>i64</td><td>str</td></tr></thead><tbody><tr><td>9</td><td>&quot;train&quot;</td></tr><tr><td>4</td><td>&quot;train&quot;</td></tr><tr><td>5</td><td>&quot;train&quot;</td></tr><tr><td>8</td><td>&quot;train&quot;</td></tr><tr><td>6</td><td>&quot;train&quot;</td></tr><tr><td>1</td><td>&quot;train&quot;</td></tr><tr><td>2</td><td>&quot;train&quot;</td></tr><tr><td>10</td><td>&quot;train&quot;</td></tr><tr><td>3</td><td>&quot;tuning&quot;</td></tr><tr><td>7</td><td>&quot;held_out&quot;</td></tr></tbody></table></div>"
      ],
      "text/plain": [
       "shape: (10, 2)\n",
       "┌────────────┬──────────┐\n",
       "│ subject_id ┆ split    │\n",
       "│ ---        ┆ ---      │\n",
       "│ i64        ┆ str      │\n",
       "╞════════════╪══════════╡\n",
       "│ 9          ┆ train    │\n",
       "│ 4          ┆ train    │\n",
       "│ 5          ┆ train    │\n",
       "│ 8          ┆ train    │\n",
       "│ 6          ┆ train    │\n",
       "│ 1          ┆ train    │\n",
       "│ 2          ┆ train    │\n",
       "│ 10         ┆ train    │\n",
       "│ 3          ┆ tuning   │\n",
       "│ 7          ┆ held_out │\n",
       "└────────────┴──────────┘"
      ]
     },
     "metadata": {},
     "output_type": "display_data"
    }
   ],
   "source": [
    "display(pl.read_parquet(output_metadata_root / \"subject_splits.parquet\"))"
   ]
  }
 ],
 "metadata": {
  "kernelspec": {
   "display_name": "Python 3 (ipykernel)",
   "language": "python",
   "name": "python3"
  },
  "language_info": {
   "codemirror_mode": {
    "name": "ipython",
    "version": 3
   },
   "file_extension": ".py",
   "mimetype": "text/x-python",
   "name": "python",
   "nbconvert_exporter": "python",
   "pygments_lexer": "ipython3",
   "version": "3.12.9"
  }
 },
 "nbformat": 4,
 "nbformat_minor": 5
}
