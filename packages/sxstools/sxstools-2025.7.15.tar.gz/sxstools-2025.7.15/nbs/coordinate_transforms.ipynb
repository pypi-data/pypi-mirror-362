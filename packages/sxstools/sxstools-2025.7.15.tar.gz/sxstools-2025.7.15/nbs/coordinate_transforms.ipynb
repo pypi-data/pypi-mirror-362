{
 "cells": [
  {
   "cell_type": "markdown",
   "id": "7a9523e7",
   "metadata": {},
   "source": [
    "# Coordinate Transformations\n",
    "\n",
    "Transform the NR data products (i.e. spins, vectors and waveform modes) to a frame at $t_{ref}$ consistent with the LAL conventions."
   ]
  },
  {
   "cell_type": "code",
   "execution_count": null,
   "id": "535d0ace",
   "metadata": {},
   "outputs": [],
   "source": [
    "## Dont forget to add sxstools to PYTHONPATH"
   ]
  },
  {
   "cell_type": "code",
   "execution_count": null,
   "id": "1bbb6afa",
   "metadata": {},
   "outputs": [],
   "source": [
    "from sxstools.quantities import get_dynamics_from_h5, get_t_ref_from_dynamics_and_freq, get_NR_ref_quantities_at_t_ref\n",
    "from sxstools.coordinate_transform import CoordinateTransform"
   ]
  },
  {
   "cell_type": "code",
   "execution_count": null,
   "id": "0426980c",
   "metadata": {},
   "outputs": [
    {
     "name": "stdout",
     "output_type": "stream",
     "text": [
      "Omega_ref 0.030947772352865662\n"
     ]
    }
   ],
   "source": [
    "path_to_horizons_file = \"/path/to/Horizons.h5\"\n",
    "# Define the total mass of the system if t_ref (M) is to be\n",
    "# inferred from f_ref (Hz)\n",
    "Mtotal = 100 \n",
    "\n",
    "# Get the dynamics\n",
    "dynamics = get_dynamics_from_h5(path_to_horizons_file)\n",
    "\n",
    "# Get t_ref from f_ref\n",
    "# t_junk is the duration of data in the beginning that\n",
    "# you don't want to trust\n",
    "t_ref = get_t_ref_from_dynamics_and_freq(dynamics, f_ref=20, Mtotal=Mtotal, t_junk=100)\n",
    "\n",
    "# Get the reference parameters in the NR reference frame\n",
    "NR_ref_params = get_NR_ref_quantities_at_t_ref(dynamics=dynamics, t_ref=t_ref)\n",
    "\n",
    "# Load the NR waveform modes\n",
    "\n",
    "wmodes = scri.SpEC.file_io.read_from_h5(\"/path/to/rhOverM_Extrapolated_N2_CoM.h5\")\n"
   ]
  },
  {
   "cell_type": "code",
   "execution_count": 8,
   "id": "e3743038",
   "metadata": {},
   "outputs": [
    {
     "data": {
      "text/plain": [
       "dict_keys(['times', 'xA', 'xB', 'omega', 'chiA', 'chiB', 'v_kick', 'chiC_final', 'massA', 'massB', 'massC_final'])"
      ]
     },
     "execution_count": 8,
     "metadata": {},
     "output_type": "execute_result"
    }
   ],
   "source": [
    "dynamics.keys()"
   ]
  },
  {
   "cell_type": "code",
   "execution_count": 9,
   "id": "4d5d9f3f",
   "metadata": {},
   "outputs": [
    {
     "data": {
      "text/plain": [
       "dict_keys(['t_ref', 'massA_ref', 'massB_ref', 'massC_final', 'chiA_NR_ref', 'chiB_NR_ref', 'chiC_NR_final', 'v_kick_NR'])"
      ]
     },
     "execution_count": 9,
     "metadata": {},
     "output_type": "execute_result"
    }
   ],
   "source": [
    "NR_ref_params.keys()"
   ]
  },
  {
   "cell_type": "code",
   "execution_count": 5,
   "id": "b7fde425",
   "metadata": {},
   "outputs": [],
   "source": [
    "t_operator = CoordinateTransform(NR_ref_parames=ref_params,\n",
    "                                 dynamics=dynamics,\n",
    "                                 waveform_modes=wmodes,\n",
    "                                )"
   ]
  },
  {
   "cell_type": "code",
   "execution_count": 6,
   "id": "ac931bd7",
   "metadata": {},
   "outputs": [
    {
     "name": "stdout",
     "output_type": "stream",
     "text": [
      "Omegahats [-0.01744503  0.10515212  0.99430312] [-0.01451649  0.11615566  0.99312493]\n",
      "Lhat [-0.01579065  0.11124594  0.99366745], Omegahat: [-0.01744503  0.10515212  0.99430312]\n",
      "nhat [ 0.10263453 -0.98836042  0.1122935 ]\n"
     ]
    }
   ],
   "source": [
    "t_operator.transform()"
   ]
  },
  {
   "cell_type": "markdown",
   "id": "a6167a61",
   "metadata": {},
   "source": [
    "# The transformed quantities can be accessed as follows"
   ]
  },
  {
   "cell_type": "code",
   "execution_count": 10,
   "id": "90737d63",
   "metadata": {},
   "outputs": [
    {
     "data": {
      "text/plain": [
       "{'massA': 0.55476,\n",
       " 'massB': 0.44525,\n",
       " 'chiA': [0.22704489928506613, 0.20046810715542818, -0.31538289177299006],\n",
       " 'chiA_ref': [-0.21024440854613122, 0.24529637277389932, -0.2946696368477677],\n",
       " 'chiB': [-0.460299334621765, -0.3472859535839689, 0.42620948879807297],\n",
       " 'chiB_ref': [0.3438574661443775, -0.49205900302899386, 0.392144769015681],\n",
       " 'chiC_final': [-0.03143082585797692, 0.06992539115451772, 0.6603956331008167],\n",
       " 'chiC_final_ref': [0.001813688570815243,\n",
       "  -0.021239082195920415,\n",
       "  0.6644888722033637],\n",
       " 'v_kick': [0.03158904522892321, 0.0009741142316394681, 0.029918619305978975],\n",
       " 'v_kick_ref': [0.005638705231491573,\n",
       "  0.03164467417381371,\n",
       "  0.029338712615465133],\n",
       " 'phi_ref': -1.4779265381738937,\n",
       " 'omega_ref': 0.030947599457674443,\n",
       " 'Lhat': [-0.015790654720871922, 0.11124594326425442, 0.9936674470519463],\n",
       " 'nhat': [0.10263453339602578, -0.9883604211245443, 0.11229350163341331],\n",
       " 'Omegahat': [-0.01744502859851392, 0.10515212262540215, 0.9943031238433124]}"
      ]
     },
     "execution_count": 10,
     "metadata": {},
     "output_type": "execute_result"
    }
   ],
   "source": [
    "t_operator.reference_parameters"
   ]
  },
  {
   "cell_type": "code",
   "execution_count": null,
   "id": "1604e934",
   "metadata": {},
   "outputs": [],
   "source": [
    "t_operator.transformed_quantities"
   ]
  }
 ],
 "metadata": {
  "kernelspec": {
   "display_name": "wtest2",
   "language": "python",
   "name": "python3"
  },
  "language_info": {
   "codemirror_mode": {
    "name": "ipython",
    "version": 3
   },
   "file_extension": ".py",
   "mimetype": "text/x-python",
   "name": "python",
   "nbconvert_exporter": "python",
   "pygments_lexer": "ipython3",
   "version": "3.13.4"
  }
 },
 "nbformat": 4,
 "nbformat_minor": 5
}
