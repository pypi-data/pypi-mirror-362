{
 "cells": [
  {
   "cell_type": "markdown",
   "id": "cdd7545f",
   "metadata": {},
   "source": [
    "# Making your own `EventData`\n",
    "\n",
    "In this example we will download data from [GWOSC](https://www.gw-openscience.org/) and make our own `EventData` (instead of loading one of the precomputed `npz` files)."
   ]
  },
  {
   "cell_type": "code",
   "execution_count": null,
   "id": "c93f02e9",
   "metadata": {},
   "outputs": [],
   "source": [
    "import os\n",
    "import requests\n",
    "\n",
    "from matplotlib import pyplot as plt\n",
    "\n",
    "import gwosc\n",
    "\n",
    "from cogwheel import data\n",
    "from cogwheel.posterior import Posterior"
   ]
  },
  {
   "cell_type": "code",
   "execution_count": null,
   "id": "cdcceb84",
   "metadata": {},
   "outputs": [],
   "source": [
    "eventname = 'GW170817'"
   ]
  },
  {
   "cell_type": "markdown",
   "id": "728e0ae9",
   "metadata": {
    "scrolled": false
   },
   "source": [
    "To download the default strain data from GWOSC, we could use the following lines and skip the next cell:\n",
    "```python\n",
    "filenames, detector_names, tgps = data.download_timeseries(eventname)\n",
    "```\n",
    "Here we will download [specific hdf5 data files from GWOSC](https://www.gw-openscience.org/eventapi/html/O1_O2-Preliminary/GW170817/v2) instead (with the glitch at Livingston cleaned):"
   ]
  },
  {
   "cell_type": "code",
   "execution_count": null,
   "id": "3d66a4b2-912e-4eaa-87d1-452e815f297d",
   "metadata": {},
   "outputs": [],
   "source": [
    "outdir = data.GWOSC_FILES_DIR/eventname\n",
    "\n",
    "# Create the output directory if it doesn't exist\n",
    "os.makedirs(outdir, exist_ok=True)\n",
    "\n",
    "urls = gwosc.locate.get_event_urls('GW170817', version=2)  # Cleaned GW170817\n",
    "\n",
    "# Download each file using requests\n",
    "filenames = []\n",
    "for url in urls:\n",
    "    response = requests.get(url, allow_redirects=True)\n",
    "    if response.status_code == 200:\n",
    "        filename = outdir/os.path.basename(url)\n",
    "        with open(filename, 'wb') as f:\n",
    "            f.write(response.content)\n",
    "        filenames.append(filename)\n",
    "    else:\n",
    "        print(f\"Failed to download {url}, status code {response.status_code}\")\n",
    "\n",
    "detector_names = [filename.name[0] for filename in filenames]\n",
    "tgps = gwosc.datasets.event_gps(eventname)"
   ]
  },
  {
   "cell_type": "markdown",
   "id": "5ea2f1ea",
   "metadata": {},
   "source": [
    "Construct `EventData` making sure we keep a length of data enough to contain the signal, and that the Nyquist frequency is high enough to capture all available SNR.\n",
    "\n",
    "This estimates the noise power spectrum with the Welch method from the full file and crops, high-passes and whitens a chunk of data. The duration of the chunk of data, that of the Welch segments and the Nyquist frequency are determined by the arguments to `from_timeseries`."
   ]
  },
  {
   "cell_type": "code",
   "execution_count": null,
   "id": "2f36be7e",
   "metadata": {},
   "outputs": [],
   "source": [
    "event_data = data.EventData.from_timeseries(\n",
    "    filenames, eventname.split('-')[0], detector_names, tgps, t_before=128., fmax=1600.)"
   ]
  },
  {
   "cell_type": "markdown",
   "id": "3cc16eff",
   "metadata": {},
   "source": [
    "Plot whitening filter (inverse of the noise amplitude spectral density times a high-pass)"
   ]
  },
  {
   "cell_type": "code",
   "execution_count": null,
   "id": "efc5c597",
   "metadata": {},
   "outputs": [],
   "source": [
    "plt.figure()\n",
    "plt.plot(event_data.frequencies, event_data.wht_filter.T,\n",
    "         label=list(event_data.detector_names))\n",
    "plt.legend()\n",
    "\n",
    "plt.xlabel('Frequency (Hz)')\n",
    "plt.ylabel(r'Whitening filter ($\\sqrt{\\rm Hz}$)')\n",
    "plt.xlim(0)\n",
    "plt.ylim(0);"
   ]
  },
  {
   "cell_type": "markdown",
   "id": "24fbcafc",
   "metadata": {},
   "source": [
    "Plot spectrogram (full file and zoom-in)"
   ]
  },
  {
   "cell_type": "code",
   "execution_count": null,
   "id": "8ddf2067",
   "metadata": {},
   "outputs": [],
   "source": [
    "event_data.specgram()"
   ]
  },
  {
   "cell_type": "code",
   "execution_count": null,
   "id": "59ddd0e0",
   "metadata": {},
   "outputs": [],
   "source": [
    "event_data.specgram((-1.5, .5), nfft=200)"
   ]
  },
  {
   "cell_type": "markdown",
   "id": "a42d8405",
   "metadata": {},
   "source": [
    "We can use this `EventData` to make a `Posterior` object.\n",
    "\n",
    "*Note:* `mchirp_guess` is detector frame chirp-mass, should be less than a few sigmas away from the truth. This becomes important for low mass systems like GW170817 whose chirp mass is very well measured."
   ]
  },
  {
   "cell_type": "code",
   "execution_count": null,
   "id": "27627d71",
   "metadata": {},
   "outputs": [],
   "source": [
    "mchirp_guess = 1.198\n",
    "post = Posterior.from_event(event_data, mchirp_guess, 'IMRPhenomXPHM', 'LVCPrior')"
   ]
  },
  {
   "attachments": {},
   "cell_type": "markdown",
   "id": "6fe57101-9ba8-4bf5-b11b-e95e9cde9701",
   "metadata": {},
   "source": [
    "We can save the event data and/or the posterior to use later:\n",
    "```python\n",
    "event_data.to_npz()\n",
    "post.to_json(dirname)  # Then load with cogwheel.utils.read_json()\n",
    "```\n",
    "Saving the `EventData` like this makes it available by name (i.e., `Posterior.from_event(event='GW170817', ...)`)."
   ]
  }
 ],
 "metadata": {
  "kernelspec": {
   "display_name": "Python 3 (ipykernel)",
   "language": "python",
   "name": "python3"
  },
  "language_info": {
   "codemirror_mode": {
    "name": "ipython",
    "version": 3
   },
   "file_extension": ".py",
   "mimetype": "text/x-python",
   "name": "python",
   "nbconvert_exporter": "python",
   "pygments_lexer": "ipython3",
   "version": "3.13.5"
  }
 },
 "nbformat": 4,
 "nbformat_minor": 5
}
