{
 "cells": [
  {
   "cell_type": "markdown",
   "id": "61f14154-1096-4a89-957f-ccb436c3ae96",
   "metadata": {},
   "source": [
    "# Factorized parameter estimation with precession and higher modes\n",
    "\n",
    "Run parameter estimation by marginalizing the extrinsic parameters during sampling.\n",
    "\n",
    "Reference: https://arxiv.org/abs/2404.02435"
   ]
  },
  {
   "cell_type": "code",
   "execution_count": null,
   "id": "82a93fd0",
   "metadata": {
    "ExecuteTime": {
     "end_time": "2022-11-04T00:52:11.302362Z",
     "start_time": "2022-11-04T00:52:06.187464Z"
    }
   },
   "outputs": [],
   "source": [
    "# Ensure only one CPU is used:\n",
    "import os\n",
    "os.environ[\"OMP_NUM_THREADS\"] = \"1\"\n",
    "\n",
    "from pathlib import Path\n",
    "import pandas as pd\n",
    "\n",
    "from cogwheel import posterior, sampling, data, gw_plotting\n",
    "\n",
    "%matplotlib widget"
   ]
  },
  {
   "cell_type": "code",
   "execution_count": null,
   "id": "751057eb",
   "metadata": {
    "ExecuteTime": {
     "end_time": "2022-11-04T00:52:13.815915Z",
     "start_time": "2022-11-04T00:52:13.813672Z"
    }
   },
   "outputs": [],
   "source": [
    "parentdir = Path('example')  # PE runs will be saved here"
   ]
  },
  {
   "cell_type": "code",
   "execution_count": null,
   "id": "5b9f7e23",
   "metadata": {
    "ExecuteTime": {
     "end_time": "2022-11-04T00:52:17.937591Z",
     "start_time": "2022-11-04T00:52:17.887997Z"
    }
   },
   "outputs": [],
   "source": [
    "eventname = 'GW190412'"
   ]
  },
  {
   "cell_type": "code",
   "execution_count": null,
   "id": "dd4b2e34-c2ae-41ff-8bbd-8274d6d02d22",
   "metadata": {},
   "outputs": [],
   "source": [
    "# Create and save `EventData` file\n",
    "if not data.EventData.get_filename(eventname).exists():\n",
    "    filenames, detector_names, tgps = data.download_timeseries(eventname)\n",
    "    event_data = data.EventData.from_timeseries(\n",
    "        filenames, eventname, detector_names, tgps, t_before=16., fmax=1024.)\n",
    "    event_data.to_npz()"
   ]
  },
  {
   "cell_type": "code",
   "execution_count": null,
   "id": "fd72c80d",
   "metadata": {
    "ExecuteTime": {
     "end_time": "2022-11-04T00:46:28.382129Z",
     "start_time": "2022-11-04T00:17:49.625212Z"
    },
    "scrolled": true
   },
   "outputs": [],
   "source": [
    "%%time\n",
    "# Find reference waveform and compute summary data:\n",
    "post = posterior.Posterior.from_event(\n",
    "    event=eventname,\n",
    "    mchirp_guess=data.EVENTS_METADATA['mchirp'][eventname],\n",
    "    approximant='IMRPhenomXPHM',\n",
    "    prior_class='IntrinsicIASPrior')"
   ]
  },
  {
   "cell_type": "code",
   "execution_count": null,
   "id": "4f196857-a4af-4c10-8eb8-50b2204b5f2e",
   "metadata": {
    "ExecuteTime": {
     "end_time": "2022-11-04T00:46:28.382129Z",
     "start_time": "2022-11-04T00:17:49.625212Z"
    }
   },
   "outputs": [],
   "source": [
    "# Instantiate sampler, optionally edit parameters\n",
    "sampler = sampling.Nautilus(post)\n",
    "sampler.run_kwargs['n_live'] = 1000\n",
    "# sampler.run_kwargs['pool'] = 2  # Optional: parallelize"
   ]
  },
  {
   "cell_type": "code",
   "execution_count": null,
   "id": "4f2cdff9-129c-46eb-b196-fbaf75c7ac40",
   "metadata": {
    "ExecuteTime": {
     "end_time": "2022-11-04T00:46:28.382129Z",
     "start_time": "2022-11-04T00:17:49.625212Z"
    }
   },
   "outputs": [],
   "source": [
    "%%time\n",
    "# Run sampler (will take a while)\n",
    "rundir = sampler.get_rundir(parentdir)\n",
    "sampler.run(rundir)"
   ]
  },
  {
   "cell_type": "code",
   "execution_count": null,
   "id": "88e3470a",
   "metadata": {},
   "outputs": [],
   "source": [
    "samples = pd.read_feather(rundir/sampling.SAMPLES_FILENAME)\n",
    "\n",
    "params = [\n",
    "    'mchirp',\n",
    "    'lnq',\n",
    "    'chieff',\n",
    "    'cumchidiff',\n",
    "    'd_luminosity',\n",
    "    'ra',\n",
    "    'dec',\n",
    "    'phi_ref',\n",
    "    'psi',\n",
    "    't_geocenter',\n",
    "    'lnl_marginalized',\n",
    "    'lnl'\n",
    "]\n",
    "\n",
    "gw_plotting.CornerPlot(samples, params=params, tail_probability=1e-4\n",
    "                      ).plot(title=eventname)"
   ]
  }
 ],
 "metadata": {
  "kernelspec": {
   "display_name": "Python 3 (ipykernel)",
   "language": "python",
   "name": "python3"
  },
  "language_info": {
   "codemirror_mode": {
    "name": "ipython",
    "version": 3
   },
   "file_extension": ".py",
   "mimetype": "text/x-python",
   "name": "python",
   "nbconvert_exporter": "python",
   "pygments_lexer": "ipython3",
   "version": "3.13.2"
  }
 },
 "nbformat": 4,
 "nbformat_minor": 5
}
