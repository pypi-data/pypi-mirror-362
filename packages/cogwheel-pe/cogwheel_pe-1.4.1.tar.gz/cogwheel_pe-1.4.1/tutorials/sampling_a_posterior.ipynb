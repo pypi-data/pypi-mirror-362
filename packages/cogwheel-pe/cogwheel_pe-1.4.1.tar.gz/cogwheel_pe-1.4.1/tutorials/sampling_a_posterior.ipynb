{
 "cells": [
  {
   "cell_type": "markdown",
   "id": "0164e200",
   "metadata": {},
   "source": [
    "# Sampling a posterior\n",
    "\n",
    "This notebook shows the basic usage of `cogwheel`.\n",
    "\n",
    "We will choose an event, a waveform approximant and a prior and generate samples from the posterior distribution."
   ]
  },
  {
   "cell_type": "code",
   "execution_count": null,
   "id": "118ff17a",
   "metadata": {},
   "outputs": [],
   "source": [
    "from cogwheel import data, gw_prior, likelihood, sampling, waveform\n",
    "from cogwheel.posterior import Posterior"
   ]
  },
  {
   "cell_type": "markdown",
   "id": "e36b2b44-c98d-4177-800d-71f33c2a9da4",
   "metadata": {},
   "source": [
    "## Event data\n",
    "\n",
    "By default, `cogwheel.data.EventData` objects are saved in `cogwheel.data.DATADIR` in `npz` format."
   ]
  },
  {
   "cell_type": "code",
   "execution_count": null,
   "id": "471c72d7",
   "metadata": {},
   "outputs": [],
   "source": [
    "eventnames = sorted(path.name.removesuffix('.npz')\n",
    "                    for path in data.DATADIR.glob('*.npz'))\n",
    "print('Available eventnames:')\n",
    "print(eventnames)"
   ]
  },
  {
   "cell_type": "markdown",
   "id": "35d305f0-2d2b-442d-a7df-8fad39f82669",
   "metadata": {},
   "source": [
    "Pre-built `npz` files for some of the events detected up to observing run O3 are available in the [repo](https://github.com/jroulet/cogwheel/tree/main/cogwheel/data); if you are interested in having these you may install `cogwheel` from source.\n",
    "\n",
    "Otherwise, you can download data and generate `npz` files yourself like so:"
   ]
  },
  {
   "cell_type": "code",
   "execution_count": null,
   "id": "2c6a7104-410b-4a67-8379-ddb971c9185d",
   "metadata": {},
   "outputs": [],
   "source": [
    "# Create and save `EventData` file\n",
    "eventname = 'GW150914'\n",
    "if not data.EventData.get_filename(eventname).exists():\n",
    "    filenames, detector_names, tgps = data.download_timeseries(eventname)\n",
    "    event_data = data.EventData.from_timeseries(\n",
    "        filenames, eventname, detector_names, tgps, t_before=8., fmax=512.)\n",
    "    event_data.to_npz()\n",
    "\n",
    "# Update\n",
    "eventnames = sorted(path.name.removesuffix('.npz')\n",
    "                    for path in data.DATADIR.glob('*.npz'))"
   ]
  },
  {
   "cell_type": "markdown",
   "id": "182662a3",
   "metadata": {},
   "source": [
    "(If `eventname` is unknown to GWOSC, you can also pass a `tgps` argument to `data.download_timeseries`.)\n",
    "\n",
    "## Approximant options\n",
    "\n",
    "Pick one from the keys below. Approximants with aligned spins require that the prior has aligned spins as well."
   ]
  },
  {
   "cell_type": "code",
   "execution_count": null,
   "id": "ba6fdaed",
   "metadata": {},
   "outputs": [],
   "source": [
    "waveform.APPROXIMANTS"
   ]
  },
  {
   "cell_type": "markdown",
   "id": "3f3a7f02",
   "metadata": {},
   "source": [
    "## Prior options\n",
    "\n",
    "For now, we will choose one of the included `Prior` classes:"
   ]
  },
  {
   "cell_type": "code",
   "execution_count": null,
   "id": "9aaa03b8",
   "metadata": {},
   "outputs": [],
   "source": [
    "for prior_name, prior_class in gw_prior.prior_registry.items():\n",
    "    print(f'{prior_name}:\\n    {prior_class.__doc__}\\n'\n",
    "          .replace('\\n    \\n', '\\n'))"
   ]
  },
  {
   "cell_type": "markdown",
   "id": "0e633e77",
   "metadata": {},
   "source": [
    "## Instantiating a `Posterior`"
   ]
  },
  {
   "cell_type": "code",
   "execution_count": null,
   "id": "d7d21b03",
   "metadata": {},
   "outputs": [],
   "source": [
    "# Choose from the above options:\n",
    "eventname = eventnames[0]\n",
    "mchirp_guess = data.EVENTS_METADATA['mchirp'][eventname]\n",
    "approximant = 'IMRPhenomXAS'\n",
    "prior_name = 'AlignedSpinLVCPriorComovingVT'\n",
    "\n",
    "post = Posterior.from_event(eventname, mchirp_guess, approximant, prior_name)"
   ]
  },
  {
   "cell_type": "markdown",
   "id": "a9052ab2",
   "metadata": {},
   "source": [
    "Things you might want to double-check at this point:\n",
    "\n",
    "* Did the maximizer find a high likelihood solution ($\\log \\mathcal{L} \\approx \\rm{SNR}^2 / 2$)?\n",
    "* Is the automatically chosen `mchirp_range` ok?\n",
    "* Are the default `q_min` and `dt0` ok?"
   ]
  },
  {
   "cell_type": "code",
   "execution_count": null,
   "id": "64125cf4",
   "metadata": {},
   "outputs": [],
   "source": [
    "post.likelihood.lnlike(post.likelihood.par_dic_0)"
   ]
  },
  {
   "cell_type": "code",
   "execution_count": null,
   "id": "8804158c",
   "metadata": {},
   "outputs": [],
   "source": [
    "post.prior.get_init_dict()"
   ]
  },
  {
   "cell_type": "code",
   "execution_count": null,
   "id": "6a4c0655",
   "metadata": {},
   "outputs": [],
   "source": [
    "# Say we want to edit the chirp-mass range:\n",
    "post.prior = post.prior.reinstantiate(mchirp_range=(20, 50))"
   ]
  },
  {
   "cell_type": "markdown",
   "id": "355d175c",
   "metadata": {},
   "source": [
    "<div class=\"alert alert-block alert-info\">\n",
    "<b>Extrinsic parameter marginalization</b>\n",
    "\n",
    "You can use a likelihood marginalized semi-analytically over distance to remove this dimension from the sampling (recommended).\n",
    "\n",
    "Instantiate as below. `post_md.likelihood.lnlike` will no longer have an interpretation as $\\rm SNR^2 / 2$.\n",
    "\n",
    "See also the tutorials for full extrinsic-parameter marginalization for signals with [quadrupolar, aligned spin waveforms](https://github.com/jroulet/cogwheel/blob/main/tutorials/factorized_qas.ipynb) or with [precession and higher modes](https://github.com/jroulet/cogwheel/blob/main/tutorials/factorized_phm.ipynb) (even *more* recommended).\n",
    "</div>"
   ]
  },
  {
   "cell_type": "code",
   "execution_count": null,
   "id": "2ebfaa22",
   "metadata": {},
   "outputs": [],
   "source": [
    "lookup_table = likelihood.LookupTable()\n",
    "post_md = Posterior.from_event(eventname, mchirp_guess,\n",
    "                               approximant='IMRPhenomXPHM',\n",
    "                               prior_class='MarginalizedDistanceIASPrior',\n",
    "                               likelihood_kwargs={'lookup_table': lookup_table})"
   ]
  },
  {
   "cell_type": "markdown",
   "id": "268a2942",
   "metadata": {},
   "source": [
    "## Instantiating a `Sampler`\n",
    "\n",
    "The implemented samplers so far are [PyMultiNest](https://johannesbuchner.github.io/PyMultiNest/), [dynesty](https://dynesty.readthedocs.io/en/stable/), [Nautilus](https://nautilus-sampler.readthedocs.io/en/stable/index.html) and [zeus](https://zeus-mcmc.readthedocs.io/en/latest/)."
   ]
  },
  {
   "cell_type": "code",
   "execution_count": null,
   "id": "d7d8f169",
   "metadata": {},
   "outputs": [],
   "source": [
    "sampler = sampling.Nautilus(post)  # or Dynesty, PyMultiNest, Zeus"
   ]
  },
  {
   "cell_type": "markdown",
   "id": "5d394dcf-403a-4d0b-9c47-ea6e68de5230",
   "metadata": {},
   "source": [
    "You can see and edit the options that would be passed to the corresponding sampler by default."
   ]
  },
  {
   "cell_type": "code",
   "execution_count": null,
   "id": "ebe5bd90-2c38-4fa4-8bdb-2a8290163c83",
   "metadata": {},
   "outputs": [],
   "source": [
    "sampler.run_kwargs_options()"
   ]
  },
  {
   "cell_type": "markdown",
   "id": "5cde48eb-d891-4bff-b566-74ee380a0546",
   "metadata": {},
   "source": [
    "For example, to change the number of live points:"
   ]
  },
  {
   "cell_type": "code",
   "execution_count": null,
   "id": "e85eec4b",
   "metadata": {},
   "outputs": [],
   "source": [
    "sampler.run_kwargs['n_live'] = 1000"
   ]
  },
  {
   "cell_type": "markdown",
   "id": "87a682b8",
   "metadata": {},
   "source": [
    "### Running the sampler"
   ]
  },
  {
   "cell_type": "code",
   "execution_count": null,
   "id": "bc5b24fb",
   "metadata": {},
   "outputs": [],
   "source": [
    "parentdir = 'example'  # Directory that will contain parameter estimation runs"
   ]
  },
  {
   "cell_type": "code",
   "execution_count": null,
   "id": "f4790327",
   "metadata": {},
   "outputs": [],
   "source": [
    "rundir = sampler.get_rundir(parentdir)"
   ]
  },
  {
   "cell_type": "markdown",
   "id": "6db3fe3b",
   "metadata": {},
   "source": [
    "You can run the sampler live or, if you have access to a cluster, submit a job to the workload manager."
   ]
  },
  {
   "cell_type": "code",
   "execution_count": null,
   "id": "37aa9c63",
   "metadata": {},
   "outputs": [],
   "source": [
    "# Run \"live\" (will take a while):\n",
    "sampler.run(rundir)"
   ]
  },
  {
   "cell_type": "markdown",
   "id": "c9e59a1c-176c-46db-bdba-21bf31c8e752",
   "metadata": {
    "jp-MarkdownHeadingCollapsed": true
   },
   "source": [
    "Alternatively, submit job to a scheduler (SLURM, LSF and HTCondor implemented)\n",
    "\n",
    "    # SLURM\n",
    "    sampler.submit_slurm(rundir)\n",
    "\n",
    "    # LSF\n",
    "    sampler.submit_lsf(rundir)\n",
    "\n",
    "    # HTCondor\n",
    "    import os\n",
    "    sampler.submit_condor(rundir,\n",
    "                          universe='vanilla',\n",
    "                          accounting_group=accounting_group, \n",
    "                          accounting_group_user=os.environ['USER'])"
   ]
  }
 ],
 "metadata": {
  "kernelspec": {
   "display_name": "Python 3 (ipykernel)",
   "language": "python",
   "name": "python3"
  },
  "language_info": {
   "codemirror_mode": {
    "name": "ipython",
    "version": 3
   },
   "file_extension": ".py",
   "mimetype": "text/x-python",
   "name": "python",
   "nbconvert_exporter": "python",
   "pygments_lexer": "ipython3",
   "version": "3.13.2"
  }
 },
 "nbformat": 4,
 "nbformat_minor": 5
}
