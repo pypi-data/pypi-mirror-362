{
 "cells": [
  {
   "cell_type": "markdown",
   "id": "76b371c2",
   "metadata": {},
   "source": [
    "# Make injections\n",
    "...according to a config file that the user can customize.\n",
    "\n",
    "Before running this notebook, make a ``config.py`` file like the one in ``cogwheel/validation/example/config.py`` and put it in some directory of your choice. Note that eventually a lot of data will be saved to that directory (a parameter estimation run for each injection)."
   ]
  },
  {
   "cell_type": "code",
   "execution_count": null,
   "id": "d7ef3652-456d-4304-ba7c-4146917abcc5",
   "metadata": {
    "ExecuteTime": {
     "end_time": "2023-06-13T15:37:03.823968Z",
     "start_time": "2023-06-13T15:37:03.817320Z"
    }
   },
   "outputs": [],
   "source": [
    "import os\n",
    "os.environ[\"OMP_NUM_THREADS\"] = \"1\"\n",
    "os.environ[\"OPENBLAS_NUM_THREADS\"] = \"1\"\n",
    "os.environ[\"MKL_NUM_THREADS\"] = \"1\"\n",
    "os.environ[\"VECLIB_MAXIMUM_THREADS\"] = \"1\"\n",
    "os.environ[\"NUMEXPR_NUM_THREADS\"] = \"1\"\n",
    "\n",
    "import pandas as pd\n",
    "\n",
    "from cogwheel.validation import load_config\n",
    "from cogwheel.validation import generate_injections\n",
    "\n",
    "from cogwheel import gw_plotting\n",
    "\n",
    "%matplotlib widget"
   ]
  },
  {
   "cell_type": "code",
   "execution_count": null,
   "id": "722d3ab5",
   "metadata": {
    "ExecuteTime": {
     "end_time": "2023-06-13T15:37:59.510636Z",
     "start_time": "2023-06-13T15:37:59.390400Z"
    }
   },
   "outputs": [],
   "source": [
    "config_filename = 'example/config.py'  # Edit as appropriate\n",
    "config = load_config(config_filename)"
   ]
  },
  {
   "cell_type": "code",
   "execution_count": null,
   "id": "63144a9f",
   "metadata": {
    "ExecuteTime": {
     "end_time": "2023-06-13T15:44:05.994042Z",
     "start_time": "2023-06-13T15:40:51.219494Z"
    }
   },
   "outputs": [],
   "source": [
    "generate_injections.generate_injections_from_config(config, n_cores=8)"
   ]
  },
  {
   "cell_type": "markdown",
   "id": "6b8f5a98",
   "metadata": {},
   "source": [
    "Check the generated injections:"
   ]
  },
  {
   "cell_type": "code",
   "execution_count": null,
   "id": "d977367a",
   "metadata": {
    "ExecuteTime": {
     "end_time": "2023-06-13T15:52:47.383272Z",
     "start_time": "2023-06-13T15:52:45.924271Z"
    }
   },
   "outputs": [],
   "source": [
    "generate_injections.test_h_h_distribution(config)"
   ]
  },
  {
   "cell_type": "code",
   "execution_count": null,
   "id": "4c006ba2",
   "metadata": {
    "ExecuteTime": {
     "end_time": "2023-06-13T15:55:33.096203Z",
     "start_time": "2023-06-13T15:55:19.615751Z"
    }
   },
   "outputs": [],
   "source": [
    "injections = pd.read_feather(config.INJECTION_DIR/config.INJECTIONS_FILENAME)\n",
    "\n",
    "# Corner plot:\n",
    "params = [\n",
    "    'm1',\n",
    "    'm2',\n",
    "    's1z',\n",
    "    's2z',\n",
    "    's1x_n',\n",
    "    's1y_n',\n",
    "    's2x_n',\n",
    "    's2y_n',\n",
    "    'iota',\n",
    "    'ra',\n",
    "    'dec',\n",
    "    'psi',\n",
    "    'phi_ref',\n",
    "    'd_luminosity']\n",
    "\n",
    "gw_plotting.CornerPlot(injections, params=params\n",
    "                      ).plot(title=f'{config.INJECTION_DIR.as_posix()}')"
   ]
  }
 ],
 "metadata": {
  "kernelspec": {
   "display_name": "Python 3 (ipykernel)",
   "language": "python",
   "name": "python3"
  },
  "language_info": {
   "codemirror_mode": {
    "name": "ipython",
    "version": 3
   },
   "file_extension": ".py",
   "mimetype": "text/x-python",
   "name": "python",
   "nbconvert_exporter": "python",
   "pygments_lexer": "ipython3",
   "version": "3.13.5"
  }
 },
 "nbformat": 4,
 "nbformat_minor": 5
}
