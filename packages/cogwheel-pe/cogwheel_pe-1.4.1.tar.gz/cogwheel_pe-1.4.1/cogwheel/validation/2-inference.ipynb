{
 "cells": [
  {
   "cell_type": "markdown",
   "id": "c5f384c2",
   "metadata": {},
   "source": [
    "# Do injections and PE\n",
    "We have two options for parallelizing:\n",
    "1. Use SLURM (to submit jobs to a cluster), or\n",
    "1. Use `multiprocessing` (to use the cores of the machine this notebook is running on)."
   ]
  },
  {
   "cell_type": "code",
   "execution_count": null,
   "id": "8a1fb9e2",
   "metadata": {
    "ExecuteTime": {
     "end_time": "2023-06-14T04:04:48.531844Z",
     "start_time": "2023-06-14T04:04:42.550042Z"
    }
   },
   "outputs": [],
   "source": [
    "import os\n",
    "os.environ[\"OMP_NUM_THREADS\"] = \"1\"\n",
    "os.environ[\"OPENBLAS_NUM_THREADS\"] = \"1\"\n",
    "os.environ[\"MKL_NUM_THREADS\"] = \"1\"\n",
    "os.environ[\"VECLIB_MAXIMUM_THREADS\"] = \"1\"\n",
    "os.environ[\"NUMEXPR_NUM_THREADS\"] = \"1\"\n",
    "\n",
    "import multiprocessing\n",
    "\n",
    "from cogwheel.validation import inference\n",
    "from cogwheel.validation import load_config"
   ]
  },
  {
   "cell_type": "code",
   "execution_count": null,
   "id": "5a3464c9",
   "metadata": {
    "ExecuteTime": {
     "end_time": "2023-06-14T04:04:48.543040Z",
     "start_time": "2023-06-14T04:04:48.535048Z"
    }
   },
   "outputs": [],
   "source": [
    "config_filename = 'example/config.py'  # Edit as appropriate\n",
    "config = load_config(config_filename)"
   ]
  },
  {
   "cell_type": "code",
   "execution_count": null,
   "id": "bd063269",
   "metadata": {
    "ExecuteTime": {
     "end_time": "2023-06-14T04:04:48.554057Z",
     "start_time": "2023-06-14T04:04:48.545155Z"
    }
   },
   "outputs": [],
   "source": [
    "sample_inds = range(config.N_INJECTIONS)\n",
    "\n",
    "rundirs = [inference.get_rundir(config, i_sample) for i_sample in sample_inds]"
   ]
  },
  {
   "cell_type": "markdown",
   "id": "3401c559",
   "metadata": {},
   "source": [
    "## Option 0: run a single one\n",
    "(Probably worth doing this first, to check for bugs)"
   ]
  },
  {
   "cell_type": "code",
   "execution_count": null,
   "id": "ad045cf7-1e89-470e-b35e-8fc91f372776",
   "metadata": {
    "scrolled": true
   },
   "outputs": [],
   "source": [
    "inference.main(config_filename, rundirs[0])"
   ]
  },
  {
   "cell_type": "markdown",
   "id": "963d2298",
   "metadata": {},
   "source": [
    "## Option 1: SLURM"
   ]
  },
  {
   "cell_type": "code",
   "execution_count": null,
   "id": "22a297d0",
   "metadata": {
    "ExecuteTime": {
     "start_time": "2023-06-08T06:15:55.667Z"
    },
    "scrolled": true
   },
   "outputs": [],
   "source": [
    "for i_sample in sample_inds[:]:\n",
    "    inference.submit_slurm(config_filename, i_sample, n_hours_limit=18, memory_per_task='12G')  # 32G"
   ]
  },
  {
   "cell_type": "raw",
   "id": "7146134f-05ac-4f97-8aa2-409062ded765",
   "metadata": {
    "ExecuteTime": {
     "start_time": "2023-06-08T06:15:56.080Z"
    }
   },
   "source": [
    "!scancel -u $USER"
   ]
  },
  {
   "cell_type": "raw",
   "id": "b2bbbdcb-4bc3-4da4-83db-420c16553dfe",
   "metadata": {},
   "source": [
    "!scancel --state=RUNNING -u $USER"
   ]
  },
  {
   "cell_type": "code",
   "execution_count": null,
   "id": "432e60ff-832f-4ae0-a14a-d9efb146f530",
   "metadata": {},
   "outputs": [],
   "source": [
    "!squeue"
   ]
  },
  {
   "cell_type": "markdown",
   "id": "15cddeda",
   "metadata": {},
   "source": [
    "## Option 2: `multiprocessing`"
   ]
  },
  {
   "cell_type": "code",
   "execution_count": null,
   "id": "29325b21",
   "metadata": {
    "ExecuteTime": {
     "start_time": "2023-06-01T05:13:15.212Z"
    }
   },
   "outputs": [],
   "source": [
    "with multiprocessing.Pool(multiprocessing.cpu_count()) as pool:\n",
    "    pool.starmap(inference.main,\n",
    "                 [(config_filename, rundir) for rundir in rundirs])"
   ]
  }
 ],
 "metadata": {
  "kernelspec": {
   "display_name": "Python 3 (ipykernel)",
   "language": "python",
   "name": "python3"
  },
  "language_info": {
   "codemirror_mode": {
    "name": "ipython",
    "version": 3
   },
   "file_extension": ".py",
   "mimetype": "text/x-python",
   "name": "python",
   "nbconvert_exporter": "python",
   "pygments_lexer": "ipython3",
   "version": "3.13.5"
  }
 },
 "nbformat": 4,
 "nbformat_minor": 5
}
