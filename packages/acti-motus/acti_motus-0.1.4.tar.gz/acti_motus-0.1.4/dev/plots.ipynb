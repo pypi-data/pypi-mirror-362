{
 "cells": [
  {
   "cell_type": "code",
   "execution_count": null,
   "id": "0",
   "metadata": {},
   "outputs": [],
   "source": [
    "import pandas as pd\n",
    "\n",
    "df = pd.read_parquet('../validations/sens_thigh/laboratory.parquet')\n",
    "\n",
    "df"
   ]
  },
  {
   "cell_type": "code",
   "execution_count": null,
   "id": "1",
   "metadata": {},
   "outputs": [],
   "source": [
    "import altair as alt\n",
    "from sklearn.metrics import confusion_matrix\n",
    "import numpy as np\n",
    "\n",
    "true = df['ground_truth']\n",
    "pred = df['activity']\n",
    "labels = ['lie', 'sit', 'stand', 'walk', 'run', 'bicycle']\n",
    "\n",
    "if not labels:\n",
    "    labels = true.unique().tolist() + pred.unique().tolist()\n",
    "    labels = list(set(labels))\n",
    "\n",
    "matrix = confusion_matrix(true, pred, labels=labels, normalize='true').round(4) * 100\n",
    "matrix = np.flip(matrix, axis=1)\n",
    "matrix = pd.DataFrame(matrix, index=labels, columns=labels[::-1]).reset_index().melt(id_vars='index')\n",
    "matrix.columns = ['True', 'Predicted', 'Value']\n",
    "\n",
    "confussion_matrix = (\n",
    "    alt.Chart(matrix)\n",
    "    .mark_rect()\n",
    "    .encode(\n",
    "        x=alt.X(\n",
    "            'Predicted:O',\n",
    "            sort=labels[::-1],\n",
    "            axis=alt.Axis(\n",
    "                titleFontSize=14,\n",
    "                labelFontSize=12,\n",
    "            ),\n",
    "        ),\n",
    "        y=alt.Y(\n",
    "            'True:O',\n",
    "            sort=labels,\n",
    "            axis=alt.Axis(\n",
    "                titleFontSize=14,\n",
    "                labelFontSize=12,\n",
    "            ),\n",
    "        ),\n",
    "        color=alt.Color('Value:Q', scale=alt.Scale(scheme='purples'), legend=None),\n",
    "        tooltip=['True', 'Predicted', 'Value'],\n",
    "    )\n",
    "    .properties(title=alt.Title(text='Laboratory', fontSize=16), width=300, height=300)\n",
    ")\n",
    "\n",
    "text = confussion_matrix.mark_text(baseline='middle', fontSize=12).encode(\n",
    "    text=alt.condition(\n",
    "        alt.datum.Value == 0,\n",
    "        alt.value(''),  # If the count is 0, display an empty string\n",
    "        'Value:Q',  # Otherwise, display the count\n",
    "    ),\n",
    "    color=alt.condition(alt.datum.Value > 75, alt.value('white'), alt.value('black')),\n",
    ")\n",
    "chart = confussion_matrix + text\n",
    "\n",
    "chart"
   ]
  }
 ],
 "metadata": {
  "kernelspec": {
   "display_name": "acti-motus",
   "language": "python",
   "name": "python3"
  },
  "language_info": {
   "codemirror_mode": {
    "name": "ipython",
    "version": 3
   },
   "file_extension": ".py",
   "mimetype": "text/x-python",
   "name": "python",
   "nbconvert_exporter": "python",
   "pygments_lexer": "ipython3",
   "version": "3.11.11"
  }
 },
 "nbformat": 4,
 "nbformat_minor": 5
}
