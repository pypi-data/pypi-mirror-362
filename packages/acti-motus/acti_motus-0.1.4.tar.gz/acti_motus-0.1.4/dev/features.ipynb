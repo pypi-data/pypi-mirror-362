{
 "cells": [
  {
   "cell_type": "code",
   "execution_count": null,
   "id": "0",
   "metadata": {},
   "outputs": [],
   "source": [
    "import logging\n",
    "\n",
    "# Configure logging to see info messages\n",
    "logging.basicConfig(level=logging.INFO, format='%(name)s - %(levelname)s - %(message)s')"
   ]
  },
  {
   "cell_type": "code",
   "execution_count": null,
   "id": "1",
   "metadata": {},
   "outputs": [],
   "source": [
    "from pyinstrument import Profiler\n",
    "\n",
    "\n",
    "profiler = Profiler()\n",
    "\n",
    "with profiler:\n",
    "    pass\n",
    "\n",
    "profiler.write_html('../temp/features.html')"
   ]
  },
  {
   "cell_type": "code",
   "execution_count": null,
   "id": "2",
   "metadata": {},
   "outputs": [],
   "source": [
    "from labda_parsers import Sens\n",
    "from acti_motus import Features\n",
    "\n",
    "features = Features(chunks=False)\n",
    "reader = Sens()\n",
    "\n",
    "files = {\n",
    "    'thigh': '../test_data/thigh.bin',\n",
    "    'trunk': '../test_data/trunk.bin',\n",
    "    'calf': '../test_data/calf.bin',\n",
    "    'arm': '../test_data/arm.bin',\n",
    "}\n",
    "\n",
    "for name, file in files.items():\n",
    "    df = reader.from_file(file)\n",
    "\n",
    "    # df['acc_x'] = -df['acc_x'] # Setting incorrect sensor placement\n",
    "    # df.iloc[20000:200000] = 0 # Imputting non-wear\n",
    "    # df.iloc[0:250000] = 0 # Imputting non-wear\n",
    "\n",
    "    f = features.extract(df)\n",
    "    f.to_parquet(f'../temp/{name}_features.parquet')"
   ]
  },
  {
   "cell_type": "code",
   "execution_count": null,
   "id": "3",
   "metadata": {},
   "outputs": [],
   "source": [
    "import pandas as pd\n",
    "from acti_motus import Thigh, References\n",
    "from pyinstrument import Profiler\n",
    "\n",
    "\n",
    "file = pd.read_parquet('../temp/thigh_features.parquet')\n",
    "\n",
    "profiler = Profiler()\n",
    "\n",
    "with profiler:\n",
    "    references = References()\n",
    "    activities = Thigh('Sens').detect_activities(file, references)\n",
    "\n",
    "profiler.write_html('../temp/activities.html')\n",
    "\n",
    "# activities.to_parquet('../temp/thigh_activities.parquet')"
   ]
  },
  {
   "cell_type": "code",
   "execution_count": null,
   "id": "4",
   "metadata": {},
   "outputs": [],
   "source": [
    "from acti_motus import Trunk\n",
    "import pandas as pd\n",
    "\n",
    "activities = pd.read_parquet('../temp/thigh_activities.parquet')\n",
    "features = pd.read_parquet('../temp/trunk_features.parquet')\n",
    "\n",
    "references = None\n",
    "df = Trunk().detect_activities(features, activities, references)\n",
    "df.to_parquet('../temp/trunk_activities.parquet')"
   ]
  },
  {
   "cell_type": "code",
   "execution_count": null,
   "id": "5",
   "metadata": {},
   "outputs": [],
   "source": [
    "import logging\n",
    "from acti_motus import Calf\n",
    "import pandas as pd\n",
    "\n",
    "# Configure logging to see info messages\n",
    "logging.basicConfig(level=logging.INFO, format='%(name)s - %(levelname)s - %(message)s')\n",
    "\n",
    "activities = pd.read_parquet('../temp/trunk_activities.parquet')\n",
    "features = pd.read_parquet('../temp/calf_features.parquet')\n",
    "\n",
    "df = Calf().detect_activities(features, activities)\n",
    "df.to_parquet('../temp/calf_activities.parquet')\n",
    "df['activity'].value_counts()"
   ]
  },
  {
   "cell_type": "code",
   "execution_count": null,
   "id": "6",
   "metadata": {},
   "outputs": [],
   "source": [
    "from acti_motus import Arm\n",
    "import pandas as pd\n",
    "\n",
    "features = pd.read_parquet('../temp/arm_features.parquet')\n",
    "df = Arm().detect_activities(features)\n",
    "\n",
    "df.value_counts(dropna=False)"
   ]
  },
  {
   "cell_type": "code",
   "execution_count": null,
   "id": "7",
   "metadata": {},
   "outputs": [],
   "source": [
    "from acti_motus.classifications.references import References\n",
    "\n",
    "references = {\n",
    "    'thigh': {\n",
    "        'value': -0.201,\n",
    "        'expires': '2024-09-03 12:05:51+00:00',\n",
    "    },\n",
    "    'trunk': {\n",
    "        'value': [1.320, 0.247, -0.038],\n",
    "        'expires': '2024-09-05 05:05:51+00:00',\n",
    "    },\n",
    "    'calibrations': [\n",
    "        {\n",
    "            'start': '2024-09-03 08:08:51+00:00',\n",
    "            'end': '2024-09-03 08:09:11+00:00',\n",
    "            'ttl': '24h',\n",
    "        },\n",
    "        {\n",
    "            'start': '2024-09-02 10:36:31+00:00',\n",
    "            'end': '2024-09-02 20:36:51+00:00',\n",
    "            'ttl': '12h',\n",
    "        },\n",
    "        {\n",
    "            'start': '2024-09-03 15:16:23+00:00',\n",
    "            'end': '2024-09-03 17:17:03+00:00',\n",
    "            'ttl': '96h',\n",
    "        },\n",
    "    ],\n",
    "}"
   ]
  },
  {
   "cell_type": "code",
   "execution_count": null,
   "id": "8",
   "metadata": {},
   "outputs": [],
   "source": [
    "from acti_motus import Activities, References, Exposures\n",
    "import pandas as pd\n",
    "\n",
    "from pyinstrument import Profiler\n",
    "\n",
    "thigh = pd.read_parquet('../temp/thigh_features.parquet')\n",
    "trunk = pd.read_parquet('../temp/trunk_features.parquet')\n",
    "# calf = pd.read_parquet('../temp/calf_features.parquet')\n",
    "# arm = pd.read_parquet('../temp/arm_features.parquet')\n",
    "\n",
    "profiler = Profiler()\n",
    "\n",
    "with profiler:\n",
    "    activities, references = Activities(vendor='Sens', chunks=True).detect(\n",
    "        thigh=thigh, trunk=trunk, references=references\n",
    "    )\n",
    "    activities.to_parquet('../temp/activities.parquet')\n",
    "    exposures = Exposures().generate(activities)\n",
    "\n",
    "profiler.write_html('../temp/activities.html')"
   ]
  },
  {
   "cell_type": "code",
   "execution_count": null,
   "id": "9",
   "metadata": {},
   "outputs": [],
   "source": [
    "references"
   ]
  },
  {
   "cell_type": "code",
   "execution_count": null,
   "id": "10",
   "metadata": {},
   "outputs": [],
   "source": [
    "from acti_motus import Activities, References, Exposures\n",
    "import pandas as pd\n",
    "\n",
    "df = pd.read_parquet('../temp/activities.parquet')\n",
    "Exposures().generate(df)"
   ]
  }
 ],
 "metadata": {
  "kernelspec": {
   "display_name": "acti-motus",
   "language": "python",
   "name": "python3"
  },
  "language_info": {
   "codemirror_mode": {
    "name": "ipython",
    "version": 3
   },
   "file_extension": ".py",
   "mimetype": "text/x-python",
   "name": "python",
   "nbconvert_exporter": "python",
   "pygments_lexer": "ipython3",
   "version": "3.11.11"
  }
 },
 "nbformat": 4,
 "nbformat_minor": 5
}
