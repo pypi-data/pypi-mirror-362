{
 "cells": [
  {
   "cell_type": "code",
   "execution_count": null,
   "id": "0",
   "metadata": {},
   "outputs": [],
   "source": [
    "from labda_parsers import Sens\n",
    "from acti_motus import Features\n",
    "\n",
    "features = Features(resample='legacy', calibrate=True)\n",
    "reader = Sens()\n",
    "\n",
    "files = {\n",
    "    'thigh': '../test_data/thigh.bin',\n",
    "    'trunk': '../test_data/trunk.bin',\n",
    "    'calf': '../test_data/calf.bin',\n",
    "    'arm': '../test_data/arm.bin',\n",
    "}\n",
    "\n",
    "extracted_features = {}\n",
    "\n",
    "for name, file in files.items():\n",
    "    df = reader.from_file(file)\n",
    "    timestamps, data = features._df_to_sens(df)\n",
    "    sens = features.extract_sens(timestamps, data)\n",
    "    extracted_features[name] = sens"
   ]
  },
  {
   "cell_type": "code",
   "execution_count": null,
   "id": "1",
   "metadata": {},
   "outputs": [],
   "source": [
    "from acti_motus import Activities\n",
    "import numpy as np\n",
    "\n",
    "activities = Activities()\n",
    "\n",
    "thigh = extracted_features.get('thigh', (None, None, None))\n",
    "trunk = extracted_features.get('trunk', (None, None, None))\n",
    "calf = extracted_features.get('calf', (None, None, None))\n",
    "arm = extracted_features.get('arm', (None, None, None))\n",
    "\n",
    "timestamps = np.array([thigh[0], trunk[0], calf[0], arm[0]], dtype=object)\n",
    "\n",
    "thigh_data = np.column_stack((thigh[1], thigh[2]))\n",
    "trunk_data = np.column_stack((trunk[1], trunk[2]))\n",
    "calf_data = np.column_stack((calf[1], calf[2]))\n",
    "arm_data = np.column_stack((arm[1], arm[2]))\n",
    "\n",
    "del thigh, trunk, calf, arm\n",
    "\n",
    "data = np.array([thigh_data, trunk_data, calf_data, arm_data], dtype=object)\n",
    "results = activities.detect_sens(timestamps, data)"
   ]
  }
 ],
 "metadata": {
  "kernelspec": {
   "display_name": "acti-motus",
   "language": "python",
   "name": "python3"
  },
  "language_info": {
   "codemirror_mode": {
    "name": "ipython",
    "version": 3
   },
   "file_extension": ".py",
   "mimetype": "text/x-python",
   "name": "python",
   "nbconvert_exporter": "python",
   "pygments_lexer": "ipython3",
   "version": "3.11.11"
  }
 },
 "nbformat": 4,
 "nbformat_minor": 5
}
