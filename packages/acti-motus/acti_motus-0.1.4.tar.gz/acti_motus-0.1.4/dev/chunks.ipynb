{
 "cells": [
  {
   "cell_type": "code",
   "execution_count": null,
   "id": "0",
   "metadata": {},
   "outputs": [],
   "source": [
    "from labda_parsers import Sens\n",
    "from acti_motus import Features, Activities\n",
    "\n",
    "df = Sens().from_file('../test_data/thigh.bin')\n",
    "\n",
    "id = 'thigh'\n",
    "\n",
    "features = Features(chunks=False, calibrate=True)\n",
    "extracted = features.extract(df, id=id)\n",
    "activities = Activities(vendor='Sens', chunks=False).detect(extracted, id=id)"
   ]
  }
 ],
 "metadata": {
  "kernelspec": {
   "display_name": "acti-motus",
   "language": "python",
   "name": "python3"
  },
  "language_info": {
   "codemirror_mode": {
    "name": "ipython",
    "version": 3
   },
   "file_extension": ".py",
   "mimetype": "text/x-python",
   "name": "python",
   "nbconvert_exporter": "python",
   "pygments_lexer": "ipython3",
   "version": "3.11.11"
  }
 },
 "nbformat": 4,
 "nbformat_minor": 5
}
