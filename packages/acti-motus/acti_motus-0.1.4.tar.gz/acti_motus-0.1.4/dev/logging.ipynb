{
 "cells": [
  {
   "cell_type": "code",
   "execution_count": null,
   "id": "0",
   "metadata": {},
   "outputs": [],
   "source": [
    "from acti_motus import Activities\n",
    "import pandas as pd\n",
    "\n",
    "# setup_logging('../examples/config.json')\n",
    "\n",
    "# df = Sens().from_file('../test_data/thigh.bin')\n",
    "# features = Features(resample='fft').extract(df)\n",
    "\n",
    "# id = str(uuid.uuid4())\n",
    "file = '../temp/thigh_features.parquet'\n",
    "df = pd.read_parquet(file)\n",
    "df, references = Activities(vendor='Sens', chunks=False).detect(df, id=file)\n",
    "\n",
    "references"
   ]
  }
 ],
 "metadata": {
  "kernelspec": {
   "display_name": "acti-motus",
   "language": "python",
   "name": "python3"
  },
  "language_info": {
   "codemirror_mode": {
    "name": "ipython",
    "version": 3
   },
   "file_extension": ".py",
   "mimetype": "text/x-python",
   "name": "python",
   "nbconvert_exporter": "python",
   "pygments_lexer": "ipython3",
   "version": "3.11.11"
  }
 },
 "nbformat": 4,
 "nbformat_minor": 5
}
