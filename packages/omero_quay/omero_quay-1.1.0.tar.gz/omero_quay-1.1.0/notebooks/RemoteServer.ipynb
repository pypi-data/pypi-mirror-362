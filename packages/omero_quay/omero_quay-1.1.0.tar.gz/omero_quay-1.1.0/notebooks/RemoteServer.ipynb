{
 "cells": [
  {
   "cell_type": "markdown",
   "id": "2fda8ff8-03ad-4d28-ae79-0cc9b5c7e47c",
   "metadata": {},
   "source": [
    "# Use remote server"
   ]
  },
  {
   "cell_type": "code",
   "execution_count": null,
   "id": "28b932f2-e847-4a2c-90ed-faa09eb50f68",
   "metadata": {},
   "outputs": [],
   "source": [
    "from omero_quay.core.config import get_conf\n",
    "from omero_quay.clients.http import get_manifest"
   ]
  },
  {
   "cell_type": "code",
   "execution_count": null,
   "id": "96d3262f-0e78-48fe-a703-9b44271b4e80",
   "metadata": {},
   "outputs": [],
   "source": [
    "conf = get_conf()"
   ]
  },
  {
   "cell_type": "code",
   "execution_count": null,
   "id": "8f057fc0-31f0-42c2-895a-9010bd784b0e",
   "metadata": {},
   "outputs": [],
   "source": [
    "conf[\"quay\"][\"QUAY_URL\"] = \"https://mtp.omero-fbi.fr/post\""
   ]
  },
  {
   "cell_type": "code",
   "execution_count": null,
   "id": "0c2103f3-1131-4a5f-82be-6b14dc660cda",
   "metadata": {},
   "outputs": [],
   "source": [
    "manifest = get_manifest(conf, \"man_590562cc-565c-11f0-8369-5d70e87ffa39\")"
   ]
  },
  {
   "cell_type": "code",
   "execution_count": null,
   "id": "058e313a-dd1f-4771-bbc0-9a8bc6f1fc6f",
   "metadata": {},
   "outputs": [],
   "source": [
    "for ass in manifest.assays:\n",
    "    print(ass.name)"
   ]
  },
  {
   "cell_type": "code",
   "execution_count": null,
   "id": "9b708f22-1411-4609-a55a-da8073d69174",
   "metadata": {},
   "outputs": [],
   "source": []
  }
 ],
 "metadata": {
  "kernelspec": {
   "display_name": "Python 3 (ipykernel)",
   "language": "python",
   "name": "python3"
  },
  "language_info": {
   "codemirror_mode": {
    "name": "ipython",
    "version": 3
   },
   "file_extension": ".py",
   "mimetype": "text/x-python",
   "name": "python",
   "nbconvert_exporter": "python",
   "pygments_lexer": "ipython3"
  }
 },
 "nbformat": 4,
 "nbformat_minor": 5
}
