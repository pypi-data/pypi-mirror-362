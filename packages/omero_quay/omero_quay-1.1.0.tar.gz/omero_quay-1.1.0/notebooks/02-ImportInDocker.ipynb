{
 "cells": [
  {
   "cell_type": "markdown",
   "id": "874fdc5b-4822-4c12-b81c-601840f71ac4",
   "metadata": {},
   "source": [
    "## Imports"
   ]
  },
  {
   "cell_type": "code",
   "execution_count": null,
   "id": "527ed9a0-4dae-4cf4-aad1-79047f8a16c3",
   "metadata": {},
   "outputs": [],
   "source": [
    "import logging\n",
    "import os\n",
    "import sys\n",
    "from io import StringIO\n",
    "from pathlib import Path\n",
    "\n",
    "import IPython.display as display\n",
    "import requests\n",
    "from IPython.display import HTML\n",
    "from linkml_runtime.dumpers import json_dumper, yaml_dumper\n",
    "from linkml_runtime.loaders import json_loader, yaml_loader\n",
    "from PIL import Image\n",
    "\n",
    "from omero_quay.clients.http import get_manifest, post_request\n",
    "from omero_quay.core.config import get_conf\n",
    "from omero_quay.core.connect import omero_conn\n",
    "from omero_quay.core.manifest import Manifest\n",
    "from omero_quay.core.provenance import get_data_root\n",
    "from omero_quay.parsers.excel import parse_xlsx\n",
    "\n",
    "log = logging.getLogger(\"omero_quay\")\n",
    "log.setLevel(\"DEBUG\")"
   ]
  },
  {
   "cell_type": "markdown",
   "id": "2eb714bc-4084-461c-90a6-6dc4109c1dcf",
   "metadata": {},
   "source": [
    "## Settings\n",
    "\n",
    "\n",
    "See [the documentation](../docs/configuration_file_content.md)\n",
    "\n",
    "\n",
    "\n",
    "\n",
    "\n"
   ]
  },
  {
   "cell_type": "markdown",
   "id": "19d6b161-3431-40dc-96bc-3d7e16265c7b",
   "metadata": {},
   "source": [
    "#### Configuration file path "
   ]
  },
  {
   "cell_type": "code",
   "execution_count": null,
   "id": "1bc0ff85-2100-4ebd-80f5-af779d0ec9c3",
   "metadata": {},
   "outputs": [],
   "source": [
    "# path to the the configuration file\n",
    "os.environ[\"QUAY_CONF\"] = \"../tests/containers/quay_docker_host.yml\"\n",
    "\n",
    "print(\n",
    "    f\"Using configuration from {os.environ['QUAY_CONF']}\",\n",
    ")"
   ]
  },
  {
   "cell_type": "markdown",
   "id": "d69b5535-9120-4dff-a03b-e9eb96fce715",
   "metadata": {},
   "source": [
    "#### Data Path settings"
   ]
  },
  {
   "cell_type": "code",
   "execution_count": null,
   "id": "1c178d61-f62e-41e2-bfa0-2d0099513042",
   "metadata": {},
   "outputs": [],
   "source": [
    "conf = get_conf()\n",
    "# local path to the test data\n",
    "# also sets the path to the default excel file\n",
    "\n",
    "test_data_path = Path(os.environ.get(\"QUAY_TEST_DATA\", \".\")).resolve()\n",
    "\n",
    "conf[\"quay\"][\"DATA_PATH\"] = test_data_path\n",
    "conf[\"ingest\"][\n",
    "    \"PROVENANCE_URL\"\n",
    "] = f\"file://{Path('../tests/containers/provenance').resolve()}\"\n",
    "\n",
    "\n",
    "source_data_path = (test_data_path / \"facility0\" / \"S-JCBD-200902093\").resolve()\n",
    "if source_data_path.exists():\n",
    "    print(\n",
    "        \"Using data from \",\n",
    "        source_data_path,\n",
    "    )\n",
    "else:\n",
    "    print(f\"{source_data_path} does not exist\")"
   ]
  },
  {
   "cell_type": "markdown",
   "id": "4db360b4-c0ef-4272-ad38-f81bc31a594e",
   "metadata": {},
   "source": [
    "## Update and display the source data directory tree"
   ]
  },
  {
   "cell_type": "code",
   "execution_count": null,
   "id": "9e043731-2350-4ed5-a130-88dc46b119b8",
   "metadata": {},
   "outputs": [],
   "source": [
    "!cd { source_data_path } && tree -H . > source_data_tree.html"
   ]
  },
  {
   "cell_type": "code",
   "execution_count": null,
   "id": "477ac136-5132-48d1-9c43-15cffc40b8ae",
   "metadata": {},
   "outputs": [],
   "source": [
    "# %load source_data_tree.html\n",
    "with (source_data_path / \"source_data_tree.html\").open(\"r\") as html:\n",
    "    content = html.read().replace(\"Directory Tree\", \"Source Directory Tree\")\n",
    "\n",
    "\n",
    "HTML(content)"
   ]
  },
  {
   "cell_type": "markdown",
   "id": "29b5a757-286e-470d-a9b6-06e8bbee8eb9",
   "metadata": {},
   "source": [
    "# Facility to docker route"
   ]
  },
  {
   "cell_type": "markdown",
   "id": "2967180b-df6c-4028-8be3-0665faa2d8d9",
   "metadata": {},
   "source": [
    "## Putting the test data in the facility file system\n",
    "\n",
    "\n",
    "On the `quay-facility` container, the test data directory is mounted on `/tmp/QuayTestData/`\n",
    "\n",
    "We do an explicit copy here to avoid writing directly into the original test data on the host system. \n",
    "\n",
    "In a production setting, file copy is limited, except accross name space (provenance) boundaries."
   ]
  },
  {
   "cell_type": "code",
   "execution_count": null,
   "id": "6a6a3e23-5adb-4d56-9c37-dc37b1e34679",
   "metadata": {},
   "outputs": [],
   "source": [
    "%%bash\n",
    "\n",
    "# Copy data from  docker volume\n",
    "docker exec quay-facility bash -c 'cp -R /tmp/QuayTestData/facility0 /mnt/user/home/'\n"
   ]
  },
  {
   "cell_type": "code",
   "execution_count": null,
   "id": "9a673883-b9a3-4f57-af4a-bd671d70371c",
   "metadata": {},
   "outputs": [],
   "source": [
    "xlsx_path = test_data_path / \"excels\" / \"test_JCB_facility.xlsx\"\n",
    "if not xlsx_path.exists():\n",
    "    print(\"Bad path\")\n",
    "else:\n",
    "    print(f\"Using {xlsx_path.resolve()}\")\n",
    "\n",
    "\n",
    "manifest = parse_xlsx(xlsx_path, conf)\n",
    "\n",
    "for assay in manifest.assays:\n",
    "    print(\"- Assay: \", assay.name)\n",
    "    for link in assay.importlinks:\n",
    "        print(\"\\t Import URL: \", link.srce_url)\n",
    "print(\"\\n | source - \\n | \", end=\"\")\n",
    "\n",
    "for i, store in enumerate(manifest.route):\n",
    "    data_root = get_data_root(manifest, store.id, store.scheme, template=True)\n",
    "    print(f\"{i} | {store.id} | {store.post_url} | {data_root} |\", end=\"\\n | \")\n",
    "print(\"destination\")\n",
    "\n",
    "\n",
    "available_stores = {\n",
    "    \"f1\": \"facilityUserFile\",\n",
    "    \"f1i\": \"facilityUserResc\",\n",
    "    \"f2\": \"facilityCoopFile\",\n",
    "    \"fo\": \"facilityOmero\",\n",
    "    \"f2i\": \"facilityCoopResc\",\n",
    "    \"m1i\": \"mesoUserResc\",\n",
    "    \"m2i\": \"mesoCoopResc\",\n",
    "    \"mo\": \"mesoOmero\",\n",
    "    \"mu\": \"mesoOmeroUser\",\n",
    "}\n",
    "\n",
    "store_keys = {id_: key for key, id_ in available_stores.items()}\n",
    "route_digest = \"-\".join(store_keys[store.id] for store in manifest.route)\n",
    "\n",
    "print(\"Route digest: \", route_digest)\n",
    "# Let's make sure we know where we're going :)\n",
    "\n",
    "# assert route_digest == \"l1-l2-lo\""
   ]
  },
  {
   "cell_type": "markdown",
   "id": "6d81168b-0f70-4dc0-a913-26d8e5ea225c",
   "metadata": {},
   "source": [
    "# Running the request to import data\n",
    "\n",
    "\n",
    "Now the data is in the facility machine. We can't interact with it directly, but rather send a request to the quay service on the omero-server machine in the (simulated) mesocenter."
   ]
  },
  {
   "cell_type": "code",
   "execution_count": null,
   "id": "a1183e57-36f3-45b2-96f2-4e5c8274c04b",
   "metadata": {},
   "outputs": [],
   "source": [
    "manifest.step = 0\n",
    "manifest_json = json_dumper.dumps(manifest)\n",
    "\n",
    "manifest_id = post_request(manifest_json, conf=conf, post_url=\"http://localhost:8898\")"
   ]
  },
  {
   "cell_type": "code",
   "execution_count": null,
   "id": "f6cfdb6a-40e6-4038-9293-8823c30033d5",
   "metadata": {},
   "outputs": [],
   "source": [
    "manifest_id"
   ]
  },
  {
   "cell_type": "code",
   "execution_count": null,
   "id": "cccf8705-3076-4d08-a037-c496d761d508",
   "metadata": {},
   "outputs": [],
   "source": [
    "import time\n",
    "\n",
    "elapsed = 0\n",
    "timeout = 600\n",
    "while elapsed < timeout:\n",
    "\n",
    "    manifest = get_manifest(conf, manifest_id)\n",
    "    if isinstance(manifest, int):\n",
    "        print(\"manifest don't look right\")\n",
    "        print(manifest)\n",
    "    elif manifest is None:\n",
    "        print(\"waiting ...\")\n",
    "        time.sleep(10)\n",
    "    else:\n",
    "        for state in manifest.states:\n",
    "            print(state.store)\n",
    "            print(state.scheme, \" : \", state.status)\n",
    "        break\n",
    "else:\n",
    "    raise TimeoutError"
   ]
  },
  {
   "cell_type": "code",
   "execution_count": null,
   "id": "caf1d734-affe-4e10-93b4-0aae8b7bfbea",
   "metadata": {},
   "outputs": [],
   "source": [
    "conf = get_conf()\n",
    "with omero_conn(conf) as conn:\n",
    "\n",
    "    image = conn.getObject(\"Image\", 1)\n",
    "    if image:\n",
    "        print(\"Number of x pixels: \", image.getSizeX())"
   ]
  },
  {
   "cell_type": "code",
   "execution_count": null,
   "id": "7551821e-de82-4e20-9ee7-af22aaaf9e9c",
   "metadata": {},
   "outputs": [],
   "source": [
    "manifest.images[0].ome_id\n"
   ]
  },
  {
   "cell_type": "code",
   "execution_count": null,
   "id": "a299d82e-5bb1-4684-b74f-85341b055703",
   "metadata": {},
   "outputs": [],
   "source": [
    "from omero_quay.core.utils import find_by_id"
   ]
  },
  {
   "cell_type": "code",
   "execution_count": null,
   "id": "1fde4b74-395e-4e7a-a5bd-179ca013a8ff",
   "metadata": {},
   "outputs": [],
   "source": [
    "manifest.route[manifest.step]"
   ]
  },
  {
   "cell_type": "markdown",
   "id": "9574793e-50ef-4ffc-bceb-72f2e70aa20e",
   "metadata": {},
   "source": [
    "\n",
    "## Example code to monitor import progress\n",
    "\n",
    "\n",
    "```python\n",
    "import time\n",
    "def track_import(conf, manifest_id):\n",
    "    waited = 0\n",
    "    prev_state = {}\n",
    "    while waited < 10:\n",
    "        print('.', end=' ')\n",
    "\n",
    "        manifest = get_manifest(conf, manifest_id, conf['ingest']['POST_URL'])\n",
    "        if not manifest:\n",
    "            continue\n",
    "        \n",
    "        time.sleep(1)\n",
    "        waited += 1\n",
    "        \n",
    "        new_state = {state.store: state.status for state in manifest.states}\n",
    "        if new_state != prev_state:\n",
    "            print(*(f\" | {state.store}: {state.status} | \" for state in manifest.states), sep='-', end='\\n | \\n')\n",
    "        \n",
    "        prev_state = new_state\n",
    "\n",
    "        if msg := manifest.error is not None:\n",
    "            raise OSError(msg)\n",
    "        for state in  manifest.states:\n",
    "            store = find_by_id(state.store, manifest.route) \n",
    "            if state.status == \"errored\":\n",
    "                msg = f\"Import failed for {state.store}\"\n",
    "                raise ValueError(msg)\n",
    "            if (state.store == \"mesoOmero\") and (state.status == \"checked\"):\n",
    "                print(\"Looks like a success\")\n",
    "                return\n",
    "\n",
    "    raise TimeoutError\n",
    "```"
   ]
  },
  {
   "cell_type": "code",
   "execution_count": null,
   "id": "b338cebb-91ba-48f9-ab3a-71b791fa8ba0",
   "metadata": {},
   "outputs": [],
   "source": [
    "!docker exec -it -u irods irods-icat bash -c \"ils -r /tempZone/home/facility0 | grep tif\" | wc -l"
   ]
  },
  {
   "cell_type": "markdown",
   "id": "05fec58e-5caa-447f-83c0-e0de4c5bd340",
   "metadata": {},
   "source": [
    "### Retrieve a manifest from mongo with its ID.\n",
    "\n",
    "Once the data is imported in the federated storage,  a manifest is created and stored to a mongo db by the clerk.\n"
   ]
  },
  {
   "cell_type": "code",
   "execution_count": null,
   "id": "2cc5a74d-8e1f-4f92-b508-c2dc58073320",
   "metadata": {},
   "outputs": [],
   "source": [
    "stored_manifest = get_manifest(conf, manifest.id, conf[\"ingest\"][\"POST_URL\"])\n",
    "stored_manifest.id == manifest.id"
   ]
  },
  {
   "cell_type": "code",
   "execution_count": null,
   "id": "22384146-f920-408c-95d0-6331e0e5824e",
   "metadata": {},
   "outputs": [],
   "source": [
    "stored_manifest.timestamps"
   ]
  },
  {
   "cell_type": "code",
   "execution_count": null,
   "id": "5a836e85-45ec-48e1-9c6d-29b7446a87b6",
   "metadata": {},
   "outputs": [],
   "source": [
    "len(stored_manifest.images)"
   ]
  },
  {
   "cell_type": "code",
   "execution_count": null,
   "id": "e89c4f7c-e608-4f2c-9acd-e14645fd8ab8",
   "metadata": {},
   "outputs": [],
   "source": []
  },
  {
   "cell_type": "code",
   "execution_count": null,
   "id": "f42faecf-78b1-4633-8534-5dd48b9fccd4",
   "metadata": {},
   "outputs": [],
   "source": []
  }
 ],
 "metadata": {
  "kernelspec": {
   "display_name": "Python 3 (ipykernel)",
   "language": "python",
   "name": "python3"
  },
  "language_info": {
   "codemirror_mode": {
    "name": "ipython",
    "version": 3
   },
   "file_extension": ".py",
   "mimetype": "text/x-python",
   "name": "python",
   "nbconvert_exporter": "python",
   "pygments_lexer": "ipython3"
  },
  "name": "Untitled.ipynb"
 },
 "nbformat": 4,
 "nbformat_minor": 5
}
