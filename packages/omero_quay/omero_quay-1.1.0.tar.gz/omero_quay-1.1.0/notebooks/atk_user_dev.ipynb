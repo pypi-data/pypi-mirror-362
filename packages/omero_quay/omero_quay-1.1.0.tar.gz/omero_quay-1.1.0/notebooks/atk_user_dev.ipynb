{
 "cells": [
  {
   "cell_type": "code",
   "execution_count": 1,
   "id": "b6eb7167-73dc-4040-82f5-76cc0d596ee7",
   "metadata": {},
   "outputs": [],
   "source": [
    "import os\n",
    "from omero_quay.core.config import get_conf\n",
    "\n",
    "from omero_quay.core.manifest import Manifest, Investigation\n",
    "from omero_quay.users.authentik import AuthentikClerk\n",
    "\n",
    "\n",
    "\n",
    "import httpx\n"
   ]
  },
  {
   "cell_type": "code",
   "execution_count": 3,
   "id": "26ad4aa2-f848-40a2-b37c-1116b81e0d76",
   "metadata": {},
   "outputs": [
    {
     "name": "stdout",
     "output_type": "stream",
     "text": [
      "No members:  []\n",
      "{'julio.mateos-langerak.igh.cnrs.fr', 'guillaume.gay.lirmm.fr', 'emmanuel.faure.lirmm.fr'}\n"
     ]
    }
   ],
   "source": [
    "test_users = ['guillaume.gay.lirmm.fr', 'emmanuel.faure.lirmm.fr', 'julio.mateos-langerak.igh.cnrs.fr']\n",
    "\n",
    "manifest = Manifest(id='test')\n",
    "manifest.manager = 'guillaume.gay.lirmm.fr'\n",
    "manifest.investigations = [Investigation(id='test', owners=test_users)]\n",
    "\n",
    "\n",
    "print(\"No members: \", manifest.members)\n",
    "\n",
    "conf = get_conf()\n",
    "conf['authentik'] = {'atk_url': \"https://auth.omero-fbi.fr\", 'token': os.environ.get('AUTHENTIK_TOKEN'), 'instance': 'mtp'}\n",
    "with AuthentikClerk(conf, manifest) as atku:\n",
    "    print(atku.users_from_isa())\n",
    "    atku.update_manifest_members()"
   ]
  },
  {
   "cell_type": "code",
   "execution_count": 4,
   "id": "e5038a6c-d423-48c6-8849-fd9928889c56",
   "metadata": {},
   "outputs": [
    {
     "data": {
      "text/plain": [
       "[User(id='https://orcid.org/0000-0003-1579-0773', name='julio.mateos-langerak.igh.cnrs.fr', description=None, quay_annotations=[], ome_id=None, irods_id=None, delete=False, email='julio.mateos-langerak@igh.cnrs.fr', first_name='MATEOS', last_name='LANGERAK Julio', role=None, institution=None, password=None, unix_uid=None, unix_gid=None),\n",
       " User(id='https://orcid.org/0000-0002-5444-5246', name='guillaume.gay.lirmm.fr', description=None, quay_annotations=[], ome_id=None, irods_id=None, delete=False, email='guillaume.gay@lirmm.fr', first_name='GAY', last_name='Guillaume', role=None, institution=None, password=None, unix_uid=None, unix_gid=None),\n",
       " User(id='e624fa03-a654-41bc-be1e-b5e93a34d32d', name='emmanuel.faure.lirmm.fr', description=None, quay_annotations=[], ome_id=None, irods_id=None, delete=False, email='emmanuel.faure@lirmm.fr', first_name='FAURE', last_name='Emmanuel', role=None, institution=None, password=None, unix_uid=None, unix_gid=None)]"
      ]
     },
     "execution_count": 4,
     "metadata": {},
     "output_type": "execute_result"
    }
   ],
   "source": [
    "manifest.members"
   ]
  },
  {
   "cell_type": "code",
   "execution_count": null,
   "id": "e9a6f4f2-1094-457b-ac97-6e512553906c",
   "metadata": {},
   "outputs": [],
   "source": []
  }
 ],
 "metadata": {
  "kernelspec": {
   "display_name": "Python 3 (ipykernel)",
   "language": "python",
   "name": "python3"
  },
  "language_info": {
   "codemirror_mode": {
    "name": "ipython",
    "version": 3
   },
   "file_extension": ".py",
   "mimetype": "text/x-python",
   "name": "python",
   "nbconvert_exporter": "python",
   "pygments_lexer": "ipython3",
   "version": "3.10.17"
  }
 },
 "nbformat": 4,
 "nbformat_minor": 5
}
