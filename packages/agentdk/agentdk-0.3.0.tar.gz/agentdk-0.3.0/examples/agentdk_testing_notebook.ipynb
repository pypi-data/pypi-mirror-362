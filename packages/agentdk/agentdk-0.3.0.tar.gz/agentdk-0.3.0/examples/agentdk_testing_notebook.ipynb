{
  "cells": [
    {
      "cell_type": "raw",
      "metadata": {
        "vscode": {
          "languageId": "raw"
        }
      },
      "source": [
        "# AgentDK Testing Notebook\n",
        "\n",
        "This notebook demonstrates how to test and use the AgentDK framework in jupyter notebook with various agents and MCP integrations.\n",
        "\n",
        "## Features Covered:\n",
        "- Agent usage\n",
        "- MCP server integration with MySQL\n",
        "- Multi-agent supervisor patterns\n",
        "\n",
        "## Prerequisites:\n",
        "1. Run setip.sh to setup the environment for MySQL and populate the database with sample data.\n",
        "2. Install dependencies: `uv sync`\n",
        "3. Set up environment variables in `.env` file, e.g. OPENAI_API_KEY and ANTHROPIC_API_KEY"
      ]
    },
    {
      "cell_type": "code",
      "execution_count": null,
      "metadata": {},
      "outputs": [],
      "source": [
        "import os\n"
      ]
    },
    {
      "cell_type": "code",
      "execution_count": null,
      "metadata": {},
      "outputs": [],
      "source": [
        "import os\n",
        "import sys\n",
        "import asyncio\n",
        "import json\n",
        "from typing import Any, Dict, List\n",
        "from pathlib import Path\n",
        "# Add the src directory to Python path for imports\n",
        "sys.path.insert(0, str(Path.cwd().parent / 'src'))\n",
        "from subagent.eda_agent import EDAAgent\n",
        "from agent_app import App\n",
        "from agentdk.utils.utils import get_llm\n",
        "# Get LLM instance\n",
        "llm = get_llm()\n",
        "\n"
      ]
    },
    {
      "cell_type": "markdown",
      "metadata": {},
      "source": []
    },
    {
      "cell_type": "code",
      "execution_count": null,
      "metadata": {},
      "outputs": [],
      "source": [
        "agent = App(model=llm, memory=True)\n",
        "print(agent(\"which table i have access to?\"))\n",
        "print(agent(\"what is the total transaction amount from customer 'John Smith'\"))"
      ]
    },
    {
      "cell_type": "code",
      "execution_count": null,
      "metadata": {},
      "outputs": [],
      "source": [
        "print(agent(\"which table i just accessed'\"))"
      ]
    }
  ],
  "metadata": {
    "kernelspec": {
      "display_name": "agentdk",
      "language": "python",
      "name": "python3"
    },
    "language_info": {
      "codemirror_mode": {
        "name": "ipython",
        "version": 3
      },
      "file_extension": ".py",
      "mimetype": "text/x-python",
      "name": "python",
      "nbconvert_exporter": "python",
      "pygments_lexer": "ipython3",
      "version": "3.11.13"
    }
  },
  "nbformat": 4,
  "nbformat_minor": 2
}
