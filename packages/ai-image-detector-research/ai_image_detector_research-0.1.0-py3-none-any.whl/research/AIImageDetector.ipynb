{
  "cells": [
    {
      "cell_type": "markdown",
      "metadata": {
        "id": "S9cQftehzaOS"
      },
      "source": [
        "# Обучение модели AIImageDetector"
      ]
    },
    {
      "cell_type": "markdown",
      "metadata": {
        "id": "-3gwBjMwzkT3"
      },
      "source": [
        "## Настройка окружения"
      ]
    },
    {
      "cell_type": "code",
      "execution_count": null,
      "metadata": {
        "colab": {
          "base_uri": "https://localhost:8080/"
        },
        "id": "bg_MaccgOrrL",
        "outputId": "001a2d55-e5a2-45ae-de15-168e0ca79297"
      },
      "outputs": [],
      "source": [
        "# @title  **Проверка что cuda работает**\n",
        "import torch\n",
        "\n",
        "print(\"Cuda доступен\" if torch.cuda.is_available() else \"Cuda НЕ ДОСТУПЕН\")"
      ]
    },
    {
      "cell_type": "code",
      "execution_count": null,
      "metadata": {
        "colab": {
          "base_uri": "https://localhost:8080/"
        },
        "id": "s_YXwd6lpCbI",
        "outputId": "efdd02cb-826c-4b70-bbdd-7a8fecfc1c6e"
      },
      "outputs": [],
      "source": [
        "# @title  **Установка проекта**\n",
        "!pip install python-dotenv\n",
        "!git clone https://github.com/Ycalk/AIImageDetector.git\n",
        "%cd AIImageDetector/\n",
        "!git checkout research\n",
        "%cd additional/research/src/research"
      ]
    },
    {
      "cell_type": "code",
      "execution_count": null,
      "metadata": {
        "id": "Z_ttw05qrs18"
      },
      "outputs": [],
      "source": [
        "# @title Установка переменных окружения\n",
        "import os\n",
        "\n",
        "kaggle_username = \"\"  # @param {type:\"string\"}\n",
        "kaggle_key = \"\"  # @param {type:\"string\"}\n",
        "\n",
        "os.environ[\"KAGGLE_USERNAME\"] = kaggle_username\n",
        "os.environ[\"KAGGLE_KEY\"] = kaggle_key"
      ]
    },
    {
      "cell_type": "markdown",
      "metadata": {
        "id": "QfoUUxb3zpDH"
      },
      "source": [
        "## Обучение модели"
      ]
    },
    {
      "cell_type": "code",
      "execution_count": null,
      "metadata": {
        "colab": {
          "base_uri": "https://localhost:8080/"
        },
        "id": "m6WdbIX0NGpj",
        "outputId": "d21e03ed-e072-454b-f933-f95e30cf9849"
      },
      "outputs": [],
      "source": [
        "# @title Обучение\n",
        "\n",
        "import utils\n",
        "from matplotlib import pyplot as plt\n",
        "import seaborn as sns\n",
        "\n",
        "# @markdown Параметры модели\n",
        "conv_blocks_number = 4  # @param {type:\"integer\", default: 4}\n",
        "base_channels = 64  # @param {type:\"integer\", default: 64}\n",
        "dropout_probability = (\n",
        "    0.3  # @param {type:\"number\", default: 0.3, min:0, max:1, step:0.001}\n",
        ")\n",
        "classifier_layers_count = 2  # @param {type:\"integer\", default: 2}\n",
        "\n",
        "# @markdown Параметры датасета\n",
        "size = 200000  # @param {type:\"integer\", default: 100000}\n",
        "images_ratio = 0.5  # @param {type:\"number\", default: 0.5, min:0, max:1, step:0.001}\n",
        "ratio = 0.7  # @param {type:\"number\", default: 0.7, min:0, max:1, step:0.01}\n",
        "\n",
        "# @markdown Параметры обучения\n",
        "learning_rate = (\n",
        "    0.001  # @param {type:\"number\", default: 0.001, min:0, max:1, step:0.0001}\n",
        ")\n",
        "epochs = 20  # @param {type:\"integer\", default: 10}\n",
        "batch_size = 16  # @param {type:\"integer\", default: 32}\n",
        "weight_decay = (\n",
        "    0.001  # @param {type:\"number\", default: 0.001, min:0, max:1, step:0.0001}\n",
        ")\n",
        "\n",
        "model = utils.Model(\n",
        "    conv_blocks_number=conv_blocks_number,\n",
        "    base_channels=base_channels,\n",
        "    dropout_probability=dropout_probability,\n",
        "    classifier_layers_count=classifier_layers_count,\n",
        ")\n",
        "\n",
        "dataset = utils.ArtiFactDataset.get_merged_dataset(\n",
        "    size=size, ratio=ratio, images_ratio=images_ratio\n",
        ")\n",
        "\n",
        "trainer = utils.Trainer(\n",
        "    model=model,\n",
        "    dataset=dataset,\n",
        "    epochs=epochs,\n",
        "    batch_size=batch_size,\n",
        "    lr=learning_rate,\n",
        "    device=\"cuda\",\n",
        "    weight_decay=weight_decay,\n",
        "    checkpoint_dir=\"checkpoints\",\n",
        ")\n",
        "result = trainer()\n",
        "model.eval()\n"
      ]
    },
    {
      "cell_type": "markdown",
      "metadata": {
        "id": "ZXKfoNjOzs0I"
      },
      "source": [
        "## Получение результатов"
      ]
    },
    {
      "cell_type": "code",
      "execution_count": null,
      "metadata": {
        "id": "lXNN4TgS0JG3"
      },
      "outputs": [],
      "source": [
        "# @title Числовые результаты\n",
        "\n",
        "import time\n",
        "\n",
        "print(f\"Точность на тренировочной выборке: {result[-1].train_accuracy:.2f}\")\n",
        "print(f\"Точность на валидационной выборке: {result[-1].val_accuracy:.2f}\")\n",
        "\n",
        "in_tensor = torch.rand(1, 3, 256, 256).to(\"cuda\")\n",
        "start_time = time.time()\n",
        "model(in_tensor)\n",
        "print(f\"Время инференса: {(time.time() - start_time):.3f}\")"
      ]
    },
    {
      "cell_type": "code",
      "execution_count": null,
      "metadata": {
        "id": "m4U2VreYXYf7"
      },
      "outputs": [],
      "source": [
        "# @title Графики Loss и Accuracy\n",
        "\n",
        "plot_title = \"\"  # @param {type:\"string\"}\n",
        "\n",
        "_, axes = plt.subplots(1, 2, figsize=(14, 5))\n",
        "\n",
        "axes[0].plot([r.train_accuracy for r in result], label=\"Train Accuracy\")\n",
        "axes[0].plot([r.val_accuracy for r in result], label=\"Validation Accuracy\")\n",
        "axes[0].set_xlabel(\"Epoch\")\n",
        "axes[0].set_ylabel(\"Accuracy\")\n",
        "axes[0].set_title(\"Accuracy\")\n",
        "axes[0].legend()\n",
        "\n",
        "axes[1].plot([r.train_loss for r in result], label=\"Train Loss\")\n",
        "axes[1].plot([r.val_loss for r in result], label=\"Validation Loss\")\n",
        "axes[1].set_xlabel(\"Epoch\")\n",
        "axes[1].set_ylabel(\"Loss\")\n",
        "axes[1].set_title(\"Loss\")\n",
        "axes[1].legend()\n",
        "\n",
        "plt.suptitle(plot_title)\n",
        "plt.tight_layout()\n",
        "plt.show()"
      ]
    },
    {
      "cell_type": "code",
      "execution_count": null,
      "metadata": {
        "id": "X6OGqAI9XqHe"
      },
      "outputs": [],
      "source": [
        "# @title Confusion Matrix Train и Validate\n",
        "\n",
        "plot_title = \"\"  # @param {type:\"string\"}\n",
        "\n",
        "_, axes = plt.subplots(1, 2, figsize=(14, 6))\n",
        "sns.heatmap(result[-1].train_cm, annot=True, fmt=\"d\", cmap=\"Blues\", ax=axes[0])\n",
        "axes[0].set_title(\"Train Confusion Matrix\")\n",
        "axes[0].set_xlabel(\"Predicted\")\n",
        "axes[0].set_ylabel(\"True\")\n",
        "\n",
        "sns.heatmap(result[-1].val_cm, annot=True, fmt=\"d\", cmap=\"Greens\", ax=axes[1])\n",
        "axes[1].set_title(\"Validation Confusion Matrix\")\n",
        "axes[1].set_xlabel(\"Predicted\")\n",
        "axes[1].set_ylabel(\"True\")\n",
        "\n",
        "plt.suptitle(plot_title)\n",
        "plt.tight_layout()\n",
        "plt.show()"
      ]
    },
    {
      "cell_type": "code",
      "execution_count": null,
      "metadata": {
        "id": "Nz_NXGwZaUy0"
      },
      "outputs": [],
      "source": [
        "# @title Grad-Cam generated и real изображения\n",
        "\n",
        "plot_title = \"\"  # @param {type:\"string\"}\n",
        "\n",
        "generated_dataset = utils.ArtiFactDataset(images_count=1, ratio=0.0)\n",
        "real_dataset = utils.ArtiFactDataset(images_count=1, ratio=1)\n",
        "\n",
        "generated_image, _ = generated_dataset[0]\n",
        "real_image, _ = real_dataset[0]\n",
        "\n",
        "generated_result, generated_score = utils.GradCam(\n",
        "    model.to(\"cuda\"), model.features[-1][0], generated_image\n",
        ")()\n",
        "\n",
        "real_result, real_score = utils.GradCam(\n",
        "    model.to(\"cuda\"), model.features[-1][0], real_image\n",
        ")()\n",
        "\n",
        "fig, axes = plt.subplots(1, 2, figsize=(12, 6))\n",
        "\n",
        "axes[0].imshow(generated_result)\n",
        "axes[0].axis(\"off\")\n",
        "axes[0].set_title(f\"Generated\\nPred = {generated_score:.3f} (Label: 1)\")\n",
        "\n",
        "axes[1].imshow(real_result)\n",
        "axes[1].axis(\"off\")\n",
        "axes[1].set_title(f\"Real\\nPred = {real_score:.3f} (Label: 0)\")\n",
        "\n",
        "plt.suptitle(plot_title)\n",
        "plt.tight_layout()\n",
        "plt.show()\n"
      ]
    }
  ],
  "metadata": {
    "accelerator": "GPU",
    "colab": {
      "gpuType": "T4",
      "provenance": []
    },
    "kernelspec": {
      "display_name": "research-PX4yLAXf-py3.11",
      "language": "python",
      "name": "python3"
    },
    "language_info": {
      "codemirror_mode": {
        "name": "ipython",
        "version": 3
      },
      "file_extension": ".py",
      "mimetype": "text/x-python",
      "name": "python",
      "nbconvert_exporter": "python",
      "pygments_lexer": "ipython3",
      "version": "3.11.9"
    }
  },
  "nbformat": 4,
  "nbformat_minor": 0
}
