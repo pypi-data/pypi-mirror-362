{
 "cells": [
  {
   "cell_type": "markdown",
   "id": "e1043c9a",
   "metadata": {},
   "source": [
    "# Converting from LSST Skymaps"
   ]
  },
  {
   "cell_type": "markdown",
   "id": "4287ab54",
   "metadata": {},
   "source": [
    "## Why do we want to convert skymaps in the first place?"
   ]
  },
  {
   "cell_type": "markdown",
   "id": "277b0e17",
   "metadata": {},
   "source": [
    "If we want to use the [lsst.skymap](https://github.com/lsst/skymap) type skymap that LSST uses, we may only use it in environments that have access to the LSST stack. \n",
    "\n",
    "And unfortunately, downloading the stack is non-trivial.\n",
    "\n",
    "We *could* try to shim some of the LSST-stack dependencies that lsst.skymaps has, but skymaps use a lot of spherical geometry that would require essentially rewriting a number of other packages from scratch."
   ]
  },
  {
   "cell_type": "markdown",
   "id": "339ec6c4",
   "metadata": {},
   "source": [
    "```bash\n",
    "lsst.skymap  \n",
    "├── Required Core Dependencies  \n",
    "│   ├── lsst.sphgeom ................ Spherical geometry library  \n",
    "│   ├── lsst.geom ................... Basic geometry primitives  \n",
    "│   └── lsst.afw .................... Application Framework (WCS)  \n",
    "│\n",
    "├── Required Support Dependencies  \n",
    "│   ├── lsst.pex.config ............. Configuration system  \n",
    "│   └── lsst.pex.exceptions ......... Exception handling  \n",
    "│\n",
    "└── Optional Dependencies  \n",
    "    └── lsst.daf.butler ............. Data Access Framework  \n",
    "                                      (used in packers.py only)  \n",
    "```"
   ]
  },
  {
   "cell_type": "markdown",
   "id": "a5b6577d",
   "metadata": {},
   "source": [
    "*See the Skymaps Overview notebook for a little more explanation about why skymaps need these kinds of math-heavy packages.*"
   ]
  },
  {
   "cell_type": "markdown",
   "id": "ea154e73",
   "metadata": {},
   "source": [
    "## What do we do to convert the skymap?"
   ]
  },
  {
   "cell_type": "markdown",
   "id": "f19982e1",
   "metadata": {},
   "source": [
    "### Download the LSST skymap"
   ]
  },
  {
   "cell_type": "markdown",
   "id": "177d676c",
   "metadata": {},
   "source": [
    "This next section assumes you have the required access to LSST's The Butler.  \n",
    "\n",
    "If not, you don't actually really need to be reading this notebook--we've included an already-converted LSST skymap in this package.\n",
    "\n",
    "*(See the \"Reading and using a converted skymap\" notebook for an explanation on using the LSST skymap preset).*"
   ]
  },
  {
   "cell_type": "code",
   "execution_count": 1,
   "id": "a8f39f13",
   "metadata": {},
   "outputs": [],
   "source": [
    "import lsst.daf.butler as daf_butler"
   ]
  },
  {
   "cell_type": "code",
   "execution_count": 2,
   "id": "777f612b",
   "metadata": {},
   "outputs": [
    {
     "data": {
      "text/plain": [
       "[DatasetRef(DatasetType('skyMap', {skymap}, SkyMap), {skymap: 'DC2_cells_v1'}, run='skymaps', id=b7d4b4f1-e108-4570-bbf5-da6093179ac8),\n",
       " DatasetRef(DatasetType('skyMap', {skymap}, SkyMap), {skymap: 'hsc_rings_v1'}, run='skymaps', id=6e7fc928-0dc3-4e1b-ae63-5fb63be46216),\n",
       " DatasetRef(DatasetType('skyMap', {skymap}, SkyMap), {skymap: 'latiss_v1'}, run='skymaps', id=f677ff86-2b1c-4094-9dad-e39395052cd1),\n",
       " DatasetRef(DatasetType('skyMap', {skymap}, SkyMap), {skymap: 'lsst_cells_v1'}, run='skymaps', id=857e0e80-8d08-44f4-a81b-84227b064d5b),\n",
       " DatasetRef(DatasetType('skyMap', {skymap}, SkyMap), {skymap: 'ops_rehersal_prep_2k_v1'}, run='skymaps', id=8f5f7e7a-c647-4a88-b8e7-6e2406d071b8),\n",
       " DatasetRef(DatasetType('skyMap', {skymap}, SkyMap), {skymap: 'discrete_comcam_rgb_ecdfs_v1'}, run='skymaps', id=1b399fae-8a7e-4633-833d-b713a93d44a3),\n",
       " DatasetRef(DatasetType('skyMap', {skymap}, SkyMap), {skymap: 'discrete_comcam_rgb_seagull_v1'}, run='skymaps', id=ca37ba9c-f4ff-4ab1-a27b-7930f4f7739b),\n",
       " DatasetRef(DatasetType('skyMap', {skymap}, SkyMap), {skymap: 'discrete_comcam_rgb_Rubin_SV_38_7_v1'}, run='skymaps', id=bd85bf9e-6836-4735-a053-83f0ef39ee3e),\n",
       " DatasetRef(DatasetType('skyMap', {skymap}, SkyMap), {skymap: 'discrete_comcam_rgb_74_Tuc_v1'}, run='skymaps', id=27cba923-fc26-4a0e-bb2d-0d689e381483),\n",
       " DatasetRef(DatasetType('skyMap', {skymap}, SkyMap), {skymap: 'discrete_comcam_rgb_Fornax_dSph_v1'}, run='skymaps', id=2aafabf0-a414-46f2-a5f5-b7abe8997cbd),\n",
       " DatasetRef(DatasetType('skyMap', {skymap}, SkyMap), {skymap: 'discrete_comcam_rgb_EDFS_v1'}, run='skymaps', id=3407941e-e7ba-4aba-b7ef-33625333991d),\n",
       " DatasetRef(DatasetType('skyMap', {skymap}, SkyMap), {skymap: 'discrete_comcam_rgb_Rubin_SV_095_-25_v1'}, run='skymaps', id=1715e98f-65ba-497e-963f-03844f9c50a5),\n",
       " DatasetRef(DatasetType('skyMap', {skymap}, SkyMap), {skymap: 'discrete_lsstcam_rgb_m49_v1'}, run='skymaps', id=5ec8767d-c483-4455-9f25-8b38bdf47122),\n",
       " DatasetRef(DatasetType('skyMap', {skymap}, SkyMap), {skymap: 'discrete_lsstcam_rgb_rubin_sv_216_minus_17_v1'}, run='skymaps', id=b4a8c7d8-32f0-4b83-854a-1da61b9249cd),\n",
       " DatasetRef(DatasetType('skyMap', {skymap}, SkyMap), {skymap: 'discrete_lsstcam_rgb_carina_v1'}, run='skymaps', id=201ca1cd-8688-4041-be51-f38af63ceb97),\n",
       " DatasetRef(DatasetType('skyMap', {skymap}, SkyMap), {skymap: 'discrete_lsstcam_rgb_rubin_sv_225_minus_40_v1'}, run='skymaps', id=f10d2930-3e78-4604-9ca5-8f8dc641f973),\n",
       " DatasetRef(DatasetType('skyMap', {skymap}, SkyMap), {skymap: 'discrete_lsstcam_rgb_trifid_lagoon_v1'}, run='skymaps', id=f91b1f76-ec59-4fc2-92dd-9a728f8ced97)]"
      ]
     },
     "execution_count": 2,
     "metadata": {},
     "output_type": "execute_result"
    }
   ],
   "source": [
    "# Query the Butler for skymaps.\n",
    "config = \"/repo/embargo\"\n",
    "butler = daf_butler.Butler(config, collections=\"LSSTCam/runs/DRP/20250415_20250422/d_2025_04_23/DM-50409\")\n",
    "refs = butler.registry.queryDatasets(\"skyMap\")\n",
    "\n",
    "# We can see all the skymaps available in this Butler repository.\n",
    "list(refs)"
   ]
  },
  {
   "cell_type": "code",
   "execution_count": 3,
   "id": "d8e6e5ae",
   "metadata": {},
   "outputs": [
    {
     "name": "stdout",
     "output_type": "stream",
     "text": [
      "Found skymap: lsst_cells_v1 with ID 857e0e80-8d08-44f4-a81b-84227b064d5b\n",
      "Skymap URI: s3://embargo@rubin-summit-users/skymaps/skyMap/skyMap_lsst_cells_v1_skymaps.pickle\n"
     ]
    }
   ],
   "source": [
    "skymap_name = \"lsst_cells_v1\"\n",
    "skymap = next((ref for ref in refs if ref.dataId[\"skymap\"] == skymap_name), None)\n",
    "if skymap is None:\n",
    "    raise ValueError(f\"No skymap found with the name '{skymap_name}'.\")\n",
    "print(f\"Found skymap: {skymap.dataId['skymap']} with ID {skymap.id}\")\n",
    "\n",
    "butler.get(skymap)\n",
    "skymap_uri = butler.getURI(skymap)\n",
    "print(f\"Skymap URI: {skymap_uri}\")"
   ]
  },
  {
   "cell_type": "code",
   "execution_count": 4,
   "id": "82379f41",
   "metadata": {},
   "outputs": [
    {
     "name": "stdout",
     "output_type": "stream",
     "text": [
      "File file:///sdf/home/o/olynn/skymap-convert/tests/data/raw_skymaps/skyMap_lsst_cells_v1_skymaps.pickle already exists. Skipping download.\n"
     ]
    }
   ],
   "source": [
    "import os\n",
    "from pathlib import Path\n",
    "\n",
    "from lsst.resources import ResourcePath\n",
    "\n",
    "home_dir = Path.home()\n",
    "target_dir = home_dir / \"skymap-convert\" / \"tests\" / \"data\" / \"raw_skymaps\"\n",
    "base = ResourcePath(target_dir, forceDirectory=True)\n",
    "new_uri = base.join(skymap_uri.basename())\n",
    "if os.path.exists(new_uri.path):\n",
    "    print(f\"File {new_uri} already exists. Skipping download.\")\n",
    "else:\n",
    "    new_uri.transfer_from(skymap_uri, transfer=\"copy\")\n",
    "    print(f\"File {new_uri} downloaded successfully.\")"
   ]
  },
  {
   "cell_type": "markdown",
   "id": "14b1ce68",
   "metadata": {},
   "source": [
    "### Reading the raw skymap"
   ]
  },
  {
   "cell_type": "code",
   "execution_count": 5,
   "id": "24b54bcc",
   "metadata": {},
   "outputs": [],
   "source": [
    "from pathlib import Path\n",
    "\n",
    "from skymap_convert.utils import load_pickle_skymap\n",
    "\n",
    "package_root = Path.home() / \"skymap-convert\"\n",
    "\n",
    "raw_skymaps_dir = package_root / \"tests\" / \"data\" / \"raw_skymaps\"\n",
    "raw_skymap_path = raw_skymaps_dir / \"skyMap_lsst_cells_v1_skymaps.pickle\""
   ]
  },
  {
   "cell_type": "code",
   "execution_count": 6,
   "id": "49b52c10",
   "metadata": {},
   "outputs": [
    {
     "data": {
      "text/plain": [
       "<lsst.skymap.ringsSkyMap.RingsSkyMap at 0x7f9a4af2be90>"
      ]
     },
     "execution_count": 6,
     "metadata": {},
     "output_type": "execute_result"
    }
   ],
   "source": [
    "lsst_skymap = load_pickle_skymap(raw_skymap_path)\n",
    "lsst_skymap"
   ]
  },
  {
   "cell_type": "markdown",
   "id": "ea808995",
   "metadata": {},
   "source": [
    "### Using the ConvertedSkymap writer"
   ]
  },
  {
   "cell_type": "code",
   "execution_count": 7,
   "id": "d38d6f0f",
   "metadata": {},
   "outputs": [
    {
     "name": "stdout",
     "output_type": "stream",
     "text": [
      "Wrote Converted Skymap to: /sdf/home/o/olynn/skymap-convert/converted_skymaps/lsst_skymap\n"
     ]
    }
   ],
   "source": [
    "from skymap_convert.skymap_writers import ConvertedSkymapWriter\n",
    "\n",
    "# Create a writer for the LSST skymap\n",
    "writer = ConvertedSkymapWriter()\n",
    "\n",
    "# Designate the output path for the converted skymap\n",
    "converted_skymap_path = package_root / \"converted_skymaps\" / \"lsst_skymap\"\n",
    "\n",
    "# Write the skymap to a file - warning: this may take a few minutes!\n",
    "writer.write(lsst_skymap, output_path=converted_skymap_path)"
   ]
  },
  {
   "cell_type": "markdown",
   "id": "a30062eb",
   "metadata": {},
   "source": [
    "Let's take a quick look at the files we created."
   ]
  },
  {
   "cell_type": "code",
   "execution_count": 8,
   "id": "fcc436a8",
   "metadata": {},
   "outputs": [
    {
     "name": "stdout",
     "output_type": "stream",
     "text": [
      "total 29M\n",
      "-rw-r--r-- 1 olynn gu  123 Jul 14 07:29 metadata.yaml\n",
      "-rw-r--r-- 1 olynn gu  28M Jul 14 07:29 patches.npy.gz\n",
      "-rw-r--r-- 1 olynn gu 1.2M Jul 14 07:29 tracts.npy\n"
     ]
    }
   ],
   "source": [
    "!ls -lh {converted_skymap_path}"
   ]
  },
  {
   "cell_type": "markdown",
   "id": "156a7e6d",
   "metadata": {},
   "source": [
    "Note that our `patches.npy` has been gzipped--without this compression, the file would be about 1.2 MB, just a little too big to be hosted on GitHub. \n",
    "\n",
    "Don't worry; the skymap writer and reader will handle gzipping and un-gzipping under the hood."
   ]
  },
  {
   "cell_type": "markdown",
   "id": "31c9ecbd",
   "metadata": {},
   "source": [
    "## About  \n",
    "\n",
    "**Author:** Olivia Lynn\n",
    "\n",
    "**Last updated on:** July 14, 2025"
   ]
  }
 ],
 "metadata": {
  "kernelspec": {
   "display_name": "Python 3 (ipykernel)",
   "language": "python",
   "name": "python3"
  }
 },
 "nbformat": 4,
 "nbformat_minor": 5
}
