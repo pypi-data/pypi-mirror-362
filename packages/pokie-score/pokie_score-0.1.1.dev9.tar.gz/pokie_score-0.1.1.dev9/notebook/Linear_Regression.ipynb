{
 "cells": [
  {
   "cell_type": "code",
   "execution_count": 1,
   "id": "6450de1c",
   "metadata": {},
   "outputs": [],
   "source": [
    "import numpy as np\n",
    "import matplotlib.pyplot as plt\n",
    "from tqdm import tqdm\n",
    "import torch\n",
    "import os\n",
    "import sys\n",
    "\n",
    "# Set up path to import from src\n",
    "project_root = os.path.abspath(os.path.join(os.getcwd(), \"..\"))\n",
    "src_path = os.path.join(project_root, \"src\")\n",
    "if src_path not in sys.path:\n",
    "    sys.path.append(src_path)\n",
    "\n",
    "# Import pokie from pokie.py\n",
    "from pokie import pokie, get_device"
   ]
  },
  {
   "cell_type": "markdown",
   "id": "c772ab0c",
   "metadata": {},
   "source": [
    "# Section 3.1: Linear Regression"
   ]
  },
  {
   "cell_type": "code",
   "execution_count": 2,
   "id": "390d37f4",
   "metadata": {},
   "outputs": [],
   "source": [
    "# -------------------------------\n",
    "# 0. CONFIGURATION\n",
    "# -------------------------------\n",
    "num_gt        = 5000               # Number of ground‑truth parameter draws\n",
    "num_samples   = 5000               # Posterior samples per GT\n",
    "n             = 100               # Observations per GT\n",
    "true_sigma    = 1.0               # Observation noise σ\n",
    "prior_mu      = np.zeros(2)       # Prior mean vector [m0, b0]\n",
    "prior_Sigma   = np.eye(2) * 1.0   # Prior covariance (τ² I)\n",
    "noise_levels  = [0.001, 0.01, 0.1, 0.15, 0.2, 0.25]\n",
    "num_noise     = len(noise_levels)\n",
    "curr_num_runs = 100"
   ]
  },
  {
   "cell_type": "code",
   "execution_count": 3,
   "id": "1670c2ef",
   "metadata": {},
   "outputs": [],
   "source": [
    "# -------------------------------\n",
    "# 1. Storage\n",
    "# -------------------------------\n",
    "# ground_truths: shape (num_gt, 2) for [m*, b*]\n",
    "# ground_truths = np.random.uniform(-5, 5, size=(num_gt, 2))\n",
    "# m_stars       = np.random.uniform(-1,  1, size=num_gt)\n",
    "# b_stars       = np.random.uniform(-5,  5, size=num_gt)\n",
    "m_stars       = np.random.normal(loc=0.0, scale=0.5, size=num_gt)  # e.g., mean=0, std=0.5\n",
    "b_stars       = np.random.normal(loc=0.0, scale=2.0, size=num_gt)  # e.g., mean=0, std=2.0\n",
    "ground_truths = np.stack([m_stars, b_stars], axis=1)  # shape (num_gt, 2)\n",
    "\n",
    "# posteriors: shape (num_noise, num_gt, num_samples, 2)\n",
    "posteriors = np.zeros((num_noise, num_gt, num_samples, 2))"
   ]
  },
  {
   "cell_type": "code",
   "execution_count": 4,
   "id": "3f43f5ce",
   "metadata": {},
   "outputs": [
    {
     "name": "stderr",
     "output_type": "stream",
     "text": [
      "Sampling Linear-Regression Posteriors: 100%|██████████| 5000/5000 [00:08<00:00, 586.28it/s]\n"
     ]
    }
   ],
   "source": [
    "# -------------------------------\n",
    "# 2. Posterior Sampling Loop\n",
    "# -------------------------------\n",
    "for gt_idx in tqdm(range(num_gt), desc=\"Sampling Linear-Regression Posteriors\"):\n",
    "    m_star, b_star = ground_truths[gt_idx]\n",
    "    # Generate data\n",
    "    x = np.random.uniform(-1, 1, size=n)\n",
    "    y = m_star * x + b_star \\\n",
    "        + np.random.normal(0, true_sigma, size=n)\n",
    "    # Build design\n",
    "    A = np.stack([x, np.ones(n)], axis=1)  # shape (n,2)\n",
    "    \n",
    "    # Precompute posterior natural parameters\n",
    "    Sigma_n_inv = np.eye(n) / (true_sigma**2)\n",
    "    Precision_post = np.linalg.inv(prior_Sigma) + A.T @ Sigma_n_inv @ A\n",
    "    Sigma_post     = np.linalg.inv(Precision_post)\n",
    "    mu_post        = Sigma_post @ (A.T @ Sigma_n_inv @ y + np.linalg.inv(prior_Sigma) @ prior_mu)\n",
    "    \n",
    "    # Draw posterior samples, with optional bias inflation\n",
    "    for nl_idx, scale in enumerate(noise_levels):\n",
    "        # simulate mis‑calibration by shifting the posterior mean\n",
    "        delta = np.sqrt(scale) * np.array([1.0, 1.0])  # same shift for both m, b\n",
    "        biased_mean = mu_post + delta\n",
    "        # sample from N(biased_mean, Sigma_post)\n",
    "        posteriors[nl_idx, gt_idx] = np.random.multivariate_normal(\n",
    "            biased_mean, Sigma_post, size=num_samples\n",
    "        )"
   ]
  },
  {
   "cell_type": "code",
   "execution_count": 5,
   "id": "e7d4ab74",
   "metadata": {},
   "outputs": [],
   "source": [
    "# -------------------------------\n",
    "# 3. Normalization for Pokie\n",
    "# -------------------------------\n",
    "# We'll flatten all posterior samples + the GT vector, per-parameter, \n",
    "# then min/max rescale to [0,1] so Pokie operates on comparable scales.\n",
    "\n",
    "gt_norm        = np.zeros_like(ground_truths)\n",
    "posterior_norm = np.zeros_like(posteriors)\n",
    "\n",
    "for gt_idx in range(num_gt):\n",
    "    # stack all samples for both noise levels, plus the GT itself\n",
    "    all_samps = np.vstack([\n",
    "        posteriors[nl, gt_idx] for nl in range(num_noise)\n",
    "    ] + [ground_truths[gt_idx:gt_idx+1]])\n",
    "    \n",
    "    mins = all_samps.min(axis=0)\n",
    "    maxs = all_samps.max(axis=0)\n",
    "    span = np.maximum(maxs - mins, 1e-8)\n",
    "    \n",
    "    # normalize\n",
    "    gt_norm[gt_idx] = (ground_truths[gt_idx] - mins) / span\n",
    "    for nl in range(num_noise):\n",
    "        posterior_norm[nl, gt_idx] = (posteriors[nl, gt_idx] - mins) / span"
   ]
  },
  {
   "cell_type": "code",
   "execution_count": 6,
   "id": "177d5795",
   "metadata": {},
   "outputs": [
    {
     "name": "stdout",
     "output_type": "stream",
     "text": [
      "Using device: mps\n"
     ]
    },
    {
     "name": "stderr",
     "output_type": "stream",
     "text": [
      "Pokie MC runs: 100%|██████████| 100/100 [00:07<00:00, 14.06it/s]\n"
     ]
    },
    {
     "name": "stdout",
     "output_type": "stream",
     "text": [
      "Noise Levels: [0.001, 0.01, 0.1, 0.15, 0.2, 0.25]\n",
      "Pokie Score: [0.66340035 0.64130616 0.5665319  0.55781114 0.55263966 0.5496138 ]\n"
     ]
    }
   ],
   "source": [
    "# -------------------------------\n",
    "# 4. Pokie Evaluation\n",
    "# -------------------------------\n",
    "# Assume you have a function pokie(gt_norm, posterior_norm, num_runs)\n",
    "# that returns (raw_probs, calibrated_probs, n_over_N_vals).\n",
    "device = get_device()\n",
    "print(\"Using device:\", device)\n",
    "\n",
    "# Convert to torch Tensors on the chosen device\n",
    "posterior_norm   = torch.tensor(posterior_norm, dtype=torch.float32, device=device)\n",
    "gt_norm = torch.tensor(gt_norm,   dtype=torch.float32, device=device)\n",
    "\n",
    "\n",
    "pokie_score = pokie(\n",
    "    gt_norm, posterior_norm, num_runs=curr_num_runs\n",
    ")\n",
    "\n",
    "# Convert results, calibrated, n_over_N_vals back to numpy arrays\n",
    "pokie_score = pokie_score.cpu().numpy()\n",
    "\n",
    "print(\"Noise Levels:\", noise_levels)\n",
    "print(\"Pokie Score:\", pokie_score)"
   ]
  }
 ],
 "metadata": {
  "kernelspec": {
   "display_name": "tarp_project",
   "language": "python",
   "name": "python3"
  },
  "language_info": {
   "codemirror_mode": {
    "name": "ipython",
    "version": 3
   },
   "file_extension": ".py",
   "mimetype": "text/x-python",
   "name": "python",
   "nbconvert_exporter": "python",
   "pygments_lexer": "ipython3",
   "version": "3.9.18"
  }
 },
 "nbformat": 4,
 "nbformat_minor": 5
}
