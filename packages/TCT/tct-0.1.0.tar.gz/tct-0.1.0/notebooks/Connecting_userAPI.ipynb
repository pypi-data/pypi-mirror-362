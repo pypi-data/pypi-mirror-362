{
 "cells": [
  {
   "cell_type": "code",
   "execution_count": 1,
   "metadata": {},
   "outputs": [],
   "source": [
    "# include path ../src in order to import modules\n",
    "import sys\n",
    "sys.path.append('../TCT')\n",
    "import TCT as TCT\n",
    "import seaborn as sns\n",
    "import matplotlib.pyplot as plt\n",
    "import pandas as pd\n"
   ]
  },
  {
   "cell_type": "code",
   "execution_count": 2,
   "metadata": {},
   "outputs": [
    {
     "name": "stdout",
     "output_type": "stream",
     "text": [
      "52\n"
     ]
    }
   ],
   "source": [
    "# Step1: List all the APIs in the translator system\n",
    "Translator_KP_info,APInames= TCT.get_SmartAPI_Translator_KP_info()\n",
    "Translator_KP_info.to_csv('SmartAPI_Translator_KP_info.csv', index=False)\n",
    "print(len(Translator_KP_info))"
   ]
  },
  {
   "cell_type": "code",
   "execution_count": 3,
   "metadata": {},
   "outputs": [],
   "source": [
    "# Step 2: Get metaKG from Translator APIs\n",
    "metaKG = TCT.get_KP_metadata(APInames) # This only applies to the Translator APIs"
   ]
  },
  {
   "cell_type": "code",
   "execution_count": null,
   "metadata": {},
   "outputs": [],
   "source": [
    "# add  new APIs to the list\n",
    "#APInames['ctkp'] = 'https://multiomics.rtx.ai:9990/ctkp/meta_knowledge_graph'\n",
    "#APInames['mokp'] = 'https://multiomics.rtx.ai:9990/mokp'\n",
    "#APInames['dakp'] = 'https://multiomics.rtx.ai:9990/dakp'\n",
    "#APInames['mbkp'] = 'https://multiomics.rtx.ai:9990/mbkp'\n",
    "APInames['CATRAX-PharmacogenomicsKG'] = 'https://multiomics.rtx.ai:9990/PharmacogenomicsKG'\n",
    "APInames['BigGIM'] =\"https://multiomics.rtx.ai:9990/BigGIM_DrugResponse_PerformancePhase\""
   ]
  },
  {
   "cell_type": "code",
   "execution_count": null,
   "metadata": {},
   "outputs": [],
   "source": [
    "# Step 3 (optional): add new metaKG from a user defined API\n",
    "\n",
    "url = 'https://multiomics.rtx.ai:9990/BigGIM_DrugResponse_PerformancePhase/meta_knowledge_graph'\n",
    "response = requests.get(url)\n",
    "data = response.json()\n",
    "for i in range(len(data[\"edges\"])):\n",
    "    APInames, metaKG = TCT.add_new_API_for_query(APInames, metaKG, \"BigGIM\", \"https://multiomics.rtx.ai:9990/BigGIM_DrugResponse_PerformancePhase/query\", data[\"edges\"][i]['predicate'], data[\"edges\"][i]['subject'], data[\"edges\"][i]['object'])\n",
    "\n",
    "url = 'https://multiomics.rtx.ai:9990/PharmacogenomicsKG/meta_knowledge_graph'\n",
    "response = requests.get(url)\n",
    "data = response.json()\n",
    "for i in range(len(data[\"edges\"])):\n",
    "    APInames, metaKG = TCT.add_new_API_for_query(APInames, metaKG, \"PharmacogenomicsKG\", \"https://multiomics.rtx.ai:9990/PharmacogenomicsKG/query\", data[\"edges\"][i]['predicate'], data[\"edges\"][i]['subject'], data[\"edges\"][i]['object'])\n",
    "# Step 4: Save the metaKG to a file\n",
    "metaKG.to_csv('../metaData/metaKG.csv', index=False)\n",
    "\n",
    "import requests\n",
    "url = 'https://multiomics.rtx.ai:9990/ctkp/meta_knowledge_graph'\n",
    "response = requests.get(url)\n",
    "data = response.json()\n",
    "\n",
    "for i in range(len(data[\"edges\"])):\n",
    "    APInames, metaKG = TCT.add_new_API_for_query(APInames, metaKG, \"CTKP\", \"https://multiomics.rtx.ai:9990/ctkp/query\", data[\"edges\"][i]['predicate'], data[\"edges\"][i]['subject'], data[\"edges\"][i]['object'])\n",
    "\n",
    "\n",
    "url = 'https://multiomics.rtx.ai:9990/dakp/meta_knowledge_graph'\n",
    "response = requests.get(url)\n",
    "data = response.json()\n",
    "for i in range(len(data[\"edges\"])):\n",
    "    APInames, metaKG = TCT.add_new_API_for_query(APInames, metaKG, \"DAKP\", \"https://multiomics.rtx.ai:9990/dakp/query\", data[\"edges\"][i]['predicate'], data[\"edges\"][i]['subject'], data[\"edges\"][i]['object'])\n"
   ]
  },
  {
   "cell_type": "code",
   "execution_count": null,
   "metadata": {},
   "outputs": [],
   "source": [
    "metaKG.loc[metaKG['API']==\"PharmacogenomicsKG\"].to_csv('../metaData/PharmacogenomicsKG_meta.csv', index=False)"
   ]
  },
  {
   "cell_type": "code",
   "execution_count": null,
   "metadata": {},
   "outputs": [],
   "source": [
    "# Step 3: set input parameters\n",
    "# Test multiomics BigGIM Drug Response KP\n",
    "# Node1 for query\n",
    "input_node1 = 'B-cell'\n",
    "input_node1_id = TCT.get_curie(input_node1)\n",
    "print(input_node1_id)\n",
    "input_node1_id = 'NCBIGene:2215'\n",
    "input_node1_list = [input_node1_id]\n",
    "input_node1_category = ['biolink:Gene','biolink:Protein'] # Node: this has to be in a format of biolink:xxx\n",
    "\n",
    "#Node2 for query\n",
    "input_node2_list = []\n",
    "input_node2_category = ['biolink:Cell'] # Node: this has to be in a format of biolink:xxx\n",
    "#input_node2_category = ['biolink:Gene']\n",
    "\n",
    "# Get all predicates for the input node1 and node2, user can furter select the predicates among this list\n",
    "sele_predicates = list(set(TCT.select_concept(sub_list=input_node1_category,\n",
    "                                              obj_list=input_node2_category,\n",
    "                                              metaKG=metaKG)))\n",
    "\n",
    "\n",
    "\n",
    "print(\"all relevant predicates in Translator:\")\n",
    "print(sele_predicates)\n",
    "# select predicates\n",
    "\n",
    "# Get all APIs for the input node1 and node2, user can furter select the APIs among this list\n",
    "sele_APIs = TCT.select_API(sub_list=input_node1_category,\n",
    "                           obj_list=input_node2_category,\n",
    "                           metaKG=metaKG)\n",
    "\n",
    "print(\"all relevant APIs in Translator:\")\n",
    "print(sele_APIs)\n",
    "print(len(sele_APIs))\n",
    "\n",
    "# get API URLs\n",
    "API_URLs = TCT.get_Translator_API_URL(sele_APIs, \n",
    "                                      APInames)"
   ]
  },
  {
   "cell_type": "code",
   "execution_count": null,
   "metadata": {},
   "outputs": [],
   "source": [
    "# Step 4: Format query json\n",
    "query_json = TCT.format_query_json(input_node1_list,  # a list of identifiers for input node1\n",
    "                                   input_node2_list,  # it can be empty list if only want to query node1\n",
    "                                   input_node1_category,  # a list of categories of input node1\n",
    "                                   input_node2_category,  # a list of categories of input node2\n",
    "                                   sele_predicates) # a list of predicates\n",
    "query_json"
   ]
  },
  {
   "cell_type": "code",
   "execution_count": null,
   "metadata": {},
   "outputs": [],
   "source": [
    "\n",
    "# Step 5: Query Translator APIs and parse results\n",
    "result = TCT.parallel_api_query(API_URLs,query_json=query_json, max_workers=len(API_URLs))\n",
    "\n",
    "# Step 6: Parse results\n",
    "result_parsed = TCT.parse_KG(result)\n",
    "\n",
    "# Step 7: Ranking the results. This ranking method is based on the number of unique primary infores. It can only be used to rank the results with one defined node.\n",
    "result_ranked_by_primary_infores = TCT.rank_by_primary_infores(result_parsed, input_node1_id)   # input_node1_id is the curie id of the input node, such as \"NCBIGene:1017\"\n"
   ]
  },
  {
   "cell_type": "code",
   "execution_count": null,
   "metadata": {},
   "outputs": [],
   "source": [
    "print(len(result.keys()))\n",
    "result[list(result.keys())[0]]"
   ]
  },
  {
   "cell_type": "code",
   "execution_count": null,
   "metadata": {},
   "outputs": [],
   "source": [
    "# Step 8: Visualize the results\n",
    "TCT.visulization_one_hop_ranking(result_ranked_by_primary_infores, result_parsed, \n",
    "                                num_of_nodes = 50, input_query = input_node1_id, \n",
    "                                fontsize = 5)"
   ]
  },
  {
   "cell_type": "markdown",
   "metadata": {},
   "source": []
  }
 ],
 "metadata": {
  "kernelspec": {
   "display_name": "3.12.1",
   "language": "python",
   "name": "python3"
  },
  "language_info": {
   "codemirror_mode": {
    "name": "ipython",
    "version": 3
   },
   "file_extension": ".py",
   "mimetype": "text/x-python",
   "name": "python",
   "nbconvert_exporter": "python",
   "pygments_lexer": "ipython3",
   "version": "3.12.1"
  }
 },
 "nbformat": 4,
 "nbformat_minor": 4
}
