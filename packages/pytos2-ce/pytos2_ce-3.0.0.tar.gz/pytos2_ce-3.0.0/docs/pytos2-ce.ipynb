{
 "cells": [
  {
   "cell_type": "markdown",
   "id": "07fe7460",
   "metadata": {},
   "source": [
    "Table of contents\n",
    "=================\n",
    "\n",
    "<!--ts-->\n",
    "   * [Pre Reqs](#pre)\n",
    "   * [Installation](#install)\n",
    "   * [Setup](#setup)\n",
    "   * [Getting Started](#start)\n",
    "   * [Viewing Your Config](#config)\n",
    "   * [Secure Change](#secure-change)\n",
    "<!--te-->\n"
   ]
  },
  {
   "attachments": {},
   "cell_type": "markdown",
   "id": "0587012b-525e-4914-b23c-88e14c0cbbcc",
   "metadata": {},
   "source": [
    "Installation      <a class=\"anchor\" id=\"install\"></a>\n",
    "============\n",
    "[Git](https://git-scm.com) is a prerequisite for installation. Also, development using either\n",
    "[`venv`](https://docs.python.org/3/library/venv.html#creating-virtual-environments)\n",
    "or [Docker](https://docs.docker.com/get-docker/)\n",
    "is recommended.\n",
    "\n",
    "`pytos2` CE is currently *not* yet available on [PyPI](https://pypi.org). To install, use\n",
    "the following [`pip`](https://pypi.org/project/pip/) command:\n"
   ]
  },
  {
   "cell_type": "code",
   "execution_count": null,
   "id": "ff2508e5-55af-43ba-bcb1-bd89e4fe4147",
   "metadata": {},
   "outputs": [],
   "source": [
    "# PRODUCTION INSTALL\n",
    "# %pip install python-dotenv git+https://gitlab.com/tufinps/pytos2-ce\n",
    "\n",
    "# LOCAL DEVELOPMENT\n",
    "%pip uninstall pytos2-ce -y\n",
    "%pip install python-dotenv\n",
    "%pip install ../../pytos2-ce"
   ]
  },
  {
   "cell_type": "markdown",
   "id": "44cea431-c79f-474c-baed-cfc724579963",
   "metadata": {},
   "source": [
    "Setup      <a class=\"anchor\" id=\"setup\"></a>\n",
    "=====\n",
    "`pytos2` CE recommends setting the following environment variables while using this library. They can either be set directly in the environment using a method of your choice, or you can use [python-dotenv](https://saurabh-kumar.com/python-dotenv/).\n",
    "\n",
    "- `HOST`: The hostname \n",
    "- `USER`: The username \n",
    "- `PASS`: The password\n",
    "\n",
    "These values can be editted in the `.env` file or overwritten in-line in the example below"
   ]
  },
  {
   "cell_type": "markdown",
   "id": "027b4882-a96d-4109-9c77-2d237fc09e28",
   "metadata": {},
   "source": [
    "Getting Started      <a class=\"anchor\" id=\"start\"></a>\n",
    "==============="
   ]
  },
  {
   "cell_type": "code",
   "execution_count": null,
   "id": "e2f66f34-418b-49d7-96a2-1b548e7152bd",
   "metadata": {},
   "outputs": [],
   "source": [
    "# %load init.py\n",
    "from dotenv import dotenv_values\n",
    "from pytos2.secureapp import Sa as SecureApp\n",
    "from pytos2.securechange import Scw as SecureChange\n",
    "from pytos2.securetrack import St as SecureTrack\n",
    "\n",
    "\n",
    "# Loads our config\n",
    "config = dotenv_values(\".env\")\n",
    "\n",
    "# Override or Use Config Values\n",
    "# If changes are made, rerun this cell to see the changes\n",
    "# Strings must be empty to use config - any value in string will be truthy\n",
    "HOST = \"\" or config[\"AURORA_HOST\"]\n",
    "USER = \"\" or config[\"USER\"]\n",
    "PASS = \"\" or config[\"PASS\"]\n",
    "\n",
    "# Instantiate Classes\n",
    "secure_app = SecureApp(HOST, USER, PASS)\n",
    "secure_change = SecureChange(HOST, USER, PASS)\n",
    "secure_track = SecureTrack(HOST, USER, PASS)"
   ]
  },
  {
   "cell_type": "markdown",
   "id": "0371b6b2",
   "metadata": {},
   "source": [
    "Configuration      <a class=\"anchor\" id=\"config\"></a>\n",
    "==================="
   ]
  },
  {
   "cell_type": "code",
   "execution_count": null,
   "id": "d2c52e89",
   "metadata": {},
   "outputs": [],
   "source": [
    "print(HOST)\n",
    "print(USER)\n",
    "print(PASS)"
   ]
  },
  {
   "cell_type": "markdown",
   "id": "9094a4e0",
   "metadata": {},
   "source": [
    "Secure Change      <a class=\"anchor\" id=\"secure-change\"></a>\n",
    "=============\n",
    "\n",
    "### Get Excluded Devices\n",
    "\n",
    "```python\n",
    "    .get_excluded_device_ids(\n",
    "        show_all: Optional[bool] = None\n",
    "    )\n",
    "```"
   ]
  },
  {
   "cell_type": "code",
   "execution_count": null,
   "id": "3c8d6476",
   "metadata": {},
   "outputs": [],
   "source": [
    "show_all = True\n",
    "excluded_devices = secure_change.get_excluded_device_ids(show_all)\n",
    "\n",
    "print(excluded_devices)"
   ]
  },
  {
   "cell_type": "markdown",
   "id": "73addde6",
   "metadata": {},
   "source": [
    "### Get Ticket By ID\n",
    "\n",
    "```python\n",
    "   .get_ticket(\n",
    "      _id: int\n",
    "   )\n",
    "```"
   ]
  },
  {
   "cell_type": "code",
   "execution_count": null,
   "id": "88591d23",
   "metadata": {},
   "outputs": [],
   "source": [
    "# Get Ticket by ID # 674\n",
    "ticket = secure_change.get_ticket(993)\n",
    "\n",
    "print(ticket)"
   ]
  },
  {
   "cell_type": "markdown",
   "id": "f143a153",
   "metadata": {},
   "source": [
    "### Get Tickets\n",
    "\n",
    "```python\n",
    "   .get_tickets(\n",
    "        status: Optional[Union['pytos2.securechange.ticket.TicketStatus',List['pytos2.securechange.ticket.TicketStatus']]] = None,\n",
    "        start: Optional[int] = None, \n",
    "        descending: Optional[bool] = None,\n",
    "        expand_links: Optional[bool] = None\n",
    "    )\n",
    "```"
   ]
  },
  {
   "cell_type": "code",
   "execution_count": null,
   "id": "500cf5b8",
   "metadata": {},
   "outputs": [],
   "source": [
    "from pytos2.securechange.ticket import TicketStatus\n",
    "\n",
    "status = TicketStatus.RESOLVED\n",
    "\n",
    "tickets = secure_change.get_tickets(status)\n",
    "\n",
    "print(tickets)"
   ]
  },
  {
   "cell_type": "markdown",
   "id": "d4cb5045",
   "metadata": {},
   "source": [
    "### Get Users\n",
    "\n",
    "```python\n",
    "\n",
    "```"
   ]
  },
  {
   "cell_type": "code",
   "execution_count": null,
   "id": "93a28764",
   "metadata": {},
   "outputs": [],
   "source": [
    "users = secure_change.get_users()\n",
    "\n",
    "for index, user in enumerate(users):\n",
    "    print(f\"User #{index + 1}\")\n",
    "    print(user)"
   ]
  },
  {
   "cell_type": "markdown",
   "id": "ba930218",
   "metadata": {},
   "source": [
    "### Get User\n",
    "\n",
    "```python\n",
    "    .get_user(\n",
    "        identifier: Union[str, int], expand: bool = False\n",
    "    )\n",
    "```\n",
    "\n",
    "#### Get User By ID\n",
    "\n",
    "> by default, if type is int it will search by id"
   ]
  },
  {
   "cell_type": "code",
   "execution_count": null,
   "id": "96484f6f",
   "metadata": {},
   "outputs": [],
   "source": [
    "# Provide an integer\n",
    "user_by_id = secure_change.get_user(1)\n",
    "\n",
    "print(user_by_id)"
   ]
  },
  {
   "cell_type": "markdown",
   "id": "5da034c1",
   "metadata": {},
   "source": [
    "#### Get User By Name\n",
    "\n",
    "> by default, if type is string it will search by name"
   ]
  },
  {
   "cell_type": "code",
   "execution_count": null,
   "id": "3e91b14a",
   "metadata": {},
   "outputs": [],
   "source": [
    "# Provide a string\n",
    "user_by_name = secure_change.get_user(\"r\")\n",
    "\n",
    "print(user_by_name)"
   ]
  },
  {
   "cell_type": "markdown",
   "id": "567b5cee",
   "metadata": {},
   "source": [
    "### Reassign Ticket\n",
    "\n",
    "```python\n",
    "    .reassign_ticket(\n",
    "        ticket, user, step: Union[None, 'Step', int, str] = None, task: Union[None,\n",
    "        'Task', int] = None, comment = ''\n",
    "    )\n",
    "```"
   ]
  },
  {
   "cell_type": "code",
   "execution_count": null,
   "id": "fca0bb25",
   "metadata": {},
   "outputs": [],
   "source": [
    "ticket = secure_change.get_ticket(674)\n",
    "user = secure_change.get_user(\"r\")\n",
    "reassigned_ticket = secure_change.reassign_ticket(\n",
    "    ticket, user, comment=\"For Jupyter Demo\"\n",
    ")\n",
    "\n",
    "print(reassigned_ticket)"
   ]
  },
  {
   "cell_type": "markdown",
   "id": "405d1ef4",
   "metadata": {},
   "source": [
    "### Ticket Search\n",
    "\n",
    "```python\n",
    "    .ticket_search(\n",
    "        subject: Optional[str] = None, \n",
    "        requester: Optional[str] = None,\n",
    "        group: Optional[str] = None, \n",
    "        assigned_to: Optional[str] = None,\n",
    "        priority: Optional[str] = None, \n",
    "        status: Optional[Union[str,'pytos2.securechange.ticket.Task.Status']] = None,\n",
    "        sla_status: Optional[Union[str,'pytos2.securechange.ticket.Ticket.SlaStatus']] = None,\n",
    "        field_name: Optional[str] = None, \n",
    "        field_value: Optional[str] = None,\n",
    "        current_step: Optional[str] = None, \n",
    "        expiration_date_from: Optional[str] = None,\n",
    "        expiration_date_to: Optional[str] = None, \n",
    "        domain_name: Optional[str] = None\n",
    "    )\n",
    "```"
   ]
  },
  {
   "cell_type": "code",
   "execution_count": null,
   "id": "28ac1adb",
   "metadata": {},
   "outputs": [],
   "source": [
    "tickets = secure_change.ticket_search(assigned_to=\"r\")\n",
    "filtered_list = list(filter(lambda ticket: ticket[\"id\"] == 674, tickets))\n",
    "\n",
    "print(filtered_list)"
   ]
  },
  {
   "cell_type": "markdown",
   "id": "a1a41424",
   "metadata": {},
   "source": [
    "### Get Attachment\n",
    "\n",
    "```python\n",
    "   .get_attachment(self, file_id: Union[int, str]) -> bytes:\n",
    "```"
   ]
  },
  {
   "cell_type": "code",
   "execution_count": null,
   "id": "25c2726b",
   "metadata": {},
   "outputs": [],
   "source": [
    "t = secure_change.get_ticket(990)\n",
    "\n",
    "comment = t.comments[0]\n",
    "attachment = comment.attachments[0]\n",
    "attachment_content = secure_change.get_attachment(attachment.uid)\n",
    "\n",
    "with open(f\"Test-{attachment.name}\", \"wb\") as file:\n",
    "    file.write(attachment_content)"
   ]
  },
  {
   "attachments": {},
   "cell_type": "markdown",
   "id": "a28bbc78",
   "metadata": {},
   "source": [
    "### Add Attachment\n",
    "\n",
    "```python\n",
    "   .add_attachment(self, file: str) -> str:\n",
    "```"
   ]
  },
  {
   "cell_type": "code",
   "execution_count": null,
   "id": "241ce529",
   "metadata": {},
   "outputs": [],
   "source": [
    "uuid = secure_change.add_attachment(\"../README.pdf\")\n",
    "\n",
    "print(uuid)"
   ]
  },
  {
   "attachments": {},
   "cell_type": "markdown",
   "id": "094f7ac5",
   "metadata": {},
   "source": [
    "### Add Comment\n",
    "\n",
    "```python\n",
    "   .add_comment(\n",
    "        self,\n",
    "        ticket_id: Union[int, str],\n",
    "        step_id: Union[int, str],\n",
    "        task_id: Union[int, str],\n",
    "        comment_content: str,\n",
    "        attachment_uuids: Optional[List[str]],\n",
    "    ) -> str:\n",
    "```"
   ]
  },
  {
   "cell_type": "code",
   "execution_count": null,
   "id": "2914c5a8",
   "metadata": {},
   "outputs": [],
   "source": [
    "from pytos2.securechange.ticket import Ticket, Comment, Attachment\n",
    "\n",
    "ticket: Ticket = secure_change.get_ticket(990)\n",
    "current_step = ticket.current_step\n",
    "current_task = ticket.current_task\n",
    "\n",
    "uuid = secure_change.add_attachment(\"../README.pdf\")\n",
    "comment = \"This is a new comment with an attachment\"\n",
    "\n",
    "secure_change.add_comment(ticket.id, current_step.id, current_task.id, comment, [uuid])\n",
    "\n",
    "### There is also two helpers on the Ticket ###\n",
    "#   by default the current step and task are used if not provided #\n",
    "\n",
    "ticket: Ticket = secure_change.get_ticket(993)\n",
    "\n",
    "ticket.add_comment(comment, [uuid])\n",
    "\n",
    "c_one = Comment(content=\"Comment One\")\n",
    "c_two = Comment(content=\"Comment Two\")\n",
    "\n",
    "ticket.add_comments([c_one, c_two])"
   ]
  },
  {
   "attachments": {},
   "cell_type": "markdown",
   "id": "da93ed45",
   "metadata": {},
   "source": [
    "### Delete Comment\n",
    "\n",
    "```python\n",
    "   delete_comment(self, ticket_id: Union[int, str], comment_id: Union[int, str],) -> None:\n",
    "```"
   ]
  },
  {
   "cell_type": "code",
   "execution_count": null,
   "id": "7472f6f8",
   "metadata": {},
   "outputs": [],
   "source": [
    "ticket: Ticket = secure_change.get_ticket(993)\n",
    "\n",
    "comment = ticket.comments[-1]  # get last comment\n",
    "\n",
    "secure_change.delete_comment(ticket.id, comment.id)\n",
    "\n",
    "### There is also two helpers on the Ticket ###\n",
    "\n",
    "ticket.delete_comment(\"230\")\n",
    "\n",
    "ticket.delete_comments([231, 232])"
   ]
  },
  {
   "attachments": {},
   "cell_type": "markdown",
   "id": "36c50ad8",
   "metadata": {},
   "source": [
    "- - -\n",
    "- - -\n",
    "- - -\n"
   ]
  },
  {
   "cell_type": "markdown",
   "id": "7634916b",
   "metadata": {},
   "source": [
    "Secure Track      <a class=\"anchor\" id=\"secure-track\"></a>\n",
    "============="
   ]
  },
  {
   "cell_type": "markdown",
   "id": "0e3dc940",
   "metadata": {},
   "source": [
    "### Get Devices\n",
    "\n",
    "```python\n",
    "   .get_devices(\n",
    "      cache: Optional[bool] = None, filter: Optional[dict] = None\n",
    "   )\n",
    "```"
   ]
  },
  {
   "cell_type": "code",
   "execution_count": null,
   "id": "7f8bff75",
   "metadata": {},
   "outputs": [],
   "source": [
    "devices = secure_track.get_devices()\n",
    "\n",
    "print(devices)"
   ]
  },
  {
   "cell_type": "markdown",
   "id": "c560effe",
   "metadata": {},
   "source": [
    "### Get Zones\n",
    "\n",
    "```python\n",
    "   .get_zones(\n",
    "      cache: Optional[bool] = None\n",
    "   )\n",
    "```"
   ]
  },
  {
   "cell_type": "code",
   "execution_count": null,
   "id": "27a657d5",
   "metadata": {},
   "outputs": [],
   "source": [
    "zones = secure_track.get_zones()\n",
    "\n",
    "print(zones)"
   ]
  },
  {
   "cell_type": "markdown",
   "id": "1c95241e",
   "metadata": {},
   "source": [
    "### Get Zone Subnets\n",
    "\n",
    "```python\n",
    "   .get_zone_subnets(\n",
    "      identifier: Union[int, str, List[int]]\n",
    "   )\n",
    "```"
   ]
  },
  {
   "cell_type": "code",
   "execution_count": null,
   "id": "032ddf2a",
   "metadata": {},
   "outputs": [],
   "source": [
    "subnets = secure_track.get_zone_subnets(164)\n",
    "\n",
    "print(subnets)"
   ]
  },
  {
   "cell_type": "markdown",
   "id": "1eca3013",
   "metadata": {},
   "source": [
    "### Get Zone Descendants\n",
    "\n",
    "```python\n",
    "   .get_zone_descendants(\n",
    "      identifier: Union[int, str, List[int]]\n",
    "   )\n",
    "```"
   ]
  },
  {
   "cell_type": "code",
   "execution_count": null,
   "id": "09c1fa28",
   "metadata": {},
   "outputs": [],
   "source": [
    "descendants = secure_track.get_zone_descendants(164)\n",
    "\n",
    "print(descendants)"
   ]
  },
  {
   "cell_type": "markdown",
   "id": "64746871",
   "metadata": {},
   "source": [
    "### Get Zone \n",
    "\n",
    "```python\n",
    "   .get_zone(\n",
    "      identifier: Union[int, str], cache: Optional[bool] = None\n",
    "   )\n",
    "```"
   ]
  },
  {
   "cell_type": "code",
   "execution_count": null,
   "id": "365a375d",
   "metadata": {},
   "outputs": [],
   "source": [
    "zone = secure_track.get_zone(164)\n",
    "\n",
    "print(zone)"
   ]
  },
  {
   "cell_type": "markdown",
   "id": "d56f39df",
   "metadata": {},
   "source": [
    "### Get Domains\n",
    "\n",
    "```python\n",
    "   .get_domains(\n",
    "      cache: Optional[bool] = None\n",
    "   )\n",
    "```"
   ]
  },
  {
   "cell_type": "code",
   "execution_count": null,
   "id": "ee4da008",
   "metadata": {},
   "outputs": [],
   "source": [
    "domains = secure_track.get_domains()\n",
    "\n",
    "print(domains)"
   ]
  },
  {
   "cell_type": "markdown",
   "id": "026e10d4",
   "metadata": {},
   "source": [
    "### Get Domains\n",
    "\n",
    "```python\n",
    "   .get_domain(\n",
    "      identifier: Union[int, str], cache: Optional[bool] = None\n",
    "   )\n",
    "```\n"
   ]
  },
  {
   "cell_type": "code",
   "execution_count": null,
   "id": "ba769556",
   "metadata": {},
   "outputs": [],
   "source": [
    "domain = secure_track.get_domain(11, False)\n",
    "\n",
    "print(domain)"
   ]
  },
  {
   "cell_type": "markdown",
   "id": "c30bb3d6",
   "metadata": {},
   "source": [
    "### Add Domain\n",
    "\n",
    "```python\n",
    "   .add_domain(\n",
    "      name: str, description: Optional[str] = None, address: Optional[str] = None\n",
    "   )\n",
    "```"
   ]
  },
  {
   "cell_type": "code",
   "execution_count": null,
   "id": "1e7deee2",
   "metadata": {},
   "outputs": [],
   "source": [
    "new_domain = secure_track.add_domain(\"Test\")\n",
    "\n",
    "print(new_domain)"
   ]
  },
  {
   "cell_type": "markdown",
   "id": "5dd99854",
   "metadata": {},
   "source": [
    "### Update Domain\n",
    "\n",
    "```python\n",
    "   .update_domain(\n",
    "      identifier: Union[int, str], name: Optional[str] = None,\n",
    "      description: Optional[str] = None, address: Optional[str] = None\n",
    "   )\n",
    "```"
   ]
  },
  {
   "cell_type": "code",
   "execution_count": null,
   "id": "4369ff61",
   "metadata": {},
   "outputs": [],
   "source": [
    "# updating something you just created fails to find domain - cache?\n",
    "updated_domain = secure_track.update_domain(\n",
    "    9,\n",
    "    \"Updated Toronto Backup\",\n",
    ")\n",
    "\n",
    "print(updated_domain)"
   ]
  },
  {
   "cell_type": "markdown",
   "id": "8a226a5f",
   "metadata": {},
   "source": [
    "### Get Devices\n",
    "\n",
    "```python\n",
    "   .get_device(\n",
    "      identifier: Union[int, str], cache: Optional[bool] = None\n",
    "   )\n",
    "```"
   ]
  },
  {
   "cell_type": "code",
   "execution_count": null,
   "id": "2eb55924",
   "metadata": {},
   "outputs": [],
   "source": [
    "device = secure_track.get_device(38)\n",
    "\n",
    "print(device)"
   ]
  },
  {
   "cell_type": "markdown",
   "id": "f80e6af8",
   "metadata": {},
   "source": [
    "### Get Network Objects\n",
    "\n",
    "```python\n",
    "   .get_network_objects(\n",
    "      device: Union[int, str], cache: Optional[bool] = None\n",
    "   )\n",
    "```"
   ]
  },
  {
   "cell_type": "code",
   "execution_count": null,
   "id": "94359147",
   "metadata": {},
   "outputs": [],
   "source": [
    "network_objs = secure_track.get_network_objects(38)\n",
    "\n",
    "print(network_objs)"
   ]
  },
  {
   "cell_type": "markdown",
   "id": "0fb14e30",
   "metadata": {},
   "source": [
    "### Get Network Object\n",
    "\n",
    "```python\n",
    "   .get_network_object(\n",
    "      name: Optional[str] = None, device: Union[int, str, None] = None,\n",
    "      uid: Optional[str] = None, cache = True\n",
    "   )\n",
    "```"
   ]
  },
  {
   "cell_type": "code",
   "execution_count": null,
   "id": "731b67b8",
   "metadata": {},
   "outputs": [],
   "source": [
    "# this in not intuitive. cant get to work\n",
    "network_obj = secure_track.get_network_objects(\"Any\", 38)\n",
    "\n",
    "print(network_obj)"
   ]
  },
  {
   "cell_type": "markdown",
   "id": "c485617b",
   "metadata": {},
   "source": [
    "### Get Services\n",
    "\n",
    "```python\n",
    "   .get_services(\n",
    "      device: Union[int, str], cache: Optional[bool] = None\n",
    "   )\n",
    "```"
   ]
  },
  {
   "cell_type": "code",
   "execution_count": null,
   "id": "e55ba521",
   "metadata": {},
   "outputs": [],
   "source": [
    "services = secure_track.get_services(38)\n",
    "\n",
    "print(services)"
   ]
  },
  {
   "cell_type": "markdown",
   "id": "be002b1d",
   "metadata": {},
   "source": [
    "### Get Service\n",
    "\n",
    "```python\n",
    "   .get_service(\n",
    "      name: Optional[str] = None, device: Union[int, str, None] = None,\n",
    "      uid: Optional[str] = None, cache = True\n",
    "   )\n",
    "```"
   ]
  },
  {
   "cell_type": "code",
   "execution_count": null,
   "id": "c37806e1",
   "metadata": {},
   "outputs": [],
   "source": [
    "service = secure_track.get_service(\"udp-echo (udp)\", 1)\n",
    "\n",
    "print(service)"
   ]
  },
  {
   "cell_type": "markdown",
   "id": "17798f31",
   "metadata": {},
   "source": [
    "### Get NAT Rules\n",
    "\n",
    "```python\n",
    "   .get_nat_rules(\n",
    "      device: Union[str, int, None] = None\n",
    "   )\n",
    "```"
   ]
  },
  {
   "cell_type": "code",
   "execution_count": null,
   "id": "9c9bb505",
   "metadata": {},
   "outputs": [],
   "source": [
    "# broken too\n",
    "nat_rules = secure_track.get_nat_rules(38)\n",
    "# blows up cuz cant kwargify\n",
    "print(nat_rules)"
   ]
  },
  {
   "cell_type": "markdown",
   "id": "7b60cefa",
   "metadata": {},
   "source": [
    "### Get Rules\n",
    "\n",
    "```python\n",
    "   .get_rules(\n",
    "      device: Union[str, int, None] = None, revision: Union[int, None] = None,\n",
    "      rule_uid: Optional[str] = None, uid: Optional[str] = None, documentation: bool = True,\n",
    "      cache: bool = True\n",
    "   )\n",
    "```"
   ]
  },
  {
   "cell_type": "code",
   "execution_count": null,
   "id": "23d9c121",
   "metadata": {},
   "outputs": [],
   "source": [
    "rules = secure_track.get_rules(1)\n",
    "\n",
    "print(rules)"
   ]
  },
  {
   "cell_type": "markdown",
   "id": "31ba308d",
   "metadata": {},
   "source": [
    "### Get Rule Documentation\n",
    "\n",
    "```python\n",
    "   .get_rule_documentation(\n",
    "      : 'St', device: Union[str, int], rule: Union[int, SecurityRule]\n",
    "   )\n",
    "```"
   ]
  },
  {
   "cell_type": "code",
   "execution_count": null,
   "id": "0c8347e4",
   "metadata": {},
   "outputs": [],
   "source": [
    "rule_docs = secure_track.get_rule_documentation(1, 2484)\n",
    "\n",
    "print(rule_docs)"
   ]
  },
  {
   "cell_type": "markdown",
   "id": "02b0f9f6",
   "metadata": {},
   "source": [
    "### Get Shadow Rules for Devices\n",
    "\n",
    "```python\n",
    "   .get_shadowing_rules_for_device(\n",
    "      : 'St', device: str, rules: Iterator[str]\n",
    "   )\n",
    "```"
   ]
  },
  {
   "cell_type": "code",
   "execution_count": null,
   "id": "394422fa",
   "metadata": {},
   "outputs": [],
   "source": [
    "rules = secure_track.get_rules(1)\n",
    "# how to get string from List[SecurityRule]\n",
    "shadow_rules = secure_track.get_shadowing_rules_for_device(1, rules)\n",
    "\n",
    "print(shadow_rules)"
   ]
  },
  {
   "cell_type": "markdown",
   "id": "adf7631b",
   "metadata": {},
   "source": [
    "### Update Rules Documentation\n",
    "\n",
    "```python\n",
    "   .update_rule_documentation(\n",
    "      device: Union[str, int], rule: Union[int, SecurityRule],\n",
    "      rule_documentation: Documentation\n",
    "   )\n",
    "```"
   ]
  },
  {
   "cell_type": "code",
   "execution_count": null,
   "id": "d0ebcddc",
   "metadata": {},
   "outputs": [],
   "source": [
    "docs = secure_track.get_rule_documentation(1, 2484)\n",
    "\n",
    "rule_docs = secure_track.update_rule_documentation(1, 2484, docs)\n",
    "\n",
    "print(rule_docs)"
   ]
  },
  {
   "cell_type": "markdown",
   "id": "c92810a3",
   "metadata": {},
   "source": [
    "### Get Revision\n",
    "\n",
    "```python\n",
    "   .get_revision(\n",
    "      revision: int, cache: bool = True\n",
    "   )\n",
    "```"
   ]
  },
  {
   "cell_type": "code",
   "execution_count": null,
   "id": "cd99c41b",
   "metadata": {},
   "outputs": [],
   "source": [
    "rev = secure_track.get_revision(1)\n",
    "\n",
    "print(rev)"
   ]
  },
  {
   "cell_type": "markdown",
   "id": "52ed19fa",
   "metadata": {},
   "source": [
    "### Get Latest Revision\n",
    "\n",
    "```python\n",
    "   .get_latest_revision(\n",
    "      device: Union[str, int]\n",
    "   )\n",
    "```"
   ]
  },
  {
   "cell_type": "code",
   "execution_count": null,
   "id": "21fec60f",
   "metadata": {},
   "outputs": [],
   "source": [
    "latest_rev = secure_track.get_latest_revision(1)\n",
    "\n",
    "print(latest_rev)"
   ]
  },
  {
   "cell_type": "markdown",
   "id": "f91d9d02",
   "metadata": {},
   "source": [
    "### Get Revisions\n",
    "\n",
    "```python\n",
    "   .get_revisions(\n",
    "      device: Union[str, int], cache: bool = True\n",
    "   )\n",
    "```"
   ]
  },
  {
   "cell_type": "code",
   "execution_count": null,
   "id": "2ea3b1f0",
   "metadata": {},
   "outputs": [],
   "source": [
    "revs = secure_track.get_revisions(1)\n",
    "\n",
    "print(revs)"
   ]
  },
  {
   "cell_type": "markdown",
   "id": "fa62f75c",
   "metadata": {},
   "source": [
    "### Search Rules\n",
    "\n",
    "```python\n",
    "   .search_rules(\n",
    "      : 'St', text: Optional[str] = None, devices: Union[Union[str, int],\n",
    "      List[Union[str, int]]] = None, context: Optional[int] = None,\n",
    "      shadowed: Optional[bool] = None, expiration_date: Optional[Union[Emptiness,\n",
    "      date]] = None, certification_expiration_date: Optional[Union[Emptiness,\n",
    "      date]] = None, comment: Optional[Emptiness] = None, **search_text_params: Dict[str,\n",
    "      Union[str, bool, List[Union[str, bool]]]]\n",
    "   )\n",
    "```"
   ]
  },
  {
   "cell_type": "code",
   "execution_count": null,
   "id": "7e3940fa",
   "metadata": {},
   "outputs": [],
   "source": [
    "rules = secure_track.search_rules()\n",
    "\n",
    "print(rules)"
   ]
  },
  {
   "cell_type": "markdown",
   "id": "989e8fa4",
   "metadata": {},
   "source": [
    "### Rule Search\n",
    "\n",
    "```python\n",
    "   .rule_search(\n",
    "      *args: tuple, **kwargs: dict\n",
    "   )\n",
    "```"
   ]
  },
  {
   "cell_type": "code",
   "execution_count": null,
   "id": "7d7de33a",
   "metadata": {},
   "outputs": [],
   "source": [
    "# whats the difference - this looks like it should be private\n",
    "rules = secure_track.rule_search(1)\n",
    "\n",
    "print(rules)"
   ]
  },
  {
   "cell_type": "markdown",
   "id": "86114392",
   "metadata": {},
   "source": [
    "### Update Documentation\n",
    "\n",
    "```python\n",
    "   .update_documentation(\n",
    "      device_id: int, rule_id: int, rule_doc: Documentation\n",
    "   )\n",
    "```"
   ]
  },
  {
   "cell_type": "code",
   "execution_count": null,
   "id": "294fa685",
   "metadata": {},
   "outputs": [],
   "source": [
    "# whats the difference between this and update_rule_documation\n",
    "docs = secure_track.get_rule_documentation(1, 2484)\n",
    "# keep getting bad request - what should documentation look like?\n",
    "rule_docs = secure_track.update_documentation(1, 2484, docs)\n",
    "\n",
    "print(rule_docs)"
   ]
  },
  {
   "cell_type": "markdown",
   "id": "23c698be",
   "metadata": {},
   "source": [
    "### Get Device Policies\n",
    "\n",
    "```python\n",
    "   .get_device_policies(\n",
    "      device: Union[int, str]\n",
    "   )\n",
    "```"
   ]
  },
  {
   "cell_type": "code",
   "execution_count": null,
   "id": "b92f2e0a",
   "metadata": {},
   "outputs": [],
   "source": [
    "policies = secure_track.get_device_policies(1)\n",
    "\n",
    "print(policies)"
   ]
  },
  {
   "cell_type": "markdown",
   "id": "3abe35b0",
   "metadata": {},
   "source": [
    "### Get Device Policy\n",
    "\n",
    "```python\n",
    "   .get_device_policy(\n",
    "      device: Union[int, str], policy: str\n",
    "   )\n",
    "```"
   ]
  },
  {
   "cell_type": "code",
   "execution_count": null,
   "id": "77ca34c8",
   "metadata": {},
   "outputs": [],
   "source": [
    "# cant find a device with a policy\n",
    "policy = secure_track.get_device_policy(1, \"\")\n",
    "\n",
    "print(policy)"
   ]
  },
  {
   "cell_type": "markdown",
   "id": "c4b6f78b",
   "metadata": {},
   "source": [
    "### Get Interfaces\n",
    "\n",
    "```python\n",
    "   .get_interfaces(\n",
    "      device_id: int\n",
    "   )\n",
    "```"
   ]
  },
  {
   "cell_type": "code",
   "execution_count": null,
   "id": "4f551e34",
   "metadata": {},
   "outputs": [],
   "source": [
    "# cant find a device with a policy\n",
    "intfs = secure_track.get_interfaces(38)\n",
    "# blows up cuz cant kwargify\n",
    "print(intfs)"
   ]
  },
  {
   "cell_type": "markdown",
   "id": "6603a380",
   "metadata": {},
   "source": [
    "### Get Bindable Objects\n",
    "\n",
    "```python\n",
    "   .get_bindable_objects(\n",
    "      device_id: int\n",
    "   )\n",
    "```"
   ]
  },
  {
   "cell_type": "code",
   "execution_count": null,
   "id": "c3debcfd",
   "metadata": {},
   "outputs": [],
   "source": [
    "objs = secure_track.get_bindable_objects(1)\n",
    "# blows up cuz cant kwargify\n",
    "print(objs)"
   ]
  },
  {
   "cell_type": "markdown",
   "id": "58e42441",
   "metadata": {},
   "source": [
    "### Get Topology Interfaces\n",
    "\n",
    "```python\n",
    "   .get_topology_interfaces(\n",
    "      device_id: int, is_generic: Optional[int] = 0\n",
    "   )\n",
    "```"
   ]
  },
  {
   "cell_type": "code",
   "execution_count": null,
   "id": "aed4b2db",
   "metadata": {},
   "outputs": [],
   "source": [
    "intfs = secure_track.get_topology_interfaces(1)\n",
    "\n",
    "print(intfs)"
   ]
  },
  {
   "cell_type": "markdown",
   "id": "f6fe4b5a",
   "metadata": {},
   "source": [
    "### Get Generic Devices\n",
    "\n",
    "```python\n",
    "   .get_generic_devices(\n",
    "      name: Optional[str] = None, context: Optional[int] = None, cache: bool = True\n",
    "   )\n",
    "```"
   ]
  },
  {
   "cell_type": "code",
   "execution_count": null,
   "id": "6ffeacd5",
   "metadata": {},
   "outputs": [],
   "source": [
    "devices = secure_track.get_generic_devices()\n",
    "# this doesnt update after delete - cache?\n",
    "print(devices)"
   ]
  },
  {
   "cell_type": "markdown",
   "id": "1d310571",
   "metadata": {},
   "source": [
    "### Add Generic Device\n",
    "\n",
    "```python\n",
    "   .add_generic_device(\n",
    "      name: str, configuration: Union[BytesIO, str], update_topology: bool = False,\n",
    "      customer_id: Optional[int] = None\n",
    "   )\n",
    "```"
   ]
  },
  {
   "cell_type": "code",
   "execution_count": null,
   "id": "a208b66d",
   "metadata": {},
   "outputs": [],
   "source": [
    "device = secure_track.add_generic_device(\"Test\", \"\")\n",
    "# keep getting bad request - what should config look like - its not a get generic device\n",
    "print(device)"
   ]
  },
  {
   "cell_type": "markdown",
   "id": "409149d2",
   "metadata": {},
   "source": [
    "### Remove Generic Devices\n",
    "\n",
    "```python\n",
    "   .delete_generic_device(\n",
    "      identifier: Union[int, str], update_topology: bool = False\n",
    "   )\n",
    "```"
   ]
  },
  {
   "cell_type": "code",
   "execution_count": null,
   "id": "ba704a8a",
   "metadata": {},
   "outputs": [],
   "source": [
    "device = secure_track.delete_generic_device(6)\n",
    "\n",
    "print(device)"
   ]
  },
  {
   "cell_type": "markdown",
   "id": "106ec16b",
   "metadata": {},
   "source": [
    "### Import Generic Device\n",
    "\n",
    "```python\n",
    "   .import_generic_device(\n",
    "      name: str, configuration: Union[BytesIO, str], update_topology: bool = False,\n",
    "      customer_id: Optional[int] = None\n",
    "   )\n",
    "```"
   ]
  },
  {
   "cell_type": "code",
   "execution_count": null,
   "id": "ad323084",
   "metadata": {},
   "outputs": [],
   "source": [
    "# what the difference between this and add?\n",
    "device = secure_track.import_generic_device(\"Test\", \"\")\n",
    "# keep getting bad request - what should config look like - its not a get generic device\n",
    "print(device)"
   ]
  },
  {
   "cell_type": "markdown",
   "id": "ed847674",
   "metadata": {},
   "source": [
    "### Sync Topology\n",
    "\n",
    "```python\n",
    "   .sync_topology(\n",
    "      full_sync: bool = False\n",
    "   )\n",
    "```"
   ]
  },
  {
   "cell_type": "code",
   "execution_count": null,
   "id": "3bd8bf50",
   "metadata": {},
   "outputs": [],
   "source": [
    "sync = secure_track.sync_topology()\n",
    "\n",
    "print(sync)"
   ]
  },
  {
   "cell_type": "markdown",
   "id": "e0940da8",
   "metadata": {},
   "source": [
    "### Get Topology Sync Status\n",
    "\n",
    "```python\n",
    "    .get_topology_sync_status()\n",
    "```"
   ]
  },
  {
   "cell_type": "code",
   "execution_count": null,
   "id": "bcf2f6ee",
   "metadata": {},
   "outputs": [],
   "source": [
    "status = secure_track.get_topology_sync_status()\n",
    "\n",
    "print(status)"
   ]
  },
  {
   "cell_type": "markdown",
   "id": "2ab89726",
   "metadata": {},
   "source": [
    "### Add Generic Interface\n",
    "\n",
    "```python\n",
    "    .add_generic_interface(\n",
    "        interface: dict\n",
    "    ) -> None:\n",
    "```"
   ]
  },
  {
   "cell_type": "code",
   "execution_count": null,
   "id": "65370f42",
   "metadata": {},
   "outputs": [],
   "source": [
    "interface = {\n",
    "    \"mgmtId\": 1,\n",
    "    \"name\": \"eth1.5\",\n",
    "    \"ip\": \"10.100.110.99\",\n",
    "    \"mask\": \"255.255.255.0\",\n",
    "    \"mpls\": False,\n",
    "    \"unnumbered\": False,\n",
    "}\n",
    "secure_track.add_generic_interface(interface)"
   ]
  },
  {
   "cell_type": "markdown",
   "id": "005f9ea6",
   "metadata": {},
   "source": [
    "### Add Mulitple Generic Interfaces\n",
    "\n",
    "```python\n",
    "    .add_generic_interfaces(\n",
    "        interfaces: List[dict]\n",
    "    ) -> None:\n",
    "```"
   ]
  },
  {
   "cell_type": "code",
   "execution_count": null,
   "id": "1aaed041",
   "metadata": {},
   "outputs": [],
   "source": [
    "interfaces = [\n",
    "    {\n",
    "        \"mgmtId\": 1,\n",
    "        \"name\": \"newApo1\",\n",
    "        \"ip\": \"100.103.33.31\",\n",
    "        \"mask\": \"255.255.255.0\",\n",
    "        \"vrf\": \"V101-PAL\",\n",
    "        \"mpls\": False,\n",
    "        \"unnumbered\": False,\n",
    "        \"type\": \"external\",\n",
    "    },\n",
    "    {\n",
    "        \"mgmtId\": 1,\n",
    "        \"name\": \"newApo2\",\n",
    "        \"ip\": \"100.103.33.32\",\n",
    "        \"mask\": \"255.255.255.0\",\n",
    "        \"vrf\": \"V101-PA\",\n",
    "        \"mpls\": False,\n",
    "        \"unnumbered\": False,\n",
    "        \"type\": \"external\",\n",
    "    },\n",
    "    {\n",
    "        \"mgmtId\": 1,\n",
    "        \"name\": \"newApo3\",\n",
    "        \"ip\": \"100.103.33.33\",\n",
    "        \"mask\": \"255.255.255.0\",\n",
    "        \"vrf\": \"V101-PA\",\n",
    "        \"mpls\": False,\n",
    "        \"unnumbered\": False,\n",
    "        \"type\": \"internal\",\n",
    "    },\n",
    "]\n",
    "secure_track.add_generic_interfaces(interfaces)"
   ]
  },
  {
   "cell_type": "markdown",
   "id": "610022b8",
   "metadata": {},
   "source": [
    "### Get Generic Interface by ID\n",
    "\n",
    "```python\n",
    "    .get_generic_interface(\n",
    "        device_id: Union[int, str]\n",
    "    ) -> GenericTopologyInterface:\n",
    "```"
   ]
  },
  {
   "cell_type": "code",
   "execution_count": null,
   "id": "c5f1ab71",
   "metadata": {},
   "outputs": [],
   "source": [
    "secure_track.get_generic_interface(42)\n",
    "secure_track.get_generic_interface(\"42\")"
   ]
  },
  {
   "cell_type": "markdown",
   "id": "8be33d21",
   "metadata": {},
   "source": [
    "### Get Generic Interfaces by Management ID\n",
    "\n",
    "```python\n",
    "    .get_generic_interfaces(\n",
    "        mgmt_id: Union[int, str]\n",
    "    ) -> GenericTopologyInterface:\n",
    "```"
   ]
  },
  {
   "cell_type": "code",
   "execution_count": null,
   "id": "094b09f9",
   "metadata": {},
   "outputs": [],
   "source": [
    "secure_track.get_generic_interfaces(1)\n",
    "secure_track.get_generic_interfaces(\"1\")"
   ]
  },
  {
   "cell_type": "markdown",
   "id": "830260d0",
   "metadata": {},
   "source": [
    "### Update Generic Interface\n",
    "\n",
    "```python\n",
    "    .update_generic_interface(\n",
    "        interface: dict\n",
    "    ) -> None:\n",
    "```"
   ]
  },
  {
   "cell_type": "code",
   "execution_count": null,
   "id": "45d5bae2",
   "metadata": {},
   "outputs": [],
   "source": [
    "interface = {\n",
    "    \"id\": 41,\n",
    "    \"mgmtId\": 1,\n",
    "    \"name\": \"eth1.5\",\n",
    "    \"ip\": \"10.100.110.99\",\n",
    "    \"mask\": \"255.255.255.0\",\n",
    "    \"mpls\": False,\n",
    "    \"unnumbered\": False,\n",
    "}\n",
    "secure_track.update_generic_interface(interface)"
   ]
  },
  {
   "cell_type": "markdown",
   "id": "fe336728",
   "metadata": {},
   "source": [
    "### Update Multiple Generic Interfaces\n",
    "\n",
    "```python\n",
    "    .update_generic_interfaces(\n",
    "        interfaces: List[dict]\n",
    "    ) -> None:\n",
    "```"
   ]
  },
  {
   "cell_type": "code",
   "execution_count": null,
   "id": "534dd8ce",
   "metadata": {},
   "outputs": [],
   "source": [
    "interfaces = [\n",
    "    {\n",
    "        \"id\": 42,\n",
    "        \"mgmtId\": 1,\n",
    "        \"name\": \"newApo1\",\n",
    "        \"ip\": \"100.103.33.31\",\n",
    "        \"mask\": \"255.255.255.0\",\n",
    "        \"vrf\": \"V101-PAL\",\n",
    "        \"mpls\": False,\n",
    "        \"unnumbered\": False,\n",
    "        \"type\": \"external\",\n",
    "    },\n",
    "    {\n",
    "        \"id\": 43,\n",
    "        \"mgmtId\": 1,\n",
    "        \"name\": \"newApo2\",\n",
    "        \"ip\": \"100.103.33.32\",\n",
    "        \"mask\": \"255.255.255.0\",\n",
    "        \"vrf\": \"V101-PA\",\n",
    "        \"mpls\": False,\n",
    "        \"unnumbered\": False,\n",
    "        \"type\": \"external\",\n",
    "    },\n",
    "    {\n",
    "        \"id\": 44,\n",
    "        \"mgmtId\": 1,\n",
    "        \"name\": \"newApo3\",\n",
    "        \"ip\": \"100.103.33.33\",\n",
    "        \"mask\": \"255.255.255.0\",\n",
    "        \"vrf\": \"V101-PA\",\n",
    "        \"mpls\": False,\n",
    "        \"unnumbered\": False,\n",
    "        \"type\": \"internal\",\n",
    "    },\n",
    "]\n",
    "secure_track.update_generic_interfaces(interfaces)"
   ]
  },
  {
   "cell_type": "markdown",
   "id": "7b55f5e9",
   "metadata": {},
   "source": [
    "### Delete Generic Inteface by ID\n",
    "\n",
    "```python\n",
    "    .delete_generic_interface(\n",
    "        device_id: Union[int, str]\n",
    "    ) -> None:\n",
    "```"
   ]
  },
  {
   "cell_type": "code",
   "execution_count": null,
   "id": "37cc8fc6",
   "metadata": {},
   "outputs": [],
   "source": [
    "secure_track.delete_generic_interface(41)"
   ]
  },
  {
   "cell_type": "markdown",
   "id": "0d0e5350",
   "metadata": {},
   "source": [
    "### Delete Generic Intefaces by Management ID\n",
    "\n",
    "```python\n",
    "    .delete_generic_interfaces(\n",
    "        mgmt_id: Union[int, str]\n",
    "    ) -> None:\n",
    "```"
   ]
  },
  {
   "cell_type": "code",
   "execution_count": null,
   "id": "db5fe634",
   "metadata": {},
   "outputs": [],
   "source": [
    "secure_track.delete_generic_interfaces(1)"
   ]
  },
  {
   "cell_type": "markdown",
   "id": "1c0daf6c",
   "metadata": {},
   "source": [
    "### Add Generic Route\n",
    "\n",
    "```python\n",
    "    .add_generic_route(\n",
    "        route: dict\n",
    "    ) -> None:\n",
    "```"
   ]
  },
  {
   "cell_type": "code",
   "execution_count": null,
   "id": "4538afeb",
   "metadata": {},
   "outputs": [],
   "source": [
    "route = {\n",
    "    \"mgmtId\": 92,\n",
    "    \"destination\": \"10.4.4.4\",\n",
    "    \"mask\": \"255.0.0.0\",\n",
    "    \"interfaceName\": \"\",\n",
    "    \"nextHop\": \"AA\",\n",
    "    \"nextHopType\": \"VR\",\n",
    "    \"vrf\": \"V102-YO\",\n",
    "}\n",
    "secure_track.add_generic_route(route)"
   ]
  },
  {
   "cell_type": "markdown",
   "id": "5254e530",
   "metadata": {},
   "source": [
    "### Add Generic Routes\n",
    "\n",
    "```python\n",
    "    .add_generic_routes(\n",
    "        routes: List[dict]\n",
    "    ) -> None:\n",
    "```"
   ]
  },
  {
   "cell_type": "code",
   "execution_count": null,
   "id": "c33a1877",
   "metadata": {},
   "outputs": [],
   "source": [
    "routes = [\n",
    "    {\n",
    "        \"mgmtId\": 92,\n",
    "        \"destination\": \"10.4.4.4\",\n",
    "        \"mask\": \"255.0.0.0\",\n",
    "        \"interfaceName\": \"\",\n",
    "        \"nextHop\": \"AA\",\n",
    "        \"nextHopType\": \"VR\",\n",
    "        \"vrf\": \"V102-YO\",\n",
    "    },\n",
    "    {\n",
    "        \"mgmtId\": 92,\n",
    "        \"destination\": \"10.4.5.5\",\n",
    "        \"mask\": \"255.0.0.0\",\n",
    "        \"interfaceName\": \"eeee\",\n",
    "        \"nextHop\": \"\",\n",
    "        \"nextHopType\": \"IP\",\n",
    "        \"vrf\": \"V101-PA\",\n",
    "    },\n",
    "]\n",
    "secure_track.add_generic_routes(routes)"
   ]
  },
  {
   "cell_type": "markdown",
   "id": "07fd0c3f",
   "metadata": {},
   "source": [
    "### Get Generic Route\n",
    "\n",
    "```python\n",
    "    .get_generic_route(\n",
    "        int_id: Union[int, str]\n",
    "    ) -> GenericRoute:\n",
    "```"
   ]
  },
  {
   "cell_type": "code",
   "execution_count": null,
   "id": "58939c97",
   "metadata": {},
   "outputs": [],
   "source": [
    "secure_track.get_generic_route(3)"
   ]
  },
  {
   "cell_type": "markdown",
   "id": "e345a6ec",
   "metadata": {},
   "source": [
    "### Get Generic Routes\n",
    "\n",
    "```python\n",
    "    .get_generic_routes(\n",
    "        mgmt_id: Union[int, str]\n",
    "    ) -> List[GenericRoute]:\n",
    "```"
   ]
  },
  {
   "cell_type": "code",
   "execution_count": null,
   "id": "540260da",
   "metadata": {},
   "outputs": [],
   "source": [
    "secure_track.get_generic_routes(92)"
   ]
  },
  {
   "cell_type": "markdown",
   "id": "80750118",
   "metadata": {},
   "source": [
    "### Update Generic Route\n",
    "\n",
    "```python\n",
    "    .update_generic_route(\n",
    "        route: dict\n",
    "    ) -> None:\n",
    "```"
   ]
  },
  {
   "cell_type": "code",
   "execution_count": null,
   "id": "179bb108",
   "metadata": {},
   "outputs": [],
   "source": [
    "route = {\n",
    "    \"mgmtId\": 92,\n",
    "    \"destination\": \"10.4.4.4\",\n",
    "    \"mask\": \"255.0.0.0\",\n",
    "    \"interfaceName\": \"\",\n",
    "    \"nextHop\": \"AA\",\n",
    "    \"nextHopType\": \"VR\",\n",
    "    \"vrf\": \"V102-YO\",\n",
    "}\n",
    "secure_track.update_generic_route(route)"
   ]
  },
  {
   "cell_type": "markdown",
   "id": "b7c303f4",
   "metadata": {},
   "source": [
    "### Update Generic Routes\n",
    "\n",
    "```python\n",
    "    .update_generic_routes(\n",
    "        routes: List[dict]\n",
    "    ) -> None:\n",
    "```"
   ]
  },
  {
   "cell_type": "code",
   "execution_count": null,
   "id": "8679a89f",
   "metadata": {},
   "outputs": [],
   "source": [
    "routes = [\n",
    "    {\n",
    "        \"mgmtId\": 92,\n",
    "        \"destination\": \"10.4.4.4\",\n",
    "        \"mask\": \"255.0.0.0\",\n",
    "        \"interfaceName\": \"\",\n",
    "        \"nextHop\": \"AA\",\n",
    "        \"nextHopType\": \"VR\",\n",
    "        \"vrf\": \"V102-YO\",\n",
    "    },\n",
    "    {\n",
    "        \"mgmtId\": 92,\n",
    "        \"destination\": \"10.4.5.5\",\n",
    "        \"mask\": \"255.0.0.0\",\n",
    "        \"interfaceName\": \"eeee\",\n",
    "        \"nextHop\": \"\",\n",
    "        \"nextHopType\": \"IP\",\n",
    "        \"vrf\": \"V101-PA\",\n",
    "    },\n",
    "]\n",
    "secure_track.update_generic_routes(routes)"
   ]
  },
  {
   "cell_type": "markdown",
   "id": "2ccd81c1",
   "metadata": {},
   "source": [
    "### Delete Generic Route\n",
    "\n",
    "```python\n",
    "    .delete_generic_route(\n",
    "        int_id: Union[int, str]\n",
    "    ) -> None:\n",
    "```"
   ]
  },
  {
   "cell_type": "code",
   "execution_count": null,
   "id": "de23a209",
   "metadata": {},
   "outputs": [],
   "source": [
    "secure_track.delete_generic_route(3)"
   ]
  },
  {
   "cell_type": "markdown",
   "id": "b8d94431",
   "metadata": {},
   "source": [
    "### Delete Generic Routes\n",
    "\n",
    "```python\n",
    "    .delete_generic_routes(\n",
    "        mgmt_id: Union[int, str]\n",
    "    ) -> None:\n",
    "```"
   ]
  },
  {
   "cell_type": "code",
   "execution_count": null,
   "id": "fc5ad789",
   "metadata": {},
   "outputs": [],
   "source": [
    "secure_track.delete_generic_routes(92)"
   ]
  },
  {
   "cell_type": "markdown",
   "id": "12f5aac1",
   "metadata": {},
   "source": [
    "### Add Generic VPN\n",
    "\n",
    "```python\n",
    "    .add_generic_vpn(\n",
    "        vpn: dict\n",
    "    ) -> None:\n",
    "```"
   ]
  },
  {
   "cell_type": "code",
   "execution_count": null,
   "id": "f89f64e0",
   "metadata": {},
   "outputs": [],
   "source": [
    "vpn = {\n",
    "    \"generic\": True,\n",
    "    \"deviceId\": 182,\n",
    "    \"interfaceName\": \"777\",\n",
    "    \"tunnelSourceIpAddr\": \"1.1.1.177\",\n",
    "    \"tunnelDestIpAddr\": \"1.1.1.188\",\n",
    "}\n",
    "secure_track.add_generic_vpn(vpn)"
   ]
  },
  {
   "cell_type": "markdown",
   "id": "8c0ff7b8",
   "metadata": {},
   "source": [
    "### Add Generic VPNs\n",
    "\n",
    "```python\n",
    "    .add_generic_vpns(\n",
    "        vpns: List[dict]\n",
    "    ) -> None:\n",
    "```"
   ]
  },
  {
   "cell_type": "code",
   "execution_count": null,
   "id": "3779431c",
   "metadata": {},
   "outputs": [],
   "source": [
    "vpns = [\n",
    "    {\n",
    "        \"generic\": True,\n",
    "        \"deviceId\": 182,\n",
    "        \"interfaceName\": \"new33\",\n",
    "        \"vpnName\": None,\n",
    "        \"tunnelSourceIpAddr\": \"3.3.3.33\",\n",
    "        \"tunnelDestIpAddr\": \"1.1.1.11\",\n",
    "    },\n",
    "    {\n",
    "        \"generic\": False,\n",
    "        \"deviceId\": 182,\n",
    "        \"interfaceName\": \"new111\",\n",
    "        \"vpnName\": None,\n",
    "        \"tunnelSourceIpAddr\": \"1.1.1.11\",\n",
    "        \"tunnelDestIpAddr\": \"3.3.3.33\",\n",
    "    },\n",
    "]\n",
    "secure_track.add_generic_vpns(vpns)"
   ]
  },
  {
   "cell_type": "markdown",
   "id": "54291567",
   "metadata": {},
   "source": [
    "### Get Generic VPN\n",
    "\n",
    "```python\n",
    "    .get_generic_vpn(\n",
    "        int_id: Union[int, str]\n",
    "    ) -> GenericVpn:\n",
    "```"
   ]
  },
  {
   "cell_type": "code",
   "execution_count": null,
   "id": "ba06b356",
   "metadata": {},
   "outputs": [],
   "source": [
    "secure_track.get_generic_vpn(1)"
   ]
  },
  {
   "cell_type": "markdown",
   "id": "1fde57d0",
   "metadata": {},
   "source": [
    "### Get Generic VPNs\n",
    "\n",
    "```python\n",
    "    .get_generic_vpns(\n",
    "        device_id: Union[int, str]\n",
    "    ) -> List[GenericVpn]:\n",
    "```"
   ]
  },
  {
   "cell_type": "code",
   "execution_count": null,
   "id": "835ad23a",
   "metadata": {},
   "outputs": [],
   "source": [
    "secure_track.get_generic_vpns(182)"
   ]
  },
  {
   "cell_type": "markdown",
   "id": "4313f707",
   "metadata": {},
   "source": [
    "### Update Generic VPN\n",
    "\n",
    "```python\n",
    "    .update_generic_vpn(\n",
    "        vpn: dict\n",
    "    ) -> None:\n",
    "```"
   ]
  },
  {
   "cell_type": "code",
   "execution_count": null,
   "id": "9fdcf3b8",
   "metadata": {},
   "outputs": [],
   "source": [
    "vpn = {\n",
    "    \"generic\": True,\n",
    "    \"deviceId\": 182,\n",
    "    \"interfaceName\": \"777\",\n",
    "    \"tunnelSourceIpAddr\": \"1.1.1.177\",\n",
    "    \"tunnelDestIpAddr\": \"1.1.1.188\",\n",
    "}\n",
    "secure_track.update_generic_vpn(vpn)"
   ]
  },
  {
   "cell_type": "markdown",
   "id": "a4227752",
   "metadata": {},
   "source": [
    "### Update Generic VPNs\n",
    "\n",
    "```python\n",
    "    .update_generic_vpns(\n",
    "        vpns: List[dict]\n",
    "    ) -> None:\n",
    "```"
   ]
  },
  {
   "cell_type": "code",
   "execution_count": null,
   "id": "4ca92add",
   "metadata": {},
   "outputs": [],
   "source": [
    "vpns = [\n",
    "    {\n",
    "        \"generic\": True,\n",
    "        \"deviceId\": 182,\n",
    "        \"interfaceName\": \"new33\",\n",
    "        \"vpnName\": None,\n",
    "        \"tunnelSourceIpAddr\": \"3.3.3.33\",\n",
    "        \"tunnelDestIpAddr\": \"1.1.1.11\",\n",
    "    },\n",
    "    {\n",
    "        \"generic\": False,\n",
    "        \"deviceId\": 182,\n",
    "        \"interfaceName\": \"new111\",\n",
    "        \"vpnName\": None,\n",
    "        \"tunnelSourceIpAddr\": \"1.1.1.11\",\n",
    "        \"tunnelDestIpAddr\": \"3.3.3.33\",\n",
    "    },\n",
    "]\n",
    "secure_track.update_generic_vpns(vpns)"
   ]
  },
  {
   "cell_type": "markdown",
   "id": "5f73639a",
   "metadata": {},
   "source": [
    "### Delete Generic VPN\n",
    "\n",
    "```python\n",
    "    .delete_generic_vpn(\n",
    "        int_id: Union[int, str]\n",
    "    ) -> None:\n",
    "```"
   ]
  },
  {
   "cell_type": "code",
   "execution_count": null,
   "id": "fb4ea5c3",
   "metadata": {},
   "outputs": [],
   "source": [
    "secure_track.delete_generic_vpn(3)"
   ]
  },
  {
   "cell_type": "markdown",
   "id": "27711563",
   "metadata": {},
   "source": [
    "### Delete Generic VPNs\n",
    "\n",
    "```python\n",
    "    .delete_generic_vpns(\n",
    "        mgmt_id: Union[int, str]\n",
    "    ) -> None:\n",
    "```"
   ]
  },
  {
   "cell_type": "code",
   "execution_count": null,
   "id": "361344cd",
   "metadata": {},
   "outputs": [],
   "source": [
    "secure_track.delete_generic_vpns(92)"
   ]
  },
  {
   "cell_type": "markdown",
   "id": "e7addfbb",
   "metadata": {},
   "source": [
    "### Add Generic Transparent Firewalls\n",
    "\n",
    "```python\n",
    "    .add_generic_transparent_firewalls(\n",
    "        firewalls: List[dict]\n",
    "    ) -> None:\n",
    "```"
   ]
  },
  {
   "cell_type": "code",
   "execution_count": null,
   "id": "628bb49d",
   "metadata": {},
   "outputs": [],
   "source": [
    "firewalls = [\n",
    "    {\n",
    "        \"outputL3DeviceId\": 22,\n",
    "        \"outputL3IsGenericDevice\": False,\n",
    "        \"outputL3InterfaceName\": \"FastEthernet0/0\",\n",
    "        \"layer2DeviceId\": 9,\n",
    "        \"inputL2InterfaceName\": \"inside\",\n",
    "        \"outputL2InterfaceName\": \"outside\",\n",
    "        \"inputL3DeviceId\": 1,\n",
    "        \"inputL3IsGenericDevice\": True,\n",
    "        \"inputL3InterfaceName\": \"interface2\",\n",
    "    },\n",
    "    {\n",
    "        \"outputL3DeviceId\": 23,\n",
    "        \"outputL3IsGenericDevice\": False,\n",
    "        \"outputL3InterfaceName\": \"FastEthernet2/0\",\n",
    "        \"layer2DeviceId\": 9,\n",
    "        \"inputL2InterfaceName\": \"inside\",\n",
    "        \"outputL2InterfaceName\": \"outside\",\n",
    "        \"inputL3DeviceId\": 17,\n",
    "        \"inputL3IsGenericDevice\": False,\n",
    "        \"inputL3InterfaceName\": \"mgmt\",\n",
    "    },\n",
    "]\n",
    "secure_track.add_generic_transparent_firewalls(firewalls)"
   ]
  },
  {
   "cell_type": "markdown",
   "id": "3317c465",
   "metadata": {},
   "source": [
    "### Get Generic Transparent Firewalls\n",
    "\n",
    "```python\n",
    "    .get_generic_transparent_firewalls(\n",
    "        device_id: Union[int, str]\n",
    "    ) -> List[GenericTransparentFirewall]:\n",
    "```"
   ]
  },
  {
   "cell_type": "code",
   "execution_count": null,
   "id": "f80fb854",
   "metadata": {},
   "outputs": [],
   "source": [
    "secure_track.get_generic_transparent_firewalls(92)"
   ]
  },
  {
   "cell_type": "markdown",
   "id": "ce8033ee",
   "metadata": {},
   "source": [
    "### Update Generic Transparent Firewalls\n",
    "\n",
    "```python\n",
    "    .update_generic_transparent_firewalls(\n",
    "        firewalls: List[dict]\n",
    "    ) -> None:\n",
    "```"
   ]
  },
  {
   "cell_type": "code",
   "execution_count": null,
   "id": "689cc718",
   "metadata": {},
   "outputs": [],
   "source": [
    "firewalls = [\n",
    "    {\n",
    "        \"outputL3DeviceId\": 22,\n",
    "        \"outputL3IsGenericDevice\": False,\n",
    "        \"outputL3InterfaceName\": \"FastEthernet0/0\",\n",
    "        \"layer2DeviceId\": 9,\n",
    "        \"inputL2InterfaceName\": \"inside\",\n",
    "        \"outputL2InterfaceName\": \"outside\",\n",
    "        \"inputL3DeviceId\": 1,\n",
    "        \"inputL3IsGenericDevice\": True,\n",
    "        \"inputL3InterfaceName\": \"interface2\",\n",
    "    },\n",
    "    {\n",
    "        \"outputL3DeviceId\": 23,\n",
    "        \"outputL3IsGenericDevice\": False,\n",
    "        \"outputL3InterfaceName\": \"FastEthernet2/0\",\n",
    "        \"layer2DeviceId\": 9,\n",
    "        \"inputL2InterfaceName\": \"inside\",\n",
    "        \"outputL2InterfaceName\": \"outside\",\n",
    "        \"inputL3DeviceId\": 17,\n",
    "        \"inputL3IsGenericDevice\": False,\n",
    "        \"inputL3InterfaceName\": \"mgmt\",\n",
    "    },\n",
    "]\n",
    "secure_track.update_generic_transparent_firewalls(firewalls)"
   ]
  },
  {
   "cell_type": "markdown",
   "id": "3a1f9e73",
   "metadata": {},
   "source": [
    "### Delete Generic Transparent Firewalls\n",
    "\n",
    "```python\n",
    "    .delete_generic_transparent_firewall(\n",
    "        layer_2_data_id: Union[int, str]\n",
    "    ) -> None:\n",
    "```"
   ]
  },
  {
   "cell_type": "code",
   "execution_count": null,
   "id": "f555070f",
   "metadata": {},
   "outputs": [],
   "source": [
    "secure_track.delete_generic_transparent_firewall(3)"
   ]
  },
  {
   "cell_type": "markdown",
   "id": "71b84520",
   "metadata": {},
   "source": [
    "### Delete Generic Transparent Firewalls\n",
    "\n",
    "```python\n",
    "    .delete_generic_transparent_firewalls(\n",
    "        device_id: Union[int, str]\n",
    "    ) -> None:\n",
    "```"
   ]
  },
  {
   "cell_type": "code",
   "execution_count": null,
   "id": "3d2a19e8",
   "metadata": {},
   "outputs": [],
   "source": [
    "secure_track.delete_generic_transparent_firewalls(92)"
   ]
  }
 ],
 "metadata": {
  "kernelspec": {
   "display_name": "Python 3.8.13 64-bit ('docs')",
   "language": "python",
   "name": "python3"
  },
  "language_info": {
   "codemirror_mode": {
    "name": "ipython",
    "version": 3
   },
   "file_extension": ".py",
   "mimetype": "text/x-python",
   "name": "python",
   "nbconvert_exporter": "python",
   "pygments_lexer": "ipython3"
  },
  "vscode": {
   "interpreter": {
    "hash": "7c41d00e68c286b46b1860afd24cc5d8a2454061bfe8b52d5948d3f50d434aa2"
   }
  }
 },
 "nbformat": 4,
 "nbformat_minor": 5
}
