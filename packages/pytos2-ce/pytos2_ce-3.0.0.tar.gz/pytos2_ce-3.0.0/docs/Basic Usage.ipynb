{
 "cells": [
  {
   "attachments": {},
   "cell_type": "markdown",
   "metadata": {},
   "source": [
    "Installation\n",
    "============\n",
    "[Git](https://git-scm.com) is a prerequisite for installation. Also, development using either\n",
    "[`venv`](https://docs.python.org/3/library/venv.html#creating-virtual-environments)\n",
    "or [Docker](https://docs.docker.com/get-docker/)\n",
    "is recommended.\n",
    "\n",
    "`pytos2` CE is currently *not* yet available on [PyPI](https://pypi.org). To install, use\n",
    "the following [`pip`](https://pypi.org/project/pip/) command:\n"
   ]
  },
  {
   "cell_type": "code",
   "execution_count": null,
   "metadata": {},
   "outputs": [],
   "source": [
    "# PRODUCTION INSTALL\n",
    "# %pip install python-dotenv git+https://gitlab.com/tufinps/pytos2-ce\n",
    "\n",
    "# LOCAL DEVELOPMENT\n",
    "%pip uninstall pytos2-ce -y\n",
    "%pip install python-dotenv\n",
    "%pip install ../../pytos2-ce"
   ]
  },
  {
   "attachments": {},
   "cell_type": "markdown",
   "metadata": {},
   "source": [
    "Setup\n",
    "=====\n",
    "`pytos2` CE recommends setting the following environment variables while using this library. They can either be set directly in the environment using a method of your choice, or you can use [python-dotenv](https://saurabh-kumar.com/python-dotenv/).\n",
    "\n",
    "- `HOST`: The hostname \n",
    "- `USER`: The username \n",
    "- `PASS`: The password\n",
    "\n",
    "These values can be editted in the `.env` file or overwritten in-line in the example below"
   ]
  },
  {
   "cell_type": "code",
   "execution_count": null,
   "metadata": {},
   "outputs": [],
   "source": [
    "# %load init.py\n",
    "from dotenv import dotenv_values\n",
    "from pytos2.secureapp import Sa as SecureApp\n",
    "from pytos2.securechange import Scw as SecureChange\n",
    "from pytos2.securetrack import St as SecureTrack\n",
    "from helpers import pp, pretty, ugly, pretty_json, ugly_json\n",
    "\n",
    "\n",
    "# Loads our config\n",
    "config = dotenv_values(\".env\")\n",
    "\n",
    "# Override or Use Config Values (Strings must be empty to use config - any value in string will be truthy)\n",
    "HOST = \"\" or config[\"HOST\"]\n",
    "USER = \"\" or config[\"USER\"]\n",
    "PASS = \"\" or config[\"PASS\"]\n",
    "\n",
    "# Instantiate Classes\n",
    "secure_app = SecureApp(HOST, USER, PASS)\n",
    "secure_change = SecureChange(HOST, USER, PASS)\n",
    "secure_track = SecureTrack(HOST, USER, PASS)"
   ]
  },
  {
   "attachments": {},
   "cell_type": "markdown",
   "metadata": {},
   "source": [
    "### SecureChange\n",
    "The following example will walk a SecureChange `Ticket` belonging to a\n",
    "hypothetical `Workflow` from start to finish using `pytos2` CE,\n",
    "showcasing its most-commonly-used features.\n",
    "\n",
    "First, set up the `Scw` instance. This class instance will be\n",
    "responsible for all SecureChange interactions:\n",
    "\n",
    "#### Step 1\n",
    "The first step of the sample `Workflow` we will be using is\n",
    "enpictured here:\n",
    "\n",
    "![Example Ticket Step #1](./assets/securechange-step-1.png)\n",
    "\n",
    "Since our `Ticket` has ID #2335, let's fetch the `Ticket` by id\n",
    "with the following:"
   ]
  },
  {
   "cell_type": "code",
   "execution_count": null,
   "metadata": {},
   "outputs": [],
   "source": [
    "ticket = secure_change.get_ticket(2335)"
   ]
  },
  {
   "attachments": {},
   "cell_type": "markdown",
   "metadata": {},
   "source": [
    "With that being successful, let's move on to `Step` #2.\n",
    "\n",
    "#### Step 2\n",
    "![Example Ticket Step #2](./assets/securechange-step-2.png)\n",
    "\n",
    "Now that we have the ticket, let's copy the Hyperlink field\n",
    "\"Website\" from `Step` 1 to `Step` 2. (Technically, we'll be moving\n",
    "the hyperlink from the first `Task` of `Step` 1 to the first\n",
    "`Task` of `Step` 2, but since this example isn't using dynamic\n",
    "assignment, we'll assume going forward that \"`Step` N\" is\n",
    "referring to the first `Task` of \"`Step` N\"). First, let's\n",
    "retrieve the value of the field on `Step 1` by name:"
   ]
  },
  {
   "cell_type": "code",
   "execution_count": null,
   "metadata": {},
   "outputs": [],
   "source": [
    "hyperlink = ticket.steps[0].last_task.get_field(\"Website\")"
   ]
  },
  {
   "attachments": {},
   "cell_type": "markdown",
   "metadata": {},
   "source": [
    "Great! Now, let's copy it to our current step's \"Website\" field:"
   ]
  },
  {
   "cell_type": "code",
   "execution_count": null,
   "metadata": {},
   "outputs": [],
   "source": [
    "from pytos2.securechange.fields import Hyperlink\n",
    "\n",
    "current_hyperlink: Hyperlink = ticket.last_task.get_field(\"Website\")\n",
    "\n",
    "current_hyperlink.url = hyperlink.url\n",
    "\n",
    "ticket = ticket.save()"
   ]
  },
  {
   "attachments": {},
   "cell_type": "markdown",
   "metadata": {},
   "source": [
    "*N.B.:* We are making the result of the saved `Ticket` our new\n",
    "working `Ticket`, as the prior `Ticket`-in-memory would be\n",
    "invalidated at this point (since we just saved it; `Ticket`s do not currently update in-place).\n",
    "\n",
    "If all has gone right, let's go back to SecureChange proper and\n",
    "refresh our `Ticket`'s at `Step` 2:\n",
    "\n",
    "![Example Ticket Step #2, Edit #1](./assets/securechange-step-2-edit-1.png)\n",
    "\n",
    "Excellent. Now let's also programatically fill out the \"Services\" and \"Service Expiration\" fields, and advance the `Ticket`:"
   ]
  },
  {
   "cell_type": "code",
   "execution_count": null,
   "metadata": {},
   "outputs": [],
   "source": [
    "from pytos2.securechange.fields import MultipleSelection, Date\n",
    "from datetime import date\n",
    "\n",
    "services: MultipleSelection = ticket.last_task.get_field(\"Services\")\n",
    "services.selected_options.append(services.options[0])\n",
    "services.selected_options.append(services.options[2])\n",
    "\n",
    "\n",
    "expiration: Date = ticket.last_task.get_field(\"Service Expiration\")\n",
    "expiration.date = date(2021, 12, 22)\n",
    "\n",
    "ticket = ticket.advance()"
   ]
  },
  {
   "attachments": {},
   "cell_type": "markdown",
   "metadata": {},
   "source": [
    "Double-checking with SecureChange, we indeed see that `Step` 2 has\n",
    "the corresponding fields updated, and that the `Ticket` has been\n",
    "advanced to the final step, `Step` 3:\n",
    "\n",
    "![Example Ticket Step #2, Edit #2](./assets/securechange-step-2-edit-2.png)\n",
    "\n",
    "#### Step 3\n",
    "`Step` 3 is the \"Approval\" step. In it, we'll accept this Service Change Request with an appropriate reason and check the \"terms and conditions\" checkbox programatically.\n",
    "\n",
    "![Example Ticket Step #3](./assets/securechange-step-3.png)\n"
   ]
  },
  {
   "cell_type": "code",
   "execution_count": null,
   "metadata": {},
   "outputs": [],
   "source": [
    "from pytos2.securechange.fields import ApproveReject\n",
    "\n",
    "approval: ApproveReject = ticket.last_task.get_field(\"Approve\")\n",
    "approval.approved = True\n",
    "approval.reason = \"This service looks reasonable.\""
   ]
  },
  {
   "attachments": {},
   "cell_type": "markdown",
   "metadata": {},
   "source": [
    "Now, let's check the checkbox.\n",
    "\n",
    " `pytos2` CE offers more than one\n",
    "way to access `Step` fields. We've already seen\n",
    "`ticket.task.get_field`, but there's also the `ticket.task.fields` property:"
   ]
  },
  {
   "cell_type": "code",
   "execution_count": null,
   "metadata": {},
   "outputs": [],
   "source": [
    "from typing import List\n",
    "from pytos2.securechange.fields import FieldType\n",
    "\n",
    "fields: List[FieldType] = ticket.last_task.get_fields"
   ]
  },
  {
   "attachments": {},
   "cell_type": "markdown",
   "metadata": {},
   "source": [
    "Let's access and check the checkbox with this method:"
   ]
  },
  {
   "cell_type": "code",
   "execution_count": null,
   "metadata": {},
   "outputs": [],
   "source": [
    "from pytos2.securechange.fields import Checkbox\n",
    "\n",
    "checkbox: Checkbox = ticket.last_task.fields[-1]\n",
    "checkbox.value = True"
   ]
  },
  {
   "attachments": {},
   "cell_type": "markdown",
   "metadata": {},
   "source": [
    "In production environments, you'll often want to use\n",
    "`ticket.task.get_field` instead of get-by-index because if fields are ever reordered, your indexing code\n",
    "will be broken. And while its entirely possible for field names to\n",
    "change, they do so less frequently - and when they are, name changes are\n",
    "easier to deal with than abstract indexes.\n",
    "\n",
    "Finally, let's close `ticket`. All we need to do is advance the ticket, and if it's on the last step, SecureChange will close it automatically:"
   ]
  },
  {
   "cell_type": "code",
   "execution_count": null,
   "metadata": {},
   "outputs": [],
   "source": [
    "ticket = ticket.advance()"
   ]
  },
  {
   "attachments": {},
   "cell_type": "markdown",
   "metadata": {},
   "source": [
    "\n",
    "As expected, visiting that same `Ticket` in SecureChange will show both the changes we've made, and that the `Ticket` is indeed closed!:\n",
    "\n",
    "![Example Ticket, Closed](./assets/securechange-closed.png)"
   ]
  }
 ],
 "metadata": {
  "kernelspec": {
   "display_name": "docs",
   "language": "python",
   "name": "python3"
  },
  "language_info": {
   "codemirror_mode": {
    "name": "ipython",
    "version": 3
   },
   "file_extension": ".py",
   "mimetype": "text/x-python",
   "name": "python",
   "nbconvert_exporter": "python",
   "pygments_lexer": "ipython3"
  },
  "vscode": {
   "interpreter": {
    "hash": "7c41d00e68c286b46b1860afd24cc5d8a2454061bfe8b52d5948d3f50d434aa2"
   }
  }
 },
 "nbformat": 4,
 "nbformat_minor": 2
}
