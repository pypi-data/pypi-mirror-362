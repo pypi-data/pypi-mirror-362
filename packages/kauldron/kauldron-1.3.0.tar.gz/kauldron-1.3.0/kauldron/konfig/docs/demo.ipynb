{
  "cells": [
    {
      "cell_type": "markdown",
      "metadata": {
        "id": "SeyHxjHl7E02"
      },
      "source": [
        "# Konfig - Demo\n",
        "\n",
        "\n",
        "\n",
        "`konfig` is a wrapper around `ml_collection.ConfigDict`.\n",
        "\n",
        "It allows to turn any Python function call /class construction into a nested dict which can be serialized/deserialized.\n",
        "\n",
        "This unlocks (among others) type checking and autocomplete inside configuration files."
      ]
    },
    {
      "cell_type": "markdown",
      "metadata": {
        "id": "VE8SGGr8ZC8G"
      },
      "source": [
        "## Imports"
      ]
    },
    {
      "cell_type": "markdown",
      "metadata": {
        "id": "nNj50BqrZyP6"
      },
      "source": [
        "\n",
        "\n",
        "Import `konfig`:"
      ]
    },
    {
      "cell_type": "code",
      "execution_count": null,
      "metadata": {
        "id": "bH31xAx-3Jr6"
      },
      "outputs": [],
      "source": [
        "from etils.lazy_imports import *\n",
        "\n",
        "with ecolab.adhoc():\n",
        "  from kauldron import konfig"
      ]
    },
    {
      "cell_type": "markdown",
      "metadata": {
        "id": "ZIpesrJlWAf8"
      },
      "source": [
        "## End-to-end example\n",
        "\n",
        "Here is a short example demonstrating how `konfig` work:\n"
      ]
    },
    {
      "cell_type": "code",
      "execution_count": null,
      "metadata": {
        "id": "ZMzFtjqrWCzv"
      },
      "outputs": [],
      "source": [
        "# Step 1: Import your modules you want to be configurable (can be any module)\n",
        "with konfig.imports():\n",
        "  from flax import linen as nn\n",
        "\n",
        "# Step 2: Create your configuration. **Nothing is executed yet!!**\n",
        "model_cfg = nn.Dense(features=32)  # This create a `ConfigDict` !!!\n",
        "\n",
        "# Step 3: The `ConfigDict` object can optionally be mutated\n",
        "model_cfg.use_bias = True\n",
        "\n",
        "# Step 4: Resolve the `ConfigDict` -\u003e Python object\n",
        "# This is where the actual `nn.Dense` object is created\n",
        "model = konfig.resolve(model_cfg)"
      ]
    },
    {
      "cell_type": "markdown",
      "metadata": {
        "id": "MJS5utMa_NDG"
      },
      "source": [
        "Let's see those steps in more details."
      ]
    },
    {
      "cell_type": "markdown",
      "metadata": {
        "id": "kk0KSdOm8rUo"
      },
      "source": [
        "## Basic usage\n",
        "\n",
        "### Create a config (from any Python objects)\n",
        "\n",
        "Here is a nested Python call that get executed (can be any function, modules,...):"
      ]
    },
    {
      "cell_type": "code",
      "execution_count": null,
      "metadata": {
        "id": "NyR0xCKb8z0c"
      },
      "outputs": [],
      "source": [
        "from flax import linen as nn\n",
        "\n",
        "model = nn.Sequential(layers=[\n",
        "    nn.Dense(features=32),\n",
        "    nn.Dropout(rate=0.5),\n",
        "])"
      ]
    },
    {
      "cell_type": "markdown",
      "metadata": {
        "id": "IZPVrwRT9N1k"
      },
      "source": [
        "By wrapping the call inside a `with konfig.mock_modules():` contextmanager, the nested call is turned into a nested `konfig.ConfigDict` object, rather than being executed:"
      ]
    },
    {
      "cell_type": "code",
      "execution_count": null,
      "metadata": {
        "colab": {
          "height": 149
        },
        "executionInfo": {
          "elapsed": 67,
          "status": "ok",
          "timestamp": 1701098363195,
          "user": {
            "displayName": "",
            "userId": ""
          },
          "user_tz": -60
        },
        "id": "qD3ZzsrF9dRu",
        "outputId": "594eb538-1018-4c8a-ff3b-ceb141bf04ea"
      },
      "outputs": [
        {
          "data": {
            "text/html": [
              "\u003cstyle\u003e/*\n",
              "Colab colors\n",
              "\n",
              "Forked from\n",
              "https://github.com/highlightjs/highlight.js/blob/main/src/styles/default.css\n",
              "\n",
              "TODO(epot): Is there a way to use Colab native `--syntax-class-color`,...\n",
              "directly ?\n",
              "\n",
              "*/\n",
              "\n",
              ".hljs {\n",
              "  /* --color: #f8f8f2; */\n",
              "  --background-color: #f7f7f7;\n",
              "  --property-color: #087db2;\n",
              "  --string-color: #a31515;\n",
              "  --number-color: #008000;\n",
              "  --boolean-color: #0000ff;\n",
              "  --null-color: #af00db;\n",
              "  --preview-color: #888888;\n",
              "\n",
              "  /* color: var(--color); */\n",
              "  font-family: monospace;\n",
              "  font-size: 14px;\n",
              "}\n",
              "\n",
              "html[theme=dark] .hljs {\n",
              "  --background-color: #2c2c2c;\n",
              "  --property-color: #6fb3d2;\n",
              "  --string-color: #ce9178;\n",
              "  --number-color: #b5cea8;\n",
              "  --boolean-color: #569cd6;\n",
              "  --null-color: #c586c0;\n",
              "  --preview-color: #888888;\n",
              "}\n",
              "\n",
              "\n",
              "pre code.hljs {\n",
              "  /* background-color: var(--background-color); */\n",
              "  display: block;\n",
              "  padding: 1em;\n",
              "}\n",
              "\n",
              ".hljs-comment {\n",
              "  color: var(--preview-color);\n",
              "}\n",
              "\n",
              ".hljs-keyword {\n",
              "  color: var(--null-color);\n",
              "}\n",
              "\n",
              ".hljs-string {\n",
              "  color: var(--string-color);\n",
              "}\n",
              "\n",
              ".hljs-number {\n",
              "  color: var(--number-color);\n",
              "}\n",
              "\n",
              ".hljs-literal {\n",
              "  color: var(--boolean-color);\n",
              "}\n",
              "\u003c/style\u003e\n",
              "\u003cscript src=\"//cdnjs.cloudflare.com/ajax/libs/highlight.js/11.7.0/highlight.min.js\"\u003e\u003c/script\u003e\n",
              "\u003cscript\u003ehljs.highlightAll();\u003c/script\u003e\n",
              "\u003cpre\u003e\u003ccode class=\"language-python\"\u003e\u0026lt;ConfigDict[nn.Sequential(\n",
              "    layers=[\n",
              "        nn.Dense(features=32),\n",
              "        nn.Dropout(rate=0.5),\n",
              "    ],\n",
              ")]\u0026gt;\u003c/code\u003e\u003c/pre\u003e"
            ],
            "text/plain": [
              "\u003cConfigDict[nn.Sequential(\n",
              "    layers=[\n",
              "        nn.Dense(features=32),\n",
              "        nn.Dropout(rate=0.5),\n",
              "    ],\n",
              ")]\u003e"
            ]
          },
          "metadata": {},
          "output_type": "display_data"
        }
      ],
      "source": [
        "with konfig.mock_modules():\n",
        "  model_cfg = nn.Sequential(layers=[  # model_cfg is a ConfigDict ! Not nn.Sequential!\n",
        "      nn.Dense(features=32),\n",
        "      nn.Dropout(rate=0.5),\n",
        "  ]);"
      ]
    },
    {
      "cell_type": "markdown",
      "metadata": {
        "id": "COnl_S3FSqzh"
      },
      "source": [
        "An equivalent to build the config is to import the module in a `with kontext.imports():` contextmanager:"
      ]
    },
    {
      "cell_type": "code",
      "execution_count": null,
      "metadata": {
        "colab": {
          "height": 149
        },
        "executionInfo": {
          "elapsed": 56,
          "status": "ok",
          "timestamp": 1701098366830,
          "user": {
            "displayName": "",
            "userId": ""
          },
          "user_tz": -60
        },
        "id": "1Xp10Tp0Sq85",
        "outputId": "fc6850ab-93ad-4e95-9c2f-eee2ce3235ad"
      },
      "outputs": [
        {
          "data": {
            "text/html": [
              "\u003cstyle\u003e/*\n",
              "Colab colors\n",
              "\n",
              "Forked from\n",
              "https://github.com/highlightjs/highlight.js/blob/main/src/styles/default.css\n",
              "\n",
              "TODO(epot): Is there a way to use Colab native `--syntax-class-color`,...\n",
              "directly ?\n",
              "\n",
              "*/\n",
              "\n",
              ".hljs {\n",
              "  /* --color: #f8f8f2; */\n",
              "  --background-color: #f7f7f7;\n",
              "  --property-color: #087db2;\n",
              "  --string-color: #a31515;\n",
              "  --number-color: #008000;\n",
              "  --boolean-color: #0000ff;\n",
              "  --null-color: #af00db;\n",
              "  --preview-color: #888888;\n",
              "\n",
              "  /* color: var(--color); */\n",
              "  font-family: monospace;\n",
              "  font-size: 14px;\n",
              "}\n",
              "\n",
              "html[theme=dark] .hljs {\n",
              "  --background-color: #2c2c2c;\n",
              "  --property-color: #6fb3d2;\n",
              "  --string-color: #ce9178;\n",
              "  --number-color: #b5cea8;\n",
              "  --boolean-color: #569cd6;\n",
              "  --null-color: #c586c0;\n",
              "  --preview-color: #888888;\n",
              "}\n",
              "\n",
              "\n",
              "pre code.hljs {\n",
              "  /* background-color: var(--background-color); */\n",
              "  display: block;\n",
              "  padding: 1em;\n",
              "}\n",
              "\n",
              ".hljs-comment {\n",
              "  color: var(--preview-color);\n",
              "}\n",
              "\n",
              ".hljs-keyword {\n",
              "  color: var(--null-color);\n",
              "}\n",
              "\n",
              ".hljs-string {\n",
              "  color: var(--string-color);\n",
              "}\n",
              "\n",
              ".hljs-number {\n",
              "  color: var(--number-color);\n",
              "}\n",
              "\n",
              ".hljs-literal {\n",
              "  color: var(--boolean-color);\n",
              "}\n",
              "\u003c/style\u003e\n",
              "\u003cscript src=\"//cdnjs.cloudflare.com/ajax/libs/highlight.js/11.7.0/highlight.min.js\"\u003e\u003c/script\u003e\n",
              "\u003cscript\u003ehljs.highlightAll();\u003c/script\u003e\n",
              "\u003cpre\u003e\u003ccode class=\"language-python\"\u003e\u0026lt;ConfigDict[nn.Sequential(\n",
              "    layers=[\n",
              "        nn.Dense(features=32),\n",
              "        nn.Dropout(rate=0.5),\n",
              "    ],\n",
              ")]\u0026gt;\u003c/code\u003e\u003c/pre\u003e"
            ],
            "text/plain": [
              "\u003cConfigDict[nn.Sequential(\n",
              "    layers=[\n",
              "        nn.Dense(features=32),\n",
              "        nn.Dropout(rate=0.5),\n",
              "    ],\n",
              ")]\u003e"
            ]
          },
          "metadata": {},
          "output_type": "display_data"
        }
      ],
      "source": [
        "with konfig.imports():\n",
        "  from flax import linen as nn\n",
        "\n",
        "model_cfg = nn.Sequential(layers=[\n",
        "    nn.Dense(features=32),\n",
        "    nn.Dropout(rate=0.5),\n",
        "]);"
      ]
    },
    {
      "cell_type": "markdown",
      "metadata": {
        "id": "QBEw4L3OS_qi"
      },
      "source": [
        "To summarize: Turn any Python call into configurable with either:\n",
        "\n",
        "* `with kontext.imports():` Import modules will then create `ConfigDict` when used\n",
        "* `with konfig.mock_modules():` To locally make modules create `ConfigDict`\n"
      ]
    },
    {
      "cell_type": "markdown",
      "metadata": {
        "id": "krDEEgqGSOiT"
      },
      "source": [
        "### Mutate the config"
      ]
    },
    {
      "cell_type": "markdown",
      "metadata": {
        "id": "HmkQ1OKKD2Tv"
      },
      "source": [
        "The `ConfigDict` object can be mutated (directly or through command line), like:"
      ]
    },
    {
      "cell_type": "code",
      "execution_count": null,
      "metadata": {
        "colab": {
          "height": 201
        },
        "executionInfo": {
          "elapsed": 55,
          "status": "ok",
          "timestamp": 1701098368239,
          "user": {
            "displayName": "",
            "userId": ""
          },
          "user_tz": -60
        },
        "id": "SwQe0xGoD0Wc",
        "outputId": "bf1eb477-6c30-40fd-bf11-39324221423b"
      },
      "outputs": [
        {
          "data": {
            "text/html": [
              "\u003cstyle\u003e/*\n",
              "Colab colors\n",
              "\n",
              "Forked from\n",
              "https://github.com/highlightjs/highlight.js/blob/main/src/styles/default.css\n",
              "\n",
              "TODO(epot): Is there a way to use Colab native `--syntax-class-color`,...\n",
              "directly ?\n",
              "\n",
              "*/\n",
              "\n",
              ".hljs {\n",
              "  /* --color: #f8f8f2; */\n",
              "  --background-color: #f7f7f7;\n",
              "  --property-color: #087db2;\n",
              "  --string-color: #a31515;\n",
              "  --number-color: #008000;\n",
              "  --boolean-color: #0000ff;\n",
              "  --null-color: #af00db;\n",
              "  --preview-color: #888888;\n",
              "\n",
              "  /* color: var(--color); */\n",
              "  font-family: monospace;\n",
              "  font-size: 14px;\n",
              "}\n",
              "\n",
              "html[theme=dark] .hljs {\n",
              "  --background-color: #2c2c2c;\n",
              "  --property-color: #6fb3d2;\n",
              "  --string-color: #ce9178;\n",
              "  --number-color: #b5cea8;\n",
              "  --boolean-color: #569cd6;\n",
              "  --null-color: #c586c0;\n",
              "  --preview-color: #888888;\n",
              "}\n",
              "\n",
              "\n",
              "pre code.hljs {\n",
              "  /* background-color: var(--background-color); */\n",
              "  display: block;\n",
              "  padding: 1em;\n",
              "}\n",
              "\n",
              ".hljs-comment {\n",
              "  color: var(--preview-color);\n",
              "}\n",
              "\n",
              ".hljs-keyword {\n",
              "  color: var(--null-color);\n",
              "}\n",
              "\n",
              ".hljs-string {\n",
              "  color: var(--string-color);\n",
              "}\n",
              "\n",
              ".hljs-number {\n",
              "  color: var(--number-color);\n",
              "}\n",
              "\n",
              ".hljs-literal {\n",
              "  color: var(--boolean-color);\n",
              "}\n",
              "\u003c/style\u003e\n",
              "\u003cscript src=\"//cdnjs.cloudflare.com/ajax/libs/highlight.js/11.7.0/highlight.min.js\"\u003e\u003c/script\u003e\n",
              "\u003cscript\u003ehljs.highlightAll();\u003c/script\u003e\n",
              "\u003cpre\u003e\u003ccode class=\"language-python\"\u003e\u0026lt;ConfigDict[nn.Sequential(\n",
              "    layers=[\n",
              "        nn.Dense(\n",
              "            features=64,\n",
              "            use_bias=False,\n",
              "        ),\n",
              "        nn.Dropout(rate=0.9),\n",
              "    ],\n",
              ")]\u0026gt;\u003c/code\u003e\u003c/pre\u003e"
            ],
            "text/plain": [
              "\u003cConfigDict[nn.Sequential(\n",
              "    layers=[\n",
              "        nn.Dense(\n",
              "            features=64,\n",
              "            use_bias=False,\n",
              "        ),\n",
              "        nn.Dropout(rate=0.9),\n",
              "    ],\n",
              ")]\u003e"
            ]
          },
          "execution_count": 26,
          "metadata": {},
          "output_type": "execute_result"
        }
      ],
      "source": [
        "model_cfg.layers[0].features = 64\n",
        "model_cfg.layers[0].use_bias = False\n",
        "model_cfg.layers[1].rate = 0.9\n",
        "model_cfg"
      ]
    },
    {
      "cell_type": "markdown",
      "metadata": {
        "id": "KlLPRAZm-IHN"
      },
      "source": [
        "See `Advanced` section bellow for mutating `args`, changing the class,..."
      ]
    },
    {
      "cell_type": "markdown",
      "metadata": {
        "id": "sG9fKB0YEqOv"
      },
      "source": [
        "### Resolve the config\n",
        "\n",
        "Once the config has been updated, it can be resolved into the actual object:"
      ]
    },
    {
      "cell_type": "code",
      "execution_count": null,
      "metadata": {
        "colab": {
          "height": 382
        },
        "executionInfo": {
          "elapsed": 57,
          "status": "ok",
          "timestamp": 1701098369197,
          "user": {
            "displayName": "",
            "userId": ""
          },
          "user_tz": -60
        },
        "id": "nNuDujx-9nZU",
        "outputId": "6dc56ad4-f463-4617-d5fc-9148057086d4"
      },
      "outputs": [
        {
          "data": {
            "text/plain": [
              "Sequential(\n",
              "    # attributes\n",
              "    layers = (Dense(\n",
              "        # attributes\n",
              "        features = 64\n",
              "        use_bias = False\n",
              "        dtype = None\n",
              "        param_dtype = float32\n",
              "        precision = None\n",
              "        kernel_init = init\n",
              "        bias_init = zeros\n",
              "        dot_general = None\n",
              "        dot_general_cls = None\n",
              "    ), Dropout(\n",
              "        # attributes\n",
              "        rate = 0.9\n",
              "        broadcast_dims = ()\n",
              "        deterministic = None\n",
              "        rng_collection = 'dropout'\n",
              "    ))\n",
              ")"
            ]
          },
          "metadata": {},
          "output_type": "display_data"
        }
      ],
      "source": [
        "model = konfig.resolve(model_cfg);"
      ]
    },
    {
      "cell_type": "markdown",
      "metadata": {
        "id": "ppVWChfxFLHh"
      },
      "source": [
        "To summarize:\n",
        "\n",
        "* `model_cfg` is the `ConfigDict` (mutable), created inside the `with konfig.mock_modules():` contextmanager\n",
        "* `model` is the resolved object (after calling `konfig.resolve`)"
      ]
    },
    {
      "cell_type": "code",
      "execution_count": null,
      "metadata": {
        "id": "g3oYbNMHFEvR"
      },
      "outputs": [],
      "source": [
        "assert isinstance(model_cfg, konfig.ConfigDict)\n",
        "assert isinstance(model, flax.linen.Module)"
      ]
    },
    {
      "cell_type": "markdown",
      "metadata": {
        "id": "p2PIz8AkSR5K"
      },
      "source": [
        "### Serialize the config"
      ]
    },
    {
      "cell_type": "markdown",
      "metadata": {
        "id": "fFPA7yYzCIw5"
      },
      "source": [
        "`ConfigDict` objects are just very simple nested dict that are human readable and easily serializable:"
      ]
    },
    {
      "cell_type": "code",
      "execution_count": null,
      "metadata": {
        "executionInfo": {
          "elapsed": 4,
          "status": "ok",
          "timestamp": 1701098448016,
          "user": {
            "displayName": "",
            "userId": ""
          },
          "user_tz": -60
        },
        "id": "4eh215Jf93za",
        "outputId": "8406db3b-720b-4d0e-8953-f6763b89e512"
      },
      "outputs": [
        {
          "name": "stdout",
          "output_type": "stream",
          "text": [
            "{\n",
            "    '__qualname__': 'flax.linen:Sequential',\n",
            "    'layers': [\n",
            "        {\n",
            "            '__qualname__': 'flax.linen:Dense',\n",
            "            'features': 64,\n",
            "            'use_bias': False,\n",
            "        },\n",
            "        {\n",
            "            '__qualname__': 'flax.linen:Dropout',\n",
            "            'rate': 0.9,\n",
            "        },\n",
            "    ],\n",
            "}\n"
          ]
        }
      ],
      "source": [
        "serialized_dict = json.loads(model_cfg.to_json());p"
      ]
    },
    {
      "cell_type": "markdown",
      "metadata": {
        "id": "mXbA7AnEUgaM"
      },
      "source": [
        "Deserialization done by passing the json dict to `konfig.ConfigDict`:"
      ]
    },
    {
      "cell_type": "code",
      "execution_count": null,
      "metadata": {
        "colab": {
          "height": 201
        },
        "executionInfo": {
          "elapsed": 54,
          "status": "ok",
          "timestamp": 1701098451181,
          "user": {
            "displayName": "",
            "userId": ""
          },
          "user_tz": -60
        },
        "id": "6nPssKstUcsk",
        "outputId": "4079509a-33b5-4d83-ebee-a4b14d5fedec"
      },
      "outputs": [
        {
          "data": {
            "text/html": [
              "\u003cstyle\u003e/*\n",
              "Colab colors\n",
              "\n",
              "Forked from\n",
              "https://github.com/highlightjs/highlight.js/blob/main/src/styles/default.css\n",
              "\n",
              "TODO(epot): Is there a way to use Colab native `--syntax-class-color`,...\n",
              "directly ?\n",
              "\n",
              "*/\n",
              "\n",
              ".hljs {\n",
              "  /* --color: #f8f8f2; */\n",
              "  --background-color: #f7f7f7;\n",
              "  --property-color: #087db2;\n",
              "  --string-color: #a31515;\n",
              "  --number-color: #008000;\n",
              "  --boolean-color: #0000ff;\n",
              "  --null-color: #af00db;\n",
              "  --preview-color: #888888;\n",
              "\n",
              "  /* color: var(--color); */\n",
              "  font-family: monospace;\n",
              "  font-size: 14px;\n",
              "}\n",
              "\n",
              "html[theme=dark] .hljs {\n",
              "  --background-color: #2c2c2c;\n",
              "  --property-color: #6fb3d2;\n",
              "  --string-color: #ce9178;\n",
              "  --number-color: #b5cea8;\n",
              "  --boolean-color: #569cd6;\n",
              "  --null-color: #c586c0;\n",
              "  --preview-color: #888888;\n",
              "}\n",
              "\n",
              "\n",
              "pre code.hljs {\n",
              "  /* background-color: var(--background-color); */\n",
              "  display: block;\n",
              "  padding: 1em;\n",
              "}\n",
              "\n",
              ".hljs-comment {\n",
              "  color: var(--preview-color);\n",
              "}\n",
              "\n",
              ".hljs-keyword {\n",
              "  color: var(--null-color);\n",
              "}\n",
              "\n",
              ".hljs-string {\n",
              "  color: var(--string-color);\n",
              "}\n",
              "\n",
              ".hljs-number {\n",
              "  color: var(--number-color);\n",
              "}\n",
              "\n",
              ".hljs-literal {\n",
              "  color: var(--boolean-color);\n",
              "}\n",
              "\u003c/style\u003e\n",
              "\u003cscript src=\"//cdnjs.cloudflare.com/ajax/libs/highlight.js/11.7.0/highlight.min.js\"\u003e\u003c/script\u003e\n",
              "\u003cscript\u003ehljs.highlightAll();\u003c/script\u003e\n",
              "\u003cpre\u003e\u003ccode class=\"language-python\"\u003e\u0026lt;ConfigDict[nn.Sequential(\n",
              "    layers=[\n",
              "        nn.Dense(\n",
              "            features=64,\n",
              "            use_bias=False,\n",
              "        ),\n",
              "        nn.Dropout(rate=0.9),\n",
              "    ],\n",
              ")]\u0026gt;\u003c/code\u003e\u003c/pre\u003e"
            ],
            "text/plain": [
              "\u003cConfigDict[nn.Sequential(\n",
              "    layers=[\n",
              "        nn.Dense(\n",
              "            features=64,\n",
              "            use_bias=False,\n",
              "        ),\n",
              "        nn.Dropout(rate=0.9),\n",
              "    ],\n",
              ")]\u003e"
            ]
          },
          "execution_count": 31,
          "metadata": {},
          "output_type": "execute_result"
        }
      ],
      "source": [
        "konfig.ConfigDict(serialized_dict)"
      ]
    },
    {
      "cell_type": "markdown",
      "metadata": {
        "id": "37VELFrsnsC8"
      },
      "source": [
        "Caveat:\n",
        "\n",
        "* Json do no preserve tuple/list information. `tuple` are restored as `list`"
      ]
    },
    {
      "cell_type": "markdown",
      "metadata": {
        "id": "TD5mOHPhFOVl"
      },
      "source": [
        "## Benefits\n",
        "\n",
        "* Everything is configurable by default (flax, optax, your custom dataclasses,...) without **any** change in your code.\n",
        "* No duplication between code and the config system (`Model` vs `ModelParams`), as code is directly customizable\n",
        "* Config files nativelly support type checking and auto-complete. And benefit from all IDE overlay (hover on a class to see the doc, click on a attribute to see where it is defined in the code,...).\n"
      ]
    },
    {
      "cell_type": "markdown",
      "metadata": {
        "id": "b1CzGjJPdAAh"
      },
      "source": [
        "## Advanced usage\n",
        "\n",
        "### Mutating a config"
      ]
    },
    {
      "cell_type": "markdown",
      "metadata": {
        "id": "HWSDuGfyZMwH"
      },
      "source": [
        "All parts of a Python call can be modified/overwritten (e.g. sweeped over):\n",
        "\n"
      ]
    },
    {
      "cell_type": "code",
      "execution_count": 67,
      "metadata": {
        "colab": {
          "height": 62
        },
        "executionInfo": {
          "elapsed": 62,
          "status": "ok",
          "timestamp": 1701428401276,
          "user": {
            "displayName": "",
            "userId": ""
          },
          "user_tz": -60
        },
        "id": "DMEuLqDOAPaE",
        "outputId": "b371a691-05b0-4ccf-e5b3-4697cec63d43"
      },
      "outputs": [
        {
          "data": {
            "text/html": [
              "\u003cstyle\u003e/*\n",
              "Colab colors\n",
              "\n",
              "Forked from\n",
              "https://github.com/highlightjs/highlight.js/blob/main/src/styles/default.css\n",
              "\n",
              "TODO(epot): Is there a way to use Colab native `--syntax-class-color`,...\n",
              "directly ?\n",
              "\n",
              "*/\n",
              "\n",
              ".hljs {\n",
              "  /* --color: #f8f8f2; */\n",
              "  --background-color: #f7f7f7;\n",
              "  --property-color: #087db2;\n",
              "  --string-color: #a31515;\n",
              "  --number-color: #008000;\n",
              "  --boolean-color: #0000ff;\n",
              "  --null-color: #af00db;\n",
              "  --preview-color: #888888;\n",
              "\n",
              "  /* color: var(--color); */\n",
              "  font-family: monospace;\n",
              "  font-size: 14px;\n",
              "}\n",
              "\n",
              "html[theme=dark] .hljs {\n",
              "  --background-color: #2c2c2c;\n",
              "  --property-color: #6fb3d2;\n",
              "  --string-color: #ce9178;\n",
              "  --number-color: #b5cea8;\n",
              "  --boolean-color: #569cd6;\n",
              "  --null-color: #c586c0;\n",
              "  --preview-color: #888888;\n",
              "}\n",
              "\n",
              "\n",
              "pre code.hljs {\n",
              "  /* background-color: var(--background-color); */\n",
              "  display: block;\n",
              "  padding: 1em;\n",
              "}\n",
              "\n",
              ".hljs-comment {\n",
              "  color: var(--preview-color);\n",
              "}\n",
              "\n",
              ".hljs-keyword {\n",
              "  color: var(--null-color);\n",
              "}\n",
              "\n",
              ".hljs-string {\n",
              "  color: var(--string-color);\n",
              "}\n",
              "\n",
              ".hljs-number {\n",
              "  color: var(--number-color);\n",
              "}\n",
              "\n",
              ".hljs-literal {\n",
              "  color: var(--boolean-color);\n",
              "}\n",
              "\u003c/style\u003e\n",
              "\u003cscript src=\"//cdnjs.cloudflare.com/ajax/libs/highlight.js/11.7.0/highlight.min.js\"\u003e\u003c/script\u003e\n",
              "\u003cscript\u003ehljs.highlightAll();\u003c/script\u003e\n",
              "\u003cpre\u003e\u003ccode class=\"language-python\"\u003e\u0026lt;ConfigDict[__main__.some_fn(dtype=np.int32)]\u0026gt;\u003c/code\u003e\u003c/pre\u003e"
            ],
            "text/plain": [
              "\u003cConfigDict[__main__.some_fn(dtype=np.int32)]\u003e"
            ]
          },
          "metadata": {},
          "output_type": "display_data"
        }
      ],
      "source": [
        "# Create a dummy function to demonstrate how to overwrite configs\n",
        "def some_fn(*args, **kwargs):\n",
        "  print(f'some_fn called with {args}, {kwargs}')\n",
        "\n",
        "\n",
        "def other_fn(*args, **kwargs):\n",
        "  print(f'other_fn called with {args}, {kwargs}')\n",
        "\n",
        "\n",
        "# In Colab, import `__main__` to turn the Colab itself into configurable\n",
        "import __main__\n",
        "\n",
        "\n",
        "with konfig.mock_modules():\n",
        "  cfg = __main__.some_fn(dtype=np.int32);"
      ]
    },
    {
      "cell_type": "markdown",
      "metadata": {
        "id": "u4QHMqzrANK1"
      },
      "source": [
        "* kwargs - by mutating `cfg.kwarg_name = `:"
      ]
    },
    {
      "cell_type": "code",
      "execution_count": 68,
      "metadata": {
        "colab": {
          "height": 62
        },
        "executionInfo": {
          "elapsed": 72,
          "status": "ok",
          "timestamp": 1701428402139,
          "user": {
            "displayName": "",
            "userId": ""
          },
          "user_tz": -60
        },
        "id": "qK5Tef60ALuc",
        "outputId": "ea817d27-face-428d-c529-bdf469e95e35"
      },
      "outputs": [
        {
          "data": {
            "text/html": [
              "\u003cstyle\u003e/*\n",
              "Colab colors\n",
              "\n",
              "Forked from\n",
              "https://github.com/highlightjs/highlight.js/blob/main/src/styles/default.css\n",
              "\n",
              "TODO(epot): Is there a way to use Colab native `--syntax-class-color`,...\n",
              "directly ?\n",
              "\n",
              "*/\n",
              "\n",
              ".hljs {\n",
              "  /* --color: #f8f8f2; */\n",
              "  --background-color: #f7f7f7;\n",
              "  --property-color: #087db2;\n",
              "  --string-color: #a31515;\n",
              "  --number-color: #008000;\n",
              "  --boolean-color: #0000ff;\n",
              "  --null-color: #af00db;\n",
              "  --preview-color: #888888;\n",
              "\n",
              "  /* color: var(--color); */\n",
              "  font-family: monospace;\n",
              "  font-size: 14px;\n",
              "}\n",
              "\n",
              "html[theme=dark] .hljs {\n",
              "  --background-color: #2c2c2c;\n",
              "  --property-color: #6fb3d2;\n",
              "  --string-color: #ce9178;\n",
              "  --number-color: #b5cea8;\n",
              "  --boolean-color: #569cd6;\n",
              "  --null-color: #c586c0;\n",
              "  --preview-color: #888888;\n",
              "}\n",
              "\n",
              "\n",
              "pre code.hljs {\n",
              "  /* background-color: var(--background-color); */\n",
              "  display: block;\n",
              "  padding: 1em;\n",
              "}\n",
              "\n",
              ".hljs-comment {\n",
              "  color: var(--preview-color);\n",
              "}\n",
              "\n",
              ".hljs-keyword {\n",
              "  color: var(--null-color);\n",
              "}\n",
              "\n",
              ".hljs-string {\n",
              "  color: var(--string-color);\n",
              "}\n",
              "\n",
              ".hljs-number {\n",
              "  color: var(--number-color);\n",
              "}\n",
              "\n",
              ".hljs-literal {\n",
              "  color: var(--boolean-color);\n",
              "}\n",
              "\u003c/style\u003e\n",
              "\u003cscript src=\"//cdnjs.cloudflare.com/ajax/libs/highlight.js/11.7.0/highlight.min.js\"\u003e\u003c/script\u003e\n",
              "\u003cscript\u003ehljs.highlightAll();\u003c/script\u003e\n",
              "\u003cpre\u003e\u003ccode class=\"language-python\"\u003e\u0026lt;ConfigDict[__main__.some_fn(dtype=np.int32, x=1, y=2)]\u0026gt;\u003c/code\u003e\u003c/pre\u003e"
            ],
            "text/plain": [
              "\u003cConfigDict[__main__.some_fn(dtype=np.int32, x=1, y=2)]\u003e"
            ]
          },
          "execution_count": 68,
          "metadata": {},
          "output_type": "execute_result"
        }
      ],
      "source": [
        "cfg.x = 1\n",
        "cfg.y = 2\n",
        "cfg"
      ]
    },
    {
      "cell_type": "markdown",
      "metadata": {
        "id": "2OePhmukcEXw"
      },
      "source": [
        "* args - by mutating `cfg[arg_id] = `:"
      ]
    },
    {
      "cell_type": "code",
      "execution_count": 69,
      "metadata": {
        "colab": {
          "height": 167
        },
        "executionInfo": {
          "elapsed": 56,
          "status": "ok",
          "timestamp": 1701428403171,
          "user": {
            "displayName": "",
            "userId": ""
          },
          "user_tz": -60
        },
        "id": "oY1vTOLOcEjy",
        "outputId": "cae49115-cf41-4d94-c4a6-dea86d091c2a"
      },
      "outputs": [
        {
          "data": {
            "text/html": [
              "\u003cstyle\u003e/*\n",
              "Colab colors\n",
              "\n",
              "Forked from\n",
              "https://github.com/highlightjs/highlight.js/blob/main/src/styles/default.css\n",
              "\n",
              "TODO(epot): Is there a way to use Colab native `--syntax-class-color`,...\n",
              "directly ?\n",
              "\n",
              "*/\n",
              "\n",
              ".hljs {\n",
              "  /* --color: #f8f8f2; */\n",
              "  --background-color: #f7f7f7;\n",
              "  --property-color: #087db2;\n",
              "  --string-color: #a31515;\n",
              "  --number-color: #008000;\n",
              "  --boolean-color: #0000ff;\n",
              "  --null-color: #af00db;\n",
              "  --preview-color: #888888;\n",
              "\n",
              "  /* color: var(--color); */\n",
              "  font-family: monospace;\n",
              "  font-size: 14px;\n",
              "}\n",
              "\n",
              "html[theme=dark] .hljs {\n",
              "  --background-color: #2c2c2c;\n",
              "  --property-color: #6fb3d2;\n",
              "  --string-color: #ce9178;\n",
              "  --number-color: #b5cea8;\n",
              "  --boolean-color: #569cd6;\n",
              "  --null-color: #c586c0;\n",
              "  --preview-color: #888888;\n",
              "}\n",
              "\n",
              "\n",
              "pre code.hljs {\n",
              "  /* background-color: var(--background-color); */\n",
              "  display: block;\n",
              "  padding: 1em;\n",
              "}\n",
              "\n",
              ".hljs-comment {\n",
              "  color: var(--preview-color);\n",
              "}\n",
              "\n",
              ".hljs-keyword {\n",
              "  color: var(--null-color);\n",
              "}\n",
              "\n",
              ".hljs-string {\n",
              "  color: var(--string-color);\n",
              "}\n",
              "\n",
              ".hljs-number {\n",
              "  color: var(--number-color);\n",
              "}\n",
              "\n",
              ".hljs-literal {\n",
              "  color: var(--boolean-color);\n",
              "}\n",
              "\u003c/style\u003e\n",
              "\u003cscript src=\"//cdnjs.cloudflare.com/ajax/libs/highlight.js/11.7.0/highlight.min.js\"\u003e\u003c/script\u003e\n",
              "\u003cscript\u003ehljs.highlightAll();\u003c/script\u003e\n",
              "\u003cpre\u003e\u003ccode class=\"language-python\"\u003e\u0026lt;ConfigDict[__main__.some_fn(\n",
              "    \u0026#x27;a\u0026#x27;,\n",
              "    \u0026#x27;b_overwritten\u0026#x27;,\n",
              "    dtype=np.int32,\n",
              "    x=1,\n",
              "    y=2,\n",
              ")]\u0026gt;\u003c/code\u003e\u003c/pre\u003e"
            ],
            "text/plain": [
              "\u003cConfigDict[__main__.some_fn(\n",
              "    'a',\n",
              "    'b_overwritten',\n",
              "    dtype=np.int32,\n",
              "    x=1,\n",
              "    y=2,\n",
              ")]\u003e"
            ]
          },
          "execution_count": 69,
          "metadata": {},
          "output_type": "execute_result"
        }
      ],
      "source": [
        "cfg[0] = 'a'  # Append additional arguments\n",
        "cfg[1] = 'b'\n",
        "cfg[-1] = 'b_overwritten'\n",
        "cfg"
      ]
    },
    {
      "cell_type": "markdown",
      "metadata": {
        "id": "zUHsET-BcEtO"
      },
      "source": [
        "* class/function - by mutating `cfg.__qualname__ =` (to `\u003cimport\u003e:\u003cname\u003e`):"
      ]
    },
    {
      "cell_type": "code",
      "execution_count": 70,
      "metadata": {
        "colab": {
          "height": 185
        },
        "executionInfo": {
          "elapsed": 4,
          "status": "ok",
          "timestamp": 1701428403470,
          "user": {
            "displayName": "",
            "userId": ""
          },
          "user_tz": -60
        },
        "id": "g1Qyl5Sk4yuG",
        "outputId": "45a61adb-78ae-4e7f-bac6-c9e3812a05c9"
      },
      "outputs": [
        {
          "data": {
            "application/vnd.google.colaboratory.intrinsic+json": {
              "type": "string"
            },
            "text/plain": [
              "'Previous qualname: __main__:some_fn'"
            ]
          },
          "metadata": {},
          "output_type": "display_data"
        },
        {
          "data": {
            "text/html": [
              "\u003cstyle\u003e/*\n",
              "Colab colors\n",
              "\n",
              "Forked from\n",
              "https://github.com/highlightjs/highlight.js/blob/main/src/styles/default.css\n",
              "\n",
              "TODO(epot): Is there a way to use Colab native `--syntax-class-color`,...\n",
              "directly ?\n",
              "\n",
              "*/\n",
              "\n",
              ".hljs {\n",
              "  /* --color: #f8f8f2; */\n",
              "  --background-color: #f7f7f7;\n",
              "  --property-color: #087db2;\n",
              "  --string-color: #a31515;\n",
              "  --number-color: #008000;\n",
              "  --boolean-color: #0000ff;\n",
              "  --null-color: #af00db;\n",
              "  --preview-color: #888888;\n",
              "\n",
              "  /* color: var(--color); */\n",
              "  font-family: monospace;\n",
              "  font-size: 14px;\n",
              "}\n",
              "\n",
              "html[theme=dark] .hljs {\n",
              "  --background-color: #2c2c2c;\n",
              "  --property-color: #6fb3d2;\n",
              "  --string-color: #ce9178;\n",
              "  --number-color: #b5cea8;\n",
              "  --boolean-color: #569cd6;\n",
              "  --null-color: #c586c0;\n",
              "  --preview-color: #888888;\n",
              "}\n",
              "\n",
              "\n",
              "pre code.hljs {\n",
              "  /* background-color: var(--background-color); */\n",
              "  display: block;\n",
              "  padding: 1em;\n",
              "}\n",
              "\n",
              ".hljs-comment {\n",
              "  color: var(--preview-color);\n",
              "}\n",
              "\n",
              ".hljs-keyword {\n",
              "  color: var(--null-color);\n",
              "}\n",
              "\n",
              ".hljs-string {\n",
              "  color: var(--string-color);\n",
              "}\n",
              "\n",
              ".hljs-number {\n",
              "  color: var(--number-color);\n",
              "}\n",
              "\n",
              ".hljs-literal {\n",
              "  color: var(--boolean-color);\n",
              "}\n",
              "\u003c/style\u003e\n",
              "\u003cscript src=\"//cdnjs.cloudflare.com/ajax/libs/highlight.js/11.7.0/highlight.min.js\"\u003e\u003c/script\u003e\n",
              "\u003cscript\u003ehljs.highlightAll();\u003c/script\u003e\n",
              "\u003cpre\u003e\u003ccode class=\"language-python\"\u003e\u0026lt;ConfigDict[__main__.other_fn(\n",
              "    \u0026#x27;a\u0026#x27;,\n",
              "    \u0026#x27;b_overwritten\u0026#x27;,\n",
              "    dtype=np.int32,\n",
              "    x=1,\n",
              "    y=2,\n",
              ")]\u0026gt;\u003c/code\u003e\u003c/pre\u003e"
            ],
            "text/plain": [
              "\u003cConfigDict[__main__.other_fn(\n",
              "    'a',\n",
              "    'b_overwritten',\n",
              "    dtype=np.int32,\n",
              "    x=1,\n",
              "    y=2,\n",
              ")]\u003e"
            ]
          },
          "execution_count": 70,
          "metadata": {},
          "output_type": "execute_result"
        }
      ],
      "source": [
        "f'Previous qualname: {cfg.__qualname__}';\n",
        "\n",
        "cfg.__qualname__ = '__main__:other_fn'  # Use `other_fn()` instead of `some_fn()`\n",
        "cfg"
      ]
    },
    {
      "cell_type": "markdown",
      "metadata": {
        "id": "ZuO3emDxmVD3"
      },
      "source": [
        "* constants - by mutating `cfg.__const__ =`"
      ]
    },
    {
      "cell_type": "code",
      "execution_count": 71,
      "metadata": {
        "colab": {
          "height": 167
        },
        "executionInfo": {
          "elapsed": 3,
          "status": "ok",
          "timestamp": 1701428403750,
          "user": {
            "displayName": "",
            "userId": ""
          },
          "user_tz": -60
        },
        "id": "Jezd4WHGBdYI",
        "outputId": "93308488-e794-47b1-d214-d5b98e50c9f9"
      },
      "outputs": [
        {
          "data": {
            "text/html": [
              "\u003cstyle\u003e/*\n",
              "Colab colors\n",
              "\n",
              "Forked from\n",
              "https://github.com/highlightjs/highlight.js/blob/main/src/styles/default.css\n",
              "\n",
              "TODO(epot): Is there a way to use Colab native `--syntax-class-color`,...\n",
              "directly ?\n",
              "\n",
              "*/\n",
              "\n",
              ".hljs {\n",
              "  /* --color: #f8f8f2; */\n",
              "  --background-color: #f7f7f7;\n",
              "  --property-color: #087db2;\n",
              "  --string-color: #a31515;\n",
              "  --number-color: #008000;\n",
              "  --boolean-color: #0000ff;\n",
              "  --null-color: #af00db;\n",
              "  --preview-color: #888888;\n",
              "\n",
              "  /* color: var(--color); */\n",
              "  font-family: monospace;\n",
              "  font-size: 14px;\n",
              "}\n",
              "\n",
              "html[theme=dark] .hljs {\n",
              "  --background-color: #2c2c2c;\n",
              "  --property-color: #6fb3d2;\n",
              "  --string-color: #ce9178;\n",
              "  --number-color: #b5cea8;\n",
              "  --boolean-color: #569cd6;\n",
              "  --null-color: #c586c0;\n",
              "  --preview-color: #888888;\n",
              "}\n",
              "\n",
              "\n",
              "pre code.hljs {\n",
              "  /* background-color: var(--background-color); */\n",
              "  display: block;\n",
              "  padding: 1em;\n",
              "}\n",
              "\n",
              ".hljs-comment {\n",
              "  color: var(--preview-color);\n",
              "}\n",
              "\n",
              ".hljs-keyword {\n",
              "  color: var(--null-color);\n",
              "}\n",
              "\n",
              ".hljs-string {\n",
              "  color: var(--string-color);\n",
              "}\n",
              "\n",
              ".hljs-number {\n",
              "  color: var(--number-color);\n",
              "}\n",
              "\n",
              ".hljs-literal {\n",
              "  color: var(--boolean-color);\n",
              "}\n",
              "\u003c/style\u003e\n",
              "\u003cscript src=\"//cdnjs.cloudflare.com/ajax/libs/highlight.js/11.7.0/highlight.min.js\"\u003e\u003c/script\u003e\n",
              "\u003cscript\u003ehljs.highlightAll();\u003c/script\u003e\n",
              "\u003cpre\u003e\u003ccode class=\"language-python\"\u003e\u0026lt;ConfigDict[__main__.other_fn(\n",
              "    \u0026#x27;a\u0026#x27;,\n",
              "    \u0026#x27;b_overwritten\u0026#x27;,\n",
              "    dtype=np.float64,\n",
              "    x=1,\n",
              "    y=2,\n",
              ")]\u0026gt;\u003c/code\u003e\u003c/pre\u003e"
            ],
            "text/plain": [
              "\u003cConfigDict[__main__.other_fn(\n",
              "    'a',\n",
              "    'b_overwritten',\n",
              "    dtype=np.float64,\n",
              "    x=1,\n",
              "    y=2,\n",
              ")]\u003e"
            ]
          },
          "execution_count": 71,
          "metadata": {},
          "output_type": "execute_result"
        }
      ],
      "source": [
        "cfg.dtype.__const__ = 'numpy:float64'\n",
        "cfg"
      ]
    },
    {
      "cell_type": "code",
      "execution_count": 72,
      "metadata": {
        "executionInfo": {
          "elapsed": 2,
          "status": "ok",
          "timestamp": 1701428404089,
          "user": {
            "displayName": "",
            "userId": ""
          },
          "user_tz": -60
        },
        "id": "jWzFQ7ALB7Np",
        "outputId": "55b851ed-cda5-4060-baa2-dbaaa2e6f3ba"
      },
      "outputs": [
        {
          "name": "stdout",
          "output_type": "stream",
          "text": [
            "other_fn called with ('a', 'b_overwritten'), {'dtype': \u003cclass 'numpy.float64'\u003e, 'x': 1, 'y': 2}\n"
          ]
        }
      ],
      "source": [
        "konfig.resolve(cfg)"
      ]
    },
    {
      "cell_type": "markdown",
      "metadata": {
        "id": "ismMYdJqCTnE"
      },
      "source": [
        "### Protocols\n",
        "\n",
        "Skip this section unless you're interested in Konfig internals\n",
        "\n",
        "In some cases, the can be some interactions between the Python object and it's Config version. This interaction is done through `__konfig_xxx__` protocols and `konfig.register_xxx()` functions."
      ]
    },
    {
      "cell_type": "markdown",
      "metadata": {
        "id": "s1SeHsTeE5nG"
      },
      "source": [
        "`konfig.register_alias`: For cosmetic only, allow to rewrite the module names (`jax.numpy` -\u003e `jnp`, `kauldron.kd` -\u003e `kd`,...)"
      ]
    },
    {
      "cell_type": "markdown",
      "metadata": {
        "id": "zra2119WE3T9"
      },
      "source": [
        "`konfig.register_default_values`: When a `ConfigDict` object is created, it should sometimes be initialized with default values. This can be use to initialized child fields, like:\n",
        "\n",
        "```python\n",
        "cfg = kd.train.Trainer()  # Implicitly create `cfg.setup`,...\n",
        "cfg.setup.tags = ['text', 'tpu_v3']\n",
        "```"
      ]
    },
    {
      "cell_type": "markdown",
      "metadata": {
        "id": "kffX6P-NEc5k"
      },
      "source": [
        "`__konfig_resolve_exclude_fields__`: Fields to exclude from being resolved. Can be used if the config contain objects that should not always be resolved (e.g. to avoid implorting heavy deps when not needed)."
      ]
    },
    {
      "cell_type": "markdown",
      "metadata": {
        "id": "kDU3XQvcEROn"
      },
      "source": [
        "`__post_konfig_resolve__(self, cfg: konfig.ConfigDict)`: Function called after\n",
        "an object is resolved. Can be used so an resolved object keep track of the\n",
        "config it was created with:"
      ]
    },
    {
      "cell_type": "code",
      "execution_count": null,
      "metadata": {
        "id": "0UanaetcCV-F"
      },
      "outputs": [],
      "source": [
        "class A:\n",
        "\n",
        "  def __post_konfig_resolve__(self, cfg: konfig.ConfigDict):\n",
        "    self.cfg = cfg"
      ]
    }
  ],
  "metadata": {
    "colab": {
      "last_runtime": {
        "build_target": "//learning/grp/tools/ml_python:ml_notebook",
        "kind": "private"
      },
      "provenance": [
        {
          "file_id": "1kRjxUCpYnsLD0LbVUSbcPNY5slnuI6Bo",
          "timestamp": 1681722455909
        }
      ]
    },
    "kernelspec": {
      "display_name": "Python 3",
      "name": "python3"
    },
    "language_info": {
      "name": "python"
    }
  },
  "nbformat": 4,
  "nbformat_minor": 0
}
