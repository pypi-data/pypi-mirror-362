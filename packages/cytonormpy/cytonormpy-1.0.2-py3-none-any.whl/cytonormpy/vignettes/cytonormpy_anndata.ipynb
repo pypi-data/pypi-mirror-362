{
 "cells": [
  {
   "cell_type": "markdown",
   "id": "af52f273-a5a6-4468-98e3-7e4b0db25e82",
   "metadata": {},
   "source": [
    "# CytoNormPy - AnnData objects\n",
    "\n",
    "In this vignette, we showcase a typical analysis workflow using anndata objects.\n",
    "\n",
    "First, we import the necessary libraries and create the anndata object."
   ]
  },
  {
   "cell_type": "code",
   "execution_count": 1,
   "id": "ef0905bf-c14c-460c-9f5e-78962ea79de2",
   "metadata": {},
   "outputs": [],
   "source": [
    "import cytonormpy as cnp\n",
    "\n",
    "import anndata as ad\n",
    "import pandas as pd\n",
    "import os\n",
    "import numpy as np\n",
    "\n",
    "\n",
    "from cytonormpy import FCSFile"
   ]
  },
  {
   "cell_type": "markdown",
   "id": "abd3ab11-fc16-4398-8acc-9a45667e468d",
   "metadata": {},
   "source": [
    "## AnnData creation\n",
    "\n",
    "We use the internal representation to create an AnnData object as follows:"
   ]
  },
  {
   "cell_type": "code",
   "execution_count": 2,
   "id": "0a993686-82f8-495e-b9cf-1009820bdfa6",
   "metadata": {},
   "outputs": [],
   "source": [
    "def _fcs_to_anndata(input_directory, file, file_no, metadata) -> ad.AnnData:\n",
    "    fcs = FCSFile(input_directory=input_directory, file_name=file)\n",
    "    events = fcs.original_events\n",
    "    md_row = metadata.loc[metadata[\"file_name\"] == file, :].to_numpy()\n",
    "    obs = np.repeat(md_row, events.shape[0], axis=0)\n",
    "    var_frame = fcs.channels\n",
    "    obs_frame = pd.DataFrame(\n",
    "        data=obs,\n",
    "        columns=metadata.columns,\n",
    "        index=pd.Index([f\"{file_no}-{str(i)}\" for i in range(events.shape[0])]),\n",
    "    )\n",
    "    adata = ad.AnnData(obs=obs_frame, var=var_frame, layers={\"compensated\": events})\n",
    "    adata.obs_names_make_unique()\n",
    "    adata.var_names_make_unique()\n",
    "    return adata"
   ]
  },
  {
   "cell_type": "code",
   "execution_count": 3,
   "id": "57358205-db52-4637-9ae6-7bf5e9bc0f9e",
   "metadata": {},
   "outputs": [],
   "source": [
    "input_directory = \"../_resources/\"\n",
    "fcs_files = [\n",
    "    \"Gates_PTLG021_Unstim_Control_1.fcs\",\n",
    "    \"Gates_PTLG021_Unstim_Control_2.fcs\",\n",
    "    \"Gates_PTLG028_Unstim_Control_1.fcs\",\n",
    "    \"Gates_PTLG028_Unstim_Control_2.fcs\",\n",
    "    \"Gates_PTLG034_Unstim_Control_1.fcs\",\n",
    "    \"Gates_PTLG034_Unstim_Control_2.fcs\",\n",
    "]\n",
    "adatas = []\n",
    "metadata = pd.read_csv(os.path.join(input_directory, \"metadata_sid.csv\"))\n",
    "for file_no, file in enumerate(fcs_files):\n",
    "    adatas.append(_fcs_to_anndata(input_directory, file, file_no, metadata))\n",
    "\n",
    "dataset = ad.concat(adatas, axis=0, join=\"outer\", merge=\"same\")\n",
    "dataset.obs = dataset.obs.astype(\"object\")\n",
    "dataset.var = dataset.var.astype(\"object\")\n",
    "dataset.obs_names_make_unique()\n",
    "dataset.var_names_make_unique()"
   ]
  },
  {
   "cell_type": "code",
   "execution_count": 4,
   "id": "b9862fab-e60d-46eb-bd8d-364e46ba975e",
   "metadata": {},
   "outputs": [
    {
     "data": {
      "text/plain": [
       "AnnData object with n_obs × n_vars = 6000 × 55\n",
       "    obs: 'file_name', 'reference', 'batch', 'sample_ID'\n",
       "    var: 'pns', 'png', 'pne', 'channel_numbers'\n",
       "    layers: 'compensated'"
      ]
     },
     "execution_count": 4,
     "metadata": {},
     "output_type": "execute_result"
    }
   ],
   "source": [
    "dataset"
   ]
  },
  {
   "cell_type": "markdown",
   "id": "56da0c12-54ea-4fe3-8af7-ecf69b788cf5",
   "metadata": {},
   "source": [
    "## Data setup\n",
    "\n",
    "We instantiate the cytonorm object and add a data transformer that will transform our data to the asinh space and the clusterer that will cluster the cells."
   ]
  },
  {
   "cell_type": "code",
   "execution_count": 5,
   "id": "db7293b8-34c6-4a33-ad82-d2373f734274",
   "metadata": {},
   "outputs": [],
   "source": [
    "cn = cnp.CytoNorm()\n",
    "\n",
    "t = cnp.AsinhTransformer()\n",
    "fs = cnp.FlowSOM(n_clusters=10)\n",
    "\n",
    "cn.add_transformer(t)\n",
    "cn.add_clusterer(fs)"
   ]
  },
  {
   "cell_type": "markdown",
   "id": "8f8f9e60-4da4-437c-9a28-1c5f5715f41d",
   "metadata": {},
   "source": [
    "Next, we run the `run_anndata_setup()` method."
   ]
  },
  {
   "cell_type": "code",
   "execution_count": 6,
   "id": "34d1c6b1-4b44-42e7-b85d-32192562cb87",
   "metadata": {},
   "outputs": [],
   "source": [
    "cn.run_anndata_setup(dataset, layer=\"compensated\", key_added=\"normalized\", n_cells_reference=1000)"
   ]
  },
  {
   "cell_type": "markdown",
   "id": "8100d84c-038f-4706-b814-350415ad4fb6",
   "metadata": {},
   "source": [
    "## CV thresholding\n",
    "\n",
    "For clustering, it is important to visualize the distribution of files within one cluster. We have already added a FlowSOM Clusterer instance. the function 'calculate_cluster_cvs' will now calculate, for each metacluster number that we want to analyze, the cluster cv per sample.\n",
    "\n",
    "We then visualize it via a waterfall plot as in the original CytoNorm implementation in R.\n",
    "\n",
    "_CytoNorm2.0_: We can now use a different set of markers for clustering using the 'markers' parameter. If you want to use all markers, do not pass anything!"
   ]
  },
  {
   "cell_type": "code",
   "execution_count": 7,
   "id": "0e65f345-defd-4c84-ab9b-d41ff060c5ac",
   "metadata": {},
   "outputs": [
    {
     "data": {
      "image/png": "[encoded data removed]",
      "text/plain": [
       "<Figure size 800x400 with 2 Axes>"
      ]
     },
     "metadata": {},
     "output_type": "display_data"
    }
   ],
   "source": [
    "markers_for_clustering = dataset.var_names[4:15].tolist()\n",
    "\n",
    "cn.calculate_cluster_cvs(n_metaclusters=list(range(3, 15)), markers=markers_for_clustering)\n",
    "cnp.pl.cv_heatmap(cn, n_metaclusters=list(range(3, 15)), max_cv=2)"
   ]
  },
  {
   "cell_type": "markdown",
   "id": "f7060585-85c5-419a-ac44-67659fa95653",
   "metadata": {},
   "source": [
    "## Clustering\n",
    "\n",
    "We run the FlowSOM clustering and pass a `cluster_cv_threshold` of 2. This value is used to evaluate if the distribution of files within one cluster is sufficient. A warning will be raised if that is not the case. We can see from above that, regardless of which metacluster number we choose, this will not be the case!"
   ]
  },
  {
   "cell_type": "code",
   "execution_count": 8,
   "id": "fdd0defd-5624-4362-97f4-c7fb122cf961",
   "metadata": {},
   "outputs": [],
   "source": [
    "cn.run_clustering(markers=markers_for_clustering, cluster_cv_threshold=2)"
   ]
  },
  {
   "cell_type": "markdown",
   "id": "d3358215-7614-4f4d-bf59-d7b0a68dfcee",
   "metadata": {},
   "source": [
    "## Calculation\n",
    "\n",
    "Finally, we calculate the quantiles per batch and cluster, calculate the spline functions and transform the expression values accordingly.\n",
    "\n",
    "The data will automatically be saved to the anndata object in the layer \"normalized\". In order to change the layer name, use the keyword `key_added` in the `run_anndata_setup()` method from above."
   ]
  },
  {
   "cell_type": "code",
   "execution_count": 9,
   "id": "62782e3c-9a5d-4a0e-9feb-254988bf1cf3",
   "metadata": {},
   "outputs": [
    {
     "name": "stderr",
     "output_type": "stream",
     "text": [
      "C:\\Users\\tarik\\anaconda3\\envs\\cytonorm\\lib\\site-packages\\cytonormpy\\_cytonorm\\_cytonorm.py:524: UserWarning: 24 cells detected in batch 1 for cluster 3. Skipping quantile calculation. \n",
      "  warnings.warn(warning_msg, UserWarning)\n",
      "C:\\Users\\tarik\\anaconda3\\envs\\cytonorm\\lib\\site-packages\\cytonormpy\\_cytonorm\\_cytonorm.py:524: UserWarning: 7 cells detected in batch 1 for cluster 4. Skipping quantile calculation. \n",
      "  warnings.warn(warning_msg, UserWarning)\n",
      "C:\\Users\\tarik\\anaconda3\\envs\\cytonorm\\lib\\site-packages\\cytonormpy\\_cytonorm\\_cytonorm.py:524: UserWarning: 17 cells detected in batch 1 for cluster 7. Skipping quantile calculation. \n",
      "  warnings.warn(warning_msg, UserWarning)\n",
      "C:\\Users\\tarik\\anaconda3\\envs\\cytonorm\\lib\\site-packages\\cytonormpy\\_cytonorm\\_cytonorm.py:524: UserWarning: 6 cells detected in batch 1 for cluster 8. Skipping quantile calculation. \n",
      "  warnings.warn(warning_msg, UserWarning)\n",
      "C:\\Users\\tarik\\anaconda3\\envs\\cytonorm\\lib\\site-packages\\cytonormpy\\_cytonorm\\_cytonorm.py:524: UserWarning: 2 cells detected in batch 1 for cluster 9. Skipping quantile calculation. \n",
      "  warnings.warn(warning_msg, UserWarning)\n",
      "C:\\Users\\tarik\\anaconda3\\envs\\cytonorm\\lib\\site-packages\\cytonormpy\\_cytonorm\\_cytonorm.py:524: UserWarning: 24 cells detected in batch 1 for cluster 10. Skipping quantile calculation. \n",
      "  warnings.warn(warning_msg, UserWarning)\n",
      "C:\\Users\\tarik\\anaconda3\\envs\\cytonorm\\lib\\site-packages\\cytonormpy\\_cytonorm\\_cytonorm.py:524: UserWarning: 8 cells detected in batch 1 for cluster 11. Skipping quantile calculation. \n",
      "  warnings.warn(warning_msg, UserWarning)\n",
      "C:\\Users\\tarik\\anaconda3\\envs\\cytonorm\\lib\\site-packages\\cytonormpy\\_cytonorm\\_cytonorm.py:524: UserWarning: 24 cells detected in batch 1 for cluster 13. Skipping quantile calculation. \n",
      "  warnings.warn(warning_msg, UserWarning)\n",
      "C:\\Users\\tarik\\anaconda3\\envs\\cytonorm\\lib\\site-packages\\cytonormpy\\_cytonorm\\_cytonorm.py:524: UserWarning: 43 cells detected in batch 2 for cluster 0. Skipping quantile calculation. \n",
      "  warnings.warn(warning_msg, UserWarning)\n",
      "C:\\Users\\tarik\\anaconda3\\envs\\cytonorm\\lib\\site-packages\\cytonormpy\\_cytonorm\\_cytonorm.py:524: UserWarning: 26 cells detected in batch 2 for cluster 3. Skipping quantile calculation. \n",
      "  warnings.warn(warning_msg, UserWarning)\n",
      "C:\\Users\\tarik\\anaconda3\\envs\\cytonorm\\lib\\site-packages\\cytonormpy\\_cytonorm\\_cytonorm.py:524: UserWarning: 21 cells detected in batch 2 for cluster 4. Skipping quantile calculation. \n",
      "  warnings.warn(warning_msg, UserWarning)\n",
      "C:\\Users\\tarik\\anaconda3\\envs\\cytonorm\\lib\\site-packages\\cytonormpy\\_cytonorm\\_cytonorm.py:524: UserWarning: 17 cells detected in batch 2 for cluster 6. Skipping quantile calculation. \n",
      "  warnings.warn(warning_msg, UserWarning)\n",
      "C:\\Users\\tarik\\anaconda3\\envs\\cytonorm\\lib\\site-packages\\cytonormpy\\_cytonorm\\_cytonorm.py:524: UserWarning: 16 cells detected in batch 2 for cluster 7. Skipping quantile calculation. \n",
      "  warnings.warn(warning_msg, UserWarning)\n",
      "C:\\Users\\tarik\\anaconda3\\envs\\cytonorm\\lib\\site-packages\\cytonormpy\\_cytonorm\\_cytonorm.py:524: UserWarning: 3 cells detected in batch 2 for cluster 8. Skipping quantile calculation. \n",
      "  warnings.warn(warning_msg, UserWarning)\n",
      "C:\\Users\\tarik\\anaconda3\\envs\\cytonorm\\lib\\site-packages\\cytonormpy\\_cytonorm\\_cytonorm.py:524: UserWarning: 8 cells detected in batch 2 for cluster 9. Skipping quantile calculation. \n",
      "  warnings.warn(warning_msg, UserWarning)\n",
      "C:\\Users\\tarik\\anaconda3\\envs\\cytonorm\\lib\\site-packages\\cytonormpy\\_cytonorm\\_cytonorm.py:524: UserWarning: 9 cells detected in batch 2 for cluster 11. Skipping quantile calculation. \n",
      "  warnings.warn(warning_msg, UserWarning)\n",
      "C:\\Users\\tarik\\anaconda3\\envs\\cytonorm\\lib\\site-packages\\cytonormpy\\_cytonorm\\_cytonorm.py:524: UserWarning: 9 cells detected in batch 2 for cluster 13. Skipping quantile calculation. \n",
      "  warnings.warn(warning_msg, UserWarning)\n",
      "C:\\Users\\tarik\\anaconda3\\envs\\cytonorm\\lib\\site-packages\\cytonormpy\\_cytonorm\\_cytonorm.py:524: UserWarning: 37 cells detected in batch 3 for cluster 3. Skipping quantile calculation. \n",
      "  warnings.warn(warning_msg, UserWarning)\n",
      "C:\\Users\\tarik\\anaconda3\\envs\\cytonorm\\lib\\site-packages\\cytonormpy\\_cytonorm\\_cytonorm.py:524: UserWarning: 14 cells detected in batch 3 for cluster 7. Skipping quantile calculation. \n",
      "  warnings.warn(warning_msg, UserWarning)\n",
      "C:\\Users\\tarik\\anaconda3\\envs\\cytonorm\\lib\\site-packages\\cytonormpy\\_cytonorm\\_cytonorm.py:524: UserWarning: 4 cells detected in batch 3 for cluster 8. Skipping quantile calculation. \n",
      "  warnings.warn(warning_msg, UserWarning)\n",
      "C:\\Users\\tarik\\anaconda3\\envs\\cytonorm\\lib\\site-packages\\cytonormpy\\_cytonorm\\_cytonorm.py:524: UserWarning: 6 cells detected in batch 3 for cluster 9. Skipping quantile calculation. \n",
      "  warnings.warn(warning_msg, UserWarning)\n",
      "C:\\Users\\tarik\\anaconda3\\envs\\cytonorm\\lib\\site-packages\\cytonormpy\\_cytonorm\\_cytonorm.py:524: UserWarning: 15 cells detected in batch 3 for cluster 10. Skipping quantile calculation. \n",
      "  warnings.warn(warning_msg, UserWarning)\n",
      "C:\\Users\\tarik\\anaconda3\\envs\\cytonorm\\lib\\site-packages\\cytonormpy\\_cytonorm\\_cytonorm.py:524: UserWarning: 15 cells detected in batch 3 for cluster 11. Skipping quantile calculation. \n",
      "  warnings.warn(warning_msg, UserWarning)\n",
      "C:\\Users\\tarik\\anaconda3\\envs\\cytonorm\\lib\\site-packages\\cytonormpy\\_normalization\\_quantile_calc.py:274: RuntimeWarning: Mean of empty slice\n",
      "  self.distrib = mean_func(expr_quantiles._expr_quantiles, axis=self._batch_axis)\n"
     ]
    },
    {
     "name": "stdout",
     "output_type": "stream",
     "text": [
      "normalized file Gates_PTLG021_Unstim_Control_1.fcs\n",
      "normalized file Gates_PTLG021_Unstim_Control_2.fcs\n",
      "normalized file Gates_PTLG034_Unstim_Control_1.fcs\n",
      "normalized file Gates_PTLG028_Unstim_Control_1.fcs\n",
      "normalized file Gates_PTLG028_Unstim_Control_2.fcs\n",
      "normalized file Gates_PTLG034_Unstim_Control_2.fcs\n"
     ]
    }
   ],
   "source": [
    "cn.calculate_quantiles()\n",
    "cn.calculate_splines(goal=\"batch_mean\")\n",
    "cn.normalize_data()"
   ]
  },
  {
   "cell_type": "code",
   "execution_count": 10,
   "id": "0a52ba15-eab0-4c58-a0b7-13b312529884",
   "metadata": {},
   "outputs": [
    {
     "data": {
      "text/plain": [
       "AnnData object with n_obs × n_vars = 6000 × 55\n",
       "    obs: 'file_name', 'reference', 'batch', 'sample_ID'\n",
       "    var: 'pns', 'png', 'pne', 'channel_numbers'\n",
       "    layers: 'compensated', 'normalized'"
      ]
     },
     "execution_count": 10,
     "metadata": {},
     "output_type": "execute_result"
    }
   ],
   "source": [
    "dataset"
   ]
  },
  {
   "cell_type": "markdown",
   "id": "1e737a4f-64df-4e8f-8bc2-f75f8746ad2a",
   "metadata": {},
   "source": [
    "In order to run the algorithm on new data, we can just pass the updated anndata and specify the necessary file names.\n",
    "\n",
    "We will first create the new anndata object that contains an additional file."
   ]
  },
  {
   "cell_type": "code",
   "execution_count": 11,
   "id": "002a28bf-d2bd-46ff-bd61-bbd296923b8c",
   "metadata": {},
   "outputs": [
    {
     "data": {
      "text/plain": [
       "AnnData object with n_obs × n_vars = 7000 × 55\n",
       "    obs: 'file_name', 'reference', 'batch', 'sample_ID'\n",
       "    layers: 'compensated', 'normalized'"
      ]
     },
     "execution_count": 11,
     "metadata": {},
     "output_type": "execute_result"
    }
   ],
   "source": [
    "filename = \"Gates_PTLG034_Unstim_Control_2_dup.fcs\"\n",
    "metadata = pd.DataFrame(data=[[filename, \"other\", 3]], columns=[\"file_name\", \"reference\", \"batch\"])\n",
    "new_adata = _fcs_to_anndata(input_directory, filename, 7, metadata)\n",
    "\n",
    "dataset = ad.concat([dataset, new_adata], axis=0, join=\"outer\")\n",
    "dataset"
   ]
  },
  {
   "cell_type": "markdown",
   "id": "beebefd0-9b76-45c5-aab1-bdad3299106f",
   "metadata": {},
   "source": [
    "Currently, all 'normalized' values for the new file are NaN:"
   ]
  },
  {
   "cell_type": "code",
   "execution_count": 12,
   "id": "e264dd19-020c-4bc4-b3c1-e323e942aad1",
   "metadata": {},
   "outputs": [
    {
     "data": {
      "text/html": [
       "<div>\n",
       "<style scoped>\n",
       "    .dataframe tbody tr th:only-of-type {\n",
       "        vertical-align: middle;\n",
       "    }\n",
       "\n",
       "    .dataframe tbody tr th {\n",
       "        vertical-align: top;\n",
       "    }\n",
       "\n",
       "    .dataframe thead th {\n",
       "        text-align: right;\n",
       "    }\n",
       "</style>\n",
       "<table border=\"1\" class=\"dataframe\">\n",
       "  <thead>\n",
       "    <tr style=\"text-align: right;\">\n",
       "      <th></th>\n",
       "      <th>Time</th>\n",
       "      <th>Event_length</th>\n",
       "      <th>Y89Di</th>\n",
       "      <th>Pd102Di</th>\n",
       "      <th>Pd104Di</th>\n",
       "      <th>Pd105Di</th>\n",
       "      <th>Pd106Di</th>\n",
       "      <th>Pd108Di</th>\n",
       "      <th>Pd110Di</th>\n",
       "      <th>In113Di</th>\n",
       "      <th>...</th>\n",
       "      <th>Yb171Di</th>\n",
       "      <th>Yb172Di</th>\n",
       "      <th>Yb173Di</th>\n",
       "      <th>Yb174Di</th>\n",
       "      <th>Lu175Di</th>\n",
       "      <th>Yb176Di</th>\n",
       "      <th>Ir191Di</th>\n",
       "      <th>Ir193Di</th>\n",
       "      <th>Pt195Di</th>\n",
       "      <th>beadDist</th>\n",
       "    </tr>\n",
       "  </thead>\n",
       "  <tbody>\n",
       "    <tr>\n",
       "      <th>7-0</th>\n",
       "      <td>NaN</td>\n",
       "      <td>NaN</td>\n",
       "      <td>NaN</td>\n",
       "      <td>NaN</td>\n",
       "      <td>NaN</td>\n",
       "      <td>NaN</td>\n",
       "      <td>NaN</td>\n",
       "      <td>NaN</td>\n",
       "      <td>NaN</td>\n",
       "      <td>NaN</td>\n",
       "      <td>...</td>\n",
       "      <td>NaN</td>\n",
       "      <td>NaN</td>\n",
       "      <td>NaN</td>\n",
       "      <td>NaN</td>\n",
       "      <td>NaN</td>\n",
       "      <td>NaN</td>\n",
       "      <td>NaN</td>\n",
       "      <td>NaN</td>\n",
       "      <td>NaN</td>\n",
       "      <td>NaN</td>\n",
       "    </tr>\n",
       "    <tr>\n",
       "      <th>7-1</th>\n",
       "      <td>NaN</td>\n",
       "      <td>NaN</td>\n",
       "      <td>NaN</td>\n",
       "      <td>NaN</td>\n",
       "      <td>NaN</td>\n",
       "      <td>NaN</td>\n",
       "      <td>NaN</td>\n",
       "      <td>NaN</td>\n",
       "      <td>NaN</td>\n",
       "      <td>NaN</td>\n",
       "      <td>...</td>\n",
       "      <td>NaN</td>\n",
       "      <td>NaN</td>\n",
       "      <td>NaN</td>\n",
       "      <td>NaN</td>\n",
       "      <td>NaN</td>\n",
       "      <td>NaN</td>\n",
       "      <td>NaN</td>\n",
       "      <td>NaN</td>\n",
       "      <td>NaN</td>\n",
       "      <td>NaN</td>\n",
       "    </tr>\n",
       "    <tr>\n",
       "      <th>7-2</th>\n",
       "      <td>NaN</td>\n",
       "      <td>NaN</td>\n",
       "      <td>NaN</td>\n",
       "      <td>NaN</td>\n",
       "      <td>NaN</td>\n",
       "      <td>NaN</td>\n",
       "      <td>NaN</td>\n",
       "      <td>NaN</td>\n",
       "      <td>NaN</td>\n",
       "      <td>NaN</td>\n",
       "      <td>...</td>\n",
       "      <td>NaN</td>\n",
       "      <td>NaN</td>\n",
       "      <td>NaN</td>\n",
       "      <td>NaN</td>\n",
       "      <td>NaN</td>\n",
       "      <td>NaN</td>\n",
       "      <td>NaN</td>\n",
       "      <td>NaN</td>\n",
       "      <td>NaN</td>\n",
       "      <td>NaN</td>\n",
       "    </tr>\n",
       "    <tr>\n",
       "      <th>7-3</th>\n",
       "      <td>NaN</td>\n",
       "      <td>NaN</td>\n",
       "      <td>NaN</td>\n",
       "      <td>NaN</td>\n",
       "      <td>NaN</td>\n",
       "      <td>NaN</td>\n",
       "      <td>NaN</td>\n",
       "      <td>NaN</td>\n",
       "      <td>NaN</td>\n",
       "      <td>NaN</td>\n",
       "      <td>...</td>\n",
       "      <td>NaN</td>\n",
       "      <td>NaN</td>\n",
       "      <td>NaN</td>\n",
       "      <td>NaN</td>\n",
       "      <td>NaN</td>\n",
       "      <td>NaN</td>\n",
       "      <td>NaN</td>\n",
       "      <td>NaN</td>\n",
       "      <td>NaN</td>\n",
       "      <td>NaN</td>\n",
       "    </tr>\n",
       "    <tr>\n",
       "      <th>7-4</th>\n",
       "      <td>NaN</td>\n",
       "      <td>NaN</td>\n",
       "      <td>NaN</td>\n",
       "      <td>NaN</td>\n",
       "      <td>NaN</td>\n",
       "      <td>NaN</td>\n",
       "      <td>NaN</td>\n",
       "      <td>NaN</td>\n",
       "      <td>NaN</td>\n",
       "      <td>NaN</td>\n",
       "      <td>...</td>\n",
       "      <td>NaN</td>\n",
       "      <td>NaN</td>\n",
       "      <td>NaN</td>\n",
       "      <td>NaN</td>\n",
       "      <td>NaN</td>\n",
       "      <td>NaN</td>\n",
       "      <td>NaN</td>\n",
       "      <td>NaN</td>\n",
       "      <td>NaN</td>\n",
       "      <td>NaN</td>\n",
       "    </tr>\n",
       "  </tbody>\n",
       "</table>\n",
       "<p>5 rows × 55 columns</p>\n",
       "</div>"
      ],
      "text/plain": [
       "     Time  Event_length  Y89Di  Pd102Di  Pd104Di  Pd105Di  Pd106Di  Pd108Di  \\\n",
       "7-0   NaN           NaN    NaN      NaN      NaN      NaN      NaN      NaN   \n",
       "7-1   NaN           NaN    NaN      NaN      NaN      NaN      NaN      NaN   \n",
       "7-2   NaN           NaN    NaN      NaN      NaN      NaN      NaN      NaN   \n",
       "7-3   NaN           NaN    NaN      NaN      NaN      NaN      NaN      NaN   \n",
       "7-4   NaN           NaN    NaN      NaN      NaN      NaN      NaN      NaN   \n",
       "\n",
       "     Pd110Di  In113Di  ...  Yb171Di  Yb172Di  Yb173Di  Yb174Di  Lu175Di  \\\n",
       "7-0      NaN      NaN  ...      NaN      NaN      NaN      NaN      NaN   \n",
       "7-1      NaN      NaN  ...      NaN      NaN      NaN      NaN      NaN   \n",
       "7-2      NaN      NaN  ...      NaN      NaN      NaN      NaN      NaN   \n",
       "7-3      NaN      NaN  ...      NaN      NaN      NaN      NaN      NaN   \n",
       "7-4      NaN      NaN  ...      NaN      NaN      NaN      NaN      NaN   \n",
       "\n",
       "     Yb176Di  Ir191Di  Ir193Di  Pt195Di  beadDist  \n",
       "7-0      NaN      NaN      NaN      NaN       NaN  \n",
       "7-1      NaN      NaN      NaN      NaN       NaN  \n",
       "7-2      NaN      NaN      NaN      NaN       NaN  \n",
       "7-3      NaN      NaN      NaN      NaN       NaN  \n",
       "7-4      NaN      NaN      NaN      NaN       NaN  \n",
       "\n",
       "[5 rows x 55 columns]"
      ]
     },
     "execution_count": 12,
     "metadata": {},
     "output_type": "execute_result"
    }
   ],
   "source": [
    "dataset[dataset.obs[\"file_name\"] == filename, :].to_df(layer=\"normalized\").head()"
   ]
  },
  {
   "cell_type": "code",
   "execution_count": 13,
   "id": "5c666c43-b920-4ae8-bffc-31c525645b72",
   "metadata": {},
   "outputs": [
    {
     "name": "stdout",
     "output_type": "stream",
     "text": [
      "normalized file Gates_PTLG034_Unstim_Control_2_dup.fcs\n"
     ]
    }
   ],
   "source": [
    "cn.normalize_data(adata=dataset, file_names=filename, batches=3)"
   ]
  },
  {
   "cell_type": "markdown",
   "id": "d89c6b33-8d4e-4ce9-96c8-31b226e40964",
   "metadata": {},
   "source": [
    "The normalized values are now stored inplace!"
   ]
  },
  {
   "cell_type": "code",
   "execution_count": 14,
   "id": "62ac7b49-b5a1-4525-98e4-76a89d11b274",
   "metadata": {},
   "outputs": [
    {
     "data": {
      "text/html": [
       "<div>\n",
       "<style scoped>\n",
       "    .dataframe tbody tr th:only-of-type {\n",
       "        vertical-align: middle;\n",
       "    }\n",
       "\n",
       "    .dataframe tbody tr th {\n",
       "        vertical-align: top;\n",
       "    }\n",
       "\n",
       "    .dataframe thead th {\n",
       "        text-align: right;\n",
       "    }\n",
       "</style>\n",
       "<table border=\"1\" class=\"dataframe\">\n",
       "  <thead>\n",
       "    <tr style=\"text-align: right;\">\n",
       "      <th></th>\n",
       "      <th>Time</th>\n",
       "      <th>Event_length</th>\n",
       "      <th>Y89Di</th>\n",
       "      <th>Pd102Di</th>\n",
       "      <th>Pd104Di</th>\n",
       "      <th>Pd105Di</th>\n",
       "      <th>Pd106Di</th>\n",
       "      <th>Pd108Di</th>\n",
       "      <th>Pd110Di</th>\n",
       "      <th>In113Di</th>\n",
       "      <th>...</th>\n",
       "      <th>Yb171Di</th>\n",
       "      <th>Yb172Di</th>\n",
       "      <th>Yb173Di</th>\n",
       "      <th>Yb174Di</th>\n",
       "      <th>Lu175Di</th>\n",
       "      <th>Yb176Di</th>\n",
       "      <th>Ir191Di</th>\n",
       "      <th>Ir193Di</th>\n",
       "      <th>Pt195Di</th>\n",
       "      <th>beadDist</th>\n",
       "    </tr>\n",
       "  </thead>\n",
       "  <tbody>\n",
       "    <tr>\n",
       "      <th>7-0</th>\n",
       "      <td>134.582993</td>\n",
       "      <td>16.0</td>\n",
       "      <td>0.000000</td>\n",
       "      <td>8.679433</td>\n",
       "      <td>8.292034</td>\n",
       "      <td>75.802243</td>\n",
       "      <td>9.135942</td>\n",
       "      <td>102.328946</td>\n",
       "      <td>75.562056</td>\n",
       "      <td>0.000488</td>\n",
       "      <td>...</td>\n",
       "      <td>0.245267</td>\n",
       "      <td>2.841038</td>\n",
       "      <td>0.077476</td>\n",
       "      <td>9.155870</td>\n",
       "      <td>8.721652</td>\n",
       "      <td>20.603478</td>\n",
       "      <td>42.043896</td>\n",
       "      <td>118.089443</td>\n",
       "      <td>0.000885</td>\n",
       "      <td>27.542093</td>\n",
       "    </tr>\n",
       "    <tr>\n",
       "      <th>7-1</th>\n",
       "      <td>307.864990</td>\n",
       "      <td>25.0</td>\n",
       "      <td>0.002169</td>\n",
       "      <td>10.821452</td>\n",
       "      <td>6.606235</td>\n",
       "      <td>142.933832</td>\n",
       "      <td>124.046685</td>\n",
       "      <td>231.742272</td>\n",
       "      <td>313.555878</td>\n",
       "      <td>0.000000</td>\n",
       "      <td>...</td>\n",
       "      <td>7.293311</td>\n",
       "      <td>3.704368</td>\n",
       "      <td>13.276683</td>\n",
       "      <td>164.605647</td>\n",
       "      <td>6.250109</td>\n",
       "      <td>6.026575</td>\n",
       "      <td>58.298905</td>\n",
       "      <td>108.974573</td>\n",
       "      <td>0.000000</td>\n",
       "      <td>31.969299</td>\n",
       "    </tr>\n",
       "    <tr>\n",
       "      <th>7-2</th>\n",
       "      <td>370.299011</td>\n",
       "      <td>13.0</td>\n",
       "      <td>0.003742</td>\n",
       "      <td>32.530681</td>\n",
       "      <td>12.905950</td>\n",
       "      <td>196.132910</td>\n",
       "      <td>46.107563</td>\n",
       "      <td>261.139574</td>\n",
       "      <td>249.113909</td>\n",
       "      <td>0.000000</td>\n",
       "      <td>...</td>\n",
       "      <td>5.781553</td>\n",
       "      <td>65.096013</td>\n",
       "      <td>2.148641</td>\n",
       "      <td>0.015413</td>\n",
       "      <td>0.010149</td>\n",
       "      <td>1.321422</td>\n",
       "      <td>121.642487</td>\n",
       "      <td>260.703220</td>\n",
       "      <td>0.000000</td>\n",
       "      <td>34.630819</td>\n",
       "    </tr>\n",
       "    <tr>\n",
       "      <th>7-3</th>\n",
       "      <td>390.078003</td>\n",
       "      <td>25.0</td>\n",
       "      <td>0.000000</td>\n",
       "      <td>3.518037</td>\n",
       "      <td>5.657144</td>\n",
       "      <td>151.235453</td>\n",
       "      <td>18.623958</td>\n",
       "      <td>176.520250</td>\n",
       "      <td>121.060864</td>\n",
       "      <td>0.000488</td>\n",
       "      <td>...</td>\n",
       "      <td>3.005988</td>\n",
       "      <td>3.015534</td>\n",
       "      <td>91.248730</td>\n",
       "      <td>30.708479</td>\n",
       "      <td>0.074746</td>\n",
       "      <td>13.267579</td>\n",
       "      <td>81.579132</td>\n",
       "      <td>152.255885</td>\n",
       "      <td>0.000885</td>\n",
       "      <td>32.892003</td>\n",
       "    </tr>\n",
       "    <tr>\n",
       "      <th>7-4</th>\n",
       "      <td>723.723999</td>\n",
       "      <td>15.0</td>\n",
       "      <td>0.000000</td>\n",
       "      <td>4.033677</td>\n",
       "      <td>0.000000</td>\n",
       "      <td>23.492430</td>\n",
       "      <td>0.000000</td>\n",
       "      <td>48.940914</td>\n",
       "      <td>30.778446</td>\n",
       "      <td>3.794250</td>\n",
       "      <td>...</td>\n",
       "      <td>0.000000</td>\n",
       "      <td>0.000000</td>\n",
       "      <td>0.000000</td>\n",
       "      <td>0.180230</td>\n",
       "      <td>0.000000</td>\n",
       "      <td>3.118176</td>\n",
       "      <td>4.195136</td>\n",
       "      <td>9.201713</td>\n",
       "      <td>0.000000</td>\n",
       "      <td>31.036688</td>\n",
       "    </tr>\n",
       "  </tbody>\n",
       "</table>\n",
       "<p>5 rows × 55 columns</p>\n",
       "</div>"
      ],
      "text/plain": [
       "           Time  Event_length     Y89Di    Pd102Di    Pd104Di     Pd105Di  \\\n",
       "7-0  134.582993          16.0  0.000000   8.679433   8.292034   75.802243   \n",
       "7-1  307.864990          25.0  0.002169  10.821452   6.606235  142.933832   \n",
       "7-2  370.299011          13.0  0.003742  32.530681  12.905950  196.132910   \n",
       "7-3  390.078003          25.0  0.000000   3.518037   5.657144  151.235453   \n",
       "7-4  723.723999          15.0  0.000000   4.033677   0.000000   23.492430   \n",
       "\n",
       "        Pd106Di     Pd108Di     Pd110Di   In113Di  ...   Yb171Di    Yb172Di  \\\n",
       "7-0    9.135942  102.328946   75.562056  0.000488  ...  0.245267   2.841038   \n",
       "7-1  124.046685  231.742272  313.555878  0.000000  ...  7.293311   3.704368   \n",
       "7-2   46.107563  261.139574  249.113909  0.000000  ...  5.781553  65.096013   \n",
       "7-3   18.623958  176.520250  121.060864  0.000488  ...  3.005988   3.015534   \n",
       "7-4    0.000000   48.940914   30.778446  3.794250  ...  0.000000   0.000000   \n",
       "\n",
       "       Yb173Di     Yb174Di   Lu175Di    Yb176Di     Ir191Di     Ir193Di  \\\n",
       "7-0   0.077476    9.155870  8.721652  20.603478   42.043896  118.089443   \n",
       "7-1  13.276683  164.605647  6.250109   6.026575   58.298905  108.974573   \n",
       "7-2   2.148641    0.015413  0.010149   1.321422  121.642487  260.703220   \n",
       "7-3  91.248730   30.708479  0.074746  13.267579   81.579132  152.255885   \n",
       "7-4   0.000000    0.180230  0.000000   3.118176    4.195136    9.201713   \n",
       "\n",
       "      Pt195Di   beadDist  \n",
       "7-0  0.000885  27.542093  \n",
       "7-1  0.000000  31.969299  \n",
       "7-2  0.000000  34.630819  \n",
       "7-3  0.000885  32.892003  \n",
       "7-4  0.000000  31.036688  \n",
       "\n",
       "[5 rows x 55 columns]"
      ]
     },
     "execution_count": 14,
     "metadata": {},
     "output_type": "execute_result"
    }
   ],
   "source": [
    "dataset[dataset.obs[\"file_name\"] == filename, :].to_df(layer=\"normalized\").head()"
   ]
  },
  {
   "cell_type": "code",
   "execution_count": 15,
   "id": "97877739-cc1a-4453-958c-194264947ca6",
   "metadata": {},
   "outputs": [
    {
     "data": {
      "text/plain": [
       "AnnData object with n_obs × n_vars = 7000 × 55\n",
       "    obs: 'file_name', 'reference', 'batch', 'sample_ID'\n",
       "    layers: 'compensated', 'normalized'"
      ]
     },
     "execution_count": 15,
     "metadata": {},
     "output_type": "execute_result"
    }
   ],
   "source": [
    "dataset"
   ]
  }
 ],
 "metadata": {
  "kernelspec": {
   "display_name": "Python 3 (ipykernel)",
   "language": "python",
   "name": "python3"
  },
  "language_info": {
   "codemirror_mode": {
    "name": "ipython",
    "version": 3
   },
   "file_extension": ".py",
   "mimetype": "text/x-python",
   "name": "python",
   "nbconvert_exporter": "python",
   "pygments_lexer": "ipython3",
   "version": "3.10.14"
  }
 },
 "nbformat": 4,
 "nbformat_minor": 5
}
