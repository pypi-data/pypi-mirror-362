{
 "cells": [
  {
   "cell_type": "markdown",
   "metadata": {},
   "source": [
    "# Generating ERA5 forcing for Wflow.jl\n",
    "\n",
    "With eWaterCycle we can generate forcing data for Wflow.jl, based on the ERA5 reanalysis product.\n",
    "\n",
    "Do note that this data needs to be downloaded & ESMValTool has to be configured to be able to find the files.\n",
    "For more info see the [ewatercycle infra guide](https://github.com/eWaterCycle/infra/blob/main/README.md)."
   ]
  },
  {
   "cell_type": "code",
   "execution_count": 1,
   "metadata": {},
   "outputs": [
    {
     "name": "stderr",
     "output_type": "stream",
     "text": [
      "hwloc/linux: Ignoring PCI device with non-16bit domain.\n",
      "Pass --enable-32bits-pci-domain to configure to support such devices\n",
      "(warning: it would break the library ABI, don't enable unless really needed).\n",
      "/home/bart/micromamba/envs/ewatercycle/lib/python3.10/site-packages/esmvalcore/experimental/_warnings.py:13: UserWarning: \n",
      "  Thank you for trying out the new ESMValCore API.\n",
      "  Note that this API is experimental and may be subject to change.\n",
      "  More info: https://github.com/ESMValGroup/ESMValCore/issues/498\n"
     ]
    }
   ],
   "source": [
    "from pathlib import Path\n",
    "import numpy as np\n",
    "from ewatercycle_wflowjl.forcing.forcing import WflowJlForcing\n",
    "from ewatercycle_wflowjl.model import WflowJl\n",
    "from ewatercycle.base.parameter_set import ParameterSet\n",
    "\n",
    "parameters_humber = ParameterSet(\n",
    "    name=\"humber\",\n",
    "    directory=Path(\"/home/bart/wflow_humber\"),\n",
    "    target_model=\"WflowJl\",\n",
    "    config=\"wflow_sbm.toml\"   \n",
    ")"
   ]
  },
  {
   "cell_type": "markdown",
   "metadata": {},
   "source": [
    "## Generating forcing\n",
    "Using the WflowJlForcing class we can generate new forcing for a specific catchment.\n",
    "\n",
    "The shape file and Wflow DEM of the catchment are required."
   ]
  },
  {
   "cell_type": "code",
   "execution_count": 2,
   "metadata": {},
   "outputs": [],
   "source": [
    "wflow_forcing = WflowJlForcing.generate(\n",
    "    dataset=\"ERA5\",\n",
    "    start_time=\"1990-01-01T00:00:00Z\",\n",
    "    end_time=\"1990-12-31T00:00:00Z\",\n",
    "    shape=\"/home/bart/Documents/wflow_humber/shp/humber_catchment.shp\",\n",
    "    dem_file=\"/home/bart/Documents/wflow_humber/staticmaps.nc\",\n",
    ")"
   ]
  },
  {
   "cell_type": "markdown",
   "metadata": {},
   "source": [
    "Now the model can be set up with the parameterset and the newly generated forcing:"
   ]
  },
  {
   "cell_type": "code",
   "execution_count": 3,
   "metadata": {},
   "outputs": [],
   "source": [
    "model = WflowJl(\n",
    "    parameter_set=parameters_humber,\n",
    "    forcing=wflow_forcing\n",
    ")\n",
    "\n",
    "cfg_file,_ = model.setup()"
   ]
  },
  {
   "cell_type": "code",
   "execution_count": 4,
   "metadata": {},
   "outputs": [
    {
     "name": "stderr",
     "output_type": "stream",
     "text": [
      "[ Info: Initialize model variables for model type `sbm`.\n",
      "[ Info: Cyclic parameters are provided by `/home/bart/wflow_humber/staticmaps.nc`.\n",
      "[ Info: Forcing parameters are provided by `/home/bart/esmvaltool_output/ewcrepmp232oh2_20231027_143032/work/diagnostic/script/wflow_ERA5_humber_catchment_1990_1990.nc`.\n",
      "[ Info: Set `vertical.precipitation` using NetCDF variable `precip` as forcing parameter.\n",
      "[ Info: Set `vertical.temperature` using NetCDF variable `temp` as forcing parameter.\n",
      "[ Info: Set `vertical.potential_evaporation` using NetCDF variable `pet` as forcing parameter.\n",
      "[ Info: Set `vertical.leaf_area_index` using NetCDF variable `LAI` as cyclic parameter.\n",
      "┌ Info: General model settings\n",
      "│   reservoirs = true\n",
      "│   lakes = false\n",
      "│   snow = true\n",
      "│   masswasting = true\n",
      "└   glacier = false\n",
      "[ Info: Set `subcatchment` using NetCDF variable `wflow_subcatch`.\n",
      "[ Info: Set `river_location` using NetCDF variable `wflow_river`.\n",
      "[ Info: Set `lateral.river.width` using NetCDF variable `wflow_riverwidth`.\n",
      "[ Info: Set `lateral.river.length` using NetCDF variable `wflow_riverlength`.\n",
      "[ Info: Set `vertical.cfmax` using NetCDF variable `Cfmax`.\n",
      "[ Info: Set `vertical.tt` using NetCDF variable `TT`.\n",
      "[ Info: Set `vertical.tti` using NetCDF variable `TTI`.\n",
      "[ Info: Set `vertical.ttm` using NetCDF variable `TTM`.\n",
      "[ Info: Set `vertical.whc` using default value `0.1`.\n",
      "[ Info: Set `vertical.w_soil` using default value `0.1125`.\n",
      "[ Info: Set `vertical.cf_soil` using NetCDF variable `cf_soil`.\n",
      "[ Info: Set `vertical.g_tt` using default value `0.0`.\n",
      "[ Info: Set `vertical.g_cfmax` using default value `3.0`.\n",
      "[ Info: Set `vertical.g_sifrac` using default value `0.001`.\n",
      "[ Info: Set `vertical.glacierfrac` using default value `0.0`.\n",
      "[ Info: Set `vertical.glacierstore` using default value `5500.0`.\n",
      "[ Info: Set `vertical.theta_s` using NetCDF variable `thetaS`.\n",
      "[ Info: Set `vertical.theta_r` using NetCDF variable `thetaR`.\n",
      "[ Info: Set `vertical.kv_0` using NetCDF variable `KsatVer`.\n",
      "[ Info: Set `vertical.f` using NetCDF variable `f`.\n",
      "[ Info: Set `vertical.hb` using default value `10.0`.\n",
      "[ Info: Set `vertical.soilthickness` using NetCDF variable `SoilThickness`.\n",
      "[ Info: Set `vertical.infiltcappath` using NetCDF variable `InfiltCapPath`.\n",
      "[ Info: Set `vertical.infiltcapsoil` using NetCDF variable `InfiltCapSoil`.\n",
      "[ Info: Set `vertical.maxleakage` using NetCDF variable `MaxLeakage`.\n",
      "[ Info: Set `vertical.c` using NetCDF variable `c`.\n",
      "[ Info: Set `vertical.kvfrac` using default value `1.0`.\n",
      "[ Info: Set `vertical.waterfrac` using NetCDF variable `WaterFrac`.\n",
      "[ Info: Set `vertical.pathfrac` using NetCDF variable `PathFrac`.\n",
      "[ Info: Set `vertical.rootingdepth` using NetCDF variable `RootingDepth`.\n",
      "[ Info: Set `vertical.rootdistpar` using NetCDF variable `rootdistpar`.\n",
      "[ Info: Set `vertical.cap_hmax` using default value `2000.0`.\n",
      "[ Info: Set `vertical.cap_n` using default value `2.0`.\n",
      "[ Info: Set `vertical.et_reftopot` using default value `1.0`.\n",
      "[ Info: Set `vertical.specific_leaf` using NetCDF variable `Sl`.\n",
      "[ Info: Set `vertical.storage_wood` using NetCDF variable `Swood`.\n",
      "[ Info: Set `vertical.kext` using NetCDF variable `Kext`.\n",
      "[ Info: Set `lateral.river.reservoir.locs` using NetCDF variable `wflow_reservoirlocs`.\n",
      "[ Info: Set `lateral.river.reservoir.areas` using NetCDF variable `wflow_reservoirareas`.\n",
      "[ Info: Set `lateral.river.reservoir.demand` using NetCDF variable `ResDemand`.\n",
      "[ Info: Set `lateral.river.reservoir.maxrelease` using NetCDF variable `ResMaxRelease`.\n",
      "[ Info: Set `lateral.river.reservoir.maxvolume` using NetCDF variable `ResMaxVolume`.\n",
      "[ Info: Set `lateral.river.reservoir.area` using NetCDF variable `ResSimpleArea`.\n",
      "[ Info: Set `lateral.river.reservoir.targetfullfrac` using NetCDF variable `ResTargetFullFrac`.\n",
      "[ Info: Set `lateral.river.reservoir.targetminfrac` using NetCDF variable `ResTargetMinFrac`.\n",
      "[ Info: Read `3` reservoir locations.\n",
      "[ Info: Set `ldd` using NetCDF variable `wflow_ldd`.\n",
      "[ Info: Set `lateral.land.slope` using NetCDF variable `Slope`.\n",
      "[ Info: Set `lateral.subsurface.ksathorfrac` using NetCDF variable `KsatHorFrac`.\n",
      "┌ Info: Kinematic wave approach is used for overland flow.\n",
      "└   iterate = true\n",
      "[ Info: Using a fixed sub-timestep (seconds) 3600 for kinematic wave overland flow.\n",
      "[ Info: Set `lateral.land.n` using NetCDF variable `N`.\n",
      "┌ Info: Kinematic wave approach is used for river flow.\n",
      "└   iterate = true\n",
      "[ Info: Using a fixed sub-timestep (seconds) 900 for kinematic wave river flow.\n",
      "[ Info: Set `lateral.river.n` using NetCDF variable `N_River`.\n",
      "[ Info: Set `lateral.river.bankfull_depth` using NetCDF variable `RiverDepth`.\n",
      "[ Info: Set `lateral.river.slope` using NetCDF variable `RiverSlope`.\n",
      "[ Info: Create an output NetCDF file `/home/bart/git/pywflow/docs/wflowjl_20231027_145447/run_default/output.nc` for grid data, using compression level `0`.\n",
      "[ Info: Create a state output NetCDF file `/home/bart/git/pywflow/docs/wflowjl_20231027_145447/run_default/outstate/outstates.nc`.\n",
      "[ Info: Create an output NetCDF file `/home/bart/git/pywflow/docs/wflowjl_20231027_145447/run_default/outstate/outstates.nc` for scalar data.\n",
      "[ Info: Set `gauges_src` using NetCDF variable `wflow_gauges_src`.\n",
      "[ Info: Set `gauges_src` using NetCDF variable `wflow_gauges_src`.\n",
      "┌ Info: Adding scalar output for a map with a reducer function.\n",
      "│   fileformat = \"NetCDF\"\n",
      "│   param = \"lateral.river.q\"\n",
      "│   mapname = \"gauges_src\"\n",
      "└   reducer_name = \"only\"\n",
      "[ Info: Create an output CSV file `/home/bart/git/pywflow/docs/wflowjl_20231027_145447/run_default/output.csv` for scalar data.\n",
      "[ Info: Set `gauges` using NetCDF variable `wflow_gauges`.\n",
      "[ Info: Set `gauges_src` using NetCDF variable `wflow_gauges_src`.\n",
      "[ Info: Set `gauges_src` using NetCDF variable `wflow_gauges_src`.\n",
      "[ Info: Set `gauges` using NetCDF variable `wflow_gauges`.\n",
      "┌ Info: Adding scalar output for a map with a reducer function.\n",
      "│   fileformat = \"CSV\"\n",
      "│   param = \"lateral.river.q_av\"\n",
      "│   mapname = \"gauges\"\n",
      "└   reducer_name = \"only\"\n",
      "[ Info: Set `gauges_src` using NetCDF variable `wflow_gauges_src`.\n",
      "┌ Info: Adding scalar output for a map with a reducer function.\n",
      "│   fileformat = \"CSV\"\n",
      "│   param = \"lateral.river.q_av\"\n",
      "│   mapname = \"gauges_src\"\n",
      "└   reducer_name = \"only\"\n",
      "[ Info: Set `gauges_src` using NetCDF variable `wflow_gauges_src`.\n",
      "┌ Info: Adding scalar output for a map with a reducer function.\n",
      "│   fileformat = \"CSV\"\n",
      "│   param = \"vertical.precipitation\"\n",
      "│   mapname = \"gauges_src\"\n",
      "└   reducer_name = \"only\"\n",
      "[ Info: Set initial conditions from state file `/home/bart/wflow_humber/instate/instates.nc`.\n",
      "┌ Warning: The unit of `ssf` (lateral subsurface flow) is now m3 d-1. Please update your input state file if it was produced with a Wflow version up to v0.5.2.\n",
      "└ @ Wflow ~/.julia/packages/Wflow/aXumd/src/sbm_model.jl:457\n",
      "┌ Info: Setting initial state from NetCDF.\n",
      "│   ncpath = \"/home/bart/wflow_humber/instate/instates.nc\"\n",
      "│   ncvarname = \"satwaterdepth\"\n",
      "└   state = (:vertical, :satwaterdepth)\n",
      "┌ Info: Setting initial state from NetCDF.\n",
      "│   ncpath = \"/home/bart/wflow_humber/instate/instates.nc\"\n",
      "│   ncvarname = \"ssf\"\n",
      "└   state = (:lateral, :subsurface, :ssf)\n",
      "┌ Info: Setting initial state from NetCDF.\n",
      "│   ncpath = \"/home/bart/wflow_humber/instate/instates.nc\"\n",
      "│   ncvarname = \"h_av_land\"\n",
      "└   state = (:lateral, :land, :h_av)\n",
      "┌ Info: Setting initial state from NetCDF.\n",
      "│   ncpath = \"/home/bart/wflow_humber/instate/instates.nc\"\n",
      "│   ncvarname = \"canopystorage\"\n",
      "└   state = (:vertical, :canopystorage)\n",
      "┌ Info: Setting initial state from NetCDF.\n",
      "│   ncpath = \"/home/bart/wflow_humber/instate/instates.nc\"\n",
      "│   ncvarname = \"q_river\"\n",
      "└   state = (:lateral, :river, :q)\n",
      "┌ Info: Setting initial state from NetCDF.\n",
      "│   ncpath = \"/home/bart/wflow_humber/instate/instates.nc\"\n",
      "│   ncvarname = \"volume_reservoir\"\n",
      "└   state = (:lateral, :river, :reservoir, :volume)\n",
      "┌ Info: Setting initial state from NetCDF.\n",
      "│   ncpath = \"/home/bart/wflow_humber/instate/instates.nc\"\n",
      "│   ncvarname = \"h_land\"\n",
      "└   state = (:lateral, :land, :h)\n",
      "┌ Info: Setting initial state from NetCDF.\n",
      "│   ncpath = \"/home/bart/wflow_humber/instate/instates.nc\"\n",
      "│   ncvarname = \"tsoil\"\n",
      "└   state = (:vertical, :tsoil)\n",
      "┌ Info: Setting initial state from NetCDF.\n",
      "│   ncpath = \"/home/bart/wflow_humber/instate/instates.nc\"\n",
      "│   ncvarname = \"h_river\"\n",
      "└   state = (:lateral, :river, :h)\n",
      "┌ Info: Setting initial state from NetCDF.\n",
      "│   ncpath = \"/home/bart/wflow_humber/instate/instates.nc\"\n",
      "│   ncvarname = \"snowwater\"\n",
      "└   state = (:vertical, :snowwater)\n",
      "┌ Info: Setting initial state from NetCDF.\n",
      "│   ncpath = \"/home/bart/wflow_humber/instate/instates.nc\"\n",
      "│   ncvarname = \"ustorelayerdepth\"\n",
      "└   state = (:vertical, :ustorelayerdepth)\n",
      "┌ Info: Setting initial state from NetCDF.\n",
      "│   ncpath = \"/home/bart/wflow_humber/instate/instates.nc\"\n",
      "│   ncvarname = \"h_av_river\"\n",
      "└   state = (:lateral, :river, :h_av)\n",
      "┌ Info: Setting initial state from NetCDF.\n",
      "│   ncpath = \"/home/bart/wflow_humber/instate/instates.nc\"\n",
      "│   ncvarname = \"q_land\"\n",
      "└   state = (:lateral, :land, :q)\n",
      "┌ Info: Setting initial state from NetCDF.\n",
      "│   ncpath = \"/home/bart/wflow_humber/instate/instates.nc\"\n",
      "│   ncvarname = \"snow\"\n",
      "└   state = (:vertical, :snow)\n",
      "[ Info: Initialized model\n"
     ]
    }
   ],
   "source": [
    "model.initialize(cfg_file)"
   ]
  },
  {
   "cell_type": "markdown",
   "metadata": {},
   "source": [
    "To get some data, we can extract discharge two locations in the river network:"
   ]
  },
  {
   "cell_type": "code",
   "execution_count": 5,
   "metadata": {},
   "outputs": [],
   "source": [
    "#      Location A, Location B.\n",
    "lats = [53.274166, 53.765833,]\n",
    "lons = [-0.761666, -0.986666,]\n",
    "\n",
    "ntimesteps = int(model._bmi.get_end_time() / model._bmi.get_time_step()) - 1\n",
    "q_locs = np.zeros((ntimesteps, 2,))\n",
    "dtimes = []\n",
    "for tstep in range(q_locs.shape[0]):\n",
    "    model.update()\n",
    "    q_locs[tstep] = model.get_value_at_coords(\"lateral.river.q_av\", lats, lons)\n",
    "    dtimes.append(model.time_as_datetime)"
   ]
  },
  {
   "cell_type": "markdown",
   "metadata": {},
   "source": [
    "The resulting discharges look like the following image:"
   ]
  },
  {
   "cell_type": "code",
   "execution_count": 6,
   "metadata": {},
   "outputs": [
    {
     "data": {
      "text/plain": [
       "Text(0, 0.5, 'discharge [m3/s]')"
      ]
     },
     "execution_count": 6,
     "metadata": {},
     "output_type": "execute_result"
    },
    {
     "data": {
      "image/png": "[encoded data removed]",
      "text/plain": [
       "<Figure size 640x480 with 1 Axes>"
      ]
     },
     "metadata": {},
     "output_type": "display_data"
    }
   ],
   "source": [
    "import matplotlib.pyplot as plt\n",
    "plt.plot(dtimes, q_locs[:, 0])\n",
    "plt.plot(dtimes, q_locs[:, 1])\n",
    "plt.xlabel(\"time\")\n",
    "plt.ylabel(\"discharge [m3/s]\")"
   ]
  },
  {
   "cell_type": "code",
   "execution_count": null,
   "metadata": {},
   "outputs": [],
   "source": []
  }
 ],
 "metadata": {
  "kernelspec": {
   "display_name": "Python 3",
   "language": "python",
   "name": "python3"
  },
  "language_info": {
   "codemirror_mode": {
    "name": "ipython",
    "version": 3
   },
   "file_extension": ".py",
   "mimetype": "text/x-python",
   "name": "python",
   "nbconvert_exporter": "python",
   "pygments_lexer": "ipython3",
   "version": "3.10.0"
  }
 },
 "nbformat": 4,
 "nbformat_minor": 2
}
