{
 "cells": [
  {
   "cell_type": "markdown",
   "id": "642dbba6-cb24-4d6c-945b-c0a069f69573",
   "metadata": {},
   "source": [
    "# Convergence\n",
    "\n",
    "There are a few input parameters that can help ease convergence of the interior-atmosphere coupling algorithm. These are:\n",
    "\n",
    "- The **radius initial guess** in Earth radii: ``Rguess`` (default value is 11.2 Earth radii)\n",
    "- The **mass power law**: ``pow_law_formass`` (default value is 0.32)\n",
    "- The **tolerance**: ``tolerance`` (default value is 0.001)\n",
    "\n",
    "``Rguess`` and ``tolerance`` are specified in the ``main()`` functions of the coupling and thermal evolution classes, while ``pow_law_formass`` is defined when the class is created. If the algorithm does not converge after 20 iterations, the power law will be reduced by 0.05 until convergence is reached. In that case, a message similar to the following will be displayed: \n",
    "\n",
    ".. code-block:: language\n",
    "\n",
    "   Warning in Coupling.py: The number of interior-atmosphere iterations is greater than 20 \n",
    "   The current relative difference between radii is 0.00294796\n",
    "   Readjusting mass power law to 0.315\n",
    "\n",
    "We recommend increasing the tolerance only as a last resort, as this may risk producing a least accurate interior-atmosphere model.\n",
    "\n",
    "On another note, a high ``pow_law_formass`` can lead to the following error, which concerns only the interior model (not the interior-atmosphere algorithm):\n",
    "\n",
    ".. code-block:: language\n",
    "\n",
    "   Error in interior structure model (Fortran): Mass of core layer is NaN\n",
    "   This is likely due to a spatial resolution of the radius grid that is\n",
    "   too small to resolve the size of the core\n",
    "   Increase the resolution of the grid by setting a lower value for the\n",
    "   input parameter pow_law_formass\n",
    "\n",
    "After showing this message, the program execution will stop. We recommend decreasing the power law parameter by 0.05 manually. This may be needed for planets with low masses (i.e Neptune or sub-Neptune mass) and/or with high metal content. The ``pow_law_formass`` parameter should not be lower than 0.29.\n",
    "\n",
    "Finally, there is a parameter that controls the maximum number of the interior model (not the interior-atmosphere algorithm), ``j_max``. This is specified in the ``main()`` functions of the coupling and thermal evolution classes. The default value is 30, which works for most models with surface pressure ``P_surf`` = 1000 bar. For lower surface pressures, or planets with very low surface gravity (see example below), the interior model may need more than 30 iterations to reach convergence. In that case, the following message will be displayed: \n",
    "\n",
    ".. code-block:: language\n",
    "\n",
    "   Running interior structure model\n",
    "   [i] Allowed maximum number of iterations reached.\n",
    "\n",
    "\n",
    "We recommend increasing ``j_max``, to no more than ``j_max = 99``. Sometimes, even if ``j_max`` is in its maximum value and the final radius has converged, the message above can be displayed. This is due to the fact that the interior model uses a precision of 1e-5 to check if the interior structure profiles have converged. A good way to check if this is the case is to plot the evolution of the planet radius and layer interfaces with iteration number. This information is in the ``myplanet.intrf_hist`` and ``myplanet.iter_num`` arrays.\n"
   ]
  },
  {
   "cell_type": "code",
   "execution_count": 1,
   "id": "fcf1bea7-96b5-4782-bbd4-796b86ed36bd",
   "metadata": {},
   "outputs": [
    {
     "name": "stdout",
     "output_type": "stream",
     "text": [
      "\n",
      "Running interior structure model\n",
      " [i] Allowed maximum number of iterations reached.\n",
      " \n",
      "\n",
      "Running interior structure model\n",
      " [i] Allowed maximum number of iterations reached.\n",
      " \n",
      "\n",
      "Running interior structure model\n",
      " [i] Allowed maximum number of iterations reached.\n",
      " \n",
      "\n",
      "Running interior structure model\n",
      " [i] Allowed maximum number of iterations reached.\n",
      " \n",
      "\n",
      "Running interior structure model\n",
      " [i] Allowed maximum number of iterations reached.\n",
      " \n",
      "\n",
      "Convergence reached in surface temperature and bulk radius\n",
      "\n",
      "log(Fe/H) atm [x solar] (input) =  0.0\n",
      "C/O atm (input) =  0.55\n",
      "Zenv (output) =  0.012951408685528722\n",
      "Total planet mass M [M_earth] =  50.24370411690289\n",
      "Temperature at 1000 bar [K] =  2960.795466160583\n",
      "Planet bulk radius [R_jup] =  0.9690601298023125\n",
      "log10_g: Planet surface gravity (1000 bar) [cm/s2] =  2.617419244680929\n",
      "Total planet radius [R_jup] =  1.1924782872618327\n",
      "Total metal mass [M_earth] =  5.6100244829938015\n"
     ]
    },
    {
     "data": {
      "text/plain": [
       "\"\\n# Save plot\\nfig.savefig('convergence_tutorial.pdf', bbox_inches='tight', format='pdf', dpi=1000)\\nplt.close(fig)\\n\""
      ]
     },
     "execution_count": 1,
     "metadata": {},
     "output_type": "execute_result"
    },
    {
     "data": {
      "image/png": "[encoded data removed]",
      "text/plain": [
       "<Figure size 600x600 with 1 Axes>"
      ]
     },
     "metadata": {},
     "output_type": "display_data"
    }
   ],
   "source": [
    "# Import GASTLI modules\n",
    "import gastli.Coupling as cpl\n",
    "import gastli.constants as cte\n",
    "# Other Python modules\n",
    "import numpy as np\n",
    "import matplotlib.pyplot as plt\n",
    "# Create coupling class\n",
    "my_coupling = cpl.coupling(j_max=99, pow_law_formass=0.31)\n",
    "# Input for interior\n",
    "M_P = 50.\n",
    "# Internal and equilibrium temperatures\n",
    "Tintpl = 150.\n",
    "Teqpl = 1000.\n",
    "# Core mass fraction\n",
    "CMF = 0.1\n",
    "# Call to coupled interior-atm. model (and time it)\n",
    "my_coupling.main(M_P, CMF, Teqpl, Tintpl, CO=0.55, log_FeH=0.,Rguess=6.)\n",
    "# Composition input\n",
    "print(\"log(Fe/H) atm [x solar] (input) = \",my_coupling.myatmmodel.log_FeH)\n",
    "print(\"C/O atm (input) = \",my_coupling.myatmmodel.CO)\n",
    "# Output\n",
    "print(\"Zenv (output) = \",my_coupling.myatmmodel.Zenv_pl)\n",
    "print(\"Total planet mass M [M_earth] = \",my_coupling.Mtot)\n",
    "print(\"Temperature at 1000 bar [K] = \",my_coupling.T_surf)\n",
    "print(\"Planet bulk radius [R_jup] = \",my_coupling.Rbulk_Rjup)\n",
    "print(\"log10_g: Planet surface gravity (1000 bar) [cm/s2] = \",np.log10(my_coupling.g_surf_planet))\n",
    "print(\"Total planet radius [R_jup] = \",my_coupling.Rtot)\n",
    "tmm = my_coupling.Mtot*CMF + my_coupling.Mtot*(1-CMF)*my_coupling.myatmmodel.Zenv_pl\n",
    "print(\"Total metal mass [M_earth] = \",tmm)\n",
    "# Arrays for convergence check\n",
    "base = my_coupling.myplanet.intrf_hist[0,:]\n",
    "core = my_coupling.myplanet.intrf_hist[1,:]\n",
    "envelope = my_coupling.myplanet.intrf_hist[2,:]\n",
    "surface = my_coupling.myplanet.intrf_hist[3,:]\n",
    "x = my_coupling.myplanet.iter_num\n",
    "r = my_coupling.myplanet.r/cte.constants.r_e\n",
    "mask = core != 0\n",
    "# Plot to check convergence\n",
    "fig = plt.figure(figsize=(6, 6))\n",
    "ax = fig.add_subplot(1, 1, 1)\n",
    "plt.plot(x[mask], r[base[mask]-1], linestyle='solid', color='black')\n",
    "plt.plot(x[mask], r[core[mask]-1], linestyle='solid', color='brown')\n",
    "plt.plot(x[mask], r[envelope[mask]-1], linestyle='solid', color='deepskyblue')\n",
    "plt.plot(x[mask], r[surface[mask]-2], linestyle='solid', color='grey')\n",
    "ax.fill_between(x[mask], r[base[mask]-1], r[core[mask]-1], facecolor='brown',alpha=0.5)\n",
    "ax.fill_between(x[mask], r[core[mask]-1], r[envelope[mask]-1], facecolor='deepskyblue',alpha=0.5)\n",
    "plt.xlabel(r'Iteration #', fontsize=16)\n",
    "plt.ylabel(r'Radius [$R_{\\oplus}$]', fontsize=16)\n",
    "plt.xlim(0, 100)\n",
    "'''\n",
    "# Save plot\n",
    "fig.savefig('convergence_tutorial.pdf', bbox_inches='tight', format='pdf', dpi=1000)\n",
    "plt.close(fig)\n",
    "'''"
   ]
  },
  {
   "cell_type": "markdown",
   "id": "ba1d8d57-adcc-433f-a231-3f0752cbe72f",
   "metadata": {},
   "source": [
    "In this plot, the blue shade corresponds to the envelope layer, while the brown one represents the core. The radii of the core and the envelope converge to constant values at approximately 40 iterations."
   ]
  }
 ],
 "metadata": {
  "kernelspec": {
   "display_name": "Python 3 (ipykernel)",
   "language": "python",
   "name": "python3"
  },
  "language_info": {
   "codemirror_mode": {
    "name": "ipython",
    "version": 3
   },
   "file_extension": ".py",
   "mimetype": "text/x-python",
   "name": "python",
   "nbconvert_exporter": "python",
   "pygments_lexer": "ipython3",
   "version": "3.10.12"
  }
 },
 "nbformat": 4,
 "nbformat_minor": 5
}
