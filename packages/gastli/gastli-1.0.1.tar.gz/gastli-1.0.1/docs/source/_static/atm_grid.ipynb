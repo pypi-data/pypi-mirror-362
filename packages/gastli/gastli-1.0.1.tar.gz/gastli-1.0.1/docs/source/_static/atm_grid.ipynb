{
 "cells": [
  {
   "cell_type": "markdown",
   "id": "642dbba6-cb24-4d6c-945b-c0a069f69573",
   "metadata": {},
   "source": [
    "\n",
    "# Atmospheric grid\n",
    "\n",
    "\n",
    "\n",
    "In this section, we indicate the applicability range of the default atmospheric grid, as well as the possible error messages associated to the atmospheric grid and what they mean. Finally, if the default grid does not cover the parameter space that you need (i.e higher equilibrium temperatures, higher metallicity in the envelope) or you want to change the assumptions on the atmosphere (i.e include clouds), we explain how you can use your custom atmospheric grid with GASTLI.\n",
    "\n",
    "\n",
    "Default grid\n",
    "============\n",
    "\n",
    "Applicability\n",
    "-------------\n",
    "\n",
    "The range of parameter values convered by the default grid of atmospheric models is indicated in the table below. The limiting log-metallicities correspond to an almost pure H/He envelope (0.01 x solar) to a 80% mass fraction in metals (250 x solar). The surface gravity of an interior-atmosphere model is not known a priori since it depends on the interior composition that is assumed. However, we can provide approximate estimates: for a log-surface gravity of 2.6 cgs, the mass is approximately 15-20 Earth masses, while a log-surface gravity of 4.18 cgs corresponds to planets between 5 and 6.5 Jupiter masses.  \n",
    "\n",
    ".. figure:: petitcode_grid.jpeg\n",
    "   :align: center\n",
    "\n",
    "   Table 1 in Acuña et al. Submitted, which shows the applicability of GASTLI's default atmospheric grid.\n",
    "\n",
    "The atmospheric grid is interpolated using Python's ``scipy.interpolate.RegularGridInterpolator``, with the flags ``bounds_error=False`` and ``fill_value=None``. This means that if a parameter is outside of the atmospheric grid domain, extrapolation is performed. In that case, GASTLI will not stop the calculation, but it will display a message such as this: \n",
    "\n",
    ".. code-block:: language\n",
    "\n",
    "   Surface gravity is out of atmospheric grid limits. Extrapolating\n",
    "\n",
    "\n",
    "Troubleshooting\n",
    "---------------\n",
    "\n",
    "The default surface pressure in the atmospheric grid and the interior-atmosphere coupling is 1000 bar. However, such high pressure can be challenging for the convergence of some atmospheric models, especially at low surface gravities, high log-metallicities, and high internal temperatures. For these models, we fill the pressures between their maximum possible pressure (9.5 bar) and 1000 bar with ``np.nan``. This enables us to keep the atmospheric grid regular in 6 dimensions. Regular grids are faster to interpolate than irregular grids. If your interior-atmosphere model requires interpolating atmospheric models for which 9.5 bar is the maximum pressure, but you have the default surface pressure of 1000 bar, GASTLI will stop the computation and show the following message:\n",
    "\n",
    ".. code-block:: language\n",
    "\n",
    "   No atmospheric models available for this case (np.nan in grid).\n",
    "   Decrease the interior temperature or decrease the surface pressure\n",
    "\n",
    "If you try to run this same model without specifying ``P_surf``, the default of 1000 bar will be assumed, and the error above will be shown. Hence, we recommend to decrease the surface pressure by specifying it in the ``main()`` function of the coupling class. Example:\n"
   ]
  },
  {
   "cell_type": "code",
   "execution_count": 1,
   "id": "fcf1bea7-96b5-4782-bbd4-796b86ed36bd",
   "metadata": {},
   "outputs": [
    {
     "name": "stdout",
     "output_type": "stream",
     "text": [
      "\n",
      "Running interior structure model\n",
      " [i] Allowed maximum number of iterations reached.\n",
      " \n",
      "\n",
      "Running interior structure model\n",
      " [i] Allowed maximum number of iterations reached.\n",
      " \n",
      "\n",
      "Running interior structure model\n",
      " [i] Allowed maximum number of iterations reached.\n",
      " \n",
      "\n",
      "Running interior structure model\n",
      " [i] Allowed maximum number of iterations reached.\n",
      " \n",
      "\n",
      "Convergence reached in surface temperature and bulk radius\n",
      "\n"
     ]
    }
   ],
   "source": [
    "# Import coupling module\n",
    "import gastli.Coupling as cpl\n",
    "# Other Python modules\n",
    "import numpy as np\n",
    "# Create coupling class\n",
    "my_coupling = cpl.coupling(j_max=99, pow_law_formass=0.31)\n",
    "# Input for interior\n",
    "M_P = 50.\n",
    "# Internal and equilibrium temperatures\n",
    "Tintpl = 700.\n",
    "Teqpl = 1000.\n",
    "# Core mass fraction\n",
    "CMF = 0.5\n",
    "# Run model with P_surf at 9.5 bar\n",
    "my_coupling.main(M_P, CMF, Teqpl, Tintpl, CO=0.55, log_FeH=2.4,Rguess=6.,P_surf=9.5)"
   ]
  },
  {
   "cell_type": "markdown",
   "id": "ba1d8d57-adcc-433f-a231-3f0752cbe72f",
   "metadata": {},
   "source": [
    "If you are running a thermal evolution class, you can specify at which surface pressures you want each of the model of the sequence to be calculated at. This is done by setting ``P_surf`` to an array of the same length as ``Tint_array`` in the ``main()`` function of the thermal evolution class.\n",
    "\n",
    ".. important::\n",
    "\n",
    "   If you are calculating a thermal sequence, our recommendation is to calculate the models at low internal temperature with     ``P_surf`` = 1000 bar (default), and the models at high internal temperature with ``P_surf=9.5`` bar. Do not calculate all models at 9.5 bar! At low temperatures, the entropy’s slope becomes flat with time, and makes it difficult to integrate the luminosity equation. Specify the surface pressure for each model as shown in the example below.\n",
    "\n",
    "\n",
    "Here is an example:"
   ]
  },
  {
   "cell_type": "code",
   "execution_count": null,
   "id": "6f0719b4-3367-4f84-b13a-ae51ae717a91",
   "metadata": {},
   "outputs": [],
   "source": [
    "# Import GASTLI thermal module\n",
    "import gastli.Thermal_evolution as therm\n",
    "import gastli.constants as cte\n",
    "# Other Python modules\n",
    "import numpy as np\n",
    "import matplotlib.pyplot as plt\n",
    "# Create thermal evolution class object\n",
    "my_therm_obj = therm.thermal_evolution()\n",
    "# Input for interior\n",
    "M_P = 100.     # Earth units\n",
    "# Equilibrium temperatures\n",
    "Teqpl = 700.\n",
    "# Core mass fraction\n",
    "CMF = 0.2\n",
    "log_FeH = 1.\n",
    "Tint_array = np.asarray([50., 100., 200., 300., 400., 500., 600., 700., 800.])\n",
    "# Specify the surface pressure of each model in the thermal sequence\n",
    "# Models with Tint=50 to 300 K have Psurf=1000 bar, while Tint=400 to 800 K have Psurf=9.5 bar\n",
    "P_surf_array = np.asarray([1e3, 1e3, 1e3, 1e3, 9.5, 9.5, 9.5, 9.5, 9.5])\n",
    "my_therm_obj.main(M_P, CMF, Teqpl, Tint_array, log_FeH=log_FeH,P_surf=P_surf_array)\n",
    "my_therm_obj.solve_thermal_evol_eq(t_Gyr=np.linspace(2.1e-6, 15., 10000))"
   ]
  }
 ],
 "metadata": {
  "kernelspec": {
   "display_name": "Python 3 (ipykernel)",
   "language": "python",
   "name": "python3"
  },
  "language_info": {
   "codemirror_mode": {
    "name": "ipython",
    "version": 3
   },
   "file_extension": ".py",
   "mimetype": "text/x-python",
   "name": "python",
   "nbconvert_exporter": "python",
   "pygments_lexer": "ipython3",
   "version": "3.10.12"
  }
 },
 "nbformat": 4,
 "nbformat_minor": 5
}
