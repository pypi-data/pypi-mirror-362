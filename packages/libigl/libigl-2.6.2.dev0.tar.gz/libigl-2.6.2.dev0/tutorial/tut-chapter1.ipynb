{
 "cells": [
  {
   "cell_type": "markdown",
   "metadata": {},
   "source": [
    "# Chapter 1: Discrete Geometric Quantities and Operators\n",
    "[![PyPI version](https://badge.fury.io/py/libigl.svg)](https://pypi.org/project/libigl/)\n",
    "[![buildwheels](https://github.com/libigl/libigl-python-bindings/actions/workflows/wheels.yml/badge.svg)](https://github.com/libigl/libigl-python-bindings/actions/workflows/wheels.yml?query=branch%3Amain)"
   ]
  },
  {
   "cell_type": "code",
   "execution_count": null,
   "metadata": {},
   "outputs": [],
   "source": [
    "import igl\n",
    "import scipy as sp\n",
    "import numpy as np\n",
    "from meshplot import plot, subplot, interact\n",
    "\n",
    "import os\n",
    "root_folder = os.getcwd()\n",
    "#root_folder = os.path.join(os.getcwd(), \"tutorial\")"
   ]
  },
  {
   "cell_type": "markdown",
   "metadata": {},
   "source": [
    "This chapter illustrates a few discrete quantities that libigl can compute on a mesh and the libigl functions that construct popular discrete differential geometry operators. It also provides an introduction to basic drawing and coloring routines of our viewer."
   ]
  },
  {
   "cell_type": "markdown",
   "metadata": {},
   "source": [
    "## Gaussian curvature\n",
    "\n",
    "Gaussian curvature on a continuous surface is defined as the product of the\n",
    "principal curvatures:\n",
    "\n",
    " $k_G = k_1 k_2.$\n",
    "\n",
    "As an _intrinsic_ measure, it depends on the metric and\n",
    "not the surface's embedding.\n",
    "\n",
    "Intuitively, Gaussian curvature tells how locally spherical or _elliptic_ the\n",
    "surface is ( $k_G>0$ ), how locally saddle-shaped or _hyperbolic_ the surface\n",
    "is ( $k_G<0$ ), or how locally cylindrical or _parabolic_ ( $k_G=0$ ) the\n",
    "surface is.\n",
    "\n",
    "In the discrete setting, one definition for a \"discrete Gaussian curvature\"\n",
    "on a triangle mesh is via a vertex's _angular deficit_:\n",
    "\n",
    " $k_G(v_i) = 2π - \\sum\\limits_{j\\in N(i)}θ_{ij},$\n",
    "\n",
    "where $N(i)$ are the triangles incident on vertex $i$ and $θ_{ij}$ is the angle\n",
    "at vertex $i$ in triangle $j$ <cite data-cite=\"meyer2003\">(Meyer, 2003)</cite>.\n",
    "\n",
    "Just like the continuous analog, our discrete Gaussian curvature reveals\n",
    "elliptic, hyperbolic and parabolic vertices on the domain.\n",
    "\n",
    "Let's compute Gaussian curvature and visualize it in pseudocolor. First, calculate the curvature with libigl and then plot it in pseudocolors."
   ]
  },
  {
   "cell_type": "code",
   "execution_count": null,
   "metadata": {},
   "outputs": [],
   "source": [
    "v, f = igl.read_triangle_mesh(os.path.join(root_folder, \"data\", \"bumpy.off\"))\n",
    "k = igl.gaussian_curvature(v, f)\n",
    "plot(v, f, k)"
   ]
  },
  {
   "cell_type": "markdown",
   "metadata": {},
   "source": [
    "Next, compute the massmatrix and divide the gaussian curvature values by area to get the integral average."
   ]
  },
  {
   "cell_type": "code",
   "execution_count": null,
   "metadata": {},
   "outputs": [],
   "source": [
    "m = igl.massmatrix(v, f, igl.MASSMATRIX_TYPE_VORONOI)\n",
    "minv = sp.sparse.diags(1 / m.diagonal())\n",
    "kn = minv.dot(k)\n",
    "plot(v, f, kn)"
   ]
  },
  {
   "cell_type": "markdown",
   "metadata": {},
   "source": [
    "## Curvature directions\n",
    "The two principal curvatures $(k_1,k_2)$ at a point on a surface measure how\n",
    "much the surface bends in different directions. The directions of maximum and\n",
    "minimum (signed) bending are called principal directions and are always\n",
    "orthogonal.\n",
    "\n",
    "Mean curvature is defined as the average of principal curvatures:\n",
    "\n",
    " $H = \\frac{1}{2}(k_1 + k_2).$\n",
    "\n",
    "One way to extract mean curvature is by examining the Laplace-Beltrami operator\n",
    "applied to the surface positions. The result is a so-called mean-curvature\n",
    "normal:\n",
    "\n",
    "  $-\\Delta \\mathbf{x} = H \\mathbf{n}.$\n",
    "\n",
    "It is easy to compute this on a discrete triangle mesh in libigl using the\n",
    "cotangent Laplace-Beltrami operator <cite data-cite=\"meyer2003\">(Meyer, 2003)</cite>. "
   ]
  },
  {
   "cell_type": "code",
   "execution_count": null,
   "metadata": {},
   "outputs": [],
   "source": [
    "l = igl.cotmatrix(v, f)\n",
    "m = igl.massmatrix(v, f, igl.MASSMATRIX_TYPE_VORONOI)\n",
    "\n",
    "minv = sp.sparse.diags(1 / m.diagonal())\n",
    "\n",
    "hn = -minv.dot(l.dot(v))\n",
    "h = np.linalg.norm(hn, axis=1)\n",
    "plot(v, f, h)"
   ]
  },
  {
   "cell_type": "markdown",
   "metadata": {},
   "source": [
    "Combined with the angle defect definition of discrete Gaussian curvature, one\n",
    "can define principal curvatures and use least squares fitting to find\n",
    "directions  <cite data-cite=\"meyer2003\">(Meyer, 2003)</cite>.\n",
    "\n",
    "Alternatively, a robust method for determining principal curvatures is via\n",
    "quadric fitting  <cite data-cite=\"panozzo2010\">(Panozzo, 2010)</cite>. In the neighborhood around every vertex, a\n",
    "best-fit quadric is found and principal curvature values and directions are\n",
    "analytically computed on this quadric."
   ]
  },
  {
   "cell_type": "code",
   "execution_count": null,
   "metadata": {},
   "outputs": [],
   "source": [
    "v1, v2, k1, k2 = igl.principal_curvature(v, f)\n",
    "h2 = 0.5 * (k1 + k2)\n",
    "p = plot(v, f, h2, shading={\"wireframe\": False}, return_plot=True)\n",
    "\n",
    "avg = igl.avg_edge_length(v, f) / 2.0\n",
    "p.add_lines(v + v1 * avg, v - v1 * avg, shading={\"line_color\": \"red\"})\n",
    "p.add_lines(v + v2 * avg, v - v2 * avg, shading={\"line_color\": \"green\"})"
   ]
  },
  {
   "cell_type": "markdown",
   "metadata": {},
   "source": [
    "## Gradient\n",
    "Scalar functions on a surface can be discretized as a piecewise linear function\n",
    "with values defined at each mesh vertex:\n",
    "\n",
    " $f(\\mathbf{x}) \\approx \\sum\\limits_{i=1}^n \\phi_i(\\mathbf{x})\\, f_i,$\n",
    "\n",
    "where $\\phi_i$ is a piecewise linear hat function defined by the mesh so that\n",
    "for each triangle $\\phi_i$ is _the_ linear function which is one only at\n",
    "vertex $i$ and zero at the other corners.\n",
    "\n",
    "![Hat function $\\phi_i$ is one at vertex $i$, zero at all other vertices, and linear on incident triangles.](images/hat-function.jpg)\n",
    "\n",
    "Thus gradients of such piecewise linear functions are simply sums of gradients\n",
    "of the hat functions:\n",
    "\n",
    " $\\nabla f(\\mathbf{x}) \\approx\n",
    " \\nabla \\sum\\limits_{i=1}^n \\phi_i(\\mathbf{x})\\, f_i =\n",
    " \\sum\\limits_{i=1}^n \\nabla \\phi_i(\\mathbf{x})\\, f_i.$\n",
    "\n",
    "This reveals that the gradient is a linear function of the vector of $f_i$\n",
    "values. Because the $\\phi_i$ are linear in each triangle, their gradients are\n",
    "_constant_ in each triangle. Thus our discrete gradient operator can be written\n",
    "as a matrix multiplication taking vertex values to triangle values:\n",
    "\n",
    " $\\nabla f \\approx \\mathbf{G}\\,\\mathbf{f},$\n",
    "\n",
    "where $\\mathbf{f}$ is $n\\times 1$ and $\\mathbf{G}$ is an $md\\times n$ sparse\n",
    "matrix. This matrix $\\mathbf{G}$ can be derived geometrically <cite data-cite=\"jacobson2013\">(Jacobson, 2013)</cite>.\n",
    "\n",
    "Libigl's `grad` function computes $\\mathbf{G}$ for\n",
    "triangle and tetrahedral meshes. \n",
    "Let's see how this works. First load a mesh and a corresponding surface function.\n",
    "Next, compute the gradient operator g (#F*3 x #V) on the triangle mesh, apply it to the surface function and extract the magnitude."
   ]
  },
  {
   "cell_type": "code",
   "execution_count": null,
   "metadata": {},
   "outputs": [],
   "source": [
    "v, f = igl.read_triangle_mesh(os.path.join(root_folder, \"data\", \"cheburashka.off\"))\n",
    "u = igl.read_dmat(os.path.join(root_folder, \"data\", \"cheburashka-scalar.dmat\"))\n",
    "\n",
    "g = igl.grad(v, f)\n",
    "gu = g.dot(u).reshape(f.shape, order=\"F\")\n",
    "\n",
    "gu_mag = np.linalg.norm(gu, axis=1)\n",
    "p = plot(v, f, u, shading={\"wireframe\":False}, return_plot=True)\n",
    "\n",
    "max_size = igl.avg_edge_length(v, f) / np.mean(gu_mag)\n",
    "bc = igl.barycenter(v, f)\n",
    "bcn = bc + max_size * gu\n",
    "p.add_lines(bc, bcn, shading={\"line_color\": \"black\"})"
   ]
  },
  {
   "cell_type": "markdown",
   "metadata": {},
   "source": [
    "## Laplacian\n",
    "\n",
    "The discrete Laplacian is an essential geometry processing tool. Many\n",
    "interpretations and flavors of the Laplace and Laplace-Beltrami operator exist.\n",
    "\n",
    "In open Euclidean space, the _Laplace_ operator is the usual divergence of\n",
    "gradient (or equivalently the Laplacian of a function is the trace of its\n",
    "Hessian):\n",
    "\n",
    " $\\Delta f =\n",
    " \\frac{\\partial^2 f}{\\partial x^2} +\n",
    " \\frac{\\partial^2 f}{\\partial y^2} +\n",
    " \\frac{\\partial^2 f}{\\partial z^2}.$\n",
    "\n",
    "The _Laplace-Beltrami_ operator generalizes this to surfaces.\n",
    "\n",
    "When considering piecewise-linear functions on a triangle mesh, a discrete\n",
    "Laplacian may be derived in a variety of ways. The most popular in geometry\n",
    "processing is the so-called \"cotangent Laplacian\" $\\mathbf{L}$, arising\n",
    "simultaneously from FEM, DEC and applying divergence theorem to vertex\n",
    "one-rings. As a linear operator taking vertex values to vertex values, the\n",
    "Laplacian $\\mathbf{L}$ is a $n\\times n$ matrix with elements:\n",
    "\n",
    "$L_{ij} = \\begin{cases}j \\in N(i) &\\cot \\alpha_{ij} + \\cot \\beta_{ij},\\\\\n",
    "j \\notin N(i) & 0,\\\\\n",
    "i = j & -\\sum\\limits_{k\\neq i} L_{ik},\n",
    "\\end{cases}$\n",
    "\n",
    "where $N(i)$ are the vertices adjacent to (neighboring) vertex $i$, and\n",
    "$\\alpha_{ij},\\beta_{ij}$ are the angles opposite to edge ${ij}$.\n",
    "\n",
    "Libigl implements discrete \"cotangent Laplacians\" for triangles meshes and\n",
    "tetrahedral meshes, building both with fast geometric rules rather than \"by the\n",
    "book\" FEM construction which involves many (small) matrix inversions <cite data-cite=\"sharf_2007\">(Sharf, 2007)</cite>.\n",
    "\n",
    "First, load a triangle mesh and then calculate the Laplace-Beltrami operator, visualize the normals as pseudocolors."
   ]
  },
  {
   "cell_type": "code",
   "execution_count": null,
   "metadata": {},
   "outputs": [],
   "source": [
    "from scipy.sparse.linalg import spsolve\n",
    "\n",
    "v, f = igl.read_triangle_mesh(os.path.join(root_folder, \"data\", \"cow.off\"))\n",
    "l = igl.cotmatrix(v, f)\n",
    "\n",
    "n = igl.per_vertex_normals(v, f)*0.5+0.5\n",
    "c = np.linalg.norm(n, axis=1)\n",
    "\n",
    "\n",
    "vs = [v]\n",
    "cs = [c]\n",
    "for i in range(10):\n",
    "    m = igl.massmatrix(v, f, igl.MASSMATRIX_TYPE_BARYCENTRIC)\n",
    "    s = (m - 0.001 * l)\n",
    "    b = m.dot(v)\n",
    "    v = spsolve(s, m.dot(v))\n",
    "    n = igl.per_vertex_normals(v, f)*0.5+0.5\n",
    "    c = np.linalg.norm(n, axis=1)\n",
    "    vs.append(v)\n",
    "    cs.append(c)\n",
    "    \n",
    "    \n",
    "p = subplot(vs[0], f, c, shading={\"wireframe\": False}, s=[1, 4, 0])\n",
    "subplot(vs[3], f, c, shading={\"wireframe\": False}, s=[1, 4, 1], data=p)\n",
    "subplot(vs[6], f, c, shading={\"wireframe\": False}, s=[1, 4, 2], data=p)\n",
    "subplot(vs[9], f, c, shading={\"wireframe\": False}, s=[1, 4, 3], data=p)\n",
    "\n",
    "# @interact(level=(0, 9))\n",
    "# def mcf(level=0):\n",
    "#     p.update_object(vertices=vs[level], colors=cs[level])"
   ]
  },
  {
   "cell_type": "markdown",
   "metadata": {},
   "source": [
    "The operator applied to mesh vertex positions amounts to smoothing by _flowing_\n",
    "the surface along the mean curvature normal direction. Note that this is equivalent to minimizing surface area. The following example computes conformalized mean curvature flow using the cotangent Laplacian <cite data-cite=\"kazhdan_2012\">(Kazhdan, 2012)</cite> "
   ]
  },
  {
   "cell_type": "markdown",
   "metadata": {},
   "source": [
    "## Mass matrix\n",
    "The mass matrix $\\mathbf{M}$ is another $n \\times n$ matrix which takes vertex\n",
    "values to vertex values. From an FEM point of view, it is a discretization of\n",
    "the inner-product: it accounts for the area around each vertex. Consequently,\n",
    "$\\mathbf{M}$ is often a diagonal matrix, such that $M_{ii}$ is the barycentric\n",
    "or voronoi area around vertex $i$ in the mesh <cite data-cite=\"meyer_2003\">(Meyer, 2003)</cite>. The inverse of this matrix is also very useful as it transforms integrated quantities into point-wise quantities, e.g.:\n",
    "\n",
    " $\\Delta f \\approx \\mathbf{M}^{-1} \\mathbf{L} \\mathbf{f}.$\n",
    "\n",
    "In general, when encountering squared quantities integrated over the surface,\n",
    "the mass matrix will be used as the discretization of the inner product when\n",
    "sampling function values at vertices:\n",
    "\n",
    " $\\int_S x\\, y\\ dA \\approx \\mathbf{x}^T\\mathbf{M}\\,\\mathbf{y}.$\n",
    "\n",
    "An alternative mass matrix $\\mathbf{T}$ is a $md \\times md$ matrix which takes\n",
    "triangle vector values to triangle vector values. This matrix represents an\n",
    "inner-product accounting for the area associated with each triangle (i.e. the\n",
    "triangles true area).\n",
    "\n",
    "## Alternative construction of Laplacian\n",
    "\n",
    "An alternative construction of the discrete cotangent Laplacian is by\n",
    "\"squaring\" the discrete gradient operator. This may be derived by applying\n",
    "Green's identity (ignoring boundary conditions for the moment):\n",
    "\n",
    "  $\\int_S \\|\\nabla f\\|^2 dA = \\int_S f \\Delta f dA$\n",
    "\n",
    "Or in matrix form which is immediately translatable to code:\n",
    "\n",
    "  $\\mathbf{f}^T \\mathbf{G}^T \\mathbf{T} \\mathbf{G} \\mathbf{f} =\n",
    "  \\mathbf{f}^T \\mathbf{M} \\mathbf{M}^{-1} \\mathbf{L} \\mathbf{f} =\n",
    "  \\mathbf{f}^T \\mathbf{L} \\mathbf{f}.$\n",
    "\n",
    "So we have that $\\mathbf{L} = \\mathbf{G}^T \\mathbf{T} \\mathbf{G}$. This also\n",
    "hints that we may consider $\\mathbf{G}^T$ as a discrete _divergence_ operator,\n",
    "since the Laplacian is the divergence of the gradient. Naturally, $\\mathbf{G}^T$ is\n",
    "a $n \\times md$ sparse matrix which takes vector values stored at triangle faces\n",
    "to scalar divergence values at vertices."
   ]
  },
  {
   "cell_type": "code",
   "execution_count": null,
   "metadata": {},
   "outputs": [],
   "source": [
    "v, f = igl.read_triangle_mesh(os.path.join(root_folder, \"data\", \"cow.off\"))\n",
    "l = igl.cotmatrix(v, f)\n",
    "g = igl.grad(v, f)\n",
    "\n",
    "d_area = igl.doublearea(v, f)\n",
    "t = sp.sparse.diags(np.hstack([d_area, d_area, d_area]) * 0.5)\n",
    "\n",
    "k = -g.T.dot(t).dot(g)\n",
    "print(\"|k-l|: %s\"%sp.sparse.linalg.norm(k-l))"
   ]
  },
  {
   "cell_type": "markdown",
   "metadata": {},
   "source": [
    "## Exact Discrete Geodesic Distances\n",
    "\n",
    "The discrete geodesic distance between two points is the length of the shortest\n",
    "path between then restricted to the surface. For triangle meshes, such a path is\n",
    "made of a set of segments which can be either edges of the mesh or crossing a\n",
    "triangle.\n",
    "\n",
    "Libigl includes a wrapper for the exact geodesic algorithm <cite data-cite=\"mitchell_1987\">(Mitchell, 1987)</cite>\n",
    "developed by Danil Kirsanov (https://code.google.com/archive/p/geodesic/),\n",
    "exposing it through an Eigen-based API. The function \n",
    "```python\n",
    "d = igl.exact_geodesic(v, f, vs, fs, vt, ft)\n",
    "```\n",
    "computes the closest geodesic distances of each vertex in vt or face in ft, from\n",
    "the source vertices vs or faces fs of the input mesh v, f. The output is written\n",
    "in the vector d, which lists first the distances for the vertices in vt, and\n",
    "then for the faces in ft. "
   ]
  },
  {
   "cell_type": "code",
   "execution_count": null,
   "metadata": {},
   "outputs": [],
   "source": [
    "v, f = igl.read_triangle_mesh(os.path.join(root_folder, \"data\", \"bunny_small.off\"))\n",
    "\n",
    "## Select a vertex from which the distances should be calculated\n",
    "vs = np.array([0])\n",
    "##All vertices are the targets\n",
    "vt = np.arange(v.shape[0])\n",
    "\n",
    "d = igl.exact_geodesic(v, f, vs, vt)#, fs, ft)\n",
    "\n",
    "strip_size = 0.02\n",
    "##The function should be 1 on each integer coordinate\n",
    "c = np.abs(np.sin((d / strip_size * np.pi)))\n",
    "plot(v, f, c, shading={\"wireframe\": False})"
   ]
  }
 ],
 "metadata": {
  "kernelspec": {
   "display_name": "Python 3",
   "language": "python",
   "name": "python3"
  },
  "language_info": {
   "codemirror_mode": {
    "name": "ipython",
    "version": 3
   },
   "file_extension": ".py",
   "mimetype": "text/x-python",
   "name": "python",
   "nbconvert_exporter": "python",
   "pygments_lexer": "ipython3",
   "version": "3.6.7"
  }
 },
 "nbformat": 4,
 "nbformat_minor": 2
}
