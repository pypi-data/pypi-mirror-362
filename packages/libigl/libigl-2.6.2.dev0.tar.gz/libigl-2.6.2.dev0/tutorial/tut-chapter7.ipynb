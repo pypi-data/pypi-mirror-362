{
 "cells": [
  {
   "cell_type": "markdown",
   "metadata": {},
   "source": [
    "# Chapter 7: Skinned Shape Deformation\n",
    "[![PyPI version](https://badge.fury.io/py/libigl.svg)](https://pypi.org/project/libigl/)\n",
    "[![buildwheels](https://github.com/libigl/libigl-python-bindings/actions/workflows/wheels.yml/badge.svg)](https://github.com/libigl/libigl-python-bindings/actions/workflows/wheels.yml?query=branch%3Amain)"
   ]
  },
  {
   "cell_type": "markdown",
   "metadata": {},
   "source": [
    "# Overview\n",
    "\n",
    "In computer animation, shape deformation is often referred to as “skinning”. Constraints are posed as relative rotations of internal rigid “bones” inside a character. The deformation method, or skinning method, determines how the surface of the character (i.e. its skin) should move as a function of the bone rotations.\n",
    "\n",
    "In this chapter, we show 3 techniques\n",
    "1. Rigid Skinning - the most basic shape deformation technique\n",
    "2. Linear Blend Skinning (LBS) - the most commonly used shape deformation technique\n",
    "3. Direct Delta Mush (DDM) - one of many advanced deformation techniques to address limitations of LBS"
   ]
  },
  {
   "cell_type": "code",
   "execution_count": 1,
   "metadata": {},
   "outputs": [],
   "source": [
    "import igl\n",
    "import scipy as sp\n",
    "import numpy as np\n",
    "import meshplot as mp\n",
    "\n",
    "import os\n",
    "\n",
    "root_folder = os.getcwd()"
   ]
  },
  {
   "cell_type": "markdown",
   "metadata": {},
   "source": [
    "# Mesh Loading\n",
    "\n",
    "Load the elephant mesh along with it's skeleton structure, the weights necessary to control the mesh using the skeleton, and an animation sequence."
   ]
  },
  {
   "cell_type": "code",
   "execution_count": 2,
   "metadata": {},
   "outputs": [
    {
     "name": "stdout",
     "output_type": "stream",
     "text": [
      "Array Shapes\n",
      "Vertices: (6034, 3), Faces: (12064, 3), Bones: (25, 3), Parents: (24, 2), Weights: (6034, 24), Anim: (288, 457)\n"
     ]
    }
   ],
   "source": [
    "v, f = igl.read_triangle_mesh(os.path.join(root_folder, \"data\", \"elephant.obj\"))\n",
    "\n",
    "bones, parents, _, _, _, _ = igl.read_tgf(os.path.join(root_folder, \"data\", \"elephant.tgf\"))\n",
    "\n",
    "w = igl.read_dmat(os.path.join(root_folder, \"data\", \"elephant-weights.dmat\"))\n",
    "\n",
    "anim = igl.read_dmat(os.path.join(root_folder, \"data\", \"elephant-anim.dmat\"))\n",
    "\n",
    "num_frames = anim.shape[1]\n",
    "\n",
    "print(f\"Array Shapes\\nVertices: {v.shape}, Faces: {f.shape}, Bones: {bones.shape}, Parents: {parents.shape}, Weights: {w.shape}, Anim: {anim.shape}\")"
   ]
  },
  {
   "cell_type": "markdown",
   "metadata": {},
   "source": [
    "First line loads the elephant mesh which contains the vertices and faces as demonstrated in [chapter 0](https://github.com/libigl/libigl-python-bindings/blob/master/tutorial/tut-chapter0.ipynb)\n",
    "\n",
    "Second line loads a set of bones and a skeleton heirarchy described by parents.\n",
    "\n",
    "Third line loads a set of weights $W$ describing how much each vertex ($i$) will be influenced by the bones loaded above ($w_i$). These weights are meant to be used with Linear Blend Skinning.\n",
    "\n",
    "Fourth line loads an animation sequence where each column describes a pose $\\theta$. $\\theta$ is a stack of vectorized affine transforms, one for each bone describing the translation and rotation of the bone. In this elephant object example, there are a total of 24 affectable bones. Hence, each column has $3 * 4 * 24 = 288$ elements where the affine transform for each bone is $3$ rows and $4$ columns."
   ]
  },
  {
   "cell_type": "markdown",
   "metadata": {},
   "source": [
    "# Rigid Skinning\n",
    "\n",
    "In the rigid (or simple) skinning approach, each vertex in the mesh is attached to exactly one bone in the skeleton. When the skeleton is posed, the vertices are transformed by their joint’s world space matrix. Every vertex $i$ is transformed by exactly one matrix using the equation $u_i = v_i . W$, where $W$ is the skinning weights matrix loaded earlier."
   ]
  },
  {
   "cell_type": "code",
   "execution_count": 3,
   "metadata": {},
   "outputs": [
    {
     "name": "stdout",
     "output_type": "stream",
     "text": [
      "Example of Conversion at vertex 10\n",
      "LBS Weights: [9.99997436e-01 0.00000000e+00 2.40198315e-06 0.00000000e+00]\n",
      "Rigid Weights: [1. 0. 0. 0.]\n"
     ]
    }
   ],
   "source": [
    "def convert_lbs_weights_rigid_weights(lbs_w):\n",
    "    rigid_w = np.zeros(w.shape)\n",
    "    for i in range(0, w.shape[0]):\n",
    "        maxj = w[i].argmax()\n",
    "        for j in range(0, w.shape[1]):\n",
    "            rigid_w[i, j] = float(maxj == j)\n",
    "    return rigid_w\n",
    "    \n",
    "rigid_w = convert_lbs_weights_rigid_weights(w)\n",
    "        \n",
    "rigid_lbs_matrix = igl.lbs_matrix(v, rigid_w)\n",
    "        \n",
    "print(f\"Example of Conversion at vertex 10\\nLBS Weights: {w[10, 5:9]}\\nRigid Weights: {rigid_w[10, 5:9]}\")"
   ]
  },
  {
   "cell_type": "markdown",
   "metadata": {},
   "source": [
    "The function `convert_lbs_weights_rigid_weights` is just a helper function to help us convert the LBS weights we loaded into rigid skinning weights. For rigid skinning, each vertex can be inluenced by one bone. So all we do is find the maximum influence for each vertex and set the weight there to 1 and the rest to 0.\n",
    "\n",
    "The output shows an example of how bones $5, 6, 7$ and $8$ affect vertex $10$ through LBS and Rigid skinning. A value of $1.0$ implies that the respective bone fully controls the vertex and a value of $0.0$ implies that the bone has no inluence on the vertex.\n",
    "\n",
    "Finally, we use `igl.lbs_matrix` function to produce matrix $M$ as described in the [Fast Automatic Skinning Transformations tutorial](https://libigl.github.io/tutorial/#fast-automatic-skinning-transformations). "
   ]
  },
  {
   "cell_type": "code",
   "execution_count": 4,
   "metadata": {
    "tags": []
   },
   "outputs": [
    {
     "data": {
      "application/vnd.jupyter.widget-view+json": {
       "model_id": "ec240c69cb66464398ec7b3b2199073f",
       "version_major": 2,
       "version_minor": 0
      },
      "text/plain": [
       "interactive(children=(IntSlider(value=229, description='frame', max=457, min=1), Output()), _dom_classes=('wid…"
      ]
     },
     "metadata": {},
     "output_type": "display_data"
    },
    {
     "data": {
      "application/vnd.jupyter.widget-view+json": {
       "model_id": "c56a26105d19475997cd08e415e277d7",
       "version_major": 2,
       "version_minor": 0
      },
      "text/plain": [
       "Renderer(camera=PerspectiveCamera(children=(DirectionalLight(color='white', intensity=0.6, position=(0.1529960…"
      ]
     },
     "execution_count": 4,
     "metadata": {},
     "output_type": "execute_result"
    }
   ],
   "source": [
    "def rigid_deform_mesh(pose):\n",
    "    rigid_v = rigid_lbs_matrix @ pose\n",
    "    return rigid_v\n",
    "\n",
    "viewer_rigid = mp.Viewer({})\n",
    "rigid = viewer_rigid.add_mesh(v, f, np.array([0.0, 0.5, 0.0]))\n",
    "\n",
    "@mp.interact(frame=(1, num_frames))\n",
    "def update_frame(frame):\n",
    "    frame = frame - 1\n",
    "    pose = anim[:, frame].reshape(parents.shape[0] * 4, 3, order='F')\n",
    "    deformed_mesh = rigid_deform_mesh(pose)\n",
    "    \n",
    "    viewer_rigid.update_object(oid=rigid, vertices=deformed_mesh)\n",
    "    \n",
    "viewer_rigid._renderer"
   ]
  },
  {
   "cell_type": "markdown",
   "metadata": {},
   "source": [
    "The function `rigid_deform_mesh` just multiplies the matrix $M$ with the pose $\\theta$ to produce the deformed mesh."
   ]
  },
  {
   "cell_type": "markdown",
   "metadata": {},
   "source": [
    "# Linear Blend Skinning\n",
    "\n",
    "In the linear blend skinning approach, each vertex in the mesh can be affected by one or more bones in the skeleton. When the skeleton is posed, the vertices are transformed by doing a weighted sum of joints' world space matrices. The influence of a bone on a vertex can be weighted between $0.0$ and $1.0$ and the sum of influences of bones on each vertex should sum to 1. That is, $\\sum_{j=1}^{J} w_i = 1.0,  \\forall i \\in V$ where $V$ is the set of vertices and $J$ is the number of bones."
   ]
  },
  {
   "cell_type": "code",
   "execution_count": 5,
   "metadata": {},
   "outputs": [
    {
     "data": {
      "application/vnd.jupyter.widget-view+json": {
       "model_id": "7c878a5d35124479b4ae2e96cd31149b",
       "version_major": 2,
       "version_minor": 0
      },
      "text/plain": [
       "interactive(children=(IntSlider(value=229, description='frame', max=457, min=1), Output()), _dom_classes=('wid…"
      ]
     },
     "metadata": {},
     "output_type": "display_data"
    },
    {
     "data": {
      "application/vnd.jupyter.widget-view+json": {
       "model_id": "45d4a8b34cfd4d1c92a25922d416941b",
       "version_major": 2,
       "version_minor": 0
      },
      "text/plain": [
       "Renderer(camera=PerspectiveCamera(children=(DirectionalLight(color='white', intensity=0.6, position=(0.1529960…"
      ]
     },
     "execution_count": 5,
     "metadata": {},
     "output_type": "execute_result"
    }
   ],
   "source": [
    "lbs_matrix = igl.lbs_matrix(v, w)\n",
    "\n",
    "def lbs_deform_mesh(pose):\n",
    "    lbs_v = lbs_matrix @ pose\n",
    "    return lbs_v\n",
    "\n",
    "viewer_lbs = mp.Viewer({})\n",
    "lbs = viewer_lbs.add_mesh(v, f, np.array([0.5, 0.0, 0.0]))\n",
    "\n",
    "@mp.interact(frame=(1, num_frames))\n",
    "def update_frame(frame):\n",
    "    frame = frame - 1\n",
    "    pose = anim[:, frame].reshape(parents.shape[0] * 4, 3, order='F')\n",
    "    deformed_mesh = lbs_deform_mesh(pose)\n",
    "    \n",
    "    viewer_lbs.update_object(oid=lbs, vertices=deformed_mesh)\n",
    "    \n",
    "viewer_lbs._renderer"
   ]
  },
  {
   "cell_type": "markdown",
   "metadata": {},
   "source": [
    "The function `lbs_deform_mesh` just multiplies the matrix $M$ with the pose $\\theta$ to produce the deformed mesh similar to `rigid_deform_mesh`. The key difference being that `lbs_deform_mesh` uses the matrix $M$ produced by the originally loaded LBS weights $W$."
   ]
  },
  {
   "cell_type": "markdown",
   "metadata": {},
   "source": [
    "# Direct Delta Mush Skinning\n",
    "\n",
    "Linear blend skinning suffers from shrinkage and collapse artifacts due to its inherent linearity. Direct Delta Mush skinning attempts to solve both of these issues by providing a direct skinning method that takes as input a rig with piecewise-constant weight functions (weights are either $=0$ or $=1$ everywhere, i.e weights used for rigid skinning above). Direct delta mush is an adaptation of a less performant method called simply **Delta Mush**. The computation of Delta Mush separates into **“bind pose” precomputation** and **runtime evaluation**.\n",
    "\n",
    "## \"Bind Pose\" Precomputation\n",
    "\n",
    "At bind time, Laplacian smoothing is conducted on the bind pose, moving each vertex from its rest position $v_i$ to a new position $\\tilde{v_i}$. The “delta” describing undoing this smoothing procedure, is computed and stored in a local coordinate frame associated with the vertex:\n",
    "\n",
    "$\\delta_i = T_i^{−1}(v_i − \\tilde{v_i})$\n",
    "\n",
    "The result is “vector-valued” skinning weights per-vertex per-bone. This can be stored in a matrix $\\Omega$ (i.e `omega`)."
   ]
  },
  {
   "cell_type": "code",
   "execution_count": 6,
   "metadata": {},
   "outputs": [
    {
     "name": "stdout",
     "output_type": "stream",
     "text": [
      "Num Frames: 457, Omega: (6034, 240)\n"
     ]
    }
   ],
   "source": [
    "p = 20\n",
    "l = 3\n",
    "k = 1\n",
    "a = 0.8\n",
    "omega = igl.direct_delta_mush_precomputation(v, f, rigid_w, p, l, k, a)\n",
    "\n",
    "print(f\"Num Frames: {num_frames}, Omega: {omega.shape}\")"
   ]
  },
  {
   "cell_type": "markdown",
   "metadata": {},
   "source": [
    "The `igl.direct_delta_mush_precomputation` function generates $\\Omega$ that has 10 skinning weights per vertex per bone provided the rest pose vertices, faces, piecewise-constant weights (here we use rigid skinning weight `rigid_w`) and a set of smoothness control parameters. For this example that is 10 weights for each of the 24 bones of the elephant's skeleton for each of 6034 vertices of the mesh.\n",
    "\n",
    "The smoothness can be controlled through parameters \n",
    "- `p` ($ > 0$)\n",
    "- `l` or $\\lambda$ ($> 0$) : \n",
    "-`k` or $\\kappa$ ($> 0 and < \\lambda$):\n",
    "- 'a' or $\\alpha$ ($> 0 and < 1$):\n",
    "\n",
    "Here, `p` is the number of iterations. The values here were used from [Example 408](https://github.com/libigl/libigl/blob/main/tutorial/408_DirectDeltaMush/main.cpp) of the libigl C++ tutorials.\n"
   ]
  },
  {
   "cell_type": "markdown",
   "metadata": {},
   "source": [
    "## Direct Delta Mush Runtime Evaluation\n",
    "\n",
    "At runtime, $\\Omega$ is used to deform the mesh to its final locations. The mesh is deformed using linear blend skinning and piecewise-constant weights. Near bones, the deformation is perfectly rigid, while near joints where bones meet, the mesh tears apart with a sudden change to the next rigid transformation. A local frame $S_i$ is computed at this location and the cached deltas are added in this resolved frame to restore the shape’s original details:\n",
    "\n",
    "$u_i = \\tilde{u_i} + S_i . \\delta_i$\n",
    "\n",
    "The key insight of “Delta Mush” is that Laplacian smoothing acts similarly on the rest and posed models."
   ]
  },
  {
   "cell_type": "code",
   "execution_count": 7,
   "metadata": {},
   "outputs": [
    {
     "data": {
      "application/vnd.jupyter.widget-view+json": {
       "model_id": "8e8f2a83a8764eb68fc250a1123655d9",
       "version_major": 2,
       "version_minor": 0
      },
      "text/plain": [
       "interactive(children=(IntSlider(value=229, description='frame', max=457, min=1), Output()), _dom_classes=('wid…"
      ]
     },
     "metadata": {},
     "output_type": "display_data"
    },
    {
     "data": {
      "application/vnd.jupyter.widget-view+json": {
       "model_id": "6a7db55685ac42b8b6e6fa68c3680904",
       "version_major": 2,
       "version_minor": 0
      },
      "text/plain": [
       "Renderer(camera=PerspectiveCamera(children=(DirectionalLight(color='white', intensity=0.6, position=(0.1529960…"
      ]
     },
     "execution_count": 7,
     "metadata": {},
     "output_type": "execute_result"
    }
   ],
   "source": [
    "def ddm_deform_mesh(pose):\n",
    "    ddm_v = igl.direct_delta_mush(v.copy(), pose, omega)\n",
    "    return ddm_v\n",
    "\n",
    "viewer_ddm = mp.Viewer({})\n",
    "ddm = viewer_ddm.add_mesh(v, f, np.array([0.0, 0.5, 0.5]))\n",
    "\n",
    "@mp.interact(frame=(1, num_frames))\n",
    "def update_frame(frame):\n",
    "    frame = frame - 1\n",
    "    pose = anim[:, frame].reshape(parents.shape[0] * 4, 3, order='F')\n",
    "    deformed_mesh = ddm_deform_mesh(pose)\n",
    "    \n",
    "    viewer_ddm.update_object(oid=ddm, vertices=deformed_mesh)\n",
    "    \n",
    "viewer_ddm._renderer"
   ]
  },
  {
   "cell_type": "markdown",
   "metadata": {},
   "source": [
    "The `igl.direct_delta_mush` consumes the rest pose vertices `v`, the pose $\\theta$, and the matrix $\\Omega$ we precomputed above to deform the mesh. "
   ]
  },
  {
   "cell_type": "markdown",
   "metadata": {},
   "source": [
    "# Comparison between the Skinning Techniques"
   ]
  },
  {
   "cell_type": "code",
   "execution_count": 8,
   "metadata": {},
   "outputs": [
    {
     "data": {
      "application/vnd.jupyter.widget-view+json": {
       "model_id": "b40a4a7a4b544f3686f1dc3d38d3e338",
       "version_major": 2,
       "version_minor": 0
      },
      "text/plain": [
       "interactive(children=(IntSlider(value=229, description='frame', max=457, min=1), Output()), _dom_classes=('wid…"
      ]
     },
     "metadata": {},
     "output_type": "display_data"
    },
    {
     "data": {
      "application/vnd.jupyter.widget-view+json": {
       "model_id": "7d41cad22ae54e5cb01bdb132e1267a6",
       "version_major": 2,
       "version_minor": 0
      },
      "text/plain": [
       "Renderer(camera=PerspectiveCamera(children=(DirectionalLight(color='white', intensity=0.6, position=(0.1529998…"
      ]
     },
     "execution_count": 8,
     "metadata": {},
     "output_type": "execute_result"
    }
   ],
   "source": [
    "viewer_comp = mp.Viewer({})\n",
    "# Rigid Blue\n",
    "offset_rigid = np.array([-90.0, 0.0, 0.0])\n",
    "rigid = viewer_comp.add_mesh(v + offset_rigid, f, np.array([0.0, 0.5, 0.0]))\n",
    "\n",
    "# LBS Red\n",
    "offset_lbs = np.array([0.0, 0.0, 0.0])\n",
    "lbs = viewer_comp.add_mesh(v + offset_lbs, f, np.array([0.5, 0.0, 0.0]))\n",
    "\n",
    "# DDM Green\n",
    "offset_ddm = np.array([90.0, 0.0, 0.0])\n",
    "ddm = viewer_comp.add_mesh(v + offset_ddm, f, np.array([0.0, 0.5, 0.5]))\n",
    "\n",
    "\n",
    "@mp.interact(frame=(1, num_frames))\n",
    "def update_frame(frame):\n",
    "    frame = frame - 1\n",
    "    pose = anim[:, frame].reshape(parents.shape[0] * 4, 3, order='F')\n",
    "    rigid_deformed_mesh = rigid_deform_mesh(pose)\n",
    "    lbs_deformed_mesh = lbs_deform_mesh(pose)\n",
    "    ddm_deformed_mesh = ddm_deform_mesh(pose)\n",
    "    \n",
    "    viewer_comp.update_object(oid=rigid, vertices=rigid_deformed_mesh + offset_rigid)\n",
    "    viewer_comp.update_object(oid=lbs, vertices=lbs_deformed_mesh + offset_lbs)\n",
    "    viewer_comp.update_object(oid=ddm, vertices=ddm_deformed_mesh + offset_ddm)\n",
    "    \n",
    "viewer_comp._renderer"
   ]
  },
  {
   "cell_type": "markdown",
   "metadata": {},
   "source": [
    "The visualization shows a comparison between the 3 techniques\n",
    "1. Rigid Skinning: Green.\n",
    "2. Linear Blend Skinning: Red.\n",
    "3. Direct Delta Mush Skinning: Teal.\n",
    "\n",
    "Frame 181 presents a good case where rigid skinning fails with a ton of artificats, where as linear blend skinning does slightly better. LBS, however, ends up with volume loss at the limbs and Direct Delta Mush skinning does a good job of cleaning this up."
   ]
  },
  {
   "cell_type": "markdown",
   "metadata": {},
   "source": [
    "# References\n",
    "\n",
    "- *UCSD Reading (https://cseweb.ucsd.edu/classes/sp16/cse169-a/readings/3-Skin.html)*\n",
    "- *Binh Huy Le, J.P. Lewis. [Direct delta mush skinning and variants](https://binh.graphics/papers/2019s-DDM/Direct_Delta_Mush_and_Variants.pdf), 2019*\n",
    "- *Joe Mancewicz, Matt L. Derksen, Hans Rijpkema, and Cyrus A. Wilson. [Delta Mush: smoothing deformations while preserving detail](https://dl.acm.org/doi/10.1145/2633374.2633376), 2014.*\n",
    "- *Alec Jacobson, Ilya Baran, Ladislav Kavan, Jovan Popović, and Olga Sorkine. [Fast Automatic Skinning Transformations](https://igl.ethz.ch/projects/fast/fast-automatic-skinning-transformations-siggraph-2012-jacobson-et-al.pdf), 2012*"
   ]
  }
 ],
 "metadata": {
  "kernelspec": {
   "display_name": "Python 3 (ipykernel)",
   "language": "python",
   "name": "python3"
  },
  "language_info": {
   "codemirror_mode": {
    "name": "ipython",
    "version": 3
   },
   "file_extension": ".py",
   "mimetype": "text/x-python",
   "name": "python",
   "nbconvert_exporter": "python",
   "pygments_lexer": "ipython3",
   "version": "3.10.6"
  },
  "vscode": {
   "interpreter": {
    "hash": "ce7907e81cf2b9da16cd02e98dafe35a67eae35daae8f394751b5721196d6988"
   }
  }
 },
 "nbformat": 4,
 "nbformat_minor": 4
}
