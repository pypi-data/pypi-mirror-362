{
 "cells": [
  {
   "cell_type": "markdown",
   "metadata": {},
   "source": [
    "# Chapter 0\n",
    "[![PyPI version](https://badge.fury.io/py/libigl.svg)](https://pypi.org/project/libigl/)\n",
    "[![buildwheels](https://github.com/libigl/libigl-python-bindings/actions/workflows/wheels.yml/badge.svg)](https://github.com/libigl/libigl-python-bindings/actions/workflows/wheels.yml?query=branch%3Amain)\n",
    "\n",
    "![](images/libigl-logo.jpg)"
   ]
  },
  {
   "cell_type": "markdown",
   "metadata": {},
   "source": [
    "We introduce libigl with a series of self-contained examples. The purpose of\n",
    "each example is to showcase a feature of libigl while applying to a practical\n",
    "problem in geometry processing. In this chapter, we will present the basic\n",
    "concepts of libigl.\n",
    "\n",
    "## Libigl design principles\n",
    "\n",
    "Before getting into the examples, we summarize the two main design principles in\n",
    "libigl:\n",
    "\n",
    "1. **No complex data types.** We mostly use `numpy` or `scipy` matrices and vectors. This greatly\n",
    "  favors code reusability and interoperability and forces the function authors to expose all the\n",
    "  parameters used by the algorithm.\n",
    "\n",
    "2. **Function encapsulation.** Every function is contained in a unique Python function.\n",
    "\n",
    "\n",
    "## Downloading Libigl\n",
    "Libigl can be downloaded from [PyPI](https://pypi.org/project/libigl/):\n",
    "```\n",
    "python -m pip install libigl \n",
    "```\n",
    "\n",
    "\n",
    "All of libigl functionality depends only on `numpy` and `scipy`. For the visualization in this tutorial we use [meshplot](https://github.com/skoch9/meshplot) which can be easily installed from Conda:\n",
    "```\n",
    "pip install https://github.com/skoch9/meshplot/archive/0.4.0.tar.gz \n",
    "```\n",
    "\n",
    "\n",
    "To start using libigl (with the plots) you just need to import it together with the `numpy`, `scipy`, and `meshplot`."
   ]
  },
  {
   "cell_type": "code",
   "execution_count": null,
   "metadata": {},
   "outputs": [],
   "source": [
    "import igl\n",
    "import scipy as sp\n",
    "import numpy as np\n",
    "from meshplot import plot, subplot, interact\n",
    "\n",
    "import os\n",
    "root_folder = os.getcwd()"
   ]
  },
  {
   "cell_type": "markdown",
   "metadata": {},
   "source": [
    "## Mesh representation\n",
    "\n",
    "Libigl uses `numpy` to encode vectors and matrices and `scipy` for sparse matrices.\n",
    "\n",
    "A triangular mesh is encoded as a pair of matrices:"
   ]
  },
  {
   "cell_type": "code",
   "execution_count": null,
   "metadata": {},
   "outputs": [],
   "source": [
    "v: np.array\n",
    "f: np.array"
   ]
  },
  {
   "cell_type": "markdown",
   "metadata": {},
   "source": [
    "`v` is a #N by 3 matrix which stores the coordinates of the vertices. Each\n",
    "row stores the coordinate of a vertex, with its x, y and z coordinates in the first,\n",
    "second and third column, respectively. The matrix `f` stores the triangle\n",
    "connectivity: each line of `f` denotes a triangle whose 3 vertices are\n",
    "represented as indices pointing to rows of `f`.\n",
    "\n",
    "![A simple mesh made of 2 triangles and 4 vertices.](images/VF.png )"
   ]
  },
  {
   "cell_type": "code",
   "execution_count": null,
   "metadata": {},
   "outputs": [],
   "source": [
    "V = np.array([\n",
    "    [0., 0, 0],\n",
    "    [1, 0, 0],\n",
    "    [1, 1, 1],\n",
    "    [2, 1, 0]\n",
    "])\n",
    "\n",
    "F = np.array([\n",
    "    [0, 1, 2],\n",
    "    [1, 3, 2]\n",
    "])\n",
    "\n",
    "plot(V, F)"
   ]
  },
  {
   "cell_type": "markdown",
   "metadata": {},
   "source": [
    "Note that the order of the vertex indices in `f` determines the orientation of\n",
    "the triangles and it should thus be consistent for the entire surface.\n",
    "This simple representation has many advantages:\n",
    "\n",
    "1. It is memory efficient and cache friendly\n",
    "2. The use of indices instead of pointers greatly simplifies debugging\n",
    "3. The data can be trivially copied and serialized\n",
    "\n",
    "Libigl provides input and output functions to read and write many common mesh formats.\n",
    "The IO functions are igl.read_\\* and igl.write_\\*.\n",
    "\n",
    "Reading a mesh from a file requires a single libigl function call:"
   ]
  },
  {
   "cell_type": "code",
   "execution_count": null,
   "metadata": {},
   "outputs": [],
   "source": [
    "## Load a mesh in OFF format\n",
    "v, f = igl.read_triangle_mesh(os.path.join(root_folder, \"data\", \"bunny.off\"))\n",
    "\n",
    "## Print the vertices and faces matrices \n",
    "print(\"Vertices: \", len(v))\n",
    "print(\"Faces: \", len(f))"
   ]
  },
  {
   "cell_type": "markdown",
   "metadata": {},
   "source": [
    "The function reads the mesh bumpy.off and returns the `v` and `f` matrices.\n",
    "Similarly, a mesh can be written to an OBJ file using:"
   ]
  },
  {
   "cell_type": "code",
   "execution_count": null,
   "metadata": {},
   "outputs": [],
   "source": [
    "## Save the mesh in OBJ format\n",
    "ret = igl.write_triangle_mesh(os.path.join(root_folder, \"data\", \"bunny_out.obj\"), v, f)"
   ]
  }
 ],
 "metadata": {
  "kernelspec": {
   "display_name": "Python 3",
   "language": "python",
   "name": "python3"
  },
  "language_info": {
   "codemirror_mode": {
    "name": "ipython",
    "version": 3
   },
   "file_extension": ".py",
   "mimetype": "text/x-python",
   "name": "python",
   "nbconvert_exporter": "python",
   "pygments_lexer": "ipython3",
   "version": "3.6.7"
  }
 },
 "nbformat": 4,
 "nbformat_minor": 2
}
