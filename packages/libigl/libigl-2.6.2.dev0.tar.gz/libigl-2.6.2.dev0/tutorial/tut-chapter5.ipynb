{
 "cells": [
  {
   "cell_type": "markdown",
   "metadata": {},
   "source": [
    "# Chapter 5: External libraries\n",
    "[![PyPI version](https://badge.fury.io/py/libigl.svg)](https://pypi.org/project/libigl/)\n",
    "[![buildwheels](https://github.com/libigl/libigl-python-bindings/actions/workflows/wheels.yml/badge.svg)](https://github.com/libigl/libigl-python-bindings/actions/workflows/wheels.yml?query=branch%3Amain)"
   ]
  },
  {
   "cell_type": "code",
   "execution_count": null,
   "metadata": {},
   "outputs": [],
   "source": [
    "import igl\n",
    "import scipy as sp\n",
    "import numpy as np\n",
    "from meshplot import plot, subplot, interact\n",
    "\n",
    "import os\n",
    "root_folder = os.getcwd()"
   ]
  },
  {
   "cell_type": "markdown",
   "metadata": {},
   "source": [
    "An additional positive side effect of using matrices as basic types is that it\n",
    "is easy to exchange data between libigl and other software and libraries."
   ]
  },
  {
   "cell_type": "markdown",
   "metadata": {},
   "source": [
    "## Baking ambient occlusion\n",
    "\n",
    "[Ambient occlusion](http://en.wikipedia.org/wiki/Ambient_occlusion) is a\n",
    "rendering technique used to calculate the exposure of each point in a surface\n",
    "to ambient lighting. It is usually encoded as a scalar (normalized between 0\n",
    "and 1) associated with the vertice of a mesh.\n",
    "\n",
    "Formally, ambient occlusion is defined as:\n",
    "\n",
    "\\\\[ A_p = \\frac{1}{\\pi} \\int_\\omega V_{p,\\omega}(n \\cdot \\omega) d\\omega \\\\]\n",
    "\n",
    "where $V_{p,\\omega}$ is the visibility function at  p, defined to be zero if p\n",
    "is occluded in the direction $\\omega$ and one otherwise, and $d\\omega$ is the\n",
    "infinitesimal solid angle step of the integration variable $\\omega$.\n",
    "\n",
    "The integral is usually approximated by casting rays in random directions\n",
    "around each vertex. This approximation can be computed using the function:\n",
    "\n",
    "```\n",
    "ao = igl.ambient_occlusion(v, f, v_samples, n_samples, 500)\n",
    "```\n",
    "\n",
    "that given a scene described in `v` and `f`, computes the ambient occlusion of\n",
    "the points in `v_samples` whose associated normals are `n_samples`. The\n",
    "number of casted rays can be controlled (usually at least 300-500 rays are\n",
    "required to get a smooth result) and the result is returned in `ao`, as a\n",
    "single scalar for each sample.\n",
    "\n",
    "Ambient occlusion can be used to darken the surface colors, as shown in the following example:"
   ]
  },
  {
   "cell_type": "code",
   "execution_count": null,
   "metadata": {},
   "outputs": [],
   "source": [
    "v, f = igl.read_triangle_mesh(os.path.join(root_folder, \"data\", \"fertility.off\"))\n",
    "\n",
    "n = igl.per_vertex_normals(v, f)\n",
    "\n",
    "# Compute ambient occlusion factor using embree\n",
    "ao = igl.ambient_occlusion(v, f, v, n, 20)\n",
    "ao = 1.0 - ao\n",
    "\n",
    "plot(v, f, ao, shading={\"colormap\": \"gist_gray\"})"
   ]
  },
  {
   "cell_type": "markdown",
   "metadata": {},
   "source": [
    "## References\n",
    "\n",
    "<!-- Chapter 5 -->\n",
    "\n",
    "[^bommes_2009]: David Bommes, Henrik Zimmer, Leif Kobbelt. [Mixed-integer quadrangulation](http://www-sop.inria.fr/members/David.Bommes/publications/miq.pdf), 2009.\n",
    "[^bouaziz_2012]: Sofien Bouaziz, Mario Deuss, Yuliy Schwartzburg, Thibaut Weise, Mark Pauly [Shape-Up: Shaping Discrete Geometry with Projections](http://lgg.epfl.ch/publications/2012/shapeup.pdf), 2012\n",
    "[^eck_2005]: Matthias Eck, Tony DeRose, Tom Duchamp, Hugues Hoppe, Michael Lounsbery, Werner Stuetzle.  [Multiresolution Analysis of Arbitrary Meshes](http://research.microsoft.com/en-us/um/people/hoppe/mra.pdf), 2005.\n",
    "[^levy_2002]: Bruno Lévy, Sylvain Petitjean, Nicolas Ray, Jérome Maillot. [Least Squares Conformal Maps, for Automatic Texture Atlas Generation](http://www.cs.jhu.edu/~misha/Fall09/Levy02.pdf), 2002.\n",
    "[^levy_2008]: Nicolas Ray, Bruno Vallet, Wan Chiu Li, Bruno Lévy. [N-Symmetry Direction Field Design](http://alice.loria.fr/publications/papers/2008/DGF/NSDFD-TOG.pdf), 2008.\n",
    "[^liu_2008]: Ligang Liu, Lei Zhang, Yin Xu, Craig Gotsman, Steven J. Gortler. [A Local/Global Approach to Mesh Parameterization](http://cs.harvard.edu/~sjg/papers/arap.pdf), 2008.\n",
    "[^mullen_2008]: Patrick Mullen, Yiying Tong, Pierre Alliez, Mathieu Desbrun. [Spectral Conformal Parameterization](http://www.geometry.caltech.edu/pubs/MTAD08.pdf), 2008.\n",
    "[^panozzo_2014]: Daniele Panozzo, Enrico Puppo, Marco Tarini, Olga Sorkine-Hornung.  [Frame Fields: Anisotropic and Non-Orthogonal Cross Fields](http://cs.nyu.edu/~panozzo/papers/frame-fields-2014.pdf), 2014.\n",
    "[^vaxman_2016]: Amir Vaxman, Marcel Campen, Olga Diamanti, Daniele Panozzo, David Bommes, Klaus Hildebrandt, Mirela Ben-Chen. [Directional Field Synthesis, Design, and Processing](https://www.google.com/search?q=Directional+Field+Synthesis+Design+and+Processing), 2016"
   ]
  }
 ],
 "metadata": {
  "kernelspec": {
   "display_name": "Python 3",
   "language": "python",
   "name": "python3"
  },
  "language_info": {
   "codemirror_mode": {
    "name": "ipython",
    "version": 3
   },
   "file_extension": ".py",
   "mimetype": "text/x-python",
   "name": "python",
   "nbconvert_exporter": "python",
   "pygments_lexer": "ipython3",
   "version": "3.6.7"
  }
 },
 "nbformat": 4,
 "nbformat_minor": 2
}
