{
 "cells": [
  {
   "cell_type": "markdown",
   "metadata": {},
   "source": [
    "# Data Loading Functions Example\n",
    "\n",
    "This notebook demonstrates all the data loading functions available in the ethopy_analysis package. Each function is explained with its purpose, parameters, and example usage."
   ]
  },
  {
   "cell_type": "code",
   "execution_count": 1,
   "metadata": {},
   "outputs": [
    {
     "name": "stderr",
     "output_type": "stream",
     "text": [
      "/Users/alexandros/Documents/GitHub/ethopy_analysis/venv/lib/python3.13/site-packages/datajoint/plugin.py:4: UserWarning: pkg_resources is deprecated as an API. See https://setuptools.pypa.io/en/latest/pkg_resources.html. The pkg_resources package is slated for removal as early as 2025-11-30. Refrain from using this package or pin to Setuptools<81.\n",
      "  import pkg_resources\n"
     ]
    }
   ],
   "source": [
    "# Import all necessary modules\n",
    "from ethopy_analysis.data.loaders import (\n",
    "    get_sessions,\n",
    "    get_trials,\n",
    "    get_trial_states,\n",
    "    get_trial_experiment,\n",
    "    get_trial_behavior,\n",
    "    get_trial_stimulus,\n",
    "    get_trial_licks,\n",
    "    get_trial_proximities,\n",
    "    get_session_classes,\n",
    "    get_session_duration,\n",
    "    get_session_task\n",
    ")\n",
    "from ethopy_analysis.data.analysis import (\n",
    "    get_performance,\n",
    "    trials_per_session,\n",
    "    session_summary\n",
    ")\n",
    "from ethopy_analysis.data.utils import get_setup\n",
    "from ethopy_analysis.db.schemas import get_schema, get_all_schemas\n",
    "from ethopy_analysis.config.settings import load_config\n",
    "\n",
    "# Apply styling\n",
    "from ethopy_analysis.config.styles import Style\n",
    "Style().apply()"
   ]
  },
  {
   "cell_type": "markdown",
   "metadata": {},
   "source": [
    "## 1. Configuration and Setup Functions\n",
    "\n",
    "These functions handle configuration loading and database setup."
   ]
  },
  {
   "cell_type": "code",
   "execution_count": 2,
   "metadata": {},
   "outputs": [
    {
     "name": "stdout",
     "output_type": "stream",
     "text": [
      "Configuration loaded from: /Users/alexandros/Documents/GitHub/ethopy_analysis/ethopy_config.json\n",
      "Configuration loaded:\n",
      "Database host: database.eflab.org:3306\n",
      "Available schemas: ['experiment', 'stimulus', 'behavior']\n"
     ]
    }
   ],
   "source": [
    "# load_config() - Load configuration from file or use defaults\n",
    "# Parameters: config_path (str/Path, optional)\n",
    "# Returns: Configuration dictionary\n",
    "config = load_config(display_path=True)\n",
    "print(\"Configuration loaded:\")\n",
    "print(f\"Database host: {config.get('database', {}).get('host', 'Not configured')}\")\n",
    "print(f\"Available schemas: {list(config.get('database', {}).get('schemas', {}).keys())}\")"
   ]
  },
  {
   "cell_type": "code",
   "execution_count": 3,
   "metadata": {},
   "outputs": [
    {
     "name": "stderr",
     "output_type": "stream",
     "text": [
      "[2025-07-16 11:13:09,662][INFO]: DataJoint 0.14.4 connected to eflab@database.eflab.org:3306\n"
     ]
    },
    {
     "name": "stdout",
     "output_type": "stream",
     "text": [
      "Setup 'ef-rp13' current animal_id: 290, session: 46\n"
     ]
    }
   ],
   "source": [
    "# get_setup() - Retrieve animal_id and session for a given setup\n",
    "# Parameters: setup (str)\n",
    "# Returns: Tuple[int, int] - (animal_id, session)\n",
    "animal_id, session = get_setup(\"ef-rp13\")\n",
    "print(f\"Setup 'ef-rp13' current animal_id: {animal_id}, session: {session}\")"
   ]
  },
  {
   "cell_type": "markdown",
   "metadata": {},
   "source": [
    "## 2. Database Schema Functions\n",
    "\n",
    "These functions provide access to DataJoint database schemas."
   ]
  },
  {
   "cell_type": "code",
   "execution_count": 4,
   "metadata": {},
   "outputs": [
    {
     "name": "stdout",
     "output_type": "stream",
     "text": [
      "Individual schemas loaded:\n",
      "Experiment schema: <class 'datajoint.schemas.VirtualModule'>\n",
      "Behavior schema: <class 'datajoint.schemas.VirtualModule'>\n",
      "Stimulus schema: <class 'datajoint.schemas.VirtualModule'>\n"
     ]
    }
   ],
   "source": [
    "# get_schema() - Get a specific schema by name\n",
    "# Parameters: schema_name (str: 'experiment', 'behavior', 'stimulus'), config (Dict, optional)\n",
    "# Returns: DataJoint virtual module for the schema\n",
    "experiment = get_schema('experiment')\n",
    "behavior = get_schema('behavior')\n",
    "stimulus = get_schema('stimulus')\n",
    "\n",
    "print(\"Individual schemas loaded:\")\n",
    "print(f\"Experiment schema: {type(experiment)}\")\n",
    "print(f\"Behavior schema: {type(behavior)}\")\n",
    "print(f\"Stimulus schema: {type(stimulus)}\")"
   ]
  },
  {
   "cell_type": "code",
   "execution_count": 5,
   "metadata": {},
   "outputs": [
    {
     "name": "stdout",
     "output_type": "stream",
     "text": [
      "All schemas loaded:\n",
      "experiment: <class 'datajoint.schemas.VirtualModule'>\n",
      "stimulus: <class 'datajoint.schemas.VirtualModule'>\n",
      "behavior: <class 'datajoint.schemas.VirtualModule'>\n"
     ]
    }
   ],
   "source": [
    "# get_all_schemas() - Get all three schemas at once\n",
    "# Parameters: config (Dict, optional)\n",
    "# Returns: Dict with keys 'experiment', 'behavior', 'stimulus'\n",
    "schemas = get_all_schemas()\n",
    "print(\"All schemas loaded:\")\n",
    "for schema_name, schema_module in schemas.items():\n",
    "    print(f\"{schema_name}: {type(schema_module)}\")"
   ]
  },
  {
   "cell_type": "markdown",
   "metadata": {},
   "source": [
    "## 3. Session-Level Data Loading\n",
    "\n",
    "These functions load session-level information and metadata."
   ]
  },
  {
   "cell_type": "code",
   "execution_count": 6,
   "metadata": {},
   "outputs": [
    {
     "name": "stdout",
     "output_type": "stream",
     "text": [
      "Sessions for animal 290 (min 20 trials):\n",
      "   animal_id  session trials_count user_name      setup        session_tmst  \\\n",
      "0        290        1           30       bot  master-02 2025-03-20 12:31:32   \n",
      "1        290        2           49       bot  master-02 2025-03-20 12:44:24   \n",
      "2        290        3           70       bot  master-02 2025-03-21 12:43:51   \n",
      "3        290        4           19       bot  master-02 2025-03-23 12:46:31   \n",
      "4        290        5           31       bot  master-02 2025-03-23 13:05:35   \n",
      "\n",
      "  experiment_type  logger_tmst  \n",
      "0       FreeWater          0.0  \n",
      "1        Approach          0.0  \n",
      "2        Approach          0.0  \n",
      "3        Approach          0.0  \n",
      "4        Approach          0.0  \n",
      "\n",
      "Total sessions: 40\n",
      "Session range: 1 to 46\n"
     ]
    }
   ],
   "source": [
    "# get_sessions() - Get sessions for an animal within a date range\n",
    "# Parameters: animal_id (int), from_date (str), to_date (str), format (str), min_trials (int)\n",
    "# Returns: Session DataFrame or DataJoint expression\n",
    "sessions = get_sessions(animal_id, min_trials=20)\n",
    "print(f\"Sessions for animal {animal_id} (min 20 trials):\")\n",
    "print(sessions.head())\n",
    "print(f\"\\nTotal sessions: {len(sessions)}\")\n",
    "print(f\"Session range: {sessions['session'].min()} to {sessions['session'].max()}\")"
   ]
  },
  {
   "cell_type": "code",
   "execution_count": 7,
   "metadata": {},
   "outputs": [
    {
     "name": "stdout",
     "output_type": "stream",
     "text": [
      "Sessions for animal 290 in 2025:\n",
      "   animal_id  session user_name      setup        session_tmst  \\\n",
      "0        290        1       bot  master-02 2025-03-20 12:31:32   \n",
      "1        290        2       bot  master-02 2025-03-20 12:44:24   \n",
      "2        290        3       bot  master-02 2025-03-21 12:43:51   \n",
      "3        290        4       bot  master-02 2025-03-23 12:46:31   \n",
      "4        290        5       bot  master-02 2025-03-23 13:05:35   \n",
      "\n",
      "  experiment_type  logger_tmst  \n",
      "0       FreeWater          0.0  \n",
      "1        Approach          0.0  \n",
      "2        Approach          0.0  \n",
      "3        Approach          0.0  \n",
      "4        Approach          0.0  \n",
      "Total sessions in 2025: 45\n"
     ]
    }
   ],
   "source": [
    "# get_sessions() with date filtering\n",
    "# Filter sessions by date range\n",
    "sessions_filtered = get_sessions(animal_id, from_date=\"2025-01-01\", to_date=\"2025-12-31\")\n",
    "print(f\"Sessions for animal {animal_id} in 2025:\")\n",
    "print(sessions_filtered.head())\n",
    "print(f\"Total sessions in 2025: {len(sessions_filtered)}\")"
   ]
  },
  {
   "cell_type": "code",
   "execution_count": 8,
   "metadata": {},
   "outputs": [
    {
     "name": "stdout",
     "output_type": "stream",
     "text": [
      "Session classes for animal 290, session 46:\n",
      "   animal_id  session user_name    setup        session_tmst experiment_type  \\\n",
      "0        290       46       bot  ef-rp13 2025-07-16 10:42:14       MatchPort   \n",
      "\n",
      "   logger_tmst stimulus_class behavior_class experiment_class  \n",
      "0          0.0          Panda      MultiPort        MatchPort  \n"
     ]
    }
   ],
   "source": [
    "# get_session_classes() - Retrieve session information and experimental classes\n",
    "# Parameters: animal_id (int), session (int)\n",
    "# Returns: DataFrame with session info and class combinations\n",
    "session_classes = get_session_classes(animal_id, session)\n",
    "print(f\"Session classes for animal {animal_id}, session {session}:\")\n",
    "print(session_classes)"
   ]
  },
  {
   "cell_type": "code",
   "execution_count": 9,
   "metadata": {},
   "outputs": [
    {
     "name": "stdout",
     "output_type": "stream",
     "text": [
      "Session 46 duration: 30.99 minutes (1859.6 seconds)\n"
     ]
    }
   ],
   "source": [
    "# get_session_duration() - Calculate session duration\n",
    "# Parameters: animal_id (int), session (int)\n",
    "# Returns: Formatted duration string or None\n",
    "duration = get_session_duration(animal_id, session)\n",
    "print(f\"Session {session} duration: {duration}\")"
   ]
  },
  {
   "cell_type": "code",
   "execution_count": 10,
   "metadata": {},
   "outputs": [
    {
     "name": "stdout",
     "output_type": "stream",
     "text": [
      "Task file: 2object_detection_visual-dif0-1.py\n",
      "Git hash: b06989f\n"
     ]
    }
   ],
   "source": [
    "# get_session_task() - Retrieve task configuration file\n",
    "# Parameters: animal_id (int), session (int), save_file (bool)\n",
    "# Returns: Tuple of (filename, git_hash)\n",
    "filename, git_hash = get_session_task(animal_id, session, save_file=False)\n",
    "print(f\"Task file: {filename}\")\n",
    "print(f\"Git hash: {git_hash}\")"
   ]
  },
  {
   "cell_type": "markdown",
   "metadata": {},
   "source": [
    "## 4. Trial-Level Data Loading\n",
    "\n",
    "These functions load detailed trial-level data for analysis."
   ]
  },
  {
   "cell_type": "code",
   "execution_count": 11,
   "metadata": {},
   "outputs": [
    {
     "name": "stdout",
     "output_type": "stream",
     "text": [
      "Trials for animal 290, session 46:\n",
      "   animal_id  session  trial_idx                 cond_hash   time\n",
      "0        290       46          1  eUmhCs/lwH98hg5l7TW2og==   3938\n",
      "1        290       46          2  eUmhCs/lwH98hg5l7TW2og==  14670\n",
      "2        290       46          3  eUmhCs/lwH98hg5l7TW2og==  16004\n",
      "3        290       46          4  eUmhCs/lwH98hg5l7TW2og==  35750\n",
      "4        290       46          5  eUmhCs/lwH98hg5l7TW2og==  40543\n",
      "\n",
      "Total trials: 236\n",
      "Trial columns: ['animal_id', 'session', 'trial_idx', 'cond_hash', 'time']\n"
     ]
    }
   ],
   "source": [
    "# get_trials() - Retrieve trial data for a specific session\n",
    "# Parameters: animal_id (int), session (int), format (str), remove_abort (bool)\n",
    "# Returns: Trial DataFrame or DataJoint expression\n",
    "trials = get_trials(animal_id, session)\n",
    "print(f\"Trials for animal {animal_id}, session {session}:\")\n",
    "print(trials.head())\n",
    "print(f\"\\nTotal trials: {len(trials)}\")\n",
    "print(f\"Trial columns: {list(trials.columns)}\")"
   ]
  },
  {
   "cell_type": "code",
   "execution_count": 12,
   "metadata": {},
   "outputs": [
    {
     "name": "stdout",
     "output_type": "stream",
     "text": [
      "Trials without aborts: 96 (vs 236 with aborts)\n",
      "Trial outcomes:\n",
      "    animal_id  session  trial_idx                 cond_hash     time\n",
      "0         290       46          7  eUmhCs/lwH98hg5l7TW2og==    54064\n",
      "1         290       46         10  eUmhCs/lwH98hg5l7TW2og==    66283\n",
      "2         290       46         11  eUmhCs/lwH98hg5l7TW2og==    68984\n",
      "3         290       46         12  eUmhCs/lwH98hg5l7TW2og==    72403\n",
      "4         290       46         14  eUmhCs/lwH98hg5l7TW2og==    82410\n",
      "..        ...      ...        ...                       ...      ...\n",
      "91        290       46        229  1vyELoFSThi/L7d86pydeQ==  1539816\n",
      "92        290       46        230  1vyELoFSThi/L7d86pydeQ==  1546771\n",
      "93        290       46        231  1vyELoFSThi/L7d86pydeQ==  1561832\n",
      "94        290       46        235  1vyELoFSThi/L7d86pydeQ==  1853413\n",
      "95        290       46        236  1vyELoFSThi/L7d86pydeQ==  1857283\n",
      "\n",
      "[96 rows x 5 columns]\n"
     ]
    }
   ],
   "source": [
    "# get_trials() with abort removal\n",
    "# Remove aborted trials from the dataset\n",
    "trials_no_abort = get_trials(animal_id, session, remove_abort=True)\n",
    "print(f\"Trials without aborts: {len(trials_no_abort)} (vs {len(trials)} with aborts)\")\n",
    "print(\"Trial outcomes:\")\n",
    "print(trials_no_abort)"
   ]
  },
  {
   "cell_type": "code",
   "execution_count": 13,
   "metadata": {},
   "outputs": [
    {
     "name": "stdout",
     "output_type": "stream",
     "text": [
      "Trial states for animal 290, session 46:\n",
      "   animal_id  session  trial_idx   time       state\n",
      "0        290       46          1   3947    PreTrial\n",
      "1        290       46          1  13357       Trial\n",
      "2        290       46          1  13662       Abort\n",
      "3        290       46          1  14162  InterTrial\n",
      "4        290       46          2  14671    PreTrial\n",
      "\n",
      "Unique states: ['PreTrial' 'Trial' 'Abort' 'InterTrial' 'Reward' 'Punish']\n",
      "Total state events: 943\n"
     ]
    }
   ],
   "source": [
    "# get_trial_states() - Retrieve trial state onset data\n",
    "# Parameters: animal_id (int), session (int), format (str)\n",
    "# Returns: Trial states DataFrame with state onset times\n",
    "trial_states = get_trial_states(animal_id, session)\n",
    "print(f\"Trial states for animal {animal_id}, session {session}:\")\n",
    "print(trial_states.head())\n",
    "print(f\"\\nUnique states: {trial_states['state'].unique()}\")\n",
    "print(f\"Total state events: {len(trial_states)}\")"
   ]
  },
  {
   "cell_type": "code",
   "execution_count": 14,
   "metadata": {},
   "outputs": [
    {
     "name": "stdout",
     "output_type": "stream",
     "text": [
      "Trial experiment data for animal 290, session 46:\n",
      "   animal_id  session  trial_idx                 cond_hash   time  \\\n",
      "0        290       46          1  eUmhCs/lwH98hg5l7TW2og==   3938   \n",
      "1        290       46          2  eUmhCs/lwH98hg5l7TW2og==  14670   \n",
      "2        290       46          3  eUmhCs/lwH98hg5l7TW2og==  16004   \n",
      "3        290       46          4  eUmhCs/lwH98hg5l7TW2og==  35750   \n",
      "4        290       46          5  eUmhCs/lwH98hg5l7TW2og==  40543   \n",
      "\n",
      "  stimulus_class behavior_class experiment_class trial_selection  max_reward  \\\n",
      "0          Panda      MultiPort        MatchPort       staircase        1200   \n",
      "1          Panda      MultiPort        MatchPort       staircase        1200   \n",
      "2          Panda      MultiPort        MatchPort       staircase        1200   \n",
      "3          Panda      MultiPort        MatchPort       staircase        1200   \n",
      "4          Panda      MultiPort        MatchPort       staircase        1200   \n",
      "\n",
      "   ...  intertrial_duration  trial_duration  reward_duration  punish_duration  \\\n",
      "0  ...                  500            9000             5000            10000   \n",
      "1  ...                  500            9000             5000            10000   \n",
      "2  ...                  500            9000             5000            10000   \n",
      "3  ...                  500            9000             5000            10000   \n",
      "4  ...                  500            9000             5000            10000   \n",
      "\n",
      "   abort_duration  next_up  next_down  antibias    metric  hydrate_delay  \n",
      "0             500        1          1         1  accuracy             45  \n",
      "1             500        1          1         1  accuracy             45  \n",
      "2             500        1          1         1  accuracy             45  \n",
      "3             500        1          1         1  accuracy             45  \n",
      "4             500        1          1         1  accuracy             45  \n",
      "\n",
      "[5 rows x 30 columns]\n",
      "\n",
      "Experiment columns: ['animal_id', 'session', 'trial_idx', 'cond_hash', 'time', 'stimulus_class', 'behavior_class', 'experiment_class', 'trial_selection', 'max_reward', 'min_reward', 'bias_window', 'staircase_window', 'stair_up', 'stair_down', 'noresponse_intertrial', 'incremental_punishment', 'difficulty', 'init_ready', 'trial_ready', 'intertrial_duration', 'trial_duration', 'reward_duration', 'punish_duration', 'abort_duration', 'next_up', 'next_down', 'antibias', 'metric', 'hydrate_delay']\n"
     ]
    }
   ],
   "source": [
    "# get_trial_experiment() - Retrieve trial experiment condition data\n",
    "# Parameters: animal_id (int), session (int), format (str)\n",
    "# Returns: Trial experiment conditions DataFrame\n",
    "trial_experiment = get_trial_experiment(animal_id, session)\n",
    "print(f\"Trial experiment data for animal {animal_id}, session {session}:\")\n",
    "print(trial_experiment.head())\n",
    "print(f\"\\nExperiment columns: {list(trial_experiment.columns)}\")"
   ]
  },
  {
   "cell_type": "code",
   "execution_count": 15,
   "metadata": {},
   "outputs": [
    {
     "name": "stdout",
     "output_type": "stream",
     "text": [
      "Trial behavior data for animal 290, session 46:\n",
      "   animal_id  session  trial_idx                  beh_hash   time  \\\n",
      "0        290       46          1  YakvXLaMHiQxJ888h16xug==   3947   \n",
      "1        290       46          2  YakvXLaMHiQxJ888h16xug==  14671   \n",
      "2        290       46          3  wUu0uK7wjIAhezgPkkddDg==  16005   \n",
      "3        290       46          4  YakvXLaMHiQxJ888h16xug==  35752   \n",
      "4        290       46          5  YakvXLaMHiQxJ888h16xug==  40544   \n",
      "\n",
      "   response_port  reward_port  reward_amount reward_type  \n",
      "0              1            1            6.0       water  \n",
      "1              1            1            6.0       water  \n",
      "2              2            2            6.0       water  \n",
      "3              1            1            6.0       water  \n",
      "4              1            1            6.0       water  \n",
      "\n",
      "Behavior columns: ['animal_id', 'session', 'trial_idx', 'beh_hash', 'time', 'response_port', 'reward_port', 'reward_amount', 'reward_type']\n"
     ]
    }
   ],
   "source": [
    "# get_trial_behavior() - Retrieve trial behavior condition data\n",
    "# Parameters: animal_id (int), session (int), format (str)\n",
    "# Returns: Trial behavior conditions DataFrame\n",
    "trial_behavior = get_trial_behavior(animal_id, session)\n",
    "print(f\"Trial behavior data for animal {animal_id}, session {session}:\")\n",
    "print(trial_behavior.head())\n",
    "print(f\"\\nBehavior columns: {list(trial_behavior.columns)}\")"
   ]
  },
  {
   "cell_type": "code",
   "execution_count": 16,
   "metadata": {},
   "outputs": [
    {
     "name": "stdout",
     "output_type": "stream",
     "text": [
      "Trial stimulus data for animal 290, session 46:\n",
      "   animal_id  session  trial_idx period                 stim_hash  light_idx  \\\n",
      "0        290       46          1         YQSNG18SbwfntIQTmyxqcw==          1   \n",
      "1        290       46          1         YQSNG18SbwfntIQTmyxqcw==          2   \n",
      "2        290       46          2         YQSNG18SbwfntIQTmyxqcw==          1   \n",
      "3        290       46          2         YQSNG18SbwfntIQTmyxqcw==          2   \n",
      "4        290       46          3         lzWHNOwmeHDD5URqKDyUbQ==          1   \n",
      "\n",
      "   obj_id  start_time end_time           light_color  ... obj_mag  \\\n",
      "0       2       13367    13661  [0.7, 0.7, 0.7, 1.0]  ...     0.5   \n",
      "1       2       13367    13661  [0.2, 0.2, 0.2, 1.0]  ...     0.5   \n",
      "2       2       14778    14996  [0.7, 0.7, 0.7, 1.0]  ...     0.5   \n",
      "3       2       14778    14996  [0.2, 0.2, 0.2, 1.0]  ...     0.5   \n",
      "4       2       34527    34743  [0.7, 0.7, 0.7, 1.0]  ...     0.5   \n",
      "\n",
      "                                             obj_rot obj_tilt obj_yaw  \\\n",
      "0  ([4.881350392732476, 12.700260295180401, 17.92...   (0, 0)       0   \n",
      "1  ([4.881350392732476, 12.700260295180401, 17.92...   (0, 0)       0   \n",
      "2  ([4.881350392732476, 12.700260295180401, 17.92...   (0, 0)       0   \n",
      "3  ([4.881350392732476, 12.700260295180401, 17.92...   (0, 0)       0   \n",
      "4  ([4.881350392732476, 12.700260295180401, 17.92...   (0, 0)       0   \n",
      "\n",
      "  obj_delay obj_dur obj_occluder  perspective  background_color  \\\n",
      "0         0    9000            0            0         (0, 0, 0)   \n",
      "1         0    9000            0            0         (0, 0, 0)   \n",
      "2         0    9000            0            0         (0, 0, 0)   \n",
      "3         0    9000            0            0         (0, 0, 0)   \n",
      "4         0    9000            0            0         (0, 0, 0)   \n",
      "\n",
      "        ambient_color  \n",
      "0  (0.1, 0.1, 0.1, 1)  \n",
      "1  (0.1, 0.1, 0.1, 1)  \n",
      "2  (0.1, 0.1, 0.1, 1)  \n",
      "3  (0.1, 0.1, 0.1, 1)  \n",
      "4  (0.1, 0.1, 0.1, 1)  \n",
      "\n",
      "[5 rows x 23 columns]\n",
      "\n",
      "Stimulus columns: ['animal_id', 'session', 'trial_idx', 'period', 'stim_hash', 'light_idx', 'obj_id', 'start_time', 'end_time', 'light_color', 'light_dir', 'obj_pos_x', 'obj_pos_y', 'obj_mag', 'obj_rot', 'obj_tilt', 'obj_yaw', 'obj_delay', 'obj_dur', 'obj_occluder', 'perspective', 'background_color', 'ambient_color']\n"
     ]
    }
   ],
   "source": [
    "# get_trial_stimulus() - Retrieve trial stimulus condition data\n",
    "# Parameters: animal_id (int), session (int), stim_class (str), format (str)\n",
    "# Returns: Trial stimulus conditions DataFrame\n",
    "trial_stimulus = get_trial_stimulus(animal_id, session)\n",
    "print(f\"Trial stimulus data for animal {animal_id}, session {session}:\")\n",
    "print(trial_stimulus.head())\n",
    "print(f\"\\nStimulus columns: {list(trial_stimulus.columns)}\")"
   ]
  },
  {
   "cell_type": "markdown",
   "metadata": {},
   "source": [
    "## 5. Behavioral Event Data Loading\n",
    "\n",
    "These functions load specific behavioral events like licks and proximity sensor data."
   ]
  },
  {
   "cell_type": "code",
   "execution_count": 17,
   "metadata": {},
   "outputs": [
    {
     "name": "stdout",
     "output_type": "stream",
     "text": [
      "Trial licks for animal 290, session 46:\n",
      "   animal_id  session  trial_idx  port   time\n",
      "0        290       46          3     1  19211\n",
      "1        290       46          3     1  19373\n",
      "2        290       46          4     1  36913\n",
      "3        290       46          4     1  37102\n",
      "4        290       46          6     2  53557\n",
      "\n",
      "Total lick events: 1167\n",
      "Lick columns: ['animal_id', 'session', 'trial_idx', 'port', 'time']\n",
      "Licks per port: port\n",
      "1    698\n",
      "2    469\n",
      "Name: count, dtype: int64\n"
     ]
    }
   ],
   "source": [
    "# get_trial_licks() - Retrieve all licks of a session\n",
    "# Parameters: animal_id (int), session (int), format (str)\n",
    "# Returns: Lick events DataFrame\n",
    "trial_licks = get_trial_licks(animal_id, session)\n",
    "print(f\"Trial licks for animal {animal_id}, session {session}:\")\n",
    "print(trial_licks.head())\n",
    "print(f\"\\nTotal lick events: {len(trial_licks)}\")\n",
    "print(f\"Lick columns: {list(trial_licks.columns)}\")\n",
    "print(f\"Licks per port: {trial_licks['port'].value_counts()}\")"
   ]
  },
  {
   "cell_type": "code",
   "execution_count": 18,
   "metadata": {},
   "outputs": [
    {
     "name": "stdout",
     "output_type": "stream",
     "text": [
      "Trial proximities for animal 290, session 46:\n",
      "   animal_id  session  trial_idx  port   time  in_position\n",
      "0        290       46          1     3  11665            1\n",
      "1        290       46          1     3  11666            1\n",
      "2        290       46          1     3  11764            0\n",
      "3        290       46          1     3  11765            1\n",
      "4        290       46          1     3  11766            1\n",
      "\n",
      "Total proximity events: 2045\n",
      "Proximity columns: ['animal_id', 'session', 'trial_idx', 'port', 'time', 'in_position']\n",
      "Proximity per port: port\n",
      "3    2045\n",
      "Name: count, dtype: int64\n"
     ]
    }
   ],
   "source": [
    "# get_trial_proximities() - Retrieve proximity sensor data\n",
    "# Parameters: animal_id (int), session (int), ports (List), format (str)\n",
    "# Returns: Proximity data DataFrame\n",
    "trial_proximities = get_trial_proximities(animal_id, session)\n",
    "print(f\"Trial proximities for animal {animal_id}, session {session}:\")\n",
    "print(trial_proximities.head())\n",
    "print(f\"\\nTotal proximity events: {len(trial_proximities)}\")\n",
    "print(f\"Proximity columns: {list(trial_proximities.columns)}\")\n",
    "print(f\"Proximity per port: {trial_proximities['port'].value_counts()}\")"
   ]
  },
  {
   "cell_type": "code",
   "execution_count": 19,
   "metadata": {},
   "outputs": [
    {
     "name": "stdout",
     "output_type": "stream",
     "text": [
      "Proximity data for ports [1, 2, 3]: 2045 events\n",
      "Events per port: port\n",
      "3    2045\n",
      "Name: count, dtype: int64\n"
     ]
    }
   ],
   "source": [
    "# get_trial_proximities() with port filtering\n",
    "# Filter proximity data for specific ports\n",
    "proximity_filtered = get_trial_proximities(animal_id, session, ports=[1, 2, 3])\n",
    "print(f\"Proximity data for ports [1, 2, 3]: {len(proximity_filtered)} events\")\n",
    "print(f\"Events per port: {proximity_filtered['port'].value_counts()}\")"
   ]
  },
  {
   "cell_type": "markdown",
   "metadata": {},
   "source": [
    "## 6. Analysis and Performance Functions\n",
    "\n",
    "These functions compute performance metrics and provide session analysis."
   ]
  },
  {
   "cell_type": "code",
   "execution_count": 20,
   "metadata": {},
   "outputs": [
    {
     "name": "stdout",
     "output_type": "stream",
     "text": [
      "Performance for animal 290, session 46: 0.625\n",
      "Performance for first 100 trials: 0.865\n"
     ]
    }
   ],
   "source": [
    "# get_performance() - Calculate performance as ratio of reward to total decisive trials\n",
    "# Parameters: animal_id (int), session (int), trials (List[int])\n",
    "# Returns: Performance ratio (0-1) or None\n",
    "performance = get_performance(animal_id, session)\n",
    "print(f\"Performance for animal {animal_id}, session {session}: {performance:.3f}\")\n",
    "\n",
    "# Calculate performance for specific trials\n",
    "trial_subset = list(range(1, 101))  # First 100 trials\n",
    "performance_subset = get_performance(animal_id, session, trials=trial_subset)\n",
    "print(f\"Performance for first 100 trials: {performance_subset:.3f}\")"
   ]
  },
  {
   "cell_type": "code",
   "execution_count": null,
   "metadata": {},
   "outputs": [
    {
     "name": "stdout",
     "output_type": "stream",
     "text": [
      "Trial counts per session for animal 290:\n",
      "   animal_id  session trials_count\n",
      "0        290        1           30\n",
      "1        290        2           49\n",
      "2        290        3           70\n",
      "3        290        4           19\n",
      "4        290        5           31\n",
      "\n",
      "Summary statistics:\n",
      "count      40\n",
      "unique     36\n",
      "top       231\n",
      "freq        2\n",
      "Name: trials_count, dtype: int64\n"
     ]
    }
   ],
   "source": [
    "# trials_per_session() - Returns the number of trials per session\n",
    "# Parameters: animal_id (int), min_trials (int), format (str)\n",
    "# Returns: DataFrame with trials_count column\n",
    "session_trial_counts = trials_per_session(animal_id, min_trials=10)\n",
    "print(f\"Trial counts per session for animal {animal_id}:\")\n",
    "print(session_trial_counts.head())\n",
    "print(\"\\nSummary statistics:\")\n",
    "print(session_trial_counts['trials_count'].describe())"
   ]
  },
  {
   "cell_type": "code",
   "execution_count": 22,
   "metadata": {},
   "outputs": [
    {
     "name": "stdout",
     "output_type": "stream",
     "text": [
      "Comprehensive session summary for animal 290, session 46:\n",
      "============================================================\n",
      "Animal id: 290, session: 46\n",
      "User name: bot\n",
      "Setup: ef-rp13\n",
      "Session start: 2025-07-16 10:42:14\n",
      "Session duration: 31.16 minutes (1869.7 seconds)\n",
      "\n",
      "Experiment:  MatchPort\n",
      "Stimulus:  Panda\n",
      "Behavior:  MultiPort\n",
      "\n",
      "Task filename: 2object_detection_visual-dif0-1.py\n",
      "Git hash: b06989f\n",
      "\n",
      "Session performance: 0.625\n",
      "Number of trials: 236\n"
     ]
    }
   ],
   "source": [
    "# session_summary() - Print comprehensive summary of a session\n",
    "# Parameters: animal_id (int), session (int)\n",
    "# Returns: None (prints summary)\n",
    "print(f\"Comprehensive session summary for animal {animal_id}, session {session}:\")\n",
    "print(\"=\" * 60)\n",
    "session_summary(animal_id, session)"
   ]
  },
  {
   "cell_type": "markdown",
   "metadata": {},
   "source": [
    "## 7. Complete Data Loading Example\n",
    "\n",
    "This example shows how to load all available data for a comprehensive analysis."
   ]
  },
  {
   "cell_type": "code",
   "execution_count": null,
   "metadata": {},
   "outputs": [
    {
     "name": "stdout",
     "output_type": "stream",
     "text": [
      "Loading complete dataset for animal 290, session 46...\n",
      "============================================================\n",
      "Data loading complete!\n",
      "Sessions available: 45\n",
      "Trials in session 46: 237\n",
      "State events: 945\n",
      "Lick events: 1178\n",
      "Proximity events: 2049\n",
      "Session performance: 0.629\n",
      "Session duration: 31.17 minutes (1870.2 seconds)\n",
      "Task file: 2object_detection_visual-dif0-1.py\n"
     ]
    }
   ],
   "source": [
    "# Load all available data for a session\n",
    "print(f\"Loading complete dataset for animal {animal_id}, session {session}...\")\n",
    "print(\"=\" * 60)\n",
    "\n",
    "# Session-level data\n",
    "sessions_data = get_sessions(animal_id)\n",
    "session_info = get_session_classes(animal_id, session)\n",
    "session_dur = get_session_duration(animal_id, session)\n",
    "task_file, git_hash = get_session_task(animal_id, session, save_file=False)\n",
    "\n",
    "# Trial-level data\n",
    "trials_data = get_trials(animal_id, session)\n",
    "states_data = get_trial_states(animal_id, session)\n",
    "experiment_data = get_trial_experiment(animal_id, session)\n",
    "behavior_data = get_trial_behavior(animal_id, session)\n",
    "stimulus_data = get_trial_stimulus(animal_id, session)\n",
    "\n",
    "# Behavioral events\n",
    "licks_data = get_trial_licks(animal_id, session)\n",
    "proximities_data = get_trial_proximities(animal_id, session)\n",
    "\n",
    "# Performance metrics\n",
    "performance_score = get_performance(animal_id, session)\n",
    "\n",
    "print(\"Data loading complete!\")\n",
    "print(f\"Sessions available: {len(sessions_data)}\")\n",
    "print(f\"Trials in session {session}: {len(trials_data)}\")\n",
    "print(f\"States: {len(states_data)}\")\n",
    "print(f\"Lick events: {len(licks_data)}\")\n",
    "print(f\"Proximity events: {len(proximities_data)}\")\n",
    "print(f\"Session performance: {performance_score:.3f}\")\n",
    "print(f\"Session duration: {session_dur}\")\n",
    "print(f\"Task file: {task_file}\")"
   ]
  },
  {
   "cell_type": "markdown",
   "metadata": {},
   "source": [
    "## 8. Data Format Options\n",
    "\n",
    "Most functions support both DataFrame and DataJoint formats for flexibility."
   ]
  },
  {
   "cell_type": "code",
   "execution_count": 24,
   "metadata": {},
   "outputs": [
    {
     "name": "stdout",
     "output_type": "stream",
     "text": [
      "Data format comparison:\n",
      "========================================\n",
      "DataFrame format: <class 'pandas.core.frame.DataFrame'>\n",
      "Shape: (238, 5)\n",
      "Columns: ['animal_id', 'session', 'trial_idx', 'cond_hash', 'time']\n",
      "\n",
      "DataJoint format: <class 'datajoint.schemas.Trial'>\n",
      "Length: 238\n",
      "\n",
      "Converted back to DataFrame: <class 'pandas.core.frame.DataFrame'>\n",
      "Shape: (238, 5)\n"
     ]
    }
   ],
   "source": [
    "# Compare DataFrame vs DataJoint formats\n",
    "print(\"Data format comparison:\")\n",
    "print(\"=\" * 40)\n",
    "\n",
    "# DataFrame format (default)\n",
    "trials_df = get_trials(animal_id, session, format=\"df\")\n",
    "print(f\"DataFrame format: {type(trials_df)}\")\n",
    "print(f\"Shape: {trials_df.shape}\")\n",
    "print(f\"Columns: {list(trials_df.columns)}\")\n",
    "\n",
    "# DataJoint format\n",
    "trials_dj = get_trials(animal_id, session, format=\"dj\")\n",
    "print(f\"\\nDataJoint format: {type(trials_dj)}\")\n",
    "print(f\"Length: {len(trials_dj)}\")\n",
    "\n",
    "# Convert DataJoint to DataFrame if needed\n",
    "trials_from_dj = trials_dj.fetch(format=\"frame\").reset_index()\n",
    "print(f\"\\nConverted back to DataFrame: {type(trials_from_dj)}\")\n",
    "print(f\"Shape: {trials_from_dj.shape}\")"
   ]
  },
  {
   "cell_type": "markdown",
   "metadata": {},
   "source": [
    "## 9. Error Handling and Edge Cases\n",
    "\n",
    "Examples of how functions handle common edge cases."
   ]
  },
  {
   "cell_type": "code",
   "execution_count": 25,
   "metadata": {},
   "outputs": [
    {
     "name": "stdout",
     "output_type": "stream",
     "text": [
      "Testing edge cases:\n",
      "==============================\n",
      "Warning: No trials found matching the provided trial list - cannot calculate performance\n",
      "Performance for non-existent trial: None\n",
      "Sessions in future date range: 0\n"
     ]
    }
   ],
   "source": [
    "# Handle cases with no data\n",
    "print(\"Testing edge cases:\")\n",
    "print(\"=\" * 30)\n",
    "\n",
    "# Try to get performance for a session with no decisive trials\n",
    "# (This would return None if no reward/punish trials exist)\n",
    "try:\n",
    "    perf_result = get_performance(animal_id, session, trials=[999999])  # Non-existent trial\n",
    "    print(f\"Performance for non-existent trial: {perf_result}\")\n",
    "except Exception as e:\n",
    "    print(f\"Expected error for non-existent trial: {type(e).__name__}\")\n",
    "\n",
    "# Try to get data for future date range\n",
    "future_sessions = get_sessions(animal_id, from_date=\"2030-01-01\", to_date=\"2030-12-31\")\n",
    "print(f\"Sessions in future date range: {len(future_sessions)}\")"
   ]
  },
  {
   "cell_type": "markdown",
   "metadata": {},
   "source": [
    "## Summary\n",
    "\n",
    "This notebook demonstrated all the data loading functions available in the ethopy_analysis package:\n",
    "\n",
    "### Configuration & Setup\n",
    "- `load_config()` - Load configuration settings\n",
    "- `get_database_config()` - Get database configuration\n",
    "- `get_setup()` - Get animal/session from setup ID\n",
    "\n",
    "### Database Schemas\n",
    "- `get_schema()` - Get individual schema\n",
    "- `get_all_schemas()` - Get all schemas at once\n",
    "\n",
    "### Session Data\n",
    "- `get_sessions()` - Get sessions with filtering\n",
    "- `get_session_classes()` - Get session metadata\n",
    "- `get_session_duration()` - Get session duration\n",
    "- `get_session_task()` - Get task file info\n",
    "\n",
    "### Trial Data\n",
    "- `get_trials()` - Get trial data\n",
    "- `get_trial_states()` - Get state onset times\n",
    "- `get_trial_experiment()` - Get experiment conditions\n",
    "- `get_trial_behavior()` - Get behavior conditions\n",
    "- `get_trial_stimulus()` - Get stimulus conditions\n",
    "\n",
    "### Behavioral Events\n",
    "- `get_trial_licks()` - Get lick events\n",
    "- `get_trial_proximities()` - Get proximity events\n",
    "\n",
    "### Analysis Functions\n",
    "- `get_performance()` - Calculate performance metrics\n",
    "- `trials_per_session()` - Count trials per session\n",
    "- `session_summary()` - Print session summary\n",
    "\n",
    "All functions support flexible data formats (DataFrame/DataJoint) and include proper error handling for edge cases."
   ]
  }
 ],
 "metadata": {
  "kernelspec": {
   "display_name": "venv",
   "language": "python",
   "name": "python3"
  },
  "language_info": {
   "codemirror_mode": {
    "name": "ipython",
    "version": 3
   },
   "file_extension": ".py",
   "mimetype": "text/x-python",
   "name": "python",
   "nbconvert_exporter": "python",
   "pygments_lexer": "ipython3",
   "version": "3.13.2"
  }
 },
 "nbformat": 4,
 "nbformat_minor": 4
}
